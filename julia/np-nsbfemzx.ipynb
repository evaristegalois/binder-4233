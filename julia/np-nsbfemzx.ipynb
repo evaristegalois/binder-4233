{
 "cells": [
  {
   "cell_type": "markdown",
   "metadata": {
    "collapsed": false
   },
   "source": [
    "<h4>Mechanical Vibrations: Buoy</h4>"
   ]
  },
  {
   "cell_type": "markdown",
   "metadata": {
    "collapsed": false
   },
   "source": [
    "<img src=\"./diagrams/buoy.png\" width=\"20%\" height=\"20%\">"
   ]
  },
  {
   "cell_type": "markdown",
   "metadata": {
    "collapsed": false
   },
   "source": [
    "Consider a floating cylindrical buoy with radius $r$, height\n",
    "$h$, and uniform density $\\rho\\leq{}0.5$ (recall that the density of\n",
    "water is $1\\,g/cm^{3}$). The buoy is initially suspended at rest\n",
    "with its bottom at the top surface of the water and is released at time $t=0$. Thereafter it is acted on by two\n",
    "forces: a downward gravitational force equal to its weight\n",
    "$$\n",
    "mg=\\rho\\pi{}r^{2}hg\n",
    "$$\n",
    "and (by Archimedes' principle of buoyancy) an upward force equal to the weight $\\pi{}r^{2}xg$ of water \n",
    "displaced, where $x=x(t)$ is the depth of the bottom\n",
    "of the buoy beneath the surface at time $t$.\n",
    "Assume that friction is negligible. Conclude that the buoy\n",
    "undergoes simple harmonic motion around its equilibrium\n",
    "position $x_{e}=\\rho{}h$ with period\n",
    "$$\n",
    "p=2\\pi\\sqrt{\\frac{\\rho{}h}{g}}\n",
    "$$\n",
    "Compute $p$ and the amplitude of the motion if\n",
    "$$\n",
    "\\begin{align*}\n",
    "\\rho&=0.5\\,g/cm^{3} \\\\\n",
    "h&=200\\,cm \\\\\n",
    "g&=980\\,cm/s^{2}\n",
    "\\end{align*}\n",
    "$$"
   ]
  },
  {
   "cell_type": "markdown",
   "metadata": {
    "collapsed": false
   },
   "source": [
    "The differential equation is\n",
    "$$\n",
    "x''+9.8x=9.8\n",
    "$$\n",
    "$x(t)=1$ clearly solves this nonhomogeneous equation. Therefore the general solution is\n",
    "$$\n",
    "x(t)=1-\\cos\\left(\\sqrt{9.8}t\\right)\n",
    "$$\n",
    "using the homogeneous/nonhomogeneous method. In Schmierbuch Krita 3443 I also solved this differential equation using the method on page 68 in EPC. I then successfully reconciled the results."
   ]
  },
  {
   "cell_type": "code",
   "execution_count": 16,
   "metadata": {
    "collapsed": false
   },
   "outputs": [
    {
     "data": {
      "text/plain": [
       "2.007089923154493"
      ]
     },
     "execution_count": 16,
     "metadata": {
     },
     "output_type": "execute_result"
    }
   ],
   "source": [
    "(2*pi)/sqrt(9.8) # this is the period"
   ]
  },
  {
   "cell_type": "code",
   "execution_count": 4,
   "metadata": {
    "collapsed": false
   },
   "outputs": [
    {
     "data": {
      "text/plain": [
       "980"
      ]
     },
     "execution_count": 4,
     "metadata": {
     },
     "output_type": "execute_result"
    }
   ],
   "source": [
    "g=980"
   ]
  },
  {
   "cell_type": "code",
   "execution_count": 2,
   "metadata": {
    "collapsed": false
   },
   "outputs": [
    {
     "data": {
      "text/plain": [
       "0.5"
      ]
     },
     "execution_count": 2,
     "metadata": {
     },
     "output_type": "execute_result"
    }
   ],
   "source": [
    "rr=0.5"
   ]
  },
  {
   "cell_type": "code",
   "execution_count": 5,
   "metadata": {
    "collapsed": false
   },
   "outputs": [
    {
     "data": {
      "text/plain": [
       "200"
      ]
     },
     "execution_count": 5,
     "metadata": {
     },
     "output_type": "execute_result"
    }
   ],
   "source": [
    "h=200"
   ]
  },
  {
   "cell_type": "code",
   "execution_count": 6,
   "metadata": {
    "collapsed": false
   },
   "outputs": [
    {
     "data": {
      "text/plain": [
       "9.8"
      ]
     },
     "execution_count": 6,
     "metadata": {
     },
     "output_type": "execute_result"
    }
   ],
   "source": [
    "A=g/(rr*h)"
   ]
  },
  {
   "cell_type": "code",
   "execution_count": 7,
   "metadata": {
    "collapsed": false
   },
   "outputs": [
   ],
   "source": [
    "using Plots"
   ]
  },
  {
   "cell_type": "code",
   "execution_count": 9,
   "metadata": {
    "collapsed": false
   },
   "outputs": [
    {
     "data": {
      "text/plain": [
       "-0.5:0.02763819095477387:5.0"
      ]
     },
     "execution_count": 9,
     "metadata": {
     },
     "output_type": "execute_result"
    }
   ],
   "source": [
    "t=range(-0.5,stop=5,length=200)"
   ]
  },
  {
   "cell_type": "code",
   "execution_count": 11,
   "metadata": {
    "collapsed": false
   },
   "outputs": [
    {
     "data": {
      "image/svg+xml": "<?xml version=\"1.0\" encoding=\"utf-8\"?>\n<svg xmlns=\"http://www.w3.org/2000/svg\" xmlns:xlink=\"http://www.w3.org/1999/xlink\" width=\"600\" height=\"400\" viewBox=\"0 0 2400 1600\">\n<defs>\n  <clipPath id=\"clip650\">\n    <rect x=\"0\" y=\"0\" width=\"2400\" height=\"1600\"/>\n  </clipPath>\n</defs>\n<path clip-path=\"url(#clip650)\" d=\"\nM0 1600 L2400 1600 L2400 0 L0 0  Z\n  \" fill=\"#ffffff\" fill-rule=\"evenodd\" fill-opacity=\"1\"/>\n<defs>\n  <clipPath id=\"clip651\">\n    <rect x=\"480\" y=\"0\" width=\"1681\" height=\"1600\"/>\n  </clipPath>\n</defs>\n<path clip-path=\"url(#clip650)\" d=\"\nM156.112 1486.45 L2352.76 1486.45 L2352.76 47.2441 L156.112 47.2441  Z\n  \" fill=\"#ffffff\" fill-rule=\"evenodd\" fill-opacity=\"1\"/>\n<defs>\n  <clipPath id=\"clip652\">\n    <rect x=\"156\" y=\"47\" width=\"2198\" height=\"1440\"/>\n  </clipPath>\n</defs>\n<polyline clip-path=\"url(#clip652)\" style=\"stroke:#000000; stroke-linecap:butt; stroke-linejoin:round; stroke-width:2; stroke-opacity:0.1; fill:none\" points=\"\n  406.673,1486.45 406.673,47.2441 \n  \"/>\n<polyline clip-path=\"url(#clip652)\" style=\"stroke:#000000; stroke-linecap:butt; stroke-linejoin:round; stroke-width:2; stroke-opacity:0.1; fill:none\" points=\"\n  783.456,1486.45 783.456,47.2441 \n  \"/>\n<polyline clip-path=\"url(#clip652)\" style=\"stroke:#000000; stroke-linecap:butt; stroke-linejoin:round; stroke-width:2; stroke-opacity:0.1; fill:none\" points=\"\n  1160.24,1486.45 1160.24,47.2441 \n  \"/>\n<polyline clip-path=\"url(#clip652)\" style=\"stroke:#000000; stroke-linecap:butt; stroke-linejoin:round; stroke-width:2; stroke-opacity:0.1; fill:none\" points=\"\n  1537.02,1486.45 1537.02,47.2441 \n  \"/>\n<polyline clip-path=\"url(#clip652)\" style=\"stroke:#000000; stroke-linecap:butt; stroke-linejoin:round; stroke-width:2; stroke-opacity:0.1; fill:none\" points=\"\n  1913.8,1486.45 1913.8,47.2441 \n  \"/>\n<polyline clip-path=\"url(#clip652)\" style=\"stroke:#000000; stroke-linecap:butt; stroke-linejoin:round; stroke-width:2; stroke-opacity:0.1; fill:none\" points=\"\n  2290.59,1486.45 2290.59,47.2441 \n  \"/>\n<polyline clip-path=\"url(#clip650)\" style=\"stroke:#000000; stroke-linecap:butt; stroke-linejoin:round; stroke-width:4; stroke-opacity:1; fill:none\" points=\"\n  156.112,1486.45 2352.76,1486.45 \n  \"/>\n<polyline clip-path=\"url(#clip650)\" style=\"stroke:#000000; stroke-linecap:butt; stroke-linejoin:round; stroke-width:4; stroke-opacity:1; fill:none\" points=\"\n  406.673,1486.45 406.673,1467.55 \n  \"/>\n<polyline clip-path=\"url(#clip650)\" style=\"stroke:#000000; stroke-linecap:butt; stroke-linejoin:round; stroke-width:4; stroke-opacity:1; fill:none\" points=\"\n  783.456,1486.45 783.456,1467.55 \n  \"/>\n<polyline clip-path=\"url(#clip650)\" style=\"stroke:#000000; stroke-linecap:butt; stroke-linejoin:round; stroke-width:4; stroke-opacity:1; fill:none\" points=\"\n  1160.24,1486.45 1160.24,1467.55 \n  \"/>\n<polyline clip-path=\"url(#clip650)\" style=\"stroke:#000000; stroke-linecap:butt; stroke-linejoin:round; stroke-width:4; stroke-opacity:1; fill:none\" points=\"\n  1537.02,1486.45 1537.02,1467.55 \n  \"/>\n<polyline clip-path=\"url(#clip650)\" style=\"stroke:#000000; stroke-linecap:butt; stroke-linejoin:round; stroke-width:4; stroke-opacity:1; fill:none\" points=\"\n  1913.8,1486.45 1913.8,1467.55 \n  \"/>\n<polyline clip-path=\"url(#clip650)\" style=\"stroke:#000000; stroke-linecap:butt; stroke-linejoin:round; stroke-width:4; stroke-opacity:1; fill:none\" points=\"\n  2290.59,1486.45 2290.59,1467.55 \n  \"/>\n<path clip-path=\"url(#clip650)\" d=\"M406.673 1515.64 Q403.062 1515.64 401.233 1519.2 Q399.427 1522.75 399.427 1529.87 Q399.427 1536.98 401.233 1540.55 Q403.062 1544.09 406.673 1544.09 Q410.307 1544.09 412.112 1540.55 Q413.941 1536.98 413.941 1529.87 Q413.941 1522.75 412.112 1519.2 Q410.307 1515.64 406.673 1515.64 M406.673 1511.93 Q412.483 1511.93 415.538 1516.54 Q418.617 1521.12 418.617 1529.87 Q418.617 1538.6 415.538 1543.21 Q412.483 1547.79 406.673 1547.79 Q400.863 1547.79 397.784 1543.21 Q394.728 1538.6 394.728 1529.87 Q394.728 1521.12 397.784 1516.54 Q400.863 1511.93 406.673 1511.93 Z\" fill=\"#000000\" fill-rule=\"evenodd\" fill-opacity=\"1\" /><path clip-path=\"url(#clip650)\" d=\"M773.837 1543.18 L781.476 1543.18 L781.476 1516.82 L773.166 1518.49 L773.166 1514.23 L781.43 1512.56 L786.106 1512.56 L786.106 1543.18 L793.745 1543.18 L793.745 1547.12 L773.837 1547.12 L773.837 1543.18 Z\" fill=\"#000000\" fill-rule=\"evenodd\" fill-opacity=\"1\" /><path clip-path=\"url(#clip650)\" d=\"M1154.89 1543.18 L1171.21 1543.18 L1171.21 1547.12 L1149.27 1547.12 L1149.27 1543.18 Q1151.93 1540.43 1156.51 1535.8 Q1161.12 1531.15 1162.3 1529.81 Q1164.54 1527.28 1165.42 1525.55 Q1166.33 1523.79 1166.33 1522.1 Q1166.33 1519.34 1164.38 1517.61 Q1162.46 1515.87 1159.36 1515.87 Q1157.16 1515.87 1154.71 1516.63 Q1152.28 1517.4 1149.5 1518.95 L1149.5 1514.23 Q1152.32 1513.09 1154.78 1512.51 Q1157.23 1511.93 1159.27 1511.93 Q1164.64 1511.93 1167.83 1514.62 Q1171.03 1517.31 1171.03 1521.8 Q1171.03 1523.93 1170.22 1525.85 Q1169.43 1527.74 1167.32 1530.34 Q1166.74 1531.01 1163.64 1534.23 Q1160.54 1537.42 1154.89 1543.18 Z\" fill=\"#000000\" fill-rule=\"evenodd\" fill-opacity=\"1\" /><path clip-path=\"url(#clip650)\" d=\"M1541.27 1528.49 Q1544.63 1529.2 1546.5 1531.47 Q1548.4 1533.74 1548.4 1537.07 Q1548.4 1542.19 1544.88 1544.99 Q1541.36 1547.79 1534.88 1547.79 Q1532.7 1547.79 1530.39 1547.35 Q1528.1 1546.93 1525.64 1546.08 L1525.64 1541.56 Q1527.59 1542.7 1529.9 1543.28 Q1532.22 1543.86 1534.74 1543.86 Q1539.14 1543.86 1541.43 1542.12 Q1543.75 1540.38 1543.75 1537.07 Q1543.75 1534.02 1541.59 1532.31 Q1539.46 1530.57 1535.64 1530.57 L1531.62 1530.57 L1531.62 1526.73 L1535.83 1526.73 Q1539.28 1526.73 1541.11 1525.36 Q1542.94 1523.97 1542.94 1521.38 Q1542.94 1518.72 1541.04 1517.31 Q1539.16 1515.87 1535.64 1515.87 Q1533.72 1515.87 1531.52 1516.29 Q1529.32 1516.7 1526.69 1517.58 L1526.69 1513.42 Q1529.35 1512.68 1531.66 1512.31 Q1534 1511.93 1536.06 1511.93 Q1541.38 1511.93 1544.49 1514.37 Q1547.59 1516.77 1547.59 1520.89 Q1547.59 1523.76 1545.94 1525.75 Q1544.3 1527.72 1541.27 1528.49 Z\" fill=\"#000000\" fill-rule=\"evenodd\" fill-opacity=\"1\" /><path clip-path=\"url(#clip650)\" d=\"M1916.81 1516.63 L1905.01 1535.08 L1916.81 1535.08 L1916.81 1516.63 M1915.59 1512.56 L1921.47 1512.56 L1921.47 1535.08 L1926.4 1535.08 L1926.4 1538.97 L1921.47 1538.97 L1921.47 1547.12 L1916.81 1547.12 L1916.81 1538.97 L1901.21 1538.97 L1901.21 1534.46 L1915.59 1512.56 Z\" fill=\"#000000\" fill-rule=\"evenodd\" fill-opacity=\"1\" /><path clip-path=\"url(#clip650)\" d=\"M2280.86 1512.56 L2299.22 1512.56 L2299.22 1516.5 L2285.15 1516.5 L2285.15 1524.97 Q2286.17 1524.62 2287.18 1524.46 Q2288.2 1524.27 2289.22 1524.27 Q2295.01 1524.27 2298.39 1527.44 Q2301.77 1530.62 2301.77 1536.03 Q2301.77 1541.61 2298.3 1544.71 Q2294.82 1547.79 2288.5 1547.79 Q2286.33 1547.79 2284.06 1547.42 Q2281.81 1547.05 2279.41 1546.31 L2279.41 1541.61 Q2281.49 1542.74 2283.71 1543.3 Q2285.93 1543.86 2288.41 1543.86 Q2292.42 1543.86 2294.75 1541.75 Q2297.09 1539.64 2297.09 1536.03 Q2297.09 1532.42 2294.75 1530.31 Q2292.42 1528.21 2288.41 1528.21 Q2286.54 1528.21 2284.66 1528.62 Q2282.81 1529.04 2280.86 1529.92 L2280.86 1512.56 Z\" fill=\"#000000\" fill-rule=\"evenodd\" fill-opacity=\"1\" /><polyline clip-path=\"url(#clip652)\" style=\"stroke:#000000; stroke-linecap:butt; stroke-linejoin:round; stroke-width:2; stroke-opacity:0.1; fill:none\" points=\"\n  156.112,1445.74 2352.76,1445.74 \n  \"/>\n<polyline clip-path=\"url(#clip652)\" style=\"stroke:#000000; stroke-linecap:butt; stroke-linejoin:round; stroke-width:2; stroke-opacity:0.1; fill:none\" points=\"\n  156.112,1106.3 2352.76,1106.3 \n  \"/>\n<polyline clip-path=\"url(#clip652)\" style=\"stroke:#000000; stroke-linecap:butt; stroke-linejoin:round; stroke-width:2; stroke-opacity:0.1; fill:none\" points=\"\n  156.112,766.856 2352.76,766.856 \n  \"/>\n<polyline clip-path=\"url(#clip652)\" style=\"stroke:#000000; stroke-linecap:butt; stroke-linejoin:round; stroke-width:2; stroke-opacity:0.1; fill:none\" points=\"\n  156.112,427.416 2352.76,427.416 \n  \"/>\n<polyline clip-path=\"url(#clip652)\" style=\"stroke:#000000; stroke-linecap:butt; stroke-linejoin:round; stroke-width:2; stroke-opacity:0.1; fill:none\" points=\"\n  156.112,87.9751 2352.76,87.9751 \n  \"/>\n<polyline clip-path=\"url(#clip650)\" style=\"stroke:#000000; stroke-linecap:butt; stroke-linejoin:round; stroke-width:4; stroke-opacity:1; fill:none\" points=\"\n  156.112,1486.45 156.112,47.2441 \n  \"/>\n<polyline clip-path=\"url(#clip650)\" style=\"stroke:#000000; stroke-linecap:butt; stroke-linejoin:round; stroke-width:4; stroke-opacity:1; fill:none\" points=\"\n  156.112,1445.74 175.01,1445.74 \n  \"/>\n<polyline clip-path=\"url(#clip650)\" style=\"stroke:#000000; stroke-linecap:butt; stroke-linejoin:round; stroke-width:4; stroke-opacity:1; fill:none\" points=\"\n  156.112,1106.3 175.01,1106.3 \n  \"/>\n<polyline clip-path=\"url(#clip650)\" style=\"stroke:#000000; stroke-linecap:butt; stroke-linejoin:round; stroke-width:4; stroke-opacity:1; fill:none\" points=\"\n  156.112,766.856 175.01,766.856 \n  \"/>\n<polyline clip-path=\"url(#clip650)\" style=\"stroke:#000000; stroke-linecap:butt; stroke-linejoin:round; stroke-width:4; stroke-opacity:1; fill:none\" points=\"\n  156.112,427.416 175.01,427.416 \n  \"/>\n<polyline clip-path=\"url(#clip650)\" style=\"stroke:#000000; stroke-linecap:butt; stroke-linejoin:round; stroke-width:4; stroke-opacity:1; fill:none\" points=\"\n  156.112,87.9751 175.01,87.9751 \n  \"/>\n<path clip-path=\"url(#clip650)\" d=\"M62.9365 1431.54 Q59.3254 1431.54 57.4967 1435.1 Q55.6912 1438.64 55.6912 1445.77 Q55.6912 1452.88 57.4967 1456.44 Q59.3254 1459.98 62.9365 1459.98 Q66.5707 1459.98 68.3763 1456.44 Q70.205 1452.88 70.205 1445.77 Q70.205 1438.64 68.3763 1435.1 Q66.5707 1431.54 62.9365 1431.54 M62.9365 1427.83 Q68.7467 1427.83 71.8022 1432.44 Q74.8809 1437.02 74.8809 1445.77 Q74.8809 1454.5 71.8022 1459.1 Q68.7467 1463.69 62.9365 1463.69 Q57.1264 1463.69 54.0477 1459.1 Q50.9921 1454.5 50.9921 1445.77 Q50.9921 1437.02 54.0477 1432.44 Q57.1264 1427.83 62.9365 1427.83 Z\" fill=\"#000000\" fill-rule=\"evenodd\" fill-opacity=\"1\" /><path clip-path=\"url(#clip650)\" d=\"M83.0984 1457.14 L87.9827 1457.14 L87.9827 1463.02 L83.0984 1463.02 L83.0984 1457.14 Z\" fill=\"#000000\" fill-rule=\"evenodd\" fill-opacity=\"1\" /><path clip-path=\"url(#clip650)\" d=\"M108.168 1431.54 Q104.557 1431.54 102.728 1435.1 Q100.922 1438.64 100.922 1445.77 Q100.922 1452.88 102.728 1456.44 Q104.557 1459.98 108.168 1459.98 Q111.802 1459.98 113.608 1456.44 Q115.436 1452.88 115.436 1445.77 Q115.436 1438.64 113.608 1435.1 Q111.802 1431.54 108.168 1431.54 M108.168 1427.83 Q113.978 1427.83 117.033 1432.44 Q120.112 1437.02 120.112 1445.77 Q120.112 1454.5 117.033 1459.1 Q113.978 1463.69 108.168 1463.69 Q102.358 1463.69 99.2789 1459.1 Q96.2234 1454.5 96.2234 1445.77 Q96.2234 1437.02 99.2789 1432.44 Q102.358 1427.83 108.168 1427.83 Z\" fill=\"#000000\" fill-rule=\"evenodd\" fill-opacity=\"1\" /><path clip-path=\"url(#clip650)\" d=\"M63.9319 1092.09 Q60.3208 1092.09 58.4921 1095.66 Q56.6865 1099.2 56.6865 1106.33 Q56.6865 1113.44 58.4921 1117 Q60.3208 1120.54 63.9319 1120.54 Q67.5661 1120.54 69.3717 1117 Q71.2004 1113.44 71.2004 1106.33 Q71.2004 1099.2 69.3717 1095.66 Q67.5661 1092.09 63.9319 1092.09 M63.9319 1088.39 Q69.742 1088.39 72.7976 1093 Q75.8763 1097.58 75.8763 1106.33 Q75.8763 1115.06 72.7976 1119.66 Q69.742 1124.25 63.9319 1124.25 Q58.1217 1124.25 55.043 1119.66 Q51.9875 1115.06 51.9875 1106.33 Q51.9875 1097.58 55.043 1093 Q58.1217 1088.39 63.9319 1088.39 Z\" fill=\"#000000\" fill-rule=\"evenodd\" fill-opacity=\"1\" /><path clip-path=\"url(#clip650)\" d=\"M84.0938 1117.7 L88.978 1117.7 L88.978 1123.58 L84.0938 1123.58 L84.0938 1117.7 Z\" fill=\"#000000\" fill-rule=\"evenodd\" fill-opacity=\"1\" /><path clip-path=\"url(#clip650)\" d=\"M99.2095 1089.02 L117.566 1089.02 L117.566 1092.95 L103.492 1092.95 L103.492 1101.42 Q104.51 1101.08 105.529 1100.91 Q106.547 1100.73 107.566 1100.73 Q113.353 1100.73 116.733 1103.9 Q120.112 1107.07 120.112 1112.49 Q120.112 1118.07 116.64 1121.17 Q113.168 1124.25 106.848 1124.25 Q104.672 1124.25 102.404 1123.88 Q100.159 1123.51 97.7511 1122.77 L97.7511 1118.07 Q99.8345 1119.2 102.057 1119.76 Q104.279 1120.31 106.756 1120.31 Q110.76 1120.31 113.098 1118.21 Q115.436 1116.1 115.436 1112.49 Q115.436 1108.88 113.098 1106.77 Q110.76 1104.66 106.756 1104.66 Q104.881 1104.66 103.006 1105.08 Q101.154 1105.5 99.2095 1106.38 L99.2095 1089.02 Z\" fill=\"#000000\" fill-rule=\"evenodd\" fill-opacity=\"1\" /><path clip-path=\"url(#clip650)\" d=\"M53.7467 780.201 L61.3856 780.201 L61.3856 753.835 L53.0754 755.502 L53.0754 751.243 L61.3393 749.576 L66.0152 749.576 L66.0152 780.201 L73.654 780.201 L73.654 784.136 L53.7467 784.136 L53.7467 780.201 Z\" fill=\"#000000\" fill-rule=\"evenodd\" fill-opacity=\"1\" /><path clip-path=\"url(#clip650)\" d=\"M83.0984 778.256 L87.9827 778.256 L87.9827 784.136 L83.0984 784.136 L83.0984 778.256 Z\" fill=\"#000000\" fill-rule=\"evenodd\" fill-opacity=\"1\" /><path clip-path=\"url(#clip650)\" d=\"M108.168 752.655 Q104.557 752.655 102.728 756.219 Q100.922 759.761 100.922 766.891 Q100.922 773.997 102.728 777.562 Q104.557 781.104 108.168 781.104 Q111.802 781.104 113.608 777.562 Q115.436 773.997 115.436 766.891 Q115.436 759.761 113.608 756.219 Q111.802 752.655 108.168 752.655 M108.168 748.951 Q113.978 748.951 117.033 753.557 Q120.112 758.141 120.112 766.891 Q120.112 775.617 117.033 780.224 Q113.978 784.807 108.168 784.807 Q102.358 784.807 99.2789 780.224 Q96.2234 775.617 96.2234 766.891 Q96.2234 758.141 99.2789 753.557 Q102.358 748.951 108.168 748.951 Z\" fill=\"#000000\" fill-rule=\"evenodd\" fill-opacity=\"1\" /><path clip-path=\"url(#clip650)\" d=\"M54.7421 440.76 L62.381 440.76 L62.381 414.395 L54.0708 416.061 L54.0708 411.802 L62.3347 410.136 L67.0106 410.136 L67.0106 440.76 L74.6494 440.76 L74.6494 444.696 L54.7421 444.696 L54.7421 440.76 Z\" fill=\"#000000\" fill-rule=\"evenodd\" fill-opacity=\"1\" /><path clip-path=\"url(#clip650)\" d=\"M84.0938 438.816 L88.978 438.816 L88.978 444.696 L84.0938 444.696 L84.0938 438.816 Z\" fill=\"#000000\" fill-rule=\"evenodd\" fill-opacity=\"1\" /><path clip-path=\"url(#clip650)\" d=\"M99.2095 410.136 L117.566 410.136 L117.566 414.071 L103.492 414.071 L103.492 422.543 Q104.51 422.196 105.529 422.034 Q106.547 421.848 107.566 421.848 Q113.353 421.848 116.733 425.02 Q120.112 428.191 120.112 433.608 Q120.112 439.186 116.64 442.288 Q113.168 445.367 106.848 445.367 Q104.672 445.367 102.404 444.996 Q100.159 444.626 97.7511 443.885 L97.7511 439.186 Q99.8345 440.321 102.057 440.876 Q104.279 441.432 106.756 441.432 Q110.76 441.432 113.098 439.325 Q115.436 437.219 115.436 433.608 Q115.436 429.997 113.098 427.89 Q110.76 425.784 106.756 425.784 Q104.881 425.784 103.006 426.2 Q101.154 426.617 99.2095 427.497 L99.2095 410.136 Z\" fill=\"#000000\" fill-rule=\"evenodd\" fill-opacity=\"1\" /><path clip-path=\"url(#clip650)\" d=\"M56.9643 101.32 L73.2837 101.32 L73.2837 105.255 L51.3393 105.255 L51.3393 101.32 Q54.0014 98.5654 58.5847 93.9358 Q63.1911 89.283 64.3717 87.9404 Q66.617 85.4173 67.4967 83.6812 Q68.3994 81.9219 68.3994 80.2321 Q68.3994 77.4775 66.455 75.7414 Q64.5337 74.0053 61.4319 74.0053 Q59.2328 74.0053 56.7791 74.7692 Q54.3486 75.5331 51.5708 77.084 L51.5708 72.3618 Q54.3949 71.2275 56.8486 70.6488 Q59.3023 70.0701 61.3393 70.0701 Q66.7096 70.0701 69.9041 72.7553 Q73.0985 75.4405 73.0985 79.9312 Q73.0985 82.0608 72.2883 83.9821 Q71.5013 85.8802 69.3948 88.4728 Q68.8161 89.1441 65.7143 92.3617 Q62.6124 95.5561 56.9643 101.32 Z\" fill=\"#000000\" fill-rule=\"evenodd\" fill-opacity=\"1\" /><path clip-path=\"url(#clip650)\" d=\"M83.0984 99.3755 L87.9827 99.3755 L87.9827 105.255 L83.0984 105.255 L83.0984 99.3755 Z\" fill=\"#000000\" fill-rule=\"evenodd\" fill-opacity=\"1\" /><path clip-path=\"url(#clip650)\" d=\"M108.168 73.7738 Q104.557 73.7738 102.728 77.3386 Q100.922 80.8803 100.922 88.0099 Q100.922 95.1163 102.728 98.6811 Q104.557 102.223 108.168 102.223 Q111.802 102.223 113.608 98.6811 Q115.436 95.1163 115.436 88.0099 Q115.436 80.8803 113.608 77.3386 Q111.802 73.7738 108.168 73.7738 M108.168 70.0701 Q113.978 70.0701 117.033 74.6766 Q120.112 79.2599 120.112 88.0099 Q120.112 96.7367 117.033 101.343 Q113.978 105.926 108.168 105.926 Q102.358 105.926 99.2789 101.343 Q96.2234 96.7367 96.2234 88.0099 Q96.2234 79.2599 99.2789 74.6766 Q102.358 70.0701 108.168 70.0701 Z\" fill=\"#000000\" fill-rule=\"evenodd\" fill-opacity=\"1\" /><polyline clip-path=\"url(#clip652)\" style=\"stroke:#009af9; stroke-linecap:butt; stroke-linejoin:round; stroke-width:8; stroke-opacity:1; fill:none\" points=\"\n  218.281,770.623 228.695,829.272 239.108,887.455 249.522,944.735 259.936,1000.68 270.349,1054.88 280.763,1106.93 291.176,1156.43 301.59,1203.02 312.004,1246.34 \n  322.417,1286.08 332.831,1321.93 343.244,1353.63 353.658,1380.94 364.072,1403.65 374.485,1421.6 384.899,1434.66 395.312,1442.71 405.726,1445.72 416.14,1443.64 \n  426.553,1436.5 436.967,1424.35 447.38,1407.28 457.794,1385.42 468.208,1358.93 478.621,1328.01 489.035,1292.89 499.448,1253.84 509.862,1211.15 520.276,1165.13 \n  530.689,1116.13 541.103,1064.52 551.516,1010.68 561.93,955.019 572.344,897.949 582.757,839.898 593.171,781.301 603.584,722.596 613.998,664.222 624.412,606.616 \n  634.825,550.209 645.239,495.422 655.652,442.666 666.066,392.336 676.479,344.807 686.893,300.436 697.307,259.554 707.72,222.468 718.134,189.454 728.547,160.76 \n  738.961,136.6 749.375,117.155 759.788,102.571 770.202,92.9565 780.615,88.3837 791.029,88.8867 801.443,94.4618 811.856,105.067 822.27,120.624 832.683,141.015 \n  843.097,166.088 853.511,195.655 863.924,229.496 874.338,267.357 884.751,308.955 895.165,353.979 905.579,402.091 915.992,452.933 926.406,506.123 936.819,561.263 \n  947.233,617.942 957.647,675.734 968.06,734.209 978.474,792.927 988.887,851.451 999.301,909.341 1009.71,966.166 1020.13,1021.5 1030.54,1074.93 1040.96,1126.05 \n  1051.37,1174.49 1061.78,1219.88 1072.2,1261.87 1082.61,1300.17 1093.02,1334.47 1103.44,1364.53 1113.85,1390.12 1124.26,1411.04 1134.68,1427.15 1145.09,1438.31 \n  1155.5,1444.45 1165.92,1445.52 1176.33,1441.52 1186.75,1432.47 1197.16,1418.44 1207.57,1399.53 1217.99,1375.89 1228.4,1347.69 1238.81,1315.15 1249.23,1278.51 \n  1259.64,1238.04 1270.05,1194.04 1280.47,1146.85 1290.88,1096.81 1301.3,1044.31 1311.71,989.731 1322.12,933.484 1332.54,875.991 1342.95,817.682 1353.36,758.992 \n  1363.78,700.361 1374.19,642.227 1384.6,585.026 1395.02,529.185 1405.43,475.123 1415.84,423.242 1426.26,373.933 1436.67,327.563 1447.09,284.479 1457.5,245.005 \n  1467.91,209.434 1478.33,178.033 1488.74,151.038 1499.15,128.65 1509.57,111.036 1519.98,98.329 1530.39,90.6231 1540.81,87.9763 1551.22,90.4083 1561.64,97.9011 \n  1572.05,110.398 1582.46,127.807 1592.88,149.996 1603.29,176.801 1613.7,208.019 1624.12,243.419 1634.53,282.734 1644.94,325.671 1655.36,371.909 1665.77,421.102 \n  1676.18,472.881 1686.6,526.859 1697.01,582.633 1707.43,639.785 1717.84,697.888 1728.25,756.507 1738.67,815.203 1749.08,873.538 1759.49,931.074 1769.91,987.382 \n  1780.32,1042.04 1790.73,1094.64 1801.15,1144.79 1811.56,1192.11 1821.97,1236.24 1832.39,1276.87 1842.8,1313.68 1853.22,1346.4 1863.63,1374.79 1874.04,1398.62 \n  1884.46,1417.73 1894.87,1431.97 1905.28,1441.24 1915.7,1445.46 1926.11,1444.6 1936.52,1438.67 1946.94,1427.72 1957.35,1411.82 1967.77,1391.1 1978.18,1365.7 \n  1988.59,1335.83 1999.01,1301.7 2009.42,1263.57 2019.83,1221.72 2030.25,1176.47 2040.66,1128.16 2051.07,1077.14 2061.49,1023.8 2071.9,968.54 2082.31,911.77 \n  2092.73,853.916 2103.14,795.41 2113.56,736.691 2123.97,678.197 2134.38,620.367 2144.8,563.633 2155.21,508.419 2165.62,455.138 2176.04,404.19 2186.45,355.954 \n  2196.86,310.793 2207.28,269.044 2217.69,231.019 2228.11,197.002 2238.52,167.249 2248.93,141.982 2259.35,121.389 2269.76,105.626 2280.17,94.809 2290.59,89.02 \n  \n  \"/>\n</svg>\n"
     },
     "execution_count": 11,
     "metadata": {
     },
     "output_type": "execute_result"
    }
   ],
   "source": [
    "plot(t,1 .-cos.(sqrt(9.8).*t),line=2,leg=false)"
   ]
  },
  {
   "cell_type": "code",
   "execution_count": 0,
   "metadata": {
    "collapsed": false
   },
   "outputs": [
   ],
   "source": [
   ]
  },
  {
   "cell_type": "code",
   "execution_count": 0,
   "metadata": {
    "collapsed": false
   },
   "outputs": [
   ],
   "source": [
   ]
  },
  {
   "cell_type": "code",
   "execution_count": 0,
   "metadata": {
    "collapsed": false
   },
   "outputs": [
   ],
   "source": [
   ]
  },
  {
   "cell_type": "code",
   "execution_count": 0,
   "metadata": {
    "collapsed": false
   },
   "outputs": [
   ],
   "source": [
   ]
  },
  {
   "cell_type": "code",
   "execution_count": 0,
   "metadata": {
    "collapsed": false
   },
   "outputs": [
   ],
   "source": [
   ]
  },
  {
   "cell_type": "code",
   "execution_count": 0,
   "metadata": {
    "collapsed": false
   },
   "outputs": [
   ],
   "source": [
   ]
  },
  {
   "cell_type": "code",
   "execution_count": 0,
   "metadata": {
    "collapsed": false
   },
   "outputs": [
   ],
   "source": [
   ]
  },
  {
   "cell_type": "code",
   "execution_count": 0,
   "metadata": {
    "collapsed": false
   },
   "outputs": [
   ],
   "source": [
   ]
  },
  {
   "cell_type": "code",
   "execution_count": 0,
   "metadata": {
    "collapsed": false
   },
   "outputs": [
   ],
   "source": [
   ]
  }
 ],
 "metadata": {
  "kernelspec": {
   "display_name": "Julia 1.6",
   "env": {
    "JULIA_DEPOT_PATH": "/home/user/.julia/:/ext/julia/depot/",
    "JULIA_PROJECT": "/home/user/.julia/environment/v1.6"
   },
   "language": "julia",
   "metadata": {
    "cocalc": {
     "description": "The Julia Programming Language",
     "priority": 1,
     "url": "https://julialang.org/"
    }
   },
   "name": "julia-1.6",
   "resource_dir": "/ext/jupyter/kernels/julia-1.6"
  },
  "language_info": {
   "file_extension": ".jl",
   "mimetype": "application/julia",
   "name": "julia",
   "version": "1.6.3"
  }
 },
 "nbformat": 4,
 "nbformat_minor": 4
}