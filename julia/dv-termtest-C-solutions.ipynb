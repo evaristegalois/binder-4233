{
 "cells": [
  {
   "cell_type": "markdown",
   "id": "4b182c68",
   "metadata": {},
   "source": [
    "<h2>Term Test C Solutions</h2>"
   ]
  },
  {
   "cell_type": "markdown",
   "id": "dc8d563b",
   "metadata": {},
   "source": [
    "<h4>Question 1</h4>"
   ]
  },
  {
   "cell_type": "markdown",
   "id": "711b9fb0",
   "metadata": {},
   "source": [
    "<font color=\"green\">Average 2022: 4.27 points</font>"
   ]
  },
  {
   "cell_type": "markdown",
   "id": "42a6d20b",
   "metadata": {},
   "source": [
    "<font color=\"red\">Coefficients correct but no equation: 4 points</font>"
   ]
  },
  {
   "cell_type": "markdown",
   "id": "17eed1e8",
   "metadata": {},
   "source": [
    "Consider the graph of the equation\n",
    "\\begin{equation}\n",
    "  \\label{eq:ampupgwf}\n",
    "  F(x,y,z)=0\\notag\n",
    "\\end{equation}\n",
    "If $F:\\mathbb{R}^3\\rightarrow\\mathbb{R}$ is differentiable, the\n",
    "gradient $\\nabla{}F$ of $F$ is the transpose of the Jacobian, so\n",
    "\\begin{equation}\n",
    "  \\label{eq:efmwxiar}\n",
    "  \\nabla{}F(x_0,y_0,z_0)=\\left[\n",
    "    \\begin{array}{c}\n",
    "      \\frac{\\partial{}F}{\\partial{}x}\\\\\n",
    "      \\\\\n",
    "      \\frac{\\partial{}F}{\\partial{}y}\\\\\n",
    "      \\\\\n",
    "      \\frac{\\partial{}F}{\\partial{}z}\n",
    "    \\end{array}\n",
    "    \\right](x_0,y_0,z_0)\\notag\n",
    "  \\end{equation}\n",
    "  The gradient at a point $(x_0,y_0,z_0)$ is a normal vector to the\n",
    "  tangent plane. Find the tangent plane for the ellipsoid\n",
    "  \\begin{equation}\n",
    "    \\label{eq:elfuxzly}\n",
    "    2x^2+4y^2+z^2=45\\notag\n",
    "  \\end{equation}\n",
    "  at the point $P=(2,-3,-1)$.\n",
    "\n",
    "  I happen to know that the points $Q=(2,-2,-13)$ and $R=(3,-3,3)$ are\n",
    "  also on the tangent plane. Find a plane equation for the\n",
    "  plane that contains $P,Q,R$ (it should come out to the same plane as\n",
    "  before). Make sure to show all the steps of this procedure."
   ]
  },
  {
   "cell_type": "markdown",
   "id": "b695d36b",
   "metadata": {},
   "source": [
    "<img src=\"./diagrams/ampupgwf.png\" width=\"77%\" height=\"77%\">"
   ]
  },
  {
   "cell_type": "code",
   "execution_count": 1,
   "id": "cf3e9c7f",
   "metadata": {},
   "outputs": [],
   "source": [
    "using SymPy"
   ]
  },
  {
   "cell_type": "code",
   "execution_count": 4,
   "id": "4d5ea0f9",
   "metadata": {},
   "outputs": [
    {
     "data": {
      "text/plain": [
       "(x, y, z)"
      ]
     },
     "execution_count": 4,
     "metadata": {},
     "output_type": "execute_result"
    }
   ],
   "source": [
    "@vars x y z"
   ]
  },
  {
   "cell_type": "code",
   "execution_count": 5,
   "id": "eed5cab6",
   "metadata": {},
   "outputs": [
    {
     "data": {
      "text/plain": [
       "p1 (generic function with 1 method)"
      ]
     },
     "execution_count": 5,
     "metadata": {},
     "output_type": "execute_result"
    }
   ],
   "source": [
    "p1(x,y,z)=+(*(8,-(x,2)),*(-24,+(y,3)),*(-2,+(z,1)))"
   ]
  },
  {
   "cell_type": "code",
   "execution_count": 8,
   "id": "c7b0b515",
   "metadata": {},
   "outputs": [
    {
     "data": {
      "text/latex": [
       "$4 x - 12 y - z - 45$"
      ],
      "text/plain": [
       "4⋅x - 12⋅y - z - 45"
      ]
     },
     "execution_count": 8,
     "metadata": {},
     "output_type": "execute_result"
    }
   ],
   "source": [
    "expand(*(//(1,2),p1(x,y,z)))"
   ]
  },
  {
   "cell_type": "code",
   "execution_count": 2,
   "id": "06a4b766",
   "metadata": {},
   "outputs": [],
   "source": [
    "using LinearAlgebra"
   ]
  },
  {
   "cell_type": "code",
   "execution_count": 7,
   "id": "7a1fa915",
   "metadata": {},
   "outputs": [
    {
     "data": {
      "text/plain": [
       "3-element Vector{Int64}:\n",
       "  2\n",
       " -3\n",
       " -1"
      ]
     },
     "execution_count": 7,
     "metadata": {},
     "output_type": "execute_result"
    }
   ],
   "source": [
    "op=[2;-3;-1]"
   ]
  },
  {
   "cell_type": "code",
   "execution_count": 8,
   "id": "d28d6ad3",
   "metadata": {},
   "outputs": [
    {
     "data": {
      "text/plain": [
       "3-element Vector{Int64}:\n",
       "   2\n",
       "  -2\n",
       " -13"
      ]
     },
     "execution_count": 8,
     "metadata": {},
     "output_type": "execute_result"
    }
   ],
   "source": [
    "oq=[2;-2;-13]"
   ]
  },
  {
   "cell_type": "code",
   "execution_count": 9,
   "id": "b0269aeb",
   "metadata": {},
   "outputs": [
    {
     "data": {
      "text/plain": [
       "3-element Vector{Int64}:\n",
       "  3\n",
       " -3\n",
       "  3"
      ]
     },
     "execution_count": 9,
     "metadata": {},
     "output_type": "execute_result"
    }
   ],
   "source": [
    "or=[3;-3;3]"
   ]
  },
  {
   "cell_type": "code",
   "execution_count": 10,
   "id": "68cf83b7",
   "metadata": {},
   "outputs": [
    {
     "data": {
      "text/plain": [
       "3-element Vector{Int64}:\n",
       "   0\n",
       "   1\n",
       " -12"
      ]
     },
     "execution_count": 10,
     "metadata": {},
     "output_type": "execute_result"
    }
   ],
   "source": [
    "pq=oq-op"
   ]
  },
  {
   "cell_type": "code",
   "execution_count": 11,
   "id": "24ae0de0",
   "metadata": {},
   "outputs": [
    {
     "data": {
      "text/plain": [
       "3-element Vector{Int64}:\n",
       " 1\n",
       " 0\n",
       " 4"
      ]
     },
     "execution_count": 11,
     "metadata": {},
     "output_type": "execute_result"
    }
   ],
   "source": [
    "pr=or-op"
   ]
  },
  {
   "cell_type": "code",
   "execution_count": 12,
   "id": "e09ec850",
   "metadata": {},
   "outputs": [
    {
     "data": {
      "text/plain": [
       "3-element Vector{Int64}:\n",
       "   4\n",
       " -12\n",
       "  -1"
      ]
     },
     "execution_count": 12,
     "metadata": {},
     "output_type": "execute_result"
    }
   ],
   "source": [
    "cross(pq,pr)"
   ]
  },
  {
   "cell_type": "markdown",
   "id": "412b5819",
   "metadata": {},
   "source": [
    "<h4>Question 2</h4>"
   ]
  },
  {
   "cell_type": "markdown",
   "id": "b89f23e5",
   "metadata": {},
   "source": [
    "<font color=\"green\">Average 2022: 3.94 points</font>"
   ]
  },
  {
   "cell_type": "markdown",
   "id": "12a1af9c",
   "metadata": {},
   "source": [
    "Use the Laplace transform to solve the following initial\n",
    "  value problem:\n",
    "  \\begin{equation}\n",
    "    \\label{eq:dysiikre}\n",
    "    y''-2y'+2y=e^{-t}\\qquad{}y(0)=0,y'(0)=1\\notag\n",
    "  \\end{equation}"
   ]
  },
  {
   "cell_type": "markdown",
   "id": "652a8e95",
   "metadata": {},
   "source": [
    "<img src=\"./diagrams/dysiikre.png\" width=\"77%\" height=\"77%\">"
   ]
  },
  {
   "cell_type": "markdown",
   "id": "50f7916e",
   "metadata": {},
   "source": [
    "<h4>Question 3</h4>"
   ]
  },
  {
   "cell_type": "markdown",
   "id": "78b519ce",
   "metadata": {},
   "source": [
    "<font color=\"green\">Average 2022: 4.00 points</font>"
   ]
  },
  {
   "cell_type": "markdown",
   "id": "db27c4b4",
   "metadata": {},
   "source": [
    "A mass attached to a spring is released from rest one metre\n",
    "  below the equilibrium position for the mass-spring system and begins\n",
    "  to vibrate. After $\\frac{\\pi}{2}$ seconds, the mass is struck by a hammer exerting\n",
    "  an impulse on the mass. The system is governed by the symbolic\n",
    "  initial value problem\n",
    "  \\begin{equation}\n",
    "    \\label{eq:bqxainux}\n",
    "    \\frac{d^2x}{dt^2}+9x=-3\\delta\\left(t-\\frac{\\pi}{2}\\right)\\qquad{}x(0)=1,\\frac{dx}{dt}(0)=0\\notag\n",
    "  \\end{equation}\n",
    "  where $x(t)$ denotes the displacement from equilibrium at time $t$.\n",
    "  Find the displacement function $x(t)$."
   ]
  },
  {
   "cell_type": "markdown",
   "id": "e5a0e45a",
   "metadata": {},
   "source": [
    "<img src=\"./diagrams/bqxainux.png\" width=\"77%\" height=\"77%\">"
   ]
  },
  {
   "cell_type": "markdown",
   "id": "0691345f",
   "metadata": {},
   "source": [
    "<h4>Question 4</h4>"
   ]
  },
  {
   "cell_type": "markdown",
   "id": "9111cc56",
   "metadata": {},
   "source": [
    "<font color=\"green\">Average 2022: 3.37 points</font>"
   ]
  },
  {
   "cell_type": "markdown",
   "id": "b7fb5540",
   "metadata": {},
   "source": [
    "<font color=\"red\">No factor 50 minus 0.5pts</font>"
   ]
  },
  {
   "cell_type": "markdown",
   "id": "784a772b",
   "metadata": {},
   "source": [
    "Consider the RL circuit in the diagram, where\n",
    "  $I_1,I_2,I_3$ depend on $t$.\n",
    "\n",
    "Since the\n",
    "  currents of the branches in a parallel circuit need to add up to the\n",
    "  total current,\n",
    "  \\begin{equation}\n",
    "    \\label{eq:htzsagtk}\n",
    "    I_1=I_2+I_3\n",
    "  \\end{equation}\n",
    " Kirchhoff's law tells us that for the\n",
    "  loop with $I_1$ and $I_2$,\n",
    "  \\begin{equation}\n",
    "    \\label{eq:hdaxtwlt}\n",
    "    2I_1+I_2+0.2I_1'=6\n",
    "  \\end{equation}\n",
    "  and for the loop with $I_2$ and $I_3$,\n",
    "  \\begin{equation}\n",
    "    \\label{eq:zxqpllca}\n",
    "    I_2-0.1I_3'=0\n",
    "  \\end{equation}\n",
    "  Show (not optional!) the matrix equation of Laplace\n",
    "  transforms which you would solve for $I_1(s),I_2(s),I_3(s)$. It is\n",
    "  of the form\n",
    "  \\begin{equation}\n",
    "    \\label{eq:tpstzgcb}\n",
    "    M\\cdot\\left[\n",
    "      \\begin{array}{c}\n",
    "        I_1(s)\\\\I_2(s)\\\\I_3(s)\n",
    "      \\end{array}\n",
    "\\right]=v\\notag\n",
    "  \\end{equation}\n",
    "where $M$ is a matrix and $v$ is a vector, both depending on $s$ but\n",
    "not on $I_1,I_2,I_3$.\n",
    "I used\n",
    "  a computer algebra system to solve it for the following:\n",
    "  \\begin{equation}\n",
    "    \\label{eq:kflosovl}\n",
    "    \\left[\n",
    "      \\begin{array}{c}\n",
    "        I_1(s)\\\\I_2(s)\\\\I_3(s)\n",
    "      \\end{array}\n",
    "\\right]=\\left[ \\begin{array}{r}\\displaystyle\\frac{6 \\left(0.1 s + 1.0\\right)}{s \\left(0.02 s^{2} + 0.5 s + 2.0\\right)}\\\\\\displaystyle\\frac{0.6}{0.02 s^{2} + 0.5 s + 2.0}\\\\\\displaystyle -\\frac{6}{s \\left(- 0.02 s^{2} - 0.5 s - 2\\right)}\\end{array} \\right]\\notag\n",
    "  \\end{equation}\n",
    "Find $I_1(t)$."
   ]
  },
  {
   "cell_type": "markdown",
   "id": "466743d5",
   "metadata": {},
   "source": [
    "<img src=\"./diagrams/qleluxoz.png\" width=\"44%\" height=\"44%\">"
   ]
  },
  {
   "cell_type": "markdown",
   "id": "cdd461b0",
   "metadata": {},
   "source": [
    "<img src=\"./diagrams/qleluxoz-leo-1.png\" width=\"66%\" height=\"66%\">"
   ]
  },
  {
   "cell_type": "markdown",
   "id": "afc550e6",
   "metadata": {},
   "source": [
    "<img src=\"./diagrams/qleluxoz-leo-2.png\" width=\"66%\" height=\"66%\">"
   ]
  },
  {
   "cell_type": "code",
   "execution_count": 9,
   "id": "d878efdd",
   "metadata": {},
   "outputs": [],
   "source": [
    "using PyCall"
   ]
  },
  {
   "cell_type": "code",
   "execution_count": 12,
   "id": "6790d866",
   "metadata": {},
   "outputs": [
    {
     "data": {
      "text/latex": [
       "$s$"
      ],
      "text/plain": [
       "s"
      ]
     },
     "execution_count": 12,
     "metadata": {},
     "output_type": "execute_result"
    }
   ],
   "source": [
    "sympy=pyimport(\"sympy\")\n",
    "t=sympy.Symbol(\"t\",real=True)\n",
    "s=sympy.Symbol(\"s\",real=True)"
   ]
  },
  {
   "cell_type": "code",
   "execution_count": 16,
   "id": "c6539a19",
   "metadata": {},
   "outputs": [
    {
     "data": {
      "text/latex": [
       "$\\frac{\\frac{3 s}{5} + 6}{s \\left(\\frac{s^{2}}{50} + \\frac{s}{2} + 2\\right)}$"
      ],
      "text/plain": [
       "   3⋅s        \n",
       "   ─── + 6    \n",
       "    5         \n",
       "──────────────\n",
       "  ⎛ 2        ⎞\n",
       "  ⎜s    s    ⎟\n",
       "s⋅⎜── + ─ + 2⎟\n",
       "  ⎝50   2    ⎠"
      ]
     },
     "execution_count": 16,
     "metadata": {},
     "output_type": "execute_result"
    }
   ],
   "source": [
    "F2=/(*(6,+(*(//(1,10),s),1)),*(s,+(*(//(1,50),^(s,2)),*(//(1,2),s),2)))"
   ]
  },
  {
   "cell_type": "code",
   "execution_count": 17,
   "id": "dfae156d",
   "metadata": {},
   "outputs": [
    {
     "data": {
      "text/latex": [
       "$\\left(3 e^{20 t} - 2 e^{15 t} - 1\\right) e^{- 20 t} \\theta\\left(t\\right)$"
      ],
      "text/plain": [
       "⎛   20⋅t      15⋅t    ⎞  -20⋅t     \n",
       "⎝3⋅ℯ     - 2⋅ℯ     - 1⎠⋅ℯ     ⋅θ(t)"
      ]
     },
     "execution_count": 17,
     "metadata": {},
     "output_type": "execute_result"
    }
   ],
   "source": [
    "sympy.inverse_laplace_transform(F2,s,t)"
   ]
  },
  {
   "cell_type": "code",
   "execution_count": null,
   "id": "58e5ee25",
   "metadata": {},
   "outputs": [],
   "source": []
  }
 ],
 "metadata": {
  "kernelspec": {
   "display_name": "Julia 1.7.2",
   "language": "julia",
   "name": "julia-1.7"
  },
  "language_info": {
   "file_extension": ".jl",
   "mimetype": "application/julia",
   "name": "julia",
   "version": "1.7.2"
  }
 },
 "nbformat": 4,
 "nbformat_minor": 5
}
