{
 "cells": [
  {
   "cell_type": "markdown",
   "metadata": {
    "collapsed": false
   },
   "source": [
    "<h4>Assignment 2 Problem 1: Washing Machine</h4>"
   ]
  },
  {
   "cell_type": "markdown",
   "metadata": {
    "collapsed": false
   },
   "source": [
    "As the washtub of a front-loading industrial washing\n",
    "machine turns around its axis, the laundry and wash\n",
    "water are pushed to one side so that the centroid of the\n",
    "washtub's contents lies off-center, a distance $a=1.0\\,m$\n",
    "from the central axis. The washing machine rests on\n",
    "wheels, and is spring-mounted to a rigid wall support (as\n",
    "illustrated in the accompanying diagram). Assuming\n",
    "that the motion is resisted by padding on either side of\n",
    "the machine, the horizontal displacement $x$ along the\n",
    "floor as a function of time t is governed by the\n",
    "differential equation (neglecting friction):\n",
    "$$\n",
    "M\\frac{d^{2}x}{dt^{2}}+c\\frac{dx}{dt}+kx=ma\\omega^{2}\\cos(\\omega{}t)\n",
    "$$\n",
    "where $m=36\\,kg$ is the mass of the washtub's\n",
    "contents, $M=101\\,kg$ is the mass of the entire\n",
    "washing machine (including the washtub's\n",
    "contents), $k=793\\,N/m$ is the spring constant of\n",
    "its elastic connection to the support and\n",
    "$c=176\\,kg/s$ is the damping constant."
   ]
  },
  {
   "cell_type": "markdown",
   "metadata": {
    "collapsed": false
   },
   "source": [
    "<img src=\"./diagrams/nelkyqye1.png\" width=\"40%\" height=\"40%\">"
   ]
  },
  {
   "cell_type": "markdown",
   "metadata": {
    "collapsed": false
   },
   "source": [
    "* Determine the complementary part of the solution for x.\n",
    "* Find the particular part of the solution for $x$ by the method of undetermined\n",
    "coefficients. Determine values for the coefficient $A$ of the cosine term and $B$ of the\n",
    "sine term.\n",
    "* Determine the maximum amplitude $x_{max}$ of the oscillations over time. Use Maple or\n",
    "Excel to plot the amplitude $x_{max}$ as a function of the angular frequency $\\omega$ from $0$ to $5$\n",
    "radians per second. If you use Excel, plot the angular frequency $\\omega$ using an\n",
    "increment of $0.1$ radians per second.\n",
    "* Determine the angular frequency $\\omega$ at which the amplitude $x_{max}$ reaches its resonant\n",
    "value. What is the corresponding amplitude at this angular frequency? Give your\n",
    "answers to three significant figures and include the units in your answer."
   ]
  },
  {
   "cell_type": "markdown",
   "metadata": {
    "collapsed": false
   },
   "source": [
    "The differential equation is\n",
    "$$\n",
    "101x''+176x'+793x=36\\omega^{2}\\cos(\\omega{}t)\n",
    "$$"
   ]
  },
  {
   "cell_type": "code",
   "execution_count": 1,
   "metadata": {
    "collapsed": false
   },
   "outputs": [
   ],
   "source": [
    "using Polynomials"
   ]
  },
  {
   "cell_type": "code",
   "execution_count": 4,
   "metadata": {
    "collapsed": false
   },
   "outputs": [
    {
     "data": {
      "text/html": [
       "793 &#43; 176&#8729;x &#43; 101&#8729;x<sup>2</sup>"
      ],
      "text/latex": [
       "$793 + 176\\cdot x + 101\\cdot x^{2}$"
      ],
      "text/plain": [
       "Polynomial(793 + 176*x + 101*x^2)"
      ]
     },
     "execution_count": 4,
     "metadata": {
     },
     "output_type": "execute_result"
    }
   ],
   "source": [
    "p2=Polynomial([793,176,101])"
   ]
  },
  {
   "cell_type": "code",
   "execution_count": 5,
   "metadata": {
    "collapsed": false,
    "scrolled": true
   },
   "outputs": [
    {
     "data": {
      "text/plain": [
       "2-element Vector{ComplexF64}:\n",
       " -0.8712871287128712 - 2.6631454875492877im\n",
       " -0.8712871287128712 + 2.6631454875492877im"
      ]
     },
     "execution_count": 5,
     "metadata": {
     },
     "output_type": "execute_result"
    }
   ],
   "source": [
    "roots(p2)"
   ]
  },
  {
   "cell_type": "code",
   "execution_count": 31,
   "metadata": {
    "collapsed": false
   },
   "outputs": [
    {
     "data": {
      "text/plain": [
       "2.6631454875492877"
      ]
     },
     "execution_count": 31,
     "metadata": {
     },
     "output_type": "execute_result"
    }
   ],
   "source": [
    "oms=imag(roots(p2)[2,1])"
   ]
  },
  {
   "cell_type": "markdown",
   "metadata": {
    "collapsed": false
   },
   "source": [
    "Therefore,\n",
    "$$\n",
    "x_{c}(t)=e^{-0.87t}\\left(c_{1}\\cos(2.66t)+c_{2}\\sin(2.66t)\\right)\n",
    "$$"
   ]
  },
  {
   "cell_type": "code",
   "execution_count": 6,
   "metadata": {
    "collapsed": false
   },
   "outputs": [
    {
     "name": "stderr",
     "output_type": "stream",
     "text": [
      "WARNING: using SymPy.roots in module Main conflicts with an existing identifier.\n"
     ]
    }
   ],
   "source": [
    "using SymPy"
   ]
  },
  {
   "cell_type": "code",
   "execution_count": 7,
   "metadata": {
    "collapsed": false
   },
   "outputs": [
    {
     "data": {
      "text/plain": [
       "(w,)"
      ]
     },
     "execution_count": 7,
     "metadata": {
     },
     "output_type": "execute_result"
    }
   ],
   "source": [
    "@vars w"
   ]
  },
  {
   "cell_type": "code",
   "execution_count": 8,
   "metadata": {
    "collapsed": false
   },
   "outputs": [
    {
     "data": {
      "text/latex": [
       "$\\left[ \\begin{array}{rr}793 - 101 w^{2}&176 w\\\\- 176 w&793 - 101 w^{2}\\end{array}\\right]$\n"
      ],
      "text/plain": [
       "2×2 Matrix{Sym}:\n",
       " 793 - 101*w^2          176⋅w\n",
       "        -176⋅w  793 - 101*w^2"
      ]
     },
     "execution_count": 8,
     "metadata": {
     },
     "output_type": "execute_result"
    }
   ],
   "source": [
    "A1=[-101*w^2+793 176*w\n",
    "-176*w -101*w^2+793]"
   ]
  },
  {
   "cell_type": "code",
   "execution_count": 9,
   "metadata": {
    "collapsed": false
   },
   "outputs": [
    {
     "data": {
      "text/latex": [
       "$\\left[ \\begin{array}{r}36 w^{2}\\\\0\\end{array} \\right]$\n"
      ],
      "text/plain": [
       "2-element Vector{Sym}:\n",
       " 36*w^2\n",
       "      0"
      ]
     },
     "execution_count": 9,
     "metadata": {
     },
     "output_type": "execute_result"
    }
   ],
   "source": [
    "b1=[36*w^2\n",
    "0]"
   ]
  },
  {
   "cell_type": "code",
   "execution_count": 13,
   "metadata": {
    "collapsed": false
   },
   "outputs": [
    {
     "data": {
      "text/latex": [
       "$\\left[ \\begin{array}{r}- \\frac{36 w^{2} \\left(101 w^{2} - 793\\right)}{10201 w^{4} - 129210 w^{2} + 628849}\\\\\\frac{6336 w^{3}}{10201 w^{4} - 129210 w^{2} + 628849}\\end{array} \\right]$\n"
      ],
      "text/plain": [
       "2-element Vector{Sym}:\n",
       " -36*w^2*(101*w^2 - 793)/(10201*w^4 - 129210*w^2 + 628849)\n",
       "                6336*w^3/(10201*w^4 - 129210*w^2 + 628849)"
      ]
     },
     "execution_count": 13,
     "metadata": {
     },
     "output_type": "execute_result"
    }
   ],
   "source": [
    "A2=inv(A1)*b1"
   ]
  },
  {
   "cell_type": "markdown",
   "metadata": {
    "collapsed": false
   },
   "source": [
    "$$\n",
    "x_{p}(t)=- \\frac{36 {\\omega}^{2} \\left(101 {\\omega}^{2} - 793\\right)}{10201 {\\omega}^{4} - 129210 {\\omega}^{2} + 628849}\\cos(\\omega{}t)+\\frac{6336 {\\omega}^{3}}{10201 {\\omega}^{4} - 129210 {\\omega}^{2} + 628849}\\sin(\\omega{}t)\n",
    "$$"
   ]
  },
  {
   "cell_type": "code",
   "execution_count": 11,
   "metadata": {
    "collapsed": false
   },
   "outputs": [
    {
     "data": {
      "text/html": [
       "628849 &#43; 129210&#8729;x<sup>2</sup> &#43; 10201&#8729;x<sup>4</sup>"
      ],
      "text/latex": [
       "$628849 + 129210\\cdot x^{2} + 10201\\cdot x^{4}$"
      ],
      "text/plain": [
       "Polynomial(628849 + 129210*x^2 + 10201*x^4)"
      ]
     },
     "execution_count": 11,
     "metadata": {
     },
     "output_type": "execute_result"
    }
   ],
   "source": [
    "p3=Polynomial([628849,0,129210,0,10201])"
   ]
  },
  {
   "cell_type": "code",
   "execution_count": 12,
   "metadata": {
    "collapsed": false
   },
   "outputs": [
    {
     "data": {
      "text/plain": [
       "4-element Vector{ComplexF64}:\n",
       " -0.8712871287128717 - 2.6631454875492886im\n",
       " -0.8712871287128717 + 2.6631454875492886im\n",
       "  0.8712871287128698 - 2.663145487549289im\n",
       "  0.8712871287128698 + 2.663145487549289im"
      ]
     },
     "execution_count": 12,
     "metadata": {
     },
     "output_type": "execute_result"
    }
   ],
   "source": [
    "roots(p3)"
   ]
  },
  {
   "cell_type": "code",
   "execution_count": 23,
   "metadata": {
    "collapsed": false,
    "scrolled": true
   },
   "outputs": [
    {
     "data": {
      "text/latex": [
       "$\\begin{equation*}\\sqrt{\\frac{40144896 w^{6}}{\\left(10201 w^{4} - 129210 w^{2} + 628849\\right)^{2}} + \\frac{1296 w^{4} \\left(101 w^{2} - 793\\right)^{2}}{\\left(10201 w^{4} - 129210 w^{2} + 628849\\right)^{2}}}\\end{equation*}$\n"
      ],
      "text/plain": [
       "        _____________________________________________________________________\n",
       "       ╱                                                              2      \n",
       "      ╱                      6                        4 ⎛     2      ⎞       \n",
       "     ╱             40144896⋅w                   1296⋅w ⋅⎝101⋅w  - 793⎠       \n",
       "    ╱    ──────────────────────────────── + ──────────────────────────────── \n",
       "   ╱                                    2                                  2 \n",
       "  ╱      ⎛       4           2         ⎞    ⎛       4           2         ⎞  \n",
       "╲╱       ⎝10201⋅w  - 129210⋅w  + 628849⎠    ⎝10201⋅w  - 129210⋅w  + 628849⎠  "
      ]
     },
     "execution_count": 23,
     "metadata": {
     },
     "output_type": "execute_result"
    }
   ],
   "source": [
    "C=sqrt(A2[1,1]^2+A2[2,1]^2) # this is the amplitude of the steady periodic function in terms of omega"
   ]
  },
  {
   "cell_type": "markdown",
   "metadata": {
    "collapsed": false
   },
   "source": [
    "<img src=\"./diagrams/nelkyqye-desmos.png\" width=\"40%\" height=\"40%\">"
   ]
  },
  {
   "cell_type": "code",
   "execution_count": 26,
   "metadata": {
    "collapsed": false
   },
   "outputs": [
    {
     "data": {
      "text/plain": [
       "C1 (generic function with 1 method)"
      ]
     },
     "execution_count": 26,
     "metadata": {
     },
     "output_type": "execute_result"
    }
   ],
   "source": [
    "C1(om)=sqrt(((40144896*om^6)/((10201*om^4-129210*om^2+628849)^2))+((1296*om^4*((101*om^2-793)^2))/((10201*om^4-129210*om^2+628849)^2)))"
   ]
  },
  {
   "cell_type": "code",
   "execution_count": 27,
   "metadata": {
    "collapsed": false
   },
   "outputs": [
    {
     "data": {
      "text/plain": [
       "0.6030408775735087"
      ]
     },
     "execution_count": 27,
     "metadata": {
     },
     "output_type": "execute_result"
    }
   ],
   "source": [
    "C1(3.12)"
   ]
  },
  {
   "cell_type": "markdown",
   "metadata": {
    "collapsed": false
   },
   "source": [
    "The angular frequency $\\omega$ at which the amplitude $x_{max}$ reaches its resonant\n",
    "value is $\\omega=3.12$. The corresponding amplitude at this angular frequency is approximately $0.603$."
   ]
  }
 ],
 "metadata": {
  "kernelspec": {
   "display_name": "Julia 1.6",
   "env": {
    "JULIA_DEPOT_PATH": "/home/user/.julia/:/ext/julia/depot/",
    "JULIA_PROJECT": "/home/user/.julia/environment/v1.6"
   },
   "language": "julia",
   "metadata": {
    "cocalc": {
     "description": "The Julia Programming Language",
     "priority": 1,
     "url": "https://julialang.org/"
    }
   },
   "name": "julia-1.6",
   "resource_dir": "/ext/jupyter/kernels/julia-1.6"
  },
  "language_info": {
   "file_extension": ".jl",
   "mimetype": "application/julia",
   "name": "julia",
   "version": "1.6.3"
  }
 },
 "nbformat": 4,
 "nbformat_minor": 4
}