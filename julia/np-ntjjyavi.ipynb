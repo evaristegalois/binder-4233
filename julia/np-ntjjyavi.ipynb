{
 "cells": [
  {
   "cell_type": "markdown",
   "metadata": {
    "collapsed": false
   },
   "source": [
    "<h4>Free Undamped Motion: Spring</h4>"
   ]
  },
  {
   "cell_type": "markdown",
   "metadata": {
    "collapsed": false
   },
   "source": [
    "A body with mass $m=0.5\\,kg$ is attached to the end of a spring that is stretched \n",
    "two metres (m) by a force of $100$ newtons (N). It is set in motion with initial position $x_{0}=1\\,m$\n",
    "and initial velocity $v_{0}=-5\\,m/s$. (Note that these initial conditions indicate that the body\n",
    "is displaced to the right and is moving to the left at time $t=0$.) Find the position function of\n",
    "the body as well as the amplitude, frequency, period of oscillation, and time lag of its motion."
   ]
  },
  {
   "cell_type": "markdown",
   "metadata": {
    "collapsed": false
   },
   "source": [
    "The calculations are in Schmierbuch (Krita) 3441; however, I misunderstood the 100N to apply to the initial position of $x_{0}=1$ instead of to $x=2$."
   ]
  },
  {
   "cell_type": "code",
   "execution_count": 1,
   "metadata": {
    "collapsed": false
   },
   "outputs": [
   ],
   "source": [
    "using NLsolve"
   ]
  },
  {
   "cell_type": "code",
   "execution_count": 2,
   "metadata": {
    "collapsed": false
   },
   "outputs": [
    {
     "data": {
      "text/plain": [
       "1"
      ]
     },
     "execution_count": 2,
     "metadata": {
     },
     "output_type": "execute_result"
    }
   ],
   "source": [
    "c1=1"
   ]
  },
  {
   "cell_type": "code",
   "execution_count": 3,
   "metadata": {
    "collapsed": false
   },
   "outputs": [
    {
     "data": {
      "text/plain": [
       "-0.35355339059327373"
      ]
     },
     "execution_count": 3,
     "metadata": {
     },
     "output_type": "execute_result"
    }
   ],
   "source": [
    "c2=(-1)/(2*sqrt(2))"
   ]
  },
  {
   "cell_type": "code",
   "execution_count": 4,
   "metadata": {
    "collapsed": false
   },
   "outputs": [
    {
     "data": {
      "text/plain": [
       "100"
      ]
     },
     "execution_count": 4,
     "metadata": {
     },
     "output_type": "execute_result"
    }
   ],
   "source": [
    "k=100"
   ]
  },
  {
   "cell_type": "code",
   "execution_count": 13,
   "metadata": {
    "collapsed": false
   },
   "outputs": [
    {
     "data": {
      "text/plain": [
       "0.5"
      ]
     },
     "execution_count": 13,
     "metadata": {
     },
     "output_type": "execute_result"
    }
   ],
   "source": [
    "m=0.5"
   ]
  },
  {
   "cell_type": "code",
   "execution_count": 14,
   "metadata": {
    "collapsed": false
   },
   "outputs": [
    {
     "data": {
      "text/plain": [
       "14.142135623730951"
      ]
     },
     "execution_count": 14,
     "metadata": {
     },
     "output_type": "execute_result"
    }
   ],
   "source": [
    "w0=sqrt(k/m)"
   ]
  },
  {
   "cell_type": "code",
   "execution_count": 28,
   "metadata": {
    "collapsed": false
   },
   "outputs": [
    {
     "data": {
      "text/plain": [
       "1.0606601717798212"
      ]
     },
     "execution_count": 28,
     "metadata": {
     },
     "output_type": "execute_result"
    }
   ],
   "source": [
    "C=sqrt(9/8)"
   ]
  },
  {
   "cell_type": "code",
   "execution_count": 30,
   "metadata": {
    "collapsed": false
   },
   "outputs": [
    {
     "data": {
      "text/plain": [
       "5.943348397725464"
      ]
     },
     "execution_count": 30,
     "metadata": {
     },
     "output_type": "execute_result"
    }
   ],
   "source": [
    "aa=atan(c2/c1)+2*pi"
   ]
  },
  {
   "cell_type": "code",
   "execution_count": 31,
   "metadata": {
    "collapsed": false
   },
   "outputs": [
    {
     "data": {
      "text/plain": [
       "0.9428090415820634"
      ]
     },
     "execution_count": 31,
     "metadata": {
     },
     "output_type": "execute_result"
    }
   ],
   "source": [
    "cos(aa)"
   ]
  },
  {
   "cell_type": "code",
   "execution_count": 5,
   "metadata": {
    "collapsed": false
   },
   "outputs": [
   ],
   "source": [
    "using Plots"
   ]
  },
  {
   "cell_type": "code",
   "execution_count": 11,
   "metadata": {
    "collapsed": false
   },
   "outputs": [
    {
     "data": {
      "text/plain": [
       "-0.3:0.006060606060606061:0.3"
      ]
     },
     "execution_count": 11,
     "metadata": {
     },
     "output_type": "execute_result"
    }
   ],
   "source": [
    "x=range(-0.3,stop=0.3,length=100)"
   ]
  },
  {
   "cell_type": "code",
   "execution_count": 47,
   "metadata": {
    "collapsed": false
   },
   "outputs": [
    {
     "data": {
      "image/svg+xml": "<?xml version=\"1.0\" encoding=\"utf-8\"?>\n<svg xmlns=\"http://www.w3.org/2000/svg\" xmlns:xlink=\"http://www.w3.org/1999/xlink\" width=\"600\" height=\"400\" viewBox=\"0 0 2400 1600\">\n<defs>\n  <clipPath id=\"clip790\">\n    <rect x=\"0\" y=\"0\" width=\"2400\" height=\"1600\"/>\n  </clipPath>\n</defs>\n<path clip-path=\"url(#clip790)\" d=\"\nM0 1600 L2400 1600 L2400 0 L0 0  Z\n  \" fill=\"#ffffff\" fill-rule=\"evenodd\" fill-opacity=\"1\"/>\n<defs>\n  <clipPath id=\"clip791\">\n    <rect x=\"480\" y=\"0\" width=\"1681\" height=\"1600\"/>\n  </clipPath>\n</defs>\n<path clip-path=\"url(#clip790)\" d=\"\nM193.936 1486.45 L2352.76 1486.45 L2352.76 47.2441 L193.936 47.2441  Z\n  \" fill=\"#ffffff\" fill-rule=\"evenodd\" fill-opacity=\"1\"/>\n<defs>\n  <clipPath id=\"clip792\">\n    <rect x=\"193\" y=\"47\" width=\"2160\" height=\"1440\"/>\n  </clipPath>\n</defs>\n<polyline clip-path=\"url(#clip792)\" style=\"stroke:#000000; stroke-linecap:butt; stroke-linejoin:round; stroke-width:2; stroke-opacity:0.1; fill:none\" points=\"\n  255.035,1486.45 255.035,47.2441 \n  \"/>\n<polyline clip-path=\"url(#clip792)\" style=\"stroke:#000000; stroke-linecap:butt; stroke-linejoin:round; stroke-width:2; stroke-opacity:0.1; fill:none\" points=\"\n  594.472,1486.45 594.472,47.2441 \n  \"/>\n<polyline clip-path=\"url(#clip792)\" style=\"stroke:#000000; stroke-linecap:butt; stroke-linejoin:round; stroke-width:2; stroke-opacity:0.1; fill:none\" points=\"\n  933.909,1486.45 933.909,47.2441 \n  \"/>\n<polyline clip-path=\"url(#clip792)\" style=\"stroke:#000000; stroke-linecap:butt; stroke-linejoin:round; stroke-width:2; stroke-opacity:0.1; fill:none\" points=\"\n  1273.35,1486.45 1273.35,47.2441 \n  \"/>\n<polyline clip-path=\"url(#clip792)\" style=\"stroke:#000000; stroke-linecap:butt; stroke-linejoin:round; stroke-width:2; stroke-opacity:0.1; fill:none\" points=\"\n  1612.78,1486.45 1612.78,47.2441 \n  \"/>\n<polyline clip-path=\"url(#clip792)\" style=\"stroke:#000000; stroke-linecap:butt; stroke-linejoin:round; stroke-width:2; stroke-opacity:0.1; fill:none\" points=\"\n  1952.22,1486.45 1952.22,47.2441 \n  \"/>\n<polyline clip-path=\"url(#clip792)\" style=\"stroke:#000000; stroke-linecap:butt; stroke-linejoin:round; stroke-width:2; stroke-opacity:0.1; fill:none\" points=\"\n  2291.66,1486.45 2291.66,47.2441 \n  \"/>\n<polyline clip-path=\"url(#clip790)\" style=\"stroke:#000000; stroke-linecap:butt; stroke-linejoin:round; stroke-width:4; stroke-opacity:1; fill:none\" points=\"\n  193.936,1486.45 2352.76,1486.45 \n  \"/>\n<polyline clip-path=\"url(#clip790)\" style=\"stroke:#000000; stroke-linecap:butt; stroke-linejoin:round; stroke-width:4; stroke-opacity:1; fill:none\" points=\"\n  255.035,1486.45 255.035,1467.55 \n  \"/>\n<polyline clip-path=\"url(#clip790)\" style=\"stroke:#000000; stroke-linecap:butt; stroke-linejoin:round; stroke-width:4; stroke-opacity:1; fill:none\" points=\"\n  594.472,1486.45 594.472,1467.55 \n  \"/>\n<polyline clip-path=\"url(#clip790)\" style=\"stroke:#000000; stroke-linecap:butt; stroke-linejoin:round; stroke-width:4; stroke-opacity:1; fill:none\" points=\"\n  933.909,1486.45 933.909,1467.55 \n  \"/>\n<polyline clip-path=\"url(#clip790)\" style=\"stroke:#000000; stroke-linecap:butt; stroke-linejoin:round; stroke-width:4; stroke-opacity:1; fill:none\" points=\"\n  1273.35,1486.45 1273.35,1467.55 \n  \"/>\n<polyline clip-path=\"url(#clip790)\" style=\"stroke:#000000; stroke-linecap:butt; stroke-linejoin:round; stroke-width:4; stroke-opacity:1; fill:none\" points=\"\n  1612.78,1486.45 1612.78,1467.55 \n  \"/>\n<polyline clip-path=\"url(#clip790)\" style=\"stroke:#000000; stroke-linecap:butt; stroke-linejoin:round; stroke-width:4; stroke-opacity:1; fill:none\" points=\"\n  1952.22,1486.45 1952.22,1467.55 \n  \"/>\n<polyline clip-path=\"url(#clip790)\" style=\"stroke:#000000; stroke-linecap:butt; stroke-linejoin:round; stroke-width:4; stroke-opacity:1; fill:none\" points=\"\n  2291.66,1486.45 2291.66,1467.55 \n  \"/>\n<path clip-path=\"url(#clip790)\" d=\"M201.887 1530.29 L231.563 1530.29 L231.563 1534.23 L201.887 1534.23 L201.887 1530.29 Z\" fill=\"#000000\" fill-rule=\"evenodd\" fill-opacity=\"1\" /><path clip-path=\"url(#clip790)\" d=\"M251.655 1515.64 Q248.044 1515.64 246.215 1519.2 Q244.41 1522.75 244.41 1529.87 Q244.41 1536.98 246.215 1540.55 Q248.044 1544.09 251.655 1544.09 Q255.289 1544.09 257.095 1540.55 Q258.924 1536.98 258.924 1529.87 Q258.924 1522.75 257.095 1519.2 Q255.289 1515.64 251.655 1515.64 M251.655 1511.93 Q257.465 1511.93 260.521 1516.54 Q263.599 1521.12 263.599 1529.87 Q263.599 1538.6 260.521 1543.21 Q257.465 1547.79 251.655 1547.79 Q245.845 1547.79 242.766 1543.21 Q239.711 1538.6 239.711 1529.87 Q239.711 1521.12 242.766 1516.54 Q245.845 1511.93 251.655 1511.93 Z\" fill=\"#000000\" fill-rule=\"evenodd\" fill-opacity=\"1\" /><path clip-path=\"url(#clip790)\" d=\"M271.817 1541.24 L276.701 1541.24 L276.701 1547.12 L271.817 1547.12 L271.817 1541.24 Z\" fill=\"#000000\" fill-rule=\"evenodd\" fill-opacity=\"1\" /><path clip-path=\"url(#clip790)\" d=\"M301.053 1528.49 Q304.409 1529.2 306.284 1531.47 Q308.183 1533.74 308.183 1537.07 Q308.183 1542.19 304.664 1544.99 Q301.146 1547.79 294.664 1547.79 Q292.488 1547.79 290.173 1547.35 Q287.882 1546.93 285.428 1546.08 L285.428 1541.56 Q287.372 1542.7 289.687 1543.28 Q292.002 1543.86 294.525 1543.86 Q298.923 1543.86 301.215 1542.12 Q303.53 1540.38 303.53 1537.07 Q303.53 1534.02 301.377 1532.31 Q299.247 1530.57 295.428 1530.57 L291.4 1530.57 L291.4 1526.73 L295.613 1526.73 Q299.062 1526.73 300.891 1525.36 Q302.72 1523.97 302.72 1521.38 Q302.72 1518.72 300.821 1517.31 Q298.946 1515.87 295.428 1515.87 Q293.507 1515.87 291.308 1516.29 Q289.109 1516.7 286.47 1517.58 L286.47 1513.42 Q289.132 1512.68 291.447 1512.31 Q293.784 1511.93 295.845 1511.93 Q301.169 1511.93 304.271 1514.37 Q307.372 1516.77 307.372 1520.89 Q307.372 1523.76 305.729 1525.75 Q304.085 1527.72 301.053 1528.49 Z\" fill=\"#000000\" fill-rule=\"evenodd\" fill-opacity=\"1\" /><path clip-path=\"url(#clip790)\" d=\"M541.798 1530.29 L571.474 1530.29 L571.474 1534.23 L541.798 1534.23 L541.798 1530.29 Z\" fill=\"#000000\" fill-rule=\"evenodd\" fill-opacity=\"1\" /><path clip-path=\"url(#clip790)\" d=\"M591.567 1515.64 Q587.956 1515.64 586.127 1519.2 Q584.321 1522.75 584.321 1529.87 Q584.321 1536.98 586.127 1540.55 Q587.956 1544.09 591.567 1544.09 Q595.201 1544.09 597.006 1540.55 Q598.835 1536.98 598.835 1529.87 Q598.835 1522.75 597.006 1519.2 Q595.201 1515.64 591.567 1515.64 M591.567 1511.93 Q597.377 1511.93 600.432 1516.54 Q603.511 1521.12 603.511 1529.87 Q603.511 1538.6 600.432 1543.21 Q597.377 1547.79 591.567 1547.79 Q585.757 1547.79 582.678 1543.21 Q579.622 1538.6 579.622 1529.87 Q579.622 1521.12 582.678 1516.54 Q585.757 1511.93 591.567 1511.93 Z\" fill=\"#000000\" fill-rule=\"evenodd\" fill-opacity=\"1\" /><path clip-path=\"url(#clip790)\" d=\"M611.729 1541.24 L616.613 1541.24 L616.613 1547.12 L611.729 1547.12 L611.729 1541.24 Z\" fill=\"#000000\" fill-rule=\"evenodd\" fill-opacity=\"1\" /><path clip-path=\"url(#clip790)\" d=\"M630.826 1543.18 L647.145 1543.18 L647.145 1547.12 L625.201 1547.12 L625.201 1543.18 Q627.863 1540.43 632.446 1535.8 Q637.053 1531.15 638.233 1529.81 Q640.478 1527.28 641.358 1525.55 Q642.261 1523.79 642.261 1522.1 Q642.261 1519.34 640.316 1517.61 Q638.395 1515.87 635.293 1515.87 Q633.094 1515.87 630.641 1516.63 Q628.21 1517.4 625.432 1518.95 L625.432 1514.23 Q628.256 1513.09 630.71 1512.51 Q633.164 1511.93 635.201 1511.93 Q640.571 1511.93 643.765 1514.62 Q646.96 1517.31 646.96 1521.8 Q646.96 1523.93 646.15 1525.85 Q645.363 1527.74 643.256 1530.34 Q642.678 1531.01 639.576 1534.23 Q636.474 1537.42 630.826 1543.18 Z\" fill=\"#000000\" fill-rule=\"evenodd\" fill-opacity=\"1\" /><path clip-path=\"url(#clip790)\" d=\"M881.05 1530.29 L910.726 1530.29 L910.726 1534.23 L881.05 1534.23 L881.05 1530.29 Z\" fill=\"#000000\" fill-rule=\"evenodd\" fill-opacity=\"1\" /><path clip-path=\"url(#clip790)\" d=\"M930.819 1515.64 Q927.208 1515.64 925.379 1519.2 Q923.573 1522.75 923.573 1529.87 Q923.573 1536.98 925.379 1540.55 Q927.208 1544.09 930.819 1544.09 Q934.453 1544.09 936.258 1540.55 Q938.087 1536.98 938.087 1529.87 Q938.087 1522.75 936.258 1519.2 Q934.453 1515.64 930.819 1515.64 M930.819 1511.93 Q936.629 1511.93 939.684 1516.54 Q942.763 1521.12 942.763 1529.87 Q942.763 1538.6 939.684 1543.21 Q936.629 1547.79 930.819 1547.79 Q925.008 1547.79 921.93 1543.21 Q918.874 1538.6 918.874 1529.87 Q918.874 1521.12 921.93 1516.54 Q925.008 1511.93 930.819 1511.93 Z\" fill=\"#000000\" fill-rule=\"evenodd\" fill-opacity=\"1\" /><path clip-path=\"url(#clip790)\" d=\"M950.981 1541.24 L955.865 1541.24 L955.865 1547.12 L950.981 1547.12 L950.981 1541.24 Z\" fill=\"#000000\" fill-rule=\"evenodd\" fill-opacity=\"1\" /><path clip-path=\"url(#clip790)\" d=\"M966.86 1543.18 L974.499 1543.18 L974.499 1516.82 L966.189 1518.49 L966.189 1514.23 L974.453 1512.56 L979.129 1512.56 L979.129 1543.18 L986.767 1543.18 L986.767 1547.12 L966.86 1547.12 L966.86 1543.18 Z\" fill=\"#000000\" fill-rule=\"evenodd\" fill-opacity=\"1\" /><path clip-path=\"url(#clip790)\" d=\"M1250.73 1515.64 Q1247.12 1515.64 1245.29 1519.2 Q1243.49 1522.75 1243.49 1529.87 Q1243.49 1536.98 1245.29 1540.55 Q1247.12 1544.09 1250.73 1544.09 Q1254.36 1544.09 1256.17 1540.55 Q1258 1536.98 1258 1529.87 Q1258 1522.75 1256.17 1519.2 Q1254.36 1515.64 1250.73 1515.64 M1250.73 1511.93 Q1256.54 1511.93 1259.6 1516.54 Q1262.67 1521.12 1262.67 1529.87 Q1262.67 1538.6 1259.6 1543.21 Q1256.54 1547.79 1250.73 1547.79 Q1244.92 1547.79 1241.84 1543.21 Q1238.79 1538.6 1238.79 1529.87 Q1238.79 1521.12 1241.84 1516.54 Q1244.92 1511.93 1250.73 1511.93 Z\" fill=\"#000000\" fill-rule=\"evenodd\" fill-opacity=\"1\" /><path clip-path=\"url(#clip790)\" d=\"M1270.89 1541.24 L1275.78 1541.24 L1275.78 1547.12 L1270.89 1547.12 L1270.89 1541.24 Z\" fill=\"#000000\" fill-rule=\"evenodd\" fill-opacity=\"1\" /><path clip-path=\"url(#clip790)\" d=\"M1295.96 1515.64 Q1292.35 1515.64 1290.52 1519.2 Q1288.72 1522.75 1288.72 1529.87 Q1288.72 1536.98 1290.52 1540.55 Q1292.35 1544.09 1295.96 1544.09 Q1299.6 1544.09 1301.4 1540.55 Q1303.23 1536.98 1303.23 1529.87 Q1303.23 1522.75 1301.4 1519.2 Q1299.6 1515.64 1295.96 1515.64 M1295.96 1511.93 Q1301.77 1511.93 1304.83 1516.54 Q1307.91 1521.12 1307.91 1529.87 Q1307.91 1538.6 1304.83 1543.21 Q1301.77 1547.79 1295.96 1547.79 Q1290.15 1547.79 1287.07 1543.21 Q1284.02 1538.6 1284.02 1529.87 Q1284.02 1521.12 1287.07 1516.54 Q1290.15 1511.93 1295.96 1511.93 Z\" fill=\"#000000\" fill-rule=\"evenodd\" fill-opacity=\"1\" /><path clip-path=\"url(#clip790)\" d=\"M1590.78 1515.64 Q1587.17 1515.64 1585.34 1519.2 Q1583.54 1522.75 1583.54 1529.87 Q1583.54 1536.98 1585.34 1540.55 Q1587.17 1544.09 1590.78 1544.09 Q1594.42 1544.09 1596.22 1540.55 Q1598.05 1536.98 1598.05 1529.87 Q1598.05 1522.75 1596.22 1519.2 Q1594.42 1515.64 1590.78 1515.64 M1590.78 1511.93 Q1596.59 1511.93 1599.65 1516.54 Q1602.73 1521.12 1602.73 1529.87 Q1602.73 1538.6 1599.65 1543.21 Q1596.59 1547.79 1590.78 1547.79 Q1584.97 1547.79 1581.89 1543.21 Q1578.84 1538.6 1578.84 1529.87 Q1578.84 1521.12 1581.89 1516.54 Q1584.97 1511.93 1590.78 1511.93 Z\" fill=\"#000000\" fill-rule=\"evenodd\" fill-opacity=\"1\" /><path clip-path=\"url(#clip790)\" d=\"M1610.94 1541.24 L1615.83 1541.24 L1615.83 1547.12 L1610.94 1547.12 L1610.94 1541.24 Z\" fill=\"#000000\" fill-rule=\"evenodd\" fill-opacity=\"1\" /><path clip-path=\"url(#clip790)\" d=\"M1626.82 1543.18 L1634.46 1543.18 L1634.46 1516.82 L1626.15 1518.49 L1626.15 1514.23 L1634.41 1512.56 L1639.09 1512.56 L1639.09 1543.18 L1646.73 1543.18 L1646.73 1547.12 L1626.82 1547.12 L1626.82 1543.18 Z\" fill=\"#000000\" fill-rule=\"evenodd\" fill-opacity=\"1\" /><path clip-path=\"url(#clip790)\" d=\"M1930.4 1515.64 Q1926.79 1515.64 1924.96 1519.2 Q1923.16 1522.75 1923.16 1529.87 Q1923.16 1536.98 1924.96 1540.55 Q1926.79 1544.09 1930.4 1544.09 Q1934.04 1544.09 1935.84 1540.55 Q1937.67 1536.98 1937.67 1529.87 Q1937.67 1522.75 1935.84 1519.2 Q1934.04 1515.64 1930.4 1515.64 M1930.4 1511.93 Q1936.21 1511.93 1939.27 1516.54 Q1942.35 1521.12 1942.35 1529.87 Q1942.35 1538.6 1939.27 1543.21 Q1936.21 1547.79 1930.4 1547.79 Q1924.59 1547.79 1921.51 1543.21 Q1918.46 1538.6 1918.46 1529.87 Q1918.46 1521.12 1921.51 1516.54 Q1924.59 1511.93 1930.4 1511.93 Z\" fill=\"#000000\" fill-rule=\"evenodd\" fill-opacity=\"1\" /><path clip-path=\"url(#clip790)\" d=\"M1950.57 1541.24 L1955.45 1541.24 L1955.45 1547.12 L1950.57 1547.12 L1950.57 1541.24 Z\" fill=\"#000000\" fill-rule=\"evenodd\" fill-opacity=\"1\" /><path clip-path=\"url(#clip790)\" d=\"M1969.66 1543.18 L1985.98 1543.18 L1985.98 1547.12 L1964.04 1547.12 L1964.04 1543.18 Q1966.7 1540.43 1971.28 1535.8 Q1975.89 1531.15 1977.07 1529.81 Q1979.31 1527.28 1980.19 1525.55 Q1981.1 1523.79 1981.1 1522.1 Q1981.1 1519.34 1979.15 1517.61 Q1977.23 1515.87 1974.13 1515.87 Q1971.93 1515.87 1969.48 1516.63 Q1967.05 1517.4 1964.27 1518.95 L1964.27 1514.23 Q1967.09 1513.09 1969.55 1512.51 Q1972 1511.93 1974.04 1511.93 Q1979.41 1511.93 1982.6 1514.62 Q1985.8 1517.31 1985.8 1521.8 Q1985.8 1523.93 1984.99 1525.85 Q1984.2 1527.74 1982.09 1530.34 Q1981.51 1531.01 1978.41 1534.23 Q1975.31 1537.42 1969.66 1543.18 Z\" fill=\"#000000\" fill-rule=\"evenodd\" fill-opacity=\"1\" /><path clip-path=\"url(#clip790)\" d=\"M2269.37 1515.64 Q2265.75 1515.64 2263.93 1519.2 Q2262.12 1522.75 2262.12 1529.87 Q2262.12 1536.98 2263.93 1540.55 Q2265.75 1544.09 2269.37 1544.09 Q2273 1544.09 2274.81 1540.55 Q2276.63 1536.98 2276.63 1529.87 Q2276.63 1522.75 2274.81 1519.2 Q2273 1515.64 2269.37 1515.64 M2269.37 1511.93 Q2275.18 1511.93 2278.23 1516.54 Q2281.31 1521.12 2281.31 1529.87 Q2281.31 1538.6 2278.23 1543.21 Q2275.18 1547.79 2269.37 1547.79 Q2263.56 1547.79 2260.48 1543.21 Q2257.42 1538.6 2257.42 1529.87 Q2257.42 1521.12 2260.48 1516.54 Q2263.56 1511.93 2269.37 1511.93 Z\" fill=\"#000000\" fill-rule=\"evenodd\" fill-opacity=\"1\" /><path clip-path=\"url(#clip790)\" d=\"M2289.53 1541.24 L2294.41 1541.24 L2294.41 1547.12 L2289.53 1547.12 L2289.53 1541.24 Z\" fill=\"#000000\" fill-rule=\"evenodd\" fill-opacity=\"1\" /><path clip-path=\"url(#clip790)\" d=\"M2318.76 1528.49 Q2322.12 1529.2 2324 1531.47 Q2325.89 1533.74 2325.89 1537.07 Q2325.89 1542.19 2322.37 1544.99 Q2318.86 1547.79 2312.37 1547.79 Q2310.2 1547.79 2307.88 1547.35 Q2305.59 1546.93 2303.14 1546.08 L2303.14 1541.56 Q2305.08 1542.7 2307.4 1543.28 Q2309.71 1543.86 2312.24 1543.86 Q2316.63 1543.86 2318.93 1542.12 Q2321.24 1540.38 2321.24 1537.07 Q2321.24 1534.02 2319.09 1532.31 Q2316.96 1530.57 2313.14 1530.57 L2309.11 1530.57 L2309.11 1526.73 L2313.32 1526.73 Q2316.77 1526.73 2318.6 1525.36 Q2320.43 1523.97 2320.43 1521.38 Q2320.43 1518.72 2318.53 1517.31 Q2316.66 1515.87 2313.14 1515.87 Q2311.22 1515.87 2309.02 1516.29 Q2306.82 1516.7 2304.18 1517.58 L2304.18 1513.42 Q2306.84 1512.68 2309.16 1512.31 Q2311.5 1511.93 2313.56 1511.93 Q2318.88 1511.93 2321.98 1514.37 Q2325.08 1516.77 2325.08 1520.89 Q2325.08 1523.76 2323.44 1525.75 Q2321.8 1527.72 2318.76 1528.49 Z\" fill=\"#000000\" fill-rule=\"evenodd\" fill-opacity=\"1\" /><polyline clip-path=\"url(#clip792)\" style=\"stroke:#000000; stroke-linecap:butt; stroke-linejoin:round; stroke-width:2; stroke-opacity:0.1; fill:none\" points=\"\n  193.936,1384 2352.76,1384 \n  \"/>\n<polyline clip-path=\"url(#clip792)\" style=\"stroke:#000000; stroke-linecap:butt; stroke-linejoin:round; stroke-width:2; stroke-opacity:0.1; fill:none\" points=\"\n  193.936,1075.42 2352.76,1075.42 \n  \"/>\n<polyline clip-path=\"url(#clip792)\" style=\"stroke:#000000; stroke-linecap:butt; stroke-linejoin:round; stroke-width:2; stroke-opacity:0.1; fill:none\" points=\"\n  193.936,766.846 2352.76,766.846 \n  \"/>\n<polyline clip-path=\"url(#clip792)\" style=\"stroke:#000000; stroke-linecap:butt; stroke-linejoin:round; stroke-width:2; stroke-opacity:0.1; fill:none\" points=\"\n  193.936,458.269 2352.76,458.269 \n  \"/>\n<polyline clip-path=\"url(#clip792)\" style=\"stroke:#000000; stroke-linecap:butt; stroke-linejoin:round; stroke-width:2; stroke-opacity:0.1; fill:none\" points=\"\n  193.936,149.692 2352.76,149.692 \n  \"/>\n<polyline clip-path=\"url(#clip790)\" style=\"stroke:#000000; stroke-linecap:butt; stroke-linejoin:round; stroke-width:4; stroke-opacity:1; fill:none\" points=\"\n  193.936,1486.45 193.936,47.2441 \n  \"/>\n<polyline clip-path=\"url(#clip790)\" style=\"stroke:#000000; stroke-linecap:butt; stroke-linejoin:round; stroke-width:4; stroke-opacity:1; fill:none\" points=\"\n  193.936,1384 212.834,1384 \n  \"/>\n<polyline clip-path=\"url(#clip790)\" style=\"stroke:#000000; stroke-linecap:butt; stroke-linejoin:round; stroke-width:4; stroke-opacity:1; fill:none\" points=\"\n  193.936,1075.42 212.834,1075.42 \n  \"/>\n<polyline clip-path=\"url(#clip790)\" style=\"stroke:#000000; stroke-linecap:butt; stroke-linejoin:round; stroke-width:4; stroke-opacity:1; fill:none\" points=\"\n  193.936,766.846 212.834,766.846 \n  \"/>\n<polyline clip-path=\"url(#clip790)\" style=\"stroke:#000000; stroke-linecap:butt; stroke-linejoin:round; stroke-width:4; stroke-opacity:1; fill:none\" points=\"\n  193.936,458.269 212.834,458.269 \n  \"/>\n<polyline clip-path=\"url(#clip790)\" style=\"stroke:#000000; stroke-linecap:butt; stroke-linejoin:round; stroke-width:4; stroke-opacity:1; fill:none\" points=\"\n  193.936,149.692 212.834,149.692 \n  \"/>\n<path clip-path=\"url(#clip790)\" d=\"M50.9921 1384.45 L80.6679 1384.45 L80.6679 1388.39 L50.9921 1388.39 L50.9921 1384.45 Z\" fill=\"#000000\" fill-rule=\"evenodd\" fill-opacity=\"1\" /><path clip-path=\"url(#clip790)\" d=\"M91.5706 1397.35 L99.2095 1397.35 L99.2095 1370.98 L90.8993 1372.65 L90.8993 1368.39 L99.1632 1366.72 L103.839 1366.72 L103.839 1397.35 L111.478 1397.35 L111.478 1401.28 L91.5706 1401.28 L91.5706 1397.35 Z\" fill=\"#000000\" fill-rule=\"evenodd\" fill-opacity=\"1\" /><path clip-path=\"url(#clip790)\" d=\"M120.922 1395.4 L125.807 1395.4 L125.807 1401.28 L120.922 1401.28 L120.922 1395.4 Z\" fill=\"#000000\" fill-rule=\"evenodd\" fill-opacity=\"1\" /><path clip-path=\"url(#clip790)\" d=\"M145.992 1369.8 Q142.381 1369.8 140.552 1373.36 Q138.746 1376.91 138.746 1384.03 Q138.746 1391.14 140.552 1394.71 Q142.381 1398.25 145.992 1398.25 Q149.626 1398.25 151.431 1394.71 Q153.26 1391.14 153.26 1384.03 Q153.26 1376.91 151.431 1373.36 Q149.626 1369.8 145.992 1369.8 M145.992 1366.1 Q151.802 1366.1 154.857 1370.7 Q157.936 1375.29 157.936 1384.03 Q157.936 1392.76 154.857 1397.37 Q151.802 1401.95 145.992 1401.95 Q140.181 1401.95 137.103 1397.37 Q134.047 1392.76 134.047 1384.03 Q134.047 1375.29 137.103 1370.7 Q140.181 1366.1 145.992 1366.1 Z\" fill=\"#000000\" fill-rule=\"evenodd\" fill-opacity=\"1\" /><path clip-path=\"url(#clip790)\" d=\"M51.9875 1075.87 L81.6633 1075.87 L81.6633 1079.81 L51.9875 1079.81 L51.9875 1075.87 Z\" fill=\"#000000\" fill-rule=\"evenodd\" fill-opacity=\"1\" /><path clip-path=\"url(#clip790)\" d=\"M101.756 1061.22 Q98.1447 1061.22 96.316 1064.79 Q94.5104 1068.33 94.5104 1075.46 Q94.5104 1082.56 96.316 1086.13 Q98.1447 1089.67 101.756 1089.67 Q105.39 1089.67 107.196 1086.13 Q109.024 1082.56 109.024 1075.46 Q109.024 1068.33 107.196 1064.79 Q105.39 1061.22 101.756 1061.22 M101.756 1057.52 Q107.566 1057.52 110.621 1062.12 Q113.7 1066.71 113.7 1075.46 Q113.7 1084.18 110.621 1088.79 Q107.566 1093.37 101.756 1093.37 Q95.9456 1093.37 92.8669 1088.79 Q89.8114 1084.18 89.8114 1075.46 Q89.8114 1066.71 92.8669 1062.12 Q95.9456 1057.52 101.756 1057.52 Z\" fill=\"#000000\" fill-rule=\"evenodd\" fill-opacity=\"1\" /><path clip-path=\"url(#clip790)\" d=\"M121.918 1086.82 L126.802 1086.82 L126.802 1092.7 L121.918 1092.7 L121.918 1086.82 Z\" fill=\"#000000\" fill-rule=\"evenodd\" fill-opacity=\"1\" /><path clip-path=\"url(#clip790)\" d=\"M137.033 1058.14 L155.39 1058.14 L155.39 1062.08 L141.316 1062.08 L141.316 1070.55 Q142.334 1070.2 143.353 1070.04 Q144.371 1069.86 145.39 1069.86 Q151.177 1069.86 154.556 1073.03 Q157.936 1076.2 157.936 1081.62 Q157.936 1087.19 154.464 1090.3 Q150.992 1093.37 144.672 1093.37 Q142.496 1093.37 140.228 1093 Q137.982 1092.63 135.575 1091.89 L135.575 1087.19 Q137.658 1088.33 139.881 1088.88 Q142.103 1089.44 144.58 1089.44 Q148.584 1089.44 150.922 1087.33 Q153.26 1085.23 153.26 1081.62 Q153.26 1078 150.922 1075.9 Q148.584 1073.79 144.58 1073.79 Q142.705 1073.79 140.83 1074.21 Q138.978 1074.62 137.033 1075.5 L137.033 1058.14 Z\" fill=\"#000000\" fill-rule=\"evenodd\" fill-opacity=\"1\" /><path clip-path=\"url(#clip790)\" d=\"M100.76 752.645 Q97.1493 752.645 95.3206 756.209 Q93.515 759.751 93.515 766.881 Q93.515 773.987 95.3206 777.552 Q97.1493 781.094 100.76 781.094 Q104.395 781.094 106.2 777.552 Q108.029 773.987 108.029 766.881 Q108.029 759.751 106.2 756.209 Q104.395 752.645 100.76 752.645 M100.76 748.941 Q106.571 748.941 109.626 753.547 Q112.705 758.131 112.705 766.881 Q112.705 775.608 109.626 780.214 Q106.571 784.797 100.76 784.797 Q94.9502 784.797 91.8715 780.214 Q88.816 775.608 88.816 766.881 Q88.816 758.131 91.8715 753.547 Q94.9502 748.941 100.76 748.941 Z\" fill=\"#000000\" fill-rule=\"evenodd\" fill-opacity=\"1\" /><path clip-path=\"url(#clip790)\" d=\"M120.922 778.246 L125.807 778.246 L125.807 784.126 L120.922 784.126 L120.922 778.246 Z\" fill=\"#000000\" fill-rule=\"evenodd\" fill-opacity=\"1\" /><path clip-path=\"url(#clip790)\" d=\"M145.992 752.645 Q142.381 752.645 140.552 756.209 Q138.746 759.751 138.746 766.881 Q138.746 773.987 140.552 777.552 Q142.381 781.094 145.992 781.094 Q149.626 781.094 151.431 777.552 Q153.26 773.987 153.26 766.881 Q153.26 759.751 151.431 756.209 Q149.626 752.645 145.992 752.645 M145.992 748.941 Q151.802 748.941 154.857 753.547 Q157.936 758.131 157.936 766.881 Q157.936 775.608 154.857 780.214 Q151.802 784.797 145.992 784.797 Q140.181 784.797 137.103 780.214 Q134.047 775.608 134.047 766.881 Q134.047 758.131 137.103 753.547 Q140.181 748.941 145.992 748.941 Z\" fill=\"#000000\" fill-rule=\"evenodd\" fill-opacity=\"1\" /><path clip-path=\"url(#clip790)\" d=\"M101.756 444.068 Q98.1447 444.068 96.316 447.632 Q94.5104 451.174 94.5104 458.304 Q94.5104 465.41 96.316 468.975 Q98.1447 472.516 101.756 472.516 Q105.39 472.516 107.196 468.975 Q109.024 465.41 109.024 458.304 Q109.024 451.174 107.196 447.632 Q105.39 444.068 101.756 444.068 M101.756 440.364 Q107.566 440.364 110.621 444.97 Q113.7 449.554 113.7 458.304 Q113.7 467.03 110.621 471.637 Q107.566 476.22 101.756 476.22 Q95.9456 476.22 92.8669 471.637 Q89.8114 467.03 89.8114 458.304 Q89.8114 449.554 92.8669 444.97 Q95.9456 440.364 101.756 440.364 Z\" fill=\"#000000\" fill-rule=\"evenodd\" fill-opacity=\"1\" /><path clip-path=\"url(#clip790)\" d=\"M121.918 469.669 L126.802 469.669 L126.802 475.549 L121.918 475.549 L121.918 469.669 Z\" fill=\"#000000\" fill-rule=\"evenodd\" fill-opacity=\"1\" /><path clip-path=\"url(#clip790)\" d=\"M137.033 440.989 L155.39 440.989 L155.39 444.924 L141.316 444.924 L141.316 453.396 Q142.334 453.049 143.353 452.887 Q144.371 452.702 145.39 452.702 Q151.177 452.702 154.556 455.873 Q157.936 459.044 157.936 464.461 Q157.936 470.04 154.464 473.141 Q150.992 476.22 144.672 476.22 Q142.496 476.22 140.228 475.85 Q137.982 475.479 135.575 474.739 L135.575 470.04 Q137.658 471.174 139.881 471.729 Q142.103 472.285 144.58 472.285 Q148.584 472.285 150.922 470.179 Q153.26 468.072 153.26 464.461 Q153.26 460.85 150.922 458.743 Q148.584 456.637 144.58 456.637 Q142.705 456.637 140.83 457.054 Q138.978 457.47 137.033 458.35 L137.033 440.989 Z\" fill=\"#000000\" fill-rule=\"evenodd\" fill-opacity=\"1\" /><path clip-path=\"url(#clip790)\" d=\"M91.5706 163.037 L99.2095 163.037 L99.2095 136.671 L90.8993 138.338 L90.8993 134.078 L99.1632 132.412 L103.839 132.412 L103.839 163.037 L111.478 163.037 L111.478 166.972 L91.5706 166.972 L91.5706 163.037 Z\" fill=\"#000000\" fill-rule=\"evenodd\" fill-opacity=\"1\" /><path clip-path=\"url(#clip790)\" d=\"M120.922 161.092 L125.807 161.092 L125.807 166.972 L120.922 166.972 L120.922 161.092 Z\" fill=\"#000000\" fill-rule=\"evenodd\" fill-opacity=\"1\" /><path clip-path=\"url(#clip790)\" d=\"M145.992 135.49 Q142.381 135.49 140.552 139.055 Q138.746 142.597 138.746 149.726 Q138.746 156.833 140.552 160.398 Q142.381 163.939 145.992 163.939 Q149.626 163.939 151.431 160.398 Q153.26 156.833 153.26 149.726 Q153.26 142.597 151.431 139.055 Q149.626 135.49 145.992 135.49 M145.992 131.787 Q151.802 131.787 154.857 136.393 Q157.936 140.976 157.936 149.726 Q157.936 158.453 154.857 163.06 Q151.802 167.643 145.992 167.643 Q140.181 167.643 137.103 163.06 Q134.047 158.453 134.047 149.726 Q134.047 140.976 137.103 136.393 Q140.181 131.787 145.992 131.787 Z\" fill=\"#000000\" fill-rule=\"evenodd\" fill-opacity=\"1\" /><polyline clip-path=\"url(#clip792)\" style=\"stroke:#009af9; stroke-linecap:butt; stroke-linejoin:round; stroke-width:8; stroke-opacity:1; fill:none\" points=\"\n  255.035,1240.77 275.607,1277.68 296.179,1310.85 316.751,1340.02 337.322,1364.98 357.894,1385.55 378.466,1401.58 399.038,1412.95 419.61,1419.57 440.182,1421.4 \n  460.754,1418.43 481.326,1410.67 501.898,1398.19 522.47,1381.07 543.042,1359.44 563.614,1333.46 584.186,1303.32 604.758,1269.25 625.33,1231.48 645.902,1190.3 \n  666.474,1146.02 687.046,1098.95 707.617,1049.44 728.189,997.858 748.761,944.579 769.333,889.995 789.905,834.508 810.477,778.523 831.049,722.453 851.621,666.709 \n  872.193,611.7 892.765,557.829 913.337,505.494 933.909,455.077 954.481,406.949 975.053,361.464 995.625,318.954 1016.2,279.733 1036.77,244.088 1057.34,212.281 \n  1077.91,184.546 1098.48,161.085 1119.06,142.072 1139.63,127.646 1160.2,117.912 1180.77,112.943 1201.34,112.775 1221.92,117.408 1242.49,126.81 1263.06,140.91 \n  1283.63,159.606 1304.2,182.76 1324.78,210.203 1345.35,241.732 1365.92,277.116 1386.49,316.095 1407.06,358.384 1427.64,403.672 1448.21,451.626 1468.78,501.894 \n  1489.35,554.108 1509.92,607.883 1530.5,662.826 1551.07,718.532 1571.64,774.592 1592.21,830.596 1612.78,886.132 1633.35,940.792 1653.93,994.175 1674.5,1045.89 \n  1695.07,1095.55 1715.64,1142.81 1736.21,1187.3 1756.79,1228.7 1777.36,1266.72 1797.93,1301.06 1818.5,1331.49 1839.07,1357.76 1859.65,1379.7 1880.22,1397.14 \n  1900.79,1409.95 1921.36,1418.04 1941.93,1421.35 1962.51,1419.86 1983.08,1413.57 2003.65,1402.53 2024.22,1386.82 2044.79,1366.57 2065.37,1341.91 2085.94,1313.02 \n  2106.51,1280.13 2127.08,1243.47 2147.65,1203.31 2168.23,1159.95 2188.8,1113.7 2209.37,1064.91 2229.94,1013.92 2250.51,961.123 2271.09,906.899 2291.66,851.646 \n  \n  \"/>\n<polyline clip-path=\"url(#clip792)\" style=\"stroke:#e26f46; stroke-linecap:butt; stroke-linejoin:round; stroke-width:8; stroke-opacity:1; fill:none\" points=\"\n  255.035,1228.43 275.607,1265.34 296.179,1298.51 316.751,1327.67 337.322,1352.64 357.894,1373.21 378.466,1389.23 399.038,1400.6 419.61,1407.23 440.182,1409.06 \n  460.754,1406.09 481.326,1398.33 501.898,1385.85 522.47,1368.73 543.042,1347.1 563.614,1321.12 584.186,1290.98 604.758,1256.9 625.33,1219.14 645.902,1177.96 \n  666.474,1133.68 687.046,1086.61 707.617,1037.1 728.189,985.515 748.761,932.236 769.333,877.652 789.905,822.165 810.477,766.18 831.049,710.11 851.621,654.366 \n  872.193,599.356 892.765,545.486 913.337,493.151 933.909,442.734 954.481,394.606 975.053,349.121 995.625,306.611 1016.2,267.39 1036.77,231.745 1057.34,199.938 \n  1077.91,172.203 1098.48,148.742 1119.06,129.729 1139.63,115.303 1160.2,105.569 1180.77,100.6 1201.34,100.432 1221.92,105.065 1242.49,114.467 1263.06,128.567 \n  1283.63,147.263 1304.2,170.417 1324.78,197.86 1345.35,229.389 1365.92,264.773 1386.49,303.752 1407.06,346.041 1427.64,391.329 1448.21,439.283 1468.78,489.551 \n  1489.35,541.765 1509.92,595.54 1530.5,650.483 1551.07,706.189 1571.64,762.249 1592.21,818.253 1612.78,873.789 1633.35,928.449 1653.93,981.832 1674.5,1033.55 \n  1695.07,1083.21 1715.64,1130.46 1736.21,1174.96 1756.79,1216.36 1777.36,1254.38 1797.93,1288.72 1818.5,1319.14 1839.07,1345.42 1859.65,1367.36 1880.22,1384.8 \n  1900.79,1397.61 1921.36,1405.7 1941.93,1409.01 1962.51,1407.51 1983.08,1401.22 2003.65,1390.18 2024.22,1374.48 2044.79,1354.22 2065.37,1329.56 2085.94,1300.68 \n  2106.51,1267.79 2127.08,1231.13 2147.65,1190.97 2168.23,1147.61 2188.8,1101.36 2209.37,1052.56 2229.94,1001.58 2250.51,948.78 2271.09,894.556 2291.66,839.303 \n  \n  \"/>\n<polyline clip-path=\"url(#clip792)\" style=\"stroke:#000000; stroke-linecap:butt; stroke-linejoin:round; stroke-width:4; stroke-opacity:1; fill:none\" stroke-dasharray=\"2, 4\" points=\"\n  1273.35,1445.72 1273.35,87.9763 \n  \"/>\n</svg>\n"
     },
     "execution_count": 47,
     "metadata": {
     },
     "output_type": "execute_result"
    }
   ],
   "source": [
    "plot(x,c1.*cos.(sqrt(2*k).*x).+c2.*sin.(sqrt(2*k).*x),line=2,leg=false)\n",
    "plot!(x,C.*cos.(w0.*x.-aa).+0.02,lw=2)\n",
    "plot!([0;0],[-1.1;1.1],linestyle=:dot,linecolor=:black)"
   ]
  },
  {
   "cell_type": "code",
   "execution_count": 41,
   "metadata": {
    "collapsed": false
   },
   "outputs": [
    {
     "data": {
      "text/plain": [
       "340.5287793655093"
      ]
     },
     "execution_count": 41,
     "metadata": {
     },
     "output_type": "execute_result"
    }
   ],
   "source": [
    "aa*180/pi"
   ]
  },
  {
   "cell_type": "code",
   "execution_count": 42,
   "metadata": {
    "collapsed": false
   },
   "outputs": [
    {
     "data": {
      "text/plain": [
       "2.2507907903927653"
      ]
     },
     "execution_count": 42,
     "metadata": {
     },
     "output_type": "execute_result"
    }
   ],
   "source": [
    "w0/(2*pi)"
   ]
  },
  {
   "cell_type": "code",
   "execution_count": 43,
   "metadata": {
    "collapsed": false
   },
   "outputs": [
    {
     "data": {
      "text/plain": [
       "0.44428829381583657"
      ]
     },
     "execution_count": 43,
     "metadata": {
     },
     "output_type": "execute_result"
    }
   ],
   "source": [
    "(2*pi)/w0"
   ]
  },
  {
   "cell_type": "code",
   "execution_count": 44,
   "metadata": {
    "collapsed": false
   },
   "outputs": [
    {
     "data": {
      "text/plain": [
       "0.4202581954985878"
      ]
     },
     "execution_count": 44,
     "metadata": {
     },
     "output_type": "execute_result"
    }
   ],
   "source": [
    "aa/w0"
   ]
  },
  {
   "cell_type": "markdown",
   "metadata": {
    "collapsed": false
   },
   "source": [
    "<h4>Free Damped Motion: Spring</h4>"
   ]
  },
  {
   "cell_type": "markdown",
   "metadata": {
    "collapsed": false
   },
   "source": [
    "The mass and spring of Example 1 are now attached also to a dashpot that provides $1\\,N$ of\n",
    "resistance for each metre per second of velocity. The mass is set in motion with the same\n",
    "initial position $x(0)=1$ and initial velocity $x'(0)=-5$ as in Example 1. Now find the\n",
    "position function of the mass, its new frequency and pseudoperiod of motion, its new time\n",
    "lag, and the times of its first four passages through the initial position $x=0$."
   ]
  },
  {
   "cell_type": "markdown",
   "metadata": {
    "collapsed": false
   },
   "source": [
    "The plot is beautiful and the calculations are good practice, but the results are all wrong, as the differential equation is not\n",
    "$$\n",
    "x''+x'+10x=0\n",
    "$$\n",
    "but\n",
    "$$\n",
    "x''+2x'+100x=0\n",
    "$$\n",
    "as I failed to square $\\omega_{0}$ and failed to divide by the mass for $p$. See Schmierbuch Krita 3442."
   ]
  },
  {
   "cell_type": "code",
   "execution_count": 48,
   "metadata": {
    "collapsed": false
   },
   "outputs": [
    {
     "data": {
      "text/plain": [
       "-1.4411533842457842"
      ]
     },
     "execution_count": 48,
     "metadata": {
     },
     "output_type": "execute_result"
    }
   ],
   "source": [
    "z=(-5+(1/2))*(2/sqrt(39))"
   ]
  },
  {
   "cell_type": "code",
   "execution_count": 54,
   "metadata": {
    "collapsed": false
   },
   "outputs": [
    {
     "data": {
      "text/plain": [
       "5.319001591959383"
      ]
     },
     "execution_count": 54,
     "metadata": {
     },
     "output_type": "execute_result"
    }
   ],
   "source": [
    "aa=atan(z)+2*pi"
   ]
  },
  {
   "cell_type": "code",
   "execution_count": 55,
   "metadata": {
    "collapsed": false
   },
   "outputs": [
    {
     "data": {
      "text/plain": [
       "304.7563424426387"
      ]
     },
     "execution_count": 55,
     "metadata": {
     },
     "output_type": "execute_result"
    }
   ],
   "source": [
    "aa*180/pi"
   ]
  },
  {
   "cell_type": "code",
   "execution_count": 56,
   "metadata": {
    "collapsed": false
   },
   "outputs": [
    {
     "data": {
      "text/plain": [
       "1.7541160386140586"
      ]
     },
     "execution_count": 56,
     "metadata": {
     },
     "output_type": "execute_result"
    }
   ],
   "source": [
    "C=1/cos(aa)"
   ]
  },
  {
   "cell_type": "code",
   "execution_count": 57,
   "metadata": {
    "collapsed": false
   },
   "outputs": [
   ],
   "source": [
    "using Plots"
   ]
  },
  {
   "cell_type": "code",
   "execution_count": 76,
   "metadata": {
    "collapsed": false
   },
   "outputs": [
    {
     "data": {
      "text/plain": [
       "2.2065012416405088"
      ]
     },
     "execution_count": 76,
     "metadata": {
     },
     "output_type": "execute_result"
    }
   ],
   "source": [
    "z3=((pi/2)+aa)*(2/sqrt(39))"
   ]
  },
  {
   "cell_type": "code",
   "execution_count": 77,
   "metadata": {
    "collapsed": false
   },
   "outputs": [
    {
     "data": {
      "text/plain": [
       "3.2126161048944253"
      ]
     },
     "execution_count": 77,
     "metadata": {
     },
     "output_type": "execute_result"
    }
   ],
   "source": [
    "z4=((3*pi/2)+aa)*(2/sqrt(39))"
   ]
  },
  {
   "cell_type": "code",
   "execution_count": 75,
   "metadata": {
    "collapsed": false
   },
   "outputs": [
    {
     "data": {
      "text/plain": [
       "1.2003863783865925"
      ]
     },
     "execution_count": 75,
     "metadata": {
     },
     "output_type": "execute_result"
    }
   ],
   "source": [
    "z2=((-pi/2)+aa)*(2/sqrt(39))"
   ]
  },
  {
   "cell_type": "code",
   "execution_count": 74,
   "metadata": {
    "collapsed": false
   },
   "outputs": [
    {
     "data": {
      "text/plain": [
       "0.19427151513267613"
      ]
     },
     "execution_count": 74,
     "metadata": {
     },
     "output_type": "execute_result"
    }
   ],
   "source": [
    "z1=(((-3)*pi/2)+aa)*(2/sqrt(39))"
   ]
  },
  {
   "cell_type": "code",
   "execution_count": 58,
   "metadata": {
    "collapsed": false
   },
   "outputs": [
    {
     "data": {
      "text/plain": [
       "-1.0:0.006006006006006006:5.0"
      ]
     },
     "execution_count": 58,
     "metadata": {
     },
     "output_type": "execute_result"
    }
   ],
   "source": [
    "t=range(-1,stop=5,length=1000)"
   ]
  },
  {
   "cell_type": "code",
   "execution_count": 79,
   "metadata": {
    "collapsed": false
   },
   "outputs": [
    {
     "data": {
      "image/svg+xml": "<?xml version=\"1.0\" encoding=\"utf-8\"?>\n<svg xmlns=\"http://www.w3.org/2000/svg\" xmlns:xlink=\"http://www.w3.org/1999/xlink\" width=\"600\" height=\"400\" viewBox=\"0 0 2400 1600\">\n<defs>\n  <clipPath id=\"clip990\">\n    <rect x=\"0\" y=\"0\" width=\"2400\" height=\"1600\"/>\n  </clipPath>\n</defs>\n<path clip-path=\"url(#clip990)\" d=\"\nM0 1600 L2400 1600 L2400 0 L0 0  Z\n  \" fill=\"#ffffff\" fill-rule=\"evenodd\" fill-opacity=\"1\"/>\n<defs>\n  <clipPath id=\"clip991\">\n    <rect x=\"480\" y=\"0\" width=\"1681\" height=\"1600\"/>\n  </clipPath>\n</defs>\n<path clip-path=\"url(#clip990)\" d=\"\nM147.478 1486.45 L2352.76 1486.45 L2352.76 47.2441 L147.478 47.2441  Z\n  \" fill=\"#ffffff\" fill-rule=\"evenodd\" fill-opacity=\"1\"/>\n<defs>\n  <clipPath id=\"clip992\">\n    <rect x=\"147\" y=\"47\" width=\"2206\" height=\"1440\"/>\n  </clipPath>\n</defs>\n<polyline clip-path=\"url(#clip992)\" style=\"stroke:#000000; stroke-linecap:butt; stroke-linejoin:round; stroke-width:2; stroke-opacity:0.1; fill:none\" points=\"\n  209.891,1486.45 209.891,47.2441 \n  \"/>\n<polyline clip-path=\"url(#clip992)\" style=\"stroke:#000000; stroke-linecap:butt; stroke-linejoin:round; stroke-width:2; stroke-opacity:0.1; fill:none\" points=\"\n  556.633,1486.45 556.633,47.2441 \n  \"/>\n<polyline clip-path=\"url(#clip992)\" style=\"stroke:#000000; stroke-linecap:butt; stroke-linejoin:round; stroke-width:2; stroke-opacity:0.1; fill:none\" points=\"\n  903.375,1486.45 903.375,47.2441 \n  \"/>\n<polyline clip-path=\"url(#clip992)\" style=\"stroke:#000000; stroke-linecap:butt; stroke-linejoin:round; stroke-width:2; stroke-opacity:0.1; fill:none\" points=\"\n  1250.12,1486.45 1250.12,47.2441 \n  \"/>\n<polyline clip-path=\"url(#clip992)\" style=\"stroke:#000000; stroke-linecap:butt; stroke-linejoin:round; stroke-width:2; stroke-opacity:0.1; fill:none\" points=\"\n  1596.86,1486.45 1596.86,47.2441 \n  \"/>\n<polyline clip-path=\"url(#clip992)\" style=\"stroke:#000000; stroke-linecap:butt; stroke-linejoin:round; stroke-width:2; stroke-opacity:0.1; fill:none\" points=\"\n  1943.6,1486.45 1943.6,47.2441 \n  \"/>\n<polyline clip-path=\"url(#clip992)\" style=\"stroke:#000000; stroke-linecap:butt; stroke-linejoin:round; stroke-width:2; stroke-opacity:0.1; fill:none\" points=\"\n  2290.34,1486.45 2290.34,47.2441 \n  \"/>\n<polyline clip-path=\"url(#clip990)\" style=\"stroke:#000000; stroke-linecap:butt; stroke-linejoin:round; stroke-width:4; stroke-opacity:1; fill:none\" points=\"\n  147.478,1486.45 2352.76,1486.45 \n  \"/>\n<polyline clip-path=\"url(#clip990)\" style=\"stroke:#000000; stroke-linecap:butt; stroke-linejoin:round; stroke-width:4; stroke-opacity:1; fill:none\" points=\"\n  209.891,1486.45 209.891,1467.55 \n  \"/>\n<polyline clip-path=\"url(#clip990)\" style=\"stroke:#000000; stroke-linecap:butt; stroke-linejoin:round; stroke-width:4; stroke-opacity:1; fill:none\" points=\"\n  556.633,1486.45 556.633,1467.55 \n  \"/>\n<polyline clip-path=\"url(#clip990)\" style=\"stroke:#000000; stroke-linecap:butt; stroke-linejoin:round; stroke-width:4; stroke-opacity:1; fill:none\" points=\"\n  903.375,1486.45 903.375,1467.55 \n  \"/>\n<polyline clip-path=\"url(#clip990)\" style=\"stroke:#000000; stroke-linecap:butt; stroke-linejoin:round; stroke-width:4; stroke-opacity:1; fill:none\" points=\"\n  1250.12,1486.45 1250.12,1467.55 \n  \"/>\n<polyline clip-path=\"url(#clip990)\" style=\"stroke:#000000; stroke-linecap:butt; stroke-linejoin:round; stroke-width:4; stroke-opacity:1; fill:none\" points=\"\n  1596.86,1486.45 1596.86,1467.55 \n  \"/>\n<polyline clip-path=\"url(#clip990)\" style=\"stroke:#000000; stroke-linecap:butt; stroke-linejoin:round; stroke-width:4; stroke-opacity:1; fill:none\" points=\"\n  1943.6,1486.45 1943.6,1467.55 \n  \"/>\n<polyline clip-path=\"url(#clip990)\" style=\"stroke:#000000; stroke-linecap:butt; stroke-linejoin:round; stroke-width:4; stroke-opacity:1; fill:none\" points=\"\n  2290.34,1486.45 2290.34,1467.55 \n  \"/>\n<path clip-path=\"url(#clip990)\" d=\"M179.649 1530.29 L209.324 1530.29 L209.324 1534.23 L179.649 1534.23 L179.649 1530.29 Z\" fill=\"#000000\" fill-rule=\"evenodd\" fill-opacity=\"1\" /><path clip-path=\"url(#clip990)\" d=\"M220.227 1543.18 L227.866 1543.18 L227.866 1516.82 L219.556 1518.49 L219.556 1514.23 L227.82 1512.56 L232.495 1512.56 L232.495 1543.18 L240.134 1543.18 L240.134 1547.12 L220.227 1547.12 L220.227 1543.18 Z\" fill=\"#000000\" fill-rule=\"evenodd\" fill-opacity=\"1\" /><path clip-path=\"url(#clip990)\" d=\"M556.633 1515.64 Q553.022 1515.64 551.193 1519.2 Q549.388 1522.75 549.388 1529.87 Q549.388 1536.98 551.193 1540.55 Q553.022 1544.09 556.633 1544.09 Q560.268 1544.09 562.073 1540.55 Q563.902 1536.98 563.902 1529.87 Q563.902 1522.75 562.073 1519.2 Q560.268 1515.64 556.633 1515.64 M556.633 1511.93 Q562.443 1511.93 565.499 1516.54 Q568.578 1521.12 568.578 1529.87 Q568.578 1538.6 565.499 1543.21 Q562.443 1547.79 556.633 1547.79 Q550.823 1547.79 547.744 1543.21 Q544.689 1538.6 544.689 1529.87 Q544.689 1521.12 547.744 1516.54 Q550.823 1511.93 556.633 1511.93 Z\" fill=\"#000000\" fill-rule=\"evenodd\" fill-opacity=\"1\" /><path clip-path=\"url(#clip990)\" d=\"M893.757 1543.18 L901.396 1543.18 L901.396 1516.82 L893.086 1518.49 L893.086 1514.23 L901.35 1512.56 L906.026 1512.56 L906.026 1543.18 L913.664 1543.18 L913.664 1547.12 L893.757 1547.12 L893.757 1543.18 Z\" fill=\"#000000\" fill-rule=\"evenodd\" fill-opacity=\"1\" /><path clip-path=\"url(#clip990)\" d=\"M1244.77 1543.18 L1261.09 1543.18 L1261.09 1547.12 L1239.14 1547.12 L1239.14 1543.18 Q1241.81 1540.43 1246.39 1535.8 Q1251 1531.15 1252.18 1529.81 Q1254.42 1527.28 1255.3 1525.55 Q1256.2 1523.79 1256.2 1522.1 Q1256.2 1519.34 1254.26 1517.61 Q1252.34 1515.87 1249.24 1515.87 Q1247.04 1515.87 1244.58 1516.63 Q1242.15 1517.4 1239.38 1518.95 L1239.38 1514.23 Q1242.2 1513.09 1244.65 1512.51 Q1247.11 1511.93 1249.14 1511.93 Q1254.52 1511.93 1257.71 1514.62 Q1260.9 1517.31 1260.9 1521.8 Q1260.9 1523.93 1260.09 1525.85 Q1259.31 1527.74 1257.2 1530.34 Q1256.62 1531.01 1253.52 1534.23 Q1250.42 1537.42 1244.77 1543.18 Z\" fill=\"#000000\" fill-rule=\"evenodd\" fill-opacity=\"1\" /><path clip-path=\"url(#clip990)\" d=\"M1601.11 1528.49 Q1604.46 1529.2 1606.34 1531.47 Q1608.24 1533.74 1608.24 1537.07 Q1608.24 1542.19 1604.72 1544.99 Q1601.2 1547.79 1594.72 1547.79 Q1592.54 1547.79 1590.23 1547.35 Q1587.94 1546.93 1585.48 1546.08 L1585.48 1541.56 Q1587.43 1542.7 1589.74 1543.28 Q1592.06 1543.86 1594.58 1543.86 Q1598.98 1543.86 1601.27 1542.12 Q1603.58 1540.38 1603.58 1537.07 Q1603.58 1534.02 1601.43 1532.31 Q1599.3 1530.57 1595.48 1530.57 L1591.45 1530.57 L1591.45 1526.73 L1595.67 1526.73 Q1599.12 1526.73 1600.94 1525.36 Q1602.77 1523.97 1602.77 1521.38 Q1602.77 1518.72 1600.87 1517.31 Q1599 1515.87 1595.48 1515.87 Q1593.56 1515.87 1591.36 1516.29 Q1589.16 1516.7 1586.52 1517.58 L1586.52 1513.42 Q1589.19 1512.68 1591.5 1512.31 Q1593.84 1511.93 1595.9 1511.93 Q1601.22 1511.93 1604.32 1514.37 Q1607.43 1516.77 1607.43 1520.89 Q1607.43 1523.76 1605.78 1525.75 Q1604.14 1527.72 1601.11 1528.49 Z\" fill=\"#000000\" fill-rule=\"evenodd\" fill-opacity=\"1\" /><path clip-path=\"url(#clip990)\" d=\"M1946.61 1516.63 L1934.8 1535.08 L1946.61 1535.08 L1946.61 1516.63 M1945.38 1512.56 L1951.26 1512.56 L1951.26 1535.08 L1956.19 1535.08 L1956.19 1538.97 L1951.26 1538.97 L1951.26 1547.12 L1946.61 1547.12 L1946.61 1538.97 L1931.01 1538.97 L1931.01 1534.46 L1945.38 1512.56 Z\" fill=\"#000000\" fill-rule=\"evenodd\" fill-opacity=\"1\" /><path clip-path=\"url(#clip990)\" d=\"M2280.62 1512.56 L2298.98 1512.56 L2298.98 1516.5 L2284.9 1516.5 L2284.9 1524.97 Q2285.92 1524.62 2286.94 1524.46 Q2287.96 1524.27 2288.98 1524.27 Q2294.76 1524.27 2298.14 1527.44 Q2301.52 1530.62 2301.52 1536.03 Q2301.52 1541.61 2298.05 1544.71 Q2294.58 1547.79 2288.26 1547.79 Q2286.08 1547.79 2283.81 1547.42 Q2281.57 1547.05 2279.16 1546.31 L2279.16 1541.61 Q2281.25 1542.74 2283.47 1543.3 Q2285.69 1543.86 2288.17 1543.86 Q2292.17 1543.86 2294.51 1541.75 Q2296.85 1539.64 2296.85 1536.03 Q2296.85 1532.42 2294.51 1530.31 Q2292.17 1528.21 2288.17 1528.21 Q2286.29 1528.21 2284.42 1528.62 Q2282.56 1529.04 2280.62 1529.92 L2280.62 1512.56 Z\" fill=\"#000000\" fill-rule=\"evenodd\" fill-opacity=\"1\" /><polyline clip-path=\"url(#clip992)\" style=\"stroke:#000000; stroke-linecap:butt; stroke-linejoin:round; stroke-width:2; stroke-opacity:0.1; fill:none\" points=\"\n  147.478,1230.42 2352.76,1230.42 \n  \"/>\n<polyline clip-path=\"url(#clip992)\" style=\"stroke:#000000; stroke-linecap:butt; stroke-linejoin:round; stroke-width:2; stroke-opacity:0.1; fill:none\" points=\"\n  147.478,873.404 2352.76,873.404 \n  \"/>\n<polyline clip-path=\"url(#clip992)\" style=\"stroke:#000000; stroke-linecap:butt; stroke-linejoin:round; stroke-width:2; stroke-opacity:0.1; fill:none\" points=\"\n  147.478,516.392 2352.76,516.392 \n  \"/>\n<polyline clip-path=\"url(#clip992)\" style=\"stroke:#000000; stroke-linecap:butt; stroke-linejoin:round; stroke-width:2; stroke-opacity:0.1; fill:none\" points=\"\n  147.478,159.379 2352.76,159.379 \n  \"/>\n<polyline clip-path=\"url(#clip990)\" style=\"stroke:#000000; stroke-linecap:butt; stroke-linejoin:round; stroke-width:4; stroke-opacity:1; fill:none\" points=\"\n  147.478,1486.45 147.478,47.2441 \n  \"/>\n<polyline clip-path=\"url(#clip990)\" style=\"stroke:#000000; stroke-linecap:butt; stroke-linejoin:round; stroke-width:4; stroke-opacity:1; fill:none\" points=\"\n  147.478,1230.42 166.376,1230.42 \n  \"/>\n<polyline clip-path=\"url(#clip990)\" style=\"stroke:#000000; stroke-linecap:butt; stroke-linejoin:round; stroke-width:4; stroke-opacity:1; fill:none\" points=\"\n  147.478,873.404 166.376,873.404 \n  \"/>\n<polyline clip-path=\"url(#clip990)\" style=\"stroke:#000000; stroke-linecap:butt; stroke-linejoin:round; stroke-width:4; stroke-opacity:1; fill:none\" points=\"\n  147.478,516.392 166.376,516.392 \n  \"/>\n<polyline clip-path=\"url(#clip990)\" style=\"stroke:#000000; stroke-linecap:butt; stroke-linejoin:round; stroke-width:4; stroke-opacity:1; fill:none\" points=\"\n  147.478,159.379 166.376,159.379 \n  \"/>\n<path clip-path=\"url(#clip990)\" d=\"M50.9921 1230.87 L80.6679 1230.87 L80.6679 1234.8 L50.9921 1234.8 L50.9921 1230.87 Z\" fill=\"#000000\" fill-rule=\"evenodd\" fill-opacity=\"1\" /><path clip-path=\"url(#clip990)\" d=\"M91.5706 1243.76 L99.2095 1243.76 L99.2095 1217.4 L90.8993 1219.06 L90.8993 1214.8 L99.1632 1213.14 L103.839 1213.14 L103.839 1243.76 L111.478 1243.76 L111.478 1247.7 L91.5706 1247.7 L91.5706 1243.76 Z\" fill=\"#000000\" fill-rule=\"evenodd\" fill-opacity=\"1\" /><path clip-path=\"url(#clip990)\" d=\"M99.5335 859.203 Q95.9224 859.203 94.0937 862.768 Q92.2882 866.309 92.2882 873.439 Q92.2882 880.545 94.0937 884.11 Q95.9224 887.652 99.5335 887.652 Q103.168 887.652 104.973 884.11 Q106.802 880.545 106.802 873.439 Q106.802 866.309 104.973 862.768 Q103.168 859.203 99.5335 859.203 M99.5335 855.499 Q105.344 855.499 108.399 860.106 Q111.478 864.689 111.478 873.439 Q111.478 882.166 108.399 886.772 Q105.344 891.356 99.5335 891.356 Q93.7234 891.356 90.6447 886.772 Q87.5892 882.166 87.5892 873.439 Q87.5892 864.689 90.6447 860.106 Q93.7234 855.499 99.5335 855.499 Z\" fill=\"#000000\" fill-rule=\"evenodd\" fill-opacity=\"1\" /><path clip-path=\"url(#clip990)\" d=\"M91.5706 529.736 L99.2095 529.736 L99.2095 503.371 L90.8993 505.037 L90.8993 500.778 L99.1632 499.112 L103.839 499.112 L103.839 529.736 L111.478 529.736 L111.478 533.672 L91.5706 533.672 L91.5706 529.736 Z\" fill=\"#000000\" fill-rule=\"evenodd\" fill-opacity=\"1\" /><path clip-path=\"url(#clip990)\" d=\"M95.1586 172.724 L111.478 172.724 L111.478 176.659 L89.5336 176.659 L89.5336 172.724 Q92.1956 169.969 96.7789 165.339 Q101.385 160.687 102.566 159.344 Q104.811 156.821 105.691 155.085 Q106.594 153.326 106.594 151.636 Q106.594 148.881 104.649 147.145 Q102.728 145.409 99.6261 145.409 Q97.4271 145.409 94.9734 146.173 Q92.5428 146.937 89.7651 148.488 L89.7651 143.765 Q92.5891 142.631 95.0428 142.053 Q97.4965 141.474 99.5335 141.474 Q104.904 141.474 108.098 144.159 Q111.293 146.844 111.293 151.335 Q111.293 153.465 110.483 155.386 Q109.696 157.284 107.589 159.877 Q107.01 160.548 103.909 163.765 Q100.807 166.96 95.1586 172.724 Z\" fill=\"#000000\" fill-rule=\"evenodd\" fill-opacity=\"1\" /><polyline clip-path=\"url(#clip992)\" style=\"stroke:#009af9; stroke-linecap:butt; stroke-linejoin:round; stroke-width:8; stroke-opacity:1; fill:none\" points=\"\n  209.891,1445.72 211.974,1427.83 214.057,1409.86 216.139,1391.8 218.222,1373.66 220.304,1355.45 222.387,1337.17 224.469,1318.84 226.552,1300.46 228.634,1282.03 \n  230.717,1263.57 232.799,1245.07 234.882,1226.56 236.964,1208.03 239.047,1189.49 241.129,1170.94 243.212,1152.4 245.295,1133.87 247.377,1115.36 249.46,1096.87 \n  251.542,1078.42 253.625,1060 255.707,1041.62 257.79,1023.29 259.872,1005.02 261.955,986.807 264.037,968.666 266.12,950.598 268.202,932.611 270.285,914.711 \n  272.367,896.902 274.45,879.192 276.533,861.586 278.615,844.09 280.698,826.709 282.78,809.448 284.863,792.315 286.945,775.312 289.028,758.447 291.11,741.725 \n  293.193,725.149 295.275,708.727 297.358,692.462 299.44,676.359 301.523,660.424 303.605,644.66 305.688,629.074 307.771,613.668 309.853,598.449 311.936,583.419 \n  314.018,568.583 316.101,553.946 318.183,539.512 320.266,525.284 322.348,511.266 324.431,497.463 326.513,483.877 328.596,470.513 330.678,457.374 332.761,444.463 \n  334.843,431.783 336.926,419.339 339.009,407.132 341.091,395.166 343.174,383.444 345.256,371.968 347.339,360.741 349.421,349.765 351.504,339.044 353.586,328.579 \n  355.669,318.373 357.751,308.427 359.834,298.744 361.916,289.326 363.999,280.174 366.081,271.291 368.164,262.677 370.247,254.334 372.329,246.264 374.412,238.468 \n  376.494,230.946 378.577,223.701 380.659,216.733 382.742,210.043 384.824,203.631 386.907,197.499 388.989,191.647 391.072,186.074 393.154,180.783 395.237,175.772 \n  397.319,171.042 399.402,166.592 401.485,162.424 403.567,158.536 405.65,154.929 407.732,151.602 409.815,148.554 411.897,145.785 413.98,143.294 416.062,141.081 \n  418.145,139.145 420.227,137.484 422.31,136.097 424.392,134.985 426.475,134.144 428.557,133.574 430.64,133.274 432.723,133.242 434.805,133.476 436.888,133.975 \n  438.97,134.736 441.053,135.759 443.135,137.041 445.218,138.58 447.3,140.375 449.383,142.422 451.465,144.719 453.548,147.265 455.63,150.057 457.713,153.092 \n  459.795,156.369 461.878,159.883 463.961,163.633 466.043,167.616 468.126,171.828 470.208,176.268 472.291,180.932 474.373,185.817 476.456,190.92 478.538,196.238 \n  480.621,201.768 482.703,207.506 484.786,213.449 486.868,219.594 488.951,225.937 491.033,232.475 493.116,239.205 495.199,246.122 497.281,253.224 499.364,260.506 \n  501.446,267.964 503.529,275.596 505.611,283.397 507.694,291.364 509.776,299.492 511.859,307.778 513.941,316.218 516.024,324.807 518.106,333.543 520.189,342.42 \n  522.271,351.435 524.354,360.584 526.437,369.862 528.519,379.266 530.602,388.792 532.684,398.434 534.767,408.19 536.849,418.054 538.932,428.024 541.014,438.093 \n  543.097,448.259 545.179,458.517 547.262,468.863 549.344,479.293 551.427,489.801 553.509,500.385 555.592,511.039 557.675,521.76 559.757,532.543 561.84,543.384 \n  563.922,554.279 566.005,565.224 568.087,576.214 570.17,587.245 572.252,598.312 574.335,609.413 576.417,620.542 578.5,631.695 580.582,642.868 582.665,654.057 \n  584.747,665.258 586.83,676.467 588.913,687.68 590.995,698.892 593.078,710.1 595.16,721.3 597.243,732.487 599.325,743.658 601.408,754.809 603.49,765.935 \n  605.573,777.034 607.655,788.1 609.738,799.132 611.82,810.123 613.903,821.072 615.985,831.974 618.068,842.826 620.151,853.623 622.233,864.364 624.316,875.043 \n  626.398,885.657 628.481,896.204 630.563,906.679 632.646,917.079 634.728,927.402 636.811,937.643 638.893,947.8 640.976,957.869 643.058,967.848 645.141,977.733 \n  647.223,987.521 649.306,997.209 651.389,1006.8 653.471,1016.28 655.554,1025.65 657.636,1034.91 659.719,1044.06 661.801,1053.09 663.884,1062 665.966,1070.8 \n  668.049,1079.46 670.131,1088.01 672.214,1096.42 674.296,1104.7 676.379,1112.85 678.461,1120.87 680.544,1128.75 682.627,1136.49 684.709,1144.09 686.792,1151.54 \n  688.874,1158.85 690.957,1166.02 693.039,1173.04 695.122,1179.9 697.204,1186.62 699.287,1193.18 701.369,1199.59 703.452,1205.84 705.534,1211.94 707.617,1217.88 \n  709.699,1223.65 711.782,1229.27 713.865,1234.73 715.947,1240.02 718.03,1245.15 720.112,1250.12 722.195,1254.92 724.277,1259.55 726.36,1264.02 728.442,1268.32 \n  730.525,1272.45 732.607,1276.41 734.69,1280.21 736.772,1283.84 738.855,1287.29 740.937,1290.58 743.02,1293.7 745.103,1296.65 747.185,1299.43 749.268,1302.03 \n  751.35,1304.47 753.433,1306.74 755.515,1308.84 757.598,1310.77 759.68,1312.53 761.763,1314.13 763.845,1315.55 765.928,1316.81 768.01,1317.9 770.093,1318.82 \n  772.175,1319.58 774.258,1320.18 776.341,1320.61 778.423,1320.87 780.506,1320.98 782.588,1320.92 784.671,1320.7 786.753,1320.32 788.836,1319.78 790.918,1319.09 \n  793.001,1318.24 795.083,1317.23 797.166,1316.07 799.248,1314.76 801.331,1313.3 803.413,1311.69 805.496,1309.93 807.579,1308.03 809.661,1305.97 811.744,1303.78 \n  813.826,1301.45 815.909,1298.97 817.991,1296.36 820.074,1293.61 822.156,1290.72 824.239,1287.7 826.321,1284.55 828.404,1281.28 830.486,1277.87 832.569,1274.34 \n  834.651,1270.69 836.734,1266.92 838.817,1263.02 840.899,1259.01 842.982,1254.89 845.064,1250.65 847.147,1246.31 849.229,1241.85 851.312,1237.29 853.394,1232.63 \n  855.477,1227.86 857.559,1223 859.642,1218.03 861.724,1212.98 863.807,1207.83 865.889,1202.6 867.972,1197.27 870.055,1191.86 872.137,1186.37 874.22,1180.8 \n  876.302,1175.15 878.385,1169.43 880.467,1163.64 882.55,1157.77 884.632,1151.84 886.715,1145.85 888.797,1139.79 890.88,1133.67 892.962,1127.5 895.045,1121.27 \n  897.127,1114.99 899.21,1108.66 901.293,1102.28 903.375,1095.86 905.458,1089.4 907.54,1082.9 909.623,1076.36 911.705,1069.79 913.788,1063.19 915.87,1056.56 \n  917.953,1049.9 920.035,1043.22 922.118,1036.51 924.2,1029.79 926.283,1023.06 928.365,1016.31 930.448,1009.55 932.531,1002.78 934.613,996 936.696,989.221 \n  938.778,982.441 940.861,975.662 942.943,968.887 945.026,962.118 947.108,955.358 949.191,948.608 951.273,941.873 953.356,935.153 955.438,928.45 957.521,921.769 \n  959.603,915.11 961.686,908.475 963.769,901.868 965.851,895.29 967.934,888.744 970.016,882.231 972.099,875.755 974.181,869.316 976.264,862.917 978.346,856.56 \n  980.429,850.248 982.511,843.981 984.594,837.763 986.676,831.594 988.759,825.478 990.841,819.416 992.924,813.409 995.007,807.46 997.089,801.57 999.172,795.741 \n  1001.25,789.975 1003.34,784.274 1005.42,778.638 1007.5,773.071 1009.58,767.573 1011.67,762.146 1013.75,756.791 1015.83,751.511 1017.91,746.306 1020,741.178 \n  1022.08,736.128 1024.16,731.158 1026.24,726.268 1028.33,721.461 1030.41,716.737 1032.49,712.098 1034.57,707.545 1036.66,703.078 1038.74,698.7 1040.82,694.41 \n  1042.9,690.211 1044.99,686.103 1047.07,682.087 1049.15,678.163 1051.23,674.333 1053.32,670.598 1055.4,666.958 1057.48,663.414 1059.57,659.967 1061.65,656.617 \n  1063.73,653.365 1065.81,650.212 1067.9,647.158 1069.98,644.204 1072.06,641.35 1074.14,638.596 1076.23,635.943 1078.31,633.392 1080.39,630.942 1082.47,628.594 \n  1084.56,626.348 1086.64,624.204 1088.72,622.163 1090.8,620.225 1092.89,618.389 1094.97,616.656 1097.05,615.025 1099.13,613.497 1101.22,612.072 1103.3,610.749 \n  1105.38,609.529 1107.46,608.411 1109.55,607.395 1111.63,606.48 1113.71,605.668 1115.79,604.956 1117.88,604.345 1119.96,603.834 1122.04,603.424 1124.12,603.113 \n  1126.21,602.901 1128.29,602.788 1130.37,602.772 1132.45,602.854 1134.54,603.033 1136.62,603.308 1138.7,603.679 1140.78,604.144 1142.87,604.704 1144.95,605.356 \n  1147.03,606.101 1149.11,606.938 1151.2,607.866 1153.28,608.883 1155.36,609.99 1157.44,611.185 1159.53,612.467 1161.61,613.835 1163.69,615.288 1165.77,616.825 \n  1167.86,618.445 1169.94,620.148 1172.02,621.931 1174.1,623.794 1176.19,625.736 1178.27,627.755 1180.35,629.85 1182.43,632.02 1184.52,634.265 1186.6,636.581 \n  1188.68,638.969 1190.76,641.427 1192.85,643.954 1194.93,646.548 1197.01,649.208 1199.09,651.933 1201.18,654.721 1203.26,657.572 1205.34,660.482 1207.42,663.452 \n  1209.51,666.48 1211.59,669.564 1213.67,672.702 1215.76,675.894 1217.84,679.138 1219.92,682.433 1222,685.776 1224.09,689.167 1226.17,692.604 1228.25,696.085 \n  1230.33,699.609 1232.42,703.175 1234.5,706.78 1236.58,710.424 1238.66,714.105 1240.75,717.82 1242.83,721.57 1244.91,725.352 1246.99,729.164 1249.08,733.005 \n  1251.16,736.874 1253.24,740.769 1255.32,744.688 1257.41,748.63 1259.49,752.593 1261.57,756.576 1263.65,760.577 1265.74,764.595 1267.82,768.627 1269.9,772.674 \n  1271.98,776.732 1274.07,780.801 1276.15,784.878 1278.23,788.964 1280.31,793.055 1282.4,797.15 1284.48,801.248 1286.56,805.348 1288.64,809.448 1290.73,813.546 \n  1292.81,817.641 1294.89,821.732 1296.97,825.816 1299.06,829.894 1301.14,833.962 1303.22,838.021 1305.3,842.068 1307.39,846.102 1309.47,850.121 1311.55,854.125 \n  1313.63,858.112 1315.72,862.08 1317.8,866.029 1319.88,869.957 1321.96,873.862 1324.05,877.744 1326.13,881.601 1328.21,885.432 1330.29,889.236 1332.38,893.011 \n  1334.46,896.757 1336.54,900.472 1338.62,904.155 1340.71,907.805 1342.79,911.42 1344.87,915 1346.95,918.544 1349.04,922.051 1351.12,925.519 1353.2,928.947 \n  1355.28,932.335 1357.37,935.681 1359.45,938.985 1361.53,942.246 1363.61,945.462 1365.7,948.633 1367.78,951.758 1369.86,954.836 1371.95,957.867 1374.03,960.849 \n  1376.11,963.781 1378.19,966.664 1380.28,969.496 1382.36,972.276 1384.44,975.004 1386.52,977.679 1388.61,980.301 1390.69,982.869 1392.77,985.381 1394.85,987.839 \n  1396.94,990.24 1399.02,992.586 1401.1,994.874 1403.18,997.105 1405.27,999.278 1407.35,1001.39 1409.43,1003.45 1411.51,1005.45 1413.6,1007.38 1415.68,1009.26 \n  1417.76,1011.08 1419.84,1012.84 1421.93,1014.53 1424.01,1016.17 1426.09,1017.74 1428.17,1019.26 1430.26,1020.71 1432.34,1022.1 1434.42,1023.43 1436.5,1024.69 \n  1438.59,1025.9 1440.67,1027.04 1442.75,1028.12 1444.83,1029.14 1446.92,1030.09 1449,1030.99 1451.08,1031.82 1453.16,1032.59 1455.25,1033.3 1457.33,1033.94 \n  1459.41,1034.53 1461.49,1035.05 1463.58,1035.51 1465.66,1035.92 1467.74,1036.26 1469.82,1036.53 1471.91,1036.75 1473.99,1036.91 1476.07,1037.01 1478.15,1037.05 \n  1480.24,1037.03 1482.32,1036.96 1484.4,1036.82 1486.48,1036.62 1488.57,1036.37 1490.65,1036.06 1492.73,1035.7 1494.81,1035.28 1496.9,1034.8 1498.98,1034.27 \n  1501.06,1033.68 1503.14,1033.04 1505.23,1032.34 1507.31,1031.6 1509.39,1030.8 1511.47,1029.94 1513.56,1029.04 1515.64,1028.09 1517.72,1027.08 1519.8,1026.03 \n  1521.89,1024.93 1523.97,1023.78 1526.05,1022.58 1528.14,1021.34 1530.22,1020.05 1532.3,1018.72 1534.38,1017.34 1536.47,1015.92 1538.55,1014.45 1540.63,1012.94 \n  1542.71,1011.4 1544.8,1009.81 1546.88,1008.18 1548.96,1006.52 1551.04,1004.81 1553.13,1003.07 1555.21,1001.29 1557.29,999.48 1559.37,997.633 1561.46,995.752 \n  1563.54,993.839 1565.62,991.893 1567.7,989.917 1569.79,987.91 1571.87,985.875 1573.95,983.811 1576.03,981.72 1578.12,979.602 1580.2,977.459 1582.28,975.291 \n  1584.36,973.1 1586.45,970.885 1588.53,968.649 1590.61,966.393 1592.69,964.116 1594.78,961.82 1596.86,959.506 1598.94,957.176 1601.02,954.828 1603.11,952.466 \n  1605.19,950.09 1607.27,947.7 1609.35,945.297 1611.44,942.884 1613.52,940.459 1615.6,938.025 1617.68,935.583 1619.77,933.132 1621.85,930.675 1623.93,928.212 \n  1626.01,925.744 1628.1,923.272 1630.18,920.797 1632.26,918.32 1634.34,915.841 1636.43,913.362 1638.51,910.883 1640.59,908.406 1642.67,905.931 1644.76,903.459 \n  1646.84,900.991 1648.92,898.528 1651,896.071 1653.09,893.62 1655.17,891.177 1657.25,888.741 1659.33,886.315 1661.42,883.899 1663.5,881.494 1665.58,879.1 \n  1667.66,876.718 1669.75,874.349 1671.83,871.995 1673.91,869.654 1676,867.33 1678.08,865.021 1680.16,862.729 1682.24,860.455 1684.33,858.199 1686.41,855.961 \n  1688.49,853.744 1690.57,851.547 1692.66,849.371 1694.74,847.217 1696.82,845.085 1698.9,842.976 1700.99,840.89 1703.07,838.829 1705.15,836.792 1707.23,834.781 \n  1709.32,832.796 1711.4,830.837 1713.48,828.905 1715.56,827.001 1717.65,825.125 1719.73,823.277 1721.81,821.459 1723.89,819.67 1725.98,817.911 1728.06,816.183 \n  1730.14,814.486 1732.22,812.82 1734.31,811.185 1736.39,809.583 1738.47,808.014 1740.55,806.477 1742.64,804.974 1744.72,803.504 1746.8,802.068 1748.88,800.667 \n  1750.97,799.3 1753.05,797.968 1755.13,796.671 1757.21,795.409 1759.3,794.183 1761.38,792.992 1763.46,791.838 1765.54,790.72 1767.63,789.639 1769.71,788.594 \n  1771.79,787.586 1773.87,786.614 1775.96,785.68 1778.04,784.783 1780.12,783.923 1782.2,783.101 1784.29,782.315 1786.37,781.568 1788.45,780.858 1790.53,780.185 \n  1792.62,779.55 1794.7,778.952 1796.78,778.392 1798.86,777.87 1800.95,777.385 1803.03,776.937 1805.11,776.527 1807.19,776.154 1809.28,775.819 1811.36,775.52 \n  1813.44,775.258 1815.52,775.034 1817.61,774.846 1819.69,774.694 1821.77,774.579 1823.85,774.501 1825.94,774.458 1828.02,774.451 1830.1,774.48 1832.19,774.544 \n  1834.27,774.643 1836.35,774.777 1838.43,774.946 1840.52,775.149 1842.6,775.387 1844.68,775.658 1846.76,775.963 1848.85,776.301 1850.93,776.672 1853.01,777.075 \n  1855.09,777.511 1857.18,777.978 1859.26,778.477 1861.34,779.008 1863.42,779.569 1865.51,780.16 1867.59,780.781 1869.67,781.432 1871.75,782.112 1873.84,782.821 \n  1875.92,783.559 1878,784.324 1880.08,785.116 1882.17,785.936 1884.25,786.782 1886.33,787.654 1888.41,788.552 1890.5,789.475 1892.58,790.423 1894.66,791.394 \n  1896.74,792.39 1898.83,793.408 1900.91,794.45 1902.99,795.513 1905.07,796.598 1907.16,797.705 1909.24,798.831 1911.32,799.978 1913.4,801.145 1915.49,802.33 \n  1917.57,803.534 1919.65,804.756 1921.73,805.995 1923.82,807.251 1925.9,808.523 1927.98,809.811 1930.06,811.115 1932.15,812.432 1934.23,813.764 1936.31,815.109 \n  1938.39,816.468 1940.48,817.838 1942.56,819.22 1944.64,820.614 1946.72,822.018 1948.81,823.432 1950.89,824.856 1952.97,826.289 1955.05,827.73 1957.14,829.179 \n  1959.22,830.635 1961.3,832.097 1963.38,833.566 1965.47,835.04 1967.55,836.52 1969.63,838.003 1971.71,839.491 1973.8,840.982 1975.88,842.475 1977.96,843.971 \n  1980.04,845.469 1982.13,846.967 1984.21,848.466 1986.29,849.965 1988.38,851.464 1990.46,852.961 1992.54,854.457 1994.62,855.95 1996.71,857.441 1998.79,858.929 \n  2000.87,860.413 2002.95,861.893 2005.04,863.368 2007.12,864.838 2009.2,866.302 2011.28,867.76 2013.37,869.211 2015.45,870.655 2017.53,872.092 2019.61,873.52 \n  2021.7,874.94 2023.78,876.35 2025.86,877.752 2027.94,879.143 2030.03,880.524 2032.11,881.894 2034.19,883.252 2036.27,884.599 2038.36,885.934 2040.44,887.257 \n  2042.52,888.566 2044.6,889.862 2046.69,891.145 2048.77,892.413 2050.85,893.668 2052.93,894.907 2055.02,896.131 2057.1,897.34 2059.18,898.532 2061.26,899.709 \n  2063.35,900.869 2065.43,902.012 2067.51,903.138 2069.59,904.247 2071.68,905.338 2073.76,906.411 2075.84,907.466 2077.92,908.502 2080.01,909.519 2082.09,910.517 \n  2084.17,911.496 2086.25,912.455 2088.34,913.395 2090.42,914.314 2092.5,915.214 2094.58,916.092 2096.67,916.951 2098.75,917.788 2100.83,918.605 2102.91,919.4 \n  2105,920.174 2107.08,920.927 2109.16,921.657 2111.24,922.367 2113.33,923.054 2115.41,923.72 2117.49,924.363 2119.57,924.984 2121.66,925.583 2123.74,926.159 \n  2125.82,926.714 2127.9,927.245 2129.99,927.754 2132.07,928.241 2134.15,928.705 2136.23,929.146 2138.32,929.564 2140.4,929.96 2142.48,930.333 2144.57,930.683 \n  2146.65,931.011 2148.73,931.316 2150.81,931.598 2152.9,931.858 2154.98,932.095 2157.06,932.31 2159.14,932.502 2161.23,932.672 2163.31,932.819 2165.39,932.944 \n  2167.47,933.047 2169.56,933.128 2171.64,933.187 2173.72,933.225 2175.8,933.24 2177.89,933.234 2179.97,933.206 2182.05,933.157 2184.13,933.087 2186.22,932.995 \n  2188.3,932.883 2190.38,932.75 2192.46,932.597 2194.55,932.423 2196.63,932.229 2198.71,932.015 2200.79,931.781 2202.88,931.528 2204.96,931.255 2207.04,930.963 \n  2209.12,930.652 2211.21,930.323 2213.29,929.975 2215.37,929.608 2217.45,929.224 2219.54,928.822 2221.62,928.402 2223.7,927.965 2225.78,927.511 2227.87,927.041 \n  2229.95,926.554 2232.03,926.05 2234.11,925.531 2236.2,924.996 2238.28,924.446 2240.36,923.88 2242.44,923.3 2244.53,922.706 2246.61,922.097 2248.69,921.474 \n  2250.77,920.838 2252.86,920.189 2254.94,919.527 2257.02,918.852 2259.1,918.164 2261.19,917.465 2263.27,916.754 2265.35,916.032 2267.43,915.299 2269.52,914.555 \n  2271.6,913.801 2273.68,913.036 2275.76,912.262 2277.85,911.479 2279.93,910.687 2282.01,909.886 2284.09,909.076 2286.18,908.259 2288.26,907.434 2290.34,906.602 \n  \n  \"/>\n<polyline clip-path=\"url(#clip992)\" style=\"stroke:#000000; stroke-linecap:butt; stroke-linejoin:round; stroke-width:4; stroke-opacity:1; fill:none\" stroke-dasharray=\"16, 10\" points=\"\n  209.891,873.404 2290.34,873.404 \n  \"/>\n<polyline clip-path=\"url(#clip992)\" style=\"stroke:#000000; stroke-linecap:butt; stroke-linejoin:round; stroke-width:4; stroke-opacity:1; fill:none\" stroke-dasharray=\"2, 4\" points=\"\n  623.995,1373.22 623.995,87.9763 \n  \"/>\n<polyline clip-path=\"url(#clip992)\" style=\"stroke:#000000; stroke-linecap:butt; stroke-linejoin:round; stroke-width:4; stroke-opacity:1; fill:none\" stroke-dasharray=\"2, 4\" points=\"\n  972.857,1373.22 972.857,87.9763 \n  \"/>\n<polyline clip-path=\"url(#clip992)\" style=\"stroke:#000000; stroke-linecap:butt; stroke-linejoin:round; stroke-width:4; stroke-opacity:1; fill:none\" stroke-dasharray=\"2, 4\" points=\"\n  1321.72,1373.22 1321.72,87.9763 \n  \"/>\n<polyline clip-path=\"url(#clip992)\" style=\"stroke:#000000; stroke-linecap:butt; stroke-linejoin:round; stroke-width:4; stroke-opacity:1; fill:none\" stroke-dasharray=\"2, 4\" points=\"\n  1670.58,1373.22 1670.58,87.9763 \n  \"/>\n</svg>\n"
     },
     "execution_count": 79,
     "metadata": {
     },
     "output_type": "execute_result"
    }
   ],
   "source": [
    "plot(t,exp.(-0.5.*t).*C.*cos.((sqrt(39)/2).*t.-aa),line=2,leg=false)\n",
    "plot!([-1;5],[0;0],linestyle=:dash,linecolor=:black)\n",
    "plot!([z1;z1],[-1.4;2.2],linestyle=:dot,linecolor=:black)\n",
    "plot!([z2;z2],[-1.4;2.2],linestyle=:dot,linecolor=:black)\n",
    "plot!([z3;z3],[-1.4;2.2],linestyle=:dot,linecolor=:black)\n",
    "plot!([z4;z4],[-1.4;2.2],linestyle=:dot,linecolor=:black)"
   ]
  },
  {
   "cell_type": "code",
   "execution_count": 61,
   "metadata": {
    "collapsed": false
   },
   "outputs": [
    {
     "data": {
      "text/plain": [
       "2.012229726507833"
      ]
     },
     "execution_count": 61,
     "metadata": {
     },
     "output_type": "execute_result"
    }
   ],
   "source": [
    "(2*pi)/(sqrt(39)/2)"
   ]
  },
  {
   "cell_type": "code",
   "execution_count": 62,
   "metadata": {
    "collapsed": false
   },
   "outputs": [
    {
     "data": {
      "text/plain": [
       "1.7034438100135507"
      ]
     },
     "execution_count": 62,
     "metadata": {
     },
     "output_type": "execute_result"
    }
   ],
   "source": [
    "aa/(sqrt(39)/2)"
   ]
  },
  {
   "cell_type": "code",
   "execution_count": 65,
   "metadata": {
    "collapsed": false
   },
   "outputs": [
   ],
   "source": [
    "using Roots"
   ]
  },
  {
   "cell_type": "code",
   "execution_count": 66,
   "metadata": {
    "collapsed": false
   },
   "outputs": [
    {
     "data": {
      "text/plain": [
       "f (generic function with 1 method)"
      ]
     },
     "execution_count": 66,
     "metadata": {
     },
     "output_type": "execute_result"
    }
   ],
   "source": [
    "f(t)=exp(-0.5*t)*C*cos((sqrt(39)/2)-aa)"
   ]
  },
  {
   "cell_type": "code",
   "execution_count": 69,
   "metadata": {
    "collapsed": false
   },
   "outputs": [
    {
     "data": {
      "text/plain": [
       "52.786162656026775"
      ]
     },
     "execution_count": 69,
     "metadata": {
     },
     "output_type": "execute_result"
    }
   ],
   "source": [
    "find_zero(f,1)"
   ]
  },
  {
   "cell_type": "code",
   "execution_count": 70,
   "metadata": {
    "collapsed": false,
    "scrolled": true
   },
   "outputs": [
    {
     "data": {
      "text/plain": [
       "-3.542759162034382e-12"
      ]
     },
     "execution_count": 70,
     "metadata": {
     },
     "output_type": "execute_result"
    }
   ],
   "source": [
    "f(52.786162656026775)"
   ]
  },
  {
   "cell_type": "markdown",
   "metadata": {
    "collapsed": false
   },
   "source": [
    "<h4>Simple Harmonic Motion: EPC 181:2</h4>"
   ]
  },
  {
   "cell_type": "code",
   "execution_count": 80,
   "metadata": {
    "collapsed": false
   },
   "outputs": [
    {
     "data": {
      "text/plain": [
       "64.0"
      ]
     },
     "execution_count": 80,
     "metadata": {
     },
     "output_type": "execute_result"
    }
   ],
   "source": [
    "48*(4/3)"
   ]
  },
  {
   "cell_type": "code",
   "execution_count": 81,
   "metadata": {
    "collapsed": false
   },
   "outputs": [
    {
     "data": {
      "text/plain": [
       "86400"
      ]
     },
     "execution_count": 81,
     "metadata": {
     },
     "output_type": "execute_result"
    }
   ],
   "source": [
    "24*60*60"
   ]
  },
  {
   "cell_type": "code",
   "execution_count": 82,
   "metadata": {
    "collapsed": false
   },
   "outputs": [
    {
     "data": {
      "text/plain": [
       "86560"
      ]
     },
     "execution_count": 82,
     "metadata": {
     },
     "output_type": "execute_result"
    }
   ],
   "source": [
    "(24*60*60)+(2*60+40)"
   ]
  },
  {
   "cell_type": "code",
   "execution_count": 84,
   "metadata": {
    "collapsed": false
   },
   "outputs": [
    {
     "data": {
      "text/plain": [
       "7.3259259259257306"
      ]
     },
     "execution_count": 84,
     "metadata": {
     },
     "output_type": "execute_result"
    }
   ],
   "source": [
    "3956*(86560/86400)-3956"
   ]
  },
  {
   "cell_type": "code",
   "execution_count": 0,
   "metadata": {
    "collapsed": false
   },
   "outputs": [
   ],
   "source": [
   ]
  },
  {
   "cell_type": "code",
   "execution_count": 0,
   "metadata": {
    "collapsed": false
   },
   "outputs": [
   ],
   "source": [
   ]
  },
  {
   "cell_type": "code",
   "execution_count": 0,
   "metadata": {
    "collapsed": false
   },
   "outputs": [
   ],
   "source": [
   ]
  },
  {
   "cell_type": "code",
   "execution_count": 0,
   "metadata": {
    "collapsed": false
   },
   "outputs": [
   ],
   "source": [
   ]
  },
  {
   "cell_type": "code",
   "execution_count": 0,
   "metadata": {
    "collapsed": false
   },
   "outputs": [
   ],
   "source": [
   ]
  },
  {
   "cell_type": "code",
   "execution_count": 0,
   "metadata": {
    "collapsed": false
   },
   "outputs": [
   ],
   "source": [
   ]
  },
  {
   "cell_type": "code",
   "execution_count": 0,
   "metadata": {
    "collapsed": false
   },
   "outputs": [
   ],
   "source": [
   ]
  },
  {
   "cell_type": "code",
   "execution_count": 0,
   "metadata": {
    "collapsed": false
   },
   "outputs": [
   ],
   "source": [
   ]
  },
  {
   "cell_type": "code",
   "execution_count": 0,
   "metadata": {
    "collapsed": false
   },
   "outputs": [
   ],
   "source": [
   ]
  }
 ],
 "metadata": {
  "kernelspec": {
   "display_name": "Julia 1.6",
   "env": {
    "JULIA_DEPOT_PATH": "/home/user/.julia/:/ext/julia/depot/",
    "JULIA_PROJECT": "/home/user/.julia/environment/v1.6"
   },
   "language": "julia",
   "metadata": {
    "cocalc": {
     "description": "The Julia Programming Language",
     "priority": 1,
     "url": "https://julialang.org/"
    }
   },
   "name": "julia-1.6",
   "resource_dir": "/ext/jupyter/kernels/julia-1.6"
  },
  "language_info": {
   "file_extension": ".jl",
   "mimetype": "application/julia",
   "name": "julia",
   "version": "1.6.3"
  }
 },
 "nbformat": 4,
 "nbformat_minor": 4
}