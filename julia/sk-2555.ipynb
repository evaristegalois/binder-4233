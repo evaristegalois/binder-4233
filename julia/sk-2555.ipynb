{
 "cells": [
  {
   "cell_type": "code",
   "execution_count": 1,
   "id": "4d5419eb",
   "metadata": {},
   "outputs": [
    {
     "data": {
      "text/plain": [
       "f (generic function with 1 method)"
      ]
     },
     "execution_count": 1,
     "metadata": {},
     "output_type": "execute_result"
    }
   ],
   "source": [
    "f(x)=exp(-x^2)"
   ]
  },
  {
   "cell_type": "code",
   "execution_count": 2,
   "id": "4d5f2cc7",
   "metadata": {},
   "outputs": [
    {
     "data": {
      "text/plain": [
       "0.875"
      ]
     },
     "execution_count": 2,
     "metadata": {},
     "output_type": "execute_result"
    }
   ],
   "source": [
    "7/8"
   ]
  },
  {
   "cell_type": "code",
   "execution_count": 3,
   "id": "34ea9b73",
   "metadata": {},
   "outputs": [
    {
     "data": {
      "text/plain": [
       "0.7487471318910093"
      ]
     },
     "execution_count": 3,
     "metadata": {},
     "output_type": "execute_result"
    }
   ],
   "source": [
    "*(/(1,4),+(f(0.125),f(0.375),f(0.625),f(0.875)))"
   ]
  },
  {
   "cell_type": "code",
   "execution_count": 4,
   "id": "3a3c2883",
   "metadata": {},
   "outputs": [
    {
     "data": {
      "text/plain": [
       "0.7429840978003812"
      ]
     },
     "execution_count": 4,
     "metadata": {},
     "output_type": "execute_result"
    }
   ],
   "source": [
    "*(/(1,8),+(f(0),*(2,f(0.25)),*(2,f(0.5)),*(2,f(0.75)),f(1)))"
   ]
  },
  {
   "cell_type": "code",
   "execution_count": 7,
   "id": "36e14b98",
   "metadata": {},
   "outputs": [
    {
     "data": {
      "text/plain": [
       "0.7468553797909873"
      ]
     },
     "execution_count": 7,
     "metadata": {},
     "output_type": "execute_result"
    }
   ],
   "source": [
    "*(/(1,12),+(f(0),*(4,f(0.25)),*(2,f(0.5)),*(4,f(0.75)),*(1,f(1))))"
   ]
  },
  {
   "cell_type": "code",
   "execution_count": 8,
   "id": "5670e629",
   "metadata": {},
   "outputs": [],
   "source": [
    "using QuadGK"
   ]
  },
  {
   "cell_type": "code",
   "execution_count": 9,
   "id": "7260397c",
   "metadata": {},
   "outputs": [
    {
     "data": {
      "text/plain": [
       "(0.746824132812427, 7.887024366937112e-13)"
      ]
     },
     "execution_count": 9,
     "metadata": {},
     "output_type": "execute_result"
    }
   ],
   "source": [
    "integral,err=quadgk(x->exp(-x^2),0,1,rtol=1e-8)"
   ]
  },
  {
   "cell_type": "code",
   "execution_count": 10,
   "id": "65833015",
   "metadata": {},
   "outputs": [
    {
     "data": {
      "text/plain": [
       "2×2 Matrix{Int64}:\n",
       " -3  -3\n",
       "  2  -8"
      ]
     },
     "execution_count": 10,
     "metadata": {},
     "output_type": "execute_result"
    }
   ],
   "source": [
    "A1=[-3 -3\n",
    "2 -8]"
   ]
  },
  {
   "cell_type": "code",
   "execution_count": 12,
   "id": "bf61d2ee",
   "metadata": {},
   "outputs": [],
   "source": [
    "using LinearAlgebra"
   ]
  },
  {
   "cell_type": "code",
   "execution_count": 13,
   "id": "d6f8f1b3",
   "metadata": {},
   "outputs": [
    {
     "data": {
      "text/plain": [
       "2-element Vector{Float64}:\n",
       " -6.0\n",
       " -5.0"
      ]
     },
     "execution_count": 13,
     "metadata": {},
     "output_type": "execute_result"
    }
   ],
   "source": [
    "eigvals(A1)"
   ]
  },
  {
   "cell_type": "code",
   "execution_count": 14,
   "id": "55a463b5",
   "metadata": {},
   "outputs": [
    {
     "data": {
      "text/plain": [
       "2×2 Matrix{Float64}:\n",
       " 0.707107  0.83205\n",
       " 0.707107  0.5547"
      ]
     },
     "execution_count": 14,
     "metadata": {},
     "output_type": "execute_result"
    }
   ],
   "source": [
    "eigvecs(A1)"
   ]
  },
  {
   "cell_type": "code",
   "execution_count": 1,
   "id": "51513b97",
   "metadata": {},
   "outputs": [],
   "source": [
    "using SymPy"
   ]
  },
  {
   "cell_type": "code",
   "execution_count": 2,
   "id": "0126c826",
   "metadata": {},
   "outputs": [
    {
     "data": {
      "text/plain": [
       "(t,)"
      ]
     },
     "execution_count": 2,
     "metadata": {},
     "output_type": "execute_result"
    }
   ],
   "source": [
    "@vars t"
   ]
  },
  {
   "cell_type": "code",
   "execution_count": 3,
   "id": "6b877532",
   "metadata": {},
   "outputs": [
    {
     "data": {
      "text/plain": [
       "2×2 Matrix{Int64}:\n",
       "  0  1\n",
       " -1  0"
      ]
     },
     "execution_count": 3,
     "metadata": {},
     "output_type": "execute_result"
    }
   ],
   "source": [
    "A=[0 1\n",
    "-1 0]"
   ]
  },
  {
   "cell_type": "code",
   "execution_count": 4,
   "id": "e8fd3797",
   "metadata": {},
   "outputs": [
    {
     "data": {
      "text/latex": [
       "$\\left[ \\begin{array}{rr}\\frac{e^{i t}}{2} + \\frac{e^{- i t}}{2}&- \\frac{i e^{i t}}{2} + \\frac{i e^{- i t}}{2}\\\\\\frac{i e^{i t}}{2} - \\frac{i e^{- i t}}{2}&\\frac{e^{i t}}{2} + \\frac{e^{- i t}}{2}\\end{array}\\right]$\n"
      ],
      "text/plain": [
       "2×2 Matrix{Sym}:\n",
       "     exp(I*t)/2 + exp(-I*t)/2  -I*exp(I*t)/2 + I*exp(-I*t)/2\n",
       " I*exp(I*t)/2 - I*exp(-I*t)/2       exp(I*t)/2 + exp(-I*t)/2"
      ]
     },
     "execution_count": 4,
     "metadata": {},
     "output_type": "execute_result"
    }
   ],
   "source": [
    "exp(*(A,t))"
   ]
  },
  {
   "cell_type": "code",
   "execution_count": 14,
   "id": "e797b905",
   "metadata": {},
   "outputs": [
    {
     "data": {
      "text/plain": [
       "3-element Vector{Float64}:\n",
       " 0.5\n",
       " 0.7\n",
       " 0.4"
      ]
     },
     "execution_count": 14,
     "metadata": {},
     "output_type": "execute_result"
    }
   ],
   "source": [
    "v1=[0.5;0.7;0.4]"
   ]
  },
  {
   "cell_type": "code",
   "execution_count": 35,
   "id": "bacd6a1b",
   "metadata": {},
   "outputs": [
    {
     "data": {
      "text/plain": [
       "1.6899999999999997"
      ]
     },
     "execution_count": 35,
     "metadata": {},
     "output_type": "execute_result"
    }
   ],
   "source": [
    "v1=[1.7;0.25;0.5];+(^(v1[1],2),*(4,^(v1[2],2)),^(v1[3],2),*(-2,v1[1],v1[3]))"
   ]
  },
  {
   "cell_type": "code",
   "execution_count": 36,
   "id": "ded1818d",
   "metadata": {},
   "outputs": [
    {
     "data": {
      "text/plain": [
       "0.25"
      ]
     },
     "execution_count": 36,
     "metadata": {},
     "output_type": "execute_result"
    }
   ],
   "source": [
    "v1=[0.6;0.15;0.2];+(^(v1[1],2),*(4,^(v1[2],2)),^(v1[3],2),*(-2,v1[1],v1[3]))"
   ]
  },
  {
   "cell_type": "code",
   "execution_count": 26,
   "id": "d99450e6",
   "metadata": {},
   "outputs": [],
   "source": [
    "using SymPy"
   ]
  },
  {
   "cell_type": "code",
   "execution_count": 27,
   "id": "af7d8da5",
   "metadata": {},
   "outputs": [
    {
     "data": {
      "text/plain": [
       "(k,)"
      ]
     },
     "execution_count": 27,
     "metadata": {},
     "output_type": "execute_result"
    }
   ],
   "source": [
    "@vars k"
   ]
  },
  {
   "cell_type": "code",
   "execution_count": 28,
   "id": "e65f3a2f",
   "metadata": {},
   "outputs": [
    {
     "data": {
      "text/plain": [
       "0.5"
      ]
     },
     "execution_count": 28,
     "metadata": {},
     "output_type": "execute_result"
    }
   ],
   "source": [
    "k1=0.5"
   ]
  },
  {
   "cell_type": "code",
   "execution_count": 29,
   "id": "5dfbd455",
   "metadata": {},
   "outputs": [
    {
     "data": {
      "text/plain": [
       "0.4"
      ]
     },
     "execution_count": 29,
     "metadata": {},
     "output_type": "execute_result"
    }
   ],
   "source": [
    "k3=0.4"
   ]
  },
  {
   "cell_type": "code",
   "execution_count": 30,
   "id": "fe2af0b9",
   "metadata": {},
   "outputs": [
    {
     "data": {
      "text/plain": [
       "F (generic function with 1 method)"
      ]
     },
     "execution_count": 30,
     "metadata": {},
     "output_type": "execute_result"
    }
   ],
   "source": [
    "F(k)=+(^(k1,2),*(4,^(k,2)),^(k3,2),*(-2,k1,k3))"
   ]
  },
  {
   "cell_type": "code",
   "execution_count": 32,
   "id": "b1564622",
   "metadata": {},
   "outputs": [
    {
     "data": {
      "text/latex": [
       "$\\left\\{-0.698212002188447, 0.698212002188447\\right\\}$"
      ],
      "text/plain": [
       "{-0.698212002188447, 0.698212002188447}"
      ]
     },
     "execution_count": 32,
     "metadata": {},
     "output_type": "execute_result"
    }
   ],
   "source": [
    "SymPy.solveset(F(k)-1.96,k)"
   ]
  },
  {
   "cell_type": "code",
   "execution_count": 33,
   "id": "a50d1934",
   "metadata": {},
   "outputs": [
    {
     "data": {
      "text/plain": [
       "1.6900000000000002"
      ]
     },
     "execution_count": 33,
     "metadata": {},
     "output_type": "execute_result"
    }
   ],
   "source": [
    "^(1.3,2)"
   ]
  },
  {
   "cell_type": "code",
   "execution_count": 34,
   "id": "252612d0",
   "metadata": {},
   "outputs": [
    {
     "data": {
      "text/plain": [
       "0.5"
      ]
     },
     "execution_count": 34,
     "metadata": {},
     "output_type": "execute_result"
    }
   ],
   "source": [
    "^(0.25,0.5)"
   ]
  },
  {
   "cell_type": "code",
   "execution_count": 1,
   "id": "925e822f",
   "metadata": {},
   "outputs": [
    {
     "data": {
      "text/plain": [
       "2×2 Matrix{Int64}:\n",
       "  20  -16\n",
       " -16   20"
      ]
     },
     "execution_count": 1,
     "metadata": {},
     "output_type": "execute_result"
    }
   ],
   "source": [
    "A1=[20 -16\n",
    "-16 20]"
   ]
  },
  {
   "cell_type": "code",
   "execution_count": 3,
   "id": "5fcca1a5",
   "metadata": {},
   "outputs": [],
   "source": [
    "using LinearAlgebra"
   ]
  },
  {
   "cell_type": "code",
   "execution_count": 4,
   "id": "fedb073e",
   "metadata": {},
   "outputs": [
    {
     "data": {
      "text/plain": [
       "2-element Vector{Float64}:\n",
       "  4.0\n",
       " 36.0"
      ]
     },
     "execution_count": 4,
     "metadata": {},
     "output_type": "execute_result"
    }
   ],
   "source": [
    "eigvals(A1)"
   ]
  },
  {
   "cell_type": "code",
   "execution_count": 5,
   "id": "af44e1f7",
   "metadata": {},
   "outputs": [
    {
     "data": {
      "text/plain": [
       "2×2 Matrix{Int64}:\n",
       "  20  -16\n",
       " -16   20"
      ]
     },
     "execution_count": 5,
     "metadata": {},
     "output_type": "execute_result"
    }
   ],
   "source": [
    "A1=[20 -16\n",
    "-16 20]"
   ]
  },
  {
   "cell_type": "code",
   "execution_count": 6,
   "id": "f76f1241",
   "metadata": {},
   "outputs": [
    {
     "data": {
      "text/plain": [
       "2-element Vector{Float64}:\n",
       "  4.0\n",
       " 36.0"
      ]
     },
     "execution_count": 6,
     "metadata": {},
     "output_type": "execute_result"
    }
   ],
   "source": [
    "eigvals(A1)"
   ]
  },
  {
   "cell_type": "code",
   "execution_count": 8,
   "id": "20468ff2",
   "metadata": {},
   "outputs": [
    {
     "data": {
      "text/plain": [
       "2×2 Matrix{Float64}:\n",
       " -1.0  -1.0\n",
       " -1.0   1.0"
      ]
     },
     "execution_count": 8,
     "metadata": {},
     "output_type": "execute_result"
    }
   ],
   "source": [
    "eigvecs(A1)*sqrt(2)"
   ]
  },
  {
   "cell_type": "code",
   "execution_count": 12,
   "id": "b9b4f13c",
   "metadata": {},
   "outputs": [
    {
     "data": {
      "text/plain": [
       "4×4 Matrix{Int64}:\n",
       "   0  1    0  0\n",
       "  20  0  -16  0\n",
       "   0  0    0  1\n",
       " -16  0   20  0"
      ]
     },
     "execution_count": 12,
     "metadata": {},
     "output_type": "execute_result"
    }
   ],
   "source": [
    "A2=[0 1 0 0 \n",
    "20 0 -16 0\n",
    "0 0 0 1\n",
    "-16 0 20 0]"
   ]
  },
  {
   "cell_type": "code",
   "execution_count": 13,
   "id": "2a49e19a",
   "metadata": {},
   "outputs": [
    {
     "data": {
      "text/plain": [
       "4-element Vector{Float64}:\n",
       " -6.0\n",
       " -1.9999999999999987\n",
       "  2.0\n",
       "  5.999999999999997"
      ]
     },
     "execution_count": 13,
     "metadata": {},
     "output_type": "execute_result"
    }
   ],
   "source": [
    "eigvals(A2)"
   ]
  },
  {
   "cell_type": "code",
   "execution_count": 15,
   "id": "3a8b3974",
   "metadata": {},
   "outputs": [],
   "source": [
    "using SymPy"
   ]
  },
  {
   "cell_type": "code",
   "execution_count": 20,
   "id": "732a40fd",
   "metadata": {},
   "outputs": [
    {
     "data": {
      "text/latex": [
       "$t$"
      ],
      "text/plain": [
       "t"
      ]
     },
     "execution_count": 20,
     "metadata": {},
     "output_type": "execute_result"
    }
   ],
   "source": [
    "t=symbols(\"t\",real=True,positive=True)"
   ]
  },
  {
   "cell_type": "code",
   "execution_count": 22,
   "id": "50240afa",
   "metadata": {},
   "outputs": [
    {
     "data": {
      "text/latex": [
       "$\\left[ \\begin{array}{r}\\frac{e^{6 t}}{3} + e^{2 t} - e^{- 2 t} - \\frac{e^{- 6 t}}{3}\\\\2 e^{6 t} + 2 e^{2 t} + 2 e^{- 2 t} + 2 e^{- 6 t}\\\\- \\frac{e^{6 t}}{3} + e^{2 t} - e^{- 2 t} + \\frac{e^{- 6 t}}{3}\\\\- 2 e^{6 t} + 2 e^{2 t} + 2 e^{- 2 t} - 2 e^{- 6 t}\\end{array} \\right]$\n"
      ],
      "text/plain": [
       "4-element Vector{Sym}:\n",
       "      exp(6*t)/3 + exp(2*t) - exp(-2*t) - exp(-6*t)/3\n",
       "  2*exp(6*t) + 2*exp(2*t) + 2*exp(-2*t) + 2*exp(-6*t)\n",
       "     -exp(6*t)/3 + exp(2*t) - exp(-2*t) + exp(-6*t)/3\n",
       " -2*exp(6*t) + 2*exp(2*t) + 2*exp(-2*t) - 2*exp(-6*t)"
      ]
     },
     "execution_count": 22,
     "metadata": {},
     "output_type": "execute_result"
    }
   ],
   "source": [
    "*(exp(*(A2,t)),[0;8;0;0])"
   ]
  },
  {
   "cell_type": "code",
   "execution_count": 23,
   "id": "25c0f64e",
   "metadata": {},
   "outputs": [
    {
     "data": {
      "text/plain": [
       "F (generic function with 1 method)"
      ]
     },
     "execution_count": 23,
     "metadata": {},
     "output_type": "execute_result"
    }
   ],
   "source": [
    "F(y)=+(/(^(y,5),-5),*(/(4,3),^(y,3)),*(30,^(y,2)),*(y,225))"
   ]
  },
  {
   "cell_type": "code",
   "execution_count": 25,
   "id": "c98423ec",
   "metadata": {},
   "outputs": [
    {
     "data": {
      "text/plain": [
       "5683.3505498541745"
      ]
     },
     "execution_count": 25,
     "metadata": {},
     "output_type": "execute_result"
    }
   ],
   "source": [
    "*(pi,-(F(5),F(-3)))"
   ]
  },
  {
   "cell_type": "code",
   "execution_count": 26,
   "id": "cf18113b",
   "metadata": {},
   "outputs": [
    {
     "data": {
      "text/plain": [
       "10.666666666666666"
      ]
     },
     "execution_count": 26,
     "metadata": {},
     "output_type": "execute_result"
    }
   ],
   "source": [
    "*(/(1,2),+(*(27,2//3),6,-2//3,-2))"
   ]
  },
  {
   "cell_type": "code",
   "execution_count": null,
   "id": "8b194170",
   "metadata": {},
   "outputs": [],
   "source": []
  },
  {
   "cell_type": "code",
   "execution_count": null,
   "id": "e9c1d600",
   "metadata": {},
   "outputs": [],
   "source": []
  },
  {
   "cell_type": "code",
   "execution_count": null,
   "id": "6af09f24",
   "metadata": {},
   "outputs": [],
   "source": []
  },
  {
   "cell_type": "code",
   "execution_count": null,
   "id": "a82cc947",
   "metadata": {},
   "outputs": [],
   "source": []
  },
  {
   "cell_type": "code",
   "execution_count": null,
   "id": "47ec7a12",
   "metadata": {},
   "outputs": [],
   "source": []
  }
 ],
 "metadata": {
  "kernelspec": {
   "display_name": "Julia 1.7.2",
   "language": "julia",
   "name": "julia-1.7"
  },
  "language_info": {
   "file_extension": ".jl",
   "mimetype": "application/julia",
   "name": "julia",
   "version": "1.7.2"
  }
 },
 "nbformat": 4,
 "nbformat_minor": 5
}
