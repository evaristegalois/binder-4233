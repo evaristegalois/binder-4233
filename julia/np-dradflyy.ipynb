{
 "cells": [
  {
   "cell_type": "markdown",
   "metadata": {
    "collapsed": false
   },
   "source": [
    "<h4>Mechanical Vibrations: Pendulum and Spring System</h4>"
   ]
  },
  {
   "cell_type": "markdown",
   "metadata": {
    "collapsed": false
   },
   "source": [
    "<img src=\"./diagrams/dradflyy.png\" width=\"25%\" height=\"25%\">"
   ]
  },
  {
   "cell_type": "markdown",
   "metadata": {
    "collapsed": false
   },
   "source": [
    "The diagram shows a mass $m$ on the end of a pendulum\n",
    "(of length $L$) also attached to a horizontal spring (with\n",
    "constant $k$). Assume small oscillations of $m$ so that the\n",
    "spring remains essentially horizontal and neglect damping. Find the natural circular frequency $w$ of motion of\n",
    "the mass in terms of $L, k, m$, and the gravitational constant $g$."
   ]
  },
  {
   "cell_type": "markdown",
   "metadata": {
    "collapsed": false
   },
   "source": [
    "The differential equation is\n",
    "$$\n",
    "\\theta''+\\frac{g}{L}\\theta+\\frac{k}{m}\\theta=0\n",
    "$$\n",
    "The factor $g/L$ is derived in section 3.4 in EPC (\"The Simple Pendulum\"). For the factor $k/m$ I argue as follows: the spring equation with spring constant $k$ is\n",
    "$$\n",
    "mx''+kx=0\n",
    "$$\n",
    "now replace $x$ by $L\\theta$ for\n",
    "$$\n",
    "mL\\theta''+kL\\theta=0\n",
    "$$\n",
    "and then divide by $mL$ for\n",
    "$$\n",
    "\\theta''+\\frac{k}{m}\\theta=0\n",
    "$$\n",
    "now add the graviational force of the pendulum for\n",
    "$$\n",
    "\\theta''+\\frac{g}{L}\\theta+\\frac{k}{m}\\theta=0\n",
    "$$\n",
    "Consequently, the natural circular frequency $\\omega_{0}$ is\n",
    "$$\n",
    "\\omega_{0}=\\sqrt{\\frac{g}{L}+\\frac{k}{m}}\n",
    "$$"
   ]
  }
 ],
 "metadata": {
  "kernelspec": {
   "display_name": "Julia 1.6",
   "env": {
    "JULIA_DEPOT_PATH": "/home/user/.julia/:/ext/julia/depot/",
    "JULIA_PROJECT": "/home/user/.julia/environment/v1.6"
   },
   "language": "julia",
   "metadata": {
    "cocalc": {
     "description": "The Julia Programming Language",
     "priority": 10,
     "url": "https://julialang.org/"
    }
   },
   "name": "julia-1.6",
   "resource_dir": "/ext/jupyter/kernels/julia-1.6"
  },
  "language_info": {
   "file_extension": ".jl",
   "mimetype": "application/julia",
   "name": "julia",
   "version": "1.6.3"
  }
 },
 "nbformat": 4,
 "nbformat_minor": 4
}