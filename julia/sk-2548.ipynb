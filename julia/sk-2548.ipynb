{
 "cells": [
  {
   "cell_type": "code",
   "execution_count": 1,
   "id": "4bb4918b",
   "metadata": {},
   "outputs": [],
   "source": [
    "using SymPy"
   ]
  },
  {
   "cell_type": "code",
   "execution_count": 2,
   "id": "17540edb",
   "metadata": {},
   "outputs": [],
   "source": [
    "using LinearAlgebra"
   ]
  },
  {
   "cell_type": "code",
   "execution_count": 74,
   "id": "443be827",
   "metadata": {},
   "outputs": [
    {
     "data": {
      "text/plain": [
       "(k, l)"
      ]
     },
     "execution_count": 74,
     "metadata": {},
     "output_type": "execute_result"
    }
   ],
   "source": [
    "@vars k l"
   ]
  },
  {
   "cell_type": "code",
   "execution_count": 75,
   "id": "cb6a6702",
   "metadata": {},
   "outputs": [
    {
     "data": {
      "text/latex": [
       "$\\left[ \\begin{array}{rr}k&2 l\\\\5&3\\end{array}\\right]$\n"
      ],
      "text/plain": [
       "2×2 Matrix{Sym}:\n",
       " k  2⋅l\n",
       " 5    3"
      ]
     },
     "execution_count": 75,
     "metadata": {},
     "output_type": "execute_result"
    }
   ],
   "source": [
    "M3=[k 2*l\n",
    "5 3]"
   ]
  },
  {
   "cell_type": "code",
   "execution_count": 3,
   "id": "075f27a3",
   "metadata": {},
   "outputs": [
    {
     "data": {
      "text/plain": [
       "2×2 Matrix{Rational{Int64}}:\n",
       " 1//4  -1//1\n",
       " 3//4  -1//1"
      ]
     },
     "execution_count": 3,
     "metadata": {},
     "output_type": "execute_result"
    }
   ],
   "source": [
    "M1=[1//4 -1\n",
    "3//4 -1]"
   ]
  },
  {
   "cell_type": "code",
   "execution_count": 5,
   "id": "ce8c963c",
   "metadata": {},
   "outputs": [
    {
     "data": {
      "text/plain": [
       "2-element Vector{Float64}:\n",
       " 1.5707963267948966\n",
       " 3.141592653589793"
      ]
     },
     "execution_count": 5,
     "metadata": {},
     "output_type": "execute_result"
    }
   ],
   "source": [
    "v1=[pi/2\n",
    "pi]"
   ]
  },
  {
   "cell_type": "code",
   "execution_count": 7,
   "id": "2ddaa817",
   "metadata": {},
   "outputs": [
    {
     "data": {
      "text/plain": [
       "2-element Vector{Float64}:\n",
       "  1.0\n",
       " -0.25"
      ]
     },
     "execution_count": 7,
     "metadata": {},
     "output_type": "execute_result"
    }
   ],
   "source": [
    "inv(M1)*v1/pi"
   ]
  },
  {
   "cell_type": "code",
   "execution_count": 8,
   "id": "f0243865",
   "metadata": {},
   "outputs": [
    {
     "data": {
      "text/plain": [
       "f (generic function with 1 method)"
      ]
     },
     "execution_count": 8,
     "metadata": {},
     "output_type": "execute_result"
    }
   ],
   "source": [
    "f(x)=2*x^3+5*x^2-11*x+3"
   ]
  },
  {
   "cell_type": "code",
   "execution_count": 9,
   "id": "512db62e",
   "metadata": {},
   "outputs": [
    {
     "data": {
      "text/plain": [
       "fp (generic function with 1 method)"
      ]
     },
     "execution_count": 9,
     "metadata": {},
     "output_type": "execute_result"
    }
   ],
   "source": [
    "fp(x)=6*x^2+10*x-11"
   ]
  },
  {
   "cell_type": "code",
   "execution_count": 10,
   "id": "87cf3ac6",
   "metadata": {},
   "outputs": [
    {
     "data": {
      "text/plain": [
       "1"
      ]
     },
     "execution_count": 10,
     "metadata": {},
     "output_type": "execute_result"
    }
   ],
   "source": [
    "x0=1"
   ]
  },
  {
   "cell_type": "code",
   "execution_count": 11,
   "id": "7e6cb691",
   "metadata": {},
   "outputs": [
    {
     "data": {
      "text/plain": [
       "1.2"
      ]
     },
     "execution_count": 11,
     "metadata": {},
     "output_type": "execute_result"
    }
   ],
   "source": [
    "x1=x0-(f(x0)/fp(x0))"
   ]
  },
  {
   "cell_type": "code",
   "execution_count": 14,
   "id": "2c7b3393",
   "metadata": {},
   "outputs": [
    {
     "data": {
      "text/plain": [
       "1.1526970954356845"
      ]
     },
     "execution_count": 14,
     "metadata": {},
     "output_type": "execute_result"
    }
   ],
   "source": [
    "x2=x1-(f(x1)/fp(x1))"
   ]
  },
  {
   "cell_type": "code",
   "execution_count": 15,
   "id": "50caf841",
   "metadata": {},
   "outputs": [
    {
     "data": {
      "text/plain": [
       "1.1495101491716406"
      ]
     },
     "execution_count": 15,
     "metadata": {},
     "output_type": "execute_result"
    }
   ],
   "source": [
    "x3=x2-(f(x2)/fp(x2))"
   ]
  },
  {
   "cell_type": "code",
   "execution_count": 16,
   "id": "7576a02c",
   "metadata": {},
   "outputs": [
    {
     "data": {
      "text/plain": [
       "1.1494957886643604"
      ]
     },
     "execution_count": 16,
     "metadata": {},
     "output_type": "execute_result"
    }
   ],
   "source": [
    "x4=x3-(f(x3)/fp(x3))"
   ]
  },
  {
   "cell_type": "code",
   "execution_count": 17,
   "id": "5d58c717",
   "metadata": {},
   "outputs": [
    {
     "data": {
      "text/plain": [
       "1.14949578837308"
      ]
     },
     "execution_count": 17,
     "metadata": {},
     "output_type": "execute_result"
    }
   ],
   "source": [
    "x5=x4-(f(x4)/fp(x4))"
   ]
  },
  {
   "cell_type": "code",
   "execution_count": 18,
   "id": "a76ea77e",
   "metadata": {},
   "outputs": [],
   "source": [
    "using Polynomials"
   ]
  },
  {
   "cell_type": "code",
   "execution_count": 19,
   "id": "bde96427",
   "metadata": {},
   "outputs": [
    {
     "data": {
      "text/html": [
       "432 &#45; 288&#8729;x &#45; 144&#8729;x<sup>2</sup>"
      ],
      "text/latex": [
       "$432 - 288\\cdot x - 144\\cdot x^{2}$"
      ],
      "text/plain": [
       "Polynomial(432 - 288*x - 144*x^2)"
      ]
     },
     "execution_count": 19,
     "metadata": {},
     "output_type": "execute_result"
    }
   ],
   "source": [
    "p1=Polynomial([12*36,288-96*6,-144])"
   ]
  },
  {
   "cell_type": "code",
   "execution_count": 21,
   "id": "3a28ebba",
   "metadata": {},
   "outputs": [
    {
     "data": {
      "text/plain": [
       "2-element Vector{Float64}:\n",
       " -3.0000000000000004\n",
       "  0.9999999999999998"
      ]
     },
     "execution_count": 21,
     "metadata": {},
     "output_type": "execute_result"
    }
   ],
   "source": [
    "Polynomials.roots(p1)"
   ]
  },
  {
   "cell_type": "code",
   "execution_count": 33,
   "id": "be03e0b9",
   "metadata": {},
   "outputs": [
    {
     "data": {
      "text/html": [
       "&#45;1288 &#45; 128&#8729;x &#43; 16&#8729;x<sup>2</sup>"
      ],
      "text/latex": [
       "$-1288 - 128\\cdot x + 16\\cdot x^{2}$"
      ],
      "text/plain": [
       "Polynomial(-1288 - 128*x + 16*x^2)"
      ]
     },
     "execution_count": 33,
     "metadata": {},
     "output_type": "execute_result"
    }
   ],
   "source": [
    "p2=Polynomial([-386*4+16^2,-16*8,16])"
   ]
  },
  {
   "cell_type": "code",
   "execution_count": 34,
   "id": "fc4a3f7f",
   "metadata": {},
   "outputs": [
    {
     "data": {
      "text/plain": [
       "2-element Vector{Float64}:\n",
       " -5.8234413521942505\n",
       " 13.82344135219425"
      ]
     },
     "execution_count": 34,
     "metadata": {},
     "output_type": "execute_result"
    }
   ],
   "source": [
    "sol=Polynomials.roots(p2)"
   ]
  },
  {
   "cell_type": "code",
   "execution_count": 35,
   "id": "de61182a",
   "metadata": {},
   "outputs": [
    {
     "data": {
      "text/plain": [
       "13.82344135219425"
      ]
     },
     "execution_count": 35,
     "metadata": {},
     "output_type": "execute_result"
    }
   ],
   "source": [
    "x1=sol[2,1]"
   ]
  },
  {
   "cell_type": "code",
   "execution_count": 37,
   "id": "b662306f",
   "metadata": {},
   "outputs": [
    {
     "data": {
      "text/plain": [
       "55.293765408777006"
      ]
     },
     "execution_count": 37,
     "metadata": {},
     "output_type": "execute_result"
    }
   ],
   "source": [
    "y1=(386/(x1-4))+16"
   ]
  },
  {
   "cell_type": "code",
   "execution_count": 61,
   "id": "350f4604",
   "metadata": {},
   "outputs": [
    {
     "data": {
      "text/html": [
       "&#45;522.84 &#45; 343.19999999999993&#8729;x &#43; 2112.0&#8729;x<sup>2</sup>"
      ],
      "text/latex": [
       "$-522.84 - 343.19999999999993\\cdot x + 2112.0\\cdot x^{2}$"
      ],
      "text/plain": [
       "Polynomial(-522.84 - 343.19999999999993*x + 2112.0*x^2)"
      ]
     },
     "execution_count": 61,
     "metadata": {},
     "output_type": "execute_result"
    }
   ],
   "source": [
    "p3=Polynomial([4.6^2-136*4,80-20*4.6^2,46^2-4])"
   ]
  },
  {
   "cell_type": "code",
   "execution_count": 62,
   "id": "5d4eb1b9",
   "metadata": {},
   "outputs": [
    {
     "data": {
      "text/plain": [
       "2-element Vector{Float64}:\n",
       " -0.4228912308885459\n",
       "  0.585391230888546"
      ]
     },
     "execution_count": 62,
     "metadata": {},
     "output_type": "execute_result"
    }
   ],
   "source": [
    "sol=Polynomials.roots(p3)"
   ]
  },
  {
   "cell_type": "code",
   "execution_count": 63,
   "id": "6594e399",
   "metadata": {},
   "outputs": [
    {
     "data": {
      "text/plain": [
       "0.585391230888546"
      ]
     },
     "execution_count": 63,
     "metadata": {},
     "output_type": "execute_result"
    }
   ],
   "source": [
    "y2=sol[2,1]"
   ]
  },
  {
   "cell_type": "code",
   "execution_count": 64,
   "id": "81ebdd4f",
   "metadata": {},
   "outputs": [
    {
     "data": {
      "text/plain": [
       "11.163998310436556"
      ]
     },
     "execution_count": 64,
     "metadata": {},
     "output_type": "execute_result"
    }
   ],
   "source": [
    "x2=sqrt(y2^2-20*y2+136)"
   ]
  },
  {
   "cell_type": "code",
   "execution_count": 52,
   "id": "050bd9f1",
   "metadata": {},
   "outputs": [
    {
     "data": {
      "text/plain": [
       "154.9742749209134"
      ]
     },
     "execution_count": 52,
     "metadata": {},
     "output_type": "execute_result"
    }
   ],
   "source": [
    "x2^2-(10-y2)^2"
   ]
  },
  {
   "cell_type": "code",
   "execution_count": 53,
   "id": "d79f899a",
   "metadata": {},
   "outputs": [
    {
     "data": {
      "text/plain": [
       "5"
      ]
     },
     "execution_count": 53,
     "metadata": {},
     "output_type": "execute_result"
    }
   ],
   "source": [
    "y2=5"
   ]
  },
  {
   "cell_type": "code",
   "execution_count": 54,
   "id": "80159c83",
   "metadata": {},
   "outputs": [
    {
     "data": {
      "text/plain": [
       "12.288205727444508"
      ]
     },
     "execution_count": 54,
     "metadata": {},
     "output_type": "execute_result"
    }
   ],
   "source": [
    "x2=sqrt(y2^2-2*y2+136)"
   ]
  },
  {
   "cell_type": "code",
   "execution_count": 55,
   "id": "ee449c8c",
   "metadata": {},
   "outputs": [
    {
     "data": {
      "text/plain": [
       "126.0"
      ]
     },
     "execution_count": 55,
     "metadata": {},
     "output_type": "execute_result"
    }
   ],
   "source": [
    "x2^2-(10-y2)^2"
   ]
  },
  {
   "cell_type": "code",
   "execution_count": 65,
   "id": "f62ea7e8",
   "metadata": {},
   "outputs": [
    {
     "data": {
      "text/plain": [
       "0.44979686042435774"
      ]
     },
     "execution_count": 65,
     "metadata": {},
     "output_type": "execute_result"
    }
   ],
   "source": [
    "tt=asin(1/2.3)"
   ]
  },
  {
   "cell_type": "code",
   "execution_count": 66,
   "id": "30309133",
   "metadata": {},
   "outputs": [
    {
     "data": {
      "text/plain": [
       "6.662702784276693"
      ]
     },
     "execution_count": 66,
     "metadata": {},
     "output_type": "execute_result"
    }
   ],
   "source": [
    "x1=6/cos(tt)"
   ]
  },
  {
   "cell_type": "code",
   "execution_count": 67,
   "id": "1b9e4d7f",
   "metadata": {},
   "outputs": [
    {
     "data": {
      "text/plain": [
       "7.103172702488394"
      ]
     },
     "execution_count": 67,
     "metadata": {},
     "output_type": "execute_result"
    }
   ],
   "source": [
    "y1=10-6*tan(tt)"
   ]
  },
  {
   "cell_type": "code",
   "execution_count": 69,
   "id": "be1c6832",
   "metadata": {},
   "outputs": [
    {
     "data": {
      "text/plain": [
       "36.0"
      ]
     },
     "execution_count": 69,
     "metadata": {},
     "output_type": "execute_result"
    }
   ],
   "source": [
    "x1^2-(10-y1)^2"
   ]
  },
  {
   "cell_type": "code",
   "execution_count": 70,
   "id": "8e861861",
   "metadata": {},
   "outputs": [
    {
     "data": {
      "text/plain": [
       "2.8968272975116056"
      ]
     },
     "execution_count": 70,
     "metadata": {},
     "output_type": "execute_result"
    }
   ],
   "source": [
    "10-y1"
   ]
  },
  {
   "cell_type": "code",
   "execution_count": 71,
   "id": "d131be7f",
   "metadata": {},
   "outputs": [
    {
     "data": {
      "text/plain": [
       "-7.402189194461734"
      ]
     },
     "execution_count": 71,
     "metadata": {},
     "output_type": "execute_result"
    }
   ],
   "source": [
    "pi*(-2.35619)"
   ]
  },
  {
   "cell_type": "code",
   "execution_count": 73,
   "id": "e6cebaf8",
   "metadata": {},
   "outputs": [
    {
     "data": {
      "text/plain": [
       "3.6787944117144233"
      ]
     },
     "execution_count": 73,
     "metadata": {},
     "output_type": "execute_result"
    }
   ],
   "source": [
    "10/exp(1)"
   ]
  },
  {
   "cell_type": "code",
   "execution_count": 76,
   "id": "c2592efe",
   "metadata": {},
   "outputs": [
    {
     "data": {
      "text/plain": [
       "Ap (generic function with 1 method)"
      ]
     },
     "execution_count": 76,
     "metadata": {},
     "output_type": "execute_result"
    }
   ],
   "source": [
    "Ap(a)=sin(0.5*(a+pi))+(a/2)*cos(0.5*(a+pi))"
   ]
  },
  {
   "cell_type": "code",
   "execution_count": 91,
   "id": "734b3e4c",
   "metadata": {},
   "outputs": [
    {
     "data": {
      "text/plain": [
       "App (generic function with 1 method)"
      ]
     },
     "execution_count": 91,
     "metadata": {},
     "output_type": "execute_result"
    }
   ],
   "source": [
    "App(a)=cos(0.5*(a+pi))-(a/4)*sin(0.5*(a+pi))"
   ]
  },
  {
   "cell_type": "code",
   "execution_count": 92,
   "id": "5a61271a",
   "metadata": {},
   "outputs": [
    {
     "data": {
      "text/plain": [
       "2.0943951023931953"
      ]
     },
     "execution_count": 92,
     "metadata": {},
     "output_type": "execute_result"
    }
   ],
   "source": [
    "a0=(2/3)*pi"
   ]
  },
  {
   "cell_type": "code",
   "execution_count": 93,
   "id": "5fb78625",
   "metadata": {},
   "outputs": [
    {
     "data": {
      "text/plain": [
       "1.7336123946946198"
      ]
     },
     "execution_count": 93,
     "metadata": {},
     "output_type": "execute_result"
    }
   ],
   "source": [
    "a1=a0-Ap(a0)/App(a0)"
   ]
  },
  {
   "cell_type": "code",
   "execution_count": 94,
   "id": "6de37845",
   "metadata": {},
   "outputs": [
    {
     "data": {
      "text/plain": [
       "1.7206930678454764"
      ]
     },
     "execution_count": 94,
     "metadata": {},
     "output_type": "execute_result"
    }
   ],
   "source": [
    "a2=a1-Ap(a1)/App(a1)"
   ]
  },
  {
   "cell_type": "code",
   "execution_count": 95,
   "id": "8fbfcbc2",
   "metadata": {},
   "outputs": [
    {
     "data": {
      "text/plain": [
       "1.7206671781439804"
      ]
     },
     "execution_count": 95,
     "metadata": {},
     "output_type": "execute_result"
    }
   ],
   "source": [
    "a3=a2-Ap(a2)/App(a2)"
   ]
  },
  {
   "cell_type": "code",
   "execution_count": 96,
   "id": "e99f8001",
   "metadata": {},
   "outputs": [
    {
     "data": {
      "text/plain": [
       "1.72066717803876"
      ]
     },
     "execution_count": 96,
     "metadata": {},
     "output_type": "execute_result"
    }
   ],
   "source": [
    "a4=a3-Ap(a3)/App(a3)"
   ]
  },
  {
   "cell_type": "code",
   "execution_count": 85,
   "id": "87980028",
   "metadata": {},
   "outputs": [],
   "source": [
    "using Calculus"
   ]
  },
  {
   "cell_type": "code",
   "execution_count": 97,
   "id": "06695031",
   "metadata": {},
   "outputs": [
    {
     "data": {
      "text/plain": [
       ":((0 * (a + pi) + 0.5 * 1) * cos(0.5 * (a + pi)) + ((1 / 2) * cos(0.5 * (a + pi)) + (a / 2) * ((0 * (a + pi) + 0.5 * 1) * -(sin(0.5 * (a + pi))))))"
      ]
     },
     "execution_count": 97,
     "metadata": {},
     "output_type": "execute_result"
    }
   ],
   "source": [
    "differentiate(\"sin(0.5*(a+pi))+(a/2)*cos(0.5*(a+pi))\",:a)"
   ]
  },
  {
   "cell_type": "code",
   "execution_count": null,
   "id": "c6e74ee4",
   "metadata": {},
   "outputs": [],
   "source": [
    "arctan(c_2/c_1)+2*pi"
   ]
  },
  {
   "cell_type": "code",
   "execution_count": 105,
   "id": "465c7c53",
   "metadata": {},
   "outputs": [],
   "source": [
    "using Polynomials"
   ]
  },
  {
   "cell_type": "code",
   "execution_count": 103,
   "id": "e7ac1f56",
   "metadata": {},
   "outputs": [
    {
     "data": {
      "text/html": [
       "13 &#43; 6&#8729;x &#43; x<sup>2</sup>"
      ],
      "text/latex": [
       "$13 + 6\\cdot x + x^{2}$"
      ],
      "text/plain": [
       "Polynomial(13 + 6*x + x^2)"
      ]
     },
     "execution_count": 103,
     "metadata": {},
     "output_type": "execute_result"
    }
   ],
   "source": [
    "p1=Polynomial([13,6,1])"
   ]
  },
  {
   "cell_type": "code",
   "execution_count": 106,
   "id": "2f8458f8",
   "metadata": {},
   "outputs": [
    {
     "data": {
      "text/plain": [
       "2-element Vector{ComplexF64}:\n",
       " -3.0000000000000004 - 2.0im\n",
       " -3.0000000000000004 + 2.0im"
      ]
     },
     "execution_count": 106,
     "metadata": {},
     "output_type": "execute_result"
    }
   ],
   "source": [
    "Polynomials.roots(p1)"
   ]
  },
  {
   "cell_type": "code",
   "execution_count": 107,
   "id": "fc51813a",
   "metadata": {},
   "outputs": [
    {
     "data": {
      "text/plain": [
       "1552//3"
      ]
     },
     "execution_count": 107,
     "metadata": {},
     "output_type": "execute_result"
    }
   ],
   "source": [
    "(388*16)//12"
   ]
  },
  {
   "cell_type": "code",
   "execution_count": 108,
   "id": "273cc123",
   "metadata": {},
   "outputs": [
    {
     "data": {
      "text/plain": [
       "38.74496281230931"
      ]
     },
     "execution_count": 108,
     "metadata": {},
     "output_type": "execute_result"
    }
   ],
   "source": [
    "x0=sqrt(1552/3)+16"
   ]
  },
  {
   "cell_type": "code",
   "execution_count": 110,
   "id": "c461628a",
   "metadata": {},
   "outputs": [
    {
     "data": {
      "text/plain": [
       "29.05872210923198"
      ]
     },
     "execution_count": 110,
     "metadata": {},
     "output_type": "execute_result"
    }
   ],
   "source": [
    "y0=(388/(x0-16))+12"
   ]
  },
  {
   "cell_type": "code",
   "execution_count": 111,
   "id": "105041ec",
   "metadata": {},
   "outputs": [],
   "source": [
    "using Polynomials"
   ]
  },
  {
   "cell_type": "code",
   "execution_count": 112,
   "id": "ae84b0b1",
   "metadata": {},
   "outputs": [
    {
     "data": {
      "text/html": [
       "2371.9999999999995 &#45; 503.19999999999993&#8729;x &#43; 25.159999999999997&#8729;x<sup>2</sup>"
      ],
      "text/latex": [
       "$2371.9999999999995 - 503.19999999999993\\cdot x + 25.159999999999997\\cdot x^{2}$"
      ],
      "text/plain": [
       "Polynomial(2371.9999999999995 - 503.19999999999993*x + 25.159999999999997*x^2)"
      ]
     },
     "execution_count": 112,
     "metadata": {},
     "output_type": "execute_result"
    }
   ],
   "source": [
    "p1=Polynomial([(400*2.3^2)+4*64,(-80*2.3^2-80),4*2.3^2+4])"
   ]
  },
  {
   "cell_type": "code",
   "execution_count": 115,
   "id": "dd839280",
   "metadata": {},
   "outputs": [
    {
     "data": {
      "text/plain": [
       "2-element Vector{Float64}:\n",
       "  7.607643331513299\n",
       " 12.392356668486702"
      ]
     },
     "execution_count": 115,
     "metadata": {},
     "output_type": "execute_result"
    }
   ],
   "source": [
    "sol=Polynomials.roots(p1)"
   ]
  },
  {
   "cell_type": "code",
   "execution_count": 116,
   "id": "4fff3622",
   "metadata": {},
   "outputs": [
    {
     "data": {
      "text/plain": [
       "7.607643331513299"
      ]
     },
     "execution_count": 116,
     "metadata": {},
     "output_type": "execute_result"
    }
   ],
   "source": [
    "y1=sol[1,1]"
   ]
  },
  {
   "cell_type": "code",
   "execution_count": 117,
   "id": "f68255e1",
   "metadata": {},
   "outputs": [
    {
     "data": {
      "text/plain": [
       "5.50242033751941"
      ]
     },
     "execution_count": 117,
     "metadata": {},
     "output_type": "execute_result"
    }
   ],
   "source": [
    "x1=sqrt(36-(10-y1)^2)"
   ]
  },
  {
   "cell_type": "code",
   "execution_count": 118,
   "id": "9e397764",
   "metadata": {},
   "outputs": [
    {
     "data": {
      "text/plain": [
       "2.392356668486701"
      ]
     },
     "execution_count": 118,
     "metadata": {},
     "output_type": "execute_result"
    }
   ],
   "source": [
    "10-y1"
   ]
  },
  {
   "cell_type": "code",
   "execution_count": 119,
   "id": "9ec07847",
   "metadata": {},
   "outputs": [
    {
     "data": {
      "text/plain": [
       "Cp (generic function with 1 method)"
      ]
     },
     "execution_count": 119,
     "metadata": {},
     "output_type": "execute_result"
    }
   ],
   "source": [
    "Cp(y)=(20-2*y)^2*2.3^2-4*(y^2-20*y+136)"
   ]
  },
  {
   "cell_type": "code",
   "execution_count": 120,
   "id": "d46275b2",
   "metadata": {},
   "outputs": [],
   "source": [
    "using Roots"
   ]
  },
  {
   "cell_type": "code",
   "execution_count": 122,
   "id": "603d6484",
   "metadata": {},
   "outputs": [
    {
     "data": {
      "text/plain": [
       "7.103172702488394"
      ]
     },
     "execution_count": 122,
     "metadata": {},
     "output_type": "execute_result"
    }
   ],
   "source": [
    "sol=find_zero(Cp,5)"
   ]
  },
  {
   "cell_type": "code",
   "execution_count": 123,
   "id": "8e104519",
   "metadata": {},
   "outputs": [
    {
     "data": {
      "text/plain": [
       "2.8968272975116056"
      ]
     },
     "execution_count": 123,
     "metadata": {},
     "output_type": "execute_result"
    }
   ],
   "source": [
    "10-sol"
   ]
  },
  {
   "cell_type": "code",
   "execution_count": 124,
   "id": "1612294d",
   "metadata": {},
   "outputs": [
    {
     "data": {
      "text/html": [
       "81 &#45; 18&#8729;x &#43; x<sup>2</sup>"
      ],
      "text/latex": [
       "$81 - 18\\cdot x + x^{2}$"
      ],
      "text/plain": [
       "Polynomial(81 - 18*x + x^2)"
      ]
     },
     "execution_count": 124,
     "metadata": {},
     "output_type": "execute_result"
    }
   ],
   "source": [
    "p2=Polynomial([81,-18,1])"
   ]
  },
  {
   "cell_type": "code",
   "execution_count": 126,
   "id": "7a76cc01",
   "metadata": {},
   "outputs": [
    {
     "data": {
      "text/plain": [
       "2-element Vector{Float64}:\n",
       " 8.999999873121185\n",
       " 9.000000126878815"
      ]
     },
     "execution_count": 126,
     "metadata": {},
     "output_type": "execute_result"
    }
   ],
   "source": [
    "Polynomials.roots(p2)"
   ]
  },
  {
   "cell_type": "code",
   "execution_count": 127,
   "id": "7879a29e",
   "metadata": {},
   "outputs": [
    {
     "data": {
      "text/plain": [
       "126"
      ]
     },
     "execution_count": 127,
     "metadata": {},
     "output_type": "execute_result"
    }
   ],
   "source": [
    "18*7"
   ]
  },
  {
   "cell_type": "code",
   "execution_count": 128,
   "id": "0a0afe46",
   "metadata": {},
   "outputs": [
    {
     "data": {
      "text/plain": [
       "4"
      ]
     },
     "execution_count": 128,
     "metadata": {},
     "output_type": "execute_result"
    }
   ],
   "source": [
    "49-126+81"
   ]
  },
  {
   "cell_type": "code",
   "execution_count": 129,
   "id": "461c1c4a",
   "metadata": {
    "jupyter": {
     "source_hidden": true
    }
   },
   "outputs": [
    {
     "data": {
      "text/plain": [
       "77//2"
      ]
     },
     "execution_count": 129,
     "metadata": {},
     "output_type": "execute_result"
    }
   ],
   "source": [
    "2-(7//4)+(9*17//4)"
   ]
  },
  {
   "cell_type": "code",
   "execution_count": 130,
   "id": "c72be6f9",
   "metadata": {},
   "outputs": [
    {
     "data": {
      "text/plain": [
       "9.8"
      ]
     },
     "execution_count": 130,
     "metadata": {},
     "output_type": "execute_result"
    }
   ],
   "source": [
    "g=9.8"
   ]
  },
  {
   "cell_type": "code",
   "execution_count": 131,
   "id": "896c570a",
   "metadata": {},
   "outputs": [
    {
     "data": {
      "text/plain": [
       "1000.0"
      ]
     },
     "execution_count": 131,
     "metadata": {},
     "output_type": "execute_result"
    }
   ],
   "source": [
    "k=(10*g)/0.098"
   ]
  },
  {
   "cell_type": "code",
   "execution_count": 132,
   "id": "0dcb3495",
   "metadata": {},
   "outputs": [],
   "source": [
    "using SymPy"
   ]
  },
  {
   "cell_type": "code",
   "execution_count": 135,
   "id": "b23b2ee5",
   "metadata": {},
   "outputs": [
    {
     "data": {
      "text/plain": [
       "(t, A, B)"
      ]
     },
     "execution_count": 135,
     "metadata": {},
     "output_type": "execute_result"
    }
   ],
   "source": [
    "@vars t A B"
   ]
  },
  {
   "cell_type": "code",
   "execution_count": 136,
   "id": "66218f0e",
   "metadata": {},
   "outputs": [
    {
     "data": {
      "text/plain": [
       "y (generic function with 1 method)"
      ]
     },
     "execution_count": 136,
     "metadata": {},
     "output_type": "execute_result"
    }
   ],
   "source": [
    "y(t)=A*t*sin(6*t)+B*t*cos(6*t)"
   ]
  },
  {
   "cell_type": "code",
   "execution_count": 137,
   "id": "abb2cc5f",
   "metadata": {},
   "outputs": [],
   "source": [
    "using Calculus"
   ]
  },
  {
   "cell_type": "code",
   "execution_count": 138,
   "id": "412c2c8a",
   "metadata": {},
   "outputs": [
    {
     "data": {
      "text/plain": [
       ":((0 * t * sin(6t) + A * 1 * sin(6t) + A * t * ((0t + 6 * 1) * cos(6t))) + (0 * t * cos(6t) + B * 1 * cos(6t) + B * t * ((0t + 6 * 1) * -(sin(6t)))))"
      ]
     },
     "execution_count": 138,
     "metadata": {},
     "output_type": "execute_result"
    }
   ],
   "source": [
    "differentiate(\"A*t*sin(6*t)+B*t*cos(6*t)\",:t)"
   ]
  },
  {
   "cell_type": "code",
   "execution_count": 139,
   "id": "d185fc48",
   "metadata": {},
   "outputs": [
    {
     "data": {
      "text/plain": [
       ":(((0 - (0 * B * t + 6 * 0 * t + 6 * B * 1)) * sin(6t) + (A - 6 * B * t) * ((0t + 6 * 1) * cos(6t))) + ((0 * A * t + 6 * 0 * t + 6 * A * 1) * cos(6t) + (B + 6 * A * t) * ((0t + 6 * 1) * -(sin(6t)))))"
      ]
     },
     "execution_count": 139,
     "metadata": {},
     "output_type": "execute_result"
    }
   ],
   "source": [
    "differentiate(\"(A-6*B*t)*sin(6*t)+(B+6*A*t)*cos(6*t)\",:t)"
   ]
  },
  {
   "cell_type": "code",
   "execution_count": 140,
   "id": "4eaac9e4",
   "metadata": {},
   "outputs": [],
   "source": [
    "using LinearAlgebra"
   ]
  },
  {
   "cell_type": "code",
   "execution_count": 141,
   "id": "a0b03368",
   "metadata": {},
   "outputs": [
    {
     "data": {
      "text/plain": [
       "2×2 Matrix{Int64}:\n",
       "  8  -48\n",
       " 48    8"
      ]
     },
     "execution_count": 141,
     "metadata": {},
     "output_type": "execute_result"
    }
   ],
   "source": [
    "M2=[8 -48\n",
    "48 8]"
   ]
  },
  {
   "cell_type": "code",
   "execution_count": 142,
   "id": "7b0a146f",
   "metadata": {},
   "outputs": [
    {
     "data": {
      "text/plain": [
       "2-element Vector{Int64}:\n",
       " 40\n",
       "  0"
      ]
     },
     "execution_count": 142,
     "metadata": {},
     "output_type": "execute_result"
    }
   ],
   "source": [
    "v2=[40\n",
    "0]"
   ]
  },
  {
   "cell_type": "code",
   "execution_count": 144,
   "id": "a22c9828",
   "metadata": {},
   "outputs": [
    {
     "data": {
      "text/plain": [
       "2-element Vector{Float64}:\n",
       "   319.99999999999994\n",
       " -1919.9999999999998"
      ]
     },
     "execution_count": 144,
     "metadata": {},
     "output_type": "execute_result"
    }
   ],
   "source": [
    "inv(M2)*v2*det(M2)"
   ]
  },
  {
   "cell_type": "code",
   "execution_count": 145,
   "id": "7f8777ed",
   "metadata": {},
   "outputs": [
    {
     "data": {
      "text/plain": [
       "2368.0"
      ]
     },
     "execution_count": 145,
     "metadata": {},
     "output_type": "execute_result"
    }
   ],
   "source": [
    "det(M2)"
   ]
  },
  {
   "cell_type": "code",
   "execution_count": 146,
   "id": "df0457d0",
   "metadata": {},
   "outputs": [
    {
     "data": {
      "text/plain": [
       "5//37"
      ]
     },
     "execution_count": 146,
     "metadata": {},
     "output_type": "execute_result"
    }
   ],
   "source": [
    "320//2368"
   ]
  },
  {
   "cell_type": "code",
   "execution_count": 147,
   "id": "2a05ed62",
   "metadata": {},
   "outputs": [
    {
     "data": {
      "text/plain": [
       "30//37"
      ]
     },
     "execution_count": 147,
     "metadata": {},
     "output_type": "execute_result"
    }
   ],
   "source": [
    "1920//2368"
   ]
  },
  {
   "cell_type": "code",
   "execution_count": 148,
   "id": "eda9776a",
   "metadata": {},
   "outputs": [
    {
     "data": {
      "text/plain": [
       "222"
      ]
     },
     "execution_count": 148,
     "metadata": {},
     "output_type": "execute_result"
    }
   ],
   "source": [
    "37*6"
   ]
  },
  {
   "cell_type": "code",
   "execution_count": 1,
   "id": "fceb20e1",
   "metadata": {},
   "outputs": [],
   "source": [
    "using Polynomials"
   ]
  },
  {
   "cell_type": "code",
   "execution_count": 30,
   "id": "5fe3edd0",
   "metadata": {},
   "outputs": [
    {
     "data": {
      "text/html": [
       "6 &#43; 90&#8729;x &#43; 200&#8729;x<sup>2</sup>"
      ],
      "text/latex": [
       "$6 + 90\\cdot x + 200\\cdot x^{2}$"
      ],
      "text/plain": [
       "Polynomial(6 + 90*x + 200*x^2)"
      ]
     },
     "execution_count": 30,
     "metadata": {},
     "output_type": "execute_result"
    }
   ],
   "source": [
    "p1=Polynomial([6,90,200])"
   ]
  },
  {
   "cell_type": "code",
   "execution_count": 32,
   "id": "775efb1d",
   "metadata": {},
   "outputs": [
    {
     "data": {
      "text/plain": [
       "2-element Vector{Float64}:\n",
       " -0.3686140661634507\n",
       " -0.08138593383654928"
      ]
     },
     "execution_count": 32,
     "metadata": {},
     "output_type": "execute_result"
    }
   ],
   "source": [
    "sol=Polynomials.roots(p1)"
   ]
  },
  {
   "cell_type": "code",
   "execution_count": 6,
   "id": "1c7fc8d4",
   "metadata": {},
   "outputs": [
    {
     "data": {
      "text/plain": [
       "3"
      ]
     },
     "execution_count": 6,
     "metadata": {},
     "output_type": "execute_result"
    }
   ],
   "source": [
    "a=3"
   ]
  },
  {
   "cell_type": "code",
   "execution_count": 7,
   "id": "d66af0de",
   "metadata": {},
   "outputs": [
    {
     "data": {
      "text/plain": [
       "-11"
      ]
     },
     "execution_count": 7,
     "metadata": {},
     "output_type": "execute_result"
    }
   ],
   "source": [
    "b=-11"
   ]
  },
  {
   "cell_type": "code",
   "execution_count": 8,
   "id": "e5931feb",
   "metadata": {},
   "outputs": [
    {
     "data": {
      "text/plain": [
       "-10"
      ]
     },
     "execution_count": 8,
     "metadata": {},
     "output_type": "execute_result"
    }
   ],
   "source": [
    "c=-10"
   ]
  },
  {
   "cell_type": "code",
   "execution_count": 9,
   "id": "e9792ac5",
   "metadata": {},
   "outputs": [
    {
     "data": {
      "text/plain": [
       "11//6"
      ]
     },
     "execution_count": 9,
     "metadata": {},
     "output_type": "execute_result"
    }
   ],
   "source": [
    "-b//(2*a)"
   ]
  },
  {
   "cell_type": "code",
   "execution_count": 10,
   "id": "d59b1113",
   "metadata": {},
   "outputs": [
    {
     "data": {
      "text/plain": [
       "241"
      ]
     },
     "execution_count": 10,
     "metadata": {},
     "output_type": "execute_result"
    }
   ],
   "source": [
    "b^2-4*a*c"
   ]
  },
  {
   "cell_type": "code",
   "execution_count": 19,
   "id": "1e2bb1c0",
   "metadata": {},
   "outputs": [],
   "source": [
    "using SymPy"
   ]
  },
  {
   "cell_type": "code",
   "execution_count": 21,
   "id": "80da516e",
   "metadata": {},
   "outputs": [
    {
     "data": {
      "text/plain": [
       "(c1, c2, c3)"
      ]
     },
     "execution_count": 21,
     "metadata": {},
     "output_type": "execute_result"
    }
   ],
   "source": [
    "@vars c1 c2 c3"
   ]
  },
  {
   "cell_type": "code",
   "execution_count": 22,
   "id": "8c31dc89",
   "metadata": {},
   "outputs": [
    {
     "data": {
      "text/plain": [
       "7×6 Matrix{Int64}:\n",
       "  1   1   0   0  0  0\n",
       "  0   0   1   1  0  0\n",
       "  0   0   0   0  1  1\n",
       " -1   2   0   0  0  0\n",
       "  0   0  -1  -1  0  1\n",
       "  2  -1   0   0  0  0\n",
       "  0   0  -1  -1  1  0"
      ]
     },
     "execution_count": 22,
     "metadata": {},
     "output_type": "execute_result"
    }
   ],
   "source": [
    "M1=[1 1 0 0 0 0\n",
    "0 0 1 1 0 0 \n",
    "0 0 0 0 1 1\n",
    "-1 2 0 0 0 0\n",
    "0 0 -1 -1 0 1\n",
    "2 -1 0 0 0 0\n",
    "0 0 -1 -1 1 0]"
   ]
  },
  {
   "cell_type": "code",
   "execution_count": 23,
   "id": "c05925c0",
   "metadata": {},
   "outputs": [
    {
     "data": {
      "text/latex": [
       "$\\left[ \\begin{array}{r}2 c_{1}\\\\- c_{2} + c_{3}\\\\- c_{3}\\\\c_{1}\\\\c_{2}\\\\c_{1}\\\\c_{2} + 1\\end{array} \\right]$\n"
      ],
      "text/plain": [
       "7-element Vector{Sym}:\n",
       "     2⋅c₁\n",
       " -c₂ + c₃\n",
       "      -c₃\n",
       "       c₁\n",
       "       c₂\n",
       "       c₁\n",
       "   c₂ + 1"
      ]
     },
     "execution_count": 23,
     "metadata": {},
     "output_type": "execute_result"
    }
   ],
   "source": [
    "v1=[2*c1\n",
    "c3-c2\n",
    "-c3\n",
    "c1\n",
    "c2\n",
    "c1\n",
    "c2+1]"
   ]
  },
  {
   "cell_type": "code",
   "execution_count": 26,
   "id": "af610000",
   "metadata": {},
   "outputs": [],
   "source": [
    "using RowEchelon"
   ]
  },
  {
   "cell_type": "code",
   "execution_count": 27,
   "id": "2613e3b6",
   "metadata": {},
   "outputs": [
    {
     "data": {
      "text/plain": [
       "7×6 Matrix{Float64}:\n",
       " 1.0  0.0  0.0  0.0  0.0  0.0\n",
       " 0.0  1.0  0.0  0.0  0.0  0.0\n",
       " 0.0  0.0  1.0  1.0  0.0  0.0\n",
       " 0.0  0.0  0.0  0.0  1.0  0.0\n",
       " 0.0  0.0  0.0  0.0  0.0  1.0\n",
       " 0.0  0.0  0.0  0.0  0.0  0.0\n",
       " 0.0  0.0  0.0  0.0  0.0  0.0"
      ]
     },
     "execution_count": 27,
     "metadata": {},
     "output_type": "execute_result"
    }
   ],
   "source": [
    "rref(M1)"
   ]
  },
  {
   "cell_type": "code",
   "execution_count": 33,
   "id": "980ea237",
   "metadata": {},
   "outputs": [
    {
     "data": {
      "text/plain": [
       "2×2 Matrix{Float64}:\n",
       " -0.368614   0.3\n",
       " -0.0813859  0.3"
      ]
     },
     "execution_count": 33,
     "metadata": {},
     "output_type": "execute_result"
    }
   ],
   "source": [
    "M2=[sol[1,1] 0.3\n",
    "sol[2,1] 0.3]"
   ]
  },
  {
   "cell_type": "code",
   "execution_count": 34,
   "id": "cdb6fb65",
   "metadata": {},
   "outputs": [
    {
     "data": {
      "text/latex": [
       "$\\left[ \\begin{array}{r}c_{1}\\\\c_{2}\\end{array} \\right]$\n"
      ],
      "text/plain": [
       "2-element Vector{Sym}:\n",
       " c₁\n",
       " c₂"
      ]
     },
     "execution_count": 34,
     "metadata": {},
     "output_type": "execute_result"
    }
   ],
   "source": [
    "v2=[c1\n",
    "c2]"
   ]
  },
  {
   "cell_type": "code",
   "execution_count": 35,
   "id": "a0c571b4",
   "metadata": {},
   "outputs": [
    {
     "data": {
      "text/latex": [
       "$\\left[ \\begin{array}{r}- 0.174077655955698 c_{1} + 0.174077655955698 c_{2}\\\\- 0.04722490863344 c_{1} + 0.213891575300107 c_{2}\\end{array} \\right]$\n"
      ],
      "text/plain": [
       "2-element Vector{Sym}:\n",
       " -0.174077655955698⋅c₁ + 0.174077655955698⋅c₂\n",
       "  -0.04722490863344⋅c₁ + 0.213891575300107⋅c₂"
      ]
     },
     "execution_count": 35,
     "metadata": {},
     "output_type": "execute_result"
    }
   ],
   "source": [
    "(1/20)*inv(M2)*v2"
   ]
  },
  {
   "cell_type": "code",
   "execution_count": 37,
   "id": "f775978a",
   "metadata": {
    "collapsed": true,
    "jupyter": {
     "outputs_hidden": true
    }
   },
   "outputs": [
    {
     "data": {
      "text/plain": [
       "2×2 Matrix{Float64}:\n",
       " -0.174078   0.174078\n",
       " -0.0472249  0.213892"
      ]
     },
     "execution_count": 37,
     "metadata": {},
     "output_type": "execute_result"
    }
   ],
   "source": [
    "G1=(1/20)*inv(M2)"
   ]
  },
  {
   "cell_type": "code",
   "execution_count": 38,
   "id": "e1a95e99",
   "metadata": {},
   "outputs": [
    {
     "data": {
      "text/plain": [
       "2×2 Matrix{Float64}:\n",
       "  1.0       1.0\n",
       " -0.221303  0.387969"
      ]
     },
     "execution_count": 38,
     "metadata": {},
     "output_type": "execute_result"
    }
   ],
   "source": [
    "M3=[1 1\n",
    "G1[1,1]+G1[2,1] G1[1,2]+G1[2,2]]"
   ]
  },
  {
   "cell_type": "code",
   "execution_count": 39,
   "id": "16b5c435",
   "metadata": {},
   "outputs": [
    {
     "data": {
      "text/plain": [
       "2-element Vector{Float64}:\n",
       " 0.5\n",
       " 0.5"
      ]
     },
     "execution_count": 39,
     "metadata": {},
     "output_type": "execute_result"
    }
   ],
   "source": [
    "v3=[0.5\n",
    "0.5]"
   ]
  },
  {
   "cell_type": "code",
   "execution_count": 40,
   "id": "79e365d4",
   "metadata": {},
   "outputs": [
    {
     "data": {
      "text/plain": [
       "2-element Vector{Float64}:\n",
       " -0.5022641560942656\n",
       "  1.0022641560942656"
      ]
     },
     "execution_count": 40,
     "metadata": {},
     "output_type": "execute_result"
    }
   ],
   "source": [
    "inv(M3)*v3"
   ]
  },
  {
   "cell_type": "code",
   "execution_count": 41,
   "id": "6f8ea035",
   "metadata": {},
   "outputs": [
    {
     "data": {
      "text/plain": [
       "0.8800000000000001"
      ]
     },
     "execution_count": 41,
     "metadata": {},
     "output_type": "execute_result"
    }
   ],
   "source": [
    "x2=0.4+0.1*(0.4+2*2.2)"
   ]
  },
  {
   "cell_type": "code",
   "execution_count": 42,
   "id": "ea54fa3d",
   "metadata": {},
   "outputs": [
    {
     "data": {
      "text/plain": [
       "2.5"
      ]
     },
     "execution_count": 42,
     "metadata": {},
     "output_type": "execute_result"
    }
   ],
   "source": [
    "y2=2.2+0.1*(2*0.4+2.2)"
   ]
  },
  {
   "cell_type": "code",
   "execution_count": 44,
   "id": "2b83b59e",
   "metadata": {},
   "outputs": [
    {
     "data": {
      "text/plain": [
       "3.26"
      ]
     },
     "execution_count": 44,
     "metadata": {},
     "output_type": "execute_result"
    }
   ],
   "source": [
    "2*0.48+2.3"
   ]
  },
  {
   "cell_type": "code",
   "execution_count": 45,
   "id": "9cd83f58",
   "metadata": {},
   "outputs": [
    {
     "data": {
      "text/plain": [
       "1.016"
      ]
     },
     "execution_count": 45,
     "metadata": {},
     "output_type": "execute_result"
    }
   ],
   "source": [
    "0.2*5.08"
   ]
  },
  {
   "cell_type": "code",
   "execution_count": 56,
   "id": "2e15b26d",
   "metadata": {},
   "outputs": [
    {
     "data": {
      "text/plain": [
       "f (generic function with 1 method)"
      ]
     },
     "execution_count": 56,
     "metadata": {},
     "output_type": "execute_result"
    }
   ],
   "source": [
    "f(x)=exp(3*x)-exp(-x)"
   ]
  },
  {
   "cell_type": "code",
   "execution_count": 57,
   "id": "bffcc472",
   "metadata": {},
   "outputs": [
    {
     "data": {
      "text/plain": [
       "1.0033880473125274"
      ]
     },
     "execution_count": 57,
     "metadata": {},
     "output_type": "execute_result"
    }
   ],
   "source": [
    "f(0.2)"
   ]
  },
  {
   "cell_type": "code",
   "execution_count": 53,
   "id": "0a8622d6",
   "metadata": {},
   "outputs": [
    {
     "data": {
      "text/html": [
       "&#45;3 &#45; 2&#8729;x &#43; x<sup>2</sup>"
      ],
      "text/latex": [
       "$-3 - 2\\cdot x + x^{2}$"
      ],
      "text/plain": [
       "Polynomial(-3 - 2*x + x^2)"
      ]
     },
     "execution_count": 53,
     "metadata": {},
     "output_type": "execute_result"
    }
   ],
   "source": [
    "p1=Polynomial([-3,-2,1])"
   ]
  },
  {
   "cell_type": "code",
   "execution_count": 55,
   "id": "b0c0de6d",
   "metadata": {},
   "outputs": [
    {
     "data": {
      "text/plain": [
       "2-element Vector{Float64}:\n",
       " -0.9999999999999998\n",
       "  3.0000000000000004"
      ]
     },
     "execution_count": 55,
     "metadata": {},
     "output_type": "execute_result"
    }
   ],
   "source": [
    "Polynomials.roots(p1)"
   ]
  },
  {
   "cell_type": "code",
   "execution_count": 58,
   "id": "da4317db",
   "metadata": {},
   "outputs": [],
   "source": [
    "using Calculus"
   ]
  },
  {
   "cell_type": "code",
   "execution_count": 66,
   "id": "629aca39",
   "metadata": {},
   "outputs": [
    {
     "data": {
      "text/plain": [
       "f (generic function with 1 method)"
      ]
     },
     "execution_count": 66,
     "metadata": {},
     "output_type": "execute_result"
    }
   ],
   "source": [
    "f(x)=sqrt(115/99)*exp(-x)*cos(sqrt(99)*x-2*pi+atan(4/sqrt(99)))"
   ]
  },
  {
   "cell_type": "code",
   "execution_count": 67,
   "id": "8009e10f",
   "metadata": {},
   "outputs": [
    {
     "data": {
      "text/plain": [
       ":(0 * exp(-x) * cos((sqrt(99) * x - 2pi) + atan(4 / sqrt(99))) + sqrt(115 / 99) * (-1 * exp(-x)) * cos((sqrt(99) * x - 2pi) + atan(4 / sqrt(99))) + sqrt(115 / 99) * exp(-x) * (((0 * x + sqrt(99) * 1) - (0pi + 2 * 0)) * -(sin((sqrt(99) * x - 2pi) + atan(4 / sqrt(99))))))"
      ]
     },
     "execution_count": 67,
     "metadata": {},
     "output_type": "execute_result"
    }
   ],
   "source": [
    "differentiate(\"sqrt(115/99)*exp(-x)*cos(sqrt(99)*x-2*pi+atan(4/sqrt(99)))\",:x)"
   ]
  },
  {
   "cell_type": "code",
   "execution_count": 68,
   "id": "1419a4e7",
   "metadata": {},
   "outputs": [
    {
     "data": {
      "text/plain": [
       "fp (generic function with 1 method)"
      ]
     },
     "execution_count": 68,
     "metadata": {},
     "output_type": "execute_result"
    }
   ],
   "source": [
    "fp(x)=(0 * exp(-x) * cos((sqrt(99) * x - 2pi) + atan(4 / sqrt(99))) + sqrt(115 / 99) * (-1 * exp(-x)) * cos((sqrt(99) * x - 2pi) + atan(4 / sqrt(99))) + sqrt(115 / 99) * exp(-x) * (((0 * x + sqrt(99) * 1) - (0pi + 2 * 0)) * -(sin((sqrt(99) * x - 2pi) + atan(4 / sqrt(99))))))"
   ]
  },
  {
   "cell_type": "code",
   "execution_count": 73,
   "id": "dac3e8c9",
   "metadata": {},
   "outputs": [
    {
     "data": {
      "text/plain": [
       ":((0 * exp(-x) * cos((sqrt(99) * x - 2pi) + atan(4 / sqrt(99))) + 0 * (-1 * exp(-x)) * cos((sqrt(99) * x - 2pi) + atan(4 / sqrt(99))) + 0 * exp(-x) * (((0 * x + sqrt(99) * 1) - (0pi + 2 * 0)) * -(sin((sqrt(99) * x - 2pi) + atan(4 / sqrt(99)))))) + (0 * (-1 * exp(-x)) * cos((sqrt(99) * x - 2pi) + atan(4 / sqrt(99))) + sqrt(115 / 99) * (0 * exp(-x) + -1 * (-1 * exp(-x))) * cos((sqrt(99) * x - 2pi) + atan(4 / sqrt(99))) + sqrt(115 / 99) * (-1 * exp(-x)) * (((0 * x + sqrt(99) * 1) - (0pi + 2 * 0)) * -(sin((sqrt(99) * x - 2pi) + atan(4 / sqrt(99)))))) + (0 * exp(-x) * (((0 * x + sqrt(99) * 1) - (0pi + 2 * 0)) * -(sin((sqrt(99) * x - 2pi) + atan(4 / sqrt(99))))) + sqrt(115 / 99) * (-1 * exp(-x)) * (((0 * x + sqrt(99) * 1) - (0pi + 2 * 0)) * -(sin((sqrt(99) * x - 2pi) + atan(4 / sqrt(99))))) + sqrt(115 / 99) * exp(-x) * ((((0 * x + 0 * 1) + (0 * 1 + sqrt(99) * 0)) - ((0pi + 0 * 0) + (0 * 0 + 2 * 0))) * -(sin((sqrt(99) * x - 2pi) + atan(4 / sqrt(99)))) + ((0 * x + sqrt(99) * 1) - (0pi + 2 * 0)) * -(((0 * x + sqrt(99) * 1) - (0pi + 2 * 0)) * cos((sqrt(99) * x - 2pi) + atan(4 / sqrt(99)))))))"
      ]
     },
     "execution_count": 73,
     "metadata": {},
     "output_type": "execute_result"
    }
   ],
   "source": [
    "differentiate(\"(0 * exp(-x) * cos((sqrt(99) * x - 2pi) + atan(4 / sqrt(99))) + sqrt(115 / 99) * (-1 * exp(-x)) * cos((sqrt(99) * x - 2pi) + atan(4 / sqrt(99))) + sqrt(115 / 99) * exp(-x) * (((0 * x + sqrt(99) * 1) - (0pi + 2 * 0)) * -(sin((sqrt(99) * x - 2pi) + atan(4 / sqrt(99))))))\",:x)"
   ]
  },
  {
   "cell_type": "code",
   "execution_count": 74,
   "id": "b41d0efa",
   "metadata": {},
   "outputs": [
    {
     "data": {
      "text/plain": [
       "fpp (generic function with 1 method)"
      ]
     },
     "execution_count": 74,
     "metadata": {},
     "output_type": "execute_result"
    }
   ],
   "source": [
    "fpp(x)=((0 * exp(-x) * cos((sqrt(99) * x - 2pi) + atan(4 / sqrt(99))) + 0 * (-1 * exp(-x)) * cos((sqrt(99) * x - 2pi) + atan(4 / sqrt(99))) + 0 * exp(-x) * (((0 * x + sqrt(99) * 1) - (0pi + 2 * 0)) * -(sin((sqrt(99) * x - 2pi) + atan(4 / sqrt(99)))))) + (0 * (-1 * exp(-x)) * cos((sqrt(99) * x - 2pi) + atan(4 / sqrt(99))) + sqrt(115 / 99) * (0 * exp(-x) + -1 * (-1 * exp(-x))) * cos((sqrt(99) * x - 2pi) + atan(4 / sqrt(99))) + sqrt(115 / 99) * (-1 * exp(-x)) * (((0 * x + sqrt(99) * 1) - (0pi + 2 * 0)) * -(sin((sqrt(99) * x - 2pi) + atan(4 / sqrt(99)))))) + (0 * exp(-x) * (((0 * x + sqrt(99) * 1) - (0pi + 2 * 0)) * -(sin((sqrt(99) * x - 2pi) + atan(4 / sqrt(99))))) + sqrt(115 / 99) * (-1 * exp(-x)) * (((0 * x + sqrt(99) * 1) - (0pi + 2 * 0)) * -(sin((sqrt(99) * x - 2pi) + atan(4 / sqrt(99))))) + sqrt(115 / 99) * exp(-x) * ((((0 * x + 0 * 1) + (0 * 1 + sqrt(99) * 0)) - ((0pi + 0 * 0) + (0 * 0 + 2 * 0))) * -(sin((sqrt(99) * x - 2pi) + atan(4 / sqrt(99)))) + ((0 * x + sqrt(99) * 1) - (0pi + 2 * 0)) * -(((0 * x + sqrt(99) * 1) - (0pi + 2 * 0)) * cos((sqrt(99) * x - 2pi) + atan(4 / sqrt(99)))))))"
   ]
  },
  {
   "cell_type": "code",
   "execution_count": 75,
   "id": "22ff52c7",
   "metadata": {},
   "outputs": [
    {
     "data": {
      "text/plain": [
       "F (generic function with 1 method)"
      ]
     },
     "execution_count": 75,
     "metadata": {},
     "output_type": "execute_result"
    }
   ],
   "source": [
    "F(x)=fpp(x)+2*fp(x)+100*f(x)"
   ]
  },
  {
   "cell_type": "code",
   "execution_count": 77,
   "id": "6e3241b7",
   "metadata": {},
   "outputs": [
    {
     "data": {
      "text/plain": [
       "0.0"
      ]
     },
     "execution_count": 77,
     "metadata": {},
     "output_type": "execute_result"
    }
   ],
   "source": [
    "F(15)"
   ]
  }
 ],
 "metadata": {
  "kernelspec": {
   "display_name": "Julia 1.7.2",
   "language": "julia",
   "name": "julia-1.7"
  },
  "language_info": {
   "file_extension": ".jl",
   "mimetype": "application/julia",
   "name": "julia",
   "version": "1.7.2"
  }
 },
 "nbformat": 4,
 "nbformat_minor": 5
}
