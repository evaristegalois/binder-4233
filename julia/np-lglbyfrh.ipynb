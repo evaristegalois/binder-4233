{
 "cells": [
  {
   "cell_type": "markdown",
   "metadata": {},
   "source": [
    "<h2>Systems of Diffeqs Variation of Parameters</h2>"
   ]
  },
  {
   "cell_type": "markdown",
   "metadata": {},
   "source": [
    "<h4>Undetermined Coefficients</h4>"
   ]
  },
  {
   "cell_type": "code",
   "execution_count": 30,
   "metadata": {},
   "outputs": [],
   "source": [
    "using LinearAlgebra"
   ]
  },
  {
   "cell_type": "code",
   "execution_count": 31,
   "metadata": {},
   "outputs": [
    {
     "data": {
      "text/plain": [
       "2×2 Matrix{Int64}:\n",
       " 4   2\n",
       " 3  -1"
      ]
     },
     "execution_count": 31,
     "metadata": {},
     "output_type": "execute_result"
    }
   ],
   "source": [
    "A1=[4 2;3 -1]"
   ]
  },
  {
   "cell_type": "code",
   "execution_count": 32,
   "metadata": {},
   "outputs": [
    {
     "data": {
      "text/plain": [
       "2×2 Matrix{Float64}:\n",
       " -0.316228  0.894427\n",
       "  0.948683  0.447214"
      ]
     },
     "execution_count": 32,
     "metadata": {},
     "output_type": "execute_result"
    }
   ],
   "source": [
    "eigvecs(A1)"
   ]
  },
  {
   "cell_type": "code",
   "execution_count": 33,
   "metadata": {},
   "outputs": [],
   "source": [
    "# sage code\n",
    "# A1=matrix(QQ,[[4,2],[3,-1]])\n",
    "# A1.eigenvectors_right()\n",
    "# [(5,\n",
    "#   [\n",
    "#   (1, 1/2)\n",
    "#   ],\n",
    "#   1),\n",
    "#  (-2,\n",
    "#   [\n",
    "#   (1, -3)\n",
    "#   ],\n",
    "#   1)]"
   ]
  },
  {
   "cell_type": "code",
   "execution_count": 34,
   "metadata": {},
   "outputs": [
    {
     "data": {
      "text/plain": [
       "6×6 Matrix{Int64}:\n",
       "  0   0   0   0  -3   0\n",
       "  0   0   0   0   0  -3\n",
       "  0   0  -3   0   2   0\n",
       "  0   0   0  -3   0   2\n",
       " -3   0   1   0   0   0\n",
       "  0  -3   0   1   0   0"
      ]
     },
     "execution_count": 34,
     "metadata": {},
     "output_type": "execute_result"
    }
   ],
   "source": [
    "M1=[0 0 0 0 -3 0\n",
    "0 0 0 0 0 -3\n",
    "0 0 -3 0 2 0\n",
    "0 0 0 -3 0 2\n",
    "-3 0 1 0 0 0\n",
    "0 -3 0 1 0 0]"
   ]
  },
  {
   "cell_type": "code",
   "execution_count": 35,
   "metadata": {},
   "outputs": [
    {
     "data": {
      "text/plain": [
       "6×1 transpose(::Matrix{Int64}) with eltype Int64:\n",
       "   0\n",
       "   0\n",
       " -15\n",
       "  -4\n",
       "   0\n",
       "   0"
      ]
     },
     "execution_count": 35,
     "metadata": {},
     "output_type": "execute_result"
    }
   ],
   "source": [
    "v1=transpose([0 0 -15 -4 0 0])"
   ]
  },
  {
   "cell_type": "code",
   "execution_count": 36,
   "metadata": {},
   "outputs": [
    {
     "data": {
      "text/plain": [
       "6×1 Matrix{Float64}:\n",
       " 1.6666666666666665\n",
       " 0.4444444444444444\n",
       " 5.0\n",
       " 1.3333333333333333\n",
       " 0.0\n",
       " 0.0"
      ]
     },
     "execution_count": 36,
     "metadata": {},
     "output_type": "execute_result"
    }
   ],
   "source": [
    "inv(M1)*v1"
   ]
  },
  {
   "cell_type": "markdown",
   "metadata": {},
   "source": [
    "The general solution is\n",
    "$$\n",
    "\\boldsymbol{x}(t)=\\frac{1}{9}e^{-2t}\\left(\\left[\\begin{array}{c}45\\\\12\\end{array}\\right]t+\\left[\\begin{array}{c}15\\\\4\\end{array}\\right]\\right)+c_1\\left[\\begin{array}{c}2\\\\1\\end{array}\\right]e^{5t}+c_2\\left[\\begin{array}{c}1\\\\-3\\end{array}\\right]e^{-2t}\n",
    "$$\n",
    "This contradicts EPC who think we need a $t^{2}$ term in the particular solution. Calculation in Schmierbuch 3546f."
   ]
  },
  {
   "cell_type": "markdown",
   "metadata": {},
   "source": [
    "<h4>Variation of Parameters</h4>"
   ]
  },
  {
   "cell_type": "code",
   "execution_count": 37,
   "metadata": {},
   "outputs": [
    {
     "data": {
      "text/plain": [
       "2×2 Matrix{Int64}:\n",
       " 2   1\n",
       " 1  -3"
      ]
     },
     "execution_count": 37,
     "metadata": {},
     "output_type": "execute_result"
    }
   ],
   "source": [
    "M2=[2 1\n",
    "1 -3]"
   ]
  },
  {
   "cell_type": "code",
   "execution_count": 38,
   "metadata": {},
   "outputs": [
    {
     "data": {
      "text/plain": [
       "2-element Vector{Rational{Int64}}:\n",
       " 16//3\n",
       " 23//9"
      ]
     },
     "execution_count": 38,
     "metadata": {},
     "output_type": "execute_result"
    }
   ],
   "source": [
    "v2=[48//9\n",
    "    23//9]"
   ]
  },
  {
   "cell_type": "code",
   "execution_count": 39,
   "metadata": {},
   "outputs": [
    {
     "data": {
      "text/plain": [
       "2-element Vector{Float64}:\n",
       " 2.6507936507936507\n",
       " 0.0317460317460318"
      ]
     },
     "execution_count": 39,
     "metadata": {},
     "output_type": "execute_result"
    }
   ],
   "source": [
    "inv(M2)*v2"
   ]
  },
  {
   "cell_type": "code",
   "execution_count": 40,
   "metadata": {},
   "outputs": [],
   "source": [
    "using SymPy"
   ]
  },
  {
   "cell_type": "code",
   "execution_count": 41,
   "metadata": {},
   "outputs": [
    {
     "data": {
      "text/plain": [
       "(t,)"
      ]
     },
     "execution_count": 41,
     "metadata": {},
     "output_type": "execute_result"
    }
   ],
   "source": [
    "@vars t"
   ]
  },
  {
   "cell_type": "code",
   "execution_count": 42,
   "metadata": {},
   "outputs": [
    {
     "data": {
      "text/latex": [
       "$\\left[ \\begin{array}{rr}\\frac{6 e^{5 t}}{7} + \\frac{e^{- 2 t}}{7}&\\frac{2 e^{5 t}}{7} - \\frac{2 e^{- 2 t}}{7}\\\\\\frac{3 e^{5 t}}{7} - \\frac{3 e^{- 2 t}}{7}&\\frac{e^{5 t}}{7} + \\frac{6 e^{- 2 t}}{7}\\end{array}\\right]$\n"
      ],
      "text/plain": [
       "2×2 Matrix{Sym}:\n",
       "   6*exp(5*t)/7 + exp(-2*t)/7  2*exp(5*t)/7 - 2*exp(-2*t)/7\n",
       " 3*exp(5*t)/7 - 3*exp(-2*t)/7    exp(5*t)/7 + 6*exp(-2*t)/7"
      ]
     },
     "execution_count": 42,
     "metadata": {},
     "output_type": "execute_result"
    }
   ],
   "source": [
    "eat=[(6//7)*exp(5*t)+(1//7)*exp(-2*t) (2//7)*exp(5*t)-(2//7)*exp(-2*t)\n",
    "(3//7)*exp(5*t)-(3//7)*exp(-2*t) (1//7)*exp(5*t)+(6//7)*exp(-2*t)] # exp(A1*t) will give you the same"
   ]
  },
  {
   "cell_type": "code",
   "execution_count": 43,
   "metadata": {},
   "outputs": [
    {
     "data": {
      "text/latex": [
       "$\\left[ \\begin{array}{r}15 t e^{- 2 t}\\\\4 t e^{- 2 t}\\end{array} \\right]$\n"
      ],
      "text/plain": [
       "2-element Vector{Sym}:\n",
       " 15*t*exp(-2*t)\n",
       "  4*t*exp(-2*t)"
      ]
     },
     "execution_count": 43,
     "metadata": {},
     "output_type": "execute_result"
    }
   ],
   "source": [
    "fot=[15*t*exp(-2t)\n",
    "4*t*exp(-2t)]"
   ]
  },
  {
   "cell_type": "code",
   "execution_count": 44,
   "metadata": {},
   "outputs": [
    {
     "name": "stderr",
     "output_type": "stream",
     "text": [
      "┌ Warning: `vendor()` is deprecated, use `BLAS.get_config()` and inspect the output instead\n",
      "│   caller = npyinitialize() at numpy.jl:67\n",
      "└ @ PyCall /home/ec2-user/.julia/packages/PyCall/L0fLP/src/numpy.jl:67\n"
     ]
    },
    {
     "data": {
      "text/latex": [
       "$\\left[ \\begin{array}{r}\\frac{4 t \\left(- 72 e^{22 t} + 48 e^{15 t} + 22 e^{8 t} + 2 e^{t}\\right) e^{- 2 t}}{252 e^{20 t} + 84 e^{13 t} + 7 e^{6 t}} + \\frac{15 t \\left(36 e^{22 t} + 228 e^{15 t} + 73 e^{8 t} + 6 e^{t}\\right) e^{- 2 t}}{252 e^{20 t} + 84 e^{13 t} + 7 e^{6 t}}\\\\15 t \\left(- \\frac{3 e^{2 t}}{7} + \\frac{3 e^{- 5 t}}{7}\\right) e^{- 2 t} + 4 t \\left(\\frac{6 e^{2 t}}{7} + \\frac{e^{- 5 t}}{7}\\right) e^{- 2 t}\\end{array} \\right]$\n"
      ],
      "text/plain": [
       "2-element Vector{Sym}:\n",
       " 4*t*(-72*exp(22*t) + 48*exp(15*t) + 22*exp(8*t) + 2*exp(t))*exp(-2*t)/(252*exp(20*t) + 84*exp(13*t) + 7*exp(6*t)) + 15*t*(36*exp(22*t) + 228*exp(15*t) + 73*exp(8*t) + 6*exp(t))*exp(-2*t)/(252*exp(20*t) + 84*exp(13*t) + 7*exp(6*t))\n",
       "                                                                                                                                            15*t*(-3*exp(2*t)/7 + 3*exp(-5*t)/7)*exp(-2*t) + 4*t*(6*exp(2*t)/7 + exp(-5*t)/7)*exp(-2*t)"
      ]
     },
     "execution_count": 44,
     "metadata": {},
     "output_type": "execute_result"
    }
   ],
   "source": [
    "inv(eat)*fot # exp(-A1*t) is a lot simpler than inv(eat)"
   ]
  },
  {
   "cell_type": "code",
   "execution_count": 45,
   "metadata": {},
   "outputs": [
    {
     "data": {
      "text/latex": [
       "$\\left[ \\begin{array}{r}4 t \\left(- \\frac{2 e^{2 t}}{7} + \\frac{2 e^{- 5 t}}{7}\\right) e^{- 2 t} + 15 t \\left(\\frac{e^{2 t}}{7} + \\frac{6 e^{- 5 t}}{7}\\right) e^{- 2 t}\\\\15 t \\left(- \\frac{3 e^{2 t}}{7} + \\frac{3 e^{- 5 t}}{7}\\right) e^{- 2 t} + 4 t \\left(\\frac{6 e^{2 t}}{7} + \\frac{e^{- 5 t}}{7}\\right) e^{- 2 t}\\end{array} \\right]$\n"
      ],
      "text/plain": [
       "2-element Vector{Sym}:\n",
       " 4*t*(-2*exp(2*t)/7 + 2*exp(-5*t)/7)*exp(-2*t) + 15*t*(exp(2*t)/7 + 6*exp(-5*t)/7)*exp(-2*t)\n",
       " 15*t*(-3*exp(2*t)/7 + 3*exp(-5*t)/7)*exp(-2*t) + 4*t*(6*exp(2*t)/7 + exp(-5*t)/7)*exp(-2*t)"
      ]
     },
     "execution_count": 45,
     "metadata": {},
     "output_type": "execute_result"
    }
   ],
   "source": [
    "exp(-A1*t)*fot"
   ]
  },
  {
   "cell_type": "code",
   "execution_count": 46,
   "metadata": {},
   "outputs": [
    {
     "data": {
      "text/latex": [
       "$\\left[ \\begin{array}{r}\\frac{\\left(2 t - 1\\right) e^{2 t}}{4} - \\frac{14 \\left(5 t + 1\\right) e^{- 5 t}}{25}\\\\- \\frac{3 \\left(2 t - 1\\right) e^{2 t}}{4} - \\frac{7 \\left(5 t + 1\\right) e^{- 5 t}}{25}\\end{array} \\right]$\n"
      ],
      "text/plain": [
       "2-element Vector{Sym}:\n",
       "   (2*t - 1)*exp(2*t)/4 - 14*(5*t + 1)*exp(-5*t)/25\n",
       " -3*(2*t - 1)*exp(2*t)/4 - 7*(5*t + 1)*exp(-5*t)/25"
      ]
     },
     "execution_count": 46,
     "metadata": {},
     "output_type": "execute_result"
    }
   ],
   "source": [
    "intd=[4*(((-2//(7*4))*exp(2*t)*(2*t-1))-((2//(7*25))*exp(-5*t)*(5*t+1)))+15*(((1//(7*4))*exp(2*t)*(2*t-1))-((6//(7*25))*exp(-5*t)*(5*t+1)))\n",
    "15*(((-3//(7*4))*exp(2*t)*(2*t-1))-((3//(7*25))*exp(-5*t)*(5*t+1)))+4*(((6//(7*4))*exp(2*t)*(2*t-1))-((1//(7*25))*exp(-5*t)*(5*t+1)))]"
   ]
  },
  {
   "cell_type": "code",
   "execution_count": 47,
   "metadata": {},
   "outputs": [
    {
     "data": {
      "text/latex": [
       "$\\left[ \\begin{array}{r}\\left(- \\frac{3 \\left(2 t - 1\\right) e^{2 t}}{4} - \\frac{7 \\left(5 t + 1\\right) e^{- 5 t}}{25}\\right) \\left(\\frac{2 e^{5 t}}{7} - \\frac{2 e^{- 2 t}}{7}\\right) + \\left(\\frac{\\left(2 t - 1\\right) e^{2 t}}{4} - \\frac{14 \\left(5 t + 1\\right) e^{- 5 t}}{25}\\right) \\left(\\frac{6 e^{5 t}}{7} + \\frac{e^{- 2 t}}{7}\\right)\\\\\\left(- \\frac{3 \\left(2 t - 1\\right) e^{2 t}}{4} - \\frac{7 \\left(5 t + 1\\right) e^{- 5 t}}{25}\\right) \\left(\\frac{e^{5 t}}{7} + \\frac{6 e^{- 2 t}}{7}\\right) + \\left(\\frac{\\left(2 t - 1\\right) e^{2 t}}{4} - \\frac{14 \\left(5 t + 1\\right) e^{- 5 t}}{25}\\right) \\left(\\frac{3 e^{5 t}}{7} - \\frac{3 e^{- 2 t}}{7}\\right)\\end{array} \\right]$\n"
      ],
      "text/plain": [
       "2-element Vector{Sym}:\n",
       " (-3*(2*t - 1)*exp(2*t)/4 - 7*(5*t + 1)*exp(-5*t)/25)*(2*exp(5*t)/7 - 2*exp(-2*t)/7) + ((2*t - 1)*exp(2*t)/4 - 14*(5*t + 1)*exp(-5*t)/25)*(6*exp(5*t)/7 + exp(-2*t)/7)\n",
       " (-3*(2*t - 1)*exp(2*t)/4 - 7*(5*t + 1)*exp(-5*t)/25)*(exp(5*t)/7 + 6*exp(-2*t)/7) + ((2*t - 1)*exp(2*t)/4 - 14*(5*t + 1)*exp(-5*t)/25)*(3*exp(5*t)/7 - 3*exp(-2*t)/7)"
      ]
     },
     "execution_count": 47,
     "metadata": {},
     "output_type": "execute_result"
    }
   ],
   "source": [
    "xp=eat*intd # this is supposed to be the particular solution"
   ]
  },
  {
   "cell_type": "code",
   "execution_count": 48,
   "metadata": {},
   "outputs": [
    {
     "data": {
      "text/plain": [
       "-81//100"
      ]
     },
     "execution_count": 48,
     "metadata": {},
     "output_type": "execute_result"
    }
   ],
   "source": [
    "-1//4-14//25"
   ]
  },
  {
   "cell_type": "code",
   "execution_count": 49,
   "metadata": {},
   "outputs": [
    {
     "data": {
      "text/plain": [
       "47//100"
      ]
     },
     "execution_count": 49,
     "metadata": {},
     "output_type": "execute_result"
    }
   ],
   "source": [
    "3//4-7//25"
   ]
  },
  {
   "cell_type": "code",
   "execution_count": 50,
   "metadata": {},
   "outputs": [
    {
     "data": {
      "text/plain": [
       "2×2 Matrix{Int64}:\n",
       " 2   1\n",
       " 1  -3"
      ]
     },
     "execution_count": 50,
     "metadata": {},
     "output_type": "execute_result"
    }
   ],
   "source": [
    "M3=M2"
   ]
  },
  {
   "cell_type": "code",
   "execution_count": 51,
   "metadata": {},
   "outputs": [
    {
     "data": {
      "text/plain": [
       "2-element Vector{Float64}:\n",
       " 7.8100000000000005\n",
       " 2.5300000000000002"
      ]
     },
     "execution_count": 51,
     "metadata": {},
     "output_type": "execute_result"
    }
   ],
   "source": [
    "v3=[81/100+7\n",
    "-47/100+3]"
   ]
  },
  {
   "cell_type": "code",
   "execution_count": 52,
   "metadata": {},
   "outputs": [
    {
     "data": {
      "text/plain": [
       "2-element Vector{Float64}:\n",
       " 3.708571428571429\n",
       " 0.3928571428571428"
      ]
     },
     "execution_count": 52,
     "metadata": {},
     "output_type": "execute_result"
    }
   ],
   "source": [
    "inv(M3)*v3 # unfortunately with these constants the variation of parameter solution does not equal the solution above see desmos"
   ]
  },
  {
   "cell_type": "markdown",
   "metadata": {},
   "source": [
    "One thing that is strange right away is that the variation of parameter solution has $e^{-5t}$ in the particular solution. As it turns out, Julia's numerical algorithm disagrees with *both* of my solutions. (Compare values to desmos graph.) Note that there is not a $t^{2}$ term in the variation of parameters method either."
   ]
  },
  {
   "cell_type": "code",
   "execution_count": 53,
   "metadata": {},
   "outputs": [
    {
     "data": {
      "image/svg+xml": [
       "<?xml version=\"1.0\" encoding=\"utf-8\"?>\n",
       "<svg xmlns=\"http://www.w3.org/2000/svg\" xmlns:xlink=\"http://www.w3.org/1999/xlink\" width=\"600\" height=\"400\" viewBox=\"0 0 2400 1600\">\n",
       "<defs>\n",
       "  <clipPath id=\"clip630\">\n",
       "    <rect x=\"0\" y=\"0\" width=\"2400\" height=\"1600\"/>\n",
       "  </clipPath>\n",
       "</defs>\n",
       "<path clip-path=\"url(#clip630)\" d=\"\n",
       "M0 1600 L2400 1600 L2400 0 L0 0  Z\n",
       "  \" fill=\"#ffffff\" fill-rule=\"evenodd\" fill-opacity=\"1\"/>\n",
       "<defs>\n",
       "  <clipPath id=\"clip631\">\n",
       "    <rect x=\"480\" y=\"0\" width=\"1681\" height=\"1600\"/>\n",
       "  </clipPath>\n",
       "</defs>\n",
       "<path clip-path=\"url(#clip630)\" d=\"\n",
       "M141.853 1423.18 L2352.76 1423.18 L2352.76 47.2441 L141.853 47.2441  Z\n",
       "  \" fill=\"#ffffff\" fill-rule=\"evenodd\" fill-opacity=\"1\"/>\n",
       "<defs>\n",
       "  <clipPath id=\"clip632\">\n",
       "    <rect x=\"141\" y=\"47\" width=\"2212\" height=\"1377\"/>\n",
       "  </clipPath>\n",
       "</defs>\n",
       "<polyline clip-path=\"url(#clip632)\" style=\"stroke:#000000; stroke-linecap:butt; stroke-linejoin:round; stroke-width:2; stroke-opacity:0.1; fill:none\" points=\"\n",
       "  141.853,1423.18 141.853,47.2441 \n",
       "  \"/>\n",
       "<polyline clip-path=\"url(#clip632)\" style=\"stroke:#000000; stroke-linecap:butt; stroke-linejoin:round; stroke-width:2; stroke-opacity:0.1; fill:none\" points=\"\n",
       "  584.034,1423.18 584.034,47.2441 \n",
       "  \"/>\n",
       "<polyline clip-path=\"url(#clip632)\" style=\"stroke:#000000; stroke-linecap:butt; stroke-linejoin:round; stroke-width:2; stroke-opacity:0.1; fill:none\" points=\"\n",
       "  1026.21,1423.18 1026.21,47.2441 \n",
       "  \"/>\n",
       "<polyline clip-path=\"url(#clip632)\" style=\"stroke:#000000; stroke-linecap:butt; stroke-linejoin:round; stroke-width:2; stroke-opacity:0.1; fill:none\" points=\"\n",
       "  1468.39,1423.18 1468.39,47.2441 \n",
       "  \"/>\n",
       "<polyline clip-path=\"url(#clip632)\" style=\"stroke:#000000; stroke-linecap:butt; stroke-linejoin:round; stroke-width:2; stroke-opacity:0.1; fill:none\" points=\"\n",
       "  1910.58,1423.18 1910.58,47.2441 \n",
       "  \"/>\n",
       "<polyline clip-path=\"url(#clip632)\" style=\"stroke:#000000; stroke-linecap:butt; stroke-linejoin:round; stroke-width:2; stroke-opacity:0.1; fill:none\" points=\"\n",
       "  2352.76,1423.18 2352.76,47.2441 \n",
       "  \"/>\n",
       "<polyline clip-path=\"url(#clip630)\" style=\"stroke:#000000; stroke-linecap:butt; stroke-linejoin:round; stroke-width:4; stroke-opacity:1; fill:none\" points=\"\n",
       "  141.853,1423.18 2352.76,1423.18 \n",
       "  \"/>\n",
       "<polyline clip-path=\"url(#clip630)\" style=\"stroke:#000000; stroke-linecap:butt; stroke-linejoin:round; stroke-width:4; stroke-opacity:1; fill:none\" points=\"\n",
       "  141.853,1423.18 141.853,1404.28 \n",
       "  \"/>\n",
       "<polyline clip-path=\"url(#clip630)\" style=\"stroke:#000000; stroke-linecap:butt; stroke-linejoin:round; stroke-width:4; stroke-opacity:1; fill:none\" points=\"\n",
       "  584.034,1423.18 584.034,1404.28 \n",
       "  \"/>\n",
       "<polyline clip-path=\"url(#clip630)\" style=\"stroke:#000000; stroke-linecap:butt; stroke-linejoin:round; stroke-width:4; stroke-opacity:1; fill:none\" points=\"\n",
       "  1026.21,1423.18 1026.21,1404.28 \n",
       "  \"/>\n",
       "<polyline clip-path=\"url(#clip630)\" style=\"stroke:#000000; stroke-linecap:butt; stroke-linejoin:round; stroke-width:4; stroke-opacity:1; fill:none\" points=\"\n",
       "  1468.39,1423.18 1468.39,1404.28 \n",
       "  \"/>\n",
       "<polyline clip-path=\"url(#clip630)\" style=\"stroke:#000000; stroke-linecap:butt; stroke-linejoin:round; stroke-width:4; stroke-opacity:1; fill:none\" points=\"\n",
       "  1910.58,1423.18 1910.58,1404.28 \n",
       "  \"/>\n",
       "<polyline clip-path=\"url(#clip630)\" style=\"stroke:#000000; stroke-linecap:butt; stroke-linejoin:round; stroke-width:4; stroke-opacity:1; fill:none\" points=\"\n",
       "  2352.76,1423.18 2352.76,1404.28 \n",
       "  \"/>\n",
       "<path clip-path=\"url(#clip630)\" d=\"M119.237 1454.1 Q115.626 1454.1 113.798 1457.66 Q111.992 1461.2 111.992 1468.33 Q111.992 1475.44 113.798 1479.01 Q115.626 1482.55 119.237 1482.55 Q122.872 1482.55 124.677 1479.01 Q126.506 1475.44 126.506 1468.33 Q126.506 1461.2 124.677 1457.66 Q122.872 1454.1 119.237 1454.1 M119.237 1450.39 Q125.047 1450.39 128.103 1455 Q131.182 1459.58 131.182 1468.33 Q131.182 1477.06 128.103 1481.67 Q125.047 1486.25 119.237 1486.25 Q113.427 1486.25 110.348 1481.67 Q107.293 1477.06 107.293 1468.33 Q107.293 1459.58 110.348 1455 Q113.427 1450.39 119.237 1450.39 Z\" fill=\"#000000\" fill-rule=\"evenodd\" fill-opacity=\"1\" /><path clip-path=\"url(#clip630)\" d=\"M139.399 1479.7 L144.283 1479.7 L144.283 1485.58 L139.399 1485.58 L139.399 1479.7 Z\" fill=\"#000000\" fill-rule=\"evenodd\" fill-opacity=\"1\" /><path clip-path=\"url(#clip630)\" d=\"M164.469 1454.1 Q160.857 1454.1 159.029 1457.66 Q157.223 1461.2 157.223 1468.33 Q157.223 1475.44 159.029 1479.01 Q160.857 1482.55 164.469 1482.55 Q168.103 1482.55 169.908 1479.01 Q171.737 1475.44 171.737 1468.33 Q171.737 1461.2 169.908 1457.66 Q168.103 1454.1 164.469 1454.1 M164.469 1450.39 Q170.279 1450.39 173.334 1455 Q176.413 1459.58 176.413 1468.33 Q176.413 1477.06 173.334 1481.67 Q170.279 1486.25 164.469 1486.25 Q158.658 1486.25 155.58 1481.67 Q152.524 1477.06 152.524 1468.33 Q152.524 1459.58 155.58 1455 Q158.658 1450.39 164.469 1450.39 Z\" fill=\"#000000\" fill-rule=\"evenodd\" fill-opacity=\"1\" /><path clip-path=\"url(#clip630)\" d=\"M562.031 1454.1 Q558.42 1454.1 556.592 1457.66 Q554.786 1461.2 554.786 1468.33 Q554.786 1475.44 556.592 1479.01 Q558.42 1482.55 562.031 1482.55 Q565.666 1482.55 567.471 1479.01 Q569.3 1475.44 569.3 1468.33 Q569.3 1461.2 567.471 1457.66 Q565.666 1454.1 562.031 1454.1 M562.031 1450.39 Q567.841 1450.39 570.897 1455 Q573.976 1459.58 573.976 1468.33 Q573.976 1477.06 570.897 1481.67 Q567.841 1486.25 562.031 1486.25 Q556.221 1486.25 553.142 1481.67 Q550.087 1477.06 550.087 1468.33 Q550.087 1459.58 553.142 1455 Q556.221 1450.39 562.031 1450.39 Z\" fill=\"#000000\" fill-rule=\"evenodd\" fill-opacity=\"1\" /><path clip-path=\"url(#clip630)\" d=\"M582.193 1479.7 L587.078 1479.7 L587.078 1485.58 L582.193 1485.58 L582.193 1479.7 Z\" fill=\"#000000\" fill-rule=\"evenodd\" fill-opacity=\"1\" /><path clip-path=\"url(#clip630)\" d=\"M598.073 1481.64 L605.712 1481.64 L605.712 1455.28 L597.402 1456.95 L597.402 1452.69 L605.665 1451.02 L610.341 1451.02 L610.341 1481.64 L617.98 1481.64 L617.98 1485.58 L598.073 1485.58 L598.073 1481.64 Z\" fill=\"#000000\" fill-rule=\"evenodd\" fill-opacity=\"1\" /><path clip-path=\"url(#clip630)\" d=\"M1004.4 1454.1 Q1000.79 1454.1 998.957 1457.66 Q997.152 1461.2 997.152 1468.33 Q997.152 1475.44 998.957 1479.01 Q1000.79 1482.55 1004.4 1482.55 Q1008.03 1482.55 1009.84 1479.01 Q1011.67 1475.44 1011.67 1468.33 Q1011.67 1461.2 1009.84 1457.66 Q1008.03 1454.1 1004.4 1454.1 M1004.4 1450.39 Q1010.21 1450.39 1013.26 1455 Q1016.34 1459.58 1016.34 1468.33 Q1016.34 1477.06 1013.26 1481.67 Q1010.21 1486.25 1004.4 1486.25 Q998.587 1486.25 995.508 1481.67 Q992.453 1477.06 992.453 1468.33 Q992.453 1459.58 995.508 1455 Q998.587 1450.39 1004.4 1450.39 Z\" fill=\"#000000\" fill-rule=\"evenodd\" fill-opacity=\"1\" /><path clip-path=\"url(#clip630)\" d=\"M1024.56 1479.7 L1029.44 1479.7 L1029.44 1485.58 L1024.56 1485.58 L1024.56 1479.7 Z\" fill=\"#000000\" fill-rule=\"evenodd\" fill-opacity=\"1\" /><path clip-path=\"url(#clip630)\" d=\"M1043.66 1481.64 L1059.98 1481.64 L1059.98 1485.58 L1038.03 1485.58 L1038.03 1481.64 Q1040.69 1478.89 1045.28 1474.26 Q1049.88 1469.61 1051.06 1468.27 Q1053.31 1465.74 1054.19 1464.01 Q1055.09 1462.25 1055.09 1460.56 Q1055.09 1457.8 1053.15 1456.07 Q1051.23 1454.33 1048.12 1454.33 Q1045.92 1454.33 1043.47 1455.09 Q1041.04 1455.86 1038.26 1457.41 L1038.26 1452.69 Q1041.09 1451.55 1043.54 1450.97 Q1045.99 1450.39 1048.03 1450.39 Q1053.4 1450.39 1056.6 1453.08 Q1059.79 1455.77 1059.79 1460.26 Q1059.79 1462.39 1058.98 1464.31 Q1058.19 1466.2 1056.09 1468.8 Q1055.51 1469.47 1052.41 1472.69 Q1049.3 1475.88 1043.66 1481.64 Z\" fill=\"#000000\" fill-rule=\"evenodd\" fill-opacity=\"1\" /><path clip-path=\"url(#clip630)\" d=\"M1446.1 1454.1 Q1442.49 1454.1 1440.66 1457.66 Q1438.86 1461.2 1438.86 1468.33 Q1438.86 1475.44 1440.66 1479.01 Q1442.49 1482.55 1446.1 1482.55 Q1449.74 1482.55 1451.54 1479.01 Q1453.37 1475.44 1453.37 1468.33 Q1453.37 1461.2 1451.54 1457.66 Q1449.74 1454.1 1446.1 1454.1 M1446.1 1450.39 Q1451.91 1450.39 1454.97 1455 Q1458.05 1459.58 1458.05 1468.33 Q1458.05 1477.06 1454.97 1481.67 Q1451.91 1486.25 1446.1 1486.25 Q1440.29 1486.25 1437.21 1481.67 Q1434.16 1477.06 1434.16 1468.33 Q1434.16 1459.58 1437.21 1455 Q1440.29 1450.39 1446.1 1450.39 Z\" fill=\"#000000\" fill-rule=\"evenodd\" fill-opacity=\"1\" /><path clip-path=\"url(#clip630)\" d=\"M1466.27 1479.7 L1471.15 1479.7 L1471.15 1485.58 L1466.27 1485.58 L1466.27 1479.7 Z\" fill=\"#000000\" fill-rule=\"evenodd\" fill-opacity=\"1\" /><path clip-path=\"url(#clip630)\" d=\"M1495.5 1466.95 Q1498.86 1467.66 1500.73 1469.93 Q1502.63 1472.2 1502.63 1475.53 Q1502.63 1480.65 1499.11 1483.45 Q1495.59 1486.25 1489.11 1486.25 Q1486.94 1486.25 1484.62 1485.81 Q1482.33 1485.39 1479.88 1484.54 L1479.88 1480.02 Q1481.82 1481.16 1484.14 1481.74 Q1486.45 1482.32 1488.97 1482.32 Q1493.37 1482.32 1495.66 1480.58 Q1497.98 1478.84 1497.98 1475.53 Q1497.98 1472.48 1495.83 1470.77 Q1493.7 1469.03 1489.88 1469.03 L1485.85 1469.03 L1485.85 1465.19 L1490.06 1465.19 Q1493.51 1465.19 1495.34 1463.82 Q1497.17 1462.43 1497.17 1459.84 Q1497.17 1457.18 1495.27 1455.77 Q1493.39 1454.33 1489.88 1454.33 Q1487.95 1454.33 1485.76 1454.75 Q1483.56 1455.16 1480.92 1456.04 L1480.92 1451.88 Q1483.58 1451.14 1485.89 1450.77 Q1488.23 1450.39 1490.29 1450.39 Q1495.62 1450.39 1498.72 1452.83 Q1501.82 1455.23 1501.82 1459.35 Q1501.82 1462.22 1500.18 1464.21 Q1498.53 1466.18 1495.5 1466.95 Z\" fill=\"#000000\" fill-rule=\"evenodd\" fill-opacity=\"1\" /><path clip-path=\"url(#clip630)\" d=\"M1887.72 1454.1 Q1884.11 1454.1 1882.28 1457.66 Q1880.47 1461.2 1880.47 1468.33 Q1880.47 1475.44 1882.28 1479.01 Q1884.11 1482.55 1887.72 1482.55 Q1891.35 1482.55 1893.16 1479.01 Q1894.99 1475.44 1894.99 1468.33 Q1894.99 1461.2 1893.16 1457.66 Q1891.35 1454.1 1887.72 1454.1 M1887.72 1450.39 Q1893.53 1450.39 1896.58 1455 Q1899.66 1459.58 1899.66 1468.33 Q1899.66 1477.06 1896.58 1481.67 Q1893.53 1486.25 1887.72 1486.25 Q1881.91 1486.25 1878.83 1481.67 Q1875.77 1477.06 1875.77 1468.33 Q1875.77 1459.58 1878.83 1455 Q1881.91 1450.39 1887.72 1450.39 Z\" fill=\"#000000\" fill-rule=\"evenodd\" fill-opacity=\"1\" /><path clip-path=\"url(#clip630)\" d=\"M1907.88 1479.7 L1912.76 1479.7 L1912.76 1485.58 L1907.88 1485.58 L1907.88 1479.7 Z\" fill=\"#000000\" fill-rule=\"evenodd\" fill-opacity=\"1\" /><path clip-path=\"url(#clip630)\" d=\"M1935.8 1455.09 L1923.99 1473.54 L1935.8 1473.54 L1935.8 1455.09 M1934.57 1451.02 L1940.45 1451.02 L1940.45 1473.54 L1945.38 1473.54 L1945.38 1477.43 L1940.45 1477.43 L1940.45 1485.58 L1935.8 1485.58 L1935.8 1477.43 L1920.19 1477.43 L1920.19 1472.92 L1934.57 1451.02 Z\" fill=\"#000000\" fill-rule=\"evenodd\" fill-opacity=\"1\" /><path clip-path=\"url(#clip630)\" d=\"M2330.64 1454.1 Q2327.03 1454.1 2325.2 1457.66 Q2323.39 1461.2 2323.39 1468.33 Q2323.39 1475.44 2325.2 1479.01 Q2327.03 1482.55 2330.64 1482.55 Q2334.27 1482.55 2336.08 1479.01 Q2337.91 1475.44 2337.91 1468.33 Q2337.91 1461.2 2336.08 1457.66 Q2334.27 1454.1 2330.64 1454.1 M2330.64 1450.39 Q2336.45 1450.39 2339.5 1455 Q2342.58 1459.58 2342.58 1468.33 Q2342.58 1477.06 2339.5 1481.67 Q2336.45 1486.25 2330.64 1486.25 Q2324.83 1486.25 2321.75 1481.67 Q2318.69 1477.06 2318.69 1468.33 Q2318.69 1459.58 2321.75 1455 Q2324.83 1450.39 2330.64 1450.39 Z\" fill=\"#000000\" fill-rule=\"evenodd\" fill-opacity=\"1\" /><path clip-path=\"url(#clip630)\" d=\"M2350.8 1479.7 L2355.68 1479.7 L2355.68 1485.58 L2350.8 1485.58 L2350.8 1479.7 Z\" fill=\"#000000\" fill-rule=\"evenodd\" fill-opacity=\"1\" /><path clip-path=\"url(#clip630)\" d=\"M2365.92 1451.02 L2384.27 1451.02 L2384.27 1454.96 L2370.2 1454.96 L2370.2 1463.43 Q2371.22 1463.08 2372.23 1462.92 Q2373.25 1462.73 2374.27 1462.73 Q2380.06 1462.73 2383.44 1465.9 Q2386.82 1469.08 2386.82 1474.49 Q2386.82 1480.07 2383.35 1483.17 Q2379.87 1486.25 2373.55 1486.25 Q2371.38 1486.25 2369.11 1485.88 Q2366.86 1485.51 2364.46 1484.77 L2364.46 1480.07 Q2366.54 1481.2 2368.76 1481.76 Q2370.98 1482.32 2373.46 1482.32 Q2377.47 1482.32 2379.8 1480.21 Q2382.14 1478.1 2382.14 1474.49 Q2382.14 1470.88 2379.8 1468.77 Q2377.47 1466.67 2373.46 1466.67 Q2371.59 1466.67 2369.71 1467.08 Q2367.86 1467.5 2365.92 1468.38 L2365.92 1451.02 Z\" fill=\"#000000\" fill-rule=\"evenodd\" fill-opacity=\"1\" /><path clip-path=\"url(#clip630)\" d=\"M1246.37 1522.27 L1246.37 1532.4 L1258.43 1532.4 L1258.43 1536.95 L1246.37 1536.95 L1246.37 1556.3 Q1246.37 1560.66 1247.54 1561.9 Q1248.75 1563.14 1252.41 1563.14 L1258.43 1563.14 L1258.43 1568.04 L1252.41 1568.04 Q1245.63 1568.04 1243.06 1565.53 Q1240.48 1562.98 1240.48 1556.3 L1240.48 1536.95 L1236.18 1536.95 L1236.18 1532.4 L1240.48 1532.4 L1240.48 1522.27 L1246.37 1522.27 Z\" fill=\"#000000\" fill-rule=\"evenodd\" fill-opacity=\"1\" /><polyline clip-path=\"url(#clip632)\" style=\"stroke:#000000; stroke-linecap:butt; stroke-linejoin:round; stroke-width:2; stroke-opacity:0.1; fill:none\" points=\"\n",
       "  141.853,1099.64 2352.76,1099.64 \n",
       "  \"/>\n",
       "<polyline clip-path=\"url(#clip632)\" style=\"stroke:#000000; stroke-linecap:butt; stroke-linejoin:round; stroke-width:2; stroke-opacity:0.1; fill:none\" points=\"\n",
       "  141.853,764.809 2352.76,764.809 \n",
       "  \"/>\n",
       "<polyline clip-path=\"url(#clip632)\" style=\"stroke:#000000; stroke-linecap:butt; stroke-linejoin:round; stroke-width:2; stroke-opacity:0.1; fill:none\" points=\"\n",
       "  141.853,429.982 2352.76,429.982 \n",
       "  \"/>\n",
       "<polyline clip-path=\"url(#clip632)\" style=\"stroke:#000000; stroke-linecap:butt; stroke-linejoin:round; stroke-width:2; stroke-opacity:0.1; fill:none\" points=\"\n",
       "  141.853,95.1549 2352.76,95.1549 \n",
       "  \"/>\n",
       "<polyline clip-path=\"url(#clip630)\" style=\"stroke:#000000; stroke-linecap:butt; stroke-linejoin:round; stroke-width:4; stroke-opacity:1; fill:none\" points=\"\n",
       "  141.853,1423.18 141.853,47.2441 \n",
       "  \"/>\n",
       "<polyline clip-path=\"url(#clip630)\" style=\"stroke:#000000; stroke-linecap:butt; stroke-linejoin:round; stroke-width:4; stroke-opacity:1; fill:none\" points=\"\n",
       "  141.853,1099.64 160.751,1099.64 \n",
       "  \"/>\n",
       "<polyline clip-path=\"url(#clip630)\" style=\"stroke:#000000; stroke-linecap:butt; stroke-linejoin:round; stroke-width:4; stroke-opacity:1; fill:none\" points=\"\n",
       "  141.853,764.809 160.751,764.809 \n",
       "  \"/>\n",
       "<polyline clip-path=\"url(#clip630)\" style=\"stroke:#000000; stroke-linecap:butt; stroke-linejoin:round; stroke-width:4; stroke-opacity:1; fill:none\" points=\"\n",
       "  141.853,429.982 160.751,429.982 \n",
       "  \"/>\n",
       "<polyline clip-path=\"url(#clip630)\" style=\"stroke:#000000; stroke-linecap:butt; stroke-linejoin:round; stroke-width:4; stroke-opacity:1; fill:none\" points=\"\n",
       "  141.853,95.1549 160.751,95.1549 \n",
       "  \"/>\n",
       "<path clip-path=\"url(#clip630)\" d=\"M57.7745 1112.98 L74.0939 1112.98 L74.0939 1116.92 L52.1495 1116.92 L52.1495 1112.98 Q54.8115 1110.23 59.3949 1105.6 Q64.0013 1100.94 65.1819 1099.6 Q67.4272 1097.08 68.3068 1095.34 Q69.2096 1093.58 69.2096 1091.89 Q69.2096 1089.14 67.2652 1087.4 Q65.3439 1085.67 62.2421 1085.67 Q60.043 1085.67 57.5893 1086.43 Q55.1588 1087.19 52.381 1088.74 L52.381 1084.02 Q55.2051 1082.89 57.6588 1082.31 Q60.1124 1081.73 62.1495 1081.73 Q67.5198 1081.73 70.7142 1084.42 Q73.9087 1087.1 73.9087 1091.59 Q73.9087 1093.72 73.0985 1095.64 Q72.3115 1097.54 70.205 1100.13 Q69.6263 1100.8 66.5245 1104.02 Q63.4226 1107.22 57.7745 1112.98 Z\" fill=\"#000000\" fill-rule=\"evenodd\" fill-opacity=\"1\" /><path clip-path=\"url(#clip630)\" d=\"M93.9086 1085.43 Q90.2975 1085.43 88.4688 1089 Q86.6632 1092.54 86.6632 1099.67 Q86.6632 1106.78 88.4688 1110.34 Q90.2975 1113.88 93.9086 1113.88 Q97.5428 1113.88 99.3483 1110.34 Q101.177 1106.78 101.177 1099.67 Q101.177 1092.54 99.3483 1089 Q97.5428 1085.43 93.9086 1085.43 M93.9086 1081.73 Q99.7187 1081.73 102.774 1086.34 Q105.853 1090.92 105.853 1099.67 Q105.853 1108.4 102.774 1113 Q99.7187 1117.59 93.9086 1117.59 Q88.0984 1117.59 85.0197 1113 Q81.9642 1108.4 81.9642 1099.67 Q81.9642 1090.92 85.0197 1086.34 Q88.0984 1081.73 93.9086 1081.73 Z\" fill=\"#000000\" fill-rule=\"evenodd\" fill-opacity=\"1\" /><path clip-path=\"url(#clip630)\" d=\"M66.5939 751.603 L54.7884 770.052 L66.5939 770.052 L66.5939 751.603 M65.367 747.529 L71.2466 747.529 L71.2466 770.052 L76.1772 770.052 L76.1772 773.94 L71.2466 773.94 L71.2466 782.089 L66.5939 782.089 L66.5939 773.94 L50.9921 773.94 L50.9921 769.427 L65.367 747.529 Z\" fill=\"#000000\" fill-rule=\"evenodd\" fill-opacity=\"1\" /><path clip-path=\"url(#clip630)\" d=\"M93.9086 750.607 Q90.2975 750.607 88.4688 754.172 Q86.6632 757.714 86.6632 764.843 Q86.6632 771.95 88.4688 775.515 Q90.2975 779.056 93.9086 779.056 Q97.5428 779.056 99.3483 775.515 Q101.177 771.95 101.177 764.843 Q101.177 757.714 99.3483 754.172 Q97.5428 750.607 93.9086 750.607 M93.9086 746.904 Q99.7187 746.904 102.774 751.51 Q105.853 756.093 105.853 764.843 Q105.853 773.57 102.774 778.177 Q99.7187 782.76 93.9086 782.76 Q88.0984 782.76 85.0197 778.177 Q81.9642 773.57 81.9642 764.843 Q81.9642 756.093 85.0197 751.51 Q88.0984 746.904 93.9086 746.904 Z\" fill=\"#000000\" fill-rule=\"evenodd\" fill-opacity=\"1\" /><path clip-path=\"url(#clip630)\" d=\"M64.3254 428.118 Q61.1773 428.118 59.3254 430.271 Q57.4967 432.424 57.4967 436.174 Q57.4967 439.901 59.3254 442.077 Q61.1773 444.229 64.3254 444.229 Q67.4735 444.229 69.3022 442.077 Q71.1541 439.901 71.1541 436.174 Q71.1541 432.424 69.3022 430.271 Q67.4735 428.118 64.3254 428.118 M73.6077 413.466 L73.6077 417.725 Q71.8485 416.892 70.0429 416.452 Q68.2606 416.012 66.5013 416.012 Q61.8717 416.012 59.418 419.137 Q56.9875 422.262 56.6402 428.581 Q58.006 426.567 60.0662 425.503 Q62.1263 424.415 64.6032 424.415 Q69.8115 424.415 72.8207 427.586 Q75.8531 430.734 75.8531 436.174 Q75.8531 441.498 72.705 444.715 Q69.5568 447.933 64.3254 447.933 Q58.33 447.933 55.1588 443.35 Q51.9875 438.743 51.9875 430.016 Q51.9875 421.822 55.8764 416.961 Q59.7652 412.077 66.3161 412.077 Q68.0754 412.077 69.8578 412.424 Q71.6633 412.771 73.6077 413.466 Z\" fill=\"#000000\" fill-rule=\"evenodd\" fill-opacity=\"1\" /><path clip-path=\"url(#clip630)\" d=\"M93.9086 415.78 Q90.2975 415.78 88.4688 419.345 Q86.6632 422.887 86.6632 430.016 Q86.6632 437.123 88.4688 440.688 Q90.2975 444.229 93.9086 444.229 Q97.5428 444.229 99.3483 440.688 Q101.177 437.123 101.177 430.016 Q101.177 422.887 99.3483 419.345 Q97.5428 415.78 93.9086 415.78 M93.9086 412.077 Q99.7187 412.077 102.774 416.683 Q105.853 421.267 105.853 430.016 Q105.853 438.743 102.774 443.35 Q99.7187 447.933 93.9086 447.933 Q88.0984 447.933 85.0197 443.35 Q81.9642 438.743 81.9642 430.016 Q81.9642 421.267 85.0197 416.683 Q88.0984 412.077 93.9086 412.077 Z\" fill=\"#000000\" fill-rule=\"evenodd\" fill-opacity=\"1\" /><path clip-path=\"url(#clip630)\" d=\"M63.7467 96.023 Q60.4134 96.023 58.4921 97.8054 Q56.5939 99.5878 56.5939 102.713 Q56.5939 105.838 58.4921 107.62 Q60.4134 109.403 63.7467 109.403 Q67.08 109.403 69.0013 107.62 Q70.9226 105.815 70.9226 102.713 Q70.9226 99.5878 69.0013 97.8054 Q67.1032 96.023 63.7467 96.023 M59.0708 94.0322 Q56.0615 93.2915 54.3717 91.2313 Q52.7051 89.1711 52.7051 86.2082 Q52.7051 82.0647 55.6449 79.6573 Q58.6078 77.2499 63.7467 77.2499 Q68.9087 77.2499 71.8485 79.6573 Q74.7883 82.0647 74.7883 86.2082 Q74.7883 89.1711 73.0985 91.2313 Q71.4318 93.2915 68.4457 94.0322 Q71.8253 94.8193 73.7003 97.1109 Q75.5985 99.4026 75.5985 102.713 Q75.5985 107.736 72.5198 110.421 Q69.4642 113.106 63.7467 113.106 Q58.0291 113.106 54.9504 110.421 Q51.8949 107.736 51.8949 102.713 Q51.8949 99.4026 53.793 97.1109 Q55.6912 94.8193 59.0708 94.0322 M57.3578 86.648 Q57.3578 89.3332 59.0245 90.8378 Q60.7143 92.3424 63.7467 92.3424 Q66.7559 92.3424 68.4457 90.8378 Q70.1587 89.3332 70.1587 86.648 Q70.1587 83.9628 68.4457 82.4582 Q66.7559 80.9536 63.7467 80.9536 Q60.7143 80.9536 59.0245 82.4582 Q57.3578 83.9628 57.3578 86.648 Z\" fill=\"#000000\" fill-rule=\"evenodd\" fill-opacity=\"1\" /><path clip-path=\"url(#clip630)\" d=\"M93.9086 80.9536 Q90.2975 80.9536 88.4688 84.5184 Q86.6632 88.06 86.6632 95.1896 Q86.6632 102.296 88.4688 105.861 Q90.2975 109.403 93.9086 109.403 Q97.5428 109.403 99.3483 105.861 Q101.177 102.296 101.177 95.1896 Q101.177 88.06 99.3483 84.5184 Q97.5428 80.9536 93.9086 80.9536 M93.9086 77.2499 Q99.7187 77.2499 102.774 81.8564 Q105.853 86.4397 105.853 95.1896 Q105.853 103.916 102.774 108.523 Q99.7187 113.106 93.9086 113.106 Q88.0984 113.106 85.0197 108.523 Q81.9642 103.916 81.9642 95.1896 Q81.9642 86.4397 85.0197 81.8564 Q88.0984 77.2499 93.9086 77.2499 Z\" fill=\"#000000\" fill-rule=\"evenodd\" fill-opacity=\"1\" /><polyline clip-path=\"url(#clip632)\" style=\"stroke:#009af9; stroke-linecap:butt; stroke-linejoin:round; stroke-width:8; stroke-opacity:1; fill:none\" points=\"\n",
       "  141.853,1317.27 144.066,1316.99 146.279,1316.7 148.492,1316.42 150.705,1316.13 152.919,1315.84 155.132,1315.55 157.345,1315.26 159.558,1314.97 161.771,1314.68 \n",
       "  163.984,1314.39 166.197,1314.1 168.41,1313.81 170.623,1313.51 172.837,1313.22 175.05,1312.92 177.263,1312.63 179.476,1312.33 181.689,1312.04 183.902,1311.74 \n",
       "  186.115,1311.44 188.328,1311.14 190.541,1310.84 192.755,1310.54 194.968,1310.24 197.181,1309.94 199.394,1309.64 201.607,1309.33 203.82,1309.03 206.033,1308.73 \n",
       "  208.246,1308.42 210.46,1308.12 212.673,1307.81 214.886,1307.5 217.099,1307.19 219.312,1306.89 221.525,1306.58 223.738,1306.27 225.951,1305.96 228.164,1305.64 \n",
       "  230.378,1305.33 232.591,1305.02 234.804,1304.7 237.017,1304.39 239.23,1304.07 241.443,1303.76 243.656,1303.44 245.869,1303.12 248.083,1302.81 250.296,1302.49 \n",
       "  252.509,1302.17 254.722,1301.85 256.935,1301.53 259.148,1301.2 261.361,1300.88 263.574,1300.56 265.787,1300.23 268.001,1299.91 270.214,1299.58 272.427,1299.26 \n",
       "  274.64,1298.93 276.853,1298.6 279.066,1298.27 281.279,1297.94 283.492,1297.61 285.705,1297.28 287.919,1296.95 290.132,1296.61 292.345,1296.28 294.558,1295.95 \n",
       "  296.771,1295.61 298.984,1295.28 301.197,1294.94 303.41,1294.6 305.624,1294.26 307.837,1293.92 310.05,1293.58 312.263,1293.24 314.476,1292.9 316.689,1292.56 \n",
       "  318.902,1292.22 321.115,1291.87 323.328,1291.53 325.542,1291.18 327.755,1290.83 329.968,1290.49 332.181,1290.14 334.394,1289.79 336.607,1289.44 338.82,1289.09 \n",
       "  341.033,1288.74 343.247,1288.39 345.46,1288.03 347.673,1287.68 349.886,1287.32 352.099,1286.97 354.312,1286.61 356.525,1286.25 358.738,1285.9 360.951,1285.54 \n",
       "  363.165,1285.18 365.378,1284.82 367.591,1284.45 369.804,1284.09 372.017,1283.73 374.23,1283.36 376.443,1283 378.656,1282.63 380.869,1282.27 383.083,1281.9 \n",
       "  385.296,1281.53 387.509,1281.16 389.722,1280.79 391.935,1280.42 394.148,1280.05 396.361,1279.67 398.574,1279.3 400.788,1278.92 403.001,1278.55 405.214,1278.17 \n",
       "  407.427,1277.79 409.64,1277.42 411.853,1277.04 414.066,1276.66 416.279,1276.27 418.492,1275.89 420.706,1275.51 422.919,1275.13 425.132,1274.74 427.345,1274.35 \n",
       "  429.558,1273.97 431.771,1273.58 433.984,1273.19 436.197,1272.8 438.41,1272.41 440.624,1272.02 442.837,1271.63 445.05,1271.23 447.263,1270.84 449.476,1270.45 \n",
       "  451.689,1270.05 453.902,1269.65 456.115,1269.25 458.329,1268.86 460.542,1268.46 462.755,1268.05 464.968,1267.65 467.181,1267.25 469.394,1266.85 471.607,1266.44 \n",
       "  473.82,1266.03 476.033,1265.63 478.247,1265.22 480.46,1264.81 482.673,1264.4 484.886,1263.99 487.099,1263.58 489.312,1263.17 491.525,1262.75 493.738,1262.34 \n",
       "  495.952,1261.92 498.165,1261.51 500.378,1261.09 502.591,1260.67 504.804,1260.25 507.017,1259.83 509.23,1259.41 511.443,1258.98 513.656,1258.56 515.87,1258.14 \n",
       "  518.083,1257.71 520.296,1257.28 522.509,1256.85 524.722,1256.43 526.935,1256 529.148,1255.56 531.361,1255.13 533.574,1254.7 535.788,1254.26 538.001,1253.83 \n",
       "  540.214,1253.39 542.427,1252.96 544.64,1252.52 546.853,1252.08 549.066,1251.64 551.279,1251.2 553.493,1250.75 555.706,1250.31 557.919,1249.86 560.132,1249.42 \n",
       "  562.345,1248.97 564.558,1248.52 566.771,1248.07 568.984,1247.62 571.197,1247.17 573.411,1246.72 575.624,1246.27 577.837,1245.81 580.05,1245.36 582.263,1244.9 \n",
       "  584.476,1244.44 586.689,1243.98 588.902,1243.52 591.116,1243.06 593.329,1242.6 595.542,1242.13 597.755,1241.67 599.968,1241.2 602.181,1240.74 604.394,1240.27 \n",
       "  606.607,1239.8 608.82,1239.33 611.034,1238.86 613.247,1238.38 615.46,1237.91 617.673,1237.43 619.886,1236.96 622.099,1236.48 624.312,1236 626.525,1235.52 \n",
       "  628.738,1235.04 630.952,1234.56 633.165,1234.08 635.378,1233.59 637.591,1233.11 639.804,1232.62 642.017,1232.13 644.23,1231.64 646.443,1231.15 648.657,1230.66 \n",
       "  650.87,1230.17 653.083,1229.67 655.296,1229.18 657.509,1228.68 659.722,1228.18 661.935,1227.68 664.148,1227.18 666.361,1226.68 668.575,1226.18 670.788,1225.68 \n",
       "  673.001,1225.17 675.214,1224.67 677.427,1224.16 679.64,1223.65 681.853,1223.14 684.066,1222.63 686.279,1222.12 688.493,1221.6 690.706,1221.09 692.919,1220.57 \n",
       "  695.132,1220.05 697.345,1219.53 699.558,1219.01 701.771,1218.49 703.984,1217.97 706.198,1217.45 708.411,1216.92 710.624,1216.39 712.837,1215.87 715.05,1215.34 \n",
       "  717.263,1214.81 719.476,1214.28 721.689,1213.74 723.902,1213.21 726.116,1212.67 728.329,1212.14 730.542,1211.6 732.755,1211.06 734.968,1210.52 737.181,1209.98 \n",
       "  739.394,1209.43 741.607,1208.89 743.821,1208.34 746.034,1207.79 748.247,1207.24 750.46,1206.69 752.673,1206.14 754.886,1205.59 757.099,1205.04 759.312,1204.48 \n",
       "  761.525,1203.92 763.739,1203.36 765.952,1202.8 768.165,1202.24 770.378,1201.68 772.591,1201.12 774.804,1200.55 777.017,1199.98 779.23,1199.42 781.443,1198.85 \n",
       "  783.657,1198.28 785.87,1197.7 788.083,1197.13 790.296,1196.56 792.509,1195.98 794.722,1195.4 796.935,1194.82 799.148,1194.24 801.362,1193.66 803.575,1193.07 \n",
       "  805.788,1192.49 808.001,1191.9 810.214,1191.31 812.427,1190.73 814.64,1190.13 816.853,1189.54 819.066,1188.95 821.28,1188.35 823.493,1187.76 825.706,1187.16 \n",
       "  827.919,1186.56 830.132,1185.96 832.345,1185.35 834.558,1184.75 836.771,1184.14 838.985,1183.54 841.198,1182.93 843.411,1182.32 845.624,1181.71 847.837,1181.09 \n",
       "  850.05,1180.48 852.263,1179.86 854.476,1179.25 856.689,1178.63 858.903,1178.01 861.116,1177.38 863.329,1176.76 865.542,1176.13 867.755,1175.51 869.968,1174.88 \n",
       "  872.181,1174.25 874.394,1173.62 876.607,1172.98 878.821,1172.35 881.034,1171.71 883.247,1171.07 885.46,1170.44 887.673,1169.79 889.886,1169.15 892.099,1168.51 \n",
       "  894.312,1167.86 896.526,1167.21 898.739,1166.57 900.952,1165.91 903.165,1165.26 905.378,1164.61 907.591,1163.95 909.804,1163.3 912.017,1162.64 914.23,1161.98 \n",
       "  916.444,1161.32 918.657,1160.65 920.87,1159.99 923.083,1159.32 925.296,1158.65 927.509,1157.98 929.722,1157.31 931.935,1156.64 934.148,1155.96 936.362,1155.28 \n",
       "  938.575,1154.6 940.788,1153.92 943.001,1153.24 945.214,1152.56 947.427,1151.87 949.64,1151.19 951.853,1150.5 954.067,1149.81 956.28,1149.12 958.493,1148.42 \n",
       "  960.706,1147.73 962.919,1147.03 965.132,1146.33 967.345,1145.63 969.558,1144.93 971.771,1144.22 973.985,1143.52 976.198,1142.81 978.411,1142.1 980.624,1141.39 \n",
       "  982.837,1140.68 985.05,1139.96 987.263,1139.24 989.476,1138.53 991.69,1137.81 993.903,1137.08 996.116,1136.36 998.329,1135.63 1000.54,1134.91 1002.76,1134.18 \n",
       "  1004.97,1133.45 1007.18,1132.71 1009.39,1131.98 1011.61,1131.24 1013.82,1130.51 1016.03,1129.77 1018.25,1129.02 1020.46,1128.28 1022.67,1127.53 1024.89,1126.79 \n",
       "  1027.1,1126.04 1029.31,1125.29 1031.53,1124.53 1033.74,1123.78 1035.95,1123.02 1038.16,1122.26 1040.38,1121.5 1042.59,1120.74 1044.8,1119.98 1047.02,1119.21 \n",
       "  1049.23,1118.44 1051.44,1117.67 1053.66,1116.9 1055.87,1116.13 1058.08,1115.35 1060.3,1114.57 1062.51,1113.79 1064.72,1113.01 1066.94,1112.23 1069.15,1111.44 \n",
       "  1071.36,1110.66 1073.57,1109.87 1075.79,1109.08 1078,1108.28 1080.21,1107.49 1082.43,1106.69 1084.64,1105.89 1086.85,1105.09 1089.07,1104.29 1091.28,1103.48 \n",
       "  1093.49,1102.67 1095.71,1101.87 1097.92,1101.05 1100.13,1100.24 1102.35,1099.43 1104.56,1098.61 1106.77,1097.79 1108.98,1096.97 1111.2,1096.14 1113.41,1095.32 \n",
       "  1115.62,1094.49 1117.84,1093.66 1120.05,1092.83 1122.26,1092 1124.48,1091.16 1126.69,1090.32 1128.9,1089.48 1131.12,1088.64 1133.33,1087.8 1135.54,1086.95 \n",
       "  1137.76,1086.1 1139.97,1085.25 1142.18,1084.4 1144.39,1083.55 1146.61,1082.69 1148.82,1081.83 1151.03,1080.97 1153.25,1080.11 1155.46,1079.24 1157.67,1078.37 \n",
       "  1159.89,1077.5 1162.1,1076.63 1164.31,1075.76 1166.53,1074.88 1168.74,1074 1170.95,1073.12 1173.17,1072.24 1175.38,1071.35 1177.59,1070.47 1179.8,1069.58 \n",
       "  1182.02,1068.69 1184.23,1067.79 1186.44,1066.9 1188.66,1066 1190.87,1065.1 1193.08,1064.2 1195.3,1063.29 1197.51,1062.38 1199.72,1061.47 1201.94,1060.56 \n",
       "  1204.15,1059.65 1206.36,1058.73 1208.57,1057.81 1210.79,1056.89 1213,1055.97 1215.21,1055.04 1217.43,1054.12 1219.64,1053.19 1221.85,1052.25 1224.07,1051.32 \n",
       "  1226.28,1050.38 1228.49,1049.44 1230.71,1048.5 1232.92,1047.56 1235.13,1046.61 1237.35,1045.66 1239.56,1044.71 1241.77,1043.76 1243.98,1042.8 1246.2,1041.84 \n",
       "  1248.41,1040.88 1250.62,1039.92 1252.84,1038.95 1255.05,1037.99 1257.26,1037.02 1259.48,1036.04 1261.69,1035.07 1263.9,1034.09 1266.12,1033.11 1268.33,1032.13 \n",
       "  1270.54,1031.14 1272.76,1030.16 1274.97,1029.17 1277.18,1028.17 1279.39,1027.18 1281.61,1026.18 1283.82,1025.18 1286.03,1024.18 1288.25,1023.17 1290.46,1022.17 \n",
       "  1292.67,1021.16 1294.89,1020.15 1297.1,1019.13 1299.31,1018.11 1301.53,1017.09 1303.74,1016.07 1305.95,1015.05 1308.17,1014.02 1310.38,1012.99 1312.59,1011.96 \n",
       "  1314.8,1010.92 1317.02,1009.88 1319.23,1008.84 1321.44,1007.8 1323.66,1006.75 1325.87,1005.7 1328.08,1004.65 1330.3,1003.6 1332.51,1002.54 1334.72,1001.49 \n",
       "  1336.94,1000.42 1339.15,999.36 1341.36,998.293 1343.57,997.224 1345.79,996.152 1348,995.077 1350.21,993.999 1352.43,992.919 1354.64,991.836 1356.85,990.751 \n",
       "  1359.07,989.663 1361.28,988.572 1363.49,987.478 1365.71,986.381 1367.92,985.282 1370.13,984.18 1372.35,983.076 1374.56,981.968 1376.77,980.858 1378.98,979.745 \n",
       "  1381.2,978.629 1383.41,977.511 1385.62,976.389 1387.84,975.265 1390.05,974.138 1392.26,973.008 1394.48,971.876 1396.69,970.74 1398.9,969.602 1401.12,968.461 \n",
       "  1403.33,967.317 1405.54,966.17 1407.76,965.02 1409.97,963.868 1412.18,962.712 1414.39,961.554 1416.61,960.393 1418.82,959.229 1421.03,958.061 1423.25,956.891 \n",
       "  1425.46,955.719 1427.67,954.543 1429.89,953.364 1432.1,952.182 1434.31,950.998 1436.53,949.81 1438.74,948.619 1440.95,947.426 1443.17,946.229 1445.38,945.03 \n",
       "  1447.59,943.827 1449.8,942.621 1452.02,941.413 1454.23,940.201 1456.44,938.987 1458.66,937.769 1460.87,936.548 1463.08,935.324 1465.3,934.098 1467.51,932.868 \n",
       "  1469.72,931.635 1471.94,930.399 1474.15,929.16 1476.36,927.917 1478.58,926.672 1480.79,925.424 1483,924.172 1485.21,922.917 1487.43,921.66 1489.64,920.399 \n",
       "  1491.85,919.134 1494.07,917.867 1496.28,916.597 1498.49,915.323 1500.71,914.046 1502.92,912.766 1505.13,911.483 1507.35,910.196 1509.56,908.907 1511.77,907.614 \n",
       "  1513.98,906.318 1516.2,905.018 1518.41,903.716 1520.62,902.41 1522.84,901.101 1525.05,899.788 1527.26,898.472 1529.48,897.153 1531.69,895.831 1533.9,894.506 \n",
       "  1536.12,893.177 1538.33,891.844 1540.54,890.509 1542.76,889.17 1544.97,887.827 1547.18,886.482 1549.39,885.133 1551.61,883.78 1553.82,882.425 1556.03,881.065 \n",
       "  1558.25,879.703 1560.46,878.337 1562.67,876.968 1564.89,875.595 1567.1,874.218 1569.31,872.839 1571.53,871.456 1573.74,870.069 1575.95,868.679 1578.17,867.285 \n",
       "  1580.38,865.888 1582.59,864.488 1584.8,863.084 1587.02,861.676 1589.23,860.265 1591.44,858.851 1593.66,857.433 1595.87,856.011 1598.08,854.586 1600.3,853.157 \n",
       "  1602.51,851.724 1604.72,850.288 1606.94,848.849 1609.15,847.406 1611.36,845.959 1613.58,844.509 1615.79,843.055 1618,841.597 1620.21,840.136 1622.43,838.671 \n",
       "  1624.64,837.202 1626.85,835.73 1629.07,834.254 1631.28,832.774 1633.49,831.291 1635.71,829.804 1637.92,828.313 1640.13,826.818 1642.35,825.32 1644.56,823.818 \n",
       "  1646.77,822.312 1648.98,820.803 1651.2,819.289 1653.41,817.772 1655.62,816.251 1657.84,814.727 1660.05,813.198 1662.26,811.666 1664.48,810.13 1666.69,808.59 \n",
       "  1668.9,807.046 1671.12,805.498 1673.33,803.946 1675.54,802.391 1677.76,800.831 1679.97,799.268 1682.18,797.701 1684.39,796.13 1686.61,794.555 1688.82,792.976 \n",
       "  1691.03,791.393 1693.25,789.806 1695.46,788.215 1697.67,786.62 1699.89,785.021 1702.1,783.418 1704.31,781.811 1706.53,780.2 1708.74,778.585 1710.95,776.966 \n",
       "  1713.17,775.343 1715.38,773.716 1717.59,772.085 1719.8,770.449 1722.02,768.81 1724.23,767.166 1726.44,765.519 1728.66,763.867 1730.87,762.211 1733.08,760.551 \n",
       "  1735.3,758.887 1737.51,757.219 1739.72,755.546 1741.94,753.869 1744.15,752.188 1746.36,750.503 1748.58,748.814 1750.79,747.12 1753,745.422 1755.21,743.72 \n",
       "  1757.43,742.014 1759.64,740.303 1761.85,738.588 1764.07,736.869 1766.28,735.146 1768.49,733.418 1770.71,731.685 1772.92,729.949 1775.13,728.208 1777.35,726.463 \n",
       "  1779.56,724.713 1781.77,722.959 1783.99,721.201 1786.2,719.438 1788.41,717.671 1790.62,715.899 1792.84,714.123 1795.05,712.342 1797.26,710.557 1799.48,708.768 \n",
       "  1801.69,706.974 1803.9,705.175 1806.12,703.372 1808.33,701.565 1810.54,699.753 1812.76,697.936 1814.97,696.115 1817.18,694.289 1819.39,692.459 1821.61,690.624 \n",
       "  1823.82,688.785 1826.03,686.941 1828.25,685.092 1830.46,683.238 1832.67,681.38 1834.89,679.518 1837.1,677.65 1839.31,675.778 1841.53,673.902 1843.74,672.02 \n",
       "  1845.95,670.134 1848.17,668.243 1850.38,666.348 1852.59,664.447 1854.8,662.542 1857.02,660.632 1859.23,658.718 1861.44,656.798 1863.66,654.874 1865.87,652.945 \n",
       "  1868.08,651.011 1870.3,649.072 1872.51,647.128 1874.72,645.18 1876.94,643.226 1879.15,641.268 1881.36,639.305 1883.58,637.336 1885.79,635.363 1888,633.385 \n",
       "  1890.21,631.402 1892.43,629.414 1894.64,627.421 1896.85,625.423 1899.07,623.42 1901.28,621.412 1903.49,619.399 1905.71,617.381 1907.92,615.358 1910.13,613.33 \n",
       "  1912.35,611.297 1914.56,609.258 1916.77,607.215 1918.99,605.166 1921.2,603.112 1923.41,601.053 1925.62,598.989 1927.84,596.92 1930.05,594.846 1932.26,592.766 \n",
       "  1934.48,590.681 1936.69,588.591 1938.9,586.496 1941.12,584.395 1943.33,582.29 1945.54,580.178 1947.76,578.062 1949.97,575.94 1952.18,573.813 1954.4,571.681 \n",
       "  1956.61,569.543 1958.82,567.4 1961.03,565.252 1963.25,563.098 1965.46,560.939 1967.67,558.774 1969.89,556.604 1972.1,554.429 1974.31,552.248 1976.53,550.062 \n",
       "  1978.74,547.87 1980.95,545.673 1983.17,543.47 1985.38,541.262 1987.59,539.048 1989.8,536.828 1992.02,534.603 1994.23,532.373 1996.44,530.137 1998.66,527.895 \n",
       "  2000.87,525.648 2003.08,523.395 2005.3,521.136 2007.51,518.872 2009.72,516.602 2011.94,514.326 2014.15,512.045 2016.36,509.758 2018.58,507.465 2020.79,505.166 \n",
       "  2023,502.862 2025.21,500.552 2027.43,498.236 2029.64,495.914 2031.85,493.587 2034.07,491.254 2036.28,488.914 2038.49,486.569 2040.71,484.218 2042.92,481.862 \n",
       "  2045.13,479.499 2047.35,477.13 2049.56,474.756 2051.77,472.375 2053.99,469.989 2056.2,467.596 2058.41,465.198 2060.62,462.793 2062.84,460.383 2065.05,457.966 \n",
       "  2067.26,455.543 2069.48,453.115 2071.69,450.68 2073.9,448.239 2076.12,445.792 2078.33,443.339 2080.54,440.879 2082.76,438.414 2084.97,435.942 2087.18,433.465 \n",
       "  2089.4,430.981 2091.61,428.49 2093.82,425.994 2096.03,423.491 2098.25,420.982 2100.46,418.467 2102.67,415.945 2104.89,413.417 2107.1,410.883 2109.31,408.342 \n",
       "  2111.53,405.795 2113.74,403.242 2115.95,400.682 2118.17,398.116 2120.38,395.543 2122.59,392.964 2124.8,390.378 2127.02,387.786 2129.23,385.188 2131.44,382.583 \n",
       "  2133.66,379.971 2135.87,377.353 2138.08,374.728 2140.3,372.097 2142.51,369.459 2144.72,366.815 2146.94,364.164 2149.15,361.506 2151.36,358.842 2153.58,356.17 \n",
       "  2155.79,353.493 2158,350.808 2160.21,348.117 2162.43,345.419 2164.64,342.714 2166.85,340.003 2169.07,337.284 2171.28,334.559 2173.49,331.827 2175.71,329.088 \n",
       "  2177.92,326.343 2180.13,323.59 2182.35,320.831 2184.56,318.064 2186.77,315.291 2188.99,312.511 2191.2,309.723 2193.41,306.929 2195.62,304.128 2197.84,301.32 \n",
       "  2200.05,298.504 2202.26,295.682 2204.48,292.852 2206.69,290.016 2208.9,287.172 2211.12,284.321 2213.33,281.463 2215.54,278.598 2217.76,275.726 2219.97,272.847 \n",
       "  2222.18,269.96 2224.4,267.066 2226.61,264.165 2228.82,261.256 2231.03,258.34 2233.25,255.417 2235.46,252.487 2237.67,249.549 2239.89,246.604 2242.1,243.651 \n",
       "  2244.31,240.691 2246.53,237.724 2248.74,234.749 2250.95,231.767 2253.17,228.777 2255.38,225.78 2257.59,222.775 2259.81,219.763 2262.02,216.743 2264.23,213.716 \n",
       "  2266.44,210.681 2268.66,207.638 2270.87,204.588 2273.08,201.53 2275.3,198.464 2277.51,195.391 2279.72,192.31 2281.94,189.221 2284.15,186.125 2286.36,183.021 \n",
       "  2288.58,179.909 2290.79,176.789 2293,173.661 2295.21,170.526 2297.43,167.382 2299.64,164.231 2301.85,161.072 2304.07,157.905 2306.28,154.73 2308.49,151.547 \n",
       "  2310.71,148.356 2312.92,145.157 2315.13,141.95 2317.35,138.735 2319.56,135.512 2321.77,132.281 2323.99,129.042 2326.2,125.795 2328.41,122.539 2330.62,119.275 \n",
       "  2332.84,116.004 2335.05,112.724 2337.26,109.435 2339.48,106.139 2341.69,102.834 2343.9,99.5211 2346.12,96.1997 2348.33,92.8701 2350.54,89.532 2352.76,86.1857 \n",
       "  \n",
       "  \"/>\n",
       "<polyline clip-path=\"url(#clip632)\" style=\"stroke:#e26f46; stroke-linecap:butt; stroke-linejoin:round; stroke-width:8; stroke-opacity:1; fill:none\" points=\"\n",
       "  141.853,1384.24 144.066,1384.09 146.279,1383.94 148.492,1383.78 150.705,1383.63 152.919,1383.48 155.132,1383.33 157.345,1383.17 159.558,1383.02 161.771,1382.87 \n",
       "  163.984,1382.71 166.197,1382.56 168.41,1382.4 170.623,1382.25 172.837,1382.09 175.05,1381.94 177.263,1381.78 179.476,1381.63 181.689,1381.47 183.902,1381.31 \n",
       "  186.115,1381.15 188.328,1381 190.541,1380.84 192.755,1380.68 194.968,1380.52 197.181,1380.36 199.394,1380.2 201.607,1380.04 203.82,1379.88 206.033,1379.72 \n",
       "  208.246,1379.56 210.46,1379.4 212.673,1379.24 214.886,1379.07 217.099,1378.91 219.312,1378.75 221.525,1378.58 223.738,1378.42 225.951,1378.26 228.164,1378.09 \n",
       "  230.378,1377.93 232.591,1377.76 234.804,1377.6 237.017,1377.43 239.23,1377.26 241.443,1377.1 243.656,1376.93 245.869,1376.76 248.083,1376.6 250.296,1376.43 \n",
       "  252.509,1376.26 254.722,1376.09 256.935,1375.92 259.148,1375.75 261.361,1375.58 263.574,1375.41 265.787,1375.24 268.001,1375.07 270.214,1374.9 272.427,1374.73 \n",
       "  274.64,1374.55 276.853,1374.38 279.066,1374.21 281.279,1374.03 283.492,1373.86 285.705,1373.69 287.919,1373.51 290.132,1373.34 292.345,1373.16 294.558,1372.98 \n",
       "  296.771,1372.81 298.984,1372.63 301.197,1372.45 303.41,1372.28 305.624,1372.1 307.837,1371.92 310.05,1371.74 312.263,1371.56 314.476,1371.38 316.689,1371.2 \n",
       "  318.902,1371.02 321.115,1370.84 323.328,1370.66 325.542,1370.48 327.755,1370.3 329.968,1370.11 332.181,1369.93 334.394,1369.75 336.607,1369.56 338.82,1369.38 \n",
       "  341.033,1369.2 343.247,1369.01 345.46,1368.83 347.673,1368.64 349.886,1368.45 352.099,1368.27 354.312,1368.08 356.525,1367.89 358.738,1367.7 360.951,1367.52 \n",
       "  363.165,1367.33 365.378,1367.14 367.591,1366.95 369.804,1366.76 372.017,1366.57 374.23,1366.38 376.443,1366.18 378.656,1365.99 380.869,1365.8 383.083,1365.61 \n",
       "  385.296,1365.41 387.509,1365.22 389.722,1365.03 391.935,1364.83 394.148,1364.64 396.361,1364.44 398.574,1364.25 400.788,1364.05 403.001,1363.85 405.214,1363.66 \n",
       "  407.427,1363.46 409.64,1363.26 411.853,1363.06 414.066,1362.86 416.279,1362.66 418.492,1362.46 420.706,1362.26 422.919,1362.06 425.132,1361.86 427.345,1361.66 \n",
       "  429.558,1361.46 431.771,1361.25 433.984,1361.05 436.197,1360.85 438.41,1360.64 440.624,1360.44 442.837,1360.23 445.05,1360.03 447.263,1359.82 449.476,1359.61 \n",
       "  451.689,1359.41 453.902,1359.2 456.115,1358.99 458.329,1358.78 460.542,1358.57 462.755,1358.36 464.968,1358.15 467.181,1357.94 469.394,1357.73 471.607,1357.52 \n",
       "  473.82,1357.31 476.033,1357.1 478.247,1356.88 480.46,1356.67 482.673,1356.46 484.886,1356.24 487.099,1356.03 489.312,1355.81 491.525,1355.6 493.738,1355.38 \n",
       "  495.952,1355.16 498.165,1354.95 500.378,1354.73 502.591,1354.51 504.804,1354.29 507.017,1354.07 509.23,1353.85 511.443,1353.63 513.656,1353.41 515.87,1353.19 \n",
       "  518.083,1352.97 520.296,1352.75 522.509,1352.52 524.722,1352.3 526.935,1352.07 529.148,1351.85 531.361,1351.63 533.574,1351.4 535.788,1351.17 538.001,1350.95 \n",
       "  540.214,1350.72 542.427,1350.49 544.64,1350.26 546.853,1350.03 549.066,1349.81 551.279,1349.58 553.493,1349.35 555.706,1349.11 557.919,1348.88 560.132,1348.65 \n",
       "  562.345,1348.42 564.558,1348.19 566.771,1347.95 568.984,1347.72 571.197,1347.48 573.411,1347.25 575.624,1347.01 577.837,1346.78 580.05,1346.54 582.263,1346.3 \n",
       "  584.476,1346.06 586.689,1345.82 588.902,1345.59 591.116,1345.35 593.329,1345.11 595.542,1344.86 597.755,1344.62 599.968,1344.38 602.181,1344.14 604.394,1343.9 \n",
       "  606.607,1343.65 608.82,1343.41 611.034,1343.16 613.247,1342.92 615.46,1342.67 617.673,1342.42 619.886,1342.18 622.099,1341.93 624.312,1341.68 626.525,1341.43 \n",
       "  628.738,1341.18 630.952,1340.93 633.165,1340.68 635.378,1340.43 637.591,1340.18 639.804,1339.93 642.017,1339.67 644.23,1339.42 646.443,1339.17 648.657,1338.91 \n",
       "  650.87,1338.66 653.083,1338.4 655.296,1338.14 657.509,1337.89 659.722,1337.63 661.935,1337.37 664.148,1337.11 666.361,1336.85 668.575,1336.59 670.788,1336.33 \n",
       "  673.001,1336.07 675.214,1335.81 677.427,1335.54 679.64,1335.28 681.853,1335.02 684.066,1334.75 686.279,1334.49 688.493,1334.22 690.706,1333.95 692.919,1333.69 \n",
       "  695.132,1333.42 697.345,1333.15 699.558,1332.88 701.771,1332.61 703.984,1332.34 706.198,1332.07 708.411,1331.8 710.624,1331.53 712.837,1331.25 715.05,1330.98 \n",
       "  717.263,1330.71 719.476,1330.43 721.689,1330.15 723.902,1329.88 726.116,1329.6 728.329,1329.32 730.542,1329.05 732.755,1328.77 734.968,1328.49 737.181,1328.21 \n",
       "  739.394,1327.93 741.607,1327.65 743.821,1327.36 746.034,1327.08 748.247,1326.8 750.46,1326.51 752.673,1326.23 754.886,1325.94 757.099,1325.66 759.312,1325.37 \n",
       "  761.525,1325.08 763.739,1324.79 765.952,1324.51 768.165,1324.22 770.378,1323.93 772.591,1323.63 774.804,1323.34 777.017,1323.05 779.23,1322.76 781.443,1322.46 \n",
       "  783.657,1322.17 785.87,1321.87 788.083,1321.58 790.296,1321.28 792.509,1320.98 794.722,1320.69 796.935,1320.39 799.148,1320.09 801.362,1319.79 803.575,1319.49 \n",
       "  805.788,1319.19 808.001,1318.88 810.214,1318.58 812.427,1318.28 814.64,1317.97 816.853,1317.67 819.066,1317.36 821.28,1317.05 823.493,1316.75 825.706,1316.44 \n",
       "  827.919,1316.13 830.132,1315.82 832.345,1315.51 834.558,1315.2 836.771,1314.89 838.985,1314.58 841.198,1314.26 843.411,1313.95 845.624,1313.63 847.837,1313.32 \n",
       "  850.05,1313 852.263,1312.68 854.476,1312.37 856.689,1312.05 858.903,1311.73 861.116,1311.41 863.329,1311.09 865.542,1310.77 867.755,1310.44 869.968,1310.12 \n",
       "  872.181,1309.8 874.394,1309.47 876.607,1309.15 878.821,1308.82 881.034,1308.49 883.247,1308.17 885.46,1307.84 887.673,1307.51 889.886,1307.18 892.099,1306.85 \n",
       "  894.312,1306.51 896.526,1306.18 898.739,1305.85 900.952,1305.51 903.165,1305.18 905.378,1304.84 907.591,1304.51 909.804,1304.17 912.017,1303.83 914.23,1303.49 \n",
       "  916.444,1303.15 918.657,1302.81 920.87,1302.47 923.083,1302.13 925.296,1301.78 927.509,1301.44 929.722,1301.1 931.935,1300.75 934.148,1300.4 936.362,1300.06 \n",
       "  938.575,1299.71 940.788,1299.36 943.001,1299.01 945.214,1298.66 947.427,1298.31 949.64,1297.95 951.853,1297.6 954.067,1297.25 956.28,1296.89 958.493,1296.54 \n",
       "  960.706,1296.18 962.919,1295.82 965.132,1295.46 967.345,1295.11 969.558,1294.75 971.771,1294.38 973.985,1294.02 976.198,1293.66 978.411,1293.3 980.624,1292.93 \n",
       "  982.837,1292.57 985.05,1292.2 987.263,1291.83 989.476,1291.47 991.69,1291.1 993.903,1290.73 996.116,1290.36 998.329,1289.98 1000.54,1289.61 1002.76,1289.24 \n",
       "  1004.97,1288.86 1007.18,1288.49 1009.39,1288.11 1011.61,1287.74 1013.82,1287.36 1016.03,1286.98 1018.25,1286.6 1020.46,1286.22 1022.67,1285.84 1024.89,1285.46 \n",
       "  1027.1,1285.07 1029.31,1284.69 1031.53,1284.3 1033.74,1283.92 1035.95,1283.53 1038.16,1283.14 1040.38,1282.75 1042.59,1282.36 1044.8,1281.97 1047.02,1281.58 \n",
       "  1049.23,1281.19 1051.44,1280.79 1053.66,1280.4 1055.87,1280 1058.08,1279.61 1060.3,1279.21 1062.51,1278.81 1064.72,1278.41 1066.94,1278.01 1069.15,1277.61 \n",
       "  1071.36,1277.21 1073.57,1276.8 1075.79,1276.4 1078,1275.99 1080.21,1275.59 1082.43,1275.18 1084.64,1274.77 1086.85,1274.36 1089.07,1273.95 1091.28,1273.54 \n",
       "  1093.49,1273.13 1095.71,1272.72 1097.92,1272.3 1100.13,1271.89 1102.35,1271.47 1104.56,1271.05 1106.77,1270.63 1108.98,1270.22 1111.2,1269.79 1113.41,1269.37 \n",
       "  1115.62,1268.95 1117.84,1268.53 1120.05,1268.1 1122.26,1267.68 1124.48,1267.25 1126.69,1266.82 1128.9,1266.4 1131.12,1265.97 1133.33,1265.53 1135.54,1265.1 \n",
       "  1137.76,1264.67 1139.97,1264.24 1142.18,1263.8 1144.39,1263.37 1146.61,1262.93 1148.82,1262.49 1151.03,1262.05 1153.25,1261.61 1155.46,1261.17 1157.67,1260.73 \n",
       "  1159.89,1260.28 1162.1,1259.84 1164.31,1259.39 1166.53,1258.95 1168.74,1258.5 1170.95,1258.05 1173.17,1257.6 1175.38,1257.15 1177.59,1256.7 1179.8,1256.25 \n",
       "  1182.02,1255.79 1184.23,1255.34 1186.44,1254.88 1188.66,1254.42 1190.87,1253.96 1193.08,1253.5 1195.3,1253.04 1197.51,1252.58 1199.72,1252.12 1201.94,1251.65 \n",
       "  1204.15,1251.19 1206.36,1250.72 1208.57,1250.25 1210.79,1249.78 1213,1249.31 1215.21,1248.84 1217.43,1248.37 1219.64,1247.9 1221.85,1247.42 1224.07,1246.95 \n",
       "  1226.28,1246.47 1228.49,1245.99 1230.71,1245.51 1232.92,1245.03 1235.13,1244.55 1237.35,1244.07 1239.56,1243.58 1241.77,1243.1 1243.98,1242.61 1246.2,1242.12 \n",
       "  1248.41,1241.63 1250.62,1241.14 1252.84,1240.65 1255.05,1240.16 1257.26,1239.67 1259.48,1239.17 1261.69,1238.68 1263.9,1238.18 1266.12,1237.68 1268.33,1237.18 \n",
       "  1270.54,1236.68 1272.76,1236.18 1274.97,1235.68 1277.18,1235.17 1279.39,1234.67 1281.61,1234.16 1283.82,1233.65 1286.03,1233.14 1288.25,1232.63 1290.46,1232.12 \n",
       "  1292.67,1231.6 1294.89,1231.09 1297.1,1230.57 1299.31,1230.06 1301.53,1229.54 1303.74,1229.02 1305.95,1228.5 1308.17,1227.98 1310.38,1227.45 1312.59,1226.93 \n",
       "  1314.8,1226.4 1317.02,1225.88 1319.23,1225.35 1321.44,1224.82 1323.66,1224.29 1325.87,1223.75 1328.08,1223.22 1330.3,1222.68 1332.51,1222.15 1334.72,1221.61 \n",
       "  1336.94,1221.07 1339.15,1220.53 1341.36,1219.99 1343.57,1219.45 1345.79,1218.9 1348,1218.36 1350.21,1217.81 1352.43,1217.26 1354.64,1216.71 1356.85,1216.16 \n",
       "  1359.07,1215.61 1361.28,1215.06 1363.49,1214.5 1365.71,1213.94 1367.92,1213.39 1370.13,1212.83 1372.35,1212.27 1374.56,1211.7 1376.77,1211.14 1378.98,1210.58 \n",
       "  1381.2,1210.01 1383.41,1209.44 1385.62,1208.87 1387.84,1208.3 1390.05,1207.73 1392.26,1207.16 1394.48,1206.58 1396.69,1206.01 1398.9,1205.43 1401.12,1204.85 \n",
       "  1403.33,1204.27 1405.54,1203.69 1407.76,1203.11 1409.97,1202.52 1412.18,1201.94 1414.39,1201.35 1416.61,1200.76 1418.82,1200.17 1421.03,1199.58 1423.25,1198.99 \n",
       "  1425.46,1198.39 1427.67,1197.8 1429.89,1197.2 1432.1,1196.6 1434.31,1196 1436.53,1195.4 1438.74,1194.79 1440.95,1194.19 1443.17,1193.58 1445.38,1192.98 \n",
       "  1447.59,1192.37 1449.8,1191.76 1452.02,1191.14 1454.23,1190.53 1456.44,1189.91 1458.66,1189.3 1460.87,1188.68 1463.08,1188.06 1465.3,1187.44 1467.51,1186.82 \n",
       "  1469.72,1186.19 1471.94,1185.56 1474.15,1184.94 1476.36,1184.31 1478.58,1183.68 1480.79,1183.05 1483,1182.41 1485.21,1181.78 1487.43,1181.14 1489.64,1180.5 \n",
       "  1491.85,1179.86 1494.07,1179.22 1496.28,1178.58 1498.49,1177.93 1500.71,1177.29 1502.92,1176.64 1505.13,1175.99 1507.35,1175.34 1509.56,1174.68 1511.77,1174.03 \n",
       "  1513.98,1173.37 1516.2,1172.72 1518.41,1172.06 1520.62,1171.4 1522.84,1170.73 1525.05,1170.07 1527.26,1169.4 1529.48,1168.74 1531.69,1168.07 1533.9,1167.4 \n",
       "  1536.12,1166.72 1538.33,1166.05 1540.54,1165.37 1542.76,1164.7 1544.97,1164.02 1547.18,1163.34 1549.39,1162.66 1551.61,1161.97 1553.82,1161.29 1556.03,1160.6 \n",
       "  1558.25,1159.91 1560.46,1159.22 1562.67,1158.53 1564.89,1157.83 1567.1,1157.14 1569.31,1156.44 1571.53,1155.74 1573.74,1155.04 1575.95,1154.34 1578.17,1153.63 \n",
       "  1580.38,1152.92 1582.59,1152.22 1584.8,1151.51 1587.02,1150.8 1589.23,1150.08 1591.44,1149.37 1593.66,1148.65 1595.87,1147.93 1598.08,1147.21 1600.3,1146.49 \n",
       "  1602.51,1145.77 1604.72,1145.04 1606.94,1144.31 1609.15,1143.58 1611.36,1142.85 1613.58,1142.12 1615.79,1141.38 1618,1140.65 1620.21,1139.91 1622.43,1139.17 \n",
       "  1624.64,1138.43 1626.85,1137.68 1629.07,1136.94 1631.28,1136.19 1633.49,1135.44 1635.71,1134.69 1637.92,1133.94 1640.13,1133.18 1642.35,1132.43 1644.56,1131.67 \n",
       "  1646.77,1130.91 1648.98,1130.14 1651.2,1129.38 1653.41,1128.61 1655.62,1127.85 1657.84,1127.08 1660.05,1126.3 1662.26,1125.53 1664.48,1124.76 1666.69,1123.98 \n",
       "  1668.9,1123.2 1671.12,1122.42 1673.33,1121.63 1675.54,1120.85 1677.76,1120.06 1679.97,1119.27 1682.18,1118.48 1684.39,1117.69 1686.61,1116.89 1688.82,1116.1 \n",
       "  1691.03,1115.3 1693.25,1114.5 1695.46,1113.69 1697.67,1112.89 1699.89,1112.08 1702.1,1111.27 1704.31,1110.46 1706.53,1109.65 1708.74,1108.83 1710.95,1108.02 \n",
       "  1713.17,1107.2 1715.38,1106.38 1717.59,1105.55 1719.8,1104.73 1722.02,1103.9 1724.23,1103.07 1726.44,1102.24 1728.66,1101.41 1730.87,1100.57 1733.08,1099.74 \n",
       "  1735.3,1098.9 1737.51,1098.05 1739.72,1097.21 1741.94,1096.36 1744.15,1095.52 1746.36,1094.67 1748.58,1093.81 1750.79,1092.96 1753,1092.1 1755.21,1091.25 \n",
       "  1757.43,1090.39 1759.64,1089.52 1761.85,1088.66 1764.07,1087.79 1766.28,1086.92 1768.49,1086.05 1770.71,1085.18 1772.92,1084.3 1775.13,1083.42 1777.35,1082.54 \n",
       "  1779.56,1081.66 1781.77,1080.78 1783.99,1079.89 1786.2,1079 1788.41,1078.11 1790.62,1077.22 1792.84,1076.32 1795.05,1075.43 1797.26,1074.53 1799.48,1073.62 \n",
       "  1801.69,1072.72 1803.9,1071.81 1806.12,1070.91 1808.33,1069.99 1810.54,1069.08 1812.76,1068.17 1814.97,1067.25 1817.18,1066.33 1819.39,1065.41 1821.61,1064.48 \n",
       "  1823.82,1063.55 1826.03,1062.63 1828.25,1061.69 1830.46,1060.76 1832.67,1059.82 1834.89,1058.89 1837.1,1057.94 1839.31,1057 1841.53,1056.06 1843.74,1055.11 \n",
       "  1845.95,1054.16 1848.17,1053.21 1850.38,1052.25 1852.59,1051.29 1854.8,1050.33 1857.02,1049.37 1859.23,1048.41 1861.44,1047.44 1863.66,1046.47 1865.87,1045.5 \n",
       "  1868.08,1044.53 1870.3,1043.55 1872.51,1042.57 1874.72,1041.59 1876.94,1040.61 1879.15,1039.62 1881.36,1038.63 1883.58,1037.64 1885.79,1036.65 1888,1035.65 \n",
       "  1890.21,1034.65 1892.43,1033.65 1894.64,1032.65 1896.85,1031.64 1899.07,1030.63 1901.28,1029.62 1903.49,1028.61 1905.71,1027.59 1907.92,1026.57 1910.13,1025.55 \n",
       "  1912.35,1024.53 1914.56,1023.5 1916.77,1022.47 1918.99,1021.44 1921.2,1020.41 1923.41,1019.37 1925.62,1018.33 1927.84,1017.29 1930.05,1016.25 1932.26,1015.2 \n",
       "  1934.48,1014.15 1936.69,1013.1 1938.9,1012.05 1941.12,1010.99 1943.33,1009.93 1945.54,1008.87 1947.76,1007.8 1949.97,1006.73 1952.18,1005.66 1954.4,1004.59 \n",
       "  1956.61,1003.51 1958.82,1002.44 1961.03,1001.36 1963.25,1000.27 1965.46,999.186 1967.67,998.096 1969.89,997.005 1972.1,995.91 1974.31,994.813 1976.53,993.713 \n",
       "  1978.74,992.61 1980.95,991.505 1983.17,990.397 1985.38,989.286 1987.59,988.172 1989.8,987.056 1992.02,985.937 1994.23,984.815 1996.44,983.69 1998.66,982.562 \n",
       "  2000.87,981.432 2003.08,980.299 2005.3,979.163 2007.51,978.024 2009.72,976.882 2011.94,975.738 2014.15,974.591 2016.36,973.44 2018.58,972.287 2020.79,971.131 \n",
       "  2023,969.973 2025.21,968.811 2027.43,967.646 2029.64,966.479 2031.85,965.308 2034.07,964.135 2036.28,962.959 2038.49,961.78 2040.71,960.598 2042.92,959.413 \n",
       "  2045.13,958.225 2047.35,957.034 2049.56,955.84 2051.77,954.643 2053.99,953.443 2056.2,952.241 2058.41,951.035 2060.62,949.826 2062.84,948.614 2065.05,947.399 \n",
       "  2067.26,946.181 2069.48,944.961 2071.69,943.737 2073.9,942.51 2076.12,941.28 2078.33,940.047 2080.54,938.81 2082.76,937.571 2084.97,936.329 2087.18,935.084 \n",
       "  2089.4,933.835 2091.61,932.584 2093.82,931.329 2096.03,930.071 2098.25,928.81 2100.46,927.546 2102.67,926.279 2104.89,925.008 2107.1,923.735 2109.31,922.458 \n",
       "  2111.53,921.178 2113.74,919.895 2115.95,918.609 2118.17,917.319 2120.38,916.026 2122.59,914.73 2124.8,913.431 2127.02,912.129 2129.23,910.823 2131.44,909.514 \n",
       "  2133.66,908.202 2135.87,906.887 2138.08,905.568 2140.3,904.246 2142.51,902.921 2144.72,901.592 2146.94,900.26 2149.15,898.925 2151.36,897.587 2153.58,896.245 \n",
       "  2155.79,894.9 2158,893.551 2160.21,892.199 2162.43,890.844 2164.64,889.485 2166.85,888.123 2169.07,886.758 2171.28,885.389 2173.49,884.017 2175.71,882.641 \n",
       "  2177.92,881.262 2180.13,879.88 2182.35,878.494 2184.56,877.104 2186.77,875.711 2188.99,874.315 2191.2,872.915 2193.41,871.512 2195.62,870.105 2197.84,868.695 \n",
       "  2200.05,867.281 2202.26,865.863 2204.48,864.443 2206.69,863.018 2208.9,861.59 2211.12,860.159 2213.33,858.723 2215.54,857.285 2217.76,855.842 2219.97,854.397 \n",
       "  2222.18,852.947 2224.4,851.494 2226.61,850.037 2228.82,848.577 2231.03,847.113 2233.25,845.645 2235.46,844.174 2237.67,842.699 2239.89,841.22 2242.1,839.738 \n",
       "  2244.31,838.252 2246.53,836.762 2248.74,835.269 2250.95,833.772 2253.17,832.271 2255.38,830.766 2257.59,829.258 2259.81,827.745 2262.02,826.229 2264.23,824.71 \n",
       "  2266.44,823.186 2268.66,821.659 2270.87,820.128 2273.08,818.593 2275.3,817.054 2277.51,815.511 2279.72,813.965 2281.94,812.415 2284.15,810.86 2286.36,809.302 \n",
       "  2288.58,807.74 2290.79,806.175 2293,804.605 2295.21,803.031 2297.43,801.454 2299.64,799.872 2301.85,798.287 2304.07,796.697 2306.28,795.104 2308.49,793.506 \n",
       "  2310.71,791.905 2312.92,790.3 2315.13,788.69 2317.35,787.077 2319.56,785.46 2321.77,783.838 2323.99,782.213 2326.2,780.583 2328.41,778.95 2330.62,777.312 \n",
       "  2332.84,775.67 2335.05,774.024 2337.26,772.374 2339.48,770.72 2341.69,769.062 2343.9,767.4 2346.12,765.733 2348.33,764.063 2350.54,762.388 2352.76,760.709 \n",
       "  \n",
       "  \"/>\n",
       "<path clip-path=\"url(#clip630)\" d=\"\n",
       "M1925.72 248.629 L2279.06 248.629 L2279.06 93.1086 L1925.72 93.1086  Z\n",
       "  \" fill=\"#ffffff\" fill-rule=\"evenodd\" fill-opacity=\"1\"/>\n",
       "<polyline clip-path=\"url(#clip630)\" style=\"stroke:#000000; stroke-linecap:butt; stroke-linejoin:round; stroke-width:4; stroke-opacity:1; fill:none\" points=\"\n",
       "  1925.72,248.629 2279.06,248.629 2279.06,93.1086 1925.72,93.1086 1925.72,248.629 \n",
       "  \"/>\n",
       "<polyline clip-path=\"url(#clip630)\" style=\"stroke:#009af9; stroke-linecap:butt; stroke-linejoin:round; stroke-width:4; stroke-opacity:1; fill:none\" points=\"\n",
       "  1950.28,144.949 2097.68,144.949 \n",
       "  \"/>\n",
       "<path clip-path=\"url(#clip630)\" d=\"M2122.24 151.997 L2122.24 136.303 L2126.5 136.303 L2126.5 151.835 Q2126.5 155.516 2127.94 157.368 Q2129.37 159.196 2132.24 159.196 Q2135.69 159.196 2137.68 156.997 Q2139.7 154.798 2139.7 151.002 L2139.7 136.303 L2143.96 136.303 L2143.96 162.229 L2139.7 162.229 L2139.7 158.247 Q2138.15 160.608 2136.09 161.766 Q2134.05 162.9 2131.34 162.9 Q2126.87 162.9 2124.56 160.122 Q2122.24 157.344 2122.24 151.997 M2132.96 135.678 L2132.96 135.678 Z\" fill=\"#000000\" fill-rule=\"evenodd\" fill-opacity=\"1\" /><path clip-path=\"url(#clip630)\" d=\"M2154.14 158.293 L2161.78 158.293 L2161.78 131.928 L2153.47 133.595 L2153.47 129.335 L2161.73 127.669 L2166.41 127.669 L2166.41 158.293 L2174.05 158.293 L2174.05 162.229 L2154.14 162.229 L2154.14 158.293 Z\" fill=\"#000000\" fill-rule=\"evenodd\" fill-opacity=\"1\" /><path clip-path=\"url(#clip630)\" d=\"M2193.12 126.257 Q2190.02 131.581 2188.52 136.789 Q2187.01 141.997 2187.01 147.344 Q2187.01 152.692 2188.52 157.946 Q2190.04 163.178 2193.12 168.479 L2189.42 168.479 Q2185.95 163.039 2184.21 157.784 Q2182.5 152.53 2182.5 147.344 Q2182.5 142.182 2184.21 136.951 Q2185.92 131.72 2189.42 126.257 L2193.12 126.257 Z\" fill=\"#000000\" fill-rule=\"evenodd\" fill-opacity=\"1\" /><path clip-path=\"url(#clip630)\" d=\"M2205.6 128.942 L2205.6 136.303 L2214.37 136.303 L2214.37 139.613 L2205.6 139.613 L2205.6 153.687 Q2205.6 156.858 2206.46 157.761 Q2207.34 158.664 2210 158.664 L2214.37 158.664 L2214.37 162.229 L2210 162.229 Q2205.07 162.229 2203.19 160.4 Q2201.32 158.548 2201.32 153.687 L2201.32 139.613 L2198.19 139.613 L2198.19 136.303 L2201.32 136.303 L2201.32 128.942 L2205.6 128.942 Z\" fill=\"#000000\" fill-rule=\"evenodd\" fill-opacity=\"1\" /><path clip-path=\"url(#clip630)\" d=\"M2219.3 126.257 L2223.01 126.257 Q2226.48 131.72 2228.19 136.951 Q2229.93 142.182 2229.93 147.344 Q2229.93 152.53 2228.19 157.784 Q2226.48 163.039 2223.01 168.479 L2219.3 168.479 Q2222.38 163.178 2223.89 157.946 Q2225.41 152.692 2225.41 147.344 Q2225.41 141.997 2223.89 136.789 Q2222.38 131.581 2219.3 126.257 Z\" fill=\"#000000\" fill-rule=\"evenodd\" fill-opacity=\"1\" /><polyline clip-path=\"url(#clip630)\" style=\"stroke:#e26f46; stroke-linecap:butt; stroke-linejoin:round; stroke-width:4; stroke-opacity:1; fill:none\" points=\"\n",
       "  1950.28,196.789 2097.68,196.789 \n",
       "  \"/>\n",
       "<path clip-path=\"url(#clip630)\" d=\"M2122.24 203.837 L2122.24 188.143 L2126.5 188.143 L2126.5 203.675 Q2126.5 207.356 2127.94 209.208 Q2129.37 211.036 2132.24 211.036 Q2135.69 211.036 2137.68 208.837 Q2139.7 206.638 2139.7 202.842 L2139.7 188.143 L2143.96 188.143 L2143.96 214.069 L2139.7 214.069 L2139.7 210.087 Q2138.15 212.448 2136.09 213.606 Q2134.05 214.74 2131.34 214.74 Q2126.87 214.74 2124.56 211.962 Q2122.24 209.184 2122.24 203.837 M2132.96 187.518 L2132.96 187.518 Z\" fill=\"#000000\" fill-rule=\"evenodd\" fill-opacity=\"1\" /><path clip-path=\"url(#clip630)\" d=\"M2157.36 210.133 L2173.68 210.133 L2173.68 214.069 L2151.73 214.069 L2151.73 210.133 Q2154.4 207.379 2158.98 202.749 Q2163.59 198.096 2164.77 196.754 Q2167.01 194.231 2167.89 192.495 Q2168.79 190.735 2168.79 189.046 Q2168.79 186.291 2166.85 184.555 Q2164.93 182.819 2161.83 182.819 Q2159.63 182.819 2157.17 183.583 Q2154.74 184.347 2151.97 185.897 L2151.97 181.175 Q2154.79 180.041 2157.24 179.462 Q2159.7 178.884 2161.73 178.884 Q2167.1 178.884 2170.3 181.569 Q2173.49 184.254 2173.49 188.745 Q2173.49 190.874 2172.68 192.796 Q2171.9 194.694 2169.79 197.286 Q2169.21 197.958 2166.11 201.175 Q2163.01 204.37 2157.36 210.133 Z\" fill=\"#000000\" fill-rule=\"evenodd\" fill-opacity=\"1\" /><path clip-path=\"url(#clip630)\" d=\"M2193.12 178.097 Q2190.02 183.421 2188.52 188.629 Q2187.01 193.837 2187.01 199.184 Q2187.01 204.532 2188.52 209.786 Q2190.04 215.018 2193.12 220.319 L2189.42 220.319 Q2185.95 214.879 2184.21 209.624 Q2182.5 204.37 2182.5 199.184 Q2182.5 194.022 2184.21 188.791 Q2185.92 183.56 2189.42 178.097 L2193.12 178.097 Z\" fill=\"#000000\" fill-rule=\"evenodd\" fill-opacity=\"1\" /><path clip-path=\"url(#clip630)\" d=\"M2205.6 180.782 L2205.6 188.143 L2214.37 188.143 L2214.37 191.453 L2205.6 191.453 L2205.6 205.527 Q2205.6 208.698 2206.46 209.601 Q2207.34 210.504 2210 210.504 L2214.37 210.504 L2214.37 214.069 L2210 214.069 Q2205.07 214.069 2203.19 212.24 Q2201.32 210.388 2201.32 205.527 L2201.32 191.453 L2198.19 191.453 L2198.19 188.143 L2201.32 188.143 L2201.32 180.782 L2205.6 180.782 Z\" fill=\"#000000\" fill-rule=\"evenodd\" fill-opacity=\"1\" /><path clip-path=\"url(#clip630)\" d=\"M2219.3 178.097 L2223.01 178.097 Q2226.48 183.56 2228.19 188.791 Q2229.93 194.022 2229.93 199.184 Q2229.93 204.37 2228.19 209.624 Q2226.48 214.879 2223.01 220.319 L2219.3 220.319 Q2222.38 215.018 2223.89 209.786 Q2225.41 204.532 2225.41 199.184 Q2225.41 193.837 2223.89 188.629 Q2222.38 183.421 2219.3 178.097 Z\" fill=\"#000000\" fill-rule=\"evenodd\" fill-opacity=\"1\" /></svg>\n"
      ]
     },
     "execution_count": 53,
     "metadata": {},
     "output_type": "execute_result"
    }
   ],
   "source": [
    "using DifferentialEquations\n",
    "using Plots\n",
    "function sistem(du,u,p,t)\n",
    "    du[1]=p[1]*u[1]+p[2]*u[2]-15*t*exp(-2*t)\n",
    "    du[2]=p[3]*u[1]+p[4]*u[2]-4*t*exp(-2*t)\n",
    "end\n",
    "u0=[7;3]\n",
    "p=(4,2,3,-1)\n",
    "tspan=(0.0,0.5)\n",
    "problem=ODEProblem(sistem,u0,tspan,p)\n",
    "solution=solve(problem)\n",
    "plot(solution,lw=2)"
   ]
  },
  {
   "cell_type": "code",
   "execution_count": 54,
   "metadata": {},
   "outputs": [
    {
     "data": {
      "text/plain": [
       "retcode: Success\n",
       "Interpolation: specialized 4th order \"free\" interpolation, specialized 2nd order \"free\" stiffness-aware interpolation\n",
       "t: 7-element Vector{Float64}:\n",
       " 0.0\n",
       " 0.05268365706139136\n",
       " 0.12134537316715134\n",
       " 0.2051526029088646\n",
       " 0.30456948687317115\n",
       " 0.41859837363649827\n",
       " 0.5\n",
       "u: 7-element Vector{Vector{Float64}}:\n",
       " [7.0, 3.0]\n",
       " [9.0311588210469, 4.069953959316554]\n",
       " [12.575580397610551, 5.915748689017774]\n",
       " [18.871764677933367, 9.153023577704152]\n",
       " [30.670808120794355, 15.151775177750151]\n",
       " [53.79856567240971, 26.81557427620943]\n",
       " [80.53575377603909, 40.24488442170582]"
      ]
     },
     "execution_count": 54,
     "metadata": {},
     "output_type": "execute_result"
    }
   ],
   "source": [
    "solution"
   ]
  }
 ],
 "metadata": {
  "kernelspec": {
   "display_name": "Julia 1.7.2",
   "language": "julia",
   "name": "julia-1.7"
  },
  "language_info": {
   "file_extension": ".jl",
   "mimetype": "application/julia",
   "name": "julia",
   "version": "1.7.2"
  }
 },
 "nbformat": 4,
 "nbformat_minor": 4
}
