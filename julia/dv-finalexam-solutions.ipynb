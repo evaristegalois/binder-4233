{
 "cells": [
  {
   "cell_type": "markdown",
   "id": "bea7645c",
   "metadata": {},
   "source": [
    "<h2>Final Exam</h2>"
   ]
  },
  {
   "cell_type": "markdown",
   "id": "115cbfba",
   "metadata": {},
   "source": [
    "<h4>Question 1</h4>"
   ]
  },
  {
   "cell_type": "markdown",
   "id": "1a50b9a6",
   "metadata": {},
   "source": [
    "The relationship of $\\kappa$ and $\\rho$ is the same in\n",
    "$n$ dimensions as it is in two dimensions. For the curve given by\n",
    "\\begin{equation}\n",
    "  \\label{eq:zyrffijq}\n",
    "  \\vec{r}(t)=\\left[\n",
    "    \\begin{array}{c}\n",
    "      3t\\\\\n",
    "      -5t\\\\\n",
    "      1-8t^2\n",
    "    \\end{array}\n",
    "    \\right]\\notag\n",
    "  \\end{equation}\n",
    "  find the radius $\\rho$ of the osculating circle using the formula\n",
    "  \\begin{equation}\n",
    "    \\label{eq:zdqdfhbu}\n",
    "    \\kappa=\\frac{\\|\\vec{r}'(t)\\times\\vec{r}''(t)\\|}{\\|\\vec{r}'(t)\\|^3}\\notag\n",
    "  \\end{equation}"
   ]
  },
  {
   "cell_type": "code",
   "execution_count": 1,
   "id": "cf18912b",
   "metadata": {},
   "outputs": [],
   "source": [
    "using SymPy"
   ]
  },
  {
   "cell_type": "code",
   "execution_count": 4,
   "id": "3a73d53e",
   "metadata": {},
   "outputs": [],
   "source": [
    "using LinearAlgebra"
   ]
  },
  {
   "cell_type": "code",
   "execution_count": 17,
   "id": "f3c1a9de",
   "metadata": {},
   "outputs": [
    {
     "data": {
      "text/latex": [
       "$t$"
      ],
      "text/plain": [
       "t"
      ]
     },
     "execution_count": 17,
     "metadata": {},
     "output_type": "execute_result"
    }
   ],
   "source": [
    "t=symbols(\"t\",real=True)"
   ]
  },
  {
   "cell_type": "code",
   "execution_count": 18,
   "id": "7792c385",
   "metadata": {},
   "outputs": [
    {
     "data": {
      "text/latex": [
       "$\\left[ \\begin{array}{r}80\\\\48\\\\0\\end{array} \\right]$\n"
      ],
      "text/plain": [
       "3-element Vector{Sym}:\n",
       " 80\n",
       " 48\n",
       "  0"
      ]
     },
     "execution_count": 18,
     "metadata": {},
     "output_type": "execute_result"
    }
   ],
   "source": [
    "num1=cross([3;-5;(-16)*t],[0;0;-16])"
   ]
  },
  {
   "cell_type": "code",
   "execution_count": 19,
   "id": "d570bb49",
   "metadata": {},
   "outputs": [
    {
     "data": {
      "text/plain": [
       "3-element Vector{Int64}:\n",
       " 80\n",
       " 48\n",
       "  0"
      ]
     },
     "execution_count": 19,
     "metadata": {},
     "output_type": "execute_result"
    }
   ],
   "source": [
    "num2=cross([3;-5;(-16)*1],[0;0;-16])"
   ]
  },
  {
   "cell_type": "code",
   "execution_count": 20,
   "id": "9d63ff3c",
   "metadata": {},
   "outputs": [
    {
     "data": {
      "text/latex": [
       "$\\left[ \\begin{array}{r}3\\\\-5\\\\- 16 t\\end{array} \\right]$\n"
      ],
      "text/plain": [
       "3-element Vector{Sym}:\n",
       "     3\n",
       "    -5\n",
       " -16⋅t"
      ]
     },
     "execution_count": 20,
     "metadata": {},
     "output_type": "execute_result"
    }
   ],
   "source": [
    "den1=[3;-5;(-16)*t]"
   ]
  },
  {
   "cell_type": "code",
   "execution_count": 21,
   "id": "dc2729d3",
   "metadata": {},
   "outputs": [
    {
     "data": {
      "text/plain": [
       "3-element Vector{Int64}:\n",
       "   3\n",
       "  -5\n",
       " -16"
      ]
     },
     "execution_count": 21,
     "metadata": {},
     "output_type": "execute_result"
    }
   ],
   "source": [
    "den2=[3;-5;(-16)]"
   ]
  },
  {
   "cell_type": "code",
   "execution_count": 22,
   "id": "5c45f36f",
   "metadata": {},
   "outputs": [
    {
     "data": {
      "text/latex": [
       "$\\frac{16 \\sqrt{34}}{\\left(256 t^{2} + 34\\right)^{\\frac{3}{2}}}$"
      ],
      "text/plain": [
       "     16⋅√34     \n",
       "────────────────\n",
       "             3/2\n",
       "⎛     2     ⎞   \n",
       "⎝256⋅t  + 34⎠   "
      ]
     },
     "execution_count": 22,
     "metadata": {},
     "output_type": "execute_result"
    }
   ],
   "source": [
    "kk1=/(sqrt(dot(num1,num1)),^(sqrt(dot(den1,den1)),3))"
   ]
  },
  {
   "cell_type": "code",
   "execution_count": 14,
   "id": "5abbfe44",
   "metadata": {},
   "outputs": [
    {
     "data": {
      "text/plain": [
       "0.018891326078183352"
      ]
     },
     "execution_count": 14,
     "metadata": {},
     "output_type": "execute_result"
    }
   ],
   "source": [
    "kk2=/(sqrt(dot(num2,num2)),^(sqrt(dot(den2,den2)),3))"
   ]
  },
  {
   "cell_type": "code",
   "execution_count": 23,
   "id": "65700571",
   "metadata": {},
   "outputs": [
    {
     "data": {
      "text/plain": [
       "52.93434647527735"
      ]
     },
     "execution_count": 23,
     "metadata": {},
     "output_type": "execute_result"
    }
   ],
   "source": [
    "rho=/(1,kk2)"
   ]
  },
  {
   "cell_type": "markdown",
   "id": "8346ccf4",
   "metadata": {},
   "source": [
    "<h4>Question 2</h4>"
   ]
  },
  {
   "cell_type": "markdown",
   "id": "64e875c7",
   "metadata": {},
   "source": [
    "<font color=\"red\">if lower boundary of y-integral is 0 instead of x^2 then 1.5 if executed for result 64/3</font>"
   ]
  },
  {
   "cell_type": "markdown",
   "id": "4d5e68c6",
   "metadata": {},
   "source": [
    "<font color=\"red\">if x^4 instead of x^6 and result is 18.13 give 4.5</font>"
   ]
  },
  {
   "cell_type": "markdown",
   "id": "a4f33878",
   "metadata": {},
   "source": [
    "Let $G$ be the plane region in the first quadrant bounded\n",
    "by $y=x^2,y=4$, and the $y$-axis. Find\n",
    "\\begin{equation}\n",
    "  \\label{eq:lebfpcde}\n",
    "  \\iint_Gx^2y\\,dA\\notag\n",
    "\\end{equation}"
   ]
  },
  {
   "cell_type": "markdown",
   "id": "e26cafe2",
   "metadata": {},
   "source": [
    "<img src=\"./diagrams/dvfe-02.png\" width=\"55%\" height=\"55%\">"
   ]
  },
  {
   "cell_type": "code",
   "execution_count": 26,
   "id": "21828a62",
   "metadata": {},
   "outputs": [
    {
     "data": {
      "text/plain": [
       "f1 (generic function with 1 method)"
      ]
     },
     "execution_count": 26,
     "metadata": {},
     "output_type": "execute_result"
    }
   ],
   "source": [
    "f1(x)=*(//(1,2),-(*(//(16,3),^(x,3)),*(//(1,7),^(x,7))))"
   ]
  },
  {
   "cell_type": "code",
   "execution_count": 27,
   "id": "9d39e314",
   "metadata": {},
   "outputs": [
    {
     "data": {
      "text/plain": [
       "256//21"
      ]
     },
     "execution_count": 27,
     "metadata": {},
     "output_type": "execute_result"
    }
   ],
   "source": [
    "-(f1(2),f1(0))"
   ]
  },
  {
   "cell_type": "code",
   "execution_count": 1,
   "id": "ff2e789c",
   "metadata": {},
   "outputs": [
    {
     "data": {
      "text/plain": [
       "12.19047619047619"
      ]
     },
     "execution_count": 1,
     "metadata": {},
     "output_type": "execute_result"
    }
   ],
   "source": [
    "/(256,21)"
   ]
  },
  {
   "cell_type": "markdown",
   "id": "6587ecf5",
   "metadata": {},
   "source": [
    "<h4>Question 3</h4>"
   ]
  },
  {
   "cell_type": "markdown",
   "id": "02bf4aa0",
   "metadata": {},
   "source": [
    "Consider the velocity vector field\n",
    "    \\begin{equation}\n",
    "      \\label{eq:zispmslv}\n",
    "      \\vec{v}=\\left[\n",
    "        \\begin{array}{c}\n",
    "          -y-5x\\sqrt{x^2+y^2}\\\\\n",
    "          x-5y\\sqrt{x^2+y^2}\\\\\n",
    "          -\\frac{0.1}{\\sqrt{x^2+y^2}}\n",
    "        \\end{array}\n",
    "        \\right]\\notag\n",
    "\\end{equation}\n",
    "* Determine the divergence and the curl of this velocity field at\n",
    "  an arbitrary point $(x,y,z)$.\n",
    "* Use this result to determine if the trajectories of particles in\n",
    "  this field are diverging or converging (or neither) at the point\n",
    "  $(-3,-2,-3)$. If the divergence is positive, then the particles\n",
    "  diverge; if the divergence is negative, then the particles converge;\n",
    "  if the divergence is zero, then the particles neither converge nor\n",
    "  diverge.\n",
    "* The magnitude of the curl vector at a given point measures the\n",
    "  strength of the rotation, and the direction of the curl vector\n",
    "  provides the axis about which the field rotates. Determine\n",
    "  whether the vector field at $(-3,-2,-3)$ is rotational (if the curl\n",
    "  at this point is a nonzero vector, then it is rotational) and, if\n",
    "  yes, find a vector about which the field is rotating.\n",
    "\n"
   ]
  },
  {
   "cell_type": "markdown",
   "id": "ff14d2b5",
   "metadata": {},
   "source": [
    "<img src=\"./diagrams/dvfe-03.png\" width=\"77%\" height=\"77%\">"
   ]
  },
  {
   "cell_type": "code",
   "execution_count": 7,
   "id": "e5a316ec",
   "metadata": {},
   "outputs": [
    {
     "data": {
      "text/plain": [
       "0.0021334622931739582"
      ]
     },
     "execution_count": 7,
     "metadata": {},
     "output_type": "execute_result"
    }
   ],
   "source": [
    "k1=/(1,*(130,sqrt(13)))"
   ]
  },
  {
   "cell_type": "code",
   "execution_count": 9,
   "id": "e8254729",
   "metadata": {},
   "outputs": [
    {
     "data": {
      "text/plain": [
       "3-element Vector{Float64}:\n",
       " -0.0042669245863479165\n",
       "  0.006400386879521875\n",
       "  2.0"
      ]
     },
     "execution_count": 9,
     "metadata": {},
     "output_type": "execute_result"
    }
   ],
   "source": [
    "curl1=*(k1,[-2;3;/(2,k1)])"
   ]
  },
  {
   "cell_type": "code",
   "execution_count": 10,
   "id": "b215a2e1",
   "metadata": {},
   "outputs": [
    {
     "data": {
      "text/plain": [
       "-54.08326913195984"
      ]
     },
     "execution_count": 10,
     "metadata": {},
     "output_type": "execute_result"
    }
   ],
   "source": [
    "div1=*(-15,sqrt(13))"
   ]
  },
  {
   "cell_type": "markdown",
   "id": "8def502c",
   "metadata": {},
   "source": [
    "$$\n",
    "\\operatorname{div}\\vec{v}=-30\\sqrt{13}\n",
    "$$"
   ]
  },
  {
   "cell_type": "markdown",
   "id": "844eb745",
   "metadata": {},
   "source": [
    "$$\n",
    "\\operatorname{curl}\\vec{v}=\\frac{1}{130\\sqrt{13}}\\left[\n",
    "\\begin{array}{c}\n",
    "-2\\\\\n",
    "3\\\\\n",
    "260\\sqrt{13}\n",
    "\\end{array}\n",
    "\\right]\n",
    "$$"
   ]
  },
  {
   "cell_type": "markdown",
   "id": "4e2957bd",
   "metadata": {},
   "source": [
    "<h4>Question 4</h4>"
   ]
  },
  {
   "cell_type": "markdown",
   "id": "72efbcee",
   "metadata": {},
   "source": [
    "The diagram shows the first turn of the logarithmic\n",
    "spiral\n",
    "\\begin{equation}\n",
    "  \\label{eq:pdnfnrit}\n",
    "  r=2e^{-\\frac{\\theta}{10}}\\notag\n",
    "\\end{equation}\n",
    "together with the two circles, both centred at $(0,0)$, through\n",
    "the endpoints of the spiral. Find the areas of the two shaded\n",
    "regions $R_1$ and $R_2$."
   ]
  },
  {
   "cell_type": "markdown",
   "id": "da95b860",
   "metadata": {},
   "source": [
    "<img src=\"./diagrams/dvfe-04.png\" width=\"77%\" height=\"77%\">"
   ]
  },
  {
   "cell_type": "code",
   "execution_count": 1,
   "id": "e511f73e",
   "metadata": {},
   "outputs": [
    {
     "data": {
      "text/plain": [
       "1.0669761821822066"
      ]
     },
     "execution_count": 1,
     "metadata": {},
     "output_type": "execute_result"
    }
   ],
   "source": [
    "r1=*(2,exp(/(*(2,pi),-10))) # ignore the first four lines of the png above"
   ]
  },
  {
   "cell_type": "code",
   "execution_count": 2,
   "id": "e0faf40a",
   "metadata": {},
   "outputs": [
    {
     "data": {
      "text/plain": [
       "5.412466047719465"
      ]
     },
     "execution_count": 2,
     "metadata": {},
     "output_type": "execute_result"
    }
   ],
   "source": [
    "R1=*(2,+(*(2,pi),*(5,-(exp(*(/(-2,5),pi)),1))))"
   ]
  },
  {
   "cell_type": "code",
   "execution_count": 3,
   "id": "1d84e66b",
   "metadata": {},
   "outputs": [
    {
     "data": {
      "text/plain": [
       "8.98986161241511"
      ]
     },
     "execution_count": 3,
     "metadata": {},
     "output_type": "execute_result"
    }
   ],
   "source": [
    "ann=-(*(4,pi),*(^(r1,2),pi))"
   ]
  },
  {
   "cell_type": "code",
   "execution_count": 4,
   "id": "c27039c2",
   "metadata": {},
   "outputs": [
    {
     "data": {
      "text/plain": [
       "3.577395564695645"
      ]
     },
     "execution_count": 4,
     "metadata": {},
     "output_type": "execute_result"
    }
   ],
   "source": [
    "R2=-(ann,R1)"
   ]
  },
  {
   "cell_type": "code",
   "execution_count": 10,
   "id": "dc0199bf",
   "metadata": {},
   "outputs": [
    {
     "data": {
      "text/plain": [
       "7.153904566639707"
      ]
     },
     "execution_count": 10,
     "metadata": {},
     "output_type": "execute_result"
    }
   ],
   "source": [
    "+(R2,(*(^(r1,2),pi)))"
   ]
  },
  {
   "cell_type": "markdown",
   "id": "a4ef8b35",
   "metadata": {},
   "source": [
    "<h4>Question 5</h4>"
   ]
  },
  {
   "cell_type": "markdown",
   "id": "43884eb5",
   "metadata": {},
   "source": [
    "<font color=\"red\">if not lidless and all is squeaky clean give 2.5</font>"
   ]
  },
  {
   "cell_type": "markdown",
   "id": "44c06882",
   "metadata": {},
   "source": [
    "You make a lidless cardbord box with a volume of\n",
    "$4\\,m^3$. Find the dimensions of the box that requires the least\n",
    "amount of cardboard. Setting up the equations to solve\n",
    "will give you 80\\% credit for this question if you use Lagrange\n",
    "multipliers. Solving them and giving the correct full\n",
    "  sentence answer gives you the full 100\\%, whether you use\n",
    "Lagrange multipliers or not."
   ]
  },
  {
   "cell_type": "markdown",
   "id": "10129d69",
   "metadata": {},
   "source": [
    "<img src=\"./diagrams/fe-05.png\" width=\"77%\" height=\"77%\">"
   ]
  },
  {
   "cell_type": "markdown",
   "id": "9ce7a21b",
   "metadata": {},
   "source": [
    "<h4>Question 6</h4>"
   ]
  },
  {
   "cell_type": "markdown",
   "id": "41da53b2",
   "metadata": {},
   "source": [
    "Find the centroid of the solid bounded by\n",
    "$z=\\cos{}x,x=-\\frac{\\pi}{2},x=\\frac{\\pi}{2},y=0,z=0$, and $y+z=1$."
   ]
  }
 ],
 "metadata": {
  "kernelspec": {
   "display_name": "Julia 1.7.2",
   "language": "julia",
   "name": "julia-1.7"
  },
  "language_info": {
   "file_extension": ".jl",
   "mimetype": "application/julia",
   "name": "julia",
   "version": "1.7.2"
  }
 },
 "nbformat": 4,
 "nbformat_minor": 5
}
