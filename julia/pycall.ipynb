{
 "cells": [
  {
   "cell_type": "code",
   "execution_count": 12,
   "id": "0e545242",
   "metadata": {},
   "outputs": [
    {
     "data": {
      "text/latex": [
       "$\\displaystyle k$"
      ],
      "text/plain": [
       "PyObject k"
      ]
     },
     "execution_count": 12,
     "metadata": {},
     "output_type": "execute_result"
    }
   ],
   "source": [
    "using PyCall\n",
    "sympy=pyimport(\"sympy\")\n",
    "t=sympy.Symbol(\"t\")\n",
    "s=sympy.Symbol(\"s\")\n",
    "k=sympy.Symbol(\"k\")"
   ]
  },
  {
   "cell_type": "code",
   "execution_count": 9,
   "id": "46c00b6d",
   "metadata": {},
   "outputs": [
    {
     "data": {
      "text/latex": [
       "$\\displaystyle t \\cosh{\\left(k t \\right)}$"
      ],
      "text/plain": [
       "PyObject t*cosh(k*t)"
      ]
     },
     "execution_count": 9,
     "metadata": {},
     "output_type": "execute_result"
    }
   ],
   "source": [
    "f1=*(t,sympy.cosh(*(k,t)))"
   ]
  },
  {
   "cell_type": "code",
   "execution_count": 10,
   "id": "6f937cff",
   "metadata": {},
   "outputs": [
    {
     "data": {
      "text/plain": [
       "(PyObject Piecewise((-(k**2 + s**2)*exp_polar(I*pi)/(k**2 - s**2)**2, Abs(s**2/k**2) < 1), ((k**2 + s**2)/(k**2 - s**2)**2, 1/Abs(s**2/k**2) < 1), (2*pi*meijerg(((0,), (-1/2, -1/2)), ((0, 1/2), (-1/2,)), s**2/k**2)/k**2, True)), PyObject Max(0, cos(Abs(arg(k)))*sqrt(Abs(k**2))), PyObject (2*Abs(arg(k)) < pi) & Ne(s**2/k**2, 1))"
      ]
     },
     "execution_count": 10,
     "metadata": {},
     "output_type": "execute_result"
    }
   ],
   "source": [
    "sympy.laplace_transform(f1,t,s)"
   ]
  },
  {
   "cell_type": "code",
   "execution_count": 7,
   "id": "08d32292",
   "metadata": {},
   "outputs": [
    {
     "data": {
      "text/latex": [
       "$\\displaystyle \\operatorname{atan}{\\left(s \\right)}$"
      ],
      "text/plain": [
       "PyObject atan(s)"
      ]
     },
     "execution_count": 7,
     "metadata": {},
     "output_type": "execute_result"
    }
   ],
   "source": [
    "F1=sympy.atan(s)"
   ]
  },
  {
   "cell_type": "code",
   "execution_count": 8,
   "id": "5bc02aca",
   "metadata": {},
   "outputs": [
    {
     "data": {
      "text/latex": [
       "$\\displaystyle \\mathcal{L}^{-1}_{s}\\left[\\operatorname{atan}{\\left(s \\right)}\\right]\\left(t\\right)$"
      ],
      "text/plain": [
       "PyObject InverseLaplaceTransform(atan(s), s, t, _None)"
      ]
     },
     "execution_count": 8,
     "metadata": {},
     "output_type": "execute_result"
    }
   ],
   "source": [
    "sympy.inverse_laplace_transform(F1,s,t)"
   ]
  },
  {
   "cell_type": "code",
   "execution_count": 21,
   "id": "a76b6ecd",
   "metadata": {},
   "outputs": [
    {
     "data": {
      "text/latex": [
       "$\\displaystyle k$"
      ],
      "text/plain": [
       "PyObject k"
      ]
     },
     "execution_count": 21,
     "metadata": {},
     "output_type": "execute_result"
    }
   ],
   "source": [
    "k=sympy.Symbol(\"k\")"
   ]
  },
  {
   "cell_type": "code",
   "execution_count": 22,
   "id": "c0819ad4",
   "metadata": {},
   "outputs": [
    {
     "data": {
      "text/latex": [
       "$\\displaystyle \\sin{\\left(t \\right)}$"
      ],
      "text/plain": [
       "PyObject sin(t)"
      ]
     },
     "execution_count": 22,
     "metadata": {},
     "output_type": "execute_result"
    }
   ],
   "source": [
    "f=sympy.sin(t)"
   ]
  },
  {
   "cell_type": "code",
   "execution_count": 23,
   "id": "2d6a436b",
   "metadata": {},
   "outputs": [
    {
     "data": {
      "text/latex": [
       "$\\displaystyle \\frac{s}{s^{2} + 1}$"
      ],
      "text/plain": [
       "PyObject s/(s**2 + 1)"
      ]
     },
     "execution_count": 23,
     "metadata": {},
     "output_type": "execute_result"
    }
   ],
   "source": [
    "F=/(s,s^2+1)"
   ]
  },
  {
   "cell_type": "code",
   "execution_count": 25,
   "id": "062d95c2",
   "metadata": {},
   "outputs": [
    {
     "data": {
      "text/latex": [
       "$\\displaystyle 0.5 - e^{- t} + 0.5 e^{- 2 t}$"
      ],
      "text/plain": [
       "PyObject 0.5 - exp(-t) + 0.5*exp(-2*t)"
      ]
     },
     "execution_count": 25,
     "metadata": {},
     "output_type": "execute_result"
    }
   ],
   "source": [
    "f3=+(/(1,2),*(/(1,2),sympy.exp(*(-2,t))),*(-1,sympy.exp(*(-1,t))))"
   ]
  },
  {
   "cell_type": "code",
   "execution_count": 28,
   "id": "d7292a1d",
   "metadata": {},
   "outputs": [
    {
     "data": {
      "text/latex": [
       "$\\displaystyle \\frac{- k t \\cos{\\left(k t \\right)} + \\sin{\\left(k t \\right)}}{2 k^{3}}$"
      ],
      "text/plain": [
       "PyObject (-k*t*cos(k*t) + sin(k*t))/(2*k**3)"
      ]
     },
     "execution_count": 28,
     "metadata": {},
     "output_type": "execute_result"
    }
   ],
   "source": [
    "f5=*(/(1,*(2,^(k,3))),-(sympy.sin(*(k,t)),*(k,t,sympy.cos(*(k,t)))))"
   ]
  },
  {
   "cell_type": "code",
   "execution_count": 29,
   "id": "c427cfab",
   "metadata": {},
   "outputs": [
    {
     "data": {
      "text/plain": [
       "(PyObject (k**2 + s**2)**(-2), PyObject 0, PyObject Eq(2*Abs(arg(k)), 0))"
      ]
     },
     "execution_count": 29,
     "metadata": {},
     "output_type": "execute_result"
    }
   ],
   "source": [
    "sympy.laplace_transform(f5,t,s)"
   ]
  },
  {
   "cell_type": "code",
   "execution_count": 30,
   "id": "2d3fe75d",
   "metadata": {},
   "outputs": [
    {
     "data": {
      "text/plain": [
       "1"
      ]
     },
     "execution_count": 30,
     "metadata": {},
     "output_type": "execute_result"
    }
   ],
   "source": [
    "F=1"
   ]
  },
  {
   "cell_type": "code",
   "execution_count": 31,
   "id": "9f59e304",
   "metadata": {},
   "outputs": [
    {
     "data": {
      "text/latex": [
       "$\\displaystyle \\delta\\left(t\\right)$"
      ],
      "text/plain": [
       "PyObject DiracDelta(t)"
      ]
     },
     "execution_count": 31,
     "metadata": {},
     "output_type": "execute_result"
    }
   ],
   "source": [
    "sympy.inverse_laplace_transform(F,s,t)"
   ]
  },
  {
   "cell_type": "code",
   "execution_count": 50,
   "id": "a4466536",
   "metadata": {},
   "outputs": [
    {
     "data": {
      "text/latex": [
       "$\\displaystyle 0.015625 \\left(\\left(4 - 3 t\\right) \\sin{\\left(t \\right)} + \\left(4 t + 8\\right) \\cos{\\left(t \\right)}\\right) e^{0.5 t}$"
      ],
      "text/plain": [
       "PyObject 0.015625*((4 - 3*t)*sin(t) + (4*t + 8)*cos(t))*exp(0.5*t)"
      ]
     },
     "execution_count": 50,
     "metadata": {},
     "output_type": "execute_result"
    }
   ],
   "source": [
    "g1=*(/(1,64),sympy.exp(*(/(1,2),t)),+(*(+(*(4,t),8),sympy.cos(t)),*(-(4,*(3,t)),sympy.sin(t))))"
   ]
  },
  {
   "cell_type": "code",
   "execution_count": 51,
   "id": "98831a4f",
   "metadata": {},
   "outputs": [
    {
     "data": {
      "text/plain": [
       "(PyObject s**2*(0.25*s - 0.125)/(2.0*s**4 - 4.0*s**3 + 7.0*s**2 - 5.0*s + 3.125), PyObject -oo, PyObject Abs(2*arg(1.0 - 2.0*s) + 2*pi) < pi)"
      ]
     },
     "execution_count": 51,
     "metadata": {},
     "output_type": "execute_result"
    }
   ],
   "source": [
    "sympy.laplace_transform(g1,t,s)"
   ]
  },
  {
   "cell_type": "code",
   "execution_count": 64,
   "id": "53702f8a",
   "metadata": {},
   "outputs": [
    {
     "data": {
      "text/latex": [
       "$\\displaystyle \\frac{2 s^{3} - s^{2}}{\\left(4 s^{2} - 4 s + 5\\right)^{2}}$"
      ],
      "text/plain": [
       "PyObject (2*s**3 - s**2)/(4*s**2 - 4*s + 5)**2"
      ]
     },
     "execution_count": 64,
     "metadata": {},
     "output_type": "execute_result"
    }
   ],
   "source": [
    "h1=/(-(*(2,^(s,3)),^(s,2)),^(+(*(4,^(s,2)),*(-4,s),5),2))"
   ]
  },
  {
   "cell_type": "code",
   "execution_count": 65,
   "id": "d87d5a4f",
   "metadata": {},
   "outputs": [
    {
     "data": {
      "text/latex": [
       "$\\displaystyle \\frac{\\left(- 3 t \\sin{\\left(t \\right)} + 4 t \\cos{\\left(t \\right)} + 4 \\sin{\\left(t \\right)} + 8 \\cos{\\left(t \\right)}\\right) e^{\\frac{t}{2}} \\theta\\left(t\\right)}{64}$"
      ],
      "text/plain": [
       "PyObject (-3*t*sin(t) + 4*t*cos(t) + 4*sin(t) + 8*cos(t))*exp(t/2)*Heaviside(t)/64"
      ]
     },
     "execution_count": 65,
     "metadata": {},
     "output_type": "execute_result"
    }
   ],
   "source": [
    "sympy.inverse_laplace_transform(h1,s,t)"
   ]
  },
  {
   "cell_type": "code",
   "execution_count": 57,
   "id": "d47a96aa",
   "metadata": {},
   "outputs": [
    {
     "data": {
      "text/latex": [
       "$\\displaystyle 4 t e^{\\frac{t}{2}} \\cos{\\left(t \\right)}$"
      ],
      "text/plain": [
       "PyObject 4*t*exp(t/2)*cos(t)"
      ]
     },
     "execution_count": 57,
     "metadata": {},
     "output_type": "execute_result"
    }
   ],
   "source": [
    "H1=*(sympy.exp(/(t,2)),*(4,t,sympy.cos(t)))"
   ]
  },
  {
   "cell_type": "code",
   "execution_count": 53,
   "id": "b0437026",
   "metadata": {},
   "outputs": [
    {
     "data": {
      "text/plain": [
       "(PyObject 16*((2*s - 1)**2 - 4)/((2*s - 1)**2 + 4)**2, PyObject -oo, PyObject Abs(2*arg(1 - 2*s) + 2*pi) < pi)"
      ]
     },
     "execution_count": 53,
     "metadata": {},
     "output_type": "execute_result"
    }
   ],
   "source": [
    "sympy.laplace_transform(H1,t,s)"
   ]
  },
  {
   "cell_type": "code",
   "execution_count": 81,
   "id": "b2ddcd31",
   "metadata": {},
   "outputs": [
    {
     "data": {
      "text/latex": [
       "$\\displaystyle \\frac{6 s + 1.2}{\\left(s^{2} + 0.4 s + 0.04\\right) \\left(s^{2} + 0.4 s + 9.04\\right)}$"
      ],
      "text/plain": [
       "PyObject (6*s + 1.2)/((s**2 + 0.4*s + 0.04)*(s**2 + 0.4*s + 9.04))"
      ]
     },
     "execution_count": 81,
     "metadata": {},
     "output_type": "execute_result"
    }
   ],
   "source": [
    "h3=/(*(6,+(s,/(1,5))),*(+(^(s,2),*(0.4,s),0.04),+(^(s,2),*(0.4,s),9.04)))"
   ]
  },
  {
   "cell_type": "code",
   "execution_count": 78,
   "id": "5756ba46",
   "metadata": {},
   "outputs": [
    {
     "data": {
      "text/latex": [
       "$\\displaystyle \\frac{6 s + 1.2}{s^{2} + 0.4 s + 9.04}$"
      ],
      "text/plain": [
       "PyObject (6*s + 1.2)/(s**2 + 0.4*s + 9.04)"
      ]
     },
     "execution_count": 78,
     "metadata": {},
     "output_type": "execute_result"
    }
   ],
   "source": [
    "h4=/(*(6,+(s,/(1,5))),+(^(s,2),*(0.4,s),9.04))"
   ]
  },
  {
   "cell_type": "code",
   "execution_count": 89,
   "id": "526d897f",
   "metadata": {},
   "outputs": [
    {
     "data": {
      "text/latex": [
       "$\\displaystyle e^{- \\frac{t}{5}} \\cos{\\left(3 t \\right)}$"
      ],
      "text/plain": [
       "PyObject exp(-t/5)*cos(3*t)"
      ]
     },
     "execution_count": 89,
     "metadata": {},
     "output_type": "execute_result"
    }
   ],
   "source": [
    "z2=*(sympy.exp(/(-t,5)),sympy.cos(*(3,t)))"
   ]
  },
  {
   "cell_type": "code",
   "execution_count": 91,
   "id": "ca534208",
   "metadata": {},
   "outputs": [
    {
     "data": {
      "text/plain": [
       "(PyObject 5*(5*s + 1)/((5*s + 1)**2 + 225), PyObject -oo, PyObject 2*Abs(arg(5*s + 1)) < pi)"
      ]
     },
     "execution_count": 91,
     "metadata": {},
     "output_type": "execute_result"
    }
   ],
   "source": [
    "sympy.laplace_transform(z2,t,s)"
   ]
  },
  {
   "cell_type": "code",
   "execution_count": 4,
   "id": "55df71db",
   "metadata": {},
   "outputs": [
    {
     "data": {
      "text/latex": [
       "$\\displaystyle \\frac{1}{\\left(s - 1\\right) \\left(s^{2} + 1\\right)}$"
      ],
      "text/plain": [
       "PyObject 1/((s - 1)*(s**2 + 1))"
      ]
     },
     "execution_count": 4,
     "metadata": {},
     "output_type": "execute_result"
    }
   ],
   "source": [
    "f1=/(1,*(-(s,1),+(^(s,2),1)))"
   ]
  },
  {
   "cell_type": "code",
   "execution_count": 5,
   "id": "82c55ce5",
   "metadata": {},
   "outputs": [
    {
     "data": {
      "text/latex": [
       "$\\displaystyle \\frac{\\left(e^{t} - \\sqrt{2} \\sin{\\left(t + \\frac{\\pi}{4} \\right)}\\right) \\theta\\left(t\\right)}{2}$"
      ],
      "text/plain": [
       "PyObject (exp(t) - sqrt(2)*sin(t + pi/4))*Heaviside(t)/2"
      ]
     },
     "execution_count": 5,
     "metadata": {},
     "output_type": "execute_result"
    }
   ],
   "source": [
    "sympy.inverse_laplace_transform(f1,s,t)"
   ]
  },
  {
   "cell_type": "code",
   "execution_count": 10,
   "id": "9b507cff",
   "metadata": {},
   "outputs": [
    {
     "data": {
      "text/latex": [
       "$\\displaystyle \\frac{- 2 k^{3} + 6 k s^{2}}{\\left(k^{2} + s^{2}\\right)^{3}}$"
      ],
      "text/plain": [
       "PyObject (-2*k**3 + 6*k*s**2)/(k**2 + s**2)**3"
      ]
     },
     "execution_count": 10,
     "metadata": {},
     "output_type": "execute_result"
    }
   ],
   "source": [
    "f2=/(-(*(*(6,k),^(s,2)),*(2,^(k,3))),^(+(^(s,2),^(k,2)),3))"
   ]
  },
  {
   "cell_type": "code",
   "execution_count": 11,
   "id": "44978639",
   "metadata": {},
   "outputs": [
    {
     "data": {
      "text/latex": [
       "$\\displaystyle \\frac{i t^{2} \\left(e^{2 t \\operatorname{im}{\\left(k\\right)}} - e^{2 i t \\operatorname{re}{\\left(k\\right)}}\\right) e^{- t \\left(i \\operatorname{re}{\\left(k\\right)} + \\operatorname{im}{\\left(k\\right)}\\right)} \\theta\\left(t\\right)}{2}$"
      ],
      "text/plain": [
       "PyObject I*t**2*(exp(2*t*im(k)) - exp(2*I*t*re(k)))*exp(-t*(I*re(k) + im(k)))*Heaviside(t)/2"
      ]
     },
     "execution_count": 11,
     "metadata": {},
     "output_type": "execute_result"
    }
   ],
   "source": [
    "sympy.inverse_laplace_transform(f2,s,t)"
   ]
  },
  {
   "cell_type": "code",
   "execution_count": 16,
   "id": "e0fa7fa0",
   "metadata": {},
   "outputs": [
    {
     "data": {
      "text/latex": [
       "$\\displaystyle \\frac{\\sin{\\left(t \\right)}}{t}$"
      ],
      "text/plain": [
       "PyObject sin(t)/t"
      ]
     },
     "execution_count": 16,
     "metadata": {},
     "output_type": "execute_result"
    }
   ],
   "source": [
    "g2=/(sympy.sin(t),t)"
   ]
  },
  {
   "cell_type": "code",
   "execution_count": 17,
   "id": "17f05a2f",
   "metadata": {},
   "outputs": [
    {
     "data": {
      "text/plain": [
       "(PyObject -atan(s) + pi/2, PyObject 0, PyObject True)"
      ]
     },
     "execution_count": 17,
     "metadata": {},
     "output_type": "execute_result"
    }
   ],
   "source": [
    "sympy.laplace_transform(g2,t,s)"
   ]
  },
  {
   "cell_type": "code",
   "execution_count": 4,
   "id": "6e6c991e",
   "metadata": {},
   "outputs": [
    {
     "data": {
      "text/latex": [
       "$\\displaystyle \\frac{2 t \\cos{\\left(k t \\right)}}{k} - \\frac{t}{k} - \\frac{\\sin{\\left(k t \\right)}}{k}$"
      ],
      "text/plain": [
       "PyObject 2*t*cos(k*t)/k - t/k - sin(k*t)/k"
      ]
     },
     "execution_count": 4,
     "metadata": {},
     "output_type": "execute_result"
    }
   ],
   "source": [
    "g3=+(*(/(*(2,t),k),sympy.cos(*(k,t))),*(/(-1,k),sympy.sin(*(k,t))),/(-t,k))"
   ]
  },
  {
   "cell_type": "code",
   "execution_count": 5,
   "id": "bc08370b",
   "metadata": {},
   "outputs": [
    {
     "data": {
      "text/plain": [
       "(PyObject (-k*s**2*(k**2 + s**2) + 2*s**2*(-k**2 + s**2) - (k**2 + s**2)**2)/(k*s**2*(k**2 + s**2)**2), PyObject 0, PyObject Eq(2*Abs(arg(k)), 0))"
      ]
     },
     "execution_count": 5,
     "metadata": {},
     "output_type": "execute_result"
    }
   ],
   "source": [
    "sympy.laplace_transform(g3,t,s)"
   ]
  },
  {
   "cell_type": "code",
   "execution_count": 6,
   "id": "3b8bfb85",
   "metadata": {},
   "outputs": [
    {
     "data": {
      "text/latex": [
       "$\\displaystyle \\frac{1}{s^{2} \\left(k^{2} + s^{2}\\right)}$"
      ],
      "text/plain": [
       "PyObject 1/(s**2*(k**2 + s**2))"
      ]
     },
     "execution_count": 6,
     "metadata": {},
     "output_type": "execute_result"
    }
   ],
   "source": [
    "l1=/(1,*(^(s,2),+(^(s,2),^(k,2))))"
   ]
  },
  {
   "cell_type": "code",
   "execution_count": 7,
   "id": "1f1a3901",
   "metadata": {},
   "outputs": [
    {
     "data": {
      "text/latex": [
       "$\\displaystyle \\frac{\\left(2 k t e^{t \\operatorname{im}{\\left(k\\right)}} - e^{2 t \\operatorname{im}{\\left(k\\right)}} \\sin{\\left(t \\operatorname{re}{\\left(k\\right)} \\right)} - i e^{2 t \\operatorname{im}{\\left(k\\right)}} \\cos{\\left(t \\operatorname{re}{\\left(k\\right)} \\right)} - \\sin{\\left(t \\operatorname{re}{\\left(k\\right)} \\right)} + i \\cos{\\left(t \\operatorname{re}{\\left(k\\right)} \\right)}\\right) e^{- t \\operatorname{im}{\\left(k\\right)}} \\theta\\left(t\\right)}{2 k^{3}}$"
      ],
      "text/plain": [
       "PyObject (2*k*t*exp(t*im(k)) - exp(2*t*im(k))*sin(t*re(k)) - I*exp(2*t*im(k))*cos(t*re(k)) - sin(t*re(k)) + I*cos(t*re(k)))*exp(-t*im(k))*Heaviside(t)/(2*k**3)"
      ]
     },
     "execution_count": 7,
     "metadata": {},
     "output_type": "execute_result"
    }
   ],
   "source": [
    "sympy.inverse_laplace_transform(l1,s,t)"
   ]
  },
  {
   "cell_type": "code",
   "execution_count": 9,
   "id": "52f6b641",
   "metadata": {},
   "outputs": [
    {
     "data": {
      "text/latex": [
       "$\\displaystyle \\frac{2 \\sinh{\\left(2 t \\right)}}{t}$"
      ],
      "text/plain": [
       "PyObject 2*sinh(2*t)/t"
      ]
     },
     "execution_count": 9,
     "metadata": {},
     "output_type": "execute_result"
    }
   ],
   "source": [
    "g4=*(/(2,t),sympy.sinh(*(2,t)))"
   ]
  },
  {
   "cell_type": "code",
   "execution_count": 10,
   "id": "1a1a43a7",
   "metadata": {},
   "outputs": [
    {
     "data": {
      "text/latex": [
       "$\\displaystyle 2 \\mathcal{L}_{t}\\left[\\frac{\\sinh{\\left(2 t \\right)}}{t}\\right]\\left(s\\right)$"
      ],
      "text/plain": [
       "PyObject 2*LaplaceTransform(sinh(2*t)/t, t, s)"
      ]
     },
     "execution_count": 10,
     "metadata": {},
     "output_type": "execute_result"
    }
   ],
   "source": [
    "sympy.laplace_transform(g4,t,s)"
   ]
  },
  {
   "cell_type": "code",
   "execution_count": 12,
   "id": "c36e44a0",
   "metadata": {},
   "outputs": [
    {
     "data": {
      "text/latex": [
       "$\\displaystyle \\frac{e^{2 t} - e^{- 2 t}}{t}$"
      ],
      "text/plain": [
       "PyObject (exp(2*t) - exp(-2*t))/t"
      ]
     },
     "execution_count": 12,
     "metadata": {},
     "output_type": "execute_result"
    }
   ],
   "source": [
    "g5=/(-(sympy.exp(*(2,t)),sympy.exp(*(-2,t))),t)"
   ]
  },
  {
   "cell_type": "code",
   "execution_count": 13,
   "id": "307ab022",
   "metadata": {},
   "outputs": [
    {
     "data": {
      "text/latex": [
       "$\\displaystyle - \\mathcal{L}_{t}\\left[\\frac{e^{- 2 t}}{t}\\right]\\left(s\\right) + \\mathcal{L}_{t}\\left[\\frac{e^{2 t}}{t}\\right]\\left(s\\right)$"
      ],
      "text/plain": [
       "PyObject -LaplaceTransform(exp(-2*t)/t, t, s) + LaplaceTransform(exp(2*t)/t, t, s)"
      ]
     },
     "execution_count": 13,
     "metadata": {},
     "output_type": "execute_result"
    }
   ],
   "source": [
    "sympy.laplace_transform(g5,t,s)"
   ]
  },
  {
   "cell_type": "code",
   "execution_count": 14,
   "id": "a53bbe1d",
   "metadata": {},
   "outputs": [
    {
     "data": {
      "text/latex": [
       "$\\displaystyle \\log{\\left(\\frac{s - 2}{s + 2} \\right)}$"
      ],
      "text/plain": [
       "PyObject log((s - 2)/(s + 2))"
      ]
     },
     "execution_count": 14,
     "metadata": {},
     "output_type": "execute_result"
    }
   ],
   "source": [
    "l2=sympy.log(/(-(s,2),+(s,2)))"
   ]
  },
  {
   "cell_type": "code",
   "execution_count": 15,
   "id": "f8f1f4fc",
   "metadata": {},
   "outputs": [
    {
     "data": {
      "text/latex": [
       "$\\displaystyle \\mathcal{L}^{-1}_{s}\\left[\\log{\\left(\\frac{s}{s + 2} - \\frac{2}{s + 2} \\right)}\\right]\\left(t\\right)$"
      ],
      "text/plain": [
       "PyObject InverseLaplaceTransform(log(s/(s + 2) - 2/(s + 2)), s, t, _None)"
      ]
     },
     "execution_count": 15,
     "metadata": {},
     "output_type": "execute_result"
    }
   ],
   "source": [
    "sympy.inverse_laplace_transform(l2,s,t)"
   ]
  },
  {
   "cell_type": "code",
   "execution_count": 16,
   "id": "f242aded",
   "metadata": {},
   "outputs": [
    {
     "data": {
      "text/plain": [
       "0"
      ]
     },
     "execution_count": 16,
     "metadata": {},
     "output_type": "execute_result"
    }
   ],
   "source": [
    "g6=0"
   ]
  },
  {
   "cell_type": "code",
   "execution_count": 17,
   "id": "43a318af",
   "metadata": {},
   "outputs": [
    {
     "data": {
      "text/plain": [
       "(PyObject 0, PyObject -oo, PyObject True)"
      ]
     },
     "execution_count": 17,
     "metadata": {},
     "output_type": "execute_result"
    }
   ],
   "source": [
    "sympy.laplace_transform(g6,t,s)"
   ]
  },
  {
   "cell_type": "code",
   "execution_count": 2,
   "id": "6734af08",
   "metadata": {},
   "outputs": [
    {
     "data": {
      "text/latex": [
       "$\\displaystyle - \\frac{1}{\\left(s - 2\\right)^{3}}$"
      ],
      "text/plain": [
       "PyObject -1/(s - 2)**3"
      ]
     },
     "execution_count": 2,
     "metadata": {},
     "output_type": "execute_result"
    }
   ],
   "source": [
    "l3=/(-1,^(-(s,2),3))"
   ]
  },
  {
   "cell_type": "code",
   "execution_count": 3,
   "id": "05f9ecfa",
   "metadata": {},
   "outputs": [
    {
     "data": {
      "text/latex": [
       "$\\displaystyle - \\frac{t^{2} e^{2 t} \\theta\\left(t\\right)}{2}$"
      ],
      "text/plain": [
       "PyObject -t**2*exp(2*t)*Heaviside(t)/2"
      ]
     },
     "execution_count": 3,
     "metadata": {},
     "output_type": "execute_result"
    }
   ],
   "source": [
    "sympy.inverse_laplace_transform(l3,s,t)"
   ]
  },
  {
   "cell_type": "code",
   "execution_count": null,
   "id": "9b0acfb7",
   "metadata": {},
   "outputs": [],
   "source": []
  },
  {
   "cell_type": "code",
   "execution_count": null,
   "id": "06cc1c60",
   "metadata": {},
   "outputs": [],
   "source": []
  },
  {
   "cell_type": "code",
   "execution_count": null,
   "id": "8cc95e2d",
   "metadata": {},
   "outputs": [],
   "source": []
  },
  {
   "cell_type": "code",
   "execution_count": null,
   "id": "3294702b",
   "metadata": {},
   "outputs": [],
   "source": []
  },
  {
   "cell_type": "code",
   "execution_count": null,
   "id": "46fac4d9",
   "metadata": {},
   "outputs": [],
   "source": []
  },
  {
   "cell_type": "code",
   "execution_count": null,
   "id": "602ebca8",
   "metadata": {},
   "outputs": [],
   "source": []
  },
  {
   "cell_type": "code",
   "execution_count": null,
   "id": "ed9cb7d0",
   "metadata": {},
   "outputs": [],
   "source": []
  },
  {
   "cell_type": "code",
   "execution_count": null,
   "id": "65995b98",
   "metadata": {},
   "outputs": [],
   "source": []
  },
  {
   "cell_type": "code",
   "execution_count": null,
   "id": "3ea254b4",
   "metadata": {},
   "outputs": [],
   "source": []
  },
  {
   "cell_type": "code",
   "execution_count": null,
   "id": "790a951f",
   "metadata": {},
   "outputs": [],
   "source": []
  }
 ],
 "metadata": {
  "kernelspec": {
   "display_name": "Julia 1.7.2",
   "language": "julia",
   "name": "julia-1.7"
  },
  "language_info": {
   "file_extension": ".jl",
   "mimetype": "application/julia",
   "name": "julia",
   "version": "1.7.2"
  }
 },
 "nbformat": 4,
 "nbformat_minor": 5
}
