{
 "cells": [
  {
   "cell_type": "markdown",
   "metadata": {},
   "source": [
    "<h1>\n",
    "    Lab Sheet 9 Solutions\n",
    "</h1>"
   ]
  },
  {
   "cell_type": "markdown",
   "metadata": {},
   "source": [
    "<h3>\n",
    "    Lab Sheet 9 Problem 1\n",
    "</h3>"
   ]
  },
  {
   "cell_type": "markdown",
   "metadata": {},
   "source": [
    "Solve\n",
    "\\begin{equation}\n",
    "  \\label{eq:unbscjdz}\n",
    "  \\vec{x}'=\\left[\n",
    "    \\begin{array}{ccc}\n",
    "      2&0&0 \\\\\n",
    "       -7&9&7 \\\\\n",
    "       0&0&2\n",
    "    \\end{array}\n",
    "    \\right]\\vec{x}\\notag\n",
    "\\end{equation}"
   ]
  },
  {
   "cell_type": "code",
   "execution_count": 1,
   "metadata": {
    "collapsed": false,
    "jupyter": {
     "outputs_hidden": false
    }
   },
   "outputs": [],
   "source": [
    "A1=matrix(QQ,[[2,0,0],[-7,9,7],[0,0,2]]) # sage code"
   ]
  },
  {
   "cell_type": "code",
   "execution_count": 2,
   "metadata": {
    "collapsed": false,
    "jupyter": {
     "outputs_hidden": false
    }
   },
   "outputs": [
    {
     "data": {
      "text/plain": [
       "[(9,\n",
       "  [\n",
       "  (0, 1, 0)\n",
       "  ],\n",
       "  1),\n",
       " (2,\n",
       "  [\n",
       "  (1, 0, 1),\n",
       "  (0, 1, -1)\n",
       "  ],\n",
       "  2)]"
      ]
     },
     "execution_count": 2,
     "metadata": {},
     "output_type": "execute_result"
    }
   ],
   "source": [
    "A1.eigenvectors_right() # sage code"
   ]
  },
  {
   "cell_type": "markdown",
   "metadata": {},
   "source": [
    "The solution is\n",
    "$$\n",
    "x(t)=c_1e^{9t}\\left[\\begin{array}{c}0\\\\1\\\\0\\end{array}\\right]+c_2e^{2t}\\left[\\begin{array}{c}1\\\\0\\\\1\\end{array}\\right]+c_3e^{2t}\\left[\\begin{array}{c}0\\\\1\\\\-1\\end{array}\\right]\n",
    "$$"
   ]
  },
  {
   "cell_type": "markdown",
   "metadata": {},
   "source": [
    "<h3>\n",
    "    Lab Sheet 9 Problem 2\n",
    "</h3>"
   ]
  },
  {
   "cell_type": "markdown",
   "metadata": {},
   "source": [
    "Find the amounts $x_1(t),x_2(t),x_3(t)$ of salt at time $t$ in the three brine tanks, if $V_1=50,V_2=25,V_3=50$ and $r=10$ gallons per minute. After solving this generally, solve for the case where 50 pounds of salt are in $T_1$ and none in $T_2$ and $T_3$."
   ]
  },
  {
   "cell_type": "markdown",
   "metadata": {},
   "source": [
    "<img src=\"./diagrams/mnhefuqs.png\" width=\"70%\" height=\"70%\">"
   ]
  },
  {
   "cell_type": "code",
   "execution_count": 1,
   "metadata": {},
   "outputs": [],
   "source": [
    "using LinearAlgebra"
   ]
  },
  {
   "cell_type": "code",
   "execution_count": 5,
   "metadata": {},
   "outputs": [
    {
     "data": {
      "text/plain": [
       "3×3 Matrix{Float64}:\n",
       " -0.2   0.0   0.2\n",
       "  0.2  -0.4   0.0\n",
       "  0.0   0.4  -0.2"
      ]
     },
     "execution_count": 5,
     "metadata": {},
     "output_type": "execute_result"
    }
   ],
   "source": [
    "A1=[-1/5 0 1/5\n",
    "1/5 -2/5 0\n",
    "0 2/5 -1/5]"
   ]
  },
  {
   "cell_type": "code",
   "execution_count": 6,
   "metadata": {},
   "outputs": [
    {
     "data": {
      "text/plain": [
       "3-element Vector{ComplexF64}:\n",
       "  -0.40000000000000024 - 0.20000000000000026im\n",
       "  -0.40000000000000024 + 0.20000000000000026im\n",
       " -6.48680821847244e-17 + 0.0im"
      ]
     },
     "execution_count": 6,
     "metadata": {},
     "output_type": "execute_result"
    }
   ],
   "source": [
    "eigvals(A1)"
   ]
  },
  {
   "cell_type": "code",
   "execution_count": 4,
   "metadata": {},
   "outputs": [
    {
     "data": {
      "text/plain": [
       "0.0"
      ]
     },
     "execution_count": 4,
     "metadata": {},
     "output_type": "execute_result"
    }
   ],
   "source": [
    "det(A1)"
   ]
  },
  {
   "cell_type": "code",
   "execution_count": 7,
   "metadata": {},
   "outputs": [
    {
     "data": {
      "text/plain": [
       "3×3 Matrix{ComplexF64}:\n",
       "  0.353553-0.353553im   0.353553+0.353553im  -0.666667+0.0im\n",
       "  0.353553+0.353553im   0.353553-0.353553im  -0.333333+0.0im\n",
       " -0.707107-0.0im       -0.707107+0.0im       -0.666667+0.0im"
      ]
     },
     "execution_count": 7,
     "metadata": {},
     "output_type": "execute_result"
    }
   ],
   "source": [
    "eigvecs(A1)"
   ]
  },
  {
   "cell_type": "markdown",
   "metadata": {},
   "source": [
    "Therefore, the solution is\n",
    "$$\n",
    "x(t)=c_1\\left(\\begin{array}{c}2\\\\1\\\\2\\end{array}\\right)+c_2{}e^{-0.4t}\\left[\\left(\\begin{array}{c}1\\\\1\\\\-2\\end{array}\\right)\\cos\\left(0.2t\\right)-\\left(\\begin{array}{c}1\\\\-1\\\\0\\end{array}\\right)\\sin\\left(0.2t\\right)\\right]+c_3{}e^{-0.4t}\\left[\\left(\\begin{array}{c}1\\\\1\\\\-2\\end{array}\\right)\\sin\\left(0.2t\\right)+\\left(\\begin{array}{c}1\\\\-1\\\\0\\end{array}\\right)\\cos\\left(0.2t\\right)\\right]\n",
    "$$"
   ]
  },
  {
   "cell_type": "code",
   "execution_count": 8,
   "metadata": {},
   "outputs": [
    {
     "data": {
      "text/plain": [
       "3×3 Matrix{Int64}:\n",
       " 2   1   1\n",
       " 1   1  -1\n",
       " 2  -2   0"
      ]
     },
     "execution_count": 8,
     "metadata": {},
     "output_type": "execute_result"
    }
   ],
   "source": [
    "M1=[2 1 1\n",
    "1 1 -1\n",
    "2 -2 0]"
   ]
  },
  {
   "cell_type": "code",
   "execution_count": 9,
   "metadata": {},
   "outputs": [
    {
     "data": {
      "text/plain": [
       "3-element Vector{Int64}:\n",
       " 50\n",
       "  0\n",
       "  0"
      ]
     },
     "execution_count": 9,
     "metadata": {},
     "output_type": "execute_result"
    }
   ],
   "source": [
    "v1=[50\n",
    "0\n",
    "0]"
   ]
  },
  {
   "cell_type": "code",
   "execution_count": 11,
   "metadata": {},
   "outputs": [
    {
     "data": {
      "text/plain": [
       "3-element Vector{Float64}:\n",
       "  9.999999999999998\n",
       " 10.0\n",
       " 20.0"
      ]
     },
     "execution_count": 11,
     "metadata": {},
     "output_type": "execute_result"
    }
   ],
   "source": [
    "inv(M1)*v1 # see graph in desmos"
   ]
  },
  {
   "cell_type": "markdown",
   "metadata": {},
   "source": [
    "For the particular solution, fill in $c_1=10,c_2=10,c_3=20$."
   ]
  },
  {
   "cell_type": "markdown",
   "metadata": {},
   "source": [
    "<h3>\n",
    "    Lab Sheet 9 Problem 3\n",
    "</h3>"
   ]
  },
  {
   "cell_type": "markdown",
   "metadata": {},
   "source": [
    "Find a general solution for $\\vec{x}'=A\\vec{x}$ with\n",
    "\\begin{equation}\n",
    "  \\label{eq:diaokxpq}\n",
    "  A=\\left[\n",
    "    \\begin{array}{cccc}\n",
    "      2    & 0  & -8  & -3 \\\\\n",
    "       -18 & -1 & 0   & 0  \\\\\n",
    "       -9  & -3 & -25 & -9 \\\\\n",
    "       33  & 10 & 90  & 32\n",
    "    \\end{array}\n",
    "    \\right]\\notag\n",
    "\\end{equation}"
   ]
  },
  {
   "cell_type": "code",
   "execution_count": 3,
   "metadata": {
    "collapsed": false,
    "jupyter": {
     "outputs_hidden": false
    }
   },
   "outputs": [
    {
     "name": "stdout",
     "output_type": "stream",
     "text": [
      "[  2   0  -8  -3]\n",
      "[-18  -1   0   0]\n",
      "[ -9  -3 -25  -9]\n",
      "[ 33  10  90  32]\n"
     ]
    }
   ],
   "source": [
    "A1=matrix(QQ,[[2,0,-8,-3],[-18,-1,0,0],[-9,-3,-25,-9],[33,10,90,32]]);print(A1) # sage code"
   ]
  },
  {
   "cell_type": "code",
   "execution_count": 4,
   "metadata": {
    "collapsed": false,
    "jupyter": {
     "outputs_hidden": false
    }
   },
   "outputs": [
    {
     "data": {
      "text/plain": [
       "[(2 - 3*I, [(1, -3 - 3*I, 0, 0.?e-19 + 1.000000000000000?*I)], 2),\n",
       " (2 + 3*I, [(1, -3 + 3*I, 0, 0.?e-19 - 1.000000000000000?*I)], 2)]"
      ]
     },
     "execution_count": 4,
     "metadata": {},
     "output_type": "execute_result"
    }
   ],
   "source": [
    "A1.eigenvectors_right() # sage code"
   ]
  },
  {
   "cell_type": "code",
   "execution_count": 5,
   "metadata": {
    "collapsed": false,
    "jupyter": {
     "outputs_hidden": false
    }
   },
   "outputs": [],
   "source": [
    "I4=matrix(QQ,[[1,0,0,0],[0,1,0,0],[0,0,1,0],[0,0,0,1]]) # sage code"
   ]
  },
  {
   "cell_type": "code",
   "execution_count": 43,
   "metadata": {
    "collapsed": false,
    "jupyter": {
     "outputs_hidden": false
    }
   },
   "outputs": [
    {
     "name": "stdout",
     "output_type": "stream",
     "text": [
      "[     -3*I         0        -8        -3]\n",
      "[      -18  -3*I - 3         0         0]\n",
      "[       -9        -3 -3*I - 27        -9]\n",
      "[       33        10        90 -3*I + 30]\n"
     ]
    }
   ],
   "source": [
    "ail=A1-(2+3*I)*I4;print(ail) # sage code"
   ]
  },
  {
   "cell_type": "code",
   "execution_count": 44,
   "metadata": {
    "collapsed": false,
    "jupyter": {
     "outputs_hidden": false
    }
   },
   "outputs": [],
   "source": [
    "ail2=ail^2 # sage code"
   ]
  },
  {
   "cell_type": "code",
   "execution_count": 45,
   "metadata": {
    "collapsed": false,
    "jupyter": {
     "outputs_hidden": false
    },
    "scrolled": true
   },
   "outputs": [
    {
     "data": {
      "text/plain": [
       "[       1        0     -3*I       -I]\n",
       "[       0        1 10*I + 9  3*I + 3]\n",
       "[       0        0        0        0]\n",
       "[       0        0        0        0]"
      ]
     },
     "execution_count": 45,
     "metadata": {},
     "output_type": "execute_result"
    }
   ],
   "source": [
    "ail2.echelon_form() # sage code"
   ]
  },
  {
   "cell_type": "code",
   "execution_count": 62,
   "metadata": {
    "collapsed": false,
    "jupyter": {
     "outputs_hidden": false
    }
   },
   "outputs": [
    {
     "data": {
      "text/plain": [
       "[ I + 1]\n",
       "[    -6]\n",
       "[     0]\n",
       "[-I + 1]"
      ]
     },
     "execution_count": 62,
     "metadata": {},
     "output_type": "execute_result"
    }
   ],
   "source": [
    "ail*v2 # sage code"
   ]
  },
  {
   "cell_type": "markdown",
   "metadata": {},
   "source": [
    "The two eigenvalues are $2\\pm{}3i$. The associated eigenvectors give us our first two linearly independent solutions. For the third and fourth linearly independent solution we need a generalized eigenvector of order 2. Find a vector $v_2$ for which $(A-\\lambda{}I)^2v_2=0$. Let the four elements of vector $v_2$ be $x,y,z,w$ with $x,w$ real and $y=a+bi,z=c+di$. Then the echelon form of $(A-\\lambda{}I)^2$ lets us choose $c=1,w=-3$, which determines $b=-10,d=1,a=10,x=-3$. The eigenvector $v_1$ forming a chain of generalized eigenvectors with $v_2$ is $(A-\\lambda{}I)v_2=[1+i,-6,0,1-i]^{\\intercal}$. The general solution for the system is therefore $e^{2t}$ times\n",
    "$$\n",
    "c_1\\left(\\left[\\begin{array}{c}1\\\\-3\\\\0\\\\0\\end{array}\\right]\\cos{}3t-\\left[\\begin{array}{c}0\\\\-3\\\\0\\\\1\\end{array}\\right]\\sin{}3t\\right)+c_2\\left(\\left[\\begin{array}{c}0\\\\-3\\\\0\\\\1\\end{array}\\right]\\cos{}3t+\\left[\\begin{array}{c}0\\\\-3\\\\0\\\\1\\end{array}\\right]\\sin{}3t\\right)+\n",
    "$$\n",
    "$$\n",
    "c_3\\left(\\left(\\left[\\begin{array}{c}1\\\\-6\\\\0\\\\1\\end{array}\\right]t+\\left[\\begin{array}{c}-3\\\\10\\\\1\\\\-3\\end{array}\\right]\\right)\\cos{}3t-\\left(\\left[\\begin{array}{c}1\\\\0\\\\0\\\\-1\\end{array}\\right]t+\\left[\\begin{array}{c}0\\\\-10\\\\1\\\\0\\end{array}\\right]\\right)\\sin{}3t\\right)+\n",
    "c_4\\left(\\left(\\left[\\begin{array}{c}1\\\\0\\\\0\\\\-1\\end{array}\\right]t+\\left[\\begin{array}{c}0\\\\-10\\\\1\\\\0\\end{array}\\right]\\right)\\cos{}3t+\\left(\\left[\\begin{array}{c}1\\\\-6\\\\0\\\\1\\end{array}\\right]t+\\left[\\begin{array}{c}-3\\\\10\\\\1\\\\-3\\end{array}\\right]\\right)\\sin{}3t\\right)\n",
    "$$"
   ]
  },
  {
   "cell_type": "markdown",
   "metadata": {},
   "source": [
    "<h3>\n",
    "    Lab Sheet 9 Problem 4\n",
    "</h3>"
   ]
  },
  {
   "cell_type": "markdown",
   "metadata": {},
   "source": [
    "Consider the\n",
    "  predator-prey system\n",
    "  \\begin{align*}\n",
    "    x'&=200x-4xy\\\\\n",
    "    y'&=-150y+2xy\n",
    "  \\end{align*}\n",
    "  The term $xy$ expresses &quot;chance encounters&quot; of the two species.\n",
    "  This is a nonlinear system that we could only hope to solve\n",
    "  numerically. However, linearization gives us a useful first\n",
    "  approximation. Define\n",
    "  \\begin{equation}\n",
    "    \\label{eq:uqfxphif}\n",
    "    F(x,y)=(200x-4xy,-150y+2xy)\\notag\n",
    "  \\end{equation}\n",
    "  The Jacobian matrix for this function is\n",
    "\\begin{equation}\n",
    "  \\label{eq:ooveitho}\n",
    "  J=\\left[\\begin{array}{ccc}\n",
    "     \\frac{\\partial F_1}{\\partial x_1} & {\\ldots} & \\frac{\\partial F_1}{\\partial x_n} \\\\\n",
    "     {\\vdots} & {\\ddots} & {\\vdots} \\\\\n",
    "     \\frac{\\partial F_n}{\\partial x_1} & {\\ldots} & \\frac{\\partial F_n}{\\partial x_n}\n",
    "\\end{array}\\right]=\\left[\n",
    "\\begin{array}{cc}\n",
    "  200-4y&-4x\\\\2y&-150+2x\n",
    "\\end{array}\n",
    "\\right]\\notag\n",
    "\\end{equation}\n",
    "The linearization in general is\n",
    "\\begin{equation}\n",
    "  \\label{eq:ohvoidei}\n",
    " F(x)\\approx{}F(a)+J(a)(x-a)\\notag\n",
    "\\end{equation}\n",
    "or, in our particular case,\n",
    "\\begin{equation}\n",
    "  \\label{eq:bhrgtibl}\n",
    "  F(x,y)=\\left[\n",
    "    \\begin{array}{c}\n",
    "      75\\\\50\n",
    "    \\end{array}\n",
    "\\right]+\\left[\n",
    "  \\begin{array}{cc}\n",
    "    0&-300\\\\100&0\n",
    "  \\end{array}\n",
    "\\right]\\left[\n",
    "  \\begin{array}{c}\n",
    "    x-75\\\\y-50\n",
    "  \\end{array}\n",
    "\\right]\\notag\n",
    "\\end{equation}\n",
    "Therefore, the linearized system is\n",
    "\\begin{align*}\n",
    "  u'&=-300v+15075\\\\\n",
    "  v'&=100u-7450\n",
    "\\end{align*}\n",
    "Solve it and have a look at the two functions using a graphing\n",
    "program. Can you see how the two species are influencing each other's\n",
    "population. The nonlinear system above is called a Lotka-Volterra\n",
    "equation."
   ]
  },
  {
   "cell_type": "markdown",
   "metadata": {},
   "source": [
    "<img src=\"./diagrams/wjybuhia-lab.png\" width=\"100%\" height=\"100%\">"
   ]
  }
 ],
 "metadata": {
  "kernelspec": {
   "display_name": "Julia 1.7.2",
   "language": "julia",
   "name": "julia-1.7"
  },
  "language_info": {
   "file_extension": ".jl",
   "mimetype": "application/julia",
   "name": "julia",
   "version": "1.7.2"
  }
 },
 "nbformat": 4,
 "nbformat_minor": 4
}
