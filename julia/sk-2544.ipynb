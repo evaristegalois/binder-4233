{
 "cells": [
  {
   "cell_type": "code",
   "execution_count": 1,
   "metadata": {
    "collapsed": false
   },
   "outputs": [
   ],
   "source": [
    "using Polynomials"
   ]
  },
  {
   "cell_type": "code",
   "execution_count": 123,
   "metadata": {
    "collapsed": false
   },
   "outputs": [
    {
     "data": {
      "text/html": [
       "&#45;1 &#43; 2&#8729;x &#43; x<sup>2</sup>"
      ],
      "text/latex": [
       "$-1 + 2\\cdot x + x^{2}$"
      ],
      "text/plain": [
       "Polynomial(-1 + 2*x + x^2)"
      ]
     },
     "execution_count": 123,
     "metadata": {
     },
     "output_type": "execute_result"
    }
   ],
   "source": [
    "p=Polynomial([-1,2,1])"
   ]
  },
  {
   "cell_type": "code",
   "execution_count": 124,
   "metadata": {
    "collapsed": false
   },
   "outputs": [
    {
     "data": {
      "text/plain": [
       "2-element Vector{Float64}:\n",
       " -2.414213562373095\n",
       "  0.4142135623730951"
      ]
     },
     "execution_count": 124,
     "metadata": {
     },
     "output_type": "execute_result"
    }
   ],
   "source": [
    "roots(p)"
   ]
  },
  {
   "cell_type": "code",
   "execution_count": 4,
   "metadata": {
    "collapsed": false
   },
   "outputs": [
   ],
   "source": [
    "using LinearAlgebra"
   ]
  },
  {
   "cell_type": "code",
   "execution_count": 11,
   "metadata": {
    "collapsed": false
   },
   "outputs": [
    {
     "data": {
      "text/plain": [
       "2×2 Matrix{Int64}:\n",
       " -7  -6\n",
       "  6  -7"
      ]
     },
     "execution_count": 11,
     "metadata": {
     },
     "output_type": "execute_result"
    }
   ],
   "source": [
    "A=[-7 -6\n",
    "6 -7]"
   ]
  },
  {
   "cell_type": "code",
   "execution_count": 6,
   "metadata": {
    "collapsed": false
   },
   "outputs": [
    {
     "data": {
      "text/plain": [
       "2-element Vector{Int64}:\n",
       " 1\n",
       " 0"
      ]
     },
     "execution_count": 6,
     "metadata": {
     },
     "output_type": "execute_result"
    }
   ],
   "source": [
    "b=[1;0]"
   ]
  },
  {
   "cell_type": "code",
   "execution_count": 12,
   "metadata": {
    "collapsed": false
   },
   "outputs": [
    {
     "data": {
      "text/plain": [
       "2-element Vector{Float64}:\n",
       " -7.0\n",
       " -6.0"
      ]
     },
     "execution_count": 12,
     "metadata": {
     },
     "output_type": "execute_result"
    }
   ],
   "source": [
    "inv(A)*b*det(A)"
   ]
  },
  {
   "cell_type": "code",
   "execution_count": 13,
   "metadata": {
    "collapsed": false
   },
   "outputs": [
    {
     "data": {
      "text/plain": [
       "85.0"
      ]
     },
     "execution_count": 13,
     "metadata": {
     },
     "output_type": "execute_result"
    }
   ],
   "source": [
    "det(A)"
   ]
  },
  {
   "cell_type": "code",
   "execution_count": 14,
   "metadata": {
    "collapsed": false
   },
   "outputs": [
    {
     "data": {
      "text/plain": [
       "255"
      ]
     },
     "execution_count": 14,
     "metadata": {
     },
     "output_type": "execute_result"
    }
   ],
   "source": [
    "85*3"
   ]
  },
  {
   "cell_type": "code",
   "execution_count": 25,
   "metadata": {
    "collapsed": false
   },
   "outputs": [
    {
     "data": {
      "text/plain": [
       "(x,)"
      ]
     },
     "execution_count": 25,
     "metadata": {
     },
     "output_type": "execute_result"
    }
   ],
   "source": [
    "@vars x"
   ]
  },
  {
   "cell_type": "code",
   "execution_count": 26,
   "metadata": {
    "collapsed": false
   },
   "outputs": [
    {
     "data": {
      "text/plain": [
       "q (generic function with 1 method)"
      ]
     },
     "execution_count": 26,
     "metadata": {
     },
     "output_type": "execute_result"
    }
   ],
   "source": [
    "q(x)=(x-im)*(x+im)*(x-2*im)*(x+2*im)"
   ]
  },
  {
   "cell_type": "code",
   "execution_count": 32,
   "metadata": {
    "collapsed": false
   },
   "outputs": [
    {
     "data": {
      "text/latex": [
       "$\\begin{equation*}x^{4} - 2 x^{2} + 1\\end{equation*}$\n"
      ],
      "text/plain": [
       " 4      2    \n",
       "x  - 2⋅x  + 1"
      ]
     },
     "execution_count": 32,
     "metadata": {
     },
     "output_type": "execute_result"
    }
   ],
   "source": [
    "expand(q(x))"
   ]
  },
  {
   "cell_type": "code",
   "execution_count": 31,
   "metadata": {
    "collapsed": false
   },
   "outputs": [
    {
     "data": {
      "text/plain": [
       "q (generic function with 1 method)"
      ]
     },
     "execution_count": 31,
     "metadata": {
     },
     "output_type": "execute_result"
    }
   ],
   "source": [
    "q(x)=(x-1)^2*(x+1)^2"
   ]
  },
  {
   "cell_type": "code",
   "execution_count": 33,
   "metadata": {
    "collapsed": false
   },
   "outputs": [
   ],
   "source": [
    "using PyCall"
   ]
  },
  {
   "cell_type": "code",
   "execution_count": 34,
   "metadata": {
    "collapsed": false
   },
   "outputs": [
    {
     "data": {
      "text/plain": [
       "PyObject <module 'sympy' from '/usr/local/lib/python3.8/dist-packages/sympy/__init__.py'>"
      ]
     },
     "execution_count": 34,
     "metadata": {
     },
     "output_type": "execute_result"
    }
   ],
   "source": [
    "sympy = pyimport(\"sympy\")"
   ]
  },
  {
   "cell_type": "code",
   "execution_count": 35,
   "metadata": {
    "collapsed": false
   },
   "outputs": [
    {
     "data": {
      "text/latex": [
       "$\\begin{equation*}x\\end{equation*}$\n"
      ],
      "text/plain": [
       "x"
      ]
     },
     "execution_count": 35,
     "metadata": {
     },
     "output_type": "execute_result"
    }
   ],
   "source": [
    "x = sympy.Symbol(\"x\")"
   ]
  },
  {
   "cell_type": "code",
   "execution_count": 46,
   "metadata": {
    "collapsed": false
   },
   "outputs": [
    {
     "data": {
      "text/plain": [
       "f (generic function with 1 method)"
      ]
     },
     "execution_count": 46,
     "metadata": {
     },
     "output_type": "execute_result"
    }
   ],
   "source": [
    "f(x)=(-1/2)*sympy.integrate(sin(2*x)*(sin(x))^2)"
   ]
  },
  {
   "cell_type": "code",
   "execution_count": 47,
   "metadata": {
    "collapsed": false,
    "scrolled": true
   },
   "outputs": [
    {
     "data": {
      "text/plain": [
       "g (generic function with 1 method)"
      ]
     },
     "execution_count": 47,
     "metadata": {
     },
     "output_type": "execute_result"
    }
   ],
   "source": [
    "g(x)=(1/2)*sympy.integrate(cos(2*x)*(sin(x))^2)"
   ]
  },
  {
   "cell_type": "code",
   "execution_count": 61,
   "metadata": {
    "collapsed": false,
    "scrolled": true
   },
   "outputs": [
    {
     "data": {
      "text/latex": [
       "$\\begin{equation*}\\frac{x \\sin^{2}{\\left(x \\right)} \\sin{\\left(2 x \\right)}}{4} + \\frac{x \\sin{\\left(x \\right)} \\cos{\\left(x \\right)} \\cos{\\left(2 x \\right)}}{2} - \\frac{x \\sin{\\left(2 x \\right)} \\cos^{2}{\\left(x \\right)}}{4} - \\frac{3 \\sin{\\left(x \\right)} \\sin{\\left(2 x \\right)} \\cos{\\left(x \\right)}}{4} - \\frac{\\cos^{2}{\\left(x \\right)} \\cos{\\left(2 x \\right)}}{2}\\end{equation*}$\n"
      ],
      "text/plain": [
       "     2                                                        2               \n",
       "x⋅sin (x)⋅sin(2⋅x)   x⋅sin(x)⋅cos(x)⋅cos(2⋅x)   x⋅sin(2⋅x)⋅cos (x)   3⋅sin(x)⋅\n",
       "────────────────── + ──────────────────────── - ────────────────── - ─────────\n",
       "        4                       2                       4                     \n",
       "\n",
       "                     2            \n",
       "sin(2⋅x)⋅cos(x)   cos (x)⋅cos(2⋅x)\n",
       "─────────────── - ────────────────\n",
       "  4                      2        "
      ]
     },
     "execution_count": 61,
     "metadata": {
     },
     "output_type": "execute_result"
    }
   ],
   "source": [
    "sympy.integrate(sin(2*x)*(sin(x))^2)"
   ]
  },
  {
   "cell_type": "code",
   "execution_count": 62,
   "metadata": {
    "collapsed": false
   },
   "outputs": [
    {
     "data": {
      "text/latex": [
       "$\\begin{equation*}\\frac{x \\sin^{2}{\\left(x \\right)} \\cos{\\left(2 x \\right)}}{4} - \\frac{x \\sin{\\left(x \\right)} \\sin{\\left(2 x \\right)} \\cos{\\left(x \\right)}}{2} - \\frac{x \\cos^{2}{\\left(x \\right)} \\cos{\\left(2 x \\right)}}{4} - \\frac{3 \\sin{\\left(x \\right)} \\cos{\\left(x \\right)} \\cos{\\left(2 x \\right)}}{4} + \\frac{\\sin{\\left(2 x \\right)} \\cos^{2}{\\left(x \\right)}}{2}\\end{equation*}$\n"
      ],
      "text/plain": [
       "     2                                               2                        \n",
       "x⋅sin (x)⋅cos(2⋅x)   x⋅sin(x)⋅sin(2⋅x)⋅cos(x)   x⋅cos (x)⋅cos(2⋅x)   3⋅sin(x)⋅\n",
       "────────────────── - ──────────────────────── - ────────────────── - ─────────\n",
       "        4                       2                       4                     \n",
       "\n",
       "                              2   \n",
       "cos(x)⋅cos(2⋅x)   sin(2⋅x)⋅cos (x)\n",
       "─────────────── + ────────────────\n",
       "  4                      2        "
      ]
     },
     "execution_count": 62,
     "metadata": {
     },
     "output_type": "execute_result"
    }
   ],
   "source": [
    "sympy.integrate(cos(2*x)*(sin(x))^2)"
   ]
  },
  {
   "cell_type": "code",
   "execution_count": 92,
   "metadata": {
    "collapsed": false
   },
   "outputs": [
    {
     "data": {
      "text/plain": [
       "G (generic function with 1 method)"
      ]
     },
     "execution_count": 92,
     "metadata": {
     },
     "output_type": "execute_result"
    }
   ],
   "source": [
    "G(x)=u1(x)*cos(2*x)+u2(x)*sin(2*x)"
   ]
  },
  {
   "cell_type": "code",
   "execution_count": 49,
   "metadata": {
    "collapsed": false
   },
   "outputs": [
   ],
   "source": [
    "using Calculus"
   ]
  },
  {
   "cell_type": "code",
   "execution_count": 105,
   "metadata": {
    "collapsed": false
   },
   "outputs": [
    {
     "data": {
      "text/plain": [
       "Gp (generic function with 1 method)"
      ]
     },
     "execution_count": 105,
     "metadata": {
     },
     "output_type": "execute_result"
    }
   ],
   "source": [
    "Gp(x)=differentiate(G(x),:x)"
   ]
  },
  {
   "cell_type": "code",
   "execution_count": 94,
   "metadata": {
    "collapsed": false
   },
   "outputs": [
    {
     "data": {
      "text/plain": [
       "Gpp (generic function with 1 method)"
      ]
     },
     "execution_count": 94,
     "metadata": {
     },
     "output_type": "execute_result"
    }
   ],
   "source": [
    "Gpp(x)=differentiate(Gp(x),:x)"
   ]
  },
  {
   "cell_type": "code",
   "execution_count": 95,
   "metadata": {
    "collapsed": false
   },
   "outputs": [
    {
     "data": {
      "text/plain": [
       "F (generic function with 1 method)"
      ]
     },
     "execution_count": 95,
     "metadata": {
     },
     "output_type": "execute_result"
    }
   ],
   "source": [
    "F(x)=Gpp(x)+4*G(x)-(sin(x))^2"
   ]
  },
  {
   "cell_type": "code",
   "execution_count": 64,
   "metadata": {
    "collapsed": false
   },
   "outputs": [
    {
     "data": {
      "text/plain": [
       "h (generic function with 1 method)"
      ]
     },
     "execution_count": 64,
     "metadata": {
     },
     "output_type": "execute_result"
    }
   ],
   "source": [
    "h(x)=(-3/8)*x-(1/32)*sin(4*x)"
   ]
  },
  {
   "cell_type": "code",
   "execution_count": 70,
   "metadata": {
    "collapsed": false
   },
   "outputs": [
    {
     "data": {
      "text/plain": [
       ":((0 * x + (-3 / 8) * 1) - (0 * sin(4x) + (1 / 32) * ((0 * x + 4 * 1) * cos(4x))))"
      ]
     },
     "execution_count": 70,
     "metadata": {
     },
     "output_type": "execute_result"
    }
   ],
   "source": [
    "differentiate(\"(-3/8)*x-(1/32)*sin(4*x)\",:x)"
   ]
  },
  {
   "cell_type": "code",
   "execution_count": 71,
   "metadata": {
    "collapsed": false
   },
   "outputs": [
    {
     "data": {
      "text/plain": [
       "h1 (generic function with 1 method)"
      ]
     },
     "execution_count": 71,
     "metadata": {
     },
     "output_type": "execute_result"
    }
   ],
   "source": [
    "h1(x)=((0 * x + (-3 / 8) * 1) - (0 * sin(4x) + (1 / 32) * ((0 * x + 4 * 1) * cos(4x))))-((cos(x))^2*(sin(x))^2)"
   ]
  },
  {
   "cell_type": "code",
   "execution_count": 75,
   "metadata": {
    "collapsed": false,
    "scrolled": true
   },
   "outputs": [
    {
     "data": {
      "text/plain": [
       "u2 (generic function with 1 method)"
      ]
     },
     "execution_count": 75,
     "metadata": {
     },
     "output_type": "execute_result"
    }
   ],
   "source": [
    "u2(x)=(1/2)*((-3/8)*x-((1/32)*sin(4*x))+((1/4)*(sin(x))^3*(cos(x)))-(3/8)*(x-((1/2)*sin(2*x))))"
   ]
  },
  {
   "cell_type": "code",
   "execution_count": 81,
   "metadata": {
    "collapsed": false
   },
   "outputs": [
    {
     "data": {
      "text/plain": [
       "u2p (generic function with 1 method)"
      ]
     },
     "execution_count": 81,
     "metadata": {
     },
     "output_type": "execute_result"
    }
   ],
   "source": [
    "u2p(x)=differentiate(\"(1/2)*((-3/8)*x-((1/32)*sin(4*x))+((1/4)*(sin(x))^3*(cos(x)))-(3/8)*(x-((1/2)*sin(2*x))))\",:x)"
   ]
  },
  {
   "cell_type": "code",
   "execution_count": 82,
   "metadata": {
    "collapsed": false
   },
   "outputs": [
    {
     "data": {
      "text/plain": [
       "U2 (generic function with 1 method)"
      ]
     },
     "execution_count": 82,
     "metadata": {
     },
     "output_type": "execute_result"
    }
   ],
   "source": [
    "U2(x)=u2p(x)-0.5*cos(2*x)*(sin(x))^2"
   ]
  },
  {
   "cell_type": "code",
   "execution_count": 53,
   "metadata": {
    "collapsed": false
   },
   "outputs": [
   ],
   "source": [
    "using Plots"
   ]
  },
  {
   "cell_type": "code",
   "execution_count": 100,
   "metadata": {
    "collapsed": false
   },
   "outputs": [
    {
     "data": {
      "text/plain": [
       "H (generic function with 1 method)"
      ]
     },
     "execution_count": 100,
     "metadata": {
     },
     "output_type": "execute_result"
    }
   ],
   "source": [
    "H(x)=5*x^2+3*x-19"
   ]
  },
  {
   "cell_type": "code",
   "execution_count": 74,
   "metadata": {
    "collapsed": false
   },
   "outputs": [
    {
     "data": {
      "text/plain": [
       "u1 (generic function with 1 method)"
      ]
     },
     "execution_count": 74,
     "metadata": {
     },
     "output_type": "execute_result"
    }
   ],
   "source": [
    "u1(x)=(-1/4)*(sin(x))^4"
   ]
  },
  {
   "cell_type": "code",
   "execution_count": 91,
   "metadata": {
    "collapsed": false,
    "scrolled": true
   },
   "outputs": [
    {
     "data": {
      "text/plain": [
       "u2 (generic function with 1 method)"
      ]
     },
     "execution_count": 91,
     "metadata": {
     },
     "output_type": "execute_result"
    }
   ],
   "source": [
    "u2(x)=(-1/8)*x-(1/64)*sin(4*x)+(1/8)*(sin(x))^3*cos(x)+(3/32)*sin(2*x)"
   ]
  },
  {
   "cell_type": "code",
   "execution_count": 106,
   "metadata": {
    "collapsed": false
   },
   "outputs": [
    {
     "data": {
      "text/plain": [
       "y (generic function with 1 method)"
      ]
     },
     "execution_count": 106,
     "metadata": {
     },
     "output_type": "execute_result"
    }
   ],
   "source": [
    "y(x)=u1(x)*cos(2*x)+u2(x)*sin(2*x)"
   ]
  },
  {
   "cell_type": "code",
   "execution_count": 118,
   "metadata": {
    "collapsed": false
   },
   "outputs": [
   ],
   "source": [
    "using Roots"
   ]
  },
  {
   "cell_type": "code",
   "execution_count": 120,
   "metadata": {
    "collapsed": false
   },
   "outputs": [
    {
     "data": {
      "text/plain": [
       "-0.0032654814716784387"
      ]
     },
     "execution_count": 120,
     "metadata": {
     },
     "output_type": "execute_result"
    }
   ],
   "source": [
    "k=(1/180)*log(10/18)"
   ]
  },
  {
   "cell_type": "code",
   "execution_count": 121,
   "metadata": {
    "collapsed": false
   },
   "outputs": [
    {
     "data": {
      "text/plain": [
       "-47.20611069583739"
      ]
     },
     "execution_count": 121,
     "metadata": {
     },
     "output_type": "execute_result"
    }
   ],
   "source": [
    "(1/k)*log(21/18)"
   ]
  },
  {
   "cell_type": "code",
   "execution_count": 122,
   "metadata": {
    "collapsed": false
   },
   "outputs": [
    {
     "data": {
      "text/plain": [
       "202.03125"
      ]
     },
     "execution_count": 122,
     "metadata": {
     },
     "output_type": "execute_result"
    }
   ],
   "source": [
    "240-((90^4)/(120^3))"
   ]
  },
  {
   "cell_type": "code",
   "execution_count": 126,
   "metadata": {
    "collapsed": false
   },
   "outputs": [
    {
     "data": {
      "text/plain": [
       "0.002"
      ]
     },
     "execution_count": 126,
     "metadata": {
     },
     "output_type": "execute_result"
    }
   ],
   "source": [
    "0.05*4/100"
   ]
  },
  {
   "cell_type": "code",
   "execution_count": 127,
   "metadata": {
    "collapsed": false,
    "scrolled": true
   },
   "outputs": [
    {
     "data": {
      "text/plain": [
       "70000"
      ]
     },
     "execution_count": 127,
     "metadata": {
     },
     "output_type": "execute_result"
    }
   ],
   "source": [
    "k=7*10^4"
   ]
  },
  {
   "cell_type": "code",
   "execution_count": 128,
   "metadata": {
    "collapsed": false
   },
   "outputs": [
    {
     "data": {
      "text/plain": [
       "800"
      ]
     },
     "execution_count": 128,
     "metadata": {
     },
     "output_type": "execute_result"
    }
   ],
   "source": [
    "m=800"
   ]
  },
  {
   "cell_type": "code",
   "execution_count": 148,
   "metadata": {
    "collapsed": false
   },
   "outputs": [
    {
     "data": {
      "text/plain": [
       "y (generic function with 1 method)"
      ]
     },
     "execution_count": 148,
     "metadata": {
     },
     "output_type": "execute_result"
    }
   ],
   "source": [
    "y(x)=(exp(2*x-10)-1)/(-exp(2*x-10)-1)"
   ]
  },
  {
   "cell_type": "code",
   "execution_count": 149,
   "metadata": {
    "collapsed": false
   },
   "outputs": [
    {
     "data": {
      "text/plain": [
       "-0.0"
      ]
     },
     "execution_count": 149,
     "metadata": {
     },
     "output_type": "execute_result"
    }
   ],
   "source": [
    "y(5)"
   ]
  },
  {
   "cell_type": "code",
   "execution_count": 150,
   "metadata": {
    "collapsed": false
   },
   "outputs": [
    {
     "data": {
      "text/plain": [
       ":((((0 * x + 2 * 1) * exp(2x - 10)) * (-(exp(2x - 10)) - 1) - (exp(2x - 10) - 1) * -((0 * x + 2 * 1) * exp(2x - 10))) / (-(exp(2x - 10)) - 1) ^ 2)"
      ]
     },
     "execution_count": 150,
     "metadata": {
     },
     "output_type": "execute_result"
    }
   ],
   "source": [
    "differentiate(\"(exp(2*x-10)-1)/(-exp(2*x-10)-1)\",:x)"
   ]
  },
  {
   "cell_type": "code",
   "execution_count": 152,
   "metadata": {
    "collapsed": false
   },
   "outputs": [
    {
     "data": {
      "text/plain": [
       "Y (generic function with 1 method)"
      ]
     },
     "execution_count": 152,
     "metadata": {
     },
     "output_type": "execute_result"
    }
   ],
   "source": [
    "Y(x)=(y(x)-1)*(y(x)+1)"
   ]
  },
  {
   "cell_type": "code",
   "execution_count": 151,
   "metadata": {
    "collapsed": false
   },
   "outputs": [
    {
     "data": {
      "text/plain": [
       "yp (generic function with 1 method)"
      ]
     },
     "execution_count": 151,
     "metadata": {
     },
     "output_type": "execute_result"
    }
   ],
   "source": [
    "yp(x)=((((0 * x + 2 * 1) * exp(2x - 10)) * (-(exp(2x - 10)) - 1) - (exp(2x - 10) - 1) * -((0 * x + 2 * 1) * exp(2x - 10))) / (-(exp(2x - 10)) - 1) ^ 2)"
   ]
  },
  {
   "cell_type": "code",
   "execution_count": 153,
   "metadata": {
    "collapsed": false
   },
   "outputs": [
    {
     "data": {
      "text/plain": [
       "D (generic function with 1 method)"
      ]
     },
     "execution_count": 153,
     "metadata": {
     },
     "output_type": "execute_result"
    }
   ],
   "source": [
    "D(x)=Y(x)-yp(x)"
   ]
  },
  {
   "cell_type": "code",
   "execution_count": 137,
   "metadata": {
    "collapsed": false
   },
   "outputs": [
   ],
   "source": [
    "using Plots"
   ]
  },
  {
   "cell_type": "code",
   "execution_count": 138,
   "metadata": {
    "collapsed": false
   },
   "outputs": [
    {
     "data": {
      "text/plain": [
       "-5.0:0.10101010101010101:5.0"
      ]
     },
     "execution_count": 138,
     "metadata": {
     },
     "output_type": "execute_result"
    }
   ],
   "source": [
    "rng=range(-5,stop=5,length=100)"
   ]
  },
  {
   "cell_type": "code",
   "execution_count": 154,
   "metadata": {
    "collapsed": false,
    "scrolled": true
   },
   "outputs": [
    {
     "data": {
      "image/svg+xml": "<?xml version=\"1.0\" encoding=\"utf-8\"?>\n<svg xmlns=\"http://www.w3.org/2000/svg\" xmlns:xlink=\"http://www.w3.org/1999/xlink\" width=\"600\" height=\"400\" viewBox=\"0 0 2400 1600\">\n<defs>\n  <clipPath id=\"clip480\">\n    <rect x=\"0\" y=\"0\" width=\"2400\" height=\"1600\"/>\n  </clipPath>\n</defs>\n<path clip-path=\"url(#clip480)\" d=\"\nM0 1600 L2400 1600 L2400 0 L0 0  Z\n  \" fill=\"#ffffff\" fill-rule=\"evenodd\" fill-opacity=\"1\"/>\n<defs>\n  <clipPath id=\"clip481\">\n    <rect x=\"480\" y=\"0\" width=\"1681\" height=\"1600\"/>\n  </clipPath>\n</defs>\n<path clip-path=\"url(#clip480)\" d=\"\nM368.761 1486.45 L2352.76 1486.45 L2352.76 47.2441 L368.761 47.2441  Z\n  \" fill=\"#ffffff\" fill-rule=\"evenodd\" fill-opacity=\"1\"/>\n<defs>\n  <clipPath id=\"clip482\">\n    <rect x=\"368\" y=\"47\" width=\"1985\" height=\"1440\"/>\n  </clipPath>\n</defs>\n<polyline clip-path=\"url(#clip482)\" style=\"stroke:#000000; stroke-linecap:butt; stroke-linejoin:round; stroke-width:2; stroke-opacity:0.1; fill:none\" points=\"\n  612.082,1486.45 612.082,47.2441 \n  \"/>\n<polyline clip-path=\"url(#clip482)\" style=\"stroke:#000000; stroke-linecap:butt; stroke-linejoin:round; stroke-width:2; stroke-opacity:0.1; fill:none\" points=\"\n  986.42,1486.45 986.42,47.2441 \n  \"/>\n<polyline clip-path=\"url(#clip482)\" style=\"stroke:#000000; stroke-linecap:butt; stroke-linejoin:round; stroke-width:2; stroke-opacity:0.1; fill:none\" points=\"\n  1360.76,1486.45 1360.76,47.2441 \n  \"/>\n<polyline clip-path=\"url(#clip482)\" style=\"stroke:#000000; stroke-linecap:butt; stroke-linejoin:round; stroke-width:2; stroke-opacity:0.1; fill:none\" points=\"\n  1735.1,1486.45 1735.1,47.2441 \n  \"/>\n<polyline clip-path=\"url(#clip482)\" style=\"stroke:#000000; stroke-linecap:butt; stroke-linejoin:round; stroke-width:2; stroke-opacity:0.1; fill:none\" points=\"\n  2109.44,1486.45 2109.44,47.2441 \n  \"/>\n<polyline clip-path=\"url(#clip480)\" style=\"stroke:#000000; stroke-linecap:butt; stroke-linejoin:round; stroke-width:4; stroke-opacity:1; fill:none\" points=\"\n  368.761,1486.45 2352.76,1486.45 \n  \"/>\n<polyline clip-path=\"url(#clip480)\" style=\"stroke:#000000; stroke-linecap:butt; stroke-linejoin:round; stroke-width:4; stroke-opacity:1; fill:none\" points=\"\n  612.082,1486.45 612.082,1467.55 \n  \"/>\n<polyline clip-path=\"url(#clip480)\" style=\"stroke:#000000; stroke-linecap:butt; stroke-linejoin:round; stroke-width:4; stroke-opacity:1; fill:none\" points=\"\n  986.42,1486.45 986.42,1467.55 \n  \"/>\n<polyline clip-path=\"url(#clip480)\" style=\"stroke:#000000; stroke-linecap:butt; stroke-linejoin:round; stroke-width:4; stroke-opacity:1; fill:none\" points=\"\n  1360.76,1486.45 1360.76,1467.55 \n  \"/>\n<polyline clip-path=\"url(#clip480)\" style=\"stroke:#000000; stroke-linecap:butt; stroke-linejoin:round; stroke-width:4; stroke-opacity:1; fill:none\" points=\"\n  1735.1,1486.45 1735.1,1467.55 \n  \"/>\n<polyline clip-path=\"url(#clip480)\" style=\"stroke:#000000; stroke-linecap:butt; stroke-linejoin:round; stroke-width:4; stroke-opacity:1; fill:none\" points=\"\n  2109.44,1486.45 2109.44,1467.55 \n  \"/>\n<path clip-path=\"url(#clip480)\" d=\"M580.982 1530.29 L610.658 1530.29 L610.658 1534.23 L580.982 1534.23 L580.982 1530.29 Z\" fill=\"#000000\" fill-rule=\"evenodd\" fill-opacity=\"1\" /><path clip-path=\"url(#clip480)\" d=\"M633.598 1516.63 L621.792 1535.08 L633.598 1535.08 L633.598 1516.63 M632.371 1512.56 L638.25 1512.56 L638.25 1535.08 L643.181 1535.08 L643.181 1538.97 L638.25 1538.97 L638.25 1547.12 L633.598 1547.12 L633.598 1538.97 L617.996 1538.97 L617.996 1534.46 L632.371 1512.56 Z\" fill=\"#000000\" fill-rule=\"evenodd\" fill-opacity=\"1\" /><path clip-path=\"url(#clip480)\" d=\"M956.362 1530.29 L986.038 1530.29 L986.038 1534.23 L956.362 1534.23 L956.362 1530.29 Z\" fill=\"#000000\" fill-rule=\"evenodd\" fill-opacity=\"1\" /><path clip-path=\"url(#clip480)\" d=\"M1000.16 1543.18 L1016.48 1543.18 L1016.48 1547.12 L994.533 1547.12 L994.533 1543.18 Q997.196 1540.43 1001.78 1535.8 Q1006.39 1531.15 1007.57 1529.81 Q1009.81 1527.28 1010.69 1525.55 Q1011.59 1523.79 1011.59 1522.1 Q1011.59 1519.34 1009.65 1517.61 Q1007.73 1515.87 1004.63 1515.87 Q1002.43 1515.87 999.973 1516.63 Q997.543 1517.4 994.765 1518.95 L994.765 1514.23 Q997.589 1513.09 1000.04 1512.51 Q1002.5 1511.93 1004.53 1511.93 Q1009.9 1511.93 1013.1 1514.62 Q1016.29 1517.31 1016.29 1521.8 Q1016.29 1523.93 1015.48 1525.85 Q1014.7 1527.74 1012.59 1530.34 Q1012.01 1531.01 1008.91 1534.23 Q1005.81 1537.42 1000.16 1543.18 Z\" fill=\"#000000\" fill-rule=\"evenodd\" fill-opacity=\"1\" /><path clip-path=\"url(#clip480)\" d=\"M1360.76 1515.64 Q1357.15 1515.64 1355.32 1519.2 Q1353.51 1522.75 1353.51 1529.87 Q1353.51 1536.98 1355.32 1540.55 Q1357.15 1544.09 1360.76 1544.09 Q1364.39 1544.09 1366.2 1540.55 Q1368.03 1536.98 1368.03 1529.87 Q1368.03 1522.75 1366.2 1519.2 Q1364.39 1515.64 1360.76 1515.64 M1360.76 1511.93 Q1366.57 1511.93 1369.62 1516.54 Q1372.7 1521.12 1372.7 1529.87 Q1372.7 1538.6 1369.62 1543.21 Q1366.57 1547.79 1360.76 1547.79 Q1354.95 1547.79 1351.87 1543.21 Q1348.81 1538.6 1348.81 1529.87 Q1348.81 1521.12 1351.87 1516.54 Q1354.95 1511.93 1360.76 1511.93 Z\" fill=\"#000000\" fill-rule=\"evenodd\" fill-opacity=\"1\" /><path clip-path=\"url(#clip480)\" d=\"M1729.75 1543.18 L1746.07 1543.18 L1746.07 1547.12 L1724.13 1547.12 L1724.13 1543.18 Q1726.79 1540.43 1731.37 1535.8 Q1735.98 1531.15 1737.16 1529.81 Q1739.4 1527.28 1740.28 1525.55 Q1741.19 1523.79 1741.19 1522.1 Q1741.19 1519.34 1739.24 1517.61 Q1737.32 1515.87 1734.22 1515.87 Q1732.02 1515.87 1729.56 1516.63 Q1727.13 1517.4 1724.36 1518.95 L1724.36 1514.23 Q1727.18 1513.09 1729.63 1512.51 Q1732.09 1511.93 1734.13 1511.93 Q1739.5 1511.93 1742.69 1514.62 Q1745.88 1517.31 1745.88 1521.8 Q1745.88 1523.93 1745.07 1525.85 Q1744.29 1527.74 1742.18 1530.34 Q1741.6 1531.01 1738.5 1534.23 Q1735.4 1537.42 1729.75 1543.18 Z\" fill=\"#000000\" fill-rule=\"evenodd\" fill-opacity=\"1\" /><path clip-path=\"url(#clip480)\" d=\"M2112.45 1516.63 L2100.64 1535.08 L2112.45 1535.08 L2112.45 1516.63 M2111.22 1512.56 L2117.1 1512.56 L2117.1 1535.08 L2122.03 1535.08 L2122.03 1538.97 L2117.1 1538.97 L2117.1 1547.12 L2112.45 1547.12 L2112.45 1538.97 L2096.84 1538.97 L2096.84 1534.46 L2111.22 1512.56 Z\" fill=\"#000000\" fill-rule=\"evenodd\" fill-opacity=\"1\" /><polyline clip-path=\"url(#clip482)\" style=\"stroke:#000000; stroke-linecap:butt; stroke-linejoin:round; stroke-width:2; stroke-opacity:0.1; fill:none\" points=\"\n  368.761,1860.91 2352.76,1860.91 \n  \"/>\n<polyline clip-path=\"url(#clip482)\" style=\"stroke:#000000; stroke-linecap:butt; stroke-linejoin:round; stroke-width:2; stroke-opacity:0.1; fill:none\" points=\"\n  368.761,1308.24 2352.76,1308.24 \n  \"/>\n<polyline clip-path=\"url(#clip482)\" style=\"stroke:#000000; stroke-linecap:butt; stroke-linejoin:round; stroke-width:2; stroke-opacity:0.1; fill:none\" points=\"\n  368.761,755.574 2352.76,755.574 \n  \"/>\n<polyline clip-path=\"url(#clip482)\" style=\"stroke:#000000; stroke-linecap:butt; stroke-linejoin:round; stroke-width:2; stroke-opacity:0.1; fill:none\" points=\"\n  368.761,202.903 2352.76,202.903 \n  \"/>\n<polyline clip-path=\"url(#clip482)\" style=\"stroke:#000000; stroke-linecap:butt; stroke-linejoin:round; stroke-width:2; stroke-opacity:0.1; fill:none\" points=\"\n  368.761,-349.767 2352.76,-349.767 \n  \"/>\n<polyline clip-path=\"url(#clip480)\" style=\"stroke:#000000; stroke-linecap:butt; stroke-linejoin:round; stroke-width:4; stroke-opacity:1; fill:none\" points=\"\n  368.761,1486.45 368.761,47.2441 \n  \"/>\n<polyline clip-path=\"url(#clip480)\" style=\"stroke:#000000; stroke-linecap:butt; stroke-linejoin:round; stroke-width:4; stroke-opacity:1; fill:none\" points=\"\n  368.761,1860.91 387.659,1860.91 \n  \"/>\n<polyline clip-path=\"url(#clip480)\" style=\"stroke:#000000; stroke-linecap:butt; stroke-linejoin:round; stroke-width:4; stroke-opacity:1; fill:none\" points=\"\n  368.761,1308.24 387.659,1308.24 \n  \"/>\n<polyline clip-path=\"url(#clip480)\" style=\"stroke:#000000; stroke-linecap:butt; stroke-linejoin:round; stroke-width:4; stroke-opacity:1; fill:none\" points=\"\n  368.761,755.574 387.659,755.574 \n  \"/>\n<polyline clip-path=\"url(#clip480)\" style=\"stroke:#000000; stroke-linecap:butt; stroke-linejoin:round; stroke-width:4; stroke-opacity:1; fill:none\" points=\"\n  368.761,202.903 387.659,202.903 \n  \"/>\n<polyline clip-path=\"url(#clip480)\" style=\"stroke:#000000; stroke-linecap:butt; stroke-linejoin:round; stroke-width:4; stroke-opacity:1; fill:none\" points=\"\n  368.761,-349.767 387.659,-349.767 \n  \"/>\n<path clip-path=\"url(#clip480)\" d=\"M50.9921 1867.81 L80.6679 1867.81 L80.6679 1871.75 L50.9921 1871.75 L50.9921 1867.81 Z\" fill=\"#000000\" fill-rule=\"evenodd\" fill-opacity=\"1\" /><path clip-path=\"url(#clip480)\" d=\"M101.339 1865.5 Q98.1909 1865.5 96.3391 1867.65 Q94.5104 1869.8 94.5104 1873.55 Q94.5104 1877.28 96.3391 1879.46 Q98.1909 1881.61 101.339 1881.61 Q104.487 1881.61 106.316 1879.46 Q108.168 1877.28 108.168 1873.55 Q108.168 1869.8 106.316 1867.65 Q104.487 1865.5 101.339 1865.5 M110.621 1850.85 L110.621 1855.11 Q108.862 1854.27 107.057 1853.83 Q105.274 1853.39 103.515 1853.39 Q98.8854 1853.39 96.4317 1856.52 Q94.0012 1859.64 93.6539 1865.96 Q95.0197 1863.95 97.0798 1862.88 Q99.14 1861.8 101.617 1861.8 Q106.825 1861.8 109.834 1864.97 Q112.867 1868.11 112.867 1873.55 Q112.867 1878.88 109.719 1882.1 Q106.571 1885.31 101.339 1885.31 Q95.3437 1885.31 92.1725 1880.73 Q89.0012 1876.12 89.0012 1867.4 Q89.0012 1859.2 92.89 1854.34 Q96.7789 1849.46 103.33 1849.46 Q105.089 1849.46 106.871 1849.8 Q108.677 1850.15 110.621 1850.85 Z\" fill=\"#000000\" fill-rule=\"evenodd\" fill-opacity=\"1\" /><path clip-path=\"url(#clip480)\" d=\"M120.922 1878.76 L125.807 1878.76 L125.807 1884.64 L120.922 1884.64 L120.922 1878.76 Z\" fill=\"#000000\" fill-rule=\"evenodd\" fill-opacity=\"1\" /><path clip-path=\"url(#clip480)\" d=\"M145.992 1853.16 Q142.381 1853.16 140.552 1856.73 Q138.746 1860.27 138.746 1867.4 Q138.746 1874.5 140.552 1878.07 Q142.381 1881.61 145.992 1881.61 Q149.626 1881.61 151.431 1878.07 Q153.26 1874.5 153.26 1867.4 Q153.26 1860.27 151.431 1856.73 Q149.626 1853.16 145.992 1853.16 M145.992 1849.46 Q151.802 1849.46 154.857 1854.06 Q157.936 1858.65 157.936 1867.4 Q157.936 1876.12 154.857 1880.73 Q151.802 1885.31 145.992 1885.31 Q140.181 1885.31 137.103 1880.73 Q134.047 1876.12 134.047 1867.4 Q134.047 1858.65 137.103 1854.06 Q140.181 1849.46 145.992 1849.46 Z\" fill=\"#000000\" fill-rule=\"evenodd\" fill-opacity=\"1\" /><path clip-path=\"url(#clip480)\" d=\"M194.325 1859.18 L183.746 1869.8 L194.325 1880.38 L191.57 1883.18 L180.945 1872.56 L170.32 1883.18 L167.589 1880.38 L178.144 1869.8 L167.589 1859.18 L170.32 1856.38 L180.945 1867 L191.57 1856.38 L194.325 1859.18 Z\" fill=\"#000000\" fill-rule=\"evenodd\" fill-opacity=\"1\" /><path clip-path=\"url(#clip480)\" d=\"M206.686 1880.71 L214.325 1880.71 L214.325 1854.34 L206.014 1856.01 L206.014 1851.75 L214.278 1850.08 L218.954 1850.08 L218.954 1880.71 L226.593 1880.71 L226.593 1884.64 L206.686 1884.64 L206.686 1880.71 Z\" fill=\"#000000\" fill-rule=\"evenodd\" fill-opacity=\"1\" /><path clip-path=\"url(#clip480)\" d=\"M246.037 1853.16 Q242.426 1853.16 240.598 1856.73 Q238.792 1860.27 238.792 1867.4 Q238.792 1874.5 240.598 1878.07 Q242.426 1881.61 246.037 1881.61 Q249.672 1881.61 251.477 1878.07 Q253.306 1874.5 253.306 1867.4 Q253.306 1860.27 251.477 1856.73 Q249.672 1853.16 246.037 1853.16 M246.037 1849.46 Q251.848 1849.46 254.903 1854.06 Q257.982 1858.65 257.982 1867.4 Q257.982 1876.12 254.903 1880.73 Q251.848 1885.31 246.037 1885.31 Q240.227 1885.31 237.149 1880.73 Q234.093 1876.12 234.093 1867.4 Q234.093 1858.65 237.149 1854.06 Q240.227 1849.46 246.037 1849.46 Z\" fill=\"#000000\" fill-rule=\"evenodd\" fill-opacity=\"1\" /><path clip-path=\"url(#clip480)\" d=\"M257.982 1843.56 L282.093 1843.56 L282.093 1846.76 L257.982 1846.76 L257.982 1843.56 Z\" fill=\"#000000\" fill-rule=\"evenodd\" fill-opacity=\"1\" /><path clip-path=\"url(#clip480)\" d=\"M290.952 1854.03 L297.158 1854.03 L297.158 1832.61 L290.406 1833.97 L290.406 1830.51 L297.121 1829.15 L300.92 1829.15 L300.92 1854.03 L307.126 1854.03 L307.126 1857.23 L290.952 1857.23 L290.952 1854.03 Z\" fill=\"#000000\" fill-rule=\"evenodd\" fill-opacity=\"1\" /><path clip-path=\"url(#clip480)\" d=\"M323.395 1841.68 Q320.837 1841.68 319.333 1843.43 Q317.847 1845.18 317.847 1848.22 Q317.847 1851.25 319.333 1853.02 Q320.837 1854.77 323.395 1854.77 Q325.953 1854.77 327.439 1853.02 Q328.943 1851.25 328.943 1848.22 Q328.943 1845.18 327.439 1843.43 Q325.953 1841.68 323.395 1841.68 M330.937 1829.77 L330.937 1833.23 Q329.508 1832.56 328.041 1832.2 Q326.593 1831.84 325.163 1831.84 Q321.402 1831.84 319.408 1834.38 Q317.433 1836.92 317.151 1842.05 Q318.261 1840.42 319.935 1839.55 Q321.608 1838.67 323.621 1838.67 Q327.853 1838.67 330.298 1841.25 Q332.761 1843.8 332.761 1848.22 Q332.761 1852.55 330.204 1855.16 Q327.646 1857.78 323.395 1857.78 Q318.524 1857.78 315.947 1854.05 Q313.371 1850.31 313.371 1843.22 Q313.371 1836.56 316.53 1832.61 Q319.69 1828.64 325.013 1828.64 Q326.442 1828.64 327.89 1828.93 Q329.357 1829.21 330.937 1829.77 Z\" fill=\"#000000\" fill-rule=\"evenodd\" fill-opacity=\"1\" /><path clip-path=\"url(#clip480)\" d=\"M50.9921 1315.14 L80.6679 1315.14 L80.6679 1319.08 L50.9921 1319.08 L50.9921 1315.14 Z\" fill=\"#000000\" fill-rule=\"evenodd\" fill-opacity=\"1\" /><path clip-path=\"url(#clip480)\" d=\"M104.927 1313.34 Q108.283 1314.06 110.158 1316.32 Q112.057 1318.59 112.057 1321.93 Q112.057 1327.04 108.538 1329.84 Q105.02 1332.64 98.5382 1332.64 Q96.3623 1332.64 94.0475 1332.2 Q91.7558 1331.79 89.3021 1330.93 L89.3021 1326.42 Q91.2465 1327.55 93.5613 1328.13 Q95.8761 1328.71 98.3993 1328.71 Q102.797 1328.71 105.089 1326.97 Q107.404 1325.24 107.404 1321.93 Q107.404 1318.87 105.251 1317.16 Q103.121 1315.42 99.3021 1315.42 L95.2743 1315.42 L95.2743 1311.58 L99.4872 1311.58 Q102.936 1311.58 104.765 1310.21 Q106.594 1308.82 106.594 1306.23 Q106.594 1303.57 104.696 1302.16 Q102.821 1300.72 99.3021 1300.72 Q97.3808 1300.72 95.1817 1301.14 Q92.9826 1301.56 90.3438 1302.43 L90.3438 1298.27 Q93.0058 1297.53 95.3206 1297.16 Q97.6585 1296.79 99.7187 1296.79 Q105.043 1296.79 108.145 1299.22 Q111.246 1301.62 111.246 1305.75 Q111.246 1308.62 109.603 1310.61 Q107.959 1312.57 104.927 1313.34 Z\" fill=\"#000000\" fill-rule=\"evenodd\" fill-opacity=\"1\" /><path clip-path=\"url(#clip480)\" d=\"M120.922 1326.09 L125.807 1326.09 L125.807 1331.97 L120.922 1331.97 L120.922 1326.09 Z\" fill=\"#000000\" fill-rule=\"evenodd\" fill-opacity=\"1\" /><path clip-path=\"url(#clip480)\" d=\"M145.992 1300.49 Q142.381 1300.49 140.552 1304.06 Q138.746 1307.6 138.746 1314.73 Q138.746 1321.83 140.552 1325.4 Q142.381 1328.94 145.992 1328.94 Q149.626 1328.94 151.431 1325.4 Q153.26 1321.83 153.26 1314.73 Q153.26 1307.6 151.431 1304.06 Q149.626 1300.49 145.992 1300.49 M145.992 1296.79 Q151.802 1296.79 154.857 1301.39 Q157.936 1305.98 157.936 1314.73 Q157.936 1323.45 154.857 1328.06 Q151.802 1332.64 145.992 1332.64 Q140.181 1332.64 137.103 1328.06 Q134.047 1323.45 134.047 1314.73 Q134.047 1305.98 137.103 1301.39 Q140.181 1296.79 145.992 1296.79 Z\" fill=\"#000000\" fill-rule=\"evenodd\" fill-opacity=\"1\" /><path clip-path=\"url(#clip480)\" d=\"M194.325 1306.51 L183.746 1317.13 L194.325 1327.71 L191.57 1330.51 L180.945 1319.89 L170.32 1330.51 L167.589 1327.71 L178.144 1317.13 L167.589 1306.51 L170.32 1303.71 L180.945 1314.33 L191.57 1303.71 L194.325 1306.51 Z\" fill=\"#000000\" fill-rule=\"evenodd\" fill-opacity=\"1\" /><path clip-path=\"url(#clip480)\" d=\"M206.686 1328.04 L214.325 1328.04 L214.325 1301.67 L206.014 1303.34 L206.014 1299.08 L214.278 1297.41 L218.954 1297.41 L218.954 1328.04 L226.593 1328.04 L226.593 1331.97 L206.686 1331.97 L206.686 1328.04 Z\" fill=\"#000000\" fill-rule=\"evenodd\" fill-opacity=\"1\" /><path clip-path=\"url(#clip480)\" d=\"M246.037 1300.49 Q242.426 1300.49 240.598 1304.06 Q238.792 1307.6 238.792 1314.73 Q238.792 1321.83 240.598 1325.4 Q242.426 1328.94 246.037 1328.94 Q249.672 1328.94 251.477 1325.4 Q253.306 1321.83 253.306 1314.73 Q253.306 1307.6 251.477 1304.06 Q249.672 1300.49 246.037 1300.49 M246.037 1296.79 Q251.848 1296.79 254.903 1301.39 Q257.982 1305.98 257.982 1314.73 Q257.982 1323.45 254.903 1328.06 Q251.848 1332.64 246.037 1332.64 Q240.227 1332.64 237.149 1328.06 Q234.093 1323.45 234.093 1314.73 Q234.093 1305.98 237.149 1301.39 Q240.227 1296.79 246.037 1296.79 Z\" fill=\"#000000\" fill-rule=\"evenodd\" fill-opacity=\"1\" /><path clip-path=\"url(#clip480)\" d=\"M257.982 1290.89 L282.093 1290.89 L282.093 1294.09 L257.982 1294.09 L257.982 1290.89 Z\" fill=\"#000000\" fill-rule=\"evenodd\" fill-opacity=\"1\" /><path clip-path=\"url(#clip480)\" d=\"M290.952 1301.36 L297.158 1301.36 L297.158 1279.94 L290.406 1281.3 L290.406 1277.84 L297.121 1276.48 L300.92 1276.48 L300.92 1301.36 L307.126 1301.36 L307.126 1304.56 L290.952 1304.56 L290.952 1301.36 Z\" fill=\"#000000\" fill-rule=\"evenodd\" fill-opacity=\"1\" /><path clip-path=\"url(#clip480)\" d=\"M323.395 1289.01 Q320.837 1289.01 319.333 1290.76 Q317.847 1292.51 317.847 1295.55 Q317.847 1298.58 319.333 1300.35 Q320.837 1302.1 323.395 1302.1 Q325.953 1302.1 327.439 1300.35 Q328.943 1298.58 328.943 1295.55 Q328.943 1292.51 327.439 1290.76 Q325.953 1289.01 323.395 1289.01 M330.937 1277.1 L330.937 1280.56 Q329.508 1279.89 328.041 1279.53 Q326.593 1279.17 325.163 1279.17 Q321.402 1279.17 319.408 1281.71 Q317.433 1284.25 317.151 1289.38 Q318.261 1287.75 319.935 1286.88 Q321.608 1286 323.621 1286 Q327.853 1286 330.298 1288.57 Q332.761 1291.13 332.761 1295.55 Q332.761 1299.88 330.204 1302.49 Q327.646 1305.11 323.395 1305.11 Q318.524 1305.11 315.947 1301.38 Q313.371 1297.64 313.371 1290.55 Q313.371 1283.89 316.53 1279.94 Q319.69 1275.97 325.013 1275.97 Q326.442 1275.97 327.89 1276.26 Q329.357 1276.54 330.937 1277.1 Z\" fill=\"#000000\" fill-rule=\"evenodd\" fill-opacity=\"1\" /><path clip-path=\"url(#clip480)\" d=\"M320.817 741.372 Q317.206 741.372 315.377 744.937 Q313.572 748.479 313.572 755.608 Q313.572 762.715 315.377 766.28 Q317.206 769.821 320.817 769.821 Q324.451 769.821 326.257 766.28 Q328.086 762.715 328.086 755.608 Q328.086 748.479 326.257 744.937 Q324.451 741.372 320.817 741.372 M320.817 737.669 Q326.627 737.669 329.683 742.275 Q332.761 746.858 332.761 755.608 Q332.761 764.335 329.683 768.942 Q326.627 773.525 320.817 773.525 Q315.007 773.525 311.928 768.942 Q308.873 764.335 308.873 755.608 Q308.873 746.858 311.928 742.275 Q315.007 737.669 320.817 737.669 Z\" fill=\"#000000\" fill-rule=\"evenodd\" fill-opacity=\"1\" /><path clip-path=\"url(#clip480)\" d=\"M104.927 207.997 Q108.283 208.714 110.158 210.983 Q112.057 213.251 112.057 216.584 Q112.057 221.7 108.538 224.501 Q105.02 227.302 98.5382 227.302 Q96.3623 227.302 94.0475 226.862 Q91.7558 226.446 89.3021 225.589 L89.3021 221.075 Q91.2465 222.209 93.5613 222.788 Q95.8761 223.367 98.3993 223.367 Q102.797 223.367 105.089 221.631 Q107.404 219.895 107.404 216.584 Q107.404 213.529 105.251 211.816 Q103.121 210.08 99.3021 210.08 L95.2743 210.08 L95.2743 206.237 L99.4872 206.237 Q102.936 206.237 104.765 204.872 Q106.594 203.483 106.594 200.89 Q106.594 198.228 104.696 196.816 Q102.821 195.381 99.3021 195.381 Q97.3808 195.381 95.1817 195.798 Q92.9826 196.214 90.3438 197.094 L90.3438 192.927 Q93.0058 192.186 95.3206 191.816 Q97.6585 191.446 99.7187 191.446 Q105.043 191.446 108.145 193.876 Q111.246 196.284 111.246 200.404 Q111.246 203.274 109.603 205.265 Q107.959 207.233 104.927 207.997 Z\" fill=\"#000000\" fill-rule=\"evenodd\" fill-opacity=\"1\" /><path clip-path=\"url(#clip480)\" d=\"M120.922 220.751 L125.807 220.751 L125.807 226.631 L120.922 226.631 L120.922 220.751 Z\" fill=\"#000000\" fill-rule=\"evenodd\" fill-opacity=\"1\" /><path clip-path=\"url(#clip480)\" d=\"M145.992 195.149 Q142.381 195.149 140.552 198.714 Q138.746 202.256 138.746 209.385 Q138.746 216.492 140.552 220.057 Q142.381 223.598 145.992 223.598 Q149.626 223.598 151.431 220.057 Q153.26 216.492 153.26 209.385 Q153.26 202.256 151.431 198.714 Q149.626 195.149 145.992 195.149 M145.992 191.446 Q151.802 191.446 154.857 196.052 Q157.936 200.635 157.936 209.385 Q157.936 218.112 154.857 222.719 Q151.802 227.302 145.992 227.302 Q140.181 227.302 137.103 222.719 Q134.047 218.112 134.047 209.385 Q134.047 200.635 137.103 196.052 Q140.181 191.446 145.992 191.446 Z\" fill=\"#000000\" fill-rule=\"evenodd\" fill-opacity=\"1\" /><path clip-path=\"url(#clip480)\" d=\"M194.325 201.168 L183.746 211.793 L194.325 222.371 L191.57 225.172 L180.945 214.547 L170.32 225.172 L167.589 222.371 L178.144 211.793 L167.589 201.168 L170.32 198.367 L180.945 208.992 L191.57 198.367 L194.325 201.168 Z\" fill=\"#000000\" fill-rule=\"evenodd\" fill-opacity=\"1\" /><path clip-path=\"url(#clip480)\" d=\"M206.686 222.696 L214.325 222.696 L214.325 196.33 L206.014 197.997 L206.014 193.737 L214.278 192.071 L218.954 192.071 L218.954 222.696 L226.593 222.696 L226.593 226.631 L206.686 226.631 L206.686 222.696 Z\" fill=\"#000000\" fill-rule=\"evenodd\" fill-opacity=\"1\" /><path clip-path=\"url(#clip480)\" d=\"M246.037 195.149 Q242.426 195.149 240.598 198.714 Q238.792 202.256 238.792 209.385 Q238.792 216.492 240.598 220.057 Q242.426 223.598 246.037 223.598 Q249.672 223.598 251.477 220.057 Q253.306 216.492 253.306 209.385 Q253.306 202.256 251.477 198.714 Q249.672 195.149 246.037 195.149 M246.037 191.446 Q251.848 191.446 254.903 196.052 Q257.982 200.635 257.982 209.385 Q257.982 218.112 254.903 222.719 Q251.848 227.302 246.037 227.302 Q240.227 227.302 237.149 222.719 Q234.093 218.112 234.093 209.385 Q234.093 200.635 237.149 196.052 Q240.227 191.446 246.037 191.446 Z\" fill=\"#000000\" fill-rule=\"evenodd\" fill-opacity=\"1\" /><path clip-path=\"url(#clip480)\" d=\"M257.982 185.547 L282.093 185.547 L282.093 188.744 L257.982 188.744 L257.982 185.547 Z\" fill=\"#000000\" fill-rule=\"evenodd\" fill-opacity=\"1\" /><path clip-path=\"url(#clip480)\" d=\"M290.952 196.023 L297.158 196.023 L297.158 174.601 L290.406 175.955 L290.406 172.494 L297.121 171.14 L300.92 171.14 L300.92 196.023 L307.126 196.023 L307.126 199.22 L290.952 199.22 L290.952 196.023 Z\" fill=\"#000000\" fill-rule=\"evenodd\" fill-opacity=\"1\" /><path clip-path=\"url(#clip480)\" d=\"M323.395 183.666 Q320.837 183.666 319.333 185.415 Q317.847 187.165 317.847 190.211 Q317.847 193.239 319.333 195.007 Q320.837 196.756 323.395 196.756 Q325.953 196.756 327.439 195.007 Q328.943 193.239 328.943 190.211 Q328.943 187.165 327.439 185.415 Q325.953 183.666 323.395 183.666 M330.937 171.761 L330.937 175.222 Q329.508 174.545 328.041 174.187 Q326.593 173.83 325.163 173.83 Q321.402 173.83 319.408 176.369 Q317.433 178.908 317.151 184.042 Q318.261 182.406 319.935 181.541 Q321.608 180.657 323.621 180.657 Q327.853 180.657 330.298 183.234 Q332.761 185.792 332.761 190.211 Q332.761 194.537 330.204 197.151 Q327.646 199.766 323.395 199.766 Q318.524 199.766 315.947 196.042 Q313.371 192.299 313.371 185.209 Q313.371 178.551 316.53 174.601 Q319.69 170.632 325.013 170.632 Q326.442 170.632 327.89 170.915 Q329.357 171.197 330.937 171.761 Z\" fill=\"#000000\" fill-rule=\"evenodd\" fill-opacity=\"1\" /><path clip-path=\"url(#clip480)\" d=\"M101.339 -345.183 Q98.1909 -345.183 96.3391 -343.03 Q94.5104 -340.878 94.5104 -337.128 Q94.5104 -333.401 96.3391 -331.225 Q98.1909 -329.072 101.339 -329.072 Q104.487 -329.072 106.316 -331.225 Q108.168 -333.401 108.168 -337.128 Q108.168 -340.878 106.316 -343.03 Q104.487 -345.183 101.339 -345.183 M110.621 -359.836 L110.621 -355.577 Q108.862 -356.41 107.057 -356.85 Q105.274 -357.29 103.515 -357.29 Q98.8854 -357.29 96.4317 -354.165 Q94.0012 -351.04 93.6539 -344.72 Q95.0197 -346.734 97.0798 -347.799 Q99.14 -348.887 101.617 -348.887 Q106.825 -348.887 109.834 -345.716 Q112.867 -342.567 112.867 -337.128 Q112.867 -331.804 109.719 -328.586 Q106.571 -325.369 101.339 -325.369 Q95.3437 -325.369 92.1725 -329.952 Q89.0012 -334.558 89.0012 -343.285 Q89.0012 -351.479 92.89 -356.341 Q96.7789 -361.225 103.33 -361.225 Q105.089 -361.225 106.871 -360.878 Q108.677 -360.53 110.621 -359.836 Z\" fill=\"#000000\" fill-rule=\"evenodd\" fill-opacity=\"1\" /><path clip-path=\"url(#clip480)\" d=\"M120.922 -331.919 L125.807 -331.919 L125.807 -326.04 L120.922 -326.04 L120.922 -331.919 Z\" fill=\"#000000\" fill-rule=\"evenodd\" fill-opacity=\"1\" /><path clip-path=\"url(#clip480)\" d=\"M145.992 -357.521 Q142.381 -357.521 140.552 -353.956 Q138.746 -350.415 138.746 -343.285 Q138.746 -336.179 140.552 -332.614 Q142.381 -329.072 145.992 -329.072 Q149.626 -329.072 151.431 -332.614 Q153.26 -336.179 153.26 -343.285 Q153.26 -350.415 151.431 -353.956 Q149.626 -357.521 145.992 -357.521 M145.992 -361.225 Q151.802 -361.225 154.857 -356.618 Q157.936 -352.035 157.936 -343.285 Q157.936 -334.558 154.857 -329.952 Q151.802 -325.369 145.992 -325.369 Q140.181 -325.369 137.103 -329.952 Q134.047 -334.558 134.047 -343.285 Q134.047 -352.035 137.103 -356.618 Q140.181 -361.225 145.992 -361.225 Z\" fill=\"#000000\" fill-rule=\"evenodd\" fill-opacity=\"1\" /><path clip-path=\"url(#clip480)\" d=\"M194.325 -351.503 L183.746 -340.878 L194.325 -330.299 L191.57 -327.498 L180.945 -338.123 L170.32 -327.498 L167.589 -330.299 L178.144 -340.878 L167.589 -351.503 L170.32 -354.304 L180.945 -343.679 L191.57 -354.304 L194.325 -351.503 Z\" fill=\"#000000\" fill-rule=\"evenodd\" fill-opacity=\"1\" /><path clip-path=\"url(#clip480)\" d=\"M206.686 -329.975 L214.325 -329.975 L214.325 -356.341 L206.014 -354.674 L206.014 -358.933 L214.278 -360.6 L218.954 -360.6 L218.954 -329.975 L226.593 -329.975 L226.593 -326.04 L206.686 -326.04 L206.686 -329.975 Z\" fill=\"#000000\" fill-rule=\"evenodd\" fill-opacity=\"1\" /><path clip-path=\"url(#clip480)\" d=\"M246.037 -357.521 Q242.426 -357.521 240.598 -353.956 Q238.792 -350.415 238.792 -343.285 Q238.792 -336.179 240.598 -332.614 Q242.426 -329.072 246.037 -329.072 Q249.672 -329.072 251.477 -332.614 Q253.306 -336.179 253.306 -343.285 Q253.306 -350.415 251.477 -353.956 Q249.672 -357.521 246.037 -357.521 M246.037 -361.225 Q251.848 -361.225 254.903 -356.618 Q257.982 -352.035 257.982 -343.285 Q257.982 -334.558 254.903 -329.952 Q251.848 -325.369 246.037 -325.369 Q240.227 -325.369 237.149 -329.952 Q234.093 -334.558 234.093 -343.285 Q234.093 -352.035 237.149 -356.618 Q240.227 -361.225 246.037 -361.225 Z\" fill=\"#000000\" fill-rule=\"evenodd\" fill-opacity=\"1\" /><path clip-path=\"url(#clip480)\" d=\"M257.982 -367.123 L282.093 -367.123 L282.093 -363.926 L257.982 -363.926 L257.982 -367.123 Z\" fill=\"#000000\" fill-rule=\"evenodd\" fill-opacity=\"1\" /><path clip-path=\"url(#clip480)\" d=\"M290.952 -356.648 L297.158 -356.648 L297.158 -378.07 L290.406 -376.715 L290.406 -380.176 L297.121 -381.53 L300.92 -381.53 L300.92 -356.648 L307.126 -356.648 L307.126 -353.45 L290.952 -353.45 L290.952 -356.648 Z\" fill=\"#000000\" fill-rule=\"evenodd\" fill-opacity=\"1\" /><path clip-path=\"url(#clip480)\" d=\"M323.395 -369.004 Q320.837 -369.004 319.333 -367.255 Q317.847 -365.506 317.847 -362.459 Q317.847 -359.431 319.333 -357.663 Q320.837 -355.914 323.395 -355.914 Q325.953 -355.914 327.439 -357.663 Q328.943 -359.431 328.943 -362.459 Q328.943 -365.506 327.439 -367.255 Q325.953 -369.004 323.395 -369.004 M330.937 -380.91 L330.937 -377.449 Q329.508 -378.126 328.041 -378.483 Q326.593 -378.841 325.163 -378.841 Q321.402 -378.841 319.408 -376.302 Q317.433 -373.763 317.151 -368.628 Q318.261 -370.264 319.935 -371.13 Q321.608 -372.013 323.621 -372.013 Q327.853 -372.013 330.298 -369.437 Q332.761 -366.879 332.761 -362.459 Q332.761 -358.133 330.204 -355.519 Q327.646 -352.905 323.395 -352.905 Q318.524 -352.905 315.947 -356.629 Q313.371 -360.371 313.371 -367.462 Q313.371 -374.12 316.53 -378.07 Q319.69 -382.038 325.013 -382.038 Q326.442 -382.038 327.89 -381.756 Q329.357 -381.474 330.937 -380.91 Z\" fill=\"#000000\" fill-rule=\"evenodd\" fill-opacity=\"1\" /><polyline clip-path=\"url(#clip482)\" style=\"stroke:#009af9; stroke-linecap:butt; stroke-linejoin:round; stroke-width:8; stroke-opacity:1; fill:none\" points=\"\n  424.912,891.651 443.818,629.751 462.724,917.944 481.63,993.573 500.536,715.068 519.442,861.144 538.348,762.073 557.254,831.515 576.16,1089.7 595.066,377.472 \n  613.972,583.336 632.878,372.562 651.784,281.472 670.69,416.826 689.596,909.37 708.502,713.107 727.408,442.453 746.314,900.361 765.22,1043.32 784.126,401.174 \n  803.032,795.754 821.938,1302.22 840.844,387.926 859.75,1024.21 878.656,998.383 897.562,531.459 916.468,1041.17 935.374,847.224 954.28,626.573 973.186,1111.18 \n  992.092,614.399 1011,866.339 1029.9,872.759 1048.81,748.16 1067.72,792.921 1086.62,804.634 1105.53,286.07 1124.43,1047.05 1143.34,767.402 1162.25,914.576 \n  1181.15,1276.44 1200.06,730.394 1218.96,658.265 1237.87,626.882 1256.78,354.455 1275.68,1092.45 1294.59,1068.08 1313.49,583.876 1332.4,844.356 1351.31,905.525 \n  1370.21,930.891 1389.12,938.332 1408.02,438.094 1426.93,715.327 1445.84,896.986 1464.74,951.314 1483.65,469.952 1502.55,823.484 1521.46,915.362 1540.37,632.537 \n  1559.27,1038.8 1578.18,501.51 1597.08,706.039 1615.99,841.859 1634.9,617.357 1653.8,958.505 1672.71,674.082 1691.61,285.796 1710.52,1217.36 1729.43,940.928 \n  1748.33,429.605 1767.24,928.145 1786.14,915.362 1805.05,889.796 1823.96,979.277 1842.86,563.828 1861.77,231.468 1880.67,985.669 1899.58,576.611 1918.49,704.441 \n  1937.39,372.081 1956.3,423.214 1975.2,781.14 1994.11,448.78 2013.02,448.78 2031.92,1062.37 2050.83,755.574 2069.73,755.574 2088.64,551.044 2107.55,755.574 \n  2126.45,346.515 2145.36,1164.63 2164.26,346.515 2183.17,346.515 2202.08,755.574 2220.98,960.103 2239.89,755.574 2258.79,960.103 2277.7,755.574 2296.61,755.574 \n  \n  \"/>\n</svg>\n"
     },
     "execution_count": 154,
     "metadata": {
     },
     "output_type": "execute_result"
    },
    {
     "name": "stderr",
     "output_type": "stream",
     "text": [
      "┌ Warning: No strict ticks found\n",
      "└ @ PlotUtils /ext/julia/depot/packages/PlotUtils/ebPq2/src/ticks.jl:295\n",
      "┌ Warning: No strict ticks found\n",
      "└ @ PlotUtils /ext/julia/depot/packages/PlotUtils/ebPq2/src/ticks.jl:295\n"
     ]
    }
   ],
   "source": [
    "plot(rng,D.(rng),line=2,leg=false)"
   ]
  },
  {
   "cell_type": "code",
   "execution_count": 155,
   "metadata": {
    "collapsed": false
   },
   "outputs": [
    {
     "data": {
      "text/plain": [
       "y (generic function with 1 method)"
      ]
     },
     "execution_count": 155,
     "metadata": {
     },
     "output_type": "execute_result"
    }
   ],
   "source": [
    "y(x)=(2/(1-exp(2*x-10)))-1"
   ]
  },
  {
   "cell_type": "code",
   "execution_count": 156,
   "metadata": {
    "collapsed": false
   },
   "outputs": [
    {
     "data": {
      "text/plain": [
       "Inf"
      ]
     },
     "execution_count": 156,
     "metadata": {
     },
     "output_type": "execute_result"
    }
   ],
   "source": [
    "y(5)"
   ]
  },
  {
   "cell_type": "code",
   "execution_count": 150,
   "metadata": {
    "collapsed": false
   },
   "outputs": [
    {
     "data": {
      "text/plain": [
       ":((((0 * x + 2 * 1) * exp(2x - 10)) * (-(exp(2x - 10)) - 1) - (exp(2x - 10) - 1) * -((0 * x + 2 * 1) * exp(2x - 10))) / (-(exp(2x - 10)) - 1) ^ 2)"
      ]
     },
     "execution_count": 150,
     "metadata": {
     },
     "output_type": "execute_result"
    }
   ],
   "source": [
    "differentiate(\"(exp(2*x-10)-1)/(-exp(2*x-10)-1)\",:x)"
   ]
  },
  {
   "cell_type": "code",
   "execution_count": 152,
   "metadata": {
    "collapsed": false
   },
   "outputs": [
    {
     "data": {
      "text/plain": [
       "Y (generic function with 1 method)"
      ]
     },
     "execution_count": 152,
     "metadata": {
     },
     "output_type": "execute_result"
    }
   ],
   "source": [
    "Y(x)=(y(x)-1)*(y(x)+1)"
   ]
  },
  {
   "cell_type": "code",
   "execution_count": 151,
   "metadata": {
    "collapsed": false
   },
   "outputs": [
    {
     "data": {
      "text/plain": [
       "yp (generic function with 1 method)"
      ]
     },
     "execution_count": 151,
     "metadata": {
     },
     "output_type": "execute_result"
    }
   ],
   "source": [
    "yp(x)=((((0 * x + 2 * 1) * exp(2x - 10)) * (-(exp(2x - 10)) - 1) - (exp(2x - 10) - 1) * -((0 * x + 2 * 1) * exp(2x - 10))) / (-(exp(2x - 10)) - 1) ^ 2)"
   ]
  },
  {
   "cell_type": "code",
   "execution_count": 153,
   "metadata": {
    "collapsed": false
   },
   "outputs": [
    {
     "data": {
      "text/plain": [
       "D (generic function with 1 method)"
      ]
     },
     "execution_count": 153,
     "metadata": {
     },
     "output_type": "execute_result"
    }
   ],
   "source": [
    "D(x)=Y(x)-yp(x)"
   ]
  },
  {
   "cell_type": "code",
   "execution_count": 137,
   "metadata": {
    "collapsed": false
   },
   "outputs": [
   ],
   "source": [
    "using Plots"
   ]
  },
  {
   "cell_type": "code",
   "execution_count": 138,
   "metadata": {
    "collapsed": false
   },
   "outputs": [
    {
     "data": {
      "text/plain": [
       "-5.0:0.10101010101010101:5.0"
      ]
     },
     "execution_count": 138,
     "metadata": {
     },
     "output_type": "execute_result"
    }
   ],
   "source": [
    "rng=range(-5,stop=5,length=100)"
   ]
  },
  {
   "cell_type": "code",
   "execution_count": 154,
   "metadata": {
    "collapsed": false
   },
   "outputs": [
    {
     "data": {
      "image/svg+xml": "<?xml version=\"1.0\" encoding=\"utf-8\"?>\n<svg xmlns=\"http://www.w3.org/2000/svg\" xmlns:xlink=\"http://www.w3.org/1999/xlink\" width=\"600\" height=\"400\" viewBox=\"0 0 2400 1600\">\n<defs>\n  <clipPath id=\"clip480\">\n    <rect x=\"0\" y=\"0\" width=\"2400\" height=\"1600\"/>\n  </clipPath>\n</defs>\n<path clip-path=\"url(#clip480)\" d=\"\nM0 1600 L2400 1600 L2400 0 L0 0  Z\n  \" fill=\"#ffffff\" fill-rule=\"evenodd\" fill-opacity=\"1\"/>\n<defs>\n  <clipPath id=\"clip481\">\n    <rect x=\"480\" y=\"0\" width=\"1681\" height=\"1600\"/>\n  </clipPath>\n</defs>\n<path clip-path=\"url(#clip480)\" d=\"\nM368.761 1486.45 L2352.76 1486.45 L2352.76 47.2441 L368.761 47.2441  Z\n  \" fill=\"#ffffff\" fill-rule=\"evenodd\" fill-opacity=\"1\"/>\n<defs>\n  <clipPath id=\"clip482\">\n    <rect x=\"368\" y=\"47\" width=\"1985\" height=\"1440\"/>\n  </clipPath>\n</defs>\n<polyline clip-path=\"url(#clip482)\" style=\"stroke:#000000; stroke-linecap:butt; stroke-linejoin:round; stroke-width:2; stroke-opacity:0.1; fill:none\" points=\"\n  612.082,1486.45 612.082,47.2441 \n  \"/>\n<polyline clip-path=\"url(#clip482)\" style=\"stroke:#000000; stroke-linecap:butt; stroke-linejoin:round; stroke-width:2; stroke-opacity:0.1; fill:none\" points=\"\n  986.42,1486.45 986.42,47.2441 \n  \"/>\n<polyline clip-path=\"url(#clip482)\" style=\"stroke:#000000; stroke-linecap:butt; stroke-linejoin:round; stroke-width:2; stroke-opacity:0.1; fill:none\" points=\"\n  1360.76,1486.45 1360.76,47.2441 \n  \"/>\n<polyline clip-path=\"url(#clip482)\" style=\"stroke:#000000; stroke-linecap:butt; stroke-linejoin:round; stroke-width:2; stroke-opacity:0.1; fill:none\" points=\"\n  1735.1,1486.45 1735.1,47.2441 \n  \"/>\n<polyline clip-path=\"url(#clip482)\" style=\"stroke:#000000; stroke-linecap:butt; stroke-linejoin:round; stroke-width:2; stroke-opacity:0.1; fill:none\" points=\"\n  2109.44,1486.45 2109.44,47.2441 \n  \"/>\n<polyline clip-path=\"url(#clip480)\" style=\"stroke:#000000; stroke-linecap:butt; stroke-linejoin:round; stroke-width:4; stroke-opacity:1; fill:none\" points=\"\n  368.761,1486.45 2352.76,1486.45 \n  \"/>\n<polyline clip-path=\"url(#clip480)\" style=\"stroke:#000000; stroke-linecap:butt; stroke-linejoin:round; stroke-width:4; stroke-opacity:1; fill:none\" points=\"\n  612.082,1486.45 612.082,1467.55 \n  \"/>\n<polyline clip-path=\"url(#clip480)\" style=\"stroke:#000000; stroke-linecap:butt; stroke-linejoin:round; stroke-width:4; stroke-opacity:1; fill:none\" points=\"\n  986.42,1486.45 986.42,1467.55 \n  \"/>\n<polyline clip-path=\"url(#clip480)\" style=\"stroke:#000000; stroke-linecap:butt; stroke-linejoin:round; stroke-width:4; stroke-opacity:1; fill:none\" points=\"\n  1360.76,1486.45 1360.76,1467.55 \n  \"/>\n<polyline clip-path=\"url(#clip480)\" style=\"stroke:#000000; stroke-linecap:butt; stroke-linejoin:round; stroke-width:4; stroke-opacity:1; fill:none\" points=\"\n  1735.1,1486.45 1735.1,1467.55 \n  \"/>\n<polyline clip-path=\"url(#clip480)\" style=\"stroke:#000000; stroke-linecap:butt; stroke-linejoin:round; stroke-width:4; stroke-opacity:1; fill:none\" points=\"\n  2109.44,1486.45 2109.44,1467.55 \n  \"/>\n<path clip-path=\"url(#clip480)\" d=\"M580.982 1530.29 L610.658 1530.29 L610.658 1534.23 L580.982 1534.23 L580.982 1530.29 Z\" fill=\"#000000\" fill-rule=\"evenodd\" fill-opacity=\"1\" /><path clip-path=\"url(#clip480)\" d=\"M633.598 1516.63 L621.792 1535.08 L633.598 1535.08 L633.598 1516.63 M632.371 1512.56 L638.25 1512.56 L638.25 1535.08 L643.181 1535.08 L643.181 1538.97 L638.25 1538.97 L638.25 1547.12 L633.598 1547.12 L633.598 1538.97 L617.996 1538.97 L617.996 1534.46 L632.371 1512.56 Z\" fill=\"#000000\" fill-rule=\"evenodd\" fill-opacity=\"1\" /><path clip-path=\"url(#clip480)\" d=\"M956.362 1530.29 L986.038 1530.29 L986.038 1534.23 L956.362 1534.23 L956.362 1530.29 Z\" fill=\"#000000\" fill-rule=\"evenodd\" fill-opacity=\"1\" /><path clip-path=\"url(#clip480)\" d=\"M1000.16 1543.18 L1016.48 1543.18 L1016.48 1547.12 L994.533 1547.12 L994.533 1543.18 Q997.196 1540.43 1001.78 1535.8 Q1006.39 1531.15 1007.57 1529.81 Q1009.81 1527.28 1010.69 1525.55 Q1011.59 1523.79 1011.59 1522.1 Q1011.59 1519.34 1009.65 1517.61 Q1007.73 1515.87 1004.63 1515.87 Q1002.43 1515.87 999.973 1516.63 Q997.543 1517.4 994.765 1518.95 L994.765 1514.23 Q997.589 1513.09 1000.04 1512.51 Q1002.5 1511.93 1004.53 1511.93 Q1009.9 1511.93 1013.1 1514.62 Q1016.29 1517.31 1016.29 1521.8 Q1016.29 1523.93 1015.48 1525.85 Q1014.7 1527.74 1012.59 1530.34 Q1012.01 1531.01 1008.91 1534.23 Q1005.81 1537.42 1000.16 1543.18 Z\" fill=\"#000000\" fill-rule=\"evenodd\" fill-opacity=\"1\" /><path clip-path=\"url(#clip480)\" d=\"M1360.76 1515.64 Q1357.15 1515.64 1355.32 1519.2 Q1353.51 1522.75 1353.51 1529.87 Q1353.51 1536.98 1355.32 1540.55 Q1357.15 1544.09 1360.76 1544.09 Q1364.39 1544.09 1366.2 1540.55 Q1368.03 1536.98 1368.03 1529.87 Q1368.03 1522.75 1366.2 1519.2 Q1364.39 1515.64 1360.76 1515.64 M1360.76 1511.93 Q1366.57 1511.93 1369.62 1516.54 Q1372.7 1521.12 1372.7 1529.87 Q1372.7 1538.6 1369.62 1543.21 Q1366.57 1547.79 1360.76 1547.79 Q1354.95 1547.79 1351.87 1543.21 Q1348.81 1538.6 1348.81 1529.87 Q1348.81 1521.12 1351.87 1516.54 Q1354.95 1511.93 1360.76 1511.93 Z\" fill=\"#000000\" fill-rule=\"evenodd\" fill-opacity=\"1\" /><path clip-path=\"url(#clip480)\" d=\"M1729.75 1543.18 L1746.07 1543.18 L1746.07 1547.12 L1724.13 1547.12 L1724.13 1543.18 Q1726.79 1540.43 1731.37 1535.8 Q1735.98 1531.15 1737.16 1529.81 Q1739.4 1527.28 1740.28 1525.55 Q1741.19 1523.79 1741.19 1522.1 Q1741.19 1519.34 1739.24 1517.61 Q1737.32 1515.87 1734.22 1515.87 Q1732.02 1515.87 1729.56 1516.63 Q1727.13 1517.4 1724.36 1518.95 L1724.36 1514.23 Q1727.18 1513.09 1729.63 1512.51 Q1732.09 1511.93 1734.13 1511.93 Q1739.5 1511.93 1742.69 1514.62 Q1745.88 1517.31 1745.88 1521.8 Q1745.88 1523.93 1745.07 1525.85 Q1744.29 1527.74 1742.18 1530.34 Q1741.6 1531.01 1738.5 1534.23 Q1735.4 1537.42 1729.75 1543.18 Z\" fill=\"#000000\" fill-rule=\"evenodd\" fill-opacity=\"1\" /><path clip-path=\"url(#clip480)\" d=\"M2112.45 1516.63 L2100.64 1535.08 L2112.45 1535.08 L2112.45 1516.63 M2111.22 1512.56 L2117.1 1512.56 L2117.1 1535.08 L2122.03 1535.08 L2122.03 1538.97 L2117.1 1538.97 L2117.1 1547.12 L2112.45 1547.12 L2112.45 1538.97 L2096.84 1538.97 L2096.84 1534.46 L2111.22 1512.56 Z\" fill=\"#000000\" fill-rule=\"evenodd\" fill-opacity=\"1\" /><polyline clip-path=\"url(#clip482)\" style=\"stroke:#000000; stroke-linecap:butt; stroke-linejoin:round; stroke-width:2; stroke-opacity:0.1; fill:none\" points=\"\n  368.761,1860.91 2352.76,1860.91 \n  \"/>\n<polyline clip-path=\"url(#clip482)\" style=\"stroke:#000000; stroke-linecap:butt; stroke-linejoin:round; stroke-width:2; stroke-opacity:0.1; fill:none\" points=\"\n  368.761,1308.24 2352.76,1308.24 \n  \"/>\n<polyline clip-path=\"url(#clip482)\" style=\"stroke:#000000; stroke-linecap:butt; stroke-linejoin:round; stroke-width:2; stroke-opacity:0.1; fill:none\" points=\"\n  368.761,755.574 2352.76,755.574 \n  \"/>\n<polyline clip-path=\"url(#clip482)\" style=\"stroke:#000000; stroke-linecap:butt; stroke-linejoin:round; stroke-width:2; stroke-opacity:0.1; fill:none\" points=\"\n  368.761,202.903 2352.76,202.903 \n  \"/>\n<polyline clip-path=\"url(#clip482)\" style=\"stroke:#000000; stroke-linecap:butt; stroke-linejoin:round; stroke-width:2; stroke-opacity:0.1; fill:none\" points=\"\n  368.761,-349.767 2352.76,-349.767 \n  \"/>\n<polyline clip-path=\"url(#clip480)\" style=\"stroke:#000000; stroke-linecap:butt; stroke-linejoin:round; stroke-width:4; stroke-opacity:1; fill:none\" points=\"\n  368.761,1486.45 368.761,47.2441 \n  \"/>\n<polyline clip-path=\"url(#clip480)\" style=\"stroke:#000000; stroke-linecap:butt; stroke-linejoin:round; stroke-width:4; stroke-opacity:1; fill:none\" points=\"\n  368.761,1860.91 387.659,1860.91 \n  \"/>\n<polyline clip-path=\"url(#clip480)\" style=\"stroke:#000000; stroke-linecap:butt; stroke-linejoin:round; stroke-width:4; stroke-opacity:1; fill:none\" points=\"\n  368.761,1308.24 387.659,1308.24 \n  \"/>\n<polyline clip-path=\"url(#clip480)\" style=\"stroke:#000000; stroke-linecap:butt; stroke-linejoin:round; stroke-width:4; stroke-opacity:1; fill:none\" points=\"\n  368.761,755.574 387.659,755.574 \n  \"/>\n<polyline clip-path=\"url(#clip480)\" style=\"stroke:#000000; stroke-linecap:butt; stroke-linejoin:round; stroke-width:4; stroke-opacity:1; fill:none\" points=\"\n  368.761,202.903 387.659,202.903 \n  \"/>\n<polyline clip-path=\"url(#clip480)\" style=\"stroke:#000000; stroke-linecap:butt; stroke-linejoin:round; stroke-width:4; stroke-opacity:1; fill:none\" points=\"\n  368.761,-349.767 387.659,-349.767 \n  \"/>\n<path clip-path=\"url(#clip480)\" d=\"M50.9921 1867.81 L80.6679 1867.81 L80.6679 1871.75 L50.9921 1871.75 L50.9921 1867.81 Z\" fill=\"#000000\" fill-rule=\"evenodd\" fill-opacity=\"1\" /><path clip-path=\"url(#clip480)\" d=\"M101.339 1865.5 Q98.1909 1865.5 96.3391 1867.65 Q94.5104 1869.8 94.5104 1873.55 Q94.5104 1877.28 96.3391 1879.46 Q98.1909 1881.61 101.339 1881.61 Q104.487 1881.61 106.316 1879.46 Q108.168 1877.28 108.168 1873.55 Q108.168 1869.8 106.316 1867.65 Q104.487 1865.5 101.339 1865.5 M110.621 1850.85 L110.621 1855.11 Q108.862 1854.27 107.057 1853.83 Q105.274 1853.39 103.515 1853.39 Q98.8854 1853.39 96.4317 1856.52 Q94.0012 1859.64 93.6539 1865.96 Q95.0197 1863.95 97.0798 1862.88 Q99.14 1861.8 101.617 1861.8 Q106.825 1861.8 109.834 1864.97 Q112.867 1868.11 112.867 1873.55 Q112.867 1878.88 109.719 1882.1 Q106.571 1885.31 101.339 1885.31 Q95.3437 1885.31 92.1725 1880.73 Q89.0012 1876.12 89.0012 1867.4 Q89.0012 1859.2 92.89 1854.34 Q96.7789 1849.46 103.33 1849.46 Q105.089 1849.46 106.871 1849.8 Q108.677 1850.15 110.621 1850.85 Z\" fill=\"#000000\" fill-rule=\"evenodd\" fill-opacity=\"1\" /><path clip-path=\"url(#clip480)\" d=\"M120.922 1878.76 L125.807 1878.76 L125.807 1884.64 L120.922 1884.64 L120.922 1878.76 Z\" fill=\"#000000\" fill-rule=\"evenodd\" fill-opacity=\"1\" /><path clip-path=\"url(#clip480)\" d=\"M145.992 1853.16 Q142.381 1853.16 140.552 1856.73 Q138.746 1860.27 138.746 1867.4 Q138.746 1874.5 140.552 1878.07 Q142.381 1881.61 145.992 1881.61 Q149.626 1881.61 151.431 1878.07 Q153.26 1874.5 153.26 1867.4 Q153.26 1860.27 151.431 1856.73 Q149.626 1853.16 145.992 1853.16 M145.992 1849.46 Q151.802 1849.46 154.857 1854.06 Q157.936 1858.65 157.936 1867.4 Q157.936 1876.12 154.857 1880.73 Q151.802 1885.31 145.992 1885.31 Q140.181 1885.31 137.103 1880.73 Q134.047 1876.12 134.047 1867.4 Q134.047 1858.65 137.103 1854.06 Q140.181 1849.46 145.992 1849.46 Z\" fill=\"#000000\" fill-rule=\"evenodd\" fill-opacity=\"1\" /><path clip-path=\"url(#clip480)\" d=\"M194.325 1859.18 L183.746 1869.8 L194.325 1880.38 L191.57 1883.18 L180.945 1872.56 L170.32 1883.18 L167.589 1880.38 L178.144 1869.8 L167.589 1859.18 L170.32 1856.38 L180.945 1867 L191.57 1856.38 L194.325 1859.18 Z\" fill=\"#000000\" fill-rule=\"evenodd\" fill-opacity=\"1\" /><path clip-path=\"url(#clip480)\" d=\"M206.686 1880.71 L214.325 1880.71 L214.325 1854.34 L206.014 1856.01 L206.014 1851.75 L214.278 1850.08 L218.954 1850.08 L218.954 1880.71 L226.593 1880.71 L226.593 1884.64 L206.686 1884.64 L206.686 1880.71 Z\" fill=\"#000000\" fill-rule=\"evenodd\" fill-opacity=\"1\" /><path clip-path=\"url(#clip480)\" d=\"M246.037 1853.16 Q242.426 1853.16 240.598 1856.73 Q238.792 1860.27 238.792 1867.4 Q238.792 1874.5 240.598 1878.07 Q242.426 1881.61 246.037 1881.61 Q249.672 1881.61 251.477 1878.07 Q253.306 1874.5 253.306 1867.4 Q253.306 1860.27 251.477 1856.73 Q249.672 1853.16 246.037 1853.16 M246.037 1849.46 Q251.848 1849.46 254.903 1854.06 Q257.982 1858.65 257.982 1867.4 Q257.982 1876.12 254.903 1880.73 Q251.848 1885.31 246.037 1885.31 Q240.227 1885.31 237.149 1880.73 Q234.093 1876.12 234.093 1867.4 Q234.093 1858.65 237.149 1854.06 Q240.227 1849.46 246.037 1849.46 Z\" fill=\"#000000\" fill-rule=\"evenodd\" fill-opacity=\"1\" /><path clip-path=\"url(#clip480)\" d=\"M257.982 1843.56 L282.093 1843.56 L282.093 1846.76 L257.982 1846.76 L257.982 1843.56 Z\" fill=\"#000000\" fill-rule=\"evenodd\" fill-opacity=\"1\" /><path clip-path=\"url(#clip480)\" d=\"M290.952 1854.03 L297.158 1854.03 L297.158 1832.61 L290.406 1833.97 L290.406 1830.51 L297.121 1829.15 L300.92 1829.15 L300.92 1854.03 L307.126 1854.03 L307.126 1857.23 L290.952 1857.23 L290.952 1854.03 Z\" fill=\"#000000\" fill-rule=\"evenodd\" fill-opacity=\"1\" /><path clip-path=\"url(#clip480)\" d=\"M323.395 1841.68 Q320.837 1841.68 319.333 1843.43 Q317.847 1845.18 317.847 1848.22 Q317.847 1851.25 319.333 1853.02 Q320.837 1854.77 323.395 1854.77 Q325.953 1854.77 327.439 1853.02 Q328.943 1851.25 328.943 1848.22 Q328.943 1845.18 327.439 1843.43 Q325.953 1841.68 323.395 1841.68 M330.937 1829.77 L330.937 1833.23 Q329.508 1832.56 328.041 1832.2 Q326.593 1831.84 325.163 1831.84 Q321.402 1831.84 319.408 1834.38 Q317.433 1836.92 317.151 1842.05 Q318.261 1840.42 319.935 1839.55 Q321.608 1838.67 323.621 1838.67 Q327.853 1838.67 330.298 1841.25 Q332.761 1843.8 332.761 1848.22 Q332.761 1852.55 330.204 1855.16 Q327.646 1857.78 323.395 1857.78 Q318.524 1857.78 315.947 1854.05 Q313.371 1850.31 313.371 1843.22 Q313.371 1836.56 316.53 1832.61 Q319.69 1828.64 325.013 1828.64 Q326.442 1828.64 327.89 1828.93 Q329.357 1829.21 330.937 1829.77 Z\" fill=\"#000000\" fill-rule=\"evenodd\" fill-opacity=\"1\" /><path clip-path=\"url(#clip480)\" d=\"M50.9921 1315.14 L80.6679 1315.14 L80.6679 1319.08 L50.9921 1319.08 L50.9921 1315.14 Z\" fill=\"#000000\" fill-rule=\"evenodd\" fill-opacity=\"1\" /><path clip-path=\"url(#clip480)\" d=\"M104.927 1313.34 Q108.283 1314.06 110.158 1316.32 Q112.057 1318.59 112.057 1321.93 Q112.057 1327.04 108.538 1329.84 Q105.02 1332.64 98.5382 1332.64 Q96.3623 1332.64 94.0475 1332.2 Q91.7558 1331.79 89.3021 1330.93 L89.3021 1326.42 Q91.2465 1327.55 93.5613 1328.13 Q95.8761 1328.71 98.3993 1328.71 Q102.797 1328.71 105.089 1326.97 Q107.404 1325.24 107.404 1321.93 Q107.404 1318.87 105.251 1317.16 Q103.121 1315.42 99.3021 1315.42 L95.2743 1315.42 L95.2743 1311.58 L99.4872 1311.58 Q102.936 1311.58 104.765 1310.21 Q106.594 1308.82 106.594 1306.23 Q106.594 1303.57 104.696 1302.16 Q102.821 1300.72 99.3021 1300.72 Q97.3808 1300.72 95.1817 1301.14 Q92.9826 1301.56 90.3438 1302.43 L90.3438 1298.27 Q93.0058 1297.53 95.3206 1297.16 Q97.6585 1296.79 99.7187 1296.79 Q105.043 1296.79 108.145 1299.22 Q111.246 1301.62 111.246 1305.75 Q111.246 1308.62 109.603 1310.61 Q107.959 1312.57 104.927 1313.34 Z\" fill=\"#000000\" fill-rule=\"evenodd\" fill-opacity=\"1\" /><path clip-path=\"url(#clip480)\" d=\"M120.922 1326.09 L125.807 1326.09 L125.807 1331.97 L120.922 1331.97 L120.922 1326.09 Z\" fill=\"#000000\" fill-rule=\"evenodd\" fill-opacity=\"1\" /><path clip-path=\"url(#clip480)\" d=\"M145.992 1300.49 Q142.381 1300.49 140.552 1304.06 Q138.746 1307.6 138.746 1314.73 Q138.746 1321.83 140.552 1325.4 Q142.381 1328.94 145.992 1328.94 Q149.626 1328.94 151.431 1325.4 Q153.26 1321.83 153.26 1314.73 Q153.26 1307.6 151.431 1304.06 Q149.626 1300.49 145.992 1300.49 M145.992 1296.79 Q151.802 1296.79 154.857 1301.39 Q157.936 1305.98 157.936 1314.73 Q157.936 1323.45 154.857 1328.06 Q151.802 1332.64 145.992 1332.64 Q140.181 1332.64 137.103 1328.06 Q134.047 1323.45 134.047 1314.73 Q134.047 1305.98 137.103 1301.39 Q140.181 1296.79 145.992 1296.79 Z\" fill=\"#000000\" fill-rule=\"evenodd\" fill-opacity=\"1\" /><path clip-path=\"url(#clip480)\" d=\"M194.325 1306.51 L183.746 1317.13 L194.325 1327.71 L191.57 1330.51 L180.945 1319.89 L170.32 1330.51 L167.589 1327.71 L178.144 1317.13 L167.589 1306.51 L170.32 1303.71 L180.945 1314.33 L191.57 1303.71 L194.325 1306.51 Z\" fill=\"#000000\" fill-rule=\"evenodd\" fill-opacity=\"1\" /><path clip-path=\"url(#clip480)\" d=\"M206.686 1328.04 L214.325 1328.04 L214.325 1301.67 L206.014 1303.34 L206.014 1299.08 L214.278 1297.41 L218.954 1297.41 L218.954 1328.04 L226.593 1328.04 L226.593 1331.97 L206.686 1331.97 L206.686 1328.04 Z\" fill=\"#000000\" fill-rule=\"evenodd\" fill-opacity=\"1\" /><path clip-path=\"url(#clip480)\" d=\"M246.037 1300.49 Q242.426 1300.49 240.598 1304.06 Q238.792 1307.6 238.792 1314.73 Q238.792 1321.83 240.598 1325.4 Q242.426 1328.94 246.037 1328.94 Q249.672 1328.94 251.477 1325.4 Q253.306 1321.83 253.306 1314.73 Q253.306 1307.6 251.477 1304.06 Q249.672 1300.49 246.037 1300.49 M246.037 1296.79 Q251.848 1296.79 254.903 1301.39 Q257.982 1305.98 257.982 1314.73 Q257.982 1323.45 254.903 1328.06 Q251.848 1332.64 246.037 1332.64 Q240.227 1332.64 237.149 1328.06 Q234.093 1323.45 234.093 1314.73 Q234.093 1305.98 237.149 1301.39 Q240.227 1296.79 246.037 1296.79 Z\" fill=\"#000000\" fill-rule=\"evenodd\" fill-opacity=\"1\" /><path clip-path=\"url(#clip480)\" d=\"M257.982 1290.89 L282.093 1290.89 L282.093 1294.09 L257.982 1294.09 L257.982 1290.89 Z\" fill=\"#000000\" fill-rule=\"evenodd\" fill-opacity=\"1\" /><path clip-path=\"url(#clip480)\" d=\"M290.952 1301.36 L297.158 1301.36 L297.158 1279.94 L290.406 1281.3 L290.406 1277.84 L297.121 1276.48 L300.92 1276.48 L300.92 1301.36 L307.126 1301.36 L307.126 1304.56 L290.952 1304.56 L290.952 1301.36 Z\" fill=\"#000000\" fill-rule=\"evenodd\" fill-opacity=\"1\" /><path clip-path=\"url(#clip480)\" d=\"M323.395 1289.01 Q320.837 1289.01 319.333 1290.76 Q317.847 1292.51 317.847 1295.55 Q317.847 1298.58 319.333 1300.35 Q320.837 1302.1 323.395 1302.1 Q325.953 1302.1 327.439 1300.35 Q328.943 1298.58 328.943 1295.55 Q328.943 1292.51 327.439 1290.76 Q325.953 1289.01 323.395 1289.01 M330.937 1277.1 L330.937 1280.56 Q329.508 1279.89 328.041 1279.53 Q326.593 1279.17 325.163 1279.17 Q321.402 1279.17 319.408 1281.71 Q317.433 1284.25 317.151 1289.38 Q318.261 1287.75 319.935 1286.88 Q321.608 1286 323.621 1286 Q327.853 1286 330.298 1288.57 Q332.761 1291.13 332.761 1295.55 Q332.761 1299.88 330.204 1302.49 Q327.646 1305.11 323.395 1305.11 Q318.524 1305.11 315.947 1301.38 Q313.371 1297.64 313.371 1290.55 Q313.371 1283.89 316.53 1279.94 Q319.69 1275.97 325.013 1275.97 Q326.442 1275.97 327.89 1276.26 Q329.357 1276.54 330.937 1277.1 Z\" fill=\"#000000\" fill-rule=\"evenodd\" fill-opacity=\"1\" /><path clip-path=\"url(#clip480)\" d=\"M320.817 741.372 Q317.206 741.372 315.377 744.937 Q313.572 748.479 313.572 755.608 Q313.572 762.715 315.377 766.28 Q317.206 769.821 320.817 769.821 Q324.451 769.821 326.257 766.28 Q328.086 762.715 328.086 755.608 Q328.086 748.479 326.257 744.937 Q324.451 741.372 320.817 741.372 M320.817 737.669 Q326.627 737.669 329.683 742.275 Q332.761 746.858 332.761 755.608 Q332.761 764.335 329.683 768.942 Q326.627 773.525 320.817 773.525 Q315.007 773.525 311.928 768.942 Q308.873 764.335 308.873 755.608 Q308.873 746.858 311.928 742.275 Q315.007 737.669 320.817 737.669 Z\" fill=\"#000000\" fill-rule=\"evenodd\" fill-opacity=\"1\" /><path clip-path=\"url(#clip480)\" d=\"M104.927 207.997 Q108.283 208.714 110.158 210.983 Q112.057 213.251 112.057 216.584 Q112.057 221.7 108.538 224.501 Q105.02 227.302 98.5382 227.302 Q96.3623 227.302 94.0475 226.862 Q91.7558 226.446 89.3021 225.589 L89.3021 221.075 Q91.2465 222.209 93.5613 222.788 Q95.8761 223.367 98.3993 223.367 Q102.797 223.367 105.089 221.631 Q107.404 219.895 107.404 216.584 Q107.404 213.529 105.251 211.816 Q103.121 210.08 99.3021 210.08 L95.2743 210.08 L95.2743 206.237 L99.4872 206.237 Q102.936 206.237 104.765 204.872 Q106.594 203.483 106.594 200.89 Q106.594 198.228 104.696 196.816 Q102.821 195.381 99.3021 195.381 Q97.3808 195.381 95.1817 195.798 Q92.9826 196.214 90.3438 197.094 L90.3438 192.927 Q93.0058 192.186 95.3206 191.816 Q97.6585 191.446 99.7187 191.446 Q105.043 191.446 108.145 193.876 Q111.246 196.284 111.246 200.404 Q111.246 203.274 109.603 205.265 Q107.959 207.233 104.927 207.997 Z\" fill=\"#000000\" fill-rule=\"evenodd\" fill-opacity=\"1\" /><path clip-path=\"url(#clip480)\" d=\"M120.922 220.751 L125.807 220.751 L125.807 226.631 L120.922 226.631 L120.922 220.751 Z\" fill=\"#000000\" fill-rule=\"evenodd\" fill-opacity=\"1\" /><path clip-path=\"url(#clip480)\" d=\"M145.992 195.149 Q142.381 195.149 140.552 198.714 Q138.746 202.256 138.746 209.385 Q138.746 216.492 140.552 220.057 Q142.381 223.598 145.992 223.598 Q149.626 223.598 151.431 220.057 Q153.26 216.492 153.26 209.385 Q153.26 202.256 151.431 198.714 Q149.626 195.149 145.992 195.149 M145.992 191.446 Q151.802 191.446 154.857 196.052 Q157.936 200.635 157.936 209.385 Q157.936 218.112 154.857 222.719 Q151.802 227.302 145.992 227.302 Q140.181 227.302 137.103 222.719 Q134.047 218.112 134.047 209.385 Q134.047 200.635 137.103 196.052 Q140.181 191.446 145.992 191.446 Z\" fill=\"#000000\" fill-rule=\"evenodd\" fill-opacity=\"1\" /><path clip-path=\"url(#clip480)\" d=\"M194.325 201.168 L183.746 211.793 L194.325 222.371 L191.57 225.172 L180.945 214.547 L170.32 225.172 L167.589 222.371 L178.144 211.793 L167.589 201.168 L170.32 198.367 L180.945 208.992 L191.57 198.367 L194.325 201.168 Z\" fill=\"#000000\" fill-rule=\"evenodd\" fill-opacity=\"1\" /><path clip-path=\"url(#clip480)\" d=\"M206.686 222.696 L214.325 222.696 L214.325 196.33 L206.014 197.997 L206.014 193.737 L214.278 192.071 L218.954 192.071 L218.954 222.696 L226.593 222.696 L226.593 226.631 L206.686 226.631 L206.686 222.696 Z\" fill=\"#000000\" fill-rule=\"evenodd\" fill-opacity=\"1\" /><path clip-path=\"url(#clip480)\" d=\"M246.037 195.149 Q242.426 195.149 240.598 198.714 Q238.792 202.256 238.792 209.385 Q238.792 216.492 240.598 220.057 Q242.426 223.598 246.037 223.598 Q249.672 223.598 251.477 220.057 Q253.306 216.492 253.306 209.385 Q253.306 202.256 251.477 198.714 Q249.672 195.149 246.037 195.149 M246.037 191.446 Q251.848 191.446 254.903 196.052 Q257.982 200.635 257.982 209.385 Q257.982 218.112 254.903 222.719 Q251.848 227.302 246.037 227.302 Q240.227 227.302 237.149 222.719 Q234.093 218.112 234.093 209.385 Q234.093 200.635 237.149 196.052 Q240.227 191.446 246.037 191.446 Z\" fill=\"#000000\" fill-rule=\"evenodd\" fill-opacity=\"1\" /><path clip-path=\"url(#clip480)\" d=\"M257.982 185.547 L282.093 185.547 L282.093 188.744 L257.982 188.744 L257.982 185.547 Z\" fill=\"#000000\" fill-rule=\"evenodd\" fill-opacity=\"1\" /><path clip-path=\"url(#clip480)\" d=\"M290.952 196.023 L297.158 196.023 L297.158 174.601 L290.406 175.955 L290.406 172.494 L297.121 171.14 L300.92 171.14 L300.92 196.023 L307.126 196.023 L307.126 199.22 L290.952 199.22 L290.952 196.023 Z\" fill=\"#000000\" fill-rule=\"evenodd\" fill-opacity=\"1\" /><path clip-path=\"url(#clip480)\" d=\"M323.395 183.666 Q320.837 183.666 319.333 185.415 Q317.847 187.165 317.847 190.211 Q317.847 193.239 319.333 195.007 Q320.837 196.756 323.395 196.756 Q325.953 196.756 327.439 195.007 Q328.943 193.239 328.943 190.211 Q328.943 187.165 327.439 185.415 Q325.953 183.666 323.395 183.666 M330.937 171.761 L330.937 175.222 Q329.508 174.545 328.041 174.187 Q326.593 173.83 325.163 173.83 Q321.402 173.83 319.408 176.369 Q317.433 178.908 317.151 184.042 Q318.261 182.406 319.935 181.541 Q321.608 180.657 323.621 180.657 Q327.853 180.657 330.298 183.234 Q332.761 185.792 332.761 190.211 Q332.761 194.537 330.204 197.151 Q327.646 199.766 323.395 199.766 Q318.524 199.766 315.947 196.042 Q313.371 192.299 313.371 185.209 Q313.371 178.551 316.53 174.601 Q319.69 170.632 325.013 170.632 Q326.442 170.632 327.89 170.915 Q329.357 171.197 330.937 171.761 Z\" fill=\"#000000\" fill-rule=\"evenodd\" fill-opacity=\"1\" /><path clip-path=\"url(#clip480)\" d=\"M101.339 -345.183 Q98.1909 -345.183 96.3391 -343.03 Q94.5104 -340.878 94.5104 -337.128 Q94.5104 -333.401 96.3391 -331.225 Q98.1909 -329.072 101.339 -329.072 Q104.487 -329.072 106.316 -331.225 Q108.168 -333.401 108.168 -337.128 Q108.168 -340.878 106.316 -343.03 Q104.487 -345.183 101.339 -345.183 M110.621 -359.836 L110.621 -355.577 Q108.862 -356.41 107.057 -356.85 Q105.274 -357.29 103.515 -357.29 Q98.8854 -357.29 96.4317 -354.165 Q94.0012 -351.04 93.6539 -344.72 Q95.0197 -346.734 97.0798 -347.799 Q99.14 -348.887 101.617 -348.887 Q106.825 -348.887 109.834 -345.716 Q112.867 -342.567 112.867 -337.128 Q112.867 -331.804 109.719 -328.586 Q106.571 -325.369 101.339 -325.369 Q95.3437 -325.369 92.1725 -329.952 Q89.0012 -334.558 89.0012 -343.285 Q89.0012 -351.479 92.89 -356.341 Q96.7789 -361.225 103.33 -361.225 Q105.089 -361.225 106.871 -360.878 Q108.677 -360.53 110.621 -359.836 Z\" fill=\"#000000\" fill-rule=\"evenodd\" fill-opacity=\"1\" /><path clip-path=\"url(#clip480)\" d=\"M120.922 -331.919 L125.807 -331.919 L125.807 -326.04 L120.922 -326.04 L120.922 -331.919 Z\" fill=\"#000000\" fill-rule=\"evenodd\" fill-opacity=\"1\" /><path clip-path=\"url(#clip480)\" d=\"M145.992 -357.521 Q142.381 -357.521 140.552 -353.956 Q138.746 -350.415 138.746 -343.285 Q138.746 -336.179 140.552 -332.614 Q142.381 -329.072 145.992 -329.072 Q149.626 -329.072 151.431 -332.614 Q153.26 -336.179 153.26 -343.285 Q153.26 -350.415 151.431 -353.956 Q149.626 -357.521 145.992 -357.521 M145.992 -361.225 Q151.802 -361.225 154.857 -356.618 Q157.936 -352.035 157.936 -343.285 Q157.936 -334.558 154.857 -329.952 Q151.802 -325.369 145.992 -325.369 Q140.181 -325.369 137.103 -329.952 Q134.047 -334.558 134.047 -343.285 Q134.047 -352.035 137.103 -356.618 Q140.181 -361.225 145.992 -361.225 Z\" fill=\"#000000\" fill-rule=\"evenodd\" fill-opacity=\"1\" /><path clip-path=\"url(#clip480)\" d=\"M194.325 -351.503 L183.746 -340.878 L194.325 -330.299 L191.57 -327.498 L180.945 -338.123 L170.32 -327.498 L167.589 -330.299 L178.144 -340.878 L167.589 -351.503 L170.32 -354.304 L180.945 -343.679 L191.57 -354.304 L194.325 -351.503 Z\" fill=\"#000000\" fill-rule=\"evenodd\" fill-opacity=\"1\" /><path clip-path=\"url(#clip480)\" d=\"M206.686 -329.975 L214.325 -329.975 L214.325 -356.341 L206.014 -354.674 L206.014 -358.933 L214.278 -360.6 L218.954 -360.6 L218.954 -329.975 L226.593 -329.975 L226.593 -326.04 L206.686 -326.04 L206.686 -329.975 Z\" fill=\"#000000\" fill-rule=\"evenodd\" fill-opacity=\"1\" /><path clip-path=\"url(#clip480)\" d=\"M246.037 -357.521 Q242.426 -357.521 240.598 -353.956 Q238.792 -350.415 238.792 -343.285 Q238.792 -336.179 240.598 -332.614 Q242.426 -329.072 246.037 -329.072 Q249.672 -329.072 251.477 -332.614 Q253.306 -336.179 253.306 -343.285 Q253.306 -350.415 251.477 -353.956 Q249.672 -357.521 246.037 -357.521 M246.037 -361.225 Q251.848 -361.225 254.903 -356.618 Q257.982 -352.035 257.982 -343.285 Q257.982 -334.558 254.903 -329.952 Q251.848 -325.369 246.037 -325.369 Q240.227 -325.369 237.149 -329.952 Q234.093 -334.558 234.093 -343.285 Q234.093 -352.035 237.149 -356.618 Q240.227 -361.225 246.037 -361.225 Z\" fill=\"#000000\" fill-rule=\"evenodd\" fill-opacity=\"1\" /><path clip-path=\"url(#clip480)\" d=\"M257.982 -367.123 L282.093 -367.123 L282.093 -363.926 L257.982 -363.926 L257.982 -367.123 Z\" fill=\"#000000\" fill-rule=\"evenodd\" fill-opacity=\"1\" /><path clip-path=\"url(#clip480)\" d=\"M290.952 -356.648 L297.158 -356.648 L297.158 -378.07 L290.406 -376.715 L290.406 -380.176 L297.121 -381.53 L300.92 -381.53 L300.92 -356.648 L307.126 -356.648 L307.126 -353.45 L290.952 -353.45 L290.952 -356.648 Z\" fill=\"#000000\" fill-rule=\"evenodd\" fill-opacity=\"1\" /><path clip-path=\"url(#clip480)\" d=\"M323.395 -369.004 Q320.837 -369.004 319.333 -367.255 Q317.847 -365.506 317.847 -362.459 Q317.847 -359.431 319.333 -357.663 Q320.837 -355.914 323.395 -355.914 Q325.953 -355.914 327.439 -357.663 Q328.943 -359.431 328.943 -362.459 Q328.943 -365.506 327.439 -367.255 Q325.953 -369.004 323.395 -369.004 M330.937 -380.91 L330.937 -377.449 Q329.508 -378.126 328.041 -378.483 Q326.593 -378.841 325.163 -378.841 Q321.402 -378.841 319.408 -376.302 Q317.433 -373.763 317.151 -368.628 Q318.261 -370.264 319.935 -371.13 Q321.608 -372.013 323.621 -372.013 Q327.853 -372.013 330.298 -369.437 Q332.761 -366.879 332.761 -362.459 Q332.761 -358.133 330.204 -355.519 Q327.646 -352.905 323.395 -352.905 Q318.524 -352.905 315.947 -356.629 Q313.371 -360.371 313.371 -367.462 Q313.371 -374.12 316.53 -378.07 Q319.69 -382.038 325.013 -382.038 Q326.442 -382.038 327.89 -381.756 Q329.357 -381.474 330.937 -380.91 Z\" fill=\"#000000\" fill-rule=\"evenodd\" fill-opacity=\"1\" /><polyline clip-path=\"url(#clip482)\" style=\"stroke:#009af9; stroke-linecap:butt; stroke-linejoin:round; stroke-width:8; stroke-opacity:1; fill:none\" points=\"\n  424.912,891.651 443.818,629.751 462.724,917.944 481.63,993.573 500.536,715.068 519.442,861.144 538.348,762.073 557.254,831.515 576.16,1089.7 595.066,377.472 \n  613.972,583.336 632.878,372.562 651.784,281.472 670.69,416.826 689.596,909.37 708.502,713.107 727.408,442.453 746.314,900.361 765.22,1043.32 784.126,401.174 \n  803.032,795.754 821.938,1302.22 840.844,387.926 859.75,1024.21 878.656,998.383 897.562,531.459 916.468,1041.17 935.374,847.224 954.28,626.573 973.186,1111.18 \n  992.092,614.399 1011,866.339 1029.9,872.759 1048.81,748.16 1067.72,792.921 1086.62,804.634 1105.53,286.07 1124.43,1047.05 1143.34,767.402 1162.25,914.576 \n  1181.15,1276.44 1200.06,730.394 1218.96,658.265 1237.87,626.882 1256.78,354.455 1275.68,1092.45 1294.59,1068.08 1313.49,583.876 1332.4,844.356 1351.31,905.525 \n  1370.21,930.891 1389.12,938.332 1408.02,438.094 1426.93,715.327 1445.84,896.986 1464.74,951.314 1483.65,469.952 1502.55,823.484 1521.46,915.362 1540.37,632.537 \n  1559.27,1038.8 1578.18,501.51 1597.08,706.039 1615.99,841.859 1634.9,617.357 1653.8,958.505 1672.71,674.082 1691.61,285.796 1710.52,1217.36 1729.43,940.928 \n  1748.33,429.605 1767.24,928.145 1786.14,915.362 1805.05,889.796 1823.96,979.277 1842.86,563.828 1861.77,231.468 1880.67,985.669 1899.58,576.611 1918.49,704.441 \n  1937.39,372.081 1956.3,423.214 1975.2,781.14 1994.11,448.78 2013.02,448.78 2031.92,1062.37 2050.83,755.574 2069.73,755.574 2088.64,551.044 2107.55,755.574 \n  2126.45,346.515 2145.36,1164.63 2164.26,346.515 2183.17,346.515 2202.08,755.574 2220.98,960.103 2239.89,755.574 2258.79,960.103 2277.7,755.574 2296.61,755.574 \n  \n  \"/>\n</svg>\n"
     },
     "execution_count": 154,
     "metadata": {
     },
     "output_type": "execute_result"
    },
    {
     "name": "stderr",
     "output_type": "stream",
     "text": [
      "┌ Warning: No strict ticks found\n",
      "└ @ PlotUtils /ext/julia/depot/packages/PlotUtils/ebPq2/src/ticks.jl:295\n",
      "┌ Warning: No strict ticks found\n",
      "└ @ PlotUtils /ext/julia/depot/packages/PlotUtils/ebPq2/src/ticks.jl:295\n"
     ]
    }
   ],
   "source": [
    "plot(rng,D.(rng),line=2,leg=false)"
   ]
  },
  {
   "cell_type": "code",
   "execution_count": 157,
   "metadata": {
    "collapsed": false
   },
   "outputs": [
    {
     "data": {
      "text/plain": [
       "1296"
      ]
     },
     "execution_count": 157,
     "metadata": {
     },
     "output_type": "execute_result"
    }
   ],
   "source": [
    "36^2"
   ]
  },
  {
   "cell_type": "code",
   "execution_count": 158,
   "metadata": {
    "collapsed": false
   },
   "outputs": [
    {
     "data": {
      "text/plain": [
       "y (generic function with 1 method)"
      ]
     },
     "execution_count": 158,
     "metadata": {
     },
     "output_type": "execute_result"
    }
   ],
   "source": [
    "y(x)=-(1/36)*sqrt(1296+x^2)"
   ]
  },
  {
   "cell_type": "code",
   "execution_count": 159,
   "metadata": {
    "collapsed": false
   },
   "outputs": [
    {
     "data": {
      "text/plain": [
       "-1.0"
      ]
     },
     "execution_count": 159,
     "metadata": {
     },
     "output_type": "execute_result"
    }
   ],
   "source": [
    "y(0)"
   ]
  },
  {
   "cell_type": "code",
   "execution_count": 181,
   "metadata": {
    "collapsed": false
   },
   "outputs": [
   ],
   "source": [
    "using Polynomials"
   ]
  },
  {
   "cell_type": "code",
   "execution_count": 202,
   "metadata": {
    "collapsed": false
   },
   "outputs": [
    {
     "data": {
      "text/html": [
       "2 &#43; 2&#8729;x &#43; x<sup>2</sup>"
      ],
      "text/latex": [
       "$2 + 2\\cdot x + x^{2}$"
      ],
      "text/plain": [
       "Polynomial(2 + 2*x + x^2)"
      ]
     },
     "execution_count": 202,
     "metadata": {
     },
     "output_type": "execute_result"
    }
   ],
   "source": [
    "p=Polynomial([2,2,1])"
   ]
  },
  {
   "cell_type": "code",
   "execution_count": 203,
   "metadata": {
    "collapsed": false,
    "scrolled": true
   },
   "outputs": [
    {
     "data": {
      "text/plain": [
       "2-element Vector{ComplexF64}:\n",
       " -0.9999999999999998 - 0.9999999999999998im\n",
       " -0.9999999999999998 + 0.9999999999999998im"
      ]
     },
     "execution_count": 203,
     "metadata": {
     },
     "output_type": "execute_result"
    }
   ],
   "source": [
    "roots(p)"
   ]
  },
  {
   "cell_type": "code",
   "execution_count": 184,
   "metadata": {
    "collapsed": false
   },
   "outputs": [
    {
     "data": {
      "text/plain": [
       "2.75"
      ]
     },
     "execution_count": 184,
     "metadata": {
     },
     "output_type": "execute_result"
    }
   ],
   "source": [
    "1.6583123951777^2"
   ]
  },
  {
   "cell_type": "code",
   "execution_count": 185,
   "metadata": {
    "collapsed": false
   },
   "outputs": [
    {
     "data": {
      "text/plain": [
       "2.75"
      ]
     },
     "execution_count": 185,
     "metadata": {
     },
     "output_type": "execute_result"
    }
   ],
   "source": [
    "11/4"
   ]
  },
  {
   "cell_type": "code",
   "execution_count": 186,
   "metadata": {
    "collapsed": false
   },
   "outputs": [
   ],
   "source": [
    "using LinearAlgebra"
   ]
  },
  {
   "cell_type": "code",
   "execution_count": 187,
   "metadata": {
    "collapsed": false
   },
   "outputs": [
    {
     "data": {
      "text/plain": [
       "2×2 Matrix{Int64}:\n",
       " -20   15\n",
       " -15  -20"
      ]
     },
     "execution_count": 187,
     "metadata": {
     },
     "output_type": "execute_result"
    }
   ],
   "source": [
    "A=[-20 15\n",
    "-15 -20]"
   ]
  },
  {
   "cell_type": "code",
   "execution_count": 188,
   "metadata": {
    "collapsed": false
   },
   "outputs": [
    {
     "data": {
      "text/plain": [
       "2-element Vector{Int64}:\n",
       " -4\n",
       "  0"
      ]
     },
     "execution_count": 188,
     "metadata": {
     },
     "output_type": "execute_result"
    }
   ],
   "source": [
    "b=[-4\n",
    "0]"
   ]
  },
  {
   "cell_type": "code",
   "execution_count": 190,
   "metadata": {
    "collapsed": false
   },
   "outputs": [
    {
     "data": {
      "text/plain": [
       "2-element Vector{Float64}:\n",
       "  80.0\n",
       " -60.0"
      ]
     },
     "execution_count": 190,
     "metadata": {
     },
     "output_type": "execute_result"
    }
   ],
   "source": [
    "inv(A)*b*det(A)"
   ]
  },
  {
   "cell_type": "code",
   "execution_count": 191,
   "metadata": {
    "collapsed": false
   },
   "outputs": [
    {
     "data": {
      "text/plain": [
       "625.0"
      ]
     },
     "execution_count": 191,
     "metadata": {
     },
     "output_type": "execute_result"
    }
   ],
   "source": [
    "det(A)"
   ]
  },
  {
   "cell_type": "code",
   "execution_count": 194,
   "metadata": {
    "collapsed": false
   },
   "outputs": [
    {
     "data": {
      "text/plain": [
       "16//125"
      ]
     },
     "execution_count": 194,
     "metadata": {
     },
     "output_type": "execute_result"
    }
   ],
   "source": [
    "a=80//625"
   ]
  },
  {
   "cell_type": "code",
   "execution_count": 195,
   "metadata": {
    "collapsed": false
   },
   "outputs": [
    {
     "data": {
      "text/plain": [
       "-12//125"
      ]
     },
     "execution_count": 195,
     "metadata": {
     },
     "output_type": "execute_result"
    }
   ],
   "source": [
    "b=-60//625"
   ]
  },
  {
   "cell_type": "code",
   "execution_count": 197,
   "metadata": {
    "collapsed": false
   },
   "outputs": [
    {
     "data": {
      "text/plain": [
       "0.16"
      ]
     },
     "execution_count": 197,
     "metadata": {
     },
     "output_type": "execute_result"
    }
   ],
   "source": [
    "sqrt(a^2+b^2)"
   ]
  },
  {
   "cell_type": "code",
   "execution_count": 200,
   "metadata": {
    "collapsed": false
   },
   "outputs": [
    {
     "data": {
      "text/plain": [
       "5.639684198386302"
      ]
     },
     "execution_count": 200,
     "metadata": {
     },
     "output_type": "execute_result"
    }
   ],
   "source": [
    "atan(-3/4)+2*pi"
   ]
  },
  {
   "cell_type": "code",
   "execution_count": 201,
   "metadata": {
    "collapsed": false
   },
   "outputs": [
    {
     "data": {
      "text/plain": [
       "323.13010235415595"
      ]
     },
     "execution_count": 201,
     "metadata": {
     },
     "output_type": "execute_result"
    }
   ],
   "source": [
    "atan(-3/4)*180/pi+360"
   ]
  },
  {
   "cell_type": "code",
   "execution_count": 204,
   "metadata": {
    "collapsed": false
   },
   "outputs": [
    {
     "data": {
      "text/plain": [
       "32.0"
      ]
     },
     "execution_count": 204,
     "metadata": {
     },
     "output_type": "execute_result"
    }
   ],
   "source": [
    "kk=100/3.125"
   ]
  },
  {
   "cell_type": "code",
   "execution_count": 205,
   "metadata": {
    "collapsed": false
   },
   "outputs": [
    {
     "data": {
      "text/plain": [
       "0.9003163161571062"
      ]
     },
     "execution_count": 205,
     "metadata": {
     },
     "output_type": "execute_result"
    }
   ],
   "source": [
    "(4*sqrt(2))/(2*pi)"
   ]
  },
  {
   "cell_type": "code",
   "execution_count": 206,
   "metadata": {
    "collapsed": false
   },
   "outputs": [
    {
     "data": {
      "text/plain": [
       "3.125"
      ]
     },
     "execution_count": 206,
     "metadata": {
     },
     "output_type": "execute_result"
    }
   ],
   "source": [
    "100/32"
   ]
  },
  {
   "cell_type": "code",
   "execution_count": 167,
   "metadata": {
    "collapsed": false
   },
   "outputs": [
    {
     "data": {
      "text/plain": [
       "0.6747409422235527"
      ]
     },
     "execution_count": 167,
     "metadata": {
     },
     "output_type": "execute_result"
    }
   ],
   "source": [
    "aa=atan(4/5)"
   ]
  },
  {
   "cell_type": "code",
   "execution_count": 168,
   "metadata": {
    "collapsed": false
   },
   "outputs": [
    {
     "data": {
      "text/plain": [
       "38.659808254090095"
      ]
     },
     "execution_count": 168,
     "metadata": {
     },
     "output_type": "execute_result"
    }
   ],
   "source": [
    "aa*180/pi"
   ]
  },
  {
   "cell_type": "code",
   "execution_count": 169,
   "metadata": {
    "collapsed": false
   },
   "outputs": [
    {
     "data": {
      "text/plain": [
       "6.4031242374328485"
      ]
     },
     "execution_count": 169,
     "metadata": {
     },
     "output_type": "execute_result"
    }
   ],
   "source": [
    "sqrt(41)"
   ]
  },
  {
   "cell_type": "code",
   "execution_count": 172,
   "metadata": {
    "collapsed": false
   },
   "outputs": [
    {
     "data": {
      "text/plain": [
       "32.2"
      ]
     },
     "execution_count": 172,
     "metadata": {
     },
     "output_type": "execute_result"
    }
   ],
   "source": [
    "g1=32.2"
   ]
  },
  {
   "cell_type": "code",
   "execution_count": 173,
   "metadata": {
    "collapsed": false
   },
   "outputs": [
    {
     "data": {
      "text/plain": [
       "-0.0009851570110493825"
      ]
     },
     "execution_count": 173,
     "metadata": {
     },
     "output_type": "execute_result"
    }
   ],
   "source": [
    "k=-((sqrt(g1))/(5760))"
   ]
  },
  {
   "cell_type": "code",
   "execution_count": 174,
   "metadata": {
    "collapsed": false
   },
   "outputs": [
    {
     "data": {
      "text/plain": [
       "-21.081851067789195"
      ]
     },
     "execution_count": 174,
     "metadata": {
     },
     "output_type": "execute_result"
    }
   ],
   "source": [
    "a=(-2/3)*(10^(3/2))"
   ]
  },
  {
   "cell_type": "code",
   "execution_count": 180,
   "metadata": {
    "collapsed": false
   },
   "outputs": [
    {
     "data": {
      "text/plain": [
       "2289.9375"
      ]
     },
     "execution_count": 180,
     "metadata": {
     },
     "output_type": "execute_result"
    }
   ],
   "source": [
    "4500*0.75*0.59*1.15"
   ]
  },
  {
   "cell_type": "markdown",
   "metadata": {
    "collapsed": false
   },
   "source": [
    "<h2>\n",
    "    Evelyn's Shower Leak\n",
    "</h2>"
   ]
  },
  {
   "cell_type": "markdown",
   "metadata": {
    "collapsed": false
   },
   "source": [
    "The specific heat capacity of water is 4,200 Joules per kilogram per degree Celsius."
   ]
  },
  {
   "cell_type": "code",
   "execution_count": 207,
   "metadata": {
    "collapsed": false
   },
   "outputs": [
    {
     "data": {
      "text/plain": [
       "96"
      ]
     },
     "execution_count": 207,
     "metadata": {
     },
     "output_type": "execute_result"
    }
   ],
   "source": [
    "L=96"
   ]
  },
  {
   "cell_type": "code",
   "execution_count": 208,
   "metadata": {
    "collapsed": false
   },
   "outputs": [
    {
     "data": {
      "text/plain": [
       "50"
      ]
     },
     "execution_count": 208,
     "metadata": {
     },
     "output_type": "execute_result"
    }
   ],
   "source": [
    "T=50"
   ]
  },
  {
   "cell_type": "code",
   "execution_count": 211,
   "metadata": {
    "collapsed": false
   },
   "outputs": [
    {
     "data": {
      "text/plain": [
       "0.02016000000000001"
      ]
     },
     "execution_count": 211,
     "metadata": {
     },
     "output_type": "execute_result"
    }
   ],
   "source": [
    "GJ=4200*L*T*10^(-9)"
   ]
  },
  {
   "cell_type": "code",
   "execution_count": 212,
   "metadata": {
    "collapsed": false
   },
   "outputs": [
    {
     "data": {
      "text/plain": [
       "8.1593"
      ]
     },
     "execution_count": 212,
     "metadata": {
     },
     "output_type": "execute_result"
    }
   ],
   "source": [
    "price=1.351+4.503+2.3053"
   ]
  },
  {
   "cell_type": "code",
   "execution_count": 214,
   "metadata": {
    "collapsed": false
   },
   "outputs": [
    {
     "data": {
      "text/plain": [
       "60.039393120000035"
      ]
     },
     "execution_count": 214,
     "metadata": {
     },
     "output_type": "execute_result"
    }
   ],
   "source": [
    "GJ*price*365"
   ]
  },
  {
   "cell_type": "code",
   "execution_count": 216,
   "metadata": {
    "collapsed": false
   },
   "outputs": [
    {
     "data": {
      "text/plain": [
       "1825.0"
      ]
     },
     "execution_count": 216,
     "metadata": {
     },
     "output_type": "execute_result"
    }
   ],
   "source": [
    "0.25*365*20"
   ]
  },
  {
   "cell_type": "code",
   "execution_count": 217,
   "metadata": {
    "collapsed": false
   },
   "outputs": [
    {
     "data": {
      "text/plain": [
       "3.061616997868383e-16"
      ]
     },
     "execution_count": 217,
     "metadata": {
     },
     "output_type": "execute_result"
    }
   ],
   "source": [
    "cos((5*pi)/2)"
   ]
  },
  {
   "cell_type": "code",
   "execution_count": 218,
   "metadata": {
    "collapsed": false
   },
   "outputs": [
    {
     "data": {
      "text/plain": [
       "1.1666666666666667"
      ]
     },
     "execution_count": 218,
     "metadata": {
     },
     "output_type": "execute_result"
    }
   ],
   "source": [
    "7/6"
   ]
  },
  {
   "cell_type": "code",
   "execution_count": 219,
   "metadata": {
    "collapsed": false
   },
   "outputs": [
    {
     "data": {
      "text/plain": [
       "1.8333333333333333"
      ]
     },
     "execution_count": 219,
     "metadata": {
     },
     "output_type": "execute_result"
    }
   ],
   "source": [
    "11/6"
   ]
  },
  {
   "cell_type": "code",
   "execution_count": 220,
   "metadata": {
    "collapsed": false
   },
   "outputs": [
    {
     "data": {
      "text/plain": [
       "2880"
      ]
     },
     "execution_count": 220,
     "metadata": {
     },
     "output_type": "execute_result"
    }
   ],
   "source": [
    "36*80"
   ]
  },
  {
   "cell_type": "code",
   "execution_count": 222,
   "metadata": {
    "collapsed": false
   },
   "outputs": [
    {
     "data": {
      "text/plain": [
       "678822.5099390857"
      ]
     },
     "execution_count": 222,
     "metadata": {
     },
     "output_type": "execute_result"
    }
   ],
   "source": [
    "sec=240*(200)^(3/2)"
   ]
  },
  {
   "cell_type": "code",
   "execution_count": 223,
   "metadata": {
    "collapsed": false
   },
   "outputs": [
    {
     "data": {
      "text/plain": [
       "188.56180831641268"
      ]
     },
     "execution_count": 223,
     "metadata": {
     },
     "output_type": "execute_result"
    }
   ],
   "source": [
    "sec/3600"
   ]
  },
  {
   "cell_type": "code",
   "execution_count": 224,
   "metadata": {
    "collapsed": false
   },
   "outputs": [
    {
     "data": {
      "text/plain": [
       "0.02664303814138877"
      ]
     },
     "execution_count": 224,
     "metadata": {
     },
     "output_type": "execute_result"
    }
   ],
   "source": [
    "k=(1/100)*log(76.212/5.308)"
   ]
  },
  {
   "cell_type": "code",
   "execution_count": 226,
   "metadata": {
    "collapsed": false
   },
   "outputs": [
    {
     "data": {
      "text/plain": [
       "5.451322035672984"
      ]
     },
     "execution_count": 226,
     "metadata": {
     },
     "output_type": "execute_result"
    }
   ],
   "source": [
    "one=5.308*exp(k)"
   ]
  },
  {
   "cell_type": "code",
   "execution_count": 227,
   "metadata": {
    "collapsed": false
   },
   "outputs": [
    {
     "data": {
      "text/plain": [
       "1.0270011370898613"
      ]
     },
     "execution_count": 227,
     "metadata": {
     },
     "output_type": "execute_result"
    }
   ],
   "source": [
    "one/5.308"
   ]
  },
  {
   "cell_type": "code",
   "execution_count": 228,
   "metadata": {
    "collapsed": false
   },
   "outputs": [
    {
     "data": {
      "text/plain": [
       "1094.2481055011306"
      ]
     },
     "execution_count": 228,
     "metadata": {
     },
     "output_type": "execute_result"
    }
   ],
   "source": [
    "5.308*exp(k*200)"
   ]
  },
  {
   "cell_type": "code",
   "execution_count": 230,
   "metadata": {
    "collapsed": false
   },
   "outputs": [
    {
     "data": {
      "text/plain": [
       "9.8"
      ]
     },
     "execution_count": 230,
     "metadata": {
     },
     "output_type": "execute_result"
    }
   ],
   "source": [
    "gg=9.8"
   ]
  },
  {
   "cell_type": "code",
   "execution_count": 231,
   "metadata": {
    "collapsed": false
   },
   "outputs": [
    {
     "data": {
      "text/plain": [
       "-30.0"
      ]
     },
     "execution_count": 231,
     "metadata": {
     },
     "output_type": "execute_result"
    }
   ],
   "source": [
    "C=(-49/gg)-25"
   ]
  },
  {
   "cell_type": "code",
   "execution_count": 232,
   "metadata": {
    "collapsed": false
   },
   "outputs": [
    {
     "data": {
      "text/plain": [
       "4.5580389198488644"
      ]
     },
     "execution_count": 232,
     "metadata": {
     },
     "output_type": "execute_result"
    }
   ],
   "source": [
    "25*log(6/5)"
   ]
  },
  {
   "cell_type": "code",
   "execution_count": 233,
   "metadata": {
    "collapsed": false
   },
   "outputs": [
    {
     "data": {
      "text/plain": [
       "750.0"
      ]
     },
     "execution_count": 233,
     "metadata": {
     },
     "output_type": "execute_result"
    }
   ],
   "source": [
    "30/0.04"
   ]
  },
  {
   "cell_type": "code",
   "execution_count": 234,
   "metadata": {
    "collapsed": false
   },
   "outputs": [
   ],
   "source": [
    "using Roots"
   ]
  },
  {
   "cell_type": "code",
   "execution_count": 237,
   "metadata": {
    "collapsed": false
   },
   "outputs": [
    {
     "data": {
      "text/plain": [
       "f (generic function with 1 method)"
      ]
     },
     "execution_count": 237,
     "metadata": {
     },
     "output_type": "execute_result"
    }
   ],
   "source": [
    "f(t)=-25*gg*t-750*gg*exp(-0.04*t)+750*gg"
   ]
  },
  {
   "cell_type": "code",
   "execution_count": 238,
   "metadata": {
    "collapsed": false
   },
   "outputs": [
    {
     "data": {
      "text/plain": [
       "9.41094993123653"
      ]
     },
     "execution_count": 238,
     "metadata": {
     },
     "output_type": "execute_result"
    }
   ],
   "source": [
    "find_zero(f,10)"
   ]
  },
  {
   "cell_type": "code",
   "execution_count": 241,
   "metadata": {
    "collapsed": false
   },
   "outputs": [
    {
     "data": {
      "text/plain": [
       "CC (generic function with 1 method)"
      ]
     },
     "execution_count": 241,
     "metadata": {
     },
     "output_type": "execute_result"
    }
   ],
   "source": [
    "CC(x)=1200+12*x-0.1*x^2+0.0005*x^3"
   ]
  },
  {
   "cell_type": "code",
   "execution_count": 242,
   "metadata": {
    "collapsed": false
   },
   "outputs": [
    {
     "data": {
      "text/plain": [
       "32.20049999999992"
      ]
     },
     "execution_count": 242,
     "metadata": {
     },
     "output_type": "execute_result"
    }
   ],
   "source": [
    "CC(201)-CC(200)"
   ]
  },
  {
   "cell_type": "code",
   "execution_count": 0,
   "metadata": {
    "collapsed": false
   },
   "outputs": [
   ],
   "source": [
   ]
  },
  {
   "cell_type": "code",
   "execution_count": 0,
   "metadata": {
    "collapsed": false
   },
   "outputs": [
   ],
   "source": [
   ]
  },
  {
   "cell_type": "code",
   "execution_count": 0,
   "metadata": {
    "collapsed": false
   },
   "outputs": [
   ],
   "source": [
   ]
  },
  {
   "cell_type": "code",
   "execution_count": 0,
   "metadata": {
    "collapsed": false
   },
   "outputs": [
   ],
   "source": [
   ]
  },
  {
   "cell_type": "code",
   "execution_count": 0,
   "metadata": {
    "collapsed": false
   },
   "outputs": [
   ],
   "source": [
   ]
  }
 ],
 "metadata": {
  "kernelspec": {
   "display_name": "Julia 1.6",
   "env": {
    "JULIA_DEPOT_PATH": "/home/user/.julia/:/ext/julia/depot/",
    "JULIA_PROJECT": "/home/user/.julia/environment/v1.6"
   },
   "language": "julia",
   "metadata": {
    "cocalc": {
     "description": "The Julia Programming Language",
     "priority": 10,
     "url": "https://julialang.org/"
    }
   },
   "name": "julia-1.6",
   "resource_dir": "/ext/jupyter/kernels/julia-1.6"
  },
  "language_info": {
   "file_extension": ".jl",
   "mimetype": "application/julia",
   "name": "julia",
   "version": "1.6.3"
  }
 },
 "nbformat": 4,
 "nbformat_minor": 4
}