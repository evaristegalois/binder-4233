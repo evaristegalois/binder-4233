{
 "cells": [
  {
   "cell_type": "markdown",
   "id": "084dbcf1",
   "metadata": {},
   "source": [
    "<h2>Term Test A Solutions</h2>"
   ]
  },
  {
   "cell_type": "markdown",
   "id": "b31953f3",
   "metadata": {},
   "source": [
    "<h3>Question 1</h3>"
   ]
  },
  {
   "cell_type": "markdown",
   "id": "44604ce4",
   "metadata": {},
   "source": [
    "City B is $16.0\\,km$ east and $12.0\\,km$ north of city A.\n",
    "City A is $8.00\\,km$ due south of a river that is $1.00\\,km$ wide. A\n",
    "road is to be built between A and B that crosses straight across the\n",
    "river. Where should the bridge be located so that the road between A\n",
    "and B is as short as possible? You do not need to answer this\n",
    "question: only provide a function of ONE variable whose critical point\n",
    "can be used to answer the question."
   ]
  },
  {
   "cell_type": "markdown",
   "id": "e64f81ff",
   "metadata": {},
   "source": [
    "<img src=\"./diagrams/rpqzzpbw.png\" width=\"50%\" height=\"50%\">"
   ]
  },
  {
   "cell_type": "markdown",
   "id": "8912a6f1",
   "metadata": {},
   "source": [
    "$$\n",
    "L(a)=x+y\n",
    "$$\n",
    "\\begin{align*}\n",
    "x^2&=64+a^2\\\\\n",
    "y^2&=9+(16-a)^2\n",
    "\\end{align*}\n",
    "$$\n",
    "L(a)=\\sqrt{64+a^2}+\\sqrt{9+(16-a)^2}\n",
    "$$\n"
   ]
  },
  {
   "cell_type": "code",
   "execution_count": 1,
   "id": "c7b5f209",
   "metadata": {},
   "outputs": [
    {
     "data": {
      "text/plain": [
       "L (generic function with 1 method)"
      ]
     },
     "execution_count": 1,
     "metadata": {},
     "output_type": "execute_result"
    }
   ],
   "source": [
    "L(a)=sqrt(64+a^2)+sqrt(9+(16-a)^2)"
   ]
  },
  {
   "cell_type": "code",
   "execution_count": 2,
   "id": "7d3352b2",
   "metadata": {},
   "outputs": [],
   "source": [
    "using SymPy"
   ]
  },
  {
   "cell_type": "code",
   "execution_count": 3,
   "id": "969f286d",
   "metadata": {},
   "outputs": [
    {
     "data": {
      "text/plain": [
       "(a,)"
      ]
     },
     "execution_count": 3,
     "metadata": {},
     "output_type": "execute_result"
    }
   ],
   "source": [
    "@vars a"
   ]
  },
  {
   "cell_type": "code",
   "execution_count": 5,
   "id": "dc296a67",
   "metadata": {},
   "outputs": [
    {
     "data": {
      "text/latex": [
       "$\\sqrt{a^{2} + 64} + \\sqrt{a^{2} - 32 a + 265}$"
      ],
      "text/plain": [
       "   _________      _________________\n",
       "  ╱  2           ╱  2              \n",
       "╲╱  a  + 64  + ╲╱  a  - 32⋅a + 265 "
      ]
     },
     "execution_count": 5,
     "metadata": {},
     "output_type": "execute_result"
    }
   ],
   "source": [
    "expand(L(a))"
   ]
  },
  {
   "cell_type": "code",
   "execution_count": 6,
   "id": "2c2c8a5a",
   "metadata": {},
   "outputs": [],
   "source": [
    "using Calculus"
   ]
  },
  {
   "cell_type": "code",
   "execution_count": 7,
   "id": "b78fa643",
   "metadata": {},
   "outputs": [
    {
     "data": {
      "text/plain": [
       ":((2 * 1 * a ^ (2 - 1)) * ((1 / 2) / sqrt(64 + a ^ 2)) + (2 * (0 - 1) * (16 - a) ^ (2 - 1)) * ((1 / 2) / sqrt(9 + (16 - a) ^ 2)))"
      ]
     },
     "execution_count": 7,
     "metadata": {},
     "output_type": "execute_result"
    }
   ],
   "source": [
    "differentiate(\"sqrt(64+a^2)+sqrt(9+(16-a)^2)\",:a)"
   ]
  },
  {
   "cell_type": "code",
   "execution_count": 8,
   "id": "069a720a",
   "metadata": {},
   "outputs": [
    {
     "data": {
      "text/plain": [
       "Lp (generic function with 1 method)"
      ]
     },
     "execution_count": 8,
     "metadata": {},
     "output_type": "execute_result"
    }
   ],
   "source": [
    "Lp(a)=((2 * 1 * a ^ (2 - 1)) * ((1 / 2) / sqrt(64 + a ^ 2)) + (2 * (0 - 1) * (16 - a) ^ (2 - 1)) * ((1 / 2) / sqrt(9 + (16 - a) ^ 2)))"
   ]
  },
  {
   "cell_type": "code",
   "execution_count": 9,
   "id": "64e025c1",
   "metadata": {},
   "outputs": [],
   "source": [
    "using Roots"
   ]
  },
  {
   "cell_type": "code",
   "execution_count": 11,
   "id": "5fb3fc9d",
   "metadata": {},
   "outputs": [
    {
     "data": {
      "text/plain": [
       "11.636363636363637"
      ]
     },
     "execution_count": 11,
     "metadata": {},
     "output_type": "execute_result"
    }
   ],
   "source": [
    "find_zero(Lp,7)"
   ]
  },
  {
   "cell_type": "markdown",
   "id": "35459cba",
   "metadata": {},
   "source": [
    "<h3>Question 2</h3>"
   ]
  },
  {
   "cell_type": "markdown",
   "id": "51844d97",
   "metadata": {},
   "source": [
    "Use the definition of hyperbolic functions to simplify as\n",
    "much as possible:\n",
    "\\begin{equation}\n",
    "  \\label{eq:nqtnrufy}\n",
    "  \\sinh{}2x-2\\sinh{}x\\cosh{}x\\notag\n",
    "\\end{equation}"
   ]
  },
  {
   "cell_type": "markdown",
   "id": "b3038d39",
   "metadata": {},
   "source": [
    "<img src=\"./diagrams/adxidwcd.png\" width=\"50%\" height=\"50%\">"
   ]
  },
  {
   "cell_type": "markdown",
   "id": "14a9e749",
   "metadata": {},
   "source": [
    "<h3>Question 3</h3>"
   ]
  },
  {
   "cell_type": "markdown",
   "id": "6db924f5",
   "metadata": {},
   "source": [
    "<font color=\"red\">3.5pts if temperatures swapped in second equation.</font>"
   ]
  },
  {
   "cell_type": "markdown",
   "id": "41bfeed5",
   "metadata": {},
   "source": [
    "A detective is called to the scene of a crime where a dead\n",
    "body has just been found. She arrives on the scene at 10:23 pm and\n",
    "begins her investigation. Immediately, the temperature of the body is\n",
    "taken and is found to be $80^{\\circ}F$. The detective checks the\n",
    "programmable thermostat and finds that the room has been kept at a\n",
    "constant $68^{\\circ}F$ for the past three days. After evidence from\n",
    "the crime scene is collected, the temperature of the body is taken\n",
    "once more and found to be $78.5^{\\circ}F$. This last temperature\n",
    "reading was taken exactly one hour after the first one. The next day\n",
    "the detective is asked by another investigator, ``What time did our\n",
    "victim die?'' Assuming that the victim's body temperature was normal\n",
    "($98.6^{\\circ}F$) prior to death, what is her answer to this question,\n",
    "if the detective correctly uses Newton's law of cooling?"
   ]
  },
  {
   "cell_type": "markdown",
   "id": "ddecea6d",
   "metadata": {},
   "source": [
    "\\begin{equation}\n",
    "  \\label{eq:iemahbec}\n",
    "  u(t)=T+(u_{0}-T)e^{kt}\n",
    "\\end{equation}"
   ]
  },
  {
   "cell_type": "markdown",
   "id": "d136446e",
   "metadata": {},
   "source": [
    "<img src=\"./diagrams/ndwkflho.png\" width=\"50%\" height=\"50%\">"
   ]
  },
  {
   "cell_type": "code",
   "execution_count": 32,
   "id": "35b75c04",
   "metadata": {},
   "outputs": [
    {
     "data": {
      "text/plain": [
       "-0.0022255232104087105"
      ]
     },
     "execution_count": 32,
     "metadata": {},
     "output_type": "execute_result"
    }
   ],
   "source": [
    "k=(1/60)*log((78.5-68)/(80-68))"
   ]
  },
  {
   "cell_type": "code",
   "execution_count": 33,
   "id": "1e5d5eb0",
   "metadata": {},
   "outputs": [
    {
     "data": {
      "text/plain": [
       "-420.6172080310157"
      ]
     },
     "execution_count": 33,
     "metadata": {},
     "output_type": "execute_result"
    }
   ],
   "source": [
    "t1=(1/k)*log((98.6-68)/(80-68))"
   ]
  },
  {
   "cell_type": "code",
   "execution_count": 39,
   "id": "05dcd71a",
   "metadata": {},
   "outputs": [
    {
     "data": {
      "text/plain": [
       "-0.13353139262452263"
      ]
     },
     "execution_count": 39,
     "metadata": {},
     "output_type": "execute_result"
    }
   ],
   "source": [
    "log(7/8)"
   ]
  },
  {
   "cell_type": "markdown",
   "id": "c422d1da",
   "metadata": {},
   "source": [
    "<h3>Question 4</h3>"
   ]
  },
  {
   "cell_type": "markdown",
   "id": "9f03700a",
   "metadata": {},
   "source": [
    "Find the equation of the tangent line for the following\n",
    "function at $a=\\frac{\\pi}{4}$:\n",
    "\\begin{equation}\n",
    "  \\label{eq:lmcokreq}\n",
    "  f(x)=\\frac{9}{5}\\cos\\left(3x+\\frac{7\\pi}{12}\\right)\\notag\n",
    "\\end{equation}"
   ]
  },
  {
   "cell_type": "markdown",
   "id": "5f0b183a",
   "metadata": {},
   "source": [
    "<img src=\"./diagrams/zsgnuegu.png\" width=\"50%\" height=\"50%\">"
   ]
  },
  {
   "cell_type": "code",
   "execution_count": 24,
   "id": "f2efcd29",
   "metadata": {},
   "outputs": [
    {
     "data": {
      "text/plain": [
       "4.676537180435968"
      ]
     },
     "execution_count": 24,
     "metadata": {},
     "output_type": "execute_result"
    }
   ],
   "source": [
    "27*sqrt(3)/10"
   ]
  },
  {
   "cell_type": "markdown",
   "id": "3386beba",
   "metadata": {},
   "source": [
    "<h3>Question 5</h3>"
   ]
  },
  {
   "cell_type": "markdown",
   "id": "c4240b1f",
   "metadata": {},
   "source": [
    "Find the derivative of the following functions:\n",
    "\\begin{equation}\n",
    "  \\label{eq:jcszfzsb}\n",
    "  g_{1}(x)=\\frac{\\sqrt{x^2-4}}{x+1}\\notag\n",
    "\\end{equation}\n",
    "\\begin{equation}\n",
    "  \\label{eq:vtlypaij}\n",
    "  g_{2}(x)=\\sqrt[3]{\\cos{}2x-\\sin{}x}\\notag\n",
    "\\end{equation}"
   ]
  },
  {
   "cell_type": "markdown",
   "id": "4c9fe331",
   "metadata": {},
   "source": [
    "<img src=\"./diagrams/gvicpgxd.png\" width=\"60%\" height=\"60%\">"
   ]
  },
  {
   "cell_type": "markdown",
   "id": "349427e9",
   "metadata": {},
   "source": [
    "<h3>Question 6</h3>"
   ]
  },
  {
   "cell_type": "markdown",
   "id": "7b189cab",
   "metadata": {},
   "source": [
    "<font color=\"red\">Rephrase to say on February 10, 2119.</font>"
   ]
  },
  {
   "cell_type": "markdown",
   "id": "0be9fc6a",
   "metadata": {},
   "source": [
    "<font color=\"red\">2pts if k mistaken for percentage growth.</font>"
   ]
  },
  {
   "cell_type": "markdown",
   "id": "c5502a89",
   "metadata": {},
   "source": [
    "On February 10, 2019, Damian Carrington wrote an article\n",
    "in <i>The Guardian</i> entitled &quot;Plummeting Insect Numbers Threaten\n",
    "Collapse of Nature.&quot; In the article, Carrington says that ``the total\n",
    "mass of insects is falling by a precipitous 2.5% a year, according to\n",
    "the best data available, suggesting they could vanish within a\n",
    "century.'' Based on the claim that the total mass of insects is\n",
    "decaying exponentially by 2.5% a year, at what percentage of the\n",
    "current 100% would the total mass be one hundred years from now?"
   ]
  },
  {
   "cell_type": "code",
   "execution_count": 12,
   "id": "c7e7d6e7",
   "metadata": {},
   "outputs": [
    {
     "data": {
      "text/plain": [
       "-0.025317807984289897"
      ]
     },
     "execution_count": 12,
     "metadata": {},
     "output_type": "execute_result"
    }
   ],
   "source": [
    "k=log(.975)"
   ]
  },
  {
   "cell_type": "code",
   "execution_count": 13,
   "id": "02075c7e",
   "metadata": {},
   "outputs": [
    {
     "data": {
      "text/plain": [
       "7.9517289861831415"
      ]
     },
     "execution_count": 13,
     "metadata": {},
     "output_type": "execute_result"
    }
   ],
   "source": [
    "100*exp(k*100)"
   ]
  },
  {
   "cell_type": "markdown",
   "id": "2e035d51",
   "metadata": {},
   "source": [
    "<h3>Question 7</h3>"
   ]
  },
  {
   "cell_type": "markdown",
   "id": "d1658b1b",
   "metadata": {},
   "source": [
    "<font color=\"red\">0.5pts for $h'(x)=\\sec^2x\\sec^2x$.</font>"
   ]
  },
  {
   "cell_type": "markdown",
   "id": "bbedb18e",
   "metadata": {},
   "source": [
    "Find $h'''(x)$ for $h(x)=\\tan^2x$. Note that\n",
    "$\\frac{d}{dx}\\tan{}x=\\sec^2x$ and $\\frac{d}{dx}\\sec{}x=\\tan{}x\\sec{}x$."
   ]
  },
  {
   "cell_type": "markdown",
   "id": "de5e2a09",
   "metadata": {},
   "source": [
    "<img src=\"./diagrams/dzwvnkcb.png\" width=\"60%\" height=\"60%\">"
   ]
  },
  {
   "cell_type": "markdown",
   "id": "d0be5f77",
   "metadata": {},
   "source": [
    "In the above, the last line is incorrect. It should be\n",
    "$$\n",
    "16\\tan{}x\\sec^4x+8\\tan^3x\\sec^2x\n",
    "$$\n",
    "See `dzwvnkcb` in desmos."
   ]
  },
  {
   "cell_type": "markdown",
   "id": "90065ba9",
   "metadata": {},
   "source": [
    "Jim Quinto's correct solution:\n",
    "$$\n",
    "8\\sec^2x\\tan{}x\\left(3\\tan^2x+2\\right)\n",
    "$$"
   ]
  },
  {
   "cell_type": "code",
   "execution_count": 15,
   "id": "cd972ae7",
   "metadata": {},
   "outputs": [],
   "source": [
    "using Symbolics"
   ]
  },
  {
   "cell_type": "code",
   "execution_count": 16,
   "id": "c4f57ce5",
   "metadata": {},
   "outputs": [
    {
     "data": {
      "text/latex": [
       "\\begin{equation}\n",
       "\\left[\n",
       "\\begin{array}{c}\n",
       "x \\\\\n",
       "y \\\\\n",
       "\\end{array}\n",
       "\\right]\n",
       "\\end{equation}\n"
      ],
      "text/plain": [
       "2-element Vector{Num}:\n",
       " x\n",
       " y"
      ]
     },
     "execution_count": 16,
     "metadata": {},
     "output_type": "execute_result"
    }
   ],
   "source": [
    "@variables x y"
   ]
  },
  {
   "cell_type": "code",
   "execution_count": 18,
   "id": "7956c124",
   "metadata": {},
   "outputs": [
    {
     "data": {
      "text/plain": [
       "(::Symbolics.Differential) (generic function with 2 methods)"
      ]
     },
     "execution_count": 18,
     "metadata": {},
     "output_type": "execute_result"
    }
   ],
   "source": [
    "D=Symbolics.Differential(x)"
   ]
  },
  {
   "cell_type": "code",
   "execution_count": 20,
   "id": "bf11733b",
   "metadata": {},
   "outputs": [
    {
     "data": {
      "text/latex": [
       "\\begin{equation}\n",
       "\\tan^{2}\\left( x \\right)\n",
       "\\end{equation}\n"
      ],
      "text/plain": [
       "tan(x)^2"
      ]
     },
     "execution_count": 20,
     "metadata": {},
     "output_type": "execute_result"
    }
   ],
   "source": [
    "y=(tan(x))^2"
   ]
  },
  {
   "cell_type": "code",
   "execution_count": 23,
   "id": "554dbd10",
   "metadata": {},
   "outputs": [
    {
     "data": {
      "text/latex": [
       "\\begin{equation}\n",
       "8 \\tan^{3}\\left( x \\right) \\left( 1 + \\tan^{2}\\left( x \\right) \\right) + 4 \\left( 1 + \\tan^{2}\\left( x \\right) \\right)^{2} \\tan\\left( x \\right) + 2 \\left( 1 + \\tan^{2}\\left( x \\right) \\right) \\left( 2 + 2 \\tan^{2}\\left( x \\right) \\right) \\tan\\left( x \\right) + 2 \\left( 1 + \\tan^{2}\\left( x \\right) \\right) \\left( 4 + 4 \\tan^{2}\\left( x \\right) \\right) \\tan\\left( x \\right)\n",
       "\\end{equation}\n"
      ],
      "text/plain": [
       "8(1 + tan(x)^2)*(tan(x)^3) + 4((1 + tan(x)^2)^2)*tan(x) + 2(1 + tan(x)^2)*(2 + 2(tan(x)^2))*tan(x) + 2(1 + tan(x)^2)*(4 + 4(tan(x)^2))*tan(x)"
      ]
     },
     "execution_count": 23,
     "metadata": {},
     "output_type": "execute_result"
    }
   ],
   "source": [
    "Symbolics.expand_derivatives(D(D(D(y))))"
   ]
  },
  {
   "cell_type": "markdown",
   "id": "7921fbae",
   "metadata": {},
   "source": [
    "<h3>Question 8</h3>"
   ]
  },
  {
   "cell_type": "markdown",
   "id": "7073c63f",
   "metadata": {},
   "source": [
    "<font color=\"red\">Give 2.5pts for $x=19.1$ (using wrong function).</font>"
   ]
  },
  {
   "cell_type": "markdown",
   "id": "555f88d8",
   "metadata": {},
   "source": [
    "To calculate a planet's space coordinates, we have to solve equations like \n",
    "\\begin{equation}\n",
    "\\label{eq:aathieyi}\n",
    "x=1+0.4\\sin{}x\\notag\n",
    "\\end{equation}\n",
    "Graphing the function $f(x)=x-1-0.4\\sin{}x$ suggests that the function has a root near $x=1.4$. Use one application of Newton's method to improve this estimate. That is, start with $x_{0}=1.4$ and find $x_{1}$."
   ]
  },
  {
   "cell_type": "code",
   "execution_count": 30,
   "id": "37881c26",
   "metadata": {},
   "outputs": [
    {
     "data": {
      "text/plain": [
       "1.3937553369828222"
      ]
     },
     "execution_count": 30,
     "metadata": {},
     "output_type": "execute_result"
    }
   ],
   "source": [
    "1.4-((1.4-1-0.4*sin(1.4))/(1-0.4*cos(1.4)))"
   ]
  },
  {
   "cell_type": "markdown",
   "id": "f25170d4",
   "metadata": {},
   "source": [
    "<h3>Question 9</h3>"
   ]
  },
  {
   "cell_type": "markdown",
   "id": "17ae4a12",
   "metadata": {},
   "source": [
    "<font color=\"red\">If second inflection point missing, give 4pts. If both inflection points missing, give 3.5pts</font>"
   ]
  },
  {
   "cell_type": "markdown",
   "id": "8cd6b439",
   "metadata": {},
   "source": [
    "Find domain, critical points, and inflection points of\n",
    "$f(x)=\\ln\\left(2+x^{3}\\right)$. Indicate if critical points are\n",
    "maxima, minima, or neither."
   ]
  },
  {
   "cell_type": "markdown",
   "id": "2ee84c93",
   "metadata": {},
   "source": [
    "<img src=\"./diagrams/ukixuqmi.png\" width=\"60%\" height=\"60%\">"
   ]
  },
  {
   "cell_type": "markdown",
   "id": "1f2cc769",
   "metadata": {},
   "source": [
    "For inflection point, it should be $x=\\sqrt[3]{4}$, not $x=\\sqrt[3]{2}$. There are two errors. Go from \n",
    "$$\n",
    "x(-3x^3+12)=0\n",
    "$$"
   ]
  },
  {
   "cell_type": "code",
   "execution_count": 28,
   "id": "9b9f776d",
   "metadata": {},
   "outputs": [
    {
     "data": {
      "text/plain": [
       "1.2599210498948732"
      ]
     },
     "execution_count": 28,
     "metadata": {},
     "output_type": "execute_result"
    }
   ],
   "source": [
    "2^(1/3)"
   ]
  },
  {
   "cell_type": "code",
   "execution_count": 29,
   "id": "5d0b761a",
   "metadata": {},
   "outputs": [
    {
     "data": {
      "text/plain": [
       "1.5874010519681994"
      ]
     },
     "execution_count": 29,
     "metadata": {},
     "output_type": "execute_result"
    }
   ],
   "source": [
    "4^(1/3)"
   ]
  }
 ],
 "metadata": {
  "kernelspec": {
   "display_name": "Julia 1.7.2",
   "language": "julia",
   "name": "julia-1.7"
  },
  "language_info": {
   "file_extension": ".jl",
   "mimetype": "application/julia",
   "name": "julia",
   "version": "1.7.2"
  }
 },
 "nbformat": 4,
 "nbformat_minor": 5
}
