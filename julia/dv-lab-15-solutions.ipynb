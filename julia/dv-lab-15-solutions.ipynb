{
 "cells": [
  {
   "cell_type": "markdown",
   "metadata": {},
   "source": [
    "<h1>\n",
    "    Lab Sheet 15 Solutions\n",
    "</h1>"
   ]
  },
  {
   "cell_type": "markdown",
   "metadata": {},
   "source": [
    "<h3>\n",
    "    Lab Sheet 15 Problem 1\n",
    "</h3>"
   ]
  },
  {
   "cell_type": "markdown",
   "metadata": {
    "jupyter": {
     "outputs_hidden": false
    }
   },
   "source": [
    "Evaluate the triple integral\n",
    "  $\\displaystyle \\iiint_E z \\, dV$, where $E$ is bounded by the\n",
    "  cylinder $y^2+z^2=25$ and the planes $x=0,y=5x,$ and $z=0$ in the\n",
    "  first octant."
   ]
  },
  {
   "cell_type": "markdown",
   "metadata": {
    "jupyter": {
     "outputs_hidden": false
    }
   },
   "source": [
    "It's best to integrate with respect to a circular region $R$ in the $yz$-plane given in polar coordinates delimited on the bottom and on the top by two functions\n",
    "$$\n",
    "\\begin{align}\n",
    "x(y,z)&=0\\\\\n",
    "x(y,z)&=\\frac{1}{5}y\n",
    "\\end{align}\n",
    "$$\n",
    "So\n",
    "$$\n",
    "\\iiint_E z \\, dV=\\iint_R\\int_{0}^{\\frac{1}{5}y}z\\,dx\\,dA=\\frac{1}{5}\\int_{0}^{\\frac{\\pi}{2}}\\int_{0}^{5}\\left(r\\cos\\theta\\cdot{}r\\sin\\theta\\right)\\cdot{}r\\,dr\\,d\\theta=\\frac{625}{20}\\int_{0}^{\\frac{\\pi}{2}}\\cos\\theta\\sin\\theta\\,d\\theta=\\frac{125}{8}\n",
    "$$\n",
    "We use $\\frac{\\pi}{2}$ as the upper limit because we only want the volume in the first octant."
   ]
  },
  {
   "cell_type": "markdown",
   "metadata": {},
   "source": [
    "<h3>\n",
    "    Lab Sheet 15 Problem 2\n",
    "</h3>"
   ]
  },
  {
   "cell_type": "markdown",
   "metadata": {},
   "source": [
    "A cylindrical drill with radius 4 is used to bore a hole\n",
    "through the center of a sphere of radius 5. Find the volume of the\n",
    "ring shaped solid that remains."
   ]
  },
  {
   "cell_type": "markdown",
   "metadata": {},
   "source": [
    "Because these functions are circular of nature, it is advantageous to use polar coordinates. The formula is\n",
    "$$\n",
    "\\iint_Rf(x,y)\\,dA=\\int_{\\alpha}^{\\beta}\\int_{a}^{b}f(r\\cos\\theta,r\\sin\\theta)r\\,dr\\,d\\theta\n",
    "$$\n",
    "In this case, half of the volume that gets drilled out is\n",
    "$$\n",
    "\\int_{0}^{2\\pi}\\int_{0}^{4}\\sqrt{25-r^2\\cos^2\\theta-r^2\\sin^2\\theta}\\cdot{}r\\,dr\\,d\\theta=\\int_{0}^{2\\pi}\\int_{0}^{4}\\sqrt{25-r^2}\\cdot{}r\\,dr\\,d\\theta=\\frac{196\\pi}{3}\n",
    "$$\n",
    "using a substitution $u=25-r^2$ along the way. The volume is then\n",
    "$$\n",
    "\\frac{4}{3}125\\pi-\\frac{196}{3}2\\pi=36\\pi\n",
    "$$"
   ]
  },
  {
   "cell_type": "markdown",
   "metadata": {},
   "source": [
    "<h3>\n",
    "    Lab Sheet 15 Problem 3\n",
    "</h3>"
   ]
  },
  {
   "cell_type": "markdown",
   "metadata": {},
   "source": [
    "John wants to get to the bus stop, the bus stop is across a grassy\n",
    "park, 2000 feet west and 600 feet north of his starting position. John\n",
    "can walk west along the edge of the park on the sidewalk at a speed of\n",
    "6 ft/sec and 4 ft/sec through the grass. How far should he walk on the\n",
    "sidewalk before veering off onto the grass if he wishes to get to the\n",
    "bus stop as quickly as possible?"
   ]
  },
  {
   "cell_type": "markdown",
   "metadata": {},
   "source": [
    "$$f(x,y)=\\frac{x}{6}+\\frac{y}{4}$$"
   ]
  },
  {
   "cell_type": "markdown",
   "metadata": {},
   "source": [
    "$$g(x,y)=y^{2}-600^2-(2000-x)^{2}$$"
   ]
  },
  {
   "cell_type": "code",
   "execution_count": 1,
   "metadata": {
    "collapsed": false,
    "jupyter": {
     "outputs_hidden": false
    }
   },
   "outputs": [],
   "source": [
    "y=var('y');w=var('w');l=var('l')"
   ]
  },
  {
   "cell_type": "code",
   "execution_count": 2,
   "metadata": {
    "collapsed": false,
    "jupyter": {
     "outputs_hidden": false
    }
   },
   "outputs": [],
   "source": [
    "g(x,y)=y^2-600^2-(2000-x)^2"
   ]
  },
  {
   "cell_type": "code",
   "execution_count": 3,
   "metadata": {
    "collapsed": false,
    "jupyter": {
     "outputs_hidden": false
    }
   },
   "outputs": [
    {
     "data": {
      "text/plain": [
       "(x, y) |--> -x^2 + y^2 + 4000*x - 4360000"
      ]
     },
     "execution_count": 3,
     "metadata": {},
     "output_type": "execute_result"
    }
   ],
   "source": [
    "g.expand()"
   ]
  },
  {
   "cell_type": "markdown",
   "metadata": {},
   "source": [
    "$$L(x,y,\\lambda)=\\frac{x}{6}+\\frac{y}{4}-\\lambda(y^{2}-x^{2}+4000x-4360000)$$"
   ]
  },
  {
   "cell_type": "markdown",
   "metadata": {},
   "source": [
    "$$\\frac{\\partial{}L}{\\partial{}x}=\\frac{1}{6}+2\\lambda{}x-4000\\lambda=0$$"
   ]
  },
  {
   "cell_type": "markdown",
   "metadata": {},
   "source": [
    "$$\\frac{\\partial{}L}{\\partial{}y}=\\frac{1}{4}-2\\lambda{}y=0$$"
   ]
  },
  {
   "cell_type": "markdown",
   "metadata": {},
   "source": [
    "$$\\frac{\\partial{}L}{\\partial{}\\lambda}=y^{2}-x^{2}+4000x-4360000=0$$"
   ]
  },
  {
   "cell_type": "code",
   "execution_count": 4,
   "metadata": {
    "collapsed": false,
    "jupyter": {
     "outputs_hidden": false
    }
   },
   "outputs": [],
   "source": [
    "A=solve([1/6+2*l*x-4000*l==0,1/4-2*l*y==0,y^2-x^2+4000*x-4360000],x,y,l,solution_dict=True)"
   ]
  },
  {
   "cell_type": "code",
   "execution_count": 5,
   "metadata": {
    "collapsed": false,
    "jupyter": {
     "outputs_hidden": false
    }
   },
   "outputs": [
    {
     "data": {
      "text/plain": [
       "[{x: -240*sqrt(5) + 2000, y: 360*sqrt(5), l: 1/14400*sqrt(5)},\n",
       " {x: 240*sqrt(5) + 2000, y: -360*sqrt(5), l: -1/14400*sqrt(5)}]"
      ]
     },
     "execution_count": 5,
     "metadata": {},
     "output_type": "execute_result"
    }
   ],
   "source": [
    "A"
   ]
  },
  {
   "cell_type": "code",
   "execution_count": 6,
   "metadata": {
    "collapsed": false,
    "jupyter": {
     "outputs_hidden": false
    }
   },
   "outputs": [
    {
     "data": {
      "text/plain": [
       "1463.34368540005"
      ]
     },
     "execution_count": 6,
     "metadata": {},
     "output_type": "execute_result"
    }
   ],
   "source": [
    "n(A[0][x])"
   ]
  },
  {
   "cell_type": "code",
   "execution_count": 7,
   "metadata": {
    "collapsed": false,
    "jupyter": {
     "outputs_hidden": false
    }
   },
   "outputs": [
    {
     "data": {
      "text/plain": [
       "804.984471899924"
      ]
     },
     "execution_count": 7,
     "metadata": {},
     "output_type": "execute_result"
    }
   ],
   "source": [
    "n(A[0][y])"
   ]
  },
  {
   "cell_type": "markdown",
   "metadata": {},
   "source": [
    "John should walk $1463$ feet on the sidewalk and then walk across the grass."
   ]
  },
  {
   "cell_type": "markdown",
   "metadata": {},
   "source": [
    "<h3>\n",
    "    Lab Sheet 15 Problem 4\n",
    "</h3>"
   ]
  },
  {
   "cell_type": "markdown",
   "metadata": {},
   "source": [
    "Given the function $f(x,y,z)=\\sin(x)\\cos(y)e^{z}$, what are the corresponding\n",
    "partial derivatives $f_{x},f_{y}$ and $f_{z}$?"
   ]
  },
  {
   "cell_type": "markdown",
   "metadata": {},
   "source": [
    "$$f_{x}=\\cos(x)\\cos(y)e^{z}\\qquad{}f_{y}=-\\sin(x)\\sin(y)e^{z}\\qquad{}f_{z}=\\sin(x)\\cos(y)e^{z}$$"
   ]
  },
  {
   "cell_type": "markdown",
   "metadata": {},
   "source": [
    "For the same function $f(x,y,z)$, what is the corresponding Laplacian?"
   ]
  },
  {
   "cell_type": "markdown",
   "metadata": {},
   "source": [
    "$$\\Delta{}f=\\nabla\\cdot\\nabla{}f=\\sum_{i=1}^{n}\\frac{\\partial^{2}f}{\\partial{}x^{2}_{i}}=-\\sin(x)\\cos(y)e^{z}$$"
   ]
  },
  {
   "cell_type": "markdown",
   "metadata": {},
   "source": [
    "<h3>\n",
    "    Lab Sheet 15 Problem 5\n",
    "</h3>"
   ]
  },
  {
   "cell_type": "markdown",
   "metadata": {},
   "source": [
    "Find the maximum and minimum values of\n",
    "$$  f(x,y,z)=3x^{2}+y\\notag\n",
    "$$\n",
    "subject to the constraints $4x-3y=9$ and $x^{2}+z^{2}=9$."
   ]
  },
  {
   "cell_type": "markdown",
   "metadata": {},
   "source": [
    "<img src=\"./diagrams/gc-lab-18-partial-solutions-07-1of6.png\" width=\"120%\" height=\"120%\">"
   ]
  },
  {
   "cell_type": "markdown",
   "metadata": {},
   "source": [
    "<img src=\"./diagrams/gc-lab-18-partial-solutions-07-2of6.png\" width=\"75%\" height=\"75%\">"
   ]
  },
  {
   "cell_type": "markdown",
   "metadata": {},
   "source": [
    "<img src=\"./diagrams/gc-lab-18-partial-solutions-07-3of6.png\" width=\"120%\" height=\"120%\">"
   ]
  },
  {
   "cell_type": "markdown",
   "metadata": {},
   "source": [
    "<img src=\"./diagrams/gc-lab-18-partial-solutions-07-4of6.png\" width=\"120%\" height=\"120%\">"
   ]
  },
  {
   "cell_type": "markdown",
   "metadata": {},
   "source": [
    "<img src=\"./diagrams/gc-lab-18-partial-solutions-07-5of6.png\" width=\"120%\" height=\"120%\">"
   ]
  },
  {
   "cell_type": "markdown",
   "metadata": {},
   "source": [
    "<img src=\"./diagrams/gc-lab-18-partial-solutions-07-6of6.png\" width=\"120%\" height=\"120%\">"
   ]
  },
  {
   "cell_type": "markdown",
   "metadata": {},
   "source": [
    "<h3>\n",
    "    Lab Sheet 15 Problem 6\n",
    "</h3>"
   ]
  },
  {
   "cell_type": "markdown",
   "metadata": {},
   "source": [
    "Consider an open box with no top. The box has volume $32$\n",
    "(cubic units) and dimensions $x,y,z$. Using Lagrange multipliers, find\n",
    "the dimensions of the box with minimal surface area."
   ]
  },
  {
   "cell_type": "markdown",
   "metadata": {},
   "source": [
    "<img src=\"./diagrams/openbox.png\" width=\"20%\" height=\"20%\">"
   ]
  },
  {
   "cell_type": "markdown",
   "metadata": {},
   "source": [
    "<img src=\"./diagrams/gc-lab-18-partial-solutions-08-1of3.png\" width=\"60%\" height=\"60%\">"
   ]
  },
  {
   "cell_type": "markdown",
   "metadata": {},
   "source": [
    "<img src=\"./diagrams/gc-lab-18-partial-solutions-08-2of3.png\" width=\"60%\" height=\"60%\">"
   ]
  },
  {
   "cell_type": "markdown",
   "metadata": {},
   "source": [
    "<img src=\"./diagrams/gc-lab-18-partial-solutions-08-3of3.png\" width=\"60%\" height=\"60%\">"
   ]
  },
  {
   "cell_type": "markdown",
   "metadata": {},
   "source": [
    "<h3>\n",
    "    Lab Sheet 15 Problem 7\n",
    "</h3>"
   ]
  },
  {
   "cell_type": "markdown",
   "metadata": {},
   "source": [
    "Calculate the integral of $f(x,y)=7x$ over the region $D$\n",
    "bounded above by $y=x(2-x)$ and below by $x=y(2-y)$."
   ]
  },
  {
   "cell_type": "markdown",
   "metadata": {},
   "source": [
    "<img src=\"./diagrams/mzdugkzv.png\" width=\"40%\" height=\"40%\">"
   ]
  },
  {
   "cell_type": "markdown",
   "metadata": {},
   "source": [
    "$$\n",
    "\\iint_D7x\\,dA=\\int_{0}^{1}\\int_{1-\\sqrt{1-x}}^{x(2-x)}7x\\,dy\\,dx=\\frac{77}{60}\n",
    "$$\n",
    "Solving this, the only challenging part is\n",
    "$$\n",
    "\\int{}x\\sqrt{1-x}\\,dx\n",
    "$$\n",
    "which you can solve by substituting $u^2=x$."
   ]
  },
  {
   "cell_type": "markdown",
   "metadata": {},
   "source": [
    "<h3>\n",
    "    Lab Sheet 15 Problem 8\n",
    "</h3>"
   ]
  },
  {
   "cell_type": "markdown",
   "metadata": {
    "jupyter": {
     "outputs_hidden": false
    }
   },
   "source": [
    "Find the centroid $(\\bar x,\\bar y)$\n",
    "of the region that is contained in the right-half plane $\\lbrace (x,y) \\; \\vert \\; x\\geq 0 \\rbrace$, and is bounded by the curves:\n",
    "\\begin{equation}\n",
    "  \\label{eq:ofpxpmcx}\n",
    "  y =  7 x^2 + 2 x, \\ \\ \\ y =  0 , \\ \\ \\ x =  0, \\ \\ \\ \\mbox{and} \\ \\ \\ x =  2 .\\notag\n",
    "\\end{equation}"
   ]
  },
  {
   "cell_type": "markdown",
   "metadata": {},
   "source": [
    "<img src=\"./diagrams/ofpxpmcx.png\" width=\"30%\" height=\"30%\">"
   ]
  },
  {
   "cell_type": "markdown",
   "metadata": {},
   "source": [
    "  The formulas for centroid are\n",
    "  \\begin{equation}\n",
    "    \\label{eq:dxernbxu}\n",
    "    m=\\iint_{R}\\delta(x,y)\\,dA\\notag\n",
    "  \\end{equation}\n",
    "  for the mass and\n",
    "  \\begin{equation}\n",
    "    \\label{eq:pqyuevmi}\n",
    "    \\left(\\bar{x},\\bar{y}\\right)=\\left(\\frac{1}{m}\\iint_Rx\\delta(x,y)\\,dA,\\frac{1}{m}\\iint_Ry\\delta(x,y)\\,dA\\right)\\notag\n",
    "  \\end{equation}\n",
    "  for the coordinates of the centroid. $\\delta(x,y)$ is the density\n",
    "  and can be assumed to be 1 if you are just trying to find the centroid.\n"
   ]
  },
  {
   "cell_type": "markdown",
   "metadata": {},
   "source": [
    "<img src=\"./diagrams/ofpxpmcx-krita.png\" width=\"60%\" height=\"60%\">"
   ]
  },
  {
   "cell_type": "markdown",
   "metadata": {},
   "source": [
    "<h3>\n",
    "    Lab Sheet 15 Problem 9\n",
    "</h3>"
   ]
  },
  {
   "cell_type": "markdown",
   "metadata": {
    "jupyter": {
     "outputs_hidden": false
    }
   },
   "source": [
    "Find the volume of the solid in $\\mathbb{R}^{3}$ bounded by $y=x^2$, $x=y^2$, $z=x+y+24$, and $z=0$. "
   ]
  },
  {
   "cell_type": "markdown",
   "metadata": {},
   "source": [
    "<img src=\"./diagrams/iwmxvqjh.png\" width=\"60%\" height=\"60%\">"
   ]
  },
  {
   "cell_type": "markdown",
   "metadata": {},
   "source": [
    "<h3>\n",
    "    Lab Sheet 15 Problem 10\n",
    "</h3>"
   ]
  },
  {
   "cell_type": "markdown",
   "metadata": {
    "jupyter": {
     "outputs_hidden": false
    }
   },
   "source": [
    "Find the mass of the solid bounded by the $xy$-plane,\n",
    "  $xz$-plane, $yz$-plane, and the plane $(x/3)+(y/2)+(z/6) = 1$, if\n",
    "  the density of the solid is given by $\\delta (x,y,z)=x + 2 y$."
   ]
  },
  {
   "cell_type": "markdown",
   "metadata": {},
   "source": [
    "<img src=\"./diagrams/ljracoez.png\" width=\"60%\" height=\"60%\">"
   ]
  },
  {
   "cell_type": "code",
   "execution_count": 14,
   "metadata": {},
   "outputs": [],
   "source": [
    "using QuadGK"
   ]
  },
  {
   "cell_type": "code",
   "execution_count": 17,
   "metadata": {},
   "outputs": [
    {
     "data": {
      "text/plain": [
       "(10.5, 0.0)"
      ]
     },
     "execution_count": 17,
     "metadata": {},
     "output_type": "execute_result"
    }
   ],
   "source": [
    "integral,err=quadgk(x->+(*(-2,^(x,2),-(2,*(/(2,3),x))),*(-2,^(-(2,*(/(2,3),x)),3)),*(/(-7,2),x,^(-(2,*(/(2,3),x)),2)),*(6,x,-(2,*(/(2,3),x))),*(6,^(-(2,*(/(2,3),x)),2))),0,3,rtol=1e-8)"
   ]
  }
 ],
 "metadata": {
  "kernelspec": {
   "display_name": "Julia 1.7.2",
   "language": "julia",
   "name": "julia-1.7"
  },
  "language_info": {
   "file_extension": ".jl",
   "mimetype": "application/julia",
   "name": "julia",
   "version": "1.7.2"
  }
 },
 "nbformat": 4,
 "nbformat_minor": 4
}
