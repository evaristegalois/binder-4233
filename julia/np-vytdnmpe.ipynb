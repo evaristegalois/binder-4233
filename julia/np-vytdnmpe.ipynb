{
 "cells": [
  {
   "cell_type": "markdown",
   "id": "8aa57e62",
   "metadata": {},
   "source": [
    "<h2>Heat Exchange System of Diffeqs Undetermined Coefficients</h2>"
   ]
  },
  {
   "cell_type": "markdown",
   "id": "c5ec6950",
   "metadata": {},
   "source": [
    "<font color=\"green\">Schmierbuch 3640</font>"
   ]
  },
  {
   "cell_type": "markdown",
   "id": "b8dd3303",
   "metadata": {},
   "source": [
    "The accompanying illustration is a\n",
    "cutaway view of a two-room cabin. The\n",
    "temperatures in the Outer and Inner\n",
    "room, respectively, at time $t$ are given\n",
    "by $A(t)$ and $B(t)$. A space heater in the\n",
    "Inner Room gives off sufficient heat to\n",
    "raise the temperature of a fully insulated\n",
    "room by $H=3.0^{\\circ}C$ per hour. Both\n",
    "rooms, however, continually lose heat to\n",
    "the outside and to each other. Moreover,\n",
    "the outside temperature $E$ (measured in\n",
    "degrees Celsius) varies sinusoidally with\n",
    "the time of day according to the function:\n",
    "$$\n",
    "E=4+9\\cos\\frac{\\pi{}t}{12}t\n",
    "$$\n",
    "where $t$ is measured in hours.\n",
    "The temperature in each room can be\n",
    "modeled, using Newton’s Law of\n",
    "Cooling, as a system of two coupled\n",
    "differential equations:\n",
    "$$\n",
    "\\begin{align*}\n",
    "\\frac{dA}{dt}&=k_3(E-A)+k_2(B-A)\\\\\n",
    "\\frac{dB}{dt}&=k_1(E-B)-k_2(B-A)+H\n",
    "\\end{align*}\n",
    "$$\n",
    "where $k_1=0.5$ parameterizes the rate at which room B loses heat to the outside (primarily\n",
    "through the window), $k_2=0.7$ parameterizes the rate at which heat is transferred between\n",
    "the rooms (primarily via the connecting door), and $k_3=0.4$ parameterizes the rate at which\n",
    "room A loses heat to the outside (primarily through the window and the outside door).\n",
    "\n",
    "* Determine the complementary solution for the given system of equations.\n",
    "* Determine the particular solution for the given system of equations using the method of\n",
    "undetermined coefficients.\n",
    "* Assuming that the Outer Room has an initial temperature of $A(0)=3^{\\circ}C$ and that the initial\n",
    "temperature in the Inner Room is $B(0)=4^{\\circ}C$, find the temperatures of each room as functions\n",
    "of time. Plot the temperature of both rooms and the temperature of the environment together\n",
    "on a single plot showing the temperature variations over the first 48 hours."
   ]
  },
  {
   "cell_type": "markdown",
   "id": "ab997b78",
   "metadata": {},
   "source": [
    "For Term Test B:\n",
    "* Determine the complementary solution for the given system of equations.\n",
    "* Construct a trial solution in order to find a particular solution. You do not need to find this particular solution, just the trial solution with undetermined coefficients."
   ]
  },
  {
   "cell_type": "code",
   "execution_count": 30,
   "id": "8819e9c9",
   "metadata": {},
   "outputs": [
    {
     "data": {
      "text/plain": [
       "2×2 Matrix{Float64}:\n",
       " -1.1   0.7\n",
       "  0.7  -1.2"
      ]
     },
     "execution_count": 30,
     "metadata": {},
     "output_type": "execute_result"
    }
   ],
   "source": [
    "A1=[-1.1 0.7\n",
    "0.7 -1.2]"
   ]
  },
  {
   "cell_type": "code",
   "execution_count": 31,
   "id": "1ec53a59",
   "metadata": {},
   "outputs": [],
   "source": [
    "using LinearAlgebra"
   ]
  },
  {
   "cell_type": "code",
   "execution_count": 33,
   "id": "0a270140",
   "metadata": {},
   "outputs": [
    {
     "data": {
      "text/plain": [
       "2-element Vector{Float64}:\n",
       " -1.8517834423809099\n",
       " -0.44821655761909"
      ]
     },
     "execution_count": 33,
     "metadata": {},
     "output_type": "execute_result"
    }
   ],
   "source": [
    "eva=eigvals(A1)"
   ]
  },
  {
   "cell_type": "code",
   "execution_count": 34,
   "id": "b00df000",
   "metadata": {},
   "outputs": [
    {
     "data": {
      "text/plain": [
       "2×2 Matrix{Float64}:\n",
       " -0.681452  -0.731863\n",
       "  0.731863  -0.681452"
      ]
     },
     "execution_count": 34,
     "metadata": {},
     "output_type": "execute_result"
    }
   ],
   "source": [
    "eve=eigvecs(A1)"
   ]
  },
  {
   "cell_type": "code",
   "execution_count": 8,
   "id": "7567a8c4",
   "metadata": {},
   "outputs": [
    {
     "data": {
      "text/plain": [
       "0.2617993877991494"
      ]
     },
     "execution_count": 8,
     "metadata": {},
     "output_type": "execute_result"
    }
   ],
   "source": [
    "aa=pi/12"
   ]
  },
  {
   "cell_type": "code",
   "execution_count": 35,
   "id": "a8018d84",
   "metadata": {},
   "outputs": [
    {
     "data": {
      "text/plain": [
       "6×6 Matrix{Float64}:\n",
       "  0.0   0.0   0.261799   0.0        1.1       -0.7\n",
       "  0.0   0.0   1.1       -0.7       -0.261799   0.0\n",
       "  1.1  -0.7   0.0        0.0        0.0        0.0\n",
       "  0.0   0.0   0.0        0.261799  -0.7        1.2\n",
       "  0.0   0.0  -0.7        1.2        0.0       -0.261799\n",
       " -0.7   1.2   0.0        0.0        0.0        0.0"
      ]
     },
     "execution_count": 35,
     "metadata": {},
     "output_type": "execute_result"
    }
   ],
   "source": [
    "M1=[0 0 aa 0 1.1 -0.7\n",
    "0 0 1.1 -0.7 -aa 0\n",
    "1.1 -0.7 0 0 0 0\n",
    "0 0 0 aa -0.7 1.2\n",
    "0 0 -0.7 1.2 0 -aa\n",
    "-0.7 1.2 0 0 0 0]"
   ]
  },
  {
   "cell_type": "code",
   "execution_count": 36,
   "id": "1d26d4e6",
   "metadata": {},
   "outputs": [
    {
     "data": {
      "text/plain": [
       "6-element Vector{Float64}:\n",
       " 3.6\n",
       " 0.0\n",
       " 1.6\n",
       " 4.5\n",
       " 0.0\n",
       " 5.0"
      ]
     },
     "execution_count": 36,
     "metadata": {},
     "output_type": "execute_result"
    }
   ],
   "source": [
    "v1=[3.6;0;1.6;4.5;0;5]"
   ]
  },
  {
   "cell_type": "code",
   "execution_count": 37,
   "id": "9100bb32",
   "metadata": {},
   "outputs": [
    {
     "data": {
      "text/plain": [
       "6-element Vector{Float64}:\n",
       " 6.53012048192771\n",
       " 7.975903614457832\n",
       " 4.011396165515925\n",
       " 3.821013940359336\n",
       " 6.63800644617714\n",
       " 6.788554501638257"
      ]
     },
     "execution_count": 37,
     "metadata": {},
     "output_type": "execute_result"
    }
   ],
   "source": [
    "Cf=inv(M1)*v1"
   ]
  },
  {
   "cell_type": "markdown",
   "id": "d196c43a",
   "metadata": {},
   "source": [
    "The solution is\n",
    "$$\n",
    "x(t)=\\left[\\begin{array}{c}6.530\\\\7.976\\end{array}\\right]+\\left[\\begin{array}{c}4.011\\\\3.821\\end{array}\\right]\\sin\\frac{\\pi{}t}{12}+\\left[\\begin{array}{c}6.638\\\\6.789\\end{array}\\right]\\cos\\frac{\\pi{}t}{12}+\n",
    "$$\n",
    "$$\n",
    "c_1\\cdot\\left[\\begin{array}{c}-0.681\\\\0.732\\end{array}\\right]e^{-1.852t}+\n",
    "c_2\\cdot\\left[\\begin{array}{c}-0.732\\\\-0.681\\end{array}\\right]e^{-0.448t}\n",
    "$$"
   ]
  },
  {
   "cell_type": "code",
   "execution_count": 40,
   "id": "6203abb2",
   "metadata": {},
   "outputs": [
    {
     "data": {
      "text/plain": [
       "2-element Vector{Float64}:\n",
       " -0.9490213604978094\n",
       " 14.777135115324516"
      ]
     },
     "execution_count": 40,
     "metadata": {},
     "output_type": "execute_result"
    }
   ],
   "source": [
    "cc=inv(eve)*[3-Cf[1]-Cf[5];4-Cf[2]-Cf[6]] # c1 and c2"
   ]
  },
  {
   "cell_type": "markdown",
   "id": "3b721ac3",
   "metadata": {},
   "source": [
    "<img src=\"./diagrams/vytdnmpe.png\" width=\"70%\" height=\"70%\">"
   ]
  }
 ],
 "metadata": {
  "kernelspec": {
   "display_name": "Julia 1.7.2",
   "language": "julia",
   "name": "julia-1.7"
  },
  "language_info": {
   "file_extension": ".jl",
   "mimetype": "application/julia",
   "name": "julia",
   "version": "1.7.2"
  }
 },
 "nbformat": 4,
 "nbformat_minor": 5
}
