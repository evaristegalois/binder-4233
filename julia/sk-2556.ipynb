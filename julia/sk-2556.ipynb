{
 "cells": [
  {
   "cell_type": "code",
   "execution_count": 1,
   "id": "c380cdbe",
   "metadata": {},
   "outputs": [],
   "source": [
    "using SymPy"
   ]
  },
  {
   "cell_type": "code",
   "execution_count": 4,
   "id": "ce05f743",
   "metadata": {},
   "outputs": [
    {
     "data": {
      "text/plain": [
       "(x, y, z, c)"
      ]
     },
     "execution_count": 4,
     "metadata": {},
     "output_type": "execute_result"
    }
   ],
   "source": [
    "x,y,z,c=symbols(\"x,y,z,c\")"
   ]
  },
  {
   "cell_type": "code",
   "execution_count": 5,
   "id": "854d2e39",
   "metadata": {},
   "outputs": [
    {
     "data": {
      "text/latex": [
       "$\\left[ \\begin{array}{rr}1&c\\\\c&1\\end{array}\\right]$\n"
      ],
      "text/plain": [
       "2×2 Matrix{Sym}:\n",
       " 1  c\n",
       " c  1"
      ]
     },
     "execution_count": 5,
     "metadata": {},
     "output_type": "execute_result"
    }
   ],
   "source": [
    "M1=[1 c\n",
    "c 1]"
   ]
  },
  {
   "cell_type": "code",
   "execution_count": 6,
   "id": "fce37583",
   "metadata": {},
   "outputs": [
    {
     "data": {
      "text/plain": [
       "2-element Vector{Int64}:\n",
       " 1\n",
       " 1"
      ]
     },
     "execution_count": 6,
     "metadata": {},
     "output_type": "execute_result"
    }
   ],
   "source": [
    "v1=[1;1]"
   ]
  },
  {
   "cell_type": "code",
   "execution_count": 8,
   "id": "f702c780",
   "metadata": {},
   "outputs": [
    {
     "data": {
      "text/latex": [
       "$\\left[ \\begin{array}{r}- \\frac{c}{1 - c^{2}} + \\frac{1}{1 - c^{2}}\\\\- \\frac{c}{1 - c^{2}} + \\frac{1}{1 - c^{2}}\\end{array} \\right]$\n"
      ],
      "text/plain": [
       "2-element Vector{Sym}:\n",
       " -c/(1 - c^2) + 1/(1 - c^2)\n",
       " -c/(1 - c^2) + 1/(1 - c^2)"
      ]
     },
     "execution_count": 8,
     "metadata": {},
     "output_type": "execute_result"
    }
   ],
   "source": [
    "simplify(*(inv(M1),v1))"
   ]
  },
  {
   "cell_type": "code",
   "execution_count": 9,
   "id": "56a7d4a3",
   "metadata": {},
   "outputs": [],
   "source": [
    "using LinearAlgebra"
   ]
  },
  {
   "cell_type": "code",
   "execution_count": 10,
   "id": "894a172a",
   "metadata": {},
   "outputs": [
    {
     "data": {
      "text/plain": [
       "2×2 Matrix{Int64}:\n",
       " 1  0\n",
       " 0  1"
      ]
     },
     "execution_count": 10,
     "metadata": {},
     "output_type": "execute_result"
    }
   ],
   "source": [
    "J1=[1 0\n",
    "0 1]"
   ]
  },
  {
   "cell_type": "code",
   "execution_count": 11,
   "id": "f6a41610",
   "metadata": {},
   "outputs": [
    {
     "data": {
      "text/latex": [
       "$\\left[ \\begin{array}{rr}-1&- c\\\\0&1 - c\\end{array}\\right]$\n"
      ],
      "text/plain": [
       "2×2 Matrix{Sym}:\n",
       " -1     -c\n",
       "  0  1 - c"
      ]
     },
     "execution_count": 11,
     "metadata": {},
     "output_type": "execute_result"
    }
   ],
   "source": [
    "J2=[-1 -c\n",
    "0 1-c]"
   ]
  },
  {
   "cell_type": "code",
   "execution_count": 12,
   "id": "2e293e5b",
   "metadata": {},
   "outputs": [
    {
     "data": {
      "text/latex": [
       "$\\left[ \\begin{array}{rr}1 - c&0\\\\- c&-1\\end{array}\\right]$\n"
      ],
      "text/plain": [
       "2×2 Matrix{Sym}:\n",
       " 1 - c   0\n",
       "    -c  -1"
      ]
     },
     "execution_count": 12,
     "metadata": {},
     "output_type": "execute_result"
    }
   ],
   "source": [
    "J3=[1-c 0\n",
    "-c -1]"
   ]
  },
  {
   "cell_type": "code",
   "execution_count": 13,
   "id": "fc05ea65",
   "metadata": {},
   "outputs": [
    {
     "data": {
      "text/latex": [
       "$\\left[ \\begin{array}{rr}- \\frac{1}{c + 1}&- \\frac{c}{c + 1}\\\\- \\frac{c}{c + 1}&- \\frac{1}{c + 1}\\end{array}\\right]$\n"
      ],
      "text/plain": [
       "2×2 Matrix{Sym}:\n",
       " -1/(c + 1)  -c/(c + 1)\n",
       " -c/(c + 1)  -1/(c + 1)"
      ]
     },
     "execution_count": 13,
     "metadata": {},
     "output_type": "execute_result"
    }
   ],
   "source": [
    "J4=*(/(-1,1+c),[1 c;c 1])"
   ]
  },
  {
   "cell_type": "code",
   "execution_count": 17,
   "id": "77f3c8e5",
   "metadata": {},
   "outputs": [
    {
     "data": {
      "text/latex": [
       "$\\left[ \\begin{array}{r}-1\\\\\\frac{c - 1}{c + 1}\\end{array} \\right]$\n"
      ],
      "text/plain": [
       "2-element Vector{Sym}:\n",
       "              -1\n",
       " (c - 1)/(c + 1)"
      ]
     },
     "execution_count": 17,
     "metadata": {},
     "output_type": "execute_result"
    }
   ],
   "source": [
    "eigvals(J4)"
   ]
  },
  {
   "cell_type": "code",
   "execution_count": 19,
   "id": "f890d64e",
   "metadata": {},
   "outputs": [
    {
     "data": {
      "text/plain": [
       "2.5"
      ]
     },
     "execution_count": 19,
     "metadata": {},
     "output_type": "execute_result"
    }
   ],
   "source": [
    "/(100,40)"
   ]
  },
  {
   "cell_type": "code",
   "execution_count": 1,
   "id": "480f16c0",
   "metadata": {},
   "outputs": [],
   "source": [
    "using SymPy"
   ]
  },
  {
   "cell_type": "code",
   "execution_count": 2,
   "id": "11bcd377",
   "metadata": {},
   "outputs": [
    {
     "data": {
      "text/latex": [
       "$x$"
      ],
      "text/plain": [
       "x"
      ]
     },
     "execution_count": 2,
     "metadata": {},
     "output_type": "execute_result"
    }
   ],
   "source": [
    "x=symbols(\"x\")"
   ]
  },
  {
   "cell_type": "code",
   "execution_count": 4,
   "id": "10cab976",
   "metadata": {},
   "outputs": [
    {
     "data": {
      "text/latex": [
       "$\\frac{x}{2} + \\frac{\\sin{\\left(x \\right)} \\cos{\\left(x \\right)}}{2}$"
      ],
      "text/plain": [
       "x   sin(x)⋅cos(x)\n",
       "─ + ─────────────\n",
       "2         2      "
      ]
     },
     "execution_count": 4,
     "metadata": {},
     "output_type": "execute_result"
    }
   ],
   "source": [
    "SymPy.integrate(^(SymPy.cos(x),2))"
   ]
  },
  {
   "cell_type": "code",
   "execution_count": 5,
   "id": "de0acf9a",
   "metadata": {},
   "outputs": [
    {
     "data": {
      "text/plain": [
       "9.42477796076938"
      ]
     },
     "execution_count": 5,
     "metadata": {},
     "output_type": "execute_result"
    }
   ],
   "source": [
    "*(3,pi)"
   ]
  },
  {
   "cell_type": "code",
   "execution_count": 6,
   "id": "423976b0",
   "metadata": {},
   "outputs": [],
   "source": [
    "using QuadGK"
   ]
  },
  {
   "cell_type": "code",
   "execution_count": 15,
   "id": "47caaf58",
   "metadata": {},
   "outputs": [
    {
     "data": {
      "text/plain": [
       "(18.84955592153876, 5.225508736828033e-8)"
      ]
     },
     "execution_count": 15,
     "metadata": {},
     "output_type": "execute_result"
    }
   ],
   "source": [
    "integral,err=quadgk(x->*(0.5,^(+(2,*(2,cos(x))),2)),0,*(2,pi),rtol=1e-8)"
   ]
  },
  {
   "cell_type": "code",
   "execution_count": 9,
   "id": "a33626f8",
   "metadata": {},
   "outputs": [
    {
     "data": {
      "text/latex": [
       "$\\left(2 \\cos{\\left(x \\right)} + 2\\right)^{2}$"
      ],
      "text/plain": [
       "              2\n",
       "(2⋅cos(x) + 2) "
      ]
     },
     "execution_count": 9,
     "metadata": {},
     "output_type": "execute_result"
    }
   ],
   "source": [
    "^(+(2,*(2,cos(x))),2)"
   ]
  },
  {
   "cell_type": "code",
   "execution_count": 12,
   "id": "97eea467",
   "metadata": {},
   "outputs": [
    {
     "data": {
      "text/plain": [
       "1.4247779607693793"
      ]
     },
     "execution_count": 12,
     "metadata": {},
     "output_type": "execute_result"
    }
   ],
   "source": [
    "-(*(3,pi),8)"
   ]
  },
  {
   "cell_type": "code",
   "execution_count": 13,
   "id": "850fd8c1",
   "metadata": {},
   "outputs": [
    {
     "data": {
      "text/plain": [
       "18.84955592153876"
      ]
     },
     "execution_count": 13,
     "metadata": {},
     "output_type": "execute_result"
    }
   ],
   "source": [
    "*(6,pi)"
   ]
  },
  {
   "cell_type": "code",
   "execution_count": 1,
   "id": "ec29cba7",
   "metadata": {},
   "outputs": [
    {
     "data": {
      "text/plain": [
       "2×2 Matrix{Int64}:\n",
       " -60   30\n",
       "  25  -75"
      ]
     },
     "execution_count": 1,
     "metadata": {},
     "output_type": "execute_result"
    }
   ],
   "source": [
    "A1=[-60 30\n",
    "25 -75]"
   ]
  },
  {
   "cell_type": "code",
   "execution_count": 3,
   "id": "3e482a8a",
   "metadata": {},
   "outputs": [],
   "source": [
    "using LinearAlgebra"
   ]
  },
  {
   "cell_type": "code",
   "execution_count": 4,
   "id": "87cd170a",
   "metadata": {},
   "outputs": [
    {
     "data": {
      "text/plain": [
       "2-element Vector{Float64}:\n",
       " -95.89454172900136\n",
       " -39.10545827099863"
      ]
     },
     "execution_count": 4,
     "metadata": {},
     "output_type": "execute_result"
    }
   ],
   "source": [
    "eigvals(A1)"
   ]
  },
  {
   "cell_type": "code",
   "execution_count": 5,
   "id": "1dad0eb4",
   "metadata": {},
   "outputs": [
    {
     "data": {
      "text/plain": [
       "2×2 Matrix{Float64}:\n",
       " -0.641292  0.820585\n",
       "  0.767297  0.571525"
      ]
     },
     "execution_count": 5,
     "metadata": {},
     "output_type": "execute_result"
    }
   ],
   "source": [
    "eva=eigvecs(A1)"
   ]
  },
  {
   "cell_type": "code",
   "execution_count": 6,
   "id": "521638f0",
   "metadata": {},
   "outputs": [
    {
     "data": {
      "text/plain": [
       "1.4357816691600547"
      ]
     },
     "execution_count": 6,
     "metadata": {},
     "output_type": "execute_result"
    }
   ],
   "source": [
    "*(eva[1,2],/(1,eva[2,2]))"
   ]
  },
  {
   "cell_type": "code",
   "execution_count": 7,
   "id": "ae3e8e78",
   "metadata": {},
   "outputs": [
    {
     "data": {
      "text/plain": [
       "-0.8357816691600549"
      ]
     },
     "execution_count": 7,
     "metadata": {},
     "output_type": "execute_result"
    }
   ],
   "source": [
    "*(eva[1,1],/(1,eva[2,1]))"
   ]
  },
  {
   "cell_type": "code",
   "execution_count": 8,
   "id": "fe2d1a05",
   "metadata": {},
   "outputs": [
    {
     "data": {
      "text/plain": [
       "0.0012409754228025632"
      ]
     },
     "execution_count": 8,
     "metadata": {},
     "output_type": "execute_result"
    }
   ],
   "source": [
    "sqrt(*(1.54002,^(10,-6)))"
   ]
  },
  {
   "cell_type": "code",
   "execution_count": 9,
   "id": "7db9f713",
   "metadata": {},
   "outputs": [
    {
     "data": {
      "text/plain": [
       "630367//9900"
      ]
     },
     "execution_count": 9,
     "metadata": {},
     "output_type": "execute_result"
    }
   ],
   "source": [
    "(6367//100)+(34//10000)*(1//(1-(1//100)))"
   ]
  },
  {
   "cell_type": "code",
   "execution_count": 10,
   "id": "7af0f0af",
   "metadata": {},
   "outputs": [
    {
     "data": {
      "text/plain": [
       "2×2 Matrix{Int64}:\n",
       " -60   30\n",
       "  25  -75"
      ]
     },
     "execution_count": 10,
     "metadata": {},
     "output_type": "execute_result"
    }
   ],
   "source": [
    "A1=[-60 30\n",
    "25 -75]"
   ]
  },
  {
   "cell_type": "code",
   "execution_count": 11,
   "id": "4e7a20b0",
   "metadata": {},
   "outputs": [
    {
     "data": {
      "text/plain": [
       "2-element Vector{Float64}:\n",
       " -95.89454172900136\n",
       " -39.10545827099863"
      ]
     },
     "execution_count": 11,
     "metadata": {},
     "output_type": "execute_result"
    }
   ],
   "source": [
    "eigvals(A1)"
   ]
  },
  {
   "cell_type": "code",
   "execution_count": 2,
   "id": "75b2c3e3",
   "metadata": {},
   "outputs": [
    {
     "data": {
      "text/plain": [
       "6750"
      ]
     },
     "execution_count": 2,
     "metadata": {},
     "output_type": "execute_result"
    }
   ],
   "source": [
    "-(*(60,125),750)"
   ]
  },
  {
   "cell_type": "code",
   "execution_count": 3,
   "id": "0ba2d4fc",
   "metadata": {},
   "outputs": [],
   "source": [
    "using Polynomials"
   ]
  },
  {
   "cell_type": "code",
   "execution_count": 6,
   "id": "11f12669",
   "metadata": {},
   "outputs": [
    {
     "data": {
      "text/html": [
       "6750 &#43; 185&#8729;x &#43; x<sup>2</sup>"
      ],
      "text/latex": [
       "$6750 + 185\\cdot x + x^{2}$"
      ],
      "text/plain": [
       "Polynomial(6750 + 185*x + x^2)"
      ]
     },
     "execution_count": 6,
     "metadata": {},
     "output_type": "execute_result"
    }
   ],
   "source": [
    "p1=Polynomial([6750,185,1])"
   ]
  },
  {
   "cell_type": "code",
   "execution_count": 7,
   "id": "bacd78f3",
   "metadata": {},
   "outputs": [
    {
     "data": {
      "text/plain": [
       "2-element Vector{Float64}:\n",
       " -135.0\n",
       "  -50.0"
      ]
     },
     "execution_count": 7,
     "metadata": {},
     "output_type": "execute_result"
    }
   ],
   "source": [
    "roots(p1)"
   ]
  },
  {
   "cell_type": "code",
   "execution_count": 8,
   "id": "1df33556",
   "metadata": {},
   "outputs": [
    {
     "data": {
      "text/plain": [
       "85.0"
      ]
     },
     "execution_count": 8,
     "metadata": {},
     "output_type": "execute_result"
    }
   ],
   "source": [
    "sqrt(-(^(185,2),*(4,6750)))"
   ]
  },
  {
   "cell_type": "code",
   "execution_count": 9,
   "id": "ab601de1",
   "metadata": {},
   "outputs": [
    {
     "data": {
      "text/plain": [
       "2×2 Matrix{Int64}:\n",
       "  0   1\n",
       " -4  -4"
      ]
     },
     "execution_count": 9,
     "metadata": {},
     "output_type": "execute_result"
    }
   ],
   "source": [
    "A1=[0 1\n",
    "-4 -4]"
   ]
  },
  {
   "cell_type": "code",
   "execution_count": 11,
   "id": "657c6305",
   "metadata": {},
   "outputs": [],
   "source": [
    "using LinearAlgebra"
   ]
  },
  {
   "cell_type": "code",
   "execution_count": 12,
   "id": "3d334135",
   "metadata": {},
   "outputs": [
    {
     "data": {
      "text/plain": [
       "2-element Vector{Float64}:\n",
       " -2.0\n",
       " -2.0"
      ]
     },
     "execution_count": 12,
     "metadata": {},
     "output_type": "execute_result"
    }
   ],
   "source": [
    "eigvals(A1)"
   ]
  },
  {
   "cell_type": "code",
   "execution_count": 18,
   "id": "4c095366",
   "metadata": {},
   "outputs": [
    {
     "data": {
      "text/plain": [
       "2×2 Matrix{Float64}:\n",
       "  1.0  -1.0\n",
       " -2.0   2.0"
      ]
     },
     "execution_count": 18,
     "metadata": {},
     "output_type": "execute_result"
    }
   ],
   "source": [
    "eigvecs(A1)*sqrt(5)"
   ]
  },
  {
   "cell_type": "code",
   "execution_count": 21,
   "id": "70f2e458",
   "metadata": {},
   "outputs": [
    {
     "data": {
      "text/plain": [
       "2×2 Matrix{Int64}:\n",
       "  2   1\n",
       " -4  -2"
      ]
     },
     "execution_count": 21,
     "metadata": {},
     "output_type": "execute_result"
    }
   ],
   "source": [
    "ail=+(A1,[2 0;0 2])"
   ]
  },
  {
   "cell_type": "code",
   "execution_count": 22,
   "id": "fc9a14c6",
   "metadata": {},
   "outputs": [
    {
     "data": {
      "text/plain": [
       "2×2 Matrix{Int64}:\n",
       " 0  0\n",
       " 0  0"
      ]
     },
     "execution_count": 22,
     "metadata": {},
     "output_type": "execute_result"
    }
   ],
   "source": [
    "^(ail,2)"
   ]
  },
  {
   "cell_type": "code",
   "execution_count": 23,
   "id": "6f26ff27",
   "metadata": {},
   "outputs": [
    {
     "data": {
      "text/plain": [
       "2-element Vector{Float64}:\n",
       " -0.5\n",
       "  1.0"
      ]
     },
     "execution_count": 23,
     "metadata": {},
     "output_type": "execute_result"
    }
   ],
   "source": [
    "*(ail,[-0.75;1])"
   ]
  },
  {
   "cell_type": "code",
   "execution_count": 24,
   "id": "07525e2a",
   "metadata": {},
   "outputs": [
    {
     "name": "stderr",
     "output_type": "stream",
     "text": [
      "WARNING: using SymPy.roots in module Main conflicts with an existing identifier.\n"
     ]
    }
   ],
   "source": [
    "using SymPy"
   ]
  },
  {
   "cell_type": "code",
   "execution_count": 25,
   "id": "c3e70db6",
   "metadata": {},
   "outputs": [
    {
     "data": {
      "text/latex": [
       "$t$"
      ],
      "text/plain": [
       "t"
      ]
     },
     "execution_count": 25,
     "metadata": {},
     "output_type": "execute_result"
    }
   ],
   "source": [
    "t=symbols(\"t\",real=True,positive=True)"
   ]
  },
  {
   "cell_type": "code",
   "execution_count": 26,
   "id": "b4c57142",
   "metadata": {},
   "outputs": [
    {
     "data": {
      "text/latex": [
       "$\\left[ \\begin{array}{rr}2 t e^{- 2 t} + e^{- 2 t}&t e^{- 2 t}\\\\- 4 t e^{- 2 t}&- 2 t e^{- 2 t} + e^{- 2 t}\\end{array}\\right]$\n"
      ],
      "text/plain": [
       "2×2 Matrix{Sym}:\n",
       " 2*t*exp(-2*t) + exp(-2*t)                 t*exp(-2*t)\n",
       "            -4*t*exp(-2*t)  -2*t*exp(-2*t) + exp(-2*t)"
      ]
     },
     "execution_count": 26,
     "metadata": {},
     "output_type": "execute_result"
    }
   ],
   "source": [
    "exp(*(A1,t))"
   ]
  },
  {
   "cell_type": "code",
   "execution_count": 30,
   "id": "7bba0658",
   "metadata": {},
   "outputs": [
    {
     "data": {
      "text/plain": [
       "Phi (generic function with 1 method)"
      ]
     },
     "execution_count": 30,
     "metadata": {},
     "output_type": "execute_result"
    }
   ],
   "source": [
    "Phi(t)=[*(-0.5,exp(*(-2,t))) -(*(-0.75,exp(*(-2,t))),*(0.5,t,exp(*(-2,t))))\n",
    "exp(*(-2,t)) +(exp(*(-2,t)),*(t,exp(*(-2,t))))]"
   ]
  },
  {
   "cell_type": "code",
   "execution_count": 31,
   "id": "12c343dc",
   "metadata": {},
   "outputs": [
    {
     "data": {
      "text/latex": [
       "$\\left[ \\begin{array}{rr}- 0.5 e^{- 2 t}&- 0.5 t e^{- 2 t} - 0.75 e^{- 2 t}\\\\e^{- 2 t}&t e^{- 2 t} + e^{- 2 t}\\end{array}\\right]$\n"
      ],
      "text/plain": [
       "2×2 Matrix{Sym}:\n",
       " -0.5*exp(-2*t)  -0.5*t*exp(-2*t) - 0.75*exp(-2*t)\n",
       "      exp(-2*t)            t*exp(-2*t) + exp(-2*t)"
      ]
     },
     "execution_count": 31,
     "metadata": {},
     "output_type": "execute_result"
    }
   ],
   "source": [
    "Phi(t)"
   ]
  },
  {
   "cell_type": "code",
   "execution_count": 33,
   "id": "27c6a7ea",
   "metadata": {},
   "outputs": [
    {
     "data": {
      "text/latex": [
       "$\\left[ \\begin{array}{rr}2.0 t e^{- 2 t} + 1.0 e^{- 2 t}&1.0 t e^{- 2 t}\\\\- 4.0 t e^{- 2 t}&- 2.0 t e^{- 2 t} + 1.0 e^{- 2 t}\\end{array}\\right]$\n"
      ],
      "text/plain": [
       "2×2 Matrix{Sym}:\n",
       " 2.0*t*exp(-2*t) + 1.0*exp(-2*t)                   1.0*t*exp(-2*t)\n",
       "                -4.0*t*exp(-2*t)  -2.0*t*exp(-2*t) + 1.0*exp(-2*t)"
      ]
     },
     "execution_count": 33,
     "metadata": {},
     "output_type": "execute_result"
    }
   ],
   "source": [
    "*(Phi(t),inv(Phi(0)))"
   ]
  },
  {
   "cell_type": "code",
   "execution_count": 34,
   "id": "ac76ba6d",
   "metadata": {},
   "outputs": [
    {
     "data": {
      "text/latex": [
       "$0.25 e^{- 4 t}$"
      ],
      "text/plain": [
       "      -4⋅t\n",
       "0.25⋅ℯ    "
      ]
     },
     "execution_count": 34,
     "metadata": {},
     "output_type": "execute_result"
    }
   ],
   "source": [
    "det(Phi(t))"
   ]
  },
  {
   "cell_type": "code",
   "execution_count": 35,
   "id": "0516f591",
   "metadata": {},
   "outputs": [
    {
     "data": {
      "text/plain": [
       "f1 (generic function with 1 method)"
      ]
     },
     "execution_count": 35,
     "metadata": {},
     "output_type": "execute_result"
    }
   ],
   "source": [
    "f1(t)=+(*(/(-1,2),exp(*(-2,t)),-(*(/(-3,2),/(1,^(t,2))),/(2,t))),*(-(*(/(-3,4),exp(*(-2,t))),*(/(1,2),t,exp(*(-2,t)))),/(1,^(t,2))))"
   ]
  },
  {
   "cell_type": "code",
   "execution_count": 36,
   "id": "7fd0bfb5",
   "metadata": {},
   "outputs": [
    {
     "data": {
      "text/latex": [
       "$- 0.5 \\left(- \\frac{2}{t} - \\frac{1.5}{t^{2}}\\right) e^{- 2 t} + \\frac{- 0.5 t e^{- 2 t} - 0.75 e^{- 2 t}}{t^{2}}$"
      ],
      "text/plain": [
       "                                   -2⋅t         -2⋅t\n",
       "      ⎛  2   1.5⎞  -2⋅t   - 0.5⋅t⋅ℯ     - 0.75⋅ℯ    \n",
       "- 0.5⋅⎜- ─ - ───⎟⋅ℯ     + ──────────────────────────\n",
       "      ⎜  t     2⎟                      2            \n",
       "      ⎝       t ⎠                     t             "
      ]
     },
     "execution_count": 36,
     "metadata": {},
     "output_type": "execute_result"
    }
   ],
   "source": [
    "f1(t)"
   ]
  },
  {
   "cell_type": "code",
   "execution_count": 38,
   "id": "00f3390e",
   "metadata": {},
   "outputs": [
    {
     "data": {
      "text/plain": [
       "f1p (generic function with 1 method)"
      ]
     },
     "execution_count": 38,
     "metadata": {},
     "output_type": "execute_result"
    }
   ],
   "source": [
    "f1p(t)=SymPy.diff(f1(t))"
   ]
  },
  {
   "cell_type": "code",
   "execution_count": 39,
   "id": "f8ea5db2",
   "metadata": {},
   "outputs": [
    {
     "data": {
      "text/latex": [
       "$\\left(- \\frac{1.0}{t^{2}} - \\frac{1.5}{t^{3}}\\right) e^{- 2 t} - 2 \\left(\\frac{1.0}{t} + \\frac{0.75}{t^{2}}\\right) e^{- 2 t} + \\frac{1.0 t e^{- 2 t} + 1.0 e^{- 2 t}}{t^{2}} - \\frac{2 \\left(- 0.5 t e^{- 2 t} - 0.75 e^{- 2 t}\\right)}{t^{3}}$"
      ],
      "text/plain": [
       "                                                   -2⋅t        -2⋅t     ⎛     \n",
       "⎛  1    1.5⎞  -2⋅t     ⎛1.0   0.75⎞  -2⋅t   1.0⋅t⋅ℯ     + 1.0⋅ℯ       2⋅⎝- 0.5\n",
       "⎜- ── - ───⎟⋅ℯ     - 2⋅⎜─── + ────⎟⋅ℯ     + ─────────────────────── - ────────\n",
       "⎜   2     3⎟           ⎜ t      2 ⎟                     2                     \n",
       "⎝  t     t ⎠           ⎝       t  ⎠                    t                      \n",
       "\n",
       "    -2⋅t         -2⋅t⎞\n",
       "⋅t⋅ℯ     - 0.75⋅ℯ    ⎠\n",
       "──────────────────────\n",
       "       3              \n",
       "      t               "
      ]
     },
     "execution_count": 39,
     "metadata": {},
     "output_type": "execute_result"
    }
   ],
   "source": [
    "f1p(t)"
   ]
  },
  {
   "cell_type": "code",
   "execution_count": 40,
   "id": "95f3304e",
   "metadata": {},
   "outputs": [
    {
     "data": {
      "text/plain": [
       "f1pp (generic function with 1 method)"
      ]
     },
     "execution_count": 40,
     "metadata": {},
     "output_type": "execute_result"
    }
   ],
   "source": [
    "f1pp(t)=SymPy.diff(f1p(t))"
   ]
  },
  {
   "cell_type": "code",
   "execution_count": 43,
   "id": "6238ead3",
   "metadata": {},
   "outputs": [
    {
     "data": {
      "text/plain": [
       "g (generic function with 1 method)"
      ]
     },
     "execution_count": 43,
     "metadata": {},
     "output_type": "execute_result"
    }
   ],
   "source": [
    "g(t)=+(*(1,f1pp(t)),*(4,f1p(t)),*(4,f1(t)),/(-exp(*(-2,t)),^(t,3)))"
   ]
  },
  {
   "cell_type": "code",
   "execution_count": 44,
   "id": "484c5c7a",
   "metadata": {},
   "outputs": [
    {
     "data": {
      "text/latex": [
       "$\\left(\\frac{2.0}{t^{3}} + \\frac{4.5}{t^{4}}\\right) e^{- 2 t} + 2 \\left(- \\frac{1.0}{t^{2}} - \\frac{1.5}{t^{3}}\\right) e^{- 2 t} + \\left(\\frac{2.0}{t^{2}} + \\frac{3.0}{t^{3}}\\right) e^{- 2 t} - 2.0 \\left(- \\frac{2}{t} - \\frac{1.5}{t^{2}}\\right) e^{- 2 t} - 2 \\left(- \\frac{2.0}{t} - \\frac{1.5}{t^{2}}\\right) e^{- 2 t} - 8 \\left(\\frac{1.0}{t} + \\frac{0.75}{t^{2}}\\right) e^{- 2 t} + \\frac{- 2.0 t e^{- 2 t} - 1.0 e^{- 2 t}}{t^{2}} + \\frac{4 \\left(- 0.5 t e^{- 2 t} - 0.75 e^{- 2 t}\\right)}{t^{2}} + \\frac{4 \\left(1.0 t e^{- 2 t} + 1.0 e^{- 2 t}\\right)}{t^{2}} - \\frac{8 \\left(- 0.5 t e^{- 2 t} - 0.75 e^{- 2 t}\\right)}{t^{3}} - \\frac{4 \\left(1.0 t e^{- 2 t} + 1.0 e^{- 2 t}\\right)}{t^{3}} - \\frac{e^{- 2 t}}{t^{3}} + \\frac{6 \\left(- 0.5 t e^{- 2 t} - 0.75 e^{- 2 t}\\right)}{t^{4}}$"
      ],
      "text/plain": [
       "                                                                              \n",
       "⎛2.0   4.5⎞  -2⋅t     ⎛  1    1.5⎞  -2⋅t   ⎛2.0   3.0⎞  -2⋅t       ⎛  2   1.5⎞\n",
       "⎜─── + ───⎟⋅ℯ     + 2⋅⎜- ── - ───⎟⋅ℯ     + ⎜─── + ───⎟⋅ℯ     - 2.0⋅⎜- ─ - ───⎟\n",
       "⎜  3     4⎟           ⎜   2     3⎟         ⎜  2     3⎟             ⎜  t     2⎟\n",
       "⎝ t     t ⎠           ⎝  t     t ⎠         ⎝ t     t ⎠             ⎝       t ⎠\n",
       "\n",
       "                                                                 -2⋅t    -2⋅t \n",
       "  -2⋅t     ⎛  2.0   1.5⎞  -2⋅t     ⎛1.0   0.75⎞  -2⋅t   - 2.0⋅t⋅ℯ     - ℯ     \n",
       "⋅ℯ     - 2⋅⎜- ─── - ───⎟⋅ℯ     - 8⋅⎜─── + ────⎟⋅ℯ     + ───────────────────── \n",
       "           ⎜   t      2⎟           ⎜ t      2 ⎟                    2          \n",
       "           ⎝         t ⎠           ⎝       t  ⎠                   t           \n",
       "\n",
       "    ⎛         -2⋅t         -2⋅t⎞     ⎛       -2⋅t        -2⋅t⎞     ⎛         -\n",
       "  4⋅⎝- 0.5⋅t⋅ℯ     - 0.75⋅ℯ    ⎠   4⋅⎝1.0⋅t⋅ℯ     + 1.0⋅ℯ    ⎠   8⋅⎝- 0.5⋅t⋅ℯ \n",
       "+ ────────────────────────────── + ─────────────────────────── - ─────────────\n",
       "                 2                               2                            \n",
       "                t                               t                             \n",
       "\n",
       "2⋅t         -2⋅t⎞     ⎛       -2⋅t        -2⋅t⎞    -2⋅t     ⎛         -2⋅t    \n",
       "    - 0.75⋅ℯ    ⎠   4⋅⎝1.0⋅t⋅ℯ     + 1.0⋅ℯ    ⎠   ℯ       6⋅⎝- 0.5⋅t⋅ℯ     - 0\n",
       "───────────────── - ─────────────────────────── - ───── + ────────────────────\n",
       "  3                               3                  3                   4    \n",
       " t                               t                  t                   t     \n",
       "\n",
       "     -2⋅t⎞\n",
       ".75⋅ℯ    ⎠\n",
       "──────────\n",
       "          \n",
       "          "
      ]
     },
     "execution_count": 44,
     "metadata": {},
     "output_type": "execute_result"
    }
   ],
   "source": [
    "g(t)"
   ]
  },
  {
   "cell_type": "code",
   "execution_count": 45,
   "id": "671227e0",
   "metadata": {},
   "outputs": [
    {
     "ename": "LoadError",
     "evalue": "MethodError: no method matching diff(::Float64)\n\u001b[0mClosest candidates are:\n\u001b[0m  diff(\u001b[91m::AbstractRange{T}\u001b[39m; dims) where T at /usr/local/julia/share/julia/base/multidimensional.jl:971\n\u001b[0m  diff(\u001b[91m::SparseArrays.AbstractSparseMatrixCSC\u001b[39m; dims) at /usr/local/julia/share/julia/stdlib/v1.7/SparseArrays/src/linalg.jl:1110\n\u001b[0m  diff(\u001b[91m::AbstractVector\u001b[39m) at /usr/local/julia/share/julia/base/multidimensional.jl:929\n\u001b[0m  ...",
     "output_type": "error",
     "traceback": [
      "MethodError: no method matching diff(::Float64)\n\u001b[0mClosest candidates are:\n\u001b[0m  diff(\u001b[91m::AbstractRange{T}\u001b[39m; dims) where T at /usr/local/julia/share/julia/base/multidimensional.jl:971\n\u001b[0m  diff(\u001b[91m::SparseArrays.AbstractSparseMatrixCSC\u001b[39m; dims) at /usr/local/julia/share/julia/stdlib/v1.7/SparseArrays/src/linalg.jl:1110\n\u001b[0m  diff(\u001b[91m::AbstractVector\u001b[39m) at /usr/local/julia/share/julia/base/multidimensional.jl:929\n\u001b[0m  ...",
      "",
      "Stacktrace:",
      " [1] f1p(t::Int64)",
      "   @ Main ./In[38]:1",
      " [2] f1pp(t::Int64)",
      "   @ Main ./In[40]:1",
      " [3] g(t::Int64)",
      "   @ Main ./In[43]:1",
      " [4] top-level scope",
      "   @ In[45]:1",
      " [5] eval",
      "   @ ./boot.jl:373 [inlined]",
      " [6] include_string(mapexpr::typeof(REPL.softscope), mod::Module, code::String, filename::String)",
      "   @ Base ./loading.jl:1196"
     ]
    }
   ],
   "source": [
    "g(0)"
   ]
  },
  {
   "cell_type": "code",
   "execution_count": null,
   "id": "5443fcd6",
   "metadata": {},
   "outputs": [],
   "source": []
  },
  {
   "cell_type": "code",
   "execution_count": null,
   "id": "09083576",
   "metadata": {},
   "outputs": [],
   "source": []
  },
  {
   "cell_type": "code",
   "execution_count": null,
   "id": "95df1125",
   "metadata": {},
   "outputs": [],
   "source": []
  },
  {
   "cell_type": "code",
   "execution_count": null,
   "id": "b2f8c187",
   "metadata": {},
   "outputs": [],
   "source": []
  },
  {
   "cell_type": "code",
   "execution_count": null,
   "id": "4e3ce6c9",
   "metadata": {},
   "outputs": [],
   "source": []
  },
  {
   "cell_type": "code",
   "execution_count": null,
   "id": "8a699c6e",
   "metadata": {},
   "outputs": [],
   "source": []
  },
  {
   "cell_type": "code",
   "execution_count": null,
   "id": "82c0a611",
   "metadata": {},
   "outputs": [],
   "source": []
  },
  {
   "cell_type": "code",
   "execution_count": null,
   "id": "59ebb722",
   "metadata": {},
   "outputs": [],
   "source": []
  }
 ],
 "metadata": {
  "kernelspec": {
   "display_name": "Julia 1.7.2",
   "language": "julia",
   "name": "julia-1.7"
  },
  "language_info": {
   "file_extension": ".jl",
   "mimetype": "application/julia",
   "name": "julia",
   "version": "1.7.2"
  }
 },
 "nbformat": 4,
 "nbformat_minor": 5
}
