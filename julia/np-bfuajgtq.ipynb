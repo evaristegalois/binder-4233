{
 "cells": [
  {
   "cell_type": "markdown",
   "metadata": {
    "collapsed": false
   },
   "source": [
    "<h4>Who Said Hail Doesn't Freeze Over?</h4>"
   ]
  },
  {
   "cell_type": "markdown",
   "metadata": {
    "collapsed": false
   },
   "source": [
    "Suppose that a falling hailstone with density $\\delta=1$ starts\n",
    "from rest with negligible radius $r = 0$. Thereafter its radius is $r = kt$ ($k$ is a constant) as it grows by accretion\n",
    "during its fall. Use Newton's second law---according to\n",
    "which the net force $F$ acting on a possibly variable mass\n",
    "$m$ equals the time rate of change $dp/dt$ of its momentum\n",
    "$p = mv$---to set up and solve the initial value problem\n",
    "$$\n",
    "\\frac{d}{dt}(mv)=mg\n",
    "$$\n",
    "where $m$ is the variable mass of the hailstone, $v = dy/dt$\n",
    "is its velocity, and the positive $y$-axis points downward.\n",
    "Then show that $dv/dt= g/4$. Thus the hailstone falls as\n",
    "though it were under one-fourth the influence of gravity."
   ]
  },
  {
   "cell_type": "markdown",
   "metadata": {
    "collapsed": false
   },
   "source": [
    "Note that\n",
    "$$\n",
    "\\frac{dp}{dt}=\\frac{dm}{dt}v+\\frac{dv}{dt}m\n",
    "$$\n",
    "by the chain rule. Furthermore,\n",
    "$$\n",
    "m(t)=\\frac{4}{3}\\pi(r(t))^{3}\n",
    "$$\n",
    "Plug this into $dp/dt=mg$ for the LFO\n",
    "$$\n",
    "\\frac{dv}{dt}+\\frac{3}{t}v=g\n",
    "$$\n",
    "The solution is straightforward:\n",
    "$$\n",
    "v=\\frac{1}{4}gt\n",
    "$$\n",
    "The claim follows immediately."
   ]
  }
 ],
 "metadata": {
  "kernelspec": {
   "display_name": "Julia 1.6",
   "env": {
    "JULIA_DEPOT_PATH": "/home/user/.julia/:/ext/julia/depot/",
    "JULIA_PROJECT": "/home/user/.julia/environment/v1.6"
   },
   "language": "julia",
   "metadata": {
    "cocalc": {
     "description": "The Julia Programming Language",
     "priority": 10,
     "url": "https://julialang.org/"
    }
   },
   "name": "julia-1.6",
   "resource_dir": "/ext/jupyter/kernels/julia-1.6"
  },
  "language_info": {
   "file_extension": ".jl",
   "mimetype": "application/julia",
   "name": "julia",
   "version": "1.6.3"
  }
 },
 "nbformat": 4,
 "nbformat_minor": 4
}