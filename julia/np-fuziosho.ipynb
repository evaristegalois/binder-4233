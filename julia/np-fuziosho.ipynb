{
 "cells": [
  {
   "cell_type": "markdown",
   "metadata": {
    "collapsed": false
   },
   "source": [
    "<h4>Assignment 1 Problem 2: Hailstone</h4>"
   ]
  },
  {
   "cell_type": "markdown",
   "metadata": {
    "collapsed": false
   },
   "source": [
    "$$\n",
    "\\frac{d^{2}y}{dt^{2}}=-g-\\frac{3}{y}\\left(\\frac{dy}{dt}\\right)^{2}\n",
    "$$"
   ]
  },
  {
   "cell_type": "markdown",
   "metadata": {
    "collapsed": false
   },
   "source": [
    "substitute $v=\\frac{dy}{dt}$ for\n",
    "$$\n",
    "\\frac{dv}{dt}=-g-\\frac{3}{y}v^{2}\n",
    "$$"
   ]
  },
  {
   "cell_type": "markdown",
   "metadata": {
    "collapsed": false
   },
   "source": [
    "now replace $t$ by $y$ for\n",
    "$$\n",
    "\\frac{dv}{dy}v=-g-\\frac{3}{y}v^{2}\n",
    "$$"
   ]
  },
  {
   "cell_type": "markdown",
   "metadata": {
    "collapsed": false
   },
   "source": [
    "divide by $v$ and rearrange for Bernoulli with $n=-1$\n",
    "$$\n",
    "\\frac{dv}{dy}+\\frac{3}{y}v=-gv^{-1}\n",
    "$$"
   ]
  },
  {
   "cell_type": "markdown",
   "metadata": {
    "collapsed": false
   },
   "source": [
    "substitute $w=v^{2}$ and $dw=2v\\,dv$ for\n",
    "$$\n",
    "\\frac{1}{2v}\\frac{dw}{dy}+\\frac{3}{y}v=-gv^{-1}\n",
    "$$\n",
    "$$\n",
    "\\frac{dw}{dy}+\\frac{6}{y}w=-2g\n",
    "$$"
   ]
  },
  {
   "cell_type": "markdown",
   "metadata": {
    "collapsed": false
   },
   "source": [
    "now multiply by $\\displaystyle e^{\\int{}\\frac{6}{y}\\,dy}=y^{6}$ for\n",
    "$$\n",
    "y^{6}\\frac{dw}{dy}+6y^{5}w=-2gy^{6}\n",
    "$$\n",
    "$$\n",
    "y^{6}w=-2g\\int{}y^{6}\\,dy=-\\frac{2}{7}gy^{7}+C\n",
    "$$\n",
    "$$\n",
    "w=-\\frac{2}{7}gy+\\frac{C}{y^{6}}\n",
    "$$\n",
    "$$\n",
    "v=\\pm\\sqrt{-\\frac{2}{7}gy+\\frac{C}{y^{6}}}\n",
    "$$"
   ]
  },
  {
   "cell_type": "markdown",
   "metadata": {
    "collapsed": false
   },
   "source": [
    "now use $v(0)=0$ for $C=0$ and therefore\n",
    "$$\n",
    "v(y)=\\pm\\sqrt{-\\frac{2}{7}gy}\n",
    "$$\n",
    "only the minus sign makes sense, so\n",
    "$$\n",
    "v(y)=-\\sqrt{-\\frac{2}{7}gy}\n",
    "$$\n"
   ]
  },
  {
   "cell_type": "markdown",
   "metadata": {
    "collapsed": false
   },
   "source": [
    "the acceleration is\n",
    "$$\n",
    "\\frac{dv}{dt}=\\frac{dv}{dy}\\frac{dy}{dt}=\\frac{g}{7\\sqrt{-\\frac{2}{7}gy}}v(t)=\\frac{g}{7\\sqrt{-\\frac{2}{7}gy}}\\left(-\\sqrt{-\\frac{2}{7}gy}\\right)=-\\frac{g}{7}\n",
    "$$\n"
   ]
  }
 ],
 "metadata": {
  "kernelspec": {
   "display_name": "Julia 1.6",
   "env": {
    "JULIA_DEPOT_PATH": "/home/user/.julia/:/ext/julia/depot/",
    "JULIA_PROJECT": "/home/user/.julia/environment/v1.6"
   },
   "language": "julia",
   "metadata": {
    "cocalc": {
     "description": "The Julia Programming Language",
     "priority": 10,
     "url": "https://julialang.org/"
    }
   },
   "name": "julia-1.6",
   "resource_dir": "/ext/jupyter/kernels/julia-1.6"
  },
  "language_info": {
   "file_extension": ".jl",
   "mimetype": "application/julia",
   "name": "julia",
   "version": "1.6.3"
  }
 },
 "nbformat": 4,
 "nbformat_minor": 4
}