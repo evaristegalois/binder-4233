{
 "cells": [
  {
   "cell_type": "markdown",
   "metadata": {
    "collapsed": false
   },
   "source": [
    "<h4>Mechanical Vibrations: Car Undamped Resonance</h4>"
   ]
  },
  {
   "cell_type": "markdown",
   "metadata": {
    "collapsed": false
   },
   "source": [
    "<img src=\"./diagrams/chohkpol.png\" width=\"40%\" height=\"40%\">"
   ]
  },
  {
   "cell_type": "markdown",
   "metadata": {
    "collapsed": false
   },
   "source": [
    "Suppose that a car oscillates vertically as if it were a mass $m=800\\,kg$ on a single\n",
    "spring (with constant $k=7\\times{}10^4\\,N/m$), attached to a single dashpot (with constant\n",
    "$c=3000\\,Ns/m$). Suppose that this car with the dashpot disconnected is driven\n",
    "along a washboard road surface with an amplitude of $5\\,cm$ and a wavelength of\n",
    "$L=10\\,m$. At what car speed will resonance vibrations occur?"
   ]
  },
  {
   "cell_type": "code",
   "execution_count": 9,
   "metadata": {
    "collapsed": false,
    "scrolled": true
   },
   "outputs": [
    {
     "data": {
      "text/plain": [
       "70000"
      ]
     },
     "execution_count": 9,
     "metadata": {
     },
     "output_type": "execute_result"
    }
   ],
   "source": [
    "k=7*10^4"
   ]
  },
  {
   "cell_type": "code",
   "execution_count": 10,
   "metadata": {
    "collapsed": false
   },
   "outputs": [
    {
     "data": {
      "text/plain": [
       "800"
      ]
     },
     "execution_count": 10,
     "metadata": {
     },
     "output_type": "execute_result"
    }
   ],
   "source": [
    "m=800"
   ]
  },
  {
   "cell_type": "markdown",
   "metadata": {
    "collapsed": false
   },
   "source": [
    "Let $y$ measure the up and down motion of the road with $w$ the constant speed of the car. Then\n",
    "$$\n",
    "y(t)=0.05\\cos\\frac{2\\pi{}wt}{10}\n",
    "$$\n",
    "Consequently,\n",
    "$$\n",
    "y''(t)=-0.05\\cdot\\frac{4\\pi^{2}w^{2}}{100}\\cos\\left(\\frac{\\pi}{5}wt\\right)\n",
    "$$\n",
    "Then\n",
    "$$\n",
    "my''+mx''+kx=0\n",
    "$$\n",
    "leads to\n",
    "$$\n",
    "x''+\\left(\\frac{\\theta}{w}\\right)^{2}x=\\frac{1}{20}\\cos{}u\n",
    "$$\n",
    "with $u=\\frac{\\pi{}wt}{5}$ and $x''=\\frac{d}{du}\\frac{dx}{du}$"
   ]
  },
  {
   "cell_type": "code",
   "execution_count": 3,
   "metadata": {
    "collapsed": false
   },
   "outputs": [
   ],
   "source": [
    "using SymPy"
   ]
  },
  {
   "cell_type": "code",
   "execution_count": 4,
   "metadata": {
    "collapsed": false
   },
   "outputs": [
    {
     "data": {
      "text/plain": [
       "(w,)"
      ]
     },
     "execution_count": 4,
     "metadata": {
     },
     "output_type": "execute_result"
    }
   ],
   "source": [
    "@vars w"
   ]
  },
  {
   "cell_type": "code",
   "execution_count": 15,
   "metadata": {
    "collapsed": false
   },
   "outputs": [
    {
     "data": {
      "text/latex": [
       "$\\begin{equation*}0.0197392088021787 w^{2}\\end{equation*}$\n"
      ],
      "text/plain": [
       "                    2\n",
       "0.0197392088021787⋅w "
      ]
     },
     "execution_count": 15,
     "metadata": {
     },
     "output_type": "execute_result"
    }
   ],
   "source": [
    "phi=0.002*pi^2*w^2 # helps me to find 1/20"
   ]
  },
  {
   "cell_type": "code",
   "execution_count": 7,
   "metadata": {
    "collapsed": false
   },
   "outputs": [
    {
     "data": {
      "text/latex": [
       "$\\begin{equation*}0.05\\end{equation*}$\n"
      ],
      "text/plain": [
       "0.0500000000000000"
      ]
     },
     "execution_count": 7,
     "metadata": {
     },
     "output_type": "execute_result"
    }
   ],
   "source": [
    "psi=(25/(pi^2*w^2))*phi # helps me to find 1/20"
   ]
  },
  {
   "cell_type": "code",
   "execution_count": 14,
   "metadata": {
    "collapsed": false
   },
   "outputs": [
    {
     "data": {
      "text/plain": [
       "14.887581711534411"
      ]
     },
     "execution_count": 14,
     "metadata": {
     },
     "output_type": "execute_result"
    }
   ],
   "source": [
    "theta=sqrt((25*k)/(pi^2*m))"
   ]
  },
  {
   "cell_type": "markdown",
   "metadata": {
    "collapsed": false
   },
   "source": [
    "Resonance will occur if $w$ is close to $14.89\\,m/s^{2}$."
   ]
  }
 ],
 "metadata": {
  "kernelspec": {
   "display_name": "Julia 1.6",
   "env": {
    "JULIA_DEPOT_PATH": "/home/user/.julia/:/ext/julia/depot/",
    "JULIA_PROJECT": "/home/user/.julia/environment/v1.6"
   },
   "language": "julia",
   "metadata": {
    "cocalc": {
     "description": "The Julia Programming Language",
     "priority": 10,
     "url": "https://julialang.org/"
    }
   },
   "name": "julia-1.6",
   "resource_dir": "/ext/jupyter/kernels/julia-1.6"
  },
  "language_info": {
   "file_extension": ".jl",
   "mimetype": "application/julia",
   "name": "julia",
   "version": "1.6.3"
  }
 },
 "nbformat": 4,
 "nbformat_minor": 4
}