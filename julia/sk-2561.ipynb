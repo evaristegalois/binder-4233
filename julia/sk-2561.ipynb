{
 "cells": [
  {
   "cell_type": "code",
   "execution_count": 1,
   "id": "bc057955",
   "metadata": {},
   "outputs": [
    {
     "data": {
      "text/plain": [
       "0.0"
      ]
     },
     "execution_count": 1,
     "metadata": {},
     "output_type": "execute_result"
    }
   ],
   "source": [
    "sqrt(0)"
   ]
  },
  {
   "cell_type": "code",
   "execution_count": 1,
   "id": "f5c58504",
   "metadata": {},
   "outputs": [
    {
     "data": {
      "text/plain": [
       "2101"
      ]
     },
     "execution_count": 1,
     "metadata": {},
     "output_type": "execute_result"
    }
   ],
   "source": [
    "-(^(5,5),^(4,5))"
   ]
  },
  {
   "cell_type": "code",
   "execution_count": 1,
   "id": "fd582794",
   "metadata": {},
   "outputs": [],
   "source": [
    "using Polynomials"
   ]
  },
  {
   "cell_type": "code",
   "execution_count": 2,
   "id": "c7e5c5ce",
   "metadata": {},
   "outputs": [
    {
     "data": {
      "text/html": [
       "625 &#43; 50&#8729;x &#45; 3&#8729;x<sup>2</sup>"
      ],
      "text/latex": [
       "$625 + 50\\cdot x - 3\\cdot x^{2}$"
      ],
      "text/plain": [
       "Polynomial(625 + 50*x - 3*x^2)"
      ]
     },
     "execution_count": 2,
     "metadata": {},
     "output_type": "execute_result"
    }
   ],
   "source": [
    "p1=Polynomial([625,50,-3])"
   ]
  },
  {
   "cell_type": "code",
   "execution_count": 3,
   "id": "9d25f985",
   "metadata": {},
   "outputs": [
    {
     "data": {
      "text/plain": [
       "2-element Vector{Float64}:\n",
       " -8.333333333333334\n",
       " 24.999999999999996"
      ]
     },
     "execution_count": 3,
     "metadata": {},
     "output_type": "execute_result"
    }
   ],
   "source": [
    "roots(p1)"
   ]
  },
  {
   "cell_type": "code",
   "execution_count": 4,
   "id": "786d0f08",
   "metadata": {},
   "outputs": [],
   "source": [
    "using CSV\n",
    "using DataFrames"
   ]
  },
  {
   "cell_type": "code",
   "execution_count": 29,
   "id": "07e90589",
   "metadata": {
    "collapsed": true,
    "jupyter": {
     "outputs_hidden": true
    }
   },
   "outputs": [
    {
     "data": {
      "text/html": [
       "<div class=\"data-frame\"><p>1,891 rows × 6 columns</p><table class=\"data-frame\"><thead><tr><th></th><th>id</th><th>course</th><th>studentNumber</th><th>password</th><th>lastName</th><th>callName</th></tr><tr><th></th><th title=\"Int64\">Int64</th><th title=\"Int64\">Int64</th><th title=\"String15\">String15</th><th title=\"String7\">String7</th><th title=\"String31\">String31</th><th title=\"String31\">String31</th></tr></thead><tbody><tr><th>1</th><td>505926</td><td>675</td><td>A00892710</td><td>Y86H</td><td>Sangha</td><td>Amit</td></tr><tr><th>2</th><td>542150</td><td>675</td><td>A00804126</td><td>P64N</td><td>Conconi</td><td>Katie</td></tr><tr><th>3</th><td>373971</td><td>675</td><td>A00804133</td><td>V68S</td><td>Flaa</td><td>Erik</td></tr><tr><th>4</th><td>658468</td><td>675</td><td>A00861304</td><td>J24R</td><td>Ly</td><td>Amy</td></tr><tr><th>5</th><td>946387</td><td>675</td><td>A00884171</td><td>O72X</td><td>Smith</td><td>Randy</td></tr><tr><th>6</th><td>127232</td><td>675</td><td>A00914659</td><td>T53O</td><td>Matias</td><td>Reiner</td></tr><tr><th>7</th><td>911293</td><td>675</td><td>A00927540</td><td>X46W</td><td>Liu</td><td>Celina</td></tr><tr><th>8</th><td>377866</td><td>675</td><td>A00930461</td><td>D22M</td><td>Dhillon</td><td>Lucky</td></tr><tr><th>9</th><td>387235</td><td>675</td><td>A00938050</td><td>J29V</td><td>Ward</td><td>Thomas</td></tr><tr><th>10</th><td>467599</td><td>675</td><td>A00953822</td><td>E95V</td><td>Rogers</td><td>Wyatt</td></tr><tr><th>11</th><td>519908</td><td>675</td><td>A00954408</td><td>X68J</td><td>Shi</td><td>Gloria</td></tr><tr><th>12</th><td>734480</td><td>675</td><td>A00954606</td><td>C48S</td><td>Godau</td><td>Jordan</td></tr><tr><th>13</th><td>346223</td><td>675</td><td>A00964143</td><td>B24N</td><td>Tang</td><td>James</td></tr><tr><th>14</th><td>995874</td><td>675</td><td>A00964846</td><td>I48X</td><td>An</td><td>Botan</td></tr><tr><th>15</th><td>770733</td><td>675</td><td>A00967305</td><td>U34Q</td><td>Taaffe</td><td>Liam</td></tr><tr><th>16</th><td>559338</td><td>675</td><td>A00967371</td><td>O18X</td><td>Ye</td><td>Jeffrey</td></tr><tr><th>17</th><td>598061</td><td>675</td><td>A00969352</td><td>F40N</td><td>Schroh</td><td>Serianna</td></tr><tr><th>18</th><td>253839</td><td>675</td><td>A00980666</td><td>J29Z</td><td>Zeng</td><td>Nicolas</td></tr><tr><th>19</th><td>531022</td><td>675</td><td>A00981853</td><td>S37D</td><td>Oaks</td><td>Chris</td></tr><tr><th>20</th><td>481992</td><td>675</td><td>A00981963</td><td>U53X</td><td>Brown</td><td>Wesley</td></tr><tr><th>21</th><td>145065</td><td>675</td><td>A00982208</td><td>U57T</td><td>Minhas</td><td>Manvinder</td></tr><tr><th>22</th><td>683139</td><td>675</td><td>A00984521</td><td>Z40D</td><td>Song</td><td>Peter</td></tr><tr><th>23</th><td>380881</td><td>675</td><td>A00985137</td><td>P81P</td><td>Ly</td><td>Chadrick</td></tr><tr><th>24</th><td>128970</td><td>675</td><td>A00985752</td><td>G66P</td><td>Vandergugten</td><td>Christopher</td></tr><tr><th>25</th><td>123574</td><td>675</td><td>A00986071</td><td>S50B</td><td>Heyes</td><td>Julia</td></tr><tr><th>26</th><td>958376</td><td>675</td><td>A00986193</td><td>D91E</td><td>Chung</td><td>Benson</td></tr><tr><th>27</th><td>418441</td><td>675</td><td>A00986312</td><td>V34X</td><td>Brar</td><td>Surya</td></tr><tr><th>28</th><td>521522</td><td>675</td><td>A00987759</td><td>I56D</td><td>O&apos;Brien</td><td>Nolan</td></tr><tr><th>29</th><td>222278</td><td>675</td><td>A00987979</td><td>W46H</td><td>Tatar</td><td>Iuliu</td></tr><tr><th>30</th><td>847811</td><td>675</td><td>A00988382</td><td>X20U</td><td>Neels</td><td>Erik</td></tr><tr><th>&vellip;</th><td>&vellip;</td><td>&vellip;</td><td>&vellip;</td><td>&vellip;</td><td>&vellip;</td><td>&vellip;</td></tr></tbody></table></div>"
      ],
      "text/latex": [
       "\\begin{tabular}{r|cccccc}\n",
       "\t& id & course & studentNumber & password & lastName & callName\\\\\n",
       "\t\\hline\n",
       "\t& Int64 & Int64 & String15 & String7 & String31 & String31\\\\\n",
       "\t\\hline\n",
       "\t1 & 505926 & 675 & A00892710 & Y86H & Sangha & Amit \\\\\n",
       "\t2 & 542150 & 675 & A00804126 & P64N & Conconi & Katie \\\\\n",
       "\t3 & 373971 & 675 & A00804133 & V68S & Flaa & Erik \\\\\n",
       "\t4 & 658468 & 675 & A00861304 & J24R & Ly & Amy \\\\\n",
       "\t5 & 946387 & 675 & A00884171 & O72X & Smith & Randy \\\\\n",
       "\t6 & 127232 & 675 & A00914659 & T53O & Matias & Reiner \\\\\n",
       "\t7 & 911293 & 675 & A00927540 & X46W & Liu & Celina \\\\\n",
       "\t8 & 377866 & 675 & A00930461 & D22M & Dhillon & Lucky \\\\\n",
       "\t9 & 387235 & 675 & A00938050 & J29V & Ward & Thomas \\\\\n",
       "\t10 & 467599 & 675 & A00953822 & E95V & Rogers & Wyatt \\\\\n",
       "\t11 & 519908 & 675 & A00954408 & X68J & Shi & Gloria \\\\\n",
       "\t12 & 734480 & 675 & A00954606 & C48S & Godau & Jordan \\\\\n",
       "\t13 & 346223 & 675 & A00964143 & B24N & Tang & James \\\\\n",
       "\t14 & 995874 & 675 & A00964846 & I48X & An & Botan \\\\\n",
       "\t15 & 770733 & 675 & A00967305 & U34Q & Taaffe & Liam \\\\\n",
       "\t16 & 559338 & 675 & A00967371 & O18X & Ye & Jeffrey \\\\\n",
       "\t17 & 598061 & 675 & A00969352 & F40N & Schroh & Serianna \\\\\n",
       "\t18 & 253839 & 675 & A00980666 & J29Z & Zeng & Nicolas \\\\\n",
       "\t19 & 531022 & 675 & A00981853 & S37D & Oaks & Chris \\\\\n",
       "\t20 & 481992 & 675 & A00981963 & U53X & Brown & Wesley \\\\\n",
       "\t21 & 145065 & 675 & A00982208 & U57T & Minhas & Manvinder \\\\\n",
       "\t22 & 683139 & 675 & A00984521 & Z40D & Song & Peter \\\\\n",
       "\t23 & 380881 & 675 & A00985137 & P81P & Ly & Chadrick \\\\\n",
       "\t24 & 128970 & 675 & A00985752 & G66P & Vandergugten & Christopher \\\\\n",
       "\t25 & 123574 & 675 & A00986071 & S50B & Heyes & Julia \\\\\n",
       "\t26 & 958376 & 675 & A00986193 & D91E & Chung & Benson \\\\\n",
       "\t27 & 418441 & 675 & A00986312 & V34X & Brar & Surya \\\\\n",
       "\t28 & 521522 & 675 & A00987759 & I56D & O'Brien & Nolan \\\\\n",
       "\t29 & 222278 & 675 & A00987979 & W46H & Tatar & Iuliu \\\\\n",
       "\t30 & 847811 & 675 & A00988382 & X20U & Neels & Erik \\\\\n",
       "\t$\\dots$ & $\\dots$ & $\\dots$ & $\\dots$ & $\\dots$ & $\\dots$ & $\\dots$ \\\\\n",
       "\\end{tabular}\n"
      ],
      "text/plain": [
       "\u001b[1m1891×6 DataFrame\u001b[0m\n",
       "\u001b[1m  Row \u001b[0m│\u001b[1m id     \u001b[0m\u001b[1m course \u001b[0m\u001b[1m studentNumber \u001b[0m\u001b[1m password \u001b[0m\u001b[1m lastName \u001b[0m\u001b[1m callName  \u001b[0m\n",
       "\u001b[1m      \u001b[0m│\u001b[90m Int64  \u001b[0m\u001b[90m Int64  \u001b[0m\u001b[90m String15      \u001b[0m\u001b[90m String7  \u001b[0m\u001b[90m String31 \u001b[0m\u001b[90m String31  \u001b[0m\n",
       "──────┼──────────────────────────────────────────────────────────────\n",
       "    1 │ 505926     675  A00892710      Y86H      Sangha    Amit\n",
       "    2 │ 542150     675  A00804126      P64N      Conconi   Katie\n",
       "    3 │ 373971     675  A00804133      V68S      Flaa      Erik\n",
       "    4 │ 658468     675  A00861304      J24R      Ly        Amy\n",
       "    5 │ 946387     675  A00884171      O72X      Smith     Randy\n",
       "    6 │ 127232     675  A00914659      T53O      Matias    Reiner\n",
       "    7 │ 911293     675  A00927540      X46W      Liu       Celina\n",
       "    8 │ 377866     675  A00930461      D22M      Dhillon   Lucky\n",
       "    9 │ 387235     675  A00938050      J29V      Ward      Thomas\n",
       "   10 │ 467599     675  A00953822      E95V      Rogers    Wyatt\n",
       "   11 │ 519908     675  A00954408      X68J      Shi       Gloria\n",
       "  ⋮   │   ⋮       ⋮           ⋮           ⋮         ⋮          ⋮\n",
       " 1882 │ 192723     514  37704483       L41I      Wang      Mingkai\n",
       " 1883 │ 331329     514  40977852       I53J      Wang      Wensen\n",
       " 1884 │ 507497     514  22213623       R85N      Wong      Hui\n",
       " 1885 │ 227667     514  17557760       E40B      Yang      Trafaline\n",
       " 1886 │ 769815     514  27610260       R96U      Ye        Ryan\n",
       " 1887 │ 230494     514  22250328       A97C      Zeng      Sabrina\n",
       " 1888 │ 488081     514  44818177       G05O      Zhang     Jiaxin\n",
       " 1889 │ 214934     514  34099135       S94T      Zhao      Curtis\n",
       " 1890 │ 539865     514  56547276       Y80F      Zhou      Xinran\n",
       " 1891 │ 377532     514  40747941       P86X      Zurkovic  Nicholas\n",
       "\u001b[36m                                                    1870 rows omitted\u001b[0m"
      ]
     },
     "execution_count": 29,
     "metadata": {},
     "output_type": "execute_result"
    }
   ],
   "source": [
    "df1=DataFrame(CSV.File(\"./csv/stud.csv\"))"
   ]
  },
  {
   "cell_type": "code",
   "execution_count": 30,
   "id": "62f4158a",
   "metadata": {
    "collapsed": true,
    "jupyter": {
     "outputs_hidden": true
    }
   },
   "outputs": [
    {
     "data": {
      "text/html": [
       "<div class=\"data-frame\"><p>1,891 rows × 1 columns</p><table class=\"data-frame\"><thead><tr><th></th><th>sno</th></tr><tr><th></th><th title=\"String15\">String15</th></tr></thead><tbody><tr><th>1</th><td>A00892710</td></tr><tr><th>2</th><td>A00804126</td></tr><tr><th>3</th><td>A00804133</td></tr><tr><th>4</th><td>A00861304</td></tr><tr><th>5</th><td>A00884171</td></tr><tr><th>6</th><td>A00914659</td></tr><tr><th>7</th><td>A00927540</td></tr><tr><th>8</th><td>A00930461</td></tr><tr><th>9</th><td>A00938050</td></tr><tr><th>10</th><td>A00953822</td></tr><tr><th>11</th><td>A00954408</td></tr><tr><th>12</th><td>A00954606</td></tr><tr><th>13</th><td>A00964143</td></tr><tr><th>14</th><td>A00964846</td></tr><tr><th>15</th><td>A00967305</td></tr><tr><th>16</th><td>A00967371</td></tr><tr><th>17</th><td>A00969352</td></tr><tr><th>18</th><td>A00980666</td></tr><tr><th>19</th><td>A00981853</td></tr><tr><th>20</th><td>A00981963</td></tr><tr><th>21</th><td>A00982208</td></tr><tr><th>22</th><td>A00984521</td></tr><tr><th>23</th><td>A00985137</td></tr><tr><th>24</th><td>A00985752</td></tr><tr><th>25</th><td>A00986071</td></tr><tr><th>26</th><td>A00986193</td></tr><tr><th>27</th><td>A00986312</td></tr><tr><th>28</th><td>A00987759</td></tr><tr><th>29</th><td>A00987979</td></tr><tr><th>30</th><td>A00988382</td></tr><tr><th>&vellip;</th><td>&vellip;</td></tr></tbody></table></div>"
      ],
      "text/latex": [
       "\\begin{tabular}{r|c}\n",
       "\t& sno\\\\\n",
       "\t\\hline\n",
       "\t& String15\\\\\n",
       "\t\\hline\n",
       "\t1 & A00892710 \\\\\n",
       "\t2 & A00804126 \\\\\n",
       "\t3 & A00804133 \\\\\n",
       "\t4 & A00861304 \\\\\n",
       "\t5 & A00884171 \\\\\n",
       "\t6 & A00914659 \\\\\n",
       "\t7 & A00927540 \\\\\n",
       "\t8 & A00930461 \\\\\n",
       "\t9 & A00938050 \\\\\n",
       "\t10 & A00953822 \\\\\n",
       "\t11 & A00954408 \\\\\n",
       "\t12 & A00954606 \\\\\n",
       "\t13 & A00964143 \\\\\n",
       "\t14 & A00964846 \\\\\n",
       "\t15 & A00967305 \\\\\n",
       "\t16 & A00967371 \\\\\n",
       "\t17 & A00969352 \\\\\n",
       "\t18 & A00980666 \\\\\n",
       "\t19 & A00981853 \\\\\n",
       "\t20 & A00981963 \\\\\n",
       "\t21 & A00982208 \\\\\n",
       "\t22 & A00984521 \\\\\n",
       "\t23 & A00985137 \\\\\n",
       "\t24 & A00985752 \\\\\n",
       "\t25 & A00986071 \\\\\n",
       "\t26 & A00986193 \\\\\n",
       "\t27 & A00986312 \\\\\n",
       "\t28 & A00987759 \\\\\n",
       "\t29 & A00987979 \\\\\n",
       "\t30 & A00988382 \\\\\n",
       "\t$\\dots$ & $\\dots$ \\\\\n",
       "\\end{tabular}\n"
      ],
      "text/plain": [
       "\u001b[1m1891×1 DataFrame\u001b[0m\n",
       "\u001b[1m  Row \u001b[0m│\u001b[1m sno       \u001b[0m\n",
       "\u001b[1m      \u001b[0m│\u001b[90m String15  \u001b[0m\n",
       "──────┼───────────\n",
       "    1 │ A00892710\n",
       "    2 │ A00804126\n",
       "    3 │ A00804133\n",
       "    4 │ A00861304\n",
       "    5 │ A00884171\n",
       "    6 │ A00914659\n",
       "    7 │ A00927540\n",
       "    8 │ A00930461\n",
       "    9 │ A00938050\n",
       "   10 │ A00953822\n",
       "   11 │ A00954408\n",
       "  ⋮   │     ⋮\n",
       " 1882 │ 37704483\n",
       " 1883 │ 40977852\n",
       " 1884 │ 22213623\n",
       " 1885 │ 17557760\n",
       " 1886 │ 27610260\n",
       " 1887 │ 22250328\n",
       " 1888 │ 44818177\n",
       " 1889 │ 34099135\n",
       " 1890 │ 56547276\n",
       " 1891 │ 40747941\n",
       "\u001b[36m 1870 rows omitted\u001b[0m"
      ]
     },
     "execution_count": 30,
     "metadata": {},
     "output_type": "execute_result"
    }
   ],
   "source": [
    "df2=DataFrame(sno=df1[:,3])"
   ]
  },
  {
   "cell_type": "code",
   "execution_count": 31,
   "id": "4cef5086",
   "metadata": {
    "collapsed": true,
    "jupyter": {
     "outputs_hidden": true
    }
   },
   "outputs": [
    {
     "data": {
      "text/html": [
       "<div class=\"data-frame\"><p>1,891 rows × 3 columns</p><table class=\"data-frame\"><thead><tr><th></th><th>cno</th><th>ln</th><th>fn</th></tr><tr><th></th><th title=\"Int64\">Int64</th><th title=\"String31\">String31</th><th title=\"String31\">String31</th></tr></thead><tbody><tr><th>1</th><td>675</td><td>Sangha</td><td>Amit</td></tr><tr><th>2</th><td>675</td><td>Conconi</td><td>Katie</td></tr><tr><th>3</th><td>675</td><td>Flaa</td><td>Erik</td></tr><tr><th>4</th><td>675</td><td>Ly</td><td>Amy</td></tr><tr><th>5</th><td>675</td><td>Smith</td><td>Randy</td></tr><tr><th>6</th><td>675</td><td>Matias</td><td>Reiner</td></tr><tr><th>7</th><td>675</td><td>Liu</td><td>Celina</td></tr><tr><th>8</th><td>675</td><td>Dhillon</td><td>Lucky</td></tr><tr><th>9</th><td>675</td><td>Ward</td><td>Thomas</td></tr><tr><th>10</th><td>675</td><td>Rogers</td><td>Wyatt</td></tr><tr><th>11</th><td>675</td><td>Shi</td><td>Gloria</td></tr><tr><th>12</th><td>675</td><td>Godau</td><td>Jordan</td></tr><tr><th>13</th><td>675</td><td>Tang</td><td>James</td></tr><tr><th>14</th><td>675</td><td>An</td><td>Botan</td></tr><tr><th>15</th><td>675</td><td>Taaffe</td><td>Liam</td></tr><tr><th>16</th><td>675</td><td>Ye</td><td>Jeffrey</td></tr><tr><th>17</th><td>675</td><td>Schroh</td><td>Serianna</td></tr><tr><th>18</th><td>675</td><td>Zeng</td><td>Nicolas</td></tr><tr><th>19</th><td>675</td><td>Oaks</td><td>Chris</td></tr><tr><th>20</th><td>675</td><td>Brown</td><td>Wesley</td></tr><tr><th>21</th><td>675</td><td>Minhas</td><td>Manvinder</td></tr><tr><th>22</th><td>675</td><td>Song</td><td>Peter</td></tr><tr><th>23</th><td>675</td><td>Ly</td><td>Chadrick</td></tr><tr><th>24</th><td>675</td><td>Vandergugten</td><td>Christopher</td></tr><tr><th>25</th><td>675</td><td>Heyes</td><td>Julia</td></tr><tr><th>26</th><td>675</td><td>Chung</td><td>Benson</td></tr><tr><th>27</th><td>675</td><td>Brar</td><td>Surya</td></tr><tr><th>28</th><td>675</td><td>O&apos;Brien</td><td>Nolan</td></tr><tr><th>29</th><td>675</td><td>Tatar</td><td>Iuliu</td></tr><tr><th>30</th><td>675</td><td>Neels</td><td>Erik</td></tr><tr><th>&vellip;</th><td>&vellip;</td><td>&vellip;</td><td>&vellip;</td></tr></tbody></table></div>"
      ],
      "text/latex": [
       "\\begin{tabular}{r|ccc}\n",
       "\t& cno & ln & fn\\\\\n",
       "\t\\hline\n",
       "\t& Int64 & String31 & String31\\\\\n",
       "\t\\hline\n",
       "\t1 & 675 & Sangha & Amit \\\\\n",
       "\t2 & 675 & Conconi & Katie \\\\\n",
       "\t3 & 675 & Flaa & Erik \\\\\n",
       "\t4 & 675 & Ly & Amy \\\\\n",
       "\t5 & 675 & Smith & Randy \\\\\n",
       "\t6 & 675 & Matias & Reiner \\\\\n",
       "\t7 & 675 & Liu & Celina \\\\\n",
       "\t8 & 675 & Dhillon & Lucky \\\\\n",
       "\t9 & 675 & Ward & Thomas \\\\\n",
       "\t10 & 675 & Rogers & Wyatt \\\\\n",
       "\t11 & 675 & Shi & Gloria \\\\\n",
       "\t12 & 675 & Godau & Jordan \\\\\n",
       "\t13 & 675 & Tang & James \\\\\n",
       "\t14 & 675 & An & Botan \\\\\n",
       "\t15 & 675 & Taaffe & Liam \\\\\n",
       "\t16 & 675 & Ye & Jeffrey \\\\\n",
       "\t17 & 675 & Schroh & Serianna \\\\\n",
       "\t18 & 675 & Zeng & Nicolas \\\\\n",
       "\t19 & 675 & Oaks & Chris \\\\\n",
       "\t20 & 675 & Brown & Wesley \\\\\n",
       "\t21 & 675 & Minhas & Manvinder \\\\\n",
       "\t22 & 675 & Song & Peter \\\\\n",
       "\t23 & 675 & Ly & Chadrick \\\\\n",
       "\t24 & 675 & Vandergugten & Christopher \\\\\n",
       "\t25 & 675 & Heyes & Julia \\\\\n",
       "\t26 & 675 & Chung & Benson \\\\\n",
       "\t27 & 675 & Brar & Surya \\\\\n",
       "\t28 & 675 & O'Brien & Nolan \\\\\n",
       "\t29 & 675 & Tatar & Iuliu \\\\\n",
       "\t30 & 675 & Neels & Erik \\\\\n",
       "\t$\\dots$ & $\\dots$ & $\\dots$ & $\\dots$ \\\\\n",
       "\\end{tabular}\n"
      ],
      "text/plain": [
       "\u001b[1m1891×3 DataFrame\u001b[0m\n",
       "\u001b[1m  Row \u001b[0m│\u001b[1m cno   \u001b[0m\u001b[1m ln       \u001b[0m\u001b[1m fn        \u001b[0m\n",
       "\u001b[1m      \u001b[0m│\u001b[90m Int64 \u001b[0m\u001b[90m String31 \u001b[0m\u001b[90m String31  \u001b[0m\n",
       "──────┼────────────────────────────\n",
       "    1 │   675  Sangha    Amit\n",
       "    2 │   675  Conconi   Katie\n",
       "    3 │   675  Flaa      Erik\n",
       "    4 │   675  Ly        Amy\n",
       "    5 │   675  Smith     Randy\n",
       "    6 │   675  Matias    Reiner\n",
       "    7 │   675  Liu       Celina\n",
       "    8 │   675  Dhillon   Lucky\n",
       "    9 │   675  Ward      Thomas\n",
       "   10 │   675  Rogers    Wyatt\n",
       "   11 │   675  Shi       Gloria\n",
       "  ⋮   │   ⋮       ⋮          ⋮\n",
       " 1882 │   514  Wang      Mingkai\n",
       " 1883 │   514  Wang      Wensen\n",
       " 1884 │   514  Wong      Hui\n",
       " 1885 │   514  Yang      Trafaline\n",
       " 1886 │   514  Ye        Ryan\n",
       " 1887 │   514  Zeng      Sabrina\n",
       " 1888 │   514  Zhang     Jiaxin\n",
       " 1889 │   514  Zhao      Curtis\n",
       " 1890 │   514  Zhou      Xinran\n",
       " 1891 │   514  Zurkovic  Nicholas\n",
       "\u001b[36m                  1870 rows omitted\u001b[0m"
      ]
     },
     "execution_count": 31,
     "metadata": {},
     "output_type": "execute_result"
    }
   ],
   "source": [
    "df3=DataFrame(cno=df1[:,2],ln=df1[:,5],fn=df1[:,6])"
   ]
  },
  {
   "cell_type": "code",
   "execution_count": 32,
   "id": "7967b431",
   "metadata": {
    "collapsed": true,
    "jupyter": {
     "outputs_hidden": true
    }
   },
   "outputs": [
    {
     "data": {
      "text/html": [
       "<div class=\"data-frame\"><p>275 rows × 3 columns</p><table class=\"data-frame\"><thead><tr><th></th><th>cno</th><th>ln</th><th>fn</th></tr><tr><th></th><th title=\"Int64\">Int64</th><th title=\"String31\">String31</th><th title=\"String31\">String31</th></tr></thead><tbody><tr><th>1</th><td>192</td><td>Bhullar</td><td>Jappnit</td></tr><tr><th>2</th><td>192</td><td>Chao</td><td>Carlson</td></tr><tr><th>3</th><td>192</td><td>Cheng</td><td>Byron</td></tr><tr><th>4</th><td>192</td><td>Cheng</td><td>Joey</td></tr><tr><th>5</th><td>192</td><td>Ge</td><td>Tiantian</td></tr><tr><th>6</th><td>192</td><td>Hay</td><td>Brendan</td></tr><tr><th>7</th><td>192</td><td>Ho</td><td>Minh</td></tr><tr><th>8</th><td>192</td><td>Huang</td><td>Jason</td></tr><tr><th>9</th><td>192</td><td>Kafle</td><td>Awatar</td></tr><tr><th>10</th><td>192</td><td>Kim</td><td>Harry</td></tr><tr><th>11</th><td>192</td><td>Lai</td><td>Sandra</td></tr><tr><th>12</th><td>192</td><td>Larioza</td><td>Jessica</td></tr><tr><th>13</th><td>192</td><td>Melgarejo Selvera</td><td>Rosa Helida</td></tr><tr><th>14</th><td>192</td><td>Mirzaei Sfanjani</td><td>Elahe</td></tr><tr><th>15</th><td>192</td><td>Mourh</td><td>Pawandeep</td></tr><tr><th>16</th><td>192</td><td>Robertson</td><td>Jake</td></tr><tr><th>17</th><td>192</td><td>Winarto</td><td>Yemima</td></tr><tr><th>18</th><td>192</td><td>Yazdani</td><td>Nasrin</td></tr><tr><th>19</th><td>218</td><td>Benjaminsen</td><td>Aaron</td></tr><tr><th>20</th><td>218</td><td>Binning</td><td>Prabhjeet</td></tr><tr><th>21</th><td>218</td><td>Chahal</td><td>Gurjot</td></tr><tr><th>22</th><td>218</td><td>de Weerdt</td><td>Julia</td></tr><tr><th>23</th><td>218</td><td>Dhillon</td><td>Mandeep</td></tr><tr><th>24</th><td>218</td><td>Garrone</td><td>Nic</td></tr><tr><th>25</th><td>218</td><td>Greggain</td><td>Rory</td></tr><tr><th>26</th><td>218</td><td>Gu</td><td>Ryan</td></tr><tr><th>27</th><td>218</td><td>Hutcheson</td><td>Nigel</td></tr><tr><th>28</th><td>218</td><td>Ivanov</td><td>Stas</td></tr><tr><th>29</th><td>218</td><td>Kim</td><td>Yeseul</td></tr><tr><th>30</th><td>218</td><td>Li</td><td>Yunhui</td></tr><tr><th>&vellip;</th><td>&vellip;</td><td>&vellip;</td><td>&vellip;</td></tr></tbody></table></div>"
      ],
      "text/latex": [
       "\\begin{tabular}{r|ccc}\n",
       "\t& cno & ln & fn\\\\\n",
       "\t\\hline\n",
       "\t& Int64 & String31 & String31\\\\\n",
       "\t\\hline\n",
       "\t1 & 192 & Bhullar & Jappnit \\\\\n",
       "\t2 & 192 & Chao & Carlson \\\\\n",
       "\t3 & 192 & Cheng & Byron \\\\\n",
       "\t4 & 192 & Cheng & Joey \\\\\n",
       "\t5 & 192 & Ge & Tiantian \\\\\n",
       "\t6 & 192 & Hay & Brendan \\\\\n",
       "\t7 & 192 & Ho & Minh \\\\\n",
       "\t8 & 192 & Huang & Jason \\\\\n",
       "\t9 & 192 & Kafle & Awatar \\\\\n",
       "\t10 & 192 & Kim & Harry \\\\\n",
       "\t11 & 192 & Lai & Sandra \\\\\n",
       "\t12 & 192 & Larioza & Jessica \\\\\n",
       "\t13 & 192 & Melgarejo Selvera & Rosa Helida \\\\\n",
       "\t14 & 192 & Mirzaei Sfanjani & Elahe \\\\\n",
       "\t15 & 192 & Mourh & Pawandeep \\\\\n",
       "\t16 & 192 & Robertson & Jake \\\\\n",
       "\t17 & 192 & Winarto & Yemima \\\\\n",
       "\t18 & 192 & Yazdani & Nasrin \\\\\n",
       "\t19 & 218 & Benjaminsen & Aaron \\\\\n",
       "\t20 & 218 & Binning & Prabhjeet \\\\\n",
       "\t21 & 218 & Chahal & Gurjot \\\\\n",
       "\t22 & 218 & de Weerdt & Julia \\\\\n",
       "\t23 & 218 & Dhillon & Mandeep \\\\\n",
       "\t24 & 218 & Garrone & Nic \\\\\n",
       "\t25 & 218 & Greggain & Rory \\\\\n",
       "\t26 & 218 & Gu & Ryan \\\\\n",
       "\t27 & 218 & Hutcheson & Nigel \\\\\n",
       "\t28 & 218 & Ivanov & Stas \\\\\n",
       "\t29 & 218 & Kim & Yeseul \\\\\n",
       "\t30 & 218 & Li & Yunhui \\\\\n",
       "\t$\\dots$ & $\\dots$ & $\\dots$ & $\\dots$ \\\\\n",
       "\\end{tabular}\n"
      ],
      "text/plain": [
       "\u001b[1m275×3 DataFrame\u001b[0m\n",
       "\u001b[1m Row \u001b[0m│\u001b[1m cno   \u001b[0m\u001b[1m ln                \u001b[0m\u001b[1m fn          \u001b[0m\n",
       "\u001b[1m     \u001b[0m│\u001b[90m Int64 \u001b[0m\u001b[90m String31          \u001b[0m\u001b[90m String31    \u001b[0m\n",
       "─────┼───────────────────────────────────────\n",
       "   1 │   192  Bhullar            Jappnit\n",
       "   2 │   192  Chao               Carlson\n",
       "   3 │   192  Cheng              Byron\n",
       "   4 │   192  Cheng              Joey\n",
       "   5 │   192  Ge                 Tiantian\n",
       "   6 │   192  Hay                Brendan\n",
       "   7 │   192  Ho                 Minh\n",
       "   8 │   192  Huang              Jason\n",
       "   9 │   192  Kafle              Awatar\n",
       "  10 │   192  Kim                Harry\n",
       "  11 │   192  Lai                Sandra\n",
       "  ⋮  │   ⋮            ⋮               ⋮\n",
       " 266 │   326  Kim                Emily\n",
       " 267 │   326  Ptak               Kira\n",
       " 268 │   514  Bobyn              Alex\n",
       " 269 │   514  Dannhauer          Alex\n",
       " 270 │   514  Ghosh              Anandita\n",
       " 271 │   514  Hossain            Riyadh\n",
       " 272 │   514  Sharma             Serena\n",
       " 273 │   514  Sioui              Amanda\n",
       " 274 │   514  Urban              Jessica\n",
       " 275 │   514  Wang               Wensen\n",
       "\u001b[36m                             254 rows omitted\u001b[0m"
      ]
     },
     "execution_count": 32,
     "metadata": {},
     "output_type": "execute_result"
    }
   ],
   "source": [
    "df4=df3[findall(nonunique(df2)),:]"
   ]
  },
  {
   "cell_type": "code",
   "execution_count": 33,
   "id": "9157f900",
   "metadata": {
    "collapsed": true,
    "jupyter": {
     "outputs_hidden": true
    }
   },
   "outputs": [
    {
     "data": {
      "text/html": [
       "<div class=\"data-frame\"><p>8 rows × 3 columns</p><table class=\"data-frame\"><thead><tr><th></th><th>cno</th><th>ln</th><th>fn</th></tr><tr><th></th><th title=\"Int64\">Int64</th><th title=\"String31\">String31</th><th title=\"String31\">String31</th></tr></thead><tbody><tr><th>1</th><td>514</td><td>Bobyn</td><td>Alex</td></tr><tr><th>2</th><td>514</td><td>Dannhauer</td><td>Alex</td></tr><tr><th>3</th><td>514</td><td>Ghosh</td><td>Anandita</td></tr><tr><th>4</th><td>514</td><td>Hossain</td><td>Riyadh</td></tr><tr><th>5</th><td>514</td><td>Sharma</td><td>Serena</td></tr><tr><th>6</th><td>514</td><td>Sioui</td><td>Amanda</td></tr><tr><th>7</th><td>514</td><td>Urban</td><td>Jessica</td></tr><tr><th>8</th><td>514</td><td>Wang</td><td>Wensen</td></tr></tbody></table></div>"
      ],
      "text/latex": [
       "\\begin{tabular}{r|ccc}\n",
       "\t& cno & ln & fn\\\\\n",
       "\t\\hline\n",
       "\t& Int64 & String31 & String31\\\\\n",
       "\t\\hline\n",
       "\t1 & 514 & Bobyn & Alex \\\\\n",
       "\t2 & 514 & Dannhauer & Alex \\\\\n",
       "\t3 & 514 & Ghosh & Anandita \\\\\n",
       "\t4 & 514 & Hossain & Riyadh \\\\\n",
       "\t5 & 514 & Sharma & Serena \\\\\n",
       "\t6 & 514 & Sioui & Amanda \\\\\n",
       "\t7 & 514 & Urban & Jessica \\\\\n",
       "\t8 & 514 & Wang & Wensen \\\\\n",
       "\\end{tabular}\n"
      ],
      "text/plain": [
       "\u001b[1m8×3 DataFrame\u001b[0m\n",
       "\u001b[1m Row \u001b[0m│\u001b[1m cno   \u001b[0m\u001b[1m ln        \u001b[0m\u001b[1m fn       \u001b[0m\n",
       "\u001b[1m     \u001b[0m│\u001b[90m Int64 \u001b[0m\u001b[90m String31  \u001b[0m\u001b[90m String31 \u001b[0m\n",
       "─────┼────────────────────────────\n",
       "   1 │   514  Bobyn      Alex\n",
       "   2 │   514  Dannhauer  Alex\n",
       "   3 │   514  Ghosh      Anandita\n",
       "   4 │   514  Hossain    Riyadh\n",
       "   5 │   514  Sharma     Serena\n",
       "   6 │   514  Sioui      Amanda\n",
       "   7 │   514  Urban      Jessica\n",
       "   8 │   514  Wang       Wensen"
      ]
     },
     "execution_count": 33,
     "metadata": {},
     "output_type": "execute_result"
    }
   ],
   "source": [
    "df5=df4[df4.cno .== 514,:]"
   ]
  },
  {
   "cell_type": "code",
   "execution_count": 34,
   "id": "84818877",
   "metadata": {},
   "outputs": [
    {
     "data": {
      "text/plain": [
       "77//60"
      ]
     },
     "execution_count": 34,
     "metadata": {},
     "output_type": "execute_result"
    }
   ],
   "source": [
    "+(//(14,3),//(-7,4),//(-7,2),//(-14,5),//(14,3))"
   ]
  },
  {
   "cell_type": "code",
   "execution_count": 1,
   "id": "094ba166",
   "metadata": {},
   "outputs": [
    {
     "data": {
      "text/plain": [
       "36//1"
      ]
     },
     "execution_count": 1,
     "metadata": {},
     "output_type": "execute_result"
    }
   ],
   "source": [
    "-(*(//(4,3),125),*(//(2,3),196))"
   ]
  },
  {
   "cell_type": "code",
   "execution_count": 1,
   "id": "d8e1aa6f",
   "metadata": {},
   "outputs": [
    {
     "data": {
      "text/plain": [
       "25//17"
      ]
     },
     "execution_count": 1,
     "metadata": {},
     "output_type": "execute_result"
    }
   ],
   "source": [
    "*(//(3,68),+(//(*(16,7),4),//(16,3)))"
   ]
  },
  {
   "cell_type": "code",
   "execution_count": 5,
   "id": "4e77e3af",
   "metadata": {},
   "outputs": [
    {
     "data": {
      "text/plain": [
       "f1 (generic function with 1 method)"
      ]
     },
     "execution_count": 5,
     "metadata": {},
     "output_type": "execute_result"
    }
   ],
   "source": [
    "f1(x)=+(*(//(49,5),^(x,5)),*(7,^(x,4)),*(//(4,3),^(x,3)))"
   ]
  },
  {
   "cell_type": "code",
   "execution_count": 7,
   "id": "2543088b",
   "metadata": {},
   "outputs": [
    {
     "data": {
      "text/plain": [
       "3272//15"
      ]
     },
     "execution_count": 7,
     "metadata": {},
     "output_type": "execute_result"
    }
   ],
   "source": [
    "*(//(1,2),-(f1(2),f1(0)))"
   ]
  },
  {
   "cell_type": "code",
   "execution_count": 8,
   "id": "648b5610",
   "metadata": {},
   "outputs": [
    {
     "data": {
      "text/plain": [
       "818//85"
      ]
     },
     "execution_count": 8,
     "metadata": {},
     "output_type": "execute_result"
    }
   ],
   "source": [
    "*(//(3272,15),//(3,68))"
   ]
  },
  {
   "cell_type": "code",
   "execution_count": 9,
   "id": "135c2c8f",
   "metadata": {},
   "outputs": [],
   "source": [
    "using SymPy"
   ]
  },
  {
   "cell_type": "code",
   "execution_count": 10,
   "id": "802cab0d",
   "metadata": {},
   "outputs": [
    {
     "data": {
      "text/plain": [
       "(x,)"
      ]
     },
     "execution_count": 10,
     "metadata": {},
     "output_type": "execute_result"
    }
   ],
   "source": [
    "@vars x"
   ]
  },
  {
   "cell_type": "code",
   "execution_count": 11,
   "id": "6c79bc12",
   "metadata": {},
   "outputs": [
    {
     "data": {
      "text/plain": [
       "q1 (generic function with 1 method)"
      ]
     },
     "execution_count": 11,
     "metadata": {},
     "output_type": "execute_result"
    }
   ],
   "source": [
    "q1(x)=^(-(1,x),3)"
   ]
  },
  {
   "cell_type": "code",
   "execution_count": 12,
   "id": "c0ccfafb",
   "metadata": {},
   "outputs": [
    {
     "data": {
      "text/latex": [
       "$- x^{3} + 3 x^{2} - 3 x + 1$"
      ],
      "text/plain": [
       "   3      2          \n",
       "- x  + 3⋅x  - 3⋅x + 1"
      ]
     },
     "execution_count": 12,
     "metadata": {},
     "output_type": "execute_result"
    }
   ],
   "source": [
    "expand(q1(x))"
   ]
  },
  {
   "cell_type": "code",
   "execution_count": 13,
   "id": "b86e16da",
   "metadata": {},
   "outputs": [
    {
     "data": {
      "text/plain": [
       "-83//10"
      ]
     },
     "execution_count": 13,
     "metadata": {},
     "output_type": "execute_result"
    }
   ],
   "source": [
    "+(//(1,4),//(1,10),//(-2,5),8,-16,//(-1,4))"
   ]
  },
  {
   "cell_type": "code",
   "execution_count": 14,
   "id": "6d604503",
   "metadata": {},
   "outputs": [],
   "source": [
    "using QuadGK"
   ]
  },
  {
   "cell_type": "code",
   "execution_count": 17,
   "id": "975ade78",
   "metadata": {},
   "outputs": [
    {
     "data": {
      "text/plain": [
       "(10.5, 0.0)"
      ]
     },
     "execution_count": 17,
     "metadata": {},
     "output_type": "execute_result"
    }
   ],
   "source": [
    "integral,err=quadgk(x->+(*(-2,^(x,2),-(2,*(/(2,3),x))),*(-2,^(-(2,*(/(2,3),x)),3)),*(/(-7,2),x,^(-(2,*(/(2,3),x)),2)),*(6,x,-(2,*(/(2,3),x))),*(6,^(-(2,*(/(2,3),x)),2))),0,3,rtol=1e-8)"
   ]
  },
  {
   "cell_type": "code",
   "execution_count": 16,
   "id": "3765ebfd",
   "metadata": {},
   "outputs": [
    {
     "data": {
      "text/plain": [
       "75.0"
      ]
     },
     "execution_count": 16,
     "metadata": {},
     "output_type": "execute_result"
    }
   ],
   "source": [
    "*(37.5,2)"
   ]
  },
  {
   "cell_type": "code",
   "execution_count": 20,
   "id": "fac2fe91",
   "metadata": {},
   "outputs": [
    {
     "data": {
      "text/plain": [
       "(0.49999999999999994, 4.476974346800944e-13)"
      ]
     },
     "execution_count": 20,
     "metadata": {},
     "output_type": "execute_result"
    }
   ],
   "source": [
    "integral,err=quadgk(x->*(cos(x),sin(x)),0,*(/(1,2),pi),rtol=1e-8)"
   ]
  },
  {
   "cell_type": "code",
   "execution_count": 22,
   "id": "b551b101",
   "metadata": {},
   "outputs": [
    {
     "data": {
      "text/plain": [
       "15.624999999999998"
      ]
     },
     "execution_count": 22,
     "metadata": {},
     "output_type": "execute_result"
    }
   ],
   "source": [
    "*(/(625,20),integral)"
   ]
  },
  {
   "cell_type": "code",
   "execution_count": 21,
   "id": "6fcddd76",
   "metadata": {},
   "outputs": [
    {
     "data": {
      "text/plain": [
       "1//2"
      ]
     },
     "execution_count": 21,
     "metadata": {},
     "output_type": "execute_result"
    }
   ],
   "source": [
    "*(//(125,8),//(20,625))"
   ]
  },
  {
   "cell_type": "code",
   "execution_count": 23,
   "id": "940c53bf",
   "metadata": {},
   "outputs": [
    {
     "data": {
      "text/plain": [
       "15.625"
      ]
     },
     "execution_count": 23,
     "metadata": {},
     "output_type": "execute_result"
    }
   ],
   "source": [
    "/(125,8)"
   ]
  },
  {
   "cell_type": "code",
   "execution_count": 24,
   "id": "c583ebf0",
   "metadata": {},
   "outputs": [
    {
     "data": {
      "text/plain": [
       "1//1"
      ]
     },
     "execution_count": 24,
     "metadata": {},
     "output_type": "execute_result"
    }
   ],
   "source": [
    "*(//(105,8),+(//(1,3),//(1,7),//(-2,5)))"
   ]
  },
  {
   "cell_type": "code",
   "execution_count": 25,
   "id": "b88c3e9c",
   "metadata": {},
   "outputs": [
    {
     "data": {
      "text/plain": [
       "-1//12"
      ]
     },
     "execution_count": 25,
     "metadata": {},
     "output_type": "execute_result"
    }
   ],
   "source": [
    "*(//(105,8),+(//(2,5),//(-4,7),//(2,9),//(-1,5),//(2,7),//(-1,7)))"
   ]
  },
  {
   "cell_type": "code",
   "execution_count": 26,
   "id": "b27fd726",
   "metadata": {},
   "outputs": [
    {
     "data": {
      "text/plain": [
       "8//105"
      ]
     },
     "execution_count": 26,
     "metadata": {},
     "output_type": "execute_result"
    }
   ],
   "source": [
    "+(//(1,7),//(1,3),//(-2,5))"
   ]
  },
  {
   "cell_type": "code",
   "execution_count": 27,
   "id": "51d4d0c4",
   "metadata": {},
   "outputs": [
    {
     "data": {
      "text/plain": [
       "2//9"
      ]
     },
     "execution_count": 27,
     "metadata": {},
     "output_type": "execute_result"
    }
   ],
   "source": [
    "*(//(105,48),+(//(-2,9),//(6,7),//(-6,5),//(2,3)))"
   ]
  },
  {
   "cell_type": "code",
   "execution_count": 29,
   "id": "85a25946",
   "metadata": {},
   "outputs": [
    {
     "data": {
      "text/plain": [
       "6378.1"
      ]
     },
     "execution_count": 29,
     "metadata": {},
     "output_type": "execute_result"
    }
   ],
   "source": [
    "R=6378.1"
   ]
  },
  {
   "cell_type": "code",
   "execution_count": 30,
   "id": "05f394ce",
   "metadata": {},
   "outputs": [
    {
     "data": {
      "text/plain": [
       "12398.813991878773"
      ]
     },
     "execution_count": 30,
     "metadata": {},
     "output_type": "execute_result"
    }
   ],
   "source": [
    "lat=*(*(121,/(pi,180)),R,cos(*(23,/(pi,180))))"
   ]
  },
  {
   "cell_type": "code",
   "execution_count": 31,
   "id": "c7d372c1",
   "metadata": {},
   "outputs": [
    {
     "data": {
      "text/plain": [
       "3228.24650562206"
      ]
     },
     "execution_count": 31,
     "metadata": {},
     "output_type": "execute_result"
    }
   ],
   "source": [
    "lon=*(R,*(29,/(pi,180)))"
   ]
  },
  {
   "cell_type": "code",
   "execution_count": null,
   "id": "8d23f896",
   "metadata": {},
   "outputs": [],
   "source": []
  },
  {
   "cell_type": "code",
   "execution_count": null,
   "id": "dfae760f",
   "metadata": {},
   "outputs": [],
   "source": []
  },
  {
   "cell_type": "code",
   "execution_count": null,
   "id": "06fff506",
   "metadata": {},
   "outputs": [],
   "source": []
  },
  {
   "cell_type": "code",
   "execution_count": null,
   "id": "29783cce",
   "metadata": {},
   "outputs": [],
   "source": []
  },
  {
   "cell_type": "code",
   "execution_count": null,
   "id": "3406f5de",
   "metadata": {},
   "outputs": [],
   "source": []
  },
  {
   "cell_type": "code",
   "execution_count": null,
   "id": "72f92cd5",
   "metadata": {},
   "outputs": [],
   "source": []
  },
  {
   "cell_type": "code",
   "execution_count": null,
   "id": "176ae9cd",
   "metadata": {},
   "outputs": [],
   "source": []
  },
  {
   "cell_type": "code",
   "execution_count": null,
   "id": "c8246f4b",
   "metadata": {},
   "outputs": [],
   "source": []
  },
  {
   "cell_type": "code",
   "execution_count": null,
   "id": "3d3a4326",
   "metadata": {},
   "outputs": [],
   "source": []
  },
  {
   "cell_type": "code",
   "execution_count": null,
   "id": "cb267f40",
   "metadata": {},
   "outputs": [],
   "source": []
  },
  {
   "cell_type": "code",
   "execution_count": null,
   "id": "35eeb972",
   "metadata": {},
   "outputs": [],
   "source": []
  },
  {
   "cell_type": "code",
   "execution_count": null,
   "id": "b78240f8",
   "metadata": {},
   "outputs": [],
   "source": []
  },
  {
   "cell_type": "code",
   "execution_count": null,
   "id": "225567fe",
   "metadata": {},
   "outputs": [],
   "source": []
  },
  {
   "cell_type": "code",
   "execution_count": null,
   "id": "6501fbfb",
   "metadata": {},
   "outputs": [],
   "source": []
  },
  {
   "cell_type": "code",
   "execution_count": null,
   "id": "6aa115a4",
   "metadata": {},
   "outputs": [],
   "source": []
  },
  {
   "cell_type": "code",
   "execution_count": null,
   "id": "c7ebd82f",
   "metadata": {},
   "outputs": [],
   "source": []
  },
  {
   "cell_type": "code",
   "execution_count": null,
   "id": "52d200cd",
   "metadata": {},
   "outputs": [],
   "source": []
  },
  {
   "cell_type": "code",
   "execution_count": null,
   "id": "41507b38",
   "metadata": {},
   "outputs": [],
   "source": []
  }
 ],
 "metadata": {
  "kernelspec": {
   "display_name": "Julia 1.7.2",
   "language": "julia",
   "name": "julia-1.7"
  },
  "language_info": {
   "file_extension": ".jl",
   "mimetype": "application/julia",
   "name": "julia",
   "version": "1.7.2"
  }
 },
 "nbformat": 4,
 "nbformat_minor": 5
}
