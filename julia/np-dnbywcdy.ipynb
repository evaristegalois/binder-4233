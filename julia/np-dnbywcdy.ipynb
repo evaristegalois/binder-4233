{
 "cells": [
  {
   "cell_type": "markdown",
   "id": "74f4094d",
   "metadata": {},
   "source": [
    "<h2>Spring and Gravity</h2>"
   ]
  },
  {
   "cell_type": "markdown",
   "id": "98b6e3f5",
   "metadata": {},
   "source": [
    "A brick of mass $6\\,kg$ hangs from the end of a spring. When the brick is at rest, the spring is stretched by $3\\,cm$. The spring is then stretched an additional $2\\,cm$ and released. Assume there is no air resistance. Note that the acceleration due to gravity, $g$, is $g = 980\\,cm/s^2$.\n",
    "\n",
    "Set up a differential equation with initial conditions describing the motion and solve it for the displacement of the mass from its equilibrium position (with the spring stretched $3\\,cm$). "
   ]
  },
  {
   "cell_type": "code",
   "execution_count": 24,
   "id": "5a51eafb",
   "metadata": {},
   "outputs": [
    {
     "data": {
      "text/plain": [
       "6"
      ]
     },
     "execution_count": 24,
     "metadata": {},
     "output_type": "execute_result"
    }
   ],
   "source": [
    "m=6"
   ]
  },
  {
   "cell_type": "code",
   "execution_count": 25,
   "id": "0936a1e3",
   "metadata": {},
   "outputs": [
    {
     "data": {
      "text/plain": [
       "980"
      ]
     },
     "execution_count": 25,
     "metadata": {},
     "output_type": "execute_result"
    }
   ],
   "source": [
    "g=980"
   ]
  },
  {
   "cell_type": "code",
   "execution_count": 29,
   "id": "9cc882bf",
   "metadata": {},
   "outputs": [
    {
     "data": {
      "text/plain": [
       "1960"
      ]
     },
     "execution_count": 29,
     "metadata": {},
     "output_type": "execute_result"
    }
   ],
   "source": [
    "kk=2*g # force exerted by gravity m*g must balance force of spring at 3cm k*2"
   ]
  },
  {
   "cell_type": "markdown",
   "id": "92599d17",
   "metadata": {},
   "source": [
    "The diffeq is\n",
    "$$\n",
    "mx''+kx=0\n",
    "$$\n",
    "it is *not*\n",
    "$$\n",
    "mx''+kx=-g\n",
    "$$\n",
    "because the spring stretched to equilibrium compensates for gravity. The solution meeting the initial conditions is\n",
    "$$\n",
    "x(t)=(-2)\\cos\\left(\\sqrt{\\frac{g}{3}}t\\right)\n",
    "$$"
   ]
  }
 ],
 "metadata": {
  "kernelspec": {
   "display_name": "Julia 1.7.2",
   "language": "julia",
   "name": "julia-1.7"
  },
  "language_info": {
   "file_extension": ".jl",
   "mimetype": "application/julia",
   "name": "julia",
   "version": "1.7.2"
  }
 },
 "nbformat": 4,
 "nbformat_minor": 5
}
