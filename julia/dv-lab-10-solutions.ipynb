{
 "cells": [
  {
   "cell_type": "markdown",
   "metadata": {},
   "source": [
    "<h1>\n",
    "    Lab Sheet 10 Solutions\n",
    "</h1>"
   ]
  },
  {
   "cell_type": "markdown",
   "metadata": {},
   "source": [
    "<h3>\n",
    "    Lab Sheet 10 Problem 1\n",
    "</h3>"
   ]
  },
  {
   "cell_type": "markdown",
   "metadata": {},
   "source": [
    "Find the general solution of the nonhomogeneous system\n",
    "\\begin{equation}\n",
    "  \\label{eq:unbscjdz}\n",
    "  \\vec{x}'=\\left[\n",
    "    \\begin{array}{cc}\n",
    "      -3&1 \\\\\n",
    "       2&-4\n",
    "    \\end{array}\n",
    "    \\right]\\vec{x}\\notag\n",
    "  \\end{equation}"
   ]
  },
  {
   "cell_type": "code",
   "execution_count": 21,
   "metadata": {},
   "outputs": [],
   "source": [
    "using SymPy"
   ]
  },
  {
   "cell_type": "code",
   "execution_count": 22,
   "metadata": {},
   "outputs": [
    {
     "data": {
      "text/plain": [
       "(t,)"
      ]
     },
     "execution_count": 22,
     "metadata": {},
     "output_type": "execute_result"
    }
   ],
   "source": [
    "@vars t"
   ]
  },
  {
   "cell_type": "code",
   "execution_count": 6,
   "metadata": {},
   "outputs": [
    {
     "data": {
      "text/plain": [
       "2×2 Matrix{Int64}:\n",
       " -3   1\n",
       "  2  -4"
      ]
     },
     "execution_count": 6,
     "metadata": {},
     "output_type": "execute_result"
    }
   ],
   "source": [
    "A=[-3 1\n",
    "2 -4]"
   ]
  },
  {
   "cell_type": "code",
   "execution_count": 10,
   "metadata": {},
   "outputs": [
    {
     "data": {
      "text/latex": [
       "$\\left[ \\begin{array}{rr}\\frac{2 e^{- 2 t}}{3} + \\frac{e^{- 5 t}}{3}&\\frac{e^{- 2 t}}{3} - \\frac{e^{- 5 t}}{3}\\\\\\frac{2 e^{- 2 t}}{3} - \\frac{2 e^{- 5 t}}{3}&\\frac{e^{- 2 t}}{3} + \\frac{2 e^{- 5 t}}{3}\\end{array}\\right]$\n"
      ],
      "text/plain": [
       "2×2 Matrix{Sym}:\n",
       "   2*exp(-2*t)/3 + exp(-5*t)/3    exp(-2*t)/3 - exp(-5*t)/3\n",
       " 2*exp(-2*t)/3 - 2*exp(-5*t)/3  exp(-2*t)/3 + 2*exp(-5*t)/3"
      ]
     },
     "execution_count": 10,
     "metadata": {},
     "output_type": "execute_result"
    }
   ],
   "source": [
    "exp(A*t) # you can also use eigenvalues and eigenvectors"
   ]
  },
  {
   "cell_type": "markdown",
   "metadata": {},
   "source": [
    "$$\n",
    "x(t)=c_1\\left[\\begin{array}{c}1\\\\1\\end{array}\\right]e^{-2t}+c_2\\left[\\begin{array}{c}1\\\\-2\\end{array}\\right]e^{-5t}\n",
    "$$"
   ]
  },
  {
   "cell_type": "markdown",
   "metadata": {},
   "source": [
    "<h3>\n",
    "    Lab Sheet 10 Problem 2\n",
    "</h3>"
   ]
  },
  {
   "cell_type": "markdown",
   "metadata": {},
   "source": [
    "Solve the IVP\n",
    "  \\begin{align*}\n",
    "    x_1'&=x_1-x_2+\\frac{1}{t}\\\\\n",
    "    x_2'&=x_1-x_2+\\frac{1}{t}\n",
    "  \\end{align*}\n",
    "  with $x_1(1)=2$ and $x_2(1)=-1$"
   ]
  },
  {
   "cell_type": "markdown",
   "metadata": {},
   "source": [
    "The only eigenvalue is $0$; there is only one linearly independent eigenvector for it, which is $(1,1)^{\\intercal}$. This eigenvector forms a chain of generalized eigenvectors with $(1,0)^{\\intercal}$. Therefore, the complementary solution is\n",
    "$$\n",
    "x_c(t)=c_1\\left[\\begin{array}{c}1\\\\1\\end{array}\\right]+c_2\\left(\\left[\\begin{array}{c}1\\\\1\\end{array}\\right]t+\\left[\\begin{array}{c}1\\\\0\\end{array}\\right]\\right)\n",
    "$$\n",
    "Now use\n",
    "$$\n",
    "      \\begin{equation}\n",
    "        \\label{eq:wxjbytmq}\n",
    "        x_p(t)=\\Phi(t)\\int\\left(\\Phi(t)\\right)^{-1}f(t)\\,dt\\notag\n",
    "\\end{equation}\n",
    "$$\n",
    "for\n",
    "$$\n",
    "x_p(t)=\\left[\\begin{array}{c}\\ln{}t\\\\\\ln{}t\\end{array}\\right]\n",
    "$$\n",
    "Plug in your initial conditions for the following system of linear equations."
   ]
  },
  {
   "cell_type": "code",
   "execution_count": 16,
   "metadata": {},
   "outputs": [],
   "source": [
    "using LinearAlgebra"
   ]
  },
  {
   "cell_type": "code",
   "execution_count": 17,
   "metadata": {},
   "outputs": [
    {
     "data": {
      "text/plain": [
       "2×2 Matrix{Int64}:\n",
       " 1  2\n",
       " 1  1"
      ]
     },
     "execution_count": 17,
     "metadata": {},
     "output_type": "execute_result"
    }
   ],
   "source": [
    "M2=[1 2;1 1]"
   ]
  },
  {
   "cell_type": "code",
   "execution_count": 18,
   "metadata": {},
   "outputs": [
    {
     "data": {
      "text/plain": [
       "2-element Vector{Int64}:\n",
       "  2\n",
       " -1"
      ]
     },
     "execution_count": 18,
     "metadata": {},
     "output_type": "execute_result"
    }
   ],
   "source": [
    "v2=[2;-1]"
   ]
  },
  {
   "cell_type": "code",
   "execution_count": 20,
   "metadata": {},
   "outputs": [
    {
     "data": {
      "text/plain": [
       "2-element Vector{Float64}:\n",
       " -4.0\n",
       "  3.0"
      ]
     },
     "execution_count": 20,
     "metadata": {},
     "output_type": "execute_result"
    }
   ],
   "source": [
    "inv(M2)*v2 # c1 and c2"
   ]
  },
  {
   "cell_type": "markdown",
   "metadata": {},
   "source": [
    "Therefore,\n",
    "$$\n",
    "\\begin{align*}\n",
    "x_1(t)&=\\ln{}t-1+3t\\\\\n",
    "x_2(t)&=\\ln{}t-4+3t\n",
    "\\end{align*}\n",
    "$$"
   ]
  },
  {
   "cell_type": "markdown",
   "metadata": {},
   "source": [
    "<h3>\n",
    "    Lab Sheet 10 Problem 3\n",
    "</h3>"
   ]
  },
  {
   "cell_type": "markdown",
   "metadata": {},
   "source": [
    "The system of differential equations for the currents\n",
    "  $i_1(t)$ and $i_2(t)$ in the electrical network shown is\n",
    "  \\begin{equation}\n",
    "    \\label{eq:vngdnkzj}\n",
    "    \\frac{d}{dt}\\left[\n",
    "      \\begin{array}{c}\n",
    "        i_1\\\\i_2\n",
    "      \\end{array}\n",
    "\\right]=\\left[\n",
    "  \\begin{array}{cc}\n",
    "    -(R_1+R_2)/L_2&R_2/L_2\\\\\n",
    "    R_2/L_1&-R_2/L_1\n",
    "  \\end{array}\n",
    "\\right]\\left[\n",
    "      \\begin{array}{c}\n",
    "        i_1\\\\i_2\n",
    "      \\end{array}\n",
    "\\right]+\\left[\n",
    "  \\begin{array}{c}\n",
    "    E/L_2\\\\0\n",
    "  \\end{array}\n",
    "\\right]\\notag\n",
    "\\end{equation}\n",
    "Use variation of parameters to solve the system if\n",
    "$R_1=8\\,\\Omega,R_2=3\\,\\Omega,L_1=L_2=1\\,h$, and\n",
    "$E(t)=100\\sin{}t\\,V$; with $i_1(0)=i_2(0)=0$."
   ]
  },
  {
   "cell_type": "markdown",
   "metadata": {},
   "source": [
    "<img src=\"./diagrams/qtkhenqj.png\" width=\"30%\" height=\"30%\">"
   ]
  },
  {
   "cell_type": "code",
   "execution_count": 13,
   "metadata": {
    "collapsed": false,
    "jupyter": {
     "outputs_hidden": false
    }
   },
   "outputs": [],
   "source": [
    "A3=matrix(QQ,[[-11,3],[3,-3]]) # sage code"
   ]
  },
  {
   "cell_type": "code",
   "execution_count": 14,
   "metadata": {
    "collapsed": false,
    "jupyter": {
     "outputs_hidden": false
    }
   },
   "outputs": [
    {
     "data": {
      "text/plain": [
       "[(-2,\n",
       "  [\n",
       "  (1, 3)\n",
       "  ],\n",
       "  1),\n",
       " (-12,\n",
       "  [\n",
       "  (1, -1/3)\n",
       "  ],\n",
       "  1)]"
      ]
     },
     "execution_count": 14,
     "metadata": {},
     "output_type": "execute_result"
    }
   ],
   "source": [
    "A3.eigenvectors_right() # sage code"
   ]
  },
  {
   "cell_type": "markdown",
   "metadata": {},
   "source": [
    "The system is \n",
    "$$\n",
    "\\vec{i}'=\\left[\n",
    "    \\begin{array}{cc}\n",
    "      -11&3 \\\\\n",
    "       3&-3\n",
    "    \\end{array}\n",
    "    \\right]\\vec{i}+\\left[\n",
    "  \\begin{array}{c}\n",
    "    100\\sin{}t\\\\0\n",
    "  \\end{array}\n",
    "\\right]\n",
    "$$\n",
    "with\n",
    "$$\n",
    "i_c(t)=c_1\\left[\\begin{array}{c}1\\\\3\\end{array}\\right]e^{-2t}+c_2\\left[\\begin{array}{c}3\\\\-1\\end{array}\\right]e^{-12t}\n",
    "$$\n"
   ]
  },
  {
   "cell_type": "markdown",
   "metadata": {},
   "source": [
    "<img src=\"./diagrams/qtkhenqj1.png\" width=\"80%\" height=\"80%\">"
   ]
  },
  {
   "cell_type": "code",
   "execution_count": 1,
   "metadata": {},
   "outputs": [
    {
     "data": {
      "text/plain": [
       "4×4 Matrix{Int64}:\n",
       " 11  -3  -1   0\n",
       "  1   0  11  -3\n",
       " -3   3   0  -1\n",
       "  0   1  -3   3"
      ]
     },
     "execution_count": 1,
     "metadata": {},
     "output_type": "execute_result"
    }
   ],
   "source": [
    "M3=[11 -3 -1 0\n",
    "1 0 11 -3\n",
    "-3 3 0 -1\n",
    "0 1 -3 3]"
   ]
  },
  {
   "cell_type": "code",
   "execution_count": 2,
   "metadata": {},
   "outputs": [
    {
     "data": {
      "text/plain": [
       "4-element Vector{Int64}:\n",
       " 100\n",
       "   0\n",
       "   0\n",
       "   0"
      ]
     },
     "execution_count": 2,
     "metadata": {},
     "output_type": "execute_result"
    }
   ],
   "source": [
    "v3=[100;0;0;0]"
   ]
  },
  {
   "cell_type": "code",
   "execution_count": 5,
   "metadata": {},
   "outputs": [],
   "source": [
    "using LinearAlgebra"
   ]
  },
  {
   "cell_type": "code",
   "execution_count": 7,
   "metadata": {},
   "outputs": [
    {
     "data": {
      "text/plain": [
       "4-element Vector{Float64}:\n",
       "  332.0\n",
       "  276.0\n",
       "  -75.99999999999999\n",
       " -167.99999999999997"
      ]
     },
     "execution_count": 7,
     "metadata": {},
     "output_type": "execute_result"
    }
   ],
   "source": [
    "inv(M3)*v3*29"
   ]
  },
  {
   "cell_type": "markdown",
   "metadata": {},
   "source": [
    "$$\n",
    "i(t)=c_1\\left[\\begin{array}{c}1\\\\3\\end{array}\\right]e^{-2t}+c_2\\left[\\begin{array}{c}3\\\\-1\\end{array}\\right]e^{-12t}+\\left[\\begin{array}{c}\\frac{332}{29}\\\\\\frac{276}{29}\\end{array}\\right]\\sin{}t-\\left[\\begin{array}{c}\\frac{76}{29}\\\\\\frac{168}{29}\\end{array}\\right]\\cos{}t\n",
    "$$\n"
   ]
  },
  {
   "cell_type": "markdown",
   "metadata": {},
   "source": [
    "Plug in initial conditions for $c_1=2$ and $c_2=\\frac{6}{29}$."
   ]
  },
  {
   "cell_type": "markdown",
   "metadata": {},
   "source": [
    "<h3>\n",
    "    Lab Sheet 10 Problem 4\n",
    "</h3>"
   ]
  },
  {
   "cell_type": "markdown",
   "metadata": {},
   "source": [
    "Verify that $e^{At}$ solves the IVP $X'=AX$ with $X(0)=I$,\n",
    "where $X(t)$ is a matrix-valued function of $t$. Take the Laplace\n",
    "transform of the two sides of the differential equation for\n",
    "\\begin{equation}\n",
    "  \\label{eq:qhducuvr}\n",
    "  \\mathcal{L}\\left\\{e^{At}\\right\\}=\\left(sI-A\\right)^{-1}\\notag\n",
    "\\end{equation}\n",
    "Use this to find the matrix exponential $e^{At}$ for\n",
    "\\begin{equation}\n",
    "  \\label{eq:tbfwmkxo}\n",
    "  A=\\left[\n",
    "    \\begin{array}{cc}\n",
    "      1&-1\\\\\n",
    "         2&-2\n",
    "    \\end{array}\n",
    "    \\right]\\notag\n",
    "  \\end{equation}"
   ]
  },
  {
   "cell_type": "markdown",
   "metadata": {},
   "source": [
    "<img src=\"./diagrams/hrsrdpyc1.png\" width=\"80%\" height=\"80%\">"
   ]
  },
  {
   "cell_type": "markdown",
   "metadata": {},
   "source": [
    "<h3>\n",
    "    Lab Sheet 10 Problem 5\n",
    "</h3>"
   ]
  },
  {
   "cell_type": "markdown",
   "metadata": {},
   "source": [
    "A double pendulum swinging in a vertical plane under the\n",
    "  influence of gravity satisfies the system\n",
    "  \\begin{align*}\n",
    "    0&=(m_1+m_2)l_1^2\\theta_1''+m_2l_1l_2\\theta_2''+(m_1+m_2)l_1g\\theta_1\\\\\n",
    "    0&=m_2l_2^2\\theta_2''+m_2l_1l_2\\theta_1''+m_2l_2g\\theta_2\n",
    "  \\end{align*}\n",
    "  when $\\theta_1$ and $\\theta_2$ are small angles. Solve the system\n",
    "  when $m_1=3\\,kg,m_2=2\\,kg,l_1=l_2=5\\,m$ and\n",
    "  $\\theta_1(0)=\\frac{\\pi}{6},\\theta_2(0)=\\theta_1'(0)=\\theta_2'(0)=0$."
   ]
  },
  {
   "cell_type": "markdown",
   "metadata": {},
   "source": [
    "<img src=\"./diagrams/hrsrdpyc.png\" width=\"30%\" height=\"30%\">"
   ]
  },
  {
   "cell_type": "code",
   "execution_count": 11,
   "metadata": {},
   "outputs": [
    {
     "data": {
      "text/plain": [
       "9.8"
      ]
     },
     "execution_count": 11,
     "metadata": {},
     "output_type": "execute_result"
    }
   ],
   "source": [
    "g=9.8"
   ]
  },
  {
   "cell_type": "markdown",
   "metadata": {},
   "source": [
    "Solve a system of linear equations for\n",
    "$$\n",
    "\\left[\n",
    "    \\begin{array}{c}\n",
    "      \\theta_1''\\\\\n",
    "         \\theta_2''\n",
    "    \\end{array}\n",
    "    \\right]=\\frac{g}{375}\\left[\n",
    "    \\begin{array}{cc}\n",
    "      -5&2\\\\\n",
    "         5&-5\n",
    "    \\end{array}\n",
    "    \\right]\\cdot\\left[\n",
    "    \\begin{array}{c}\n",
    "      \\theta_1\\\\\n",
    "         \\theta_2\n",
    "    \\end{array}\n",
    "    \\right]\n",
    "$$\n",
    "Now let $x_1=\\theta_1,x_2=\\theta_1',x_3=\\theta_2,x_4=\\theta_2',a=\\frac{g}{375}$. Then the system is"
   ]
  },
  {
   "cell_type": "markdown",
   "metadata": {},
   "source": [
    "$$\n",
    "\\vec{x}'=\\left[\n",
    "    \\begin{array}{cccc}\n",
    "      0&1&0&0 \\\\\n",
    "      -5a&0&2a&0 \\\\\n",
    "      0&0&0&1 \\\\\n",
    "      5a&0&-5a&0\n",
    "    \\end{array}\n",
    "    \\right]\\vec{x}\n",
    "$$"
   ]
  },
  {
   "cell_type": "code",
   "execution_count": 15,
   "metadata": {},
   "outputs": [
    {
     "data": {
      "text/plain": [
       "0.026133333333333335"
      ]
     },
     "execution_count": 15,
     "metadata": {},
     "output_type": "execute_result"
    }
   ],
   "source": [
    "a=g/375"
   ]
  },
  {
   "cell_type": "code",
   "execution_count": 16,
   "metadata": {},
   "outputs": [
    {
     "data": {
      "text/plain": [
       "4×4 Matrix{Float64}:\n",
       "  0.0       1.0   0.0        0.0\n",
       " -0.130667  0.0   0.0522667  0.0\n",
       "  0.0       0.0   0.0        1.0\n",
       "  0.130667  0.0  -0.130667   0.0"
      ]
     },
     "execution_count": 16,
     "metadata": {},
     "output_type": "execute_result"
    }
   ],
   "source": [
    "A5=[0 1 0 0\n",
    "-5*a 0 2*a 0\n",
    "0 0 0 1\n",
    "5*a 0 -5*a 0]"
   ]
  },
  {
   "cell_type": "code",
   "execution_count": 19,
   "metadata": {},
   "outputs": [
    {
     "data": {
      "text/plain": [
       "4-element Vector{Float64}:\n",
       " 0.5235987755982988\n",
       " 0.0\n",
       " 0.0\n",
       " 0.0"
      ]
     },
     "execution_count": 19,
     "metadata": {},
     "output_type": "execute_result"
    }
   ],
   "source": [
    "xn=[/(pi,6);0;0;0]"
   ]
  },
  {
   "cell_type": "code",
   "execution_count": 23,
   "metadata": {},
   "outputs": [
    {
     "data": {
      "text/latex": [
       "$\\left[ \\begin{array}{r}0.130899693899575 e^{0.219147919180021 i t} + 0.130899693899575 e^{0.461852273841323 i t} + 0.130899693899575 e^{- 0.461852273841323 i t} + 0.130899693899575 e^{- 0.219147919180021 i t}\\\\0.0286863955393935 i e^{0.219147919180021 i t} + 0.0604563212726517 i e^{0.461852273841323 i t} - 0.0604563212726517 i e^{- 0.461852273841323 i t} - 0.0286863955393935 i e^{- 0.219147919180021 i t}\\\\0.206970588870752 e^{0.219147919180021 i t} - 0.206970588870752 e^{0.461852273841323 i t} - 0.206970588870752 e^{- 0.461852273841323 i t} + 0.206970588870752 e^{- 0.219147919180021 i t}\\\\0.0453571738824889 i e^{0.219147919180021 i t} - 0.0955898370882344 i e^{0.461852273841323 i t} + 0.0955898370882345 i e^{- 0.461852273841323 i t} - 0.045357173882489 i e^{- 0.219147919180021 i t}\\end{array} \\right]$\n"
      ],
      "text/plain": [
       "4-element Vector{Sym}:\n",
       "             0.130899693899575*exp(0.219147919180021*I*t) + 0.130899693899575*exp(0.461852273841323*I*t) + 0.130899693899575*exp(-0.461852273841323*I*t) + 0.130899693899575*exp(-0.219147919180021*I*t)\n",
       " 0.0286863955393935*I*exp(0.219147919180021*I*t) + 0.0604563212726517*I*exp(0.461852273841323*I*t) - 0.0604563212726517*I*exp(-0.461852273841323*I*t) - 0.0286863955393935*I*exp(-0.219147919180021*I*t)\n",
       "             0.206970588870752*exp(0.219147919180021*I*t) - 0.206970588870752*exp(0.461852273841323*I*t) - 0.206970588870752*exp(-0.461852273841323*I*t) + 0.206970588870752*exp(-0.219147919180021*I*t)\n",
       "  0.0453571738824889*I*exp(0.219147919180021*I*t) - 0.0955898370882344*I*exp(0.461852273841323*I*t) + 0.0955898370882345*I*exp(-0.461852273841323*I*t) - 0.045357173882489*I*exp(-0.219147919180021*I*t)"
      ]
     },
     "execution_count": 23,
     "metadata": {},
     "output_type": "execute_result"
    }
   ],
   "source": [
    "exp(*(A5,t))*xn"
   ]
  },
  {
   "cell_type": "markdown",
   "metadata": {},
   "source": [
    "$$\n",
    "\\begin{align*}\n",
    "\\theta_1(t)&=0.2618\\cos(0.2191t)+0.2618\\cos(0.4619t)\\\\\n",
    "\\theta_1'(t)&=-0.0574(\\sin(0.2191t)-0.1209\\sin(0.4619t))\\\\\n",
    "\\theta_2(t)&=0.4139\\cos(0.2191t)-0.4139\\cos(0.4619t)\\\\\n",
    "\\theta_2'(t)&=-0.0907(\\sin(0.2191t)+0.1912\\sin(0.4619t))\\\\\n",
    "\\end{align*}\n",
    "$$"
   ]
  },
  {
   "cell_type": "code",
   "execution_count": 1,
   "metadata": {},
   "outputs": [],
   "source": [
    "using Plots"
   ]
  },
  {
   "cell_type": "code",
   "execution_count": 2,
   "metadata": {},
   "outputs": [
    {
     "data": {
      "image/svg+xml": [
       "<?xml version=\"1.0\" encoding=\"utf-8\"?>\n",
       "<svg xmlns=\"http://www.w3.org/2000/svg\" xmlns:xlink=\"http://www.w3.org/1999/xlink\" width=\"600\" height=\"400\" viewBox=\"0 0 2400 1600\">\n",
       "<defs>\n",
       "  <clipPath id=\"clip210\">\n",
       "    <rect x=\"0\" y=\"0\" width=\"2400\" height=\"1600\"/>\n",
       "  </clipPath>\n",
       "</defs>\n",
       "<path clip-path=\"url(#clip210)\" d=\"\n",
       "M0 1600 L2400 1600 L2400 0 L0 0  Z\n",
       "  \" fill=\"#ffffff\" fill-rule=\"evenodd\" fill-opacity=\"1\"/>\n",
       "<defs>\n",
       "  <clipPath id=\"clip211\">\n",
       "    <rect x=\"480\" y=\"0\" width=\"1681\" height=\"1600\"/>\n",
       "  </clipPath>\n",
       "</defs>\n",
       "<path clip-path=\"url(#clip210)\" d=\"\n",
       "M194.098 1486.45 L2352.76 1486.45 L2352.76 47.2441 L194.098 47.2441  Z\n",
       "  \" fill=\"#ffffff\" fill-rule=\"evenodd\" fill-opacity=\"1\"/>\n",
       "<defs>\n",
       "  <clipPath id=\"clip212\">\n",
       "    <rect x=\"194\" y=\"47\" width=\"2160\" height=\"1440\"/>\n",
       "  </clipPath>\n",
       "</defs>\n",
       "<polyline clip-path=\"url(#clip212)\" style=\"stroke:#000000; stroke-linecap:butt; stroke-linejoin:round; stroke-width:2; stroke-opacity:0.1; fill:none\" points=\"\n",
       "  255.192,1486.45 255.192,47.2441 \n",
       "  \"/>\n",
       "<polyline clip-path=\"url(#clip212)\" style=\"stroke:#000000; stroke-linecap:butt; stroke-linejoin:round; stroke-width:2; stroke-opacity:0.1; fill:none\" points=\"\n",
       "  934.015,1486.45 934.015,47.2441 \n",
       "  \"/>\n",
       "<polyline clip-path=\"url(#clip212)\" style=\"stroke:#000000; stroke-linecap:butt; stroke-linejoin:round; stroke-width:2; stroke-opacity:0.1; fill:none\" points=\"\n",
       "  1612.84,1486.45 1612.84,47.2441 \n",
       "  \"/>\n",
       "<polyline clip-path=\"url(#clip212)\" style=\"stroke:#000000; stroke-linecap:butt; stroke-linejoin:round; stroke-width:2; stroke-opacity:0.1; fill:none\" points=\"\n",
       "  2291.66,1486.45 2291.66,47.2441 \n",
       "  \"/>\n",
       "<polyline clip-path=\"url(#clip210)\" style=\"stroke:#000000; stroke-linecap:butt; stroke-linejoin:round; stroke-width:4; stroke-opacity:1; fill:none\" points=\"\n",
       "  194.098,1486.45 2352.76,1486.45 \n",
       "  \"/>\n",
       "<polyline clip-path=\"url(#clip210)\" style=\"stroke:#000000; stroke-linecap:butt; stroke-linejoin:round; stroke-width:4; stroke-opacity:1; fill:none\" points=\"\n",
       "  255.192,1486.45 255.192,1467.55 \n",
       "  \"/>\n",
       "<polyline clip-path=\"url(#clip210)\" style=\"stroke:#000000; stroke-linecap:butt; stroke-linejoin:round; stroke-width:4; stroke-opacity:1; fill:none\" points=\"\n",
       "  934.015,1486.45 934.015,1467.55 \n",
       "  \"/>\n",
       "<polyline clip-path=\"url(#clip210)\" style=\"stroke:#000000; stroke-linecap:butt; stroke-linejoin:round; stroke-width:4; stroke-opacity:1; fill:none\" points=\"\n",
       "  1612.84,1486.45 1612.84,1467.55 \n",
       "  \"/>\n",
       "<polyline clip-path=\"url(#clip210)\" style=\"stroke:#000000; stroke-linecap:butt; stroke-linejoin:round; stroke-width:4; stroke-opacity:1; fill:none\" points=\"\n",
       "  2291.66,1486.45 2291.66,1467.55 \n",
       "  \"/>\n",
       "<path clip-path=\"url(#clip210)\" d=\"M255.192 1517.37 Q251.581 1517.37 249.752 1520.93 Q247.947 1524.47 247.947 1531.6 Q247.947 1538.71 249.752 1542.27 Q251.581 1545.82 255.192 1545.82 Q258.826 1545.82 260.632 1542.27 Q262.461 1538.71 262.461 1531.6 Q262.461 1524.47 260.632 1520.93 Q258.826 1517.37 255.192 1517.37 M255.192 1513.66 Q261.002 1513.66 264.058 1518.27 Q267.137 1522.85 267.137 1531.6 Q267.137 1540.33 264.058 1544.94 Q261.002 1549.52 255.192 1549.52 Q249.382 1549.52 246.303 1544.94 Q243.248 1540.33 243.248 1531.6 Q243.248 1522.85 246.303 1518.27 Q249.382 1513.66 255.192 1513.66 Z\" fill=\"#000000\" fill-rule=\"evenodd\" fill-opacity=\"1\" /><path clip-path=\"url(#clip210)\" d=\"M908.703 1544.91 L916.342 1544.91 L916.342 1518.55 L908.032 1520.21 L908.032 1515.95 L916.296 1514.29 L920.971 1514.29 L920.971 1544.91 L928.61 1544.91 L928.61 1548.85 L908.703 1548.85 L908.703 1544.91 Z\" fill=\"#000000\" fill-rule=\"evenodd\" fill-opacity=\"1\" /><path clip-path=\"url(#clip210)\" d=\"M948.055 1517.37 Q944.444 1517.37 942.615 1520.93 Q940.809 1524.47 940.809 1531.6 Q940.809 1538.71 942.615 1542.27 Q944.444 1545.82 948.055 1545.82 Q951.689 1545.82 953.494 1542.27 Q955.323 1538.71 955.323 1531.6 Q955.323 1524.47 953.494 1520.93 Q951.689 1517.37 948.055 1517.37 M948.055 1513.66 Q953.865 1513.66 956.92 1518.27 Q959.999 1522.85 959.999 1531.6 Q959.999 1540.33 956.92 1544.94 Q953.865 1549.52 948.055 1549.52 Q942.244 1549.52 939.166 1544.94 Q936.11 1540.33 936.11 1531.6 Q936.11 1522.85 939.166 1518.27 Q942.244 1513.66 948.055 1513.66 Z\" fill=\"#000000\" fill-rule=\"evenodd\" fill-opacity=\"1\" /><path clip-path=\"url(#clip210)\" d=\"M1591.61 1544.91 L1607.93 1544.91 L1607.93 1548.85 L1585.99 1548.85 L1585.99 1544.91 Q1588.65 1542.16 1593.23 1537.53 Q1597.84 1532.88 1599.02 1531.53 Q1601.26 1529.01 1602.14 1527.27 Q1603.05 1525.51 1603.05 1523.82 Q1603.05 1521.07 1601.1 1519.33 Q1599.18 1517.6 1596.08 1517.6 Q1593.88 1517.6 1591.43 1518.36 Q1589 1519.13 1586.22 1520.68 L1586.22 1515.95 Q1589.04 1514.82 1591.5 1514.24 Q1593.95 1513.66 1595.99 1513.66 Q1601.36 1513.66 1604.55 1516.35 Q1607.75 1519.03 1607.75 1523.52 Q1607.75 1525.65 1606.94 1527.57 Q1606.15 1529.47 1604.04 1532.07 Q1603.46 1532.74 1600.36 1535.95 Q1597.26 1539.15 1591.61 1544.91 Z\" fill=\"#000000\" fill-rule=\"evenodd\" fill-opacity=\"1\" /><path clip-path=\"url(#clip210)\" d=\"M1627.75 1517.37 Q1624.13 1517.37 1622.31 1520.93 Q1620.5 1524.47 1620.5 1531.6 Q1620.5 1538.71 1622.31 1542.27 Q1624.13 1545.82 1627.75 1545.82 Q1631.38 1545.82 1633.19 1542.27 Q1635.01 1538.71 1635.01 1531.6 Q1635.01 1524.47 1633.19 1520.93 Q1631.38 1517.37 1627.75 1517.37 M1627.75 1513.66 Q1633.56 1513.66 1636.61 1518.27 Q1639.69 1522.85 1639.69 1531.6 Q1639.69 1540.33 1636.61 1544.94 Q1633.56 1549.52 1627.75 1549.52 Q1621.94 1549.52 1618.86 1544.94 Q1615.8 1540.33 1615.8 1531.6 Q1615.8 1522.85 1618.86 1518.27 Q1621.94 1513.66 1627.75 1513.66 Z\" fill=\"#000000\" fill-rule=\"evenodd\" fill-opacity=\"1\" /><path clip-path=\"url(#clip210)\" d=\"M2280.5 1530.21 Q2283.86 1530.93 2285.74 1533.2 Q2287.63 1535.47 2287.63 1538.8 Q2287.63 1543.92 2284.12 1546.72 Q2280.6 1549.52 2274.12 1549.52 Q2271.94 1549.52 2269.62 1549.08 Q2267.33 1548.66 2264.88 1547.81 L2264.88 1543.29 Q2266.82 1544.43 2269.14 1545.01 Q2271.45 1545.58 2273.98 1545.58 Q2278.37 1545.58 2280.67 1543.85 Q2282.98 1542.11 2282.98 1538.8 Q2282.98 1535.75 2280.83 1534.03 Q2278.7 1532.3 2274.88 1532.3 L2270.85 1532.3 L2270.85 1528.45 L2275.06 1528.45 Q2278.51 1528.45 2280.34 1527.09 Q2282.17 1525.7 2282.17 1523.11 Q2282.17 1520.45 2280.27 1519.03 Q2278.4 1517.6 2274.88 1517.6 Q2272.96 1517.6 2270.76 1518.01 Q2268.56 1518.43 2265.92 1519.31 L2265.92 1515.14 Q2268.58 1514.4 2270.9 1514.03 Q2273.24 1513.66 2275.3 1513.66 Q2280.62 1513.66 2283.72 1516.09 Q2286.82 1518.5 2286.82 1522.62 Q2286.82 1525.49 2285.18 1527.48 Q2283.54 1529.45 2280.5 1530.21 Z\" fill=\"#000000\" fill-rule=\"evenodd\" fill-opacity=\"1\" /><path clip-path=\"url(#clip210)\" d=\"M2306.5 1517.37 Q2302.89 1517.37 2301.06 1520.93 Q2299.25 1524.47 2299.25 1531.6 Q2299.25 1538.71 2301.06 1542.27 Q2302.89 1545.82 2306.5 1545.82 Q2310.13 1545.82 2311.94 1542.27 Q2313.77 1538.71 2313.77 1531.6 Q2313.77 1524.47 2311.94 1520.93 Q2310.13 1517.37 2306.5 1517.37 M2306.5 1513.66 Q2312.31 1513.66 2315.37 1518.27 Q2318.44 1522.85 2318.44 1531.6 Q2318.44 1540.33 2315.37 1544.94 Q2312.31 1549.52 2306.5 1549.52 Q2300.69 1549.52 2297.61 1544.94 Q2294.56 1540.33 2294.56 1531.6 Q2294.56 1522.85 2297.61 1518.27 Q2300.69 1513.66 2306.5 1513.66 Z\" fill=\"#000000\" fill-rule=\"evenodd\" fill-opacity=\"1\" /><polyline clip-path=\"url(#clip212)\" style=\"stroke:#000000; stroke-linecap:butt; stroke-linejoin:round; stroke-width:2; stroke-opacity:0.1; fill:none\" points=\"\n",
       "  194.098,1220.99 2352.76,1220.99 \n",
       "  \"/>\n",
       "<polyline clip-path=\"url(#clip212)\" style=\"stroke:#000000; stroke-linecap:butt; stroke-linejoin:round; stroke-width:2; stroke-opacity:0.1; fill:none\" points=\"\n",
       "  194.098,918.475 2352.76,918.475 \n",
       "  \"/>\n",
       "<polyline clip-path=\"url(#clip212)\" style=\"stroke:#000000; stroke-linecap:butt; stroke-linejoin:round; stroke-width:2; stroke-opacity:0.1; fill:none\" points=\"\n",
       "  194.098,615.962 2352.76,615.962 \n",
       "  \"/>\n",
       "<polyline clip-path=\"url(#clip212)\" style=\"stroke:#000000; stroke-linecap:butt; stroke-linejoin:round; stroke-width:2; stroke-opacity:0.1; fill:none\" points=\"\n",
       "  194.098,313.449 2352.76,313.449 \n",
       "  \"/>\n",
       "<polyline clip-path=\"url(#clip210)\" style=\"stroke:#000000; stroke-linecap:butt; stroke-linejoin:round; stroke-width:4; stroke-opacity:1; fill:none\" points=\"\n",
       "  194.098,1486.45 194.098,47.2441 \n",
       "  \"/>\n",
       "<polyline clip-path=\"url(#clip210)\" style=\"stroke:#000000; stroke-linecap:butt; stroke-linejoin:round; stroke-width:4; stroke-opacity:1; fill:none\" points=\"\n",
       "  194.098,1220.99 212.996,1220.99 \n",
       "  \"/>\n",
       "<polyline clip-path=\"url(#clip210)\" style=\"stroke:#000000; stroke-linecap:butt; stroke-linejoin:round; stroke-width:4; stroke-opacity:1; fill:none\" points=\"\n",
       "  194.098,918.475 212.996,918.475 \n",
       "  \"/>\n",
       "<polyline clip-path=\"url(#clip210)\" style=\"stroke:#000000; stroke-linecap:butt; stroke-linejoin:round; stroke-width:4; stroke-opacity:1; fill:none\" points=\"\n",
       "  194.098,615.962 212.996,615.962 \n",
       "  \"/>\n",
       "<polyline clip-path=\"url(#clip210)\" style=\"stroke:#000000; stroke-linecap:butt; stroke-linejoin:round; stroke-width:4; stroke-opacity:1; fill:none\" points=\"\n",
       "  194.098,313.449 212.996,313.449 \n",
       "  \"/>\n",
       "<path clip-path=\"url(#clip210)\" d=\"M50.9921 1221.44 L80.6679 1221.44 L80.6679 1225.37 L50.9921 1225.37 L50.9921 1221.44 Z\" fill=\"#000000\" fill-rule=\"evenodd\" fill-opacity=\"1\" /><path clip-path=\"url(#clip210)\" d=\"M100.76 1206.79 Q97.1493 1206.79 95.3206 1210.35 Q93.515 1213.89 93.515 1221.02 Q93.515 1228.13 95.3206 1231.69 Q97.1493 1235.24 100.76 1235.24 Q104.395 1235.24 106.2 1231.69 Q108.029 1228.13 108.029 1221.02 Q108.029 1213.89 106.2 1210.35 Q104.395 1206.79 100.76 1206.79 M100.76 1203.08 Q106.571 1203.08 109.626 1207.69 Q112.705 1212.27 112.705 1221.02 Q112.705 1229.75 109.626 1234.36 Q106.571 1238.94 100.76 1238.94 Q94.9502 1238.94 91.8715 1234.36 Q88.816 1229.75 88.816 1221.02 Q88.816 1212.27 91.8715 1207.69 Q94.9502 1203.08 100.76 1203.08 Z\" fill=\"#000000\" fill-rule=\"evenodd\" fill-opacity=\"1\" /><path clip-path=\"url(#clip210)\" d=\"M120.922 1232.39 L125.807 1232.39 L125.807 1238.27 L120.922 1238.27 L120.922 1232.39 Z\" fill=\"#000000\" fill-rule=\"evenodd\" fill-opacity=\"1\" /><path clip-path=\"url(#clip210)\" d=\"M146.57 1219.12 Q143.422 1219.12 141.57 1221.28 Q139.742 1223.43 139.742 1227.18 Q139.742 1230.91 141.57 1233.08 Q143.422 1235.24 146.57 1235.24 Q149.718 1235.24 151.547 1233.08 Q153.399 1230.91 153.399 1227.18 Q153.399 1223.43 151.547 1221.28 Q149.718 1219.12 146.57 1219.12 M155.853 1204.47 L155.853 1208.73 Q154.093 1207.9 152.288 1207.46 Q150.505 1207.02 148.746 1207.02 Q144.117 1207.02 141.663 1210.14 Q139.232 1213.27 138.885 1219.59 Q140.251 1217.57 142.311 1216.51 Q144.371 1215.42 146.848 1215.42 Q152.056 1215.42 155.066 1218.59 Q158.098 1221.74 158.098 1227.18 Q158.098 1232.5 154.95 1235.72 Q151.802 1238.94 146.57 1238.94 Q140.575 1238.94 137.404 1234.36 Q134.232 1229.75 134.232 1221.02 Q134.232 1212.83 138.121 1207.97 Q142.01 1203.08 148.561 1203.08 Q150.32 1203.08 152.103 1203.43 Q153.908 1203.78 155.853 1204.47 Z\" fill=\"#000000\" fill-rule=\"evenodd\" fill-opacity=\"1\" /><path clip-path=\"url(#clip210)\" d=\"M51.8023 918.927 L81.4781 918.927 L81.4781 922.862 L51.8023 922.862 L51.8023 918.927 Z\" fill=\"#000000\" fill-rule=\"evenodd\" fill-opacity=\"1\" /><path clip-path=\"url(#clip210)\" d=\"M101.571 904.274 Q97.9595 904.274 96.1308 907.839 Q94.3252 911.38 94.3252 918.51 Q94.3252 925.616 96.1308 929.181 Q97.9595 932.723 101.571 932.723 Q105.205 932.723 107.01 929.181 Q108.839 925.616 108.839 918.51 Q108.839 911.38 107.01 907.839 Q105.205 904.274 101.571 904.274 M101.571 900.57 Q107.381 900.57 110.436 905.177 Q113.515 909.76 113.515 918.51 Q113.515 927.237 110.436 931.843 Q107.381 936.426 101.571 936.426 Q95.7604 936.426 92.6817 931.843 Q89.6262 927.237 89.6262 918.51 Q89.6262 909.76 92.6817 905.177 Q95.7604 900.57 101.571 900.57 Z\" fill=\"#000000\" fill-rule=\"evenodd\" fill-opacity=\"1\" /><path clip-path=\"url(#clip210)\" d=\"M121.732 929.876 L126.617 929.876 L126.617 935.755 L121.732 935.755 L121.732 929.876 Z\" fill=\"#000000\" fill-rule=\"evenodd\" fill-opacity=\"1\" /><path clip-path=\"url(#clip210)\" d=\"M150.968 917.121 Q154.325 917.839 156.2 920.107 Q158.098 922.376 158.098 925.709 Q158.098 930.825 154.58 933.626 Q151.061 936.426 144.58 936.426 Q142.404 936.426 140.089 935.987 Q137.797 935.57 135.344 934.713 L135.344 930.2 Q137.288 931.334 139.603 931.913 Q141.918 932.491 144.441 932.491 Q148.839 932.491 151.13 930.755 Q153.445 929.019 153.445 925.709 Q153.445 922.653 151.293 920.94 Q149.163 919.204 145.343 919.204 L141.316 919.204 L141.316 915.362 L145.529 915.362 Q148.978 915.362 150.806 913.996 Q152.635 912.607 152.635 910.015 Q152.635 907.353 150.737 905.94 Q148.862 904.505 145.343 904.505 Q143.422 904.505 141.223 904.922 Q139.024 905.339 136.385 906.218 L136.385 902.052 Q139.047 901.311 141.362 900.941 Q143.7 900.57 145.76 900.57 Q151.084 900.57 154.186 903.001 Q157.288 905.408 157.288 909.528 Q157.288 912.399 155.644 914.39 Q154.001 916.357 150.968 917.121 Z\" fill=\"#000000\" fill-rule=\"evenodd\" fill-opacity=\"1\" /><path clip-path=\"url(#clip210)\" d=\"M100.922 601.761 Q97.3113 601.761 95.4826 605.326 Q93.6771 608.867 93.6771 615.997 Q93.6771 623.103 95.4826 626.668 Q97.3113 630.21 100.922 630.21 Q104.557 630.21 106.362 626.668 Q108.191 623.103 108.191 615.997 Q108.191 608.867 106.362 605.326 Q104.557 601.761 100.922 601.761 M100.922 598.057 Q106.733 598.057 109.788 602.664 Q112.867 607.247 112.867 615.997 Q112.867 624.724 109.788 629.33 Q106.733 633.913 100.922 633.913 Q95.1123 633.913 92.0336 629.33 Q88.978 624.724 88.978 615.997 Q88.978 607.247 92.0336 602.664 Q95.1123 598.057 100.922 598.057 Z\" fill=\"#000000\" fill-rule=\"evenodd\" fill-opacity=\"1\" /><path clip-path=\"url(#clip210)\" d=\"M121.084 627.363 L125.969 627.363 L125.969 633.242 L121.084 633.242 L121.084 627.363 Z\" fill=\"#000000\" fill-rule=\"evenodd\" fill-opacity=\"1\" /><path clip-path=\"url(#clip210)\" d=\"M146.154 601.761 Q142.543 601.761 140.714 605.326 Q138.908 608.867 138.908 615.997 Q138.908 623.103 140.714 626.668 Q142.543 630.21 146.154 630.21 Q149.788 630.21 151.593 626.668 Q153.422 623.103 153.422 615.997 Q153.422 608.867 151.593 605.326 Q149.788 601.761 146.154 601.761 M146.154 598.057 Q151.964 598.057 155.019 602.664 Q158.098 607.247 158.098 615.997 Q158.098 624.724 155.019 629.33 Q151.964 633.913 146.154 633.913 Q140.343 633.913 137.265 629.33 Q134.209 624.724 134.209 615.997 Q134.209 607.247 137.265 602.664 Q140.343 598.057 146.154 598.057 Z\" fill=\"#000000\" fill-rule=\"evenodd\" fill-opacity=\"1\" /><path clip-path=\"url(#clip210)\" d=\"M101.571 299.248 Q97.9595 299.248 96.1308 302.813 Q94.3252 306.354 94.3252 313.484 Q94.3252 320.59 96.1308 324.155 Q97.9595 327.697 101.571 327.697 Q105.205 327.697 107.01 324.155 Q108.839 320.59 108.839 313.484 Q108.839 306.354 107.01 302.813 Q105.205 299.248 101.571 299.248 M101.571 295.544 Q107.381 295.544 110.436 300.151 Q113.515 304.734 113.515 313.484 Q113.515 322.211 110.436 326.817 Q107.381 331.401 101.571 331.401 Q95.7604 331.401 92.6817 326.817 Q89.6262 322.211 89.6262 313.484 Q89.6262 304.734 92.6817 300.151 Q95.7604 295.544 101.571 295.544 Z\" fill=\"#000000\" fill-rule=\"evenodd\" fill-opacity=\"1\" /><path clip-path=\"url(#clip210)\" d=\"M121.732 324.85 L126.617 324.85 L126.617 330.729 L121.732 330.729 L121.732 324.85 Z\" fill=\"#000000\" fill-rule=\"evenodd\" fill-opacity=\"1\" /><path clip-path=\"url(#clip210)\" d=\"M150.968 312.095 Q154.325 312.813 156.2 315.081 Q158.098 317.35 158.098 320.683 Q158.098 325.799 154.58 328.6 Q151.061 331.401 144.58 331.401 Q142.404 331.401 140.089 330.961 Q137.797 330.544 135.344 329.688 L135.344 325.174 Q137.288 326.308 139.603 326.887 Q141.918 327.465 144.441 327.465 Q148.839 327.465 151.13 325.729 Q153.445 323.993 153.445 320.683 Q153.445 317.627 151.293 315.915 Q149.163 314.178 145.343 314.178 L141.316 314.178 L141.316 310.336 L145.529 310.336 Q148.978 310.336 150.806 308.97 Q152.635 307.581 152.635 304.989 Q152.635 302.327 150.737 300.915 Q148.862 299.479 145.343 299.479 Q143.422 299.479 141.223 299.896 Q139.024 300.313 136.385 301.192 L136.385 297.026 Q139.047 296.285 141.362 295.915 Q143.7 295.544 145.76 295.544 Q151.084 295.544 154.186 297.975 Q157.288 300.382 157.288 304.503 Q157.288 307.373 155.644 309.364 Q154.001 311.331 150.968 312.095 Z\" fill=\"#000000\" fill-rule=\"evenodd\" fill-opacity=\"1\" /><polyline clip-path=\"url(#clip212)\" style=\"stroke:#0000ff; stroke-linecap:butt; stroke-linejoin:round; stroke-width:8; stroke-opacity:1; fill:none\" points=\"\n",
       "  255.192,87.9763 275.763,91.1397 296.333,100.577 316.903,116.13 337.474,137.538 358.044,164.444 378.615,196.399 399.185,232.874 419.755,273.266 440.326,316.912 \n",
       "  460.896,363.1 481.467,411.083 502.037,460.094 522.607,509.357 543.178,558.105 563.748,605.591 584.319,651.105 604.889,693.984 625.459,733.625 646.03,769.498 \n",
       "  666.6,801.149 687.171,828.216 707.741,850.429 728.311,867.616 748.882,879.706 769.452,886.728 790.023,888.81 810.593,886.174 831.163,879.134 851.734,868.082 \n",
       "  872.304,853.489 892.875,835.884 913.445,815.852 934.015,794.013 954.586,771.017 975.156,747.524 995.727,724.193 1016.3,701.669 1036.87,680.565 1057.44,661.458 \n",
       "  1078.01,644.866 1098.58,631.246 1119.15,620.98 1139.72,614.37 1160.29,611.628 1180.86,612.875 1201.43,618.135 1222,627.337 1242.57,640.317 1263.14,656.816 \n",
       "  1283.71,676.492 1304.28,698.92 1324.85,723.608 1345.42,749.998 1365.99,777.485 1386.56,805.427 1407.13,833.153 1427.7,859.985 1448.28,885.246 1468.85,908.276 \n",
       "  1489.42,928.444 1509.99,945.164 1530.56,957.905 1551.13,966.203 1571.7,969.671 1592.27,968.009 1612.84,961.006 1633.41,948.552 1653.98,930.637 1674.55,907.352 \n",
       "  1695.12,878.891 1715.69,845.547 1736.26,807.705 1756.83,765.841 1777.4,720.51 1797.97,672.337 1818.54,622.004 1839.11,570.244 1859.68,517.82 1880.25,465.518 \n",
       "  1900.82,414.126 1921.39,364.426 1941.96,317.176 1962.54,273.097 1983.11,232.86 2003.68,197.071 2024.25,166.267 2044.82,140.898 2065.39,121.324 2085.96,107.806 \n",
       "  2106.53,100.504 2127.1,99.4715 2147.67,104.657 2168.24,115.905 2188.81,132.956 2209.38,155.458 2229.95,182.968 2250.52,214.964 2271.09,250.852 2291.66,289.98 \n",
       "  \n",
       "  \"/>\n",
       "<polyline clip-path=\"url(#clip212)\" style=\"stroke:#008000; stroke-linecap:butt; stroke-linejoin:round; stroke-width:8; stroke-opacity:1; fill:none\" points=\"\n",
       "  255.192,615.962 275.763,612.8 296.333,603.389 316.903,587.956 337.474,566.871 358.044,540.643 378.615,509.91 399.185,475.422 419.755,438.029 440.326,398.663 \n",
       "  460.896,358.319 481.467,318.034 502.037,278.865 522.607,241.868 543.178,208.077 563.748,178.481 584.319,154.002 604.889,135.481 625.459,123.651 646.03,119.131 \n",
       "  666.6,122.403 687.171,133.807 707.741,153.532 728.311,181.607 748.882,217.901 769.452,262.124 790.023,313.83 810.593,372.425 831.163,437.175 851.734,507.22 \n",
       "  872.304,581.588 892.875,659.213 913.445,738.954 934.015,819.615 954.586,899.969 975.156,978.777 995.727,1054.81 1016.3,1126.89 1036.87,1193.87 1057.44,1254.69 \n",
       "  1078.01,1308.41 1098.58,1354.18 1119.15,1391.28 1139.72,1419.15 1160.29,1437.38 1180.86,1445.72 1201.43,1444.07 1222,1432.53 1242.57,1411.34 1263.14,1380.9 \n",
       "  1283.71,1341.8 1304.28,1294.72 1324.85,1240.49 1345.42,1180.08 1365.99,1114.51 1386.56,1044.9 1407.13,972.423 1427.7,898.274 1448.28,823.665 1468.85,749.793 \n",
       "  1489.42,677.818 1509.99,608.845 1530.56,543.901 1551.13,483.916 1571.7,429.709 1592.27,381.97 1612.84,341.253 1633.41,307.96 1653.98,282.342 1674.55,264.49 \n",
       "  1695.12,254.341 1715.69,251.675 1736.26,256.124 1756.83,267.182 1777.4,284.214 1797.97,306.474 1818.54,333.118 1839.11,363.224 1859.68,395.81 1880.25,429.86 \n",
       "  1900.82,464.337 1921.39,498.213 1941.96,530.488 1962.54,560.207 1983.11,586.488 2003.68,608.533 2024.25,625.65 2044.82,637.264 2065.39,642.932 2085.96,642.352 \n",
       "  2106.53,635.369 2127.1,621.98 2147.67,602.331 2168.24,576.721 2188.81,545.592 2209.38,509.52 2229.95,469.208 2250.52,425.467 2271.09,379.207 2291.66,331.409 \n",
       "  \n",
       "  \"/>\n",
       "</svg>\n"
      ]
     },
     "execution_count": 2,
     "metadata": {},
     "output_type": "execute_result"
    }
   ],
   "source": [
    "rng=range(0,stop=30,length=100)\n",
    "a1=0.2618\n",
    "b1=0.0574\n",
    "b2=0.1209\n",
    "c1=0.4139\n",
    "d1=0.0907\n",
    "d2=0.1912\n",
    "s1=0.2191\n",
    "s2=0.4619\n",
    "plot(rng,+(*(a1,cos.(*(s1,rng))),*(a1,cos.(*(s2,rng)))),line=2,lc=:blue,leg=false)\n",
    "plot!(rng,+(*(c1,cos.(*(s1,rng))),*(-c1,cos.(*(s2,rng)))),line=2,lc=:green,leg=false)"
   ]
  },
  {
   "cell_type": "markdown",
   "metadata": {},
   "source": [
    "<h3>\n",
    "    Lab Sheet 10 Problem 6\n",
    "</h3>"
   ]
  },
  {
   "cell_type": "markdown",
   "metadata": {},
   "source": [
    "Find a particular solution for\n",
    "  \\begin{align*}\n",
    "    x'&=x-5y+2\\sin{}t\\\\\n",
    "    y'&=x-y-3\\cos{}t\n",
    "  \\end{align*}"
   ]
  },
  {
   "cell_type": "markdown",
   "metadata": {},
   "source": [
    "The two eigenvalues are $\\pm2i$ and the eigenvector for $2i$ is\n",
    "$$\n",
    "\\left[\n",
    "  \\begin{array}{c}\n",
    "    5\\\\1-2i\n",
    "  \\end{array}\n",
    "\\right]\n",
    "$$\n",
    "Using the formula, this gives\n",
    "$$\n",
    "x_c(t)=c_1\\cdot\\left(\\left[\\begin{array}{c}5\\\\1\\end{array}\\right]\\cos{}2t-\\left[\\begin{array}{c}0\\\\-2\\end{array}\\right]\\sin{}2t\\right)+c_2\\cdot\\left(\\left[\\begin{array}{c}0\\\\-2\\end{array}\\right]\\cos{}2t+\\left[\\begin{array}{c}5\\\\1\\end{array}\\right]\\sin{}2t\\right)\n",
    "$$\n",
    "Now plug the trial solution \n",
    "$$\n",
    "x_p(t)=\\left[\\begin{array}{c}a_1\\\\a_2\\end{array}\\right]\\cos{}t+\\left[\\begin{array}{c}b_1\\\\b_2\\end{array}\\right]\\sin{}t\n",
    "$$\n",
    "(no duplication) into the differential equation to find the undetermined coefficients."
   ]
  },
  {
   "cell_type": "code",
   "execution_count": 3,
   "metadata": {},
   "outputs": [
    {
     "data": {
      "text/plain": [
       "4×4 Matrix{Int64}:\n",
       " -1   0  -1  5\n",
       " -1   5   1  0\n",
       "  0  -1  -1  1\n",
       " -1   1   0  1"
      ]
     },
     "execution_count": 3,
     "metadata": {},
     "output_type": "execute_result"
    }
   ],
   "source": [
    "M6=[-1 0 -1 5\n",
    "-1 5 1 0\n",
    "0 -1 -1 1\n",
    "-1 1 0 1]"
   ]
  },
  {
   "cell_type": "code",
   "execution_count": 6,
   "metadata": {},
   "outputs": [
    {
     "data": {
      "text/plain": [
       "4-element Vector{Int64}:\n",
       "  2\n",
       "  0\n",
       "  0\n",
       " -3"
      ]
     },
     "execution_count": 6,
     "metadata": {},
     "output_type": "execute_result"
    }
   ],
   "source": [
    "v6=[2;0;0;-3]"
   ]
  },
  {
   "cell_type": "code",
   "execution_count": 8,
   "metadata": {},
   "outputs": [
    {
     "data": {
      "text/plain": [
       "4-element Vector{Float64}:\n",
       " 16.999999999999996\n",
       "  2.9999999999999996\n",
       "  2.0\n",
       "  5.0"
      ]
     },
     "execution_count": 8,
     "metadata": {},
     "output_type": "execute_result"
    }
   ],
   "source": [
    "inv(M6)*v6*3"
   ]
  },
  {
   "cell_type": "markdown",
   "metadata": {},
   "source": [
    "Consequently, one particular solution is\n",
    "$$\n",
    "x_p(t)=\\left[\\begin{array}{c}\\frac{17}{3}\\\\1\\end{array}\\right]\\cos{}t+\\left[\\begin{array}{c}\\frac{2}{3}\\\\\\frac{5}{3}\\end{array}\\right]\\sin{}t\n",
    "$$\n",
    "and the general solution is\n",
    "$$\n",
    "x_p(t)=\\left[\\begin{array}{c}\\frac{17}{3}\\\\1\\end{array}\\right]\\cos{}t+\\left[\\begin{array}{c}\\frac{2}{3}\\\\\\frac{5}{3}\\end{array}\\right]\\sin{}t+c_1\\cdot\\left(\\left[\\begin{array}{c}5\\\\1\\end{array}\\right]\\cos{}2t-\\left[\\begin{array}{c}0\\\\-2\\end{array}\\right]\\sin{}2t\\right)+c_2\\cdot\\left(\\left[\\begin{array}{c}0\\\\-2\\end{array}\\right]\\cos{}2t+\\left[\\begin{array}{c}5\\\\1\\end{array}\\right]\\sin{}2t\\right)\n",
    "$$\n"
   ]
  }
 ],
 "metadata": {
  "kernelspec": {
   "display_name": "Julia 1.7.2",
   "language": "julia",
   "name": "julia-1.7"
  },
  "language_info": {
   "file_extension": ".jl",
   "mimetype": "application/julia",
   "name": "julia",
   "version": "1.7.2"
  }
 },
 "nbformat": 4,
 "nbformat_minor": 4
}
