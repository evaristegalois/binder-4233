{
 "cells": [
  {
   "cell_type": "markdown",
   "id": "f3aca509",
   "metadata": {},
   "source": [
    "<h2>Ping-Pong Ball</h2>"
   ]
  },
  {
   "cell_type": "markdown",
   "id": "7678c82e",
   "metadata": {},
   "source": [
    "A ping-pong ball is caught in a vertical plexiglass column in which the air flow alternates sinusoidally with a period of 60 seconds. The air flow starts with a maximum upward flow at the rate of $1.3\\,m/s$ and at $t=30$ seconds the flow has a minimum (upward) flow of rate of $-0.1\\,m/s$. The ping-pong ball is subjected to the forces of gravity $-mg$ where $g= 9.8m/s^2$ and forces due to air resistance which are equal to $k$ times the apparent velocity of the ball through the air.\n",
    "* What is the average velocity of the air flow? \n",
    "* Write a formula for the velocity of the air flow as a function of time.\n",
    "* Write the differential equation satisfied by the velocity of the ping-pong ball (relative to the fixed frame of the plexiglass tube).\n",
    "* Use the method of undetermined coefficients to find one periodic solution to this equation.\n",
    "* Find the amplitude and phase shift of this solution.\n",
    "* Find the general solution, by adding on a solution to the homogeneous equation. Notice that all of these solutions tend towards the periodically oscillating solution. This is a generalization of the notion of stability that we found in autonomous differential equations.\n",
    "* Calculate the specific solution that has initial conditions $t=0$ and $w(0) = 1.8$."
   ]
  },
  {
   "cell_type": "markdown",
   "id": "34efcc75",
   "metadata": {},
   "source": [
    "The velocity function is\n",
    "$$\n",
    "v(t)=0.7\\cdot\\cos\\left(\\frac{\\pi}{30}t\\right)+0.6\n",
    "$$\n",
    "The formula for the average of a function is\n",
    "$$\n",
    "\\mbox{average}=\\frac{\\int_{a}^{b}f(x)\\,dx}{b-a}\n",
    "$$"
   ]
  },
  {
   "cell_type": "code",
   "execution_count": 1,
   "id": "e29a88f2",
   "metadata": {},
   "outputs": [
    {
     "data": {
      "text/plain": [
       "V (generic function with 1 method)"
      ]
     },
     "execution_count": 1,
     "metadata": {},
     "output_type": "execute_result"
    }
   ],
   "source": [
    "V(t)=0.7*(30/pi)*sin((pi/30)*t)+0.6*t"
   ]
  },
  {
   "cell_type": "code",
   "execution_count": 17,
   "id": "a298f1d7",
   "metadata": {},
   "outputs": [
    {
     "data": {
      "text/plain": [
       "0.6"
      ]
     },
     "execution_count": 17,
     "metadata": {},
     "output_type": "execute_result"
    }
   ],
   "source": [
    "(1/60)*(V(60)-V(0)) # average function value"
   ]
  },
  {
   "cell_type": "markdown",
   "id": "e3483b7b",
   "metadata": {},
   "source": [
    "Set\n",
    "$$\n",
    "v_p(t)=A\\cos\\left(\\frac{\\pi}{30}t\\right)+B\\sin\\left(\\frac{\\pi}{30}t\\right)+C\n",
    "$$\n",
    "Plug into the differential equation\n",
    "$$\n",
    "v'=-\\frac{kv}{m}+\\frac{k}{m}\\left(0.7\\cdot\\cos\\left(\\frac{\\pi}{30}t\\right)+0.6\\right)-9.8\n",
    "$$\n",
    "for the particular solution\n",
    "\\begin{align}\n",
    "A&=\\frac{0.7k^2}{k^2+\\frac{m^2\\pi^2}{900}} \\\\\n",
    "B&=\\frac{0.7k\\pi}{30m\\left(\\frac{k^2}{m^2}+\\frac{\\pi^2}{900}\\right)} \\\\\n",
    "C&=0.6-\\frac{9.8m}{k}\n",
    "\\end{align}\n",
    "The complementary solution is\n",
    "$$\n",
    "v_c(t)=c_1e^{-\\frac{k}{m}t}\n",
    "$$\n",
    "Now set\n",
    "$$\n",
    "w(0)=1.8=c_1+A+C\n",
    "$$\n",
    "for $c_1=1.8-A-C$."
   ]
  },
  {
   "cell_type": "markdown",
   "id": "ff518937",
   "metadata": {},
   "source": [
    "Some WeBWorK answer code, all marked correct."
   ]
  },
  {
   "cell_type": "code",
   "execution_count": null,
   "id": "703e8f18",
   "metadata": {},
   "outputs": [],
   "source": [
    "# 0.6m/s"
   ]
  },
  {
   "cell_type": "code",
   "execution_count": 18,
   "id": "902aa699",
   "metadata": {},
   "outputs": [],
   "source": [
    "# 0.7*cos((pi/30)*t)+0.6"
   ]
  },
  {
   "cell_type": "code",
   "execution_count": 19,
   "id": "f82ae195",
   "metadata": {},
   "outputs": [],
   "source": [
    "# ((k/m)*((0.7*cos((pi/30)*t))+0.6))-((k*v)/m)-9.8"
   ]
  },
  {
   "cell_type": "code",
   "execution_count": 20,
   "id": "d8ce5265",
   "metadata": {},
   "outputs": [],
   "source": [
    "# ((0.7*k^2)/(m^2*((k^2/m^2)+(pi^2/900))))*cos((pi/30)*t)+((0.7*k*pi)/(m*30*((k^2/m^2)+(pi^2/900))))*sin((pi/30)*t)-((9.8*m)/k)+0.6"
   ]
  },
  {
   "cell_type": "code",
   "execution_count": null,
   "id": "d08bab96",
   "metadata": {},
   "outputs": [],
   "source": [
    "# sqrt((((0.7*k^2)/(m^2*((k^2/m^2)+(pi^2/900)))))^2+(((0.7*k*pi)/(m*30*((k^2/m^2)+(pi^2/900)))))^2)"
   ]
  },
  {
   "cell_type": "code",
   "execution_count": 21,
   "id": "0523d8f2",
   "metadata": {},
   "outputs": [],
   "source": [
    "# (pi/30)"
   ]
  },
  {
   "cell_type": "code",
   "execution_count": 22,
   "id": "93ba0597",
   "metadata": {},
   "outputs": [],
   "source": [
    "# arctan((((0.7*k*pi)/(m*30*((k^2/m^2)+(pi^2/900)))))/(((0.7*k^2)/(m^2*((k^2/m^2)+(pi^2/900))))))"
   ]
  },
  {
   "cell_type": "code",
   "execution_count": 23,
   "id": "461ebc8b",
   "metadata": {},
   "outputs": [],
   "source": [
    "# (1.8-(((0.7*k^2)/(m^2*((k^2/m^2)+(pi^2/900)))))-(0.6-((9.8*m)/k)))*exp((-k/m)*t)+((0.7*k^2)/(m^2*((k^2/m^2)+(pi^2/900))))*cos((pi/30)*t)+((0.7*k*pi)/(m*30*((k^2/m^2)+(pi^2/900))))*sin((pi/30)*t)-((9.8*m)/k)+0.6"
   ]
  }
 ],
 "metadata": {
  "kernelspec": {
   "display_name": "Julia 1.7.2",
   "language": "julia",
   "name": "julia-1.7"
  },
  "language_info": {
   "file_extension": ".jl",
   "mimetype": "application/julia",
   "name": "julia",
   "version": "1.7.2"
  }
 },
 "nbformat": 4,
 "nbformat_minor": 5
}
