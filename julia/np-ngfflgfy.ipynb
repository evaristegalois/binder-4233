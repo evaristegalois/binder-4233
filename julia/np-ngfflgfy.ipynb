{
 "cells": [
  {
   "cell_type": "markdown",
   "metadata": {
    "collapsed": false
   },
   "source": [
    "<h4>Lake Erie</h4>"
   ]
  },
  {
   "cell_type": "markdown",
   "metadata": {
    "collapsed": false
   },
   "source": [
    "Assume that Lake Erie has a volume of $480km^{3}$ and that its rate of inflow (from Lake Huron)\n",
    "and outflow (to Lake Ontario) are both $350km^{3}$ per year. Suppose that at the time $t=0$\n",
    "(years), the pollutant concentration of Lake Erie, caused by past industrial pollution that\n",
    "has now been ordered to cease, is five times that of Lake Huron. If the outflow henceforth\n",
    "is perfectly mixed lake water, how long will it take to reduce the pollution concentration in\n",
    "Lake Erie to twice that of Lake Huron?"
   ]
  },
  {
   "cell_type": "markdown",
   "metadata": {
    "collapsed": false
   },
   "source": [
    "I had trouble with this problem getting the same result using separation and using LFO. I eventually solved this issue by carefully applying the constant of integration in Schmierbuch 3406. Let $a=\\frac{35}{48}$ and $b=350c$, where c is the pollutant concentration of Lake Huron. Then \n",
    "$$\n",
    "x(t)=\\frac{b}{a}+Ce^{-at}\n",
    "$$\n",
    "solving\n",
    "$$\n",
    "\\frac{dx}{dt}+ax=b\n",
    "$$\n",
    "$x(0)=5\\cdot{}480\\cdot{}c$ (note that $x$ is the amount of pollutant, not the concentration---this gave me some grief) gives us $C=4\\cdot{}480\\cdot{}c$ and $$x(t)=480c+4\\cdot{}480ce^{-\\frac{35t}{48}}$$\n",
    "Now solve for $t$ filling in $x(t)=2\\cdot{}480\\cdot{}c$."
   ]
  },
  {
   "cell_type": "code",
   "execution_count": 2,
   "metadata": {
    "collapsed": false
   },
   "outputs": [
   ],
   "source": [
    "using Roots"
   ]
  },
  {
   "cell_type": "code",
   "execution_count": 15,
   "metadata": {
    "collapsed": false
   },
   "outputs": [
    {
     "data": {
      "text/plain": [
       "f (generic function with 1 method)"
      ]
     },
     "execution_count": 15,
     "metadata": {
     },
     "output_type": "execute_result"
    }
   ],
   "source": [
    "f(t)=2*480-480-4*480*exp(-35*t/48)"
   ]
  },
  {
   "cell_type": "code",
   "execution_count": 16,
   "metadata": {
    "collapsed": false
   },
   "outputs": [
    {
     "data": {
      "text/plain": [
       "1.9012036952501354"
      ]
     },
     "execution_count": 16,
     "metadata": {
     },
     "output_type": "execute_result"
    }
   ],
   "source": [
    "find_zero(f,1.5)"
   ]
  },
  {
   "cell_type": "markdown",
   "metadata": {
    "collapsed": false
   },
   "source": [
    "It takes approximately $1.901$ years."
   ]
  }
 ],
 "metadata": {
  "kernelspec": {
   "display_name": "Julia 1.6",
   "env": {
    "JULIA_DEPOT_PATH": "/home/user/.julia/:/ext/julia/depot/",
    "JULIA_PROJECT": "/home/user/.julia/environment/v1.6"
   },
   "language": "julia",
   "metadata": {
    "cocalc": {
     "description": "The Julia Programming Language",
     "priority": 10,
     "url": "https://julialang.org/"
    }
   },
   "name": "julia-1.6",
   "resource_dir": "/ext/jupyter/kernels/julia-1.6"
  },
  "language_info": {
   "file_extension": ".jl",
   "mimetype": "application/julia",
   "name": "julia",
   "version": "1.6.3"
  }
 },
 "nbformat": 4,
 "nbformat_minor": 4
}