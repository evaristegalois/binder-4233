{
 "cells": [
  {
   "cell_type": "markdown",
   "metadata": {
    "collapsed": false
   },
   "source": [
    "<h4>Logistic Population Model US Population</h4>"
   ]
  },
  {
   "cell_type": "markdown",
   "metadata": {
    "collapsed": false
   },
   "source": [
    "Between 1900 and 2000, an uninhibited exponential growth\n",
    "  model no longer works for the US population. For example, the actual\n",
    "  population in 2000 was $281.422$ million---compare this to a\n",
    "  prediction from the last exercise. Let us model the US population\n",
    "  between 1800 and 2000 using the logistic model instead. Use the 1800\n",
    "  population from the last exercise and the 1850 population of\n",
    "  $23.192$ million to find $a$ and $b$, and then predict the\n",
    "  population in 2000. Compare your prediction to the actual population\n",
    "  in 2000."
   ]
  },
  {
   "cell_type": "markdown",
   "metadata": {
    "collapsed": false
   },
   "source": [
    "See MATH_4499_Lecture_and_Lab_Graffiti_202201025A.leo for calculations.\n",
    "$$\n",
    "P(t)=\\frac{MAe^{Mkt}}{1+Ae^{Mkt}}\n",
    "$$\n",
    "$$\n",
    "P(0)=5.308\\quad{}P(50)=23.192\\quad{}P(100)=76.212\n",
    "$$"
   ]
  },
  {
   "cell_type": "code",
   "execution_count": 1,
   "metadata": {
    "collapsed": false
   },
   "outputs": [
   ],
   "source": [
    "using NLsolve"
   ]
  },
  {
   "cell_type": "code",
   "execution_count": 4,
   "metadata": {
    "collapsed": false
   },
   "outputs": [
   ],
   "source": [
    "using Calculus"
   ]
  },
  {
   "cell_type": "markdown",
   "metadata": {
    "collapsed": false
   },
   "source": [
    "$$\n",
    "P(t)=\\frac{p_{0}+p_{0}B}{1+Be^{-p_{0}kt(B+1)}}\n",
    "$$"
   ]
  },
  {
   "cell_type": "code",
   "execution_count": 25,
   "metadata": {
    "collapsed": false
   },
   "outputs": [
    {
     "data": {
      "text/plain": [
       "5.308"
      ]
     },
     "execution_count": 25,
     "metadata": {
     },
     "output_type": "execute_result"
    }
   ],
   "source": [
    "p0=5.308"
   ]
  },
  {
   "cell_type": "code",
   "execution_count": 26,
   "metadata": {
    "collapsed": false
   },
   "outputs": [
    {
     "data": {
      "text/plain": [
       "23.192"
      ]
     },
     "execution_count": 26,
     "metadata": {
     },
     "output_type": "execute_result"
    }
   ],
   "source": [
    "p1=23.192"
   ]
  },
  {
   "cell_type": "code",
   "execution_count": 27,
   "metadata": {
    "collapsed": false
   },
   "outputs": [
    {
     "data": {
      "text/plain": [
       "76.212"
      ]
     },
     "execution_count": 27,
     "metadata": {
     },
     "output_type": "execute_result"
    }
   ],
   "source": [
    "p2=76.212"
   ]
  },
  {
   "cell_type": "code",
   "execution_count": 45,
   "metadata": {
    "collapsed": false
   },
   "outputs": [
    {
     "data": {
      "text/plain": [
       "f! (generic function with 1 method)"
      ]
     },
     "execution_count": 45,
     "metadata": {
     },
     "output_type": "execute_result"
    }
   ],
   "source": [
    "function f!(F, x)\n",
    "    F[1]=((p0+p0*x[1])/(1+x[1]*exp(-(x[1]+1)*p0*x[2]*50)))-p1\n",
    "    F[2]=((p0+p0*x[1])/(1+x[1]*exp(-(x[1]+1)*p0*x[2]*100)))-p2\n",
    "end"
   ]
  },
  {
   "cell_type": "code",
   "execution_count": 53,
   "metadata": {
    "collapsed": false
   },
   "outputs": [
    {
     "data": {
      "text/plain": [
       "j! (generic function with 1 method)"
      ]
     },
     "execution_count": 53,
     "metadata": {
     },
     "output_type": "execute_result"
    }
   ],
   "source": [
    "function j!(J, x)\n",
    "    J[1,1]=(((0 * x[1] + p0 * 1) * (1 + x[1] * exp(-((x[1] + 1)) * p0 * x[2] * 50)) - (p0 + p0 * x[1]) * (1 * exp(-((x[1] + 1)) * p0 * x[2] * 50) + x[1] * ((-1 * p0 * x[2] * 50 + -((x[1] + 1)) * 0 * x[2] * 50 + -((x[1] + 1)) * p0 * 0 * 50 + -((x[1] + 1)) * p0 * x[2] * 0) * exp(-((x[1] + 1)) * p0 * x[2] * 50)))) / (1 + x[1] * exp(-((x[1] + 1)) * p0 * x[2] * 50)) ^ 2)\n",
    "    J[1,2]=(((0 * x[1] + p0 * 0) * (1 + x[1] * exp(-((x[1] + 1)) * p0 * x[2] * 50)) - (p0 + p0 * x[1]) * (0 * exp(-((x[1] + 1)) * p0 * x[2] * 50) + x[1] * ((0 * p0 * x[2] * 50 + -((x[1] + 1)) * 0 * x[2] * 50 + -((x[1] + 1)) * p0 * 1 * 50 + -((x[1] + 1)) * p0 * x[2] * 0) * exp(-((x[1] + 1)) * p0 * x[2] * 50)))) / (1 + x[1] * exp(-((x[1] + 1)) * p0 * x[2] * 50)) ^ 2)\n",
    "    J[2,1]=(((0 * x[1] + p0 * 1) * (1 + x[1] * exp(-((x[1] + 1)) * p0 * x[2] * 100)) - (p0 + p0 * x[1]) * (1 * exp(-((x[1] + 1)) * p0 * x[2] * 100) + x[1] * ((-1 * p0 * x[2] * 100 + -((x[1] + 1)) * 0 * x[2] * 100 + -((x[1] + 1)) * p0 * 0 * 100 + -((x[1] + 1)) * p0 * x[2] * 0) * exp(-((x[1] + 1)) * p0 * x[2] * 100)))) / (1 + x[1] * exp(-((x[1] + 1)) * p0 * x[2] * 100)) ^ 2)\n",
    "    J[2,2]=(((0 * x[1] + p0 * 0) * (1 + x[1] * exp(-((x[1] + 1)) * p0 * x[2] * 100)) - (p0 + p0 * x[1]) * (0 * exp(-((x[1] + 1)) * p0 * x[2] * 100) + x[1] * ((0 * p0 * x[2] * 100 + -((x[1] + 1)) * 0 * x[2] * 100 + -((x[1] + 1)) * p0 * 1 * 100 + -((x[1] + 1)) * p0 * x[2] * 0) * exp(-((x[1] + 1)) * p0 * x[2] * 100)))) / (1 + x[1] * exp(-((x[1] + 1)) * p0 * x[2] * 100)) ^ 2)\n",
    "end"
   ]
  },
  {
   "cell_type": "code",
   "execution_count": 54,
   "metadata": {
    "collapsed": false
   },
   "outputs": [
    {
     "data": {
      "text/plain": [
       "Results of Nonlinear Solver Algorithm\n",
       " * Algorithm: Trust-region with dogleg and autoscaling\n",
       " * Starting Point: [15.0, 0.0007]\n",
       " * Zero: [34.440999911847264, 0.00016771572742315587]\n",
       " * Inf-norm of residuals: 0.000000\n",
       " * Iterations: 15\n",
       " * Convergence: true\n",
       "   * |x - x'| < 0.0e+00: false\n",
       "   * |f(x)| < 1.0e-08: true\n",
       " * Function Calls (f): 16\n",
       " * Jacobian Calls (df/dx): 11"
      ]
     },
     "execution_count": 54,
     "metadata": {
     },
     "output_type": "execute_result"
    }
   ],
   "source": [
    "nlsolve(f!,j!,[15.0;0.0007])"
   ]
  },
  {
   "cell_type": "code",
   "execution_count": 35,
   "metadata": {
    "collapsed": false,
    "scrolled": true
   },
   "outputs": [
    {
     "data": {
      "text/plain": [
       ":(((0 * x + p0 * 1) * (1 + x * exp(-((x + 1)) * p0 * y * 50)) - (p0 + p0 * x) * (1 * exp(-((x + 1)) * p0 * y * 50) + x * ((-1 * p0 * y * 50 + -((x + 1)) * 0 * y * 50 + -((x + 1)) * p0 * 0 * 50 + -((x + 1)) * p0 * y * 0) * exp(-((x + 1)) * p0 * y * 50)))) / (1 + x * exp(-((x + 1)) * p0 * y * 50)) ^ 2)"
      ]
     },
     "execution_count": 35,
     "metadata": {
     },
     "output_type": "execute_result"
    }
   ],
   "source": [
    "differentiate(\"((p0+p0*x)/(1+x*exp(-(x+1)*p0*y*50)))-p1\",:x)"
   ]
  },
  {
   "cell_type": "code",
   "execution_count": 36,
   "metadata": {
    "collapsed": false
   },
   "outputs": [
    {
     "data": {
      "text/plain": [
       ":(((0 * x + p0 * 0) * (1 + x * exp(-((x + 1)) * p0 * y * 50)) - (p0 + p0 * x) * (0 * exp(-((x + 1)) * p0 * y * 50) + x * ((0 * p0 * y * 50 + -((x + 1)) * 0 * y * 50 + -((x + 1)) * p0 * 1 * 50 + -((x + 1)) * p0 * y * 0) * exp(-((x + 1)) * p0 * y * 50)))) / (1 + x * exp(-((x + 1)) * p0 * y * 50)) ^ 2)"
      ]
     },
     "execution_count": 36,
     "metadata": {
     },
     "output_type": "execute_result"
    }
   ],
   "source": [
    "differentiate(\"((p0+p0*x)/(1+x*exp(-(x+1)*p0*y*50)))-p1\",:y)"
   ]
  },
  {
   "cell_type": "code",
   "execution_count": 39,
   "metadata": {
    "collapsed": false,
    "scrolled": true
   },
   "outputs": [
    {
     "data": {
      "text/plain": [
       ":(((0 * x + p0 * 1) * (1 + x * exp(-((x + 1)) * p0 * y * 100)) - (p0 + p0 * x) * (1 * exp(-((x + 1)) * p0 * y * 100) + x * ((-1 * p0 * y * 100 + -((x + 1)) * 0 * y * 100 + -((x + 1)) * p0 * 0 * 100 + -((x + 1)) * p0 * y * 0) * exp(-((x + 1)) * p0 * y * 100)))) / (1 + x * exp(-((x + 1)) * p0 * y * 100)) ^ 2)"
      ]
     },
     "execution_count": 39,
     "metadata": {
     },
     "output_type": "execute_result"
    }
   ],
   "source": [
    "differentiate(\"((p0+p0*x)/(1+x*exp(-(x+1)*p0*y*100)))-p2\",:x)"
   ]
  },
  {
   "cell_type": "code",
   "execution_count": 40,
   "metadata": {
    "collapsed": false
   },
   "outputs": [
    {
     "data": {
      "text/plain": [
       ":(((0 * x + p0 * 0) * (1 + x * exp(-((x + 1)) * p0 * y * 100)) - (p0 + p0 * x) * (0 * exp(-((x + 1)) * p0 * y * 100) + x * ((0 * p0 * y * 100 + -((x + 1)) * 0 * y * 100 + -((x + 1)) * p0 * 1 * 100 + -((x + 1)) * p0 * y * 0) * exp(-((x + 1)) * p0 * y * 100)))) / (1 + x * exp(-((x + 1)) * p0 * y * 100)) ^ 2)"
      ]
     },
     "execution_count": 40,
     "metadata": {
     },
     "output_type": "execute_result"
    }
   ],
   "source": [
    "differentiate(\"((p0+p0*x)/(1+x*exp(-(x+1)*p0*y*100)))-p2\",:y)"
   ]
  },
  {
   "cell_type": "markdown",
   "metadata": {
    "collapsed": false
   },
   "source": [
    "<h3>\n",
    "    It worked! See vyukcgji in desmos!\n",
    "</h3>"
   ]
  }
 ],
 "metadata": {
  "kernelspec": {
   "display_name": "Julia 1.6",
   "env": {
    "JULIA_DEPOT_PATH": "/home/user/.julia/:/ext/julia/depot/",
    "JULIA_PROJECT": "/home/user/.julia/environment/v1.6"
   },
   "language": "julia",
   "metadata": {
    "cocalc": {
     "description": "The Julia Programming Language",
     "priority": 10,
     "url": "https://julialang.org/"
    }
   },
   "name": "julia-1.6",
   "resource_dir": "/ext/jupyter/kernels/julia-1.6"
  },
  "language_info": {
   "file_extension": ".jl",
   "mimetype": "application/julia",
   "name": "julia",
   "version": "1.6.3"
  }
 },
 "nbformat": 4,
 "nbformat_minor": 4
}