{
 "cells": [
  {
   "cell_type": "code",
   "execution_count": 118,
   "metadata": {
    "collapsed": false
   },
   "outputs": [
    {
     "data": {
      "text/plain": [
       "23//108"
      ]
     },
     "execution_count": 118,
     "metadata": {
     },
     "output_type": "execute_result"
    }
   ],
   "source": [
    "g=(1//4)-(1//27)"
   ]
  },
  {
   "cell_type": "code",
   "execution_count": 119,
   "metadata": {
    "collapsed": false
   },
   "outputs": [
    {
     "data": {
      "text/plain": [
       "1.3247179572447458"
      ]
     },
     "execution_count": 119,
     "metadata": {
     },
     "output_type": "execute_result"
    }
   ],
   "source": [
    "((1/2)+sqrt(g))^(1/3)+((1/2)-sqrt(g))^(1/3)"
   ]
  },
  {
   "cell_type": "code",
   "execution_count": 1,
   "metadata": {
    "collapsed": false
   },
   "outputs": [
    {
     "data": {
      "text/plain": [
       "-31.83"
      ]
     },
     "execution_count": 1,
     "metadata": {
     },
     "output_type": "execute_result"
    }
   ],
   "source": [
    "C=(0.03*17^2-0.02*45^2)"
   ]
  },
  {
   "cell_type": "code",
   "execution_count": 79,
   "metadata": {
    "collapsed": false
   },
   "outputs": [
    {
     "data": {
      "text/plain": [
       "-0.06729444732424258"
      ]
     },
     "execution_count": 79,
     "metadata": {
     },
     "output_type": "execute_result"
    }
   ],
   "source": [
    "k=(1/5)*log(5/7)"
   ]
  },
  {
   "cell_type": "code",
   "execution_count": 81,
   "metadata": {
    "collapsed": false
   },
   "outputs": [
    {
     "data": {
      "text/plain": [
       "18.616141722053563"
      ]
     },
     "execution_count": 81,
     "metadata": {
     },
     "output_type": "execute_result"
    }
   ],
   "source": [
    "t1=(1/k)*log(2/7)"
   ]
  },
  {
   "cell_type": "code",
   "execution_count": 82,
   "metadata": {
    "collapsed": false
   },
   "outputs": [
    {
     "data": {
      "text/plain": [
       "29.866666666666664"
      ]
     },
     "execution_count": 82,
     "metadata": {
     },
     "output_type": "execute_result"
    }
   ],
   "source": [
    "C=(16/3)*4^(3/2)-(2/5)*4^(5/2)"
   ]
  },
  {
   "cell_type": "code",
   "execution_count": 84,
   "metadata": {
    "collapsed": false
   },
   "outputs": [
    {
     "data": {
      "text/plain": [
       "35.839999999999996"
      ]
     },
     "execution_count": 84,
     "metadata": {
     },
     "output_type": "execute_result"
    }
   ],
   "source": [
    "C*(576/8)/60"
   ]
  },
  {
   "cell_type": "code",
   "execution_count": 85,
   "metadata": {
    "collapsed": false
   },
   "outputs": [
    {
     "data": {
      "text/plain": [
       "0.011666666666666665"
      ]
     },
     "execution_count": 85,
     "metadata": {
     },
     "output_type": "execute_result"
    }
   ],
   "source": [
    "0.7/60"
   ]
  },
  {
   "cell_type": "code",
   "execution_count": 86,
   "metadata": {
    "collapsed": false
   },
   "outputs": [
    {
     "data": {
      "text/plain": [
       "2421.9320108148404"
      ]
     },
     "execution_count": 86,
     "metadata": {
     },
     "output_type": "execute_result"
    }
   ],
   "source": [
    "(-2500)*log(0.3)-9.8*60"
   ]
  },
  {
   "cell_type": "code",
   "execution_count": 87,
   "metadata": {
    "collapsed": false
   },
   "outputs": [
    {
     "data": {
      "text/plain": [
       "197.8181818181818"
      ]
     },
     "execution_count": 87,
     "metadata": {
     },
     "output_type": "execute_result"
    }
   ],
   "source": [
    "C=(3-(2^4/11))*2^7"
   ]
  },
  {
   "cell_type": "code",
   "execution_count": 1,
   "metadata": {
    "collapsed": false
   },
   "outputs": [
    {
     "data": {
      "text/plain": [
       "1.2545000000000002"
      ]
     },
     "execution_count": 1,
     "metadata": {
     },
     "output_type": "execute_result"
    }
   ],
   "source": [
    "us=(1.2795+1.2295)/2"
   ]
  },
  {
   "cell_type": "code",
   "execution_count": 2,
   "metadata": {
    "collapsed": false,
    "scrolled": true
   },
   "outputs": [
    {
     "data": {
      "text/plain": [
       "62.72500000000001"
      ]
     },
     "execution_count": 2,
     "metadata": {
     },
     "output_type": "execute_result"
    }
   ],
   "source": [
    "50*us"
   ]
  },
  {
   "cell_type": "code",
   "execution_count": 3,
   "metadata": {
    "collapsed": false
   },
   "outputs": [
   ],
   "source": [
    "using Polynomials"
   ]
  },
  {
   "cell_type": "code",
   "execution_count": 12,
   "metadata": {
    "collapsed": false
   },
   "outputs": [
    {
     "data": {
      "text/html": [
       "&#45;1 &#43; x<sup>4</sup> &#43; x<sup>5</sup>"
      ],
      "text/latex": [
       "$-1 + x^{4} + x^{5}$"
      ],
      "text/plain": [
       "Polynomial(-1 + x^4 + x^5)"
      ]
     },
     "execution_count": 12,
     "metadata": {
     },
     "output_type": "execute_result"
    }
   ],
   "source": [
    "p=Polynomial([-1,0,0,0,1,1])"
   ]
  },
  {
   "cell_type": "code",
   "execution_count": 13,
   "metadata": {
    "collapsed": false
   },
   "outputs": [
    {
     "data": {
      "text/plain": [
       "5-element Vector{ComplexF64}:\n",
       " -1.0783889326367355 - 0.49693966514745314im\n",
       " -1.0783889326367355 + 0.49693966514745314im\n",
       "  0.1500514907094848 - 0.8974603263733945im\n",
       "  0.1500514907094848 + 0.8974603263733945im\n",
       "  0.8566748838545027 + 0.0im"
      ]
     },
     "execution_count": 13,
     "metadata": {
     },
     "output_type": "execute_result"
    }
   ],
   "source": [
    "roots(p)"
   ]
  },
  {
   "cell_type": "code",
   "execution_count": 10,
   "metadata": {
    "collapsed": false
   },
   "outputs": [
    {
     "data": {
      "text/plain": [
       "y (generic function with 1 method)"
      ]
     },
     "execution_count": 10,
     "metadata": {
     },
     "output_type": "execute_result"
    }
   ],
   "source": [
    "y(x)=(2/9)*exp(x)*(x-2)"
   ]
  },
  {
   "cell_type": "code",
   "execution_count": 14,
   "metadata": {
    "collapsed": false
   },
   "outputs": [
    {
     "name": "stderr",
     "output_type": "stream",
     "text": [
      "WARNING: using SymPy.roots in module Main conflicts with an existing identifier.\n"
     ]
    }
   ],
   "source": [
    "using SymPy"
   ]
  },
  {
   "cell_type": "code",
   "execution_count": 16,
   "metadata": {
    "collapsed": false
   },
   "outputs": [
    {
     "data": {
      "text/plain": [
       "(a, b)"
      ]
     },
     "execution_count": 16,
     "metadata": {
     },
     "output_type": "execute_result"
    }
   ],
   "source": [
    "@vars a b"
   ]
  },
  {
   "cell_type": "code",
   "execution_count": 104,
   "metadata": {
    "collapsed": false
   },
   "outputs": [
    {
     "data": {
      "text/latex": [
       "$\\begin{equation*}a - \\sqrt{b}\\end{equation*}$\n"
      ],
      "text/plain": [
       "a - √b"
      ]
     },
     "execution_count": 104,
     "metadata": {
     },
     "output_type": "execute_result"
    }
   ],
   "source": [
    "r=a-sqrt(b)"
   ]
  },
  {
   "cell_type": "code",
   "execution_count": 19,
   "metadata": {
    "collapsed": false
   },
   "outputs": [
    {
     "data": {
      "text/latex": [
       "$\\begin{equation*}\\left(a + \\sqrt{b}\\right)^{5}\\end{equation*}$\n"
      ],
      "text/plain": [
       "        5\n",
       "(a + √b) "
      ]
     },
     "execution_count": 19,
     "metadata": {
     },
     "output_type": "execute_result"
    }
   ],
   "source": [
    "r^5"
   ]
  },
  {
   "cell_type": "code",
   "execution_count": 105,
   "metadata": {
    "collapsed": false
   },
   "outputs": [
    {
     "data": {
      "text/latex": [
       "$\\begin{equation*}a^{5} - 5 a^{4} \\sqrt{b} + a^{4} - 4 a^{3} \\sqrt{b} + 10 a^{3} b - 10 a^{2} b^{\\frac{3}{2}} + 6 a^{2} b - 4 a b^{\\frac{3}{2}} + 5 a b^{2} - b^{\\frac{5}{2}} + b^{2} - 1\\end{equation*}$\n"
      ],
      "text/plain": [
       " 5      4       4      3          3         2  3/2      2          3/2        \n",
       "a  - 5⋅a ⋅√b + a  - 4⋅a ⋅√b + 10⋅a ⋅b - 10⋅a ⋅b    + 6⋅a ⋅b - 4⋅a⋅b    + 5⋅a⋅b\n",
       "\n",
       "2    5/2    2    \n",
       "  - b    + b  - 1"
      ]
     },
     "execution_count": 105,
     "metadata": {
     },
     "output_type": "execute_result"
    }
   ],
   "source": [
    "expand(r^5+r^4-1)"
   ]
  },
  {
   "cell_type": "code",
   "execution_count": 22,
   "metadata": {
    "collapsed": false
   },
   "outputs": [
   ],
   "source": [
    "using NLsolve"
   ]
  },
  {
   "cell_type": "code",
   "execution_count": 71,
   "metadata": {
    "collapsed": false
   },
   "outputs": [
    {
     "data": {
      "text/plain": [
       "f! (generic function with 1 method)"
      ]
     },
     "execution_count": 71,
     "metadata": {
     },
     "output_type": "execute_result"
    }
   ],
   "source": [
    "function f!(F, x)\n",
    "    F[1]=5*x[1]^4+4*x[1]^3+10*x[1]^2*x[2]+4*x[1]*x[2]+x[2]^2\n",
    "    F[2]=x[1]^5+x[1]^4+10*x[1]^3*x[2]+6*x[1]^2*x[2]+5*x[1]*x[2]^2+x[2]^2-1\n",
    "end"
   ]
  },
  {
   "cell_type": "code",
   "execution_count": 72,
   "metadata": {
    "collapsed": false
   },
   "outputs": [
    {
     "data": {
      "text/plain": [
       "pok (generic function with 1 method)"
      ]
     },
     "execution_count": 72,
     "metadata": {
     },
     "output_type": "execute_result"
    }
   ],
   "source": [
    "function pok(x,y)\n",
    "    a=5*x^4+4*x^3+10*x^2*y+4*x*y+y^2\n",
    "    b=x^5+x^4+10*x^3*y+6*x^2*y+5*x*y^2+y^2-1\n",
    "    [a,b]\n",
    "end"
   ]
  },
  {
   "cell_type": "code",
   "execution_count": 74,
   "metadata": {
    "collapsed": false
   },
   "outputs": [
    {
     "data": {
      "text/plain": [
       "j! (generic function with 1 method)"
      ]
     },
     "execution_count": 74,
     "metadata": {
     },
     "output_type": "execute_result"
    }
   ],
   "source": [
    "function j!(J, x)\n",
    "    J[1,1]=20*x[1]^3+12*x[1]^2+20*x[1]*x[2]+4*x[2]\n",
    "    J[1,2]=10*x[1]^2+4*x[1]+2*x[2]\n",
    "    J[2,1]=5*x[1]^4+4*x[1]^3+30*x[1]^2*x[2]+12*x[1]*x[2]+5*x[2]^2\n",
    "    J[2,2]=10*x[1]^3+6*x[1]^2+10*x[1]+2*x[2]\n",
    "end"
   ]
  },
  {
   "cell_type": "code",
   "execution_count": 97,
   "metadata": {
    "collapsed": false
   },
   "outputs": [
    {
     "data": {
      "text/plain": [
       "Results of Nonlinear Solver Algorithm\n",
       " * Algorithm: Trust-region with dogleg and autoscaling\n",
       " * Starting Point: [-3.0, 2.0]\n",
       " * Zero: [-1.0783889315418733, -0.2469490297073813]\n",
       " * Inf-norm of residuals: 0.000000\n",
       " * Iterations: 54\n",
       " * Convergence: true\n",
       "   * |x - x'| < 0.0e+00: false\n",
       "   * |f(x)| < 1.0e-08: true\n",
       " * Function Calls (f): 55\n",
       " * Jacobian Calls (df/dx): 55"
      ]
     },
     "execution_count": 97,
     "metadata": {
     },
     "output_type": "execute_result"
    }
   ],
   "source": [
    "nlsolve(f!,j!,[-3.0;2.0])"
   ]
  },
  {
   "cell_type": "code",
   "execution_count": 73,
   "metadata": {
    "collapsed": false
   },
   "outputs": [
    {
     "data": {
      "text/plain": [
       "2-element Vector{Float64}:\n",
       " 24.0\n",
       " 23.0"
      ]
     },
     "execution_count": 73,
     "metadata": {
     },
     "output_type": "execute_result"
    }
   ],
   "source": [
    "pok(1.0,1.0)"
   ]
  },
  {
   "cell_type": "code",
   "execution_count": 38,
   "metadata": {
    "collapsed": false
   },
   "outputs": [
   ],
   "source": [
    "using LinearAlgebra"
   ]
  },
  {
   "cell_type": "code",
   "execution_count": 101,
   "metadata": {
    "collapsed": false
   },
   "outputs": [
    {
     "data": {
      "text/plain": [
       "1×6 Matrix{Float64}:\n",
       " 0.0  0.0  0.0  0.0  0.0  0.0"
      ]
     },
     "execution_count": 101,
     "metadata": {
     },
     "output_type": "execute_result"
    }
   ],
   "source": [
    "E=[0.0 0.0 0.0 0.0 0.0 0.0]"
   ]
  },
  {
   "cell_type": "code",
   "execution_count": 102,
   "metadata": {
    "collapsed": false
   },
   "outputs": [
   ],
   "source": [
    "for i in 0:6\n",
    "    for j in 0:6\n",
    "        solution=nlsolve(f!,j!,[-3.0+i;0.0+j])\n",
    "        if solution.zero[2]>0\n",
    "    E=vcat(E,[i-3 j solution.zero[1] solution.zero[2] transpose(pok(solution.zero[1],solution.zero[2]))])\n",
    "        end\n",
    "    end\n",
    "end"
   ]
  },
  {
   "cell_type": "code",
   "execution_count": 103,
   "metadata": {
    "collapsed": false
   },
   "outputs": [
    {
     "data": {
      "text/plain": [
       "41×6 Matrix{Float64}:\n",
       "  0.0  0.0   0.0        0.0       0.0        0.0\n",
       " -3.0  3.0  -0.0190492  0.730187  0.480157  -0.516071\n",
       " -3.0  4.0  -0.0180432  0.730386  0.483104  -0.51328\n",
       " -3.0  5.0  -0.019509   0.731386  0.480605  -0.515638\n",
       " -3.0  6.0  -0.0168704  0.728552  0.483679  -0.512776\n",
       " -2.0  3.0  -0.0184405  0.729292  0.480529  -0.51573\n",
       " -2.0  4.0  -0.0189943  0.730607  0.480886  -0.515376\n",
       " -2.0  5.0  -0.0180419  0.729098  0.481317  -0.514989\n",
       " -2.0  6.0  -0.0195884  0.731523  0.480586  -0.515656\n",
       " -1.0  2.0  -0.0159784  0.726212  0.482807  -0.513668\n",
       " -1.0  3.0  -0.017632   0.729171  0.482509  -0.513863\n",
       " -1.0  4.0  -0.0185366  0.729663  0.480788  -0.515479\n",
       " -1.0  5.0  -0.0183386  0.728994  0.480384  -0.515871\n",
       "  ⋮                                          ⋮\n",
       "  2.0  2.0  -0.0196991  0.731652  0.480473  -0.515763\n",
       "  2.0  3.0  -0.0157273  0.726091  0.483312  -0.5132\n",
       "  2.0  4.0  -0.0165509  0.728234  0.48409   -0.512398\n",
       "  2.0  5.0  -0.0197277  0.731707  0.480473  -0.515763\n",
       "  2.0  6.0  -0.0182123  0.732486  0.485581  -0.510908\n",
       "  3.0  0.0  -0.0174512  0.729214  0.483051  -0.513351\n",
       "  3.0  1.0  -0.0191709  0.734545  0.485901  -0.510595\n",
       "  3.0  2.0  -0.0191978  0.734443  0.485687  -0.510798\n",
       "  3.0  3.0  -0.0176195  0.731405  0.485654  -0.510853\n",
       "  3.0  4.0  -0.0185869  0.729152  0.479945  -0.516283\n",
       "  3.0  5.0  -0.0197701  0.731772  0.480451  -0.515784\n",
       "  3.0  6.0  -0.0187444  0.732129  0.483666  -0.512729"
      ]
     },
     "execution_count": 103,
     "metadata": {
     },
     "output_type": "execute_result"
    }
   ],
   "source": [
    "E"
   ]
  },
  {
   "cell_type": "code",
   "execution_count": 106,
   "metadata": {
    "collapsed": false
   },
   "outputs": [
    {
     "data": {
      "text/plain": [
       "(q,)"
      ]
     },
     "execution_count": 106,
     "metadata": {
     },
     "output_type": "execute_result"
    }
   ],
   "source": [
    "@vars q"
   ]
  },
  {
   "cell_type": "code",
   "execution_count": 107,
   "metadata": {
    "collapsed": false
   },
   "outputs": [
    {
     "data": {
      "text/html": [
       "&#45;1 &#43; x<sup>4</sup> &#43; x<sup>5</sup>"
      ],
      "text/latex": [
       "$-1 + x^{4} + x^{5}$"
      ],
      "text/plain": [
       "Polynomial(-1 + x^4 + x^5)"
      ]
     },
     "execution_count": 107,
     "metadata": {
     },
     "output_type": "execute_result"
    }
   ],
   "source": [
    "p1=Polynomial([-1,0,0,0,1,1])"
   ]
  },
  {
   "cell_type": "code",
   "execution_count": 110,
   "metadata": {
    "collapsed": false
   },
   "outputs": [
    {
     "data": {
      "text/html": [
       "(-q) &#43; (1)&#8729;x"
      ],
      "text/latex": [
       "$(-q) + (1)\\cdot x$"
      ],
      "text/plain": [
       "Polynomial((-q) + (1)*x)"
      ]
     },
     "execution_count": 110,
     "metadata": {
     },
     "output_type": "execute_result"
    }
   ],
   "source": [
    "p2=Polynomial([-q,1])"
   ]
  },
  {
   "cell_type": "code",
   "execution_count": 111,
   "metadata": {
    "collapsed": false
   },
   "outputs": [
    {
     "data": {
      "text/html": [
       "(q^3*(q + 1)) &#43; (q^2*(q + 1))&#8729;x &#43; (q*(q + 1))&#8729;x<sup>2</sup> &#43; (q + 1)&#8729;x<sup>3</sup> &#43; (1)&#8729;x<sup>4</sup>"
      ],
      "text/latex": [
       "$(q^3*(q + 1)) + (q^2*(q + 1))\\cdot x + (q*(q + 1))\\cdot x^{2} + (q + 1)\\cdot x^{3} + (1)\\cdot x^{4}$"
      ],
      "text/plain": [
       "Polynomial((q^3*(q + 1)) + (q^2*(q + 1))*x + (q*(q + 1))*x^2 + (q + 1)*x^3 + (1)*x^4)"
      ]
     },
     "execution_count": 111,
     "metadata": {
     },
     "output_type": "execute_result"
    }
   ],
   "source": [
    "p1÷p2"
   ]
  },
  {
   "cell_type": "code",
   "execution_count": 112,
   "metadata": {
    "collapsed": false
   },
   "outputs": [
    {
     "data": {
      "text/plain": [
       "(a, b)"
      ]
     },
     "execution_count": 112,
     "metadata": {
     },
     "output_type": "execute_result"
    }
   ],
   "source": [
    "@vars a b"
   ]
  },
  {
   "cell_type": "code",
   "execution_count": 114,
   "metadata": {
    "collapsed": false
   },
   "outputs": [
    {
     "data": {
      "text/latex": [
       "$\\begin{equation*}a^{5} + 5 i a^{4} b + a^{4} - 10 a^{3} b^{2} + 4 i a^{3} b - 10 i a^{2} b^{3} - 6 a^{2} b^{2} + 5 a b^{4} - 4 i a b^{3} + i b^{5} + b^{4} - 1\\end{equation*}$\n"
      ],
      "text/plain": [
       " 5        4      4       3  2        3           2  3      2  2        4      \n",
       "a  + 5⋅ⅈ⋅a ⋅b + a  - 10⋅a ⋅b  + 4⋅ⅈ⋅a ⋅b - 10⋅ⅈ⋅a ⋅b  - 6⋅a ⋅b  + 5⋅a⋅b  - 4⋅ⅈ\n",
       "\n",
       "    3      5    4    \n",
       "⋅a⋅b  + ⅈ⋅b  + b  - 1"
      ]
     },
     "execution_count": 114,
     "metadata": {
     },
     "output_type": "execute_result"
    }
   ],
   "source": [
    "expand((a+b*im)^5+(a+b*im)^4-1)"
   ]
  },
  {
   "cell_type": "code",
   "execution_count": 115,
   "metadata": {
    "collapsed": false
   },
   "outputs": [
    {
     "data": {
      "text/html": [
       "&#45;1 &#45; x &#43; x<sup>3</sup>"
      ],
      "text/latex": [
       "$-1 - x + x^{3}$"
      ],
      "text/plain": [
       "Polynomial(-1 - x + x^3)"
      ]
     },
     "execution_count": 115,
     "metadata": {
     },
     "output_type": "execute_result"
    }
   ],
   "source": [
    "p=Polynomial([-1,-1,0,1])"
   ]
  },
  {
   "cell_type": "code",
   "execution_count": 116,
   "metadata": {
    "collapsed": false
   },
   "outputs": [
    {
     "data": {
      "text/plain": [
       "3-element Vector{ComplexF64}:\n",
       " -0.6623589786223729 - 0.5622795120623011im\n",
       " -0.6623589786223729 + 0.5622795120623011im\n",
       "  1.3247179572447454 + 0.0im"
      ]
     },
     "execution_count": 116,
     "metadata": {
     },
     "output_type": "execute_result"
    }
   ],
   "source": [
    "roots(p)"
   ]
  },
  {
   "cell_type": "code",
   "execution_count": 1,
   "metadata": {
    "collapsed": false,
    "scrolled": true
   },
   "outputs": [
    {
     "data": {
      "text/plain": [
       "-0.8333333333333334"
      ]
     },
     "execution_count": 1,
     "metadata": {
     },
     "output_type": "execute_result"
    }
   ],
   "source": [
    "-5/6"
   ]
  },
  {
   "cell_type": "code",
   "execution_count": 4,
   "metadata": {
    "collapsed": false
   },
   "outputs": [
    {
     "data": {
      "text/plain": [
       "-0.006103401603711721"
      ]
     },
     "execution_count": 4,
     "metadata": {
     },
     "output_type": "execute_result"
    }
   ],
   "source": [
    "k=(1/180)*log(1/3)"
   ]
  },
  {
   "cell_type": "code",
   "execution_count": 6,
   "metadata": {
    "collapsed": false
   },
   "outputs": [
    {
     "data": {
      "text/plain": [
       "19.79334642734317"
      ]
     },
     "execution_count": 6,
     "metadata": {
     },
     "output_type": "execute_result"
    }
   ],
   "source": [
    "(50-100*exp(160*k))/(1-exp(160*k))"
   ]
  },
  {
   "cell_type": "code",
   "execution_count": 7,
   "metadata": {
    "collapsed": false
   },
   "outputs": [
   ],
   "source": [
    "using Polynomials"
   ]
  },
  {
   "cell_type": "code",
   "execution_count": 8,
   "metadata": {
    "collapsed": false
   },
   "outputs": [
    {
     "data": {
      "text/html": [
       "2 &#45; 13&#8729;x &#43; 11&#8729;x<sup>2</sup>"
      ],
      "text/latex": [
       "$2 - 13\\cdot x + 11\\cdot x^{2}$"
      ],
      "text/plain": [
       "Polynomial(2 - 13*x + 11*x^2)"
      ]
     },
     "execution_count": 8,
     "metadata": {
     },
     "output_type": "execute_result"
    }
   ],
   "source": [
    "p=Polynomial([2,-13,11])"
   ]
  },
  {
   "cell_type": "code",
   "execution_count": 9,
   "metadata": {
    "collapsed": false
   },
   "outputs": [
    {
     "data": {
      "text/plain": [
       "2-element Vector{Float64}:\n",
       " 0.18181818181818182\n",
       " 1.0"
      ]
     },
     "execution_count": 9,
     "metadata": {
     },
     "output_type": "execute_result"
    }
   ],
   "source": [
    "roots(p)"
   ]
  },
  {
   "cell_type": "code",
   "execution_count": 11,
   "metadata": {
    "collapsed": false
   },
   "outputs": [
    {
     "data": {
      "text/plain": [
       "0.18181818181818182"
      ]
     },
     "execution_count": 11,
     "metadata": {
     },
     "output_type": "execute_result"
    }
   ],
   "source": [
    "18/99"
   ]
  },
  {
   "cell_type": "code",
   "execution_count": 12,
   "metadata": {
    "collapsed": false
   },
   "outputs": [
    {
     "data": {
      "text/plain": [
       "1.7047480922384253"
      ]
     },
     "execution_count": 12,
     "metadata": {
     },
     "output_type": "execute_result"
    }
   ],
   "source": [
    "k=-log(18/99)"
   ]
  },
  {
   "cell_type": "code",
   "execution_count": 13,
   "metadata": {
    "collapsed": false
   },
   "outputs": [
    {
     "data": {
      "text/plain": [
       "-13.444444444444445"
      ]
     },
     "execution_count": 13,
     "metadata": {
     },
     "output_type": "execute_result"
    }
   ],
   "source": [
    "C=11/((18/99)-1)"
   ]
  },
  {
   "cell_type": "code",
   "execution_count": 16,
   "metadata": {
    "collapsed": false
   },
   "outputs": [
    {
     "data": {
      "text/plain": [
       "93.82890058721514"
      ]
     },
     "execution_count": 16,
     "metadata": {
     },
     "output_type": "execute_result"
    }
   ],
   "source": [
    "C=(4^(3/2))*((4/3)*4-(2/5)*4)*pi"
   ]
  },
  {
   "cell_type": "code",
   "execution_count": 17,
   "metadata": {
    "collapsed": false
   },
   "outputs": [
    {
     "data": {
      "text/plain": [
       "2150.3999999999996"
      ]
     },
     "execution_count": 17,
     "metadata": {
     },
     "output_type": "execute_result"
    }
   ],
   "source": [
    "C/((1/24)^2*pi*sqrt(2*32))"
   ]
  },
  {
   "cell_type": "code",
   "execution_count": 18,
   "metadata": {
    "collapsed": false
   },
   "outputs": [
   ],
   "source": [
    "using LinearAlgebra"
   ]
  },
  {
   "cell_type": "code",
   "execution_count": 19,
   "metadata": {
    "collapsed": false
   },
   "outputs": [
    {
     "data": {
      "text/plain": [
       "2×2 Matrix{Int64}:\n",
       " -7  -9\n",
       "  9  -7"
      ]
     },
     "execution_count": 19,
     "metadata": {
     },
     "output_type": "execute_result"
    }
   ],
   "source": [
    "A=[-7 -9\n",
    "9 -7]"
   ]
  },
  {
   "cell_type": "code",
   "execution_count": 20,
   "metadata": {
    "collapsed": false
   },
   "outputs": [
    {
     "data": {
      "text/plain": [
       "2-element Vector{Int64}:\n",
       " -10\n",
       "   0"
      ]
     },
     "execution_count": 20,
     "metadata": {
     },
     "output_type": "execute_result"
    }
   ],
   "source": [
    "b=[-10;0]"
   ]
  },
  {
   "cell_type": "code",
   "execution_count": 21,
   "metadata": {
    "collapsed": false
   },
   "outputs": [
    {
     "data": {
      "text/plain": [
       "2-element Vector{Float64}:\n",
       " 0.5384615384615384\n",
       " 0.6923076923076923"
      ]
     },
     "execution_count": 21,
     "metadata": {
     },
     "output_type": "execute_result"
    }
   ],
   "source": [
    "x=inv(A)*b"
   ]
  },
  {
   "cell_type": "code",
   "execution_count": 22,
   "metadata": {
    "collapsed": false
   },
   "outputs": [
    {
     "data": {
      "text/plain": [
       "4×4 Matrix{Int64}:\n",
       " 4  0  0  0\n",
       " 0  4  0  0\n",
       " 6  0  4  0\n",
       " 0  2  0  4"
      ]
     },
     "execution_count": 22,
     "metadata": {
     },
     "output_type": "execute_result"
    }
   ],
   "source": [
    "A=[4 0 0 0\n",
    "0 4 0 0\n",
    "6 0 4 0\n",
    "0 2 0 4]"
   ]
  },
  {
   "cell_type": "code",
   "execution_count": 23,
   "metadata": {
    "collapsed": false,
    "scrolled": true
   },
   "outputs": [
    {
     "data": {
      "text/plain": [
       "4-element Vector{Int64}:\n",
       " 3\n",
       " 0\n",
       " 0\n",
       " 0"
      ]
     },
     "execution_count": 23,
     "metadata": {
     },
     "output_type": "execute_result"
    }
   ],
   "source": [
    "b=[3;0;0;0]"
   ]
  },
  {
   "cell_type": "code",
   "execution_count": 24,
   "metadata": {
    "collapsed": false
   },
   "outputs": [
    {
     "data": {
      "text/plain": [
       "4-element Vector{Float64}:\n",
       "  0.75\n",
       "  0.0\n",
       " -1.125\n",
       "  0.0"
      ]
     },
     "execution_count": 24,
     "metadata": {
     },
     "output_type": "execute_result"
    }
   ],
   "source": [
    "x=inv(A)*b"
   ]
  },
  {
   "cell_type": "code",
   "execution_count": 25,
   "metadata": {
    "collapsed": false
   },
   "outputs": [
   ],
   "source": [
    "using Calculus"
   ]
  },
  {
   "cell_type": "code",
   "execution_count": 50,
   "metadata": {
    "collapsed": false
   },
   "outputs": [
    {
     "data": {
      "text/plain": [
       "D0f (generic function with 1 method)"
      ]
     },
     "execution_count": 50,
     "metadata": {
     },
     "output_type": "execute_result"
    }
   ],
   "source": [
    "D0f(x)=(2*x-3)*exp(r*x)"
   ]
  },
  {
   "cell_type": "code",
   "execution_count": 52,
   "metadata": {
    "collapsed": false
   },
   "outputs": [
    {
     "data": {
      "text/plain": [
       "D1f (generic function with 1 method)"
      ]
     },
     "execution_count": 52,
     "metadata": {
     },
     "output_type": "execute_result"
    }
   ],
   "source": [
    "D1f(x)=differentiate(D0f(x),:x) # Df"
   ]
  },
  {
   "cell_type": "code",
   "execution_count": 53,
   "metadata": {
    "collapsed": false
   },
   "outputs": [
    {
     "data": {
      "text/plain": [
       "D2f (generic function with 1 method)"
      ]
     },
     "execution_count": 53,
     "metadata": {
     },
     "output_type": "execute_result"
    }
   ],
   "source": [
    "D2f(x)=differentiate(D1f(x),:x) # D2f"
   ]
  },
  {
   "cell_type": "code",
   "execution_count": 38,
   "metadata": {
    "collapsed": false
   },
   "outputs": [
   ],
   "source": [
    "using Plots"
   ]
  },
  {
   "cell_type": "code",
   "execution_count": 39,
   "metadata": {
    "collapsed": false,
    "scrolled": true
   },
   "outputs": [
    {
     "data": {
      "text/plain": [
       "-5.0:0.10101010101010101:5.0"
      ]
     },
     "execution_count": 39,
     "metadata": {
     },
     "output_type": "execute_result"
    }
   ],
   "source": [
    "x=range(-5,stop=5,length=100)"
   ]
  },
  {
   "cell_type": "code",
   "execution_count": 43,
   "metadata": {
    "collapsed": false
   },
   "outputs": [
    {
     "data": {
      "text/plain": [
       "1"
      ]
     },
     "execution_count": 43,
     "metadata": {
     },
     "output_type": "execute_result"
    }
   ],
   "source": [
    "r=1"
   ]
  },
  {
   "cell_type": "code",
   "execution_count": 45,
   "metadata": {
    "collapsed": false
   },
   "outputs": [
    {
     "data": {
      "text/plain": [
       "2.718281828459045"
      ]
     },
     "execution_count": 45,
     "metadata": {
     },
     "output_type": "execute_result"
    }
   ],
   "source": [
    "e=exp(1)"
   ]
  },
  {
   "cell_type": "code",
   "execution_count": 57,
   "metadata": {
    "collapsed": false
   },
   "outputs": [
    {
     "data": {
      "image/svg+xml": "<?xml version=\"1.0\" encoding=\"utf-8\"?>\n<svg xmlns=\"http://www.w3.org/2000/svg\" xmlns:xlink=\"http://www.w3.org/1999/xlink\" width=\"600\" height=\"400\" viewBox=\"0 0 2400 1600\">\n<defs>\n  <clipPath id=\"clip980\">\n    <rect x=\"0\" y=\"0\" width=\"2400\" height=\"1600\"/>\n  </clipPath>\n</defs>\n<path clip-path=\"url(#clip980)\" d=\"\nM0 1600 L2400 1600 L2400 0 L0 0  Z\n  \" fill=\"#ffffff\" fill-rule=\"evenodd\" fill-opacity=\"1\"/>\n<defs>\n  <clipPath id=\"clip981\">\n    <rect x=\"480\" y=\"0\" width=\"1681\" height=\"1600\"/>\n  </clipPath>\n</defs>\n<path clip-path=\"url(#clip980)\" d=\"\nM199.283 1486.45 L2352.76 1486.45 L2352.76 47.2441 L199.283 47.2441  Z\n  \" fill=\"#ffffff\" fill-rule=\"evenodd\" fill-opacity=\"1\"/>\n<defs>\n  <clipPath id=\"clip982\">\n    <rect x=\"199\" y=\"47\" width=\"2154\" height=\"1440\"/>\n  </clipPath>\n</defs>\n<polyline clip-path=\"url(#clip982)\" style=\"stroke:#000000; stroke-linecap:butt; stroke-linejoin:round; stroke-width:2; stroke-opacity:0.1; fill:none\" points=\"\n  463.388,1486.45 463.388,47.2441 \n  \"/>\n<polyline clip-path=\"url(#clip982)\" style=\"stroke:#000000; stroke-linecap:butt; stroke-linejoin:round; stroke-width:2; stroke-opacity:0.1; fill:none\" points=\"\n  869.704,1486.45 869.704,47.2441 \n  \"/>\n<polyline clip-path=\"url(#clip982)\" style=\"stroke:#000000; stroke-linecap:butt; stroke-linejoin:round; stroke-width:2; stroke-opacity:0.1; fill:none\" points=\"\n  1276.02,1486.45 1276.02,47.2441 \n  \"/>\n<polyline clip-path=\"url(#clip982)\" style=\"stroke:#000000; stroke-linecap:butt; stroke-linejoin:round; stroke-width:2; stroke-opacity:0.1; fill:none\" points=\"\n  1682.34,1486.45 1682.34,47.2441 \n  \"/>\n<polyline clip-path=\"url(#clip982)\" style=\"stroke:#000000; stroke-linecap:butt; stroke-linejoin:round; stroke-width:2; stroke-opacity:0.1; fill:none\" points=\"\n  2088.65,1486.45 2088.65,47.2441 \n  \"/>\n<polyline clip-path=\"url(#clip980)\" style=\"stroke:#000000; stroke-linecap:butt; stroke-linejoin:round; stroke-width:4; stroke-opacity:1; fill:none\" points=\"\n  199.283,1486.45 2352.76,1486.45 \n  \"/>\n<polyline clip-path=\"url(#clip980)\" style=\"stroke:#000000; stroke-linecap:butt; stroke-linejoin:round; stroke-width:4; stroke-opacity:1; fill:none\" points=\"\n  463.388,1486.45 463.388,1467.55 \n  \"/>\n<polyline clip-path=\"url(#clip980)\" style=\"stroke:#000000; stroke-linecap:butt; stroke-linejoin:round; stroke-width:4; stroke-opacity:1; fill:none\" points=\"\n  869.704,1486.45 869.704,1467.55 \n  \"/>\n<polyline clip-path=\"url(#clip980)\" style=\"stroke:#000000; stroke-linecap:butt; stroke-linejoin:round; stroke-width:4; stroke-opacity:1; fill:none\" points=\"\n  1276.02,1486.45 1276.02,1467.55 \n  \"/>\n<polyline clip-path=\"url(#clip980)\" style=\"stroke:#000000; stroke-linecap:butt; stroke-linejoin:round; stroke-width:4; stroke-opacity:1; fill:none\" points=\"\n  1682.34,1486.45 1682.34,1467.55 \n  \"/>\n<polyline clip-path=\"url(#clip980)\" style=\"stroke:#000000; stroke-linecap:butt; stroke-linejoin:round; stroke-width:4; stroke-opacity:1; fill:none\" points=\"\n  2088.65,1486.45 2088.65,1467.55 \n  \"/>\n<path clip-path=\"url(#clip980)\" d=\"M432.289 1530.29 L461.965 1530.29 L461.965 1534.23 L432.289 1534.23 L432.289 1530.29 Z\" fill=\"#000000\" fill-rule=\"evenodd\" fill-opacity=\"1\" /><path clip-path=\"url(#clip980)\" d=\"M484.904 1516.63 L473.099 1535.08 L484.904 1535.08 L484.904 1516.63 M483.678 1512.56 L489.557 1512.56 L489.557 1535.08 L494.488 1535.08 L494.488 1538.97 L489.557 1538.97 L489.557 1547.12 L484.904 1547.12 L484.904 1538.97 L469.303 1538.97 L469.303 1534.46 L483.678 1512.56 Z\" fill=\"#000000\" fill-rule=\"evenodd\" fill-opacity=\"1\" /><path clip-path=\"url(#clip980)\" d=\"M839.646 1530.29 L869.322 1530.29 L869.322 1534.23 L839.646 1534.23 L839.646 1530.29 Z\" fill=\"#000000\" fill-rule=\"evenodd\" fill-opacity=\"1\" /><path clip-path=\"url(#clip980)\" d=\"M883.442 1543.18 L899.762 1543.18 L899.762 1547.12 L877.817 1547.12 L877.817 1543.18 Q880.479 1540.43 885.063 1535.8 Q889.669 1531.15 890.85 1529.81 Q893.095 1527.28 893.975 1525.55 Q894.877 1523.79 894.877 1522.1 Q894.877 1519.34 892.933 1517.61 Q891.012 1515.87 887.91 1515.87 Q885.711 1515.87 883.257 1516.63 Q880.827 1517.4 878.049 1518.95 L878.049 1514.23 Q880.873 1513.09 883.327 1512.51 Q885.78 1511.93 887.817 1511.93 Q893.188 1511.93 896.382 1514.62 Q899.576 1517.31 899.576 1521.8 Q899.576 1523.93 898.766 1525.85 Q897.979 1527.74 895.873 1530.34 Q895.294 1531.01 892.192 1534.23 Q889.09 1537.42 883.442 1543.18 Z\" fill=\"#000000\" fill-rule=\"evenodd\" fill-opacity=\"1\" /><path clip-path=\"url(#clip980)\" d=\"M1276.02 1515.64 Q1272.41 1515.64 1270.58 1519.2 Q1268.77 1522.75 1268.77 1529.87 Q1268.77 1536.98 1270.58 1540.55 Q1272.41 1544.09 1276.02 1544.09 Q1279.65 1544.09 1281.46 1540.55 Q1283.29 1536.98 1283.29 1529.87 Q1283.29 1522.75 1281.46 1519.2 Q1279.65 1515.64 1276.02 1515.64 M1276.02 1511.93 Q1281.83 1511.93 1284.89 1516.54 Q1287.96 1521.12 1287.96 1529.87 Q1287.96 1538.6 1284.89 1543.21 Q1281.83 1547.79 1276.02 1547.79 Q1270.21 1547.79 1267.13 1543.21 Q1264.08 1538.6 1264.08 1529.87 Q1264.08 1521.12 1267.13 1516.54 Q1270.21 1511.93 1276.02 1511.93 Z\" fill=\"#000000\" fill-rule=\"evenodd\" fill-opacity=\"1\" /><path clip-path=\"url(#clip980)\" d=\"M1676.99 1543.18 L1693.31 1543.18 L1693.31 1547.12 L1671.36 1547.12 L1671.36 1543.18 Q1674.03 1540.43 1678.61 1535.8 Q1683.21 1531.15 1684.4 1529.81 Q1686.64 1527.28 1687.52 1525.55 Q1688.42 1523.79 1688.42 1522.1 Q1688.42 1519.34 1686.48 1517.61 Q1684.56 1515.87 1681.46 1515.87 Q1679.26 1515.87 1676.8 1516.63 Q1674.37 1517.4 1671.59 1518.95 L1671.59 1514.23 Q1674.42 1513.09 1676.87 1512.51 Q1679.33 1511.93 1681.36 1511.93 Q1686.73 1511.93 1689.93 1514.62 Q1693.12 1517.31 1693.12 1521.8 Q1693.12 1523.93 1692.31 1525.85 Q1691.52 1527.74 1689.42 1530.34 Q1688.84 1531.01 1685.74 1534.23 Q1682.64 1537.42 1676.99 1543.18 Z\" fill=\"#000000\" fill-rule=\"evenodd\" fill-opacity=\"1\" /><path clip-path=\"url(#clip980)\" d=\"M2091.66 1516.63 L2079.85 1535.08 L2091.66 1535.08 L2091.66 1516.63 M2090.43 1512.56 L2096.31 1512.56 L2096.31 1535.08 L2101.24 1535.08 L2101.24 1538.97 L2096.31 1538.97 L2096.31 1547.12 L2091.66 1547.12 L2091.66 1538.97 L2076.06 1538.97 L2076.06 1534.46 L2090.43 1512.56 Z\" fill=\"#000000\" fill-rule=\"evenodd\" fill-opacity=\"1\" /><polyline clip-path=\"url(#clip982)\" style=\"stroke:#000000; stroke-linecap:butt; stroke-linejoin:round; stroke-width:2; stroke-opacity:0.1; fill:none\" points=\"\n  199.283,1441.42 2352.76,1441.42 \n  \"/>\n<polyline clip-path=\"url(#clip982)\" style=\"stroke:#000000; stroke-linecap:butt; stroke-linejoin:round; stroke-width:2; stroke-opacity:0.1; fill:none\" points=\"\n  199.283,1115.73 2352.76,1115.73 \n  \"/>\n<polyline clip-path=\"url(#clip982)\" style=\"stroke:#000000; stroke-linecap:butt; stroke-linejoin:round; stroke-width:2; stroke-opacity:0.1; fill:none\" points=\"\n  199.283,790.034 2352.76,790.034 \n  \"/>\n<polyline clip-path=\"url(#clip982)\" style=\"stroke:#000000; stroke-linecap:butt; stroke-linejoin:round; stroke-width:2; stroke-opacity:0.1; fill:none\" points=\"\n  199.283,464.339 2352.76,464.339 \n  \"/>\n<polyline clip-path=\"url(#clip982)\" style=\"stroke:#000000; stroke-linecap:butt; stroke-linejoin:round; stroke-width:2; stroke-opacity:0.1; fill:none\" points=\"\n  199.283,138.644 2352.76,138.644 \n  \"/>\n<polyline clip-path=\"url(#clip980)\" style=\"stroke:#000000; stroke-linecap:butt; stroke-linejoin:round; stroke-width:4; stroke-opacity:1; fill:none\" points=\"\n  199.283,1486.45 199.283,47.2441 \n  \"/>\n<polyline clip-path=\"url(#clip980)\" style=\"stroke:#000000; stroke-linecap:butt; stroke-linejoin:round; stroke-width:4; stroke-opacity:1; fill:none\" points=\"\n  199.283,1441.42 218.181,1441.42 \n  \"/>\n<polyline clip-path=\"url(#clip980)\" style=\"stroke:#000000; stroke-linecap:butt; stroke-linejoin:round; stroke-width:4; stroke-opacity:1; fill:none\" points=\"\n  199.283,1115.73 218.181,1115.73 \n  \"/>\n<polyline clip-path=\"url(#clip980)\" style=\"stroke:#000000; stroke-linecap:butt; stroke-linejoin:round; stroke-width:4; stroke-opacity:1; fill:none\" points=\"\n  199.283,790.034 218.181,790.034 \n  \"/>\n<polyline clip-path=\"url(#clip980)\" style=\"stroke:#000000; stroke-linecap:butt; stroke-linejoin:round; stroke-width:4; stroke-opacity:1; fill:none\" points=\"\n  199.283,464.339 218.181,464.339 \n  \"/>\n<polyline clip-path=\"url(#clip980)\" style=\"stroke:#000000; stroke-linecap:butt; stroke-linejoin:round; stroke-width:4; stroke-opacity:1; fill:none\" points=\"\n  199.283,138.644 218.181,138.644 \n  \"/>\n<path clip-path=\"url(#clip980)\" d=\"M151.339 1427.22 Q147.728 1427.22 145.899 1430.79 Q144.093 1434.33 144.093 1441.46 Q144.093 1448.57 145.899 1452.13 Q147.728 1455.67 151.339 1455.67 Q154.973 1455.67 156.779 1452.13 Q158.607 1448.57 158.607 1441.46 Q158.607 1434.33 156.779 1430.79 Q154.973 1427.22 151.339 1427.22 M151.339 1423.52 Q157.149 1423.52 160.205 1428.13 Q163.283 1432.71 163.283 1441.46 Q163.283 1450.19 160.205 1454.79 Q157.149 1459.38 151.339 1459.38 Q145.529 1459.38 142.45 1454.79 Q139.394 1450.19 139.394 1441.46 Q139.394 1432.71 142.45 1428.13 Q145.529 1423.52 151.339 1423.52 Z\" fill=\"#000000\" fill-rule=\"evenodd\" fill-opacity=\"1\" /><path clip-path=\"url(#clip980)\" d=\"M85.0429 1129.07 L101.362 1129.07 L101.362 1133.01 L79.4179 1133.01 L79.4179 1129.07 Q82.0799 1126.32 86.6632 1121.69 Q91.2697 1117.04 92.4502 1115.69 Q94.6956 1113.17 95.5752 1111.44 Q96.478 1109.68 96.478 1107.99 Q96.478 1105.23 94.5336 1103.5 Q92.6123 1101.76 89.5104 1101.76 Q87.3114 1101.76 84.8577 1102.52 Q82.4271 1103.29 79.6494 1104.84 L79.6494 1100.12 Q82.4734 1098.98 84.9271 1098.4 Q87.3808 1097.82 89.4178 1097.82 Q94.7882 1097.82 97.9826 1100.51 Q101.177 1103.19 101.177 1107.69 Q101.177 1109.81 100.367 1111.74 Q99.5798 1113.63 97.4734 1116.23 Q96.8947 1116.9 93.7928 1120.12 Q90.691 1123.31 85.0429 1129.07 Z\" fill=\"#000000\" fill-rule=\"evenodd\" fill-opacity=\"1\" /><path clip-path=\"url(#clip980)\" d=\"M111.223 1098.45 L129.58 1098.45 L129.58 1102.38 L115.506 1102.38 L115.506 1110.86 Q116.524 1110.51 117.543 1110.35 Q118.561 1110.16 119.58 1110.16 Q125.367 1110.16 128.746 1113.33 Q132.126 1116.5 132.126 1121.92 Q132.126 1127.5 128.654 1130.6 Q125.182 1133.68 118.862 1133.68 Q116.686 1133.68 114.418 1133.31 Q112.172 1132.94 109.765 1132.2 L109.765 1127.5 Q111.848 1128.63 114.07 1129.19 Q116.293 1129.75 118.77 1129.75 Q122.774 1129.75 125.112 1127.64 Q127.45 1125.53 127.45 1121.92 Q127.45 1118.31 125.112 1116.2 Q122.774 1114.1 118.77 1114.1 Q116.895 1114.1 115.02 1114.51 Q113.168 1114.93 111.223 1115.81 L111.223 1098.45 Z\" fill=\"#000000\" fill-rule=\"evenodd\" fill-opacity=\"1\" /><path clip-path=\"url(#clip980)\" d=\"M151.339 1101.53 Q147.728 1101.53 145.899 1105.09 Q144.093 1108.63 144.093 1115.76 Q144.093 1122.87 145.899 1126.44 Q147.728 1129.98 151.339 1129.98 Q154.973 1129.98 156.779 1126.44 Q158.607 1122.87 158.607 1115.76 Q158.607 1108.63 156.779 1105.09 Q154.973 1101.53 151.339 1101.53 M151.339 1097.82 Q157.149 1097.82 160.205 1102.43 Q163.283 1107.01 163.283 1115.76 Q163.283 1124.49 160.205 1129.1 Q157.149 1133.68 151.339 1133.68 Q145.529 1133.68 142.45 1129.1 Q139.394 1124.49 139.394 1115.76 Q139.394 1107.01 142.45 1102.43 Q145.529 1097.82 151.339 1097.82 Z\" fill=\"#000000\" fill-rule=\"evenodd\" fill-opacity=\"1\" /><path clip-path=\"url(#clip980)\" d=\"M81.0614 772.754 L99.4178 772.754 L99.4178 776.689 L85.3438 776.689 L85.3438 785.161 Q86.3623 784.814 87.3808 784.652 Q88.3993 784.467 89.4178 784.467 Q95.2049 784.467 98.5845 787.638 Q101.964 790.81 101.964 796.226 Q101.964 801.805 98.4919 804.907 Q95.0197 807.985 88.7003 807.985 Q86.5243 807.985 84.2558 807.615 Q82.0105 807.245 79.6031 806.504 L79.6031 801.805 Q81.6864 802.939 83.9086 803.495 Q86.1308 804.05 88.6077 804.05 Q92.6123 804.05 94.9502 801.944 Q97.2882 799.837 97.2882 796.226 Q97.2882 792.615 94.9502 790.509 Q92.6123 788.402 88.6077 788.402 Q86.7327 788.402 84.8577 788.819 Q83.0058 789.236 81.0614 790.115 L81.0614 772.754 Z\" fill=\"#000000\" fill-rule=\"evenodd\" fill-opacity=\"1\" /><path clip-path=\"url(#clip980)\" d=\"M121.177 775.833 Q117.566 775.833 115.737 779.398 Q113.932 782.939 113.932 790.069 Q113.932 797.175 115.737 800.74 Q117.566 804.282 121.177 804.282 Q124.811 804.282 126.617 800.74 Q128.445 797.175 128.445 790.069 Q128.445 782.939 126.617 779.398 Q124.811 775.833 121.177 775.833 M121.177 772.129 Q126.987 772.129 130.043 776.736 Q133.121 781.319 133.121 790.069 Q133.121 798.796 130.043 803.402 Q126.987 807.985 121.177 807.985 Q115.367 807.985 112.288 803.402 Q109.233 798.796 109.233 790.069 Q109.233 781.319 112.288 776.736 Q115.367 772.129 121.177 772.129 Z\" fill=\"#000000\" fill-rule=\"evenodd\" fill-opacity=\"1\" /><path clip-path=\"url(#clip980)\" d=\"M151.339 775.833 Q147.728 775.833 145.899 779.398 Q144.093 782.939 144.093 790.069 Q144.093 797.175 145.899 800.74 Q147.728 804.282 151.339 804.282 Q154.973 804.282 156.779 800.74 Q158.607 797.175 158.607 790.069 Q158.607 782.939 156.779 779.398 Q154.973 775.833 151.339 775.833 M151.339 772.129 Q157.149 772.129 160.205 776.736 Q163.283 781.319 163.283 790.069 Q163.283 798.796 160.205 803.402 Q157.149 807.985 151.339 807.985 Q145.529 807.985 142.45 803.402 Q139.394 798.796 139.394 790.069 Q139.394 781.319 142.45 776.736 Q145.529 772.129 151.339 772.129 Z\" fill=\"#000000\" fill-rule=\"evenodd\" fill-opacity=\"1\" /><path clip-path=\"url(#clip980)\" d=\"M79.8346 447.059 L102.057 447.059 L102.057 449.05 L89.5104 481.619 L84.6262 481.619 L96.4317 450.994 L79.8346 450.994 L79.8346 447.059 Z\" fill=\"#000000\" fill-rule=\"evenodd\" fill-opacity=\"1\" /><path clip-path=\"url(#clip980)\" d=\"M111.223 447.059 L129.58 447.059 L129.58 450.994 L115.506 450.994 L115.506 459.466 Q116.524 459.119 117.543 458.957 Q118.561 458.772 119.58 458.772 Q125.367 458.772 128.746 461.943 Q132.126 465.115 132.126 470.531 Q132.126 476.11 128.654 479.212 Q125.182 482.29 118.862 482.29 Q116.686 482.29 114.418 481.92 Q112.172 481.55 109.765 480.809 L109.765 476.11 Q111.848 477.244 114.07 477.8 Q116.293 478.355 118.77 478.355 Q122.774 478.355 125.112 476.249 Q127.45 474.142 127.45 470.531 Q127.45 466.92 125.112 464.814 Q122.774 462.707 118.77 462.707 Q116.895 462.707 115.02 463.124 Q113.168 463.541 111.223 464.42 L111.223 447.059 Z\" fill=\"#000000\" fill-rule=\"evenodd\" fill-opacity=\"1\" /><path clip-path=\"url(#clip980)\" d=\"M151.339 450.138 Q147.728 450.138 145.899 453.703 Q144.093 457.244 144.093 464.374 Q144.093 471.48 145.899 475.045 Q147.728 478.587 151.339 478.587 Q154.973 478.587 156.779 475.045 Q158.607 471.48 158.607 464.374 Q158.607 457.244 156.779 453.703 Q154.973 450.138 151.339 450.138 M151.339 446.434 Q157.149 446.434 160.205 451.041 Q163.283 455.624 163.283 464.374 Q163.283 473.101 160.205 477.707 Q157.149 482.29 151.339 482.29 Q145.529 482.29 142.45 477.707 Q139.394 473.101 139.394 464.374 Q139.394 455.624 142.45 451.041 Q145.529 446.434 151.339 446.434 Z\" fill=\"#000000\" fill-rule=\"evenodd\" fill-opacity=\"1\" /><path clip-path=\"url(#clip980)\" d=\"M51.6634 151.989 L59.3023 151.989 L59.3023 125.623 L50.9921 127.29 L50.9921 123.031 L59.256 121.364 L63.9319 121.364 L63.9319 151.989 L71.5707 151.989 L71.5707 155.924 L51.6634 155.924 L51.6634 151.989 Z\" fill=\"#000000\" fill-rule=\"evenodd\" fill-opacity=\"1\" /><path clip-path=\"url(#clip980)\" d=\"M91.0151 124.443 Q87.404 124.443 85.5753 128.008 Q83.7697 131.549 83.7697 138.679 Q83.7697 145.785 85.5753 149.35 Q87.404 152.892 91.0151 152.892 Q94.6493 152.892 96.4548 149.35 Q98.2835 145.785 98.2835 138.679 Q98.2835 131.549 96.4548 128.008 Q94.6493 124.443 91.0151 124.443 M91.0151 120.739 Q96.8252 120.739 99.8808 125.346 Q102.959 129.929 102.959 138.679 Q102.959 147.406 99.8808 152.012 Q96.8252 156.595 91.0151 156.595 Q85.2049 156.595 82.1262 152.012 Q79.0707 147.406 79.0707 138.679 Q79.0707 129.929 82.1262 125.346 Q85.2049 120.739 91.0151 120.739 Z\" fill=\"#000000\" fill-rule=\"evenodd\" fill-opacity=\"1\" /><path clip-path=\"url(#clip980)\" d=\"M121.177 124.443 Q117.566 124.443 115.737 128.008 Q113.932 131.549 113.932 138.679 Q113.932 145.785 115.737 149.35 Q117.566 152.892 121.177 152.892 Q124.811 152.892 126.617 149.35 Q128.445 145.785 128.445 138.679 Q128.445 131.549 126.617 128.008 Q124.811 124.443 121.177 124.443 M121.177 120.739 Q126.987 120.739 130.043 125.346 Q133.121 129.929 133.121 138.679 Q133.121 147.406 130.043 152.012 Q126.987 156.595 121.177 156.595 Q115.367 156.595 112.288 152.012 Q109.233 147.406 109.233 138.679 Q109.233 129.929 112.288 125.346 Q115.367 120.739 121.177 120.739 Z\" fill=\"#000000\" fill-rule=\"evenodd\" fill-opacity=\"1\" /><path clip-path=\"url(#clip980)\" d=\"M151.339 124.443 Q147.728 124.443 145.899 128.008 Q144.093 131.549 144.093 138.679 Q144.093 145.785 145.899 149.35 Q147.728 152.892 151.339 152.892 Q154.973 152.892 156.779 149.35 Q158.607 145.785 158.607 138.679 Q158.607 131.549 156.779 128.008 Q154.973 124.443 151.339 124.443 M151.339 120.739 Q157.149 120.739 160.205 125.346 Q163.283 129.929 163.283 138.679 Q163.283 147.406 160.205 152.012 Q157.149 156.595 151.339 156.595 Q145.529 156.595 142.45 152.012 Q139.394 147.406 139.394 138.679 Q139.394 129.929 142.45 125.346 Q145.529 120.739 151.339 120.739 Z\" fill=\"#000000\" fill-rule=\"evenodd\" fill-opacity=\"1\" /><polyline clip-path=\"url(#clip982)\" style=\"stroke:#009af9; stroke-linecap:butt; stroke-linejoin:round; stroke-width:8; stroke-opacity:1; fill:none\" points=\"\n  260.231,1441.54 280.752,1441.55 301.273,1441.56 321.794,1441.57 342.314,1441.58 362.835,1441.6 383.356,1441.61 403.877,1441.63 424.398,1441.65 444.919,1441.67 \n  465.44,1441.69 485.961,1441.71 506.482,1441.74 527.003,1441.76 547.524,1441.79 568.045,1441.82 588.566,1441.86 609.087,1441.89 629.608,1441.93 650.129,1441.97 \n  670.65,1442.02 691.171,1442.07 711.692,1442.12 732.213,1442.17 752.734,1442.23 773.255,1442.3 793.776,1442.36 814.297,1442.44 834.818,1442.51 855.339,1442.6 \n  875.86,1442.69 896.381,1442.78 916.902,1442.88 937.423,1442.98 957.944,1443.09 978.465,1443.21 998.986,1443.33 1019.51,1443.46 1040.03,1443.59 1060.55,1443.73 \n  1081.07,1443.88 1101.59,1444.03 1122.11,1444.18 1142.63,1444.34 1163.15,1444.5 1183.68,1444.66 1204.2,1444.82 1224.72,1444.97 1245.24,1445.12 1265.76,1445.27 \n  1286.28,1445.4 1306.8,1445.51 1327.32,1445.61 1347.84,1445.68 1368.36,1445.72 1388.88,1445.71 1409.41,1445.66 1429.93,1445.55 1450.45,1445.37 1470.97,1445.1 \n  1491.49,1444.73 1512.01,1444.24 1532.53,1443.61 1553.05,1442.81 1573.57,1441.82 1594.09,1440.61 1614.62,1439.12 1635.14,1437.34 1655.66,1435.2 1676.18,1432.65 \n  1696.7,1429.63 1717.22,1426.07 1737.74,1421.88 1758.26,1416.98 1778.78,1411.26 1799.3,1404.59 1819.83,1396.85 1840.35,1387.88 1860.87,1377.5 1881.39,1365.53 \n  1901.91,1351.73 1922.43,1335.86 1942.95,1317.62 1963.47,1296.7 1983.99,1272.74 2004.51,1245.31 2025.04,1213.96 2045.56,1178.16 2066.08,1137.32 2086.6,1090.77 \n  2107.12,1037.77 2127.64,977.454 2148.16,908.879 2168.68,830.968 2189.2,742.512 2209.72,642.149 2230.25,528.347 2250.77,399.382 2271.29,253.318 2291.81,87.9763 \n  \n  \"/>\n</svg>\n"
     },
     "execution_count": 57,
     "metadata": {
     },
     "output_type": "execute_result"
    }
   ],
   "source": [
    "Plots.plot(x,D2f.(x).+2*r.*D1f.(x).+r^2 .* D0f.(x),line=2,leg=false)"
   ]
  },
  {
   "cell_type": "code",
   "execution_count": 58,
   "metadata": {
    "collapsed": false
   },
   "outputs": [
    {
     "data": {
      "text/plain": [
       "3×3 Matrix{Int64}:\n",
       " 12  0  0\n",
       " 24  6  0\n",
       "  0  6  2"
      ]
     },
     "execution_count": 58,
     "metadata": {
     },
     "output_type": "execute_result"
    }
   ],
   "source": [
    "A=[12 0 0\n",
    "24 6 0\n",
    "0 6 2]"
   ]
  },
  {
   "cell_type": "code",
   "execution_count": 59,
   "metadata": {
    "collapsed": false
   },
   "outputs": [
    {
     "data": {
      "text/plain": [
       "3-element Vector{Int64}:\n",
       " 4\n",
       " 0\n",
       " 0"
      ]
     },
     "execution_count": 59,
     "metadata": {
     },
     "output_type": "execute_result"
    }
   ],
   "source": [
    "b=[4;0;0]"
   ]
  },
  {
   "cell_type": "code",
   "execution_count": 60,
   "metadata": {
    "collapsed": false
   },
   "outputs": [
    {
     "data": {
      "text/plain": [
       "3-element Vector{Float64}:\n",
       "  0.3333333333333333\n",
       " -1.3333333333333333\n",
       "  4.0"
      ]
     },
     "execution_count": 60,
     "metadata": {
     },
     "output_type": "execute_result"
    }
   ],
   "source": [
    "inv(A)*b"
   ]
  },
  {
   "cell_type": "code",
   "execution_count": 61,
   "metadata": {
    "collapsed": false
   },
   "outputs": [
    {
     "data": {
      "text/plain": [
       "202.03125"
      ]
     },
     "execution_count": 61,
     "metadata": {
     },
     "output_type": "execute_result"
    }
   ],
   "source": [
    "180+2*30-((90^4)/(120^3))"
   ]
  },
  {
   "cell_type": "code",
   "execution_count": 62,
   "metadata": {
    "collapsed": false
   },
   "outputs": [
    {
     "data": {
      "text/plain": [
       "54.772255750516614"
      ]
     },
     "execution_count": 62,
     "metadata": {
     },
     "output_type": "execute_result"
    }
   ],
   "source": [
    "20*sqrt(7.5)"
   ]
  },
  {
   "cell_type": "code",
   "execution_count": 63,
   "metadata": {
    "collapsed": false
   },
   "outputs": [
    {
     "data": {
      "text/plain": [
       "54.772255750516614"
      ]
     },
     "execution_count": 63,
     "metadata": {
     },
     "output_type": "execute_result"
    }
   ],
   "source": [
    "10*sqrt(30)"
   ]
  },
  {
   "cell_type": "code",
   "execution_count": 64,
   "metadata": {
    "collapsed": false
   },
   "outputs": [
    {
     "data": {
      "text/plain": [
       "-63.24555320336759"
      ]
     },
     "execution_count": 64,
     "metadata": {
     },
     "output_type": "execute_result"
    }
   ],
   "source": [
    "-20*sqrt(10)"
   ]
  },
  {
   "cell_type": "code",
   "execution_count": 65,
   "metadata": {
    "collapsed": false
   },
   "outputs": [
   ],
   "source": [
    "using LinearAlgebra"
   ]
  },
  {
   "cell_type": "code",
   "execution_count": 67,
   "metadata": {
    "collapsed": false
   },
   "outputs": [
    {
     "data": {
      "text/plain": [
       "32"
      ]
     },
     "execution_count": 67,
     "metadata": {
     },
     "output_type": "execute_result"
    }
   ],
   "source": [
    "g=32"
   ]
  },
  {
   "cell_type": "code",
   "execution_count": 71,
   "metadata": {
    "collapsed": false
   },
   "outputs": [
    {
     "data": {
      "text/plain": [
       "5.0"
      ]
     },
     "execution_count": 71,
     "metadata": {
     },
     "output_type": "execute_result"
    }
   ],
   "source": [
    "t1=sqrt(800/g)"
   ]
  },
  {
   "cell_type": "code",
   "execution_count": 73,
   "metadata": {
    "collapsed": false
   },
   "outputs": [
    {
     "data": {
      "text/plain": [
       "2×2 Matrix{Int64}:\n",
       " 2  1\n",
       " 5  1"
      ]
     },
     "execution_count": 73,
     "metadata": {
     },
     "output_type": "execute_result"
    }
   ],
   "source": [
    "A=[ 2 1\n",
    "5 1]"
   ]
  },
  {
   "cell_type": "code",
   "execution_count": 75,
   "metadata": {
    "collapsed": false
   },
   "outputs": [
    {
     "data": {
      "text/plain": [
       "2-element Vector{Float64}:\n",
       " -64.0\n",
       " 480.0"
      ]
     },
     "execution_count": 75,
     "metadata": {
     },
     "output_type": "execute_result"
    }
   ],
   "source": [
    "b=[(-2)*g \n",
    "    (5/2)*g+400]"
   ]
  },
  {
   "cell_type": "code",
   "execution_count": 76,
   "metadata": {
    "collapsed": false
   },
   "outputs": [
    {
     "data": {
      "text/plain": [
       "2-element Vector{Float64}:\n",
       "  181.33333333333334\n",
       " -426.6666666666667"
      ]
     },
     "execution_count": 76,
     "metadata": {
     },
     "output_type": "execute_result"
    }
   ],
   "source": [
    "x=inv(A)*b"
   ]
  },
  {
   "cell_type": "code",
   "execution_count": 0,
   "metadata": {
    "collapsed": false
   },
   "outputs": [
   ],
   "source": [
   ]
  },
  {
   "cell_type": "code",
   "execution_count": 0,
   "metadata": {
    "collapsed": false
   },
   "outputs": [
   ],
   "source": [
   ]
  },
  {
   "cell_type": "code",
   "execution_count": 4,
   "metadata": {
    "collapsed": false
   },
   "outputs": [
    {
     "data": {
      "text/plain": [
       "2.0"
      ]
     },
     "execution_count": 4,
     "metadata": {
     },
     "output_type": "execute_result"
    }
   ],
   "source": [
    "3*(0.5)-4*((0.5)^3)+1"
   ]
  },
  {
   "cell_type": "code",
   "execution_count": 1,
   "metadata": {
    "collapsed": false
   },
   "outputs": [
   ],
   "source": [
    "using Roots"
   ]
  },
  {
   "cell_type": "code",
   "execution_count": 2,
   "metadata": {
    "collapsed": false
   },
   "outputs": [
    {
     "data": {
      "text/plain": [
       "f (generic function with 1 method)"
      ]
     },
     "execution_count": 2,
     "metadata": {
     },
     "output_type": "execute_result"
    }
   ],
   "source": [
    "f(C)=3*(-0.5)-4*((-0.5)^3)+C"
   ]
  },
  {
   "cell_type": "code",
   "execution_count": 3,
   "metadata": {
    "collapsed": false
   },
   "outputs": [
    {
     "data": {
      "text/plain": [
       "1.0000000000000002"
      ]
     },
     "execution_count": 3,
     "metadata": {
     },
     "output_type": "execute_result"
    }
   ],
   "source": [
    "find_zero(f,0)"
   ]
  },
  {
   "cell_type": "code",
   "execution_count": 5,
   "metadata": {
    "collapsed": false
   },
   "outputs": [
    {
     "data": {
      "text/plain": [
       "0.0006818181818181819"
      ]
     },
     "execution_count": 5,
     "metadata": {
     },
     "output_type": "execute_result"
    }
   ],
   "source": [
    "t1=90/(25*5280)"
   ]
  },
  {
   "cell_type": "code",
   "execution_count": 9,
   "metadata": {
    "collapsed": false
   },
   "outputs": [
    {
     "data": {
      "text/plain": [
       "36666.666666666664"
      ]
     },
     "execution_count": 9,
     "metadata": {
     },
     "output_type": "execute_result"
    }
   ],
   "source": [
    "k=25/t1"
   ]
  },
  {
   "cell_type": "code",
   "execution_count": 10,
   "metadata": {
    "collapsed": false
   },
   "outputs": [
    {
     "data": {
      "text/plain": [
       "0.0014728956132745135"
      ]
     },
     "execution_count": 10,
     "metadata": {
     },
     "output_type": "execute_result"
    }
   ],
   "source": [
    "t2=sqrt((210*2)/(5280*k))"
   ]
  },
  {
   "cell_type": "code",
   "execution_count": 11,
   "metadata": {
    "collapsed": false
   },
   "outputs": [
    {
     "data": {
      "text/plain": [
       "54.00617248673216"
      ]
     },
     "execution_count": 11,
     "metadata": {
     },
     "output_type": "execute_result"
    }
   ],
   "source": [
    "k*t2"
   ]
  },
  {
   "cell_type": "code",
   "execution_count": 12,
   "metadata": {
    "collapsed": false
   },
   "outputs": [
    {
     "data": {
      "text/plain": [
       "36666.666666666664"
      ]
     },
     "execution_count": 12,
     "metadata": {
     },
     "output_type": "execute_result"
    }
   ],
   "source": [
    "90/(5280*t1^2)"
   ]
  },
  {
   "cell_type": "code",
   "execution_count": 13,
   "metadata": {
    "collapsed": false
   },
   "outputs": [
    {
     "data": {
      "text/plain": [
       "1.540021426385063e-6"
      ]
     },
     "execution_count": 13,
     "metadata": {
     },
     "output_type": "execute_result"
    }
   ],
   "source": [
    "mu=32.2/(3960*5280)"
   ]
  },
  {
   "cell_type": "code",
   "execution_count": 14,
   "metadata": {
    "collapsed": false
   },
   "outputs": [
    {
     "data": {
      "text/plain": [
       "20908800"
      ]
     },
     "execution_count": 14,
     "metadata": {
     },
     "output_type": "execute_result"
    }
   ],
   "source": [
    "A=3960*5280"
   ]
  },
  {
   "cell_type": "code",
   "execution_count": 15,
   "metadata": {
    "collapsed": false
   },
   "outputs": [
    {
     "data": {
      "text/plain": [
       "0.0012409759975056177"
      ]
     },
     "execution_count": 15,
     "metadata": {
     },
     "output_type": "execute_result"
    }
   ],
   "source": [
    "k=sqrt(mu)"
   ]
  },
  {
   "cell_type": "code",
   "execution_count": 17,
   "metadata": {
    "collapsed": false
   },
   "outputs": [
    {
     "data": {
      "text/plain": [
       "84.38499643034855"
      ]
     },
     "execution_count": 17,
     "metadata": {
     },
     "output_type": "execute_result"
    }
   ],
   "source": [
    "((2*pi)/k)/60"
   ]
  },
  {
   "cell_type": "code",
   "execution_count": 19,
   "metadata": {
    "collapsed": false
   },
   "outputs": [
    {
     "data": {
      "text/plain": [
       "1265.7749464552282"
      ]
     },
     "execution_count": 19,
     "metadata": {
     },
     "output_type": "execute_result"
    }
   ],
   "source": [
    "t1=pi/(2*k)"
   ]
  },
  {
   "cell_type": "code",
   "execution_count": 21,
   "metadata": {
    "collapsed": false
   },
   "outputs": [
    {
     "data": {
      "text/plain": [
       "-17691.353820440083"
      ]
     },
     "execution_count": 21,
     "metadata": {
     },
     "output_type": "execute_result"
    }
   ],
   "source": [
    "((-A)*k*sin(k*t1))*(3600/5280)"
   ]
  },
  {
   "cell_type": "code",
   "execution_count": 0,
   "metadata": {
    "collapsed": false
   },
   "outputs": [
   ],
   "source": [
   ]
  },
  {
   "cell_type": "code",
   "execution_count": 22,
   "metadata": {
    "collapsed": false
   },
   "outputs": [
   ],
   "source": [
    "using Polynomials"
   ]
  },
  {
   "cell_type": "code",
   "execution_count": 77,
   "metadata": {
    "collapsed": false
   },
   "outputs": [
    {
     "data": {
      "text/html": [
       "&#45;500 &#43; 100&#8729;x &#45; 5&#8729;x<sup>2</sup> &#43; x<sup>3</sup>"
      ],
      "text/latex": [
       "$-500 + 100\\cdot x - 5\\cdot x^{2} + x^{3}$"
      ],
      "text/plain": [
       "Polynomial(-500 + 100*x - 5*x^2 + x^3)"
      ]
     },
     "execution_count": 77,
     "metadata": {
     },
     "output_type": "execute_result"
    }
   ],
   "source": [
    "p=Polynomial([-500,100,-5,1])"
   ]
  },
  {
   "cell_type": "code",
   "execution_count": 78,
   "metadata": {
    "collapsed": false
   },
   "outputs": [
    {
     "data": {
      "text/html": [
       "&#45;5 &#43; x"
      ],
      "text/latex": [
       "$-5 + x$"
      ],
      "text/plain": [
       "Polynomial(-5 + x)"
      ]
     },
     "execution_count": 78,
     "metadata": {
     },
     "output_type": "execute_result"
    }
   ],
   "source": [
    "q=Polynomial([-5,1])"
   ]
  },
  {
   "cell_type": "code",
   "execution_count": 79,
   "metadata": {
    "collapsed": false,
    "scrolled": true
   },
   "outputs": [
    {
     "data": {
      "text/html": [
       "100.0 &#43; 1.0&#8729;x<sup>2</sup>"
      ],
      "text/latex": [
       "$100.0 + 1.0\\cdot x^{2}$"
      ],
      "text/plain": [
       "Polynomial(100.0 + 1.0*x^2)"
      ]
     },
     "execution_count": 79,
     "metadata": {
     },
     "output_type": "execute_result"
    }
   ],
   "source": [
    "p÷q"
   ]
  },
  {
   "cell_type": "code",
   "execution_count": 91,
   "metadata": {
    "collapsed": false
   },
   "outputs": [
    {
     "data": {
      "text/html": [
       "1 &#43; 3&#8729;x &#43; 3&#8729;x<sup>2</sup> &#43; x<sup>3</sup>"
      ],
      "text/latex": [
       "$1 + 3\\cdot x + 3\\cdot x^{2} + x^{3}$"
      ],
      "text/plain": [
       "Polynomial(1 + 3*x + 3*x^2 + x^3)"
      ]
     },
     "execution_count": 91,
     "metadata": {
     },
     "output_type": "execute_result"
    }
   ],
   "source": [
    "p=Polynomial([1,3,3,1])"
   ]
  },
  {
   "cell_type": "code",
   "execution_count": 92,
   "metadata": {
    "collapsed": false,
    "scrolled": true
   },
   "outputs": [
    {
     "data": {
      "text/plain": [
       "3-element Vector{ComplexF64}:\n",
       "  -1.000006569518257 + 0.0im\n",
       " -0.9999967152408714 - 5.689374167928025e-6im\n",
       " -0.9999967152408714 + 5.689374167928025e-6im"
      ]
     },
     "execution_count": 92,
     "metadata": {
     },
     "output_type": "execute_result"
    }
   ],
   "source": [
    "Polynomials.roots(p)"
   ]
  },
  {
   "cell_type": "code",
   "execution_count": 93,
   "metadata": {
    "collapsed": false
   },
   "outputs": [
    {
     "data": {
      "text/latex": [
       "$\\begin{equation*}\\left(x + 1\\right)^{3}\\end{equation*}$\n"
      ],
      "text/plain": [
       "       3\n",
       "(x + 1) "
      ]
     },
     "execution_count": 93,
     "metadata": {
     },
     "output_type": "execute_result"
    }
   ],
   "source": [
    "p=(x+1)^3"
   ]
  },
  {
   "cell_type": "code",
   "execution_count": 94,
   "metadata": {
    "collapsed": false
   },
   "outputs": [
    {
     "data": {
      "text/latex": [
       "$\\begin{equation*}x^{3} + 3 x^{2} + 3 x + 1\\end{equation*}$\n"
      ],
      "text/plain": [
       " 3      2          \n",
       "x  + 3⋅x  + 3⋅x + 1"
      ]
     },
     "execution_count": 94,
     "metadata": {
     },
     "output_type": "execute_result"
    }
   ],
   "source": [
    "expand(p)"
   ]
  },
  {
   "cell_type": "code",
   "execution_count": 80,
   "metadata": {
    "collapsed": false
   },
   "outputs": [
   ],
   "source": [
    "using LinearAlgebra"
   ]
  },
  {
   "cell_type": "code",
   "execution_count": 81,
   "metadata": {
    "collapsed": false
   },
   "outputs": [
    {
     "data": {
      "text/plain": [
       "3×3 Matrix{Int64}:\n",
       "  1     1   0\n",
       "  5     0  10\n",
       " 25  -100   0"
      ]
     },
     "execution_count": 81,
     "metadata": {
     },
     "output_type": "execute_result"
    }
   ],
   "source": [
    "A=[1 1 0\n",
    "5 0 10\n",
    "25 -100 0]"
   ]
  },
  {
   "cell_type": "code",
   "execution_count": 82,
   "metadata": {
    "collapsed": false
   },
   "outputs": [
    {
     "data": {
      "text/plain": [
       "3-element Vector{Int64}:\n",
       "   0\n",
       "  10\n",
       " 250"
      ]
     },
     "execution_count": 82,
     "metadata": {
     },
     "output_type": "execute_result"
    }
   ],
   "source": [
    "b=[0;10;250]"
   ]
  },
  {
   "cell_type": "code",
   "execution_count": 83,
   "metadata": {
    "collapsed": false
   },
   "outputs": [
    {
     "data": {
      "text/plain": [
       "3-element Vector{Float64}:\n",
       "  2.0\n",
       " -2.0\n",
       " -6.713379852030243e-16"
      ]
     },
     "execution_count": 83,
     "metadata": {
     },
     "output_type": "execute_result"
    }
   ],
   "source": [
    "inv(A)*b"
   ]
  },
  {
   "cell_type": "code",
   "execution_count": 85,
   "metadata": {
    "collapsed": false
   },
   "outputs": [
    {
     "data": {
      "text/latex": [
       "$\\begin{equation*}x^{3} - 1\\end{equation*}$\n"
      ],
      "text/plain": [
       " 3    \n",
       "x  - 1"
      ]
     },
     "execution_count": 85,
     "metadata": {
     },
     "output_type": "execute_result"
    }
   ],
   "source": [
    "p=x^3-1"
   ]
  },
  {
   "cell_type": "code",
   "execution_count": 86,
   "metadata": {
    "collapsed": false
   },
   "outputs": [
    {
     "data": {
      "text/latex": [
       "$\\begin{equation*}\\left(x - 1\\right) \\left(x^{2} + x + 1\\right)\\end{equation*}$\n"
      ],
      "text/plain": [
       "        ⎛ 2        ⎞\n",
       "(x - 1)⋅⎝x  + x + 1⎠"
      ]
     },
     "execution_count": 86,
     "metadata": {
     },
     "output_type": "execute_result"
    }
   ],
   "source": [
    "factor(p)"
   ]
  },
  {
   "cell_type": "code",
   "execution_count": 87,
   "metadata": {
    "collapsed": false
   },
   "outputs": [
    {
     "data": {
      "text/html": [
       "1 &#43; x &#43; x<sup>2</sup>"
      ],
      "text/latex": [
       "$1 + x + x^{2}$"
      ],
      "text/plain": [
       "Polynomial(1 + x + x^2)"
      ]
     },
     "execution_count": 87,
     "metadata": {
     },
     "output_type": "execute_result"
    }
   ],
   "source": [
    "p=Polynomial([1,1,1])"
   ]
  },
  {
   "cell_type": "code",
   "execution_count": 88,
   "metadata": {
    "collapsed": false,
    "scrolled": true
   },
   "outputs": [
    {
     "data": {
      "text/plain": [
       "2-element Vector{ComplexF64}:\n",
       " -0.5 - 0.8660254037844385im\n",
       " -0.5 + 0.8660254037844385im"
      ]
     },
     "execution_count": 88,
     "metadata": {
     },
     "output_type": "execute_result"
    }
   ],
   "source": [
    "Polynomials.roots(p)"
   ]
  },
  {
   "cell_type": "code",
   "execution_count": 34,
   "metadata": {
    "collapsed": false
   },
   "outputs": [
    {
     "data": {
      "text/plain": [
       "-1.4494897427831779"
      ]
     },
     "execution_count": 34,
     "metadata": {
     },
     "output_type": "execute_result"
    }
   ],
   "source": [
    "1-sqrt(6)"
   ]
  },
  {
   "cell_type": "code",
   "execution_count": 38,
   "metadata": {
    "collapsed": false
   },
   "outputs": [
    {
     "data": {
      "text/plain": [
       "0.2958758547680685"
      ]
     },
     "execution_count": 38,
     "metadata": {
     },
     "output_type": "execute_result"
    }
   ],
   "source": [
    "c1=(1/(-2*sqrt(6)))*(1-sqrt(6))"
   ]
  },
  {
   "cell_type": "code",
   "execution_count": 47,
   "metadata": {
    "collapsed": false
   },
   "outputs": [
    {
     "data": {
      "text/plain": [
       "0.7041241452319316"
      ]
     },
     "execution_count": 47,
     "metadata": {
     },
     "output_type": "execute_result"
    }
   ],
   "source": [
    "c2=-(1/(-2*sqrt(6)))*(1+sqrt(6))"
   ]
  },
  {
   "cell_type": "code",
   "execution_count": 48,
   "metadata": {
    "collapsed": false
   },
   "outputs": [
    {
     "data": {
      "text/plain": [
       "4.999999999999999"
      ]
     },
     "execution_count": 48,
     "metadata": {
     },
     "output_type": "execute_result"
    }
   ],
   "source": [
    "c1*(1+sqrt(6))^2+c2*(1-sqrt(6))^2"
   ]
  },
  {
   "cell_type": "code",
   "execution_count": 40,
   "metadata": {
    "collapsed": false
   },
   "outputs": [
    {
     "data": {
      "text/plain": [
       "3.449489742783178"
      ]
     },
     "execution_count": 40,
     "metadata": {
     },
     "output_type": "execute_result"
    }
   ],
   "source": [
    "1+sqrt(6)"
   ]
  },
  {
   "cell_type": "code",
   "execution_count": 49,
   "metadata": {
    "collapsed": false
   },
   "outputs": [
   ],
   "source": [
    "using LinearAlgebra"
   ]
  },
  {
   "cell_type": "code",
   "execution_count": 42,
   "metadata": {
    "collapsed": false
   },
   "outputs": [
    {
     "data": {
      "text/plain": [
       "2×2 Matrix{Float64}:\n",
       " 1.0       1.0\n",
       " 3.44949  -1.44949"
      ]
     },
     "execution_count": 42,
     "metadata": {
     },
     "output_type": "execute_result"
    }
   ],
   "source": [
    "A=[1 1\n",
    "1+sqrt(6) 1-sqrt(6)]"
   ]
  },
  {
   "cell_type": "code",
   "execution_count": 45,
   "metadata": {
    "collapsed": false
   },
   "outputs": [
    {
     "data": {
      "text/plain": [
       "2-element Vector{Int64}:\n",
       " 1\n",
       " 0"
      ]
     },
     "execution_count": 45,
     "metadata": {
     },
     "output_type": "execute_result"
    }
   ],
   "source": [
    "b=[1\n",
    "  0]"
   ]
  },
  {
   "cell_type": "code",
   "execution_count": 46,
   "metadata": {
    "collapsed": false
   },
   "outputs": [
    {
     "data": {
      "text/plain": [
       "2-element Vector{Float64}:\n",
       " 0.2958758547680685\n",
       " 0.7041241452319316"
      ]
     },
     "execution_count": 46,
     "metadata": {
     },
     "output_type": "execute_result"
    }
   ],
   "source": [
    "inv(A)*b"
   ]
  },
  {
   "cell_type": "code",
   "execution_count": 50,
   "metadata": {
    "collapsed": false
   },
   "outputs": [
    {
     "data": {
      "text/plain": [
       "3×3 Matrix{Int64}:\n",
       "  1   1  0\n",
       " -3   0  2\n",
       "  9  -4  0"
      ]
     },
     "execution_count": 50,
     "metadata": {
     },
     "output_type": "execute_result"
    }
   ],
   "source": [
    "A=[1 1 0\n",
    "-3 0 2\n",
    "9 -4 0]"
   ]
  },
  {
   "cell_type": "code",
   "execution_count": 51,
   "metadata": {
    "collapsed": false
   },
   "outputs": [
    {
     "data": {
      "text/plain": [
       "3-element Vector{Int64}:\n",
       "  4\n",
       "  1\n",
       " -2"
      ]
     },
     "execution_count": 51,
     "metadata": {
     },
     "output_type": "execute_result"
    }
   ],
   "source": [
    "c=[4;1;-2]"
   ]
  },
  {
   "cell_type": "code",
   "execution_count": 52,
   "metadata": {
    "collapsed": false
   },
   "outputs": [
    {
     "data": {
      "text/plain": [
       "3-element Vector{Int64}:\n",
       "   5\n",
       " -16\n",
       "  32"
      ]
     },
     "execution_count": 52,
     "metadata": {
     },
     "output_type": "execute_result"
    }
   ],
   "source": [
    "A*c"
   ]
  },
  {
   "cell_type": "code",
   "execution_count": 55,
   "metadata": {
    "collapsed": false
   },
   "outputs": [
    {
     "data": {
      "text/plain": [
       "2 + 1im"
      ]
     },
     "execution_count": 55,
     "metadata": {
     },
     "output_type": "execute_result"
    }
   ],
   "source": [
    "a=2+im"
   ]
  },
  {
   "cell_type": "code",
   "execution_count": 56,
   "metadata": {
    "collapsed": false
   },
   "outputs": [
    {
     "data": {
      "text/plain": [
       "1 - 1im"
      ]
     },
     "execution_count": 56,
     "metadata": {
     },
     "output_type": "execute_result"
    }
   ],
   "source": [
    "b=1-im"
   ]
  },
  {
   "cell_type": "code",
   "execution_count": 57,
   "metadata": {
    "collapsed": false
   },
   "outputs": [
    {
     "data": {
      "text/plain": [
       "3 - 1im"
      ]
     },
     "execution_count": 57,
     "metadata": {
     },
     "output_type": "execute_result"
    }
   ],
   "source": [
    "a*b"
   ]
  },
  {
   "cell_type": "code",
   "execution_count": 65,
   "metadata": {
    "collapsed": false
   },
   "outputs": [
    {
     "data": {
      "text/latex": [
       "$\\begin{equation*}\\left(x - 3\\right) \\left(x - 2\\right)^{2}\\end{equation*}$\n"
      ],
      "text/plain": [
       "               2\n",
       "(x - 3)⋅(x - 2) "
      ]
     },
     "execution_count": 65,
     "metadata": {
     },
     "output_type": "execute_result"
    }
   ],
   "source": [
    "p=(x-2)*(x-2)*(x-3)"
   ]
  },
  {
   "cell_type": "code",
   "execution_count": 67,
   "metadata": {
    "collapsed": false
   },
   "outputs": [
    {
     "data": {
      "text/latex": [
       "$\\begin{equation*}x^{3} - 7 x^{2} + 16 x - 12\\end{equation*}$\n"
      ],
      "text/plain": [
       " 3      2            \n",
       "x  - 7⋅x  + 16⋅x - 12"
      ]
     },
     "execution_count": 67,
     "metadata": {
     },
     "output_type": "execute_result"
    }
   ],
   "source": [
    "expand(p)"
   ]
  },
  {
   "cell_type": "code",
   "execution_count": 61,
   "metadata": {
    "collapsed": false
   },
   "outputs": [
   ],
   "source": [
    "using Polynomials"
   ]
  },
  {
   "cell_type": "code",
   "execution_count": 68,
   "metadata": {
    "collapsed": false
   },
   "outputs": [
    {
     "data": {
      "text/html": [
       "13 &#43; 6&#8729;x &#43; x<sup>2</sup>"
      ],
      "text/latex": [
       "$13 + 6\\cdot x + x^{2}$"
      ],
      "text/plain": [
       "Polynomial(13 + 6*x + x^2)"
      ]
     },
     "execution_count": 68,
     "metadata": {
     },
     "output_type": "execute_result"
    }
   ],
   "source": [
    "p=Polynomial([13,6,1])"
   ]
  },
  {
   "cell_type": "code",
   "execution_count": 69,
   "metadata": {
    "collapsed": false
   },
   "outputs": [
    {
     "data": {
      "text/plain": [
       "2-element Vector{ComplexF64}:\n",
       " -3.0000000000000004 - 2.0im\n",
       " -3.0000000000000004 + 2.0im"
      ]
     },
     "execution_count": 69,
     "metadata": {
     },
     "output_type": "execute_result"
    }
   ],
   "source": [
    "Polynomials.roots(p)"
   ]
  },
  {
   "cell_type": "code",
   "execution_count": 36,
   "metadata": {
    "collapsed": false
   },
   "outputs": [
   ],
   "source": [
    "using LinearAlgebra"
   ]
  },
  {
   "cell_type": "code",
   "execution_count": 37,
   "metadata": {
    "collapsed": false,
    "scrolled": true
   },
   "outputs": [
    {
     "data": {
      "text/plain": [
       "3×3 Matrix{Int64}:\n",
       " 1  0  1\n",
       " 1  1  2\n",
       " 0  1  2"
      ]
     },
     "execution_count": 37,
     "metadata": {
     },
     "output_type": "execute_result"
    }
   ],
   "source": [
    "A=[1 0 1\n",
    "1 1 2\n",
    "0 1 2]"
   ]
  },
  {
   "cell_type": "code",
   "execution_count": 38,
   "metadata": {
    "collapsed": false
   },
   "outputs": [
    {
     "data": {
      "text/plain": [
       "3-element Vector{Int64}:\n",
       " 3\n",
       " 2\n",
       " 1"
      ]
     },
     "execution_count": 38,
     "metadata": {
     },
     "output_type": "execute_result"
    }
   ],
   "source": [
    "b=[3;2;1]"
   ]
  },
  {
   "cell_type": "code",
   "execution_count": 39,
   "metadata": {
    "collapsed": false
   },
   "outputs": [
    {
     "data": {
      "text/plain": [
       "3-element Vector{Float64}:\n",
       "  1.0\n",
       " -3.0\n",
       "  2.0"
      ]
     },
     "execution_count": 39,
     "metadata": {
     },
     "output_type": "execute_result"
    }
   ],
   "source": [
    "inv(A)*b"
   ]
  },
  {
   "cell_type": "code",
   "execution_count": 7,
   "metadata": {
    "collapsed": false
   },
   "outputs": [
   ],
   "source": [
    "using LinearAlgebra"
   ]
  },
  {
   "cell_type": "code",
   "execution_count": 8,
   "metadata": {
    "collapsed": false
   },
   "outputs": [
   ],
   "source": [
    "using SymPy"
   ]
  },
  {
   "cell_type": "code",
   "execution_count": 11,
   "metadata": {
    "collapsed": false
   },
   "outputs": [
    {
     "data": {
      "text/plain": [
       "(x,)"
      ]
     },
     "execution_count": 11,
     "metadata": {
     },
     "output_type": "execute_result"
    }
   ],
   "source": [
    "@vars x"
   ]
  },
  {
   "cell_type": "code",
   "execution_count": 18,
   "metadata": {
    "collapsed": false,
    "scrolled": true
   },
   "outputs": [
    {
     "data": {
      "text/latex": [
       "$\\left[ \\begin{array}{rrr}2 x&3 x^{2}&- 8 x^{2} + 5 x\\\\2&6 x&5 - 16 x\\\\0&6&-16\\end{array}\\right]$\n"
      ],
      "text/plain": [
       "3×3 Matrix{Sym}:\n",
       " 2⋅x  3*x^2  -8*x^2 + 5*x\n",
       "   2    6⋅x      5 - 16⋅x\n",
       "   0      6           -16"
      ]
     },
     "execution_count": 18,
     "metadata": {
     },
     "output_type": "execute_result"
    }
   ],
   "source": [
    "A=[2*x 3*x^2 5*x-8*x^2\n",
    "2 6*x -16*x+5\n",
    "0 6 -16]"
   ]
  },
  {
   "cell_type": "code",
   "execution_count": 21,
   "metadata": {
    "collapsed": false,
    "scrolled": true
   },
   "outputs": [
    {
     "data": {
      "text/latex": [
       "$\\begin{equation*}0\\end{equation*}$\n"
      ],
      "text/plain": [
       "0"
      ]
     },
     "execution_count": 21,
     "metadata": {
     },
     "output_type": "execute_result"
    }
   ],
   "source": [
    "det(A)"
   ]
  },
  {
   "cell_type": "code",
   "execution_count": 19,
   "metadata": {
    "collapsed": false,
    "scrolled": true
   },
   "outputs": [
    {
     "data": {
      "text/plain": [
       "3-element Vector{Float64}:\n",
       " -5.0\n",
       "  5.333333333333333\n",
       "  2.0"
      ]
     },
     "execution_count": 19,
     "metadata": {
     },
     "output_type": "execute_result"
    }
   ],
   "source": [
    "v=[-5,16/3,2]"
   ]
  },
  {
   "cell_type": "code",
   "execution_count": 20,
   "metadata": {
    "collapsed": false,
    "scrolled": true
   },
   "outputs": [
    {
     "data": {
      "text/latex": [
       "$\\left[ \\begin{array}{r}0\\\\0\\\\0\\end{array} \\right]$\n"
      ],
      "text/plain": [
       "3-element Vector{Sym}:\n",
       " 0\n",
       " 0\n",
       " 0"
      ]
     },
     "execution_count": 20,
     "metadata": {
     },
     "output_type": "execute_result"
    }
   ],
   "source": [
    "A*v"
   ]
  },
  {
   "cell_type": "code",
   "execution_count": 73,
   "metadata": {
    "collapsed": false
   },
   "outputs": [
    {
     "data": {
      "text/latex": [
       "$\\begin{equation*}x^{3} + x^{2} - x - 1\\end{equation*}$\n"
      ],
      "text/plain": [
       " 3    2        \n",
       "x  + x  - x - 1"
      ]
     },
     "execution_count": 73,
     "metadata": {
     },
     "output_type": "execute_result"
    }
   ],
   "source": [
    "p=x^3+x^2-x-1"
   ]
  },
  {
   "cell_type": "code",
   "execution_count": 74,
   "metadata": {
    "collapsed": false
   },
   "outputs": [
    {
     "data": {
      "text/latex": [
       "$\\begin{equation*}\\left(x - 1\\right) \\left(x + 1\\right)^{2}\\end{equation*}$\n"
      ],
      "text/plain": [
       "               2\n",
       "(x - 1)⋅(x + 1) "
      ]
     },
     "execution_count": 74,
     "metadata": {
     },
     "output_type": "execute_result"
    }
   ],
   "source": [
    "factor(p)"
   ]
  },
  {
   "cell_type": "code",
   "execution_count": 1,
   "metadata": {
    "collapsed": false
   },
   "outputs": [
    {
     "data": {
      "text/plain": [
       "69.44444444444444"
      ]
     },
     "execution_count": 1,
     "metadata": {
     },
     "output_type": "execute_result"
    }
   ],
   "source": [
    "vl=250*1000/3600"
   ]
  },
  {
   "cell_type": "code",
   "execution_count": 2,
   "metadata": {
    "collapsed": false
   },
   "outputs": [
    {
     "data": {
      "text/plain": [
       "27.77777777777778"
      ]
     },
     "execution_count": 2,
     "metadata": {
     },
     "output_type": "execute_result"
    }
   ],
   "source": [
    "v1=100*1000/3600"
   ]
  },
  {
   "cell_type": "code",
   "execution_count": 3,
   "metadata": {
    "collapsed": false
   },
   "outputs": [
    {
     "data": {
      "text/plain": [
       "-0.0144"
      ]
     },
     "execution_count": 3,
     "metadata": {
     },
     "output_type": "execute_result"
    }
   ],
   "source": [
    "A=(-1)/vl"
   ]
  },
  {
   "cell_type": "code",
   "execution_count": 4,
   "metadata": {
    "collapsed": false
   },
   "outputs": [
    {
     "data": {
      "text/plain": [
       "0.051082562376599076"
      ]
     },
     "execution_count": 4,
     "metadata": {
     },
     "output_type": "execute_result"
    }
   ],
   "source": [
    "k=(1/10)*log(1/(A*(v1-vl)))"
   ]
  },
  {
   "cell_type": "code",
   "execution_count": 5,
   "metadata": {
    "collapsed": false
   },
   "outputs": [
    {
     "data": {
      "text/plain": [
       "55.55555555555556"
      ]
     },
     "execution_count": 5,
     "metadata": {
     },
     "output_type": "execute_result"
    }
   ],
   "source": [
    "v2=200*1000/3600"
   ]
  },
  {
   "cell_type": "code",
   "execution_count": 6,
   "metadata": {
    "collapsed": false
   },
   "outputs": [
    {
     "data": {
      "text/plain": [
       "31.506601030871234"
      ]
     },
     "execution_count": 6,
     "metadata": {
     },
     "output_type": "execute_result"
    }
   ],
   "source": [
    "(1/k)*log(1/(A*(v2-vl)))"
   ]
  },
  {
   "cell_type": "code",
   "execution_count": 9,
   "metadata": {
    "collapsed": false
   },
   "outputs": [
    {
     "data": {
      "text/plain": [
       "-202.71209208152237"
      ]
     },
     "execution_count": 9,
     "metadata": {
     },
     "output_type": "execute_result"
    }
   ],
   "source": [
    "vt=(32/0.15)*(exp(-0.15*20)-1)"
   ]
  },
  {
   "cell_type": "code",
   "execution_count": 10,
   "metadata": {
    "collapsed": false
   },
   "outputs": [
    {
     "data": {
      "text/plain": [
       "-2.90744924248647e15"
      ]
     },
     "execution_count": 10,
     "metadata": {
     },
     "output_type": "execute_result"
    }
   ],
   "source": [
    "A=(vt*1.5+32)*exp(1.5*20)"
   ]
  },
  {
   "cell_type": "code",
   "execution_count": 26,
   "metadata": {
    "collapsed": false
   },
   "outputs": [
    {
     "data": {
      "text/plain": [
       "32.1741"
      ]
     },
     "execution_count": 26,
     "metadata": {
     },
     "output_type": "execute_result"
    }
   ],
   "source": [
    "g=32.1741"
   ]
  },
  {
   "cell_type": "code",
   "execution_count": 15,
   "metadata": {
    "collapsed": false
   },
   "outputs": [
    {
     "data": {
      "text/plain": [
       "0.15"
      ]
     },
     "execution_count": 15,
     "metadata": {
     },
     "output_type": "execute_result"
    }
   ],
   "source": [
    "rr1=0.15"
   ]
  },
  {
   "cell_type": "code",
   "execution_count": 13,
   "metadata": {
    "collapsed": false
   },
   "outputs": [
    {
     "data": {
      "text/plain": [
       "20"
      ]
     },
     "execution_count": 13,
     "metadata": {
     },
     "output_type": "execute_result"
    }
   ],
   "source": [
    "t=20"
   ]
  },
  {
   "cell_type": "code",
   "execution_count": 27,
   "metadata": {
    "collapsed": false
   },
   "outputs": [
    {
     "data": {
      "text/plain": [
       "7068.886483716689"
      ]
     },
     "execution_count": 27,
     "metadata": {
     },
     "output_type": "execute_result"
    }
   ],
   "source": [
    "s1=(g/rr1)*((-1/rr1)*exp(-rr1*t)-t)+10000+(g/(rr1^2))"
   ]
  },
  {
   "cell_type": "code",
   "execution_count": 17,
   "metadata": {
    "collapsed": false
   },
   "outputs": [
    {
     "data": {
      "text/plain": [
       "1.5"
      ]
     },
     "execution_count": 17,
     "metadata": {
     },
     "output_type": "execute_result"
    }
   ],
   "source": [
    "rr2=1.5"
   ]
  },
  {
   "cell_type": "code",
   "execution_count": 28,
   "metadata": {
    "collapsed": false
   },
   "outputs": [
    {
     "data": {
      "text/plain": [
       "7497.8744837166905"
      ]
     },
     "execution_count": 28,
     "metadata": {
     },
     "output_type": "execute_result"
    }
   ],
   "source": [
    "D=s1-((g/rr2)*(((-1/rr2)*exp(-rr2*20))-20))"
   ]
  },
  {
   "cell_type": "code",
   "execution_count": 20,
   "metadata": {
    "collapsed": false
   },
   "outputs": [
   ],
   "source": [
    "using Roots"
   ]
  },
  {
   "cell_type": "code",
   "execution_count": 29,
   "metadata": {
    "collapsed": false
   },
   "outputs": [
    {
     "data": {
      "text/plain": [
       "s (generic function with 1 method)"
      ]
     },
     "execution_count": 29,
     "metadata": {
     },
     "output_type": "execute_result"
    }
   ],
   "source": [
    "s(t)=(g/rr2)*(((-1/rr2)*exp(-rr2*t))-t)+D"
   ]
  },
  {
   "cell_type": "code",
   "execution_count": 30,
   "metadata": {
    "collapsed": false
   },
   "outputs": [
    {
     "data": {
      "text/plain": [
       "349.5610359132046"
      ]
     },
     "execution_count": 30,
     "metadata": {
     },
     "output_type": "execute_result"
    }
   ],
   "source": [
    "find_zero(s,60)"
   ]
  },
  {
   "cell_type": "code",
   "execution_count": 23,
   "metadata": {
    "collapsed": false
   },
   "outputs": [
    {
     "data": {
      "text/plain": [
       "7084.747280543483"
      ]
     },
     "execution_count": 23,
     "metadata": {
     },
     "output_type": "execute_result"
    }
   ],
   "source": [
    "s(20)"
   ]
  },
  {
   "cell_type": "code",
   "execution_count": 24,
   "metadata": {
    "collapsed": false
   },
   "outputs": [
    {
     "data": {
      "text/plain": [
       "5.868333333333334"
      ]
     },
     "execution_count": 24,
     "metadata": {
     },
     "output_type": "execute_result"
    }
   ],
   "source": [
    "352.1/60"
   ]
  },
  {
   "cell_type": "code",
   "execution_count": 25,
   "metadata": {
    "collapsed": false
   },
   "outputs": [
    {
     "data": {
      "text/plain": [
       "52.09998"
      ]
     },
     "execution_count": 25,
     "metadata": {
     },
     "output_type": "execute_result"
    }
   ],
   "source": [
    "0.868333*60"
   ]
  },
  {
   "cell_type": "code",
   "execution_count": 9,
   "metadata": {
    "collapsed": false
   },
   "outputs": [
   ],
   "source": [
    "using Pkg"
   ]
  },
  {
   "cell_type": "code",
   "execution_count": 11,
   "metadata": {
    "collapsed": false
   },
   "outputs": [
    {
     "name": "stderr",
     "output_type": "stream",
     "text": [
      "\u001b[32m\u001b[1m   Resolving\u001b[22m\u001b[39m package versions...\n"
     ]
    },
    {
     "name": "stderr",
     "output_type": "stream",
     "text": [
      "\u001b[32m\u001b[1m    Updating\u001b[22m\u001b[39m `~/.julia/environment/v1.6/Project.toml`\n",
      " \u001b[90m [2774e3e8] \u001b[39m"
     ]
    },
    {
     "name": "stderr",
     "output_type": "stream",
     "text": [
      "\u001b[92m+ NLsolve v4.5.1\u001b[39m\n",
      "\u001b[32m\u001b[1m  No Changes\u001b[22m\u001b[39m to `~/.julia/environment/v1.6/Manifest.toml`\n"
     ]
    }
   ],
   "source": [
    "Pkg.add(\"NLsolve\")"
   ]
  },
  {
   "cell_type": "code",
   "execution_count": 22,
   "metadata": {
    "collapsed": false
   },
   "outputs": [
   ],
   "source": [
    "using NLsolve"
   ]
  },
  {
   "cell_type": "code",
   "execution_count": 23,
   "metadata": {
    "collapsed": false
   },
   "outputs": [
    {
     "data": {
      "text/plain": [
       "f! (generic function with 1 method)"
      ]
     },
     "execution_count": 23,
     "metadata": {
     },
     "output_type": "execute_result"
    }
   ],
   "source": [
    "function f!(F, x)\n",
    "    F[1] = ((100*x[1]*exp(100*x[1]*x[2]))/(1+x[1]*exp(100*x[1]*x[2])))-10\n",
    "    F[2] = ((100*x[1]*exp(100*x[1]*(1+x[2])))/(1+x[1]*exp(100*x[1]*(1+x[2]))))-20\n",
    "end"
   ]
  },
  {
   "cell_type": "code",
   "execution_count": 27,
   "metadata": {
    "collapsed": false
   },
   "outputs": [
    {
     "data": {
      "text/plain": [
       "j! (generic function with 1 method)"
      ]
     },
     "execution_count": 27,
     "metadata": {
     },
     "output_type": "execute_result"
    }
   ],
   "source": [
    "function j!(J, x)\n",
    "    J[1, 1] = (((0 * x[1] * exp(100 * x[1] * x[2]) + 100 * 1 * exp(100 * x[1] * x[2]) + 100 * x[1] * ((0 * x[1] * x[2] + 100 * 1 * x[2] + 100 * x[1] * 0) * exp(100 * x[1] * x[2]))) * (1 + x[1] * exp(100 * x[1] * x[2])) - (100 * x[1] * exp(100 * x[1] * x[2])) * (1 * exp(100 * x[1] * x[2]) + x[1] * ((0 * x[1] * x[2] + 100 * 1 * x[2] + 100 * x[1] * 0) * exp(100 * x[1] * x[2])))) / (1 + x[1] * exp(100 * x[1] * x[2])) ^ 2)\n",
    "    J[1, 2] = (((0 * x[1] * exp(100 * x[1] * x[2]) + 100 * 0 * exp(100 * x[1] * x[2]) + 100 * x[1] * ((0 * x[1] * x[2] + 100 * 0 * x[2] + 100 * x[1] * 1) * exp(100 * x[1] * x[2]))) * (1 + x[1] * exp(100 * x[1] * x[2])) - (100 * x[1] * exp(100 * x[1] * x[2])) * (0 * exp(100 * x[1] * x[2]) + x[1] * ((0 * x[1] * x[2] + 100 * 0 * x[2] + 100 * x[1] * 1) * exp(100 * x[1] * x[2])))) / (1 + x[1] * exp(100 * x[1] * x[2])) ^ 2)\n",
    "    J[2, 1] = (((0 * x[1] * exp(100 * x[1] * (1 + x[2])) + 100 * 1 * exp(100 * x[1] * (1 + x[2])) + 100 * x[1] * ((0 * x[1] * (1 + x[2]) + 100 * 1 * (1 + x[2]) + 100 * x[1] * 0) * exp(100 * x[1] * (1 + x[2])))) * (1 + x[1] * exp(100 * x[1] * (1 + x[2]))) - (100 * x[1] * exp(100 * x[1] * (1 + x[2]))) * (1 * exp(100 * x[1] * (1 + x[2])) + x[1] * ((0 * x[1] * (1 + x[2]) + 100 * 1 * (1 + x[2]) + 100 * x[1] * 0) * exp(100 * x[1] * (1 + x[2]))))) / (1 + x[1] * exp(100 * x[1] * (1 + x[2]))) ^ 2)\n",
    "    J[2, 2] = (((0 * x[1] * exp(100 * x[1] * (1 + x[2])) + 100 * 0 * exp(100 * x[1] * (1 + x[2])) + 100 * x[1] * ((0 * x[1] * (1 + x[2]) + 100 * 0 * (1 + x[2]) + 100 * x[1] * 1) * exp(100 * x[1] * (1 + x[2])))) * (1 + x[1] * exp(100 * x[1] * (1 + x[2]))) - (100 * x[1] * exp(100 * x[1] * (1 + x[2]))) * (0 * exp(100 * x[1] * (1 + x[2])) + x[1] * ((0 * x[1] * (1 + x[2]) + 100 * 0 * (1 + x[2]) + 100 * x[1] * 1) * exp(100 * x[1] * (1 + x[2]))))) / (1 + x[1] * exp(100 * x[1] * (1 + x[2]))) ^ 2)\n",
    "end"
   ]
  },
  {
   "cell_type": "code",
   "execution_count": 28,
   "metadata": {
    "collapsed": false
   },
   "outputs": [
    {
     "data": {
      "text/plain": [
       "Results of Nonlinear Solver Algorithm\n",
       " * Algorithm: Trust-region with dogleg and autoscaling\n",
       " * Starting Point: [1.0e-5, 1.0]\n",
       " * Zero: [0.008109302162163587, 3.2277979429877264]\n",
       " * Inf-norm of residuals: 0.000000\n",
       " * Iterations: 205\n",
       " * Convergence: true\n",
       "   * |x - x'| < 0.0e+00: false\n",
       "   * |f(x)| < 1.0e-08: true\n",
       " * Function Calls (f): 206\n",
       " * Jacobian Calls (df/dx): 115"
      ]
     },
     "execution_count": 28,
     "metadata": {
     },
     "output_type": "execute_result"
    }
   ],
   "source": [
    "nlsolve(f!, j!, [ 0.00001; 1])"
   ]
  },
  {
   "cell_type": "code",
   "execution_count": 14,
   "metadata": {
    "collapsed": false
   },
   "outputs": [
   ],
   "source": [
    "using Calculus"
   ]
  },
  {
   "cell_type": "code",
   "execution_count": 16,
   "metadata": {
    "collapsed": false,
    "scrolled": true
   },
   "outputs": [
    {
     "data": {
      "text/plain": [
       ":(((0 * x * exp(100 * x * y) + 100 * 0 * exp(100 * x * y) + 100 * x * ((0 * x * y + 100 * 0 * y + 100 * x * 1) * exp(100 * x * y))) * (1 + x * exp(100 * x * y)) - (100 * x * exp(100 * x * y)) * (0 * exp(100 * x * y) + x * ((0 * x * y + 100 * 0 * y + 100 * x * 1) * exp(100 * x * y)))) / (1 + x * exp(100 * x * y)) ^ 2)"
      ]
     },
     "execution_count": 16,
     "metadata": {
     },
     "output_type": "execute_result"
    }
   ],
   "source": [
    "differentiate(\"((100*x*exp(100*x*y))/(1+x*exp(100*x*y)))-10\",:y)"
   ]
  },
  {
   "cell_type": "code",
   "execution_count": 18,
   "metadata": {
    "collapsed": false,
    "scrolled": true
   },
   "outputs": [
    {
     "data": {
      "text/plain": [
       ":(((0 * x * exp(100 * x * (1 + y)) + 100 * 0 * exp(100 * x * (1 + y)) + 100 * x * ((0 * x * (1 + y) + 100 * 0 * (1 + y) + 100 * x * 1) * exp(100 * x * (1 + y)))) * (1 + x * exp(100 * x * (1 + y))) - (100 * x * exp(100 * x * (1 + y))) * (0 * exp(100 * x * (1 + y)) + x * ((0 * x * (1 + y) + 100 * 0 * (1 + y) + 100 * x * 1) * exp(100 * x * (1 + y))))) / (1 + x * exp(100 * x * (1 + y))) ^ 2)"
      ]
     },
     "execution_count": 18,
     "metadata": {
     },
     "output_type": "execute_result"
    }
   ],
   "source": [
    "differentiate(\"((100*x*exp(100*x*(1+y)))/(1+x*exp(100*x*(1+y))))-20\",:y)"
   ]
  },
  {
   "cell_type": "code",
   "execution_count": 29,
   "metadata": {
    "collapsed": false
   },
   "outputs": [
    {
     "data": {
      "text/plain": [
       "0.8109302162163587"
      ]
     },
     "execution_count": 29,
     "metadata": {
     },
     "output_type": "execute_result"
    }
   ],
   "source": [
    "a=100*0.008109302162163587"
   ]
  },
  {
   "cell_type": "code",
   "execution_count": 30,
   "metadata": {
    "collapsed": false
   },
   "outputs": [
    {
     "data": {
      "text/plain": [
       "0.008109302162163587"
      ]
     },
     "execution_count": 30,
     "metadata": {
     },
     "output_type": "execute_result"
    }
   ],
   "source": [
    "b=0.008109302162163587"
   ]
  },
  {
   "cell_type": "code",
   "execution_count": 31,
   "metadata": {
    "collapsed": false
   },
   "outputs": [
    {
     "data": {
      "text/plain": [
       "3.2277979429877264"
      ]
     },
     "execution_count": 31,
     "metadata": {
     },
     "output_type": "execute_result"
    }
   ],
   "source": [
    "C=3.2277979429877264"
   ]
  },
  {
   "cell_type": "code",
   "execution_count": 33,
   "metadata": {
    "collapsed": false
   },
   "outputs": [
    {
     "data": {
      "text/plain": [
       "P (generic function with 1 method)"
      ]
     },
     "execution_count": 33,
     "metadata": {
     },
     "output_type": "execute_result"
    }
   ],
   "source": [
    "function P(t)\n",
    "    P=(a*exp(a*(t+C)))/(1+b*exp(a*(t+C)))-80\n",
    "end"
   ]
  },
  {
   "cell_type": "code",
   "execution_count": 34,
   "metadata": {
    "collapsed": false
   },
   "outputs": [
   ],
   "source": [
    "using Roots"
   ]
  },
  {
   "cell_type": "code",
   "execution_count": 35,
   "metadata": {
    "collapsed": false
   },
   "outputs": [
    {
     "data": {
      "text/plain": [
       "4.419022582702764"
      ]
     },
     "execution_count": 35,
     "metadata": {
     },
     "output_type": "execute_result"
    }
   ],
   "source": [
    "find_zero(P,3)"
   ]
  },
  {
   "cell_type": "code",
   "execution_count": 36,
   "metadata": {
    "collapsed": false
   },
   "outputs": [
   ],
   "source": [
    "using Polynomials"
   ]
  },
  {
   "cell_type": "code",
   "execution_count": 1,
   "metadata": {
    "collapsed": false
   },
   "outputs": [
    {
     "data": {
      "text/plain": [
       "21.0"
      ]
     },
     "execution_count": 1,
     "metadata": {
     },
     "output_type": "execute_result"
    }
   ],
   "source": [
    "sqrt(441)"
   ]
  },
  {
   "cell_type": "code",
   "execution_count": 2,
   "metadata": {
    "collapsed": false
   },
   "outputs": [
   ],
   "source": [
    "using NLsolve"
   ]
  },
  {
   "cell_type": "code",
   "execution_count": 3,
   "metadata": {
    "collapsed": false
   },
   "outputs": [
    {
     "data": {
      "text/plain": [
       "f! (generic function with 1 method)"
      ]
     },
     "execution_count": 3,
     "metadata": {
     },
     "output_type": "execute_result"
    }
   ],
   "source": [
    "function f!(F, x)\n",
    "    F[1]=(15/(exp(-15*x[1]*x[2])+x[1]))-5000\n",
    "    F[2]=((225*x[1]^2*exp(-15*x[1]*x[2]))/((exp(-15*x[1]*x[2])+x[1])^2))-500\n",
    "end"
   ]
  },
  {
   "cell_type": "code",
   "execution_count": 4,
   "metadata": {
    "collapsed": false
   },
   "outputs": [
   ],
   "source": [
    "using Calculus"
   ]
  },
  {
   "cell_type": "code",
   "execution_count": 7,
   "metadata": {
    "collapsed": false
   },
   "outputs": [
    {
     "data": {
      "text/plain": [
       ":(((0 * x + 15 * 1) * (exp(-15 * x * y) + x) - (15x) * ((0 * x * y + -15 * 1 * y + -15 * x * 0) * exp(-15 * x * y) + 1)) / (exp(-15 * x * y) + x) ^ 2)"
      ]
     },
     "execution_count": 7,
     "metadata": {
     },
     "output_type": "execute_result"
    }
   ],
   "source": [
    "differentiate(\"((15*x)/(exp(-15*x*y)+x))-5000\",:x)"
   ]
  },
  {
   "cell_type": "code",
   "execution_count": 8,
   "metadata": {
    "collapsed": false
   },
   "outputs": [
    {
     "data": {
      "text/plain": [
       ":(((0 * x + 15 * 0) * (exp(-15 * x * y) + x) - (15x) * ((0 * x * y + -15 * 0 * y + -15 * x * 1) * exp(-15 * x * y))) / (exp(-15 * x * y) + x) ^ 2)"
      ]
     },
     "execution_count": 8,
     "metadata": {
     },
     "output_type": "execute_result"
    }
   ],
   "source": [
    "differentiate(\"((15*x)/(exp(-15*x*y)+x))-5000\",:y)"
   ]
  },
  {
   "cell_type": "code",
   "execution_count": 9,
   "metadata": {
    "collapsed": false
   },
   "outputs": [
    {
     "data": {
      "text/plain": [
       ":(((0 * x ^ 2 * exp(-15 * x * y) + 225 * (2 * 1 * x ^ (2 - 1)) * exp(-15 * x * y) + 225 * x ^ 2 * ((0 * x * y + -15 * 1 * y + -15 * x * 0) * exp(-15 * x * y))) * (exp(-15 * x * y) + x) ^ 2 - (225 * x ^ 2 * exp(-15 * x * y)) * (2 * ((0 * x * y + -15 * 1 * y + -15 * x * 0) * exp(-15 * x * y) + 1) * (exp(-15 * x * y) + x) ^ (2 - 1))) / ((exp(-15 * x * y) + x) ^ 2) ^ 2)"
      ]
     },
     "execution_count": 9,
     "metadata": {
     },
     "output_type": "execute_result"
    }
   ],
   "source": [
    "differentiate(\"((225*x^2*exp(-15*x*y))/((exp(-15*x*y)+x)^2))-500\",:x)"
   ]
  },
  {
   "cell_type": "code",
   "execution_count": 10,
   "metadata": {
    "collapsed": false
   },
   "outputs": [
    {
     "data": {
      "text/plain": [
       ":(((0 * x ^ 2 * exp(-15 * x * y) + 225 * 0 * exp(-15 * x * y) + 225 * x ^ 2 * ((0 * x * y + -15 * 0 * y + -15 * x * 1) * exp(-15 * x * y))) * (exp(-15 * x * y) + x) ^ 2 - (225 * x ^ 2 * exp(-15 * x * y)) * (2 * ((0 * x * y + -15 * 0 * y + -15 * x * 1) * exp(-15 * x * y)) * (exp(-15 * x * y) + x) ^ (2 - 1))) / ((exp(-15 * x * y) + x) ^ 2) ^ 2)"
      ]
     },
     "execution_count": 10,
     "metadata": {
     },
     "output_type": "execute_result"
    }
   ],
   "source": [
    "differentiate(\"((225*x^2*exp(-15*x*y))/((exp(-15*x*y)+x)^2))-500\",:y)"
   ]
  },
  {
   "cell_type": "code",
   "execution_count": 11,
   "metadata": {
    "collapsed": false
   },
   "outputs": [
    {
     "data": {
      "text/plain": [
       "j! (generic function with 1 method)"
      ]
     },
     "execution_count": 11,
     "metadata": {
     },
     "output_type": "execute_result"
    }
   ],
   "source": [
    "function j!(J, x)\n",
    "    J[1,1]=(((0 * x[1] + 15 * 1) * (exp(-15 * x[1] * x[2]) + x[1]) - (15x[1]) * ((0 * x[1] * x[2] + -15 * 1 * x[2] + -15 * x[1] * 0) * exp(-15 * x[1] * x[2]) + 1)) / (exp(-15 * x[1] * x[2]) + x[1]) ^ 2)\n",
    "    J[1,2]=(((0 * x[1] + 15 * 0) * (exp(-15 * x[1] * x[2]) + x[1]) - (15x[1]) * ((0 * x[1] * x[2] + -15 * 0 * x[2] + -15 * x[1] * 1) * exp(-15 * x[1] * x[2]))) / (exp(-15 * x[1] * x[2]) + x[1]) ^ 2)\n",
    "    J[2,1]=(((0 * x[1] ^ 2 * exp(-15 * x[1] * x[2]) + 225 * (2 * 1 * x[1] ^ (2 - 1)) * exp(-15 * x[1] * x[2]) + 225 * x[1] ^ 2 * ((0 * x[1] * x[2] + -15 * 1 * x[2] + -15 * x[1] * 0) * exp(-15 * x[1] * x[2]))) * (exp(-15 * x[1] * x[2]) + x[1]) ^ 2 - (225 * x[1] ^ 2 * exp(-15 * x[1] * x[2])) * (2 * ((0 * x[1] * x[2] + -15 * 1 * x[2] + -15 * x[1] * 0) * exp(-15 * x[1] * x[2]) + 1) * (exp(-15 * x[1] * x[2]) + x[1]) ^ (2 - 1))) / ((exp(-15 * x[1] * x[2]) + x[1]) ^ 2) ^ 2)\n",
    "    J[2,2]=(((0 * x[1] ^ 2 * exp(-15 * x[1] * x[2]) + 225 * 0 * exp(-15 * x[1] * x[2]) + 225 * x[1] ^ 2 * ((0 * x[1] * x[2] + -15 * 0 * x[2] + -15 * x[1] * 1) * exp(-15 * x[1] * x[2]))) * (exp(-15 * x[1] * x[2]) + x[1]) ^ 2 - (225 * x[1] ^ 2 * exp(-15 * x[1] * x[2])) * (2 * ((0 * x[1] * x[2] + -15 * 0 * x[2] + -15 * x[1] * 1) * exp(-15 * x[1] * x[2])) * (exp(-15 * x[1] * x[2]) + x[1]) ^ (2 - 1))) / ((exp(-15 * x[1] * x[2]) + x[1]) ^ 2) ^ 2)\n",
    "end"
   ]
  },
  {
   "cell_type": "code",
   "execution_count": 20,
   "metadata": {
    "collapsed": false
   },
   "outputs": [
    {
     "data": {
      "text/plain": [
       "Results of Nonlinear Solver Algorithm\n",
       " * Algorithm: Trust-region with dogleg and autoscaling\n",
       " * Starting Point: [0.9, 21.0]\n",
       " * Zero: [0.9, 21.0]\n",
       " * Inf-norm of residuals: 4985.000000\n",
       " * Iterations: 1000\n",
       " * Convergence: false\n",
       "   * |x - x'| < 0.0e+00: false\n",
       "   * |f(x)| < 1.0e-08: false\n",
       " * Function Calls (f): 3\n",
       " * Jacobian Calls (df/dx): 1"
      ]
     },
     "execution_count": 20,
     "metadata": {
     },
     "output_type": "execute_result"
    }
   ],
   "source": [
    "nlsolve(f!, j!, [0.9;21])"
   ]
  },
  {
   "cell_type": "code",
   "execution_count": 27,
   "metadata": {
    "collapsed": false,
    "scrolled": true
   },
   "outputs": [
    {
     "data": {
      "text/plain": [
       "0.01"
      ]
     },
     "execution_count": 27,
     "metadata": {
     },
     "output_type": "execute_result"
    }
   ],
   "source": [
    "k=1/100"
   ]
  },
  {
   "cell_type": "code",
   "execution_count": 28,
   "metadata": {
    "collapsed": false
   },
   "outputs": [
    {
     "data": {
      "text/plain": [
       "0.6931471805599453"
      ]
     },
     "execution_count": 28,
     "metadata": {
     },
     "output_type": "execute_result"
    }
   ],
   "source": [
    "C=log(2)"
   ]
  },
  {
   "cell_type": "code",
   "execution_count": 30,
   "metadata": {
    "collapsed": false
   },
   "outputs": [
    {
     "data": {
      "text/plain": [
       "P (generic function with 1 method)"
      ]
     },
     "execution_count": 30,
     "metadata": {
     },
     "output_type": "execute_result"
    }
   ],
   "source": [
    "P(t)=(15/(exp(-15*k*t+C)+1))-10"
   ]
  },
  {
   "cell_type": "code",
   "execution_count": 32,
   "metadata": {
    "collapsed": false
   },
   "outputs": [
   ],
   "source": [
    "using Roots"
   ]
  },
  {
   "cell_type": "code",
   "execution_count": 33,
   "metadata": {
    "collapsed": false
   },
   "outputs": [
    {
     "data": {
      "text/plain": [
       "9.24196240746594"
      ]
     },
     "execution_count": 33,
     "metadata": {
     },
     "output_type": "execute_result"
    }
   ],
   "source": [
    "find_zero(P,10)"
   ]
  },
  {
   "cell_type": "code",
   "execution_count": 34,
   "metadata": {
    "collapsed": false
   },
   "outputs": [
    {
     "data": {
      "text/plain": [
       "133.33333333333334"
      ]
     },
     "execution_count": 34,
     "metadata": {
     },
     "output_type": "execute_result"
    }
   ],
   "source": [
    "1/0.0075"
   ]
  },
  {
   "cell_type": "code",
   "execution_count": 202,
   "metadata": {
    "collapsed": false
   },
   "outputs": [
    {
     "data": {
      "text/plain": [
       "0.7429718875502006"
      ]
     },
     "execution_count": 202,
     "metadata": {
     },
     "output_type": "execute_result"
    }
   ],
   "source": [
    "((4*28.15)-97.8)/(4*13.98-36)"
   ]
  },
  {
   "cell_type": "code",
   "execution_count": 1,
   "metadata": {
    "collapsed": false
   },
   "outputs": [
   ],
   "source": [
    "using LinearAlgebra"
   ]
  },
  {
   "cell_type": "code",
   "execution_count": 2,
   "metadata": {
    "collapsed": false,
    "scrolled": true
   },
   "outputs": [
    {
     "data": {
      "text/plain": [
       "3-element Vector{Int64}:\n",
       "  3\n",
       "  2\n",
       " -4"
      ]
     },
     "execution_count": 2,
     "metadata": {
     },
     "output_type": "execute_result"
    }
   ],
   "source": [
    "a=[3\n",
    "2\n",
    "-4]"
   ]
  },
  {
   "cell_type": "code",
   "execution_count": 3,
   "metadata": {
    "collapsed": false
   },
   "outputs": [
    {
     "data": {
      "text/plain": [
       "3-element Vector{Int64}:\n",
       "  1\n",
       " -1\n",
       "  8"
      ]
     },
     "execution_count": 3,
     "metadata": {
     },
     "output_type": "execute_result"
    }
   ],
   "source": [
    "b=[1\n",
    "-1\n",
    "8]"
   ]
  },
  {
   "cell_type": "code",
   "execution_count": 4,
   "metadata": {
    "collapsed": false
   },
   "outputs": [
    {
     "data": {
      "text/plain": [
       "-31"
      ]
     },
     "execution_count": 4,
     "metadata": {
     },
     "output_type": "execute_result"
    }
   ],
   "source": [
    "dot(a,b)"
   ]
  },
  {
   "cell_type": "code",
   "execution_count": 6,
   "metadata": {
    "collapsed": false
   },
   "outputs": [
    {
     "data": {
      "text/plain": [
       "3-element Vector{Int64}:\n",
       "  12\n",
       " -28\n",
       "  -5"
      ]
     },
     "execution_count": 6,
     "metadata": {
     },
     "output_type": "execute_result"
    }
   ],
   "source": [
    "cross(a,b)"
   ]
  },
  {
   "cell_type": "code",
   "execution_count": 7,
   "metadata": {
    "collapsed": false
   },
   "outputs": [
    {
     "data": {
      "text/plain": [
       "5.385164807134504"
      ]
     },
     "execution_count": 7,
     "metadata": {
     },
     "output_type": "execute_result"
    }
   ],
   "source": [
    "norm(a)"
   ]
  },
  {
   "cell_type": "code",
   "execution_count": 214,
   "metadata": {
    "collapsed": false
   },
   "outputs": [
    {
     "data": {
      "text/plain": [
       "3-element Vector{Float64}:\n",
       " 273.6\n",
       " 296.1\n",
       " 568.0"
      ]
     },
     "execution_count": 214,
     "metadata": {
     },
     "output_type": "execute_result"
    }
   ],
   "source": [
    "Y=[273.6\n",
    "296.1\n",
    "568]"
   ]
  },
  {
   "cell_type": "code",
   "execution_count": 215,
   "metadata": {
    "collapsed": false
   },
   "outputs": [
    {
     "data": {
      "text/plain": [
       "3×2 Matrix{Int64}:\n",
       " 1  0\n",
       " 0  1\n",
       " 1  1"
      ]
     },
     "execution_count": 215,
     "metadata": {
     },
     "output_type": "execute_result"
    }
   ],
   "source": [
    "A=[1 0\n",
    "0 1\n",
    "1 1]"
   ]
  },
  {
   "cell_type": "code",
   "execution_count": 216,
   "metadata": {
    "collapsed": false
   },
   "outputs": [
    {
     "data": {
      "text/plain": [
       "2-element Vector{Float64}:\n",
       " 273.0333333333333\n",
       " 295.5333333333333"
      ]
     },
     "execution_count": 216,
     "metadata": {
     },
     "output_type": "execute_result"
    }
   ],
   "source": [
    "V0=inv(transpose(A)*A)*transpose(A)*Y"
   ]
  },
  {
   "cell_type": "code",
   "execution_count": 217,
   "metadata": {
    "collapsed": false
   },
   "outputs": [
    {
     "data": {
      "text/plain": [
       "4.289231985554269"
      ]
     },
     "execution_count": 217,
     "metadata": {
     },
     "output_type": "execute_result"
    }
   ],
   "source": [
    "log(2)/0.1616017"
   ]
  },
  {
   "cell_type": "code",
   "execution_count": 218,
   "metadata": {
    "collapsed": false
   },
   "outputs": [
    {
     "data": {
      "text/plain": [
       "1.3653478057572978e9"
      ]
     },
     "execution_count": 218,
     "metadata": {
     },
     "output_type": "execute_result"
    }
   ],
   "source": [
    "53900000*exp(0.1616017*20)"
   ]
  },
  {
   "cell_type": "code",
   "execution_count": 1,
   "metadata": {
    "collapsed": false
   },
   "outputs": [
   ],
   "source": [
    "using LinearAlgebra"
   ]
  },
  {
   "cell_type": "code",
   "execution_count": 3,
   "metadata": {
    "collapsed": false
   },
   "outputs": [
   ],
   "source": [
    "using SymPy"
   ]
  },
  {
   "cell_type": "code",
   "execution_count": 5,
   "metadata": {
    "collapsed": false
   },
   "outputs": [
    {
     "data": {
      "text/plain": [
       "(x,)"
      ]
     },
     "execution_count": 5,
     "metadata": {
     },
     "output_type": "execute_result"
    }
   ],
   "source": [
    "@vars x"
   ]
  },
  {
   "cell_type": "code",
   "execution_count": 25,
   "metadata": {
    "collapsed": false
   },
   "outputs": [
    {
     "data": {
      "text/plain": [
       "6-element Vector{Float64}:\n",
       " 0.645\n",
       " 0.23\n",
       " 0.25\n",
       " 0.213\n",
       " 0.211\n",
       " 0.0"
      ]
     },
     "execution_count": 25,
     "metadata": {
     },
     "output_type": "execute_result"
    }
   ],
   "source": [
    "A=[.645\n",
    ".23\n",
    ".25\n",
    ".213\n",
    ".211\n",
    "    0]"
   ]
  },
  {
   "cell_type": "code",
   "execution_count": 12,
   "metadata": {
    "collapsed": false
   },
   "outputs": [
    {
     "data": {
      "text/plain": [
       "6-element Vector{Float64}:\n",
       "  64.5\n",
       " 408.0\n",
       "  25.0\n",
       "  21.3\n",
       "  21.1\n",
       "   0.0"
      ]
     },
     "execution_count": 12,
     "metadata": {
     },
     "output_type": "execute_result"
    }
   ],
   "source": [
    "C=[64.5\n",
    "408\n",
    "25\n",
    "21.3\n",
    "21.1\n",
    "    0]"
   ]
  },
  {
   "cell_type": "code",
   "execution_count": 21,
   "metadata": {
    "collapsed": false
   },
   "outputs": [
    {
     "data": {
      "text/plain": [
       "6-element Vector{Float64}:\n",
       " 0.07\n",
       " 0.2\n",
       " 0.165\n",
       " 0.165\n",
       " 0.3\n",
       " 0.1"
      ]
     },
     "execution_count": 21,
     "metadata": {
     },
     "output_type": "execute_result"
    }
   ],
   "source": [
    "B=[.07\n",
    ".20\n",
    ".165\n",
    ".165\n",
    ".30\n",
    ".10]"
   ]
  },
  {
   "cell_type": "code",
   "execution_count": 8,
   "metadata": {
    "collapsed": false
   },
   "outputs": [
    {
     "data": {
      "text/latex": [
       "$\\begin{equation*}20.0 \\operatorname{transpose}{\\left(x \\right)} + 1848.45\\end{equation*}$\n"
      ],
      "text/plain": [
       "20.0⋅transpose(x) + 1848.45"
      ]
     },
     "execution_count": 8,
     "metadata": {
     },
     "output_type": "execute_result"
    }
   ],
   "source": [
    "transpose(A)*B"
   ]
  },
  {
   "cell_type": "code",
   "execution_count": 13,
   "metadata": {
    "collapsed": false
   },
   "outputs": [
    {
     "data": {
      "text/plain": [
       "10008.45"
      ]
     },
     "execution_count": 13,
     "metadata": {
     },
     "output_type": "execute_result"
    }
   ],
   "source": [
    "dot(C,B)"
   ]
  },
  {
   "cell_type": "code",
   "execution_count": 10,
   "metadata": {
    "collapsed": false
   },
   "outputs": [
   ],
   "source": [
    "using Roots"
   ]
  },
  {
   "cell_type": "code",
   "execution_count": 11,
   "metadata": {
    "collapsed": false
   },
   "outputs": [
    {
     "data": {
      "text/plain": [
       "407.57750000000004"
      ]
     },
     "execution_count": 11,
     "metadata": {
     },
     "output_type": "execute_result"
    }
   ],
   "source": [
    "find_zero(20*x+1848.45-10000,50)"
   ]
  },
  {
   "cell_type": "code",
   "execution_count": 14,
   "metadata": {
    "collapsed": false
   },
   "outputs": [
    {
     "data": {
      "text/latex": [
       "$\\left[ \\begin{array}{r}0.645\\\\0.01 x\\\\0.25\\\\0.213\\\\0.211\\\\0\\end{array} \\right]$\n"
      ],
      "text/plain": [
       "6-element Vector{Sym}:\n",
       " 0.645000000000000\n",
       "            0.01⋅x\n",
       " 0.250000000000000\n",
       " 0.213000000000000\n",
       " 0.211000000000000\n",
       "                 0"
      ]
     },
     "execution_count": 14,
     "metadata": {
     },
     "output_type": "execute_result"
    }
   ],
   "source": [
    "a=(1/100)*A"
   ]
  },
  {
   "cell_type": "code",
   "execution_count": 15,
   "metadata": {
    "collapsed": false
   },
   "outputs": [
    {
     "data": {
      "text/plain": [
       "6-element Vector{Float64}:\n",
       " 0.07\n",
       " 0.2\n",
       " 0.165\n",
       " 0.165\n",
       " 0.3\n",
       " 0.1"
      ]
     },
     "execution_count": 15,
     "metadata": {
     },
     "output_type": "execute_result"
    }
   ],
   "source": [
    "b=(1/100)*B"
   ]
  },
  {
   "cell_type": "code",
   "execution_count": 17,
   "metadata": {
    "collapsed": false
   },
   "outputs": [
    {
     "data": {
      "text/latex": [
       "$\\begin{equation*}0.002 \\overline{x} + 0.184845\\end{equation*}$\n"
      ],
      "text/plain": [
       "      _           \n",
       "0.002⋅x + 0.184845"
      ]
     },
     "execution_count": 17,
     "metadata": {
     },
     "output_type": "execute_result"
    }
   ],
   "source": [
    "dot(a,b)"
   ]
  },
  {
   "cell_type": "code",
   "execution_count": 24,
   "metadata": {
    "collapsed": false
   },
   "outputs": [
    {
     "data": {
      "text/plain": [
       "0.225775"
      ]
     },
     "execution_count": 24,
     "metadata": {
     },
     "output_type": "execute_result"
    }
   ],
   "source": [
    "find_zero(0.2*x+0.184845-0.23,.5)"
   ]
  },
  {
   "cell_type": "code",
   "execution_count": 26,
   "metadata": {
    "collapsed": false
   },
   "outputs": [
    {
     "data": {
      "text/plain": [
       "0.23084500000000002"
      ]
     },
     "execution_count": 26,
     "metadata": {
     },
     "output_type": "execute_result"
    }
   ],
   "source": [
    "dot(A,B)"
   ]
  },
  {
   "cell_type": "code",
   "execution_count": 175,
   "metadata": {
    "collapsed": false
   },
   "outputs": [
   ],
   "source": [
    "using Calculus"
   ]
  },
  {
   "cell_type": "code",
   "execution_count": 177,
   "metadata": {
    "collapsed": false
   },
   "outputs": [
    {
     "data": {
      "text/plain": [
       "f (generic function with 1 method)"
      ]
     },
     "execution_count": 177,
     "metadata": {
     },
     "output_type": "execute_result"
    }
   ],
   "source": [
    "f(x)=x*0.5*(16-x*(1+0.5*pi))+(x/2)^2*pi*0.5"
   ]
  },
  {
   "cell_type": "code",
   "execution_count": 181,
   "metadata": {
    "collapsed": false
   },
   "outputs": [
    {
     "data": {
      "text/plain": [
       ":((1 * 0.5 * (16 - x * (1 + 0.5pi)) + x * 0 * (16 - x * (1 + 0.5pi)) + x * 0.5 * (0 - (1 * (1 + 0.5pi) + x * (0pi + 0.5 * 0)))) + ((2 * (1 / 2) * (x / 2) ^ (2 - 1)) * pi * 0.5 + (x / 2) ^ 2 * 0 * 0.5 + (x / 2) ^ 2 * pi * 0))"
      ]
     },
     "execution_count": 181,
     "metadata": {
     },
     "output_type": "execute_result"
    }
   ],
   "source": [
    "differentiate(\"x*0.5*(16-x*(1+0.5*pi))+(x/2)^2*pi*0.5\",:x)"
   ]
  },
  {
   "cell_type": "code",
   "execution_count": 182,
   "metadata": {
    "collapsed": false
   },
   "outputs": [
   ],
   "source": [
    "using Roots"
   ]
  },
  {
   "cell_type": "code",
   "execution_count": 183,
   "metadata": {
    "collapsed": false
   },
   "outputs": [
    {
     "data": {
      "text/plain": [
       "fp (generic function with 1 method)"
      ]
     },
     "execution_count": 183,
     "metadata": {
     },
     "output_type": "execute_result"
    }
   ],
   "source": [
    "fp(x)=((1 * 0.5 * (16 - x * (1 + 0.5pi)) + x * 0 * (16 - x * (1 + 0.5pi)) + x * 0.5 * (0 - (1 * (1 + 0.5pi) + x * (0pi + 0.5 * 0)))) + ((2 * (1 / 2) * (x / 2) ^ (2 - 1)) * pi * 0.5 + (x / 2) ^ 2 * 0 * 0.5 + (x / 2) ^ 2 * pi * 0))"
   ]
  },
  {
   "cell_type": "code",
   "execution_count": 189,
   "metadata": {
    "collapsed": false
   },
   "outputs": [
    {
     "data": {
      "text/plain": [
       "4.480793228092459"
      ]
     },
     "execution_count": 189,
     "metadata": {
     },
     "output_type": "execute_result"
    }
   ],
   "source": [
    "find_zero(fp,5)"
   ]
  },
  {
   "cell_type": "code",
   "execution_count": 190,
   "metadata": {
    "collapsed": false
   },
   "outputs": [
    {
     "data": {
      "text/plain": [
       "4.480793228092459"
      ]
     },
     "execution_count": 190,
     "metadata": {
     },
     "output_type": "execute_result"
    }
   ],
   "source": [
    "x=4.480793228092459"
   ]
  },
  {
   "cell_type": "code",
   "execution_count": 191,
   "metadata": {
    "collapsed": false
   },
   "outputs": [
    {
     "data": {
      "text/plain": [
       "2.24039661404623"
      ]
     },
     "execution_count": 191,
     "metadata": {
     },
     "output_type": "execute_result"
    }
   ],
   "source": [
    "y=(16-x-(pi/2)*x)*0.5"
   ]
  },
  {
   "cell_type": "code",
   "execution_count": 195,
   "metadata": {
    "collapsed": false
   },
   "outputs": [
   ],
   "source": [
    "using Polynomials"
   ]
  },
  {
   "cell_type": "code",
   "execution_count": 193,
   "metadata": {
    "collapsed": false
   },
   "outputs": [
    {
     "data": {
      "text/plain": [
       "f (generic function with 1 method)"
      ]
     },
     "execution_count": 193,
     "metadata": {
     },
     "output_type": "execute_result"
    }
   ],
   "source": [
    "f(x)=-24*x^2+144*x+384"
   ]
  },
  {
   "cell_type": "code",
   "execution_count": 211,
   "metadata": {
    "collapsed": false
   },
   "outputs": [
    {
     "data": {
      "text/html": [
       "&#45;6 &#43; x &#43; x<sup>2</sup>"
      ],
      "text/latex": [
       "$-6 + x + x^{2}$"
      ],
      "text/plain": [
       "Polynomial(-6 + x + x^2)"
      ]
     },
     "execution_count": 211,
     "metadata": {
     },
     "output_type": "execute_result"
    }
   ],
   "source": [
    "p=Polynomial([-6,1,1])"
   ]
  },
  {
   "cell_type": "code",
   "execution_count": 212,
   "metadata": {
    "collapsed": false
   },
   "outputs": [
    {
     "data": {
      "text/plain": [
       "2-element Vector{Float64}:\n",
       " -3.0\n",
       "  2.0"
      ]
     },
     "execution_count": 212,
     "metadata": {
     },
     "output_type": "execute_result"
    }
   ],
   "source": [
    "Polynomials.roots(p)"
   ]
  },
  {
   "cell_type": "code",
   "execution_count": 1,
   "metadata": {
    "collapsed": false
   },
   "outputs": [
   ],
   "source": [
    "using Pkg"
   ]
  },
  {
   "cell_type": "code",
   "execution_count": 165,
   "metadata": {
    "collapsed": false
   },
   "outputs": [
   ],
   "source": [
    "using QuadGK"
   ]
  },
  {
   "cell_type": "code",
   "execution_count": 166,
   "metadata": {
    "collapsed": false
   },
   "outputs": [
    {
     "data": {
      "text/plain": [
       "(2.060485315457018e-7, 8.569560204872943e-16)"
      ]
     },
     "execution_count": 166,
     "metadata": {
     },
     "output_type": "execute_result"
    }
   ],
   "source": [
    "integral,err=quadgk(x->3.6*exp((-1/0.06)*exp(0.06*x))*exp(0.05*x),0,40,rtol=1e-8)"
   ]
  },
  {
   "cell_type": "code",
   "execution_count": 167,
   "metadata": {
    "collapsed": false
   },
   "outputs": [
    {
     "data": {
      "text/plain": [
       "72.0"
      ]
     },
     "execution_count": 167,
     "metadata": {
     },
     "output_type": "execute_result"
    }
   ],
   "source": [
    "3.6/0.05"
   ]
  },
  {
   "cell_type": "code",
   "execution_count": 168,
   "metadata": {
    "collapsed": false
   },
   "outputs": [
    {
     "data": {
      "text/plain": [
       "460.01203912300684"
      ]
     },
     "execution_count": 168,
     "metadata": {
     },
     "output_type": "execute_result"
    }
   ],
   "source": [
    "(3.6/0.05)*exp(0.05*40)-72"
   ]
  },
  {
   "cell_type": "code",
   "execution_count": 169,
   "metadata": {
    "collapsed": false
   },
   "outputs": [
    {
     "data": {
      "text/plain": [
       "221.6716829679195"
      ]
     },
     "execution_count": 169,
     "metadata": {
     },
     "output_type": "execute_result"
    }
   ],
   "source": [
    "30*exp(0.05*40)"
   ]
  },
  {
   "cell_type": "code",
   "execution_count": 170,
   "metadata": {
    "collapsed": false
   },
   "outputs": [
    {
     "data": {
      "text/plain": [
       "458.4"
      ]
     },
     "execution_count": 170,
     "metadata": {
     },
     "output_type": "execute_result"
    }
   ],
   "source": [
    "((221-30)/2)*0.12*40"
   ]
  },
  {
   "cell_type": "code",
   "execution_count": 171,
   "metadata": {
    "collapsed": false
   },
   "outputs": [
    {
     "data": {
      "text/plain": [
       "360.0"
      ]
     },
     "execution_count": 171,
     "metadata": {
     },
     "output_type": "execute_result"
    }
   ],
   "source": [
    "3.6/0.01"
   ]
  },
  {
   "cell_type": "code",
   "execution_count": 172,
   "metadata": {
    "collapsed": false
   },
   "outputs": [
    {
     "data": {
      "text/plain": [
       "1308.2833014159423"
      ]
     },
     "execution_count": 172,
     "metadata": {
     },
     "output_type": "execute_result"
    }
   ],
   "source": [
    "exp(0.06*40)*(((-360)*exp(-0.01*40))+360)"
   ]
  },
  {
   "cell_type": "code",
   "execution_count": 174,
   "metadata": {
    "collapsed": false
   },
   "outputs": [
    {
     "data": {
      "text/plain": [
       "6371000"
      ]
     },
     "execution_count": 174,
     "metadata": {
     },
     "output_type": "execute_result"
    }
   ],
   "source": [
    "r=6371000"
   ]
  },
  {
   "cell_type": "markdown",
   "metadata": {
    "collapsed": false
   },
   "source": [
    "r^2/(r+340000)^2"
   ]
  },
  {
   "cell_type": "code",
   "execution_count": 107,
   "metadata": {
    "collapsed": false
   },
   "outputs": [
   ],
   "source": [
    "using PyCall"
   ]
  },
  {
   "cell_type": "code",
   "execution_count": 108,
   "metadata": {
    "collapsed": false
   },
   "outputs": [
    {
     "data": {
      "text/plain": [
       "PyObject <module 'sympy' from '/usr/local/lib/python3.8/dist-packages/sympy/__init__.py'>"
      ]
     },
     "execution_count": 108,
     "metadata": {
     },
     "output_type": "execute_result"
    }
   ],
   "source": [
    "sympy = pyimport(\"sympy\")"
   ]
  },
  {
   "cell_type": "code",
   "execution_count": 109,
   "metadata": {
    "collapsed": false
   },
   "outputs": [
    {
     "data": {
      "text/latex": [
       "$\\begin{equation*}x\\end{equation*}$\n"
      ],
      "text/plain": [
       "x"
      ]
     },
     "execution_count": 109,
     "metadata": {
     },
     "output_type": "execute_result"
    }
   ],
   "source": [
    "x = sympy.Symbol(\"x\")"
   ]
  },
  {
   "cell_type": "code",
   "execution_count": 111,
   "metadata": {
    "collapsed": false
   },
   "outputs": [
    {
     "data": {
      "text/latex": [
       "$\\begin{equation*}\\frac{\\log{\\left(x - 1 \\right)}}{2} - \\frac{\\log{\\left(x + 1 \\right)}}{2}\\end{equation*}$\n"
      ],
      "text/plain": [
       "log(x - 1)   log(x + 1)\n",
       "────────── - ──────────\n",
       "    2            2     "
      ]
     },
     "execution_count": 111,
     "metadata": {
     },
     "output_type": "execute_result"
    }
   ],
   "source": [
    "sympy.integrate(1/(x^2-1))"
   ]
  },
  {
   "cell_type": "code",
   "execution_count": 112,
   "metadata": {
    "collapsed": false
   },
   "outputs": [
    {
     "data": {
      "text/plain": [
       "26.153846153846153"
      ]
     },
     "execution_count": 112,
     "metadata": {
     },
     "output_type": "execute_result"
    }
   ],
   "source": [
    "(17/0.65)"
   ]
  },
  {
   "cell_type": "code",
   "execution_count": 114,
   "metadata": {
    "collapsed": false
   },
   "outputs": [
    {
     "data": {
      "text/plain": [
       "0.44594594594594594"
      ]
     },
     "execution_count": 114,
     "metadata": {
     },
     "output_type": "execute_result"
    }
   ],
   "source": [
    "a1=33/74"
   ]
  },
  {
   "cell_type": "code",
   "execution_count": 115,
   "metadata": {
    "collapsed": false
   },
   "outputs": [
    {
     "data": {
      "text/plain": [
       "12.727538349159971"
      ]
     },
     "execution_count": 115,
     "metadata": {
     },
     "output_type": "execute_result"
    }
   ],
   "source": [
    "a1^2*64"
   ]
  },
  {
   "cell_type": "code",
   "execution_count": 117,
   "metadata": {
    "collapsed": false
   },
   "outputs": [
    {
     "data": {
      "text/plain": [
       "1.9886778670562455"
      ]
     },
     "execution_count": 117,
     "metadata": {
     },
     "output_type": "execute_result"
    }
   ],
   "source": [
    "a1^2*10"
   ]
  },
  {
   "cell_type": "code",
   "execution_count": 118,
   "metadata": {
    "collapsed": false
   },
   "outputs": [
    {
     "data": {
      "text/plain": [
       "0.515625"
      ]
     },
     "execution_count": 118,
     "metadata": {
     },
     "output_type": "execute_result"
    }
   ],
   "source": [
    "a2=33/64"
   ]
  },
  {
   "cell_type": "code",
   "execution_count": 119,
   "metadata": {
    "collapsed": false
   },
   "outputs": [
    {
     "data": {
      "text/plain": [
       "3.3"
      ]
     },
     "execution_count": 119,
     "metadata": {
     },
     "output_type": "execute_result"
    }
   ],
   "source": [
    "a3=33/10"
   ]
  },
  {
   "cell_type": "code",
   "execution_count": 120,
   "metadata": {
    "collapsed": false
   },
   "outputs": [
    {
     "data": {
      "text/plain": [
       "17.015625"
      ]
     },
     "execution_count": 120,
     "metadata": {
     },
     "output_type": "execute_result"
    }
   ],
   "source": [
    "a2^2*64"
   ]
  },
  {
   "cell_type": "code",
   "execution_count": 121,
   "metadata": {
    "collapsed": false
   },
   "outputs": [
    {
     "data": {
      "text/plain": [
       "108.89999999999999"
      ]
     },
     "execution_count": 121,
     "metadata": {
     },
     "output_type": "execute_result"
    }
   ],
   "source": [
    "a3^2*10"
   ]
  },
  {
   "cell_type": "code",
   "execution_count": 122,
   "metadata": {
    "collapsed": false
   },
   "outputs": [
    {
     "data": {
      "text/plain": [
       "59.32374127528726"
      ]
     },
     "execution_count": 122,
     "metadata": {
     },
     "output_type": "execute_result"
    }
   ],
   "source": [
    "v=(0.11*2*pi*5150)/60"
   ]
  },
  {
   "cell_type": "code",
   "execution_count": 123,
   "metadata": {
    "collapsed": false
   },
   "outputs": [
    {
     "data": {
      "text/plain": [
       "31993.693444520195"
      ]
     },
     "execution_count": 123,
     "metadata": {
     },
     "output_type": "execute_result"
    }
   ],
   "source": [
    "v^2/0.11"
   ]
  },
  {
   "cell_type": "code",
   "execution_count": 124,
   "metadata": {
    "collapsed": false
   },
   "outputs": [
   ],
   "source": [
    "using Roots"
   ]
  },
  {
   "cell_type": "code",
   "execution_count": 125,
   "metadata": {
    "collapsed": false
   },
   "outputs": [
    {
     "data": {
      "text/plain": [
       "f (generic function with 1 method)"
      ]
     },
     "execution_count": 125,
     "metadata": {
     },
     "output_type": "execute_result"
    }
   ],
   "source": [
    "f(x)=28.3*x-24.3*(2.7-x)"
   ]
  },
  {
   "cell_type": "code",
   "execution_count": 126,
   "metadata": {
    "collapsed": false
   },
   "outputs": [
    {
     "data": {
      "text/plain": [
       "1.247338403041825"
      ]
     },
     "execution_count": 126,
     "metadata": {
     },
     "output_type": "execute_result"
    }
   ],
   "source": [
    "find_zero(f,1.5)"
   ]
  },
  {
   "cell_type": "code",
   "execution_count": 130,
   "metadata": {
    "collapsed": false
   },
   "outputs": [
    {
     "data": {
      "text/plain": [
       "6.90989400000000042467718230909667909145355224609375e+21"
      ]
     },
     "execution_count": 130,
     "metadata": {
     },
     "output_type": "execute_result"
    }
   ],
   "source": [
    "a1=6.909894*(big(10)^21)"
   ]
  },
  {
   "cell_type": "code",
   "execution_count": 131,
   "metadata": {
    "collapsed": false
   },
   "outputs": [
    {
     "data": {
      "text/plain": [
       "1.753722584801736813913650088440399487862524947005276871571281704837681156104229e+21"
      ]
     },
     "execution_count": 131,
     "metadata": {
     },
     "output_type": "execute_result"
    }
   ],
   "source": [
    "a1/3.940129448"
   ]
  },
  {
   "cell_type": "code",
   "execution_count": 137,
   "metadata": {
    "collapsed": false
   },
   "outputs": [
    {
     "data": {
      "text/plain": [
       "4.139999999999999680255768907954916357994079589843750000000000000000000000000158e-15"
      ]
     },
     "execution_count": 137,
     "metadata": {
     },
     "output_type": "execute_result"
    }
   ],
   "source": [
    "h=4.14*big(10)^(-15)"
   ]
  },
  {
   "cell_type": "code",
   "execution_count": 147,
   "metadata": {
    "collapsed": false
   },
   "outputs": [
    {
     "data": {
      "text/plain": [
       "1.034999999999999862609900702636885749258160847214541063867574032545334280076925e-14"
      ]
     },
     "execution_count": 147,
     "metadata": {
     },
     "output_type": "execute_result"
    }
   ],
   "source": [
    "h/0.4"
   ]
  },
  {
   "cell_type": "code",
   "execution_count": 151,
   "metadata": {
    "collapsed": false
   },
   "outputs": [
    {
     "data": {
      "text/plain": [
       "8.279999999999998900879205621095085994065286777716328510940592260362674240615397e-14"
      ]
     },
     "execution_count": 151,
     "metadata": {
     },
     "output_type": "execute_result"
    }
   ],
   "source": [
    "h/0.05"
   ]
  },
  {
   "cell_type": "code",
   "execution_count": 153,
   "metadata": {
    "collapsed": false
   },
   "outputs": [
    {
     "data": {
      "text/plain": [
       "13.764893485714286"
      ]
     },
     "execution_count": 153,
     "metadata": {
     },
     "output_type": "execute_result"
    }
   ],
   "source": [
    "no=32/14*6.0221409"
   ]
  },
  {
   "cell_type": "code",
   "execution_count": 154,
   "metadata": {
    "collapsed": false
   },
   "outputs": [
    {
     "data": {
      "text/plain": [
       "1.38091431893333"
      ]
     },
     "execution_count": 154,
     "metadata": {
     },
     "output_type": "execute_result"
    }
   ],
   "source": [
    "ll=1.38091431893333"
   ]
  },
  {
   "cell_type": "code",
   "execution_count": 156,
   "metadata": {
    "collapsed": false
   },
   "outputs": [
    {
     "data": {
      "text/plain": [
       "320387.0368702143102016266400824555322007148805815774374909030574995764314236939"
      ]
     },
     "execution_count": 156,
     "metadata": {
     },
     "output_type": "execute_result"
    }
   ],
   "source": [
    "(log(0.28/(ll*no*big(10)^15))/(-ll*big(10)^(-8)))/(365*24)"
   ]
  },
  {
   "cell_type": "code",
   "execution_count": 157,
   "metadata": {
    "collapsed": false
   },
   "outputs": [
    {
     "data": {
      "text/plain": [
       "g (generic function with 1 method)"
      ]
     },
     "execution_count": 157,
     "metadata": {
     },
     "output_type": "execute_result"
    }
   ],
   "source": [
    "g(x)=-0.5*9.8*x^2+91"
   ]
  },
  {
   "cell_type": "code",
   "execution_count": 159,
   "metadata": {
    "collapsed": false
   },
   "outputs": [
    {
     "data": {
      "text/plain": [
       "4.3094580368566735"
      ]
     },
     "execution_count": 159,
     "metadata": {
     },
     "output_type": "execute_result"
    }
   ],
   "source": [
    "t0=find_zero(g,10)"
   ]
  },
  {
   "cell_type": "code",
   "execution_count": 160,
   "metadata": {
    "collapsed": false
   },
   "outputs": [
    {
     "data": {
      "text/plain": [
       "12.530577984090941"
      ]
     },
     "execution_count": 160,
     "metadata": {
     },
     "output_type": "execute_result"
    }
   ],
   "source": [
    "54/t0"
   ]
  },
  {
   "cell_type": "code",
   "execution_count": 163,
   "metadata": {
    "collapsed": false
   },
   "outputs": [
    {
     "data": {
      "text/plain": [
       "4.307261015027998"
      ]
     },
     "execution_count": 163,
     "metadata": {
     },
     "output_type": "execute_result"
    }
   ],
   "source": [
    "t0=sqrt(182*(1/9.81))"
   ]
  },
  {
   "cell_type": "code",
   "execution_count": 164,
   "metadata": {
    "collapsed": false
   },
   "outputs": [
    {
     "data": {
      "text/plain": [
       "12.536969506049076"
      ]
     },
     "execution_count": 164,
     "metadata": {
     },
     "output_type": "execute_result"
    }
   ],
   "source": [
    "54/t0"
   ]
  },
  {
   "cell_type": "code",
   "execution_count": 4,
   "metadata": {
    "collapsed": false
   },
   "outputs": [
   ],
   "source": [
    "using SymPy"
   ]
  },
  {
   "cell_type": "code",
   "execution_count": 5,
   "metadata": {
    "collapsed": false
   },
   "outputs": [
   ],
   "source": [
    "using LinearAlgebra"
   ]
  },
  {
   "cell_type": "code",
   "execution_count": 6,
   "metadata": {
    "collapsed": false
   },
   "outputs": [
    {
     "data": {
      "text/plain": [
       "(x,)"
      ]
     },
     "execution_count": 6,
     "metadata": {
     },
     "output_type": "execute_result"
    }
   ],
   "source": [
    "@vars x"
   ]
  },
  {
   "cell_type": "code",
   "execution_count": 7,
   "metadata": {
    "collapsed": false
   },
   "outputs": [
    {
     "data": {
      "text/latex": [
       "$\\left[ \\begin{array}{rrrr}2&0&1&0\\\\3&-4&3&1\\\\7&1&0&-2\\\\5&x&2&-3\\end{array}\\right]$\n"
      ],
      "text/plain": [
       "4×4 Matrix{Sym}:\n",
       " 2   0  1   0\n",
       " 3  -4  3   1\n",
       " 7   1  0  -2\n",
       " 5   x  2  -3"
      ]
     },
     "execution_count": 7,
     "metadata": {
     },
     "output_type": "execute_result"
    }
   ],
   "source": [
    "A=[2 0 1 0\n",
    "3 -4 3 1\n",
    "7 1 0 -2\n",
    "5 x 2 -3]"
   ]
  },
  {
   "cell_type": "code",
   "execution_count": 8,
   "metadata": {
    "collapsed": false
   },
   "outputs": [
    {
     "data": {
      "text/latex": [
       "$\\begin{equation*}x - 68\\end{equation*}$\n"
      ],
      "text/plain": [
       "x - 68"
      ]
     },
     "execution_count": 8,
     "metadata": {
     },
     "output_type": "execute_result"
    }
   ],
   "source": [
    "det(A)"
   ]
  },
  {
   "cell_type": "code",
   "execution_count": 9,
   "metadata": {
    "collapsed": false
   },
   "outputs": [
    {
     "data": {
      "text/plain": [
       "2×2 Matrix{Int64}:\n",
       " 3  5\n",
       " 5  1"
      ]
     },
     "execution_count": 9,
     "metadata": {
     },
     "output_type": "execute_result"
    }
   ],
   "source": [
    "A=[3 5\n",
    "5 1]"
   ]
  },
  {
   "cell_type": "code",
   "execution_count": 10,
   "metadata": {
    "collapsed": false
   },
   "outputs": [
    {
     "data": {
      "text/plain": [
       "2×2 Matrix{Float64}:\n",
       "  1.0  -5.0\n",
       " -5.0   3.0"
      ]
     },
     "execution_count": 10,
     "metadata": {
     },
     "output_type": "execute_result"
    }
   ],
   "source": [
    "inv(A)*det(A)"
   ]
  },
  {
   "cell_type": "code",
   "execution_count": 11,
   "metadata": {
    "collapsed": false
   },
   "outputs": [
    {
     "data": {
      "text/plain": [
       "3×3 Matrix{Int64}:\n",
       " 14  20  24\n",
       " 20  15  19\n",
       " 30   5  13"
      ]
     },
     "execution_count": 11,
     "metadata": {
     },
     "output_type": "execute_result"
    }
   ],
   "source": [
    "A=[14 20 24\n",
    "    20 15 19\n",
    "    30 5 13]"
   ]
  },
  {
   "cell_type": "code",
   "execution_count": 12,
   "metadata": {
    "collapsed": false
   },
   "outputs": [
    {
     "data": {
      "text/plain": [
       "3-element Vector{Int64}:\n",
       " 20\n",
       " 20\n",
       " 20"
      ]
     },
     "execution_count": 12,
     "metadata": {
     },
     "output_type": "execute_result"
    }
   ],
   "source": [
    "b=[20\n",
    "20\n",
    "20]"
   ]
  },
  {
   "cell_type": "code",
   "execution_count": 13,
   "metadata": {
    "collapsed": false
   },
   "outputs": [
    {
     "data": {
      "text/plain": [
       "3-element Vector{Float64}:\n",
       " 0.5000000000000006\n",
       " 0.34999999999999964\n",
       " 0.2499999999999991"
      ]
     },
     "execution_count": 13,
     "metadata": {
     },
     "output_type": "execute_result"
    }
   ],
   "source": [
    "inv(A)*b"
   ]
  },
  {
   "cell_type": "code",
   "execution_count": 14,
   "metadata": {
    "collapsed": false
   },
   "outputs": [
    {
     "data": {
      "text/plain": [
       "2×2 Matrix{Int64}:\n",
       "  5  0\n",
       " -2  1"
      ]
     },
     "execution_count": 14,
     "metadata": {
     },
     "output_type": "execute_result"
    }
   ],
   "source": [
    "P=[5 0\n",
    "-2 1]"
   ]
  },
  {
   "cell_type": "code",
   "execution_count": 15,
   "metadata": {
    "collapsed": false
   },
   "outputs": [
    {
     "data": {
      "text/plain": [
       "2×2 Matrix{Int64}:\n",
       " -1  0\n",
       "  0  4"
      ]
     },
     "execution_count": 15,
     "metadata": {
     },
     "output_type": "execute_result"
    }
   ],
   "source": [
    "D=[-1 0\n",
    "0 4]"
   ]
  },
  {
   "cell_type": "code",
   "execution_count": 16,
   "metadata": {
    "collapsed": false
   },
   "outputs": [
    {
     "data": {
      "text/plain": [
       "2×2 Matrix{Float64}:\n",
       " 0.2  0.0\n",
       " 0.4  1.0"
      ]
     },
     "execution_count": 16,
     "metadata": {
     },
     "output_type": "execute_result"
    }
   ],
   "source": [
    "inv(P)"
   ]
  },
  {
   "cell_type": "code",
   "execution_count": 17,
   "metadata": {
    "collapsed": false
   },
   "outputs": [
    {
     "data": {
      "text/plain": [
       "2×2 Matrix{Float64}:\n",
       " -1.0  0.0\n",
       "  2.0  4.0"
      ]
     },
     "execution_count": 17,
     "metadata": {
     },
     "output_type": "execute_result"
    }
   ],
   "source": [
    "P*D*inv(P)"
   ]
  },
  {
   "cell_type": "code",
   "execution_count": 67,
   "metadata": {
    "collapsed": false
   },
   "outputs": [
    {
     "data": {
      "text/plain": [
       "2×2 Matrix{Float64}:\n",
       " 1.0    1.0\n",
       " 0.927  1.066"
      ]
     },
     "execution_count": 67,
     "metadata": {
     },
     "output_type": "execute_result"
    }
   ],
   "source": [
    "A=[1 1\n",
    "0.927 1.066]"
   ]
  },
  {
   "cell_type": "code",
   "execution_count": 19,
   "metadata": {
    "collapsed": false
   },
   "outputs": [
    {
     "data": {
      "text/plain": [
       "2-element Vector{Float64}:\n",
       " 13000.0\n",
       " 12537.5"
      ]
     },
     "execution_count": 19,
     "metadata": {
     },
     "output_type": "execute_result"
    }
   ],
   "source": [
    "b=[13000\n",
    "12537.5]"
   ]
  },
  {
   "cell_type": "code",
   "execution_count": 20,
   "metadata": {
    "collapsed": false
   },
   "outputs": [
    {
     "data": {
      "text/plain": [
       "2-element Vector{Float64}:\n",
       " 9500.000000000002\n",
       " 3499.9999999999986"
      ]
     },
     "execution_count": 20,
     "metadata": {
     },
     "output_type": "execute_result"
    }
   ],
   "source": [
    "inv(A)*b"
   ]
  },
  {
   "cell_type": "code",
   "execution_count": 21,
   "metadata": {
    "collapsed": false
   },
   "outputs": [
    {
     "data": {
      "text/plain": [
       "3×3 Matrix{Int64}:\n",
       " 2  1  -2\n",
       " 2  4  -3\n",
       " 4  5  -5"
      ]
     },
     "execution_count": 21,
     "metadata": {
     },
     "output_type": "execute_result"
    }
   ],
   "source": [
    "A=[2 1 -2\n",
    "2 4 -3\n",
    "4 5 -5]"
   ]
  },
  {
   "cell_type": "code",
   "execution_count": 22,
   "metadata": {
    "collapsed": false
   },
   "outputs": [
    {
     "data": {
      "text/plain": [
       "0.0"
      ]
     },
     "execution_count": 22,
     "metadata": {
     },
     "output_type": "execute_result"
    }
   ],
   "source": [
    "det(A)"
   ]
  },
  {
   "cell_type": "code",
   "execution_count": 23,
   "metadata": {
    "collapsed": false
   },
   "outputs": [
   ],
   "source": [
    "using Roots"
   ]
  },
  {
   "cell_type": "code",
   "execution_count": 24,
   "metadata": {
    "collapsed": false
   },
   "outputs": [
    {
     "data": {
      "text/plain": [
       "f (generic function with 1 method)"
      ]
     },
     "execution_count": 24,
     "metadata": {
     },
     "output_type": "execute_result"
    }
   ],
   "source": [
    "f(x)=((800-x)/90)-1.2"
   ]
  },
  {
   "cell_type": "code",
   "execution_count": 25,
   "metadata": {
    "collapsed": false
   },
   "outputs": [
    {
     "data": {
      "text/plain": [
       "692.0"
      ]
     },
     "execution_count": 25,
     "metadata": {
     },
     "output_type": "execute_result"
    }
   ],
   "source": [
    "find_zero(f,200)"
   ]
  },
  {
   "cell_type": "code",
   "execution_count": 26,
   "metadata": {
    "collapsed": false
   },
   "outputs": [
    {
     "data": {
      "text/plain": [
       "f1 (generic function with 1 method)"
      ]
     },
     "execution_count": 26,
     "metadata": {
     },
     "output_type": "execute_result"
    }
   ],
   "source": [
    "f1(x)=((18*pi*x)^2/9)-10.791"
   ]
  },
  {
   "cell_type": "code",
   "execution_count": 27,
   "metadata": {
    "collapsed": false
   },
   "outputs": [
    {
     "data": {
      "text/plain": [
       "0.174272845838905"
      ]
     },
     "execution_count": 27,
     "metadata": {
     },
     "output_type": "execute_result"
    }
   ],
   "source": [
    "a=find_zero(f1,10)"
   ]
  },
  {
   "cell_type": "code",
   "execution_count": 28,
   "metadata": {
    "collapsed": false
   },
   "outputs": [
    {
     "data": {
      "text/plain": [
       "10.456370750334301"
      ]
     },
     "execution_count": 28,
     "metadata": {
     },
     "output_type": "execute_result"
    }
   ],
   "source": [
    "a*60"
   ]
  },
  {
   "cell_type": "code",
   "execution_count": 29,
   "metadata": {
    "collapsed": false
   },
   "outputs": [
    {
     "data": {
      "text/plain": [
       "21.42504000000001"
      ]
     },
     "execution_count": 29,
     "metadata": {
     },
     "output_type": "execute_result"
    }
   ],
   "source": [
    "w1=364*10^(-3)*9.81*6"
   ]
  },
  {
   "cell_type": "code",
   "execution_count": 30,
   "metadata": {
    "collapsed": false
   },
   "outputs": [
    {
     "data": {
      "text/plain": [
       "180.11159999999998"
      ]
     },
     "execution_count": 30,
     "metadata": {
     },
     "output_type": "execute_result"
    }
   ],
   "source": [
    "a1=51*9.81*0.36"
   ]
  },
  {
   "cell_type": "code",
   "execution_count": 31,
   "metadata": {
    "collapsed": false
   },
   "outputs": [
    {
     "data": {
      "text/plain": [
       "561.2000000000002"
      ]
     },
     "execution_count": 31,
     "metadata": {
     },
     "output_type": "execute_result"
    }
   ],
   "source": [
    "find_zero(((x-2.2)/(0.13))-4300,0.01)"
   ]
  },
  {
   "cell_type": "code",
   "execution_count": 32,
   "metadata": {
    "collapsed": false
   },
   "outputs": [
    {
     "data": {
      "text/plain": [
       "f2 (generic function with 1 method)"
      ]
     },
     "execution_count": 32,
     "metadata": {
     },
     "output_type": "execute_result"
    }
   ],
   "source": [
    "f2(x)=((x-2.2)/(0.13))-4300"
   ]
  },
  {
   "cell_type": "code",
   "execution_count": 33,
   "metadata": {
    "collapsed": false
   },
   "outputs": [
    {
     "data": {
      "text/plain": [
       "561.2000000000002"
      ]
     },
     "execution_count": 33,
     "metadata": {
     },
     "output_type": "execute_result"
    }
   ],
   "source": [
    "find_zero(f2,0.01)"
   ]
  },
  {
   "cell_type": "markdown",
   "metadata": {
    "collapsed": false
   },
   "source": [
    "$$\n",
    "V=\\frac{4\\pi}{3}r^{3}\n",
    "$$"
   ]
  },
  {
   "cell_type": "code",
   "execution_count": 34,
   "metadata": {
    "collapsed": false
   },
   "outputs": [
    {
     "data": {
      "text/plain": [
       "48"
      ]
     },
     "execution_count": 34,
     "metadata": {
     },
     "output_type": "execute_result"
    }
   ],
   "source": [
    "y0=48"
   ]
  },
  {
   "cell_type": "code",
   "execution_count": 35,
   "metadata": {
    "collapsed": false
   },
   "outputs": [
   ],
   "source": [
    "using SymPy"
   ]
  },
  {
   "cell_type": "code",
   "execution_count": 36,
   "metadata": {
    "collapsed": false
   },
   "outputs": [
    {
     "data": {
      "text/plain": [
       "(y,)"
      ]
     },
     "execution_count": 36,
     "metadata": {
     },
     "output_type": "execute_result"
    }
   ],
   "source": [
    "@vars y"
   ]
  },
  {
   "cell_type": "code",
   "execution_count": 37,
   "metadata": {
    "collapsed": false
   },
   "outputs": [
    {
     "data": {
      "text/plain": [
       "f (generic function with 1 method)"
      ]
     },
     "execution_count": 37,
     "metadata": {
     },
     "output_type": "execute_result"
    }
   ],
   "source": [
    "f(y)=72*y^(3/2)*((2/5)*y-(16/3))+2150.4"
   ]
  },
  {
   "cell_type": "code",
   "execution_count": 38,
   "metadata": {
    "collapsed": false
   },
   "outputs": [
    {
     "data": {
      "text/plain": [
       "2150.4"
      ]
     },
     "execution_count": 38,
     "metadata": {
     },
     "output_type": "execute_result"
    }
   ],
   "source": [
    "f(0)"
   ]
  },
  {
   "cell_type": "code",
   "execution_count": 39,
   "metadata": {
    "collapsed": false
   },
   "outputs": [
    {
     "data": {
      "text/plain": [
       "200.97326460298484"
      ]
     },
     "execution_count": 39,
     "metadata": {
     },
     "output_type": "execute_result"
    }
   ],
   "source": [
    "(f(y0)/sqrt(32*12*2))/60"
   ]
  },
  {
   "cell_type": "code",
   "execution_count": 40,
   "metadata": {
    "collapsed": false
   },
   "outputs": [
    {
     "data": {
      "text/plain": [
       "27.712812921102035"
      ]
     },
     "execution_count": 40,
     "metadata": {
     },
     "output_type": "execute_result"
    }
   ],
   "source": [
    "sqrt(32*12*2)"
   ]
  },
  {
   "cell_type": "code",
   "execution_count": 41,
   "metadata": {
    "collapsed": false
   },
   "outputs": [
    {
     "data": {
      "text/plain": [
       "72.0"
      ]
     },
     "execution_count": 41,
     "metadata": {
     },
     "output_type": "execute_result"
    }
   ],
   "source": [
    "576/8"
   ]
  },
  {
   "cell_type": "code",
   "execution_count": 42,
   "metadata": {
    "collapsed": false
   },
   "outputs": [
    {
     "data": {
      "text/plain": [
       "-0.7576719576719575"
      ]
     },
     "execution_count": 42,
     "metadata": {
     },
     "output_type": "execute_result"
    }
   ],
   "source": [
    "-(4300/189)*0.13+2.2"
   ]
  },
  {
   "cell_type": "code",
   "execution_count": 43,
   "metadata": {
    "collapsed": false
   },
   "outputs": [
   ],
   "source": [
    "using Pkg"
   ]
  },
  {
   "cell_type": "code",
   "execution_count": 44,
   "metadata": {
    "collapsed": false
   },
   "outputs": [
   ],
   "source": [
    "using PyCall"
   ]
  },
  {
   "cell_type": "code",
   "execution_count": 45,
   "metadata": {
    "collapsed": false
   },
   "outputs": [
   ],
   "source": [
    "using Roots"
   ]
  },
  {
   "cell_type": "code",
   "execution_count": 46,
   "metadata": {
    "collapsed": false
   },
   "outputs": [
    {
     "data": {
      "text/plain": [
       "(x,)"
      ]
     },
     "execution_count": 46,
     "metadata": {
     },
     "output_type": "execute_result"
    }
   ],
   "source": [
    "@vars x"
   ]
  },
  {
   "cell_type": "code",
   "execution_count": 47,
   "metadata": {
    "collapsed": false
   },
   "outputs": [
    {
     "data": {
      "text/plain": [
       "2-element Vector{Float64}:\n",
       " -2.414213562373095\n",
       "  0.41421356237309503"
      ]
     },
     "execution_count": 47,
     "metadata": {
     },
     "output_type": "execute_result"
    }
   ],
   "source": [
    "find_zeros(x^2+2*x-1,-10,10)"
   ]
  },
  {
   "cell_type": "code",
   "execution_count": 48,
   "metadata": {
    "collapsed": false
   },
   "outputs": [
   ],
   "source": [
    "using LinearAlgebra"
   ]
  },
  {
   "cell_type": "code",
   "execution_count": 49,
   "metadata": {
    "collapsed": false
   },
   "outputs": [
   ],
   "source": [
    "using SymPy"
   ]
  },
  {
   "cell_type": "code",
   "execution_count": 50,
   "metadata": {
    "collapsed": false
   },
   "outputs": [
    {
     "data": {
      "text/plain": [
       "(x,)"
      ]
     },
     "execution_count": 50,
     "metadata": {
     },
     "output_type": "execute_result"
    }
   ],
   "source": [
    "@vars x"
   ]
  },
  {
   "cell_type": "code",
   "execution_count": 51,
   "metadata": {
    "collapsed": false
   },
   "outputs": [
    {
     "data": {
      "text/plain": [
       "3×3 Matrix{Int64}:\n",
       "  2  -4   3\n",
       " -4   1   4\n",
       " -1   3  -3"
      ]
     },
     "execution_count": 51,
     "metadata": {
     },
     "output_type": "execute_result"
    }
   ],
   "source": [
    "A=[2 -4 3\n",
    "   -4 1 4\n",
    "   -1 3 -3]"
   ]
  },
  {
   "cell_type": "code",
   "execution_count": 52,
   "metadata": {
    "collapsed": false
   },
   "outputs": [
    {
     "data": {
      "text/plain": [
       "1.0000000000000027"
      ]
     },
     "execution_count": 52,
     "metadata": {
     },
     "output_type": "execute_result"
    }
   ],
   "source": [
    "det(A)"
   ]
  },
  {
   "cell_type": "code",
   "execution_count": 53,
   "metadata": {
    "collapsed": false
   },
   "outputs": [
    {
     "data": {
      "text/plain": [
       "3-element Vector{Int64}:\n",
       "  2\n",
       " -1\n",
       "  4"
      ]
     },
     "execution_count": 53,
     "metadata": {
     },
     "output_type": "execute_result"
    }
   ],
   "source": [
    "x=[2\n",
    "-1\n",
    "4]"
   ]
  },
  {
   "cell_type": "code",
   "execution_count": 54,
   "metadata": {
    "collapsed": false
   },
   "outputs": [
    {
     "data": {
      "text/plain": [
       "3-element Vector{Int64}:\n",
       "  20\n",
       "   7\n",
       " -17"
      ]
     },
     "execution_count": 54,
     "metadata": {
     },
     "output_type": "execute_result"
    }
   ],
   "source": [
    "A*x"
   ]
  },
  {
   "cell_type": "code",
   "execution_count": 55,
   "metadata": {
    "collapsed": false
   },
   "outputs": [
    {
     "data": {
      "text/plain": [
       "0.8599500000000001"
      ]
     },
     "execution_count": 55,
     "metadata": {
     },
     "output_type": "execute_result"
    }
   ],
   "source": [
    "a1=0.5*0.39*(2.1^2)"
   ]
  },
  {
   "cell_type": "code",
   "execution_count": 56,
   "metadata": {
    "collapsed": false
   },
   "outputs": [
    {
     "data": {
      "text/plain": [
       "0.11637233212855783"
      ]
     },
     "execution_count": 56,
     "metadata": {
     },
     "output_type": "execute_result"
    }
   ],
   "source": [
    "(a1/(0.5*(61+66)))^0.5"
   ]
  },
  {
   "cell_type": "code",
   "execution_count": 57,
   "metadata": {
    "collapsed": false
   },
   "outputs": [
    {
     "data": {
      "text/plain": [
       "197.92033717615698"
      ]
     },
     "execution_count": 57,
     "metadata": {
     },
     "output_type": "execute_result"
    }
   ],
   "source": [
    "c=63*pi"
   ]
  },
  {
   "cell_type": "code",
   "execution_count": 58,
   "metadata": {
    "collapsed": false
   },
   "outputs": [
    {
     "data": {
      "text/plain": [
       "116.38888888888889"
      ]
     },
     "execution_count": 58,
     "metadata": {
     },
     "output_type": "execute_result"
    }
   ],
   "source": [
    "v=419*1000/3600"
   ]
  },
  {
   "cell_type": "code",
   "execution_count": 59,
   "metadata": {
    "collapsed": false
   },
   "outputs": [
    {
     "data": {
      "text/plain": [
       "0.5880592694488902"
      ]
     },
     "execution_count": 59,
     "metadata": {
     },
     "output_type": "execute_result"
    }
   ],
   "source": [
    "v/c"
   ]
  },
  {
   "cell_type": "code",
   "execution_count": 60,
   "metadata": {
    "collapsed": false
   },
   "outputs": [
    {
     "data": {
      "text/plain": [
       "0.9792"
      ]
     },
     "execution_count": 60,
     "metadata": {
     },
     "output_type": "execute_result"
    }
   ],
   "source": [
    "68*0.12^2"
   ]
  },
  {
   "cell_type": "code",
   "execution_count": 61,
   "metadata": {
    "collapsed": false
   },
   "outputs": [
    {
     "data": {
      "text/plain": [
       "51.66666666666667"
      ]
     },
     "execution_count": 61,
     "metadata": {
     },
     "output_type": "execute_result"
    }
   ],
   "source": [
    "t=31/0.6"
   ]
  },
  {
   "cell_type": "code",
   "execution_count": 62,
   "metadata": {
    "collapsed": false
   },
   "outputs": [
    {
     "data": {
      "text/plain": [
       "800.8333333333334"
      ]
     },
     "execution_count": 62,
     "metadata": {
     },
     "output_type": "execute_result"
    }
   ],
   "source": [
    "31*t-0.3*t^2"
   ]
  },
  {
   "cell_type": "code",
   "execution_count": 82,
   "metadata": {
    "collapsed": false
   },
   "outputs": [
    {
     "data": {
      "text/plain": [
       "(x, y)"
      ]
     },
     "execution_count": 82,
     "metadata": {
     },
     "output_type": "execute_result"
    }
   ],
   "source": [
    "@vars x y"
   ]
  },
  {
   "cell_type": "code",
   "execution_count": 92,
   "metadata": {
    "collapsed": false
   },
   "outputs": [
    {
     "data": {
      "text/plain": [
       "3×3 Matrix{Int64}:\n",
       "  1  -3   2\n",
       "  5  -8  -1\n",
       " -2   4  -1"
      ]
     },
     "execution_count": 92,
     "metadata": {
     },
     "output_type": "execute_result"
    }
   ],
   "source": [
    "A=[1 -3 2\n",
    "5 -8 -1\n",
    "-2 4 -1]"
   ]
  },
  {
   "cell_type": "code",
   "execution_count": 93,
   "metadata": {
    "collapsed": false
   },
   "outputs": [
    {
     "data": {
      "text/plain": [
       "-1.0000000000000018"
      ]
     },
     "execution_count": 93,
     "metadata": {
     },
     "output_type": "execute_result"
    }
   ],
   "source": [
    "det(A)"
   ]
  },
  {
   "cell_type": "code",
   "execution_count": 94,
   "metadata": {
    "collapsed": false
   },
   "outputs": [
    {
     "data": {
      "text/plain": [
       "3-element Vector{Int64}:\n",
       "  2\n",
       " -2\n",
       "  3"
      ]
     },
     "execution_count": 94,
     "metadata": {
     },
     "output_type": "execute_result"
    }
   ],
   "source": [
    "b=[2\n",
    "-2\n",
    "3]"
   ]
  },
  {
   "cell_type": "code",
   "execution_count": 95,
   "metadata": {
    "collapsed": false
   },
   "outputs": [
    {
     "data": {
      "text/plain": [
       "3-element Vector{Int64}:\n",
       "  14\n",
       "  23\n",
       " -15"
      ]
     },
     "execution_count": 95,
     "metadata": {
     },
     "output_type": "execute_result"
    }
   ],
   "source": [
    "A*b"
   ]
  },
  {
   "cell_type": "code",
   "execution_count": 96,
   "metadata": {
    "collapsed": false
   },
   "outputs": [
   ],
   "source": [
    "using SymPy"
   ]
  },
  {
   "cell_type": "code",
   "execution_count": 97,
   "metadata": {
    "collapsed": false
   },
   "outputs": [
    {
     "data": {
      "text/plain": [
       ":x"
      ]
     },
     "execution_count": 97,
     "metadata": {
     },
     "output_type": "execute_result"
    }
   ],
   "source": [
    "x=Symbol('x')"
   ]
  },
  {
   "cell_type": "code",
   "execution_count": 102,
   "metadata": {
    "collapsed": false
   },
   "outputs": [
   ],
   "source": [
    "using PyCall"
   ]
  },
  {
   "cell_type": "code",
   "execution_count": 103,
   "metadata": {
    "collapsed": false
   },
   "outputs": [
    {
     "data": {
      "text/plain": [
       "PyObject <module 'sympy' from '/usr/local/lib/python3.8/dist-packages/sympy/__init__.py'>"
      ]
     },
     "execution_count": 103,
     "metadata": {
     },
     "output_type": "execute_result"
    }
   ],
   "source": [
    "sympy = pyimport(\"sympy\")"
   ]
  },
  {
   "cell_type": "code",
   "execution_count": 104,
   "metadata": {
    "collapsed": false
   },
   "outputs": [
    {
     "data": {
      "text/latex": [
       "$\\begin{equation*}x\\end{equation*}$\n"
      ],
      "text/plain": [
       "x"
      ]
     },
     "execution_count": 104,
     "metadata": {
     },
     "output_type": "execute_result"
    }
   ],
   "source": [
    "x = sympy.Symbol(\"x\")"
   ]
  },
  {
   "cell_type": "code",
   "execution_count": 106,
   "metadata": {
    "collapsed": false
   },
   "outputs": [
    {
     "data": {
      "text/latex": [
       "$\\begin{equation*}x^{3}\\end{equation*}$\n"
      ],
      "text/plain": [
       " 3\n",
       "x "
      ]
     },
     "execution_count": 106,
     "metadata": {
     },
     "output_type": "execute_result"
    }
   ],
   "source": [
    "sympy.integrate(3*x^2)"
   ]
  }
 ],
 "metadata": {
  "kernelspec": {
   "display_name": "Julia 1.6",
   "env": {
    "JULIA_DEPOT_PATH": "/home/user/.julia/:/ext/julia/depot/",
    "JULIA_PROJECT": "/home/user/.julia/environment/v1.6"
   },
   "language": "julia",
   "metadata": {
    "cocalc": {
     "description": "The Julia Programming Language",
     "priority": 10,
     "url": "https://julialang.org/"
    }
   },
   "name": "julia-1.6",
   "resource_dir": "/ext/jupyter/kernels/julia-1.6"
  },
  "language_info": {
   "file_extension": ".jl",
   "mimetype": "application/julia",
   "name": "julia",
   "version": "1.6.3"
  }
 },
 "nbformat": 4,
 "nbformat_minor": 4
}