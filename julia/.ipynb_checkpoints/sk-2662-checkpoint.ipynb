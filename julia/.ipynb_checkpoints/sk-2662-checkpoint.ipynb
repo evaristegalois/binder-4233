{
 "cells": [
  {
   "cell_type": "code",
   "execution_count": 1,
   "id": "575c17a2",
   "metadata": {},
   "outputs": [
    {
     "data": {
      "text/plain": [
       "1445.0"
      ]
     },
     "execution_count": 1,
     "metadata": {},
     "output_type": "execute_result"
    }
   ],
   "source": [
    "*(600000,0.0289,/(1,12))"
   ]
  },
  {
   "cell_type": "code",
   "execution_count": 2,
   "id": "2e449ecb",
   "metadata": {},
   "outputs": [
    {
     "data": {
      "text/plain": [
       "45//1"
      ]
     },
     "execution_count": 2,
     "metadata": {},
     "output_type": "execute_result"
    }
   ],
   "source": [
    "+(*(//(2,3),-(64,1)),3)"
   ]
  },
  {
   "cell_type": "code",
   "execution_count": 3,
   "id": "3e893511",
   "metadata": {},
   "outputs": [
    {
     "data": {
      "text/plain": [
       "4913"
      ]
     },
     "execution_count": 3,
     "metadata": {},
     "output_type": "execute_result"
    }
   ],
   "source": [
    "^(17,3)"
   ]
  },
  {
   "cell_type": "code",
   "execution_count": 4,
   "id": "fb34519e",
   "metadata": {},
   "outputs": [
    {
     "data": {
      "text/plain": [
       "44.94315061472669"
      ]
     },
     "execution_count": 4,
     "metadata": {},
     "output_type": "execute_result"
    }
   ],
   "source": [
    "sqrt(+(9,^(-(*(/(2,3),sqrt(4913)),*(/(4,3),sqrt(2))),2)))"
   ]
  },
  {
   "cell_type": "code",
   "execution_count": 6,
   "id": "b8871f52",
   "metadata": {},
   "outputs": [
    {
     "data": {
      "text/plain": [
       "1.9999999999999996"
      ]
     },
     "execution_count": 6,
     "metadata": {},
     "output_type": "execute_result"
    }
   ],
   "source": [
    "^(sec(/(pi,4)),2)"
   ]
  },
  {
   "cell_type": "code",
   "execution_count": 6,
   "id": "a9a09a49",
   "metadata": {},
   "outputs": [
    {
     "data": {
      "text/plain": [
       "2.0"
      ]
     },
     "execution_count": 6,
     "metadata": {},
     "output_type": "execute_result"
    }
   ],
   "source": [
    "x1=/(4,^(8,/(1,3)))"
   ]
  },
  {
   "cell_type": "code",
   "execution_count": 7,
   "id": "ea857298",
   "metadata": {},
   "outputs": [
    {
     "data": {
      "text/plain": [
       "2.0"
      ]
     },
     "execution_count": 7,
     "metadata": {},
     "output_type": "execute_result"
    }
   ],
   "source": [
    "y1=/(4,^(8,/(1,3)))"
   ]
  },
  {
   "cell_type": "code",
   "execution_count": 8,
   "id": "04f93c2e",
   "metadata": {},
   "outputs": [
    {
     "data": {
      "text/plain": [
       "1.0"
      ]
     },
     "execution_count": 8,
     "metadata": {},
     "output_type": "execute_result"
    }
   ],
   "source": [
    "z1=/(2,^(8,/(1,3)))"
   ]
  },
  {
   "cell_type": "code",
   "execution_count": 9,
   "id": "33f15d6a",
   "metadata": {},
   "outputs": [
    {
     "data": {
      "text/plain": [
       "4.0"
      ]
     },
     "execution_count": 9,
     "metadata": {},
     "output_type": "execute_result"
    }
   ],
   "source": [
    "*(x1,y1,z1)"
   ]
  },
  {
   "cell_type": "code",
   "execution_count": 10,
   "id": "e1726889",
   "metadata": {},
   "outputs": [
    {
     "data": {
      "text/plain": [
       "1.7320508075688772"
      ]
     },
     "execution_count": 10,
     "metadata": {},
     "output_type": "execute_result"
    }
   ],
   "source": [
    "sqrt(3)"
   ]
  },
  {
   "cell_type": "code",
   "execution_count": 11,
   "id": "de546039",
   "metadata": {},
   "outputs": [
    {
     "data": {
      "text/plain": [
       "6.931471805599453"
      ]
     },
     "execution_count": 11,
     "metadata": {},
     "output_type": "execute_result"
    }
   ],
   "source": [
    "*(10,log(2))"
   ]
  },
  {
   "cell_type": "code",
   "execution_count": 12,
   "id": "2ade116b",
   "metadata": {},
   "outputs": [
    {
     "data": {
      "text/plain": [
       "1.0669761821822066"
      ]
     },
     "execution_count": 12,
     "metadata": {},
     "output_type": "execute_result"
    }
   ],
   "source": [
    "*(2,exp(/(*(2,pi),-10)))"
   ]
  },
  {
   "cell_type": "code",
   "execution_count": 13,
   "id": "7c0b571c",
   "metadata": {},
   "outputs": [
    {
     "data": {
      "text/plain": [
       "6.283185307179586"
      ]
     },
     "execution_count": 13,
     "metadata": {},
     "output_type": "execute_result"
    }
   ],
   "source": [
    "*(2,pi)"
   ]
  },
  {
   "cell_type": "code",
   "execution_count": 14,
   "id": "cac28e2f",
   "metadata": {},
   "outputs": [],
   "source": [
    "# calculations in Schmierbuch 3650"
   ]
  },
  {
   "cell_type": "code",
   "execution_count": 16,
   "id": "1b00ec6a",
   "metadata": {},
   "outputs": [
    {
     "data": {
      "text/plain": [
       "5.412466047719465"
      ]
     },
     "execution_count": 16,
     "metadata": {},
     "output_type": "execute_result"
    }
   ],
   "source": [
    "R1=*(2,+(*(2,pi),*(5,-(exp(*(/(-2,5),pi)),1))))"
   ]
  },
  {
   "cell_type": "code",
   "execution_count": 17,
   "id": "829138d8",
   "metadata": {},
   "outputs": [
    {
     "data": {
      "text/plain": [
       "12.1623693997889"
      ]
     },
     "execution_count": 17,
     "metadata": {},
     "output_type": "execute_result"
    }
   ],
   "source": [
    "+(R1,*(/(2,3),R1),pi)"
   ]
  },
  {
   "cell_type": "code",
   "execution_count": 18,
   "id": "3ccec12a",
   "metadata": {},
   "outputs": [
    {
     "data": {
      "text/plain": [
       "12.566370614359172"
      ]
     },
     "execution_count": 18,
     "metadata": {},
     "output_type": "execute_result"
    }
   ],
   "source": [
    "*(4,pi)"
   ]
  },
  {
   "cell_type": "code",
   "execution_count": 1,
   "id": "95e4eebc",
   "metadata": {},
   "outputs": [],
   "source": [
    "using SymPy"
   ]
  },
  {
   "cell_type": "code",
   "execution_count": 2,
   "id": "3a1c5bcc",
   "metadata": {},
   "outputs": [
    {
     "data": {
      "text/plain": [
       "(x,)"
      ]
     },
     "execution_count": 2,
     "metadata": {},
     "output_type": "execute_result"
    }
   ],
   "source": [
    "@vars x"
   ]
  },
  {
   "cell_type": "code",
   "execution_count": 5,
   "id": "2dbafc87",
   "metadata": {},
   "outputs": [
    {
     "data": {
      "text/latex": [
       "$\\frac{x}{2} - \\frac{\\sin{\\left(x \\right)} \\cos{\\left(x \\right)}}{2}$"
      ],
      "text/plain": [
       "x   sin(x)⋅cos(x)\n",
       "─ - ─────────────\n",
       "2         2      "
      ]
     },
     "execution_count": 5,
     "metadata": {},
     "output_type": "execute_result"
    }
   ],
   "source": [
    "SymPy.integrate(-(1,^(SymPy.cos(x),2)))"
   ]
  },
  {
   "cell_type": "code",
   "execution_count": 6,
   "id": "97dab55d",
   "metadata": {},
   "outputs": [
    {
     "data": {
      "text/latex": [
       "$\\frac{x}{2} + \\frac{\\sin{\\left(x \\right)} \\cos{\\left(x \\right)}}{2}$"
      ],
      "text/plain": [
       "x   sin(x)⋅cos(x)\n",
       "─ + ─────────────\n",
       "2         2      "
      ]
     },
     "execution_count": 6,
     "metadata": {},
     "output_type": "execute_result"
    }
   ],
   "source": [
    "SymPy.integrate(^(SymPy.cos(x),2))"
   ]
  },
  {
   "cell_type": "code",
   "execution_count": 1,
   "id": "813ae8d1",
   "metadata": {},
   "outputs": [
    {
     "data": {
      "text/plain": [
       "335.12"
      ]
     },
     "execution_count": 1,
     "metadata": {},
     "output_type": "execute_result"
    }
   ],
   "source": [
    "-(375,39.88)"
   ]
  },
  {
   "cell_type": "code",
   "execution_count": null,
   "id": "7d03ab55",
   "metadata": {},
   "outputs": [],
   "source": []
  },
  {
   "cell_type": "code",
   "execution_count": null,
   "id": "1982ab04",
   "metadata": {},
   "outputs": [],
   "source": []
  },
  {
   "cell_type": "code",
   "execution_count": null,
   "id": "3fbdfb89",
   "metadata": {},
   "outputs": [],
   "source": []
  },
  {
   "cell_type": "code",
   "execution_count": null,
   "id": "de1aec9a",
   "metadata": {},
   "outputs": [],
   "source": []
  },
  {
   "cell_type": "code",
   "execution_count": null,
   "id": "fd73c1e0",
   "metadata": {},
   "outputs": [],
   "source": []
  },
  {
   "cell_type": "code",
   "execution_count": null,
   "id": "4799bec7",
   "metadata": {},
   "outputs": [],
   "source": []
  },
  {
   "cell_type": "code",
   "execution_count": null,
   "id": "cbe38d77",
   "metadata": {},
   "outputs": [],
   "source": []
  },
  {
   "cell_type": "code",
   "execution_count": null,
   "id": "c4b02394",
   "metadata": {},
   "outputs": [],
   "source": []
  },
  {
   "cell_type": "code",
   "execution_count": null,
   "id": "81f26c55",
   "metadata": {},
   "outputs": [],
   "source": []
  },
  {
   "cell_type": "code",
   "execution_count": null,
   "id": "b9db1ce1",
   "metadata": {},
   "outputs": [],
   "source": []
  },
  {
   "cell_type": "code",
   "execution_count": null,
   "id": "1dff098f",
   "metadata": {},
   "outputs": [],
   "source": []
  },
  {
   "cell_type": "code",
   "execution_count": null,
   "id": "f99f1dc5",
   "metadata": {},
   "outputs": [],
   "source": []
  },
  {
   "cell_type": "code",
   "execution_count": null,
   "id": "ac814834",
   "metadata": {},
   "outputs": [],
   "source": []
  },
  {
   "cell_type": "code",
   "execution_count": null,
   "id": "10781241",
   "metadata": {},
   "outputs": [],
   "source": []
  },
  {
   "cell_type": "code",
   "execution_count": null,
   "id": "16d4c96c",
   "metadata": {},
   "outputs": [],
   "source": []
  },
  {
   "cell_type": "code",
   "execution_count": null,
   "id": "74aea310",
   "metadata": {},
   "outputs": [],
   "source": []
  }
 ],
 "metadata": {
  "kernelspec": {
   "display_name": "Julia 1.7.2",
   "language": "julia",
   "name": "julia-1.7"
  },
  "language_info": {
   "file_extension": ".jl",
   "mimetype": "application/julia",
   "name": "julia",
   "version": "1.7.2"
  }
 },
 "nbformat": 4,
 "nbformat_minor": 5
}
