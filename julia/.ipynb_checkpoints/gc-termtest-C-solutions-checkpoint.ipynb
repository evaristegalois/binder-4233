{
 "cells": [
  {
   "cell_type": "markdown",
   "metadata": {},
   "source": [
    "<h2>Term Test C Solutions</h2>"
   ]
  },
  {
   "cell_type": "markdown",
   "metadata": {},
   "source": [
    "<h3>Question 1</h3>"
   ]
  },
  {
   "cell_type": "markdown",
   "metadata": {},
   "source": [
    "The closest solar system to our home solar system is a\n",
    "cluster of three stars, Rigil Kentaurus, Toliman, and Proxima\n",
    "Centauri. They are 4.37 light years away from us. Proxima b is an\n",
    "Earth-sized planet in the habitable zone around Proxima Centauri.\n",
    "Breakthrough Starshot is a project started by Yuri Milner, Stephen\n",
    "Hawking, and Mark Zuckerberg to send a light sail interstellar probe\n",
    "to Proxima b. Imagine the probe travels $a_0=1.25$ light years in the first\n",
    "decade; $a_1=0.9375$ light years in the second decade; and $a_{n-1}$ light\n",
    "years in the $n$-th decade such that $\\sum_{n=0}^{\\infty}a_n$ is a\n",
    "geometric series. Find the maximum distance that the probe can travel\n",
    "(can it make it all the way to Proxima b?). If the series diverges,\n",
    "you can indicate that the maximum distance is $\\infty$. "
   ]
  },
  {
   "cell_type": "code",
   "execution_count": 3,
   "metadata": {
    "collapsed": false,
    "jupyter": {
     "outputs_hidden": false
    }
   },
   "outputs": [
    {
     "data": {
      "text/plain": [
       "5.0"
      ]
     },
     "execution_count": 3,
     "metadata": {},
     "output_type": "execute_result"
    }
   ],
   "source": [
    "L=/(1.25,-(1,/(0.9375,1.25)))"
   ]
  },
  {
   "cell_type": "markdown",
   "metadata": {},
   "source": [
    "<h3>Question 2</h3>"
   ]
  },
  {
   "cell_type": "markdown",
   "metadata": {},
   "source": [
    "<font color=\"red\">Replace this question.</font>"
   ]
  },
  {
   "cell_type": "markdown",
   "metadata": {},
   "source": [
    "Determine whether\n",
    "\\begin{equation}\n",
    "  \\label{eq:hynpdwzc}\n",
    "  \\sum_{n=1}^{\\infty}\\frac{\\ln{}n}{n^2}\\notag\n",
    "\\end{equation}\n",
    "converges. It is not sufficient to state whether the series converges or not.\n",
    "You must justify your conclusion. Hint: You may assume that\n",
    "\\begin{equation}\n",
    "  \\label{eq:jlilxtzo}\n",
    "  \\sum_{n=1}^{\\infty}n^{-\\frac{3}{2}}\\mbox{ converges.}\\notag\n",
    "\\end{equation}"
   ]
  },
  {
   "cell_type": "markdown",
   "metadata": {},
   "source": [
    "<img src=\"./diagrams/ukesxkxy.png\" width=\"100%\" height=\"100%\">"
   ]
  },
  {
   "cell_type": "code",
   "execution_count": 1,
   "metadata": {},
   "outputs": [],
   "source": [
    "using SymPy"
   ]
  },
  {
   "cell_type": "code",
   "execution_count": 2,
   "metadata": {},
   "outputs": [
    {
     "data": {
      "text/plain": [
       "(x,)"
      ]
     },
     "execution_count": 2,
     "metadata": {},
     "output_type": "execute_result"
    }
   ],
   "source": [
    "@vars x"
   ]
  },
  {
   "cell_type": "code",
   "execution_count": 3,
   "metadata": {},
   "outputs": [
    {
     "data": {
      "text/latex": [
       "$- \\frac{\\log{\\left(x \\right)}}{x} - \\frac{1}{x}$"
      ],
      "text/plain": [
       "  log(x)   1\n",
       "- ────── - ─\n",
       "    x      x"
      ]
     },
     "execution_count": 3,
     "metadata": {},
     "output_type": "execute_result"
    }
   ],
   "source": [
    "SymPy.integrate(/(log(x),^(x,2))) # integral test works as well"
   ]
  },
  {
   "cell_type": "code",
   "execution_count": 4,
   "metadata": {},
   "outputs": [
    {
     "data": {
      "text/latex": [
       "$\\frac{x}{2} + \\frac{\\sin{\\left(x \\right)} \\cos{\\left(x \\right)}}{2}$"
      ],
      "text/plain": [
       "x   sin(x)⋅cos(x)\n",
       "─ + ─────────────\n",
       "2         2      "
      ]
     },
     "execution_count": 4,
     "metadata": {},
     "output_type": "execute_result"
    }
   ],
   "source": [
    "SymPy.integrate(^(cos(x),2)) # integral test works as well"
   ]
  },
  {
   "cell_type": "markdown",
   "metadata": {},
   "source": [
    "<h3>Question 3</h3>"
   ]
  },
  {
   "cell_type": "markdown",
   "metadata": {},
   "source": [
    "Find\n",
    "\\begin{equation}\n",
    "  \\label{eq:ryhfwjrt}\n",
    "  \\int\\frac{1}{\\left(4x^2+9\\right)^2}\\,dx\\notag\n",
    "\\end{equation}\n",
    "Hint: use the substitution $2x=3\\tan{}u$. "
   ]
  },
  {
   "cell_type": "markdown",
   "metadata": {},
   "source": [
    "<img src=\"./diagrams/occlkrmx1.png\" width=\"80%\" height=\"80%\">"
   ]
  },
  {
   "cell_type": "markdown",
   "metadata": {},
   "source": [
    "<img src=\"./diagrams/occlkrmx2.png\" width=\"30%\" height=\"30%\">"
   ]
  },
  {
   "cell_type": "markdown",
   "metadata": {},
   "source": [
    "<h3>Question 4</h3>"
   ]
  },
  {
   "cell_type": "markdown",
   "metadata": {},
   "source": [
    "<font color=\"red\">Replace this question.</font>"
   ]
  },
  {
   "cell_type": "markdown",
   "metadata": {},
   "source": [
    "If the integral does not exist, indicate why it diverges.\n",
    "Otherwise, evaluate\n",
    "\\begin{equation}\n",
    "  \\label{eq:icenlfmi}\n",
    "  \\int_{2}^{3}\\frac{3}{\\sqrt{x-2}}\\,dx\\notag\n",
    "\\end{equation}"
   ]
  },
  {
   "cell_type": "markdown",
   "metadata": {},
   "source": [
    "<img src=\"./diagrams/zyrgwvdf.png\" width=\"60%\" height=\"60%\">"
   ]
  },
  {
   "cell_type": "code",
   "execution_count": 12,
   "metadata": {},
   "outputs": [
    {
     "data": {
      "text/plain": [
       "(5.99810263340548, 2.2571458361229924e-9)"
      ]
     },
     "execution_count": 12,
     "metadata": {},
     "output_type": "execute_result"
    }
   ],
   "source": [
    "integral,err=quadgk(x->/(3,sqrt(-(x,2))),2.0000001,3,rtol=1e-8)"
   ]
  },
  {
   "cell_type": "markdown",
   "metadata": {},
   "source": [
    "<h3>Question 5</h3>"
   ]
  },
  {
   "cell_type": "markdown",
   "metadata": {},
   "source": [
    "Choose one of the following three integrals to solve. If\n",
    "you choose (3), you can only get 4 out of 5 points.\n",
    "\\begin{equation}\n",
    "  \\label{eq:rcemebce}\n",
    "  \\int_{\\sqrt{3}-2}^{3\\sqrt{3}-2}\\frac{18}{x^2+4x+13}\\,dx\n",
    "\\end{equation}\n"
   ]
  },
  {
   "cell_type": "markdown",
   "metadata": {},
   "source": [
    "$$\n",
    "\\int_{\\sqrt{3}-2}^{3\\sqrt{3}-2}\\frac{18}{x^2+4x+13}\\,dx=\\int_{\\sqrt{3}-2}^{3\\sqrt{3}-2}\\frac{18}{(x+2)^2+9}\\,dx=\\int_{\\Box}^{\\Box}\\frac{18}{u^2+9}\\,du=\\frac{18}{3}\\arctan\\sqrt{3}-\\frac{18}{3}\\arctan\\frac{1}{\\sqrt{3}}=\\frac{18}{3}\\left(\\frac{\\pi}{3}-\\frac{\\pi}{6}\\right)=\\pi\n",
    "$$"
   ]
  },
  {
   "cell_type": "code",
   "execution_count": 6,
   "metadata": {},
   "outputs": [],
   "source": [
    "using QuadGK"
   ]
  },
  {
   "cell_type": "code",
   "execution_count": 34,
   "metadata": {},
   "outputs": [
    {
     "data": {
      "text/plain": [
       "(3.141592653589794, 5.200391228754597e-10)"
      ]
     },
     "execution_count": 34,
     "metadata": {},
     "output_type": "execute_result"
    }
   ],
   "source": [
    "integral,err=quadgk(x->/(18,+(^(x,2),*(4,x),13)),sqrt(3)-2,3*sqrt(3)-2,rtol=1e-8)"
   ]
  },
  {
   "cell_type": "markdown",
   "metadata": {},
   "source": [
    "\\begin{equation}\n",
    "  \\label{eq:lokvrfcz}\n",
    "  \\int\\frac{-3x^3+9x^2-9x+7}{-x^2+3x-2}\\,dx\n",
    "\\end{equation}\n"
   ]
  },
  {
   "cell_type": "markdown",
   "metadata": {},
   "source": [
    "<img src=\"./diagrams/lokvrfcz1.png\" width=\"70%\" height=\"70%\">"
   ]
  },
  {
   "cell_type": "markdown",
   "metadata": {},
   "source": [
    "<img src=\"./diagrams/lokvrfcz2.png\" width=\"70%\" height=\"70%\">"
   ]
  },
  {
   "cell_type": "markdown",
   "metadata": {},
   "source": [
    "\\begin{equation}\n",
    "  \\label{eq:jvrmhsgf}\n",
    "  \\int\\frac{5x}{x^2-x-2}\\,dx\n",
    "\\end{equation}"
   ]
  },
  {
   "cell_type": "markdown",
   "metadata": {},
   "source": [
    "<img src=\"./diagrams/jvrmhsgf.png\" width=\"70%\" height=\"70%\">"
   ]
  },
  {
   "cell_type": "markdown",
   "metadata": {},
   "source": [
    "<h3>Question 6</h3>"
   ]
  },
  {
   "cell_type": "markdown",
   "metadata": {},
   "source": [
    "Use cylindrical shells to find the volume of the solid\n",
    "that results when the shaded region is revolved about the $y$-axis.\n",
    "The following curves are the boundaries of the region:\n",
    "\\begin{equation}\n",
    "  \\label{eq:ohwoodee}\n",
    "  y=x^{2}\\qquad{}x=2\\qquad{}x=3\\qquad{}y=0\\notag\n",
    "\\end{equation}"
   ]
  },
  {
   "cell_type": "markdown",
   "metadata": {},
   "source": [
    "<img src=\"./diagrams/iawazahf.png\" width=\"40%\" height=\"40%\">"
   ]
  },
  {
   "cell_type": "markdown",
   "metadata": {},
   "source": [
    "$$\n",
    "V=2\\pi\\int{}xf(x)\\,dx\n",
    "$$"
   ]
  },
  {
   "cell_type": "markdown",
   "metadata": {},
   "source": [
    "$$\n",
    "V=2\\pi\\int_{2}^{3}x^{3}\\,dx=2\\pi\\left[\\frac{x^{4}}{4}\\right]_{2}^{3}=\\frac{65}{2}\\pi\n",
    "$$"
   ]
  },
  {
   "cell_type": "code",
   "execution_count": 5,
   "metadata": {},
   "outputs": [
    {
     "data": {
      "text/plain": [
       "102.10176124166827"
      ]
     },
     "execution_count": 5,
     "metadata": {},
     "output_type": "execute_result"
    }
   ],
   "source": [
    "*(/(65,2),pi)"
   ]
  },
  {
   "cell_type": "markdown",
   "metadata": {},
   "source": [
    "<h3>Question 7</h3>"
   ]
  },
  {
   "cell_type": "markdown",
   "metadata": {},
   "source": [
    "Evaluate\n",
    "\\begin{equation}\n",
    "  \\label{eq:phooyeit}\n",
    "  \\int_{\\frac{1}{3}}^{\\frac{\\pi+4}{12}}\\sin^{2}\\left(3x-1\\right)\\,dx\\notag\n",
    "\\end{equation}"
   ]
  },
  {
   "cell_type": "markdown",
   "metadata": {},
   "source": [
    "<img src=\"./diagrams/bhippwin.png\" width=\"70%\" height=\"70%\">"
   ]
  },
  {
   "cell_type": "code",
   "execution_count": 27,
   "metadata": {},
   "outputs": [
    {
     "data": {
      "text/plain": [
       "0.04756636056624138"
      ]
     },
     "execution_count": 27,
     "metadata": {},
     "output_type": "execute_result"
    }
   ],
   "source": [
    "/(-(pi,2),24)"
   ]
  },
  {
   "cell_type": "code",
   "execution_count": 14,
   "metadata": {},
   "outputs": [
    {
     "data": {
      "text/plain": [
       "(0.04756636056624137, 1.3877787807814457e-17)"
      ]
     },
     "execution_count": 14,
     "metadata": {},
     "output_type": "execute_result"
    }
   ],
   "source": [
    "integral,err=quadgk(x->^(sin(-(*(3,x),1)),2),/(1,3),/(+(pi,4),12),rtol=1e-8)"
   ]
  },
  {
   "cell_type": "markdown",
   "metadata": {},
   "source": [
    "<h3>Question 8</h3>"
   ]
  },
  {
   "cell_type": "markdown",
   "metadata": {},
   "source": [
    "Find\n",
    "\\begin{equation}\n",
    "  \\label{eq:pmyljhqy}\n",
    "  \\sum_{n=1}^{2022}\\frac{1}{n^2+3n+2}\\notag\n",
    "\\end{equation}\n",
    "Hint: use partial fractions and telescoping series."
   ]
  },
  {
   "cell_type": "markdown",
   "metadata": {},
   "source": [
    "<img src=\"./diagrams/pmyljhqy.png\" width=\"100%\" height=\"100%\">"
   ]
  },
  {
   "cell_type": "markdown",
   "metadata": {
    "jupyter": {
     "outputs_hidden": false
    }
   },
   "source": [
    "$$\n",
    "\\frac{1}{2}-\\frac{1}{2024}\n",
    "$$"
   ]
  },
  {
   "cell_type": "code",
   "execution_count": 30,
   "metadata": {},
   "outputs": [
    {
     "data": {
      "text/plain": [
       "1011//2024"
      ]
     },
     "execution_count": 30,
     "metadata": {},
     "output_type": "execute_result"
    }
   ],
   "source": [
    "-(//(1,2),//(1,2024))"
   ]
  }
 ],
 "metadata": {
  "kernelspec": {
   "display_name": "Julia 1.7.2",
   "language": "julia",
   "name": "julia-1.7"
  },
  "language_info": {
   "file_extension": ".jl",
   "mimetype": "application/julia",
   "name": "julia",
   "version": "1.7.2"
  }
 },
 "nbformat": 4,
 "nbformat_minor": 4
}
