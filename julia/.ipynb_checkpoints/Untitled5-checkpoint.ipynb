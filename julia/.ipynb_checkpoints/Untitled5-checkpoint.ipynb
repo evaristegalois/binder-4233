{
 "cells": [
  {
   "cell_type": "markdown",
   "id": "b7a24a32",
   "metadata": {},
   "source": [
    "<h2>Term Test A Solutions</h2>"
   ]
  },
  {
   "cell_type": "markdown",
   "id": "b11bfddb",
   "metadata": {},
   "source": [
    "<h4>Question 1</h4>"
   ]
  },
  {
   "cell_type": "markdown",
   "id": "e5ffbc58",
   "metadata": {},
   "source": [
    "A rocket, fired from rest at time $t=0$, has an initial\n",
    "mass of $m_0$ (including its fuel). Assuming that the fuel is consumed\n",
    "at a constant rate $k$, the mass $m$ of the rocket, while fuel is being\n",
    "burned, will be given by $m(t)=m_{0}-kt$. It can be shown that if air resistance\n",
    "is neglected and the fuel gases are expelled at a constant speed $c$\n",
    "relative to the rocket, then the velocity $v$ of the rocket will satisfy\n",
    "the equation\n",
    "\\begin{equation}\n",
    "  \\label{eq:fcgupphi}\n",
    "  m\\frac{dv}{dt}=ck-mg\\notag\n",
    "\\end{equation}\n",
    "$g=9.8\\,N/s^2$ is the acceleration due to gravity.\n",
    "* Find $v(t)$ keeping in mind\n",
    "that the mass $m$ is a function of $t$.\n",
    "* Suppose that the fuel accounts for 70\\% of the initial mass of\n",
    "  the rocket and that all of the fuel is consumed at $60\\,s$. Find the\n",
    "  velocity of the rocket in metres per second at the instant the fuel\n",
    "  is exhausted. Take $c=2500\\,m/s$ and $m_{0}=1.2\\times{}10^{6}\\,kg$.\n",
    "  Round to nearest whole number."
   ]
  },
  {
   "cell_type": "code",
   "execution_count": 2,
   "id": "43c1b76e",
   "metadata": {},
   "outputs": [
    {
     "data": {
      "text/plain": [
       "9.8"
      ]
     },
     "execution_count": 2,
     "metadata": {},
     "output_type": "execute_result"
    }
   ],
   "source": [
    "g=9.8"
   ]
  },
  {
   "cell_type": "markdown",
   "id": "dbe67576",
   "metadata": {},
   "source": [
    "Use separation for\n",
    "$$\n",
    "v(t)=-c\\ln\\left(m_0-kt\\right)+\\frac{g}{k}t+C\n",
    "$$\n",
    "with\n",
    "$$\n",
    "C=c\\ln{}m_0\n",
    "$$"
   ]
  },
  {
   "cell_type": "code",
   "execution_count": 3,
   "id": "6ffe88cf",
   "metadata": {},
   "outputs": [
    {
     "data": {
      "text/plain": [
       "2500"
      ]
     },
     "execution_count": 3,
     "metadata": {},
     "output_type": "execute_result"
    }
   ],
   "source": [
    "c=2500"
   ]
  },
  {
   "cell_type": "code",
   "execution_count": 4,
   "id": "bc157f4d",
   "metadata": {},
   "outputs": [
    {
     "data": {
      "text/plain": [
       "1.2e6"
      ]
     },
     "execution_count": 4,
     "metadata": {},
     "output_type": "execute_result"
    }
   ],
   "source": [
    "m0=1.2*10^6"
   ]
  },
  {
   "cell_type": "code",
   "execution_count": 7,
   "id": "49d2d78d",
   "metadata": {},
   "outputs": [
    {
     "data": {
      "text/plain": [
       "14000.0"
      ]
     },
     "execution_count": 7,
     "metadata": {},
     "output_type": "execute_result"
    }
   ],
   "source": [
    "k=(0.7*m0)/60"
   ]
  },
  {
   "cell_type": "code",
   "execution_count": 6,
   "id": "983eb333",
   "metadata": {},
   "outputs": [],
   "source": [
    "using Roots"
   ]
  },
  {
   "cell_type": "code",
   "execution_count": 8,
   "id": "e3bbc4dd",
   "metadata": {},
   "outputs": [
    {
     "data": {
      "text/plain": [
       "34994.58028689557"
      ]
     },
     "execution_count": 8,
     "metadata": {},
     "output_type": "execute_result"
    }
   ],
   "source": [
    "C=c*log(m0)"
   ]
  },
  {
   "cell_type": "code",
   "execution_count": 9,
   "id": "84631edb",
   "metadata": {},
   "outputs": [
    {
     "data": {
      "text/plain": [
       "3009.9740108148435"
      ]
     },
     "execution_count": 9,
     "metadata": {},
     "output_type": "execute_result"
    }
   ],
   "source": [
    "v1=(-c)*log(m0-k*60)+(g/k)*60+C"
   ]
  },
  {
   "cell_type": "markdown",
   "id": "d98003cd",
   "metadata": {},
   "source": [
    "The rocket travels at approximately $3010\\,m/s$ when the fuel is consumed."
   ]
  },
  {
   "cell_type": "markdown",
   "id": "c6682f6e",
   "metadata": {},
   "source": [
    "<h4>Question 2</h4>"
   ]
  },
  {
   "cell_type": "markdown",
   "id": "76f33e48",
   "metadata": {},
   "source": [
    "The family of solutions to the differential equation:\n",
    "\\begin{equation}\n",
    "  \\label{eq:hjyfdrvb}\n",
    "  \\frac{dy}{dx}=\\frac{x^{2}-y^{2}}{2xy}\\notag\n",
    "\\end{equation}\n",
    "trace out the streamlines of a planar flow in which the fluid moves\n",
    "according to the velocity vector:\n",
    "\\begin{equation}\n",
    "  \\label{eq:qldovisp}\n",
    "  \\vec{v}=v_{x}\\vec{i}+v_{y}\\vec{j}=\\left(2xy\\right)\\vec{i}+\\left(x^{2}-y^{2}\\right)\\vec{j}\\notag\n",
    "\\end{equation}\n",
    "Determine the general solution to the differential equation above. Do\n",
    "not apply boundary conditions."
   ]
  },
  {
   "cell_type": "markdown",
   "id": "01f35367",
   "metadata": {},
   "source": [
    "You can use homogeneous equations for\n",
    "$$\n",
    "x\\frac{du}{dx}+u=\\frac{1}{2u}-\\frac{u}{2}\n",
    "$$\n",
    "with $ux=y$; or exact equations for\n",
    "$$\n",
    "(x^2-y^2)dx+(-2xy)dy=0\n",
    "$$\n",
    "or Bernoulli for\n",
    "$$\n",
    "\\frac{dy}{dx}+\\frac{1}{2x}y=\\frac{x}{2}y^{-1}\n",
    "$$\n",
    "to yield\n",
    "$$\n",
    "y^{2}=\\frac{x^{2}}{3}+\\frac{C}{x}\n",
    "$$"
   ]
  },
  {
   "cell_type": "markdown",
   "id": "a920f0c9",
   "metadata": {},
   "source": [
    "<h4>Question 3</h4>"
   ]
  },
  {
   "cell_type": "markdown",
   "id": "14b28cea",
   "metadata": {},
   "source": [
    "The shape of a curved mirror that reflects light from a\n",
    "source at the origin (the light bulb in the accompanying diagram) into\n",
    "a beam of rays parallel to the $x$-axis is governed by the differential\n",
    "equation:\n",
    "\\begin{equation}\n",
    "  \\label{eq:wggryuwc}\n",
    "  \\frac{d^2y}{dx^2}=-\\frac{1}{y}\\left(\\frac{dy}{dx}\\right)^2\\notag\n",
    "\\end{equation}\n",
    "Solve this differential equation to find the equation of the shape of\n",
    "the curve. Use the fact that, in the illustrated coordinate system,\n",
    "the mirror surface passes through the points $(-1,0)$ and $(0,2)$ to\n",
    "determine the value of any arbitrary constants in the solution."
   ]
  },
  {
   "cell_type": "markdown",
   "id": "227cb596",
   "metadata": {},
   "source": [
    "Use reduction of order: $p=\\frac{dy}{dx}$ and $\\frac{d^2y}{dx^2}=\\frac{dp}{dy}p$ for\n",
    "$$\n",
    "\\frac{dp}{dy}=-\\frac{p}{y}\n",
    "$$\n",
    "which is separable with the result $Ayp=1$. Now\n",
    "$$\n",
    "x=\\int\\,dx=\\int\\frac{1}{p}\\,dy=\\int{}Ay\\,dy=\\frac{1}{2}Ay^2+B\n",
    "$$\n",
    "Clean this up for $y^2=A(x-B)$ and find $A=4,B=-1$ using the initial conditions. The parabola is\n",
    "$$\n",
    "y^{2}=4(x+1)\n",
    "$$"
   ]
  },
  {
   "cell_type": "markdown",
   "id": "151e0901",
   "metadata": {},
   "source": [
    "<h4>Question 4</h4>"
   ]
  },
  {
   "cell_type": "markdown",
   "id": "756aeefe",
   "metadata": {},
   "source": [
    "In the unlikely event that an elevator's cables are\n",
    "severed, numerous safeties kick in. For a particular elevator of mass\n",
    "$m$, the impact at the bottom of the elevator shaft is cushioned by\n",
    "both a massive metal spring with spring constant $k$ and a hydraulic\n",
    "shock absorber (a piston in an oil-filled cylinder) with damping\n",
    "constant $c$. Safety clamps also grip steel rails running up the side\n",
    "of the shaft. The vertical force exerted by these clamps is $F_{0}$ at\n",
    "the moment ($t=0$) that the elevator car impacts the safety system at\n",
    "the bottom of the shaft and thereafter falls off exponentially.\n",
    "\n",
    "The motion after the moment of impact is governed by the differential\n",
    "equation:\n",
    "\\begin{equation}\n",
    "  \\label{eq:ksjppqng}\n",
    "  m\\frac{d^2y}{dt^2}+c\\frac{dy}{dt}+ky=-mg+F_{0}e^{-2.5t}\\notag\n",
    "\\end{equation}\n",
    "Use the method of undetermined coefficients to determine the full\n",
    "general solution for $y$ as a function of time $t$ with\n",
    "\\begin{align*}\n",
    "  m&=2400\\,kg \\\\\n",
    "  c&=12000\\,\\frac{Ns}{m} \\\\\n",
    "  k&=15000\\,\\frac{N}{m} \\\\\n",
    "  F_{0}&=17000\\,N\n",
    "\\end{align*}\n",
    "\n",
    "Approximate the acceleration due to gravity as $g=10\\,m/s^2$ to\n",
    "simplify your calculations.\n",
    "\n",
    "Find the values of all the undetermined coefficients but do not find\n",
    "the values of the arbitrary constants (do not apply boundary\n",
    "conditions)."
   ]
  },
  {
   "cell_type": "markdown",
   "id": "732a2c86",
   "metadata": {},
   "source": [
    "The equation is\n",
    "$$\n",
    "2400y''+12000y'+15000y=-24000+17000e^{-2.5t}\n",
    "$$\n",
    "The general solution is\n",
    "$$\n",
    "c_1e^{-2.5t}+tc_2e^{-2.5t}\n",
    "$$\n",
    "The particular solution is\n",
    "$$\n",
    "-\\frac{8}{5}+\\frac{170}{48}t^2e^{-2.5t}\n",
    "$$"
   ]
  }
 ],
 "metadata": {
  "kernelspec": {
   "display_name": "Julia 1.7.2",
   "language": "julia",
   "name": "julia-1.7"
  },
  "language_info": {
   "file_extension": ".jl",
   "mimetype": "application/julia",
   "name": "julia",
   "version": "1.7.2"
  }
 },
 "nbformat": 4,
 "nbformat_minor": 5
}
