{
 "cells": [
  {
   "cell_type": "markdown",
   "metadata": {},
   "source": [
    "<h1>\n",
    "    Lab Sheet 14 Solutions\n",
    "</h1>"
   ]
  },
  {
   "cell_type": "markdown",
   "metadata": {},
   "source": [
    "<h3>\n",
    "    Lab Sheet 14 Problem 1\n",
    "</h3>"
   ]
  },
  {
   "cell_type": "markdown",
   "metadata": {},
   "source": [
    "Riders on a newly designed amusement park ride are seated\n",
    "in cars arranged around a circle of radius $R=10\\,m$. Once the ride\n",
    "begins, each of the cars revolves around the centre of the circle and\n",
    "a hoisting arm of length $A=13\\,m$ tilts the entire circle into the\n",
    "vertical plane. The $x$-, $y$- and $z$-positions of one particular car are\n",
    "given (in metres) by the functions:\n",
    "\\begin{align*}\n",
    "  x(\\theta,\\psi)&=\\left(A+R\\cos\\theta\\right)\\cos\\psi \\\\\n",
    "  y(\\theta)&=R\\sin\\theta \\\\\n",
    "  z(\\theta,\\psi)&=\\left(A+R\\cos\\theta\\right)\\sin\\psi\n",
    "\\end{align*}\n",
    "where $\\theta$ is the angle in the plane of the circular arrangement\n",
    "of cars between the specified car and point opposite the hoisting arm,\n",
    "and $\\psi$ is the tilt angle that the plane of the circle makes with\n",
    "the horizontal.\n",
    "\n",
    "Assume the angle of revolution and the tilt angle are\n",
    "given (in radians) respectively by:\n",
    "\\begin{align*}\n",
    "  \\theta(t)&=80\\left(1-e^t\\right) \\\\\n",
    "  \\psi(t)&=\\frac{\\pi{}t}{2(t+1)}\n",
    "\\end{align*}\n",
    "for $t$ measured in minutes. Find\n",
    "$\\frac{\\partial{}x}{\\partial{}t},\\frac{\\partial{}y}{\\partial{}t},\\frac{\\partial{}z}{\\partial{}t}$\n",
    "and use them to determine both the velocity vector $\\vec{v}$ and the\n",
    "speed for the specified car at time $t=1$ minute after the ride\n",
    "begins. "
   ]
  },
  {
   "cell_type": "markdown",
   "metadata": {},
   "source": [
    "<img src=\"./diagrams/lceheavb.png\" width=\"40%\" height=\"40%\">"
   ]
  },
  {
   "cell_type": "markdown",
   "metadata": {},
   "source": [
    "Recall that the multivariable chain rule tells us that, if $w=f(x,y)$\n",
    "has continuous first-order partial derivatives and $x=g(t)$ and\n",
    "$y=h(t)$ are differentiable functions, then $w$ is a differentiable\n",
    "function of $t$, and\n",
    "    \\begin{equation}\n",
    "      \\label{eq:ylwkabbx}\n",
    "      \\frac{dw}{dt}=\\frac{\\partial{}w}{\\partial{}x}\\cdot\\frac{dx}{dt}+\\frac{\\partial{}w}{\\partial{}y}\\cdot\\frac{dy}{dt}\\notag\n",
    "    \\end{equation}"
   ]
  },
  {
   "cell_type": "markdown",
   "metadata": {},
   "source": [
    "<img src=\"./diagrams/lceheavb1.png\" width=\"80%\" height=\"80%\">"
   ]
  },
  {
   "cell_type": "markdown",
   "metadata": {},
   "source": [
    "<h3>\n",
    "    Lab Sheet 14 Problem 2\n",
    "</h3>"
   ]
  },
  {
   "cell_type": "markdown",
   "metadata": {},
   "source": [
    "Find the area between the two curves\n",
    "    \\begin{align*}\n",
    "      r&=2a+a\\sin{}2\\theta \\\\\n",
    "      r&=2a+a\\cos{}2\\theta\n",
    "    \\end{align*}"
   ]
  },
  {
   "cell_type": "markdown",
   "metadata": {},
   "source": [
    "<img src=\"./diagrams/uqcnlnvn.png\" width=\"40%\" height=\"40%\">"
   ]
  },
  {
   "cell_type": "code",
   "execution_count": 1,
   "metadata": {},
   "outputs": [
    {
     "data": {
      "text/plain": [
       "0.39269908169872414"
      ]
     },
     "execution_count": 1,
     "metadata": {},
     "output_type": "execute_result"
    }
   ],
   "source": [
    "tht1=*(0.5,atan(1))"
   ]
  },
  {
   "cell_type": "code",
   "execution_count": 2,
   "metadata": {},
   "outputs": [
    {
     "data": {
      "text/plain": [
       "-1.1780972450961724"
      ]
     },
     "execution_count": 2,
     "metadata": {},
     "output_type": "execute_result"
    }
   ],
   "source": [
    "tht2=-(tht1,/(pi,2))"
   ]
  },
  {
   "cell_type": "markdown",
   "metadata": {},
   "source": [
    "$$\n",
    "A=2\\int_{\\theta_2}^{\\theta_1}\\left(2a+a\\sin(2\\theta)\\right)^2\\,d\\theta\n",
    "$$"
   ]
  },
  {
   "cell_type": "code",
   "execution_count": 19,
   "metadata": {},
   "outputs": [],
   "source": [
    "using QuadGK"
   ]
  },
  {
   "cell_type": "code",
   "execution_count": 33,
   "metadata": {},
   "outputs": [
    {
     "data": {
      "text/plain": [
       "(4.240156345830845, 2.532196674565057e-12)"
      ]
     },
     "execution_count": 33,
     "metadata": {},
     "output_type": "execute_result"
    }
   ],
   "source": [
    "integral1,err=quadgk(x->*(4,+(1,sin(*(2,x)),*(0.25,^(sin(*(2,x)),2)))),tht2,tht1,rtol=1e-8)"
   ]
  },
  {
   "cell_type": "code",
   "execution_count": 34,
   "metadata": {},
   "outputs": [
    {
     "data": {
      "text/plain": [
       "305.29125689982084"
      ]
     },
     "execution_count": 34,
     "metadata": {},
     "output_type": "execute_result"
    }
   ],
   "source": [
    "*(2,36,integral1) # for example if a=6"
   ]
  },
  {
   "cell_type": "markdown",
   "metadata": {},
   "source": [
    "<h3>\n",
    "    Lab Sheet 14 Problem 3\n",
    "</h3>"
   ]
  },
  {
   "cell_type": "markdown",
   "metadata": {},
   "source": [
    "Find the area of the inner loop of the limacon with\n",
    "polar equation\n",
    "\\begin{equation}\n",
    "  \\label{eq:nrnrbkac}\n",
    "  r=9\\cos\\theta-8\\notag\n",
    "\\end{equation}"
   ]
  },
  {
   "cell_type": "markdown",
   "metadata": {},
   "source": [
    "<img src=\"./diagrams/hyondzel-desmos.png\" width=\"40%\" height=\"40%\">"
   ]
  },
  {
   "cell_type": "code",
   "execution_count": 31,
   "metadata": {},
   "outputs": [
    {
     "data": {
      "text/plain": [
       "0.47588224966041665"
      ]
     },
     "execution_count": 31,
     "metadata": {},
     "output_type": "execute_result"
    }
   ],
   "source": [
    "tht3=acos(/(8,9))"
   ]
  },
  {
   "cell_type": "code",
   "execution_count": 35,
   "metadata": {},
   "outputs": [
    {
     "data": {
      "text/plain": [
       "(0.2524275821016009, 5.551115123125783e-17)"
      ]
     },
     "execution_count": 35,
     "metadata": {},
     "output_type": "execute_result"
    }
   ],
   "source": [
    "integral2,err=quadgk(x->^(-(*(9,cos(x)),8),2),0,tht3,rtol=1e-8)"
   ]
  },
  {
   "cell_type": "markdown",
   "metadata": {},
   "source": [
    "Note that at $\\theta_3=\\arccos\\left(\\frac{8}{9}\\right)$ the radius becomes negative. When we graph polar coordinates with a negative radius, we add $\\pi$ to the angle, so\n",
    "$$\n",
    "(-r,\\theta)=(r,\\theta+\\pi)\n",
    "$$\n",
    "for positive $r$. The area of the inner loop is\n",
    "$$\n",
    "A=\\int_{0}^{\\theta_3}\\left(9\\cos\\theta-8\\right)^2\\,d\\theta\\approx{}0.2524\n",
    "$$"
   ]
  }
 ],
 "metadata": {
  "kernelspec": {
   "display_name": "Julia 1.7.2",
   "language": "julia",
   "name": "julia-1.7"
  },
  "language_info": {
   "file_extension": ".jl",
   "mimetype": "application/julia",
   "name": "julia",
   "version": "1.7.2"
  }
 },
 "nbformat": 4,
 "nbformat_minor": 4
}
