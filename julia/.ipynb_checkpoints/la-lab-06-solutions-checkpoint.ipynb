{
 "cells": [
  {
   "cell_type": "markdown",
   "id": "2da2124f",
   "metadata": {},
   "source": [
    "<h3>Lab Sheet 6</h3>"
   ]
  },
  {
   "cell_type": "markdown",
   "id": "3c8eac86",
   "metadata": {},
   "source": [
    "<h5>Question 6</h5>"
   ]
  },
  {
   "cell_type": "markdown",
   "id": "847ef4be",
   "metadata": {},
   "source": [
    "You versus horse. It's a race! You can run 0.2 km every minute. The Horse can run 0.5 km every minute. But it takes 6 minutes to saddle the horse. How far can you get before the horse catches you?"
   ]
  },
  {
   "cell_type": "markdown",
   "id": "0243ae53",
   "metadata": {},
   "source": [
    "$$\n",
    "\\begin{array}{rcl}\n",
    "y&=&0.2t\\\\y&=&0.5t-3\n",
    "\\end{array}\n",
    "$$"
   ]
  },
  {
   "cell_type": "code",
   "execution_count": 1,
   "id": "b704e5aa",
   "metadata": {},
   "outputs": [],
   "source": [
    "using LinearAlgebra"
   ]
  },
  {
   "cell_type": "code",
   "execution_count": 2,
   "id": "3bb61056",
   "metadata": {},
   "outputs": [
    {
     "data": {
      "text/plain": [
       "2×2 Matrix{Float64}:\n",
       " -0.2  1.0\n",
       " -0.5  1.0"
      ]
     },
     "execution_count": 2,
     "metadata": {},
     "output_type": "execute_result"
    }
   ],
   "source": [
    "A=[-0.2 1\n",
    "-0.5 1]"
   ]
  },
  {
   "cell_type": "code",
   "execution_count": 3,
   "id": "ac2e622a",
   "metadata": {},
   "outputs": [
    {
     "data": {
      "text/plain": [
       "2-element Vector{Int64}:\n",
       "  0\n",
       " -3"
      ]
     },
     "execution_count": 3,
     "metadata": {},
     "output_type": "execute_result"
    }
   ],
   "source": [
    "b=[0\n",
    "-3]"
   ]
  },
  {
   "cell_type": "code",
   "execution_count": 4,
   "id": "7857fe81",
   "metadata": {},
   "outputs": [
    {
     "data": {
      "text/plain": [
       "2-element Vector{Float64}:\n",
       " 10.0\n",
       "  2.0"
      ]
     },
     "execution_count": 4,
     "metadata": {},
     "output_type": "execute_result"
    }
   ],
   "source": [
    "inv(A)*b"
   ]
  },
  {
   "cell_type": "markdown",
   "id": "d185a987",
   "metadata": {},
   "source": [
    "After 10 minutes and 2 kilometres, the horse passes you."
   ]
  },
  {
   "cell_type": "markdown",
   "id": "de1cef24",
   "metadata": {},
   "source": [
    "<h5>Question 7</h5>"
   ]
  },
  {
   "cell_type": "markdown",
   "id": "5e346c65",
   "metadata": {},
   "source": [
    "Given the cost function\n",
    "  \\begin{equation}\n",
    "    \\label{eq:gyulrnkc}\n",
    "    C(x)=0.85x+35000\\notag\n",
    "  \\end{equation}\n",
    "  and the revenue function\n",
    "  \\begin{equation}\n",
    "    \\label{eq:hqoogulg}\n",
    "    R(x)=1.55x\\notag\n",
    "  \\end{equation}\n",
    "find the break-even point and the profit function."
   ]
  },
  {
   "cell_type": "markdown",
   "id": "37a374ed",
   "metadata": {},
   "source": [
    "The profit function is $$P(x)=R(x)-C(x)=0.7x-35000$$"
   ]
  },
  {
   "cell_type": "markdown",
   "id": "11101c62",
   "metadata": {},
   "source": [
    "Set it to zero for the break-even point "
   ]
  },
  {
   "cell_type": "code",
   "execution_count": null,
   "id": "f97285a7",
   "metadata": {},
   "outputs": [],
   "source": [
    "35000/0.7"
   ]
  }
 ],
 "metadata": {
  "kernelspec": {
   "display_name": "Julia 1.6.3",
   "language": "julia",
   "name": "julia-1.6"
  },
  "language_info": {
   "file_extension": ".jl",
   "mimetype": "application/julia",
   "name": "julia",
   "version": "1.6.3"
  }
 },
 "nbformat": 4,
 "nbformat_minor": 5
}
