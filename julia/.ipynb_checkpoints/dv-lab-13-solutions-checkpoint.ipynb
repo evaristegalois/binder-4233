{
 "cells": [
  {
   "cell_type": "markdown",
   "metadata": {},
   "source": [
    "<h1>\n",
    "    Lab Sheet 13 Solutions\n",
    "</h1>"
   ]
  },
  {
   "cell_type": "markdown",
   "metadata": {},
   "source": [
    "<h3>\n",
    "    Lab Sheet 13 Problem 1\n",
    "</h3>"
   ]
  },
  {
   "cell_type": "markdown",
   "metadata": {},
   "source": [
    "Determine the least radius of curvature of the exponential\n",
    "function $y=e^{x}$."
   ]
  },
  {
   "cell_type": "markdown",
   "metadata": {},
   "source": [
    "Use\n",
    "$$\n",
    "\\kappa(x)=\\frac{y''}{(1+(y')^2)^{3/2}}=\\frac{e^x}{(1+e^{2x})^{3/2}}\n",
    "$$\n",
    "and maximize for curvature (which minimizes radius of curvature). Differentiate and set to zero for\n",
    "$$\n",
    "x=-\\frac{\\ln 2}{2}\n",
    "$$"
   ]
  },
  {
   "cell_type": "markdown",
   "metadata": {},
   "source": [
    "<img src=\"./diagrams/fodrdgre.png\" width=\"70%\" height=\"70%\">"
   ]
  },
  {
   "cell_type": "markdown",
   "metadata": {},
   "source": [
    "<h3>\n",
    "    Lab Sheet 13 Problem 2\n",
    "</h3>"
   ]
  },
  {
   "cell_type": "markdown",
   "metadata": {},
   "source": [
    "Find the linear equation for the plane in\n",
    "three-dimensional space that contains\n",
    "\\begin{equation}\n",
    "  \\label{eq:tieheech}\n",
    "  P=(1,5,1)\\hspace{0.5in}Q=\\left(-1,-\\frac{1}{2},0\\right)\\hspace{0.5in}R=(-4,7,3)\\notag\n",
    "\\end{equation}"
   ]
  },
  {
   "cell_type": "markdown",
   "metadata": {},
   "source": [
    "<img src=\"./diagrams/gc-lab-18-partial-solutions-01-1of1.png\" width=\"70%\" height=\"70%\">"
   ]
  },
  {
   "cell_type": "markdown",
   "metadata": {},
   "source": [
    "<h3>\n",
    "    Lab Sheet 13 Problem 3\n",
    "</h3>"
   ]
  },
  {
   "cell_type": "markdown",
   "metadata": {},
   "source": [
    "Calculate the angle in degrees, minutes, and seconds\n",
    "between the following two vectors\n",
    "$$  \\vec{v}=\\left(\n",
    "    \\begin{array}{c}\n",
    "      2 \\\\\n",
    "      -2 \\\\\n",
    "      -3\n",
    "    \\end{array}\\right)\\mbox{ and }\\vec{w}=7\\vec{i}-\\vec{j}-2\\vec{k}\\notag\n",
    "$$"
   ]
  },
  {
   "cell_type": "markdown",
   "metadata": {},
   "source": [
    "<img src=\"./diagrams/gc-lab-18-partial-solutions-02-1of1.png\" width=\"70%\" height=\"70%\">"
   ]
  },
  {
   "cell_type": "markdown",
   "metadata": {},
   "source": [
    "<h3>\n",
    "    Lab Sheet 13 Problem 4\n",
    "</h3>"
   ]
  },
  {
   "cell_type": "markdown",
   "metadata": {},
   "source": [
    "The Laplacian operator $\\nabla^{2}$ is defined as follows,\n",
    "$$  \\nabla^{2}f=\\frac{\\partial^{2}f}{\\partial{}x^{2}}+\\frac{\\partial^{2}f}{\\partial{}y^{2}}+\\frac{\\partial^{2}f}{\\partial{}z^{2}}\\notag\n",
    "$$\n",
    "Find $\\nabla^{2}f$ for\n",
    "$$  f(x,y,z)=\\frac{1}{r},r=\\sqrt{x^{2}+y^{2}+z^{2}}\\notag\n",
    "$$\n"
   ]
  },
  {
   "cell_type": "markdown",
   "metadata": {},
   "source": [
    "<img src=\"./diagrams/lfaxjjgq.jpg\" width=\"50%\" height=\"50%\">"
   ]
  },
  {
   "cell_type": "markdown",
   "metadata": {},
   "source": [
    "<h3>\n",
    "    Lab Sheet 13 Problem 5\n",
    "</h3>"
   ]
  },
  {
   "cell_type": "markdown",
   "metadata": {},
   "source": [
    "Given the function $f(x,y,z)=\\sin(x)\\cos(y)e^{z}$, what are the corresponding\n",
    "partial derivatives $f_{x},f_{y}$ and $f_{z}$?"
   ]
  },
  {
   "cell_type": "markdown",
   "metadata": {},
   "source": [
    "$$f_{x}=\\cos(x)\\cos(y)e^{z}\\qquad{}f_{y}=-\\sin(x)\\sin(y)e^{z}\\qquad{}f_{z}=\\sin(x)\\cos(y)e^{z}$$"
   ]
  },
  {
   "cell_type": "markdown",
   "metadata": {},
   "source": [
    "For the same function $f(x,y,z)$, what is the corresponding Laplacian?"
   ]
  },
  {
   "cell_type": "markdown",
   "metadata": {},
   "source": [
    "$$\\nabla\\cdot\\nabla{}f=\\sum_{i=1}^{n}\\frac{\\partial^{2}f}{\\partial{}x^{2}_{i}}=-\\sin(x)\\cos(y)e^{z}$$"
   ]
  },
  {
   "cell_type": "markdown",
   "metadata": {},
   "source": [
    "<h3>\n",
    "    Lab Sheet 13 Problem 6\n",
    "</h3>"
   ]
  },
  {
   "cell_type": "markdown",
   "metadata": {},
   "source": [
    "Find the osculating circle for the ellipse\n",
    "\\begin{equation}\n",
    "  \\label{eq:jfpqueqn}\n",
    "  (3\\cos{}t,2\\sin{}t)\\mbox{ at }t=\\pi\\notag\n",
    "\\end{equation}\n",
    "and for the curve\n",
    "\\begin{equation}\n",
    "  \\label{eq:gdputrvj}\n",
    "  (t,\\tan{}t)\\mbox{ at }t=\\pi\\notag\n",
    "\\end{equation}"
   ]
  },
  {
   "cell_type": "markdown",
   "metadata": {},
   "source": [
    "Use\n",
    "$$\n",
    "\\kappa=\\|\\vec{r}''(s)\\|=\\frac{|x'y''-y'x''|}{\\left((x')^{2}+(y')^{2}\\right)^{\\frac{3}{2}}}\n",
    "$$\n",
    "where the derivatives are with respect to $t$. Differentiation yields $\\kappa=\\frac{3}{4}$, which implies $\\rho=\\frac{4}{3}$. $\\vec{r}''(\\pi)=(3,0)$ tells us that the unit normal vector is $(1,0)$ and gives us the circle equation\n",
    "$$\n",
    "\\left(x+\\frac{5}{3}\\right)^{2}+y^{2}=\\frac{16}{9}\n",
    "$$\n",
    "for the ellipse."
   ]
  },
  {
   "cell_type": "markdown",
   "metadata": {},
   "source": [
    "Use (for $y(t)=\\tan{}t$)\n",
    "$$\n",
    "\\kappa(t)=\\frac{y''}{(1+(y')^2)^{3/2}}=\\frac{2\\tan{}t\\sec^2t}{\\left(1+\\sec^4t\\right)^\\frac{3}{2}}\n",
    "$$"
   ]
  },
  {
   "cell_type": "code",
   "execution_count": 1,
   "metadata": {},
   "outputs": [
    {
     "data": {
      "text/plain": [
       "kk6 (generic function with 1 method)"
      ]
     },
     "execution_count": 1,
     "metadata": {},
     "output_type": "execute_result"
    }
   ],
   "source": [
    "kk6(t)=/(*(2,tan(t),^(sec(t),2)),^(+(1,^(sec(t),4)),/(3,2)))"
   ]
  },
  {
   "cell_type": "code",
   "execution_count": 6,
   "metadata": {},
   "outputs": [
    {
     "data": {
      "text/plain": [
       "0.0553694333880141"
      ]
     },
     "execution_count": 6,
     "metadata": {},
     "output_type": "execute_result"
    }
   ],
   "source": [
    "kappa=kk6(/(*(2,pi),5))"
   ]
  },
  {
   "cell_type": "code",
   "execution_count": 15,
   "metadata": {},
   "outputs": [
    {
     "data": {
      "text/plain": [
       "18.060506290397967"
      ]
     },
     "execution_count": 15,
     "metadata": {},
     "output_type": "execute_result"
    }
   ],
   "source": [
    "rho=/(1,kappa)"
   ]
  },
  {
   "cell_type": "code",
   "execution_count": 4,
   "metadata": {},
   "outputs": [
    {
     "data": {
      "text/plain": [
       "10.472135954999578"
      ]
     },
     "execution_count": 4,
     "metadata": {},
     "output_type": "execute_result"
    }
   ],
   "source": [
    "a1=^(sec(/(*(2,pi),5)),2)"
   ]
  },
  {
   "cell_type": "code",
   "execution_count": 5,
   "metadata": {},
   "outputs": [
    {
     "data": {
      "text/plain": [
       "2-element Vector{Float64}:\n",
       " 1.2566370614359172\n",
       " 3.0776835371752527"
      ]
     },
     "execution_count": 5,
     "metadata": {},
     "output_type": "execute_result"
    }
   ],
   "source": [
    "op=[/(*(2,pi),5);tan(/(*(2,pi),5))] # P is the point on the curve"
   ]
  },
  {
   "cell_type": "code",
   "execution_count": 11,
   "metadata": {},
   "outputs": [
    {
     "data": {
      "text/plain": [
       "2-element Vector{Float64}:\n",
       " -17.978721678702158\n",
       "   1.7168151517474148"
      ]
     },
     "execution_count": 11,
     "metadata": {},
     "output_type": "execute_result"
    }
   ],
   "source": [
    "pq=*(/(1,kappa),*(/(1,sqrt(+(1,^(sec(/(*(2,pi),5)),4)))),[-a1;1])) # Q is the centre of the osculating circle"
   ]
  },
  {
   "cell_type": "code",
   "execution_count": 21,
   "metadata": {},
   "outputs": [
    {
     "data": {
      "text/plain": [
       "2-element Vector{Float64}:\n",
       " -16.72208461726624\n",
       "   4.794498688922667"
      ]
     },
     "execution_count": 21,
     "metadata": {},
     "output_type": "execute_result"
    }
   ],
   "source": [
    "oq=+(op,pq)"
   ]
  },
  {
   "cell_type": "markdown",
   "metadata": {},
   "source": [
    "Since the tangent vector at $t=\\frac{2\\pi}{5}$ for $\\vec{r}(t)=(t,\\tan{}t)$ is $\\left(1,\\sec^2\\frac{2\\pi}{5}\\right)$, the unit normal vector is\n",
    "$$\n",
    "\\vec{N}=\\frac{1}{\\sqrt{1+\\sec^4\\frac{2\\pi}{5}}}\\left[\\begin{array}{c}-\\sec^2\\frac{2\\pi}{5}\\\\1\\end{array}\\right]\n",
    "$$\n",
    "The circle equation is\n",
    "$$\n",
    "\\left(x+16.7221\\right)^{2}+\\left(y-4.7945\\right)^{2}=18.061^{2}\n",
    "$$"
   ]
  },
  {
   "cell_type": "code",
   "execution_count": 37,
   "metadata": {},
   "outputs": [
    {
     "data": {
      "image/svg+xml": [
       "<?xml version=\"1.0\" encoding=\"utf-8\"?>\n",
       "<svg xmlns=\"http://www.w3.org/2000/svg\" xmlns:xlink=\"http://www.w3.org/1999/xlink\" width=\"600\" height=\"400\" viewBox=\"0 0 2400 1600\">\n",
       "<defs>\n",
       "  <clipPath id=\"clip750\">\n",
       "    <rect x=\"0\" y=\"0\" width=\"2400\" height=\"1600\"/>\n",
       "  </clipPath>\n",
       "</defs>\n",
       "<path clip-path=\"url(#clip750)\" d=\"\n",
       "M0 1600 L2400 1600 L2400 0 L0 0  Z\n",
       "  \" fill=\"#ffffff\" fill-rule=\"evenodd\" fill-opacity=\"1\"/>\n",
       "<defs>\n",
       "  <clipPath id=\"clip751\">\n",
       "    <rect x=\"480\" y=\"0\" width=\"1681\" height=\"1600\"/>\n",
       "  </clipPath>\n",
       "</defs>\n",
       "<path clip-path=\"url(#clip750)\" d=\"\n",
       "M178.867 1486.45 L2352.76 1486.45 L2352.76 47.2441 L178.867 47.2441  Z\n",
       "  \" fill=\"#ffffff\" fill-rule=\"evenodd\" fill-opacity=\"1\"/>\n",
       "<defs>\n",
       "  <clipPath id=\"clip752\">\n",
       "    <rect x=\"178\" y=\"47\" width=\"2175\" height=\"1440\"/>\n",
       "  </clipPath>\n",
       "</defs>\n",
       "<polyline clip-path=\"url(#clip752)\" style=\"stroke:#000000; stroke-linecap:butt; stroke-linejoin:round; stroke-width:2; stroke-opacity:0.1; fill:none\" points=\"\n",
       "  407.418,1486.45 407.418,47.2441 \n",
       "  \"/>\n",
       "<polyline clip-path=\"url(#clip752)\" style=\"stroke:#000000; stroke-linecap:butt; stroke-linejoin:round; stroke-width:2; stroke-opacity:0.1; fill:none\" points=\"\n",
       "  774.83,1486.45 774.83,47.2441 \n",
       "  \"/>\n",
       "<polyline clip-path=\"url(#clip752)\" style=\"stroke:#000000; stroke-linecap:butt; stroke-linejoin:round; stroke-width:2; stroke-opacity:0.1; fill:none\" points=\"\n",
       "  1142.24,1486.45 1142.24,47.2441 \n",
       "  \"/>\n",
       "<polyline clip-path=\"url(#clip752)\" style=\"stroke:#000000; stroke-linecap:butt; stroke-linejoin:round; stroke-width:2; stroke-opacity:0.1; fill:none\" points=\"\n",
       "  1509.65,1486.45 1509.65,47.2441 \n",
       "  \"/>\n",
       "<polyline clip-path=\"url(#clip752)\" style=\"stroke:#000000; stroke-linecap:butt; stroke-linejoin:round; stroke-width:2; stroke-opacity:0.1; fill:none\" points=\"\n",
       "  1877.07,1486.45 1877.07,47.2441 \n",
       "  \"/>\n",
       "<polyline clip-path=\"url(#clip752)\" style=\"stroke:#000000; stroke-linecap:butt; stroke-linejoin:round; stroke-width:2; stroke-opacity:0.1; fill:none\" points=\"\n",
       "  2244.48,1486.45 2244.48,47.2441 \n",
       "  \"/>\n",
       "<polyline clip-path=\"url(#clip750)\" style=\"stroke:#000000; stroke-linecap:butt; stroke-linejoin:round; stroke-width:4; stroke-opacity:1; fill:none\" points=\"\n",
       "  178.867,1486.45 2352.76,1486.45 \n",
       "  \"/>\n",
       "<polyline clip-path=\"url(#clip750)\" style=\"stroke:#000000; stroke-linecap:butt; stroke-linejoin:round; stroke-width:4; stroke-opacity:1; fill:none\" points=\"\n",
       "  407.418,1486.45 407.418,1467.55 \n",
       "  \"/>\n",
       "<polyline clip-path=\"url(#clip750)\" style=\"stroke:#000000; stroke-linecap:butt; stroke-linejoin:round; stroke-width:4; stroke-opacity:1; fill:none\" points=\"\n",
       "  774.83,1486.45 774.83,1467.55 \n",
       "  \"/>\n",
       "<polyline clip-path=\"url(#clip750)\" style=\"stroke:#000000; stroke-linecap:butt; stroke-linejoin:round; stroke-width:4; stroke-opacity:1; fill:none\" points=\"\n",
       "  1142.24,1486.45 1142.24,1467.55 \n",
       "  \"/>\n",
       "<polyline clip-path=\"url(#clip750)\" style=\"stroke:#000000; stroke-linecap:butt; stroke-linejoin:round; stroke-width:4; stroke-opacity:1; fill:none\" points=\"\n",
       "  1509.65,1486.45 1509.65,1467.55 \n",
       "  \"/>\n",
       "<polyline clip-path=\"url(#clip750)\" style=\"stroke:#000000; stroke-linecap:butt; stroke-linejoin:round; stroke-width:4; stroke-opacity:1; fill:none\" points=\"\n",
       "  1877.07,1486.45 1877.07,1467.55 \n",
       "  \"/>\n",
       "<polyline clip-path=\"url(#clip750)\" style=\"stroke:#000000; stroke-linecap:butt; stroke-linejoin:round; stroke-width:4; stroke-opacity:1; fill:none\" points=\"\n",
       "  2244.48,1486.45 2244.48,1467.55 \n",
       "  \"/>\n",
       "<path clip-path=\"url(#clip750)\" d=\"M361.48 1532.02 L391.156 1532.02 L391.156 1535.95 L361.48 1535.95 L361.48 1532.02 Z\" fill=\"#000000\" fill-rule=\"evenodd\" fill-opacity=\"1\" /><path clip-path=\"url(#clip750)\" d=\"M414.096 1518.36 L402.29 1536.81 L414.096 1536.81 L414.096 1518.36 M412.869 1514.29 L418.749 1514.29 L418.749 1536.81 L423.679 1536.81 L423.679 1540.7 L418.749 1540.7 L418.749 1548.85 L414.096 1548.85 L414.096 1540.7 L398.494 1540.7 L398.494 1536.19 L412.869 1514.29 Z\" fill=\"#000000\" fill-rule=\"evenodd\" fill-opacity=\"1\" /><path clip-path=\"url(#clip750)\" d=\"M441.411 1517.37 Q437.799 1517.37 435.971 1520.93 Q434.165 1524.47 434.165 1531.6 Q434.165 1538.71 435.971 1542.27 Q437.799 1545.82 441.411 1545.82 Q445.045 1545.82 446.85 1542.27 Q448.679 1538.71 448.679 1531.6 Q448.679 1524.47 446.85 1520.93 Q445.045 1517.37 441.411 1517.37 M441.411 1513.66 Q447.221 1513.66 450.276 1518.27 Q453.355 1522.85 453.355 1531.6 Q453.355 1540.33 450.276 1544.94 Q447.221 1549.52 441.411 1549.52 Q435.6 1549.52 432.522 1544.94 Q429.466 1540.33 429.466 1531.6 Q429.466 1522.85 432.522 1518.27 Q435.6 1513.66 441.411 1513.66 Z\" fill=\"#000000\" fill-rule=\"evenodd\" fill-opacity=\"1\" /><path clip-path=\"url(#clip750)\" d=\"M728.892 1532.02 L758.568 1532.02 L758.568 1535.95 L728.892 1535.95 L728.892 1532.02 Z\" fill=\"#000000\" fill-rule=\"evenodd\" fill-opacity=\"1\" /><path clip-path=\"url(#clip750)\" d=\"M782.827 1530.21 Q786.184 1530.93 788.059 1533.2 Q789.957 1535.47 789.957 1538.8 Q789.957 1543.92 786.438 1546.72 Q782.92 1549.52 776.438 1549.52 Q774.262 1549.52 771.948 1549.08 Q769.656 1548.66 767.202 1547.81 L767.202 1543.29 Q769.147 1544.43 771.462 1545.01 Q773.776 1545.58 776.299 1545.58 Q780.698 1545.58 782.989 1543.85 Q785.304 1542.11 785.304 1538.8 Q785.304 1535.75 783.151 1534.03 Q781.022 1532.3 777.202 1532.3 L773.174 1532.3 L773.174 1528.45 L777.387 1528.45 Q780.836 1528.45 782.665 1527.09 Q784.494 1525.7 784.494 1523.11 Q784.494 1520.45 782.596 1519.03 Q780.721 1517.6 777.202 1517.6 Q775.281 1517.6 773.082 1518.01 Q770.883 1518.43 768.244 1519.31 L768.244 1515.14 Q770.906 1514.4 773.221 1514.03 Q775.559 1513.66 777.619 1513.66 Q782.943 1513.66 786.045 1516.09 Q789.147 1518.5 789.147 1522.62 Q789.147 1525.49 787.503 1527.48 Q785.86 1529.45 782.827 1530.21 Z\" fill=\"#000000\" fill-rule=\"evenodd\" fill-opacity=\"1\" /><path clip-path=\"url(#clip750)\" d=\"M808.822 1517.37 Q805.211 1517.37 803.383 1520.93 Q801.577 1524.47 801.577 1531.6 Q801.577 1538.71 803.383 1542.27 Q805.211 1545.82 808.822 1545.82 Q812.457 1545.82 814.262 1542.27 Q816.091 1538.71 816.091 1531.6 Q816.091 1524.47 814.262 1520.93 Q812.457 1517.37 808.822 1517.37 M808.822 1513.66 Q814.633 1513.66 817.688 1518.27 Q820.767 1522.85 820.767 1531.6 Q820.767 1540.33 817.688 1544.94 Q814.633 1549.52 808.822 1549.52 Q803.012 1549.52 799.934 1544.94 Q796.878 1540.33 796.878 1531.6 Q796.878 1522.85 799.934 1518.27 Q803.012 1513.66 808.822 1513.66 Z\" fill=\"#000000\" fill-rule=\"evenodd\" fill-opacity=\"1\" /><path clip-path=\"url(#clip750)\" d=\"M1096.3 1532.02 L1125.98 1532.02 L1125.98 1535.95 L1096.3 1535.95 L1096.3 1532.02 Z\" fill=\"#000000\" fill-rule=\"evenodd\" fill-opacity=\"1\" /><path clip-path=\"url(#clip750)\" d=\"M1140.1 1544.91 L1156.42 1544.91 L1156.42 1548.85 L1134.48 1548.85 L1134.48 1544.91 Q1137.14 1542.16 1141.72 1537.53 Q1146.33 1532.88 1147.51 1531.53 Q1149.75 1529.01 1150.63 1527.27 Q1151.54 1525.51 1151.54 1523.82 Q1151.54 1521.07 1149.59 1519.33 Q1147.67 1517.6 1144.57 1517.6 Q1142.37 1517.6 1139.92 1518.36 Q1137.48 1519.13 1134.71 1520.68 L1134.71 1515.95 Q1137.53 1514.82 1139.98 1514.24 Q1142.44 1513.66 1144.48 1513.66 Q1149.85 1513.66 1153.04 1516.35 Q1156.23 1519.03 1156.23 1523.52 Q1156.23 1525.65 1155.42 1527.57 Q1154.64 1529.47 1152.53 1532.07 Q1151.95 1532.74 1148.85 1535.95 Q1145.75 1539.15 1140.1 1544.91 Z\" fill=\"#000000\" fill-rule=\"evenodd\" fill-opacity=\"1\" /><path clip-path=\"url(#clip750)\" d=\"M1176.23 1517.37 Q1172.62 1517.37 1170.79 1520.93 Q1168.99 1524.47 1168.99 1531.6 Q1168.99 1538.71 1170.79 1542.27 Q1172.62 1545.82 1176.23 1545.82 Q1179.87 1545.82 1181.67 1542.27 Q1183.5 1538.71 1183.5 1531.6 Q1183.5 1524.47 1181.67 1520.93 Q1179.87 1517.37 1176.23 1517.37 M1176.23 1513.66 Q1182.04 1513.66 1185.1 1518.27 Q1188.18 1522.85 1188.18 1531.6 Q1188.18 1540.33 1185.1 1544.94 Q1182.04 1549.52 1176.23 1549.52 Q1170.42 1549.52 1167.35 1544.94 Q1164.29 1540.33 1164.29 1531.6 Q1164.29 1522.85 1167.35 1518.27 Q1170.42 1513.66 1176.23 1513.66 Z\" fill=\"#000000\" fill-rule=\"evenodd\" fill-opacity=\"1\" /><path clip-path=\"url(#clip750)\" d=\"M1463.72 1532.02 L1493.39 1532.02 L1493.39 1535.95 L1463.72 1535.95 L1463.72 1532.02 Z\" fill=\"#000000\" fill-rule=\"evenodd\" fill-opacity=\"1\" /><path clip-path=\"url(#clip750)\" d=\"M1504.29 1544.91 L1511.93 1544.91 L1511.93 1518.55 L1503.62 1520.21 L1503.62 1515.95 L1511.89 1514.29 L1516.56 1514.29 L1516.56 1544.91 L1524.2 1544.91 L1524.2 1548.85 L1504.29 1548.85 L1504.29 1544.91 Z\" fill=\"#000000\" fill-rule=\"evenodd\" fill-opacity=\"1\" /><path clip-path=\"url(#clip750)\" d=\"M1543.65 1517.37 Q1540.04 1517.37 1538.21 1520.93 Q1536.4 1524.47 1536.4 1531.6 Q1536.4 1538.71 1538.21 1542.27 Q1540.04 1545.82 1543.65 1545.82 Q1547.28 1545.82 1549.09 1542.27 Q1550.91 1538.71 1550.91 1531.6 Q1550.91 1524.47 1549.09 1520.93 Q1547.28 1517.37 1543.65 1517.37 M1543.65 1513.66 Q1549.46 1513.66 1552.51 1518.27 Q1555.59 1522.85 1555.59 1531.6 Q1555.59 1540.33 1552.51 1544.94 Q1549.46 1549.52 1543.65 1549.52 Q1537.84 1549.52 1534.76 1544.94 Q1531.7 1540.33 1531.7 1531.6 Q1531.7 1522.85 1534.76 1518.27 Q1537.84 1513.66 1543.65 1513.66 Z\" fill=\"#000000\" fill-rule=\"evenodd\" fill-opacity=\"1\" /><path clip-path=\"url(#clip750)\" d=\"M1877.07 1517.37 Q1873.45 1517.37 1871.63 1520.93 Q1869.82 1524.47 1869.82 1531.6 Q1869.82 1538.71 1871.63 1542.27 Q1873.45 1545.82 1877.07 1545.82 Q1880.7 1545.82 1882.5 1542.27 Q1884.33 1538.71 1884.33 1531.6 Q1884.33 1524.47 1882.5 1520.93 Q1880.7 1517.37 1877.07 1517.37 M1877.07 1513.66 Q1882.88 1513.66 1885.93 1518.27 Q1889.01 1522.85 1889.01 1531.6 Q1889.01 1540.33 1885.93 1544.94 Q1882.88 1549.52 1877.07 1549.52 Q1871.26 1549.52 1868.18 1544.94 Q1865.12 1540.33 1865.12 1531.6 Q1865.12 1522.85 1868.18 1518.27 Q1871.26 1513.66 1877.07 1513.66 Z\" fill=\"#000000\" fill-rule=\"evenodd\" fill-opacity=\"1\" /><path clip-path=\"url(#clip750)\" d=\"M2219.16 1544.91 L2226.8 1544.91 L2226.8 1518.55 L2218.49 1520.21 L2218.49 1515.95 L2226.76 1514.29 L2231.43 1514.29 L2231.43 1544.91 L2239.07 1544.91 L2239.07 1548.85 L2219.16 1548.85 L2219.16 1544.91 Z\" fill=\"#000000\" fill-rule=\"evenodd\" fill-opacity=\"1\" /><path clip-path=\"url(#clip750)\" d=\"M2258.52 1517.37 Q2254.91 1517.37 2253.08 1520.93 Q2251.27 1524.47 2251.27 1531.6 Q2251.27 1538.71 2253.08 1542.27 Q2254.91 1545.82 2258.52 1545.82 Q2262.15 1545.82 2263.96 1542.27 Q2265.78 1538.71 2265.78 1531.6 Q2265.78 1524.47 2263.96 1520.93 Q2262.15 1517.37 2258.52 1517.37 M2258.52 1513.66 Q2264.33 1513.66 2267.38 1518.27 Q2270.46 1522.85 2270.46 1531.6 Q2270.46 1540.33 2267.38 1544.94 Q2264.33 1549.52 2258.52 1549.52 Q2252.71 1549.52 2249.63 1544.94 Q2246.57 1540.33 2246.57 1531.6 Q2246.57 1522.85 2249.63 1518.27 Q2252.71 1513.66 2258.52 1513.66 Z\" fill=\"#000000\" fill-rule=\"evenodd\" fill-opacity=\"1\" /><polyline clip-path=\"url(#clip752)\" style=\"stroke:#000000; stroke-linecap:butt; stroke-linejoin:round; stroke-width:2; stroke-opacity:0.1; fill:none\" points=\"\n",
       "  178.867,1295.02 2352.76,1295.02 \n",
       "  \"/>\n",
       "<polyline clip-path=\"url(#clip752)\" style=\"stroke:#000000; stroke-linecap:butt; stroke-linejoin:round; stroke-width:2; stroke-opacity:0.1; fill:none\" points=\"\n",
       "  178.867,927.613 2352.76,927.613 \n",
       "  \"/>\n",
       "<polyline clip-path=\"url(#clip752)\" style=\"stroke:#000000; stroke-linecap:butt; stroke-linejoin:round; stroke-width:2; stroke-opacity:0.1; fill:none\" points=\"\n",
       "  178.867,560.201 2352.76,560.201 \n",
       "  \"/>\n",
       "<polyline clip-path=\"url(#clip752)\" style=\"stroke:#000000; stroke-linecap:butt; stroke-linejoin:round; stroke-width:2; stroke-opacity:0.1; fill:none\" points=\"\n",
       "  178.867,192.789 2352.76,192.789 \n",
       "  \"/>\n",
       "<polyline clip-path=\"url(#clip750)\" style=\"stroke:#000000; stroke-linecap:butt; stroke-linejoin:round; stroke-width:4; stroke-opacity:1; fill:none\" points=\"\n",
       "  178.867,1486.45 178.867,47.2441 \n",
       "  \"/>\n",
       "<polyline clip-path=\"url(#clip750)\" style=\"stroke:#000000; stroke-linecap:butt; stroke-linejoin:round; stroke-width:4; stroke-opacity:1; fill:none\" points=\"\n",
       "  178.867,1295.02 197.764,1295.02 \n",
       "  \"/>\n",
       "<polyline clip-path=\"url(#clip750)\" style=\"stroke:#000000; stroke-linecap:butt; stroke-linejoin:round; stroke-width:4; stroke-opacity:1; fill:none\" points=\"\n",
       "  178.867,927.613 197.764,927.613 \n",
       "  \"/>\n",
       "<polyline clip-path=\"url(#clip750)\" style=\"stroke:#000000; stroke-linecap:butt; stroke-linejoin:round; stroke-width:4; stroke-opacity:1; fill:none\" points=\"\n",
       "  178.867,560.201 197.764,560.201 \n",
       "  \"/>\n",
       "<polyline clip-path=\"url(#clip750)\" style=\"stroke:#000000; stroke-linecap:butt; stroke-linejoin:round; stroke-width:4; stroke-opacity:1; fill:none\" points=\"\n",
       "  178.867,192.789 197.764,192.789 \n",
       "  \"/>\n",
       "<path clip-path=\"url(#clip750)\" d=\"M50.9921 1295.48 L80.6679 1295.48 L80.6679 1299.41 L50.9921 1299.41 L50.9921 1295.48 Z\" fill=\"#000000\" fill-rule=\"evenodd\" fill-opacity=\"1\" /><path clip-path=\"url(#clip750)\" d=\"M91.5706 1308.37 L99.2095 1308.37 L99.2095 1282 L90.8993 1283.67 L90.8993 1279.41 L99.1632 1277.74 L103.839 1277.74 L103.839 1308.37 L111.478 1308.37 L111.478 1312.3 L91.5706 1312.3 L91.5706 1308.37 Z\" fill=\"#000000\" fill-rule=\"evenodd\" fill-opacity=\"1\" /><path clip-path=\"url(#clip750)\" d=\"M130.922 1280.82 Q127.311 1280.82 125.482 1284.39 Q123.677 1287.93 123.677 1295.06 Q123.677 1302.17 125.482 1305.73 Q127.311 1309.27 130.922 1309.27 Q134.556 1309.27 136.362 1305.73 Q138.191 1302.17 138.191 1295.06 Q138.191 1287.93 136.362 1284.39 Q134.556 1280.82 130.922 1280.82 M130.922 1277.12 Q136.732 1277.12 139.788 1281.73 Q142.867 1286.31 142.867 1295.06 Q142.867 1303.79 139.788 1308.39 Q136.732 1312.98 130.922 1312.98 Q125.112 1312.98 122.033 1308.39 Q118.978 1303.79 118.978 1295.06 Q118.978 1286.31 122.033 1281.73 Q125.112 1277.12 130.922 1277.12 Z\" fill=\"#000000\" fill-rule=\"evenodd\" fill-opacity=\"1\" /><path clip-path=\"url(#clip750)\" d=\"M130.922 913.411 Q127.311 913.411 125.482 916.976 Q123.677 920.518 123.677 927.647 Q123.677 934.754 125.482 938.319 Q127.311 941.86 130.922 941.86 Q134.556 941.86 136.362 938.319 Q138.191 934.754 138.191 927.647 Q138.191 920.518 136.362 916.976 Q134.556 913.411 130.922 913.411 M130.922 909.708 Q136.732 909.708 139.788 914.314 Q142.867 918.898 142.867 927.647 Q142.867 936.374 139.788 940.981 Q136.732 945.564 130.922 945.564 Q125.112 945.564 122.033 940.981 Q118.978 936.374 118.978 927.647 Q118.978 918.898 122.033 914.314 Q125.112 909.708 130.922 909.708 Z\" fill=\"#000000\" fill-rule=\"evenodd\" fill-opacity=\"1\" /><path clip-path=\"url(#clip750)\" d=\"M91.5706 573.546 L99.2095 573.546 L99.2095 547.18 L90.8993 548.847 L90.8993 544.588 L99.1632 542.921 L103.839 542.921 L103.839 573.546 L111.478 573.546 L111.478 577.481 L91.5706 577.481 L91.5706 573.546 Z\" fill=\"#000000\" fill-rule=\"evenodd\" fill-opacity=\"1\" /><path clip-path=\"url(#clip750)\" d=\"M130.922 546 Q127.311 546 125.482 549.564 Q123.677 553.106 123.677 560.236 Q123.677 567.342 125.482 570.907 Q127.311 574.449 130.922 574.449 Q134.556 574.449 136.362 570.907 Q138.191 567.342 138.191 560.236 Q138.191 553.106 136.362 549.564 Q134.556 546 130.922 546 M130.922 542.296 Q136.732 542.296 139.788 546.902 Q142.867 551.486 142.867 560.236 Q142.867 568.962 139.788 573.569 Q136.732 578.152 130.922 578.152 Q125.112 578.152 122.033 573.569 Q118.978 568.962 118.978 560.236 Q118.978 551.486 122.033 546.902 Q125.112 542.296 130.922 542.296 Z\" fill=\"#000000\" fill-rule=\"evenodd\" fill-opacity=\"1\" /><path clip-path=\"url(#clip750)\" d=\"M94.7882 206.134 L111.108 206.134 L111.108 210.069 L89.1632 210.069 L89.1632 206.134 Q91.8252 203.379 96.4085 198.75 Q101.015 194.097 102.196 192.754 Q104.441 190.231 105.321 188.495 Q106.223 186.736 106.223 185.046 Q106.223 182.291 104.279 180.555 Q102.358 178.819 99.2558 178.819 Q97.0567 178.819 94.603 179.583 Q92.1725 180.347 89.3947 181.898 L89.3947 177.176 Q92.2188 176.041 94.6724 175.463 Q97.1261 174.884 99.1632 174.884 Q104.534 174.884 107.728 177.569 Q110.922 180.254 110.922 184.745 Q110.922 186.875 110.112 188.796 Q109.325 190.694 107.219 193.287 Q106.64 193.958 103.538 197.176 Q100.436 200.37 94.7882 206.134 Z\" fill=\"#000000\" fill-rule=\"evenodd\" fill-opacity=\"1\" /><path clip-path=\"url(#clip750)\" d=\"M130.922 178.588 Q127.311 178.588 125.482 182.153 Q123.677 185.694 123.677 192.824 Q123.677 199.93 125.482 203.495 Q127.311 207.037 130.922 207.037 Q134.556 207.037 136.362 203.495 Q138.191 199.93 138.191 192.824 Q138.191 185.694 136.362 182.153 Q134.556 178.588 130.922 178.588 M130.922 174.884 Q136.732 174.884 139.788 179.49 Q142.867 184.074 142.867 192.824 Q142.867 201.551 139.788 206.157 Q136.732 210.74 130.922 210.74 Q125.112 210.74 122.033 206.157 Q118.978 201.551 118.978 192.824 Q118.978 184.074 122.033 179.49 Q125.112 174.884 130.922 174.884 Z\" fill=\"#000000\" fill-rule=\"evenodd\" fill-opacity=\"1\" /><polyline clip-path=\"url(#clip752)\" style=\"stroke:#009af9; stroke-linecap:butt; stroke-linejoin:round; stroke-width:8; stroke-opacity:1; fill:none\" points=\"\n",
       "  1926.24,751.457 1924.9,709.371 1920.9,667.455 1914.25,625.877 1904.97,584.804 1893.11,544.403 1878.71,504.835 1861.83,466.261 1842.53,428.834 1820.9,392.707 \n",
       "  1797.02,358.025 1771,324.926 1742.92,293.545 1712.91,264.008 1681.09,236.434 1647.58,210.934 1612.52,187.61 1576.06,166.556 1538.33,147.858 1499.49,131.59 \n",
       "  1459.7,117.818 1419.12,106.598 1377.9,97.9738 1336.22,91.9813 1294.25,88.6443 1252.15,87.9763 1210.09,89.9798 1168.24,94.6469 1126.77,101.959 1085.85,111.886 \n",
       "  1045.65,124.388 1006.31,139.416 968.009,156.908 930.894,176.794 895.114,198.993 860.815,223.418 828.134,249.969 797.202,278.539 768.145,309.013 741.079,341.269 \n",
       "  716.113,375.176 693.349,410.599 672.876,447.394 654.779,485.414 639.129,524.505 625.991,564.509 615.415,605.267 607.447,646.613 602.116,688.381 599.446,730.404 \n",
       "  599.446,772.511 602.116,814.533 607.447,856.301 615.415,897.647 625.991,938.405 639.129,978.41 654.779,1017.5 672.876,1055.52 693.349,1092.32 716.113,1127.74 \n",
       "  741.079,1161.65 768.145,1193.9 797.202,1224.38 828.134,1252.95 860.815,1279.5 895.114,1303.92 930.894,1326.12 968.009,1346.01 1006.31,1363.5 1045.65,1378.53 \n",
       "  1085.85,1391.03 1126.77,1400.96 1168.24,1408.27 1210.09,1412.93 1252.15,1414.94 1294.25,1414.27 1336.22,1410.93 1377.9,1404.94 1419.12,1396.32 1459.7,1385.1 \n",
       "  1499.49,1371.32 1538.33,1355.06 1576.06,1336.36 1612.52,1315.3 1647.58,1291.98 1681.09,1266.48 1712.91,1238.91 1742.92,1209.37 1771,1177.99 1797.02,1144.89 \n",
       "  1820.9,1110.21 1842.53,1074.08 1861.83,1036.65 1878.71,998.079 1893.11,958.512 1904.97,918.11 1914.25,877.038 1920.9,835.459 1924.9,793.543 1926.24,751.457 \n",
       "  \n",
       "  \"/>\n",
       "<polyline clip-path=\"url(#clip752)\" style=\"stroke:#e26f46; stroke-linecap:butt; stroke-linejoin:round; stroke-width:8; stroke-opacity:1; fill:none\" points=\"\n",
       "  1821.95,1445.72 1823.07,1289.79 1824.18,1205.61 1825.29,1152.84 1826.41,1116.61 1827.52,1090.15 1828.63,1069.95 1829.75,1053.99 1830.86,1041.05 1831.97,1030.33 \n",
       "  1833.09,1021.28 1834.2,1013.52 1835.31,1006.8 1836.43,1000.9 1837.54,995.667 1838.65,990.995 1839.77,986.787 1840.88,982.971 1841.99,979.488 1843.11,976.291 \n",
       "  1844.22,973.341 1845.33,970.605 1846.45,968.057 1847.56,965.673 1848.67,963.434 1849.79,961.324 1850.9,959.329 1852.01,957.435 1853.13,955.632 1854.24,953.91 \n",
       "  1855.35,952.261 1856.47,950.679 1857.58,949.155 1858.69,947.685 1859.81,946.262 1860.92,944.883 1862.03,943.542 1863.15,942.236 1864.26,940.961 1865.37,939.714 \n",
       "  1866.49,938.492 1867.6,937.291 1868.71,936.11 1869.83,934.945 1870.94,933.794 1872.06,932.654 1873.17,931.524 1874.28,930.402 1875.4,929.284 1876.51,928.17 \n",
       "  1877.62,927.056 1878.74,925.942 1879.85,924.824 1880.96,923.701 1882.08,922.571 1883.19,921.432 1884.3,920.281 1885.42,919.116 1886.53,917.934 1887.64,916.734 \n",
       "  1888.76,915.511 1889.87,914.264 1890.98,912.989 1892.1,911.684 1893.21,910.343 1894.32,908.964 1895.44,907.541 1896.55,906.071 1897.66,904.547 1898.78,902.964 \n",
       "  1899.89,901.316 1901,899.594 1902.12,897.791 1903.23,895.897 1904.34,893.901 1905.46,891.791 1906.57,889.553 1907.68,887.169 1908.8,884.621 1909.91,881.885 \n",
       "  1911.02,878.935 1912.14,875.738 1913.25,872.255 1914.36,868.439 1915.48,864.231 1916.59,859.558 1917.7,854.33 1918.82,848.429 1919.93,841.703 1921.04,833.95 \n",
       "  1922.16,824.9 1923.27,814.173 1924.38,801.231 1925.5,785.276 1926.61,765.075 1927.72,738.618 1928.84,702.386 1929.95,649.616 1931.06,565.435 1932.18,409.51 \n",
       "  \n",
       "  \"/>\n",
       "<circle clip-path=\"url(#clip752)\" cx=\"1923.24\" cy=\"814.535\" r=\"14\" fill=\"#3da44d\" fill-rule=\"evenodd\" fill-opacity=\"1\" stroke=\"#000000\" stroke-opacity=\"1\" stroke-width=\"3.2\"/>\n",
       "<path clip-path=\"url(#clip750)\" d=\"\n",
       "M1985.74 302.578 L2280.29 302.578 L2280.29 95.2176 L1985.74 95.2176  Z\n",
       "  \" fill=\"#ffffff\" fill-rule=\"evenodd\" fill-opacity=\"1\"/>\n",
       "<polyline clip-path=\"url(#clip750)\" style=\"stroke:#000000; stroke-linecap:butt; stroke-linejoin:round; stroke-width:4; stroke-opacity:1; fill:none\" points=\"\n",
       "  1985.74,302.578 2280.29,302.578 2280.29,95.2176 1985.74,95.2176 1985.74,302.578 \n",
       "  \"/>\n",
       "<polyline clip-path=\"url(#clip750)\" style=\"stroke:#009af9; stroke-linecap:butt; stroke-linejoin:round; stroke-width:4; stroke-opacity:1; fill:none\" points=\"\n",
       "  2009.9,147.058 2154.82,147.058 \n",
       "  \"/>\n",
       "<path clip-path=\"url(#clip750)\" d=\"M2192.82 166.745 Q2191.01 171.375 2189.3 172.787 Q2187.59 174.199 2184.72 174.199 L2181.31 174.199 L2181.31 170.634 L2183.81 170.634 Q2185.57 170.634 2186.54 169.8 Q2187.52 168.967 2188.7 165.865 L2189.46 163.921 L2178.98 138.412 L2183.49 138.412 L2191.59 158.689 L2199.69 138.412 L2204.21 138.412 L2192.82 166.745 Z\" fill=\"#000000\" fill-rule=\"evenodd\" fill-opacity=\"1\" /><path clip-path=\"url(#clip750)\" d=\"M2211.5 160.402 L2219.14 160.402 L2219.14 134.037 L2210.83 135.703 L2210.83 131.444 L2219.09 129.778 L2223.77 129.778 L2223.77 160.402 L2231.41 160.402 L2231.41 164.338 L2211.5 164.338 L2211.5 160.402 Z\" fill=\"#000000\" fill-rule=\"evenodd\" fill-opacity=\"1\" /><polyline clip-path=\"url(#clip750)\" style=\"stroke:#e26f46; stroke-linecap:butt; stroke-linejoin:round; stroke-width:4; stroke-opacity:1; fill:none\" points=\"\n",
       "  2009.9,198.898 2154.82,198.898 \n",
       "  \"/>\n",
       "<path clip-path=\"url(#clip750)\" d=\"M2192.82 218.585 Q2191.01 223.215 2189.3 224.627 Q2187.59 226.039 2184.72 226.039 L2181.31 226.039 L2181.31 222.474 L2183.81 222.474 Q2185.57 222.474 2186.54 221.64 Q2187.52 220.807 2188.7 217.705 L2189.46 215.761 L2178.98 190.252 L2183.49 190.252 L2191.59 210.529 L2199.69 190.252 L2204.21 190.252 L2192.82 218.585 Z\" fill=\"#000000\" fill-rule=\"evenodd\" fill-opacity=\"1\" /><path clip-path=\"url(#clip750)\" d=\"M2214.72 212.242 L2231.04 212.242 L2231.04 216.178 L2209.09 216.178 L2209.09 212.242 Q2211.75 209.488 2216.34 204.858 Q2220.94 200.205 2222.12 198.863 Q2224.37 196.34 2225.25 194.604 Q2226.15 192.844 2226.15 191.155 Q2226.15 188.4 2224.21 186.664 Q2222.29 184.928 2219.18 184.928 Q2216.98 184.928 2214.53 185.692 Q2212.1 186.455 2209.32 188.006 L2209.32 183.284 Q2212.15 182.15 2214.6 181.571 Q2217.05 180.993 2219.09 180.993 Q2224.46 180.993 2227.66 183.678 Q2230.85 186.363 2230.85 190.854 Q2230.85 192.983 2230.04 194.905 Q2229.25 196.803 2227.15 199.395 Q2226.57 200.067 2223.47 203.284 Q2220.36 206.479 2214.72 212.242 Z\" fill=\"#000000\" fill-rule=\"evenodd\" fill-opacity=\"1\" /><circle clip-path=\"url(#clip750)\" cx=\"2082.36\" cy=\"250.738\" r=\"23\" fill=\"#3da44d\" fill-rule=\"evenodd\" fill-opacity=\"1\" stroke=\"#000000\" stroke-opacity=\"1\" stroke-width=\"5.12\"/>\n",
       "<path clip-path=\"url(#clip750)\" d=\"M2192.82 270.425 Q2191.01 275.055 2189.3 276.467 Q2187.59 277.879 2184.72 277.879 L2181.31 277.879 L2181.31 274.314 L2183.81 274.314 Q2185.57 274.314 2186.54 273.48 Q2187.52 272.647 2188.7 269.545 L2189.46 267.601 L2178.98 242.092 L2183.49 242.092 L2191.59 262.369 L2199.69 242.092 L2204.21 242.092 L2192.82 270.425 Z\" fill=\"#000000\" fill-rule=\"evenodd\" fill-opacity=\"1\" /><path clip-path=\"url(#clip750)\" d=\"M2224.85 249.383 Q2228.21 250.101 2230.09 252.369 Q2231.98 254.638 2231.98 257.971 Q2231.98 263.087 2228.47 265.888 Q2224.95 268.689 2218.47 268.689 Q2216.29 268.689 2213.98 268.249 Q2211.68 267.832 2209.23 266.976 L2209.23 262.462 Q2211.17 263.596 2213.49 264.175 Q2215.8 264.754 2218.33 264.754 Q2222.73 264.754 2225.02 263.018 Q2227.33 261.281 2227.33 257.971 Q2227.33 254.916 2225.18 253.203 Q2223.05 251.467 2219.23 251.467 L2215.2 251.467 L2215.2 247.624 L2219.41 247.624 Q2222.86 247.624 2224.69 246.258 Q2226.52 244.87 2226.52 242.277 Q2226.52 239.615 2224.62 238.203 Q2222.75 236.768 2219.23 236.768 Q2217.31 236.768 2215.11 237.184 Q2212.91 237.601 2210.27 238.481 L2210.27 234.314 Q2212.93 233.573 2215.25 233.203 Q2217.59 232.833 2219.65 232.833 Q2224.97 232.833 2228.07 235.263 Q2231.17 237.67 2231.17 241.791 Q2231.17 244.661 2229.53 246.652 Q2227.89 248.62 2224.85 249.383 Z\" fill=\"#000000\" fill-rule=\"evenodd\" fill-opacity=\"1\" /><path clip-path=\"url(#clip750)\" d=\"M1953.46 791.02 L1953.46 813.745 L1963.75 813.745 Q1969.46 813.745 1972.58 810.788 Q1975.7 807.831 1975.7 802.362 Q1975.7 796.934 1972.58 793.977 Q1969.46 791.02 1963.75 791.02 L1953.46 791.02 M1945.28 784.295 L1963.75 784.295 Q1973.92 784.295 1979.11 788.913 Q1984.33 793.491 1984.33 802.362 Q1984.33 811.315 1979.11 815.892 Q1973.92 820.47 1963.75 820.47 L1953.46 820.47 L1953.46 844.775 L1945.28 844.775 L1945.28 784.295 Z\" fill=\"#000000\" fill-rule=\"evenodd\" fill-opacity=\"1\" /></svg>\n"
      ]
     },
     "execution_count": 37,
     "metadata": {},
     "output_type": "execute_result"
    }
   ],
   "source": [
    "using Plots\n",
    "rng=range(0,stop=2*pi,length=100)\n",
    "rmg=range(-1.5,stop=1.5,length=100)\n",
    "plot(oq[1,1].+rho.*cos.(rng),oq[2,1].+rho.*sin.(rng),aspect_ratio=:equal,line=2)\n",
    "plot!(rmg,tan.(rmg),line=2)\n",
    "scatter!([((2*pi)/5)],[tan((2*pi)/5)],annotations=(((2*pi)/5)+0.6,tan((2*pi)/5),Plots.text(\"P\",:left)))"
   ]
  },
  {
   "cell_type": "markdown",
   "metadata": {},
   "source": [
    "<h3>\n",
    "    Lab Sheet 13 Problem 7\n",
    "</h3>"
   ]
  },
  {
   "cell_type": "markdown",
   "metadata": {},
   "source": [
    "Calculate the distance along the great circle between Vancouver\n",
    "($49^{\\circ}15'$N, $123^{\\circ}6'$W) and Palma de Mallorca\n",
    "($39^{\\circ}34'$N, $2^{\\circ}39'$E). Hint: find the rectangular\n",
    "coordinates and then calculate the angle between the Earth's radius\n",
    "ending in Vancouver and the radius ending in PdM."
   ]
  },
  {
   "cell_type": "code",
   "execution_count": 38,
   "metadata": {},
   "outputs": [
    {
     "data": {
      "text/plain": [
       "6371"
      ]
     },
     "execution_count": 38,
     "metadata": {},
     "output_type": "execute_result"
    }
   ],
   "source": [
    "R=6371"
   ]
  },
  {
   "cell_type": "code",
   "execution_count": 51,
   "metadata": {},
   "outputs": [
    {
     "data": {
      "text/plain": [
       "0.7112216701876892"
      ]
     },
     "execution_count": 51,
     "metadata": {},
     "output_type": "execute_result"
    }
   ],
   "source": [
    "phiV=-(/(pi,2),*(+(49,/(15,60)),/(pi,180)))"
   ]
  },
  {
   "cell_type": "code",
   "execution_count": 52,
   "metadata": {},
   "outputs": [
    {
     "data": {
      "text/plain": [
       "4.134684997974567"
      ]
     },
     "execution_count": 52,
     "metadata": {},
     "output_type": "execute_result"
    }
   ],
   "source": [
    "thetaV=-(*(2,pi),*(+(123,/(6,60)),/(pi,180)))"
   ]
  },
  {
   "cell_type": "code",
   "execution_count": 53,
   "metadata": {},
   "outputs": [
    {
     "data": {
      "text/plain": [
       "0.8802277194224735"
      ]
     },
     "execution_count": 53,
     "metadata": {},
     "output_type": "execute_result"
    }
   ],
   "source": [
    "phiP=-(/(pi,2),*(+(39,/(34,60)),/(pi,180)))"
   ]
  },
  {
   "cell_type": "code",
   "execution_count": 54,
   "metadata": {},
   "outputs": [
    {
     "data": {
      "text/plain": [
       "0.046251225177849735"
      ]
     },
     "execution_count": 54,
     "metadata": {},
     "output_type": "execute_result"
    }
   ],
   "source": [
    "thetaP=*(+(2,/(39,60)),/(pi,180))"
   ]
  },
  {
   "cell_type": "code",
   "execution_count": 55,
   "metadata": {},
   "outputs": [
    {
     "data": {
      "text/plain": [
       "-2271.0919096577454"
      ]
     },
     "execution_count": 55,
     "metadata": {},
     "output_type": "execute_result"
    }
   ],
   "source": [
    "xV=*(R,sin(phiV),cos(thetaV))"
   ]
  },
  {
   "cell_type": "code",
   "execution_count": 56,
   "metadata": {},
   "outputs": [
    {
     "data": {
      "text/plain": [
       "-3483.8479546043604"
      ]
     },
     "execution_count": 56,
     "metadata": {},
     "output_type": "execute_result"
    }
   ],
   "source": [
    "yV=*(R,sin(phiV),sin(thetaV))"
   ]
  },
  {
   "cell_type": "code",
   "execution_count": 57,
   "metadata": {},
   "outputs": [
    {
     "data": {
      "text/plain": [
       "4826.44651551078"
      ]
     },
     "execution_count": 57,
     "metadata": {},
     "output_type": "execute_result"
    }
   ],
   "source": [
    "zV=*(R,cos(phiV))"
   ]
  },
  {
   "cell_type": "code",
   "execution_count": 58,
   "metadata": {},
   "outputs": [
    {
     "data": {
      "text/plain": [
       "4906.049516779073"
      ]
     },
     "execution_count": 58,
     "metadata": {},
     "output_type": "execute_result"
    }
   ],
   "source": [
    "xP=*(R,sin(phiP),cos(thetaP))"
   ]
  },
  {
   "cell_type": "code",
   "execution_count": 59,
   "metadata": {},
   "outputs": [
    {
     "data": {
      "text/plain": [
       "227.07274020261133"
      ]
     },
     "execution_count": 59,
     "metadata": {},
     "output_type": "execute_result"
    }
   ],
   "source": [
    "yP=*(R,sin(phiP),sin(thetaP))"
   ]
  },
  {
   "cell_type": "code",
   "execution_count": 60,
   "metadata": {},
   "outputs": [
    {
     "data": {
      "text/plain": [
       "4058.1716461441974"
      ]
     },
     "execution_count": 60,
     "metadata": {},
     "output_type": "execute_result"
    }
   ],
   "source": [
    "zP=*(R,cos(phiP))"
   ]
  },
  {
   "cell_type": "code",
   "execution_count": 61,
   "metadata": {},
   "outputs": [
    {
     "data": {
      "text/plain": [
       "3-element Vector{Float64}:\n",
       " -2271.0919096577454\n",
       " -3483.8479546043604\n",
       "  4826.44651551078"
      ]
     },
     "execution_count": 61,
     "metadata": {},
     "output_type": "execute_result"
    }
   ],
   "source": [
    "V=[xV;yV;zV]"
   ]
  },
  {
   "cell_type": "code",
   "execution_count": 62,
   "metadata": {},
   "outputs": [
    {
     "data": {
      "text/plain": [
       "3-element Vector{Float64}:\n",
       " 4906.049516779073\n",
       "  227.07274020261133\n",
       " 4058.1716461441974"
      ]
     },
     "execution_count": 62,
     "metadata": {},
     "output_type": "execute_result"
    }
   ],
   "source": [
    "P=[xP;yP;zP]"
   ]
  },
  {
   "cell_type": "code",
   "execution_count": 64,
   "metadata": {},
   "outputs": [],
   "source": [
    "using LinearAlgebra"
   ]
  },
  {
   "cell_type": "code",
   "execution_count": 66,
   "metadata": {},
   "outputs": [
    {
     "data": {
      "text/plain": [
       "1.381105972904482"
      ]
     },
     "execution_count": 66,
     "metadata": {},
     "output_type": "execute_result"
    }
   ],
   "source": [
    "angle=acos(/(dot(V,P),*(sqrt(*(transpose(V),V)),sqrt(*(transpose(P),P)))))"
   ]
  },
  {
   "cell_type": "code",
   "execution_count": 75,
   "metadata": {},
   "outputs": [
    {
     "data": {
      "text/plain": [
       "8799.026153374454"
      ]
     },
     "execution_count": 75,
     "metadata": {},
     "output_type": "execute_result"
    }
   ],
   "source": [
    "*(R,angle) # this is the answer in kilometres"
   ]
  },
  {
   "cell_type": "markdown",
   "metadata": {},
   "source": [
    "Alternatively, you can use the law of cosines in spherical trigonometry (not required in this course)."
   ]
  },
  {
   "cell_type": "markdown",
   "metadata": {},
   "source": [
    "<img src=\"./diagrams/VancouverPalma1.png\" width=\"50%\" height=\"50%\">"
   ]
  },
  {
   "cell_type": "markdown",
   "metadata": {},
   "source": [
    "Let $N$ be the angle $\\angle{}VNP$. Let $a=VN,b=NP,c=VP$. According to\n",
    "the law of cosines,\n",
    "\\begin{equation}\n",
    "  \\label{eq:aechiedu}\n",
    "  \\cos{}c=\\cos{}a\\cos{}b+\\sin{}a\\sin{}b{}cos{}N\n",
    "\\end{equation}"
   ]
  },
  {
   "cell_type": "code",
   "execution_count": 69,
   "metadata": {},
   "outputs": [
    {
     "data": {
      "text/plain": [
       "0.7112216701876892"
      ]
     },
     "execution_count": 69,
     "metadata": {},
     "output_type": "execute_result"
    }
   ],
   "source": [
    "a=phiV"
   ]
  },
  {
   "cell_type": "code",
   "execution_count": 70,
   "metadata": {},
   "outputs": [
    {
     "data": {
      "text/plain": [
       "0.8802277194224735"
      ]
     },
     "execution_count": 70,
     "metadata": {},
     "output_type": "execute_result"
    }
   ],
   "source": [
    "b=phiP"
   ]
  },
  {
   "cell_type": "code",
   "execution_count": 72,
   "metadata": {},
   "outputs": [
    {
     "data": {
      "text/plain": [
       "2.194751534382869"
      ]
     },
     "execution_count": 72,
     "metadata": {},
     "output_type": "execute_result"
    }
   ],
   "source": [
    "N=+(*(+(123,/(6,60)),/(pi,180)),*(+(2,/(39,60)),/(pi,180)))"
   ]
  },
  {
   "cell_type": "code",
   "execution_count": 73,
   "metadata": {},
   "outputs": [
    {
     "data": {
      "text/plain": [
       "1.3811059729044817"
      ]
     },
     "execution_count": 73,
     "metadata": {},
     "output_type": "execute_result"
    }
   ],
   "source": [
    "c=acos(+(*(cos(a),cos(b)),*(sin(a),sin(b),cos(N))))"
   ]
  },
  {
   "cell_type": "code",
   "execution_count": 74,
   "metadata": {},
   "outputs": [
    {
     "data": {
      "text/plain": [
       "8799.026153374452"
      ]
     },
     "execution_count": 74,
     "metadata": {},
     "output_type": "execute_result"
    }
   ],
   "source": [
    "*(R,c)"
   ]
  }
 ],
 "metadata": {
  "kernelspec": {
   "display_name": "Julia 1.7.2",
   "language": "julia",
   "name": "julia-1.7"
  },
  "language_info": {
   "file_extension": ".jl",
   "mimetype": "application/julia",
   "name": "julia",
   "version": "1.7.2"
  }
 },
 "nbformat": 4,
 "nbformat_minor": 4
}
