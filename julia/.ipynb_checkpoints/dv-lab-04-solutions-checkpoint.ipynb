{
 "cells": [
  {
   "cell_type": "markdown",
   "metadata": {
    "collapsed": false
   },
   "source": [
    "<h3>\n",
    "    Lab Sheet 4 Solutions\n",
    "</h3>"
   ]
  },
  {
   "cell_type": "markdown",
   "metadata": {
    "collapsed": false
   },
   "source": [
    "<h5>\n",
    "    Lab Sheet 4 Problem 1\n",
    "</h5>"
   ]
  },
  {
   "cell_type": "markdown",
   "metadata": {
    "collapsed": false
   },
   "source": [
    "A projectile is launched directly upward from the ground with an initial velocity of $v_{0}=90\\,m/s$.\n",
    "While in flight, it encounters a quadratic air resistance so that the ratio between the coefficient\n",
    "of quadratic air resistance $k$ and the mass $m$ of the projectile is $\\rho=\\frac{k}{m}=0.0075$ per metre.\n",
    "* Write the differential equation corresponding to Newton's Second Law in this circumstance.\n",
    "(You may need to consider different cases.) Assume that the projectile remains close enough\n",
    "to the surface of the Earth that it is appropriate to use $g=9.81\\,m/s^{2}$ for the acceleration due\n",
    "to gravity. Assume, as well, that its mass remains constant. Solve the differential equation to\n",
    "determine the velocity of the projectile as a function of time.\n",
    "* At what time does the projectile reach its maximum height, and what is that maximum height\n",
    "anyway?\n",
    "* At what time does the projectile return to the ground?"
   ]
  },
  {
   "cell_type": "code",
   "execution_count": 2,
   "metadata": {
    "collapsed": false
   },
   "outputs": [
    {
     "data": {
      "text/plain": [
       "0.0075"
      ]
     },
     "execution_count": 2,
     "metadata": {
     },
     "output_type": "execute_result"
    }
   ],
   "source": [
    "rr=0.0075"
   ]
  },
  {
   "cell_type": "code",
   "execution_count": 3,
   "metadata": {
    "collapsed": false
   },
   "outputs": [
    {
     "data": {
      "text/plain": [
       "9.81"
      ]
     },
     "execution_count": 3,
     "metadata": {
     },
     "output_type": "execute_result"
    }
   ],
   "source": [
    "g=9.81"
   ]
  },
  {
   "cell_type": "code",
   "execution_count": 66,
   "metadata": {
    "collapsed": false
   },
   "outputs": [
    {
     "data": {
      "text/plain": [
       "0.02765006318046655"
      ]
     },
     "execution_count": 66,
     "metadata": {
     },
     "output_type": "execute_result"
    }
   ],
   "source": [
    "psi=sqrt(rr/g)"
   ]
  },
  {
   "cell_type": "code",
   "execution_count": 71,
   "metadata": {
    "collapsed": false
   },
   "outputs": [
    {
     "data": {
      "text/plain": [
       "1.1886982195217906"
      ]
     },
     "execution_count": 71,
     "metadata": {
     },
     "output_type": "execute_result"
    }
   ],
   "source": [
    "C1=atan(90*sqrt(rr/g))"
   ]
  },
  {
   "cell_type": "code",
   "execution_count": 72,
   "metadata": {
    "collapsed": false,
    "scrolled": true
   },
   "outputs": [
    {
     "data": {
      "text/plain": [
       "v1 (generic function with 1 method)"
      ]
     },
     "execution_count": 72,
     "metadata": {
     },
     "output_type": "execute_result"
    }
   ],
   "source": [
    "v1(t)=sqrt(g/rr)*tan(-sqrt(rr*g)*t+C1)"
   ]
  },
  {
   "cell_type": "code",
   "execution_count": 64,
   "metadata": {
    "collapsed": false
   },
   "outputs": [
   ],
   "source": [
    "using Roots"
   ]
  },
  {
   "cell_type": "code",
   "execution_count": 69,
   "metadata": {
    "collapsed": false
   },
   "outputs": [
    {
     "data": {
      "text/plain": [
       "4.382344116304748"
      ]
     },
     "execution_count": 69,
     "metadata": {
     },
     "output_type": "execute_result"
    }
   ],
   "source": [
    "find_zero(v1,5)"
   ]
  },
  {
   "cell_type": "markdown",
   "metadata": {
    "collapsed": false
   },
   "source": [
    "Solve the differential equation\n",
    "$$\n",
    "\\frac{dv}{dt}=-g-\\rho{}v^{2}\n",
    "$$\n",
    "for the time when the projectile ascends. The solution (after separation) is\n",
    "$$\n",
    "v=\\frac{1}{\\psi}\\tan(C_{1}-g\\psi{}t)\n",
    "$$\n",
    "with $\\psi=\\sqrt{\\frac{\\rho}{g}}$ and $C_{1}=\\arctan(90\\psi)$ (to make $v(0)=90$)."
   ]
  },
  {
   "cell_type": "markdown",
   "metadata": {
    "collapsed": false
   },
   "source": [
    "When the projectile descends, the differential equation is\n",
    "$$\n",
    "\\frac{dv}{dt}=-g+\\rho{}v^{2}\n",
    "$$\n",
    "The solution (after separation) is\n",
    "$$\n",
    "v=\\frac{1}{\\psi}\\tanh(C_{2}-g\\psi{}t)\n",
    "$$\n",
    "with $\\psi=\\sqrt{\\frac{\\rho}{g}}$ and $C_{2}=g\\psi\\cdot{}4.38$ (to make $v(4.38)=0$)."
   ]
  },
  {
   "cell_type": "markdown",
   "metadata": {
    "collapsed": false
   },
   "source": [
    "The position functions are\n",
    "$$\n",
    "-\\frac{1}{g\\psi^{2}}\\ln\\left(\\sec(C_{1}-g\\psi{}t)\\right)+C_{3}\n",
    "$$\n",
    "for ascending and\n",
    "$$\n",
    "-\\frac{1}{g\\psi^{2}}\\ln\\left(\\cosh(C_{2}-g\\psi{}t)\\right)+C_{4}\n",
    "$$\n",
    "see the following graph for the path."
   ]
  },
  {
   "cell_type": "markdown",
   "metadata": {
    "collapsed": false
   },
   "source": [
    "<img src=\"./diagrams/leigheex.png\" width=\"70%\" height=\"70%\">"
   ]
  },
  {
   "cell_type": "code",
   "execution_count": 75,
   "metadata": {
    "collapsed": false
   },
   "outputs": [
    {
     "data": {
      "text/plain": [
       "1.1886982195217906"
      ]
     },
     "execution_count": 75,
     "metadata": {
     },
     "output_type": "execute_result"
    }
   ],
   "source": [
    "C2=g*psi*4.382344116304748"
   ]
  },
  {
   "cell_type": "code",
   "execution_count": 76,
   "metadata": {
    "collapsed": false
   },
   "outputs": [
    {
     "data": {
      "text/plain": [
       "v2 (generic function with 1 method)"
      ]
     },
     "execution_count": 76,
     "metadata": {
     },
     "output_type": "execute_result"
    }
   ],
   "source": [
    "v2(t)=(1/0.02765006318046655)*tanh(C2-g*0.02765006318046655*t)"
   ]
  },
  {
   "cell_type": "code",
   "execution_count": 86,
   "metadata": {
    "collapsed": false
   },
   "outputs": [
    {
     "data": {
      "text/plain": [
       "131.53740920808423"
      ]
     },
     "execution_count": 86,
     "metadata": {
     },
     "output_type": "execute_result"
    }
   ],
   "source": [
    "C3=(1/(g*psi^2))*log(sec(C1))"
   ]
  },
  {
   "cell_type": "code",
   "execution_count": 97,
   "metadata": {
    "collapsed": false
   },
   "outputs": [
    {
     "data": {
      "text/plain": [
       "s1 (generic function with 1 method)"
      ]
     },
     "execution_count": 97,
     "metadata": {
     },
     "output_type": "execute_result"
    }
   ],
   "source": [
    "s1(t)=(-1/(g*psi^2))*log(sec(C1-g*psi*t))+C3"
   ]
  },
  {
   "cell_type": "code",
   "execution_count": 98,
   "metadata": {
    "collapsed": false
   },
   "outputs": [
    {
     "data": {
      "text/plain": [
       "131.53740920808423"
      ]
     },
     "execution_count": 98,
     "metadata": {
     },
     "output_type": "execute_result"
    }
   ],
   "source": [
    "s1(4.382344116304748)"
   ]
  },
  {
   "cell_type": "code",
   "execution_count": 96,
   "metadata": {
    "collapsed": false
   },
   "outputs": [
    {
     "data": {
      "text/plain": [
       "131.53740920808423"
      ]
     },
     "execution_count": 96,
     "metadata": {
     },
     "output_type": "execute_result"
    }
   ],
   "source": [
    "C4=(1/(g*psi^2))*log(sec(C2-g*psi*4.382344116304748))+131.53740920808423"
   ]
  },
  {
   "cell_type": "code",
   "execution_count": 99,
   "metadata": {
    "collapsed": false
   },
   "outputs": [
    {
     "data": {
      "text/plain": [
       "s2 (generic function with 1 method)"
      ]
     },
     "execution_count": 99,
     "metadata": {
     },
     "output_type": "execute_result"
    }
   ],
   "source": [
    "s2(t)=(-1/(g*psi^2))*log(cosh(C2-g*psi*t))+C4"
   ]
  },
  {
   "cell_type": "code",
   "execution_count": 100,
   "metadata": {
    "collapsed": false
   },
   "outputs": [
    {
     "data": {
      "text/plain": [
       "10.439380910012924"
      ]
     },
     "execution_count": 100,
     "metadata": {
     },
     "output_type": "execute_result"
    }
   ],
   "source": [
    "find_zero(s2,10)"
   ]
  },
  {
   "cell_type": "markdown",
   "metadata": {
    "collapsed": false
   },
   "source": [
    "The projectile reaches its maximum height of $131.54$ metres at $t=4.3823$ seconds. It returns to the ground at $10.4394$ seconds."
   ]
  },
  {
   "cell_type": "markdown",
   "metadata": {
    "collapsed": false
   },
   "source": [
    "<h5>\n",
    "    Lab Sheet 4 Problem 2\n",
    "</h5>"
   ]
  },
  {
   "cell_type": "markdown",
   "metadata": {
    "collapsed": false
   },
   "source": [
    "Another model of a growth function for a limited population\n",
    "is given by the Gompertz function. Mobile phone uptake is modeled by\n",
    "the Gompertz function, where costs are initially high (so uptake is\n",
    "slow), followed by a period of rapid growth, followed by a slowing of\n",
    "uptake as saturation is reached. The Gompertz function is a solution\n",
    "of the differential equation\n",
    "$$\n",
    "  \\frac{dP}{dt}=c\\ln\\left(\\frac{K}{P}\\right)P\\notag\n",
    "$$\n",
    "where $c$ is a constant and $K$ is\n",
    "the carrying capacity.\n",
    "* Solve this differential equation for $c=0.2\\;K=1000$, and initial population $P_{0}=200$.\n",
    "* Compute the limiting value of the size of the population.\n",
    "* At what value of $P$ does $P$ grow fastest?"
   ]
  },
  {
   "cell_type": "markdown",
   "metadata": {
    "collapsed": false
   },
   "source": [
    "Note that you can substitute $u=\\ln{}x$ if you want to find\n",
    "$$\n",
    "\\int\\frac{1}{x\\ln{}x}\\,dx\n",
    "$$\n",
    "Separate the equation, integrate, and find that\n",
    "$$\n",
    "P(t)=1000e^{-5Ae^{-0.2t}}\n",
    "$$\n",
    "Using $P_{0}=200$,\n",
    "$$\n",
    "A=\\frac{1}{5}\\ln{}5\n",
    "$$\n",
    "It is clear that\n",
    "$$\n",
    "\\lim_{t\\rightarrow\\infty}1000e^{-(\\ln{}5)e^{-0.2t}}=1000\n",
    "$$\n",
    "Find the second derivative to locate the inflection point. The only factor that can be zero is\n",
    "$$\n",
    "Ae^{-0.2t}-0.2=0\n",
    "$$\n",
    "for the inflection point $t\\approx{}2.379$."
   ]
  },
  {
   "cell_type": "code",
   "execution_count": 1,
   "metadata": {
    "collapsed": false,
    "scrolled": true
   },
   "outputs": [
    {
     "data": {
      "text/plain": [
       "0.3218875824868201"
      ]
     },
     "execution_count": 1,
     "metadata": {
     },
     "output_type": "execute_result"
    }
   ],
   "source": [
    "A=0.2*log(5)"
   ]
  },
  {
   "cell_type": "code",
   "execution_count": 2,
   "metadata": {
    "collapsed": false
   },
   "outputs": [
    {
     "data": {
      "text/plain": [
       "2.37942497664"
      ]
     },
     "execution_count": 2,
     "metadata": {
     },
     "output_type": "execute_result"
    }
   ],
   "source": [
    "tinfl=2.37942497664 # the inflection point"
   ]
  },
  {
   "cell_type": "code",
   "execution_count": 3,
   "metadata": {
    "collapsed": false
   },
   "outputs": [
    {
     "data": {
      "text/plain": [
       "1.3815510557964275"
      ]
     },
     "execution_count": 3,
     "metadata": {
     },
     "output_type": "execute_result"
    }
   ],
   "source": [
    "aa=0.2*log(1000)"
   ]
  },
  {
   "cell_type": "code",
   "execution_count": 4,
   "metadata": {
    "collapsed": false,
    "scrolled": true
   },
   "outputs": [
    {
     "data": {
      "text/plain": [
       "P (generic function with 1 method)"
      ]
     },
     "execution_count": 4,
     "metadata": {
     },
     "output_type": "execute_result"
    }
   ],
   "source": [
    "P(t)=exp(5*(aa-A*exp(-0.2*t)))"
   ]
  },
  {
   "cell_type": "code",
   "execution_count": 5,
   "metadata": {
    "collapsed": false
   },
   "outputs": [
    {
     "data": {
      "text/plain": [
       "367.87944117176966"
      ]
     },
     "execution_count": 5,
     "metadata": {
     },
     "output_type": "execute_result"
    }
   ],
   "source": [
    "P(tinfl) # population at inflection point"
   ]
  },
  {
   "cell_type": "code",
   "execution_count": 7,
   "metadata": {
    "collapsed": false
   },
   "outputs": [
   ],
   "source": [
    "using Plots"
   ]
  },
  {
   "cell_type": "code",
   "execution_count": 9,
   "metadata": {
    "collapsed": false
   },
   "outputs": [
    {
     "data": {
      "text/plain": [
       "-10.0:0.10020040080160321:40.0"
      ]
     },
     "execution_count": 9,
     "metadata": {
     },
     "output_type": "execute_result"
    }
   ],
   "source": [
    "t=range(-10,stop=40,length=500)"
   ]
  },
  {
   "cell_type": "code",
   "execution_count": 13,
   "metadata": {
    "collapsed": false
   },
   "outputs": [
    {
     "data": {
      "image/svg+xml": "<?xml version=\"1.0\" encoding=\"utf-8\"?>\n<svg xmlns=\"http://www.w3.org/2000/svg\" xmlns:xlink=\"http://www.w3.org/1999/xlink\" width=\"600\" height=\"400\" viewBox=\"0 0 2400 1600\">\n<defs>\n  <clipPath id=\"clip460\">\n    <rect x=\"0\" y=\"0\" width=\"2400\" height=\"1600\"/>\n  </clipPath>\n</defs>\n<path clip-path=\"url(#clip460)\" d=\"\nM0 1600 L2400 1600 L2400 0 L0 0  Z\n  \" fill=\"#ffffff\" fill-rule=\"evenodd\" fill-opacity=\"1\"/>\n<defs>\n  <clipPath id=\"clip461\">\n    <rect x=\"480\" y=\"0\" width=\"1681\" height=\"1600\"/>\n  </clipPath>\n</defs>\n<path clip-path=\"url(#clip460)\" d=\"\nM199.283 1486.45 L2352.76 1486.45 L2352.76 47.2441 L199.283 47.2441  Z\n  \" fill=\"#ffffff\" fill-rule=\"evenodd\" fill-opacity=\"1\"/>\n<defs>\n  <clipPath id=\"clip462\">\n    <rect x=\"199\" y=\"47\" width=\"2154\" height=\"1440\"/>\n  </clipPath>\n</defs>\n<polyline clip-path=\"url(#clip462)\" style=\"stroke:#000000; stroke-linecap:butt; stroke-linejoin:round; stroke-width:2; stroke-opacity:0.1; fill:none\" points=\"\n  260.231,1486.45 260.231,47.2441 \n  \"/>\n<polyline clip-path=\"url(#clip462)\" style=\"stroke:#000000; stroke-linecap:butt; stroke-linejoin:round; stroke-width:2; stroke-opacity:0.1; fill:none\" points=\"\n  666.546,1486.45 666.546,47.2441 \n  \"/>\n<polyline clip-path=\"url(#clip462)\" style=\"stroke:#000000; stroke-linecap:butt; stroke-linejoin:round; stroke-width:2; stroke-opacity:0.1; fill:none\" points=\"\n  1072.86,1486.45 1072.86,47.2441 \n  \"/>\n<polyline clip-path=\"url(#clip462)\" style=\"stroke:#000000; stroke-linecap:butt; stroke-linejoin:round; stroke-width:2; stroke-opacity:0.1; fill:none\" points=\"\n  1479.18,1486.45 1479.18,47.2441 \n  \"/>\n<polyline clip-path=\"url(#clip462)\" style=\"stroke:#000000; stroke-linecap:butt; stroke-linejoin:round; stroke-width:2; stroke-opacity:0.1; fill:none\" points=\"\n  1885.49,1486.45 1885.49,47.2441 \n  \"/>\n<polyline clip-path=\"url(#clip462)\" style=\"stroke:#000000; stroke-linecap:butt; stroke-linejoin:round; stroke-width:2; stroke-opacity:0.1; fill:none\" points=\"\n  2291.81,1486.45 2291.81,47.2441 \n  \"/>\n<polyline clip-path=\"url(#clip460)\" style=\"stroke:#000000; stroke-linecap:butt; stroke-linejoin:round; stroke-width:4; stroke-opacity:1; fill:none\" points=\"\n  199.283,1486.45 2352.76,1486.45 \n  \"/>\n<polyline clip-path=\"url(#clip460)\" style=\"stroke:#000000; stroke-linecap:butt; stroke-linejoin:round; stroke-width:4; stroke-opacity:1; fill:none\" points=\"\n  260.231,1486.45 260.231,1467.55 \n  \"/>\n<polyline clip-path=\"url(#clip460)\" style=\"stroke:#000000; stroke-linecap:butt; stroke-linejoin:round; stroke-width:4; stroke-opacity:1; fill:none\" points=\"\n  666.546,1486.45 666.546,1467.55 \n  \"/>\n<polyline clip-path=\"url(#clip460)\" style=\"stroke:#000000; stroke-linecap:butt; stroke-linejoin:round; stroke-width:4; stroke-opacity:1; fill:none\" points=\"\n  1072.86,1486.45 1072.86,1467.55 \n  \"/>\n<polyline clip-path=\"url(#clip460)\" style=\"stroke:#000000; stroke-linecap:butt; stroke-linejoin:round; stroke-width:4; stroke-opacity:1; fill:none\" points=\"\n  1479.18,1486.45 1479.18,1467.55 \n  \"/>\n<polyline clip-path=\"url(#clip460)\" style=\"stroke:#000000; stroke-linecap:butt; stroke-linejoin:round; stroke-width:4; stroke-opacity:1; fill:none\" points=\"\n  1885.49,1486.45 1885.49,1467.55 \n  \"/>\n<polyline clip-path=\"url(#clip460)\" style=\"stroke:#000000; stroke-linecap:butt; stroke-linejoin:round; stroke-width:4; stroke-opacity:1; fill:none\" points=\"\n  2291.81,1486.45 2291.81,1467.55 \n  \"/>\n<path clip-path=\"url(#clip460)\" d=\"M214.293 1530.29 L243.969 1530.29 L243.969 1534.23 L214.293 1534.23 L214.293 1530.29 Z\" fill=\"#000000\" fill-rule=\"evenodd\" fill-opacity=\"1\" /><path clip-path=\"url(#clip460)\" d=\"M254.872 1543.18 L262.511 1543.18 L262.511 1516.82 L254.2 1518.49 L254.2 1514.23 L262.464 1512.56 L267.14 1512.56 L267.14 1543.18 L274.779 1543.18 L274.779 1547.12 L254.872 1547.12 L254.872 1543.18 Z\" fill=\"#000000\" fill-rule=\"evenodd\" fill-opacity=\"1\" /><path clip-path=\"url(#clip460)\" d=\"M294.223 1515.64 Q290.612 1515.64 288.784 1519.2 Q286.978 1522.75 286.978 1529.87 Q286.978 1536.98 288.784 1540.55 Q290.612 1544.09 294.223 1544.09 Q297.858 1544.09 299.663 1540.55 Q301.492 1536.98 301.492 1529.87 Q301.492 1522.75 299.663 1519.2 Q297.858 1515.64 294.223 1515.64 M294.223 1511.93 Q300.034 1511.93 303.089 1516.54 Q306.168 1521.12 306.168 1529.87 Q306.168 1538.6 303.089 1543.21 Q300.034 1547.79 294.223 1547.79 Q288.413 1547.79 285.335 1543.21 Q282.279 1538.6 282.279 1529.87 Q282.279 1521.12 285.335 1516.54 Q288.413 1511.93 294.223 1511.93 Z\" fill=\"#000000\" fill-rule=\"evenodd\" fill-opacity=\"1\" /><path clip-path=\"url(#clip460)\" d=\"M666.546 1515.64 Q662.935 1515.64 661.106 1519.2 Q659.301 1522.75 659.301 1529.87 Q659.301 1536.98 661.106 1540.55 Q662.935 1544.09 666.546 1544.09 Q670.18 1544.09 671.986 1540.55 Q673.815 1536.98 673.815 1529.87 Q673.815 1522.75 671.986 1519.2 Q670.18 1515.64 666.546 1515.64 M666.546 1511.93 Q672.356 1511.93 675.412 1516.54 Q678.491 1521.12 678.491 1529.87 Q678.491 1538.6 675.412 1543.21 Q672.356 1547.79 666.546 1547.79 Q660.736 1547.79 657.657 1543.21 Q654.602 1538.6 654.602 1529.87 Q654.602 1521.12 657.657 1516.54 Q660.736 1511.93 666.546 1511.93 Z\" fill=\"#000000\" fill-rule=\"evenodd\" fill-opacity=\"1\" /><path clip-path=\"url(#clip460)\" d=\"M1047.55 1543.18 L1055.19 1543.18 L1055.19 1516.82 L1046.88 1518.49 L1046.88 1514.23 L1055.14 1512.56 L1059.82 1512.56 L1059.82 1543.18 L1067.46 1543.18 L1067.46 1547.12 L1047.55 1547.12 L1047.55 1543.18 Z\" fill=\"#000000\" fill-rule=\"evenodd\" fill-opacity=\"1\" /><path clip-path=\"url(#clip460)\" d=\"M1086.9 1515.64 Q1083.29 1515.64 1081.46 1519.2 Q1079.66 1522.75 1079.66 1529.87 Q1079.66 1536.98 1081.46 1540.55 Q1083.29 1544.09 1086.9 1544.09 Q1090.54 1544.09 1092.34 1540.55 Q1094.17 1536.98 1094.17 1529.87 Q1094.17 1522.75 1092.34 1519.2 Q1090.54 1515.64 1086.9 1515.64 M1086.9 1511.93 Q1092.71 1511.93 1095.77 1516.54 Q1098.85 1521.12 1098.85 1529.87 Q1098.85 1538.6 1095.77 1543.21 Q1092.71 1547.79 1086.9 1547.79 Q1081.09 1547.79 1078.01 1543.21 Q1074.96 1538.6 1074.96 1529.87 Q1074.96 1521.12 1078.01 1516.54 Q1081.09 1511.93 1086.9 1511.93 Z\" fill=\"#000000\" fill-rule=\"evenodd\" fill-opacity=\"1\" /><path clip-path=\"url(#clip460)\" d=\"M1457.95 1543.18 L1474.27 1543.18 L1474.27 1547.12 L1452.33 1547.12 L1452.33 1543.18 Q1454.99 1540.43 1459.57 1535.8 Q1464.18 1531.15 1465.36 1529.81 Q1467.6 1527.28 1468.48 1525.55 Q1469.39 1523.79 1469.39 1522.1 Q1469.39 1519.34 1467.44 1517.61 Q1465.52 1515.87 1462.42 1515.87 Q1460.22 1515.87 1457.77 1516.63 Q1455.33 1517.4 1452.56 1518.95 L1452.56 1514.23 Q1455.38 1513.09 1457.83 1512.51 Q1460.29 1511.93 1462.33 1511.93 Q1467.7 1511.93 1470.89 1514.62 Q1474.08 1517.31 1474.08 1521.8 Q1474.08 1523.93 1473.27 1525.85 Q1472.49 1527.74 1470.38 1530.34 Q1469.8 1531.01 1466.7 1534.23 Q1463.6 1537.42 1457.95 1543.18 Z\" fill=\"#000000\" fill-rule=\"evenodd\" fill-opacity=\"1\" /><path clip-path=\"url(#clip460)\" d=\"M1494.08 1515.64 Q1490.47 1515.64 1488.64 1519.2 Q1486.84 1522.75 1486.84 1529.87 Q1486.84 1536.98 1488.64 1540.55 Q1490.47 1544.09 1494.08 1544.09 Q1497.72 1544.09 1499.52 1540.55 Q1501.35 1536.98 1501.35 1529.87 Q1501.35 1522.75 1499.52 1519.2 Q1497.72 1515.64 1494.08 1515.64 M1494.08 1511.93 Q1499.89 1511.93 1502.95 1516.54 Q1506.03 1521.12 1506.03 1529.87 Q1506.03 1538.6 1502.95 1543.21 Q1499.89 1547.79 1494.08 1547.79 Q1488.27 1547.79 1485.2 1543.21 Q1482.14 1538.6 1482.14 1529.87 Q1482.14 1521.12 1485.2 1516.54 Q1488.27 1511.93 1494.08 1511.93 Z\" fill=\"#000000\" fill-rule=\"evenodd\" fill-opacity=\"1\" /><path clip-path=\"url(#clip460)\" d=\"M1874.34 1528.49 Q1877.69 1529.2 1879.57 1531.47 Q1881.47 1533.74 1881.47 1537.07 Q1881.47 1542.19 1877.95 1544.99 Q1874.43 1547.79 1867.95 1547.79 Q1865.77 1547.79 1863.46 1547.35 Q1861.16 1546.93 1858.71 1546.08 L1858.71 1541.56 Q1860.66 1542.7 1862.97 1543.28 Q1865.28 1543.86 1867.81 1543.86 Q1872.21 1543.86 1874.5 1542.12 Q1876.81 1540.38 1876.81 1537.07 Q1876.81 1534.02 1874.66 1532.31 Q1872.53 1530.57 1868.71 1530.57 L1864.68 1530.57 L1864.68 1526.73 L1868.9 1526.73 Q1872.34 1526.73 1874.17 1525.36 Q1876 1523.97 1876 1521.38 Q1876 1518.72 1874.1 1517.31 Q1872.23 1515.87 1868.71 1515.87 Q1866.79 1515.87 1864.59 1516.29 Q1862.39 1516.7 1859.75 1517.58 L1859.75 1513.42 Q1862.41 1512.68 1864.73 1512.31 Q1867.07 1511.93 1869.13 1511.93 Q1874.45 1511.93 1877.55 1514.37 Q1880.66 1516.77 1880.66 1520.89 Q1880.66 1523.76 1879.01 1525.75 Q1877.37 1527.72 1874.34 1528.49 Z\" fill=\"#000000\" fill-rule=\"evenodd\" fill-opacity=\"1\" /><path clip-path=\"url(#clip460)\" d=\"M1900.33 1515.64 Q1896.72 1515.64 1894.89 1519.2 Q1893.09 1522.75 1893.09 1529.87 Q1893.09 1536.98 1894.89 1540.55 Q1896.72 1544.09 1900.33 1544.09 Q1903.97 1544.09 1905.77 1540.55 Q1907.6 1536.98 1907.6 1529.87 Q1907.6 1522.75 1905.77 1519.2 Q1903.97 1515.64 1900.33 1515.64 M1900.33 1511.93 Q1906.14 1511.93 1909.2 1516.54 Q1912.28 1521.12 1912.28 1529.87 Q1912.28 1538.6 1909.2 1543.21 Q1906.14 1547.79 1900.33 1547.79 Q1894.52 1547.79 1891.44 1543.21 Q1888.39 1538.6 1888.39 1529.87 Q1888.39 1521.12 1891.44 1516.54 Q1894.52 1511.93 1900.33 1511.93 Z\" fill=\"#000000\" fill-rule=\"evenodd\" fill-opacity=\"1\" /><path clip-path=\"url(#clip460)\" d=\"M2279.98 1516.63 L2268.17 1535.08 L2279.98 1535.08 L2279.98 1516.63 M2278.75 1512.56 L2284.63 1512.56 L2284.63 1535.08 L2289.56 1535.08 L2289.56 1538.97 L2284.63 1538.97 L2284.63 1547.12 L2279.98 1547.12 L2279.98 1538.97 L2264.38 1538.97 L2264.38 1534.46 L2278.75 1512.56 Z\" fill=\"#000000\" fill-rule=\"evenodd\" fill-opacity=\"1\" /><path clip-path=\"url(#clip460)\" d=\"M2307.29 1515.64 Q2303.68 1515.64 2301.85 1519.2 Q2300.05 1522.75 2300.05 1529.87 Q2300.05 1536.98 2301.85 1540.55 Q2303.68 1544.09 2307.29 1544.09 Q2310.93 1544.09 2312.73 1540.55 Q2314.56 1536.98 2314.56 1529.87 Q2314.56 1522.75 2312.73 1519.2 Q2310.93 1515.64 2307.29 1515.64 M2307.29 1511.93 Q2313.1 1511.93 2316.16 1516.54 Q2319.24 1521.12 2319.24 1529.87 Q2319.24 1538.6 2316.16 1543.21 Q2313.1 1547.79 2307.29 1547.79 Q2301.48 1547.79 2298.41 1543.21 Q2295.35 1538.6 2295.35 1529.87 Q2295.35 1521.12 2298.41 1516.54 Q2301.48 1511.93 2307.29 1511.93 Z\" fill=\"#000000\" fill-rule=\"evenodd\" fill-opacity=\"1\" /><polyline clip-path=\"url(#clip462)\" style=\"stroke:#000000; stroke-linecap:butt; stroke-linejoin:round; stroke-width:2; stroke-opacity:0.1; fill:none\" points=\"\n  199.283,1445.72 2352.76,1445.72 \n  \"/>\n<polyline clip-path=\"url(#clip462)\" style=\"stroke:#000000; stroke-linecap:butt; stroke-linejoin:round; stroke-width:2; stroke-opacity:0.1; fill:none\" points=\"\n  199.283,1106.28 2352.76,1106.28 \n  \"/>\n<polyline clip-path=\"url(#clip462)\" style=\"stroke:#000000; stroke-linecap:butt; stroke-linejoin:round; stroke-width:2; stroke-opacity:0.1; fill:none\" points=\"\n  199.283,766.846 2352.76,766.846 \n  \"/>\n<polyline clip-path=\"url(#clip462)\" style=\"stroke:#000000; stroke-linecap:butt; stroke-linejoin:round; stroke-width:2; stroke-opacity:0.1; fill:none\" points=\"\n  199.283,427.411 2352.76,427.411 \n  \"/>\n<polyline clip-path=\"url(#clip462)\" style=\"stroke:#000000; stroke-linecap:butt; stroke-linejoin:round; stroke-width:2; stroke-opacity:0.1; fill:none\" points=\"\n  199.283,87.9763 2352.76,87.9763 \n  \"/>\n<polyline clip-path=\"url(#clip460)\" style=\"stroke:#000000; stroke-linecap:butt; stroke-linejoin:round; stroke-width:4; stroke-opacity:1; fill:none\" points=\"\n  199.283,1486.45 199.283,47.2441 \n  \"/>\n<polyline clip-path=\"url(#clip460)\" style=\"stroke:#000000; stroke-linecap:butt; stroke-linejoin:round; stroke-width:4; stroke-opacity:1; fill:none\" points=\"\n  199.283,1445.72 218.181,1445.72 \n  \"/>\n<polyline clip-path=\"url(#clip460)\" style=\"stroke:#000000; stroke-linecap:butt; stroke-linejoin:round; stroke-width:4; stroke-opacity:1; fill:none\" points=\"\n  199.283,1106.28 218.181,1106.28 \n  \"/>\n<polyline clip-path=\"url(#clip460)\" style=\"stroke:#000000; stroke-linecap:butt; stroke-linejoin:round; stroke-width:4; stroke-opacity:1; fill:none\" points=\"\n  199.283,766.846 218.181,766.846 \n  \"/>\n<polyline clip-path=\"url(#clip460)\" style=\"stroke:#000000; stroke-linecap:butt; stroke-linejoin:round; stroke-width:4; stroke-opacity:1; fill:none\" points=\"\n  199.283,427.411 218.181,427.411 \n  \"/>\n<polyline clip-path=\"url(#clip460)\" style=\"stroke:#000000; stroke-linecap:butt; stroke-linejoin:round; stroke-width:4; stroke-opacity:1; fill:none\" points=\"\n  199.283,87.9763 218.181,87.9763 \n  \"/>\n<path clip-path=\"url(#clip460)\" d=\"M151.339 1431.51 Q147.728 1431.51 145.899 1435.08 Q144.093 1438.62 144.093 1445.75 Q144.093 1452.86 145.899 1456.42 Q147.728 1459.96 151.339 1459.96 Q154.973 1459.96 156.779 1456.42 Q158.607 1452.86 158.607 1445.75 Q158.607 1438.62 156.779 1435.08 Q154.973 1431.51 151.339 1431.51 M151.339 1427.81 Q157.149 1427.81 160.205 1432.42 Q163.283 1437 163.283 1445.75 Q163.283 1454.48 160.205 1459.08 Q157.149 1463.67 151.339 1463.67 Q145.529 1463.67 142.45 1459.08 Q139.394 1454.48 139.394 1445.75 Q139.394 1437 142.45 1432.42 Q145.529 1427.81 151.339 1427.81 Z\" fill=\"#000000\" fill-rule=\"evenodd\" fill-opacity=\"1\" /><path clip-path=\"url(#clip460)\" d=\"M85.0429 1119.63 L101.362 1119.63 L101.362 1123.56 L79.4179 1123.56 L79.4179 1119.63 Q82.0799 1116.87 86.6632 1112.24 Q91.2697 1107.59 92.4502 1106.25 Q94.6956 1103.72 95.5752 1101.99 Q96.478 1100.23 96.478 1098.54 Q96.478 1095.78 94.5336 1094.05 Q92.6123 1092.31 89.5104 1092.31 Q87.3114 1092.31 84.8577 1093.07 Q82.4271 1093.84 79.6494 1095.39 L79.6494 1090.67 Q82.4734 1089.53 84.9271 1088.95 Q87.3808 1088.38 89.4178 1088.38 Q94.7882 1088.38 97.9826 1091.06 Q101.177 1093.75 101.177 1098.24 Q101.177 1100.37 100.367 1102.29 Q99.5798 1104.19 97.4734 1106.78 Q96.8947 1107.45 93.7928 1110.67 Q90.691 1113.86 85.0429 1119.63 Z\" fill=\"#000000\" fill-rule=\"evenodd\" fill-opacity=\"1\" /><path clip-path=\"url(#clip460)\" d=\"M111.223 1089 L129.58 1089 L129.58 1092.94 L115.506 1092.94 L115.506 1101.41 Q116.524 1101.06 117.543 1100.9 Q118.561 1100.71 119.58 1100.71 Q125.367 1100.71 128.746 1103.89 Q132.126 1107.06 132.126 1112.47 Q132.126 1118.05 128.654 1121.15 Q125.182 1124.23 118.862 1124.23 Q116.686 1124.23 114.418 1123.86 Q112.172 1123.49 109.765 1122.75 L109.765 1118.05 Q111.848 1119.19 114.07 1119.74 Q116.293 1120.3 118.77 1120.3 Q122.774 1120.3 125.112 1118.19 Q127.45 1116.08 127.45 1112.47 Q127.45 1108.86 125.112 1106.76 Q122.774 1104.65 118.77 1104.65 Q116.895 1104.65 115.02 1105.07 Q113.168 1105.48 111.223 1106.36 L111.223 1089 Z\" fill=\"#000000\" fill-rule=\"evenodd\" fill-opacity=\"1\" /><path clip-path=\"url(#clip460)\" d=\"M151.339 1092.08 Q147.728 1092.08 145.899 1095.64 Q144.093 1099.19 144.093 1106.32 Q144.093 1113.42 145.899 1116.99 Q147.728 1120.53 151.339 1120.53 Q154.973 1120.53 156.779 1116.99 Q158.607 1113.42 158.607 1106.32 Q158.607 1099.19 156.779 1095.64 Q154.973 1092.08 151.339 1092.08 M151.339 1088.38 Q157.149 1088.38 160.205 1092.98 Q163.283 1097.57 163.283 1106.32 Q163.283 1115.04 160.205 1119.65 Q157.149 1124.23 151.339 1124.23 Q145.529 1124.23 142.45 1119.65 Q139.394 1115.04 139.394 1106.32 Q139.394 1097.57 142.45 1092.98 Q145.529 1088.38 151.339 1088.38 Z\" fill=\"#000000\" fill-rule=\"evenodd\" fill-opacity=\"1\" /><path clip-path=\"url(#clip460)\" d=\"M81.0614 749.566 L99.4178 749.566 L99.4178 753.501 L85.3438 753.501 L85.3438 761.973 Q86.3623 761.626 87.3808 761.464 Q88.3993 761.279 89.4178 761.279 Q95.2049 761.279 98.5845 764.45 Q101.964 767.621 101.964 773.038 Q101.964 778.617 98.4919 781.719 Q95.0197 784.797 88.7003 784.797 Q86.5243 784.797 84.2558 784.427 Q82.0105 784.057 79.6031 783.316 L79.6031 778.617 Q81.6864 779.751 83.9086 780.307 Q86.1308 780.862 88.6077 780.862 Q92.6123 780.862 94.9502 778.756 Q97.2882 776.649 97.2882 773.038 Q97.2882 769.427 94.9502 767.321 Q92.6123 765.214 88.6077 765.214 Q86.7327 765.214 84.8577 765.631 Q83.0058 766.047 81.0614 766.927 L81.0614 749.566 Z\" fill=\"#000000\" fill-rule=\"evenodd\" fill-opacity=\"1\" /><path clip-path=\"url(#clip460)\" d=\"M121.177 752.645 Q117.566 752.645 115.737 756.209 Q113.932 759.751 113.932 766.881 Q113.932 773.987 115.737 777.552 Q117.566 781.094 121.177 781.094 Q124.811 781.094 126.617 777.552 Q128.445 773.987 128.445 766.881 Q128.445 759.751 126.617 756.209 Q124.811 752.645 121.177 752.645 M121.177 748.941 Q126.987 748.941 130.043 753.547 Q133.121 758.131 133.121 766.881 Q133.121 775.608 130.043 780.214 Q126.987 784.797 121.177 784.797 Q115.367 784.797 112.288 780.214 Q109.233 775.608 109.233 766.881 Q109.233 758.131 112.288 753.547 Q115.367 748.941 121.177 748.941 Z\" fill=\"#000000\" fill-rule=\"evenodd\" fill-opacity=\"1\" /><path clip-path=\"url(#clip460)\" d=\"M151.339 752.645 Q147.728 752.645 145.899 756.209 Q144.093 759.751 144.093 766.881 Q144.093 773.987 145.899 777.552 Q147.728 781.094 151.339 781.094 Q154.973 781.094 156.779 777.552 Q158.607 773.987 158.607 766.881 Q158.607 759.751 156.779 756.209 Q154.973 752.645 151.339 752.645 M151.339 748.941 Q157.149 748.941 160.205 753.547 Q163.283 758.131 163.283 766.881 Q163.283 775.608 160.205 780.214 Q157.149 784.797 151.339 784.797 Q145.529 784.797 142.45 780.214 Q139.394 775.608 139.394 766.881 Q139.394 758.131 142.45 753.547 Q145.529 748.941 151.339 748.941 Z\" fill=\"#000000\" fill-rule=\"evenodd\" fill-opacity=\"1\" /><path clip-path=\"url(#clip460)\" d=\"M79.8346 410.131 L102.057 410.131 L102.057 412.122 L89.5104 444.691 L84.6262 444.691 L96.4317 414.066 L79.8346 414.066 L79.8346 410.131 Z\" fill=\"#000000\" fill-rule=\"evenodd\" fill-opacity=\"1\" /><path clip-path=\"url(#clip460)\" d=\"M111.223 410.131 L129.58 410.131 L129.58 414.066 L115.506 414.066 L115.506 422.538 Q116.524 422.191 117.543 422.029 Q118.561 421.844 119.58 421.844 Q125.367 421.844 128.746 425.015 Q132.126 428.187 132.126 433.603 Q132.126 439.182 128.654 442.284 Q125.182 445.362 118.862 445.362 Q116.686 445.362 114.418 444.992 Q112.172 444.622 109.765 443.881 L109.765 439.182 Q111.848 440.316 114.07 440.872 Q116.293 441.427 118.77 441.427 Q122.774 441.427 125.112 439.321 Q127.45 437.214 127.45 433.603 Q127.45 429.992 125.112 427.886 Q122.774 425.779 118.77 425.779 Q116.895 425.779 115.02 426.196 Q113.168 426.613 111.223 427.492 L111.223 410.131 Z\" fill=\"#000000\" fill-rule=\"evenodd\" fill-opacity=\"1\" /><path clip-path=\"url(#clip460)\" d=\"M151.339 413.21 Q147.728 413.21 145.899 416.775 Q144.093 420.316 144.093 427.446 Q144.093 434.552 145.899 438.117 Q147.728 441.659 151.339 441.659 Q154.973 441.659 156.779 438.117 Q158.607 434.552 158.607 427.446 Q158.607 420.316 156.779 416.775 Q154.973 413.21 151.339 413.21 M151.339 409.506 Q157.149 409.506 160.205 414.113 Q163.283 418.696 163.283 427.446 Q163.283 436.173 160.205 440.779 Q157.149 445.362 151.339 445.362 Q145.529 445.362 142.45 440.779 Q139.394 436.173 139.394 427.446 Q139.394 418.696 142.45 414.113 Q145.529 409.506 151.339 409.506 Z\" fill=\"#000000\" fill-rule=\"evenodd\" fill-opacity=\"1\" /><path clip-path=\"url(#clip460)\" d=\"M51.6634 101.321 L59.3023 101.321 L59.3023 74.9555 L50.9921 76.6222 L50.9921 72.3629 L59.256 70.6963 L63.9319 70.6963 L63.9319 101.321 L71.5707 101.321 L71.5707 105.256 L51.6634 105.256 L51.6634 101.321 Z\" fill=\"#000000\" fill-rule=\"evenodd\" fill-opacity=\"1\" /><path clip-path=\"url(#clip460)\" d=\"M91.0151 73.775 Q87.404 73.775 85.5753 77.3398 Q83.7697 80.8814 83.7697 88.011 Q83.7697 95.1174 85.5753 98.6822 Q87.404 102.224 91.0151 102.224 Q94.6493 102.224 96.4548 98.6822 Q98.2835 95.1174 98.2835 88.011 Q98.2835 80.8814 96.4548 77.3398 Q94.6493 73.775 91.0151 73.775 M91.0151 70.0713 Q96.8252 70.0713 99.8808 74.6777 Q102.959 79.261 102.959 88.011 Q102.959 96.7378 99.8808 101.344 Q96.8252 105.928 91.0151 105.928 Q85.2049 105.928 82.1262 101.344 Q79.0707 96.7378 79.0707 88.011 Q79.0707 79.261 82.1262 74.6777 Q85.2049 70.0713 91.0151 70.0713 Z\" fill=\"#000000\" fill-rule=\"evenodd\" fill-opacity=\"1\" /><path clip-path=\"url(#clip460)\" d=\"M121.177 73.775 Q117.566 73.775 115.737 77.3398 Q113.932 80.8814 113.932 88.011 Q113.932 95.1174 115.737 98.6822 Q117.566 102.224 121.177 102.224 Q124.811 102.224 126.617 98.6822 Q128.445 95.1174 128.445 88.011 Q128.445 80.8814 126.617 77.3398 Q124.811 73.775 121.177 73.775 M121.177 70.0713 Q126.987 70.0713 130.043 74.6777 Q133.121 79.261 133.121 88.011 Q133.121 96.7378 130.043 101.344 Q126.987 105.928 121.177 105.928 Q115.367 105.928 112.288 101.344 Q109.233 96.7378 109.233 88.011 Q109.233 79.261 112.288 74.6777 Q115.367 70.0713 121.177 70.0713 Z\" fill=\"#000000\" fill-rule=\"evenodd\" fill-opacity=\"1\" /><path clip-path=\"url(#clip460)\" d=\"M151.339 73.775 Q147.728 73.775 145.899 77.3398 Q144.093 80.8814 144.093 88.011 Q144.093 95.1174 145.899 98.6822 Q147.728 102.224 151.339 102.224 Q154.973 102.224 156.779 98.6822 Q158.607 95.1174 158.607 88.011 Q158.607 80.8814 156.779 77.3398 Q154.973 73.775 151.339 73.775 M151.339 70.0713 Q157.149 70.0713 160.205 74.6777 Q163.283 79.261 163.283 88.011 Q163.283 96.7378 160.205 101.344 Q157.149 105.928 151.339 105.928 Q145.529 105.928 142.45 101.344 Q139.394 96.7378 139.394 88.011 Q139.394 79.261 142.45 74.6777 Q145.529 70.0713 151.339 70.0713 Z\" fill=\"#000000\" fill-rule=\"evenodd\" fill-opacity=\"1\" /><polyline clip-path=\"url(#clip462)\" style=\"stroke:#009af9; stroke-linecap:butt; stroke-linejoin:round; stroke-width:8; stroke-opacity:1; fill:none\" points=\"\n  260.231,1445.71 264.302,1445.7 268.373,1445.7 272.444,1445.7 276.516,1445.69 280.587,1445.69 284.658,1445.68 288.73,1445.67 292.801,1445.66 296.872,1445.65 \n  300.944,1445.64 305.015,1445.62 309.086,1445.6 313.157,1445.57 317.229,1445.55 321.3,1445.51 325.371,1445.47 329.443,1445.43 333.514,1445.38 337.585,1445.31 \n  341.657,1445.24 345.728,1445.16 349.799,1445.07 353.87,1444.97 357.942,1444.84 362.013,1444.71 366.084,1444.55 370.156,1444.38 374.227,1444.18 378.298,1443.96 \n  382.369,1443.71 386.441,1443.44 390.512,1443.13 394.583,1442.79 398.655,1442.41 402.726,1441.99 406.797,1441.52 410.869,1441.01 414.94,1440.45 419.011,1439.84 \n  423.082,1439.17 427.154,1438.44 431.225,1437.65 435.296,1436.78 439.368,1435.84 443.439,1434.83 447.51,1433.74 451.582,1432.56 455.653,1431.29 459.724,1429.93 \n  463.795,1428.47 467.867,1426.91 471.938,1425.25 476.009,1423.47 480.081,1421.58 484.152,1419.57 488.223,1417.44 492.295,1415.18 496.366,1412.79 500.437,1410.27 \n  504.508,1407.61 508.58,1404.81 512.651,1401.87 516.722,1398.78 520.794,1395.54 524.865,1392.15 528.936,1388.6 533.008,1384.89 537.079,1381.03 541.15,1377 \n  545.221,1372.81 549.293,1368.45 553.364,1363.93 557.435,1359.24 561.507,1354.39 565.578,1349.36 569.649,1344.17 573.721,1338.81 577.792,1333.28 581.863,1327.58 \n  585.934,1321.72 590.006,1315.69 594.077,1309.49 598.148,1303.13 602.22,1296.61 606.291,1289.93 610.362,1283.1 614.434,1276.1 618.505,1268.96 622.576,1261.66 \n  626.647,1254.22 630.719,1246.63 634.79,1238.9 638.861,1231.03 642.933,1223.03 647.004,1214.9 651.075,1206.64 655.147,1198.26 659.218,1189.76 663.289,1181.14 \n  667.36,1172.41 671.432,1163.58 675.503,1154.65 679.574,1145.62 683.646,1136.49 687.717,1127.28 691.788,1117.99 695.859,1108.61 699.931,1099.17 704.002,1089.65 \n  708.073,1080.07 712.145,1070.42 716.216,1060.73 720.287,1050.98 724.359,1041.18 728.43,1031.35 732.501,1021.47 736.572,1011.57 740.644,1001.63 744.715,991.678 \n  748.786,981.702 752.858,971.711 756.929,961.71 761,951.703 765.072,941.694 769.143,931.686 773.214,921.684 777.285,911.691 781.357,901.712 785.428,891.751 \n  789.499,881.809 793.571,871.892 797.642,862.002 801.713,852.144 805.785,842.319 809.856,832.531 813.927,822.784 817.998,813.079 822.07,803.421 826.141,793.81 \n  830.212,784.252 834.284,774.746 838.355,765.297 842.426,755.906 846.498,746.576 850.569,737.308 854.64,728.105 858.711,718.969 862.783,709.901 866.854,700.903 \n  870.925,691.977 874.997,683.124 879.068,674.346 883.139,665.644 887.211,657.019 891.282,648.473 895.353,640.007 899.424,631.621 903.496,623.317 907.567,615.096 \n  911.638,606.958 915.71,598.904 919.781,590.935 923.852,583.051 927.924,575.253 931.995,567.542 936.066,559.917 940.137,552.379 944.209,544.929 948.28,537.566 \n  952.351,530.29 956.423,523.103 960.494,516.003 964.565,508.991 968.636,502.067 972.708,495.231 976.779,488.482 980.85,481.821 984.922,475.246 988.993,468.759 \n  993.064,462.359 997.136,456.044 1001.21,449.816 1005.28,443.673 1009.35,437.615 1013.42,431.642 1017.49,425.753 1021.56,419.948 1025.63,414.226 1029.71,408.586 \n  1033.78,403.029 1037.85,397.552 1041.92,392.157 1045.99,386.841 1050.06,381.605 1054.13,376.448 1058.21,371.369 1062.28,366.367 1066.35,361.442 1070.42,356.593 \n  1074.49,351.819 1078.56,347.119 1082.63,342.493 1086.7,337.94 1090.78,333.459 1094.85,329.049 1098.92,324.71 1102.99,320.441 1107.06,316.24 1111.13,312.108 \n  1115.2,308.043 1119.27,304.044 1123.35,300.111 1127.42,296.243 1131.49,292.439 1135.56,288.699 1139.63,285.02 1143.7,281.404 1147.77,277.848 1151.84,274.352 \n  1155.92,270.916 1159.99,267.537 1164.06,264.217 1168.13,260.953 1172.2,257.745 1176.27,254.593 1180.34,251.495 1184.42,248.45 1188.49,245.459 1192.56,242.519 \n  1196.63,239.631 1200.7,236.793 1204.77,234.006 1208.84,231.267 1212.91,228.577 1216.99,225.934 1221.06,223.338 1225.13,220.788 1229.2,218.284 1233.27,215.824 \n  1237.34,213.409 1241.41,211.036 1245.48,208.707 1249.56,206.419 1253.63,204.173 1257.7,201.967 1261.77,199.801 1265.84,197.675 1269.91,195.587 1273.98,193.537 \n  1278.06,191.525 1282.13,189.549 1286.2,187.61 1290.27,185.706 1294.34,183.837 1298.41,182.002 1302.48,180.202 1306.55,178.434 1310.63,176.699 1314.7,174.997 \n  1318.77,173.326 1322.84,171.686 1326.91,170.076 1330.98,168.496 1335.05,166.946 1339.12,165.425 1343.2,163.932 1347.27,162.467 1351.34,161.03 1355.41,159.619 \n  1359.48,158.235 1363.55,156.877 1367.62,155.545 1371.7,154.238 1375.77,152.955 1379.84,151.696 1383.91,150.462 1387.98,149.25 1392.05,148.062 1396.12,146.896 \n  1400.19,145.752 1404.27,144.63 1408.34,143.53 1412.41,142.45 1416.48,141.391 1420.55,140.351 1424.62,139.332 1428.69,138.332 1432.76,137.352 1436.84,136.39 \n  1440.91,135.446 1444.98,134.521 1449.05,133.613 1453.12,132.723 1457.19,131.849 1461.26,130.993 1465.33,130.153 1469.41,129.329 1473.48,128.521 1477.55,127.728 \n  1481.62,126.951 1485.69,126.189 1489.76,125.441 1493.83,124.708 1497.91,123.989 1501.98,123.284 1506.05,122.592 1510.12,121.914 1514.19,121.249 1518.26,120.597 \n  1522.33,119.957 1526.4,119.33 1530.48,118.715 1534.55,118.112 1538.62,117.521 1542.69,116.941 1546.76,116.372 1550.83,115.815 1554.9,115.268 1558.97,114.732 \n  1563.05,114.206 1567.12,113.691 1571.19,113.185 1575.26,112.69 1579.33,112.204 1583.4,111.727 1587.47,111.26 1591.55,110.802 1595.62,110.353 1599.69,109.913 \n  1603.76,109.481 1607.83,109.057 1611.9,108.642 1615.97,108.235 1620.04,107.836 1624.12,107.445 1628.19,107.062 1632.26,106.686 1636.33,106.317 1640.4,105.955 \n  1644.47,105.601 1648.54,105.254 1652.61,104.913 1656.69,104.579 1660.76,104.252 1664.83,103.931 1668.9,103.616 1672.97,103.307 1677.04,103.005 1681.11,102.708 \n  1685.19,102.418 1689.26,102.133 1693.33,101.853 1697.4,101.579 1701.47,101.311 1705.54,101.047 1709.61,100.789 1713.68,100.536 1717.76,100.288 1721.83,100.045 \n  1725.9,99.8065 1729.97,99.5728 1734.04,99.3437 1738.11,99.1191 1742.18,98.8989 1746.25,98.683 1750.33,98.4714 1754.4,98.264 1758.47,98.0606 1762.54,97.8613 \n  1766.61,97.6659 1770.68,97.4743 1774.75,97.2865 1778.82,97.1024 1782.9,96.9219 1786.97,96.745 1791.04,96.5716 1795.11,96.4016 1799.18,96.2349 1803.25,96.0716 \n  1807.32,95.9114 1811.4,95.7544 1815.47,95.6005 1819.54,95.4497 1823.61,95.3018 1827.68,95.1569 1831.75,95.0148 1835.82,94.8755 1839.89,94.7389 1843.97,94.6051 \n  1848.04,94.4739 1852.11,94.3453 1856.18,94.2192 1860.25,94.0956 1864.32,93.9745 1868.39,93.8557 1872.46,93.7393 1876.54,93.6252 1880.61,93.5134 1884.68,93.4037 \n  1888.75,93.2962 1892.82,93.1909 1896.89,93.0876 1900.96,92.9864 1905.04,92.8872 1909.11,92.7899 1913.18,92.6946 1917.25,92.6011 1921.32,92.5095 1925.39,92.4197 \n  1929.46,92.3317 1933.53,92.2454 1937.61,92.1609 1941.68,92.078 1945.75,91.9967 1949.82,91.917 1953.89,91.839 1957.96,91.7624 1962.03,91.6874 1966.1,91.6139 \n  1970.18,91.5418 1974.25,91.4712 1978.32,91.4019 1982.39,91.334 1986.46,91.2675 1990.53,91.2023 1994.6,91.1383 1998.68,91.0757 2002.75,91.0142 2006.82,90.954 \n  2010.89,90.895 2014.96,90.8372 2019.03,90.7805 2023.1,90.7249 2027.17,90.6704 2031.25,90.617 2035.32,90.5647 2039.39,90.5134 2043.46,90.4631 2047.53,90.4138 \n  2051.6,90.3654 2055.67,90.3181 2059.74,90.2717 2063.82,90.2262 2067.89,90.1816 2071.96,90.1378 2076.03,90.095 2080.1,90.053 2084.17,90.0118 2088.24,89.9714 \n  2092.31,89.9319 2096.39,89.8931 2100.46,89.8551 2104.53,89.8179 2108.6,89.7813 2112.67,89.7456 2116.74,89.7105 2120.81,89.6761 2124.89,89.6424 2128.96,89.6093 \n  2133.03,89.577 2137.1,89.5452 2141.17,89.5141 2145.24,89.4836 2149.31,89.4537 2153.38,89.4244 2157.46,89.3957 2161.53,89.3676 2165.6,89.34 2169.67,89.3129 \n  2173.74,89.2864 2177.81,89.2604 2181.88,89.235 2185.95,89.21 2190.03,89.1855 2194.1,89.1616 2198.17,89.1381 2202.24,89.115 2206.31,89.0924 2210.38,89.0703 \n  2214.45,89.0486 2218.53,89.0273 2222.6,89.0065 2226.67,88.9861 2230.74,88.966 2234.81,88.9464 2238.88,88.9272 2242.95,88.9083 2247.02,88.8898 2251.1,88.8717 \n  2255.17,88.8539 2259.24,88.8365 2263.31,88.8195 2267.38,88.8027 2271.45,88.7863 2275.52,88.7703 2279.59,88.7545 2283.67,88.7391 2287.74,88.724 2291.81,88.7091 \n  \n  \"/>\n<polyline clip-path=\"url(#clip462)\" style=\"stroke:#000000; stroke-linecap:butt; stroke-linejoin:round; stroke-width:4; stroke-opacity:1; fill:none\" stroke-dasharray=\"16, 10\" points=\"\n  763.226,1445.72 763.226,87.9763 \n  \"/>\n</svg>\n"
     },
     "execution_count": 13,
     "metadata": {
     },
     "output_type": "execute_result"
    }
   ],
   "source": [
    "plot(t,1000 .* exp.(-log(5) .* exp.(-0.2 .* t)),line=2,leg=false)\n",
    "plot!([tinfl,tinfl],[0,1000],ls=:dash,lc=:black)"
   ]
  },
  {
   "cell_type": "markdown",
   "metadata": {
    "collapsed": false
   },
   "source": [
    "<h5>\n",
    "    Lab Sheet 4 Problem 3\n",
    "</h5>"
   ]
  },
  {
   "cell_type": "markdown",
   "metadata": {
    "collapsed": false
   },
   "source": [
    "The volume of a sphere with radius $r$ is\n",
    "$\\frac{4}{3}\\pi{}r^{3}$. The surface of the sphere is $4\\pi{}r^{2}$. A\n",
    "spherical raindrop with radius $r(t)$ and initial radius $r(0)=5$\n",
    "evaporates at a rate that is proportional (use constant $k>0$ of\n",
    "proportionality) to its surface area. Find its volume $V(t)$ as a\n",
    "function of $t$ and $k$."
   ]
  },
  {
   "cell_type": "markdown",
   "metadata": {
    "collapsed": false
   },
   "source": [
    "The differential equation is\n",
    "$$\n",
    "\\frac{dV}{dt}+kS=0\n",
    "$$\n",
    "We know that\n",
    "$$\n",
    "\\frac{dV}{dr}=4\\pi{}r^{2}\\mbox{ and }\\frac{dV}{dt}=4\\pi{}r^{2}\\frac{dr}{dt}\n",
    "$$\n",
    "Combine these for\n",
    "$$\n",
    "\\frac{dr}{dt}=-k\n",
    "$$\n",
    "Therefore (assuming $r_{0}=5$)\n",
    "$$\n",
    "V(t)=\\frac{4}{3}\\pi(5-kt)^{3}\n",
    "$$"
   ]
  },
  {
   "cell_type": "markdown",
   "metadata": {
    "collapsed": false
   },
   "source": [
    "<h5>\n",
    "    Lab Sheet 4 Problem 4\n",
    "</h5>"
   ]
  },
  {
   "cell_type": "markdown",
   "metadata": {
    "collapsed": false
   },
   "source": [
    "The Peak-2-Peak gondola at Whistler-Blackcomb resort has a\n",
    "stretch of unsupported cable three kilometres long between towers\n",
    "situated on either side of the valley. Determine the equation of the\n",
    "curve assumed by one of the track cables suspended between these two\n",
    "towers. Assume the cable is hanging under its own weight (the cable is\n",
    "not carrying any gondola cars). Assume that stretching is negligible\n",
    "and use a coordinate system in which the $y$-axis passes through the\n",
    "lowest point in the cable."
   ]
  },
  {
   "cell_type": "markdown",
   "metadata": {
    "collapsed": false
   },
   "source": [
    "<img src=\"./diagrams/fachiaqu-1.png\" width=\"40%\" height=\"40%\">"
   ]
  },
  {
   "cell_type": "markdown",
   "metadata": {
    "collapsed": false
   },
   "source": [
    "Balancing the forces on the length $s$ of cable between the lowest point\n",
    "and a point $(x,y)$ on the curve gives the following two equations:\n",
    "\n",
    "$$\n",
    "\\begin{align*}\n",
    "  T\\cos\\theta&=T_{0}\\qquad\\mbox{(horizontal)}\\\\\n",
    "  T\\sin\\theta&=W\\qquad\\mbox{(vertical)}\\\\\n",
    "\\end{align*}\n",
    "$$\n",
    "\n",
    "The fixed horizontal tension $T_{0}$ is a constant defined to be the tension acting at the lowest point.\n",
    "The tension $T$ will vary depending on the coordinates $x$ and $y$ chosen, and always acts tangent to\n",
    "the curve. The weight $W$ acts directly downward, and is proportional to the mass per unit length\n",
    "$\\mu$. If stretching is negligible, $\\mu$ is constant along the arc length $s$ of the cable segment.\n",
    "\n",
    "The arc length $s$ of this length of cable is determined by:\n",
    "$$  s=\\int_{0}^{x}\\sqrt{1+\\left(\\frac{dy}{dt}\\right)^{2}}\\,dt\\notag\n",
    "$$\n",
    "\n",
    "* To determine a differential equation, solve the two equations\n",
    "  above for $T$ and put the two expressions equal to one another. Then\n",
    "  rewrite the angle $\\theta$ in terms of the derivative\n",
    "  $\\frac{dy}{dx}$.\n",
    "* Solve the differential equation to determine $y$ as a function of\n",
    "  $x$. For boundary conditions, use the fact that at $x=0$ (the lowest\n",
    "  point), the slope of the tangent to the curve must be zero, and the\n",
    "  $y$-value (in the coordinate system shown below) is also zero."
   ]
  },
  {
   "cell_type": "markdown",
   "metadata": {
    "collapsed": false
   },
   "source": [
    "<img src=\"./diagrams/fachiaqu-2.png\" width=\"70%\" height=\"70%\">"
   ]
  },
  {
   "cell_type": "markdown",
   "metadata": {
    "collapsed": false
   },
   "source": [
    "The horizontal and vertical balancing equations (which make sense intuitively as the cable is resting) give us\n",
    "$$\n",
    "W(x)=T_{0}\\tan\\theta(x)=T_{0}\\frac{dy}{dx}\n",
    "$$"
   ]
  },
  {
   "cell_type": "markdown",
   "metadata": {
    "collapsed": false
   },
   "source": [
    "To put $W$ in terms of $x$ and $y$, reason as follows with $s(x)=\\int_{0}^{x}\\sqrt{1+\\left(\\frac{dy}{d{}\\xi}\\right)^{2}}\\,d\\xi$ and, by the FTOC, $s'(x)=\\sqrt{1+\\left(\\frac{dy}{dx}\\right)^{2}}$\n",
    "$$\n",
    "\\frac{dW}{dx}=\\lim_{h\\rightarrow{}0}\\frac{\\mu\\int_{x}^{x+h}\\sqrt{1+\\left(\\frac{dy}{d{}\\xi}\\right)^{2}}\\,d\\xi}{h}=\\mu{}s'(x)=\\mu\\sqrt{1+\\left(\\frac{dy}{dx}\\right)^{2}}\n",
    "$$"
   ]
  },
  {
   "cell_type": "markdown",
   "metadata": {
    "collapsed": false
   },
   "source": [
    "Therefore,\n",
    "$$\n",
    "T_{0}\\frac{d^{2}y}{dx^{2}}=\\mu\\sqrt{1+\\left(\\frac{dy}{dx}\\right)^{2}}\n",
    "$$\n",
    "or, for $p=\\frac{dy}{dx}$,\n",
    "$$\n",
    "\\frac{dp}{dx}=\\frac{\\mu}{T_{0}}\\sqrt{1+p^{2}}\n",
    "$$\n",
    "$$\n",
    "\\frac{1}{\\sqrt{1+p^{2}}}\\,dp=\\frac{\\mu}{T_{0}}\\,dx\n",
    "$$\n",
    "$$\n",
    "\\operatorname{arcsinh}(p)=\\frac{\\mu}{T_{0}}x+C_{1}\n",
    "$$\n",
    "$$\n",
    "p=\\sinh\\left(\\frac{\\mu}{T_{0}}x+C_{1}\\right)\n",
    "$$\n",
    "$C_{1}=0$ because $p(0)=0$, therefore\n",
    "$$\n",
    "\\frac{dy}{dx}=\\sinh\\left(\\frac{\\mu}{T_{0}}x\\right)\n",
    "$$\n",
    "and\n",
    "$$\n",
    "y(x)=\\frac{T_{0}}{\\mu}\\cosh\\left(\\frac{\\mu}{T_{0}}x\\right)+C_{2}\n",
    "$$\n",
    "$y(0)=0$ implies\n",
    "$$\n",
    "y(x)=\\frac{T_{0}}{\\mu}\\cosh\\left(\\frac{\\mu}{T_{0}}x\\right)-\\frac{T_{0}}{\\mu}\n",
    "$$\n",
    "or\n",
    "$$\n",
    "y(x)=a\\cosh\\left(\\frac{x}{a}\\right)-a\n",
    "$$\n",
    "for some constant $a$ that you can easily calculate by measuring the coordinates of the support points for the cable.\n"
   ]
  }
 ],
 "metadata": {
  "kernelspec": {
   "display_name": "Julia 1.6",
   "env": {
    "JULIA_DEPOT_PATH": "/home/user/.julia/:/ext/julia/depot/",
    "JULIA_PROJECT": "/home/user/.julia/environment/v1.6"
   },
   "language": "julia",
   "metadata": {
    "cocalc": {
     "description": "The Julia Programming Language",
     "priority": 1,
     "url": "https://julialang.org/"
    }
   },
   "name": "julia-1.6",
   "resource_dir": "/ext/jupyter/kernels/julia-1.6"
  },
  "language_info": {
   "file_extension": ".jl",
   "mimetype": "application/julia",
   "name": "julia",
   "version": "1.6.3"
  }
 },
 "nbformat": 4,
 "nbformat_minor": 4
}