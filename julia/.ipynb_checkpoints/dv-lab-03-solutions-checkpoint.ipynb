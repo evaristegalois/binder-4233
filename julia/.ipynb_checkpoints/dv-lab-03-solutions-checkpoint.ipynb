{
 "cells": [
  {
   "cell_type": "markdown",
   "metadata": {
    "collapsed": false
   },
   "source": [
    "<h3>\n",
    "    Lab Sheet 3 Solutions\n",
    "</h3>"
   ]
  },
  {
   "cell_type": "markdown",
   "metadata": {
    "collapsed": false
   },
   "source": [
    "<h5>\n",
    "    Lab Sheet 3 Problem 1\n",
    "</h5>"
   ]
  },
  {
   "cell_type": "markdown",
   "metadata": {
    "collapsed": false
   },
   "source": [
    "<img src=\"./diagrams/dv-lab-03-solutions-01.png\" width=\"70%\" height=\"70%\">"
   ]
  },
  {
   "cell_type": "markdown",
   "metadata": {
    "collapsed": false
   },
   "source": [
    "<h5>\n",
    "    Lab Sheet 3 Problem 2\n",
    "</h5>"
   ]
  },
  {
   "cell_type": "markdown",
   "metadata": {
    "collapsed": false
   },
   "source": [
    "Suppose that an airplane departs from the point $(a,0)$\n",
    "located due east of its intended destination---an airport located at\n",
    "the origin $(0,0)$. The plane travels with constant speed $v_{0}$\n",
    "relative to the wind, which is blowing due north with constant speed\n",
    "$w$. As indicated in the diagram, we assume that the plane's pilot\n",
    "maintains its heading directly toward the origin."
   ]
  },
  {
   "cell_type": "markdown",
   "metadata": {
    "collapsed": false
   },
   "source": [
    "<img src=\"./diagrams/flighttrajectory.png\" width=\"30%\" height=\"30%\">"
   ]
  },
  {
   "cell_type": "markdown",
   "metadata": {
    "collapsed": false
   },
   "source": [
    "Find $\\frac{dy}{dx}=\\frac{dy/dt}{dx/dt}$ in terms of $x$ and $y$,\n",
    "solve the differential equation and determine what happens with\n",
    "$\\lim_{x\\rightarrow{}0^{+}}f(x)$ depending on whether $w<v_{0}$,\n",
    "$w=v_{0}$, or $w>v_{0}$.\n"
   ]
  },
  {
   "cell_type": "markdown",
   "metadata": {
    "collapsed": false
   },
   "source": [
    "<img src=\"./diagrams/dv-lab-03-solutions-02.png\" width=\"70%\" height=\"70%\">"
   ]
  },
  {
   "cell_type": "markdown",
   "metadata": {
    "collapsed": false
   },
   "source": [
    "<h5>\n",
    "    Lab Sheet 3 Problem 3\n",
    "</h5>"
   ]
  },
  {
   "cell_type": "markdown",
   "metadata": {
    "collapsed": false
   },
   "source": [
    "<img src=\"./diagrams/dv-lab-03-solutions-03-1--2.png\" width=\"70%\" height=\"70%\">"
   ]
  },
  {
   "cell_type": "markdown",
   "metadata": {
    "collapsed": false
   },
   "source": [
    "<img src=\"./diagrams/dv-lab-03-solutions-03-3.png\" width=\"30%\" height=\"30%\">"
   ]
  },
  {
   "cell_type": "markdown",
   "metadata": {
    "collapsed": false
   },
   "source": [
    "<img src=\"./diagrams/dv-lab-03-solutions-03-4.png\" width=\"30%\" height=\"30%\">"
   ]
  },
  {
   "cell_type": "markdown",
   "metadata": {
    "collapsed": false
   },
   "source": [
    "<img src=\"./diagrams/dv-lab-03-solutions-03-5.png\" width=\"30%\" height=\"30%\">"
   ]
  },
  {
   "cell_type": "markdown",
   "metadata": {
    "collapsed": false
   },
   "source": [
    "<img src=\"./diagrams/dv-lab-03-solutions-03-6.png\" width=\"40%\" height=\"40%\">"
   ]
  },
  {
   "cell_type": "markdown",
   "metadata": {
    "collapsed": false
   },
   "source": [
    "<h5>\n",
    "    Lab Sheet 3 Problem 4\n",
    "</h5>"
   ]
  },
  {
   "cell_type": "markdown",
   "metadata": {
    "collapsed": false
   },
   "source": [
    "Even before taking into account the effect of air\n",
    "resistance, the velocity of a falling hailstone can be substantially\n",
    "slowed by other factors. Consider, for instance, a spherical hailstone\n",
    "falling through a uniform mist under the influence of gravity alone.\n",
    "As the hailstone falls through the fog, it collects moisture to itself\n",
    "from the mist, gaining mass in a manner that affects its velocity. In\n",
    "a coordinate system in which the positive direction is upward, the\n",
    "hailstone's vertical displacement $y$ is then governed by a non-linear\n",
    "second-order differential equation:\n",
    "$$\n",
    "  \\frac{d^{2}y}{dt^{2}}=-g-\\frac{3}{y}\\left(\\frac{dy}{dt}\\right)^{2}\\notag\n",
    "$$\n",
    "\n",
    "* Use appropriate substitution methods to determine a general solution for $v(y)$, the vertical velocity $v$ as a function of vertical displacement $y$.\n",
    "* Apply the initial condition $v=0$ at $y=0$ to determine a particular solution for $v(y)$. For this particular solution, find $y(t)$ using the fact that $v=dy/dt$.\n",
    "* What is the acceleration (expressed as a function of time $t$) experienced by the hailstone for the particular solution found above?"
   ]
  },
  {
   "cell_type": "markdown",
   "metadata": {
    "collapsed": false
   },
   "source": [
    "$$\n",
    "\\frac{d^{2}y}{dt^{2}}=-g-\\frac{3}{y}\\left(\\frac{dy}{dt}\\right)^{2}\n",
    "$$"
   ]
  },
  {
   "cell_type": "markdown",
   "metadata": {
    "collapsed": false
   },
   "source": [
    "substitute $v=\\frac{dy}{dt}$ for\n",
    "$$\n",
    "\\frac{dv}{dt}=-g-\\frac{3}{y}v^{2}\n",
    "$$"
   ]
  },
  {
   "cell_type": "markdown",
   "metadata": {
    "collapsed": false
   },
   "source": [
    "now replace $t$ by $y$ for\n",
    "$$\n",
    "\\frac{dv}{dy}v=-g-\\frac{3}{y}v^{2}\n",
    "$$"
   ]
  },
  {
   "cell_type": "markdown",
   "metadata": {
    "collapsed": false
   },
   "source": [
    "divide by $v$ and rearrange for Bernoulli with $n=-1$\n",
    "$$\n",
    "\\frac{dv}{dy}+\\frac{3}{y}v=-gv^{-1}\n",
    "$$"
   ]
  },
  {
   "cell_type": "markdown",
   "metadata": {
    "collapsed": false
   },
   "source": [
    "substitute $w=v^{2}$ and $dw=2v\\,dv$ for\n",
    "$$\n",
    "\\frac{1}{2v}\\frac{dw}{dy}+\\frac{3}{y}v=-gv^{-1}\n",
    "$$\n",
    "$$\n",
    "\\frac{dw}{dy}+\\frac{6}{y}w=-2g\n",
    "$$"
   ]
  },
  {
   "cell_type": "markdown",
   "metadata": {
    "collapsed": false
   },
   "source": [
    "now multiply by $\\displaystyle e^{\\int{}\\frac{6}{y}\\,dy}=y^{6}$ for\n",
    "$$\n",
    "y^{6}\\frac{dw}{dy}+6y^{5}w=-2gy^{6}\n",
    "$$\n",
    "$$\n",
    "y^{6}w=-2g\\int{}y^{6}\\,dy=-\\frac{2}{7}gy^{7}+C\n",
    "$$\n",
    "$$\n",
    "w=-\\frac{2}{7}gy+\\frac{C}{y^{6}}\n",
    "$$\n",
    "$$\n",
    "v=\\pm\\sqrt{-\\frac{2}{7}gy+\\frac{C}{y^{6}}}\n",
    "$$"
   ]
  },
  {
   "cell_type": "markdown",
   "metadata": {
    "collapsed": false
   },
   "source": [
    "now use $v(0)=0$ for $C=0$ and therefore\n",
    "$$\n",
    "v(y)=\\pm\\sqrt{-\\frac{2}{7}gy}\n",
    "$$\n",
    "only the minus sign makes sense, so\n",
    "$$\n",
    "v(y)=-\\sqrt{-\\frac{2}{7}gy}\n",
    "$$\n"
   ]
  },
  {
   "cell_type": "markdown",
   "metadata": {
    "collapsed": false
   },
   "source": [
    "the acceleration is\n",
    "$$\n",
    "\\frac{dv}{dt}=\\frac{dv}{dy}\\frac{dy}{dt}=\\frac{g}{7\\sqrt{-\\frac{2}{7}gy}}v(t)=\\frac{g}{7\\sqrt{-\\frac{2}{7}gy}}\\left(-\\sqrt{-\\frac{2}{7}gy}\\right)=-\\frac{g}{7}\n",
    "$$\n"
   ]
  }
 ],
 "metadata": {
  "kernelspec": {
   "display_name": "Julia 1.6",
   "env": {
    "JULIA_DEPOT_PATH": "/home/user/.julia/:/ext/julia/depot/",
    "JULIA_PROJECT": "/home/user/.julia/environment/v1.6"
   },
   "language": "julia",
   "metadata": {
    "cocalc": {
     "description": "The Julia Programming Language",
     "priority": 10,
     "url": "https://julialang.org/"
    }
   },
   "name": "julia-1.6",
   "resource_dir": "/ext/jupyter/kernels/julia-1.6"
  },
  "language_info": {
   "file_extension": ".jl",
   "mimetype": "application/julia",
   "name": "julia",
   "version": "1.6.3"
  }
 },
 "nbformat": 4,
 "nbformat_minor": 4
}