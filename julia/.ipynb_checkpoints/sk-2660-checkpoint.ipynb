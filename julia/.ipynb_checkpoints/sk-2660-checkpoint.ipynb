{
 "cells": [
  {
   "cell_type": "code",
   "execution_count": 8,
   "id": "bcf5649d",
   "metadata": {},
   "outputs": [
    {
     "data": {
      "text/plain": [
       "4-element Vector{Float64}:\n",
       "  3.0\n",
       "  3.0\n",
       "  3.0\n",
       " -1.5"
      ]
     },
     "execution_count": 8,
     "metadata": {},
     "output_type": "execute_result"
    }
   ],
   "source": [
    "x0=[3;3;3;-1.5]"
   ]
  },
  {
   "cell_type": "code",
   "execution_count": 13,
   "id": "83a18f34",
   "metadata": {},
   "outputs": [
    {
     "data": {
      "text/plain": [
       "4-element Vector{Float64}:\n",
       "  3.2659863237109046\n",
       "  3.2659863237109046\n",
       "  3.2659863237109024\n",
       " -1.632993161855452"
      ]
     },
     "execution_count": 13,
     "metadata": {},
     "output_type": "execute_result"
    }
   ],
   "source": [
    "F(x)=[x[2,1]*x[3,1]+x[4,1]*(x[2,1]+x[3,1]);x[1,1]*x[3,1]+x[4,1]*(x[1,1]+x[3,1]);x[1,1]*x[2,1]+x[4,1]*(x[1,1]+x[2,1]);x[1,1]*x[2,1]+x[1,1]*x[3,1]+x[3,1]*x[2,1]-32]\n",
    "J(x)=[0 x[3,1]+x[4,1] x[2,1]+x[4,1] x[2,1]+x[3,1];x[3,1]+x[4,1] 0 x[1,1]+x[4,1] x[1,1]+x[3,1];x[2,1]+x[4,1] x[1,1]+x[4,1] 0 x[1,1]+x[2,1];x[2,1]+x[3,1] x[1,1]+x[3,1] x[1,1]+x[2,1] 0]\n",
    "x0=inv(J(x0))*(J(x0)*x0-F(x0))"
   ]
  },
  {
   "cell_type": "code",
   "execution_count": 5,
   "id": "a9279d83",
   "metadata": {},
   "outputs": [
    {
     "data": {
      "text/plain": [
       "3.265986323710904"
      ]
     },
     "execution_count": 5,
     "metadata": {},
     "output_type": "execute_result"
    }
   ],
   "source": [
    "sqrt(32/3)"
   ]
  },
  {
   "cell_type": "code",
   "execution_count": 14,
   "id": "b977031f",
   "metadata": {},
   "outputs": [],
   "source": [
    "using CSV\n",
    "using DataFrames"
   ]
  },
  {
   "cell_type": "code",
   "execution_count": 22,
   "id": "f74f3ffc",
   "metadata": {},
   "outputs": [],
   "source": [
    "using LinearAlgebra"
   ]
  },
  {
   "cell_type": "code",
   "execution_count": 24,
   "id": "90f9abe4",
   "metadata": {},
   "outputs": [
    {
     "data": {
      "text/html": [
       "<div class=\"data-frame\"><p>5 rows × 3 columns</p><table class=\"data-frame\"><thead><tr><th></th><th>ast</th><th>one</th><th>two</th></tr><tr><th></th><th title=\"String15\">String15</th><th title=\"Float64\">Float64</th><th title=\"Float64\">Float64</th></tr></thead><tbody><tr><th>1</th><td>Essay 1</td><td>0.87</td><td>0.25</td></tr><tr><th>2</th><td>Final Exam</td><td>0.61</td><td>0.25</td></tr><tr><th>3</th><td>Attendance</td><td>0.619</td><td>0.05</td></tr><tr><th>4</th><td>Reading Ass</td><td>0.4444</td><td>0.2</td></tr><tr><th>5</th><td>Final Essay</td><td>0.68</td><td>0.25</td></tr></tbody></table></div>"
      ],
      "text/latex": [
       "\\begin{tabular}{r|ccc}\n",
       "\t& ast & one & two\\\\\n",
       "\t\\hline\n",
       "\t& String15 & Float64 & Float64\\\\\n",
       "\t\\hline\n",
       "\t1 & Essay 1 & 0.87 & 0.25 \\\\\n",
       "\t2 & Final Exam & 0.61 & 0.25 \\\\\n",
       "\t3 & Attendance & 0.619 & 0.05 \\\\\n",
       "\t4 & Reading Ass & 0.4444 & 0.2 \\\\\n",
       "\t5 & Final Essay & 0.68 & 0.25 \\\\\n",
       "\\end{tabular}\n"
      ],
      "text/plain": [
       "\u001b[1m5×3 DataFrame\u001b[0m\n",
       "\u001b[1m Row \u001b[0m│\u001b[1m ast         \u001b[0m\u001b[1m one     \u001b[0m\u001b[1m two     \u001b[0m\n",
       "\u001b[1m     \u001b[0m│\u001b[90m String15    \u001b[0m\u001b[90m Float64 \u001b[0m\u001b[90m Float64 \u001b[0m\n",
       "─────┼───────────────────────────────\n",
       "   1 │ Essay 1       0.87       0.25\n",
       "   2 │ Final Exam    0.61       0.25\n",
       "   3 │ Attendance    0.619      0.05\n",
       "   4 │ Reading Ass   0.4444     0.2\n",
       "   5 │ Final Essay   0.68       0.25"
      ]
     },
     "execution_count": 24,
     "metadata": {},
     "output_type": "execute_result"
    }
   ],
   "source": [
    "df1=DataFrame(CSV.File(\"./csv/low.csv\"))"
   ]
  },
  {
   "cell_type": "code",
   "execution_count": 25,
   "id": "6ccda415",
   "metadata": {},
   "outputs": [
    {
     "data": {
      "text/plain": [
       "0.65983"
      ]
     },
     "execution_count": 25,
     "metadata": {},
     "output_type": "execute_result"
    }
   ],
   "source": [
    "dot(df1[:,2],df1[:,3])"
   ]
  },
  {
   "cell_type": "code",
   "execution_count": 26,
   "id": "cee278d4",
   "metadata": {},
   "outputs": [
    {
     "data": {
      "text/plain": [
       "2"
      ]
     },
     "execution_count": 26,
     "metadata": {},
     "output_type": "execute_result"
    }
   ],
   "source": [
    "r=2"
   ]
  },
  {
   "cell_type": "code",
   "execution_count": 27,
   "id": "d80dc556",
   "metadata": {},
   "outputs": [
    {
     "data": {
      "text/plain": [
       "0.2617993877991494"
      ]
     },
     "execution_count": 27,
     "metadata": {},
     "output_type": "execute_result"
    }
   ],
   "source": [
    "phi=/(pi,12)"
   ]
  },
  {
   "cell_type": "code",
   "execution_count": 31,
   "id": "e6ec2bd4",
   "metadata": {},
   "outputs": [
    {
     "data": {
      "text/plain": [
       "3.8637033051562732"
      ]
     },
     "execution_count": 31,
     "metadata": {},
     "output_type": "execute_result"
    }
   ],
   "source": [
    "^(*(2,^(r,2),+(1,cos(*(2,phi)))),0.5)"
   ]
  },
  {
   "cell_type": "code",
   "execution_count": 29,
   "id": "ecae552d",
   "metadata": {},
   "outputs": [
    {
     "data": {
      "text/plain": [
       "3.8637033051562732"
      ]
     },
     "execution_count": 29,
     "metadata": {},
     "output_type": "execute_result"
    }
   ],
   "source": [
    "*(2,r,cos(phi))"
   ]
  },
  {
   "cell_type": "code",
   "execution_count": 32,
   "id": "ab41bc6b",
   "metadata": {},
   "outputs": [
    {
     "data": {
      "text/plain": [
       "5.277916867529369"
      ]
     },
     "execution_count": 32,
     "metadata": {},
     "output_type": "execute_result"
    }
   ],
   "source": [
    "*(^(2,/(3,2)),r,^(cos(phi),2))"
   ]
  },
  {
   "cell_type": "code",
   "execution_count": 1,
   "id": "568fcc73",
   "metadata": {},
   "outputs": [],
   "source": [
    "using SymPy"
   ]
  },
  {
   "cell_type": "code",
   "execution_count": 2,
   "id": "ad63ab55",
   "metadata": {},
   "outputs": [
    {
     "data": {
      "text/plain": [
       "(x,)"
      ]
     },
     "execution_count": 2,
     "metadata": {},
     "output_type": "execute_result"
    }
   ],
   "source": [
    "@vars x"
   ]
  },
  {
   "cell_type": "code",
   "execution_count": 48,
   "id": "7b7613d7",
   "metadata": {},
   "outputs": [
    {
     "data": {
      "text/latex": [
       "$- \\left(20 \\cos{\\left(x \\right)} - 8\\right) \\sin{\\left(x \\right)} - 20 \\sin{\\left(x \\right)} \\cos{\\left(x \\right)}$"
      ],
      "text/plain": [
       "-(20⋅cos(x) - 8)⋅sin(x) - 20⋅sin(x)⋅cos(x)"
      ]
     },
     "execution_count": 48,
     "metadata": {},
     "output_type": "execute_result"
    }
   ],
   "source": [
    "u1=SymPy.diff(*(cos(x),-(*(20,cos(x)),8)))"
   ]
  },
  {
   "cell_type": "code",
   "execution_count": 49,
   "id": "7e9581f6",
   "metadata": {},
   "outputs": [
    {
     "data": {
      "text/latex": [
       "$\\left(20 \\cos{\\left(x \\right)} - 8\\right) \\cos{\\left(x \\right)} - 20 \\sin^{2}{\\left(x \\right)}$"
      ],
      "text/plain": [
       "                               2   \n",
       "(20⋅cos(x) - 8)⋅cos(x) - 20⋅sin (x)"
      ]
     },
     "execution_count": 49,
     "metadata": {},
     "output_type": "execute_result"
    }
   ],
   "source": [
    "u2=SymPy.diff(*(sin(x),-(*(20,cos(x)),8)))"
   ]
  },
  {
   "cell_type": "code",
   "execution_count": 50,
   "id": "23a37787",
   "metadata": {},
   "outputs": [
    {
     "data": {
      "text/plain": [
       "#107 (generic function with 1 method)"
      ]
     },
     "execution_count": 50,
     "metadata": {},
     "output_type": "execute_result"
    }
   ],
   "source": [
    "v1=lambdify(u1)"
   ]
  },
  {
   "cell_type": "code",
   "execution_count": 51,
   "id": "0436df5a",
   "metadata": {},
   "outputs": [
    {
     "data": {
      "text/plain": [
       "#107 (generic function with 1 method)"
      ]
     },
     "execution_count": 51,
     "metadata": {},
     "output_type": "execute_result"
    }
   ],
   "source": [
    "v2=lambdify(u2)"
   ]
  },
  {
   "cell_type": "code",
   "execution_count": 52,
   "id": "c0c51e0a",
   "metadata": {},
   "outputs": [
    {
     "data": {
      "text/plain": [
       "2.291287847477919"
      ]
     },
     "execution_count": 52,
     "metadata": {},
     "output_type": "execute_result"
    }
   ],
   "source": [
    "/(v2(t1),v1(t1))"
   ]
  },
  {
   "cell_type": "code",
   "execution_count": 1,
   "id": "b0feeb81",
   "metadata": {},
   "outputs": [],
   "source": [
    "using LinearAlgebra"
   ]
  },
  {
   "cell_type": "code",
   "execution_count": 2,
   "id": "2c790886",
   "metadata": {},
   "outputs": [
    {
     "data": {
      "text/plain": [
       "3×3 Matrix{Int64}:\n",
       "  1  1  0\n",
       "  1  0  1\n",
       " -2  1  1"
      ]
     },
     "execution_count": 2,
     "metadata": {},
     "output_type": "execute_result"
    }
   ],
   "source": [
    "M1=[1 1 0\n",
    "1 0 1\n",
    "-2 1 1]"
   ]
  },
  {
   "cell_type": "code",
   "execution_count": 3,
   "id": "773f3f89",
   "metadata": {},
   "outputs": [
    {
     "data": {
      "text/plain": [
       "3-element Vector{Int64}:\n",
       " 0\n",
       " 1\n",
       " 0"
      ]
     },
     "execution_count": 3,
     "metadata": {},
     "output_type": "execute_result"
    }
   ],
   "source": [
    "v1=[0;1;0]"
   ]
  },
  {
   "cell_type": "code",
   "execution_count": 4,
   "id": "116b43c4",
   "metadata": {},
   "outputs": [
    {
     "data": {
      "text/plain": [
       "3-element Vector{Float64}:\n",
       "  0.25\n",
       " -0.24999999999999994\n",
       "  0.7499999999999999"
      ]
     },
     "execution_count": 4,
     "metadata": {},
     "output_type": "execute_result"
    }
   ],
   "source": [
    "inv(M1)*v1"
   ]
  },
  {
   "cell_type": "code",
   "execution_count": 6,
   "id": "4f50693c",
   "metadata": {},
   "outputs": [],
   "source": [
    "using LinearAlgebra"
   ]
  },
  {
   "cell_type": "code",
   "execution_count": 7,
   "id": "77a8dd0e",
   "metadata": {},
   "outputs": [
    {
     "data": {
      "text/plain": [
       "3-element Vector{Int64}:\n",
       "  2\n",
       " -3\n",
       "  1"
      ]
     },
     "execution_count": 7,
     "metadata": {},
     "output_type": "execute_result"
    }
   ],
   "source": [
    "op=[2;-3;1]"
   ]
  },
  {
   "cell_type": "code",
   "execution_count": 8,
   "id": "09f48f67",
   "metadata": {},
   "outputs": [
    {
     "data": {
      "text/plain": [
       "3-element Vector{Int64}:\n",
       "   2\n",
       "  -2\n",
       " -13"
      ]
     },
     "execution_count": 8,
     "metadata": {},
     "output_type": "execute_result"
    }
   ],
   "source": [
    "oq=[2;-2;-13]"
   ]
  },
  {
   "cell_type": "code",
   "execution_count": 9,
   "id": "70cb6a0b",
   "metadata": {},
   "outputs": [
    {
     "data": {
      "text/plain": [
       "3-element Vector{Int64}:\n",
       "  3\n",
       " -3\n",
       "  3"
      ]
     },
     "execution_count": 9,
     "metadata": {},
     "output_type": "execute_result"
    }
   ],
   "source": [
    "or=[3;-3;3]"
   ]
  },
  {
   "cell_type": "code",
   "execution_count": 10,
   "id": "e2199ce5",
   "metadata": {},
   "outputs": [
    {
     "data": {
      "text/plain": [
       "3-element Vector{Int64}:\n",
       "   0\n",
       "   1\n",
       " -14"
      ]
     },
     "execution_count": 10,
     "metadata": {},
     "output_type": "execute_result"
    }
   ],
   "source": [
    "pq=oq-op"
   ]
  },
  {
   "cell_type": "code",
   "execution_count": 11,
   "id": "ba71fac9",
   "metadata": {},
   "outputs": [
    {
     "data": {
      "text/plain": [
       "3-element Vector{Int64}:\n",
       " 1\n",
       " 0\n",
       " 2"
      ]
     },
     "execution_count": 11,
     "metadata": {},
     "output_type": "execute_result"
    }
   ],
   "source": [
    "pr=or-op"
   ]
  },
  {
   "cell_type": "code",
   "execution_count": 12,
   "id": "5d2ac6c2",
   "metadata": {},
   "outputs": [
    {
     "data": {
      "text/plain": [
       "3-element Vector{Int64}:\n",
       "   2\n",
       " -14\n",
       "  -1"
      ]
     },
     "execution_count": 12,
     "metadata": {},
     "output_type": "execute_result"
    }
   ],
   "source": [
    "cross(pq,pr)"
   ]
  },
  {
   "cell_type": "code",
   "execution_count": 1,
   "id": "faf2c967",
   "metadata": {},
   "outputs": [],
   "source": [
    "using SymPy"
   ]
  },
  {
   "cell_type": "code",
   "execution_count": 2,
   "id": "3345cbc6",
   "metadata": {},
   "outputs": [
    {
     "data": {
      "text/plain": [
       "(s,)"
      ]
     },
     "execution_count": 2,
     "metadata": {},
     "output_type": "execute_result"
    }
   ],
   "source": [
    "@vars s"
   ]
  },
  {
   "cell_type": "code",
   "execution_count": 11,
   "id": "7af4027d",
   "metadata": {},
   "outputs": [
    {
     "data": {
      "text/latex": [
       "$\\frac{4}{25 \\left(s + 20\\right)} - \\frac{19}{25 \\left(s + 5\\right)} + \\frac{3}{5 s}$"
      ],
      "text/plain": [
       "     4            19        3 \n",
       "─────────── - ────────── + ───\n",
       "25⋅(s + 20)   25⋅(s + 5)   5⋅s"
      ]
     },
     "execution_count": 11,
     "metadata": {},
     "output_type": "execute_result"
    }
   ],
   "source": [
    "apart(/(+(*(//(3,5),s),60),*(s,+(s,20),+(s,5))))"
   ]
  },
  {
   "cell_type": "code",
   "execution_count": 9,
   "id": "ea47ce8a",
   "metadata": {},
   "outputs": [
    {
     "data": {
      "text/plain": [
       "f1 (generic function with 1 method)"
      ]
     },
     "execution_count": 9,
     "metadata": {},
     "output_type": "execute_result"
    }
   ],
   "source": [
    "f1(s)=/(+(*(//(3,5),s),60),*(s,+(s,20),+(s,5)))"
   ]
  },
  {
   "cell_type": "code",
   "execution_count": 10,
   "id": "d9e502fd",
   "metadata": {},
   "outputs": [
    {
     "data": {
      "text/latex": [
       "$\\frac{\\frac{3 s}{5} + 60}{s \\left(s + 5\\right) \\left(s + 20\\right)}$"
      ],
      "text/plain": [
       "     3⋅s          \n",
       "     ─── + 60     \n",
       "      5           \n",
       "──────────────────\n",
       "s⋅(s + 5)⋅(s + 20)"
      ]
     },
     "execution_count": 10,
     "metadata": {},
     "output_type": "execute_result"
    }
   ],
   "source": [
    "f1(s)"
   ]
  },
  {
   "cell_type": "code",
   "execution_count": 7,
   "id": "5d76aff5",
   "metadata": {},
   "outputs": [
    {
     "data": {
      "text/latex": [
       "$\\frac{1}{4 \\left(s + 1\\right)} - \\frac{1}{4 \\left(s - 1\\right)} + \\frac{1}{2 \\left(s - 1\\right)^{2}}$"
      ],
      "text/plain": [
       "    1           1           1     \n",
       "───────── - ───────── + ──────────\n",
       "4⋅(s + 1)   4⋅(s - 1)            2\n",
       "                        2⋅(s - 1) "
      ]
     },
     "execution_count": 7,
     "metadata": {},
     "output_type": "execute_result"
    }
   ],
   "source": [
    "apart(/(1,*(+(s,1),^(-(s,1),2))))"
   ]
  },
  {
   "cell_type": "code",
   "execution_count": 1,
   "id": "7bc88299",
   "metadata": {},
   "outputs": [],
   "source": [
    "using LinearAlgebra"
   ]
  },
  {
   "cell_type": "code",
   "execution_count": 2,
   "id": "3eecc91f",
   "metadata": {},
   "outputs": [
    {
     "data": {
      "text/plain": [
       "3×3 Matrix{Int64}:\n",
       "   1    1   1\n",
       " -25  -20  -5\n",
       " 100    0   0"
      ]
     },
     "execution_count": 2,
     "metadata": {},
     "output_type": "execute_result"
    }
   ],
   "source": [
    "M1=[1 1 1\n",
    "-25 -20 -5\n",
    "100 0 0]"
   ]
  },
  {
   "cell_type": "code",
   "execution_count": 3,
   "id": "568e7a49",
   "metadata": {},
   "outputs": [
    {
     "data": {
      "text/plain": [
       "3-element Vector{Rational{Int64}}:\n",
       " 0//1\n",
       " 3//5\n",
       " 6//1"
      ]
     },
     "execution_count": 3,
     "metadata": {},
     "output_type": "execute_result"
    }
   ],
   "source": [
    "v1=[0\n",
    "3//5\n",
    "6]"
   ]
  },
  {
   "cell_type": "code",
   "execution_count": 4,
   "id": "a725baba",
   "metadata": {},
   "outputs": [
    {
     "data": {
      "text/plain": [
       "3-element Vector{Float64}:\n",
       "  0.06\n",
       " -0.12\n",
       "  0.060000000000000005"
      ]
     },
     "execution_count": 4,
     "metadata": {},
     "output_type": "execute_result"
    }
   ],
   "source": [
    "*(inv(M1),v1)"
   ]
  },
  {
   "cell_type": "code",
   "execution_count": 13,
   "id": "250faecf",
   "metadata": {},
   "outputs": [
    {
     "data": {
      "text/latex": [
       "$\\frac{1}{4 \\left(s + 1\\right)} - \\frac{1}{4 \\left(s - 1\\right)} + \\frac{3}{2 \\left(s - 1\\right)^{2}}$"
      ],
      "text/plain": [
       "    1           1           3     \n",
       "───────── - ───────── + ──────────\n",
       "4⋅(s + 1)   4⋅(s - 1)            2\n",
       "                        2⋅(s - 1) "
      ]
     },
     "execution_count": 13,
     "metadata": {},
     "output_type": "execute_result"
    }
   ],
   "source": [
    "apart(/(+(s,2),*(+(s,1),+(^(s,2),*(-2,s),1))))"
   ]
  },
  {
   "cell_type": "code",
   "execution_count": 6,
   "id": "a91f8a42",
   "metadata": {},
   "outputs": [
    {
     "data": {
      "text/plain": [
       "f2 (generic function with 1 method)"
      ]
     },
     "execution_count": 6,
     "metadata": {},
     "output_type": "execute_result"
    }
   ],
   "source": [
    "f2(s)=/(+(s,2),*(+(s,1),+(^(s,2),*(-2,s),-2)))"
   ]
  },
  {
   "cell_type": "code",
   "execution_count": 7,
   "id": "c66daeba",
   "metadata": {},
   "outputs": [
    {
     "data": {
      "text/latex": [
       "$\\frac{s + 2}{\\left(s + 1\\right) \\left(s^{2} - 2 s - 2\\right)}$"
      ],
      "text/plain": [
       "        s + 2         \n",
       "──────────────────────\n",
       "        ⎛ 2          ⎞\n",
       "(s + 1)⋅⎝s  - 2⋅s - 2⎠"
      ]
     },
     "execution_count": 7,
     "metadata": {},
     "output_type": "execute_result"
    }
   ],
   "source": [
    "f2(s)"
   ]
  },
  {
   "cell_type": "code",
   "execution_count": 8,
   "id": "dd216a24",
   "metadata": {},
   "outputs": [],
   "source": [
    "using Polynomials"
   ]
  },
  {
   "cell_type": "code",
   "execution_count": 9,
   "id": "fa68c2ea",
   "metadata": {},
   "outputs": [
    {
     "data": {
      "text/html": [
       "&#45;2 &#45; 2&#8729;x &#43; x<sup>2</sup>"
      ],
      "text/latex": [
       "$-2 - 2\\cdot x + x^{2}$"
      ],
      "text/plain": [
       "Polynomial(-2 - 2*x + x^2)"
      ]
     },
     "execution_count": 9,
     "metadata": {},
     "output_type": "execute_result"
    }
   ],
   "source": [
    "p1=Polynomial([-2,-2,1])"
   ]
  },
  {
   "cell_type": "code",
   "execution_count": 11,
   "id": "d5e649a6",
   "metadata": {},
   "outputs": [
    {
     "data": {
      "text/plain": [
       "2-element Vector{Float64}:\n",
       " -0.7320508075688773\n",
       "  2.732050807568877"
      ]
     },
     "execution_count": 11,
     "metadata": {},
     "output_type": "execute_result"
    }
   ],
   "source": [
    "Polynomials.roots(p1)"
   ]
  },
  {
   "cell_type": "code",
   "execution_count": 12,
   "id": "0c768df5",
   "metadata": {},
   "outputs": [
    {
     "data": {
      "text/latex": [
       "$- \\frac{1}{300 \\left(s + 20\\right)} - \\frac{1}{150 \\left(s + 5\\right)} + \\frac{1}{100 s}$"
      ],
      "text/plain": [
       "       1              1          1  \n",
       "- ──────────── - ─────────── + ─────\n",
       "  300⋅(s + 20)   150⋅(s + 5)   100⋅s"
      ]
     },
     "execution_count": 12,
     "metadata": {},
     "output_type": "execute_result"
    }
   ],
   "source": [
    "apart(/(+(*(//(1,10),s),1),*(s,+(s,5),+(s,20))))"
   ]
  },
  {
   "cell_type": "code",
   "execution_count": 13,
   "id": "2b6718c2",
   "metadata": {},
   "outputs": [
    {
     "data": {
      "text/plain": [
       "186"
      ]
     },
     "execution_count": 13,
     "metadata": {},
     "output_type": "execute_result"
    }
   ],
   "source": [
    "+(157,29)"
   ]
  },
  {
   "cell_type": "code",
   "execution_count": 14,
   "id": "f4bde091",
   "metadata": {},
   "outputs": [
    {
     "data": {
      "text/plain": [
       "174"
      ]
     },
     "execution_count": 14,
     "metadata": {},
     "output_type": "execute_result"
    }
   ],
   "source": [
    "-(360,186)"
   ]
  },
  {
   "cell_type": "code",
   "execution_count": 35,
   "id": "788e7a56",
   "metadata": {},
   "outputs": [
    {
     "data": {
      "text/plain": [
       "6378.1"
      ]
     },
     "execution_count": 35,
     "metadata": {},
     "output_type": "execute_result"
    }
   ],
   "source": [
    "R=6378.1"
   ]
  },
  {
   "cell_type": "code",
   "execution_count": 36,
   "id": "8bd6ef7b",
   "metadata": {},
   "outputs": [
    {
     "data": {
      "text/plain": [
       "5954.469318241803"
      ]
     },
     "execution_count": 36,
     "metadata": {},
     "output_type": "execute_result"
    }
   ],
   "source": [
    "r1=R*cos(*(21,/(pi,180)))"
   ]
  },
  {
   "cell_type": "code",
   "execution_count": 37,
   "id": "e44c7969",
   "metadata": {},
   "outputs": [
    {
     "data": {
      "text/plain": [
       "9457.183627919438"
      ]
     },
     "execution_count": 37,
     "metadata": {},
     "output_type": "execute_result"
    }
   ],
   "source": [
    "d1=*(r1,*(-(107,16),/(pi,180)))"
   ]
  },
  {
   "cell_type": "code",
   "execution_count": 38,
   "id": "fa2ce215",
   "metadata": {},
   "outputs": [
    {
     "data": {
      "text/plain": [
       "3005.608815579159"
      ]
     },
     "execution_count": 38,
     "metadata": {},
     "output_type": "execute_result"
    }
   ],
   "source": [
    "d2=*(R,*(27,/(pi,180)))"
   ]
  },
  {
   "cell_type": "code",
   "execution_count": 39,
   "id": "a9effcbe",
   "metadata": {},
   "outputs": [
    {
     "data": {
      "text/plain": [
       "12462.792443498596"
      ]
     },
     "execution_count": 39,
     "metadata": {},
     "output_type": "execute_result"
    }
   ],
   "source": [
    "d3=+(d1,d2)"
   ]
  },
  {
   "cell_type": "code",
   "execution_count": 40,
   "id": "4d236e41",
   "metadata": {},
   "outputs": [
    {
     "data": {
      "text/plain": [
       "0.2554169917675503"
      ]
     },
     "execution_count": 40,
     "metadata": {},
     "output_type": "execute_result"
    }
   ],
   "source": [
    "cosc=+(*(cos(*(42,/(pi,180))),cos(*(69,/(pi,180)))),*(sin(*(42,/(pi,180))),sin(*(69,/(pi,180))),cos(*(-(107,16),/(pi,180)))))"
   ]
  },
  {
   "cell_type": "code",
   "execution_count": 41,
   "id": "7f37aec7",
   "metadata": {},
   "outputs": [
    {
     "data": {
      "text/plain": [
       "8371.366914270602"
      ]
     },
     "execution_count": 41,
     "metadata": {},
     "output_type": "execute_result"
    }
   ],
   "source": [
    "d4=acos(cosc)*R"
   ]
  },
  {
   "cell_type": "code",
   "execution_count": 42,
   "id": "8b175947",
   "metadata": {},
   "outputs": [
    {
     "data": {
      "text/plain": [
       "4091.425529227994"
      ]
     },
     "execution_count": 42,
     "metadata": {},
     "output_type": "execute_result"
    }
   ],
   "source": [
    "-(d3,d4)"
   ]
  },
  {
   "cell_type": "code",
   "execution_count": 26,
   "id": "4fe83472",
   "metadata": {},
   "outputs": [
    {
     "data": {
      "text/plain": [
       "0.4537856055185257"
      ]
     },
     "execution_count": 26,
     "metadata": {},
     "output_type": "execute_result"
    }
   ],
   "source": [
    "phid=*(-(47,21),/(pi,180))"
   ]
  },
  {
   "cell_type": "code",
   "execution_count": 27,
   "id": "461de075",
   "metadata": {},
   "outputs": [
    {
     "data": {
      "text/plain": [
       "3.036872898470133"
      ]
     },
     "execution_count": 27,
     "metadata": {},
     "output_type": "execute_result"
    }
   ],
   "source": [
    "lld=*(-(360,+(29,157)),/(pi,180))"
   ]
  },
  {
   "cell_type": "code",
   "execution_count": 28,
   "id": "b8f14953",
   "metadata": {},
   "outputs": [
    {
     "data": {
      "text/plain": [
       "0.6855593412223392"
      ]
     },
     "execution_count": 28,
     "metadata": {},
     "output_type": "execute_result"
    }
   ],
   "source": [
    "hdR=+(^(sin(/(phid,2)),2),*(cos(*(21,/(pi,180))),cos(*(47,/(pi,180))),^(sin(/(lld,2)),2)))"
   ]
  },
  {
   "cell_type": "code",
   "execution_count": 30,
   "id": "3d2008c9",
   "metadata": {},
   "outputs": [
    {
     "data": {
      "text/plain": [
       "12443.735443751437"
      ]
     },
     "execution_count": 30,
     "metadata": {},
     "output_type": "execute_result"
    }
   ],
   "source": [
    "*(2,asin(sqrt(hdR)),R)"
   ]
  },
  {
   "cell_type": "code",
   "execution_count": null,
   "id": "b9c5b0ab",
   "metadata": {},
   "outputs": [],
   "source": []
  },
  {
   "cell_type": "code",
   "execution_count": null,
   "id": "c45e274a",
   "metadata": {},
   "outputs": [],
   "source": []
  }
 ],
 "metadata": {
  "kernelspec": {
   "display_name": "Julia 1.7.2",
   "language": "julia",
   "name": "julia-1.7"
  },
  "language_info": {
   "file_extension": ".jl",
   "mimetype": "application/julia",
   "name": "julia",
   "version": "1.7.2"
  }
 },
 "nbformat": 4,
 "nbformat_minor": 5
}
