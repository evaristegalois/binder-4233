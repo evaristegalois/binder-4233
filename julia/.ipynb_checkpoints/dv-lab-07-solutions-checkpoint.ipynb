{
 "cells": [
  {
   "cell_type": "markdown",
   "metadata": {},
   "source": [
    "<h1>\n",
    "    Lab Sheet 7 Solutions\n",
    "</h1>"
   ]
  },
  {
   "cell_type": "markdown",
   "metadata": {},
   "source": [
    "<h3>\n",
    "    Lab Sheet 7 Problem 1\n",
    "</h3>"
   ]
  },
  {
   "cell_type": "markdown",
   "metadata": {},
   "source": [
    "Solve\n",
    "$$  y''+4y=12\\cos{}2x-4\\sin{}2x$$"
   ]
  },
  {
   "cell_type": "markdown",
   "metadata": {},
   "source": [
    "<img src=\"./diagrams/lirlcfge.jpg\" width=\"70%\" height=\"70%\">"
   ]
  },
  {
   "cell_type": "markdown",
   "metadata": {},
   "source": [
    "<h3>\n",
    "    Lab Sheet 7 Problem 2\n",
    "</h3>"
   ]
  },
  {
   "cell_type": "markdown",
   "metadata": {},
   "source": [
    "The height $y$ of a flexible cable hanging between two towers\n",
    "under its own weight is determined as a function of $x$, the horizontal\n",
    "distance measured from the first tower, by the differential equation:\n",
    "\\begin{equation}\n",
    "  \\label{eq:rpdpnogk}\n",
    "  EI\\frac{d^2y}{dx^2}=Ty+\\frac{1}{2}Wx(L-x)\\notag\n",
    "\\end{equation}\n",
    "where $L=25\\,m$ is the horizontal distance between towers, $T=1000\\,N$\n",
    "is the tension in the cable, $W=50\\,N/m$ is the cable's weight per unit\n",
    "length, and $EI=1\\times{}10^5\\,Nm^2$ is its flexural rigidity.\n",
    "\n",
    "Given that the height of the first tower is $6\\,m$ and the height of the\n",
    "second tower is $10\\,m$, determine the height $y$ of the cable as a\n",
    "function of $x$ between the two towers."
   ]
  },
  {
   "cell_type": "markdown",
   "metadata": {},
   "source": [
    "<img src=\"./diagrams/ihoevdrc.png\" width=\"40%\" height=\"40%\">"
   ]
  },
  {
   "cell_type": "code",
   "execution_count": 1,
   "metadata": {},
   "outputs": [
    {
     "data": {
      "text/plain": [
       "25"
      ]
     },
     "execution_count": 1,
     "metadata": {},
     "output_type": "execute_result"
    }
   ],
   "source": [
    "L=25"
   ]
  },
  {
   "cell_type": "code",
   "execution_count": 2,
   "metadata": {},
   "outputs": [
    {
     "data": {
      "text/plain": [
       "1000"
      ]
     },
     "execution_count": 2,
     "metadata": {},
     "output_type": "execute_result"
    }
   ],
   "source": [
    "T=1000"
   ]
  },
  {
   "cell_type": "code",
   "execution_count": 3,
   "metadata": {},
   "outputs": [
    {
     "data": {
      "text/plain": [
       "50"
      ]
     },
     "execution_count": 3,
     "metadata": {},
     "output_type": "execute_result"
    }
   ],
   "source": [
    "W=50"
   ]
  },
  {
   "cell_type": "code",
   "execution_count": 4,
   "metadata": {},
   "outputs": [
    {
     "data": {
      "text/plain": [
       "100000"
      ]
     },
     "execution_count": 4,
     "metadata": {},
     "output_type": "execute_result"
    }
   ],
   "source": [
    "EI=10^5"
   ]
  },
  {
   "cell_type": "code",
   "execution_count": 5,
   "metadata": {},
   "outputs": [],
   "source": [
    "using Polynomials"
   ]
  },
  {
   "cell_type": "code",
   "execution_count": 6,
   "metadata": {},
   "outputs": [
    {
     "data": {
      "text/html": [
       "&#45;1000 &#43; 100000&#8729;x<sup>2</sup>"
      ],
      "text/latex": [
       "$-1000 + 100000\\cdot x^{2}$"
      ],
      "text/plain": [
       "Polynomial(-1000 + 100000*x^2)"
      ]
     },
     "execution_count": 6,
     "metadata": {},
     "output_type": "execute_result"
    }
   ],
   "source": [
    "p1=Polynomial([-T,0,EI])"
   ]
  },
  {
   "cell_type": "code",
   "execution_count": 7,
   "metadata": {},
   "outputs": [
    {
     "data": {
      "text/plain": [
       "2-element Vector{Float64}:\n",
       " -0.1\n",
       "  0.1"
      ]
     },
     "execution_count": 7,
     "metadata": {},
     "output_type": "execute_result"
    }
   ],
   "source": [
    "sol1=roots(p1)"
   ]
  },
  {
   "cell_type": "markdown",
   "metadata": {},
   "source": [
    "$$y_{p_1}=Ax+B\\qquad{}y_{p_2}=Cx^2+Dx+E$$"
   ]
  },
  {
   "cell_type": "code",
   "execution_count": 8,
   "metadata": {},
   "outputs": [
    {
     "data": {
      "text/plain": [
       "-0.625"
      ]
     },
     "execution_count": 8,
     "metadata": {},
     "output_type": "execute_result"
    }
   ],
   "source": [
    "A=(-W*L)/(2*T)"
   ]
  },
  {
   "cell_type": "code",
   "execution_count": 9,
   "metadata": {},
   "outputs": [
    {
     "data": {
      "text/plain": [
       "0"
      ]
     },
     "execution_count": 9,
     "metadata": {},
     "output_type": "execute_result"
    }
   ],
   "source": [
    "B=0"
   ]
  },
  {
   "cell_type": "code",
   "execution_count": 10,
   "metadata": {},
   "outputs": [
    {
     "data": {
      "text/plain": [
       "0.025"
      ]
     },
     "execution_count": 10,
     "metadata": {},
     "output_type": "execute_result"
    }
   ],
   "source": [
    "C=W/(2*T)"
   ]
  },
  {
   "cell_type": "code",
   "execution_count": 11,
   "metadata": {},
   "outputs": [
    {
     "data": {
      "text/plain": [
       "0"
      ]
     },
     "execution_count": 11,
     "metadata": {},
     "output_type": "execute_result"
    }
   ],
   "source": [
    "D=0"
   ]
  },
  {
   "cell_type": "code",
   "execution_count": 12,
   "metadata": {},
   "outputs": [
    {
     "data": {
      "text/plain": [
       "5.0"
      ]
     },
     "execution_count": 12,
     "metadata": {},
     "output_type": "execute_result"
    }
   ],
   "source": [
    "E=(EI*W)/(T^2)"
   ]
  },
  {
   "cell_type": "markdown",
   "metadata": {},
   "source": [
    "$$\n",
    "y(x)=c_1e^{-\\frac{1}{10}x}+c_2e^{\\frac{1}{10}x}+\\frac{1}{40}x^2-\\frac{5}{8}x+5\n",
    "$$"
   ]
  },
  {
   "cell_type": "code",
   "execution_count": 15,
   "metadata": {},
   "outputs": [
    {
     "data": {
      "text/plain": [
       "f1 (generic function with 1 method)"
      ]
     },
     "execution_count": 15,
     "metadata": {},
     "output_type": "execute_result"
    }
   ],
   "source": [
    "f1(x)=(1/40)*x^2-(5/8)*x+5"
   ]
  },
  {
   "cell_type": "code",
   "execution_count": 16,
   "metadata": {},
   "outputs": [
    {
     "data": {
      "text/plain": [
       "5.0"
      ]
     },
     "execution_count": 16,
     "metadata": {},
     "output_type": "execute_result"
    }
   ],
   "source": [
    "f1(25)"
   ]
  },
  {
   "cell_type": "code",
   "execution_count": 17,
   "metadata": {},
   "outputs": [],
   "source": [
    "using LinearAlgebra"
   ]
  },
  {
   "cell_type": "code",
   "execution_count": 18,
   "metadata": {},
   "outputs": [
    {
     "data": {
      "text/plain": [
       "2×2 Matrix{Float64}:\n",
       " 1.0        1.0\n",
       " 0.082085  12.1825"
      ]
     },
     "execution_count": 18,
     "metadata": {},
     "output_type": "execute_result"
    }
   ],
   "source": [
    "M1=[1 1\n",
    "exp(-2.5) exp(2.5)]"
   ]
  },
  {
   "cell_type": "code",
   "execution_count": 21,
   "metadata": {},
   "outputs": [
    {
     "data": {
      "text/plain": [
       "2-element Vector{Int64}:\n",
       " 1\n",
       " 5"
      ]
     },
     "execution_count": 21,
     "metadata": {},
     "output_type": "execute_result"
    }
   ],
   "source": [
    "v1=[1;5]"
   ]
  },
  {
   "cell_type": "code",
   "execution_count": 24,
   "metadata": {
    "scrolled": true
   },
   "outputs": [
    {
     "data": {
      "text/plain": [
       "2-element Vector{Float64}:\n",
       " 0.5935744802685654\n",
       " 0.4064255197314347"
      ]
     },
     "execution_count": 24,
     "metadata": {},
     "output_type": "execute_result"
    }
   ],
   "source": [
    "c=inv(M1)*v1"
   ]
  },
  {
   "cell_type": "markdown",
   "metadata": {},
   "source": [
    "<img src=\"./diagrams/ihoevdrc2.png\" width=\"70%\" height=\"70%\">"
   ]
  },
  {
   "cell_type": "markdown",
   "metadata": {},
   "source": [
    "<h3>\n",
    "    Lab Sheet 7 Problem 3\n",
    "</h3>"
   ]
  },
  {
   "cell_type": "markdown",
   "metadata": {},
   "source": [
    "A torsional pendulum consists of a flywheel, whose moment\n",
    "of inertia is $I$, connected on either side to a shaft whose rotational\n",
    "spring constant is $k$, subject to a viscous damping with damping\n",
    "constant $c$. When a moment\n",
    "\\begin{equation}\n",
    "  \\label{eq:uypmnicz}\n",
    "  M=e^{-3t}\\sin{}t\\notag\n",
    "\\end{equation}\n",
    "is applied that varies as a function of time\n",
    "$t$, the rotational motion is governed by the differential equation:\n",
    "\\begin{equation}\n",
    "  \\label{eq:sdnlputx}\n",
    "  I\\frac{d^2\\theta}{dt^2}+c\\frac{d\\theta}{dt}+\\frac{2k}{L}\\theta=M\\notag\n",
    "\\end{equation}\n",
    "where $\\theta$ is the angle of displacement from equilibrium.\n",
    "\n",
    "Determine the general solution for $\\theta$ as a function of time $t$\n",
    "assuming two different scenarios:"
   ]
  },
  {
   "cell_type": "markdown",
   "metadata": {},
   "source": [
    "<table>\n",
    "    <tr>\n",
    "        <td></td>\n",
    "        <td>Scenario 1</td>\n",
    "        <td>Scenario 2</td>\n",
    "    </tr>\n",
    "    <tr>\n",
    "        <td>$I$</td>\n",
    "        <td>$0.50kgm^2$</td>\n",
    "        <td>$0.50kgm^2$</td>\n",
    "    </tr>\n",
    "    <tr>\n",
    "        <td>$k$</td>\n",
    "        <td>$0.25Nm^2$</td>\n",
    "        <td>$0.25Nm^2$</td>\n",
    "    </tr>\n",
    "    <tr>\n",
    "        <td>$L$</td>\n",
    "        <td>$0.20m$</td>\n",
    "        <td>$0.10m$</td>\n",
    "    </tr>\n",
    "    <tr>\n",
    "        <td>$c$</td>\n",
    "        <td>$2.0Nms$</td>\n",
    "        <td>$3.0Nms$</td>\n",
    "    </tr>\n",
    "</table>"
   ]
  },
  {
   "cell_type": "markdown",
   "metadata": {},
   "source": [
    "<img src=\"./diagrams/iciviavt.png\" width=\"50%\" height=\"50%\">"
   ]
  },
  {
   "cell_type": "code",
   "execution_count": 36,
   "metadata": {},
   "outputs": [],
   "source": [
    "# Scenario 1"
   ]
  },
  {
   "cell_type": "code",
   "execution_count": 25,
   "metadata": {},
   "outputs": [
    {
     "data": {
      "text/plain": [
       "0.5"
      ]
     },
     "execution_count": 25,
     "metadata": {},
     "output_type": "execute_result"
    }
   ],
   "source": [
    "I=0.5"
   ]
  },
  {
   "cell_type": "code",
   "execution_count": 26,
   "metadata": {},
   "outputs": [
    {
     "data": {
      "text/plain": [
       "0.25"
      ]
     },
     "execution_count": 26,
     "metadata": {},
     "output_type": "execute_result"
    }
   ],
   "source": [
    "k=0.25"
   ]
  },
  {
   "cell_type": "code",
   "execution_count": 27,
   "metadata": {},
   "outputs": [
    {
     "data": {
      "text/plain": [
       "0.2"
      ]
     },
     "execution_count": 27,
     "metadata": {},
     "output_type": "execute_result"
    }
   ],
   "source": [
    "L=0.2"
   ]
  },
  {
   "cell_type": "code",
   "execution_count": 28,
   "metadata": {},
   "outputs": [
    {
     "data": {
      "text/plain": [
       "2"
      ]
     },
     "execution_count": 28,
     "metadata": {},
     "output_type": "execute_result"
    }
   ],
   "source": [
    "c=2"
   ]
  },
  {
   "cell_type": "code",
   "execution_count": 29,
   "metadata": {},
   "outputs": [
    {
     "data": {
      "text/html": [
       "2.5 &#43; 2.0&#8729;x &#43; 0.5&#8729;x<sup>2</sup>"
      ],
      "text/latex": [
       "$2.5 + 2.0\\cdot x + 0.5\\cdot x^{2}$"
      ],
      "text/plain": [
       "Polynomial(2.5 + 2.0*x + 0.5*x^2)"
      ]
     },
     "execution_count": 29,
     "metadata": {},
     "output_type": "execute_result"
    }
   ],
   "source": [
    "p2=Polynomial([(2*k)/L,c,I])"
   ]
  },
  {
   "cell_type": "code",
   "execution_count": 30,
   "metadata": {},
   "outputs": [
    {
     "data": {
      "text/plain": [
       "2-element Vector{ComplexF64}:\n",
       " -2.0000000000000004 - 1.0000000000000004im\n",
       " -2.0000000000000004 + 1.0000000000000004im"
      ]
     },
     "execution_count": 30,
     "metadata": {},
     "output_type": "execute_result"
    }
   ],
   "source": [
    "roots(p2)"
   ]
  },
  {
   "cell_type": "markdown",
   "metadata": {},
   "source": [
    "$$\n",
    "\\theta_{c}=e^{-2t}\\left(c_1\\cos{}t+c_2\\sin{}t\\right)\n",
    "$$"
   ]
  },
  {
   "cell_type": "markdown",
   "metadata": {},
   "source": [
    "$$\n",
    "\\theta_{p}=e^{-3t}\\left(A\\cos{}t+B\\sin{}t\\right)\n",
    "$$"
   ]
  },
  {
   "cell_type": "code",
   "execution_count": 31,
   "metadata": {},
   "outputs": [
    {
     "data": {
      "text/plain": [
       "2×2 Matrix{Float64}:\n",
       " 14.5  -13.0\n",
       "  1.0   14.5"
      ]
     },
     "execution_count": 31,
     "metadata": {},
     "output_type": "execute_result"
    }
   ],
   "source": [
    "M2=[I-3*c+(16*k/L) c-(12*k/L)\n",
    "(-c+12*k) I-3*c+(16*k/L)]"
   ]
  },
  {
   "cell_type": "code",
   "execution_count": 32,
   "metadata": {},
   "outputs": [
    {
     "data": {
      "text/plain": [
       "2-element Vector{Int64}:\n",
       " 0\n",
       " 1"
      ]
     },
     "execution_count": 32,
     "metadata": {},
     "output_type": "execute_result"
    }
   ],
   "source": [
    "v2=[0;1]"
   ]
  },
  {
   "cell_type": "code",
   "execution_count": 34,
   "metadata": {},
   "outputs": [
    {
     "data": {
      "text/plain": [
       "2-element Vector{Float64}:\n",
       " 0.05823068309070549\n",
       " 0.06494960806270997"
      ]
     },
     "execution_count": 34,
     "metadata": {},
     "output_type": "execute_result"
    }
   ],
   "source": [
    "sol2=inv(M2)*v2"
   ]
  },
  {
   "cell_type": "markdown",
   "metadata": {},
   "source": [
    "$$\n",
    "\\theta(t)=e^{-2t}\\left(c_1\\cos{}t+c_2\\sin{}t\\right)+e^{-3t}\\left(0.05823\\cos{}t+0.06495\\sin{}t\\right)\n",
    "$$"
   ]
  },
  {
   "cell_type": "code",
   "execution_count": 37,
   "metadata": {},
   "outputs": [],
   "source": [
    "# Scenario 2"
   ]
  },
  {
   "cell_type": "code",
   "execution_count": 25,
   "metadata": {},
   "outputs": [
    {
     "data": {
      "text/plain": [
       "0.5"
      ]
     },
     "execution_count": 25,
     "metadata": {},
     "output_type": "execute_result"
    }
   ],
   "source": [
    "I=0.5"
   ]
  },
  {
   "cell_type": "code",
   "execution_count": 26,
   "metadata": {},
   "outputs": [
    {
     "data": {
      "text/plain": [
       "0.25"
      ]
     },
     "execution_count": 26,
     "metadata": {},
     "output_type": "execute_result"
    }
   ],
   "source": [
    "k=0.25"
   ]
  },
  {
   "cell_type": "code",
   "execution_count": 38,
   "metadata": {},
   "outputs": [
    {
     "data": {
      "text/plain": [
       "0.1"
      ]
     },
     "execution_count": 38,
     "metadata": {},
     "output_type": "execute_result"
    }
   ],
   "source": [
    "L=0.1"
   ]
  },
  {
   "cell_type": "code",
   "execution_count": 39,
   "metadata": {},
   "outputs": [
    {
     "data": {
      "text/plain": [
       "3"
      ]
     },
     "execution_count": 39,
     "metadata": {},
     "output_type": "execute_result"
    }
   ],
   "source": [
    "c=3"
   ]
  },
  {
   "cell_type": "code",
   "execution_count": 40,
   "metadata": {},
   "outputs": [
    {
     "data": {
      "text/html": [
       "5.0 &#43; 3.0&#8729;x &#43; 0.5&#8729;x<sup>2</sup>"
      ],
      "text/latex": [
       "$5.0 + 3.0\\cdot x + 0.5\\cdot x^{2}$"
      ],
      "text/plain": [
       "Polynomial(5.0 + 3.0*x + 0.5*x^2)"
      ]
     },
     "execution_count": 40,
     "metadata": {},
     "output_type": "execute_result"
    }
   ],
   "source": [
    "p2=Polynomial([(2*k)/L,c,I])"
   ]
  },
  {
   "cell_type": "code",
   "execution_count": 41,
   "metadata": {},
   "outputs": [
    {
     "data": {
      "text/plain": [
       "2-element Vector{ComplexF64}:\n",
       " -3.0 - 1.0000000000000007im\n",
       " -3.0 + 1.0000000000000007im"
      ]
     },
     "execution_count": 41,
     "metadata": {},
     "output_type": "execute_result"
    }
   ],
   "source": [
    "roots(p2)"
   ]
  },
  {
   "cell_type": "markdown",
   "metadata": {},
   "source": [
    "$$\n",
    "\\theta_{c}=e^{-3t}\\left(c_1\\cos{}t+c_2\\sin{}t\\right)\n",
    "$$"
   ]
  },
  {
   "cell_type": "markdown",
   "metadata": {},
   "source": [
    "Avoid duplication!"
   ]
  },
  {
   "cell_type": "markdown",
   "metadata": {},
   "source": [
    "$$\n",
    "\\theta_{p}=t\\cdot{}e^{-3t}\\left(A\\cos{}t+B\\sin{}t\\right)\n",
    "$$"
   ]
  },
  {
   "cell_type": "markdown",
   "metadata": {},
   "source": [
    "Calculate $A$ and $B$ by plugging this into the differential equation as in scenario 1."
   ]
  },
  {
   "cell_type": "markdown",
   "metadata": {},
   "source": [
    "$$\n",
    "\\theta(t)=e^{-3t}\\left(c_1\\cos{}t+c_2\\sin{}t\\right)+t\\cdot{}e^{-3t}\\left(A\\cos{}t+B\\sin{}t\\right)\n",
    "$$"
   ]
  },
  {
   "cell_type": "markdown",
   "metadata": {},
   "source": [
    "<h3>\n",
    "    Lab Sheet 7 Problem 4\n",
    "</h3>"
   ]
  },
  {
   "cell_type": "markdown",
   "metadata": {},
   "source": [
    "The illustrated control system is designed to position a load with (polar) moment of\n",
    "inertia $I$ according to angular position $\\theta_{in}$ of the input shaft. The error-measuring device\n",
    "finds the difference between the angular positions of the input and the output shafts ($\\theta_{in}$ in\n",
    "and $\\theta_{out}$ out respectively), amplifies it and feeds it to the servomotor, which applies a torque\n",
    "$T$ to the load. If the system is a proportional servomechanism, the applied torque $T$ will\n",
    "be proportional (with constant of proportionality $k$) to the difference $\\theta_{in}-\\theta_{out}$ between the\n",
    "angular positions of the input and output shafts. Assuming the load is also subject to a\n",
    "viscous resisting torque with a damping coefficient $c$, the angular position of the output\n",
    "shaft can be determined, once the angular position of the input shaft is given, as the\n",
    "solution to the differential equation:\n",
    "$$  I\\frac{d^{2}\\theta_{out}}{dt^{2}}+c\\frac{d\\theta_{out}}{dt}+k\\theta_{out}=k\\theta_{in}\\notag\n",
    "$$"
   ]
  },
  {
   "cell_type": "markdown",
   "metadata": {},
   "source": [
    "<img src=\"./diagrams/gumatuuw.png\" width=\"50%\" height=\"50%\">"
   ]
  },
  {
   "cell_type": "markdown",
   "metadata": {},
   "source": [
    "* Determine the solution for $\\theta_{out}$ assuming that $I=2\\,kg\\cdot{}m^{2},c=4\\,N\\cdot{}m\\cdot{}s$, and\n",
    "$k=1.5000\\,N\\cdot{}m$, if the angular position (in radians) of the input shaft varies as a\n",
    "function of time according to:\n",
    "$$  \\theta_{in}=2.00t\\cdot{}e^{-1.500t}\\notag\n",
    "$$\n",
    "for $t\\geq{}0$.\n",
    "* Assume that the output shaft starts from rest at $t=0$ with an initial angle of $80^{\\circ}$. Determine all arbitrary constants."
   ]
  },
  {
   "cell_type": "markdown",
   "metadata": {},
   "source": [
    "Let $\\theta=\\theta_{out}$. The differential equation is\n",
    "$$\n",
    "2\\theta''+4\\theta'+1.5\\theta=3te^{-1.5t}\n",
    "$$"
   ]
  },
  {
   "cell_type": "code",
   "execution_count": 42,
   "metadata": {
    "collapsed": false,
    "jupyter": {
     "outputs_hidden": false
    }
   },
   "outputs": [],
   "source": [
    "using Polynomials"
   ]
  },
  {
   "cell_type": "code",
   "execution_count": 43,
   "metadata": {
    "collapsed": false,
    "jupyter": {
     "outputs_hidden": false
    }
   },
   "outputs": [
    {
     "data": {
      "text/html": [
       "1.5 &#43; 4.0&#8729;x &#43; 2.0&#8729;x<sup>2</sup>"
      ],
      "text/latex": [
       "$1.5 + 4.0\\cdot x + 2.0\\cdot x^{2}$"
      ],
      "text/plain": [
       "Polynomial(1.5 + 4.0*x + 2.0*x^2)"
      ]
     },
     "execution_count": 43,
     "metadata": {},
     "output_type": "execute_result"
    }
   ],
   "source": [
    "p6=Polynomial([1.5,4,2])"
   ]
  },
  {
   "cell_type": "code",
   "execution_count": 44,
   "metadata": {
    "collapsed": false,
    "jupyter": {
     "outputs_hidden": false
    },
    "scrolled": true
   },
   "outputs": [
    {
     "data": {
      "text/plain": [
       "2-element Vector{Float64}:\n",
       " -1.5\n",
       " -0.5"
      ]
     },
     "execution_count": 44,
     "metadata": {},
     "output_type": "execute_result"
    }
   ],
   "source": [
    "roots(p6)"
   ]
  },
  {
   "cell_type": "markdown",
   "metadata": {},
   "source": [
    "The solution is\n",
    "$$\n",
    "\\theta(t)=(-0.75t)(t+1)e^{-1.5t}+c_{1}e^{-1.5t}+c_{2}e^{-0.5t}\n",
    "$$"
   ]
  },
  {
   "cell_type": "code",
   "execution_count": 54,
   "metadata": {},
   "outputs": [],
   "source": [
    "# A=matrix(QQ,[[1,1],[-3/2,-1/2]]) # sage code\n",
    "# b=matrix([[4*pi/9],[3/4]]) # sage code\n",
    "# A.inverse()*b # sage code\n",
    "# [-2/9*pi - 3/4]\n",
    "# [ 2/3*pi + 3/4]"
   ]
  },
  {
   "cell_type": "markdown",
   "metadata": {},
   "source": [
    "Applying the initial conditions $\\theta(0)=\\frac{4\\pi}{9},\\theta'(0)=0$,\n",
    "$$\n",
    "\\theta(t)=(-0.75t)(t+1)e^{-1.5t}+\\left(-\\frac{2}{9}\\pi-\\frac{3}{4}\\right)e^{-1.5t}+\\left(\\frac{2}{3}\\pi+\\frac{3}{4}\\right)e^{-0.5t}\n",
    "$$"
   ]
  },
  {
   "cell_type": "code",
   "execution_count": 48,
   "metadata": {
    "collapsed": false,
    "jupyter": {
     "outputs_hidden": false
    }
   },
   "outputs": [],
   "source": [
    "using Plots"
   ]
  },
  {
   "cell_type": "code",
   "execution_count": 49,
   "metadata": {
    "collapsed": false,
    "jupyter": {
     "outputs_hidden": false
    }
   },
   "outputs": [
    {
     "data": {
      "text/plain": [
       "f (generic function with 1 method)"
      ]
     },
     "execution_count": 49,
     "metadata": {},
     "output_type": "execute_result"
    }
   ],
   "source": [
    "f(t)=(-0.75*t)*(t+1)*exp(-1.5*t)+((-2/9)*pi-(3/4))*exp(-1.5*t)+((2/3)*pi+(3/4))*exp(-0.5*t)"
   ]
  },
  {
   "cell_type": "code",
   "execution_count": 50,
   "metadata": {
    "collapsed": false,
    "jupyter": {
     "outputs_hidden": false
    }
   },
   "outputs": [
    {
     "data": {
      "text/plain": [
       "0.0:0.015015015015015015:15.0"
      ]
     },
     "execution_count": 50,
     "metadata": {},
     "output_type": "execute_result"
    }
   ],
   "source": [
    "rng=range(0,stop=15,length=1000)"
   ]
  },
  {
   "cell_type": "code",
   "execution_count": 51,
   "metadata": {
    "collapsed": false,
    "jupyter": {
     "outputs_hidden": false
    }
   },
   "outputs": [
    {
     "data": {
      "image/svg+xml": [
       "<?xml version=\"1.0\" encoding=\"utf-8\"?>\n",
       "<svg xmlns=\"http://www.w3.org/2000/svg\" xmlns:xlink=\"http://www.w3.org/1999/xlink\" width=\"600\" height=\"400\" viewBox=\"0 0 2400 1600\">\n",
       "<defs>\n",
       "  <clipPath id=\"clip550\">\n",
       "    <rect x=\"0\" y=\"0\" width=\"2400\" height=\"1600\"/>\n",
       "  </clipPath>\n",
       "</defs>\n",
       "<path clip-path=\"url(#clip550)\" d=\"\n",
       "M0 1600 L2400 1600 L2400 0 L0 0  Z\n",
       "  \" fill=\"#ffffff\" fill-rule=\"evenodd\" fill-opacity=\"1\"/>\n",
       "<defs>\n",
       "  <clipPath id=\"clip551\">\n",
       "    <rect x=\"480\" y=\"0\" width=\"1681\" height=\"1600\"/>\n",
       "  </clipPath>\n",
       "</defs>\n",
       "<path clip-path=\"url(#clip550)\" d=\"\n",
       "M186.274 1486.45 L2352.76 1486.45 L2352.76 47.2441 L186.274 47.2441  Z\n",
       "  \" fill=\"#ffffff\" fill-rule=\"evenodd\" fill-opacity=\"1\"/>\n",
       "<defs>\n",
       "  <clipPath id=\"clip552\">\n",
       "    <rect x=\"186\" y=\"47\" width=\"2167\" height=\"1440\"/>\n",
       "  </clipPath>\n",
       "</defs>\n",
       "<polyline clip-path=\"url(#clip552)\" style=\"stroke:#000000; stroke-linecap:butt; stroke-linejoin:round; stroke-width:2; stroke-opacity:0.1; fill:none\" points=\"\n",
       "  247.59,1486.45 247.59,47.2441 \n",
       "  \"/>\n",
       "<polyline clip-path=\"url(#clip552)\" style=\"stroke:#000000; stroke-linecap:butt; stroke-linejoin:round; stroke-width:2; stroke-opacity:0.1; fill:none\" points=\"\n",
       "  928.873,1486.45 928.873,47.2441 \n",
       "  \"/>\n",
       "<polyline clip-path=\"url(#clip552)\" style=\"stroke:#000000; stroke-linecap:butt; stroke-linejoin:round; stroke-width:2; stroke-opacity:0.1; fill:none\" points=\"\n",
       "  1610.16,1486.45 1610.16,47.2441 \n",
       "  \"/>\n",
       "<polyline clip-path=\"url(#clip552)\" style=\"stroke:#000000; stroke-linecap:butt; stroke-linejoin:round; stroke-width:2; stroke-opacity:0.1; fill:none\" points=\"\n",
       "  2291.44,1486.45 2291.44,47.2441 \n",
       "  \"/>\n",
       "<polyline clip-path=\"url(#clip550)\" style=\"stroke:#000000; stroke-linecap:butt; stroke-linejoin:round; stroke-width:4; stroke-opacity:1; fill:none\" points=\"\n",
       "  186.274,1486.45 2352.76,1486.45 \n",
       "  \"/>\n",
       "<polyline clip-path=\"url(#clip550)\" style=\"stroke:#000000; stroke-linecap:butt; stroke-linejoin:round; stroke-width:4; stroke-opacity:1; fill:none\" points=\"\n",
       "  247.59,1486.45 247.59,1467.55 \n",
       "  \"/>\n",
       "<polyline clip-path=\"url(#clip550)\" style=\"stroke:#000000; stroke-linecap:butt; stroke-linejoin:round; stroke-width:4; stroke-opacity:1; fill:none\" points=\"\n",
       "  928.873,1486.45 928.873,1467.55 \n",
       "  \"/>\n",
       "<polyline clip-path=\"url(#clip550)\" style=\"stroke:#000000; stroke-linecap:butt; stroke-linejoin:round; stroke-width:4; stroke-opacity:1; fill:none\" points=\"\n",
       "  1610.16,1486.45 1610.16,1467.55 \n",
       "  \"/>\n",
       "<polyline clip-path=\"url(#clip550)\" style=\"stroke:#000000; stroke-linecap:butt; stroke-linejoin:round; stroke-width:4; stroke-opacity:1; fill:none\" points=\"\n",
       "  2291.44,1486.45 2291.44,1467.55 \n",
       "  \"/>\n",
       "<path clip-path=\"url(#clip550)\" d=\"M247.59 1517.37 Q243.978 1517.37 242.15 1520.93 Q240.344 1524.47 240.344 1531.6 Q240.344 1538.71 242.15 1542.27 Q243.978 1545.82 247.59 1545.82 Q251.224 1545.82 253.029 1542.27 Q254.858 1538.71 254.858 1531.6 Q254.858 1524.47 253.029 1520.93 Q251.224 1517.37 247.59 1517.37 M247.59 1513.66 Q253.4 1513.66 256.455 1518.27 Q259.534 1522.85 259.534 1531.6 Q259.534 1540.33 256.455 1544.94 Q253.4 1549.52 247.59 1549.52 Q241.779 1549.52 238.701 1544.94 Q235.645 1540.33 235.645 1531.6 Q235.645 1522.85 238.701 1518.27 Q241.779 1513.66 247.59 1513.66 Z\" fill=\"#000000\" fill-rule=\"evenodd\" fill-opacity=\"1\" /><path clip-path=\"url(#clip550)\" d=\"M919.151 1514.29 L937.507 1514.29 L937.507 1518.22 L923.433 1518.22 L923.433 1526.7 Q924.452 1526.35 925.47 1526.19 Q926.489 1526 927.507 1526 Q933.294 1526 936.674 1529.17 Q940.054 1532.34 940.054 1537.76 Q940.054 1543.34 936.581 1546.44 Q933.109 1549.52 926.79 1549.52 Q924.614 1549.52 922.345 1549.15 Q920.1 1548.78 917.693 1548.04 L917.693 1543.34 Q919.776 1544.47 921.998 1545.03 Q924.22 1545.58 926.697 1545.58 Q930.702 1545.58 933.04 1543.48 Q935.378 1541.37 935.378 1537.76 Q935.378 1534.15 933.04 1532.04 Q930.702 1529.94 926.697 1529.94 Q924.822 1529.94 922.947 1530.35 Q921.095 1530.77 919.151 1531.65 L919.151 1514.29 Z\" fill=\"#000000\" fill-rule=\"evenodd\" fill-opacity=\"1\" /><path clip-path=\"url(#clip550)\" d=\"M1584.84 1544.91 L1592.48 1544.91 L1592.48 1518.55 L1584.17 1520.21 L1584.17 1515.95 L1592.44 1514.29 L1597.11 1514.29 L1597.11 1544.91 L1604.75 1544.91 L1604.75 1548.85 L1584.84 1548.85 L1584.84 1544.91 Z\" fill=\"#000000\" fill-rule=\"evenodd\" fill-opacity=\"1\" /><path clip-path=\"url(#clip550)\" d=\"M1624.2 1517.37 Q1620.58 1517.37 1618.76 1520.93 Q1616.95 1524.47 1616.95 1531.6 Q1616.95 1538.71 1618.76 1542.27 Q1620.58 1545.82 1624.2 1545.82 Q1627.83 1545.82 1629.64 1542.27 Q1631.46 1538.71 1631.46 1531.6 Q1631.46 1524.47 1629.64 1520.93 Q1627.83 1517.37 1624.2 1517.37 M1624.2 1513.66 Q1630.01 1513.66 1633.06 1518.27 Q1636.14 1522.85 1636.14 1531.6 Q1636.14 1540.33 1633.06 1544.94 Q1630.01 1549.52 1624.2 1549.52 Q1618.39 1549.52 1615.31 1544.94 Q1612.25 1540.33 1612.25 1531.6 Q1612.25 1522.85 1615.31 1518.27 Q1618.39 1513.66 1624.2 1513.66 Z\" fill=\"#000000\" fill-rule=\"evenodd\" fill-opacity=\"1\" /><path clip-path=\"url(#clip550)\" d=\"M2266.63 1544.91 L2274.26 1544.91 L2274.26 1518.55 L2265.95 1520.21 L2265.95 1515.95 L2274.22 1514.29 L2278.89 1514.29 L2278.89 1544.91 L2286.53 1544.91 L2286.53 1548.85 L2266.63 1548.85 L2266.63 1544.91 Z\" fill=\"#000000\" fill-rule=\"evenodd\" fill-opacity=\"1\" /><path clip-path=\"url(#clip550)\" d=\"M2296.02 1514.29 L2314.38 1514.29 L2314.38 1518.22 L2300.31 1518.22 L2300.31 1526.7 Q2301.32 1526.35 2302.34 1526.19 Q2303.36 1526 2304.38 1526 Q2310.17 1526 2313.55 1529.17 Q2316.93 1532.34 2316.93 1537.76 Q2316.93 1543.34 2313.45 1546.44 Q2309.98 1549.52 2303.66 1549.52 Q2301.49 1549.52 2299.22 1549.15 Q2296.97 1548.78 2294.57 1548.04 L2294.57 1543.34 Q2296.65 1544.47 2298.87 1545.03 Q2301.09 1545.58 2303.57 1545.58 Q2307.57 1545.58 2309.91 1543.48 Q2312.25 1541.37 2312.25 1537.76 Q2312.25 1534.15 2309.91 1532.04 Q2307.57 1529.94 2303.57 1529.94 Q2301.69 1529.94 2299.82 1530.35 Q2297.97 1530.77 2296.02 1531.65 L2296.02 1514.29 Z\" fill=\"#000000\" fill-rule=\"evenodd\" fill-opacity=\"1\" /><polyline clip-path=\"url(#clip552)\" style=\"stroke:#000000; stroke-linecap:butt; stroke-linejoin:round; stroke-width:2; stroke-opacity:0.1; fill:none\" points=\"\n",
       "  186.274,1447.25 2352.76,1447.25 \n",
       "  \"/>\n",
       "<polyline clip-path=\"url(#clip552)\" style=\"stroke:#000000; stroke-linecap:butt; stroke-linejoin:round; stroke-width:2; stroke-opacity:0.1; fill:none\" points=\"\n",
       "  186.274,1203.87 2352.76,1203.87 \n",
       "  \"/>\n",
       "<polyline clip-path=\"url(#clip552)\" style=\"stroke:#000000; stroke-linecap:butt; stroke-linejoin:round; stroke-width:2; stroke-opacity:0.1; fill:none\" points=\"\n",
       "  186.274,960.494 2352.76,960.494 \n",
       "  \"/>\n",
       "<polyline clip-path=\"url(#clip552)\" style=\"stroke:#000000; stroke-linecap:butt; stroke-linejoin:round; stroke-width:2; stroke-opacity:0.1; fill:none\" points=\"\n",
       "  186.274,717.118 2352.76,717.118 \n",
       "  \"/>\n",
       "<polyline clip-path=\"url(#clip552)\" style=\"stroke:#000000; stroke-linecap:butt; stroke-linejoin:round; stroke-width:2; stroke-opacity:0.1; fill:none\" points=\"\n",
       "  186.274,473.741 2352.76,473.741 \n",
       "  \"/>\n",
       "<polyline clip-path=\"url(#clip552)\" style=\"stroke:#000000; stroke-linecap:butt; stroke-linejoin:round; stroke-width:2; stroke-opacity:0.1; fill:none\" points=\"\n",
       "  186.274,230.365 2352.76,230.365 \n",
       "  \"/>\n",
       "<polyline clip-path=\"url(#clip550)\" style=\"stroke:#000000; stroke-linecap:butt; stroke-linejoin:round; stroke-width:4; stroke-opacity:1; fill:none\" points=\"\n",
       "  186.274,1486.45 186.274,47.2441 \n",
       "  \"/>\n",
       "<polyline clip-path=\"url(#clip550)\" style=\"stroke:#000000; stroke-linecap:butt; stroke-linejoin:round; stroke-width:4; stroke-opacity:1; fill:none\" points=\"\n",
       "  186.274,1447.25 205.172,1447.25 \n",
       "  \"/>\n",
       "<polyline clip-path=\"url(#clip550)\" style=\"stroke:#000000; stroke-linecap:butt; stroke-linejoin:round; stroke-width:4; stroke-opacity:1; fill:none\" points=\"\n",
       "  186.274,1203.87 205.172,1203.87 \n",
       "  \"/>\n",
       "<polyline clip-path=\"url(#clip550)\" style=\"stroke:#000000; stroke-linecap:butt; stroke-linejoin:round; stroke-width:4; stroke-opacity:1; fill:none\" points=\"\n",
       "  186.274,960.494 205.172,960.494 \n",
       "  \"/>\n",
       "<polyline clip-path=\"url(#clip550)\" style=\"stroke:#000000; stroke-linecap:butt; stroke-linejoin:round; stroke-width:4; stroke-opacity:1; fill:none\" points=\"\n",
       "  186.274,717.118 205.172,717.118 \n",
       "  \"/>\n",
       "<polyline clip-path=\"url(#clip550)\" style=\"stroke:#000000; stroke-linecap:butt; stroke-linejoin:round; stroke-width:4; stroke-opacity:1; fill:none\" points=\"\n",
       "  186.274,473.741 205.172,473.741 \n",
       "  \"/>\n",
       "<polyline clip-path=\"url(#clip550)\" style=\"stroke:#000000; stroke-linecap:butt; stroke-linejoin:round; stroke-width:4; stroke-opacity:1; fill:none\" points=\"\n",
       "  186.274,230.365 205.172,230.365 \n",
       "  \"/>\n",
       "<path clip-path=\"url(#clip550)\" d=\"M62.9365 1433.05 Q59.3254 1433.05 57.4967 1436.61 Q55.6912 1440.15 55.6912 1447.28 Q55.6912 1454.39 57.4967 1457.95 Q59.3254 1461.49 62.9365 1461.49 Q66.5707 1461.49 68.3763 1457.95 Q70.205 1454.39 70.205 1447.28 Q70.205 1440.15 68.3763 1436.61 Q66.5707 1433.05 62.9365 1433.05 M62.9365 1429.34 Q68.7467 1429.34 71.8022 1433.95 Q74.8809 1438.53 74.8809 1447.28 Q74.8809 1456.01 71.8022 1460.62 Q68.7467 1465.2 62.9365 1465.2 Q57.1264 1465.2 54.0477 1460.62 Q50.9921 1456.01 50.9921 1447.28 Q50.9921 1438.53 54.0477 1433.95 Q57.1264 1429.34 62.9365 1429.34 Z\" fill=\"#000000\" fill-rule=\"evenodd\" fill-opacity=\"1\" /><path clip-path=\"url(#clip550)\" d=\"M83.0984 1458.65 L87.9827 1458.65 L87.9827 1464.53 L83.0984 1464.53 L83.0984 1458.65 Z\" fill=\"#000000\" fill-rule=\"evenodd\" fill-opacity=\"1\" /><path clip-path=\"url(#clip550)\" d=\"M108.168 1433.05 Q104.557 1433.05 102.728 1436.61 Q100.922 1440.15 100.922 1447.28 Q100.922 1454.39 102.728 1457.95 Q104.557 1461.49 108.168 1461.49 Q111.802 1461.49 113.608 1457.95 Q115.436 1454.39 115.436 1447.28 Q115.436 1440.15 113.608 1436.61 Q111.802 1433.05 108.168 1433.05 M108.168 1429.34 Q113.978 1429.34 117.033 1433.95 Q120.112 1438.53 120.112 1447.28 Q120.112 1456.01 117.033 1460.62 Q113.978 1465.2 108.168 1465.2 Q102.358 1465.2 99.2789 1460.62 Q96.2234 1456.01 96.2234 1447.28 Q96.2234 1438.53 99.2789 1433.95 Q102.358 1429.34 108.168 1429.34 Z\" fill=\"#000000\" fill-rule=\"evenodd\" fill-opacity=\"1\" /><path clip-path=\"url(#clip550)\" d=\"M138.33 1433.05 Q134.719 1433.05 132.89 1436.61 Q131.084 1440.15 131.084 1447.28 Q131.084 1454.39 132.89 1457.95 Q134.719 1461.49 138.33 1461.49 Q141.964 1461.49 143.769 1457.95 Q145.598 1454.39 145.598 1447.28 Q145.598 1440.15 143.769 1436.61 Q141.964 1433.05 138.33 1433.05 M138.33 1429.34 Q144.14 1429.34 147.195 1433.95 Q150.274 1438.53 150.274 1447.28 Q150.274 1456.01 147.195 1460.62 Q144.14 1465.2 138.33 1465.2 Q132.519 1465.2 129.441 1460.62 Q126.385 1456.01 126.385 1447.28 Q126.385 1438.53 129.441 1433.95 Q132.519 1429.34 138.33 1429.34 Z\" fill=\"#000000\" fill-rule=\"evenodd\" fill-opacity=\"1\" /><path clip-path=\"url(#clip550)\" d=\"M63.9319 1189.67 Q60.3208 1189.67 58.4921 1193.23 Q56.6865 1196.78 56.6865 1203.91 Q56.6865 1211.01 58.4921 1214.58 Q60.3208 1218.12 63.9319 1218.12 Q67.5661 1218.12 69.3717 1214.58 Q71.2004 1211.01 71.2004 1203.91 Q71.2004 1196.78 69.3717 1193.23 Q67.5661 1189.67 63.9319 1189.67 M63.9319 1185.97 Q69.742 1185.97 72.7976 1190.57 Q75.8763 1195.16 75.8763 1203.91 Q75.8763 1212.63 72.7976 1217.24 Q69.742 1221.82 63.9319 1221.82 Q58.1217 1221.82 55.043 1217.24 Q51.9875 1212.63 51.9875 1203.91 Q51.9875 1195.16 55.043 1190.57 Q58.1217 1185.97 63.9319 1185.97 Z\" fill=\"#000000\" fill-rule=\"evenodd\" fill-opacity=\"1\" /><path clip-path=\"url(#clip550)\" d=\"M84.0938 1215.27 L88.978 1215.27 L88.978 1221.15 L84.0938 1221.15 L84.0938 1215.27 Z\" fill=\"#000000\" fill-rule=\"evenodd\" fill-opacity=\"1\" /><path clip-path=\"url(#clip550)\" d=\"M103.191 1217.22 L119.51 1217.22 L119.51 1221.15 L97.566 1221.15 L97.566 1217.22 Q100.228 1214.46 104.811 1209.83 Q109.418 1205.18 110.598 1203.84 Q112.844 1201.31 113.723 1199.58 Q114.626 1197.82 114.626 1196.13 Q114.626 1193.37 112.682 1191.64 Q110.76 1189.9 107.658 1189.9 Q105.459 1189.9 103.006 1190.66 Q100.575 1191.43 97.7974 1192.98 L97.7974 1188.26 Q100.621 1187.12 103.075 1186.54 Q105.529 1185.97 107.566 1185.97 Q112.936 1185.97 116.131 1188.65 Q119.325 1191.34 119.325 1195.83 Q119.325 1197.96 118.515 1199.88 Q117.728 1201.78 115.621 1204.37 Q115.043 1205.04 111.941 1208.26 Q108.839 1211.45 103.191 1217.22 Z\" fill=\"#000000\" fill-rule=\"evenodd\" fill-opacity=\"1\" /><path clip-path=\"url(#clip550)\" d=\"M129.371 1186.59 L147.728 1186.59 L147.728 1190.53 L133.654 1190.53 L133.654 1199 Q134.672 1198.65 135.691 1198.49 Q136.709 1198.3 137.728 1198.3 Q143.515 1198.3 146.894 1201.47 Q150.274 1204.65 150.274 1210.06 Q150.274 1215.64 146.802 1218.74 Q143.33 1221.82 137.01 1221.82 Q134.834 1221.82 132.566 1221.45 Q130.32 1221.08 127.913 1220.34 L127.913 1215.64 Q129.996 1216.78 132.219 1217.33 Q134.441 1217.89 136.918 1217.89 Q140.922 1217.89 143.26 1215.78 Q145.598 1213.67 145.598 1210.06 Q145.598 1206.45 143.26 1204.35 Q140.922 1202.24 136.918 1202.24 Q135.043 1202.24 133.168 1202.66 Q131.316 1203.07 129.371 1203.95 L129.371 1186.59 Z\" fill=\"#000000\" fill-rule=\"evenodd\" fill-opacity=\"1\" /><path clip-path=\"url(#clip550)\" d=\"M62.9365 946.293 Q59.3254 946.293 57.4967 949.858 Q55.6912 953.399 55.6912 960.529 Q55.6912 967.635 57.4967 971.2 Q59.3254 974.742 62.9365 974.742 Q66.5707 974.742 68.3763 971.2 Q70.205 967.635 70.205 960.529 Q70.205 953.399 68.3763 949.858 Q66.5707 946.293 62.9365 946.293 M62.9365 942.589 Q68.7467 942.589 71.8022 947.196 Q74.8809 951.779 74.8809 960.529 Q74.8809 969.256 71.8022 973.862 Q68.7467 978.445 62.9365 978.445 Q57.1264 978.445 54.0477 973.862 Q50.9921 969.256 50.9921 960.529 Q50.9921 951.779 54.0477 947.196 Q57.1264 942.589 62.9365 942.589 Z\" fill=\"#000000\" fill-rule=\"evenodd\" fill-opacity=\"1\" /><path clip-path=\"url(#clip550)\" d=\"M83.0984 971.895 L87.9827 971.895 L87.9827 977.774 L83.0984 977.774 L83.0984 971.895 Z\" fill=\"#000000\" fill-rule=\"evenodd\" fill-opacity=\"1\" /><path clip-path=\"url(#clip550)\" d=\"M98.2141 943.214 L116.57 943.214 L116.57 947.149 L102.496 947.149 L102.496 955.621 Q103.515 955.274 104.534 955.112 Q105.552 954.927 106.571 954.927 Q112.358 954.927 115.737 958.098 Q119.117 961.27 119.117 966.686 Q119.117 972.265 115.645 975.367 Q112.172 978.445 105.853 978.445 Q103.677 978.445 101.409 978.075 Q99.1632 977.705 96.7558 976.964 L96.7558 972.265 Q98.8391 973.399 101.061 973.955 Q103.284 974.51 105.76 974.51 Q109.765 974.51 112.103 972.404 Q114.441 970.297 114.441 966.686 Q114.441 963.075 112.103 960.969 Q109.765 958.862 105.76 958.862 Q103.885 958.862 102.01 959.279 Q100.159 959.696 98.2141 960.575 L98.2141 943.214 Z\" fill=\"#000000\" fill-rule=\"evenodd\" fill-opacity=\"1\" /><path clip-path=\"url(#clip550)\" d=\"M138.33 946.293 Q134.719 946.293 132.89 949.858 Q131.084 953.399 131.084 960.529 Q131.084 967.635 132.89 971.2 Q134.719 974.742 138.33 974.742 Q141.964 974.742 143.769 971.2 Q145.598 967.635 145.598 960.529 Q145.598 953.399 143.769 949.858 Q141.964 946.293 138.33 946.293 M138.33 942.589 Q144.14 942.589 147.195 947.196 Q150.274 951.779 150.274 960.529 Q150.274 969.256 147.195 973.862 Q144.14 978.445 138.33 978.445 Q132.519 978.445 129.441 973.862 Q126.385 969.256 126.385 960.529 Q126.385 951.779 129.441 947.196 Q132.519 942.589 138.33 942.589 Z\" fill=\"#000000\" fill-rule=\"evenodd\" fill-opacity=\"1\" /><path clip-path=\"url(#clip550)\" d=\"M63.9319 702.916 Q60.3208 702.916 58.4921 706.481 Q56.6865 710.023 56.6865 717.152 Q56.6865 724.259 58.4921 727.824 Q60.3208 731.365 63.9319 731.365 Q67.5661 731.365 69.3717 727.824 Q71.2004 724.259 71.2004 717.152 Q71.2004 710.023 69.3717 706.481 Q67.5661 702.916 63.9319 702.916 M63.9319 699.213 Q69.742 699.213 72.7976 703.819 Q75.8763 708.402 75.8763 717.152 Q75.8763 725.879 72.7976 730.486 Q69.742 735.069 63.9319 735.069 Q58.1217 735.069 55.043 730.486 Q51.9875 725.879 51.9875 717.152 Q51.9875 708.402 55.043 703.819 Q58.1217 699.213 63.9319 699.213 Z\" fill=\"#000000\" fill-rule=\"evenodd\" fill-opacity=\"1\" /><path clip-path=\"url(#clip550)\" d=\"M84.0938 728.518 L88.978 728.518 L88.978 734.398 L84.0938 734.398 L84.0938 728.518 Z\" fill=\"#000000\" fill-rule=\"evenodd\" fill-opacity=\"1\" /><path clip-path=\"url(#clip550)\" d=\"M97.9826 699.838 L120.205 699.838 L120.205 701.828 L107.658 734.398 L102.774 734.398 L114.58 703.773 L97.9826 703.773 L97.9826 699.838 Z\" fill=\"#000000\" fill-rule=\"evenodd\" fill-opacity=\"1\" /><path clip-path=\"url(#clip550)\" d=\"M129.371 699.838 L147.728 699.838 L147.728 703.773 L133.654 703.773 L133.654 712.245 Q134.672 711.898 135.691 711.736 Q136.709 711.551 137.728 711.551 Q143.515 711.551 146.894 714.722 Q150.274 717.893 150.274 723.31 Q150.274 728.888 146.802 731.99 Q143.33 735.069 137.01 735.069 Q134.834 735.069 132.566 734.699 Q130.32 734.328 127.913 733.587 L127.913 728.888 Q129.996 730.023 132.219 730.578 Q134.441 731.134 136.918 731.134 Q140.922 731.134 143.26 729.027 Q145.598 726.921 145.598 723.31 Q145.598 719.699 143.26 717.592 Q140.922 715.486 136.918 715.486 Q135.043 715.486 133.168 715.902 Q131.316 716.319 129.371 717.199 L129.371 699.838 Z\" fill=\"#000000\" fill-rule=\"evenodd\" fill-opacity=\"1\" /><path clip-path=\"url(#clip550)\" d=\"M53.7467 487.086 L61.3856 487.086 L61.3856 460.72 L53.0754 462.387 L53.0754 458.128 L61.3393 456.461 L66.0152 456.461 L66.0152 487.086 L73.654 487.086 L73.654 491.021 L53.7467 491.021 L53.7467 487.086 Z\" fill=\"#000000\" fill-rule=\"evenodd\" fill-opacity=\"1\" /><path clip-path=\"url(#clip550)\" d=\"M83.0984 485.142 L87.9827 485.142 L87.9827 491.021 L83.0984 491.021 L83.0984 485.142 Z\" fill=\"#000000\" fill-rule=\"evenodd\" fill-opacity=\"1\" /><path clip-path=\"url(#clip550)\" d=\"M108.168 459.54 Q104.557 459.54 102.728 463.105 Q100.922 466.646 100.922 473.776 Q100.922 480.882 102.728 484.447 Q104.557 487.989 108.168 487.989 Q111.802 487.989 113.608 484.447 Q115.436 480.882 115.436 473.776 Q115.436 466.646 113.608 463.105 Q111.802 459.54 108.168 459.54 M108.168 455.836 Q113.978 455.836 117.033 460.443 Q120.112 465.026 120.112 473.776 Q120.112 482.503 117.033 487.109 Q113.978 491.692 108.168 491.692 Q102.358 491.692 99.2789 487.109 Q96.2234 482.503 96.2234 473.776 Q96.2234 465.026 99.2789 460.443 Q102.358 455.836 108.168 455.836 Z\" fill=\"#000000\" fill-rule=\"evenodd\" fill-opacity=\"1\" /><path clip-path=\"url(#clip550)\" d=\"M138.33 459.54 Q134.719 459.54 132.89 463.105 Q131.084 466.646 131.084 473.776 Q131.084 480.882 132.89 484.447 Q134.719 487.989 138.33 487.989 Q141.964 487.989 143.769 484.447 Q145.598 480.882 145.598 473.776 Q145.598 466.646 143.769 463.105 Q141.964 459.54 138.33 459.54 M138.33 455.836 Q144.14 455.836 147.195 460.443 Q150.274 465.026 150.274 473.776 Q150.274 482.503 147.195 487.109 Q144.14 491.692 138.33 491.692 Q132.519 491.692 129.441 487.109 Q126.385 482.503 126.385 473.776 Q126.385 465.026 129.441 460.443 Q132.519 455.836 138.33 455.836 Z\" fill=\"#000000\" fill-rule=\"evenodd\" fill-opacity=\"1\" /><path clip-path=\"url(#clip550)\" d=\"M54.7421 243.709 L62.381 243.709 L62.381 217.344 L54.0708 219.01 L54.0708 214.751 L62.3347 213.085 L67.0106 213.085 L67.0106 243.709 L74.6494 243.709 L74.6494 247.645 L54.7421 247.645 L54.7421 243.709 Z\" fill=\"#000000\" fill-rule=\"evenodd\" fill-opacity=\"1\" /><path clip-path=\"url(#clip550)\" d=\"M84.0938 241.765 L88.978 241.765 L88.978 247.645 L84.0938 247.645 L84.0938 241.765 Z\" fill=\"#000000\" fill-rule=\"evenodd\" fill-opacity=\"1\" /><path clip-path=\"url(#clip550)\" d=\"M103.191 243.709 L119.51 243.709 L119.51 247.645 L97.566 247.645 L97.566 243.709 Q100.228 240.955 104.811 236.325 Q109.418 231.672 110.598 230.33 Q112.844 227.807 113.723 226.071 Q114.626 224.311 114.626 222.622 Q114.626 219.867 112.682 218.131 Q110.76 216.395 107.658 216.395 Q105.459 216.395 103.006 217.159 Q100.575 217.923 97.7974 219.473 L97.7974 214.751 Q100.621 213.617 103.075 213.038 Q105.529 212.46 107.566 212.46 Q112.936 212.46 116.131 215.145 Q119.325 217.83 119.325 222.321 Q119.325 224.45 118.515 226.372 Q117.728 228.27 115.621 230.862 Q115.043 231.534 111.941 234.751 Q108.839 237.946 103.191 243.709 Z\" fill=\"#000000\" fill-rule=\"evenodd\" fill-opacity=\"1\" /><path clip-path=\"url(#clip550)\" d=\"M129.371 213.085 L147.728 213.085 L147.728 217.02 L133.654 217.02 L133.654 225.492 Q134.672 225.145 135.691 224.983 Q136.709 224.797 137.728 224.797 Q143.515 224.797 146.894 227.969 Q150.274 231.14 150.274 236.557 Q150.274 242.135 146.802 245.237 Q143.33 248.316 137.01 248.316 Q134.834 248.316 132.566 247.946 Q130.32 247.575 127.913 246.834 L127.913 242.135 Q129.996 243.27 132.219 243.825 Q134.441 244.381 136.918 244.381 Q140.922 244.381 143.26 242.274 Q145.598 240.168 145.598 236.557 Q145.598 232.946 143.26 230.839 Q140.922 228.733 136.918 228.733 Q135.043 228.733 133.168 229.149 Q131.316 229.566 129.371 230.446 L129.371 213.085 Z\" fill=\"#000000\" fill-rule=\"evenodd\" fill-opacity=\"1\" /><polyline clip-path=\"url(#clip552)\" style=\"stroke:#009af9; stroke-linecap:butt; stroke-linejoin:round; stroke-width:8; stroke-opacity:1; fill:none\" points=\"\n",
       "  247.59,87.9763 249.635,88.1701 251.681,88.7384 253.727,89.6619 255.773,90.9221 257.819,92.5013 259.865,94.3826 261.911,96.5498 263.957,98.9872 266.003,101.68 \n",
       "  268.048,104.614 270.094,107.775 272.14,111.151 274.186,114.728 276.232,118.496 278.278,122.442 280.324,126.555 282.37,130.826 284.416,135.243 286.462,139.798 \n",
       "  288.507,144.482 290.553,149.285 292.599,154.199 294.645,159.218 296.691,164.332 298.737,169.535 300.783,174.82 302.829,180.18 304.875,185.609 306.921,191.102 \n",
       "  308.966,196.652 311.012,202.255 313.058,207.905 315.104,213.597 317.15,219.327 319.196,225.091 321.242,230.883 323.288,236.701 325.334,242.541 327.38,248.399 \n",
       "  329.425,254.272 331.471,260.157 333.517,266.05 335.563,271.95 337.609,277.852 339.655,283.756 341.701,289.658 343.747,295.556 345.793,301.449 347.838,307.333 \n",
       "  349.884,313.209 351.93,319.072 353.976,324.923 356.022,330.76 358.068,336.581 360.114,342.385 362.16,348.17 364.206,353.936 366.252,359.682 368.297,365.406 \n",
       "  370.343,371.108 372.389,376.787 374.435,382.442 376.481,388.073 378.527,393.678 380.573,399.258 382.619,404.812 384.665,410.338 386.711,415.838 388.756,421.311 \n",
       "  390.802,426.755 392.848,432.172 394.894,437.56 396.94,442.92 398.986,448.251 401.032,453.554 403.078,458.827 405.124,464.072 407.169,469.288 409.215,474.475 \n",
       "  411.261,479.633 413.307,484.762 415.353,489.862 417.399,494.933 419.445,499.976 421.491,504.989 423.537,509.975 425.583,514.932 427.628,519.861 429.674,524.762 \n",
       "  431.72,529.635 433.766,534.48 435.812,539.298 437.858,544.088 439.904,548.852 441.95,553.588 443.996,558.298 446.042,562.982 448.087,567.639 450.133,572.271 \n",
       "  452.179,576.876 454.225,581.457 456.271,586.012 458.317,590.542 460.363,595.048 462.409,599.529 464.455,603.986 466.5,608.419 468.546,612.828 470.592,617.214 \n",
       "  472.638,621.577 474.684,625.917 476.73,630.235 478.776,634.529 480.822,638.802 482.868,643.053 484.914,647.282 486.959,651.49 489.005,655.677 491.051,659.843 \n",
       "  493.097,663.988 495.143,668.113 497.189,672.217 499.235,676.301 501.281,680.366 503.327,684.411 505.373,688.437 507.418,692.443 509.464,696.431 511.51,700.4 \n",
       "  513.556,704.351 515.602,708.283 517.648,712.197 519.694,716.093 521.74,719.971 523.786,723.832 525.831,727.675 527.877,731.501 529.923,735.311 531.969,739.103 \n",
       "  534.015,742.878 536.061,746.637 538.107,750.38 540.153,754.106 542.199,757.816 544.245,761.51 546.29,765.189 548.336,768.852 550.382,772.499 552.428,776.13 \n",
       "  554.474,779.747 556.52,783.348 558.566,786.934 560.612,790.505 562.658,794.062 564.704,797.604 566.749,801.131 568.795,804.643 570.841,808.141 572.887,811.625 \n",
       "  574.933,815.095 576.979,818.55 579.025,821.991 581.071,825.419 583.117,828.832 585.162,832.232 587.208,835.618 589.254,838.99 591.3,842.349 593.346,845.694 \n",
       "  595.392,849.026 597.438,852.344 599.484,855.649 601.53,858.941 603.576,862.22 605.621,865.485 607.667,868.738 609.713,871.977 611.759,875.203 613.805,878.416 \n",
       "  615.851,881.617 617.897,884.804 619.943,887.979 621.989,891.141 624.035,894.29 626.08,897.427 628.126,900.551 630.172,903.662 632.218,906.761 634.264,909.847 \n",
       "  636.31,912.921 638.356,915.982 640.402,919.03 642.448,922.067 644.493,925.09 646.539,928.102 648.585,931.101 650.631,934.088 652.677,937.062 654.723,940.024 \n",
       "  656.769,942.974 658.815,945.911 660.861,948.837 662.907,951.75 664.952,954.651 666.998,957.54 669.044,960.416 671.09,963.281 673.136,966.133 675.182,968.974 \n",
       "  677.228,971.802 679.274,974.618 681.32,977.422 683.366,980.214 685.411,982.994 687.457,985.762 689.503,988.518 691.549,991.262 693.595,993.994 695.641,996.715 \n",
       "  697.687,999.423 699.733,1002.12 701.779,1004.8 703.825,1007.48 705.87,1010.14 707.916,1012.78 709.962,1015.42 712.008,1018.05 714.054,1020.66 716.1,1023.26 \n",
       "  718.146,1025.85 720.192,1028.43 722.238,1030.99 724.283,1033.55 726.329,1036.09 728.375,1038.62 730.421,1041.14 732.467,1043.65 734.513,1046.14 736.559,1048.63 \n",
       "  738.605,1051.1 740.651,1053.56 742.697,1056.01 744.742,1058.44 746.788,1060.87 748.834,1063.28 750.88,1065.69 752.926,1068.08 754.972,1070.46 757.018,1072.82 \n",
       "  759.064,1075.18 761.11,1077.52 763.156,1079.86 765.201,1082.18 767.247,1084.49 769.293,1086.79 771.339,1089.07 773.385,1091.35 775.431,1093.61 777.477,1095.87 \n",
       "  779.523,1098.11 781.569,1100.34 783.614,1102.56 785.66,1104.77 787.706,1106.96 789.752,1109.15 791.798,1111.32 793.844,1113.49 795.89,1115.64 797.936,1117.78 \n",
       "  799.982,1119.91 802.028,1122.03 804.073,1124.13 806.119,1126.23 808.165,1128.31 810.211,1130.39 812.257,1132.45 814.303,1134.5 816.349,1136.55 818.395,1138.58 \n",
       "  820.441,1140.6 822.487,1142.6 824.532,1144.6 826.578,1146.59 828.624,1148.57 830.67,1150.53 832.716,1152.49 834.762,1154.43 836.808,1156.36 838.854,1158.29 \n",
       "  840.9,1160.2 842.945,1162.1 844.991,1163.99 847.037,1165.87 849.083,1167.74 851.129,1169.6 853.175,1171.45 855.221,1173.29 857.267,1175.12 859.313,1176.94 \n",
       "  861.359,1178.74 863.404,1180.54 865.45,1182.33 867.496,1184.11 869.542,1185.87 871.588,1187.63 873.634,1189.38 875.68,1191.11 877.726,1192.84 879.772,1194.56 \n",
       "  881.818,1196.26 883.863,1197.96 885.909,1199.65 887.955,1201.32 890.001,1202.99 892.047,1204.65 894.093,1206.29 896.139,1207.93 898.185,1209.56 900.231,1211.18 \n",
       "  902.276,1212.79 904.322,1214.39 906.368,1215.98 908.414,1217.56 910.46,1219.13 912.506,1220.69 914.552,1222.24 916.598,1223.78 918.644,1225.32 920.69,1226.84 \n",
       "  922.735,1228.36 924.781,1229.86 926.827,1231.36 928.873,1232.85 930.919,1234.32 932.965,1235.79 935.011,1237.25 937.057,1238.7 939.103,1240.15 941.149,1241.58 \n",
       "  943.194,1243 945.24,1244.42 947.286,1245.83 949.332,1247.22 951.378,1248.61 953.424,1249.99 955.47,1251.37 957.516,1252.73 959.562,1254.08 961.607,1255.43 \n",
       "  963.653,1256.77 965.699,1258.1 967.745,1259.42 969.791,1260.73 971.837,1262.04 973.883,1263.33 975.929,1264.62 977.975,1265.9 980.021,1267.17 982.066,1268.44 \n",
       "  984.112,1269.69 986.158,1270.94 988.204,1272.18 990.25,1273.41 992.296,1274.63 994.342,1275.85 996.388,1277.06 998.434,1278.26 1000.48,1279.45 1002.53,1280.63 \n",
       "  1004.57,1281.81 1006.62,1282.98 1008.66,1284.14 1010.71,1285.29 1012.75,1286.44 1014.8,1287.58 1016.85,1288.71 1018.89,1289.83 1020.94,1290.95 1022.98,1292.06 \n",
       "  1025.03,1293.16 1027.08,1294.26 1029.12,1295.34 1031.17,1296.42 1033.21,1297.5 1035.26,1298.56 1037.31,1299.62 1039.35,1300.67 1041.4,1301.72 1043.44,1302.76 \n",
       "  1045.49,1303.79 1047.54,1304.81 1049.58,1305.83 1051.63,1306.84 1053.67,1307.84 1055.72,1308.84 1057.76,1309.83 1059.81,1310.82 1061.86,1311.79 1063.9,1312.76 \n",
       "  1065.95,1313.73 1067.99,1314.69 1070.04,1315.64 1072.09,1316.58 1074.13,1317.52 1076.18,1318.45 1078.22,1319.38 1080.27,1320.3 1082.32,1321.21 1084.36,1322.12 \n",
       "  1086.41,1323.02 1088.45,1323.91 1090.5,1324.8 1092.54,1325.68 1094.59,1326.56 1096.64,1327.43 1098.68,1328.29 1100.73,1329.15 1102.77,1330.01 1104.82,1330.85 \n",
       "  1106.87,1331.69 1108.91,1332.53 1110.96,1333.36 1113,1334.18 1115.05,1335 1117.1,1335.81 1119.14,1336.62 1121.19,1337.42 1123.23,1338.22 1125.28,1339.01 \n",
       "  1127.33,1339.79 1129.37,1340.57 1131.42,1341.35 1133.46,1342.11 1135.51,1342.88 1137.55,1343.63 1139.6,1344.39 1141.65,1345.13 1143.69,1345.88 1145.74,1346.61 \n",
       "  1147.78,1347.35 1149.83,1348.07 1151.88,1348.79 1153.92,1349.51 1155.97,1350.22 1158.01,1350.93 1160.06,1351.63 1162.11,1352.33 1164.15,1353.02 1166.2,1353.71 \n",
       "  1168.24,1354.39 1170.29,1355.07 1172.33,1355.74 1174.38,1356.41 1176.43,1357.07 1178.47,1357.73 1180.52,1358.38 1182.56,1359.03 1184.61,1359.68 1186.66,1360.32 \n",
       "  1188.7,1360.95 1190.75,1361.58 1192.79,1362.21 1194.84,1362.83 1196.89,1363.45 1198.93,1364.06 1200.98,1364.67 1203.02,1365.28 1205.07,1365.88 1207.12,1366.47 \n",
       "  1209.16,1367.07 1211.21,1367.65 1213.25,1368.24 1215.3,1368.82 1217.34,1369.39 1219.39,1369.96 1221.44,1370.53 1223.48,1371.09 1225.53,1371.65 1227.57,1372.21 \n",
       "  1229.62,1372.76 1231.67,1373.31 1233.71,1373.85 1235.76,1374.39 1237.8,1374.92 1239.85,1375.46 1241.9,1375.98 1243.94,1376.51 1245.99,1377.03 1248.03,1377.54 \n",
       "  1250.08,1378.06 1252.12,1378.57 1254.17,1379.07 1256.22,1379.57 1258.26,1380.07 1260.31,1380.57 1262.35,1381.06 1264.4,1381.55 1266.45,1382.03 1268.49,1382.51 \n",
       "  1270.54,1382.99 1272.58,1383.46 1274.63,1383.93 1276.68,1384.4 1278.72,1384.86 1280.77,1385.32 1282.81,1385.78 1284.86,1386.23 1286.91,1386.68 1288.95,1387.13 \n",
       "  1291,1387.57 1293.04,1388.01 1295.09,1388.45 1297.13,1388.89 1299.18,1389.32 1301.23,1389.74 1303.27,1390.17 1305.32,1390.59 1307.36,1391.01 1309.41,1391.43 \n",
       "  1311.46,1391.84 1313.5,1392.25 1315.55,1392.65 1317.59,1393.06 1319.64,1393.46 1321.69,1393.86 1323.73,1394.25 1325.78,1394.64 1327.82,1395.03 1329.87,1395.42 \n",
       "  1331.91,1395.8 1333.96,1396.18 1336.01,1396.56 1338.05,1396.94 1340.1,1397.31 1342.14,1397.68 1344.19,1398.05 1346.24,1398.41 1348.28,1398.77 1350.33,1399.13 \n",
       "  1352.37,1399.49 1354.42,1399.84 1356.47,1400.19 1358.51,1400.54 1360.56,1400.89 1362.6,1401.23 1364.65,1401.57 1366.7,1401.91 1368.74,1402.25 1370.79,1402.58 \n",
       "  1372.83,1402.91 1374.88,1403.24 1376.92,1403.57 1378.97,1403.89 1381.02,1404.21 1383.06,1404.53 1385.11,1404.85 1387.15,1405.16 1389.2,1405.48 1391.25,1405.79 \n",
       "  1393.29,1406.1 1395.34,1406.4 1397.38,1406.7 1399.43,1407 1401.48,1407.3 1403.52,1407.6 1405.57,1407.89 1407.61,1408.19 1409.66,1408.48 1411.7,1408.77 \n",
       "  1413.75,1409.05 1415.8,1409.34 1417.84,1409.62 1419.89,1409.9 1421.93,1410.17 1423.98,1410.45 1426.03,1410.72 1428.07,1410.99 1430.12,1411.26 1432.16,1411.53 \n",
       "  1434.21,1411.8 1436.26,1412.06 1438.3,1412.32 1440.35,1412.58 1442.39,1412.84 1444.44,1413.1 1446.49,1413.35 1448.53,1413.6 1450.58,1413.85 1452.62,1414.1 \n",
       "  1454.67,1414.35 1456.71,1414.59 1458.76,1414.83 1460.81,1415.08 1462.85,1415.32 1464.9,1415.55 1466.94,1415.79 1468.99,1416.02 1471.04,1416.26 1473.08,1416.49 \n",
       "  1475.13,1416.72 1477.17,1416.94 1479.22,1417.17 1481.27,1417.39 1483.31,1417.61 1485.36,1417.83 1487.4,1418.05 1489.45,1418.27 1491.49,1418.49 1493.54,1418.7 \n",
       "  1495.59,1418.91 1497.63,1419.12 1499.68,1419.33 1501.72,1419.54 1503.77,1419.75 1505.82,1419.95 1507.86,1420.16 1509.91,1420.36 1511.95,1420.56 1514,1420.76 \n",
       "  1516.05,1420.96 1518.09,1421.15 1520.14,1421.35 1522.18,1421.54 1524.23,1421.73 1526.27,1421.92 1528.32,1422.11 1530.37,1422.3 1532.41,1422.48 1534.46,1422.67 \n",
       "  1536.5,1422.85 1538.55,1423.03 1540.6,1423.21 1542.64,1423.39 1544.69,1423.57 1546.73,1423.75 1548.78,1423.92 1550.83,1424.1 1552.87,1424.27 1554.92,1424.44 \n",
       "  1556.96,1424.61 1559.01,1424.78 1561.06,1424.95 1563.1,1425.11 1565.15,1425.28 1567.19,1425.44 1569.24,1425.6 1571.28,1425.77 1573.33,1425.93 1575.38,1426.08 \n",
       "  1577.42,1426.24 1579.47,1426.4 1581.51,1426.55 1583.56,1426.71 1585.61,1426.86 1587.65,1427.01 1589.7,1427.17 1591.74,1427.32 1593.79,1427.46 1595.84,1427.61 \n",
       "  1597.88,1427.76 1599.93,1427.9 1601.97,1428.05 1604.02,1428.19 1606.06,1428.33 1608.11,1428.47 1610.16,1428.61 1612.2,1428.75 1614.25,1428.89 1616.29,1429.03 \n",
       "  1618.34,1429.16 1620.39,1429.3 1622.43,1429.43 1624.48,1429.57 1626.52,1429.7 1628.57,1429.83 1630.62,1429.96 1632.66,1430.09 1634.71,1430.22 1636.75,1430.34 \n",
       "  1638.8,1430.47 1640.85,1430.6 1642.89,1430.72 1644.94,1430.84 1646.98,1430.97 1649.03,1431.09 1651.07,1431.21 1653.12,1431.33 1655.17,1431.45 1657.21,1431.56 \n",
       "  1659.26,1431.68 1661.3,1431.8 1663.35,1431.91 1665.4,1432.03 1667.44,1432.14 1669.49,1432.25 1671.53,1432.37 1673.58,1432.48 1675.63,1432.59 1677.67,1432.7 \n",
       "  1679.72,1432.81 1681.76,1432.91 1683.81,1433.02 1685.85,1433.13 1687.9,1433.23 1689.95,1433.34 1691.99,1433.44 1694.04,1433.54 1696.08,1433.65 1698.13,1433.75 \n",
       "  1700.18,1433.85 1702.22,1433.95 1704.27,1434.05 1706.31,1434.15 1708.36,1434.24 1710.41,1434.34 1712.45,1434.44 1714.5,1434.53 1716.54,1434.63 1718.59,1434.72 \n",
       "  1720.64,1434.82 1722.68,1434.91 1724.73,1435 1726.77,1435.09 1728.82,1435.18 1730.86,1435.27 1732.91,1435.36 1734.96,1435.45 1737,1435.54 1739.05,1435.63 \n",
       "  1741.09,1435.71 1743.14,1435.8 1745.19,1435.89 1747.23,1435.97 1749.28,1436.06 1751.32,1436.14 1753.37,1436.22 1755.42,1436.3 1757.46,1436.39 1759.51,1436.47 \n",
       "  1761.55,1436.55 1763.6,1436.63 1765.64,1436.71 1767.69,1436.79 1769.74,1436.86 1771.78,1436.94 1773.83,1437.02 1775.87,1437.1 1777.92,1437.17 1779.97,1437.25 \n",
       "  1782.01,1437.32 1784.06,1437.4 1786.1,1437.47 1788.15,1437.54 1790.2,1437.61 1792.24,1437.69 1794.29,1437.76 1796.33,1437.83 1798.38,1437.9 1800.43,1437.97 \n",
       "  1802.47,1438.04 1804.52,1438.11 1806.56,1438.18 1808.61,1438.24 1810.65,1438.31 1812.7,1438.38 1814.75,1438.44 1816.79,1438.51 1818.84,1438.58 1820.88,1438.64 \n",
       "  1822.93,1438.7 1824.98,1438.77 1827.02,1438.83 1829.07,1438.89 1831.11,1438.96 1833.16,1439.02 1835.21,1439.08 1837.25,1439.14 1839.3,1439.2 1841.34,1439.26 \n",
       "  1843.39,1439.32 1845.43,1439.38 1847.48,1439.44 1849.53,1439.5 1851.57,1439.56 1853.62,1439.61 1855.66,1439.67 1857.71,1439.73 1859.76,1439.78 1861.8,1439.84 \n",
       "  1863.85,1439.89 1865.89,1439.95 1867.94,1440 1869.99,1440.06 1872.03,1440.11 1874.08,1440.17 1876.12,1440.22 1878.17,1440.27 1880.22,1440.32 1882.26,1440.37 \n",
       "  1884.31,1440.43 1886.35,1440.48 1888.4,1440.53 1890.44,1440.58 1892.49,1440.63 1894.54,1440.68 1896.58,1440.73 1898.63,1440.78 1900.67,1440.82 1902.72,1440.87 \n",
       "  1904.77,1440.92 1906.81,1440.97 1908.86,1441.01 1910.9,1441.06 1912.95,1441.11 1915,1441.15 1917.04,1441.2 1919.09,1441.24 1921.13,1441.29 1923.18,1441.33 \n",
       "  1925.22,1441.38 1927.27,1441.42 1929.32,1441.46 1931.36,1441.51 1933.41,1441.55 1935.45,1441.59 1937.5,1441.64 1939.55,1441.68 1941.59,1441.72 1943.64,1441.76 \n",
       "  1945.68,1441.8 1947.73,1441.84 1949.78,1441.88 1951.82,1441.92 1953.87,1441.96 1955.91,1442 1957.96,1442.04 1960.01,1442.08 1962.05,1442.12 1964.1,1442.16 \n",
       "  1966.14,1442.2 1968.19,1442.23 1970.23,1442.27 1972.28,1442.31 1974.33,1442.34 1976.37,1442.38 1978.42,1442.42 1980.46,1442.45 1982.51,1442.49 1984.56,1442.53 \n",
       "  1986.6,1442.56 1988.65,1442.6 1990.69,1442.63 1992.74,1442.66 1994.79,1442.7 1996.83,1442.73 1998.88,1442.77 2000.92,1442.8 2002.97,1442.83 2005.01,1442.87 \n",
       "  2007.06,1442.9 2009.11,1442.93 2011.15,1442.96 2013.2,1443 2015.24,1443.03 2017.29,1443.06 2019.34,1443.09 2021.38,1443.12 2023.43,1443.15 2025.47,1443.18 \n",
       "  2027.52,1443.21 2029.57,1443.24 2031.61,1443.27 2033.66,1443.3 2035.7,1443.33 2037.75,1443.36 2039.8,1443.39 2041.84,1443.42 2043.89,1443.45 2045.93,1443.48 \n",
       "  2047.98,1443.51 2050.02,1443.53 2052.07,1443.56 2054.12,1443.59 2056.16,1443.62 2058.21,1443.64 2060.25,1443.67 2062.3,1443.7 2064.35,1443.72 2066.39,1443.75 \n",
       "  2068.44,1443.78 2070.48,1443.8 2072.53,1443.83 2074.58,1443.85 2076.62,1443.88 2078.67,1443.9 2080.71,1443.93 2082.76,1443.95 2084.8,1443.98 2086.85,1444 \n",
       "  2088.9,1444.03 2090.94,1444.05 2092.99,1444.08 2095.03,1444.1 2097.08,1444.12 2099.13,1444.15 2101.17,1444.17 2103.22,1444.19 2105.26,1444.21 2107.31,1444.24 \n",
       "  2109.36,1444.26 2111.4,1444.28 2113.45,1444.3 2115.49,1444.33 2117.54,1444.35 2119.59,1444.37 2121.63,1444.39 2123.68,1444.41 2125.72,1444.43 2127.77,1444.46 \n",
       "  2129.81,1444.48 2131.86,1444.5 2133.91,1444.52 2135.95,1444.54 2138,1444.56 2140.04,1444.58 2142.09,1444.6 2144.14,1444.62 2146.18,1444.64 2148.23,1444.66 \n",
       "  2150.27,1444.68 2152.32,1444.7 2154.37,1444.71 2156.41,1444.73 2158.46,1444.75 2160.5,1444.77 2162.55,1444.79 2164.59,1444.81 2166.64,1444.83 2168.69,1444.84 \n",
       "  2170.73,1444.86 2172.78,1444.88 2174.82,1444.9 2176.87,1444.92 2178.92,1444.93 2180.96,1444.95 2183.01,1444.97 2185.05,1444.98 2187.1,1445 2189.15,1445.02 \n",
       "  2191.19,1445.03 2193.24,1445.05 2195.28,1445.07 2197.33,1445.08 2199.38,1445.1 2201.42,1445.12 2203.47,1445.13 2205.51,1445.15 2207.56,1445.16 2209.6,1445.18 \n",
       "  2211.65,1445.19 2213.7,1445.21 2215.74,1445.23 2217.79,1445.24 2219.83,1445.26 2221.88,1445.27 2223.93,1445.29 2225.97,1445.3 2228.02,1445.31 2230.06,1445.33 \n",
       "  2232.11,1445.34 2234.16,1445.36 2236.2,1445.37 2238.25,1445.39 2240.29,1445.4 2242.34,1445.41 2244.38,1445.43 2246.43,1445.44 2248.48,1445.45 2250.52,1445.47 \n",
       "  2252.57,1445.48 2254.61,1445.49 2256.66,1445.51 2258.71,1445.52 2260.75,1445.53 2262.8,1445.55 2264.84,1445.56 2266.89,1445.57 2268.94,1445.58 2270.98,1445.6 \n",
       "  2273.03,1445.61 2275.07,1445.62 2277.12,1445.63 2279.16,1445.65 2281.21,1445.66 2283.26,1445.67 2285.3,1445.68 2287.35,1445.69 2289.39,1445.7 2291.44,1445.72 \n",
       "  \n",
       "  \"/>\n",
       "</svg>\n"
      ]
     },
     "execution_count": 51,
     "metadata": {},
     "output_type": "execute_result"
    }
   ],
   "source": [
    "plot(rng,f.(rng),line=2,leg=false)"
   ]
  }
 ],
 "metadata": {
  "kernelspec": {
   "display_name": "Julia 1.7.2",
   "language": "julia",
   "name": "julia-1.7"
  },
  "language_info": {
   "file_extension": ".jl",
   "mimetype": "application/julia",
   "name": "julia",
   "version": "1.7.2"
  }
 },
 "nbformat": 4,
 "nbformat_minor": 4
}
