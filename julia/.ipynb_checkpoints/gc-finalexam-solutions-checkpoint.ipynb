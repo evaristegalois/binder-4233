{
 "cells": [
  {
   "cell_type": "markdown",
   "metadata": {},
   "source": [
    "<h2>Final Exam</h2>"
   ]
  },
  {
   "cell_type": "markdown",
   "metadata": {},
   "source": [
    "<h3>Question 1</h3>"
   ]
  },
  {
   "cell_type": "markdown",
   "metadata": {},
   "source": [
    "Find the length of the secant line segment from $x=1$ to\n",
    "$x=4$ for\n",
    "\\begin{equation}\n",
    "  \\label{eq:jcprlsjk}\n",
    "  f(x)=\\frac{2}{3}\\left(x^2+1\\right)^{\\frac{3}{2}}\\notag\n",
    "\\end{equation}\n",
    "Then find the arc length of the curve between $x=1$ and\n",
    "$x=4$. The length of the secant line segment should be a good\n",
    "approximation of the arc length."
   ]
  },
  {
   "cell_type": "markdown",
   "metadata": {},
   "source": [
    "<img src=\"./diagrams/fe-01.png\" width=\"77%\" height=\"77%\">"
   ]
  },
  {
   "cell_type": "code",
   "execution_count": 4,
   "metadata": {
    "collapsed": false,
    "jupyter": {
     "outputs_hidden": false
    }
   },
   "outputs": [
    {
     "data": {
      "text/plain": [
       "44.94315061472669"
      ]
     },
     "execution_count": 4,
     "metadata": {},
     "output_type": "execute_result"
    }
   ],
   "source": [
    "sqrt(+(9,^(-(*(/(2,3),sqrt(4913)),*(/(4,3),sqrt(2))),2)))"
   ]
  },
  {
   "cell_type": "markdown",
   "metadata": {},
   "source": [
    "<h3>Question 2</h3>"
   ]
  },
  {
   "cell_type": "markdown",
   "metadata": {},
   "source": [
    "Find $y''$ and simplify it as much as possible.\n",
    "\\begin{equation}\n",
    "  \\label{eq:hnchxfnu}\n",
    "  y=\\left(1+\\frac{1}{x}\\right)^3\\notag\n",
    "\\end{equation}"
   ]
  },
  {
   "cell_type": "markdown",
   "metadata": {},
   "source": [
    "<img src=\"./diagrams/fe-02.png\" width=\"77%\" height=\"77%\">"
   ]
  },
  {
   "cell_type": "markdown",
   "metadata": {},
   "source": [
    "<h3>Question 3</h3>"
   ]
  },
  {
   "cell_type": "markdown",
   "metadata": {},
   "source": [
    "It is evident from the diagram that the equation\n",
    "\\begin{equation}\n",
    "  \\label{eq:rkygyzii}\n",
    "  \\cos{}x=x\\notag\n",
    "\\end{equation}\n",
    "has a solution between $0$ and $\\frac{\\pi}{2}$. Let your first guess be $x_0=1$.\n",
    "Find $x_1$ and $x_2$ using Newton's method. "
   ]
  },
  {
   "cell_type": "code",
   "execution_count": 1,
   "metadata": {
    "collapsed": false,
    "jupyter": {
     "outputs_hidden": false
    }
   },
   "outputs": [
    {
     "data": {
      "text/plain": [
       "f (generic function with 1 method)"
      ]
     },
     "execution_count": 1,
     "metadata": {},
     "output_type": "execute_result"
    }
   ],
   "source": [
    "f(x)=x-cos(x)"
   ]
  },
  {
   "cell_type": "code",
   "execution_count": 2,
   "metadata": {
    "collapsed": false,
    "jupyter": {
     "outputs_hidden": false
    }
   },
   "outputs": [
    {
     "data": {
      "text/plain": [
       "fp (generic function with 1 method)"
      ]
     },
     "execution_count": 2,
     "metadata": {},
     "output_type": "execute_result"
    }
   ],
   "source": [
    "fp(x)=1+sin(x)"
   ]
  },
  {
   "cell_type": "code",
   "execution_count": 3,
   "metadata": {
    "collapsed": false,
    "jupyter": {
     "outputs_hidden": false
    }
   },
   "outputs": [
    {
     "data": {
      "text/plain": [
       "1"
      ]
     },
     "execution_count": 3,
     "metadata": {},
     "output_type": "execute_result"
    }
   ],
   "source": [
    "x0=1"
   ]
  },
  {
   "cell_type": "code",
   "execution_count": 4,
   "metadata": {
    "collapsed": false,
    "jupyter": {
     "outputs_hidden": false
    }
   },
   "outputs": [
    {
     "data": {
      "text/plain": [
       "0.7503638678402439"
      ]
     },
     "execution_count": 4,
     "metadata": {},
     "output_type": "execute_result"
    }
   ],
   "source": [
    "x1=-(x0,/(f(x0),fp(x0)))"
   ]
  },
  {
   "cell_type": "code",
   "execution_count": 5,
   "metadata": {
    "collapsed": false,
    "jupyter": {
     "outputs_hidden": false
    }
   },
   "outputs": [
    {
     "data": {
      "text/plain": [
       "0.7391128909113617"
      ]
     },
     "execution_count": 5,
     "metadata": {},
     "output_type": "execute_result"
    }
   ],
   "source": [
    "x2=-(x1,/(f(x1),fp(x1)))"
   ]
  },
  {
   "cell_type": "markdown",
   "metadata": {},
   "source": [
    "<h3>Question 4</h3>"
   ]
  },
  {
   "cell_type": "markdown",
   "metadata": {},
   "source": [
    "Using Taylor polynomials, identify $A,B,C,D$ in the approximation\n",
    "\\begin{equation}\n",
    "  \\label{eq:rrhmlqex}\n",
    "  \\tan{}x\\approx{}A+B\\left(x-\\frac{\\pi}{4}\\right)+C\\left(x-\\frac{\\pi}{4}\\right)^2+D\\left(x-\\frac{\\pi}{4}\\right)^3\\notag\n",
    "\\end{equation}"
   ]
  },
  {
   "cell_type": "markdown",
   "metadata": {},
   "source": [
    "<img src=\"./diagrams/fe-03.png\" width=\"77%\" height=\"77%\">"
   ]
  },
  {
   "cell_type": "markdown",
   "metadata": {},
   "source": [
    "<h3>Question 5</h3>"
   ]
  },
  {
   "cell_type": "markdown",
   "metadata": {},
   "source": [
    "In the diagram, the circle shown is the best circular\n",
    "approximation of the curve $y=x^2$. Find $m_{x},m_{y},r$ for the\n",
    "circle equation\n",
    "\\begin{equation}\n",
    "  \\label{eq:xkrfgvlz}\n",
    "  \\left(x-m_x\\right)^2+\\left(y-m_y\\right)^2=r^2\\notag\n",
    "\\end{equation}"
   ]
  },
  {
   "cell_type": "markdown",
   "metadata": {},
   "source": [
    "In the particular case $y=f(x)$ where $x(t)=t$ and $y(t)=f(t)$ the formula is\n",
    "\\begin{equation}\n",
    "  \\label{eq:quitiexa}\n",
    "  \\kappa=\\|R''(s)\\|=\\frac{|f''(t)|}{\\left(1+(f'(t))^{2}\\right)^{\\frac{3}{2}}}\\notag\n",
    "\\end{equation}\n",
    "So,\n",
    "\\begin{align*}\n",
    "r&=\\frac{1}{2}\\\\\n",
    "m_x&=0\\\\\n",
    "m_y&=\\frac{1}{2}\n",
    "\\end{align*}\n",
    "\n"
   ]
  },
  {
   "cell_type": "markdown",
   "metadata": {},
   "source": [
    "<h3>Question 6</h3>"
   ]
  },
  {
   "cell_type": "markdown",
   "metadata": {},
   "source": [
    "Consider the integral\n",
    "\\begin{equation}\n",
    "  \\label{eq:eisbbjac}\n",
    "  \\int\\frac{x}{\\sqrt{x^2+4}}\\,dx\\notag\n",
    "\\end{equation}\n",
    "\\begin{enumerate}[(i)]\n",
    "\\item Solve it using the substitution $u=x^2+4$.\n",
    "\\item Solve it using the substitution $x=2\\tan\\theta$.\n",
    "\\end{enumerate}\n",
    "Use a reference triangle to reverse the trigonometric substitution.\n",
    "Make sure the results agree and show all of your steps."
   ]
  },
  {
   "cell_type": "markdown",
   "metadata": {},
   "source": [
    "<img src=\"./diagrams/fe-04.png\" width=\"77%\" height=\"77%\">"
   ]
  },
  {
   "cell_type": "markdown",
   "metadata": {},
   "source": [
    "<h3>Question 7</h3>"
   ]
  },
  {
   "cell_type": "markdown",
   "metadata": {},
   "source": [
    "A fence $5$ feet tall runs parallel to a tall building at\n",
    "a distance of $2$ feet from the building. What is the length\n",
    "of the shortest ladder that will reach from the ground over the fence\n",
    "to the wall of the building? Setting up the equation to solve will\n",
    "give you 80% credit for this question. Solving it and giving a full\n",
    "sentence answer gives you the remaining 20%."
   ]
  },
  {
   "cell_type": "markdown",
   "metadata": {},
   "source": [
    "$$f(y)=x+y=\\frac{5y}{\\sqrt{y^{2}-4}}+y$$"
   ]
  },
  {
   "cell_type": "markdown",
   "metadata": {},
   "source": [
    "$$f'(y)=\\frac{5\\sqrt{y^{2}-4}-\\frac{5y^{2}}{\\sqrt{y^{2}-4}}}{y^{2}-4}+1\\Longrightarrow{}y=\\pm\\sqrt{20^{\\frac{2}{3}}+4}$$"
   ]
  },
  {
   "cell_type": "code",
   "execution_count": 4,
   "metadata": {
    "collapsed": false,
    "jupyter": {
     "outputs_hidden": false
    }
   },
   "outputs": [
    {
     "name": "stdout",
     "output_type": "stream",
     "text": [
      "3.37165582426213\n"
     ]
    }
   ],
   "source": [
    "y=sqrt(20^(2/3)+4);print(n(y))"
   ]
  },
  {
   "cell_type": "code",
   "execution_count": 5,
   "metadata": {
    "collapsed": false,
    "jupyter": {
     "outputs_hidden": false
    }
   },
   "outputs": [],
   "source": [
    "xpy=((5*y)/sqrt(y^2-4))+y"
   ]
  },
  {
   "cell_type": "code",
   "execution_count": 6,
   "metadata": {
    "collapsed": false,
    "jupyter": {
     "outputs_hidden": false
    }
   },
   "outputs": [
    {
     "data": {
      "text/plain": [
       "9.58229895384014"
      ]
     },
     "execution_count": 6,
     "metadata": {},
     "output_type": "execute_result"
    }
   ],
   "source": [
    "n(xpy)"
   ]
  }
 ],
 "metadata": {
  "kernelspec": {
   "display_name": "Julia 1.7.2",
   "language": "julia",
   "name": "julia-1.7"
  },
  "language_info": {
   "file_extension": ".jl",
   "mimetype": "application/julia",
   "name": "julia",
   "version": "1.7.2"
  }
 },
 "nbformat": 4,
 "nbformat_minor": 4
}
