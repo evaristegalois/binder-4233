{
 "cells": [
  {
   "cell_type": "markdown",
   "metadata": {},
   "source": [
    "<h1>\n",
    "    Lab Sheet 12 Solutions\n",
    "</h1>"
   ]
  },
  {
   "cell_type": "markdown",
   "metadata": {},
   "source": [
    "<h3>\n",
    "    Lab Sheet 12 Problem 1\n",
    "</h3>"
   ]
  },
  {
   "cell_type": "markdown",
   "metadata": {},
   "source": [
    "The transformer circuit below has a primary coil with resistance $R_1=3\\,\\Omega$ and inductance\n",
    "$L_1=2.5\\,H$, and a secondary coil with resistance $R_2=1\\,\\Omega$ and inductance $L_2=0.5\\,H$. Any\n",
    "positive (clockwise) change in the current of one coil produces a negative (counter-clockwise)\n",
    "voltage in the other coil as a result of the mutual inductance $M=0.5\\,H$ such that the currents $I_1$\n",
    "and $I_2$ in the primary and secondary coils, respectively, are governed by the first-order system of\n",
    "differential equations:\n",
    "\\begin{align*}\n",
    "  E_0e^{-3t}&=L_1\\frac{dI_1}{dt}+M\\frac{dI_2}{dt}+R_1I_1\\\\\n",
    "  0&=M\\frac{dI_1}{dt}+L_2\\frac{dI_2}{dt}+R_2I_2\n",
    "\\end{align*}\n",
    "where $E_0e^{-3t}$ is a voltage surge with $E_0=15\\,V$. In the units\n",
    "given, no unit conversions are necessary, and the currents $I_1$ and $I_2$\n",
    "will be in amps. Determine the general solution for the currents $I_1$ and $I_2$ as functions of time $t$.\n",
    "For the particular part of the solution, find the values of all the undetermined coefficients but do\n",
    "not solve for the arbitrary constants."
   ]
  },
  {
   "cell_type": "markdown",
   "metadata": {},
   "source": [
    "<img src=\"./diagrams/ppkzparp.png\" width=\"30%\" height=\"30%\">"
   ]
  },
  {
   "cell_type": "code",
   "execution_count": 2,
   "metadata": {
    "collapsed": false,
    "jupyter": {
     "outputs_hidden": false
    }
   },
   "outputs": [],
   "source": [
    "using LinearAlgebra"
   ]
  },
  {
   "cell_type": "code",
   "execution_count": 1,
   "metadata": {
    "collapsed": false,
    "jupyter": {
     "outputs_hidden": false
    }
   },
   "outputs": [
    {
     "data": {
      "text/plain": [
       "2×2 Matrix{Float64}:\n",
       " 0.5  0.5\n",
       " 2.5  0.5"
      ]
     },
     "execution_count": 1,
     "metadata": {},
     "output_type": "execute_result"
    }
   ],
   "source": [
    "M1=[.5 .5\n",
    "2.5 .5]"
   ]
  },
  {
   "cell_type": "code",
   "execution_count": 3,
   "metadata": {
    "collapsed": false,
    "jupyter": {
     "outputs_hidden": false
    }
   },
   "outputs": [
    {
     "data": {
      "text/plain": [
       "2×2 Matrix{Float64}:\n",
       " -0.5   0.5\n",
       "  2.5  -0.5"
      ]
     },
     "execution_count": 3,
     "metadata": {},
     "output_type": "execute_result"
    }
   ],
   "source": [
    "inv(M1)"
   ]
  },
  {
   "cell_type": "markdown",
   "metadata": {},
   "source": [
    "<img src=\"./diagrams/ppkzparp-solution-01.png\" width=\"60%\" height=\"60%\">"
   ]
  },
  {
   "cell_type": "code",
   "execution_count": 1,
   "metadata": {
    "collapsed": false,
    "jupyter": {
     "outputs_hidden": false
    }
   },
   "outputs": [],
   "source": [
    "A1=matrix(QQ,[[-1.5,0.5],[1.5,-2.5]])"
   ]
  },
  {
   "cell_type": "code",
   "execution_count": 2,
   "metadata": {
    "collapsed": false,
    "jupyter": {
     "outputs_hidden": false
    }
   },
   "outputs": [
    {
     "data": {
      "text/plain": [
       "[(-1,\n",
       "  [\n",
       "  (1, 1)\n",
       "  ],\n",
       "  1),\n",
       " (-3,\n",
       "  [\n",
       "  (1, -3)\n",
       "  ],\n",
       "  1)]"
      ]
     },
     "execution_count": 2,
     "metadata": {},
     "output_type": "execute_result"
    }
   ],
   "source": [
    "A1.eigenvectors_right()"
   ]
  },
  {
   "cell_type": "markdown",
   "metadata": {},
   "source": [
    "The complementary solution is \n",
    "$$\n",
    "\\vec{i}_c=c_1\\left[\\begin{array}{c}1\\\\1\\end{array}\\right]e^{-t}+c_2\\left[\\begin{array}{c}1\\\\-3\\end{array}\\right]e^{-3t}\n",
    "$$\n",
    "which means there is duplication for the trial solution if we use undetermined coefficients. So lets use variation of parameters instead."
   ]
  },
  {
   "cell_type": "markdown",
   "metadata": {},
   "source": [
    "<img src=\"./diagrams/ppkzparp-solution-02.png\" width=\"60%\" height=\"60%\">"
   ]
  },
  {
   "cell_type": "markdown",
   "metadata": {},
   "source": [
    "The solution is\n",
    "$$\n",
    "\\vec{i}=\\left[\\begin{array}{c}-\\frac{15}{8}\\\\-\\frac{15}{8}\\end{array}\\right]e^{-3t}+\\left[\\begin{array}{c}\\frac{15}{4}\\\\-\\frac{45}{4}\\end{array}\\right]te^{-3t}+c_1\\left[\\begin{array}{c}1\\\\1\\end{array}\\right]e^{-t}+c_2\\left[\\begin{array}{c}1\\\\-3\\end{array}\\right]e^{-3t}\n",
    "$$"
   ]
  },
  {
   "cell_type": "markdown",
   "metadata": {},
   "source": [
    "<h3>\n",
    "    Lab Sheet 12 Problem 2\n",
    "</h3>"
   ]
  },
  {
   "cell_type": "markdown",
   "metadata": {
    "jupyter": {
     "outputs_hidden": false
    }
   },
   "source": [
    "Solve the IVP using Laplace transforms\n",
    "\\begin{align*}\n",
    "  x'&=2x+y\\\\\n",
    "  y'&=6x+3y\n",
    "\\end{align*}\n",
    "for $x(0)=1,y(0)=-2$."
   ]
  },
  {
   "cell_type": "markdown",
   "metadata": {},
   "source": [
    "Transform the system to\n",
    "$$\n",
    "\\left[ \\begin{array}{rr}s - 2&-1\\\\-6&s - 3\\end{array}\\right]\\left[\\begin{array}{c}X(s)\\\\Y(s)\\end{array}\\right]=\\left[\\begin{array}{c}1\\\\-2\\end{array}\\right]\n",
    "$$\n",
    "Solve for\n",
    "$$\n",
    "\\begin{align*}\n",
    "X(s)&=\\frac{1}{s}\\\\\n",
    "Y(s)&=-\\frac{2}{s}\n",
    "\\end{align*}\n",
    "$$\n",
    "and take inverse Laplace transforms for\n",
    "$$\n",
    "\\begin{align*}\n",
    "x(t)&=1\\\\\n",
    "y(t)&=-2\n",
    "\\end{align*}\n",
    "$$"
   ]
  },
  {
   "cell_type": "markdown",
   "metadata": {},
   "source": [
    "<h3>\n",
    "    Lab Sheet 12 Problem 3\n",
    "</h3>"
   ]
  },
  {
   "cell_type": "markdown",
   "metadata": {},
   "source": [
    "A double pendulum consists of two masses $m_1$ and $m_2$\n",
    "connected by rigid, approximately massless rods of lengths $L_1$ and $L_2$\n",
    "as shown. If the angular deflections $\\theta_1(t)$ and $\\theta_2(t)$ from the\n",
    "vertical remain small for both masses, then these deflections satisfy\n",
    "the second-order system of differential equations\n",
    "\\begin{equation}\n",
    "  \\label{eq:hndjobpi}\n",
    "  \\frac{d^2\\vec{\\theta}}{dt^2}=-\\frac{g}{m_1L_1L_2}\\left[\n",
    "    \\begin{array}{cc}\n",
    "      \\left(m_1+m_2\\right)L_2 & -m_2L_2 \\\\\n",
    "      -\\left(m_1+m_2\\right)L_1 & \\left(m_1+m_2\\right)L_1\n",
    "    \\end{array}\n",
    "  \\right]\\vec{\\theta},\\vec{\\theta}(t)=\\left[\n",
    "    \\begin{array}{c}\n",
    "      \\theta_1(t) \\\\\n",
    "      \\theta_2(t)\n",
    "    \\end{array}\n",
    "    \\right]\\notag\n",
    "\\end{equation}\n",
    "where $g$ is the acceleration due to gravity.\n",
    "* Use Laplace transforms to determine the angular deflections\n",
    "  $\\theta_1$ and $\\theta_2$ for a system in which\n",
    "  $m_1=7.5\\,kg,m_2=3.5\\,kg,L_1=3.25\\,L_2=2.50$. Assume that both\n",
    "  masses start from rest with initial angular deflections $\\theta_1(0)=0.4$\n",
    "  and $\\theta_2(0)=-0.5$, respectively. Assume that $g=9.81\\,m/s^2$.\n",
    "* Plot the trajectory of each mass during the first 10 seconds\n",
    "  after it is released. This is not simply a plot of your solutions.\n",
    "  Use your solutions for the angular deflections to provide a picture\n",
    "  of the actual paths that each mass would take through space."
   ]
  },
  {
   "cell_type": "markdown",
   "metadata": {},
   "source": [
    "<img src=\"./diagrams/ldxkkycw.png\" width=\"30%\" height=\"30%\">"
   ]
  },
  {
   "cell_type": "markdown",
   "metadata": {},
   "source": [
    "This is a second-order system of differential equations. I will use the idea from the term test by \"pretending\" to solve a first-order system for eigenvalues $\\lambda_1,\\lambda_2$ and eigenvectors $v_1,v_2$. Then set $\\omega_1=\\frac{1}{i}\\sqrt{\\lambda_1},\\omega_2=\\frac{1}{i}\\sqrt{\\lambda_2}$ for the solution of the second-order system (Laplace transforms should give you the same result).\n",
    "$$\n",
    "\\vec{\\theta}(t)=v_1\\left(a_1\\cos{}\\omega_1t+b_1\\sin{}\\omega_1t\\right)+v_2\\left(a_2\\cos{}\\omega_2t+b_2\\sin{}\\omega_2t\\right)\n",
    "$$\n",
    "Plugging in the numbers (see the calculations below),\n",
    "$$\n",
    "\\vec{\\theta}(t)=\\left[\\begin{array}{c}-0.37\\\\0.93\\end{array}\\right]\\left(a_1\\cos{}2.83t+b_1\\sin{}2.83t\\right)+\\left[\\begin{array}{c}0.53\\\\0.85\\end{array}\\right]\\left(a_2\\cos{}1.47t+b_2\\sin{}1.47t\\right)\n",
    "$$\n",
    "Now plug in initial values to solve for the constants,\n",
    "$$\n",
    "\\vec{\\theta}(t)=\\left[\\begin{array}{c}-0.37\\\\0.93\\end{array}\\right](-0.75)\\cos{}2.83t+\\left[\\begin{array}{c}0.53\\\\0.85\\end{array}\\right]0.24\\cos{}1.47t\n",
    "$$\n",
    "You can find a graph of the paths of the two masses here: `https://www.desmos.com/calculator/u4ppussfbd`\n",
    "\n",
    "Here is a taste (just the path of $m_2$):"
   ]
  },
  {
   "cell_type": "markdown",
   "metadata": {},
   "source": [
    "<img src=\"./diagrams/ldxkkycw-desmos.png\" width=\"66%\" height=\"66%\">"
   ]
  },
  {
   "cell_type": "code",
   "execution_count": 12,
   "metadata": {},
   "outputs": [],
   "source": [
    "using LinearAlgebra"
   ]
  },
  {
   "cell_type": "code",
   "execution_count": 13,
   "metadata": {},
   "outputs": [
    {
     "data": {
      "text/plain": [
       "9.81"
      ]
     },
     "execution_count": 13,
     "metadata": {},
     "output_type": "execute_result"
    }
   ],
   "source": [
    "m1=7.5;m2=3.5;L1=3.25;L2=2.5;g=9.81"
   ]
  },
  {
   "cell_type": "code",
   "execution_count": 14,
   "metadata": {},
   "outputs": [
    {
     "data": {
      "text/plain": [
       "2×2 Matrix{Float64}:\n",
       "  27.5   -8.75\n",
       " -35.75  35.75"
      ]
     },
     "execution_count": 14,
     "metadata": {},
     "output_type": "execute_result"
    }
   ],
   "source": [
    "A3=[(m1+m2)*L2 -m2*L2\n",
    "-(m1+m2)*L1 (m1+m2)*L1]"
   ]
  },
  {
   "cell_type": "code",
   "execution_count": 15,
   "metadata": {},
   "outputs": [
    {
     "data": {
      "text/plain": [
       "-0.1609846153846154"
      ]
     },
     "execution_count": 15,
     "metadata": {},
     "output_type": "execute_result"
    }
   ],
   "source": [
    "h1=*(/(-g,*(m1,L1,L2)))"
   ]
  },
  {
   "cell_type": "code",
   "execution_count": 16,
   "metadata": {},
   "outputs": [
    {
     "data": {
      "text/plain": [
       "2×2 Matrix{Float64}:\n",
       " -4.42708   1.40862\n",
       "  5.7552   -5.7552"
      ]
     },
     "execution_count": 16,
     "metadata": {},
     "output_type": "execute_result"
    }
   ],
   "source": [
    "A31=*(A3,h1)"
   ]
  },
  {
   "cell_type": "code",
   "execution_count": 17,
   "metadata": {},
   "outputs": [
    {
     "data": {
      "text/plain": [
       "2-element Vector{Float64}:\n",
       " -8.014807558478532\n",
       " -2.167469364598391"
      ]
     },
     "execution_count": 17,
     "metadata": {},
     "output_type": "execute_result"
    }
   ],
   "source": [
    "eva=eigvals(A31)"
   ]
  },
  {
   "cell_type": "code",
   "execution_count": 18,
   "metadata": {},
   "outputs": [
    {
     "data": {
      "text/plain": [
       "2×2 Matrix{Float64}:\n",
       " -0.365461  0.529016\n",
       "  0.930827  0.848612"
      ]
     },
     "execution_count": 18,
     "metadata": {},
     "output_type": "execute_result"
    }
   ],
   "source": [
    "evc=eigvecs(A31)"
   ]
  },
  {
   "cell_type": "code",
   "execution_count": 19,
   "metadata": {},
   "outputs": [
    {
     "data": {
      "text/plain": [
       "2.8310435458463954"
      ]
     },
     "execution_count": 19,
     "metadata": {},
     "output_type": "execute_result"
    }
   ],
   "source": [
    "om1=sqrt(-eva[1,1])"
   ]
  },
  {
   "cell_type": "code",
   "execution_count": 20,
   "metadata": {},
   "outputs": [
    {
     "data": {
      "text/plain": [
       "1.4722327820689196"
      ]
     },
     "execution_count": 20,
     "metadata": {},
     "output_type": "execute_result"
    }
   ],
   "source": [
    "om2=sqrt(-eva[2,1])"
   ]
  },
  {
   "cell_type": "code",
   "execution_count": 21,
   "metadata": {},
   "outputs": [
    {
     "data": {
      "text/plain": [
       "4×4 Matrix{Float64}:\n",
       " -0.365461  0.529016   0.0      0.0\n",
       "  0.930827  0.848612   0.0      0.0\n",
       "  0.0       0.0       -1.03464  0.778834\n",
       "  0.0       0.0        2.63521  1.24935"
      ]
     },
     "execution_count": 21,
     "metadata": {},
     "output_type": "execute_result"
    }
   ],
   "source": [
    "M3=[evc[1,1] evc[1,2] 0 0\n",
    "evc[2,1] evc[2,2] 0 0\n",
    "0 0 evc[1,1]*om1 evc[1,2]*om2\n",
    "    0 0 evc[2,1]*om1 evc[2,2]*om2]"
   ]
  },
  {
   "cell_type": "code",
   "execution_count": 22,
   "metadata": {},
   "outputs": [
    {
     "data": {
      "text/plain": [
       "4-element Vector{Float64}:\n",
       "  0.4\n",
       " -0.5\n",
       "  0.0\n",
       "  0.0"
      ]
     },
     "execution_count": 22,
     "metadata": {},
     "output_type": "execute_result"
    }
   ],
   "source": [
    "v3=[0.4;-0.5;0;0]"
   ]
  },
  {
   "cell_type": "code",
   "execution_count": 24,
   "metadata": {},
   "outputs": [
    {
     "data": {
      "text/plain": [
       "4-element Vector{Float64}:\n",
       " -0.7525358193337428\n",
       "  0.23624496689456878\n",
       "  0.0\n",
       "  0.0"
      ]
     },
     "execution_count": 24,
     "metadata": {},
     "output_type": "execute_result"
    }
   ],
   "source": [
    "cns=*(inv(M3),v3)"
   ]
  },
  {
   "cell_type": "markdown",
   "metadata": {},
   "source": [
    "<h3>\n",
    "    Lab Sheet 12 Problem 4\n",
    "</h3>"
   ]
  },
  {
   "cell_type": "markdown",
   "metadata": {},
   "source": [
    "Solve the IVP using Laplace transforms\n",
    "\\begin{align*}\n",
    "  x'&=-3x+4y+\\sin{}t\\\\\n",
    "  y'&=6x-5y\n",
    "\\end{align*}\n",
    "for $x(0)=1,y(0)=0$."
   ]
  },
  {
   "cell_type": "markdown",
   "metadata": {},
   "source": [
    "<img src=\"./diagrams/fkjbcmdl.png\" width=\"77%\" height=\"77%\">"
   ]
  },
  {
   "cell_type": "code",
   "execution_count": 25,
   "metadata": {},
   "outputs": [],
   "source": [
    "using SymPy"
   ]
  },
  {
   "cell_type": "code",
   "execution_count": 27,
   "metadata": {},
   "outputs": [
    {
     "data": {
      "text/plain": [
       "(s,)"
      ]
     },
     "execution_count": 27,
     "metadata": {},
     "output_type": "execute_result"
    }
   ],
   "source": [
    "@vars s"
   ]
  },
  {
   "cell_type": "code",
   "execution_count": 28,
   "metadata": {},
   "outputs": [
    {
     "data": {
      "text/latex": [
       "$\\left[ \\begin{array}{rr}s + 3&-4\\\\-6&6\\end{array}\\right]$\n"
      ],
      "text/plain": [
       "2×2 Matrix{Sym}:\n",
       " s + 3  -4\n",
       "    -6   6"
      ]
     },
     "execution_count": 28,
     "metadata": {},
     "output_type": "execute_result"
    }
   ],
   "source": [
    "M4=[s+3 -4\n",
    "-6 6]"
   ]
  },
  {
   "cell_type": "code",
   "execution_count": 30,
   "metadata": {},
   "outputs": [
    {
     "data": {
      "text/latex": [
       "$\\left[ \\begin{array}{r}\\frac{s^{2} + 2}{s^{2} + 1}\\\\0\\end{array} \\right]$\n"
      ],
      "text/plain": [
       "2-element Vector{Sym}:\n",
       " (s^2 + 2)/(s^2 + 1)\n",
       "                   0"
      ]
     },
     "execution_count": 30,
     "metadata": {},
     "output_type": "execute_result"
    }
   ],
   "source": [
    "v4=[(s^2+2)/(s^2+1);0]"
   ]
  },
  {
   "cell_type": "code",
   "execution_count": 31,
   "metadata": {},
   "outputs": [
    {
     "data": {
      "text/latex": [
       "$\\left[ \\begin{array}{r}\\frac{36 \\left(s^{2} + 2\\right)}{\\left(36 s - 36\\right) \\left(s^{2} + 1\\right)}\\\\- \\frac{6 \\left(s^{2} + 2\\right)}{\\left(6 - 6 s\\right) \\left(s^{2} + 1\\right)}\\end{array} \\right]$\n"
      ],
      "text/plain": [
       "2-element Vector{Sym}:\n",
       " 36*(s^2 + 2)/((36*s - 36)*(s^2 + 1))\n",
       "   -6*(s^2 + 2)/((6 - 6*s)*(s^2 + 1))"
      ]
     },
     "execution_count": 31,
     "metadata": {},
     "output_type": "execute_result"
    }
   ],
   "source": [
    "*(inv(M4),v4)"
   ]
  },
  {
   "cell_type": "code",
   "execution_count": 32,
   "metadata": {},
   "outputs": [
    {
     "data": {
      "text/latex": [
       "$- \\frac{s + 1}{2 \\left(s^{2} + 1\\right)} + \\frac{3}{2 \\left(s - 1\\right)}$"
      ],
      "text/plain": [
       "    s + 1          3    \n",
       "- ────────── + ─────────\n",
       "    ⎛ 2    ⎞   2⋅(s - 1)\n",
       "  2⋅⎝s  + 1⎠            "
      ]
     },
     "execution_count": 32,
     "metadata": {},
     "output_type": "execute_result"
    }
   ],
   "source": [
    "apart(/(+(^(s,2),2),*(-(s,1),+(^(s,2),1))))"
   ]
  },
  {
   "cell_type": "markdown",
   "metadata": {},
   "source": [
    "<h3>\n",
    "    Lab Sheet 12 Problem 5\n",
    "</h3>"
   ]
  },
  {
   "cell_type": "markdown",
   "metadata": {},
   "source": [
    "A uniform beam of length $L=5\\,m$ is embedded at both ends\n",
    "as shown. Part of the beam near the left end is subjected to a\n",
    "distributed load. If $x$ is the distance measured along the beam from\n",
    "its left end (in metres), the distributed load $w(x)$ is\n",
    "\\begin{equation}\n",
    "  \\label{eq:winwdoqn}\n",
    "  w(x)=-4400\\left(98-56x+8x^2\\right)\\mbox{ for }0\\leq{}x\\leq{}3.5\\notag\n",
    "\\end{equation}\n",
    "The load on the beam for $3.5\\leq{}x\\leq{}5$ is zero.\n",
    "* Use the unit step function $u(x-a)$ to express the\n",
    "  distributed load $w(x)$ as a single function valid for the entire\n",
    "  length of the beam from $x=0$ to $x=5$.\n",
    "* Assuming the beam deflects only slightly, the deflection $y(x)$ of\n",
    "  the beam is determined by the differential equation\n",
    "  \\begin{equation}\n",
    "    \\label{eq:xugqnlty}\n",
    "    EI\\frac{d^4y}{dx^4}=w\\notag\n",
    "\\end{equation}\n",
    "with $E=1.54\\times{}10^{11}\\,N/m^2$ and $I=0.0056\\,m^4$. Use Laplace\n",
    "transforms to solve for the deflection $y(x)$ as a function of $x$\n",
    "along the length of the beam. Plot your result.\n",
    "\n",
    "For this beam, embedded at both ends, $y(0)=y'(0)=y(5)=y'(5)=0$. If\n",
    "other boundary conditions are required in your solution, you may want\n",
    "to simply assign variable names to them and later use the known\n",
    "boundary conditions listed above to solve for the unknown boundary\n",
    "conditions.\n"
   ]
  },
  {
   "cell_type": "markdown",
   "metadata": {},
   "source": [
    "<img src=\"./diagrams/xacmbsss.png\" width=\"44%\" height=\"44%\">"
   ]
  },
  {
   "cell_type": "code",
   "execution_count": 1,
   "metadata": {},
   "outputs": [
    {
     "data": {
      "text/plain": [
       "1.54e11"
      ]
     },
     "execution_count": 1,
     "metadata": {},
     "output_type": "execute_result"
    }
   ],
   "source": [
    "E=1.54*10^11"
   ]
  },
  {
   "cell_type": "code",
   "execution_count": 2,
   "metadata": {},
   "outputs": [
    {
     "data": {
      "text/plain": [
       "0.0056"
      ]
     },
     "execution_count": 2,
     "metadata": {},
     "output_type": "execute_result"
    }
   ],
   "source": [
    "I=0.0056"
   ]
  },
  {
   "cell_type": "markdown",
   "metadata": {},
   "source": [
    "Find $a,b,c$ for\n",
    "$$\n",
    "\\frac{d^4y}{dx^4}=\\left(a+bx+cx^2\\right)\\left(1-u(x-3.5)\\right)=\n",
    "$$\n",
    "$$\n",
    "a+bx+cx^2-u(x-3.5)\\left((a+3.5b+12.25c)+(b+7c)(x-3.5)+c(x-3.5)^2\\right)\n",
    "$$\n",
    "Now let $u=y'''(0),w=y^{(4)}(0)$. Then\n",
    "$$\n",
    "s^4Y(s)-su-w=\\frac{a}{s}+\\frac{b}{s^2}+\\frac{2c}{s^3}-e^{-3.5s}\\left(\\frac{a+3.5b+12.25c}{s}+\\frac{b+7c}{s^2}+\\frac{2c}{s^3}\\right)\n",
    "$$\n",
    "Isolate $Y(s)$ and take inverse Laplace transforms for\n",
    "$$\n",
    "y(x)=\\frac{1}{2}ux^2+\\frac{1}{6}wx^3+\\frac{1}{24}ax^4+\\frac{1}{120}bx^5+\\frac{1}{360}cx^6+u(x-3.5)G(x)\n",
    "$$\n",
    "where\n",
    "$$\n",
    "G(x)=\\frac{a+3.5b+12.25c}{24}(x-3.5)^4+\\frac{b+7c}{120}(x-3.5)^5+\\frac{c}{360}(x-3.5)^6\n",
    "$$\n",
    "Plug in $y(5)=0$ and $y'(5)=0$ for\n",
    "$$\n",
    "\\begin{align*}\n",
    "y'''(x)&=u=-0.0002781169217687077\\\\\n",
    "y^{(4)}(x)&=w=0.0005198232993197278\n",
    "\\end{align*}\n",
    "$$\n",
    "You can see a graph of $y(x)$ at `https://www.desmos.com/calculator/ztetprus4p` with a screenshot here:"
   ]
  },
  {
   "cell_type": "markdown",
   "metadata": {},
   "source": [
    "<img src=\"./diagrams/xacmbsss1.png\" width=\"66%\" height=\"66%\">"
   ]
  },
  {
   "cell_type": "code",
   "execution_count": 3,
   "metadata": {},
   "outputs": [
    {
     "data": {
      "text/plain": [
       "-0.0005"
      ]
     },
     "execution_count": 3,
     "metadata": {},
     "output_type": "execute_result"
    }
   ],
   "source": [
    "a1=/(*(-4400,98),*(E,I))"
   ]
  },
  {
   "cell_type": "code",
   "execution_count": 4,
   "metadata": {},
   "outputs": [
    {
     "data": {
      "text/plain": [
       "0.00028571428571428574"
      ]
     },
     "execution_count": 4,
     "metadata": {},
     "output_type": "execute_result"
    }
   ],
   "source": [
    "b1=/(*(-4400,-56),*(E,I))"
   ]
  },
  {
   "cell_type": "code",
   "execution_count": 5,
   "metadata": {},
   "outputs": [
    {
     "data": {
      "text/plain": [
       "-4.0816326530612245e-5"
      ]
     },
     "execution_count": 5,
     "metadata": {},
     "output_type": "execute_result"
    }
   ],
   "source": [
    "c1=/(*(-4400,8),*(E,I))"
   ]
  },
  {
   "cell_type": "code",
   "execution_count": 6,
   "metadata": {},
   "outputs": [],
   "source": [
    "using SymPy"
   ]
  },
  {
   "cell_type": "code",
   "execution_count": 7,
   "metadata": {},
   "outputs": [
    {
     "data": {
      "text/plain": [
       "(u, w, t)"
      ]
     },
     "execution_count": 7,
     "metadata": {},
     "output_type": "execute_result"
    }
   ],
   "source": [
    "@vars u w t"
   ]
  },
  {
   "cell_type": "code",
   "execution_count": 48,
   "metadata": {},
   "outputs": [
    {
     "data": {
      "text/plain": [
       "G1 (generic function with 1 method)"
      ]
     },
     "execution_count": 48,
     "metadata": {},
     "output_type": "execute_result"
    }
   ],
   "source": [
    "G1(t)=+(*(/(+(a1,*(3.5,b1),*(12.25,c1)),24),^(-(t,3.5),4)),*(/(+(b1,*(7,c1)),24),^(-(t,3.5),5)),*(/(c1,360),^(-(t,3.5),6)))"
   ]
  },
  {
   "cell_type": "code",
   "execution_count": 49,
   "metadata": {},
   "outputs": [
    {
     "data": {
      "text/plain": [
       "y1 (generic function with 1 method)"
      ]
     },
     "execution_count": 49,
     "metadata": {},
     "output_type": "execute_result"
    }
   ],
   "source": [
    "y1(t)=+(*(/(1,2),u,^(t,2)),*(/(1,6),w,^(t,3)),*(/(1,24),a1,^(t,4)),*(/(1,120),b1,^(t,5)),*(/(1,360),c1,^(t,6)),G1(t))"
   ]
  },
  {
   "cell_type": "code",
   "execution_count": 14,
   "metadata": {},
   "outputs": [
    {
     "data": {
      "text/latex": [
       "$- 0.000208420138888889 \\left(0.285714285714286 t - 1\\right)^{6}$"
      ],
      "text/plain": [
       "                                               6\n",
       "-0.000208420138888889⋅(0.285714285714286⋅t - 1) "
      ]
     },
     "execution_count": 14,
     "metadata": {},
     "output_type": "execute_result"
    }
   ],
   "source": [
    "G1(t)"
   ]
  },
  {
   "cell_type": "code",
   "execution_count": 31,
   "metadata": {},
   "outputs": [
    {
     "data": {
      "text/latex": [
       "$- 1.13378684807256 \\cdot 10^{-7} t^{6} + 2.38095238095238 \\cdot 10^{-6} t^{5} - 2.08333333333333 \\cdot 10^{-5} t^{4} + 0.166666666666667 t^{3} w + 0.5 t^{2} u - 0.000208420138888889 \\left(0.285714285714286 t - 1\\right)^{6}$"
      ],
      "text/plain": [
       "                       6                        5                        4    \n",
       "- 1.13378684807256e-7⋅t  + 2.38095238095238e-6⋅t  - 2.08333333333333e-5⋅t  + 0\n",
       "\n",
       "                  3          2                                                \n",
       ".166666666666667⋅t ⋅w + 0.5⋅t ⋅u - 0.000208420138888889⋅(0.285714285714286⋅t -\n",
       "\n",
       "   6\n",
       " 1) "
      ]
     },
     "execution_count": 31,
     "metadata": {},
     "output_type": "execute_result"
    }
   ],
   "source": [
    "y1(t)"
   ]
  },
  {
   "cell_type": "code",
   "execution_count": 16,
   "metadata": {},
   "outputs": [
    {
     "data": {
      "text/latex": [
       "$12.5 u + 20.8333333333333 w - 0.00735319054705215$"
      ],
      "text/plain": [
       "12.5⋅u + 20.8333333333333⋅w - 0.00735319054705215"
      ]
     },
     "execution_count": 16,
     "metadata": {},
     "output_type": "execute_result"
    }
   ],
   "source": [
    "y1(5)"
   ]
  },
  {
   "cell_type": "code",
   "execution_count": 50,
   "metadata": {},
   "outputs": [
    {
     "data": {
      "text/plain": [
       "y1p (generic function with 1 method)"
      ]
     },
     "execution_count": 50,
     "metadata": {},
     "output_type": "execute_result"
    }
   ],
   "source": [
    "y1p(t)=SymPy.diff(+(*(/(1,2),u,^(t,2)),*(/(1,6),w,^(t,3)),*(/(1,24),a1,^(t,4)),*(/(1,120),b1,^(t,5)),*(/(1,360),c1,^(t,6)),G1(t)),t)"
   ]
  },
  {
   "cell_type": "code",
   "execution_count": 51,
   "metadata": {},
   "outputs": [
    {
     "data": {
      "text/latex": [
       "$- 6.80272108843537 \\cdot 10^{-7} t^{5} + 1.19047619047619 \\cdot 10^{-5} t^{4} - 8.33333333333333 \\cdot 10^{-5} t^{3} + 0.5 t^{2} w + 1.0 t u - 0.000357291666666667 \\left(0.285714285714286 t - 1\\right)^{5}$"
      ],
      "text/plain": [
       "                       5                        4                        3    \n",
       "- 6.80272108843537e-7⋅t  + 1.19047619047619e-5⋅t  - 8.33333333333333e-5⋅t  + 0\n",
       "\n",
       "    2                                                             5\n",
       ".5⋅t ⋅w + 1.0⋅t⋅u - 0.000357291666666667⋅(0.285714285714286⋅t - 1) "
      ]
     },
     "execution_count": 51,
     "metadata": {},
     "output_type": "execute_result"
    }
   ],
   "source": [
    "y1p(t)"
   ]
  },
  {
   "cell_type": "code",
   "execution_count": 52,
   "metadata": {},
   "outputs": [
    {
     "data": {
      "text/plain": [
       "y1p (generic function with 1 method)"
      ]
     },
     "execution_count": 52,
     "metadata": {},
     "output_type": "execute_result"
    }
   ],
   "source": [
    "y1p(t)=-6.80272108843537*10^(-7)*t^5+1.19047619047619*10^(-5)*t^4-8.33333333333333*10^(-5)*t^3+0.5*t^2*w+1.0*t*u-0.000357291666666667*(0.285714285714286*t-1)^5"
   ]
  },
  {
   "cell_type": "code",
   "execution_count": 53,
   "metadata": {},
   "outputs": [
    {
     "data": {
      "text/latex": [
       "$- 6.80272108843537 \\cdot 10^{-7} t^{5} + 1.19047619047619 \\cdot 10^{-5} t^{4} - 8.33333333333333 \\cdot 10^{-5} t^{3} + 0.5 t^{2} w + 1.0 t u - 0.000357291666666667 \\left(0.285714285714286 t - 1\\right)^{5}$"
      ],
      "text/plain": [
       "                       5                        4                        3    \n",
       "- 6.80272108843537e-7⋅t  + 1.19047619047619e-5⋅t  - 8.33333333333333e-5⋅t  + 0\n",
       "\n",
       "    2                                                             5\n",
       ".5⋅t ⋅w + 1.0⋅t⋅u - 0.000357291666666667⋅(0.285714285714286⋅t - 1) "
      ]
     },
     "execution_count": 53,
     "metadata": {},
     "output_type": "execute_result"
    }
   ],
   "source": [
    "y1p(t)"
   ]
  },
  {
   "cell_type": "code",
   "execution_count": 54,
   "metadata": {},
   "outputs": [
    {
     "data": {
      "text/latex": [
       "$5.0 u + 12.5 w - 0.00510720663265306$"
      ],
      "text/plain": [
       "5.0⋅u + 12.5⋅w - 0.00510720663265306"
      ]
     },
     "execution_count": 54,
     "metadata": {},
     "output_type": "execute_result"
    }
   ],
   "source": [
    "y1p(5)"
   ]
  },
  {
   "cell_type": "code",
   "execution_count": 44,
   "metadata": {},
   "outputs": [
    {
     "data": {
      "text/plain": [
       "2×2 Matrix{Float64}:\n",
       " 12.5  20.8333\n",
       "  5.0  12.5"
      ]
     },
     "execution_count": 44,
     "metadata": {},
     "output_type": "execute_result"
    }
   ],
   "source": [
    "M5=[12.5 125/6\n",
    "5 12.5]"
   ]
  },
  {
   "cell_type": "code",
   "execution_count": 45,
   "metadata": {},
   "outputs": [
    {
     "data": {
      "text/plain": [
       "2-element Vector{Float64}:\n",
       " 0.00735319054705215\n",
       " 0.00510720663265306"
      ]
     },
     "execution_count": 45,
     "metadata": {},
     "output_type": "execute_result"
    }
   ],
   "source": [
    "v5=[0.00735319054705215;0.00510720663265306]"
   ]
  },
  {
   "cell_type": "code",
   "execution_count": 47,
   "metadata": {},
   "outputs": [
    {
     "data": {
      "text/plain": [
       "2-element Vector{Float64}:\n",
       " -0.0002781169217687077\n",
       "  0.0005198232993197278"
      ]
     },
     "execution_count": 47,
     "metadata": {},
     "output_type": "execute_result"
    }
   ],
   "source": [
    "*(inv(M5),v5) # y'''(0) and y''''(0)"
   ]
  },
  {
   "cell_type": "code",
   "execution_count": null,
   "metadata": {},
   "outputs": [],
   "source": []
  },
  {
   "cell_type": "code",
   "execution_count": null,
   "metadata": {},
   "outputs": [],
   "source": []
  }
 ],
 "metadata": {
  "kernelspec": {
   "display_name": "Julia 1.7.2",
   "language": "julia",
   "name": "julia-1.7"
  },
  "language_info": {
   "file_extension": ".jl",
   "mimetype": "application/julia",
   "name": "julia",
   "version": "1.7.2"
  }
 },
 "nbformat": 4,
 "nbformat_minor": 4
}
