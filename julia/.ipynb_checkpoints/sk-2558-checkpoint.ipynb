{
 "cells": [
  {
   "cell_type": "code",
   "execution_count": 1,
   "id": "1ceadfcc",
   "metadata": {},
   "outputs": [
    {
     "data": {
      "text/plain": [
       "260"
      ]
     },
     "execution_count": 1,
     "metadata": {},
     "output_type": "execute_result"
    }
   ],
   "source": [
    "-(266,6)"
   ]
  },
  {
   "cell_type": "code",
   "execution_count": 3,
   "id": "e952de74",
   "metadata": {},
   "outputs": [
    {
     "data": {
      "text/plain": [
       "65.0"
      ]
     },
     "execution_count": 3,
     "metadata": {},
     "output_type": "execute_result"
    }
   ],
   "source": [
    "/(260,4)"
   ]
  },
  {
   "cell_type": "code",
   "execution_count": 4,
   "id": "67aa8b64",
   "metadata": {},
   "outputs": [
    {
     "data": {
      "text/plain": [
       "134"
      ]
     },
     "execution_count": 4,
     "metadata": {},
     "output_type": "execute_result"
    }
   ],
   "source": [
    "+(6,*(32,4))"
   ]
  },
  {
   "cell_type": "code",
   "execution_count": 5,
   "id": "994cdd43",
   "metadata": {},
   "outputs": [
    {
     "data": {
      "text/plain": [
       "0.9375"
      ]
     },
     "execution_count": 5,
     "metadata": {},
     "output_type": "execute_result"
    }
   ],
   "source": [
    "/(15,16)"
   ]
  },
  {
   "cell_type": "code",
   "execution_count": 6,
   "id": "9ddd2aa0",
   "metadata": {},
   "outputs": [],
   "source": [
    "using SymPy"
   ]
  },
  {
   "cell_type": "code",
   "execution_count": 7,
   "id": "7d053aa8",
   "metadata": {},
   "outputs": [
    {
     "data": {
      "text/plain": [
       "(x,)"
      ]
     },
     "execution_count": 7,
     "metadata": {},
     "output_type": "execute_result"
    }
   ],
   "source": [
    "@vars x"
   ]
  },
  {
   "cell_type": "code",
   "execution_count": 8,
   "id": "e87450ee",
   "metadata": {},
   "outputs": [
    {
     "data": {
      "text/latex": [
       "$\\frac{1}{x^{2} + 4 x + 13}$"
      ],
      "text/plain": [
       "      1      \n",
       "─────────────\n",
       " 2           \n",
       "x  + 4⋅x + 13"
      ]
     },
     "execution_count": 8,
     "metadata": {},
     "output_type": "execute_result"
    }
   ],
   "source": [
    "apart(/(1,+(^(x,2),*(4,x),13)))"
   ]
  },
  {
   "cell_type": "code",
   "execution_count": 18,
   "id": "2d9d2f4c",
   "metadata": {},
   "outputs": [
    {
     "data": {
      "text/plain": [
       "1.0"
      ]
     },
     "execution_count": 18,
     "metadata": {},
     "output_type": "execute_result"
    }
   ],
   "source": [
    "*(/(3,pi),atan(/(+(2,-(*(3,sqrt(3)),2)),3)))"
   ]
  },
  {
   "cell_type": "code",
   "execution_count": 10,
   "id": "25a0b70e",
   "metadata": {},
   "outputs": [
    {
     "data": {
      "text/plain": [
       "-0.5000000000000001"
      ]
     },
     "execution_count": 10,
     "metadata": {},
     "output_type": "execute_result"
    }
   ],
   "source": [
    "*(/(6,pi),atan(-(*(1,sqrt(3)),2)))"
   ]
  },
  {
   "cell_type": "code",
   "execution_count": 12,
   "id": "87535b20",
   "metadata": {},
   "outputs": [
    {
     "data": {
      "text/plain": [
       "1.0471975511965976"
      ]
     },
     "execution_count": 12,
     "metadata": {},
     "output_type": "execute_result"
    }
   ],
   "source": [
    "atan(sqrt(3))"
   ]
  },
  {
   "cell_type": "code",
   "execution_count": 13,
   "id": "c9576b88",
   "metadata": {},
   "outputs": [
    {
     "data": {
      "text/plain": [
       "1.0471975511965976"
      ]
     },
     "execution_count": 13,
     "metadata": {},
     "output_type": "execute_result"
    }
   ],
   "source": [
    "/(pi,3)"
   ]
  },
  {
   "cell_type": "code",
   "execution_count": 19,
   "id": "d2b9b249",
   "metadata": {},
   "outputs": [
    {
     "data": {
      "text/plain": [
       "1.2464"
      ]
     },
     "execution_count": 19,
     "metadata": {},
     "output_type": "execute_result"
    }
   ],
   "source": [
    "a=1.2464"
   ]
  },
  {
   "cell_type": "code",
   "execution_count": 20,
   "id": "791845a1",
   "metadata": {},
   "outputs": [
    {
     "data": {
      "text/plain": [
       "1.2964"
      ]
     },
     "execution_count": 20,
     "metadata": {},
     "output_type": "execute_result"
    }
   ],
   "source": [
    "b=1.2964"
   ]
  },
  {
   "cell_type": "code",
   "execution_count": 22,
   "id": "84bb44fa",
   "metadata": {},
   "outputs": [
    {
     "data": {
      "text/plain": [
       "69.92699999999999"
      ]
     },
     "execution_count": 22,
     "metadata": {},
     "output_type": "execute_result"
    }
   ],
   "source": [
    "*(55,*(/(1,2),+(a,b)))"
   ]
  },
  {
   "cell_type": "code",
   "execution_count": 1,
   "id": "0683a55d",
   "metadata": {
    "collapsed": false,
    "jupyter": {
     "outputs_hidden": false
    }
   },
   "outputs": [
    {
     "data": {
      "text/plain": [
       "4×4 Matrix{Float64}:\n",
       "  1.0   0.0  -1.5  -0.5\n",
       "  0.0   1.0  -1.5  -0.5\n",
       " -1.5  -0.5   0.0   0.0\n",
       " -1.5  -0.5   0.0   0.0"
      ]
     },
     "execution_count": 1,
     "metadata": {},
     "output_type": "execute_result"
    }
   ],
   "source": [
    "M2=[1 0 -1.5 -0.5\n",
    "0 1 -1.5 -0.5\n",
    "-1.5 -0.5 0 0\n",
    "-1.5 -0.5 0 0]"
   ]
  },
  {
   "cell_type": "code",
   "execution_count": 2,
   "id": "fa740a86",
   "metadata": {
    "collapsed": false,
    "jupyter": {
     "outputs_hidden": false
    }
   },
   "outputs": [
    {
     "data": {
      "text/plain": [
       "4-element Vector{Float64}:\n",
       "  7.5\n",
       " -7.5\n",
       "  0.0\n",
       "  0.0"
      ]
     },
     "execution_count": 2,
     "metadata": {},
     "output_type": "execute_result"
    }
   ],
   "source": [
    "v2=[7.5;-7.5;0;0]"
   ]
  },
  {
   "cell_type": "code",
   "execution_count": 3,
   "id": "5680f156",
   "metadata": {
    "collapsed": false,
    "jupyter": {
     "outputs_hidden": false
    }
   },
   "outputs": [
    {
     "data": {
      "text/plain": [
       "4-element Vector{Float64}:\n",
       "   3.75\n",
       " -11.25\n",
       "  -1.875\n",
       "  -1.875"
      ]
     },
     "execution_count": 3,
     "metadata": {},
     "output_type": "execute_result"
    }
   ],
   "source": [
    "uc1=[15/4;-45/4;-15/8;-15/8]"
   ]
  },
  {
   "cell_type": "code",
   "execution_count": 4,
   "id": "ce5f0f0f",
   "metadata": {
    "collapsed": false,
    "jupyter": {
     "outputs_hidden": false
    }
   },
   "outputs": [
    {
     "data": {
      "text/plain": [
       "4-element Vector{Float64}:\n",
       "  7.5\n",
       " -7.5\n",
       "  0.0\n",
       "  0.0"
      ]
     },
     "execution_count": 4,
     "metadata": {},
     "output_type": "execute_result"
    }
   ],
   "source": [
    "M2*uc1"
   ]
  },
  {
   "cell_type": "code",
   "execution_count": 5,
   "id": "6a4bf2df",
   "metadata": {},
   "outputs": [
    {
     "data": {
      "text/plain": [
       "12.25"
      ]
     },
     "execution_count": 5,
     "metadata": {},
     "output_type": "execute_result"
    }
   ],
   "source": [
    "^(3.5,2)"
   ]
  },
  {
   "cell_type": "code",
   "execution_count": 6,
   "id": "c3dd5557",
   "metadata": {},
   "outputs": [],
   "source": [
    "using SymPy"
   ]
  },
  {
   "cell_type": "code",
   "execution_count": 1,
   "id": "ea2b7719",
   "metadata": {},
   "outputs": [
    {
     "data": {
      "text/plain": [
       "24.5"
      ]
     },
     "execution_count": 1,
     "metadata": {},
     "output_type": "execute_result"
    }
   ],
   "source": [
    "*(3.5,7)"
   ]
  },
  {
   "cell_type": "code",
   "execution_count": 6,
   "id": "6b4f4676",
   "metadata": {},
   "outputs": [],
   "source": [
    "using SymPy"
   ]
  },
  {
   "cell_type": "code",
   "execution_count": 11,
   "id": "87f6cf6a",
   "metadata": {},
   "outputs": [
    {
     "data": {
      "text/plain": [
       "(a, b, c, u, v, w)"
      ]
     },
     "execution_count": 11,
     "metadata": {},
     "output_type": "execute_result"
    }
   ],
   "source": [
    "@vars a b c u v w"
   ]
  },
  {
   "cell_type": "code",
   "execution_count": 9,
   "id": "a48d3569",
   "metadata": {},
   "outputs": [
    {
     "data": {
      "text/plain": [
       "3×3 Matrix{Float64}:\n",
       " 1.0  -3.5  12.25\n",
       " 0.0   1.0  -7.0\n",
       " 0.0   0.0   1.0"
      ]
     },
     "execution_count": 9,
     "metadata": {},
     "output_type": "execute_result"
    }
   ],
   "source": [
    "M5a=[1 -3.5 12.25\n",
    "0 1 -7\n",
    "0 0 1]"
   ]
  },
  {
   "cell_type": "code",
   "execution_count": 12,
   "id": "f2d6371b",
   "metadata": {},
   "outputs": [
    {
     "data": {
      "text/latex": [
       "$\\left[ \\begin{array}{r}u\\\\v\\\\w\\end{array} \\right]$\n"
      ],
      "text/plain": [
       "3-element Vector{Sym}:\n",
       " u\n",
       " v\n",
       " w"
      ]
     },
     "execution_count": 12,
     "metadata": {},
     "output_type": "execute_result"
    }
   ],
   "source": [
    "v5a=[u,v,w]"
   ]
  },
  {
   "cell_type": "code",
   "execution_count": 1,
   "id": "1ae02556",
   "metadata": {},
   "outputs": [],
   "source": [
    "using SymPy"
   ]
  },
  {
   "cell_type": "code",
   "execution_count": 3,
   "id": "9e64b9f0",
   "metadata": {},
   "outputs": [
    {
     "data": {
      "text/plain": [
       "(x,)"
      ]
     },
     "execution_count": 3,
     "metadata": {},
     "output_type": "execute_result"
    }
   ],
   "source": [
    "@vars x"
   ]
  },
  {
   "cell_type": "code",
   "execution_count": 4,
   "id": "62f62d1e",
   "metadata": {},
   "outputs": [
    {
     "data": {
      "text/latex": [
       "$- x^{2} \\cos{\\left(x \\right)} + 2 x \\sin{\\left(x \\right)} + 2 \\cos{\\left(x \\right)}$"
      ],
      "text/plain": [
       "   2                               \n",
       "- x ⋅cos(x) + 2⋅x⋅sin(x) + 2⋅cos(x)"
      ]
     },
     "execution_count": 4,
     "metadata": {},
     "output_type": "execute_result"
    }
   ],
   "source": [
    "SymPy.integrate(*(^(x,2),SymPy.sin(x)))"
   ]
  },
  {
   "cell_type": "code",
   "execution_count": 5,
   "id": "ee5be3b1",
   "metadata": {},
   "outputs": [],
   "source": [
    "using Polynomials"
   ]
  },
  {
   "cell_type": "code",
   "execution_count": 6,
   "id": "199754ec",
   "metadata": {},
   "outputs": [
    {
     "data": {
      "text/html": [
       "4 &#45; 3&#8729;x &#43; x<sup>2</sup>"
      ],
      "text/latex": [
       "$4 - 3\\cdot x + x^{2}$"
      ],
      "text/plain": [
       "Polynomial(4 - 3*x + x^2)"
      ]
     },
     "execution_count": 6,
     "metadata": {},
     "output_type": "execute_result"
    }
   ],
   "source": [
    "p1=Polynomial([4,-3,1])"
   ]
  },
  {
   "cell_type": "code",
   "execution_count": 9,
   "id": "980032bc",
   "metadata": {},
   "outputs": [
    {
     "data": {
      "text/plain": [
       "2-element Vector{ComplexF64}:\n",
       " 1.5 - 1.3228756555322951im\n",
       " 1.5 + 1.3228756555322951im"
      ]
     },
     "execution_count": 9,
     "metadata": {},
     "output_type": "execute_result"
    }
   ],
   "source": [
    "Polynomials.roots(p1)"
   ]
  },
  {
   "cell_type": "code",
   "execution_count": 10,
   "id": "112712b6",
   "metadata": {},
   "outputs": [
    {
     "data": {
      "text/plain": [
       "17340.0"
      ]
     },
     "execution_count": 10,
     "metadata": {},
     "output_type": "execute_result"
    }
   ],
   "source": [
    "*(600000,0.0289)"
   ]
  },
  {
   "cell_type": "code",
   "execution_count": null,
   "id": "2de915c9",
   "metadata": {},
   "outputs": [],
   "source": []
  },
  {
   "cell_type": "code",
   "execution_count": null,
   "id": "0c6e9dc7",
   "metadata": {},
   "outputs": [],
   "source": []
  },
  {
   "cell_type": "code",
   "execution_count": null,
   "id": "50c7ef55",
   "metadata": {},
   "outputs": [],
   "source": []
  },
  {
   "cell_type": "code",
   "execution_count": null,
   "id": "9de83e2d",
   "metadata": {},
   "outputs": [],
   "source": []
  },
  {
   "cell_type": "code",
   "execution_count": null,
   "id": "2b8ef87d",
   "metadata": {},
   "outputs": [],
   "source": []
  },
  {
   "cell_type": "code",
   "execution_count": null,
   "id": "1560e013",
   "metadata": {},
   "outputs": [],
   "source": []
  },
  {
   "cell_type": "code",
   "execution_count": null,
   "id": "6118662b",
   "metadata": {},
   "outputs": [],
   "source": []
  }
 ],
 "metadata": {
  "kernelspec": {
   "display_name": "Julia 1.7.2",
   "language": "julia",
   "name": "julia-1.7"
  },
  "language_info": {
   "file_extension": ".jl",
   "mimetype": "application/julia",
   "name": "julia",
   "version": "1.7.2"
  }
 },
 "nbformat": 4,
 "nbformat_minor": 5
}
