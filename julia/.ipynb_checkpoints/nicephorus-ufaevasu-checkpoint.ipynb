{
 "cells": [
  {
   "cell_type": "markdown",
   "metadata": {},
   "source": [
    "<h4>Garage Temperature</h4>"
   ]
  },
  {
   "cell_type": "markdown",
   "metadata": {},
   "source": [
    "I measured the temperature in the garage while it was heating up with the propane heater. End of December 2021."
   ]
  },
  {
   "cell_type": "code",
   "execution_count": 17,
   "metadata": {
    "collapsed": false,
    "jupyter": {
     "outputs_hidden": false
    }
   },
   "outputs": [],
   "source": [
    "using NLsolve"
   ]
  },
  {
   "cell_type": "code",
   "execution_count": 18,
   "metadata": {
    "collapsed": false,
    "jupyter": {
     "outputs_hidden": false
    }
   },
   "outputs": [
    {
     "data": {
      "text/plain": [
       "f! (generic function with 1 method)"
      ]
     },
     "execution_count": 18,
     "metadata": {},
     "output_type": "execute_result"
    }
   ],
   "source": [
    "function f!(F, x)\n",
    "    F[1]=x[1]+(x[2]-x[1])*exp(x[3]*8)-6.2\n",
    "    F[2]=x[1]+(x[2]-x[1])*exp(x[3]*41)-13.7\n",
    "    F[3]=x[1]+(x[2]-x[1])*exp(x[3]*70)-17.1\n",
    "end"
   ]
  },
  {
   "cell_type": "code",
   "execution_count": 19,
   "metadata": {
    "collapsed": false,
    "jupyter": {
     "outputs_hidden": false
    }
   },
   "outputs": [
    {
     "data": {
      "text/plain": [
       "j! (generic function with 1 method)"
      ]
     },
     "execution_count": 19,
     "metadata": {},
     "output_type": "execute_result"
    }
   ],
   "source": [
    "function j!(J, x)\n",
    "    J[1,1]=1-exp(8*x[3])\n",
    "    J[1,2]=exp(8*x[3])\n",
    "    J[1,3]=8*exp(8*x[3])*(x[2]-x[1])\n",
    "    J[2,1]=1-exp(41*x[3])\n",
    "    J[2,2]=exp(41*x[3])\n",
    "    J[2,3]=41*exp(41*x[3])*(x[2]-x[1])\n",
    "    J[3,1]=1-exp(70*x[3])\n",
    "    J[3,2]=exp(70*x[3])\n",
    "    J[3,3]=70*exp(70*x[3])*(x[2]-x[1])\n",
    "end"
   ]
  },
  {
   "cell_type": "code",
   "execution_count": 20,
   "metadata": {
    "collapsed": false,
    "jupyter": {
     "outputs_hidden": false
    },
    "scrolled": true
   },
   "outputs": [
    {
     "data": {
      "text/plain": [
       "Results of Nonlinear Solver Algorithm\n",
       " * Algorithm: Trust-region with dogleg and autoscaling\n",
       " * Starting Point: [17.0, 4.0, -0.01]\n",
       " * Zero: [21.102516200343025, 3.4450843542118483, -0.021203336415537885]\n",
       " * Inf-norm of residuals: 0.000000\n",
       " * Iterations: 8\n",
       " * Convergence: true\n",
       "   * |x - x'| < 0.0e+00: false\n",
       "   * |f(x)| < 1.0e-08: true\n",
       " * Function Calls (f): 9\n",
       " * Jacobian Calls (df/dx): 8"
      ]
     },
     "execution_count": 20,
     "metadata": {},
     "output_type": "execute_result"
    }
   ],
   "source": [
    "solution=nlsolve(f!,j!,[17;4;-0.01])"
   ]
  },
  {
   "cell_type": "code",
   "execution_count": 22,
   "metadata": {
    "collapsed": false,
    "jupyter": {
     "outputs_hidden": false
    }
   },
   "outputs": [
    {
     "data": {
      "text/plain": [
       "21.102516200343025"
      ]
     },
     "execution_count": 22,
     "metadata": {},
     "output_type": "execute_result"
    }
   ],
   "source": [
    "T=solution.zero[1]"
   ]
  },
  {
   "cell_type": "code",
   "execution_count": 25,
   "metadata": {
    "collapsed": false,
    "jupyter": {
     "outputs_hidden": false
    }
   },
   "outputs": [
    {
     "data": {
      "text/plain": [
       "3.4450843542118483"
      ]
     },
     "execution_count": 25,
     "metadata": {},
     "output_type": "execute_result"
    }
   ],
   "source": [
    "u0=solution.zero[2]"
   ]
  },
  {
   "cell_type": "code",
   "execution_count": 26,
   "metadata": {
    "collapsed": false,
    "jupyter": {
     "outputs_hidden": false
    }
   },
   "outputs": [
    {
     "data": {
      "text/plain": [
       "-0.021203336415537885"
      ]
     },
     "execution_count": 26,
     "metadata": {},
     "output_type": "execute_result"
    }
   ],
   "source": [
    "k=solution.zero[3]"
   ]
  },
  {
   "cell_type": "code",
   "execution_count": 4,
   "metadata": {
    "collapsed": false,
    "jupyter": {
     "outputs_hidden": false
    }
   },
   "outputs": [],
   "source": [
    "using DataFrames"
   ]
  },
  {
   "cell_type": "code",
   "execution_count": 5,
   "metadata": {
    "collapsed": false,
    "jupyter": {
     "outputs_hidden": false
    }
   },
   "outputs": [],
   "source": [
    "using CSV"
   ]
  },
  {
   "cell_type": "code",
   "execution_count": 6,
   "metadata": {
    "collapsed": false,
    "jupyter": {
     "outputs_hidden": false
    }
   },
   "outputs": [
    {
     "data": {
      "text/html": [
       "<div class=\"data-frame\"><p>11 rows × 2 columns</p><table class=\"data-frame\"><thead><tr><th></th><th>time</th><th>temperature</th></tr><tr><th></th><th title=\"Float64\">Float64</th><th title=\"Float64\">Float64</th></tr></thead><tbody><tr><th>1</th><td>1.0</td><td>4.8</td></tr><tr><th>2</th><td>8.0</td><td>6.2</td></tr><tr><th>3</th><td>11.0</td><td>7.0</td></tr><tr><th>4</th><td>23.0</td><td>10.2</td></tr><tr><th>5</th><td>27.0</td><td>11.1</td></tr><tr><th>6</th><td>36.0</td><td>12.8</td></tr><tr><th>7</th><td>41.0</td><td>13.7</td></tr><tr><th>8</th><td>45.0</td><td>14.3</td></tr><tr><th>9</th><td>47.5</td><td>14.6</td></tr><tr><th>10</th><td>56.5</td><td>15.6</td></tr><tr><th>11</th><td>70.0</td><td>17.1</td></tr></tbody></table></div>"
      ],
      "text/latex": [
       "\\begin{tabular}{r|cc}\n",
       "\t& time & temperature\\\\\n",
       "\t\\hline\n",
       "\t& Float64 & Float64\\\\\n",
       "\t\\hline\n",
       "\t1 & 1.0 & 4.8 \\\\\n",
       "\t2 & 8.0 & 6.2 \\\\\n",
       "\t3 & 11.0 & 7.0 \\\\\n",
       "\t4 & 23.0 & 10.2 \\\\\n",
       "\t5 & 27.0 & 11.1 \\\\\n",
       "\t6 & 36.0 & 12.8 \\\\\n",
       "\t7 & 41.0 & 13.7 \\\\\n",
       "\t8 & 45.0 & 14.3 \\\\\n",
       "\t9 & 47.5 & 14.6 \\\\\n",
       "\t10 & 56.5 & 15.6 \\\\\n",
       "\t11 & 70.0 & 17.1 \\\\\n",
       "\\end{tabular}\n"
      ],
      "text/plain": [
       "\u001b[1m11×2 DataFrame\u001b[0m\n",
       "\u001b[1m Row \u001b[0m│\u001b[1m time    \u001b[0m\u001b[1m temperature \u001b[0m\n",
       "\u001b[1m     \u001b[0m│\u001b[90m Float64 \u001b[0m\u001b[90m Float64     \u001b[0m\n",
       "─────┼──────────────────────\n",
       "   1 │     1.0          4.8\n",
       "   2 │     8.0          6.2\n",
       "   3 │    11.0          7.0\n",
       "   4 │    23.0         10.2\n",
       "   5 │    27.0         11.1\n",
       "   6 │    36.0         12.8\n",
       "   7 │    41.0         13.7\n",
       "   8 │    45.0         14.3\n",
       "   9 │    47.5         14.6\n",
       "  10 │    56.5         15.6\n",
       "  11 │    70.0         17.1"
      ]
     },
     "execution_count": 6,
     "metadata": {},
     "output_type": "execute_result"
    }
   ],
   "source": [
    "garage=DataFrame(CSV.File(\"./garage.csv\"))"
   ]
  },
  {
   "cell_type": "code",
   "execution_count": 7,
   "metadata": {
    "collapsed": false,
    "jupyter": {
     "outputs_hidden": false
    }
   },
   "outputs": [],
   "source": [
    "using Plots"
   ]
  },
  {
   "cell_type": "code",
   "execution_count": 15,
   "metadata": {
    "collapsed": false,
    "jupyter": {
     "outputs_hidden": false
    }
   },
   "outputs": [
    {
     "data": {
      "text/plain": [
       "0.0:2.0202020202020203:200.0"
      ]
     },
     "execution_count": 15,
     "metadata": {},
     "output_type": "execute_result"
    }
   ],
   "source": [
    "x=range(0,stop=200,length=100)"
   ]
  },
  {
   "cell_type": "code",
   "execution_count": 29,
   "metadata": {
    "collapsed": false,
    "jupyter": {
     "outputs_hidden": false
    }
   },
   "outputs": [
    {
     "data": {
      "image/svg+xml": [
       "<?xml version=\"1.0\" encoding=\"utf-8\"?>\n",
       "<svg xmlns=\"http://www.w3.org/2000/svg\" xmlns:xlink=\"http://www.w3.org/1999/xlink\" width=\"600\" height=\"400\" viewBox=\"0 0 2400 1600\">\n",
       "<defs>\n",
       "  <clipPath id=\"clip030\">\n",
       "    <rect x=\"0\" y=\"0\" width=\"2400\" height=\"1600\"/>\n",
       "  </clipPath>\n",
       "</defs>\n",
       "<path clip-path=\"url(#clip030)\" d=\"\n",
       "M0 1600 L2400 1600 L2400 0 L0 0  Z\n",
       "  \" fill=\"#ffffff\" fill-rule=\"evenodd\" fill-opacity=\"1\"/>\n",
       "<defs>\n",
       "  <clipPath id=\"clip031\">\n",
       "    <rect x=\"480\" y=\"0\" width=\"1681\" height=\"1600\"/>\n",
       "  </clipPath>\n",
       "</defs>\n",
       "<path clip-path=\"url(#clip030)\" d=\"\n",
       "M140.696 1486.45 L2352.76 1486.45 L2352.76 47.2441 L140.696 47.2441  Z\n",
       "  \" fill=\"#ffffff\" fill-rule=\"evenodd\" fill-opacity=\"1\"/>\n",
       "<defs>\n",
       "  <clipPath id=\"clip032\">\n",
       "    <rect x=\"140\" y=\"47\" width=\"2213\" height=\"1440\"/>\n",
       "  </clipPath>\n",
       "</defs>\n",
       "<polyline clip-path=\"url(#clip032)\" style=\"stroke:#000000; stroke-linecap:butt; stroke-linejoin:round; stroke-width:2; stroke-opacity:0.1; fill:none\" points=\"\n",
       "  151.701,1486.45 151.701,47.2441 \n",
       "  \"/>\n",
       "<polyline clip-path=\"url(#clip032)\" style=\"stroke:#000000; stroke-linecap:butt; stroke-linejoin:round; stroke-width:2; stroke-opacity:0.1; fill:none\" points=\"\n",
       "  701.965,1486.45 701.965,47.2441 \n",
       "  \"/>\n",
       "<polyline clip-path=\"url(#clip032)\" style=\"stroke:#000000; stroke-linecap:butt; stroke-linejoin:round; stroke-width:2; stroke-opacity:0.1; fill:none\" points=\"\n",
       "  1252.23,1486.45 1252.23,47.2441 \n",
       "  \"/>\n",
       "<polyline clip-path=\"url(#clip032)\" style=\"stroke:#000000; stroke-linecap:butt; stroke-linejoin:round; stroke-width:2; stroke-opacity:0.1; fill:none\" points=\"\n",
       "  1802.49,1486.45 1802.49,47.2441 \n",
       "  \"/>\n",
       "<polyline clip-path=\"url(#clip032)\" style=\"stroke:#000000; stroke-linecap:butt; stroke-linejoin:round; stroke-width:2; stroke-opacity:0.1; fill:none\" points=\"\n",
       "  2352.76,1486.45 2352.76,47.2441 \n",
       "  \"/>\n",
       "<polyline clip-path=\"url(#clip030)\" style=\"stroke:#000000; stroke-linecap:butt; stroke-linejoin:round; stroke-width:4; stroke-opacity:1; fill:none\" points=\"\n",
       "  140.696,1486.45 2352.76,1486.45 \n",
       "  \"/>\n",
       "<polyline clip-path=\"url(#clip030)\" style=\"stroke:#000000; stroke-linecap:butt; stroke-linejoin:round; stroke-width:4; stroke-opacity:1; fill:none\" points=\"\n",
       "  151.701,1486.45 151.701,1467.55 \n",
       "  \"/>\n",
       "<polyline clip-path=\"url(#clip030)\" style=\"stroke:#000000; stroke-linecap:butt; stroke-linejoin:round; stroke-width:4; stroke-opacity:1; fill:none\" points=\"\n",
       "  701.965,1486.45 701.965,1467.55 \n",
       "  \"/>\n",
       "<polyline clip-path=\"url(#clip030)\" style=\"stroke:#000000; stroke-linecap:butt; stroke-linejoin:round; stroke-width:4; stroke-opacity:1; fill:none\" points=\"\n",
       "  1252.23,1486.45 1252.23,1467.55 \n",
       "  \"/>\n",
       "<polyline clip-path=\"url(#clip030)\" style=\"stroke:#000000; stroke-linecap:butt; stroke-linejoin:round; stroke-width:4; stroke-opacity:1; fill:none\" points=\"\n",
       "  1802.49,1486.45 1802.49,1467.55 \n",
       "  \"/>\n",
       "<polyline clip-path=\"url(#clip030)\" style=\"stroke:#000000; stroke-linecap:butt; stroke-linejoin:round; stroke-width:4; stroke-opacity:1; fill:none\" points=\"\n",
       "  2352.76,1486.45 2352.76,1467.55 \n",
       "  \"/>\n",
       "<path clip-path=\"url(#clip030)\" d=\"M151.701 1515.64 Q148.09 1515.64 146.261 1519.2 Q144.455 1522.75 144.455 1529.87 Q144.455 1536.98 146.261 1540.55 Q148.09 1544.09 151.701 1544.09 Q155.335 1544.09 157.141 1540.55 Q158.969 1536.98 158.969 1529.87 Q158.969 1522.75 157.141 1519.2 Q155.335 1515.64 151.701 1515.64 M151.701 1511.93 Q157.511 1511.93 160.567 1516.54 Q163.645 1521.12 163.645 1529.87 Q163.645 1538.6 160.567 1543.21 Q157.511 1547.79 151.701 1547.79 Q145.891 1547.79 142.812 1543.21 Q139.756 1538.6 139.756 1529.87 Q139.756 1521.12 142.812 1516.54 Q145.891 1511.93 151.701 1511.93 Z\" fill=\"#000000\" fill-rule=\"evenodd\" fill-opacity=\"1\" /><path clip-path=\"url(#clip030)\" d=\"M676.664 1512.56 L695.02 1512.56 L695.02 1516.5 L680.946 1516.5 L680.946 1524.97 Q681.965 1524.62 682.983 1524.46 Q684.002 1524.27 685.02 1524.27 Q690.807 1524.27 694.187 1527.44 Q697.566 1530.62 697.566 1536.03 Q697.566 1541.61 694.094 1544.71 Q690.622 1547.79 684.303 1547.79 Q682.127 1547.79 679.858 1547.42 Q677.613 1547.05 675.205 1546.31 L675.205 1541.61 Q677.289 1542.74 679.511 1543.3 Q681.733 1543.86 684.21 1543.86 Q688.215 1543.86 690.553 1541.75 Q692.891 1539.64 692.891 1536.03 Q692.891 1532.42 690.553 1530.31 Q688.215 1528.21 684.21 1528.21 Q682.335 1528.21 680.46 1528.62 Q678.608 1529.04 676.664 1529.92 L676.664 1512.56 Z\" fill=\"#000000\" fill-rule=\"evenodd\" fill-opacity=\"1\" /><path clip-path=\"url(#clip030)\" d=\"M716.779 1515.64 Q713.168 1515.64 711.34 1519.2 Q709.534 1522.75 709.534 1529.87 Q709.534 1536.98 711.34 1540.55 Q713.168 1544.09 716.779 1544.09 Q720.414 1544.09 722.219 1540.55 Q724.048 1536.98 724.048 1529.87 Q724.048 1522.75 722.219 1519.2 Q720.414 1515.64 716.779 1515.64 M716.779 1511.93 Q722.589 1511.93 725.645 1516.54 Q728.724 1521.12 728.724 1529.87 Q728.724 1538.6 725.645 1543.21 Q722.589 1547.79 716.779 1547.79 Q710.969 1547.79 707.89 1543.21 Q704.835 1538.6 704.835 1529.87 Q704.835 1521.12 707.89 1516.54 Q710.969 1511.93 716.779 1511.93 Z\" fill=\"#000000\" fill-rule=\"evenodd\" fill-opacity=\"1\" /><path clip-path=\"url(#clip030)\" d=\"M1211.84 1543.18 L1219.47 1543.18 L1219.47 1516.82 L1211.16 1518.49 L1211.16 1514.23 L1219.43 1512.56 L1224.1 1512.56 L1224.1 1543.18 L1231.74 1543.18 L1231.74 1547.12 L1211.84 1547.12 L1211.84 1543.18 Z\" fill=\"#000000\" fill-rule=\"evenodd\" fill-opacity=\"1\" /><path clip-path=\"url(#clip030)\" d=\"M1251.19 1515.64 Q1247.58 1515.64 1245.75 1519.2 Q1243.94 1522.75 1243.94 1529.87 Q1243.94 1536.98 1245.75 1540.55 Q1247.58 1544.09 1251.19 1544.09 Q1254.82 1544.09 1256.63 1540.55 Q1258.46 1536.98 1258.46 1529.87 Q1258.46 1522.75 1256.63 1519.2 Q1254.82 1515.64 1251.19 1515.64 M1251.19 1511.93 Q1257 1511.93 1260.05 1516.54 Q1263.13 1521.12 1263.13 1529.87 Q1263.13 1538.6 1260.05 1543.21 Q1257 1547.79 1251.19 1547.79 Q1245.38 1547.79 1242.3 1543.21 Q1239.24 1538.6 1239.24 1529.87 Q1239.24 1521.12 1242.3 1516.54 Q1245.38 1511.93 1251.19 1511.93 Z\" fill=\"#000000\" fill-rule=\"evenodd\" fill-opacity=\"1\" /><path clip-path=\"url(#clip030)\" d=\"M1281.35 1515.64 Q1277.74 1515.64 1275.91 1519.2 Q1274.1 1522.75 1274.1 1529.87 Q1274.1 1536.98 1275.91 1540.55 Q1277.74 1544.09 1281.35 1544.09 Q1284.98 1544.09 1286.79 1540.55 Q1288.62 1536.98 1288.62 1529.87 Q1288.62 1522.75 1286.79 1519.2 Q1284.98 1515.64 1281.35 1515.64 M1281.35 1511.93 Q1287.16 1511.93 1290.21 1516.54 Q1293.29 1521.12 1293.29 1529.87 Q1293.29 1538.6 1290.21 1543.21 Q1287.16 1547.79 1281.35 1547.79 Q1275.54 1547.79 1272.46 1543.21 Q1269.4 1538.6 1269.4 1529.87 Q1269.4 1521.12 1272.46 1516.54 Q1275.54 1511.93 1281.35 1511.93 Z\" fill=\"#000000\" fill-rule=\"evenodd\" fill-opacity=\"1\" /><path clip-path=\"url(#clip030)\" d=\"M1762.1 1543.18 L1769.74 1543.18 L1769.74 1516.82 L1761.43 1518.49 L1761.43 1514.23 L1769.69 1512.56 L1774.37 1512.56 L1774.37 1543.18 L1782.01 1543.18 L1782.01 1547.12 L1762.1 1547.12 L1762.1 1543.18 Z\" fill=\"#000000\" fill-rule=\"evenodd\" fill-opacity=\"1\" /><path clip-path=\"url(#clip030)\" d=\"M1791.5 1512.56 L1809.85 1512.56 L1809.85 1516.5 L1795.78 1516.5 L1795.78 1524.97 Q1796.8 1524.62 1797.82 1524.46 Q1798.83 1524.27 1799.85 1524.27 Q1805.64 1524.27 1809.02 1527.44 Q1812.4 1530.62 1812.4 1536.03 Q1812.4 1541.61 1808.93 1544.71 Q1805.46 1547.79 1799.14 1547.79 Q1796.96 1547.79 1794.69 1547.42 Q1792.45 1547.05 1790.04 1546.31 L1790.04 1541.61 Q1792.12 1542.74 1794.34 1543.3 Q1796.57 1543.86 1799.04 1543.86 Q1803.05 1543.86 1805.39 1541.75 Q1807.72 1539.64 1807.72 1536.03 Q1807.72 1532.42 1805.39 1530.31 Q1803.05 1528.21 1799.04 1528.21 Q1797.17 1528.21 1795.29 1528.62 Q1793.44 1529.04 1791.5 1529.92 L1791.5 1512.56 Z\" fill=\"#000000\" fill-rule=\"evenodd\" fill-opacity=\"1\" /><path clip-path=\"url(#clip030)\" d=\"M1831.61 1515.64 Q1828 1515.64 1826.17 1519.2 Q1824.37 1522.75 1824.37 1529.87 Q1824.37 1536.98 1826.17 1540.55 Q1828 1544.09 1831.61 1544.09 Q1835.25 1544.09 1837.05 1540.55 Q1838.88 1536.98 1838.88 1529.87 Q1838.88 1522.75 1837.05 1519.2 Q1835.25 1515.64 1831.61 1515.64 M1831.61 1511.93 Q1837.42 1511.93 1840.48 1516.54 Q1843.56 1521.12 1843.56 1529.87 Q1843.56 1538.6 1840.48 1543.21 Q1837.42 1547.79 1831.61 1547.79 Q1825.8 1547.79 1822.72 1543.21 Q1819.67 1538.6 1819.67 1529.87 Q1819.67 1521.12 1822.72 1516.54 Q1825.8 1511.93 1831.61 1511.93 Z\" fill=\"#000000\" fill-rule=\"evenodd\" fill-opacity=\"1\" /><path clip-path=\"url(#clip030)\" d=\"M2316.45 1543.18 L2332.77 1543.18 L2332.77 1547.12 L2310.82 1547.12 L2310.82 1543.18 Q2313.49 1540.43 2318.07 1535.8 Q2322.68 1531.15 2323.86 1529.81 Q2326.1 1527.28 2326.98 1525.55 Q2327.88 1523.79 2327.88 1522.1 Q2327.88 1519.34 2325.94 1517.61 Q2324.02 1515.87 2320.92 1515.87 Q2318.72 1515.87 2316.26 1516.63 Q2313.83 1517.4 2311.05 1518.95 L2311.05 1514.23 Q2313.88 1513.09 2316.33 1512.51 Q2318.79 1511.93 2320.82 1511.93 Q2326.19 1511.93 2329.39 1514.62 Q2332.58 1517.31 2332.58 1521.8 Q2332.58 1523.93 2331.77 1525.85 Q2330.99 1527.74 2328.88 1530.34 Q2328.3 1531.01 2325.2 1534.23 Q2322.1 1537.42 2316.45 1543.18 Z\" fill=\"#000000\" fill-rule=\"evenodd\" fill-opacity=\"1\" /><path clip-path=\"url(#clip030)\" d=\"M2352.58 1515.64 Q2348.97 1515.64 2347.14 1519.2 Q2345.34 1522.75 2345.34 1529.87 Q2345.34 1536.98 2347.14 1540.55 Q2348.97 1544.09 2352.58 1544.09 Q2356.22 1544.09 2358.02 1540.55 Q2359.85 1536.98 2359.85 1529.87 Q2359.85 1522.75 2358.02 1519.2 Q2356.22 1515.64 2352.58 1515.64 M2352.58 1511.93 Q2358.39 1511.93 2361.45 1516.54 Q2364.53 1521.12 2364.53 1529.87 Q2364.53 1538.6 2361.45 1543.21 Q2358.39 1547.79 2352.58 1547.79 Q2346.77 1547.79 2343.69 1543.21 Q2340.64 1538.6 2340.64 1529.87 Q2340.64 1521.12 2343.69 1516.54 Q2346.77 1511.93 2352.58 1511.93 Z\" fill=\"#000000\" fill-rule=\"evenodd\" fill-opacity=\"1\" /><path clip-path=\"url(#clip030)\" d=\"M2382.74 1515.64 Q2379.13 1515.64 2377.3 1519.2 Q2375.5 1522.75 2375.5 1529.87 Q2375.5 1536.98 2377.3 1540.55 Q2379.13 1544.09 2382.74 1544.09 Q2386.38 1544.09 2388.18 1540.55 Q2390.01 1536.98 2390.01 1529.87 Q2390.01 1522.75 2388.18 1519.2 Q2386.38 1515.64 2382.74 1515.64 M2382.74 1511.93 Q2388.55 1511.93 2391.61 1516.54 Q2394.69 1521.12 2394.69 1529.87 Q2394.69 1538.6 2391.61 1543.21 Q2388.55 1547.79 2382.74 1547.79 Q2376.93 1547.79 2373.86 1543.21 Q2370.8 1538.6 2370.8 1529.87 Q2370.8 1521.12 2373.86 1516.54 Q2376.93 1511.93 2382.74 1511.93 Z\" fill=\"#000000\" fill-rule=\"evenodd\" fill-opacity=\"1\" /><polyline clip-path=\"url(#clip032)\" style=\"stroke:#000000; stroke-linecap:butt; stroke-linejoin:round; stroke-width:2; stroke-opacity:0.1; fill:none\" points=\"\n",
       "  140.696,1431.09 2352.76,1431.09 \n",
       "  \"/>\n",
       "<polyline clip-path=\"url(#clip032)\" style=\"stroke:#000000; stroke-linecap:butt; stroke-linejoin:round; stroke-width:2; stroke-opacity:0.1; fill:none\" points=\"\n",
       "  140.696,1154.32 2352.76,1154.32 \n",
       "  \"/>\n",
       "<polyline clip-path=\"url(#clip032)\" style=\"stroke:#000000; stroke-linecap:butt; stroke-linejoin:round; stroke-width:2; stroke-opacity:0.1; fill:none\" points=\"\n",
       "  140.696,877.554 2352.76,877.554 \n",
       "  \"/>\n",
       "<polyline clip-path=\"url(#clip032)\" style=\"stroke:#000000; stroke-linecap:butt; stroke-linejoin:round; stroke-width:2; stroke-opacity:0.1; fill:none\" points=\"\n",
       "  140.696,600.784 2352.76,600.784 \n",
       "  \"/>\n",
       "<polyline clip-path=\"url(#clip032)\" style=\"stroke:#000000; stroke-linecap:butt; stroke-linejoin:round; stroke-width:2; stroke-opacity:0.1; fill:none\" points=\"\n",
       "  140.696,324.014 2352.76,324.014 \n",
       "  \"/>\n",
       "<polyline clip-path=\"url(#clip032)\" style=\"stroke:#000000; stroke-linecap:butt; stroke-linejoin:round; stroke-width:2; stroke-opacity:0.1; fill:none\" points=\"\n",
       "  140.696,47.2441 2352.76,47.2441 \n",
       "  \"/>\n",
       "<polyline clip-path=\"url(#clip030)\" style=\"stroke:#000000; stroke-linecap:butt; stroke-linejoin:round; stroke-width:4; stroke-opacity:1; fill:none\" points=\"\n",
       "  140.696,1486.45 140.696,47.2441 \n",
       "  \"/>\n",
       "<polyline clip-path=\"url(#clip030)\" style=\"stroke:#000000; stroke-linecap:butt; stroke-linejoin:round; stroke-width:4; stroke-opacity:1; fill:none\" points=\"\n",
       "  140.696,1431.09 159.593,1431.09 \n",
       "  \"/>\n",
       "<polyline clip-path=\"url(#clip030)\" style=\"stroke:#000000; stroke-linecap:butt; stroke-linejoin:round; stroke-width:4; stroke-opacity:1; fill:none\" points=\"\n",
       "  140.696,1154.32 159.593,1154.32 \n",
       "  \"/>\n",
       "<polyline clip-path=\"url(#clip030)\" style=\"stroke:#000000; stroke-linecap:butt; stroke-linejoin:round; stroke-width:4; stroke-opacity:1; fill:none\" points=\"\n",
       "  140.696,877.554 159.593,877.554 \n",
       "  \"/>\n",
       "<polyline clip-path=\"url(#clip030)\" style=\"stroke:#000000; stroke-linecap:butt; stroke-linejoin:round; stroke-width:4; stroke-opacity:1; fill:none\" points=\"\n",
       "  140.696,600.784 159.593,600.784 \n",
       "  \"/>\n",
       "<polyline clip-path=\"url(#clip030)\" style=\"stroke:#000000; stroke-linecap:butt; stroke-linejoin:round; stroke-width:4; stroke-opacity:1; fill:none\" points=\"\n",
       "  140.696,324.014 159.593,324.014 \n",
       "  \"/>\n",
       "<polyline clip-path=\"url(#clip030)\" style=\"stroke:#000000; stroke-linecap:butt; stroke-linejoin:round; stroke-width:4; stroke-opacity:1; fill:none\" points=\"\n",
       "  140.696,47.2441 159.593,47.2441 \n",
       "  \"/>\n",
       "<path clip-path=\"url(#clip030)\" d=\"M92.7512 1416.89 Q89.1401 1416.89 87.3114 1420.46 Q85.5058 1424 85.5058 1431.13 Q85.5058 1438.24 87.3114 1441.8 Q89.1401 1445.34 92.7512 1445.34 Q96.3854 1445.34 98.1909 1441.8 Q100.02 1438.24 100.02 1431.13 Q100.02 1424 98.1909 1420.46 Q96.3854 1416.89 92.7512 1416.89 M92.7512 1413.19 Q98.5613 1413.19 101.617 1417.8 Q104.696 1422.38 104.696 1431.13 Q104.696 1439.86 101.617 1444.46 Q98.5613 1449.05 92.7512 1449.05 Q86.941 1449.05 83.8623 1444.46 Q80.8068 1439.86 80.8068 1431.13 Q80.8068 1422.38 83.8623 1417.8 Q86.941 1413.19 92.7512 1413.19 Z\" fill=\"#000000\" fill-rule=\"evenodd\" fill-opacity=\"1\" /><path clip-path=\"url(#clip030)\" d=\"M83.7929 1137.04 L102.149 1137.04 L102.149 1140.98 L88.0753 1140.98 L88.0753 1149.45 Q89.0938 1149.1 90.1123 1148.94 Q91.1308 1148.76 92.1493 1148.76 Q97.9363 1148.76 101.316 1151.93 Q104.696 1155.1 104.696 1160.52 Q104.696 1166.09 101.223 1169.2 Q97.7511 1172.28 91.4317 1172.28 Q89.2558 1172.28 86.9873 1171.9 Q84.7419 1171.53 82.3346 1170.79 L82.3346 1166.09 Q84.4179 1167.23 86.6401 1167.78 Q88.8623 1168.34 91.3391 1168.34 Q95.3437 1168.34 97.6817 1166.23 Q100.02 1164.13 100.02 1160.52 Q100.02 1156.9 97.6817 1154.8 Q95.3437 1152.69 91.3391 1152.69 Q89.4641 1152.69 87.5892 1153.11 Q85.7373 1153.53 83.7929 1154.4 L83.7929 1137.04 Z\" fill=\"#000000\" fill-rule=\"evenodd\" fill-opacity=\"1\" /><path clip-path=\"url(#clip030)\" d=\"M53.3995 890.899 L61.0384 890.899 L61.0384 864.533 L52.7282 866.2 L52.7282 861.941 L60.9921 860.274 L65.668 860.274 L65.668 890.899 L73.3068 890.899 L73.3068 894.834 L53.3995 894.834 L53.3995 890.899 Z\" fill=\"#000000\" fill-rule=\"evenodd\" fill-opacity=\"1\" /><path clip-path=\"url(#clip030)\" d=\"M92.7512 863.353 Q89.1401 863.353 87.3114 866.917 Q85.5058 870.459 85.5058 877.589 Q85.5058 884.695 87.3114 888.26 Q89.1401 891.802 92.7512 891.802 Q96.3854 891.802 98.1909 888.26 Q100.02 884.695 100.02 877.589 Q100.02 870.459 98.1909 866.917 Q96.3854 863.353 92.7512 863.353 M92.7512 859.649 Q98.5613 859.649 101.617 864.255 Q104.696 868.839 104.696 877.589 Q104.696 886.315 101.617 890.922 Q98.5613 895.505 92.7512 895.505 Q86.941 895.505 83.8623 890.922 Q80.8068 886.315 80.8068 877.589 Q80.8068 868.839 83.8623 864.255 Q86.941 859.649 92.7512 859.649 Z\" fill=\"#000000\" fill-rule=\"evenodd\" fill-opacity=\"1\" /><path clip-path=\"url(#clip030)\" d=\"M54.3949 614.129 L62.0337 614.129 L62.0337 587.763 L53.7236 589.43 L53.7236 585.171 L61.9874 583.504 L66.6633 583.504 L66.6633 614.129 L74.3022 614.129 L74.3022 618.064 L54.3949 618.064 L54.3949 614.129 Z\" fill=\"#000000\" fill-rule=\"evenodd\" fill-opacity=\"1\" /><path clip-path=\"url(#clip030)\" d=\"M83.7929 583.504 L102.149 583.504 L102.149 587.439 L88.0753 587.439 L88.0753 595.911 Q89.0938 595.564 90.1123 595.402 Q91.1308 595.217 92.1493 595.217 Q97.9363 595.217 101.316 598.388 Q104.696 601.559 104.696 606.976 Q104.696 612.555 101.223 615.657 Q97.7511 618.735 91.4317 618.735 Q89.2558 618.735 86.9873 618.365 Q84.7419 617.995 82.3346 617.254 L82.3346 612.555 Q84.4179 613.689 86.6401 614.245 Q88.8623 614.8 91.3391 614.8 Q95.3437 614.8 97.6817 612.694 Q100.02 610.587 100.02 606.976 Q100.02 603.365 97.6817 601.259 Q95.3437 599.152 91.3391 599.152 Q89.4641 599.152 87.5892 599.569 Q85.7373 599.985 83.7929 600.865 L83.7929 583.504 Z\" fill=\"#000000\" fill-rule=\"evenodd\" fill-opacity=\"1\" /><path clip-path=\"url(#clip030)\" d=\"M56.6171 337.359 L72.9365 337.359 L72.9365 341.294 L50.9921 341.294 L50.9921 337.359 Q53.6541 334.604 58.2375 329.975 Q62.8439 325.322 64.0245 323.979 Q66.2698 321.456 67.1494 319.72 Q68.0522 317.961 68.0522 316.271 Q68.0522 313.516 66.1078 311.78 Q64.1865 310.044 61.0847 310.044 Q58.8856 310.044 56.4319 310.808 Q54.0014 311.572 51.2236 313.123 L51.2236 308.401 Q54.0477 307.266 56.5014 306.688 Q58.955 306.109 60.9921 306.109 Q66.3624 306.109 69.5568 308.794 Q72.7513 311.479 72.7513 315.97 Q72.7513 318.1 71.9411 320.021 Q71.1541 321.919 69.0476 324.512 Q68.4689 325.183 65.367 328.401 Q62.2652 331.595 56.6171 337.359 Z\" fill=\"#000000\" fill-rule=\"evenodd\" fill-opacity=\"1\" /><path clip-path=\"url(#clip030)\" d=\"M92.7512 309.813 Q89.1401 309.813 87.3114 313.378 Q85.5058 316.919 85.5058 324.049 Q85.5058 331.155 87.3114 334.72 Q89.1401 338.262 92.7512 338.262 Q96.3854 338.262 98.1909 334.72 Q100.02 331.155 100.02 324.049 Q100.02 316.919 98.1909 313.378 Q96.3854 309.813 92.7512 309.813 M92.7512 306.109 Q98.5613 306.109 101.617 310.716 Q104.696 315.299 104.696 324.049 Q104.696 332.776 101.617 337.382 Q98.5613 341.965 92.7512 341.965 Q86.941 341.965 83.8623 337.382 Q80.8068 332.776 80.8068 324.049 Q80.8068 315.299 83.8623 310.716 Q86.941 306.109 92.7512 306.109 Z\" fill=\"#000000\" fill-rule=\"evenodd\" fill-opacity=\"1\" /><path clip-path=\"url(#clip030)\" d=\"M57.6125 60.5889 L73.9318 60.5889 L73.9318 64.5241 L51.9875 64.5241 L51.9875 60.5889 Q54.6495 57.8343 59.2328 53.2047 Q63.8393 48.552 65.0198 47.2094 Q67.2652 44.6862 68.1448 42.9501 Q69.0476 41.1909 69.0476 39.5011 Q69.0476 36.7465 67.1032 35.0104 Q65.1819 33.2743 62.08 33.2743 Q59.881 33.2743 57.4273 34.0381 Q54.9967 34.802 52.219 36.3529 L52.219 31.6308 Q55.043 30.4965 57.4967 29.9178 Q59.9504 29.3391 61.9874 29.3391 Q67.3578 29.3391 70.5522 32.0243 Q73.7466 34.7094 73.7466 39.2002 Q73.7466 41.3298 72.9365 43.2511 Q72.1494 45.1492 70.0429 47.7418 Q69.4642 48.4131 66.3624 51.6306 Q63.2606 54.8251 57.6125 60.5889 Z\" fill=\"#000000\" fill-rule=\"evenodd\" fill-opacity=\"1\" /><path clip-path=\"url(#clip030)\" d=\"M83.7929 29.9641 L102.149 29.9641 L102.149 33.8993 L88.0753 33.8993 L88.0753 42.3714 Q89.0938 42.0242 90.1123 41.8622 Q91.1308 41.677 92.1493 41.677 Q97.9363 41.677 101.316 44.8483 Q104.696 48.0196 104.696 53.4362 Q104.696 59.0149 101.223 62.1167 Q97.7511 65.1954 91.4317 65.1954 Q89.2558 65.1954 86.9873 64.825 Q84.7419 64.4547 82.3346 63.7139 L82.3346 59.0149 Q84.4179 60.1491 86.6401 60.7047 Q88.8623 61.2602 91.3391 61.2602 Q95.3437 61.2602 97.6817 59.1538 Q100.02 57.0473 100.02 53.4362 Q100.02 49.8251 97.6817 47.7186 Q95.3437 45.6122 91.3391 45.6122 Q89.4641 45.6122 87.5892 46.0288 Q85.7373 46.4455 83.7929 47.3251 L83.7929 29.9641 Z\" fill=\"#000000\" fill-rule=\"evenodd\" fill-opacity=\"1\" /><circle clip-path=\"url(#clip032)\" cx=\"162.706\" cy=\"1165.39\" r=\"14\" fill=\"#009af9\" fill-rule=\"evenodd\" fill-opacity=\"1\" stroke=\"#000000\" stroke-opacity=\"1\" stroke-width=\"3.2\"/>\n",
       "<circle clip-path=\"url(#clip032)\" cx=\"239.743\" cy=\"1087.9\" r=\"14\" fill=\"#009af9\" fill-rule=\"evenodd\" fill-opacity=\"1\" stroke=\"#000000\" stroke-opacity=\"1\" stroke-width=\"3.2\"/>\n",
       "<circle clip-path=\"url(#clip032)\" cx=\"272.759\" cy=\"1043.62\" r=\"14\" fill=\"#009af9\" fill-rule=\"evenodd\" fill-opacity=\"1\" stroke=\"#000000\" stroke-opacity=\"1\" stroke-width=\"3.2\"/>\n",
       "<circle clip-path=\"url(#clip032)\" cx=\"404.822\" cy=\"866.483\" r=\"14\" fill=\"#009af9\" fill-rule=\"evenodd\" fill-opacity=\"1\" stroke=\"#000000\" stroke-opacity=\"1\" stroke-width=\"3.2\"/>\n",
       "<circle clip-path=\"url(#clip032)\" cx=\"448.843\" cy=\"816.665\" r=\"14\" fill=\"#009af9\" fill-rule=\"evenodd\" fill-opacity=\"1\" stroke=\"#000000\" stroke-opacity=\"1\" stroke-width=\"3.2\"/>\n",
       "<circle clip-path=\"url(#clip032)\" cx=\"547.891\" cy=\"722.563\" r=\"14\" fill=\"#009af9\" fill-rule=\"evenodd\" fill-opacity=\"1\" stroke=\"#000000\" stroke-opacity=\"1\" stroke-width=\"3.2\"/>\n",
       "<circle clip-path=\"url(#clip032)\" cx=\"602.917\" cy=\"672.744\" r=\"14\" fill=\"#009af9\" fill-rule=\"evenodd\" fill-opacity=\"1\" stroke=\"#000000\" stroke-opacity=\"1\" stroke-width=\"3.2\"/>\n",
       "<circle clip-path=\"url(#clip032)\" cx=\"646.938\" cy=\"639.532\" r=\"14\" fill=\"#009af9\" fill-rule=\"evenodd\" fill-opacity=\"1\" stroke=\"#000000\" stroke-opacity=\"1\" stroke-width=\"3.2\"/>\n",
       "<circle clip-path=\"url(#clip032)\" cx=\"674.451\" cy=\"622.926\" r=\"14\" fill=\"#009af9\" fill-rule=\"evenodd\" fill-opacity=\"1\" stroke=\"#000000\" stroke-opacity=\"1\" stroke-width=\"3.2\"/>\n",
       "<circle clip-path=\"url(#clip032)\" cx=\"773.499\" cy=\"567.572\" r=\"14\" fill=\"#009af9\" fill-rule=\"evenodd\" fill-opacity=\"1\" stroke=\"#000000\" stroke-opacity=\"1\" stroke-width=\"3.2\"/>\n",
       "<circle clip-path=\"url(#clip032)\" cx=\"922.07\" cy=\"484.541\" r=\"14\" fill=\"#009af9\" fill-rule=\"evenodd\" fill-opacity=\"1\" stroke=\"#000000\" stroke-opacity=\"1\" stroke-width=\"3.2\"/>\n",
       "<polyline clip-path=\"url(#clip032)\" style=\"stroke:#e26f46; stroke-linecap:butt; stroke-linejoin:round; stroke-width:4; stroke-opacity:1; fill:none\" points=\"\n",
       "  151.701,1240.39 173.934,1199.41 196.167,1160.15 218.399,1122.53 240.632,1086.49 262.865,1051.96 285.098,1018.88 307.331,987.18 329.564,956.814 351.797,927.722 \n",
       "  374.03,899.849 396.262,873.145 418.495,847.56 440.728,823.049 462.961,799.565 485.194,777.066 507.427,755.51 529.66,734.859 551.893,715.073 574.126,696.116 \n",
       "  596.358,677.955 618.591,660.555 640.824,643.885 663.057,627.913 685.29,612.612 707.523,597.952 729.756,583.906 751.989,570.45 774.221,557.558 796.454,545.206 \n",
       "  818.687,533.373 840.92,522.035 863.153,511.173 885.386,500.766 907.619,490.796 929.852,481.244 952.084,472.092 974.317,463.324 996.55,454.924 1018.78,446.876 \n",
       "  1041.02,439.165 1063.25,431.778 1085.48,424.7 1107.71,417.919 1129.95,411.423 1152.18,405.199 1174.41,399.236 1196.65,393.523 1218.88,388.049 1241.11,382.805 \n",
       "  1263.34,377.781 1285.58,372.968 1307.81,368.356 1330.04,363.938 1352.28,359.705 1374.51,355.649 1396.74,351.764 1418.97,348.041 1441.21,344.475 1463.44,341.058 \n",
       "  1485.67,337.784 1507.91,334.648 1530.14,331.643 1552.37,328.764 1574.61,326.006 1596.84,323.364 1619.07,320.832 1641.3,318.406 1663.54,316.083 1685.77,313.856 \n",
       "  1708,311.723 1730.24,309.68 1752.47,307.722 1774.7,305.846 1796.93,304.049 1819.17,302.327 1841.4,300.677 1863.63,299.097 1885.87,297.583 1908.1,296.132 \n",
       "  1930.33,294.742 1952.56,293.411 1974.8,292.135 1997.03,290.913 2019.26,289.742 2041.5,288.62 2063.73,287.545 2085.96,286.515 2108.19,285.528 2130.43,284.583 \n",
       "  2152.66,283.678 2174.89,282.81 2197.13,281.979 2219.36,281.182 2241.59,280.419 2263.82,279.688 2286.06,278.988 2308.29,278.317 2330.52,277.674 2352.76,277.058 \n",
       "  \n",
       "  \"/>\n",
       "</svg>\n"
      ]
     },
     "execution_count": 29,
     "metadata": {},
     "output_type": "execute_result"
    }
   ],
   "source": [
    "plot(garage.time,garage.temperature,seriestype=:scatter,lw=3,legend=false,ylims=(-1,25),xlims=(-1,200))\n",
    "plot!(x,T.+(u0.-T).*exp.(k.*x))"
   ]
  }
 ],
 "metadata": {
  "kernelspec": {
   "display_name": "Julia 1.7.2",
   "language": "julia",
   "name": "julia-1.7"
  },
  "language_info": {
   "file_extension": ".jl",
   "mimetype": "application/julia",
   "name": "julia",
   "version": "1.7.2"
  }
 },
 "nbformat": 4,
 "nbformat_minor": 4
}
