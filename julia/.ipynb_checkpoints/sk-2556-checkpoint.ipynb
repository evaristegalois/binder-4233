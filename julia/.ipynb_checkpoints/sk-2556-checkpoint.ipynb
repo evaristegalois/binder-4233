{
 "cells": [
  {
   "cell_type": "code",
   "execution_count": 1,
   "id": "b095f4c3",
   "metadata": {},
   "outputs": [],
   "source": [
    "using SymPy"
   ]
  },
  {
   "cell_type": "code",
   "execution_count": 4,
   "id": "a3c483ec",
   "metadata": {},
   "outputs": [
    {
     "data": {
      "text/plain": [
       "(x, y, z, c)"
      ]
     },
     "execution_count": 4,
     "metadata": {},
     "output_type": "execute_result"
    }
   ],
   "source": [
    "x,y,z,c=symbols(\"x,y,z,c\")"
   ]
  },
  {
   "cell_type": "code",
   "execution_count": 5,
   "id": "e48d9ef8",
   "metadata": {},
   "outputs": [
    {
     "data": {
      "text/latex": [
       "$\\left[ \\begin{array}{rr}1&c\\\\c&1\\end{array}\\right]$\n"
      ],
      "text/plain": [
       "2×2 Matrix{Sym}:\n",
       " 1  c\n",
       " c  1"
      ]
     },
     "execution_count": 5,
     "metadata": {},
     "output_type": "execute_result"
    }
   ],
   "source": [
    "M1=[1 c\n",
    "c 1]"
   ]
  },
  {
   "cell_type": "code",
   "execution_count": 6,
   "id": "1370b9c3",
   "metadata": {},
   "outputs": [
    {
     "data": {
      "text/plain": [
       "2-element Vector{Int64}:\n",
       " 1\n",
       " 1"
      ]
     },
     "execution_count": 6,
     "metadata": {},
     "output_type": "execute_result"
    }
   ],
   "source": [
    "v1=[1;1]"
   ]
  },
  {
   "cell_type": "code",
   "execution_count": 8,
   "id": "f5576a5c",
   "metadata": {},
   "outputs": [
    {
     "data": {
      "text/latex": [
       "$\\left[ \\begin{array}{r}- \\frac{c}{1 - c^{2}} + \\frac{1}{1 - c^{2}}\\\\- \\frac{c}{1 - c^{2}} + \\frac{1}{1 - c^{2}}\\end{array} \\right]$\n"
      ],
      "text/plain": [
       "2-element Vector{Sym}:\n",
       " -c/(1 - c^2) + 1/(1 - c^2)\n",
       " -c/(1 - c^2) + 1/(1 - c^2)"
      ]
     },
     "execution_count": 8,
     "metadata": {},
     "output_type": "execute_result"
    }
   ],
   "source": [
    "simplify(*(inv(M1),v1))"
   ]
  },
  {
   "cell_type": "code",
   "execution_count": 9,
   "id": "2d6df359",
   "metadata": {},
   "outputs": [],
   "source": [
    "using LinearAlgebra"
   ]
  },
  {
   "cell_type": "code",
   "execution_count": 10,
   "id": "a32db0fb",
   "metadata": {},
   "outputs": [
    {
     "data": {
      "text/plain": [
       "2×2 Matrix{Int64}:\n",
       " 1  0\n",
       " 0  1"
      ]
     },
     "execution_count": 10,
     "metadata": {},
     "output_type": "execute_result"
    }
   ],
   "source": [
    "J1=[1 0\n",
    "0 1]"
   ]
  },
  {
   "cell_type": "code",
   "execution_count": 11,
   "id": "b7b3c330",
   "metadata": {},
   "outputs": [
    {
     "data": {
      "text/latex": [
       "$\\left[ \\begin{array}{rr}-1&- c\\\\0&1 - c\\end{array}\\right]$\n"
      ],
      "text/plain": [
       "2×2 Matrix{Sym}:\n",
       " -1     -c\n",
       "  0  1 - c"
      ]
     },
     "execution_count": 11,
     "metadata": {},
     "output_type": "execute_result"
    }
   ],
   "source": [
    "J2=[-1 -c\n",
    "0 1-c]"
   ]
  },
  {
   "cell_type": "code",
   "execution_count": 12,
   "id": "47c80de9",
   "metadata": {},
   "outputs": [
    {
     "data": {
      "text/latex": [
       "$\\left[ \\begin{array}{rr}1 - c&0\\\\- c&-1\\end{array}\\right]$\n"
      ],
      "text/plain": [
       "2×2 Matrix{Sym}:\n",
       " 1 - c   0\n",
       "    -c  -1"
      ]
     },
     "execution_count": 12,
     "metadata": {},
     "output_type": "execute_result"
    }
   ],
   "source": [
    "J3=[1-c 0\n",
    "-c -1]"
   ]
  },
  {
   "cell_type": "code",
   "execution_count": 13,
   "id": "e958e053",
   "metadata": {},
   "outputs": [
    {
     "data": {
      "text/latex": [
       "$\\left[ \\begin{array}{rr}- \\frac{1}{c + 1}&- \\frac{c}{c + 1}\\\\- \\frac{c}{c + 1}&- \\frac{1}{c + 1}\\end{array}\\right]$\n"
      ],
      "text/plain": [
       "2×2 Matrix{Sym}:\n",
       " -1/(c + 1)  -c/(c + 1)\n",
       " -c/(c + 1)  -1/(c + 1)"
      ]
     },
     "execution_count": 13,
     "metadata": {},
     "output_type": "execute_result"
    }
   ],
   "source": [
    "J4=*(/(-1,1+c),[1 c;c 1])"
   ]
  },
  {
   "cell_type": "code",
   "execution_count": 17,
   "id": "6d9060d8",
   "metadata": {},
   "outputs": [
    {
     "data": {
      "text/latex": [
       "$\\left[ \\begin{array}{r}-1\\\\\\frac{c - 1}{c + 1}\\end{array} \\right]$\n"
      ],
      "text/plain": [
       "2-element Vector{Sym}:\n",
       "              -1\n",
       " (c - 1)/(c + 1)"
      ]
     },
     "execution_count": 17,
     "metadata": {},
     "output_type": "execute_result"
    }
   ],
   "source": [
    "eigvals(J4)"
   ]
  },
  {
   "cell_type": "code",
   "execution_count": 19,
   "id": "6b04ea6f",
   "metadata": {},
   "outputs": [
    {
     "data": {
      "text/plain": [
       "2.5"
      ]
     },
     "execution_count": 19,
     "metadata": {},
     "output_type": "execute_result"
    }
   ],
   "source": [
    "/(100,40)"
   ]
  },
  {
   "cell_type": "code",
   "execution_count": 1,
   "id": "bed5fe1d",
   "metadata": {},
   "outputs": [],
   "source": [
    "using SymPy"
   ]
  },
  {
   "cell_type": "code",
   "execution_count": 2,
   "id": "40aa8a01",
   "metadata": {},
   "outputs": [
    {
     "data": {
      "text/latex": [
       "$x$"
      ],
      "text/plain": [
       "x"
      ]
     },
     "execution_count": 2,
     "metadata": {},
     "output_type": "execute_result"
    }
   ],
   "source": [
    "x=symbols(\"x\")"
   ]
  },
  {
   "cell_type": "code",
   "execution_count": 4,
   "id": "25e2a823",
   "metadata": {},
   "outputs": [
    {
     "data": {
      "text/latex": [
       "$\\frac{x}{2} + \\frac{\\sin{\\left(x \\right)} \\cos{\\left(x \\right)}}{2}$"
      ],
      "text/plain": [
       "x   sin(x)⋅cos(x)\n",
       "─ + ─────────────\n",
       "2         2      "
      ]
     },
     "execution_count": 4,
     "metadata": {},
     "output_type": "execute_result"
    }
   ],
   "source": [
    "SymPy.integrate(^(SymPy.cos(x),2))"
   ]
  },
  {
   "cell_type": "code",
   "execution_count": 5,
   "id": "600b9797",
   "metadata": {},
   "outputs": [
    {
     "data": {
      "text/plain": [
       "9.42477796076938"
      ]
     },
     "execution_count": 5,
     "metadata": {},
     "output_type": "execute_result"
    }
   ],
   "source": [
    "*(3,pi)"
   ]
  },
  {
   "cell_type": "code",
   "execution_count": 6,
   "id": "e3f12196",
   "metadata": {},
   "outputs": [],
   "source": [
    "using QuadGK"
   ]
  },
  {
   "cell_type": "code",
   "execution_count": 15,
   "id": "01e5b31d",
   "metadata": {},
   "outputs": [
    {
     "data": {
      "text/plain": [
       "(18.84955592153876, 5.225508736828033e-8)"
      ]
     },
     "execution_count": 15,
     "metadata": {},
     "output_type": "execute_result"
    }
   ],
   "source": [
    "integral,err=quadgk(x->*(0.5,^(+(2,*(2,cos(x))),2)),0,*(2,pi),rtol=1e-8)"
   ]
  },
  {
   "cell_type": "code",
   "execution_count": 9,
   "id": "03321c43",
   "metadata": {},
   "outputs": [
    {
     "data": {
      "text/latex": [
       "$\\left(2 \\cos{\\left(x \\right)} + 2\\right)^{2}$"
      ],
      "text/plain": [
       "              2\n",
       "(2⋅cos(x) + 2) "
      ]
     },
     "execution_count": 9,
     "metadata": {},
     "output_type": "execute_result"
    }
   ],
   "source": [
    "^(+(2,*(2,cos(x))),2)"
   ]
  },
  {
   "cell_type": "code",
   "execution_count": 12,
   "id": "d343cb22",
   "metadata": {},
   "outputs": [
    {
     "data": {
      "text/plain": [
       "1.4247779607693793"
      ]
     },
     "execution_count": 12,
     "metadata": {},
     "output_type": "execute_result"
    }
   ],
   "source": [
    "-(*(3,pi),8)"
   ]
  },
  {
   "cell_type": "code",
   "execution_count": 13,
   "id": "f4b95e09",
   "metadata": {},
   "outputs": [
    {
     "data": {
      "text/plain": [
       "18.84955592153876"
      ]
     },
     "execution_count": 13,
     "metadata": {},
     "output_type": "execute_result"
    }
   ],
   "source": [
    "*(6,pi)"
   ]
  },
  {
   "cell_type": "code",
   "execution_count": 1,
   "id": "4d79f202",
   "metadata": {},
   "outputs": [
    {
     "data": {
      "text/plain": [
       "2×2 Matrix{Int64}:\n",
       " -60   30\n",
       "  25  -75"
      ]
     },
     "execution_count": 1,
     "metadata": {},
     "output_type": "execute_result"
    }
   ],
   "source": [
    "A1=[-60 30\n",
    "25 -75]"
   ]
  },
  {
   "cell_type": "code",
   "execution_count": 3,
   "id": "d602722f",
   "metadata": {},
   "outputs": [],
   "source": [
    "using LinearAlgebra"
   ]
  },
  {
   "cell_type": "code",
   "execution_count": 4,
   "id": "494008ff",
   "metadata": {},
   "outputs": [
    {
     "data": {
      "text/plain": [
       "2-element Vector{Float64}:\n",
       " -95.89454172900136\n",
       " -39.10545827099863"
      ]
     },
     "execution_count": 4,
     "metadata": {},
     "output_type": "execute_result"
    }
   ],
   "source": [
    "eigvals(A1)"
   ]
  },
  {
   "cell_type": "code",
   "execution_count": 5,
   "id": "acde516b",
   "metadata": {},
   "outputs": [
    {
     "data": {
      "text/plain": [
       "2×2 Matrix{Float64}:\n",
       " -0.641292  0.820585\n",
       "  0.767297  0.571525"
      ]
     },
     "execution_count": 5,
     "metadata": {},
     "output_type": "execute_result"
    }
   ],
   "source": [
    "eva=eigvecs(A1)"
   ]
  },
  {
   "cell_type": "code",
   "execution_count": 6,
   "id": "92f6c338",
   "metadata": {},
   "outputs": [
    {
     "data": {
      "text/plain": [
       "1.4357816691600547"
      ]
     },
     "execution_count": 6,
     "metadata": {},
     "output_type": "execute_result"
    }
   ],
   "source": [
    "*(eva[1,2],/(1,eva[2,2]))"
   ]
  },
  {
   "cell_type": "code",
   "execution_count": 7,
   "id": "bdd717c5",
   "metadata": {},
   "outputs": [
    {
     "data": {
      "text/plain": [
       "-0.8357816691600549"
      ]
     },
     "execution_count": 7,
     "metadata": {},
     "output_type": "execute_result"
    }
   ],
   "source": [
    "*(eva[1,1],/(1,eva[2,1]))"
   ]
  },
  {
   "cell_type": "code",
   "execution_count": 8,
   "id": "5173acf3",
   "metadata": {},
   "outputs": [
    {
     "data": {
      "text/plain": [
       "0.0012409754228025632"
      ]
     },
     "execution_count": 8,
     "metadata": {},
     "output_type": "execute_result"
    }
   ],
   "source": [
    "sqrt(*(1.54002,^(10,-6)))"
   ]
  },
  {
   "cell_type": "code",
   "execution_count": 9,
   "id": "e3295c14",
   "metadata": {},
   "outputs": [
    {
     "data": {
      "text/plain": [
       "630367//9900"
      ]
     },
     "execution_count": 9,
     "metadata": {},
     "output_type": "execute_result"
    }
   ],
   "source": [
    "(6367//100)+(34//10000)*(1//(1-(1//100)))"
   ]
  },
  {
   "cell_type": "code",
   "execution_count": 10,
   "id": "666c1e31",
   "metadata": {},
   "outputs": [
    {
     "data": {
      "text/plain": [
       "2×2 Matrix{Int64}:\n",
       " -60   30\n",
       "  25  -75"
      ]
     },
     "execution_count": 10,
     "metadata": {},
     "output_type": "execute_result"
    }
   ],
   "source": [
    "A1=[-60 30\n",
    "25 -75]"
   ]
  },
  {
   "cell_type": "code",
   "execution_count": 11,
   "id": "590d44a1",
   "metadata": {},
   "outputs": [
    {
     "data": {
      "text/plain": [
       "2-element Vector{Float64}:\n",
       " -95.89454172900136\n",
       " -39.10545827099863"
      ]
     },
     "execution_count": 11,
     "metadata": {},
     "output_type": "execute_result"
    }
   ],
   "source": [
    "eigvals(A1)"
   ]
  },
  {
   "cell_type": "code",
   "execution_count": 19,
   "id": "63a360b5",
   "metadata": {},
   "outputs": [
    {
     "data": {
      "text/plain": [
       "4"
      ]
     },
     "execution_count": 19,
     "metadata": {},
     "output_type": "execute_result"
    },
    {
     "data": {
      "text/plain": [
       "4"
      ]
     },
     "execution_count": 19,
     "metadata": {},
     "output_type": "execute_result"
    }
   ],
   "source": [
    "+(3,1)"
   ]
  },
  {
   "cell_type": "code",
   "execution_count": null,
   "id": "43577447",
   "metadata": {},
   "outputs": [],
   "source": []
  },
  {
   "cell_type": "code",
   "execution_count": null,
   "id": "b405a78e",
   "metadata": {},
   "outputs": [],
   "source": []
  },
  {
   "cell_type": "code",
   "execution_count": null,
   "id": "1630708f",
   "metadata": {},
   "outputs": [],
   "source": []
  },
  {
   "cell_type": "code",
   "execution_count": null,
   "id": "130bc999",
   "metadata": {},
   "outputs": [],
   "source": []
  },
  {
   "cell_type": "code",
   "execution_count": null,
   "id": "7d706257",
   "metadata": {},
   "outputs": [],
   "source": []
  },
  {
   "cell_type": "code",
   "execution_count": null,
   "id": "79eca6c5",
   "metadata": {},
   "outputs": [],
   "source": []
  },
  {
   "cell_type": "code",
   "execution_count": null,
   "id": "6d93e475",
   "metadata": {},
   "outputs": [],
   "source": []
  },
  {
   "cell_type": "code",
   "execution_count": null,
   "id": "a9a874c1",
   "metadata": {},
   "outputs": [],
   "source": []
  },
  {
   "cell_type": "code",
   "execution_count": null,
   "id": "8a71eecf",
   "metadata": {},
   "outputs": [],
   "source": []
  },
  {
   "cell_type": "code",
   "execution_count": null,
   "id": "a0eb8ce0",
   "metadata": {},
   "outputs": [],
   "source": []
  },
  {
   "cell_type": "code",
   "execution_count": null,
   "id": "2ebb4945",
   "metadata": {},
   "outputs": [],
   "source": []
  },
  {
   "cell_type": "code",
   "execution_count": null,
   "id": "00beae61",
   "metadata": {},
   "outputs": [],
   "source": []
  },
  {
   "cell_type": "code",
   "execution_count": null,
   "id": "e66b3556",
   "metadata": {},
   "outputs": [],
   "source": []
  }
 ],
 "metadata": {
  "kernelspec": {
   "display_name": "Julia 1.7.2",
   "language": "julia",
   "name": "julia-1.7"
  },
  "language_info": {
   "file_extension": ".jl",
   "mimetype": "application/julia",
   "name": "julia",
   "version": "1.7.2"
  }
 },
 "nbformat": 4,
 "nbformat_minor": 5
}
