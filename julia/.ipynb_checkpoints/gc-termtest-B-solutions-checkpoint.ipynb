{
 "cells": [
  {
   "cell_type": "markdown",
   "id": "f16eb39f",
   "metadata": {},
   "source": [
    "<h2>Term Test B Solutions</h2>"
   ]
  },
  {
   "cell_type": "markdown",
   "id": "1d674ee5",
   "metadata": {},
   "source": [
    "<h3>Question 1</h3>"
   ]
  },
  {
   "cell_type": "markdown",
   "id": "65af387e",
   "metadata": {},
   "source": [
    "We need to design a cylindrical can with radius $r$ and\n",
    "height $h$. The top and bottom must be made of copper, which will cost\n",
    "2 cents per square inch. The curved side is to be made of aluminum, which will cost\n",
    "1 cent per inch. The total cost of the can is to be\n",
    "$300\\pi$ cents. What is the maximum volume?"
   ]
  },
  {
   "cell_type": "markdown",
   "id": "26302c90",
   "metadata": {},
   "source": [
    "$$\n",
    "\\begin{align*}\n",
    "V&=\\pi{}r^2h\\\\\n",
    "300\\pi&=4\\pi{}r^2+2\\pi{}rh\\\\\n",
    "h&=\\frac{1}{r}\\left(150-2r^2\\right)\\\\\n",
    "V'(r)&=6\\pi(25-r^2)\n",
    "\\end{align*}\n",
    "$$"
   ]
  },
  {
   "cell_type": "code",
   "execution_count": 46,
   "id": "e9d214c3",
   "metadata": {},
   "outputs": [],
   "source": [
    "using SymPy"
   ]
  },
  {
   "cell_type": "code",
   "execution_count": 47,
   "id": "9fcd60e1",
   "metadata": {},
   "outputs": [
    {
     "data": {
      "text/latex": [
       "$r$"
      ],
      "text/plain": [
       "r"
      ]
     },
     "execution_count": 47,
     "metadata": {},
     "output_type": "execute_result"
    }
   ],
   "source": [
    "r=symbols(\"r\",positive=True)"
   ]
  },
  {
   "cell_type": "code",
   "execution_count": 48,
   "id": "8f720f38",
   "metadata": {},
   "outputs": [
    {
     "data": {
      "text/plain": [
       "V (generic function with 1 method)"
      ]
     },
     "execution_count": 48,
     "metadata": {},
     "output_type": "execute_result"
    }
   ],
   "source": [
    "V(r)=*(pi,^(r,2),/(1,r),-(150,*(2,^(r,2))))"
   ]
  },
  {
   "cell_type": "code",
   "execution_count": 49,
   "id": "4de9ed84",
   "metadata": {},
   "outputs": [
    {
     "data": {
      "text/plain": [
       "Vp (generic function with 1 method)"
      ]
     },
     "execution_count": 49,
     "metadata": {},
     "output_type": "execute_result"
    }
   ],
   "source": [
    "Vp(r)=SymPy.diff(V(r))"
   ]
  },
  {
   "cell_type": "code",
   "execution_count": 50,
   "id": "e4969a84",
   "metadata": {},
   "outputs": [
    {
     "data": {
      "text/latex": [
       "$- 4 \\pi r^{2} + \\pi \\left(150 - 2 r^{2}\\right)$"
      ],
      "text/plain": [
       "       2     ⎛         2⎞\n",
       "- 4⋅π⋅r  + π⋅⎝150 - 2⋅r ⎠"
      ]
     },
     "execution_count": 50,
     "metadata": {},
     "output_type": "execute_result"
    }
   ],
   "source": [
    "Vp(r)"
   ]
  },
  {
   "cell_type": "code",
   "execution_count": 51,
   "id": "9fd4658c",
   "metadata": {},
   "outputs": [
    {
     "data": {
      "text/latex": [
       "$\\left\\{-5, 5\\right\\}$"
      ],
      "text/plain": [
       "{-5, 5}"
      ]
     },
     "execution_count": 51,
     "metadata": {},
     "output_type": "execute_result"
    }
   ],
   "source": [
    "SymPy.solveset(Vp(r),r)"
   ]
  },
  {
   "cell_type": "code",
   "execution_count": 2,
   "id": "ceaaf8f4",
   "metadata": {},
   "outputs": [
    {
     "data": {
      "text/plain": [
       "1570.7963267948967"
      ]
     },
     "execution_count": 2,
     "metadata": {},
     "output_type": "execute_result"
    }
   ],
   "source": [
    "V(5)"
   ]
  },
  {
   "cell_type": "code",
   "execution_count": 3,
   "id": "821fb0b8",
   "metadata": {},
   "outputs": [
    {
     "data": {
      "text/plain": [
       "1570.7963267948965"
      ]
     },
     "execution_count": 3,
     "metadata": {},
     "output_type": "execute_result"
    }
   ],
   "source": [
    "*(500,pi)"
   ]
  },
  {
   "cell_type": "markdown",
   "id": "37690f9f",
   "metadata": {},
   "source": [
    "<h3>Question 2</h3>"
   ]
  },
  {
   "cell_type": "markdown",
   "id": "22627a78",
   "metadata": {},
   "source": [
    "<font color=\"red\">This question is a bit mean. After three applications of LHR, it is hard to see that a sine can be cancelled. Give 3.5 pts if students successfully get to the third iteration.</font>"
   ]
  },
  {
   "cell_type": "markdown",
   "id": "b473d838",
   "metadata": {},
   "source": [
    "Find\n",
    "\\begin{equation}\n",
    "  \\label{eq:ryfmsxip}\n",
    "  \\lim_{x\\rightarrow{}0}\\frac{\\sin{}x-x}{x-\\tan{}x}\\notag\n",
    "\\end{equation}"
   ]
  },
  {
   "cell_type": "markdown",
   "id": "da9f4471",
   "metadata": {},
   "source": [
    "$$\n",
    "\\lim_{x\\rightarrow{}0}\\frac{\\sin{}x-x}{x-\\tan{}x}=\\lim_{x\\rightarrow{}0}\\frac{\\cos{}x-1}{1-\\sec^2x}=\\lim_{x\\rightarrow{}0}\\frac{\\cos^2x}{\\cos{}x+1}=\\frac{1}{2}\n",
    "$$"
   ]
  },
  {
   "cell_type": "markdown",
   "id": "b30bc931",
   "metadata": {},
   "source": [
    "<h3>Question 3</h3>"
   ]
  },
  {
   "cell_type": "markdown",
   "id": "0a150607",
   "metadata": {},
   "source": [
    "The total cost of purchasing and maintaining a piece of\n",
    "equipment for $x$ years is\n",
    "\\begin{equation}\n",
    "  \\label{eq:vnwjbgdj}\n",
    "  C(x)=5000\\left(25+3\\int_{0}^{x}\\sqrt[4]{t}\\,dt\\right)\\notag\n",
    "\\end{equation}\n",
    "Perform the integration to write $C$ as a function of $x$. Then\n",
    "evaluate $C(1),C(5),C(10)$. "
   ]
  },
  {
   "cell_type": "markdown",
   "id": "8d416a2e",
   "metadata": {},
   "source": [
    "$$\n",
    "125000+12000\\sqrt[4]{t^5}\n",
    "$$\n",
    "$$\n",
    "5000(25+\\frac{12}{5}t^{\\frac{5}{4}})\n",
    "$$"
   ]
  },
  {
   "cell_type": "code",
   "execution_count": 4,
   "id": "dbd71310",
   "metadata": {},
   "outputs": [
    {
     "data": {
      "text/plain": [
       "125000"
      ]
     },
     "execution_count": 4,
     "metadata": {},
     "output_type": "execute_result"
    }
   ],
   "source": [
    "*(5000,25)"
   ]
  },
  {
   "cell_type": "code",
   "execution_count": 5,
   "id": "6c6b07a6",
   "metadata": {},
   "outputs": [
    {
     "data": {
      "text/plain": [
       "12000.0"
      ]
     },
     "execution_count": 5,
     "metadata": {},
     "output_type": "execute_result"
    }
   ],
   "source": [
    "*(15000,/(4,5))"
   ]
  },
  {
   "cell_type": "code",
   "execution_count": 6,
   "id": "8338c02e",
   "metadata": {},
   "outputs": [
    {
     "data": {
      "text/plain": [
       "C (generic function with 1 method)"
      ]
     },
     "execution_count": 6,
     "metadata": {},
     "output_type": "execute_result"
    }
   ],
   "source": [
    "C(x)=+(125000,*(12000,^(x,/(5,4))))"
   ]
  },
  {
   "cell_type": "code",
   "execution_count": 7,
   "id": "4e9acfbd",
   "metadata": {},
   "outputs": [
    {
     "data": {
      "text/plain": [
       "137000.0"
      ]
     },
     "execution_count": 7,
     "metadata": {},
     "output_type": "execute_result"
    }
   ],
   "source": [
    "C(1)"
   ]
  },
  {
   "cell_type": "code",
   "execution_count": 8,
   "id": "5dd80e18",
   "metadata": {},
   "outputs": [
    {
     "data": {
      "text/plain": [
       "214720.92687327322"
      ]
     },
     "execution_count": 8,
     "metadata": {},
     "output_type": "execute_result"
    }
   ],
   "source": [
    "C(5)"
   ]
  },
  {
   "cell_type": "code",
   "execution_count": 9,
   "id": "ca1878e5",
   "metadata": {},
   "outputs": [
    {
     "data": {
      "text/plain": [
       "338393.52920467075"
      ]
     },
     "execution_count": 9,
     "metadata": {},
     "output_type": "execute_result"
    }
   ],
   "source": [
    "C(10)"
   ]
  },
  {
   "cell_type": "markdown",
   "id": "3c7a9082",
   "metadata": {},
   "source": [
    "<h3>Question 4</h3>"
   ]
  },
  {
   "cell_type": "markdown",
   "id": "95a87417",
   "metadata": {},
   "source": [
    "Find a function $y=f(x)$ whose function graph passes\n",
    "through the point $(1,2)$ and whose derivative is\n",
    "\\begin{equation}\n",
    "  \\label{eq:gfrwkubl}\n",
    "  f'(x)=x(x^2+1)^2\\notag\n",
    "\\end{equation}"
   ]
  },
  {
   "cell_type": "markdown",
   "id": "ca7ff06f",
   "metadata": {},
   "source": [
    "$$\n",
    "f(x)=\\frac{1}{6}\\left(x^2+1\\right)^3+\\frac{2}{3}\n",
    "$$"
   ]
  },
  {
   "cell_type": "code",
   "execution_count": 22,
   "id": "6b7211b7",
   "metadata": {},
   "outputs": [],
   "source": [
    "using SymPy"
   ]
  },
  {
   "cell_type": "code",
   "execution_count": 23,
   "id": "a273f68c",
   "metadata": {},
   "outputs": [
    {
     "data": {
      "text/plain": [
       "(x,)"
      ]
     },
     "execution_count": 23,
     "metadata": {},
     "output_type": "execute_result"
    }
   ],
   "source": [
    "@vars x"
   ]
  },
  {
   "cell_type": "code",
   "execution_count": 24,
   "id": "3e61b254",
   "metadata": {},
   "outputs": [
    {
     "data": {
      "text/plain": [
       "f4 (generic function with 1 method)"
      ]
     },
     "execution_count": 24,
     "metadata": {},
     "output_type": "execute_result"
    }
   ],
   "source": [
    "f4(x)=+(*(/(1,6),^(+(^(x,2),1),3)),/(2,3))"
   ]
  },
  {
   "cell_type": "code",
   "execution_count": 27,
   "id": "b84a7f0b",
   "metadata": {},
   "outputs": [
    {
     "data": {
      "text/latex": [
       "$x^{6} + 3 x^{4} + 3 x^{2} + 5.0$"
      ],
      "text/plain": [
       " 6      4      2      \n",
       "x  + 3⋅x  + 3⋅x  + 5.0"
      ]
     },
     "execution_count": 27,
     "metadata": {},
     "output_type": "execute_result"
    }
   ],
   "source": [
    "expand(*(6,f4(x))) # divide this by 6"
   ]
  },
  {
   "cell_type": "markdown",
   "id": "767fb737",
   "metadata": {},
   "source": [
    "<h3>Question 5</h3>"
   ]
  },
  {
   "cell_type": "markdown",
   "id": "190ebe9e",
   "metadata": {},
   "source": [
    "<font color=\"red\">-1/3 because no chain rule subtract 2 points</font>"
   ]
  },
  {
   "cell_type": "markdown",
   "id": "09f44628",
   "metadata": {},
   "source": [
    "Evaluate\n",
    "\\begin{equation}\n",
    "  \\label{eq:nhyhlaut}\n",
    "  \\int_0^{\\frac{\\pi}{2}}\\sin^23\\theta\\cos{}3\\theta\\,d\\theta\\notag\n",
    "\\end{equation}\n",
    "Hint: substitute $u=\\sin{}3\\theta$."
   ]
  },
  {
   "cell_type": "markdown",
   "id": "148872f2",
   "metadata": {},
   "source": [
    "$$\n",
    "\\int\\sin^23\\theta\\cos{}3\\theta\\,d\\theta=\\frac{1}{3}\\int{}u^2\\,du=\\frac{1}{9}\\sin^33\\theta+C\n",
    "$$"
   ]
  },
  {
   "cell_type": "code",
   "execution_count": 10,
   "id": "b8e095a1",
   "metadata": {},
   "outputs": [
    {
     "data": {
      "text/plain": [
       "F (generic function with 1 method)"
      ]
     },
     "execution_count": 10,
     "metadata": {},
     "output_type": "execute_result"
    }
   ],
   "source": [
    "F(x)=*(/(1,9),^(sin(*(3,x)),3))"
   ]
  },
  {
   "cell_type": "code",
   "execution_count": 11,
   "id": "68cc7074",
   "metadata": {},
   "outputs": [
    {
     "data": {
      "text/plain": [
       "-0.1111111111111111"
      ]
     },
     "execution_count": 11,
     "metadata": {},
     "output_type": "execute_result"
    }
   ],
   "source": [
    "F(pi/2)-F(0)"
   ]
  },
  {
   "cell_type": "markdown",
   "id": "c0256bca",
   "metadata": {},
   "source": [
    "<h3>Question 6</h3>"
   ]
  },
  {
   "cell_type": "markdown",
   "id": "d6072e90",
   "metadata": {},
   "source": [
    "Find the area of the surface generated by revolving the\n",
    "curve\n",
    "\\begin{equation}\n",
    "  \\label{eq:jqyzqykz}\n",
    "  y=\\sqrt{x^2+2},0\\leq{}x\\leq\\sqrt{2}\\notag\n",
    "\\end{equation}\n",
    "about the $x$-axis. You may need the integral\n",
    "\\begin{equation}\n",
    "  \\label{eq:ycdmkwdt}\n",
    "  \\int\\sqrt{x^2+1}\\,dx=\\frac{x}{2}\\sqrt{x^2+1}+\\frac{1}{2}\\ln\\left(x+\\sqrt{x^2+1}\\right)+C\\notag\n",
    "\\end{equation}"
   ]
  },
  {
   "cell_type": "markdown",
   "id": "4fd7abe4",
   "metadata": {},
   "source": [
    "<img src=\"./diagrams/ajlupxjo-solution.png\" width=\"60%\" height=\"60%\">"
   ]
  },
  {
   "cell_type": "code",
   "execution_count": 21,
   "id": "65b7808e",
   "metadata": {},
   "outputs": [
    {
     "data": {
      "text/plain": [
       "15.975298961198934"
      ]
     },
     "execution_count": 21,
     "metadata": {},
     "output_type": "execute_result"
    }
   ],
   "source": [
    "S1=+(*(2,pi,sqrt(3)),*(sqrt(2),pi,log(+(sqrt(2),sqrt(3)))))"
   ]
  },
  {
   "cell_type": "code",
   "execution_count": 1,
   "id": "07b937a1",
   "metadata": {},
   "outputs": [],
   "source": [
    "using QuadGK"
   ]
  },
  {
   "cell_type": "code",
   "execution_count": 15,
   "id": "28817eb1",
   "metadata": {},
   "outputs": [
    {
     "data": {
      "text/plain": [
       "(15.975298961198932, 2.677069232959184e-9)"
      ]
     },
     "execution_count": 15,
     "metadata": {},
     "output_type": "execute_result"
    }
   ],
   "source": [
    "integral,err=quadgk(x->*(2,pi,sqrt(+(2,*(2,^(x,2))))),0,sqrt(2),rtol=1e-8)"
   ]
  },
  {
   "cell_type": "markdown",
   "id": "9da3a668",
   "metadata": {},
   "source": [
    "<h3>Question 7</h3>"
   ]
  },
  {
   "cell_type": "markdown",
   "id": "cfb76114",
   "metadata": {},
   "source": [
    "Find the arc length of\n",
    "\\begin{equation}\n",
    "  \\label{eq:dqnkvatt}\n",
    "  y=x^{\\frac{3}{2}},1\\leq{}x\\leq{}4\\notag\n",
    "\\end{equation}\n"
   ]
  },
  {
   "cell_type": "markdown",
   "id": "15cd8031",
   "metadata": {},
   "source": [
    "\\begin{equation}\n",
    "  \\label{eq:yemaezov}\n",
    "    L=\\int_{a}^{b}\\sqrt{1+\\left(f'(x)\\right)^{2}}\\,dx\n",
    "\\end{equation}\n"
   ]
  },
  {
   "cell_type": "markdown",
   "id": "f7984107",
   "metadata": {},
   "source": [
    "<img src=\"./diagrams/pjahrxoa-solution.png\" width=\"100%\" height=\"100%\">"
   ]
  },
  {
   "cell_type": "code",
   "execution_count": 5,
   "id": "5ffa5169",
   "metadata": {},
   "outputs": [
    {
     "data": {
      "text/plain": [
       "7.633705416016242"
      ]
     },
     "execution_count": 5,
     "metadata": {},
     "output_type": "execute_result"
    }
   ],
   "source": [
    "L1=/(-(*(80,sqrt(10)),*(13,sqrt(13))),27)"
   ]
  },
  {
   "cell_type": "code",
   "execution_count": 8,
   "id": "ba4576fe",
   "metadata": {},
   "outputs": [
    {
     "data": {
      "text/plain": [
       "7.615773105863909"
      ]
     },
     "execution_count": 8,
     "metadata": {},
     "output_type": "execute_result"
    }
   ],
   "source": [
    "sqrt(+(^(7,2),^(3,2))) # linear approximation"
   ]
  },
  {
   "cell_type": "markdown",
   "id": "8c095a37",
   "metadata": {},
   "source": [
    "<h3>Question 8</h3>"
   ]
  },
  {
   "cell_type": "markdown",
   "id": "d9633873",
   "metadata": {},
   "source": [
    "Find the volume of the solid generated when the region\n",
    "between the graphs of the equations\n",
    "\\begin{align*}\n",
    "  f(x)&=\\frac{1}{2}+x^2\\\\\n",
    "  g(x)&=x\n",
    "\\end{align*}\n",
    "over the interval $[0,2]$ is revolved about the $x$-axis."
   ]
  },
  {
   "cell_type": "markdown",
   "id": "810d5d11",
   "metadata": {},
   "source": [
    "<img src=\"./diagrams/sapwnioh.png\" width=\"30%\" height=\"30%\">"
   ]
  },
  {
   "cell_type": "markdown",
   "id": "ea605695",
   "metadata": {},
   "source": [
    "<img src=\"./diagrams/sapwnioh-solution.png\" width=\"100%\" height=\"100%\">"
   ]
  },
  {
   "cell_type": "code",
   "execution_count": 1,
   "id": "44d5a8b8",
   "metadata": {},
   "outputs": [
    {
     "data": {
      "text/plain": [
       "21.676989309769574"
      ]
     },
     "execution_count": 1,
     "metadata": {},
     "output_type": "execute_result"
    }
   ],
   "source": [
    "/(*(69,pi),10)"
   ]
  }
 ],
 "metadata": {
  "kernelspec": {
   "display_name": "Julia 1.7.2",
   "language": "julia",
   "name": "julia-1.7"
  },
  "language_info": {
   "file_extension": ".jl",
   "mimetype": "application/julia",
   "name": "julia",
   "version": "1.7.2"
  }
 },
 "nbformat": 4,
 "nbformat_minor": 5
}
