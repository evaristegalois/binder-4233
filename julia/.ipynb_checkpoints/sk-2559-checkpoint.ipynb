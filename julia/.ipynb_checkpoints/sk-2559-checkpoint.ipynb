{
 "cells": [
  {
   "cell_type": "code",
   "execution_count": 1,
   "id": "60803329",
   "metadata": {},
   "outputs": [],
   "source": [
    "using Polynomials"
   ]
  },
  {
   "cell_type": "code",
   "execution_count": 2,
   "id": "5cf0dc23",
   "metadata": {},
   "outputs": [
    {
     "data": {
      "text/html": [
       "5.333333333333333 &#45; 16.0&#8729;x &#43; 9.0&#8729;x<sup>2</sup>"
      ],
      "text/latex": [
       "$5.333333333333333 - 16.0\\cdot x + 9.0\\cdot x^{2}$"
      ],
      "text/plain": [
       "Polynomial(5.333333333333333 - 16.0*x + 9.0*x^2)"
      ]
     },
     "execution_count": 2,
     "metadata": {},
     "output_type": "execute_result"
    }
   ],
   "source": [
    "p1=Polynomial([/(16,3),-16,9])"
   ]
  },
  {
   "cell_type": "code",
   "execution_count": 3,
   "id": "665bf994",
   "metadata": {},
   "outputs": [
    {
     "data": {
      "text/plain": [
       "2-element Vector{Float64}:\n",
       " 0.4444444444444444\n",
       " 1.3333333333333333"
      ]
     },
     "execution_count": 3,
     "metadata": {},
     "output_type": "execute_result"
    }
   ],
   "source": [
    "roots(p1)"
   ]
  },
  {
   "cell_type": "code",
   "execution_count": 6,
   "id": "ced865f5",
   "metadata": {},
   "outputs": [
    {
     "data": {
      "text/plain": [
       "8.0"
      ]
     },
     "execution_count": 6,
     "metadata": {},
     "output_type": "execute_result"
    }
   ],
   "source": [
    "rho=/(-(*(18,/(4,3)),16),^(+(1,^(+(16,*(-16,/(4,3)),/(16,3)),2)),/(3,2)))"
   ]
  },
  {
   "cell_type": "code",
   "execution_count": 7,
   "id": "a89c62ec",
   "metadata": {},
   "outputs": [
    {
     "data": {
      "text/plain": [
       "8.881784197001252e-16"
      ]
     },
     "execution_count": 7,
     "metadata": {},
     "output_type": "execute_result"
    }
   ],
   "source": [
    "+(16,*(-16,/(4,3)),/(16,3))"
   ]
  },
  {
   "cell_type": "code",
   "execution_count": 14,
   "id": "3280060a",
   "metadata": {},
   "outputs": [
    {
     "data": {
      "text/plain": [
       "p2 (generic function with 1 method)"
      ]
     },
     "execution_count": 14,
     "metadata": {},
     "output_type": "execute_result"
    }
   ],
   "source": [
    "p2(t)=+(*(3,^(t,3)),*(-8,^(t,2)),*(/(16,3),t),-5)"
   ]
  },
  {
   "cell_type": "code",
   "execution_count": 15,
   "id": "e8b9c1a9",
   "metadata": {},
   "outputs": [
    {
     "data": {
      "text/plain": [
       "-5.0"
      ]
     },
     "execution_count": 15,
     "metadata": {},
     "output_type": "execute_result"
    }
   ],
   "source": [
    "p2(/(4,3))"
   ]
  },
  {
   "cell_type": "code",
   "execution_count": 18,
   "id": "8702d06e",
   "metadata": {},
   "outputs": [
    {
     "data": {
      "text/plain": [
       "-39//8"
      ]
     },
     "execution_count": 18,
     "metadata": {},
     "output_type": "execute_result"
    }
   ],
   "source": [
    "+(-5,//(1,8))"
   ]
  },
  {
   "cell_type": "code",
   "execution_count": 1,
   "id": "6944c8b2",
   "metadata": {},
   "outputs": [
    {
     "data": {
      "text/plain": [
       "17340.0"
      ]
     },
     "execution_count": 1,
     "metadata": {},
     "output_type": "execute_result"
    }
   ],
   "source": [
    "*(600000,0.0289)"
   ]
  },
  {
   "cell_type": "code",
   "execution_count": 2,
   "id": "5ce545bc",
   "metadata": {},
   "outputs": [
    {
     "data": {
      "text/plain": [
       "0.14285714285714285"
      ]
     },
     "execution_count": 2,
     "metadata": {},
     "output_type": "execute_result"
    }
   ],
   "source": [
    "/(1,7)"
   ]
  },
  {
   "cell_type": "code",
   "execution_count": 3,
   "id": "592b1a70",
   "metadata": {},
   "outputs": [
    {
     "data": {
      "text/plain": [
       "0.12244897959183673"
      ]
     },
     "execution_count": 3,
     "metadata": {},
     "output_type": "execute_result"
    }
   ],
   "source": [
    "/(6,49)"
   ]
  },
  {
   "cell_type": "code",
   "execution_count": 4,
   "id": "c3db7a9b",
   "metadata": {},
   "outputs": [
    {
     "data": {
      "text/plain": [
       "0.02040816326530612"
      ]
     },
     "execution_count": 4,
     "metadata": {},
     "output_type": "execute_result"
    }
   ],
   "source": [
    "/(1,49)"
   ]
  },
  {
   "cell_type": "code",
   "execution_count": 5,
   "id": "6ac8ce00",
   "metadata": {},
   "outputs": [
    {
     "data": {
      "text/plain": [
       "0.16666666666666666"
      ]
     },
     "execution_count": 5,
     "metadata": {},
     "output_type": "execute_result"
    }
   ],
   "source": [
    "/(1,6)"
   ]
  },
  {
   "cell_type": "code",
   "execution_count": 1,
   "id": "cc30511d",
   "metadata": {},
   "outputs": [
    {
     "data": {
      "text/plain": [
       "6285.714285714285"
      ]
     },
     "execution_count": 1,
     "metadata": {},
     "output_type": "execute_result"
    }
   ],
   "source": [
    "/(44000,7)"
   ]
  },
  {
   "cell_type": "code",
   "execution_count": 13,
   "id": "f3b8da6a",
   "metadata": {},
   "outputs": [
    {
     "data": {
      "text/plain": [
       "0.011764705882352941"
      ]
     },
     "execution_count": 13,
     "metadata": {},
     "output_type": "execute_result"
    }
   ],
   "source": [
    "/(0.20,17)"
   ]
  },
  {
   "cell_type": "code",
   "execution_count": 3,
   "id": "9facda02",
   "metadata": {},
   "outputs": [],
   "source": [
    "using CSV"
   ]
  },
  {
   "cell_type": "code",
   "execution_count": 4,
   "id": "d26a39c5",
   "metadata": {},
   "outputs": [],
   "source": [
    "using DataFrames"
   ]
  },
  {
   "cell_type": "code",
   "execution_count": 5,
   "id": "b40db99c",
   "metadata": {},
   "outputs": [
    {
     "data": {
      "text/html": [
       "<div class=\"data-frame\"><p>22 rows × 4 columns</p><table class=\"data-frame\"><thead><tr><th></th><th>ast</th><th>cno</th><th>title</th><th>cont</th></tr><tr><th></th><th title=\"String7\">String7</th><th title=\"Int64\">Int64</th><th title=\"String31\">String31</th><th title=\"Float64\">Float64</th></tr></thead><tbody><tr><th>1</th><td>pyiw</td><td>326</td><td>Reading Assessment Quiz 1 MLK</td><td>0.0</td></tr><tr><th>2</th><td>pkii</td><td>326</td><td>Reading Assessment Quiz 2 HTA</td><td>0.0147059</td></tr><tr><th>3</th><td>qcel</td><td>326</td><td>Reading Assessment Quiz 3 FLP</td><td>0.0147059</td></tr><tr><th>4</th><td>mubt</td><td>326</td><td>Reading Assessment Quiz 4 ASC</td><td>0.0147059</td></tr><tr><th>5</th><td>tcme</td><td>326</td><td>Reading Assessment Quiz 5 DEL</td><td>0.0147059</td></tr><tr><th>6</th><td>sguq</td><td>326</td><td>Reading Assessment Quiz 6 JSM</td><td>0.0147059</td></tr><tr><th>7</th><td>uzjs</td><td>326</td><td>Reading Assessment Quiz 7 DOS</td><td>0.0147059</td></tr><tr><th>8</th><td>xsqz</td><td>326</td><td>Reading Assessment Quiz 8 KNT</td><td>0.0147059</td></tr><tr><th>9</th><td>bkal</td><td>326</td><td>Reading Assessment Quiz 9 NOZ</td><td>0.0147059</td></tr><tr><th>10</th><td>nadd</td><td>326</td><td>Reading Assessment Quiz 10 JPS</td><td>0.0147059</td></tr><tr><th>11</th><td>zfuk</td><td>326</td><td>Reading Assessment Quiz 11 RWL</td><td>0.0147059</td></tr><tr><th>12</th><td>nkev</td><td>326</td><td>Reading Assessment Quiz 12 CTH</td><td>0.0147059</td></tr><tr><th>13</th><td>spmi</td><td>326</td><td>Reading Assessment Quiz 13 MRX</td><td>0.0147059</td></tr><tr><th>14</th><td>tiqo</td><td>326</td><td>Reading Assessment Quiz 14 PRL</td><td>0.0147059</td></tr><tr><th>15</th><td>bldo</td><td>326</td><td>Reading Assessment Quiz 15 AVC</td><td>0.0147059</td></tr><tr><th>16</th><td>xnrh</td><td>326</td><td>Reading Assessment Quiz 16 MFD</td><td>0.0147059</td></tr><tr><th>17</th><td>hrdu</td><td>326</td><td>Reading Assessment Quiz 17 FSH</td><td>0.0147059</td></tr><tr><th>18</th><td>lbvx</td><td>326</td><td>Reading Assessment Quiz 18 BAR</td><td>0.0147059</td></tr><tr><th>19</th><td>mnll</td><td>326</td><td>Essay 1</td><td>0.25</td></tr><tr><th>20</th><td>nvxk</td><td>326</td><td>Final Exam</td><td>0.25</td></tr><tr><th>21</th><td>bemh</td><td>326</td><td>Final Essay</td><td>0.25</td></tr><tr><th>22</th><td>tcbq</td><td>326</td><td>Attendance</td><td>0.05</td></tr></tbody></table></div>"
      ],
      "text/latex": [
       "\\begin{tabular}{r|cccc}\n",
       "\t& ast & cno & title & cont\\\\\n",
       "\t\\hline\n",
       "\t& String7 & Int64 & String31 & Float64\\\\\n",
       "\t\\hline\n",
       "\t1 & pyiw & 326 & Reading Assessment Quiz 1 MLK & 0.0 \\\\\n",
       "\t2 & pkii & 326 & Reading Assessment Quiz 2 HTA & 0.0147059 \\\\\n",
       "\t3 & qcel & 326 & Reading Assessment Quiz 3 FLP & 0.0147059 \\\\\n",
       "\t4 & mubt & 326 & Reading Assessment Quiz 4 ASC & 0.0147059 \\\\\n",
       "\t5 & tcme & 326 & Reading Assessment Quiz 5 DEL & 0.0147059 \\\\\n",
       "\t6 & sguq & 326 & Reading Assessment Quiz 6 JSM & 0.0147059 \\\\\n",
       "\t7 & uzjs & 326 & Reading Assessment Quiz 7 DOS & 0.0147059 \\\\\n",
       "\t8 & xsqz & 326 & Reading Assessment Quiz 8 KNT & 0.0147059 \\\\\n",
       "\t9 & bkal & 326 & Reading Assessment Quiz 9 NOZ & 0.0147059 \\\\\n",
       "\t10 & nadd & 326 & Reading Assessment Quiz 10 JPS & 0.0147059 \\\\\n",
       "\t11 & zfuk & 326 & Reading Assessment Quiz 11 RWL & 0.0147059 \\\\\n",
       "\t12 & nkev & 326 & Reading Assessment Quiz 12 CTH & 0.0147059 \\\\\n",
       "\t13 & spmi & 326 & Reading Assessment Quiz 13 MRX & 0.0147059 \\\\\n",
       "\t14 & tiqo & 326 & Reading Assessment Quiz 14 PRL & 0.0147059 \\\\\n",
       "\t15 & bldo & 326 & Reading Assessment Quiz 15 AVC & 0.0147059 \\\\\n",
       "\t16 & xnrh & 326 & Reading Assessment Quiz 16 MFD & 0.0147059 \\\\\n",
       "\t17 & hrdu & 326 & Reading Assessment Quiz 17 FSH & 0.0147059 \\\\\n",
       "\t18 & lbvx & 326 & Reading Assessment Quiz 18 BAR & 0.0147059 \\\\\n",
       "\t19 & mnll & 326 & Essay 1 & 0.25 \\\\\n",
       "\t20 & nvxk & 326 & Final Exam & 0.25 \\\\\n",
       "\t21 & bemh & 326 & Final Essay & 0.25 \\\\\n",
       "\t22 & tcbq & 326 & Attendance & 0.05 \\\\\n",
       "\\end{tabular}\n"
      ],
      "text/plain": [
       "\u001b[1m22×4 DataFrame\u001b[0m\n",
       "\u001b[1m Row \u001b[0m│\u001b[1m ast     \u001b[0m\u001b[1m cno   \u001b[0m\u001b[1m title                          \u001b[0m\u001b[1m cont      \u001b[0m\n",
       "\u001b[1m     \u001b[0m│\u001b[90m String7 \u001b[0m\u001b[90m Int64 \u001b[0m\u001b[90m String31                       \u001b[0m\u001b[90m Float64   \u001b[0m\n",
       "─────┼───────────────────────────────────────────────────────────\n",
       "   1 │ pyiw       326  Reading Assessment Quiz 1 MLK   0.0\n",
       "   2 │ pkii       326  Reading Assessment Quiz 2 HTA   0.0147059\n",
       "   3 │ qcel       326  Reading Assessment Quiz 3 FLP   0.0147059\n",
       "   4 │ mubt       326  Reading Assessment Quiz 4 ASC   0.0147059\n",
       "   5 │ tcme       326  Reading Assessment Quiz 5 DEL   0.0147059\n",
       "   6 │ sguq       326  Reading Assessment Quiz 6 JSM   0.0147059\n",
       "   7 │ uzjs       326  Reading Assessment Quiz 7 DOS   0.0147059\n",
       "   8 │ xsqz       326  Reading Assessment Quiz 8 KNT   0.0147059\n",
       "   9 │ bkal       326  Reading Assessment Quiz 9 NOZ   0.0147059\n",
       "  10 │ nadd       326  Reading Assessment Quiz 10 JPS  0.0147059\n",
       "  11 │ zfuk       326  Reading Assessment Quiz 11 RWL  0.0147059\n",
       "  12 │ nkev       326  Reading Assessment Quiz 12 CTH  0.0147059\n",
       "  13 │ spmi       326  Reading Assessment Quiz 13 MRX  0.0147059\n",
       "  14 │ tiqo       326  Reading Assessment Quiz 14 PRL  0.0147059\n",
       "  15 │ bldo       326  Reading Assessment Quiz 15 AVC  0.0147059\n",
       "  16 │ xnrh       326  Reading Assessment Quiz 16 MFD  0.0147059\n",
       "  17 │ hrdu       326  Reading Assessment Quiz 17 FSH  0.0147059\n",
       "  18 │ lbvx       326  Reading Assessment Quiz 18 BAR  0.0147059\n",
       "  19 │ mnll       326  Essay 1                         0.25\n",
       "  20 │ nvxk       326  Final Exam                      0.25\n",
       "  21 │ bemh       326  Final Essay                     0.25\n",
       "  22 │ tcbq       326  Attendance                      0.05"
      ]
     },
     "execution_count": 5,
     "metadata": {},
     "output_type": "execute_result"
    }
   ],
   "source": [
    "df1=DataFrame(CSV.File(\"./csv/326.csv\"))"
   ]
  },
  {
   "cell_type": "code",
   "execution_count": 12,
   "id": "c279d7d4",
   "metadata": {},
   "outputs": [
    {
     "data": {
      "text/plain": [
       "1.05"
      ]
     },
     "execution_count": 12,
     "metadata": {},
     "output_type": "execute_result"
    }
   ],
   "source": [
    "sum(df1[:,4])"
   ]
  },
  {
   "cell_type": "code",
   "execution_count": 14,
   "id": "7ce728a3",
   "metadata": {},
   "outputs": [
    {
     "data": {
      "text/plain": [
       "0.0029411764705882353"
      ]
     },
     "execution_count": 14,
     "metadata": {},
     "output_type": "execute_result"
    }
   ],
   "source": [
    "/(0.05,17)"
   ]
  },
  {
   "cell_type": "code",
   "execution_count": 15,
   "id": "51548753",
   "metadata": {},
   "outputs": [
    {
     "data": {
      "text/plain": [
       "0.011764705882352941"
      ]
     },
     "execution_count": 15,
     "metadata": {},
     "output_type": "execute_result"
    }
   ],
   "source": [
    "/(0.2,17)"
   ]
  },
  {
   "cell_type": "code",
   "execution_count": 16,
   "id": "4cdeffb1",
   "metadata": {},
   "outputs": [
    {
     "data": {
      "text/plain": [
       "77.37899999999999"
      ]
     },
     "execution_count": 16,
     "metadata": {},
     "output_type": "execute_result"
    }
   ],
   "source": [
    "+(*(0.25,89),*(0.34,70),*(0.07,61.9),*(0.34,79.4))"
   ]
  },
  {
   "cell_type": "code",
   "execution_count": 17,
   "id": "92914725",
   "metadata": {},
   "outputs": [
    {
     "data": {
      "text/plain": [
       "228.7741979850772"
      ]
     },
     "execution_count": 17,
     "metadata": {},
     "output_type": "execute_result"
    }
   ],
   "source": [
    "*(/(5198,29083),1280)"
   ]
  },
  {
   "cell_type": "code",
   "execution_count": 1,
   "id": "c1b986bd",
   "metadata": {},
   "outputs": [
    {
     "data": {
      "text/plain": [
       "f1 (generic function with 1 method)"
      ]
     },
     "execution_count": 1,
     "metadata": {},
     "output_type": "execute_result"
    }
   ],
   "source": [
    "f1(x,y,z)=+(*(20,x),*(30,y),*(-7,z),63)"
   ]
  },
  {
   "cell_type": "code",
   "execution_count": 2,
   "id": "628d9caf",
   "metadata": {},
   "outputs": [
    {
     "data": {
      "text/plain": [
       "-19.25"
      ]
     },
     "execution_count": 2,
     "metadata": {},
     "output_type": "execute_result"
    }
   ],
   "source": [
    "f1(-1.96,-0.98,1.95)"
   ]
  },
  {
   "cell_type": "code",
   "execution_count": 3,
   "id": "ad9a2fdb",
   "metadata": {},
   "outputs": [
    {
     "data": {
      "text/plain": [
       "f2 (generic function with 1 method)"
      ]
     },
     "execution_count": 3,
     "metadata": {},
     "output_type": "execute_result"
    }
   ],
   "source": [
    "f2(x,y,z)=+(^(x,3),*(4,x,^(y,2),z),^(y,2),z)"
   ]
  },
  {
   "cell_type": "code",
   "execution_count": 4,
   "id": "168f5c49",
   "metadata": {},
   "outputs": [
    {
     "data": {
      "text/plain": [
       "-19.3017312"
      ]
     },
     "execution_count": 4,
     "metadata": {},
     "output_type": "execute_result"
    }
   ],
   "source": [
    "f2(-1.96,-0.98,1.95)"
   ]
  },
  {
   "cell_type": "code",
   "execution_count": 7,
   "id": "a57101bd",
   "metadata": {},
   "outputs": [],
   "source": [
    "using Polynomials"
   ]
  },
  {
   "cell_type": "code",
   "execution_count": 8,
   "id": "4f98f102",
   "metadata": {},
   "outputs": [
    {
     "data": {
      "text/html": [
       "2 &#45; 2&#8729;x &#43; x<sup>2</sup>"
      ],
      "text/latex": [
       "$2 - 2\\cdot x + x^{2}$"
      ],
      "text/plain": [
       "Polynomial(2 - 2*x + x^2)"
      ]
     },
     "execution_count": 8,
     "metadata": {},
     "output_type": "execute_result"
    }
   ],
   "source": [
    "p1=Polynomial([2,-2,1])"
   ]
  },
  {
   "cell_type": "code",
   "execution_count": 9,
   "id": "cc78df96",
   "metadata": {},
   "outputs": [
    {
     "data": {
      "text/plain": [
       "2-element Vector{ComplexF64}:\n",
       " 0.9999999999999998 - 0.9999999999999998im\n",
       " 0.9999999999999998 + 0.9999999999999998im"
      ]
     },
     "execution_count": 9,
     "metadata": {},
     "output_type": "execute_result"
    }
   ],
   "source": [
    "roots(p1)"
   ]
  },
  {
   "cell_type": "code",
   "execution_count": 2,
   "id": "83d5fc7c",
   "metadata": {},
   "outputs": [],
   "source": [
    "using SymPy"
   ]
  },
  {
   "cell_type": "code",
   "execution_count": 3,
   "id": "86a3565a",
   "metadata": {},
   "outputs": [
    {
     "data": {
      "text/plain": [
       "(s,)"
      ]
     },
     "execution_count": 3,
     "metadata": {},
     "output_type": "execute_result"
    }
   ],
   "source": [
    "@vars s"
   ]
  },
  {
   "cell_type": "code",
   "execution_count": 13,
   "id": "5bd86973",
   "metadata": {},
   "outputs": [
    {
     "data": {
      "text/latex": [
       "$- \\frac{s - 8}{5 \\left(s^{2} - 2 s + 2\\right)} + \\frac{1}{5 \\left(s + 1\\right)}$"
      ],
      "text/plain": [
       "       s - 8             1    \n",
       "- ──────────────── + ─────────\n",
       "    ⎛ 2          ⎞   5⋅(s + 1)\n",
       "  5⋅⎝s  - 2⋅s + 2⎠            "
      ]
     },
     "execution_count": 13,
     "metadata": {},
     "output_type": "execute_result"
    }
   ],
   "source": [
    "apart(/(+(s,2),*(+(s,1),+(^(s,2),*(-2,s),2))))"
   ]
  },
  {
   "cell_type": "code",
   "execution_count": 14,
   "id": "64fe635b",
   "metadata": {},
   "outputs": [
    {
     "data": {
      "text/plain": [
       "f (generic function with 1 method)"
      ]
     },
     "execution_count": 14,
     "metadata": {},
     "output_type": "execute_result"
    }
   ],
   "source": [
    "f(s)=(/(+(s,2),*(+(s,1),+(^(s,2),*(-2,s),2))))"
   ]
  },
  {
   "cell_type": "code",
   "execution_count": 15,
   "id": "1ff87521",
   "metadata": {},
   "outputs": [
    {
     "data": {
      "text/latex": [
       "$\\frac{s + 2}{\\left(s + 1\\right) \\left(s^{2} - 2 s + 2\\right)}$"
      ],
      "text/plain": [
       "        s + 2         \n",
       "──────────────────────\n",
       "        ⎛ 2          ⎞\n",
       "(s + 1)⋅⎝s  - 2⋅s + 2⎠"
      ]
     },
     "execution_count": 15,
     "metadata": {},
     "output_type": "execute_result"
    }
   ],
   "source": [
    "f(s)"
   ]
  },
  {
   "cell_type": "code",
   "execution_count": 17,
   "id": "1a4d900c",
   "metadata": {},
   "outputs": [
    {
     "data": {
      "text/plain": [
       "(t,)"
      ]
     },
     "execution_count": 17,
     "metadata": {},
     "output_type": "execute_result"
    }
   ],
   "source": [
    "@vars t"
   ]
  },
  {
   "cell_type": "code",
   "execution_count": 18,
   "id": "7069737a",
   "metadata": {},
   "outputs": [
    {
     "data": {
      "text/plain": [
       "y1 (generic function with 1 method)"
      ]
     },
     "execution_count": 18,
     "metadata": {},
     "output_type": "execute_result"
    }
   ],
   "source": [
    "y1(t)=+(*(/(-1,5),exp(t),cos(t)),*(/(7,5),exp(t),sin(t)),*(/(1,5),exp(-t)))"
   ]
  },
  {
   "cell_type": "code",
   "execution_count": 19,
   "id": "10e6c687",
   "metadata": {},
   "outputs": [
    {
     "data": {
      "text/latex": [
       "$1.4 e^{t} \\sin{\\left(t \\right)} - 0.2 e^{t} \\cos{\\left(t \\right)} + 0.2 e^{- t}$"
      ],
      "text/plain": [
       "     t               t               -t\n",
       "1.4⋅ℯ ⋅sin(t) - 0.2⋅ℯ ⋅cos(t) + 0.2⋅ℯ  "
      ]
     },
     "execution_count": 19,
     "metadata": {},
     "output_type": "execute_result"
    }
   ],
   "source": [
    "y1(t)"
   ]
  },
  {
   "cell_type": "code",
   "execution_count": 20,
   "id": "c75d2718",
   "metadata": {},
   "outputs": [
    {
     "data": {
      "text/plain": [
       "y1p (generic function with 1 method)"
      ]
     },
     "execution_count": 20,
     "metadata": {},
     "output_type": "execute_result"
    }
   ],
   "source": [
    "y1p(t)=SymPy.diff(y1(t))"
   ]
  },
  {
   "cell_type": "code",
   "execution_count": 21,
   "id": "d74054ac",
   "metadata": {},
   "outputs": [
    {
     "data": {
      "text/plain": [
       "y1pp (generic function with 1 method)"
      ]
     },
     "execution_count": 21,
     "metadata": {},
     "output_type": "execute_result"
    }
   ],
   "source": [
    "y1pp(t)=SymPy.diff(y1p(t))"
   ]
  },
  {
   "cell_type": "code",
   "execution_count": 24,
   "id": "0c666129",
   "metadata": {},
   "outputs": [
    {
     "data": {
      "text/latex": [
       "$1.6 e^{t} \\sin{\\left(t \\right)} + 1.2 e^{t} \\cos{\\left(t \\right)} - 0.2 e^{- t}$"
      ],
      "text/plain": [
       "     t               t               -t\n",
       "1.6⋅ℯ ⋅sin(t) + 1.2⋅ℯ ⋅cos(t) - 0.2⋅ℯ  "
      ]
     },
     "execution_count": 24,
     "metadata": {},
     "output_type": "execute_result"
    }
   ],
   "source": [
    "y1p(t)"
   ]
  },
  {
   "cell_type": "code",
   "execution_count": 25,
   "id": "d8014d28",
   "metadata": {},
   "outputs": [
    {
     "data": {
      "text/plain": [
       "H1 (generic function with 1 method)"
      ]
     },
     "execution_count": 25,
     "metadata": {},
     "output_type": "execute_result"
    }
   ],
   "source": [
    "H1(t)=+(y1pp(t),*(-2,y1p(t)),*(2,y1(t)),-exp(-t))"
   ]
  },
  {
   "cell_type": "code",
   "execution_count": 11,
   "id": "0d39cb3c",
   "metadata": {},
   "outputs": [
    {
     "data": {
      "text/latex": [
       "$\\left[ \\begin{array}{rrr}0.2 s + 2&1&0\\\\-1&1&1\\\\0&1&- 0.1 s\\end{array}\\right]$\n"
      ],
      "text/plain": [
       "3×3 Matrix{Sym}:\n",
       " 0.2⋅s + 2  1       0\n",
       "        -1  1       1\n",
       "         0  1  -0.1⋅s"
      ]
     },
     "execution_count": 11,
     "metadata": {},
     "output_type": "execute_result"
    }
   ],
   "source": [
    "M1=[2+0.2*s 1 0\n",
    "-1 1 1\n",
    "0 1 -0.1*s]"
   ]
  },
  {
   "cell_type": "code",
   "execution_count": 13,
   "id": "bd30e33b",
   "metadata": {},
   "outputs": [
    {
     "data": {
      "text/latex": [
       "$\\left[ \\begin{array}{r}\\frac{6}{s}\\\\0\\\\0\\end{array} \\right]$\n"
      ],
      "text/plain": [
       "3-element Vector{Sym}:\n",
       " 6/s\n",
       "   0\n",
       "   0"
      ]
     },
     "execution_count": 13,
     "metadata": {},
     "output_type": "execute_result"
    }
   ],
   "source": [
    "v1=[6/s;0;0]"
   ]
  },
  {
   "cell_type": "code",
   "execution_count": 9,
   "id": "e74dcafa",
   "metadata": {},
   "outputs": [],
   "source": [
    "using LinearAlgebra"
   ]
  },
  {
   "cell_type": "code",
   "execution_count": 14,
   "id": "f429356a",
   "metadata": {},
   "outputs": [
    {
     "data": {
      "text/latex": [
       "$\\left[ \\begin{array}{r}\\frac{6 \\left(0.1 s + 1.0\\right)}{s \\left(0.02 s^{2} + 0.5 s + 2.0\\right)}\\\\\\frac{0.6}{0.02 s^{2} + 0.5 s + 2.0}\\\\- \\frac{6}{s \\left(- 0.02 s^{2} - 0.5 s - 2\\right)}\\end{array} \\right]$\n"
      ],
      "text/plain": [
       "3-element Vector{Sym}:\n",
       " 6*(0.1*s + 1.0)/(s*(0.02*s^2 + 0.5*s + 2.0))\n",
       "                 0.6/(0.02*s^2 + 0.5*s + 2.0)\n",
       "               -6/(s*(-0.02*s^2 - 0.5*s - 2))"
      ]
     },
     "execution_count": 14,
     "metadata": {},
     "output_type": "execute_result"
    }
   ],
   "source": [
    "*(inv(M1),v1)"
   ]
  },
  {
   "cell_type": "code",
   "execution_count": 15,
   "id": "534f06c0",
   "metadata": {},
   "outputs": [],
   "source": [
    "using Polynomials"
   ]
  },
  {
   "cell_type": "code",
   "execution_count": 17,
   "id": "a287a44e",
   "metadata": {},
   "outputs": [
    {
     "data": {
      "text/html": [
       "2.0 &#43; 0.5&#8729;x &#43; 0.02&#8729;x<sup>2</sup>"
      ],
      "text/latex": [
       "$2.0 + 0.5\\cdot x + 0.02\\cdot x^{2}$"
      ],
      "text/plain": [
       "Polynomial(2.0 + 0.5*x + 0.02*x^2)"
      ]
     },
     "execution_count": 17,
     "metadata": {},
     "output_type": "execute_result"
    }
   ],
   "source": [
    "p2=Polynomial([2,0.5,0.02])"
   ]
  },
  {
   "cell_type": "code",
   "execution_count": 19,
   "id": "7092af11",
   "metadata": {},
   "outputs": [
    {
     "data": {
      "text/plain": [
       "2-element Vector{Float64}:\n",
       " -20.0\n",
       "  -5.0"
      ]
     },
     "execution_count": 19,
     "metadata": {},
     "output_type": "execute_result"
    }
   ],
   "source": [
    "Polynomials.roots(p2)"
   ]
  },
  {
   "cell_type": "code",
   "execution_count": 20,
   "id": "79aac14c",
   "metadata": {},
   "outputs": [
    {
     "data": {
      "text/latex": [
       "$- \\frac{1}{30 \\left(s + 20\\right)} - \\frac{1}{15 \\left(s + 5\\right)} + \\frac{1}{10 s}$"
      ],
      "text/plain": [
       "       1            1         1  \n",
       "- ─────────── - ────────── + ────\n",
       "  30⋅(s + 20)   15⋅(s + 5)   10⋅s"
      ]
     },
     "execution_count": 20,
     "metadata": {},
     "output_type": "execute_result"
    }
   ],
   "source": [
    "apart(/(+(s,10),*(s,+(s,20),+(s,5))))"
   ]
  },
  {
   "cell_type": "code",
   "execution_count": 1,
   "id": "c86da9d2",
   "metadata": {},
   "outputs": [
    {
     "data": {
      "text/plain": [
       "3-element Vector{Int64}:\n",
       "   0\n",
       "   1\n",
       " -12"
      ]
     },
     "execution_count": 1,
     "metadata": {},
     "output_type": "execute_result"
    }
   ],
   "source": [
    "v1=[0;1;-12]"
   ]
  },
  {
   "cell_type": "code",
   "execution_count": 2,
   "id": "974e1b24",
   "metadata": {},
   "outputs": [
    {
     "data": {
      "text/plain": [
       "3-element Vector{Int64}:\n",
       " 1\n",
       " 0\n",
       " 4"
      ]
     },
     "execution_count": 2,
     "metadata": {},
     "output_type": "execute_result"
    }
   ],
   "source": [
    "v2=[1;0;4]"
   ]
  },
  {
   "cell_type": "code",
   "execution_count": 4,
   "id": "1658f965",
   "metadata": {},
   "outputs": [],
   "source": [
    "using LinearAlgebra"
   ]
  },
  {
   "cell_type": "code",
   "execution_count": 5,
   "id": "b46b5fe5",
   "metadata": {},
   "outputs": [
    {
     "data": {
      "text/plain": [
       "3-element Vector{Int64}:\n",
       "   4\n",
       " -12\n",
       "  -1"
      ]
     },
     "execution_count": 5,
     "metadata": {},
     "output_type": "execute_result"
    }
   ],
   "source": [
    "cross(v1,v2)"
   ]
  },
  {
   "cell_type": "code",
   "execution_count": 6,
   "id": "5bc17327",
   "metadata": {},
   "outputs": [
    {
     "data": {
      "text/plain": [
       "3-element Vector{Int64}:\n",
       "  2\n",
       " -3\n",
       " -1"
      ]
     },
     "execution_count": 6,
     "metadata": {},
     "output_type": "execute_result"
    }
   ],
   "source": [
    "w1=[2;-3;-1]"
   ]
  },
  {
   "cell_type": "code",
   "execution_count": 7,
   "id": "4420ce37",
   "metadata": {},
   "outputs": [
    {
     "data": {
      "text/plain": [
       "3-element Vector{Int64}:\n",
       "   2\n",
       "  -2\n",
       " -13"
      ]
     },
     "execution_count": 7,
     "metadata": {},
     "output_type": "execute_result"
    }
   ],
   "source": [
    "+(w1,v1)"
   ]
  },
  {
   "cell_type": "code",
   "execution_count": 8,
   "id": "2a272a6a",
   "metadata": {},
   "outputs": [
    {
     "data": {
      "text/plain": [
       "3-element Vector{Int64}:\n",
       "  3\n",
       " -3\n",
       "  3"
      ]
     },
     "execution_count": 8,
     "metadata": {},
     "output_type": "execute_result"
    }
   ],
   "source": [
    "+(w1,v2)"
   ]
  },
  {
   "cell_type": "code",
   "execution_count": 5,
   "id": "35a0b46f",
   "metadata": {},
   "outputs": [
    {
     "data": {
      "text/plain": [
       "1//18"
      ]
     },
     "execution_count": 5,
     "metadata": {},
     "output_type": "execute_result"
    }
   ],
   "source": [
    "//(12,*(216,1))"
   ]
  },
  {
   "cell_type": "code",
   "execution_count": 6,
   "id": "461fbac3",
   "metadata": {},
   "outputs": [],
   "source": [
    "using SymPy"
   ]
  },
  {
   "cell_type": "code",
   "execution_count": 7,
   "id": "8c820338",
   "metadata": {},
   "outputs": [
    {
     "data": {
      "text/plain": [
       "(s,)"
      ]
     },
     "execution_count": 7,
     "metadata": {},
     "output_type": "execute_result"
    }
   ],
   "source": [
    "@vars s"
   ]
  },
  {
   "cell_type": "code",
   "execution_count": 8,
   "id": "c6a0ade6",
   "metadata": {},
   "outputs": [
    {
     "data": {
      "text/plain": [
       "f1 (generic function with 1 method)"
      ]
     },
     "execution_count": 8,
     "metadata": {},
     "output_type": "execute_result"
    }
   ],
   "source": [
    "f1(s)=/(*(3,s),*(2,+(*(2,s),1),+(^(s,2),*(3,s),5)))"
   ]
  },
  {
   "cell_type": "code",
   "execution_count": 9,
   "id": "032b3c51",
   "metadata": {},
   "outputs": [
    {
     "data": {
      "text/latex": [
       "$\\frac{s + 10}{10 \\left(s^{2} + 3 s + 5\\right)} - \\frac{1}{5 \\left(2 s + 1\\right)}$"
      ],
      "text/plain": [
       "      s + 10             1     \n",
       "───────────────── - ───────────\n",
       "   ⎛ 2          ⎞   5⋅(2⋅s + 1)\n",
       "10⋅⎝s  + 3⋅s + 5⎠              "
      ]
     },
     "execution_count": 9,
     "metadata": {},
     "output_type": "execute_result"
    }
   ],
   "source": [
    "apart(/(*(3,s),*(2,+(*(2,s),1),+(^(s,2),*(3,s),5))))"
   ]
  },
  {
   "cell_type": "code",
   "execution_count": 10,
   "id": "83e26e5d",
   "metadata": {},
   "outputs": [
    {
     "data": {
      "text/latex": [
       "$\\frac{3 s}{\\left(4 s + 2\\right) \\left(s^{2} + 3 s + 5\\right)}$"
      ],
      "text/plain": [
       "          3⋅s           \n",
       "────────────────────────\n",
       "          ⎛ 2          ⎞\n",
       "(4⋅s + 2)⋅⎝s  + 3⋅s + 5⎠"
      ]
     },
     "execution_count": 10,
     "metadata": {},
     "output_type": "execute_result"
    }
   ],
   "source": [
    "f1(s)"
   ]
  },
  {
   "cell_type": "code",
   "execution_count": 1,
   "id": "aa5e7883",
   "metadata": {},
   "outputs": [],
   "source": [
    "using LinearAlgebra"
   ]
  },
  {
   "cell_type": "code",
   "execution_count": 2,
   "id": "c66c3b0f",
   "metadata": {},
   "outputs": [
    {
     "data": {
      "text/plain": [
       "3×3 Matrix{Int64}:\n",
       " 1   2   0\n",
       " 3  -1   2\n",
       " 5   0  -1"
      ]
     },
     "execution_count": 2,
     "metadata": {},
     "output_type": "execute_result"
    }
   ],
   "source": [
    "M1=[1 2 0\n",
    "3 -1 2\n",
    "5 0 -1]"
   ]
  },
  {
   "cell_type": "code",
   "execution_count": 3,
   "id": "faa1710e",
   "metadata": {},
   "outputs": [
    {
     "data": {
      "text/plain": [
       "3-element Vector{Float64}:\n",
       " 0.0\n",
       " 1.5\n",
       " 0.0"
      ]
     },
     "execution_count": 3,
     "metadata": {},
     "output_type": "execute_result"
    }
   ],
   "source": [
    "v1=[0;3/2;0]"
   ]
  },
  {
   "cell_type": "code",
   "execution_count": 4,
   "id": "f75a1e65",
   "metadata": {},
   "outputs": [
    {
     "data": {
      "text/plain": [
       "3-element Vector{Float64}:\n",
       "  0.1111111111111111\n",
       " -0.05555555555555555\n",
       "  0.5555555555555556"
      ]
     },
     "execution_count": 4,
     "metadata": {},
     "output_type": "execute_result"
    }
   ],
   "source": [
    "inv(M1)*v1"
   ]
  },
  {
   "cell_type": "code",
   "execution_count": 11,
   "id": "e42e1b39",
   "metadata": {},
   "outputs": [],
   "source": [
    "using Polynomials"
   ]
  },
  {
   "cell_type": "code",
   "execution_count": 12,
   "id": "4a3c3e5a",
   "metadata": {},
   "outputs": [
    {
     "data": {
      "text/html": [
       "&#45;9 &#43; 8&#8729;x &#43; x<sup>2</sup>"
      ],
      "text/latex": [
       "$-9 + 8\\cdot x + x^{2}$"
      ],
      "text/plain": [
       "Polynomial(-9 + 8*x + x^2)"
      ]
     },
     "execution_count": 12,
     "metadata": {},
     "output_type": "execute_result"
    }
   ],
   "source": [
    "p1=Polynomial([-9,8,1])"
   ]
  },
  {
   "cell_type": "code",
   "execution_count": 14,
   "id": "cedcf4d5",
   "metadata": {},
   "outputs": [
    {
     "data": {
      "text/plain": [
       "2-element Vector{Float64}:\n",
       " -9.0\n",
       "  1.0"
      ]
     },
     "execution_count": 14,
     "metadata": {},
     "output_type": "execute_result"
    }
   ],
   "source": [
    "Polynomials.roots(p1)"
   ]
  },
  {
   "cell_type": "code",
   "execution_count": 23,
   "id": "c7620fa4",
   "metadata": {},
   "outputs": [
    {
     "data": {
      "text/plain": [
       "f2 (generic function with 1 method)"
      ]
     },
     "execution_count": 23,
     "metadata": {},
     "output_type": "execute_result"
    }
   ],
   "source": [
    "f2(s)=/(*(+(s,5),+(^(s,2),2)),*(*(+(s,9),-(s,1),+(^(s,2),1))))"
   ]
  },
  {
   "cell_type": "code",
   "execution_count": 22,
   "id": "73c487e0",
   "metadata": {},
   "outputs": [
    {
     "data": {
      "text/latex": [
       "$- \\frac{25 s + 21}{82 \\left(s^{2} + 1\\right)} + \\frac{83}{205 \\left(s + 9\\right)} + \\frac{9}{10 \\left(s - 1\\right)}$"
      ],
      "text/plain": [
       "   25⋅s + 21         83           9     \n",
       "- ─────────── + ─────────── + ──────────\n",
       "     ⎛ 2    ⎞   205⋅(s + 9)   10⋅(s - 1)\n",
       "  82⋅⎝s  + 1⎠                           "
      ]
     },
     "execution_count": 22,
     "metadata": {},
     "output_type": "execute_result"
    }
   ],
   "source": [
    "apart(/(*(+(s,5),+(^(s,2),2)),*(*(+(s,9),-(s,1),+(^(s,2),1)))))"
   ]
  },
  {
   "cell_type": "code",
   "execution_count": 24,
   "id": "64e2f296",
   "metadata": {},
   "outputs": [
    {
     "data": {
      "text/latex": [
       "$\\frac{\\left(s + 5\\right) \\left(s^{2} + 2\\right)}{\\left(s - 1\\right) \\left(s + 9\\right) \\left(s^{2} + 1\\right)}$"
      ],
      "text/plain": [
       "            ⎛ 2    ⎞    \n",
       "    (s + 5)⋅⎝s  + 2⎠    \n",
       "────────────────────────\n",
       "                ⎛ 2    ⎞\n",
       "(s - 1)⋅(s + 9)⋅⎝s  + 1⎠"
      ]
     },
     "execution_count": 24,
     "metadata": {},
     "output_type": "execute_result"
    }
   ],
   "source": [
    "f2(s)"
   ]
  },
  {
   "cell_type": "code",
   "execution_count": 1,
   "id": "f0f7f63e",
   "metadata": {},
   "outputs": [],
   "source": [
    "using SymPy"
   ]
  },
  {
   "cell_type": "code",
   "execution_count": 2,
   "id": "8f783cac",
   "metadata": {},
   "outputs": [
    {
     "data": {
      "text/plain": [
       "(s,)"
      ]
     },
     "execution_count": 2,
     "metadata": {},
     "output_type": "execute_result"
    }
   ],
   "source": [
    "@vars s"
   ]
  },
  {
   "cell_type": "code",
   "execution_count": 3,
   "id": "dc279568",
   "metadata": {},
   "outputs": [
    {
     "data": {
      "text/latex": [
       "$- \\frac{3 \\left(4 s + 5\\right)}{41 \\left(s^{2} + 1\\right)} - \\frac{249}{410 \\left(s + 9\\right)} + \\frac{9}{10 \\left(s - 1\\right)}$"
      ],
      "text/plain": [
       "  3⋅(4⋅s + 5)       249           9     \n",
       "- ─────────── - ─────────── + ──────────\n",
       "     ⎛ 2    ⎞   410⋅(s + 9)   10⋅(s - 1)\n",
       "  41⋅⎝s  + 1⎠                           "
      ]
     },
     "execution_count": 3,
     "metadata": {},
     "output_type": "execute_result"
    }
   ],
   "source": [
    "apart(/(*(6,+(^(s,2),2)),*(*(+(s,9),-(s,1),+(^(s,2),1)))))"
   ]
  },
  {
   "cell_type": "code",
   "execution_count": 4,
   "id": "41d56854",
   "metadata": {},
   "outputs": [
    {
     "data": {
      "text/plain": [
       "f3 (generic function with 1 method)"
      ]
     },
     "execution_count": 4,
     "metadata": {},
     "output_type": "execute_result"
    }
   ],
   "source": [
    "f3(s)=/(*(6,+(^(s,2),2)),*(*(+(s,9),-(s,1),+(^(s,2),1))))"
   ]
  },
  {
   "cell_type": "code",
   "execution_count": 5,
   "id": "9dfe40d9",
   "metadata": {},
   "outputs": [
    {
     "data": {
      "text/latex": [
       "$\\frac{6 s^{2} + 12}{\\left(s - 1\\right) \\left(s + 9\\right) \\left(s^{2} + 1\\right)}$"
      ],
      "text/plain": [
       "          2             \n",
       "       6⋅s  + 12        \n",
       "────────────────────────\n",
       "                ⎛ 2    ⎞\n",
       "(s - 1)⋅(s + 9)⋅⎝s  + 1⎠"
      ]
     },
     "execution_count": 5,
     "metadata": {},
     "output_type": "execute_result"
    }
   ],
   "source": [
    "f3(s)"
   ]
  },
  {
   "cell_type": "code",
   "execution_count": 3,
   "id": "995d6bb9",
   "metadata": {},
   "outputs": [
    {
     "data": {
      "text/plain": [
       "f4 (generic function with 1 method)"
      ]
     },
     "execution_count": 3,
     "metadata": {},
     "output_type": "execute_result"
    }
   ],
   "source": [
    "f4(x)=+(*(2,^(x,3)),*(7,^(x,2)),*(//(-5,2),x),-1)"
   ]
  },
  {
   "cell_type": "code",
   "execution_count": 4,
   "id": "4380986b",
   "metadata": {},
   "outputs": [
    {
     "data": {
      "text/plain": [
       "-131//108"
      ]
     },
     "execution_count": 4,
     "metadata": {},
     "output_type": "execute_result"
    }
   ],
   "source": [
    "f4(//(1,6))"
   ]
  },
  {
   "cell_type": "code",
   "execution_count": 5,
   "id": "d4d97c6c",
   "metadata": {},
   "outputs": [
    {
     "data": {
      "text/plain": [
       "-497//432"
      ]
     },
     "execution_count": 5,
     "metadata": {},
     "output_type": "execute_result"
    }
   ],
   "source": [
    "-(//(1,16),//(131,108))"
   ]
  },
  {
   "cell_type": "code",
   "execution_count": null,
   "id": "4df2f608",
   "metadata": {},
   "outputs": [],
   "source": []
  },
  {
   "cell_type": "code",
   "execution_count": null,
   "id": "daf0762b",
   "metadata": {},
   "outputs": [],
   "source": []
  },
  {
   "cell_type": "code",
   "execution_count": null,
   "id": "0b1e2e37",
   "metadata": {},
   "outputs": [],
   "source": []
  },
  {
   "cell_type": "code",
   "execution_count": null,
   "id": "79d2477d",
   "metadata": {},
   "outputs": [],
   "source": []
  }
 ],
 "metadata": {
  "kernelspec": {
   "display_name": "Julia 1.7.2",
   "language": "julia",
   "name": "julia-1.7"
  },
  "language_info": {
   "file_extension": ".jl",
   "mimetype": "application/julia",
   "name": "julia",
   "version": "1.7.2"
  }
 },
 "nbformat": 4,
 "nbformat_minor": 5
}
