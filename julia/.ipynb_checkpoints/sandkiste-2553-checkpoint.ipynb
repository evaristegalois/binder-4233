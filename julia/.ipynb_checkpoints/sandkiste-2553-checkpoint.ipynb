{
 "cells": [
  {
   "cell_type": "code",
   "execution_count": 189,
   "id": "0c7ca796",
   "metadata": {},
   "outputs": [],
   "source": [
    "using SymPy"
   ]
  },
  {
   "cell_type": "code",
   "execution_count": 190,
   "id": "d7f90060",
   "metadata": {},
   "outputs": [
    {
     "data": {
      "text/plain": [
       "(t,)"
      ]
     },
     "execution_count": 190,
     "metadata": {},
     "output_type": "execute_result"
    }
   ],
   "source": [
    "@vars t"
   ]
  },
  {
   "cell_type": "code",
   "execution_count": 191,
   "id": "0162d20b",
   "metadata": {},
   "outputs": [
    {
     "data": {
      "text/plain": [
       "-1//10"
      ]
     },
     "execution_count": 191,
     "metadata": {},
     "output_type": "execute_result"
    }
   ],
   "source": [
    "(-1//2)+(2//5)"
   ]
  },
  {
   "cell_type": "code",
   "execution_count": 192,
   "id": "38a23979",
   "metadata": {},
   "outputs": [
    {
     "data": {
      "text/plain": [
       "1//6"
      ]
     },
     "execution_count": 192,
     "metadata": {},
     "output_type": "execute_result"
    }
   ],
   "source": [
    "(2//3)-(1//2)"
   ]
  },
  {
   "cell_type": "code",
   "execution_count": 193,
   "id": "8bab4bd4",
   "metadata": {},
   "outputs": [
    {
     "data": {
      "text/plain": [
       "g1 (generic function with 1 method)"
      ]
     },
     "execution_count": 193,
     "metadata": {},
     "output_type": "execute_result"
    }
   ],
   "source": [
    "g1(t)=(1/6)*t^2-(1/10)*t^3"
   ]
  },
  {
   "cell_type": "code",
   "execution_count": 194,
   "id": "a1d73230",
   "metadata": {},
   "outputs": [
    {
     "data": {
      "text/plain": [
       "g1p (generic function with 1 method)"
      ]
     },
     "execution_count": 194,
     "metadata": {},
     "output_type": "execute_result"
    }
   ],
   "source": [
    "g1p(t)=-(*(/(1,3),t),*(/(3,10),^(t,2)))"
   ]
  },
  {
   "cell_type": "code",
   "execution_count": 195,
   "id": "613fb33c",
   "metadata": {},
   "outputs": [
    {
     "data": {
      "text/plain": [
       "g1pp (generic function with 1 method)"
      ]
     },
     "execution_count": 195,
     "metadata": {},
     "output_type": "execute_result"
    }
   ],
   "source": [
    "g1pp(t)=-(/(1,3),*(/(3,5),t))"
   ]
  },
  {
   "cell_type": "code",
   "execution_count": 196,
   "id": "d54fd4a0",
   "metadata": {},
   "outputs": [
    {
     "data": {
      "text/plain": [
       "g1c (generic function with 1 method)"
      ]
     },
     "execution_count": 196,
     "metadata": {},
     "output_type": "execute_result"
    }
   ],
   "source": [
    "g1c(t)=+(*(^(t,2),g1pp(t)),*(4,t,g1p(t)),*(2,g1(t)),*(-2,^(t,2)),*(2,^(t,3)))"
   ]
  },
  {
   "cell_type": "code",
   "execution_count": 197,
   "id": "8bd284c5",
   "metadata": {},
   "outputs": [
    {
     "data": {
      "text/latex": [
       "$1.8 t^{3} + t^{2} \\left(0.333333333333333 - 0.6 t\\right) - 1.66666666666667 t^{2} + 4 t \\left(- 0.3 t^{2} + 0.333333333333333 t\\right)$"
      ],
      "text/plain": [
       "     3    2                                                 2       ⎛       2 \n",
       "1.8⋅t  + t ⋅(0.333333333333333 - 0.6⋅t) - 1.66666666666667⋅t  + 4⋅t⋅⎝- 0.3⋅t  \n",
       "\n",
       "                     ⎞\n",
       "+ 0.333333333333333⋅t⎠"
      ]
     },
     "execution_count": 197,
     "metadata": {},
     "output_type": "execute_result"
    }
   ],
   "source": [
    "g1c(t)"
   ]
  },
  {
   "cell_type": "code",
   "execution_count": 198,
   "id": "ee0242da",
   "metadata": {},
   "outputs": [
    {
     "data": {
      "text/latex": [
       "$2.22044604925031 \\cdot 10^{-16} t^{2} \\left(1.0 t - 1.0\\right)$"
      ],
      "text/plain": [
       "                      2              \n",
       "2.22044604925031e-16⋅t ⋅(1.0⋅t - 1.0)"
      ]
     },
     "execution_count": 198,
     "metadata": {},
     "output_type": "execute_result"
    }
   ],
   "source": [
    "factor(g1c(t))"
   ]
  },
  {
   "cell_type": "code",
   "execution_count": 199,
   "id": "9928c6f3",
   "metadata": {},
   "outputs": [],
   "source": [
    "using PyCall"
   ]
  },
  {
   "cell_type": "code",
   "execution_count": 200,
   "id": "754d7e15",
   "metadata": {},
   "outputs": [
    {
     "data": {
      "text/latex": [
       "$t$"
      ],
      "text/plain": [
       "t"
      ]
     },
     "execution_count": 200,
     "metadata": {},
     "output_type": "execute_result"
    }
   ],
   "source": [
    "sympy=pyimport(\"sympy\")\n",
    "t=sympy.Symbol(\"t\")"
   ]
  },
  {
   "cell_type": "code",
   "execution_count": 201,
   "id": "90883954",
   "metadata": {},
   "outputs": [],
   "source": [
    "using SymPy"
   ]
  },
  {
   "cell_type": "code",
   "execution_count": 202,
   "id": "722d0347",
   "metadata": {},
   "outputs": [
    {
     "data": {
      "text/plain": [
       "(t,)"
      ]
     },
     "execution_count": 202,
     "metadata": {},
     "output_type": "execute_result"
    }
   ],
   "source": [
    "@vars t"
   ]
  },
  {
   "cell_type": "code",
   "execution_count": 203,
   "id": "e8a45774",
   "metadata": {},
   "outputs": [
    {
     "data": {
      "text/plain": [
       "f3 (generic function with 1 method)"
      ]
     },
     "execution_count": 203,
     "metadata": {},
     "output_type": "execute_result"
    }
   ],
   "source": [
    "f3(t)=*(*(/(-1,2),sqrt(Complex(-1))),+(/(1,2),*(/(1,2),exp(*(-2,t))),*(-1,exp(*(-1,t)))))"
   ]
  },
  {
   "cell_type": "code",
   "execution_count": 204,
   "id": "fc0f45b6",
   "metadata": {},
   "outputs": [
    {
     "data": {
      "text/plain": [
       "f3 (generic function with 1 method)"
      ]
     },
     "execution_count": 204,
     "metadata": {},
     "output_type": "execute_result"
    }
   ],
   "source": [
    "f3(t)=*(t,2)"
   ]
  },
  {
   "cell_type": "code",
   "execution_count": 205,
   "id": "219d8618",
   "metadata": {},
   "outputs": [
    {
     "data": {
      "text/latex": [
       "$2 t$"
      ],
      "text/plain": [
       "2⋅t"
      ]
     },
     "execution_count": 205,
     "metadata": {},
     "output_type": "execute_result"
    }
   ],
   "source": [
    "f3(t)"
   ]
  },
  {
   "cell_type": "code",
   "execution_count": 206,
   "id": "6f15f4c6",
   "metadata": {},
   "outputs": [
    {
     "data": {
      "text/plain": [
       "(a, t, s)"
      ]
     },
     "execution_count": 206,
     "metadata": {},
     "output_type": "execute_result"
    }
   ],
   "source": [
    "@vars a t s"
   ]
  },
  {
   "cell_type": "code",
   "execution_count": 207,
   "id": "e6add458",
   "metadata": {},
   "outputs": [
    {
     "data": {
      "text/plain": [
       "127//16"
      ]
     },
     "execution_count": 207,
     "metadata": {},
     "output_type": "execute_result"
    }
   ],
   "source": [
    "(17//2)-(9//16)"
   ]
  },
  {
   "cell_type": "code",
   "execution_count": 208,
   "id": "8217cf3b",
   "metadata": {},
   "outputs": [
    {
     "data": {
      "text/plain": [
       "76//9"
      ]
     },
     "execution_count": 208,
     "metadata": {},
     "output_type": "execute_result"
    }
   ],
   "source": [
    "19/(9//4)"
   ]
  },
  {
   "cell_type": "code",
   "execution_count": 209,
   "id": "8a3f7a72",
   "metadata": {},
   "outputs": [
    {
     "data": {
      "text/plain": [
       "1216"
      ]
     },
     "execution_count": 209,
     "metadata": {},
     "output_type": "execute_result"
    }
   ],
   "source": [
    "76*16"
   ]
  },
  {
   "cell_type": "code",
   "execution_count": 210,
   "id": "a65553a3",
   "metadata": {},
   "outputs": [],
   "source": [
    "using Polynomials"
   ]
  },
  {
   "cell_type": "code",
   "execution_count": 211,
   "id": "46eb306f",
   "metadata": {},
   "outputs": [
    {
     "data": {
      "text/html": [
       "1 &#43; x<sup>2</sup>"
      ],
      "text/latex": [
       "$1 + x^{2}$"
      ],
      "text/plain": [
       "Polynomial(1 + x^2)"
      ]
     },
     "execution_count": 211,
     "metadata": {},
     "output_type": "execute_result"
    }
   ],
   "source": [
    "q1=Polynomial([1,0,1])"
   ]
  },
  {
   "cell_type": "code",
   "execution_count": 212,
   "id": "b88e1fca",
   "metadata": {},
   "outputs": [
    {
     "data": {
      "text/html": [
       "&#45;8 &#45; 2&#8729;x &#43; x<sup>2</sup>"
      ],
      "text/latex": [
       "$-8 - 2\\cdot x + x^{2}$"
      ],
      "text/plain": [
       "Polynomial(-8 - 2*x + x^2)"
      ]
     },
     "execution_count": 212,
     "metadata": {},
     "output_type": "execute_result"
    }
   ],
   "source": [
    "q2=Polynomial([-8,-2,1])"
   ]
  },
  {
   "cell_type": "code",
   "execution_count": 213,
   "id": "639405ea",
   "metadata": {},
   "outputs": [
    {
     "data": {
      "text/html": [
       "1.0"
      ],
      "text/latex": [
       "$1.0$"
      ],
      "text/plain": [
       "Polynomial(1.0)"
      ]
     },
     "execution_count": 213,
     "metadata": {},
     "output_type": "execute_result"
    }
   ],
   "source": [
    "q1÷q2"
   ]
  },
  {
   "cell_type": "code",
   "execution_count": 214,
   "id": "5dc34a96",
   "metadata": {},
   "outputs": [],
   "source": [
    "using SimplePolynomials"
   ]
  },
  {
   "cell_type": "code",
   "execution_count": 215,
   "id": "eb58b888",
   "metadata": {},
   "outputs": [
    {
     "data": {
      "text/plain": [
       "(1, 9 + 2*x)"
      ]
     },
     "execution_count": 215,
     "metadata": {},
     "output_type": "execute_result"
    }
   ],
   "source": [
    "p1=SimplePolynomial([1,0,1])\n",
    "p2=SimplePolynomial([-8,-2,1])\n",
    "(q1,r1)=divrem(p1,p2)\n"
   ]
  },
  {
   "cell_type": "code",
   "execution_count": 216,
   "id": "43580077",
   "metadata": {},
   "outputs": [],
   "source": [
    "using LinearAlgebra"
   ]
  },
  {
   "cell_type": "code",
   "execution_count": 217,
   "id": "52470c13",
   "metadata": {},
   "outputs": [
    {
     "data": {
      "text/plain": [
       "2×2 Matrix{Int64}:\n",
       "  1  1\n",
       " -4  2"
      ]
     },
     "execution_count": 217,
     "metadata": {},
     "output_type": "execute_result"
    }
   ],
   "source": [
    "M1=[1 1;-4 2]"
   ]
  },
  {
   "cell_type": "code",
   "execution_count": 218,
   "id": "074c9dfc",
   "metadata": {},
   "outputs": [
    {
     "data": {
      "text/plain": [
       "2-element Vector{Int64}:\n",
       " 9\n",
       " 2"
      ]
     },
     "execution_count": 218,
     "metadata": {},
     "output_type": "execute_result"
    }
   ],
   "source": [
    "v1=[9;2]"
   ]
  },
  {
   "cell_type": "code",
   "execution_count": 219,
   "id": "b7aba79a",
   "metadata": {},
   "outputs": [
    {
     "data": {
      "text/plain": [
       "2-element Vector{Float64}:\n",
       " 2.6666666666666665\n",
       " 6.333333333333333"
      ]
     },
     "execution_count": 219,
     "metadata": {},
     "output_type": "execute_result"
    }
   ],
   "source": [
    "inv(M1)*v1"
   ]
  },
  {
   "cell_type": "code",
   "execution_count": 220,
   "id": "971127d7",
   "metadata": {},
   "outputs": [
    {
     "data": {
      "text/plain": [
       "-1//16"
      ]
     },
     "execution_count": 220,
     "metadata": {},
     "output_type": "execute_result"
    }
   ],
   "source": [
    "1-2//3-19//48"
   ]
  },
  {
   "cell_type": "code",
   "execution_count": 221,
   "id": "6c58dc5e",
   "metadata": {},
   "outputs": [
    {
     "data": {
      "text/plain": [
       "-17//16"
      ]
     },
     "execution_count": 221,
     "metadata": {},
     "output_type": "execute_result"
    }
   ],
   "source": [
    "-2//3-19//48"
   ]
  },
  {
   "cell_type": "code",
   "execution_count": 222,
   "id": "8c8eb00d",
   "metadata": {},
   "outputs": [
    {
     "data": {
      "text/plain": [
       "-1//4"
      ]
     },
     "execution_count": 222,
     "metadata": {},
     "output_type": "execute_result"
    }
   ],
   "source": [
    "4//3-19//12"
   ]
  },
  {
   "cell_type": "code",
   "execution_count": 223,
   "id": "39ecf84d",
   "metadata": {},
   "outputs": [
    {
     "data": {
      "text/plain": [
       "5×5 Matrix{Int64}:\n",
       " 1  0  0  1  0\n",
       " 4  1  0  0  1\n",
       " 4  4  1  0  0\n",
       " 0  4  4  0  0\n",
       " 0  0  4  0  0"
      ]
     },
     "execution_count": 223,
     "metadata": {},
     "output_type": "execute_result"
    }
   ],
   "source": [
    "M2=[1 0 0 1 0\n",
    "4 1 0 0 1\n",
    "4 4 1 0 0\n",
    "0 4 4 0 0\n",
    "0 0 4 0 0]"
   ]
  },
  {
   "cell_type": "code",
   "execution_count": 224,
   "id": "16cc4d50",
   "metadata": {},
   "outputs": [
    {
     "data": {
      "text/plain": [
       "5-element Vector{Int64}:\n",
       " 0\n",
       " 0\n",
       " 0\n",
       " 0\n",
       " 2"
      ]
     },
     "execution_count": 224,
     "metadata": {},
     "output_type": "execute_result"
    }
   ],
   "source": [
    "v2=[0;0;0;0;2]"
   ]
  },
  {
   "cell_type": "code",
   "execution_count": 225,
   "id": "9a04f90a",
   "metadata": {},
   "outputs": [
    {
     "data": {
      "text/plain": [
       "5-element Vector{Float64}:\n",
       "  3.0\n",
       " -4.0\n",
       "  4.0\n",
       " -3.0\n",
       " -8.0"
      ]
     },
     "execution_count": 225,
     "metadata": {},
     "output_type": "execute_result"
    }
   ],
   "source": [
    "inv(M2)*v2*det(M2)*0.125"
   ]
  },
  {
   "cell_type": "code",
   "execution_count": 226,
   "id": "167b3692",
   "metadata": {},
   "outputs": [
    {
     "data": {
      "text/plain": [
       "8.0"
      ]
     },
     "execution_count": 226,
     "metadata": {},
     "output_type": "execute_result"
    }
   ],
   "source": [
    "det(M2)/8"
   ]
  },
  {
   "cell_type": "code",
   "execution_count": 227,
   "id": "bc9ee7b8",
   "metadata": {},
   "outputs": [],
   "source": [
    "using Polynomials"
   ]
  },
  {
   "cell_type": "code",
   "execution_count": 228,
   "id": "ee42adf3",
   "metadata": {},
   "outputs": [],
   "source": [
    "using SymPy"
   ]
  },
  {
   "cell_type": "code",
   "execution_count": 229,
   "id": "db753651",
   "metadata": {},
   "outputs": [
    {
     "data": {
      "text/plain": [
       "(x, s)"
      ]
     },
     "execution_count": 229,
     "metadata": {},
     "output_type": "execute_result"
    }
   ],
   "source": [
    "@vars x s"
   ]
  },
  {
   "cell_type": "code",
   "execution_count": 230,
   "id": "d1fd078f",
   "metadata": {},
   "outputs": [
    {
     "data": {
      "text/latex": [
       "$- \\frac{5 \\left(s - 5\\right)}{29 \\left(s^{2} + 4\\right)} + \\frac{5 \\left(s + 1\\right)}{29 \\left(s^{2} + 6 s + 34\\right)}$"
      ],
      "text/plain": [
       "   5⋅(s - 5)        5⋅(s + 1)     \n",
       "- ─────────── + ──────────────────\n",
       "     ⎛ 2    ⎞      ⎛ 2           ⎞\n",
       "  29⋅⎝s  + 4⎠   29⋅⎝s  + 6⋅s + 34⎠"
      ]
     },
     "execution_count": 230,
     "metadata": {},
     "output_type": "execute_result"
    }
   ],
   "source": [
    "apart(/(30,*(+(^(s,2),4),+(^(s,2),*(6,s),34))))"
   ]
  },
  {
   "cell_type": "code",
   "execution_count": 231,
   "id": "5a0d0c44",
   "metadata": {},
   "outputs": [
    {
     "data": {
      "text/latex": [
       "$\\frac{2 s}{\\left(s^{2} + 1\\right)^{2}} + \\frac{2 s + 1}{s^{2} + 1} - \\frac{2}{s - 1} + \\frac{1}{\\left(s - 1\\right)^{2}}$"
      ],
      "text/plain": [
       "   2⋅s      2⋅s + 1     2        1    \n",
       "───────── + ─────── - ───── + ────────\n",
       "        2     2       s - 1          2\n",
       "⎛ 2    ⎞     s  + 1           (s - 1) \n",
       "⎝s  + 1⎠                              "
      ]
     },
     "execution_count": 231,
     "metadata": {},
     "output_type": "execute_result"
    }
   ],
   "source": [
    "apart(/(4,*(^(-(s,1),2),^(+(^(s,2),1),2))))"
   ]
  },
  {
   "cell_type": "code",
   "execution_count": 232,
   "id": "fc399c8a",
   "metadata": {},
   "outputs": [
    {
     "data": {
      "text/latex": [
       "$- \\frac{1}{2 \\left(s - 2\\right)} + \\frac{1}{4 \\left(s - 4\\right)} + \\frac{1}{4 s}$"
      ],
      "text/plain": [
       "      1           1        1 \n",
       "- ───────── + ───────── + ───\n",
       "  2⋅(s - 2)   4⋅(s - 4)   4⋅s"
      ]
     },
     "execution_count": 232,
     "metadata": {},
     "output_type": "execute_result"
    }
   ],
   "source": [
    "apart(/(2,*(s,-(s,2),-(s,4))))"
   ]
  },
  {
   "cell_type": "code",
   "execution_count": 233,
   "id": "2564c99f",
   "metadata": {},
   "outputs": [
    {
     "data": {
      "text/latex": [
       "$- \\frac{3}{16 \\left(s + 2\\right)} + \\frac{3}{16 \\left(s - 2\\right)} - \\frac{3}{4 s^{2}}$"
      ],
      "text/plain": [
       "      3            3         3  \n",
       "- ────────── + ────────── - ────\n",
       "  16⋅(s + 2)   16⋅(s - 2)      2\n",
       "                            4⋅s "
      ]
     },
     "execution_count": 233,
     "metadata": {},
     "output_type": "execute_result"
    }
   ],
   "source": [
    "apart(/(3,*(-(s,2),+(s,2),^(s,2))))"
   ]
  },
  {
   "cell_type": "code",
   "execution_count": 234,
   "id": "c6fe384c",
   "metadata": {},
   "outputs": [
    {
     "data": {
      "text/plain": [
       "G3 (generic function with 1 method)"
      ]
     },
     "execution_count": 234,
     "metadata": {},
     "output_type": "execute_result"
    }
   ],
   "source": [
    "G3(s)=*(/(1,32),+(/(+(*(-(4,*(2,im)),s),-(im,2)),+(*(2,^(s,2)),-1,*(im,-2))),/(+(*(+(4,*(2,im)),s),-(-2,im)),+(*(2,^(s,2)),-1,*(2,im)))))"
   ]
  },
  {
   "cell_type": "code",
   "execution_count": 235,
   "id": "784390cd",
   "metadata": {},
   "outputs": [
    {
     "data": {
      "text/latex": [
       "$\\frac{0.03125 \\left(s \\left(4 + 2 i\\right) - 2 - i\\right)}{2 s^{2} - 1 + 2 i} + \\frac{0.03125 \\left(s \\left(4 - 2 i\\right) - 2 + i\\right)}{2 s^{2} - 1 - 2 i}$"
      ],
      "text/plain": [
       "0.03125⋅(s⋅(4 + 2⋅ⅈ) - 2 - ⅈ)   0.03125⋅(s⋅(4 - 2⋅ⅈ) - 2 + ⅈ)\n",
       "───────────────────────────── + ─────────────────────────────\n",
       "           2                               2                 \n",
       "        2⋅s  - 1 + 2⋅ⅈ                  2⋅s  - 1 - 2⋅ⅈ       "
      ]
     },
     "execution_count": 235,
     "metadata": {},
     "output_type": "execute_result"
    }
   ],
   "source": [
    "G3(s)"
   ]
  },
  {
   "cell_type": "code",
   "execution_count": 236,
   "id": "3771aff1",
   "metadata": {},
   "outputs": [
    {
     "data": {
      "text/latex": [
       "$\\frac{s^{2} \\left(0.5 s - 0.25\\right)}{4.0 s^{4} - 4.0 s^{2} + 5.0}$"
      ],
      "text/plain": [
       "   2                 \n",
       "  s ⋅(0.5⋅s - 0.25)  \n",
       "─────────────────────\n",
       "     4        2      \n",
       "4.0⋅s  - 4.0⋅s  + 5.0"
      ]
     },
     "execution_count": 236,
     "metadata": {},
     "output_type": "execute_result"
    }
   ],
   "source": [
    "simplify(G3(s))"
   ]
  },
  {
   "cell_type": "code",
   "execution_count": 237,
   "id": "5a83f4dc",
   "metadata": {},
   "outputs": [
    {
     "data": {
      "text/plain": [
       "G4 (generic function with 1 method)"
      ]
     },
     "execution_count": 237,
     "metadata": {},
     "output_type": "execute_result"
    }
   ],
   "source": [
    "G4(s)=/(-(*(2,^(s,3)),^(s,2)),*(16,^(-(s,-(/(1,2),im)),2),^(-(s,+(/(1,2),im)),2)))"
   ]
  },
  {
   "cell_type": "code",
   "execution_count": 238,
   "id": "26ace371",
   "metadata": {},
   "outputs": [
    {
     "data": {
      "text/latex": [
       "$\\frac{2 s^{3} - s^{2}}{16 \\left(s - 0.5 - 1.0 i\\right)^{2} \\left(s - 0.5 + 1.0 i\\right)^{2}}$"
      ],
      "text/plain": [
       "                3    2              \n",
       "             2⋅s  - s               \n",
       "────────────────────────────────────\n",
       "                2                  2\n",
       "16⋅(s - 0.5 - ⅈ) ⋅(s - 0.5 + 1.0⋅ⅈ) "
      ]
     },
     "execution_count": 238,
     "metadata": {},
     "output_type": "execute_result"
    }
   ],
   "source": [
    "G4(s)"
   ]
  },
  {
   "cell_type": "code",
   "execution_count": 239,
   "id": "fce7fbd2",
   "metadata": {},
   "outputs": [
    {
     "data": {
      "text/latex": [
       "$\\frac{s^{2} \\left(2 s - 1\\right)}{16 \\left(- s + 0.5 + 1.0 i\\right)^{2} \\left(s - 0.5 + 1.0 i\\right)^{2}}$"
      ],
      "text/plain": [
       "                2                        \n",
       "               s ⋅(2⋅s - 1)              \n",
       "─────────────────────────────────────────\n",
       "                     2                  2\n",
       "16⋅(-s + 0.5 + 1.0⋅ⅈ) ⋅(s - 0.5 + 1.0⋅ⅈ) "
      ]
     },
     "execution_count": 239,
     "metadata": {},
     "output_type": "execute_result"
    }
   ],
   "source": [
    "simplify(G4(s))"
   ]
  },
  {
   "cell_type": "code",
   "execution_count": 240,
   "id": "8d52fcec",
   "metadata": {},
   "outputs": [
    {
     "data": {
      "text/plain": [
       "32.0"
      ]
     },
     "execution_count": 240,
     "metadata": {},
     "output_type": "execute_result"
    }
   ],
   "source": [
    "25*1.28"
   ]
  },
  {
   "cell_type": "code",
   "execution_count": 241,
   "id": "c4389eaf",
   "metadata": {},
   "outputs": [
    {
     "data": {
      "text/plain": [
       "G5 (generic function with 1 method)"
      ]
     },
     "execution_count": 241,
     "metadata": {},
     "output_type": "execute_result"
    }
   ],
   "source": [
    "G5(s)=*(16,^(-(s,-(/(1,2),im)),2),^(-(s,+(/(1,2),im)),2))"
   ]
  },
  {
   "cell_type": "code",
   "execution_count": 242,
   "id": "f35ca316",
   "metadata": {},
   "outputs": [
    {
     "data": {
      "text/latex": [
       "$25.0 \\left(0.8 s^{2} - 0.8 s + 1.0\\right)^{2}$"
      ],
      "text/plain": [
       "                           2\n",
       "     ⎛     2              ⎞ \n",
       "25.0⋅⎝0.8⋅s  - 0.8⋅s + 1.0⎠ "
      ]
     },
     "execution_count": 242,
     "metadata": {},
     "output_type": "execute_result"
    }
   ],
   "source": [
    "factor(expand(G5(s)))"
   ]
  },
  {
   "cell_type": "code",
   "execution_count": 243,
   "id": "94ca6822",
   "metadata": {},
   "outputs": [
    {
     "data": {
      "text/plain": [
       "0.0625"
      ]
     },
     "execution_count": 243,
     "metadata": {},
     "output_type": "execute_result"
    }
   ],
   "source": [
    "1.5625/25"
   ]
  },
  {
   "cell_type": "code",
   "execution_count": 244,
   "id": "81048bc6",
   "metadata": {},
   "outputs": [
    {
     "data": {
      "text/plain": [
       "16.0"
      ]
     },
     "execution_count": 244,
     "metadata": {},
     "output_type": "execute_result"
    }
   ],
   "source": [
    "1/0.0625"
   ]
  },
  {
   "cell_type": "code",
   "execution_count": 245,
   "id": "c890a375",
   "metadata": {},
   "outputs": [
    {
     "data": {
      "text/plain": [
       "g1 (generic function with 1 method)"
      ]
     },
     "execution_count": 245,
     "metadata": {},
     "output_type": "execute_result"
    }
   ],
   "source": [
    "g1(s)=(-0.25*s^3 + 0.625*s^2 - 0.875*s + 0.3125)/(2.0*s^4 - 4.0*s^3 + 7.0*s^2 - 5.0*s + 3.125)"
   ]
  },
  {
   "cell_type": "code",
   "execution_count": 246,
   "id": "fb578b74",
   "metadata": {},
   "outputs": [
    {
     "data": {
      "text/latex": [
       "$\\frac{- 0.25 s^{3} + 0.625 s^{2} - 0.875 s + 0.3125}{2.0 s^{4} - 4.0 s^{3} + 7.0 s^{2} - 5.0 s + 3.125}$"
      ],
      "text/plain": [
       "        3          2                    \n",
       "- 0.25⋅s  + 0.625⋅s  - 0.875⋅s + 0.3125 \n",
       "────────────────────────────────────────\n",
       "     4        3        2                \n",
       "2.0⋅s  - 4.0⋅s  + 7.0⋅s  - 5.0⋅s + 3.125"
      ]
     },
     "execution_count": 246,
     "metadata": {},
     "output_type": "execute_result"
    }
   ],
   "source": [
    "g1(s)"
   ]
  },
  {
   "cell_type": "code",
   "execution_count": 247,
   "id": "5f99908b",
   "metadata": {},
   "outputs": [
    {
     "data": {
      "text/plain": [
       "g1n (generic function with 1 method)"
      ]
     },
     "execution_count": 247,
     "metadata": {},
     "output_type": "execute_result"
    }
   ],
   "source": [
    "g1n(s)=-0.25*s^3 + 0.625*s^2 - 0.875*s + 0.3125"
   ]
  },
  {
   "cell_type": "code",
   "execution_count": 248,
   "id": "01ddc3e0",
   "metadata": {},
   "outputs": [
    {
     "data": {
      "text/latex": [
       "$2.0 s^{4} - 4.0 s^{3} + 7.0 s^{2} - 5.0 s + 3.125$"
      ],
      "text/plain": [
       "     4        3        2                \n",
       "2.0⋅s  - 4.0⋅s  + 7.0⋅s  - 5.0⋅s + 3.125"
      ]
     },
     "execution_count": 248,
     "metadata": {},
     "output_type": "execute_result"
    }
   ],
   "source": [
    "g1d=2.0*s^4 - 4.0*s^3 + 7.0*s^2 - 5.0*s + 3.125"
   ]
  },
  {
   "cell_type": "code",
   "execution_count": 249,
   "id": "c1fd5b70",
   "metadata": {},
   "outputs": [
    {
     "data": {
      "text/latex": [
       "$- 4.0 s^{3} + 10.0 s^{2} - 14.0 s + 5.0$"
      ],
      "text/plain": [
       "       3         2               \n",
       "- 4.0⋅s  + 10.0⋅s  - 14.0⋅s + 5.0"
      ]
     },
     "execution_count": 249,
     "metadata": {},
     "output_type": "execute_result"
    }
   ],
   "source": [
    "*(g1n(s),16)"
   ]
  },
  {
   "cell_type": "code",
   "execution_count": 250,
   "id": "9e864849",
   "metadata": {},
   "outputs": [
    {
     "data": {
      "text/latex": [
       "$16.0 s^{4} - 32.0 s^{3} + 56.0 s^{2} - 40.0 s + 25.0$"
      ],
      "text/plain": [
       "      4         3         2                \n",
       "16.0⋅s  - 32.0⋅s  + 56.0⋅s  - 40.0⋅s + 25.0"
      ]
     },
     "execution_count": 250,
     "metadata": {},
     "output_type": "execute_result"
    }
   ],
   "source": [
    "*(g1d,8)"
   ]
  },
  {
   "cell_type": "code",
   "execution_count": 251,
   "id": "fc3109c0",
   "metadata": {},
   "outputs": [
    {
     "data": {
      "text/plain": [
       "g2 (generic function with 1 method)"
      ]
     },
     "execution_count": 251,
     "metadata": {},
     "output_type": "execute_result"
    }
   ],
   "source": [
    "g2(s)=s^2*(0.25*s - 0.125)/(2.0*s^4 - 4.0*s^3 + 7.0*s^2 - 5.0*s + 3.125)"
   ]
  },
  {
   "cell_type": "code",
   "execution_count": 252,
   "id": "3eb7d2a6",
   "metadata": {},
   "outputs": [
    {
     "data": {
      "text/latex": [
       "$\\frac{s^{2} \\left(0.25 s - 0.125\\right)}{2.0 s^{4} - 4.0 s^{3} + 7.0 s^{2} - 5.0 s + 3.125}$"
      ],
      "text/plain": [
       "           2                            \n",
       "          s ⋅(0.25⋅s - 0.125)           \n",
       "────────────────────────────────────────\n",
       "     4        3        2                \n",
       "2.0⋅s  - 4.0⋅s  + 7.0⋅s  - 5.0⋅s + 3.125"
      ]
     },
     "execution_count": 252,
     "metadata": {},
     "output_type": "execute_result"
    }
   ],
   "source": [
    "g2(s)"
   ]
  },
  {
   "cell_type": "code",
   "execution_count": 253,
   "id": "1cde5ea9",
   "metadata": {},
   "outputs": [
    {
     "data": {
      "text/plain": [
       "g2n (generic function with 1 method)"
      ]
     },
     "execution_count": 253,
     "metadata": {},
     "output_type": "execute_result"
    }
   ],
   "source": [
    "g2n(s)=s^2*(0.25*s - 0.125)"
   ]
  },
  {
   "cell_type": "code",
   "execution_count": 254,
   "id": "bfc909b1",
   "metadata": {},
   "outputs": [
    {
     "data": {
      "text/latex": [
       "$8 s^{2} \\left(0.25 s - 0.125\\right)$"
      ],
      "text/plain": [
       "   2                 \n",
       "8⋅s ⋅(0.25⋅s - 0.125)"
      ]
     },
     "execution_count": 254,
     "metadata": {},
     "output_type": "execute_result"
    }
   ],
   "source": [
    "*(8,g2n(s))"
   ]
  },
  {
   "cell_type": "code",
   "execution_count": 255,
   "id": "78cb1f6f",
   "metadata": {},
   "outputs": [
    {
     "data": {
      "text/latex": [
       "$\\frac{2 s}{s^{2} + 1} - \\frac{2 s}{\\left(s^{2} + 1\\right)^{2}}$"
      ],
      "text/plain": [
       " 2⋅s        2⋅s   \n",
       "────── - ─────────\n",
       " 2               2\n",
       "s  + 1   ⎛ 2    ⎞ \n",
       "         ⎝s  + 1⎠ "
      ]
     },
     "execution_count": 255,
     "metadata": {},
     "output_type": "execute_result"
    }
   ],
   "source": [
    "apart(/(*(2,^(s,3)),^(+(^(s,2),1),2)))"
   ]
  },
  {
   "cell_type": "code",
   "execution_count": 256,
   "id": "19ed1610",
   "metadata": {},
   "outputs": [
    {
     "data": {
      "text/plain": [
       "F1 (generic function with 1 method)"
      ]
     },
     "execution_count": 256,
     "metadata": {},
     "output_type": "execute_result"
    }
   ],
   "source": [
    "F1(s)=^(+(^(+(s,1),2),1),2)"
   ]
  },
  {
   "cell_type": "code",
   "execution_count": 257,
   "id": "9652e5cf",
   "metadata": {},
   "outputs": [
    {
     "data": {
      "text/latex": [
       "$\\left(\\left(s + 1\\right)^{2} + 1\\right)^{2}$"
      ],
      "text/plain": [
       "              2\n",
       "⎛       2    ⎞ \n",
       "⎝(s + 1)  + 1⎠ "
      ]
     },
     "execution_count": 257,
     "metadata": {},
     "output_type": "execute_result"
    }
   ],
   "source": [
    "F1(s)"
   ]
  },
  {
   "cell_type": "code",
   "execution_count": 258,
   "id": "3653fcfb",
   "metadata": {},
   "outputs": [
    {
     "data": {
      "text/latex": [
       "$s^{4} + 4 s^{3} + 8 s^{2} + 8 s + 4$"
      ],
      "text/plain": [
       " 4      3      2          \n",
       "s  + 4⋅s  + 8⋅s  + 8⋅s + 4"
      ]
     },
     "execution_count": 258,
     "metadata": {},
     "output_type": "execute_result"
    }
   ],
   "source": [
    "expand(F1(s))"
   ]
  },
  {
   "cell_type": "code",
   "execution_count": 259,
   "id": "5cf73037",
   "metadata": {},
   "outputs": [
    {
     "data": {
      "text/plain": [
       "F2 (generic function with 1 method)"
      ]
     },
     "execution_count": 259,
     "metadata": {},
     "output_type": "execute_result"
    }
   ],
   "source": [
    "F2(s)=^(+(^(s,2),*(2,s),2),2)"
   ]
  },
  {
   "cell_type": "code",
   "execution_count": 260,
   "id": "07a877df",
   "metadata": {},
   "outputs": [
    {
     "data": {
      "text/latex": [
       "$\\left(s^{2} + 2 s + 2\\right)^{2}$"
      ],
      "text/plain": [
       "              2\n",
       "⎛ 2          ⎞ \n",
       "⎝s  + 2⋅s + 2⎠ "
      ]
     },
     "execution_count": 260,
     "metadata": {},
     "output_type": "execute_result"
    }
   ],
   "source": [
    "F2(s)"
   ]
  },
  {
   "cell_type": "code",
   "execution_count": 261,
   "id": "7f2428e7",
   "metadata": {},
   "outputs": [
    {
     "data": {
      "text/latex": [
       "$s^{4} + 4 s^{3} + 8 s^{2} + 8 s + 4$"
      ],
      "text/plain": [
       " 4      3      2          \n",
       "s  + 4⋅s  + 8⋅s  + 8⋅s + 4"
      ]
     },
     "execution_count": 261,
     "metadata": {},
     "output_type": "execute_result"
    }
   ],
   "source": [
    "expand(F2(s))"
   ]
  },
  {
   "cell_type": "code",
   "execution_count": 262,
   "id": "d6e2eaf9",
   "metadata": {},
   "outputs": [
    {
     "data": {
      "text/latex": [
       "$\\frac{6 s + 1.2}{\\left(\\left(s + 0.2\\right)^{2} + 9\\right) \\left(s^{2} + 0.4 s + 9.04\\right)}$"
      ],
      "text/plain": [
       "             6⋅s + 1.2              \n",
       "────────────────────────────────────\n",
       "⎛         2    ⎞ ⎛ 2               ⎞\n",
       "⎝(s + 0.2)  + 9⎠⋅⎝s  + 0.4⋅s + 9.04⎠"
      ]
     },
     "execution_count": 262,
     "metadata": {},
     "output_type": "execute_result"
    }
   ],
   "source": [
    "F3=/(*(6,+(s,/(1,5))),*(+(^(+(s,/(1,5)),2),9),+(^(s,2),*(0.4,s),9.04)))"
   ]
  },
  {
   "cell_type": "code",
   "execution_count": 263,
   "id": "c3251943",
   "metadata": {},
   "outputs": [
    {
     "data": {
      "text/latex": [
       "$\\left(s^{2} + 9.84\\right) \\left(s^{2} + 10.5\\right)$"
      ],
      "text/plain": [
       "⎛ 2       ⎞ ⎛ 2       ⎞\n",
       "⎝s  + 9.84⎠⋅⎝s  + 10.5⎠"
      ]
     },
     "execution_count": 263,
     "metadata": {},
     "output_type": "execute_result"
    }
   ],
   "source": [
    "F31=*(+(+(^(s,2),1.5),9),+(^(s,2),*(0.4,2),9.04))"
   ]
  },
  {
   "cell_type": "code",
   "execution_count": 264,
   "id": "7a4c6564",
   "metadata": {},
   "outputs": [
    {
     "data": {
      "text/latex": [
       "$\\frac{0.0734200015662934 \\left(1.0 s + 0.2\\right)}{0.0122366669277156 s^{4} + 0.00978933354217245 s^{3} + 0.223196804761532 s^{2} + 0.0884955752212389 s + 1.0}$"
      ],
      "text/plain": [
       "                                 0.0734200015662934⋅(1.0⋅s + 0.2)             \n",
       "──────────────────────────────────────────────────────────────────────────────\n",
       "                    4                        3                      2         \n",
       "0.0122366669277156⋅s  + 0.00978933354217245⋅s  + 0.223196804761532⋅s  + 0.0884\n",
       "\n",
       "                    \n",
       "────────────────────\n",
       "                    \n",
       "955752212389⋅s + 1.0"
      ]
     },
     "execution_count": 264,
     "metadata": {},
     "output_type": "execute_result"
    }
   ],
   "source": [
    "apart(F3(s))"
   ]
  },
  {
   "cell_type": "code",
   "execution_count": 265,
   "id": "850b5b31",
   "metadata": {},
   "outputs": [
    {
     "data": {
      "text/plain": [
       "3.6159999999999997"
      ]
     },
     "execution_count": 265,
     "metadata": {},
     "output_type": "execute_result"
    }
   ],
   "source": [
    "0.4*9.04"
   ]
  },
  {
   "cell_type": "code",
   "execution_count": 266,
   "id": "e85b7b22",
   "metadata": {},
   "outputs": [
    {
     "data": {
      "text/plain": [
       "0.3616"
      ]
     },
     "execution_count": 266,
     "metadata": {},
     "output_type": "execute_result"
    }
   ],
   "source": [
    "*(/(1,25),9.04)"
   ]
  },
  {
   "cell_type": "code",
   "execution_count": 267,
   "id": "61f939eb",
   "metadata": {},
   "outputs": [
    {
     "data": {
      "text/plain": [
       "9.239999999999998"
      ]
     },
     "execution_count": 267,
     "metadata": {},
     "output_type": "execute_result"
    }
   ],
   "source": [
    "+(9.04,/(4,25),/(1,25))"
   ]
  },
  {
   "cell_type": "code",
   "execution_count": 268,
   "id": "e68ce82c",
   "metadata": {},
   "outputs": [
    {
     "data": {
      "text/plain": [
       "3.632"
      ]
     },
     "execution_count": 268,
     "metadata": {},
     "output_type": "execute_result"
    }
   ],
   "source": [
    "+(3.616,/(2,125))"
   ]
  },
  {
   "cell_type": "code",
   "execution_count": 269,
   "id": "91f0d650",
   "metadata": {},
   "outputs": [
    {
     "data": {
      "text/plain": [
       "4.5"
      ]
     },
     "execution_count": 269,
     "metadata": {},
     "output_type": "execute_result"
    }
   ],
   "source": [
    "B=/(-(9.24,/(6,25)),2)"
   ]
  },
  {
   "cell_type": "code",
   "execution_count": 270,
   "id": "badabeca",
   "metadata": {},
   "outputs": [
    {
     "data": {
      "text/plain": [
       "0.2"
      ]
     },
     "execution_count": 270,
     "metadata": {},
     "output_type": "execute_result"
    }
   ],
   "source": [
    "A=/(1,5)"
   ]
  },
  {
   "cell_type": "code",
   "execution_count": 271,
   "id": "4e8fa53a",
   "metadata": {},
   "outputs": [
    {
     "data": {
      "text/plain": [
       "3.648"
      ]
     },
     "execution_count": 271,
     "metadata": {},
     "output_type": "execute_result"
    }
   ],
   "source": [
    "+(*(6,^(A,3)),*(4,A,B))"
   ]
  },
  {
   "cell_type": "code",
   "execution_count": 272,
   "id": "5d3598dc",
   "metadata": {},
   "outputs": [
    {
     "data": {
      "text/plain": [
       "20.6116"
      ]
     },
     "execution_count": 272,
     "metadata": {},
     "output_type": "execute_result"
    }
   ],
   "source": [
    "+(^(A,4),*(2,^(A,2),B),^(B,2))"
   ]
  },
  {
   "cell_type": "code",
   "execution_count": 273,
   "id": "4c3e8f73",
   "metadata": {},
   "outputs": [
    {
     "data": {
      "text/html": [
       "9.04 &#43; 0.4&#8729;x &#43; 1.0&#8729;x<sup>2</sup>"
      ],
      "text/latex": [
       "$9.04 + 0.4\\cdot x + 1.0\\cdot x^{2}$"
      ],
      "text/plain": [
       "Polynomial(9.04 + 0.4*x + 1.0*x^2)"
      ]
     },
     "execution_count": 273,
     "metadata": {},
     "output_type": "execute_result"
    }
   ],
   "source": [
    "p1=Polynomial([9.04,0.4,1])"
   ]
  },
  {
   "cell_type": "code",
   "execution_count": 274,
   "id": "9bf779ed",
   "metadata": {},
   "outputs": [
    {
     "data": {
      "text/plain": [
       "2-element Vector{ComplexF64}:\n",
       " -0.2 - 2.999999999999999im\n",
       " -0.2 + 2.999999999999999im"
      ]
     },
     "execution_count": 274,
     "metadata": {},
     "output_type": "execute_result"
    }
   ],
   "source": [
    "roots(p1)"
   ]
  },
  {
   "cell_type": "code",
   "execution_count": 275,
   "id": "342e8d5b",
   "metadata": {},
   "outputs": [],
   "source": [
    "using Polynomials"
   ]
  },
  {
   "cell_type": "code",
   "execution_count": 276,
   "id": "577039e1",
   "metadata": {},
   "outputs": [
    {
     "data": {
      "text/html": [
       "140.0 &#43; 4.0&#8729;x<sup>2</sup>"
      ],
      "text/latex": [
       "$140.0 + 4.0\\cdot x^{2}$"
      ],
      "text/plain": [
       "Polynomial(140.0 + 4.0*x^2)"
      ]
     },
     "execution_count": 276,
     "metadata": {},
     "output_type": "execute_result"
    }
   ],
   "source": [
    "p1=Polynomial([/(980,7),0,4])"
   ]
  },
  {
   "cell_type": "code",
   "execution_count": 277,
   "id": "e4e2d783",
   "metadata": {},
   "outputs": [
    {
     "data": {
      "text/plain": [
       "2-element Vector{ComplexF64}:\n",
       " -0.0 + 5.916079783099616im\n",
       "  0.0 - 5.916079783099616im"
      ]
     },
     "execution_count": 277,
     "metadata": {},
     "output_type": "execute_result"
    }
   ],
   "source": [
    "roots(p1)"
   ]
  },
  {
   "cell_type": "code",
   "execution_count": 279,
   "id": "b527af28",
   "metadata": {},
   "outputs": [],
   "source": [
    "using SymPy"
   ]
  },
  {
   "cell_type": "code",
   "execution_count": 280,
   "id": "fa6c58ef",
   "metadata": {},
   "outputs": [
    {
     "data": {
      "text/plain": [
       "(x,)"
      ]
     },
     "execution_count": 280,
     "metadata": {},
     "output_type": "execute_result"
    }
   ],
   "source": [
    "@vars x"
   ]
  },
  {
   "cell_type": "code",
   "execution_count": 282,
   "id": "0dcce0d1",
   "metadata": {},
   "outputs": [
    {
     "data": {
      "text/latex": [
       "$\\frac{x}{2} - \\frac{\\sin{\\left(x \\right)} \\cos{\\left(x \\right)}}{2}$"
      ],
      "text/plain": [
       "x   sin(x)⋅cos(x)\n",
       "─ - ─────────────\n",
       "2         2      "
      ]
     },
     "execution_count": 282,
     "metadata": {},
     "output_type": "execute_result"
    }
   ],
   "source": [
    "SymPy.integrate(^(sin(x),2))"
   ]
  },
  {
   "cell_type": "code",
   "execution_count": 283,
   "id": "1fc632fd",
   "metadata": {},
   "outputs": [
    {
     "data": {
      "text/latex": [
       "$- \\frac{e^{- x} \\sin{\\left(x \\right)}}{2} - \\frac{e^{- x} \\cos{\\left(x \\right)}}{2}$"
      ],
      "text/plain": [
       "   -x           -x       \n",
       "  ℯ  ⋅sin(x)   ℯ  ⋅cos(x)\n",
       "- ────────── - ──────────\n",
       "      2            2     "
      ]
     },
     "execution_count": 283,
     "metadata": {},
     "output_type": "execute_result"
    }
   ],
   "source": [
    "SymPy.integrate(*(exp(-x),sin(x)))"
   ]
  },
  {
   "cell_type": "code",
   "execution_count": 1,
   "id": "7c6bf5d5",
   "metadata": {},
   "outputs": [
    {
     "data": {
      "text/plain": [
       "0.625"
      ]
     },
     "execution_count": 1,
     "metadata": {},
     "output_type": "execute_result"
    }
   ],
   "source": [
    "m=/(20,32)"
   ]
  },
  {
   "cell_type": "code",
   "execution_count": 2,
   "id": "f5025a32",
   "metadata": {},
   "outputs": [
    {
     "data": {
      "text/plain": [
       "3136.5661053440494"
      ]
     },
     "execution_count": 2,
     "metadata": {},
     "output_type": "execute_result"
    }
   ],
   "source": [
    "k=*(16,62.4,pi)"
   ]
  },
  {
   "cell_type": "code",
   "execution_count": 3,
   "id": "7a514c86",
   "metadata": {},
   "outputs": [
    {
     "data": {
      "text/plain": [
       "15662.830526720247"
      ]
     },
     "execution_count": 3,
     "metadata": {},
     "output_type": "execute_result"
    }
   ],
   "source": [
    "a=+(-20,*(80,62.4,pi))"
   ]
  },
  {
   "cell_type": "code",
   "execution_count": 4,
   "id": "4ca057fb",
   "metadata": {},
   "outputs": [],
   "source": [
    "using Polynomials"
   ]
  },
  {
   "cell_type": "code",
   "execution_count": 7,
   "id": "cc519d0d",
   "metadata": {},
   "outputs": [
    {
     "data": {
      "text/html": [
       "3136.5661053440494 &#43; 0.625&#8729;x<sup>2</sup>"
      ],
      "text/latex": [
       "$3136.5661053440494 + 0.625\\cdot x^{2}$"
      ],
      "text/plain": [
       "Polynomial(3136.5661053440494 + 0.625*x^2)"
      ]
     },
     "execution_count": 7,
     "metadata": {},
     "output_type": "execute_result"
    }
   ],
   "source": [
    "p1=Polynomial([k,0,m])"
   ]
  },
  {
   "cell_type": "code",
   "execution_count": 8,
   "id": "dc491dd8",
   "metadata": {},
   "outputs": [
    {
     "data": {
      "text/plain": [
       "2-element Vector{ComplexF64}:\n",
       " -0.0 + 70.84141280741427im\n",
       "  0.0 - 70.84141280741427im"
      ]
     },
     "execution_count": 8,
     "metadata": {},
     "output_type": "execute_result"
    }
   ],
   "source": [
    "roots(p1)"
   ]
  },
  {
   "cell_type": "code",
   "execution_count": 18,
   "id": "8eb7c939",
   "metadata": {
    "jupyter": {
     "source_hidden": true
    }
   },
   "outputs": [
    {
     "data": {
      "text/plain": [
       "3000"
      ]
     },
     "execution_count": 18,
     "metadata": {},
     "output_type": "execute_result"
    }
   ],
   "source": [
    "vo=3000"
   ]
  },
  {
   "cell_type": "code",
   "execution_count": 1,
   "id": "799acfbf",
   "metadata": {},
   "outputs": [
    {
     "data": {
      "text/plain": [
       "2298.133329356934"
      ]
     },
     "execution_count": 1,
     "metadata": {},
     "output_type": "execute_result"
    }
   ],
   "source": [
    "vox=*(3000,cos(*(40,/(pi,180))))"
   ]
  },
  {
   "cell_type": "code",
   "execution_count": 2,
   "id": "72fde51d",
   "metadata": {},
   "outputs": [
    {
     "data": {
      "text/plain": [
       "1928.3628290596178"
      ]
     },
     "execution_count": 2,
     "metadata": {},
     "output_type": "execute_result"
    }
   ],
   "source": [
    "voy=*(3000,sin(*(40,/(pi,180))))"
   ]
  },
  {
   "cell_type": "code",
   "execution_count": 28,
   "id": "da7fe466",
   "metadata": {},
   "outputs": [
    {
     "data": {
      "text/plain": [
       "32"
      ]
     },
     "execution_count": 28,
     "metadata": {},
     "output_type": "execute_result"
    }
   ],
   "source": [
    "g=32"
   ]
  },
  {
   "cell_type": "code",
   "execution_count": 4,
   "id": "963b40dd",
   "metadata": {},
   "outputs": [
    {
     "data": {
      "text/plain": [
       "-0.0001"
      ]
     },
     "execution_count": 4,
     "metadata": {},
     "output_type": "execute_result"
    }
   ],
   "source": [
    "ar=-0.0001"
   ]
  },
  {
   "cell_type": "markdown",
   "id": "7cd2e653",
   "metadata": {},
   "source": [
    "The system is\n",
    "$$\n",
    "\\begin{align*}\n",
    "x_1'&=x_2\\\\\n",
    "x_2'&=ax_2^2\\\\\n",
    "x_3'&=x_4\\\\\n",
    "x_4'&=ax_4^2-g\\\\\n",
    "x_5'&=x_6\\\\\n",
    "x_6'&=-ax_6^2-g\n",
    "\\end{align*}\n",
    "$$\n",
    "where $a=-0.0001,x_1(t)=x(t),x_2(t)=x'(t),x_3(t)=y(t),x_4(t)=y'(t),x_5(t)=y(t),x_6(t)=y'(t),g=32$ with the domain of $x_3,x_4$ where the projectile ascends and the domain of $x_5,x_6$ where the projectile descends. Solve the system by separation of variables for\n",
    "$$\n",
    "\\begin{align*}\n",
    "x(t)&=-\\frac{1}{a}\\ln\\left\\vert{}at+C_2\\right\\vert+C_1\\\\\n",
    "x'(t)&=-\\frac{1}{at+C_2}\\\\\n",
    "y(t)&=\\frac{1}{a}\\ln\\left\\vert\\sec\\left((t+C_4)\\sqrt{-ag}\\right)\\right\\vert+C_3\\\\\n",
    "y'(t)&=-\\sqrt{-\\frac{g}{a}}\\tan\\left((t+C_4)\\sqrt{-ag}\\right)\n",
    "\\end{align*}\n",
    "$$\n",
    "This is the kind of system that you may want to tackle numerically (Runge-Kutta). I will use the numeric setup of my computer program (julia)."
   ]
  },
  {
   "cell_type": "code",
   "execution_count": 20,
   "id": "06c7ce9c",
   "metadata": {},
   "outputs": [],
   "source": [
    "using DifferentialEquations\n",
    "using Plots\n",
    "using ParameterizedFunctions"
   ]
  },
  {
   "cell_type": "code",
   "execution_count": 15,
   "id": "19a046fb",
   "metadata": {},
   "outputs": [
    {
     "data": {
      "image/svg+xml": [
       "<?xml version=\"1.0\" encoding=\"utf-8\"?>\n",
       "<svg xmlns=\"http://www.w3.org/2000/svg\" xmlns:xlink=\"http://www.w3.org/1999/xlink\" width=\"600\" height=\"400\" viewBox=\"0 0 2400 1600\">\n",
       "<defs>\n",
       "  <clipPath id=\"clip170\">\n",
       "    <rect x=\"0\" y=\"0\" width=\"2400\" height=\"1600\"/>\n",
       "  </clipPath>\n",
       "</defs>\n",
       "<path clip-path=\"url(#clip170)\" d=\"\n",
       "M0 1600 L2400 1600 L2400 0 L0 0  Z\n",
       "  \" fill=\"#ffffff\" fill-rule=\"evenodd\" fill-opacity=\"1\"/>\n",
       "<defs>\n",
       "  <clipPath id=\"clip171\">\n",
       "    <rect x=\"480\" y=\"0\" width=\"1681\" height=\"1600\"/>\n",
       "  </clipPath>\n",
       "</defs>\n",
       "<path clip-path=\"url(#clip170)\" d=\"\n",
       "M304.699 1423.18 L2352.76 1423.18 L2352.76 47.2441 L304.699 47.2441  Z\n",
       "  \" fill=\"#ffffff\" fill-rule=\"evenodd\" fill-opacity=\"1\"/>\n",
       "<defs>\n",
       "  <clipPath id=\"clip172\">\n",
       "    <rect x=\"304\" y=\"47\" width=\"2049\" height=\"1377\"/>\n",
       "  </clipPath>\n",
       "</defs>\n",
       "<polyline clip-path=\"url(#clip172)\" style=\"stroke:#000000; stroke-linecap:butt; stroke-linejoin:round; stroke-width:2; stroke-opacity:0.1; fill:none\" points=\"\n",
       "  304.699,1423.18 304.699,47.2441 \n",
       "  \"/>\n",
       "<polyline clip-path=\"url(#clip172)\" style=\"stroke:#000000; stroke-linecap:butt; stroke-linejoin:round; stroke-width:2; stroke-opacity:0.1; fill:none\" points=\"\n",
       "  816.713,1423.18 816.713,47.2441 \n",
       "  \"/>\n",
       "<polyline clip-path=\"url(#clip172)\" style=\"stroke:#000000; stroke-linecap:butt; stroke-linejoin:round; stroke-width:2; stroke-opacity:0.1; fill:none\" points=\"\n",
       "  1328.73,1423.18 1328.73,47.2441 \n",
       "  \"/>\n",
       "<polyline clip-path=\"url(#clip172)\" style=\"stroke:#000000; stroke-linecap:butt; stroke-linejoin:round; stroke-width:2; stroke-opacity:0.1; fill:none\" points=\"\n",
       "  1840.74,1423.18 1840.74,47.2441 \n",
       "  \"/>\n",
       "<polyline clip-path=\"url(#clip172)\" style=\"stroke:#000000; stroke-linecap:butt; stroke-linejoin:round; stroke-width:2; stroke-opacity:0.1; fill:none\" points=\"\n",
       "  2352.76,1423.18 2352.76,47.2441 \n",
       "  \"/>\n",
       "<polyline clip-path=\"url(#clip170)\" style=\"stroke:#000000; stroke-linecap:butt; stroke-linejoin:round; stroke-width:4; stroke-opacity:1; fill:none\" points=\"\n",
       "  304.699,1423.18 2352.76,1423.18 \n",
       "  \"/>\n",
       "<polyline clip-path=\"url(#clip170)\" style=\"stroke:#000000; stroke-linecap:butt; stroke-linejoin:round; stroke-width:4; stroke-opacity:1; fill:none\" points=\"\n",
       "  304.699,1423.18 304.699,1404.28 \n",
       "  \"/>\n",
       "<polyline clip-path=\"url(#clip170)\" style=\"stroke:#000000; stroke-linecap:butt; stroke-linejoin:round; stroke-width:4; stroke-opacity:1; fill:none\" points=\"\n",
       "  816.713,1423.18 816.713,1404.28 \n",
       "  \"/>\n",
       "<polyline clip-path=\"url(#clip170)\" style=\"stroke:#000000; stroke-linecap:butt; stroke-linejoin:round; stroke-width:4; stroke-opacity:1; fill:none\" points=\"\n",
       "  1328.73,1423.18 1328.73,1404.28 \n",
       "  \"/>\n",
       "<polyline clip-path=\"url(#clip170)\" style=\"stroke:#000000; stroke-linecap:butt; stroke-linejoin:round; stroke-width:4; stroke-opacity:1; fill:none\" points=\"\n",
       "  1840.74,1423.18 1840.74,1404.28 \n",
       "  \"/>\n",
       "<polyline clip-path=\"url(#clip170)\" style=\"stroke:#000000; stroke-linecap:butt; stroke-linejoin:round; stroke-width:4; stroke-opacity:1; fill:none\" points=\"\n",
       "  2352.76,1423.18 2352.76,1404.28 \n",
       "  \"/>\n",
       "<path clip-path=\"url(#clip170)\" d=\"M304.699 1454.1 Q301.088 1454.1 299.26 1457.66 Q297.454 1461.2 297.454 1468.33 Q297.454 1475.44 299.26 1479.01 Q301.088 1482.55 304.699 1482.55 Q308.334 1482.55 310.139 1479.01 Q311.968 1475.44 311.968 1468.33 Q311.968 1461.2 310.139 1457.66 Q308.334 1454.1 304.699 1454.1 M304.699 1450.39 Q310.509 1450.39 313.565 1455 Q316.644 1459.58 316.644 1468.33 Q316.644 1477.06 313.565 1481.67 Q310.509 1486.25 304.699 1486.25 Q298.889 1486.25 295.81 1481.67 Q292.755 1477.06 292.755 1468.33 Q292.755 1459.58 295.81 1455 Q298.889 1450.39 304.699 1450.39 Z\" fill=\"#000000\" fill-rule=\"evenodd\" fill-opacity=\"1\" /><path clip-path=\"url(#clip170)\" d=\"M806.991 1451.02 L825.348 1451.02 L825.348 1454.96 L811.274 1454.96 L811.274 1463.43 Q812.292 1463.08 813.311 1462.92 Q814.329 1462.73 815.348 1462.73 Q821.135 1462.73 824.514 1465.9 Q827.894 1469.08 827.894 1474.49 Q827.894 1480.07 824.422 1483.17 Q820.95 1486.25 814.63 1486.25 Q812.454 1486.25 810.186 1485.88 Q807.94 1485.51 805.533 1484.77 L805.533 1480.07 Q807.616 1481.2 809.838 1481.76 Q812.061 1482.32 814.538 1482.32 Q818.542 1482.32 820.88 1480.21 Q823.218 1478.1 823.218 1474.49 Q823.218 1470.88 820.88 1468.77 Q818.542 1466.67 814.538 1466.67 Q812.663 1466.67 810.788 1467.08 Q808.936 1467.5 806.991 1468.38 L806.991 1451.02 Z\" fill=\"#000000\" fill-rule=\"evenodd\" fill-opacity=\"1\" /><path clip-path=\"url(#clip170)\" d=\"M1303.42 1481.64 L1311.05 1481.64 L1311.05 1455.28 L1302.74 1456.95 L1302.74 1452.69 L1311.01 1451.02 L1315.68 1451.02 L1315.68 1481.64 L1323.32 1481.64 L1323.32 1485.58 L1303.42 1485.58 L1303.42 1481.64 Z\" fill=\"#000000\" fill-rule=\"evenodd\" fill-opacity=\"1\" /><path clip-path=\"url(#clip170)\" d=\"M1342.77 1454.1 Q1339.16 1454.1 1337.33 1457.66 Q1335.52 1461.2 1335.52 1468.33 Q1335.52 1475.44 1337.33 1479.01 Q1339.16 1482.55 1342.77 1482.55 Q1346.4 1482.55 1348.21 1479.01 Q1350.04 1475.44 1350.04 1468.33 Q1350.04 1461.2 1348.21 1457.66 Q1346.4 1454.1 1342.77 1454.1 M1342.77 1450.39 Q1348.58 1450.39 1351.63 1455 Q1354.71 1459.58 1354.71 1468.33 Q1354.71 1477.06 1351.63 1481.67 Q1348.58 1486.25 1342.77 1486.25 Q1336.96 1486.25 1333.88 1481.67 Q1330.82 1477.06 1330.82 1468.33 Q1330.82 1459.58 1333.88 1455 Q1336.96 1450.39 1342.77 1450.39 Z\" fill=\"#000000\" fill-rule=\"evenodd\" fill-opacity=\"1\" /><path clip-path=\"url(#clip170)\" d=\"M1815.93 1481.64 L1823.57 1481.64 L1823.57 1455.28 L1815.26 1456.95 L1815.26 1452.69 L1823.52 1451.02 L1828.2 1451.02 L1828.2 1481.64 L1835.83 1481.64 L1835.83 1485.58 L1815.93 1485.58 L1815.93 1481.64 Z\" fill=\"#000000\" fill-rule=\"evenodd\" fill-opacity=\"1\" /><path clip-path=\"url(#clip170)\" d=\"M1845.33 1451.02 L1863.68 1451.02 L1863.68 1454.96 L1849.61 1454.96 L1849.61 1463.43 Q1850.63 1463.08 1851.64 1462.92 Q1852.66 1462.73 1853.68 1462.73 Q1859.47 1462.73 1862.85 1465.9 Q1866.23 1469.08 1866.23 1474.49 Q1866.23 1480.07 1862.76 1483.17 Q1859.28 1486.25 1852.96 1486.25 Q1850.79 1486.25 1848.52 1485.88 Q1846.27 1485.51 1843.87 1484.77 L1843.87 1480.07 Q1845.95 1481.2 1848.17 1481.76 Q1850.39 1482.32 1852.87 1482.32 Q1856.88 1482.32 1859.21 1480.21 Q1861.55 1478.1 1861.55 1474.49 Q1861.55 1470.88 1859.21 1468.77 Q1856.88 1466.67 1852.87 1466.67 Q1851 1466.67 1849.12 1467.08 Q1847.27 1467.5 1845.33 1468.38 L1845.33 1451.02 Z\" fill=\"#000000\" fill-rule=\"evenodd\" fill-opacity=\"1\" /><path clip-path=\"url(#clip170)\" d=\"M2331.53 1481.64 L2347.85 1481.64 L2347.85 1485.58 L2325.9 1485.58 L2325.9 1481.64 Q2328.57 1478.89 2333.15 1474.26 Q2337.76 1469.61 2338.94 1468.27 Q2341.18 1465.74 2342.06 1464.01 Q2342.96 1462.25 2342.96 1460.56 Q2342.96 1457.8 2341.02 1456.07 Q2339.1 1454.33 2336 1454.33 Q2333.8 1454.33 2331.34 1455.09 Q2328.91 1455.86 2326.14 1457.41 L2326.14 1452.69 Q2328.96 1451.55 2331.41 1450.97 Q2333.87 1450.39 2335.9 1450.39 Q2341.27 1450.39 2344.47 1453.08 Q2347.66 1455.77 2347.66 1460.26 Q2347.66 1462.39 2346.85 1464.31 Q2346.07 1466.2 2343.96 1468.8 Q2343.38 1469.47 2340.28 1472.69 Q2337.18 1475.88 2331.53 1481.64 Z\" fill=\"#000000\" fill-rule=\"evenodd\" fill-opacity=\"1\" /><path clip-path=\"url(#clip170)\" d=\"M2367.66 1454.1 Q2364.05 1454.1 2362.22 1457.66 Q2360.42 1461.2 2360.42 1468.33 Q2360.42 1475.44 2362.22 1479.01 Q2364.05 1482.55 2367.66 1482.55 Q2371.3 1482.55 2373.1 1479.01 Q2374.93 1475.44 2374.93 1468.33 Q2374.93 1461.2 2373.1 1457.66 Q2371.3 1454.1 2367.66 1454.1 M2367.66 1450.39 Q2373.47 1450.39 2376.53 1455 Q2379.61 1459.58 2379.61 1468.33 Q2379.61 1477.06 2376.53 1481.67 Q2373.47 1486.25 2367.66 1486.25 Q2361.85 1486.25 2358.77 1481.67 Q2355.72 1477.06 2355.72 1468.33 Q2355.72 1459.58 2358.77 1455 Q2361.85 1450.39 2367.66 1450.39 Z\" fill=\"#000000\" fill-rule=\"evenodd\" fill-opacity=\"1\" /><path clip-path=\"url(#clip170)\" d=\"M1327.79 1522.27 L1327.79 1532.4 L1339.85 1532.4 L1339.85 1536.95 L1327.79 1536.95 L1327.79 1556.3 Q1327.79 1560.66 1328.97 1561.9 Q1330.18 1563.14 1333.84 1563.14 L1339.85 1563.14 L1339.85 1568.04 L1333.84 1568.04 Q1327.06 1568.04 1324.48 1565.53 Q1321.9 1562.98 1321.9 1556.3 L1321.9 1536.95 L1317.6 1536.95 L1317.6 1532.4 L1321.9 1532.4 L1321.9 1522.27 L1327.79 1522.27 Z\" fill=\"#000000\" fill-rule=\"evenodd\" fill-opacity=\"1\" /><polyline clip-path=\"url(#clip172)\" style=\"stroke:#000000; stroke-linecap:butt; stroke-linejoin:round; stroke-width:2; stroke-opacity:0.1; fill:none\" points=\"\n",
       "  304.699,1384.24 2352.76,1384.24 \n",
       "  \"/>\n",
       "<polyline clip-path=\"url(#clip172)\" style=\"stroke:#000000; stroke-linecap:butt; stroke-linejoin:round; stroke-width:2; stroke-opacity:0.1; fill:none\" points=\"\n",
       "  304.699,1007.36 2352.76,1007.36 \n",
       "  \"/>\n",
       "<polyline clip-path=\"url(#clip172)\" style=\"stroke:#000000; stroke-linecap:butt; stroke-linejoin:round; stroke-width:2; stroke-opacity:0.1; fill:none\" points=\"\n",
       "  304.699,630.48 2352.76,630.48 \n",
       "  \"/>\n",
       "<polyline clip-path=\"url(#clip172)\" style=\"stroke:#000000; stroke-linecap:butt; stroke-linejoin:round; stroke-width:2; stroke-opacity:0.1; fill:none\" points=\"\n",
       "  304.699,253.6 2352.76,253.6 \n",
       "  \"/>\n",
       "<polyline clip-path=\"url(#clip170)\" style=\"stroke:#000000; stroke-linecap:butt; stroke-linejoin:round; stroke-width:4; stroke-opacity:1; fill:none\" points=\"\n",
       "  304.699,1423.18 304.699,47.2441 \n",
       "  \"/>\n",
       "<polyline clip-path=\"url(#clip170)\" style=\"stroke:#000000; stroke-linecap:butt; stroke-linejoin:round; stroke-width:4; stroke-opacity:1; fill:none\" points=\"\n",
       "  304.699,1384.24 323.597,1384.24 \n",
       "  \"/>\n",
       "<polyline clip-path=\"url(#clip170)\" style=\"stroke:#000000; stroke-linecap:butt; stroke-linejoin:round; stroke-width:4; stroke-opacity:1; fill:none\" points=\"\n",
       "  304.699,1007.36 323.597,1007.36 \n",
       "  \"/>\n",
       "<polyline clip-path=\"url(#clip170)\" style=\"stroke:#000000; stroke-linecap:butt; stroke-linejoin:round; stroke-width:4; stroke-opacity:1; fill:none\" points=\"\n",
       "  304.699,630.48 323.597,630.48 \n",
       "  \"/>\n",
       "<polyline clip-path=\"url(#clip170)\" style=\"stroke:#000000; stroke-linecap:butt; stroke-linejoin:round; stroke-width:4; stroke-opacity:1; fill:none\" points=\"\n",
       "  304.699,253.6 323.597,253.6 \n",
       "  \"/>\n",
       "<path clip-path=\"url(#clip170)\" d=\"M256.755 1370.04 Q253.144 1370.04 251.315 1373.6 Q249.51 1377.14 249.51 1384.27 Q249.51 1391.38 251.315 1394.94 Q253.144 1398.49 256.755 1398.49 Q260.389 1398.49 262.195 1394.94 Q264.023 1391.38 264.023 1384.27 Q264.023 1377.14 262.195 1373.6 Q260.389 1370.04 256.755 1370.04 M256.755 1366.33 Q262.565 1366.33 265.621 1370.94 Q268.699 1375.52 268.699 1384.27 Q268.699 1393 265.621 1397.61 Q262.565 1402.19 256.755 1402.19 Q250.945 1402.19 247.866 1397.61 Q244.811 1393 244.811 1384.27 Q244.811 1375.52 247.866 1370.94 Q250.945 1366.33 256.755 1366.33 Z\" fill=\"#000000\" fill-rule=\"evenodd\" fill-opacity=\"1\" /><path clip-path=\"url(#clip170)\" d=\"M52.8743 996.527 L71.2307 996.527 L71.2307 1000.46 L57.1567 1000.46 L57.1567 1008.93 Q58.1752 1008.59 59.1938 1008.42 Q60.2123 1008.24 61.2308 1008.24 Q67.0178 1008.24 70.3974 1011.41 Q73.777 1014.58 73.777 1020 Q73.777 1025.58 70.3048 1028.68 Q66.8326 1031.76 60.5132 1031.76 Q58.3373 1031.76 56.0688 1031.39 Q53.8234 1031.02 51.416 1030.28 L51.416 1025.58 Q53.4993 1026.71 55.7216 1027.27 Q57.9438 1027.82 60.4206 1027.82 Q64.4252 1027.82 66.7632 1025.72 Q69.1011 1023.61 69.1011 1020 Q69.1011 1016.39 66.7632 1014.28 Q64.4252 1012.17 60.4206 1012.17 Q58.5456 1012.17 56.6706 1012.59 Q54.8188 1013.01 52.8743 1013.89 L52.8743 996.527 Z\" fill=\"#000000\" fill-rule=\"evenodd\" fill-opacity=\"1\" /><path clip-path=\"url(#clip170)\" d=\"M82.9899 1025.21 L87.8742 1025.21 L87.8742 1031.09 L82.9899 1031.09 L82.9899 1025.21 Z\" fill=\"#000000\" fill-rule=\"evenodd\" fill-opacity=\"1\" /><path clip-path=\"url(#clip170)\" d=\"M108.059 999.605 Q104.448 999.605 102.619 1003.17 Q100.814 1006.71 100.814 1013.84 Q100.814 1020.95 102.619 1024.51 Q104.448 1028.05 108.059 1028.05 Q111.693 1028.05 113.499 1024.51 Q115.328 1020.95 115.328 1013.84 Q115.328 1006.71 113.499 1003.17 Q111.693 999.605 108.059 999.605 M108.059 995.902 Q113.869 995.902 116.925 1000.51 Q120.004 1005.09 120.004 1013.84 Q120.004 1022.57 116.925 1027.17 Q113.869 1031.76 108.059 1031.76 Q102.249 1031.76 99.1704 1027.17 Q96.1149 1022.57 96.1149 1013.84 Q96.1149 1005.09 99.1704 1000.51 Q102.249 995.902 108.059 995.902 Z\" fill=\"#000000\" fill-rule=\"evenodd\" fill-opacity=\"1\" /><path clip-path=\"url(#clip170)\" d=\"M138.221 999.605 Q134.61 999.605 132.781 1003.17 Q130.976 1006.71 130.976 1013.84 Q130.976 1020.95 132.781 1024.51 Q134.61 1028.05 138.221 1028.05 Q141.855 1028.05 143.661 1024.51 Q145.49 1020.95 145.49 1013.84 Q145.49 1006.71 143.661 1003.17 Q141.855 999.605 138.221 999.605 M138.221 995.902 Q144.031 995.902 147.087 1000.51 Q150.165 1005.09 150.165 1013.84 Q150.165 1022.57 147.087 1027.17 Q144.031 1031.76 138.221 1031.76 Q132.411 1031.76 129.332 1027.17 Q126.277 1022.57 126.277 1013.84 Q126.277 1005.09 129.332 1000.51 Q132.411 995.902 138.221 995.902 Z\" fill=\"#000000\" fill-rule=\"evenodd\" fill-opacity=\"1\" /><path clip-path=\"url(#clip170)\" d=\"M186.554 1005.62 L175.976 1016.25 L186.554 1026.83 L183.8 1029.63 L173.175 1019 L162.55 1029.63 L159.818 1026.83 L170.374 1016.25 L159.818 1005.62 L162.55 1002.82 L173.175 1013.45 L183.8 1002.82 L186.554 1005.62 Z\" fill=\"#000000\" fill-rule=\"evenodd\" fill-opacity=\"1\" /><path clip-path=\"url(#clip170)\" d=\"M198.915 1027.15 L206.554 1027.15 L206.554 1000.79 L198.244 1002.45 L198.244 998.193 L206.508 996.527 L211.184 996.527 L211.184 1027.15 L218.823 1027.15 L218.823 1031.09 L198.915 1031.09 L198.915 1027.15 Z\" fill=\"#000000\" fill-rule=\"evenodd\" fill-opacity=\"1\" /><path clip-path=\"url(#clip170)\" d=\"M238.267 999.605 Q234.656 999.605 232.827 1003.17 Q231.022 1006.71 231.022 1013.84 Q231.022 1020.95 232.827 1024.51 Q234.656 1028.05 238.267 1028.05 Q241.901 1028.05 243.707 1024.51 Q245.535 1020.95 245.535 1013.84 Q245.535 1006.71 243.707 1003.17 Q241.901 999.605 238.267 999.605 M238.267 995.902 Q244.077 995.902 247.133 1000.51 Q250.211 1005.09 250.211 1013.84 Q250.211 1022.57 247.133 1027.17 Q244.077 1031.76 238.267 1031.76 Q232.457 1031.76 229.378 1027.17 Q226.322 1022.57 226.322 1013.84 Q226.322 1005.09 229.378 1000.51 Q232.457 995.902 238.267 995.902 Z\" fill=\"#000000\" fill-rule=\"evenodd\" fill-opacity=\"1\" /><path clip-path=\"url(#clip170)\" d=\"M262.906 988.536 Q265.634 989.119 267.157 990.962 Q268.699 992.805 268.699 995.514 Q268.699 999.67 265.841 1001.95 Q262.982 1004.22 257.716 1004.22 Q255.948 1004.22 254.067 1003.86 Q252.205 1003.53 250.211 1002.83 L250.211 999.162 Q251.791 1000.08 253.672 1000.55 Q255.553 1001.02 257.603 1001.02 Q261.176 1001.02 263.038 999.614 Q264.919 998.203 264.919 995.514 Q264.919 993.031 263.17 991.639 Q261.439 990.229 258.336 990.229 L255.064 990.229 L255.064 987.106 L258.487 987.106 Q261.289 987.106 262.775 985.997 Q264.261 984.868 264.261 982.762 Q264.261 980.599 262.718 979.452 Q261.195 978.286 258.336 978.286 Q256.775 978.286 254.988 978.624 Q253.202 978.963 251.058 979.677 L251.058 976.292 Q253.22 975.69 255.101 975.389 Q257.001 975.088 258.675 975.088 Q263.001 975.088 265.521 977.063 Q268.041 979.019 268.041 982.367 Q268.041 984.699 266.706 986.317 Q265.37 987.915 262.906 988.536 Z\" fill=\"#000000\" fill-rule=\"evenodd\" fill-opacity=\"1\" /><path clip-path=\"url(#clip170)\" d=\"M51.6634 650.272 L59.3023 650.272 L59.3023 623.906 L50.9921 625.573 L50.9921 621.314 L59.256 619.647 L63.9319 619.647 L63.9319 650.272 L71.5707 650.272 L71.5707 654.207 L51.6634 654.207 L51.6634 650.272 Z\" fill=\"#000000\" fill-rule=\"evenodd\" fill-opacity=\"1\" /><path clip-path=\"url(#clip170)\" d=\"M81.0151 648.328 L85.8993 648.328 L85.8993 654.207 L81.0151 654.207 L81.0151 648.328 Z\" fill=\"#000000\" fill-rule=\"evenodd\" fill-opacity=\"1\" /><path clip-path=\"url(#clip170)\" d=\"M106.084 622.726 Q102.473 622.726 100.645 626.291 Q98.8391 629.832 98.8391 636.962 Q98.8391 644.068 100.645 647.633 Q102.473 651.175 106.084 651.175 Q109.719 651.175 111.524 647.633 Q113.353 644.068 113.353 636.962 Q113.353 629.832 111.524 626.291 Q109.719 622.726 106.084 622.726 M106.084 619.022 Q111.895 619.022 114.95 623.629 Q118.029 628.212 118.029 636.962 Q118.029 645.689 114.95 650.295 Q111.895 654.878 106.084 654.878 Q100.274 654.878 97.1956 650.295 Q94.14 645.689 94.14 636.962 Q94.14 628.212 97.1956 623.629 Q100.274 619.022 106.084 619.022 Z\" fill=\"#000000\" fill-rule=\"evenodd\" fill-opacity=\"1\" /><path clip-path=\"url(#clip170)\" d=\"M136.246 622.726 Q132.635 622.726 130.807 626.291 Q129.001 629.832 129.001 636.962 Q129.001 644.068 130.807 647.633 Q132.635 651.175 136.246 651.175 Q139.881 651.175 141.686 647.633 Q143.515 644.068 143.515 636.962 Q143.515 629.832 141.686 626.291 Q139.881 622.726 136.246 622.726 M136.246 619.022 Q142.056 619.022 145.112 623.629 Q148.191 628.212 148.191 636.962 Q148.191 645.689 145.112 650.295 Q142.056 654.878 136.246 654.878 Q130.436 654.878 127.357 650.295 Q124.302 645.689 124.302 636.962 Q124.302 628.212 127.357 623.629 Q130.436 619.022 136.246 619.022 Z\" fill=\"#000000\" fill-rule=\"evenodd\" fill-opacity=\"1\" /><path clip-path=\"url(#clip170)\" d=\"M184.579 628.744 L174.001 639.369 L184.579 649.948 L181.825 652.749 L171.2 642.124 L160.575 652.749 L157.843 649.948 L168.399 639.369 L157.843 628.744 L160.575 625.943 L171.2 636.568 L181.825 625.943 L184.579 628.744 Z\" fill=\"#000000\" fill-rule=\"evenodd\" fill-opacity=\"1\" /><path clip-path=\"url(#clip170)\" d=\"M196.94 650.272 L204.579 650.272 L204.579 623.906 L196.269 625.573 L196.269 621.314 L204.533 619.647 L209.209 619.647 L209.209 650.272 L216.848 650.272 L216.848 654.207 L196.94 654.207 L196.94 650.272 Z\" fill=\"#000000\" fill-rule=\"evenodd\" fill-opacity=\"1\" /><path clip-path=\"url(#clip170)\" d=\"M236.292 622.726 Q232.681 622.726 230.852 626.291 Q229.047 629.832 229.047 636.962 Q229.047 644.068 230.852 647.633 Q232.681 651.175 236.292 651.175 Q239.926 651.175 241.732 647.633 Q243.561 644.068 243.561 636.962 Q243.561 629.832 241.732 626.291 Q239.926 622.726 236.292 622.726 M236.292 619.022 Q242.102 619.022 245.158 623.629 Q248.236 628.212 248.236 636.962 Q248.236 645.689 245.158 650.295 Q242.102 654.878 236.292 654.878 Q230.482 654.878 227.403 650.295 Q224.348 645.689 224.348 636.962 Q224.348 628.212 227.403 623.629 Q230.482 619.022 236.292 619.022 Z\" fill=\"#000000\" fill-rule=\"evenodd\" fill-opacity=\"1\" /><path clip-path=\"url(#clip170)\" d=\"M260.913 602.027 L251.321 617.017 L260.913 617.017 L260.913 602.027 M259.916 598.717 L264.693 598.717 L264.693 617.017 L268.699 617.017 L268.699 620.176 L264.693 620.176 L264.693 626.797 L260.913 626.797 L260.913 620.176 L248.236 620.176 L248.236 616.509 L259.916 598.717 Z\" fill=\"#000000\" fill-rule=\"evenodd\" fill-opacity=\"1\" /><path clip-path=\"url(#clip170)\" d=\"M51.6634 273.393 L59.3023 273.393 L59.3023 247.027 L50.9921 248.694 L50.9921 244.434 L59.256 242.768 L63.9319 242.768 L63.9319 273.393 L71.5707 273.393 L71.5707 277.328 L51.6634 277.328 L51.6634 273.393 Z\" fill=\"#000000\" fill-rule=\"evenodd\" fill-opacity=\"1\" /><path clip-path=\"url(#clip170)\" d=\"M81.0151 271.448 L85.8993 271.448 L85.8993 277.328 L81.0151 277.328 L81.0151 271.448 Z\" fill=\"#000000\" fill-rule=\"evenodd\" fill-opacity=\"1\" /><path clip-path=\"url(#clip170)\" d=\"M96.1308 242.768 L114.487 242.768 L114.487 246.703 L100.413 246.703 L100.413 255.175 Q101.432 254.828 102.45 254.666 Q103.469 254.481 104.487 254.481 Q110.274 254.481 113.654 257.652 Q117.033 260.823 117.033 266.24 Q117.033 271.819 113.561 274.92 Q110.089 277.999 103.77 277.999 Q101.594 277.999 99.3252 277.629 Q97.0798 277.258 94.6724 276.518 L94.6724 271.819 Q96.7558 272.953 98.978 273.508 Q101.2 274.064 103.677 274.064 Q107.682 274.064 110.02 271.957 Q112.358 269.851 112.358 266.24 Q112.358 262.629 110.02 260.522 Q107.682 258.416 103.677 258.416 Q101.802 258.416 99.927 258.833 Q98.0752 259.249 96.1308 260.129 L96.1308 242.768 Z\" fill=\"#000000\" fill-rule=\"evenodd\" fill-opacity=\"1\" /><path clip-path=\"url(#clip170)\" d=\"M136.246 245.847 Q132.635 245.847 130.807 249.411 Q129.001 252.953 129.001 260.083 Q129.001 267.189 130.807 270.754 Q132.635 274.295 136.246 274.295 Q139.881 274.295 141.686 270.754 Q143.515 267.189 143.515 260.083 Q143.515 252.953 141.686 249.411 Q139.881 245.847 136.246 245.847 M136.246 242.143 Q142.056 242.143 145.112 246.749 Q148.191 251.333 148.191 260.083 Q148.191 268.809 145.112 273.416 Q142.056 277.999 136.246 277.999 Q130.436 277.999 127.357 273.416 Q124.302 268.809 124.302 260.083 Q124.302 251.333 127.357 246.749 Q130.436 242.143 136.246 242.143 Z\" fill=\"#000000\" fill-rule=\"evenodd\" fill-opacity=\"1\" /><path clip-path=\"url(#clip170)\" d=\"M184.579 251.865 L174.001 262.49 L184.579 273.069 L181.825 275.87 L171.2 265.245 L160.575 275.87 L157.843 273.069 L168.399 262.49 L157.843 251.865 L160.575 249.064 L171.2 259.689 L181.825 249.064 L184.579 251.865 Z\" fill=\"#000000\" fill-rule=\"evenodd\" fill-opacity=\"1\" /><path clip-path=\"url(#clip170)\" d=\"M196.94 273.393 L204.579 273.393 L204.579 247.027 L196.269 248.694 L196.269 244.434 L204.533 242.768 L209.209 242.768 L209.209 273.393 L216.848 273.393 L216.848 277.328 L196.94 277.328 L196.94 273.393 Z\" fill=\"#000000\" fill-rule=\"evenodd\" fill-opacity=\"1\" /><path clip-path=\"url(#clip170)\" d=\"M236.292 245.847 Q232.681 245.847 230.852 249.411 Q229.047 252.953 229.047 260.083 Q229.047 267.189 230.852 270.754 Q232.681 274.295 236.292 274.295 Q239.926 274.295 241.732 270.754 Q243.561 267.189 243.561 260.083 Q243.561 252.953 241.732 249.411 Q239.926 245.847 236.292 245.847 M236.292 242.143 Q242.102 242.143 245.158 246.749 Q248.236 251.333 248.236 260.083 Q248.236 268.809 245.158 273.416 Q242.102 277.999 236.292 277.999 Q230.482 277.999 227.403 273.416 Q224.348 268.809 224.348 260.083 Q224.348 251.333 227.403 246.749 Q230.482 242.143 236.292 242.143 Z\" fill=\"#000000\" fill-rule=\"evenodd\" fill-opacity=\"1\" /><path clip-path=\"url(#clip170)\" d=\"M260.913 225.148 L251.321 240.137 L260.913 240.137 L260.913 225.148 M259.916 221.837 L264.693 221.837 L264.693 240.137 L268.699 240.137 L268.699 243.297 L264.693 243.297 L264.693 249.917 L260.913 249.917 L260.913 243.297 L248.236 243.297 L248.236 239.63 L259.916 221.837 Z\" fill=\"#000000\" fill-rule=\"evenodd\" fill-opacity=\"1\" /><polyline clip-path=\"url(#clip172)\" style=\"stroke:#009af9; stroke-linecap:butt; stroke-linejoin:round; stroke-width:8; stroke-opacity:1; fill:none\" points=\"\n",
       "  304.699,1384.24 314.94,1367.11 325.18,1350.37 335.42,1333.98 345.66,1317.95 355.901,1302.25 366.141,1286.87 376.381,1271.8 386.622,1257.02 396.862,1242.53 \n",
       "  407.102,1228.31 417.342,1214.36 427.583,1200.66 437.823,1187.2 448.063,1173.98 458.304,1160.99 468.544,1148.21 478.784,1135.65 489.024,1123.3 499.265,1111.14 \n",
       "  509.505,1099.18 519.745,1087.41 529.986,1075.81 540.226,1064.39 550.466,1053.15 560.706,1042.06 570.947,1031.14 581.187,1020.37 591.427,1009.76 601.668,999.293 \n",
       "  611.908,988.969 622.148,978.785 632.388,968.737 642.629,958.821 652.869,949.033 663.109,939.371 673.349,929.831 683.59,920.411 693.83,911.106 704.07,901.915 \n",
       "  714.311,892.835 724.551,883.863 734.791,874.997 745.031,866.234 755.272,857.571 765.512,849.007 775.752,840.539 785.993,832.165 796.233,823.883 806.473,815.691 \n",
       "  816.713,807.587 826.954,799.57 837.194,791.636 847.434,783.786 857.675,776.016 867.915,768.325 878.155,760.712 888.395,753.176 898.636,745.714 908.876,738.325 \n",
       "  919.116,731.008 929.357,723.761 939.597,716.584 949.837,709.474 960.077,702.43 970.318,695.452 980.558,688.537 990.798,681.686 1001.04,674.896 1011.28,668.167 \n",
       "  1021.52,661.497 1031.76,654.886 1042,648.332 1052.24,641.835 1062.48,635.393 1072.72,629.006 1082.96,622.672 1093.2,616.391 1103.44,610.162 1113.68,603.985 \n",
       "  1123.92,597.857 1134.16,591.779 1144.4,585.749 1154.64,579.768 1164.88,573.833 1175.12,567.945 1185.36,562.103 1195.6,556.306 1205.84,550.552 1216.08,544.843 \n",
       "  1226.32,539.176 1236.57,533.552 1246.81,527.969 1257.05,522.427 1267.29,516.926 1277.53,511.464 1287.77,506.042 1298.01,500.658 1308.25,495.313 1318.49,490.005 \n",
       "  1328.73,484.734 1338.97,479.5 1349.21,474.302 1359.45,469.14 1369.69,464.012 1379.93,458.92 1390.17,453.861 1400.41,448.837 1410.65,443.845 1420.89,438.886 \n",
       "  1431.13,433.96 1441.37,429.066 1451.61,424.204 1461.85,419.372 1472.09,414.572 1482.33,409.801 1492.57,405.061 1502.81,400.351 1513.05,395.67 1523.29,391.017 \n",
       "  1533.53,386.393 1543.77,381.798 1554.01,377.23 1564.25,372.69 1574.49,368.176 1584.73,363.69 1594.97,359.23 1605.22,354.797 1615.46,350.389 1625.7,346.007 \n",
       "  1635.94,341.65 1646.18,337.319 1656.42,333.012 1666.66,328.729 1676.9,324.471 1687.14,320.236 1697.38,316.026 1707.62,311.838 1717.86,307.674 1728.1,303.533 \n",
       "  1738.34,299.414 1748.58,295.318 1758.82,291.243 1769.06,287.191 1779.3,283.161 1789.54,279.151 1799.78,275.163 1810.02,271.196 1820.26,267.25 1830.5,263.325 \n",
       "  1840.74,259.419 1850.98,255.534 1861.22,251.669 1871.46,247.824 1881.7,243.998 1891.94,240.191 1902.18,236.404 1912.42,232.635 1922.66,228.886 1932.9,225.155 \n",
       "  1943.14,221.442 1953.38,217.747 1963.63,214.071 1973.87,210.412 1984.11,206.771 1994.35,203.147 2004.59,199.541 2014.83,195.952 2025.07,192.38 2035.31,188.824 \n",
       "  2045.55,185.286 2055.79,181.764 2066.03,178.258 2076.27,174.768 2086.51,171.295 2096.75,167.838 2106.99,164.396 2117.23,160.97 2127.47,157.559 2137.71,154.164 \n",
       "  2147.95,150.784 2158.19,147.419 2168.43,144.069 2178.67,140.734 2188.91,137.414 2199.15,134.108 2209.39,130.817 2219.63,127.54 2229.87,124.277 2240.11,121.028 \n",
       "  2250.35,117.793 2260.59,114.572 2270.83,111.365 2281.07,108.171 2291.31,104.991 2301.55,101.824 2311.79,98.67 2322.04,95.5295 2332.28,92.402 2342.52,89.2874 \n",
       "  2352.76,86.1857 \n",
       "  \"/>\n",
       "<polyline clip-path=\"url(#clip172)\" style=\"stroke:#e26f46; stroke-linecap:butt; stroke-linejoin:round; stroke-width:8; stroke-opacity:1; fill:none\" points=\"\n",
       "  304.699,1211.01 314.94,1214.91 325.18,1218.63 335.42,1222.19 345.66,1225.6 355.901,1228.87 366.141,1232.01 376.381,1235.02 386.622,1237.92 396.862,1240.7 \n",
       "  407.102,1243.38 417.342,1245.97 427.583,1248.46 437.823,1250.86 448.063,1253.18 458.304,1255.42 468.544,1257.59 478.784,1259.68 489.024,1261.7 499.265,1263.66 \n",
       "  509.505,1265.56 519.745,1267.4 529.986,1269.18 540.226,1270.91 550.466,1272.59 560.706,1274.22 570.947,1275.81 581.187,1277.34 591.427,1278.84 601.668,1280.29 \n",
       "  611.908,1281.7 622.148,1283.08 632.388,1284.42 642.629,1285.73 652.869,1287 663.109,1288.23 673.349,1289.44 683.59,1290.62 693.83,1291.77 704.07,1292.89 \n",
       "  714.311,1293.98 724.551,1295.05 734.791,1296.09 745.031,1297.11 755.272,1298.11 765.512,1299.08 775.752,1300.03 785.993,1300.96 796.233,1301.87 806.473,1302.76 \n",
       "  816.713,1303.63 826.954,1304.49 837.194,1305.32 847.434,1306.14 857.675,1306.94 867.915,1307.73 878.155,1308.49 888.395,1309.25 898.636,1309.99 908.876,1310.71 \n",
       "  919.116,1311.42 929.357,1312.12 939.597,1312.8 949.837,1313.47 960.077,1314.13 970.318,1314.78 980.558,1315.41 990.798,1316.03 1001.04,1316.64 1011.28,1317.25 \n",
       "  1021.52,1317.84 1031.76,1318.42 1042,1318.99 1052.24,1319.55 1062.48,1320.1 1072.72,1320.64 1082.96,1321.17 1093.2,1321.69 1103.44,1322.21 1113.68,1322.71 \n",
       "  1123.92,1323.21 1134.16,1323.7 1144.4,1324.18 1154.64,1324.66 1164.88,1325.13 1175.12,1325.59 1185.36,1326.04 1195.6,1326.48 1205.84,1326.92 1216.08,1327.36 \n",
       "  1226.32,1327.78 1236.57,1328.2 1246.81,1328.62 1257.05,1329.02 1267.29,1329.42 1277.53,1329.82 1287.77,1330.21 1298.01,1330.59 1308.25,1330.97 1318.49,1331.35 \n",
       "  1328.73,1331.72 1338.97,1332.08 1349.21,1332.44 1359.45,1332.79 1369.69,1333.14 1379.93,1333.48 1390.17,1333.82 1400.41,1334.16 1410.65,1334.49 1420.89,1334.82 \n",
       "  1431.13,1335.14 1441.37,1335.46 1451.61,1335.77 1461.85,1336.08 1472.09,1336.38 1482.33,1336.69 1492.57,1336.98 1502.81,1337.28 1513.05,1337.57 1523.29,1337.86 \n",
       "  1533.53,1338.14 1543.77,1338.42 1554.01,1338.7 1564.25,1338.97 1574.49,1339.24 1584.73,1339.51 1594.97,1339.77 1605.22,1340.03 1615.46,1340.29 1625.7,1340.54 \n",
       "  1635.94,1340.8 1646.18,1341.05 1656.42,1341.29 1666.66,1341.54 1676.9,1341.78 1687.14,1342.01 1697.38,1342.25 1707.62,1342.48 1717.86,1342.71 1728.1,1342.94 \n",
       "  1738.34,1343.16 1748.58,1343.39 1758.82,1343.61 1769.06,1343.82 1779.3,1344.04 1789.54,1344.25 1799.78,1344.46 1810.02,1344.67 1820.26,1344.88 1830.5,1345.08 \n",
       "  1840.74,1345.29 1850.98,1345.49 1861.22,1345.69 1871.46,1345.88 1881.7,1346.08 1891.94,1346.27 1902.18,1346.46 1912.42,1346.65 1922.66,1346.83 1932.9,1347.02 \n",
       "  1943.14,1347.2 1953.38,1347.38 1963.63,1347.56 1973.87,1347.74 1984.11,1347.91 1994.35,1348.09 2004.59,1348.26 2014.83,1348.43 2025.07,1348.6 2035.31,1348.77 \n",
       "  2045.55,1348.94 2055.79,1349.1 2066.03,1349.26 2076.27,1349.42 2086.51,1349.58 2096.75,1349.74 2106.99,1349.9 2117.23,1350.06 2127.47,1350.21 2137.71,1350.36 \n",
       "  2147.95,1350.51 2158.19,1350.66 2168.43,1350.81 2178.67,1350.96 2188.91,1351.11 2199.15,1351.25 2209.39,1351.4 2219.63,1351.54 2229.87,1351.68 2240.11,1351.82 \n",
       "  2250.35,1351.96 2260.59,1352.1 2270.83,1352.23 2281.07,1352.37 2291.31,1352.5 2301.55,1352.64 2311.79,1352.77 2322.04,1352.9 2332.28,1353.03 2342.52,1353.16 \n",
       "  2352.76,1353.28 \n",
       "  \"/>\n",
       "<polyline clip-path=\"url(#clip172)\" style=\"stroke:#3da44d; stroke-linecap:butt; stroke-linejoin:round; stroke-width:8; stroke-opacity:1; fill:none\" points=\"\n",
       "  304.699,1384.24 314.94,1369.85 325.18,1355.76 335.42,1341.95 345.66,1328.41 355.901,1315.14 366.141,1302.12 376.381,1289.34 386.622,1276.8 396.862,1264.49 \n",
       "  407.102,1252.4 417.342,1240.53 427.583,1228.86 437.823,1217.39 448.063,1206.13 458.304,1195.05 468.544,1184.15 478.784,1173.43 489.024,1162.89 499.265,1152.52 \n",
       "  509.505,1142.31 519.745,1132.26 529.986,1122.37 540.226,1112.63 550.466,1103.03 560.706,1093.59 570.947,1084.28 581.187,1075.11 591.427,1066.07 601.668,1057.17 \n",
       "  611.908,1048.39 622.148,1039.74 632.388,1031.21 642.629,1022.8 652.869,1014.5 663.109,1006.32 673.349,998.254 683.59,990.295 693.83,982.442 704.07,974.695 \n",
       "  714.311,967.05 724.551,959.507 734.791,952.061 745.031,944.713 755.272,937.459 765.512,930.298 775.752,923.229 785.993,916.249 796.233,909.357 806.473,902.551 \n",
       "  816.713,895.83 826.954,889.193 837.194,882.637 847.434,876.162 857.675,869.766 867.915,863.447 878.155,857.205 888.395,851.039 898.636,844.946 908.876,838.926 \n",
       "  919.116,832.977 929.357,827.1 939.597,821.291 949.837,815.551 960.077,809.879 970.318,804.272 980.558,798.731 990.798,793.254 1001.04,787.841 1011.28,782.49 \n",
       "  1021.52,777.201 1031.76,771.973 1042,766.804 1052.24,761.695 1062.48,756.644 1072.72,751.651 1082.96,746.715 1093.2,741.834 1103.44,737.009 1113.68,732.239 \n",
       "  1123.92,727.523 1134.16,722.86 1144.4,718.249 1154.64,713.691 1164.88,709.184 1175.12,704.728 1185.36,700.322 1195.6,695.966 1205.84,691.658 1216.08,687.399 \n",
       "  1226.32,683.188 1236.57,679.025 1246.81,674.908 1257.05,670.837 1267.29,666.813 1277.53,662.833 1287.77,658.899 1298.01,655.009 1308.25,651.162 1318.49,647.36 \n",
       "  1328.73,643.6 1338.97,639.884 1349.21,636.209 1359.45,632.576 1369.69,628.985 1379.93,625.435 1390.17,621.925 1400.41,618.456 1410.65,615.027 1420.89,611.637 \n",
       "  1431.13,608.286 1441.37,604.975 1451.61,601.701 1461.85,598.466 1472.09,595.269 1482.33,592.109 1492.57,588.987 1502.81,585.902 1513.05,582.853 1523.29,579.84 \n",
       "  1533.53,576.863 1543.77,573.922 1554.01,571.017 1564.25,568.147 1574.49,565.311 1584.73,562.511 1594.97,559.744 1605.22,557.012 1615.46,554.313 1625.7,551.649 \n",
       "  1635.94,549.017 1646.18,546.419 1656.42,543.854 1666.66,541.321 1676.9,538.822 1687.14,536.354 1697.38,533.918 1707.62,531.515 1717.86,529.143 1728.1,526.803 \n",
       "  1738.34,524.494 1748.58,522.216 1758.82,519.968 1769.06,517.752 1779.3,515.566 1789.54,513.411 1799.78,511.286 1810.02,509.191 1820.26,507.125 1830.5,505.09 \n",
       "  1840.74,503.084 1850.98,501.107 1861.22,499.16 1871.46,497.241 1881.7,495.352 1891.94,493.491 1902.18,491.659 1912.42,489.856 1922.66,488.081 1932.9,486.334 \n",
       "  1943.14,484.615 1953.38,482.924 1963.63,481.261 1973.87,479.626 1984.11,478.019 1994.35,476.438 2004.59,474.886 2014.83,473.36 2025.07,471.861 2035.31,470.39 \n",
       "  2045.55,468.946 2055.79,467.528 2066.03,466.137 2076.27,464.773 2086.51,463.435 2096.75,462.123 2106.99,460.838 2117.23,459.58 2127.47,458.347 2137.71,457.141 \n",
       "  2147.95,455.961 2158.19,454.806 2168.43,453.678 2178.67,452.575 2188.91,451.498 2199.15,450.446 2209.39,449.42 2219.63,448.42 2229.87,447.445 2240.11,446.495 \n",
       "  2250.35,445.571 2260.59,444.672 2270.83,443.798 2281.07,442.949 2291.31,442.125 2301.55,441.326 2311.79,440.553 2322.04,439.804 2332.28,439.079 2342.52,438.38 \n",
       "  2352.76,437.705 \n",
       "  \"/>\n",
       "<polyline clip-path=\"url(#clip172)\" style=\"stroke:#c271d2; stroke-linecap:butt; stroke-linejoin:round; stroke-width:8; stroke-opacity:1; fill:none\" points=\"\n",
       "  304.699,1238.89 314.94,1241.87 325.18,1244.75 335.42,1247.52 345.66,1250.19 355.901,1252.77 366.141,1255.26 376.381,1257.67 386.622,1260 396.862,1262.25 \n",
       "  407.102,1264.43 417.342,1266.54 427.583,1268.59 437.823,1270.57 448.063,1272.5 458.304,1274.37 468.544,1276.19 478.784,1277.95 489.024,1279.67 499.265,1281.34 \n",
       "  509.505,1282.96 519.745,1284.54 529.986,1286.08 540.226,1287.58 550.466,1289.04 560.706,1290.47 570.947,1291.86 581.187,1293.21 591.427,1294.54 601.668,1295.83 \n",
       "  611.908,1297.1 622.148,1298.33 632.388,1299.54 642.629,1300.72 652.869,1301.87 663.109,1303 673.349,1304.1 683.59,1305.19 693.83,1306.24 704.07,1307.28 \n",
       "  714.311,1308.3 724.551,1309.3 734.791,1310.27 745.031,1311.23 755.272,1312.17 765.512,1313.09 775.752,1313.99 785.993,1314.88 796.233,1315.75 806.473,1316.61 \n",
       "  816.713,1317.45 826.954,1318.27 837.194,1319.09 847.434,1319.88 857.675,1320.67 867.915,1321.44 878.155,1322.2 888.395,1322.94 898.636,1323.68 908.876,1324.4 \n",
       "  919.116,1325.11 929.357,1325.81 939.597,1326.5 949.837,1327.18 960.077,1327.84 970.318,1328.5 980.558,1329.15 990.798,1329.79 1001.04,1330.42 1011.28,1331.04 \n",
       "  1021.52,1331.65 1031.76,1332.26 1042,1332.85 1052.24,1333.44 1062.48,1334.02 1072.72,1334.59 1082.96,1335.16 1093.2,1335.71 1103.44,1336.26 1113.68,1336.81 \n",
       "  1123.92,1337.34 1134.16,1337.87 1144.4,1338.4 1154.64,1338.91 1164.88,1339.42 1175.12,1339.93 1185.36,1340.43 1195.6,1340.92 1205.84,1341.41 1216.08,1341.89 \n",
       "  1226.32,1342.36 1236.57,1342.84 1246.81,1343.3 1257.05,1343.76 1267.29,1344.22 1277.53,1344.67 1287.77,1345.12 1298.01,1345.56 1308.25,1346 1318.49,1346.43 \n",
       "  1328.73,1346.86 1338.97,1347.28 1349.21,1347.7 1359.45,1348.12 1369.69,1348.53 1379.93,1348.94 1390.17,1349.34 1400.41,1349.75 1410.65,1350.14 1420.89,1350.54 \n",
       "  1431.13,1350.93 1441.37,1351.31 1451.61,1351.7 1461.85,1352.08 1472.09,1352.45 1482.33,1352.83 1492.57,1353.2 1502.81,1353.57 1513.05,1353.93 1523.29,1354.29 \n",
       "  1533.53,1354.65 1543.77,1355.01 1554.01,1355.36 1564.25,1355.71 1574.49,1356.06 1584.73,1356.4 1594.97,1356.75 1605.22,1357.09 1615.46,1357.42 1625.7,1357.76 \n",
       "  1635.94,1358.09 1646.18,1358.42 1656.42,1358.75 1666.66,1359.08 1676.9,1359.4 1687.14,1359.72 1697.38,1360.04 1707.62,1360.36 1717.86,1360.68 1728.1,1360.99 \n",
       "  1738.34,1361.3 1748.58,1361.61 1758.82,1361.92 1769.06,1362.23 1779.3,1362.53 1789.54,1362.84 1799.78,1363.14 1810.02,1363.44 1820.26,1363.73 1830.5,1364.03 \n",
       "  1840.74,1364.32 1850.98,1364.62 1861.22,1364.91 1871.46,1365.2 1881.7,1365.49 1891.94,1365.77 1902.18,1366.06 1912.42,1366.34 1922.66,1366.63 1932.9,1366.91 \n",
       "  1943.14,1367.19 1953.38,1367.47 1963.63,1367.75 1973.87,1368.02 1984.11,1368.3 1994.35,1368.57 2004.59,1368.85 2014.83,1369.12 2025.07,1369.39 2035.31,1369.66 \n",
       "  2045.55,1369.93 2055.79,1370.2 2066.03,1370.46 2076.27,1370.73 2086.51,1370.99 2096.75,1371.26 2106.99,1371.52 2117.23,1371.78 2127.47,1372.04 2137.71,1372.31 \n",
       "  2147.95,1372.56 2158.19,1372.82 2168.43,1373.08 2178.67,1373.34 2188.91,1373.6 2199.15,1373.85 2209.39,1374.11 2219.63,1374.36 2229.87,1374.62 2240.11,1374.87 \n",
       "  2250.35,1375.12 2260.59,1375.37 2270.83,1375.62 2281.07,1375.87 2291.31,1376.13 2301.55,1376.37 2311.79,1376.62 2322.04,1376.87 2332.28,1377.12 2342.52,1377.37 \n",
       "  2352.76,1377.62 \n",
       "  \"/>\n",
       "<path clip-path=\"url(#clip170)\" d=\"\n",
       "M1949.24 352.309 L2284.49 352.309 L2284.49 93.1086 L1949.24 93.1086  Z\n",
       "  \" fill=\"#ffffff\" fill-rule=\"evenodd\" fill-opacity=\"1\"/>\n",
       "<polyline clip-path=\"url(#clip170)\" style=\"stroke:#000000; stroke-linecap:butt; stroke-linejoin:round; stroke-width:4; stroke-opacity:1; fill:none\" points=\"\n",
       "  1949.24,352.309 2284.49,352.309 2284.49,93.1086 1949.24,93.1086 1949.24,352.309 \n",
       "  \"/>\n",
       "<polyline clip-path=\"url(#clip170)\" style=\"stroke:#009af9; stroke-linecap:butt; stroke-linejoin:round; stroke-width:4; stroke-opacity:1; fill:none\" points=\"\n",
       "  1972,144.949 2108.53,144.949 \n",
       "  \"/>\n",
       "<path clip-path=\"url(#clip170)\" d=\"M2131.29 151.997 L2131.29 136.303 L2135.55 136.303 L2135.55 151.835 Q2135.55 155.516 2136.98 157.368 Q2138.42 159.196 2141.29 159.196 Q2144.74 159.196 2146.73 156.997 Q2148.74 154.798 2148.74 151.002 L2148.74 136.303 L2153 136.303 L2153 162.229 L2148.74 162.229 L2148.74 158.247 Q2147.19 160.608 2145.13 161.766 Q2143.1 162.9 2140.39 162.9 Q2135.92 162.9 2133.61 160.122 Q2131.29 157.344 2131.29 151.997 M2142.01 135.678 L2142.01 135.678 Z\" fill=\"#000000\" fill-rule=\"evenodd\" fill-opacity=\"1\" /><path clip-path=\"url(#clip170)\" d=\"M2163.19 158.293 L2170.83 158.293 L2170.83 131.928 L2162.52 133.595 L2162.52 129.335 L2170.78 127.669 L2175.46 127.669 L2175.46 158.293 L2183.1 158.293 L2183.1 162.229 L2163.19 162.229 L2163.19 158.293 Z\" fill=\"#000000\" fill-rule=\"evenodd\" fill-opacity=\"1\" /><path clip-path=\"url(#clip170)\" d=\"M2202.17 126.257 Q2199.07 131.581 2197.56 136.789 Q2196.06 141.997 2196.06 147.344 Q2196.06 152.692 2197.56 157.946 Q2199.09 163.178 2202.17 168.479 L2198.47 168.479 Q2194.99 163.039 2193.26 157.784 Q2191.54 152.53 2191.54 147.344 Q2191.54 142.182 2193.26 136.951 Q2194.97 131.72 2198.47 126.257 L2202.17 126.257 Z\" fill=\"#000000\" fill-rule=\"evenodd\" fill-opacity=\"1\" /><path clip-path=\"url(#clip170)\" d=\"M2214.65 128.942 L2214.65 136.303 L2223.42 136.303 L2223.42 139.613 L2214.65 139.613 L2214.65 153.687 Q2214.65 156.858 2215.5 157.761 Q2216.38 158.664 2219.04 158.664 L2223.42 158.664 L2223.42 162.229 L2219.04 162.229 Q2214.11 162.229 2212.24 160.4 Q2210.36 158.548 2210.36 153.687 L2210.36 139.613 L2207.24 139.613 L2207.24 136.303 L2210.36 136.303 L2210.36 128.942 L2214.65 128.942 Z\" fill=\"#000000\" fill-rule=\"evenodd\" fill-opacity=\"1\" /><path clip-path=\"url(#clip170)\" d=\"M2228.35 126.257 L2232.05 126.257 Q2235.53 131.72 2237.24 136.951 Q2238.97 142.182 2238.97 147.344 Q2238.97 152.53 2237.24 157.784 Q2235.53 163.039 2232.05 168.479 L2228.35 168.479 Q2231.43 163.178 2232.93 157.946 Q2234.46 152.692 2234.46 147.344 Q2234.46 141.997 2232.93 136.789 Q2231.43 131.581 2228.35 126.257 Z\" fill=\"#000000\" fill-rule=\"evenodd\" fill-opacity=\"1\" /><polyline clip-path=\"url(#clip170)\" style=\"stroke:#e26f46; stroke-linecap:butt; stroke-linejoin:round; stroke-width:4; stroke-opacity:1; fill:none\" points=\"\n",
       "  1972,196.789 2108.53,196.789 \n",
       "  \"/>\n",
       "<path clip-path=\"url(#clip170)\" d=\"M2131.29 203.837 L2131.29 188.143 L2135.55 188.143 L2135.55 203.675 Q2135.55 207.356 2136.98 209.208 Q2138.42 211.036 2141.29 211.036 Q2144.74 211.036 2146.73 208.837 Q2148.74 206.638 2148.74 202.842 L2148.74 188.143 L2153 188.143 L2153 214.069 L2148.74 214.069 L2148.74 210.087 Q2147.19 212.448 2145.13 213.606 Q2143.1 214.74 2140.39 214.74 Q2135.92 214.74 2133.61 211.962 Q2131.29 209.184 2131.29 203.837 M2142.01 187.518 L2142.01 187.518 Z\" fill=\"#000000\" fill-rule=\"evenodd\" fill-opacity=\"1\" /><path clip-path=\"url(#clip170)\" d=\"M2166.41 210.133 L2182.73 210.133 L2182.73 214.069 L2160.78 214.069 L2160.78 210.133 Q2163.44 207.379 2168.03 202.749 Q2172.63 198.096 2173.81 196.754 Q2176.06 194.231 2176.94 192.495 Q2177.84 190.735 2177.84 189.046 Q2177.84 186.291 2175.9 184.555 Q2173.98 182.819 2170.87 182.819 Q2168.67 182.819 2166.22 183.583 Q2163.79 184.347 2161.01 185.897 L2161.01 181.175 Q2163.84 180.041 2166.29 179.462 Q2168.74 178.884 2170.78 178.884 Q2176.15 178.884 2179.35 181.569 Q2182.54 184.254 2182.54 188.745 Q2182.54 190.874 2181.73 192.796 Q2180.94 194.694 2178.84 197.286 Q2178.26 197.958 2175.16 201.175 Q2172.05 204.37 2166.41 210.133 Z\" fill=\"#000000\" fill-rule=\"evenodd\" fill-opacity=\"1\" /><path clip-path=\"url(#clip170)\" d=\"M2202.17 178.097 Q2199.07 183.421 2197.56 188.629 Q2196.06 193.837 2196.06 199.184 Q2196.06 204.532 2197.56 209.786 Q2199.09 215.018 2202.17 220.319 L2198.47 220.319 Q2194.99 214.879 2193.26 209.624 Q2191.54 204.37 2191.54 199.184 Q2191.54 194.022 2193.26 188.791 Q2194.97 183.56 2198.47 178.097 L2202.17 178.097 Z\" fill=\"#000000\" fill-rule=\"evenodd\" fill-opacity=\"1\" /><path clip-path=\"url(#clip170)\" d=\"M2214.65 180.782 L2214.65 188.143 L2223.42 188.143 L2223.42 191.453 L2214.65 191.453 L2214.65 205.527 Q2214.65 208.698 2215.5 209.601 Q2216.38 210.504 2219.04 210.504 L2223.42 210.504 L2223.42 214.069 L2219.04 214.069 Q2214.11 214.069 2212.24 212.24 Q2210.36 210.388 2210.36 205.527 L2210.36 191.453 L2207.24 191.453 L2207.24 188.143 L2210.36 188.143 L2210.36 180.782 L2214.65 180.782 Z\" fill=\"#000000\" fill-rule=\"evenodd\" fill-opacity=\"1\" /><path clip-path=\"url(#clip170)\" d=\"M2228.35 178.097 L2232.05 178.097 Q2235.53 183.56 2237.24 188.791 Q2238.97 194.022 2238.97 199.184 Q2238.97 204.37 2237.24 209.624 Q2235.53 214.879 2232.05 220.319 L2228.35 220.319 Q2231.43 215.018 2232.93 209.786 Q2234.46 204.532 2234.46 199.184 Q2234.46 193.837 2232.93 188.629 Q2231.43 183.421 2228.35 178.097 Z\" fill=\"#000000\" fill-rule=\"evenodd\" fill-opacity=\"1\" /><polyline clip-path=\"url(#clip170)\" style=\"stroke:#3da44d; stroke-linecap:butt; stroke-linejoin:round; stroke-width:4; stroke-opacity:1; fill:none\" points=\"\n",
       "  1972,248.629 2108.53,248.629 \n",
       "  \"/>\n",
       "<path clip-path=\"url(#clip170)\" d=\"M2131.29 255.677 L2131.29 239.983 L2135.55 239.983 L2135.55 255.515 Q2135.55 259.196 2136.98 261.048 Q2138.42 262.876 2141.29 262.876 Q2144.74 262.876 2146.73 260.677 Q2148.74 258.478 2148.74 254.682 L2148.74 239.983 L2153 239.983 L2153 265.909 L2148.74 265.909 L2148.74 261.927 Q2147.19 264.288 2145.13 265.446 Q2143.1 266.58 2140.39 266.58 Q2135.92 266.58 2133.61 263.802 Q2131.29 261.024 2131.29 255.677 M2142.01 239.358 L2142.01 239.358 Z\" fill=\"#000000\" fill-rule=\"evenodd\" fill-opacity=\"1\" /><path clip-path=\"url(#clip170)\" d=\"M2176.54 247.274 Q2179.9 247.992 2181.78 250.261 Q2183.67 252.529 2183.67 255.862 Q2183.67 260.978 2180.16 263.779 Q2176.64 266.58 2170.16 266.58 Q2167.98 266.58 2165.67 266.14 Q2163.37 265.723 2160.92 264.867 L2160.92 260.353 Q2162.86 261.487 2165.18 262.066 Q2167.49 262.645 2170.02 262.645 Q2174.42 262.645 2176.71 260.909 Q2179.02 259.173 2179.02 255.862 Q2179.02 252.807 2176.87 251.094 Q2174.74 249.358 2170.92 249.358 L2166.89 249.358 L2166.89 245.515 L2171.1 245.515 Q2174.55 245.515 2176.38 244.149 Q2178.21 242.761 2178.21 240.168 Q2178.21 237.506 2176.31 236.094 Q2174.44 234.659 2170.92 234.659 Q2169 234.659 2166.8 235.075 Q2164.6 235.492 2161.96 236.372 L2161.96 232.205 Q2164.62 231.464 2166.94 231.094 Q2169.28 230.724 2171.34 230.724 Q2176.66 230.724 2179.76 233.154 Q2182.86 235.562 2182.86 239.682 Q2182.86 242.552 2181.22 244.543 Q2179.58 246.511 2176.54 247.274 Z\" fill=\"#000000\" fill-rule=\"evenodd\" fill-opacity=\"1\" /><path clip-path=\"url(#clip170)\" d=\"M2202.17 229.937 Q2199.07 235.261 2197.56 240.469 Q2196.06 245.677 2196.06 251.024 Q2196.06 256.372 2197.56 261.626 Q2199.09 266.858 2202.17 272.159 L2198.47 272.159 Q2194.99 266.719 2193.26 261.464 Q2191.54 256.21 2191.54 251.024 Q2191.54 245.862 2193.26 240.631 Q2194.97 235.4 2198.47 229.937 L2202.17 229.937 Z\" fill=\"#000000\" fill-rule=\"evenodd\" fill-opacity=\"1\" /><path clip-path=\"url(#clip170)\" d=\"M2214.65 232.622 L2214.65 239.983 L2223.42 239.983 L2223.42 243.293 L2214.65 243.293 L2214.65 257.367 Q2214.65 260.538 2215.5 261.441 Q2216.38 262.344 2219.04 262.344 L2223.42 262.344 L2223.42 265.909 L2219.04 265.909 Q2214.11 265.909 2212.24 264.08 Q2210.36 262.228 2210.36 257.367 L2210.36 243.293 L2207.24 243.293 L2207.24 239.983 L2210.36 239.983 L2210.36 232.622 L2214.65 232.622 Z\" fill=\"#000000\" fill-rule=\"evenodd\" fill-opacity=\"1\" /><path clip-path=\"url(#clip170)\" d=\"M2228.35 229.937 L2232.05 229.937 Q2235.53 235.4 2237.24 240.631 Q2238.97 245.862 2238.97 251.024 Q2238.97 256.21 2237.24 261.464 Q2235.53 266.719 2232.05 272.159 L2228.35 272.159 Q2231.43 266.858 2232.93 261.626 Q2234.46 256.372 2234.46 251.024 Q2234.46 245.677 2232.93 240.469 Q2231.43 235.261 2228.35 229.937 Z\" fill=\"#000000\" fill-rule=\"evenodd\" fill-opacity=\"1\" /><polyline clip-path=\"url(#clip170)\" style=\"stroke:#c271d2; stroke-linecap:butt; stroke-linejoin:round; stroke-width:4; stroke-opacity:1; fill:none\" points=\"\n",
       "  1972,300.469 2108.53,300.469 \n",
       "  \"/>\n",
       "<path clip-path=\"url(#clip170)\" d=\"M2131.29 307.517 L2131.29 291.823 L2135.55 291.823 L2135.55 307.355 Q2135.55 311.036 2136.98 312.888 Q2138.42 314.716 2141.29 314.716 Q2144.74 314.716 2146.73 312.517 Q2148.74 310.318 2148.74 306.522 L2148.74 291.823 L2153 291.823 L2153 317.749 L2148.74 317.749 L2148.74 313.767 Q2147.19 316.128 2145.13 317.286 Q2143.1 318.42 2140.39 318.42 Q2135.92 318.42 2133.61 315.642 Q2131.29 312.864 2131.29 307.517 M2142.01 291.198 L2142.01 291.198 Z\" fill=\"#000000\" fill-rule=\"evenodd\" fill-opacity=\"1\" /><path clip-path=\"url(#clip170)\" d=\"M2175.23 287.263 L2163.42 305.712 L2175.23 305.712 L2175.23 287.263 M2174 283.189 L2179.88 283.189 L2179.88 305.712 L2184.81 305.712 L2184.81 309.601 L2179.88 309.601 L2179.88 317.749 L2175.23 317.749 L2175.23 309.601 L2159.62 309.601 L2159.62 305.087 L2174 283.189 Z\" fill=\"#000000\" fill-rule=\"evenodd\" fill-opacity=\"1\" /><path clip-path=\"url(#clip170)\" d=\"M2202.17 281.777 Q2199.07 287.101 2197.56 292.309 Q2196.06 297.517 2196.06 302.864 Q2196.06 308.212 2197.56 313.466 Q2199.09 318.698 2202.17 323.999 L2198.47 323.999 Q2194.99 318.559 2193.26 313.304 Q2191.54 308.05 2191.54 302.864 Q2191.54 297.702 2193.26 292.471 Q2194.97 287.24 2198.47 281.777 L2202.17 281.777 Z\" fill=\"#000000\" fill-rule=\"evenodd\" fill-opacity=\"1\" /><path clip-path=\"url(#clip170)\" d=\"M2214.65 284.462 L2214.65 291.823 L2223.42 291.823 L2223.42 295.133 L2214.65 295.133 L2214.65 309.207 Q2214.65 312.378 2215.5 313.281 Q2216.38 314.184 2219.04 314.184 L2223.42 314.184 L2223.42 317.749 L2219.04 317.749 Q2214.11 317.749 2212.24 315.92 Q2210.36 314.068 2210.36 309.207 L2210.36 295.133 L2207.24 295.133 L2207.24 291.823 L2210.36 291.823 L2210.36 284.462 L2214.65 284.462 Z\" fill=\"#000000\" fill-rule=\"evenodd\" fill-opacity=\"1\" /><path clip-path=\"url(#clip170)\" d=\"M2228.35 281.777 L2232.05 281.777 Q2235.53 287.24 2237.24 292.471 Q2238.97 297.702 2238.97 302.864 Q2238.97 308.05 2237.24 313.304 Q2235.53 318.559 2232.05 323.999 L2228.35 323.999 Q2231.43 318.698 2232.93 313.466 Q2234.46 308.212 2234.46 302.864 Q2234.46 297.517 2232.93 292.309 Q2231.43 287.101 2228.35 281.777 Z\" fill=\"#000000\" fill-rule=\"evenodd\" fill-opacity=\"1\" /></svg>\n"
      ]
     },
     "execution_count": 15,
     "metadata": {},
     "output_type": "execute_result"
    }
   ],
   "source": [
    "function sistem!(du,u,p,t)\n",
    "    du[1]=+(*(p[1],u[1]),*(p[2],u[2]),*(p[3],u[3]),*(p[4],u[4]))\n",
    "    du[2]=+(*(p[5],u[1]),*(p[6],^(u[2],2)),*(p[7],u[3]),*(p[8],u[4]))\n",
    "    du[3]=+(*(p[9],u[1]),*(p[10],u[2]),*(p[11],u[3]),*(p[12],u[4]))\n",
    "    du[4]=+(*(p[13],u[1]),*(p[14],u[2]),*(p[15],u[3]),*(p[16],^(u[4],2)),-g)\n",
    "end\n",
    "u0=[0,vox,0,voy]\n",
    "p=(0,1,0,0,0,ar,0,0,0,0,0,1,0,0,0,ar)\n",
    "tspan=(0,20)\n",
    "problem=ODEProblem(sistem,u0,tspan,p)\n",
    "solution=solve(problem,saveat=0.1)\n",
    "plot(solution,lw=2)"
   ]
  },
  {
   "cell_type": "code",
   "execution_count": 10,
   "id": "697ef184",
   "metadata": {
    "collapsed": true,
    "jupyter": {
     "outputs_hidden": true
    }
   },
   "outputs": [
    {
     "data": {
      "text/plain": [
       "retcode: Success\n",
       "Interpolation: 1st order linear\n",
       "t: 301-element Vector{Float64}:\n",
       "  0.0\n",
       "  0.1\n",
       "  0.2\n",
       "  0.3\n",
       "  0.4\n",
       "  0.5\n",
       "  0.6\n",
       "  0.7\n",
       "  0.8\n",
       "  0.9\n",
       "  1.0\n",
       "  1.1\n",
       "  1.2\n",
       "  ⋮\n",
       " 28.9\n",
       " 29.0\n",
       " 29.1\n",
       " 29.2\n",
       " 29.3\n",
       " 29.4\n",
       " 29.5\n",
       " 29.6\n",
       " 29.7\n",
       " 29.8\n",
       " 29.9\n",
       " 30.0\n",
       "u: 301-element Vector{Vector{Float64}}:\n",
       " [0.0, 2298.133329356934, 0.0, 1928.3628290596178]\n",
       " [227.21240325147528, 2246.5056286777944, 190.84257324825896, 1888.7406315983173]\n",
       " [449.3767301360412, 2197.1466168038814, 377.79708376859793, 1850.5874323521741]\n",
       " [666.7124684411184, 2149.909921601887, 561.0062742342432, 1813.8206926554913]\n",
       " [879.4251400823457, 2104.6614571799323, 740.6049619600298, 1778.3639206473274]\n",
       " [1087.7069804658088, 2061.278639854449, 916.7203752653039, 1744.1463404610724]\n",
       " [1291.7390111521463, 2019.648222453317, 1089.4731968256867, 1711.1019366446862]\n",
       " [1491.691464578743, 1979.665855332285, 1258.9777770629878, 1679.1692599392823]\n",
       " [1687.7242254208372, 1941.2356560159312, 1425.3423664899383, 1648.291226953784]\n",
       " [1879.9880246796904, 1904.2689569270633, 1588.669734057717, 1618.414557657473]\n",
       " [2068.624406841395, 1868.6843145720914, 1749.0571545672867, 1589.489781955304]\n",
       " [2253.7678261953774, 1834.405554047203, 1906.5975275542487, 1561.4703068516558]\n",
       " [2435.54577454123, 1801.3616480096719, 2061.3794450445216, 1534.3123592537734]\n",
       " ⋮\n",
       " [20336.17957523566, 300.74357869931174, 12053.54517110724, -206.08783604068802]\n",
       " [20366.209180196754, 299.84176786850986, 12032.754041857745, -209.72041727509037]\n",
       " [20396.14882955893, 298.94535525401807, 12011.598984327658, -213.36823075100511]\n",
       " [20425.999038665264, 298.05429594813194, 11990.078513700482, -217.03158702673372]\n",
       " [20455.760316046573, 297.1685459315541, 11968.19111999167, -220.7107989683891]\n",
       " [20485.433163655045, 296.288062038945, 11945.935267509076, -224.40618196161802]\n",
       " [20515.018163085526, 295.41278920698085, 11923.309191494147, -228.11813282317962]\n",
       " [20544.515893400756, 294.542672481713, 11900.311074849702, -231.84705779879204]\n",
       " [20573.926867917355, 293.6776664387213, 11876.939202523243, -235.59331384039345]\n",
       " [20603.251595488855, 292.81772617793655, 11853.191822931576, -239.35726361041574]\n",
       " [20632.490580505677, 291.9628073236403, 11829.067147960819, -243.13927548178359]\n",
       " [20661.64432289514, 291.1128660244649, 11804.563352966394, -246.93972353791548]"
      ]
     },
     "execution_count": 10,
     "metadata": {},
     "output_type": "execute_result"
    }
   ],
   "source": [
    "solution"
   ]
  },
  {
   "cell_type": "code",
   "execution_count": 11,
   "id": "50a2204e",
   "metadata": {},
   "outputs": [
    {
     "data": {
      "text/plain": [
       "4-element Vector{Float64}:\n",
       " 20647.067451700408\n",
       "   291.5378366740526\n",
       " 11816.815250463605\n",
       "  -245.03949950984952"
      ]
     },
     "execution_count": 11,
     "metadata": {},
     "output_type": "execute_result"
    }
   ],
   "source": [
    "solution(29.95)"
   ]
  },
  {
   "cell_type": "code",
   "execution_count": 38,
   "id": "c58418b7",
   "metadata": {},
   "outputs": [
    {
     "data": {
      "text/plain": [
       "77398.5247646319"
      ]
     },
     "execution_count": 38,
     "metadata": {},
     "output_type": "execute_result"
    }
   ],
   "source": [
    "C1=*(/(1,ar),log(-C2))"
   ]
  },
  {
   "cell_type": "code",
   "execution_count": 39,
   "id": "2f68851d",
   "metadata": {},
   "outputs": [
    {
     "data": {
      "text/plain": [
       "-22.72378628671095"
      ]
     },
     "execution_count": 39,
     "metadata": {},
     "output_type": "execute_result"
    }
   ],
   "source": [
    "C4=*(/(-1,*(sqrt(g),sqrt(-ar))),atan(*(voy,/(sqrt(-ar),sqrt(g)))))"
   ]
  },
  {
   "cell_type": "code",
   "execution_count": 46,
   "id": "eaa35226",
   "metadata": {},
   "outputs": [
    {
     "data": {
      "text/plain": [
       "12676.64110354216"
      ]
     },
     "execution_count": 46,
     "metadata": {},
     "output_type": "execute_result"
    }
   ],
   "source": [
    "C3=*(/(-1,ar),log(sec(*(C4,sqrt(*(-ar,g))))))"
   ]
  },
  {
   "cell_type": "code",
   "execution_count": 59,
   "id": "bdb78c1c",
   "metadata": {},
   "outputs": [
    {
     "data": {
      "text/plain": [
       "-22.72378628671095"
      ]
     },
     "execution_count": 59,
     "metadata": {},
     "output_type": "execute_result"
    }
   ],
   "source": [
    "C6=C4"
   ]
  },
  {
   "cell_type": "code",
   "execution_count": 47,
   "id": "6868b536",
   "metadata": {},
   "outputs": [
    {
     "data": {
      "text/plain": [
       "x3 (generic function with 1 method)"
      ]
     },
     "execution_count": 47,
     "metadata": {},
     "output_type": "execute_result"
    }
   ],
   "source": [
    "x3(t1)=+(*(/(1,ar),log(abs(sec(*(+(t1,C4),sqrt(*(-ar,g))))))),C3)"
   ]
  },
  {
   "cell_type": "code",
   "execution_count": 57,
   "id": "923367c7",
   "metadata": {},
   "outputs": [
    {
     "data": {
      "text/plain": [
       "x5 (generic function with 1 method)"
      ]
     },
     "execution_count": 57,
     "metadata": {},
     "output_type": "execute_result"
    }
   ],
   "source": [
    "x5(t1)=+(*(/(-1,ar),/(exp(*(2,sqrt(*(-ar,g)),+(t1,C6))),^(+(exp(*(2,sqrt(*(-ar,g)),+(t1,C6))),1),2))),C5)"
   ]
  },
  {
   "cell_type": "code",
   "execution_count": 58,
   "id": "91ad679d",
   "metadata": {},
   "outputs": [
    {
     "data": {
      "text/plain": [
       "12676.64110354216"
      ]
     },
     "execution_count": 58,
     "metadata": {},
     "output_type": "execute_result"
    }
   ],
   "source": [
    "x5(-C4)"
   ]
  },
  {
   "cell_type": "code",
   "execution_count": 49,
   "id": "14e6ea10",
   "metadata": {},
   "outputs": [
    {
     "data": {
      "text/plain": [
       "12676.64110354216"
      ]
     },
     "execution_count": 49,
     "metadata": {},
     "output_type": "execute_result"
    }
   ],
   "source": [
    "C7=x3(-C4) # maximum altitude"
   ]
  },
  {
   "cell_type": "code",
   "execution_count": 60,
   "id": "55fe8778",
   "metadata": {},
   "outputs": [
    {
     "data": {
      "text/plain": [
       "10176.64110354216"
      ]
     },
     "execution_count": 60,
     "metadata": {},
     "output_type": "execute_result"
    }
   ],
   "source": [
    "C5=+(C7,*(/(1,ar),/(exp(*(2,sqrt(*(-ar,g)),+(-C4,C6))),^(+(exp(*(2,sqrt(*(-ar,g)),+(-C4,C6))),1),2))))"
   ]
  },
  {
   "cell_type": "markdown",
   "id": "c2fde2c0",
   "metadata": {},
   "source": [
    "For the speed, note that it is\n",
    "$$\n",
    "\\sqrt{\\left(\\frac{dx}{dt}\\right)^2+\\left(\\frac{dy}{dt}\\right)^2}\n",
    "$$\n",
    "In the following desmos graph, the speed is orange, $x$ is blue, $y$ is red, $y'$ is purple. I can find extrema and intercepts using desmos to answer the questions (all numbers approximate).\n",
    "* The range is $24375$ feet, the total time of flight is $45.448$ seconds. The speed at impact is $1939$ feet per second.\n",
    "* The maximum altitude is $12677$ feet, which is attained after $22.724$ seconds.\n",
    "* The minimum speed is $346$ feet per second attained after $26.042$ seconds."
   ]
  },
  {
   "cell_type": "markdown",
   "id": "039d6df3",
   "metadata": {},
   "source": [
    "<img src=\"./diagrams/jpulnsbw-desmos.png\" width=\"80%\" height=\"80%\">"
   ]
  },
  {
   "cell_type": "code",
   "execution_count": 42,
   "id": "21685dca",
   "metadata": {},
   "outputs": [],
   "source": [
    "using SymPy"
   ]
  },
  {
   "cell_type": "code",
   "execution_count": 43,
   "id": "a9940725",
   "metadata": {},
   "outputs": [
    {
     "data": {
      "text/plain": [
       "(x, a, grav)"
      ]
     },
     "execution_count": 43,
     "metadata": {},
     "output_type": "execute_result"
    }
   ],
   "source": [
    "@vars x a grav"
   ]
  },
  {
   "cell_type": "code",
   "execution_count": 44,
   "id": "02313129",
   "metadata": {},
   "outputs": [
    {
     "data": {
      "text/latex": [
       "$8.83883476483184 \\log{\\left(1.0 x - 565.685424949238 \\right)} - 8.83883476483184 \\log{\\left(1.0 x + 565.685424949238 \\right)}$"
      ],
      "text/plain": [
       "8.83883476483184⋅log(1.0⋅x - 565.685424949238) - 8.83883476483184⋅log(1.0⋅x + \n",
       "565.685424949238)"
      ]
     },
     "execution_count": 44,
     "metadata": {},
     "output_type": "execute_result"
    }
   ],
   "source": [
    "SymPy.integrate(/(-1,+(*(ar,^(x,2)),g)))"
   ]
  },
  {
   "cell_type": "code",
   "execution_count": 52,
   "id": "11f47028",
   "metadata": {},
   "outputs": [
    {
     "data": {
      "image/svg+xml": [
       "<?xml version=\"1.0\" encoding=\"utf-8\"?>\n",
       "<svg xmlns=\"http://www.w3.org/2000/svg\" xmlns:xlink=\"http://www.w3.org/1999/xlink\" width=\"600\" height=\"400\" viewBox=\"0 0 2400 1600\">\n",
       "<defs>\n",
       "  <clipPath id=\"clip040\">\n",
       "    <rect x=\"0\" y=\"0\" width=\"2400\" height=\"1600\"/>\n",
       "  </clipPath>\n",
       "</defs>\n",
       "<path clip-path=\"url(#clip040)\" d=\"\n",
       "M0 1600 L2400 1600 L2400 0 L0 0  Z\n",
       "  \" fill=\"#ffffff\" fill-rule=\"evenodd\" fill-opacity=\"1\"/>\n",
       "<defs>\n",
       "  <clipPath id=\"clip041\">\n",
       "    <rect x=\"480\" y=\"0\" width=\"1681\" height=\"1600\"/>\n",
       "  </clipPath>\n",
       "</defs>\n",
       "<path clip-path=\"url(#clip040)\" d=\"\n",
       "M209.029 1423.18 L2352.76 1423.18 L2352.76 47.2441 L209.029 47.2441  Z\n",
       "  \" fill=\"#ffffff\" fill-rule=\"evenodd\" fill-opacity=\"1\"/>\n",
       "<defs>\n",
       "  <clipPath id=\"clip042\">\n",
       "    <rect x=\"209\" y=\"47\" width=\"2145\" height=\"1377\"/>\n",
       "  </clipPath>\n",
       "</defs>\n",
       "<polyline clip-path=\"url(#clip042)\" style=\"stroke:#000000; stroke-linecap:butt; stroke-linejoin:round; stroke-width:2; stroke-opacity:0.1; fill:none\" points=\"\n",
       "  423.816,1423.18 423.816,47.2441 \n",
       "  \"/>\n",
       "<polyline clip-path=\"url(#clip042)\" style=\"stroke:#000000; stroke-linecap:butt; stroke-linejoin:round; stroke-width:2; stroke-opacity:0.1; fill:none\" points=\"\n",
       "  895.671,1423.18 895.671,47.2441 \n",
       "  \"/>\n",
       "<polyline clip-path=\"url(#clip042)\" style=\"stroke:#000000; stroke-linecap:butt; stroke-linejoin:round; stroke-width:2; stroke-opacity:0.1; fill:none\" points=\"\n",
       "  1367.52,1423.18 1367.52,47.2441 \n",
       "  \"/>\n",
       "<polyline clip-path=\"url(#clip042)\" style=\"stroke:#000000; stroke-linecap:butt; stroke-linejoin:round; stroke-width:2; stroke-opacity:0.1; fill:none\" points=\"\n",
       "  1839.38,1423.18 1839.38,47.2441 \n",
       "  \"/>\n",
       "<polyline clip-path=\"url(#clip042)\" style=\"stroke:#000000; stroke-linecap:butt; stroke-linejoin:round; stroke-width:2; stroke-opacity:0.1; fill:none\" points=\"\n",
       "  2311.23,1423.18 2311.23,47.2441 \n",
       "  \"/>\n",
       "<polyline clip-path=\"url(#clip040)\" style=\"stroke:#000000; stroke-linecap:butt; stroke-linejoin:round; stroke-width:4; stroke-opacity:1; fill:none\" points=\"\n",
       "  209.029,1423.18 2352.76,1423.18 \n",
       "  \"/>\n",
       "<polyline clip-path=\"url(#clip040)\" style=\"stroke:#000000; stroke-linecap:butt; stroke-linejoin:round; stroke-width:4; stroke-opacity:1; fill:none\" points=\"\n",
       "  423.816,1423.18 423.816,1404.28 \n",
       "  \"/>\n",
       "<polyline clip-path=\"url(#clip040)\" style=\"stroke:#000000; stroke-linecap:butt; stroke-linejoin:round; stroke-width:4; stroke-opacity:1; fill:none\" points=\"\n",
       "  895.671,1423.18 895.671,1404.28 \n",
       "  \"/>\n",
       "<polyline clip-path=\"url(#clip040)\" style=\"stroke:#000000; stroke-linecap:butt; stroke-linejoin:round; stroke-width:4; stroke-opacity:1; fill:none\" points=\"\n",
       "  1367.52,1423.18 1367.52,1404.28 \n",
       "  \"/>\n",
       "<polyline clip-path=\"url(#clip040)\" style=\"stroke:#000000; stroke-linecap:butt; stroke-linejoin:round; stroke-width:4; stroke-opacity:1; fill:none\" points=\"\n",
       "  1839.38,1423.18 1839.38,1404.28 \n",
       "  \"/>\n",
       "<polyline clip-path=\"url(#clip040)\" style=\"stroke:#000000; stroke-linecap:butt; stroke-linejoin:round; stroke-width:4; stroke-opacity:1; fill:none\" points=\"\n",
       "  2311.23,1423.18 2311.23,1404.28 \n",
       "  \"/>\n",
       "<path clip-path=\"url(#clip040)\" d=\"M403.087 1481.64 L419.407 1481.64 L419.407 1485.58 L397.462 1485.58 L397.462 1481.64 Q400.124 1478.89 404.708 1474.26 Q409.314 1469.61 410.495 1468.27 Q412.74 1465.74 413.62 1464.01 Q414.523 1462.25 414.523 1460.56 Q414.523 1457.8 412.578 1456.07 Q410.657 1454.33 407.555 1454.33 Q405.356 1454.33 402.902 1455.09 Q400.472 1455.86 397.694 1457.41 L397.694 1452.69 Q400.518 1451.55 402.972 1450.97 Q405.425 1450.39 407.462 1450.39 Q412.833 1450.39 416.027 1453.08 Q419.222 1455.77 419.222 1460.26 Q419.222 1462.39 418.411 1464.31 Q417.624 1466.2 415.518 1468.8 Q414.939 1469.47 411.837 1472.69 Q408.736 1475.88 403.087 1481.64 Z\" fill=\"#000000\" fill-rule=\"evenodd\" fill-opacity=\"1\" /><path clip-path=\"url(#clip040)\" d=\"M429.268 1451.02 L447.624 1451.02 L447.624 1454.96 L433.55 1454.96 L433.55 1463.43 Q434.569 1463.08 435.587 1462.92 Q436.606 1462.73 437.624 1462.73 Q443.411 1462.73 446.791 1465.9 Q450.171 1469.08 450.171 1474.49 Q450.171 1480.07 446.698 1483.17 Q443.226 1486.25 436.907 1486.25 Q434.731 1486.25 432.462 1485.88 Q430.217 1485.51 427.81 1484.77 L427.81 1480.07 Q429.893 1481.2 432.115 1481.76 Q434.337 1482.32 436.814 1482.32 Q440.819 1482.32 443.157 1480.21 Q445.495 1478.1 445.495 1474.49 Q445.495 1470.88 443.157 1468.77 Q440.819 1466.67 436.814 1466.67 Q434.939 1466.67 433.064 1467.08 Q431.212 1467.5 429.268 1468.38 L429.268 1451.02 Z\" fill=\"#000000\" fill-rule=\"evenodd\" fill-opacity=\"1\" /><path clip-path=\"url(#clip040)\" d=\"M884.513 1466.95 Q887.87 1467.66 889.745 1469.93 Q891.643 1472.2 891.643 1475.53 Q891.643 1480.65 888.124 1483.45 Q884.606 1486.25 878.124 1486.25 Q875.948 1486.25 873.634 1485.81 Q871.342 1485.39 868.888 1484.54 L868.888 1480.02 Q870.833 1481.16 873.148 1481.74 Q875.462 1482.32 877.985 1482.32 Q882.384 1482.32 884.675 1480.58 Q886.99 1478.84 886.99 1475.53 Q886.99 1472.48 884.837 1470.77 Q882.708 1469.03 878.888 1469.03 L874.86 1469.03 L874.86 1465.19 L879.073 1465.19 Q882.522 1465.19 884.351 1463.82 Q886.18 1462.43 886.18 1459.84 Q886.18 1457.18 884.282 1455.77 Q882.407 1454.33 878.888 1454.33 Q876.967 1454.33 874.768 1454.75 Q872.569 1455.16 869.93 1456.04 L869.93 1451.88 Q872.592 1451.14 874.907 1450.77 Q877.245 1450.39 879.305 1450.39 Q884.629 1450.39 887.731 1452.83 Q890.833 1455.23 890.833 1459.35 Q890.833 1462.22 889.189 1464.21 Q887.546 1466.18 884.513 1466.95 Z\" fill=\"#000000\" fill-rule=\"evenodd\" fill-opacity=\"1\" /><path clip-path=\"url(#clip040)\" d=\"M910.508 1454.1 Q906.897 1454.1 905.069 1457.66 Q903.263 1461.2 903.263 1468.33 Q903.263 1475.44 905.069 1479.01 Q906.897 1482.55 910.508 1482.55 Q914.143 1482.55 915.948 1479.01 Q917.777 1475.44 917.777 1468.33 Q917.777 1461.2 915.948 1457.66 Q914.143 1454.1 910.508 1454.1 M910.508 1450.39 Q916.319 1450.39 919.374 1455 Q922.453 1459.58 922.453 1468.33 Q922.453 1477.06 919.374 1481.67 Q916.319 1486.25 910.508 1486.25 Q904.698 1486.25 901.62 1481.67 Q898.564 1477.06 898.564 1468.33 Q898.564 1459.58 901.62 1455 Q904.698 1450.39 910.508 1450.39 Z\" fill=\"#000000\" fill-rule=\"evenodd\" fill-opacity=\"1\" /><path clip-path=\"url(#clip040)\" d=\"M1356.86 1466.95 Q1360.22 1467.66 1362.1 1469.93 Q1363.99 1472.2 1363.99 1475.53 Q1363.99 1480.65 1360.48 1483.45 Q1356.96 1486.25 1350.48 1486.25 Q1348.3 1486.25 1345.99 1485.81 Q1343.69 1485.39 1341.24 1484.54 L1341.24 1480.02 Q1343.18 1481.16 1345.5 1481.74 Q1347.81 1482.32 1350.34 1482.32 Q1354.74 1482.32 1357.03 1480.58 Q1359.34 1478.84 1359.34 1475.53 Q1359.34 1472.48 1357.19 1470.77 Q1355.06 1469.03 1351.24 1469.03 L1347.21 1469.03 L1347.21 1465.19 L1351.43 1465.19 Q1354.87 1465.19 1356.7 1463.82 Q1358.53 1462.43 1358.53 1459.84 Q1358.53 1457.18 1356.63 1455.77 Q1354.76 1454.33 1351.24 1454.33 Q1349.32 1454.33 1347.12 1454.75 Q1344.92 1455.16 1342.28 1456.04 L1342.28 1451.88 Q1344.94 1451.14 1347.26 1450.77 Q1349.6 1450.39 1351.66 1450.39 Q1356.98 1450.39 1360.08 1452.83 Q1363.18 1455.23 1363.18 1459.35 Q1363.18 1462.22 1361.54 1464.21 Q1359.9 1466.18 1356.86 1466.95 Z\" fill=\"#000000\" fill-rule=\"evenodd\" fill-opacity=\"1\" /><path clip-path=\"url(#clip040)\" d=\"M1372.91 1451.02 L1391.26 1451.02 L1391.26 1454.96 L1377.19 1454.96 L1377.19 1463.43 Q1378.21 1463.08 1379.23 1462.92 Q1380.24 1462.73 1381.26 1462.73 Q1387.05 1462.73 1390.43 1465.9 Q1393.81 1469.08 1393.81 1474.49 Q1393.81 1480.07 1390.34 1483.17 Q1386.86 1486.25 1380.55 1486.25 Q1378.37 1486.25 1376.1 1485.88 Q1373.86 1485.51 1371.45 1484.77 L1371.45 1480.07 Q1373.53 1481.2 1375.75 1481.76 Q1377.98 1482.32 1380.45 1482.32 Q1384.46 1482.32 1386.8 1480.21 Q1389.13 1478.1 1389.13 1474.49 Q1389.13 1470.88 1386.8 1468.77 Q1384.46 1466.67 1380.45 1466.67 Q1378.58 1466.67 1376.7 1467.08 Q1374.85 1467.5 1372.91 1468.38 L1372.91 1451.02 Z\" fill=\"#000000\" fill-rule=\"evenodd\" fill-opacity=\"1\" /><path clip-path=\"url(#clip040)\" d=\"M1827.55 1455.09 L1815.74 1473.54 L1827.55 1473.54 L1827.55 1455.09 M1826.32 1451.02 L1832.2 1451.02 L1832.2 1473.54 L1837.13 1473.54 L1837.13 1477.43 L1832.2 1477.43 L1832.2 1485.58 L1827.55 1485.58 L1827.55 1477.43 L1811.95 1477.43 L1811.95 1472.92 L1826.32 1451.02 Z\" fill=\"#000000\" fill-rule=\"evenodd\" fill-opacity=\"1\" /><path clip-path=\"url(#clip040)\" d=\"M1854.86 1454.1 Q1851.25 1454.1 1849.42 1457.66 Q1847.62 1461.2 1847.62 1468.33 Q1847.62 1475.44 1849.42 1479.01 Q1851.25 1482.55 1854.86 1482.55 Q1858.5 1482.55 1860.3 1479.01 Q1862.13 1475.44 1862.13 1468.33 Q1862.13 1461.2 1860.3 1457.66 Q1858.5 1454.1 1854.86 1454.1 M1854.86 1450.39 Q1860.67 1450.39 1863.73 1455 Q1866.81 1459.58 1866.81 1468.33 Q1866.81 1477.06 1863.73 1481.67 Q1860.67 1486.25 1854.86 1486.25 Q1849.05 1486.25 1845.98 1481.67 Q1842.92 1477.06 1842.92 1468.33 Q1842.92 1459.58 1845.98 1455 Q1849.05 1450.39 1854.86 1450.39 Z\" fill=\"#000000\" fill-rule=\"evenodd\" fill-opacity=\"1\" /><path clip-path=\"url(#clip040)\" d=\"M2299.9 1455.09 L2288.1 1473.54 L2299.9 1473.54 L2299.9 1455.09 M2298.67 1451.02 L2304.55 1451.02 L2304.55 1473.54 L2309.49 1473.54 L2309.49 1477.43 L2304.55 1477.43 L2304.55 1485.58 L2299.9 1485.58 L2299.9 1477.43 L2284.3 1477.43 L2284.3 1472.92 L2298.67 1451.02 Z\" fill=\"#000000\" fill-rule=\"evenodd\" fill-opacity=\"1\" /><path clip-path=\"url(#clip040)\" d=\"M2317.26 1451.02 L2335.62 1451.02 L2335.62 1454.96 L2321.55 1454.96 L2321.55 1463.43 Q2322.56 1463.08 2323.58 1462.92 Q2324.6 1462.73 2325.62 1462.73 Q2331.41 1462.73 2334.79 1465.9 Q2338.17 1469.08 2338.17 1474.49 Q2338.17 1480.07 2334.69 1483.17 Q2331.22 1486.25 2324.9 1486.25 Q2322.73 1486.25 2320.46 1485.88 Q2318.21 1485.51 2315.8 1484.77 L2315.8 1480.07 Q2317.89 1481.2 2320.11 1481.76 Q2322.33 1482.32 2324.81 1482.32 Q2328.81 1482.32 2331.15 1480.21 Q2333.49 1478.1 2333.49 1474.49 Q2333.49 1470.88 2331.15 1468.77 Q2328.81 1466.67 2324.81 1466.67 Q2322.93 1466.67 2321.06 1467.08 Q2319.21 1467.5 2317.26 1468.38 L2317.26 1451.02 Z\" fill=\"#000000\" fill-rule=\"evenodd\" fill-opacity=\"1\" /><path clip-path=\"url(#clip040)\" d=\"M1279.95 1522.27 L1279.95 1532.4 L1292.02 1532.4 L1292.02 1536.95 L1279.95 1536.95 L1279.95 1556.3 Q1279.95 1560.66 1281.13 1561.9 Q1282.34 1563.14 1286 1563.14 L1292.02 1563.14 L1292.02 1568.04 L1286 1568.04 Q1279.22 1568.04 1276.64 1565.53 Q1274.06 1562.98 1274.06 1556.3 L1274.06 1536.95 L1269.77 1536.95 L1269.77 1532.4 L1274.06 1532.4 L1274.06 1522.27 L1279.95 1522.27 Z\" fill=\"#000000\" fill-rule=\"evenodd\" fill-opacity=\"1\" /><polyline clip-path=\"url(#clip042)\" style=\"stroke:#000000; stroke-linecap:butt; stroke-linejoin:round; stroke-width:2; stroke-opacity:0.1; fill:none\" points=\"\n",
       "  209.029,1156.19 2352.76,1156.19 \n",
       "  \"/>\n",
       "<polyline clip-path=\"url(#clip042)\" style=\"stroke:#000000; stroke-linecap:butt; stroke-linejoin:round; stroke-width:2; stroke-opacity:0.1; fill:none\" points=\"\n",
       "  209.029,888.686 2352.76,888.686 \n",
       "  \"/>\n",
       "<polyline clip-path=\"url(#clip042)\" style=\"stroke:#000000; stroke-linecap:butt; stroke-linejoin:round; stroke-width:2; stroke-opacity:0.1; fill:none\" points=\"\n",
       "  209.029,621.186 2352.76,621.186 \n",
       "  \"/>\n",
       "<polyline clip-path=\"url(#clip042)\" style=\"stroke:#000000; stroke-linecap:butt; stroke-linejoin:round; stroke-width:2; stroke-opacity:0.1; fill:none\" points=\"\n",
       "  209.029,353.686 2352.76,353.686 \n",
       "  \"/>\n",
       "<polyline clip-path=\"url(#clip042)\" style=\"stroke:#000000; stroke-linecap:butt; stroke-linejoin:round; stroke-width:2; stroke-opacity:0.1; fill:none\" points=\"\n",
       "  209.029,86.1857 2352.76,86.1857 \n",
       "  \"/>\n",
       "<polyline clip-path=\"url(#clip040)\" style=\"stroke:#000000; stroke-linecap:butt; stroke-linejoin:round; stroke-width:4; stroke-opacity:1; fill:none\" points=\"\n",
       "  209.029,1423.18 209.029,47.2441 \n",
       "  \"/>\n",
       "<polyline clip-path=\"url(#clip040)\" style=\"stroke:#000000; stroke-linecap:butt; stroke-linejoin:round; stroke-width:4; stroke-opacity:1; fill:none\" points=\"\n",
       "  209.029,1156.19 227.926,1156.19 \n",
       "  \"/>\n",
       "<polyline clip-path=\"url(#clip040)\" style=\"stroke:#000000; stroke-linecap:butt; stroke-linejoin:round; stroke-width:4; stroke-opacity:1; fill:none\" points=\"\n",
       "  209.029,888.686 227.926,888.686 \n",
       "  \"/>\n",
       "<polyline clip-path=\"url(#clip040)\" style=\"stroke:#000000; stroke-linecap:butt; stroke-linejoin:round; stroke-width:4; stroke-opacity:1; fill:none\" points=\"\n",
       "  209.029,621.186 227.926,621.186 \n",
       "  \"/>\n",
       "<polyline clip-path=\"url(#clip040)\" style=\"stroke:#000000; stroke-linecap:butt; stroke-linejoin:round; stroke-width:4; stroke-opacity:1; fill:none\" points=\"\n",
       "  209.029,353.686 227.926,353.686 \n",
       "  \"/>\n",
       "<polyline clip-path=\"url(#clip040)\" style=\"stroke:#000000; stroke-linecap:butt; stroke-linejoin:round; stroke-width:4; stroke-opacity:1; fill:none\" points=\"\n",
       "  209.029,86.1857 227.926,86.1857 \n",
       "  \"/>\n",
       "<path clip-path=\"url(#clip040)\" d=\"M50.9921 1156.64 L80.6679 1156.64 L80.6679 1160.57 L50.9921 1160.57 L50.9921 1156.64 Z\" fill=\"#000000\" fill-rule=\"evenodd\" fill-opacity=\"1\" /><path clip-path=\"url(#clip040)\" d=\"M103.608 1142.98 L91.8021 1161.43 L103.608 1161.43 L103.608 1142.98 M102.381 1138.91 L108.26 1138.91 L108.26 1161.43 L113.191 1161.43 L113.191 1165.32 L108.26 1165.32 L108.26 1173.47 L103.608 1173.47 L103.608 1165.32 L88.0058 1165.32 L88.0058 1160.8 L102.381 1138.91 Z\" fill=\"#000000\" fill-rule=\"evenodd\" fill-opacity=\"1\" /><path clip-path=\"url(#clip040)\" d=\"M130.922 1141.98 Q127.311 1141.98 125.482 1145.55 Q123.677 1149.09 123.677 1156.22 Q123.677 1163.33 125.482 1166.89 Q127.311 1170.43 130.922 1170.43 Q134.556 1170.43 136.362 1166.89 Q138.191 1163.33 138.191 1156.22 Q138.191 1149.09 136.362 1145.55 Q134.556 1141.98 130.922 1141.98 M130.922 1138.28 Q136.732 1138.28 139.788 1142.89 Q142.867 1147.47 142.867 1156.22 Q142.867 1164.95 139.788 1169.55 Q136.732 1174.14 130.922 1174.14 Q125.112 1174.14 122.033 1169.55 Q118.978 1164.95 118.978 1156.22 Q118.978 1147.47 122.033 1142.89 Q125.112 1138.28 130.922 1138.28 Z\" fill=\"#000000\" fill-rule=\"evenodd\" fill-opacity=\"1\" /><path clip-path=\"url(#clip040)\" d=\"M161.084 1141.98 Q157.473 1141.98 155.644 1145.55 Q153.839 1149.09 153.839 1156.22 Q153.839 1163.33 155.644 1166.89 Q157.473 1170.43 161.084 1170.43 Q164.718 1170.43 166.524 1166.89 Q168.353 1163.33 168.353 1156.22 Q168.353 1149.09 166.524 1145.55 Q164.718 1141.98 161.084 1141.98 M161.084 1138.28 Q166.894 1138.28 169.95 1142.89 Q173.029 1147.47 173.029 1156.22 Q173.029 1164.95 169.95 1169.55 Q166.894 1174.14 161.084 1174.14 Q155.274 1174.14 152.195 1169.55 Q149.14 1164.95 149.14 1156.22 Q149.14 1147.47 152.195 1142.89 Q155.274 1138.28 161.084 1138.28 Z\" fill=\"#000000\" fill-rule=\"evenodd\" fill-opacity=\"1\" /><path clip-path=\"url(#clip040)\" d=\"M50.9921 889.137 L80.6679 889.137 L80.6679 893.073 L50.9921 893.073 L50.9921 889.137 Z\" fill=\"#000000\" fill-rule=\"evenodd\" fill-opacity=\"1\" /><path clip-path=\"url(#clip040)\" d=\"M104.927 887.332 Q108.283 888.05 110.158 890.318 Q112.057 892.587 112.057 895.92 Q112.057 901.036 108.538 903.836 Q105.02 906.637 98.5382 906.637 Q96.3623 906.637 94.0475 906.198 Q91.7558 905.781 89.3021 904.924 L89.3021 900.411 Q91.2465 901.545 93.5613 902.124 Q95.8761 902.702 98.3993 902.702 Q102.797 902.702 105.089 900.966 Q107.404 899.23 107.404 895.92 Q107.404 892.864 105.251 891.151 Q103.121 889.415 99.3021 889.415 L95.2743 889.415 L95.2743 885.573 L99.4872 885.573 Q102.936 885.573 104.765 884.207 Q106.594 882.818 106.594 880.225 Q106.594 877.563 104.696 876.151 Q102.821 874.716 99.3021 874.716 Q97.3808 874.716 95.1817 875.133 Q92.9826 875.55 90.3438 876.429 L90.3438 872.263 Q93.0058 871.522 95.3206 871.151 Q97.6585 870.781 99.7187 870.781 Q105.043 870.781 108.145 873.212 Q111.246 875.619 111.246 879.739 Q111.246 882.61 109.603 884.6 Q107.959 886.568 104.927 887.332 Z\" fill=\"#000000\" fill-rule=\"evenodd\" fill-opacity=\"1\" /><path clip-path=\"url(#clip040)\" d=\"M130.922 874.485 Q127.311 874.485 125.482 878.05 Q123.677 881.591 123.677 888.721 Q123.677 895.827 125.482 899.392 Q127.311 902.934 130.922 902.934 Q134.556 902.934 136.362 899.392 Q138.191 895.827 138.191 888.721 Q138.191 881.591 136.362 878.05 Q134.556 874.485 130.922 874.485 M130.922 870.781 Q136.732 870.781 139.788 875.388 Q142.867 879.971 142.867 888.721 Q142.867 897.448 139.788 902.054 Q136.732 906.637 130.922 906.637 Q125.112 906.637 122.033 902.054 Q118.978 897.448 118.978 888.721 Q118.978 879.971 122.033 875.388 Q125.112 870.781 130.922 870.781 Z\" fill=\"#000000\" fill-rule=\"evenodd\" fill-opacity=\"1\" /><path clip-path=\"url(#clip040)\" d=\"M161.084 874.485 Q157.473 874.485 155.644 878.05 Q153.839 881.591 153.839 888.721 Q153.839 895.827 155.644 899.392 Q157.473 902.934 161.084 902.934 Q164.718 902.934 166.524 899.392 Q168.353 895.827 168.353 888.721 Q168.353 881.591 166.524 878.05 Q164.718 874.485 161.084 874.485 M161.084 870.781 Q166.894 870.781 169.95 875.388 Q173.029 879.971 173.029 888.721 Q173.029 897.448 169.95 902.054 Q166.894 906.637 161.084 906.637 Q155.274 906.637 152.195 902.054 Q149.14 897.448 149.14 888.721 Q149.14 879.971 152.195 875.388 Q155.274 870.781 161.084 870.781 Z\" fill=\"#000000\" fill-rule=\"evenodd\" fill-opacity=\"1\" /><path clip-path=\"url(#clip040)\" d=\"M50.9921 621.637 L80.6679 621.637 L80.6679 625.573 L50.9921 625.573 L50.9921 621.637 Z\" fill=\"#000000\" fill-rule=\"evenodd\" fill-opacity=\"1\" /><path clip-path=\"url(#clip040)\" d=\"M94.7882 634.531 L111.108 634.531 L111.108 638.466 L89.1632 638.466 L89.1632 634.531 Q91.8252 631.776 96.4085 627.147 Q101.015 622.494 102.196 621.151 Q104.441 618.628 105.321 616.892 Q106.223 615.133 106.223 613.443 Q106.223 610.688 104.279 608.952 Q102.358 607.216 99.2558 607.216 Q97.0567 607.216 94.603 607.98 Q92.1725 608.744 89.3947 610.295 L89.3947 605.573 Q92.2188 604.438 94.6724 603.86 Q97.1261 603.281 99.1632 603.281 Q104.534 603.281 107.728 605.966 Q110.922 608.651 110.922 613.142 Q110.922 615.272 110.112 617.193 Q109.325 619.091 107.219 621.684 Q106.64 622.355 103.538 625.573 Q100.436 628.767 94.7882 634.531 Z\" fill=\"#000000\" fill-rule=\"evenodd\" fill-opacity=\"1\" /><path clip-path=\"url(#clip040)\" d=\"M130.922 606.985 Q127.311 606.985 125.482 610.549 Q123.677 614.091 123.677 621.221 Q123.677 628.327 125.482 631.892 Q127.311 635.434 130.922 635.434 Q134.556 635.434 136.362 631.892 Q138.191 628.327 138.191 621.221 Q138.191 614.091 136.362 610.549 Q134.556 606.985 130.922 606.985 M130.922 603.281 Q136.732 603.281 139.788 607.887 Q142.867 612.471 142.867 621.221 Q142.867 629.947 139.788 634.554 Q136.732 639.137 130.922 639.137 Q125.112 639.137 122.033 634.554 Q118.978 629.947 118.978 621.221 Q118.978 612.471 122.033 607.887 Q125.112 603.281 130.922 603.281 Z\" fill=\"#000000\" fill-rule=\"evenodd\" fill-opacity=\"1\" /><path clip-path=\"url(#clip040)\" d=\"M161.084 606.985 Q157.473 606.985 155.644 610.549 Q153.839 614.091 153.839 621.221 Q153.839 628.327 155.644 631.892 Q157.473 635.434 161.084 635.434 Q164.718 635.434 166.524 631.892 Q168.353 628.327 168.353 621.221 Q168.353 614.091 166.524 610.549 Q164.718 606.985 161.084 606.985 M161.084 603.281 Q166.894 603.281 169.95 607.887 Q173.029 612.471 173.029 621.221 Q173.029 629.947 169.95 634.554 Q166.894 639.137 161.084 639.137 Q155.274 639.137 152.195 634.554 Q149.14 629.947 149.14 621.221 Q149.14 612.471 152.195 607.887 Q155.274 603.281 161.084 603.281 Z\" fill=\"#000000\" fill-rule=\"evenodd\" fill-opacity=\"1\" /><path clip-path=\"url(#clip040)\" d=\"M50.9921 354.137 L80.6679 354.137 L80.6679 358.072 L50.9921 358.072 L50.9921 354.137 Z\" fill=\"#000000\" fill-rule=\"evenodd\" fill-opacity=\"1\" /><path clip-path=\"url(#clip040)\" d=\"M91.5706 367.031 L99.2095 367.031 L99.2095 340.665 L90.8993 342.332 L90.8993 338.072 L99.1632 336.406 L103.839 336.406 L103.839 367.031 L111.478 367.031 L111.478 370.966 L91.5706 370.966 L91.5706 367.031 Z\" fill=\"#000000\" fill-rule=\"evenodd\" fill-opacity=\"1\" /><path clip-path=\"url(#clip040)\" d=\"M130.922 339.485 Q127.311 339.485 125.482 343.049 Q123.677 346.591 123.677 353.721 Q123.677 360.827 125.482 364.392 Q127.311 367.933 130.922 367.933 Q134.556 367.933 136.362 364.392 Q138.191 360.827 138.191 353.721 Q138.191 346.591 136.362 343.049 Q134.556 339.485 130.922 339.485 M130.922 335.781 Q136.732 335.781 139.788 340.387 Q142.867 344.971 142.867 353.721 Q142.867 362.447 139.788 367.054 Q136.732 371.637 130.922 371.637 Q125.112 371.637 122.033 367.054 Q118.978 362.447 118.978 353.721 Q118.978 344.971 122.033 340.387 Q125.112 335.781 130.922 335.781 Z\" fill=\"#000000\" fill-rule=\"evenodd\" fill-opacity=\"1\" /><path clip-path=\"url(#clip040)\" d=\"M161.084 339.485 Q157.473 339.485 155.644 343.049 Q153.839 346.591 153.839 353.721 Q153.839 360.827 155.644 364.392 Q157.473 367.933 161.084 367.933 Q164.718 367.933 166.524 364.392 Q168.353 360.827 168.353 353.721 Q168.353 346.591 166.524 343.049 Q164.718 339.485 161.084 339.485 M161.084 335.781 Q166.894 335.781 169.95 340.387 Q173.029 344.971 173.029 353.721 Q173.029 362.447 169.95 367.054 Q166.894 371.637 161.084 371.637 Q155.274 371.637 152.195 367.054 Q149.14 362.447 149.14 353.721 Q149.14 344.971 152.195 340.387 Q155.274 335.781 161.084 335.781 Z\" fill=\"#000000\" fill-rule=\"evenodd\" fill-opacity=\"1\" /><path clip-path=\"url(#clip040)\" d=\"M161.084 71.9844 Q157.473 71.9844 155.644 75.5492 Q153.839 79.0908 153.839 86.2204 Q153.839 93.3268 155.644 96.8916 Q157.473 100.433 161.084 100.433 Q164.718 100.433 166.524 96.8916 Q168.353 93.3268 168.353 86.2204 Q168.353 79.0908 166.524 75.5492 Q164.718 71.9844 161.084 71.9844 M161.084 68.2807 Q166.894 68.2807 169.95 72.8871 Q173.029 77.4704 173.029 86.2204 Q173.029 94.9472 169.95 99.5537 Q166.894 104.137 161.084 104.137 Q155.274 104.137 152.195 99.5537 Q149.14 94.9472 149.14 86.2204 Q149.14 77.4704 152.195 72.8871 Q155.274 68.2807 161.084 68.2807 Z\" fill=\"#000000\" fill-rule=\"evenodd\" fill-opacity=\"1\" /><polyline clip-path=\"url(#clip042)\" style=\"stroke:#008000; stroke-linecap:butt; stroke-linejoin:round; stroke-width:8; stroke-opacity:1; fill:none\" points=\"\n",
       "  209.029,86.1857 211.174,88.1321 213.32,90.0785 215.466,92.025 217.612,93.9714 219.758,95.9177 221.904,97.8641 224.05,99.8104 226.195,101.757 228.341,103.703 \n",
       "  230.487,105.649 232.633,107.595 234.779,109.541 236.925,111.487 239.071,113.433 241.217,115.379 243.362,117.324 245.508,119.27 247.654,121.215 249.8,123.161 \n",
       "  251.946,125.106 254.092,127.051 256.238,128.996 258.384,130.941 260.529,132.885 262.675,134.83 264.821,136.774 266.967,138.718 269.113,140.662 271.259,142.606 \n",
       "  273.405,144.55 275.551,146.493 277.696,148.437 279.842,150.38 281.988,152.322 284.134,154.265 286.28,156.207 288.426,158.15 290.572,160.091 292.718,162.033 \n",
       "  294.863,163.975 297.009,165.916 299.155,167.857 301.301,169.797 303.447,171.738 305.593,173.678 307.739,175.617 309.885,177.557 312.03,179.496 314.176,181.435 \n",
       "  316.322,183.374 318.468,185.312 320.614,187.25 322.76,189.187 324.906,191.125 327.052,193.061 329.197,194.998 331.343,196.934 333.489,198.87 335.635,200.805 \n",
       "  337.781,202.741 339.927,204.675 342.073,206.61 344.219,208.543 346.364,210.477 348.51,212.41 350.656,214.343 352.802,216.275 354.948,218.207 357.094,220.138 \n",
       "  359.24,222.069 361.386,224 363.531,225.93 365.677,227.859 367.823,229.789 369.969,231.717 372.115,233.645 374.261,235.573 376.407,237.5 378.552,239.427 \n",
       "  380.698,241.353 382.844,243.279 384.99,245.204 387.136,247.129 389.282,249.053 391.428,250.977 393.574,252.9 395.719,254.822 397.865,256.744 400.011,258.666 \n",
       "  402.157,260.587 404.303,262.507 406.449,264.427 408.595,266.346 410.741,268.264 412.886,270.182 415.032,272.1 417.178,274.016 419.324,275.933 421.47,277.848 \n",
       "  423.616,279.763 425.762,281.677 427.908,283.591 430.053,285.504 432.199,287.416 434.345,289.328 436.491,291.239 438.637,293.149 440.783,295.059 442.929,296.968 \n",
       "  445.075,298.876 447.22,300.784 449.366,302.691 451.512,304.597 453.658,306.503 455.804,308.407 457.95,310.312 460.096,312.215 462.242,314.118 464.387,316.019 \n",
       "  466.533,317.921 468.679,319.821 470.825,321.721 472.971,323.62 475.117,325.518 477.263,327.415 479.409,329.312 481.554,331.207 483.7,333.102 485.846,334.997 \n",
       "  487.992,336.89 490.138,338.783 492.284,340.674 494.43,342.565 496.576,344.456 498.721,346.345 500.867,348.233 503.013,350.121 505.159,352.008 507.305,353.894 \n",
       "  509.451,355.779 511.597,357.663 513.743,359.546 515.888,361.429 518.034,363.311 520.18,365.191 522.326,367.071 524.472,368.95 526.618,370.828 528.764,372.705 \n",
       "  530.909,374.581 533.055,376.457 535.201,378.331 537.347,380.204 539.493,382.077 541.639,383.948 543.785,385.819 545.931,387.689 548.076,389.557 550.222,391.425 \n",
       "  552.368,393.292 554.514,395.158 556.66,397.022 558.806,398.886 560.952,400.749 563.098,402.611 565.243,404.472 567.389,406.331 569.535,408.19 571.681,410.048 \n",
       "  573.827,411.905 575.973,413.761 578.119,415.615 580.265,417.469 582.41,419.322 584.556,421.173 586.702,423.024 588.848,424.873 590.994,426.722 593.14,428.569 \n",
       "  595.286,430.415 597.432,432.26 599.577,434.104 601.723,435.947 603.869,437.789 606.015,439.63 608.161,441.47 610.307,443.308 612.453,445.146 614.599,446.982 \n",
       "  616.744,448.817 618.89,450.651 621.036,452.484 623.182,454.316 625.328,456.147 627.474,457.976 629.62,459.805 631.766,461.632 633.911,463.458 636.057,465.283 \n",
       "  638.203,467.107 640.349,468.929 642.495,470.75 644.641,472.57 646.787,474.389 648.933,476.207 651.078,478.024 653.224,479.839 655.37,481.653 657.516,483.466 \n",
       "  659.662,485.278 661.808,487.088 663.954,488.897 666.1,490.705 668.245,492.512 670.391,494.317 672.537,496.122 674.683,497.925 676.829,499.726 678.975,501.527 \n",
       "  681.121,503.326 683.267,505.124 685.412,506.92 687.558,508.716 689.704,510.51 691.85,512.302 693.996,514.094 696.142,515.884 698.288,517.673 700.433,519.46 \n",
       "  702.579,521.247 704.725,523.031 706.871,524.815 709.017,526.597 711.163,528.378 713.309,530.158 715.455,531.936 717.6,533.713 719.746,535.488 721.892,537.262 \n",
       "  724.038,539.035 726.184,540.807 728.33,542.577 730.476,544.345 732.622,546.113 734.767,547.879 736.913,549.643 739.059,551.406 741.205,553.168 743.351,554.928 \n",
       "  745.497,556.687 747.643,558.445 749.789,560.201 751.934,561.956 754.08,563.709 756.226,565.461 758.372,567.212 760.518,568.961 762.664,570.708 764.81,572.454 \n",
       "  766.956,574.199 769.101,575.942 771.247,577.684 773.393,579.425 775.539,581.163 777.685,582.901 779.831,584.637 781.977,586.371 784.123,588.104 786.268,589.836 \n",
       "  788.414,591.566 790.56,593.295 792.706,595.022 794.852,596.747 796.998,598.471 799.144,600.194 801.29,601.915 803.435,603.635 805.581,605.353 807.727,607.069 \n",
       "  809.873,608.784 812.019,610.498 814.165,612.21 816.311,613.92 818.457,615.629 820.602,617.337 822.748,619.042 824.894,620.747 827.04,622.45 829.186,624.151 \n",
       "  831.332,625.85 833.478,627.548 835.624,629.245 837.769,630.94 839.915,632.633 842.061,634.325 844.207,636.015 846.353,637.704 848.499,639.391 850.645,641.077 \n",
       "  852.79,642.761 854.936,644.443 857.082,646.124 859.228,647.803 861.374,649.48 863.52,651.156 865.666,652.831 867.812,654.503 869.957,656.174 872.103,657.844 \n",
       "  874.249,659.512 876.395,661.178 878.541,662.842 880.687,664.505 882.833,666.167 884.979,667.826 887.124,669.484 889.27,671.141 891.416,672.796 893.562,674.449 \n",
       "  895.708,676.1 897.854,677.75 900,679.398 902.146,681.044 904.291,682.689 906.437,684.332 908.583,685.974 910.729,687.614 912.875,689.252 915.021,690.888 \n",
       "  917.167,692.523 919.313,694.156 921.458,695.787 923.604,697.417 925.75,699.045 927.896,700.672 930.042,702.296 932.188,703.919 934.334,705.54 936.48,707.16 \n",
       "  938.625,708.778 940.771,710.394 942.917,712.008 945.063,713.621 947.209,715.232 949.355,716.841 951.501,718.448 953.647,720.054 955.792,721.658 957.938,723.26 \n",
       "  960.084,724.861 962.23,726.46 964.376,728.057 966.522,729.652 968.668,731.246 970.814,732.838 972.959,734.428 975.105,736.016 977.251,737.603 979.397,739.188 \n",
       "  981.543,740.771 983.689,742.352 985.835,743.932 987.981,745.509 990.126,747.085 992.272,748.66 994.418,750.232 996.564,751.803 998.71,753.372 1000.86,754.939 \n",
       "  1003,756.504 1005.15,758.068 1007.29,759.63 1009.44,761.19 1011.59,762.748 1013.73,764.304 1015.88,765.859 1018.02,767.412 1020.17,768.963 1022.31,770.512 \n",
       "  1024.46,772.06 1026.61,773.605 1028.75,775.149 1030.9,776.691 1033.04,778.232 1035.19,779.77 1037.34,781.307 1039.48,782.841 1041.63,784.374 1043.77,785.905 \n",
       "  1045.92,787.435 1048.06,788.962 1050.21,790.488 1052.36,792.012 1054.5,793.534 1056.65,795.054 1058.79,796.573 1060.94,798.089 1063.09,799.604 1065.23,801.117 \n",
       "  1067.38,802.628 1069.52,804.137 1071.67,805.644 1073.82,807.15 1075.96,808.653 1078.11,810.155 1080.25,811.655 1082.4,813.153 1084.54,814.65 1086.69,816.144 \n",
       "  1088.84,817.637 1090.98,819.127 1093.13,820.616 1095.27,822.103 1097.42,823.588 1099.57,825.072 1101.71,826.553 1103.86,828.033 1106,829.51 1108.15,830.986 \n",
       "  1110.3,832.46 1112.44,833.932 1114.59,835.402 1116.73,836.871 1118.88,838.337 1121.02,839.802 1123.17,841.265 1125.32,842.725 1127.46,844.184 1129.61,845.641 \n",
       "  1131.75,847.097 1133.9,848.55 1136.05,850.001 1138.19,851.451 1140.34,852.899 1142.48,854.345 1144.63,855.788 1146.78,857.23 1148.92,858.671 1151.07,860.109 \n",
       "  1153.21,861.545 1155.36,862.98 1157.5,864.412 1159.65,865.843 1161.8,867.272 1163.94,868.699 1166.09,870.124 1168.23,871.547 1170.38,872.968 1172.53,874.387 \n",
       "  1174.67,875.804 1176.82,877.22 1178.96,878.634 1181.11,880.045 1183.25,881.455 1185.4,882.863 1187.55,884.269 1189.69,885.673 1191.84,887.075 1193.98,888.475 \n",
       "  1196.13,889.874 1198.28,891.27 1200.42,892.665 1202.57,894.057 1204.71,895.448 1206.86,896.837 1209.01,898.223 1211.15,899.608 1213.3,900.991 1215.44,902.373 \n",
       "  1217.59,903.752 1219.73,905.129 1221.88,906.504 1224.03,907.878 1226.17,909.25 1228.32,910.619 1230.46,911.987 1232.61,913.353 1234.76,914.717 1236.9,916.078 \n",
       "  1239.05,917.438 1241.19,918.797 1243.34,920.153 1245.49,921.507 1247.63,922.859 1249.78,924.21 1251.92,925.558 1254.07,926.905 1256.21,928.25 1258.36,929.592 \n",
       "  1260.51,930.933 1262.65,932.272 1264.8,933.609 1266.94,934.944 1269.09,936.277 1271.24,937.608 1273.38,938.938 1275.53,940.265 1277.67,941.59 1279.82,942.914 \n",
       "  1281.97,944.235 1284.11,945.555 1286.26,946.873 1288.4,948.188 1290.55,949.502 1292.69,950.814 1294.84,952.124 1296.99,953.432 1299.13,954.738 1301.28,956.043 \n",
       "  1303.42,957.345 1305.57,958.645 1307.72,959.944 1309.86,961.24 1312.01,962.535 1314.15,963.827 1316.3,965.118 1318.44,966.407 1320.59,967.694 1322.74,968.979 \n",
       "  1324.88,970.262 1327.03,971.543 1329.17,972.822 1331.32,974.099 1333.47,975.375 1335.61,976.648 1337.76,977.919 1339.9,979.189 1342.05,980.456 1344.2,981.722 \n",
       "  1346.34,982.986 1348.49,984.248 1350.63,985.508 1352.78,986.766 1354.92,988.022 1357.07,989.276 1359.22,990.528 1361.36,991.778 1363.51,993.027 1365.65,994.273 \n",
       "  1367.8,995.518 1369.95,996.76 1372.09,998.001 1374.24,999.24 1376.38,1000.48 1378.53,1001.71 1380.68,1002.94 1382.82,1004.18 1384.97,1005.4 1387.11,1006.63 \n",
       "  1389.26,1007.86 1391.4,1009.08 1393.55,1010.3 1395.7,1011.52 1397.84,1012.74 1399.99,1013.95 1402.13,1015.17 1404.28,1016.38 1406.43,1017.59 1408.57,1018.8 \n",
       "  1410.72,1020 1412.86,1021.21 1415.01,1022.41 1417.16,1023.61 1419.3,1024.81 1421.45,1026.01 1423.59,1027.2 1425.74,1028.39 1427.88,1029.58 1430.03,1030.77 \n",
       "  1432.18,1031.96 1434.32,1033.15 1436.47,1034.33 1438.61,1035.51 1440.76,1036.69 1442.91,1037.87 1445.05,1039.04 1447.2,1040.22 1449.34,1041.39 1451.49,1042.56 \n",
       "  1453.64,1043.73 1455.78,1044.89 1457.93,1046.06 1460.07,1047.22 1462.22,1048.38 1464.36,1049.54 1466.51,1050.69 1468.66,1051.85 1470.8,1053 1472.95,1054.15 \n",
       "  1475.09,1055.3 1477.24,1056.45 1479.39,1057.59 1481.53,1058.74 1483.68,1059.88 1485.82,1061.02 1487.97,1062.16 1490.11,1063.29 1492.26,1064.43 1494.41,1065.56 \n",
       "  1496.55,1066.69 1498.7,1067.82 1500.84,1068.94 1502.99,1070.07 1505.14,1071.19 1507.28,1072.31 1509.43,1073.43 1511.57,1074.55 1513.72,1075.66 1515.87,1076.78 \n",
       "  1518.01,1077.89 1520.16,1079 1522.3,1080.1 1524.45,1081.21 1526.59,1082.31 1528.74,1083.42 1530.89,1084.52 1533.03,1085.61 1535.18,1086.71 1537.32,1087.8 \n",
       "  1539.47,1088.9 1541.62,1089.99 1543.76,1091.08 1545.91,1092.16 1548.05,1093.25 1550.2,1094.33 1552.35,1095.41 1554.49,1096.49 1556.64,1097.57 1558.78,1098.65 \n",
       "  1560.93,1099.72 1563.07,1100.79 1565.22,1101.87 1567.37,1102.93 1569.51,1104 1571.66,1105.07 1573.8,1106.13 1575.95,1107.19 1578.1,1108.25 1580.24,1109.31 \n",
       "  1582.39,1110.36 1584.53,1111.42 1586.68,1112.47 1588.83,1113.52 1590.97,1114.57 1593.12,1115.61 1595.26,1116.66 1597.41,1117.7 1599.55,1118.74 1601.7,1119.78 \n",
       "  1603.85,1120.82 1605.99,1121.85 1608.14,1122.89 1610.28,1123.92 1612.43,1124.95 1614.58,1125.98 1616.72,1127 1618.87,1128.03 1621.01,1129.05 1623.16,1130.07 \n",
       "  1625.3,1131.09 1627.45,1132.11 1629.6,1133.13 1631.74,1134.14 1633.89,1135.15 1636.03,1136.16 1638.18,1137.17 1640.33,1138.18 1642.47,1139.18 1644.62,1140.18 \n",
       "  1646.76,1141.19 1648.91,1142.19 1651.06,1143.18 1653.2,1144.18 1655.35,1145.17 1657.49,1146.16 1659.64,1147.16 1661.78,1148.14 1663.93,1149.13 1666.08,1150.12 \n",
       "  1668.22,1151.1 1670.37,1152.08 1672.51,1153.06 1674.66,1154.04 1676.81,1155.02 1678.95,1155.99 1681.1,1156.96 1683.24,1157.93 1685.39,1158.9 1687.54,1159.87 \n",
       "  1689.68,1160.84 1691.83,1161.8 1693.97,1162.76 1696.12,1163.72 1698.26,1164.68 1700.41,1165.64 1702.56,1166.59 1704.7,1167.55 1706.85,1168.5 1708.99,1169.45 \n",
       "  1711.14,1170.39 1713.29,1171.34 1715.43,1172.29 1717.58,1173.23 1719.72,1174.17 1721.87,1175.11 1724.02,1176.05 1726.16,1176.98 1728.31,1177.92 1730.45,1178.85 \n",
       "  1732.6,1179.78 1734.74,1180.71 1736.89,1181.64 1739.04,1182.56 1741.18,1183.49 1743.33,1184.41 1745.47,1185.33 1747.62,1186.25 1749.77,1187.16 1751.91,1188.08 \n",
       "  1754.06,1188.99 1756.2,1189.9 1758.35,1190.81 1760.49,1191.72 1762.64,1192.63 1764.79,1193.53 1766.93,1194.44 1769.08,1195.34 1771.22,1196.24 1773.37,1197.14 \n",
       "  1775.52,1198.03 1777.66,1198.93 1779.81,1199.82 1781.95,1200.71 1784.1,1201.6 1786.25,1202.49 1788.39,1203.38 1790.54,1204.26 1792.68,1205.14 1794.83,1206.03 \n",
       "  1796.97,1206.9 1799.12,1207.78 1801.27,1208.66 1803.41,1209.53 1805.56,1210.41 1807.7,1211.28 1809.85,1212.15 1812,1213.02 1814.14,1213.88 1816.29,1214.75 \n",
       "  1818.43,1215.61 1820.58,1216.47 1822.73,1217.33 1824.87,1218.19 1827.02,1219.04 1829.16,1219.9 1831.31,1220.75 1833.45,1221.6 1835.6,1222.45 1837.75,1223.3 \n",
       "  1839.89,1224.15 1842.04,1224.99 1844.18,1225.84 1846.33,1226.68 1848.48,1227.52 1850.62,1228.36 1852.77,1229.19 1854.91,1230.03 1857.06,1230.86 1859.21,1231.69 \n",
       "  1861.35,1232.52 1863.5,1233.35 1865.64,1234.18 1867.79,1235 1869.93,1235.83 1872.08,1236.65 1874.23,1237.47 1876.37,1238.29 1878.52,1239.11 1880.66,1239.92 \n",
       "  1882.81,1240.74 1884.96,1241.55 1887.1,1242.36 1889.25,1243.17 1891.39,1243.98 1893.54,1244.78 1895.68,1245.59 1897.83,1246.39 1899.98,1247.19 1902.12,1247.99 \n",
       "  1904.27,1248.79 1906.41,1249.59 1908.56,1250.38 1910.71,1251.18 1912.85,1251.97 1915,1252.76 1917.14,1253.55 1919.29,1254.33 1921.44,1255.12 1923.58,1255.9 \n",
       "  1925.73,1256.69 1927.87,1257.47 1930.02,1258.25 1932.16,1259.03 1934.31,1259.8 1936.46,1260.58 1938.6,1261.35 1940.75,1262.12 1942.89,1262.89 1945.04,1263.66 \n",
       "  1947.19,1264.43 1949.33,1265.19 1951.48,1265.96 1953.62,1266.72 1955.77,1267.48 1957.92,1268.24 1960.06,1269 1962.21,1269.75 1964.35,1270.51 1966.5,1271.26 \n",
       "  1968.64,1272.01 1970.79,1272.76 1972.94,1273.51 1975.08,1274.26 1977.23,1275.01 1979.37,1275.75 1981.52,1276.49 1983.67,1277.24 1985.81,1277.98 1987.96,1278.71 \n",
       "  1990.1,1279.45 1992.25,1280.19 1994.4,1280.92 1996.54,1281.65 1998.69,1282.38 2000.83,1283.11 2002.98,1283.84 2005.12,1284.57 2007.27,1285.29 2009.42,1286.01 \n",
       "  2011.56,1286.74 2013.71,1287.46 2015.85,1288.18 2018,1288.89 2020.15,1289.61 2022.29,1290.32 2024.44,1291.04 2026.58,1291.75 2028.73,1292.46 2030.87,1293.17 \n",
       "  2033.02,1293.88 2035.17,1294.58 2037.31,1295.29 2039.46,1295.99 2041.6,1296.69 2043.75,1297.39 2045.9,1298.09 2048.04,1298.79 2050.19,1299.48 2052.33,1300.18 \n",
       "  2054.48,1300.87 2056.63,1301.56 2058.77,1302.25 2060.92,1302.94 2063.06,1303.63 2065.21,1304.31 2067.35,1305 2069.5,1305.68 2071.65,1306.36 2073.79,1307.04 \n",
       "  2075.94,1307.72 2078.08,1308.4 2080.23,1309.07 2082.38,1309.75 2084.52,1310.42 2086.67,1311.09 2088.81,1311.76 2090.96,1312.43 2093.11,1313.1 2095.25,1313.77 \n",
       "  2097.4,1314.43 2099.54,1315.09 2101.69,1315.76 2103.83,1316.42 2105.98,1317.08 2108.13,1317.73 2110.27,1318.39 2112.42,1319.05 2114.56,1319.7 2116.71,1320.35 \n",
       "  2118.86,1321 2121,1321.65 2123.15,1322.3 2125.29,1322.95 2127.44,1323.59 2129.59,1324.24 2131.73,1324.88 2133.88,1325.52 2136.02,1326.16 2138.17,1326.8 \n",
       "  2140.31,1327.44 2142.46,1328.07 2144.61,1328.71 2146.75,1329.34 2148.9,1329.97 2151.04,1330.61 2153.19,1331.23 2155.34,1331.86 2157.48,1332.49 2159.63,1333.12 \n",
       "  2161.77,1333.74 2163.92,1334.36 2166.06,1334.98 2168.21,1335.6 2170.36,1336.22 2172.5,1336.84 2174.65,1337.46 2176.79,1338.07 2178.94,1338.68 2181.09,1339.3 \n",
       "  2183.23,1339.91 2185.38,1340.52 2187.52,1341.13 2189.67,1341.73 2191.82,1342.34 2193.96,1342.94 2196.11,1343.55 2198.25,1344.15 2200.4,1344.75 2202.54,1345.35 \n",
       "  2204.69,1345.95 2206.84,1346.54 2208.98,1347.14 2211.13,1347.73 2213.27,1348.33 2215.42,1348.92 2217.57,1349.51 2219.71,1350.1 2221.86,1350.68 2224,1351.27 \n",
       "  2226.15,1351.86 2228.3,1352.44 2230.44,1353.02 2232.59,1353.61 2234.73,1354.19 2236.88,1354.76 2239.02,1355.34 2241.17,1355.92 2243.32,1356.49 2245.46,1357.07 \n",
       "  2247.61,1357.64 2249.75,1358.21 2251.9,1358.78 2254.05,1359.35 2256.19,1359.92 2258.34,1360.49 2260.48,1361.05 2262.63,1361.62 2264.78,1362.18 2266.92,1362.74 \n",
       "  2269.07,1363.3 2271.21,1363.86 2273.36,1364.42 2275.5,1364.98 2277.65,1365.53 2279.8,1366.09 2281.94,1366.64 2284.09,1367.19 2286.23,1367.74 2288.38,1368.29 \n",
       "  2290.53,1368.84 2292.67,1369.39 2294.82,1369.94 2296.96,1370.48 2299.11,1371.02 2301.25,1371.57 2303.4,1372.11 2305.55,1372.65 2307.69,1373.19 2309.84,1373.73 \n",
       "  2311.98,1374.26 2314.13,1374.8 2316.28,1375.33 2318.42,1375.87 2320.57,1376.4 2322.71,1376.93 2324.86,1377.46 2327.01,1377.99 2329.15,1378.51 2331.3,1379.04 \n",
       "  2333.44,1379.56 2335.59,1380.09 2337.73,1380.61 2339.88,1381.13 2342.03,1381.65 2344.17,1382.17 2346.32,1382.69 2348.46,1383.21 2350.61,1383.72 2352.76,1384.24 \n",
       "  \n",
       "  \"/>\n",
       "<path clip-path=\"url(#clip040)\" d=\"\n",
       "M1935.42 196.789 L2281.3 196.789 L2281.3 93.1086 L1935.42 93.1086  Z\n",
       "  \" fill=\"#ffffff\" fill-rule=\"evenodd\" fill-opacity=\"1\"/>\n",
       "<polyline clip-path=\"url(#clip040)\" style=\"stroke:#000000; stroke-linecap:butt; stroke-linejoin:round; stroke-width:4; stroke-opacity:1; fill:none\" points=\"\n",
       "  1935.42,196.789 2281.3,196.789 2281.3,93.1086 1935.42,93.1086 1935.42,196.789 \n",
       "  \"/>\n",
       "<polyline clip-path=\"url(#clip040)\" style=\"stroke:#008000; stroke-linecap:butt; stroke-linejoin:round; stroke-width:4; stroke-opacity:1; fill:none\" points=\"\n",
       "  1959.24,144.949 2102.16,144.949 \n",
       "  \"/>\n",
       "<path clip-path=\"url(#clip040)\" d=\"M2125.98 151.997 L2125.98 136.303 L2130.23 136.303 L2130.23 151.835 Q2130.23 155.516 2131.67 157.368 Q2133.1 159.196 2135.98 159.196 Q2139.42 159.196 2141.42 156.997 Q2143.43 154.798 2143.43 151.002 L2143.43 136.303 L2147.69 136.303 L2147.69 162.229 L2143.43 162.229 L2143.43 158.247 Q2141.88 160.608 2139.82 161.766 Q2137.78 162.9 2135.07 162.9 Q2130.6 162.9 2128.29 160.122 Q2125.98 157.344 2125.98 151.997 M2136.69 135.678 L2136.69 135.678 Z\" fill=\"#000000\" fill-rule=\"evenodd\" fill-opacity=\"1\" /><path clip-path=\"url(#clip040)\" d=\"M2157.87 158.293 L2165.51 158.293 L2165.51 131.928 L2157.2 133.595 L2157.2 129.335 L2165.47 127.669 L2170.14 127.669 L2170.14 158.293 L2177.78 158.293 L2177.78 162.229 L2157.87 162.229 L2157.87 158.293 Z\" fill=\"#000000\" fill-rule=\"evenodd\" fill-opacity=\"1\" /><path clip-path=\"url(#clip040)\" d=\"M2196.85 126.257 Q2193.75 131.581 2192.25 136.789 Q2190.74 141.997 2190.74 147.344 Q2190.74 152.692 2192.25 157.946 Q2193.78 163.178 2196.85 168.479 L2193.15 168.479 Q2189.68 163.039 2187.94 157.784 Q2186.23 152.53 2186.23 147.344 Q2186.23 142.182 2187.94 136.951 Q2189.66 131.72 2193.15 126.257 L2196.85 126.257 Z\" fill=\"#000000\" fill-rule=\"evenodd\" fill-opacity=\"1\" /><path clip-path=\"url(#clip040)\" d=\"M2209.33 128.942 L2209.33 136.303 L2218.1 136.303 L2218.1 139.613 L2209.33 139.613 L2209.33 153.687 Q2209.33 156.858 2210.19 157.761 Q2211.07 158.664 2213.73 158.664 L2218.1 158.664 L2218.1 162.229 L2213.73 162.229 Q2208.8 162.229 2206.92 160.4 Q2205.05 158.548 2205.05 153.687 L2205.05 139.613 L2201.92 139.613 L2201.92 136.303 L2205.05 136.303 L2205.05 128.942 L2209.33 128.942 Z\" fill=\"#000000\" fill-rule=\"evenodd\" fill-opacity=\"1\" /><path clip-path=\"url(#clip040)\" d=\"M2223.03 126.257 L2226.74 126.257 Q2230.21 131.72 2231.92 136.951 Q2233.66 142.182 2233.66 147.344 Q2233.66 152.53 2231.92 157.784 Q2230.21 163.039 2226.74 168.479 L2223.03 168.479 Q2226.11 163.178 2227.62 157.946 Q2229.15 152.692 2229.15 147.344 Q2229.15 141.997 2227.62 136.789 Q2226.11 131.581 2223.03 126.257 Z\" fill=\"#000000\" fill-rule=\"evenodd\" fill-opacity=\"1\" /></svg>\n"
      ]
     },
     "execution_count": 52,
     "metadata": {},
     "output_type": "execute_result"
    }
   ],
   "source": [
    "f(u,p,t)=-(*(-ar,^(u,2)),g)\n",
    "u0=0\n",
    "tspan=(22.724,45.44)\n",
    "problem=ODEProblem(f,u0,tspan)\n",
    "sol=solve(problem,Tsit5(),reltol=1e-8,abstol=1e-8)\n",
    "using Plots\n",
    "plot(sol,lw=2,lc=:green)"
   ]
  },
  {
   "cell_type": "code",
   "execution_count": 55,
   "id": "f480c87d",
   "metadata": {},
   "outputs": [
    {
     "data": {
      "text/plain": [
       "-485.2530471006562"
      ]
     },
     "execution_count": 55,
     "metadata": {},
     "output_type": "execute_result"
    }
   ],
   "source": [
    "sol.u[33]"
   ]
  },
  {
   "cell_type": "code",
   "execution_count": 2,
   "id": "77e6213c",
   "metadata": {},
   "outputs": [],
   "source": [
    "using SymPy"
   ]
  },
  {
   "cell_type": "code",
   "execution_count": 3,
   "id": "a9db9b84",
   "metadata": {},
   "outputs": [
    {
     "data": {
      "text/plain": [
       "(x,)"
      ]
     },
     "execution_count": 3,
     "metadata": {},
     "output_type": "execute_result"
    }
   ],
   "source": [
    "@vars x"
   ]
  },
  {
   "cell_type": "code",
   "execution_count": 4,
   "id": "2597fbe0",
   "metadata": {},
   "outputs": [
    {
     "data": {
      "text/latex": [
       "$- \\operatorname{asin}{\\left(\\frac{x}{3} \\right)} - \\frac{\\sqrt{9 - x^{2}}}{x}$"
      ],
      "text/plain": [
       "               ________\n",
       "              ╱      2 \n",
       "      ⎛x⎞   ╲╱  9 - x  \n",
       "- asin⎜─⎟ - ───────────\n",
       "      ⎝3⎠        x     "
      ]
     },
     "execution_count": 4,
     "metadata": {},
     "output_type": "execute_result"
    }
   ],
   "source": [
    "SymPy.integrate(/(sqrt(-(9,^(x,2))),^(x,2)))"
   ]
  },
  {
   "cell_type": "code",
   "execution_count": 5,
   "id": "1edb742f",
   "metadata": {},
   "outputs": [
    {
     "data": {
      "text/latex": [
       "$- \\frac{\\sqrt{1 + \\frac{16}{x^{2}}}}{48} - \\frac{\\sqrt{1 + \\frac{16}{x^{2}}}}{3 x^{2}}$"
      ],
      "text/plain": [
       "       ________        ________\n",
       "      ╱     16        ╱     16 \n",
       "     ╱  1 + ──       ╱  1 + ── \n",
       "    ╱        2      ╱        2 \n",
       "  ╲╱        x     ╲╱        x  \n",
       "- ───────────── - ─────────────\n",
       "        48                2    \n",
       "                       3⋅x     "
      ]
     },
     "execution_count": 5,
     "metadata": {},
     "output_type": "execute_result"
    }
   ],
   "source": [
    "SymPy.integrate(/(sqrt(+(^(x,2),16)),^(x,4)))"
   ]
  },
  {
   "cell_type": "code",
   "execution_count": 8,
   "id": "6e449bd5",
   "metadata": {},
   "outputs": [
    {
     "data": {
      "text/latex": [
       "$- \\frac{\\sqrt{x^{2} + 16}}{16 x^{2}} + \\frac{\\left(x^{2} + 16\\right)^{\\frac{3}{2}}}{16 x^{4}}$"
      ],
      "text/plain": [
       "     _________            3/2\n",
       "    ╱  2         ⎛ 2     ⎞   \n",
       "  ╲╱  x  + 16    ⎝x  + 16⎠   \n",
       "- ──────────── + ────────────\n",
       "         2              4    \n",
       "     16⋅x           16⋅x     "
      ]
     },
     "execution_count": 8,
     "metadata": {},
     "output_type": "execute_result"
    }
   ],
   "source": [
    "SymPy.diff(/(^(-sqrt(+(^(x,2),16)),3),*(48,^(x,3))))"
   ]
  },
  {
   "cell_type": "code",
   "execution_count": 9,
   "id": "d6d69e5c",
   "metadata": {},
   "outputs": [
    {
     "data": {
      "text/latex": [
       "$\\frac{x^{4} + 48 x^{2} + 384}{24 x^{4} \\sqrt{x^{2} + 16}}$"
      ],
      "text/plain": [
       "  4       2       \n",
       " x  + 48⋅x  + 384 \n",
       "──────────────────\n",
       "         _________\n",
       "    4   ╱  2      \n",
       "24⋅x ⋅╲╱  x  + 16 "
      ]
     },
     "execution_count": 9,
     "metadata": {},
     "output_type": "execute_result"
    }
   ],
   "source": [
    "SymPy.simplify(-(/(^(sqrt(+(^(x,2),16)),3),*(16,^(x,4))),/(1,*(48,sqrt(+(^(x,2),16))))))"
   ]
  },
  {
   "cell_type": "code",
   "execution_count": 10,
   "id": "7f227ebe",
   "metadata": {},
   "outputs": [
    {
     "data": {
      "text/latex": [
       "$- \\frac{0.0625 \\left(x^{2} + 16\\right)^{0.5}}{x^{2}} + \\frac{0.0625 \\left(x^{2} + 16\\right)^{1.5}}{x^{4}}$"
      ],
      "text/plain": [
       "                  0.5                   1.5\n",
       "         ⎛ 2     ⎞             ⎛ 2     ⎞   \n",
       "  0.0625⋅⎝x  + 16⎠      0.0625⋅⎝x  + 16⎠   \n",
       "- ─────────────────── + ───────────────────\n",
       "            2                     4        \n",
       "           x                     x         "
      ]
     },
     "execution_count": 10,
     "metadata": {},
     "output_type": "execute_result"
    }
   ],
   "source": [
    "SymPy.diff(*(/(-1,48),/(^(+(^(x,2),16),/(3,2)),^(x,3))))"
   ]
  },
  {
   "cell_type": "markdown",
   "id": "b1826e14",
   "metadata": {},
   "source": [
    "Let $a=0.0001,x_1(t)=x(t),x_2(t)=x'(t),x_3(t)=y(t),x_4(t)=y'(t),x_5(t)=y(t),x_6(t)=y'(t),g=32$ with the domain of $x_3,x_4$ where the projectile ascends and the domain of $x_5,x_6$ where the projectile descends. Let $C_i$ be the constant of integration corresponding to $x_i$. Then the system is\n",
    "$$\n",
    "\\begin{align*}\n",
    "x_1'&=x_2\\\\\n",
    "x_2'&=-ax_2^2-ax_4^2\\\\\n",
    "x_3'&=x_4\\\\\n",
    "x_4'&=-ax_2^2-ax_4^2-g\\\\\n",
    "x_5'&=x_6\\\\\n",
    "x_6'&=ax_2^2+ax_6^2-g\n",
    "\\end{align*}\n",
    "$$\n",
    "with \n",
    "$$\n",
    "\\begin{align*}\n",
    "x_1(0)&=0\\\\\n",
    "x_2(0)&=3000\\cos(40^{\\circ})\\\\\n",
    "x_3(0)&=0\\\\\n",
    "x_4(0)&=3000\\sin(40^{\\circ})\\\\\n",
    "x_5(\\hat{x})&=\\hat{y}\\\\\n",
    "x_6(\\hat{x})&=0\\\\\n",
    "\\end{align*}\n",
    "$$\n",
    "The projectile ascends on the interval $(0,\\hat{x})$ and reaches a maximum altitude of $\\hat{y}$."
   ]
  }
 ],
 "metadata": {
  "kernelspec": {
   "display_name": "Julia 1.7.2",
   "language": "julia",
   "name": "julia-1.7"
  },
  "language_info": {
   "file_extension": ".jl",
   "mimetype": "application/julia",
   "name": "julia",
   "version": "1.7.2"
  }
 },
 "nbformat": 4,
 "nbformat_minor": 5
}
