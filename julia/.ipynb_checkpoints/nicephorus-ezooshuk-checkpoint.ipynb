{
 "cells": [
  {
   "cell_type": "markdown",
   "metadata": {
    "collapsed": false
   },
   "source": [
    "<h4>Euler's Equation</h4>"
   ]
  },
  {
   "cell_type": "markdown",
   "metadata": {
    "collapsed": false
   },
   "source": [
    "Solve $$x^{2}y''+xy'-y=0$$"
   ]
  },
  {
   "cell_type": "markdown",
   "metadata": {
    "collapsed": false
   },
   "source": [
    "We make the substitution $u=\\ln{}x$. Note that $x\\,du=dx$ (leave it like this!), but\n",
    "$$\n",
    "\\frac{d}{dx}\\frac{dy}{dx}=\\frac{d}{x\\,du}\\frac{dy}{x\\,du}\\neq\\frac{1}{x^{2}}\\frac{d^{2}y}{du^{2}}\n",
    "$$"
   ]
  },
  {
   "cell_type": "markdown",
   "metadata": {
    "collapsed": false
   },
   "source": [
    "rather,\n",
    "$$\n",
    "\\frac{d}{dx}\\frac{dy}{dx}=\\frac{d}{dx}\\frac{dy}{x\\,du}=\\frac{d}{dx}\\left(\\frac{1}{x}\\frac{dy}{du}\\right)=-\\frac{1}{x^{2}}\\frac{dy}{du}+\\frac{1}{x}\\frac{d}{x\\,du}\\frac{dy}{du}=\\frac{1}{x^{2}}\\left(\\frac{d^{2}y}{du^{2}}-\\frac{dy}{du}\\right)\n",
    "$$"
   ]
  },
  {
   "cell_type": "markdown",
   "metadata": {
    "collapsed": false
   },
   "source": [
    "The equation turns into\n",
    "$$\n",
    "y''-y=0\n",
    "$$\n",
    "with respect to $u$. $y=e^{u}$ and $y=e^{-u}$ are clearly solutions and what EPC want. This is what you get if you use the method of page 144. However, you could also use the method of page 68 and then do LFO or separate; but I get a bit of a mess in this case, like $y=\\sinh{}u$ (which should also work). See Schmierbuch 3437 (<tt>schmierbuch-3437.kra</tt>). This is my first Krita file with my new Huion tablet."
   ]
  },
  {
   "cell_type": "markdown",
   "metadata": {
    "collapsed": false
   },
   "source": [
    "Schmierbuch 3438 and the following formulas clean up the mess."
   ]
  },
  {
   "cell_type": "markdown",
   "metadata": {
    "collapsed": false
   },
   "source": [
    "$$\n",
    "\\begin{align}\n",
    "\\sinh(x)&=\\frac{1}{2}\\left(e^{x}-e^{-x}\\right)\\\\\n",
    "\\cosh(x)&=\\frac{1}{2}\\left(e^{x}+e^{-x}\\right)\\\\\n",
    "\\operatorname{arcsinh}(x)&=\\ln\\left(x+\\sqrt{x^{2}+1}\\right)\\\\\n",
    "\\operatorname{arccosh}(x)&=\\ln\\left(x+\\sqrt{x^{2}-1}\\right)\\\\\n",
    "\\frac{d}{dx}\\operatorname{arcsinh}(x)&=\\frac{1}{\\sqrt{x^{2}+1}}\\\\\n",
    "\\frac{d}{dx}\\operatorname{arccosh}(x)&=\\frac{1}{\\sqrt{x^{2}-1}}\\\\\n",
    "\\int\\frac{1}{\\sqrt{x^{2}+a^{2}}}\\,dx&=\\operatorname{arcsinh}\\left(\\frac{x}{a}\\right)+C\\\\\n",
    "\\int\\frac{1}{\\sqrt{x^{2}-a^{2}}}\\,dx&=\\operatorname{arccosh}\\left(\\frac{x}{a}\\right)+C\\\\\n",
    "\\end{align}\n",
    "$$"
   ]
  },
  {
   "cell_type": "code",
   "execution_count": 0,
   "metadata": {
    "collapsed": false
   },
   "outputs": [
   ],
   "source": [
   ]
  }
 ],
 "metadata": {
  "kernelspec": {
   "display_name": "Julia 1.6",
   "env": {
    "JULIA_DEPOT_PATH": "/home/user/.julia/:/ext/julia/depot/",
    "JULIA_PROJECT": "/home/user/.julia/environment/v1.6"
   },
   "language": "julia",
   "metadata": {
    "cocalc": {
     "description": "The Julia Programming Language",
     "priority": 1,
     "url": "https://julialang.org/"
    }
   },
   "name": "julia-1.6",
   "resource_dir": "/ext/jupyter/kernels/julia-1.6"
  },
  "language_info": {
   "file_extension": ".jl",
   "mimetype": "application/julia",
   "name": "julia",
   "version": "1.6.3"
  }
 },
 "nbformat": 4,
 "nbformat_minor": 4
}