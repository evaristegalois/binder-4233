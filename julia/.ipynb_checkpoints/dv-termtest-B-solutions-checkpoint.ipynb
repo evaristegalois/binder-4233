{
 "cells": [
  {
   "cell_type": "markdown",
   "id": "80e89a05",
   "metadata": {},
   "source": [
    "<h2>Term Test B Solutions</h2>"
   ]
  },
  {
   "cell_type": "markdown",
   "id": "a4252e35",
   "metadata": {},
   "source": [
    "<h4>Question 1</h4>"
   ]
  },
  {
   "cell_type": "markdown",
   "id": "306dc7b0",
   "metadata": {},
   "source": [
    "<font color=\"red\">3 pts for period 2 pts for justification</font>"
   ]
  },
  {
   "cell_type": "markdown",
   "id": "515e3091",
   "metadata": {},
   "source": [
    "Assume that the earth is a solid sphere of uniform density,\n",
    "  with mass $M$ and radius $R=3960$ miles. For a particle of mass $m$\n",
    "  within the earth at distance $r$ from the centre of the earth, the\n",
    "  gravitational force attracting $m$ toward the centre is\n",
    "  \\begin{equation}\n",
    "    \\label{eq:hyceqwqr}\n",
    "    F_{r}=-\\frac{GM_{r}m}{r^{2}}\\notag\n",
    "\\end{equation}\n",
    "  where $M_{r}$ is the mass of the part of the earth within a sphere of\n",
    "  radius $r$. Show that\n",
    "  \\begin{equation}\n",
    "    \\label{eq:wrsguvrh}\n",
    "    F_{r}=-\\frac{GMmr}{R^{3}}\\notag\n",
    "\\end{equation}\n",
    "  Now suppose that a small hole is drilled straight through the center\n",
    "  of the earth, thus connecting two antipodal points on its surface.\n",
    "  Let a particle of mass $m$ be dropped at time $t=0$ into this hole\n",
    "  with initial speed zero, and let $r(t)$ be its distance from the\n",
    "  centre of the earth at time $t$, where we take $r<0$ when the mass is\n",
    "  below the centre of the earth.\n",
    "\n",
    "  Conclude from Newton's second law provided above that\n",
    "  \\begin{equation}\n",
    "    \\label{eq:gyrefont}\n",
    "    r''(t)=-k^{2}rt\\notag\n",
    "\\end{equation}\n",
    "where $k^{2}=GM/R^{3}=g/R$. Take $g=32.2\\,ft/s^{2}$, and conclude that\n",
    "the particle undergoes simple harmonic motion back and forth between\n",
    "the ends of the hole. Determine the period of the simple harmonic\n",
    "motion."
   ]
  },
  {
   "cell_type": "code",
   "execution_count": 15,
   "id": "1f9dc2b5",
   "metadata": {},
   "outputs": [
    {
     "data": {
      "text/plain": [
       "20908800"
      ]
     },
     "execution_count": 15,
     "metadata": {},
     "output_type": "execute_result"
    }
   ],
   "source": [
    "R=3960*5280"
   ]
  },
  {
   "cell_type": "code",
   "execution_count": 14,
   "id": "fbe4928b",
   "metadata": {},
   "outputs": [
    {
     "data": {
      "text/plain": [
       "32.2"
      ]
     },
     "execution_count": 14,
     "metadata": {},
     "output_type": "execute_result"
    }
   ],
   "source": [
    "g=32.2"
   ]
  },
  {
   "cell_type": "code",
   "execution_count": 16,
   "id": "e16fd68c",
   "metadata": {},
   "outputs": [
    {
     "data": {
      "text/plain": [
       "0.0012409759975056177"
      ]
     },
     "execution_count": 16,
     "metadata": {},
     "output_type": "execute_result"
    }
   ],
   "source": [
    "k=sqrt(/(g,R))"
   ]
  },
  {
   "cell_type": "code",
   "execution_count": 17,
   "id": "db071772",
   "metadata": {},
   "outputs": [
    {
     "data": {
      "text/plain": [
       "5063.099785820913"
      ]
     },
     "execution_count": 17,
     "metadata": {},
     "output_type": "execute_result"
    }
   ],
   "source": [
    "period=/(*(2,pi),k)"
   ]
  },
  {
   "cell_type": "code",
   "execution_count": 18,
   "id": "5b990c8a",
   "metadata": {},
   "outputs": [
    {
     "data": {
      "text/plain": [
       "84.38499643034855"
      ]
     },
     "execution_count": 18,
     "metadata": {},
     "output_type": "execute_result"
    }
   ],
   "source": [
    "/(period,60)"
   ]
  },
  {
   "cell_type": "markdown",
   "id": "b87ce0d1",
   "metadata": {},
   "source": [
    "<h4>Question 2</h4>"
   ]
  },
  {
   "cell_type": "markdown",
   "id": "40cfbb6a",
   "metadata": {},
   "source": [
    "<font color=\"red\">3 pts for hom 2 pts for non (3.5 if formula for non)</font>"
   ]
  },
  {
   "cell_type": "markdown",
   "id": "4291f720",
   "metadata": {},
   "source": [
    "Reduce the following second-order differential equation to a system of\n",
    "first-order equations and then solve it by using variation of\n",
    "parameters.\n",
    "\\begin{equation}\n",
    "  \\label{eq:gxcrovip}\n",
    "  y''+4y'+4y=\\frac{e^{-2x}}{x^3}\\notag\n",
    "\\end{equation}"
   ]
  },
  {
   "cell_type": "code",
   "execution_count": 1,
   "id": "8fe4a2f0",
   "metadata": {},
   "outputs": [
    {
     "data": {
      "text/plain": [
       "2×2 Matrix{Int64}:\n",
       "  0   1\n",
       " -4  -4"
      ]
     },
     "execution_count": 1,
     "metadata": {},
     "output_type": "execute_result"
    }
   ],
   "source": [
    "A3=[0 1\n",
    "-4 -4]"
   ]
  },
  {
   "cell_type": "code",
   "execution_count": 4,
   "id": "7f1f2c87",
   "metadata": {},
   "outputs": [
    {
     "data": {
      "text/plain": [
       "2-element Vector{Float64}:\n",
       " -2.0\n",
       " -2.0"
      ]
     },
     "execution_count": 4,
     "metadata": {},
     "output_type": "execute_result"
    }
   ],
   "source": [
    "eigvals(A3)"
   ]
  },
  {
   "cell_type": "code",
   "execution_count": 7,
   "id": "6b20fd6d",
   "metadata": {},
   "outputs": [
    {
     "data": {
      "text/plain": [
       "2×2 Matrix{Float64}:\n",
       "  1.0  -1.0\n",
       " -2.0   2.0"
      ]
     },
     "execution_count": 7,
     "metadata": {},
     "output_type": "execute_result"
    }
   ],
   "source": [
    "eigvecs(A3)*sqrt(5) # these are not linearly independent"
   ]
  },
  {
   "cell_type": "code",
   "execution_count": 1,
   "id": "857c7141",
   "metadata": {},
   "outputs": [
    {
     "data": {
      "text/plain": [
       "2×2 Matrix{Int64}:\n",
       "  2   1\n",
       " -4  -2"
      ]
     },
     "execution_count": 1,
     "metadata": {},
     "output_type": "execute_result"
    }
   ],
   "source": [
    "ail=[2 1\n",
    "-4 -2]"
   ]
  },
  {
   "cell_type": "code",
   "execution_count": 18,
   "id": "c4b5001c",
   "metadata": {},
   "outputs": [
    {
     "data": {
      "text/plain": [
       "2-element Vector{Int64}:\n",
       "  1\n",
       " -2"
      ]
     },
     "execution_count": 18,
     "metadata": {},
     "output_type": "execute_result"
    }
   ],
   "source": [
    "*(ail,[0;1]) # chain of generalized eigenvectors works if y=1-2x"
   ]
  },
  {
   "cell_type": "code",
   "execution_count": 16,
   "id": "20ae57de",
   "metadata": {},
   "outputs": [
    {
     "data": {
      "text/plain": [
       "2-element Vector{Int64}:\n",
       "  1\n",
       " -2"
      ]
     },
     "execution_count": 16,
     "metadata": {},
     "output_type": "execute_result"
    }
   ],
   "source": [
    "*(ail,[1;-1]) # chain of generalized eigenvectors -- works, too"
   ]
  },
  {
   "cell_type": "code",
   "execution_count": 20,
   "id": "b30f5932",
   "metadata": {},
   "outputs": [
    {
     "data": {
      "text/plain": [
       "2-element Vector{Float64}:\n",
       " -0.5\n",
       "  1.0"
      ]
     },
     "execution_count": 20,
     "metadata": {},
     "output_type": "execute_result"
    }
   ],
   "source": [
    "*(ail,[-0.75;1])"
   ]
  },
  {
   "cell_type": "code",
   "execution_count": 9,
   "id": "4dcc772c",
   "metadata": {},
   "outputs": [
    {
     "data": {
      "text/plain": [
       "2×2 Matrix{Int64}:\n",
       " 0  0\n",
       " 0  0"
      ]
     },
     "execution_count": 9,
     "metadata": {},
     "output_type": "execute_result"
    }
   ],
   "source": [
    "ail^2"
   ]
  },
  {
   "cell_type": "markdown",
   "id": "27b8c282",
   "metadata": {},
   "source": [
    "<img src=\"./diagrams/jqlsorsf-A.png\" width=\"40%\" height=\"40%\">"
   ]
  },
  {
   "cell_type": "markdown",
   "id": "1858b796",
   "metadata": {},
   "source": [
    "<img src=\"./diagrams/jqlsorsf-B.png\" width=\"60%\" height=\"60%\">"
   ]
  },
  {
   "cell_type": "markdown",
   "id": "5bd636cf",
   "metadata": {},
   "source": [
    "<img src=\"./diagrams/jqlsorsf-C.png\" width=\"100%\" height=\"100%\">"
   ]
  },
  {
   "cell_type": "code",
   "execution_count": 11,
   "id": "8064798b",
   "metadata": {},
   "outputs": [
    {
     "data": {
      "text/plain": [
       "2×2 Matrix{Float64}:\n",
       " 2.5  0.5\n",
       " 0.5  0.5"
      ]
     },
     "execution_count": 11,
     "metadata": {},
     "output_type": "execute_result"
    }
   ],
   "source": [
    "A4=[2.5 0.5\n",
    "0.5 0.5]"
   ]
  },
  {
   "cell_type": "code",
   "execution_count": 12,
   "id": "831f20d5",
   "metadata": {},
   "outputs": [
    {
     "data": {
      "text/plain": [
       "2-element Vector{Float64}:\n",
       " 0.38196601125010515\n",
       " 2.618033988749895"
      ]
     },
     "execution_count": 12,
     "metadata": {},
     "output_type": "execute_result"
    }
   ],
   "source": [
    "eigvals(A4)"
   ]
  },
  {
   "cell_type": "markdown",
   "id": "38012887",
   "metadata": {},
   "source": [
    "<h4>Question 3</h4>"
   ]
  },
  {
   "cell_type": "markdown",
   "id": "71cf505b",
   "metadata": {},
   "source": [
    "The accompanying illustration is a\n",
    "cutaway view of a two-room cabin. The\n",
    "temperatures in the Outer and Inner\n",
    "room, respectively, at time $t$ are given\n",
    "by $A(t)$ and $B(t)$. A space heater in the\n",
    "Inner Room gives off sufficient heat to\n",
    "raise the temperature of a fully insulated\n",
    "room by $H=3.0^{\\circ}C$ per hour. Both\n",
    "rooms, however, continually lose heat to\n",
    "the outside and to each other. Moreover,\n",
    "the outside temperature $E$ (measured in\n",
    "degrees Celsius) varies sinusoidally with\n",
    "the time of day according to the function:\n",
    "\\begin{equation}\n",
    "  \\label{eq:jhmttlzm}\n",
    "  E=4+9\\cos\\frac{\\pi{}t}{12}\\notag\n",
    "\\end{equation}\n",
    "where $t$ is measured in hours.\n",
    "The temperature in each room can be\n",
    "modeled, using Newton’s Law of\n",
    "Cooling, as a system of two coupled\n",
    "differential equations:\n",
    "\\begin{align*}\n",
    "\\frac{dA}{dt}&=k_3(E-A)+k_2(B-A)\\\\\n",
    "\\frac{dB}{dt}&=k_1(E-B)-k_2(B-A)+H\n",
    "\\end{align*}\n",
    "where $k_1=0.6$ parameterizes the rate at which room B loses heat to the outside (primarily\n",
    "through the window), $k_2=0.15$ parameterizes the rate at which heat is transferred between\n",
    "the rooms (primarily via the connecting door), and $k_3=0.2$ parameterizes the rate at which\n",
    "room A loses heat to the outside (primarily through the window and the outside door).\n",
    "\n",
    "* Determine the complementary solution for the given system of equations.\n",
    "* Construct a trial solution in order to find a particular solution. You do not need to find this particular solution, just the trial solution with undetermined coefficients."
   ]
  },
  {
   "cell_type": "code",
   "execution_count": 1,
   "id": "0765e18e",
   "metadata": {},
   "outputs": [
    {
     "data": {
      "text/plain": [
       "2×2 Matrix{Float64}:\n",
       " -0.35   0.15\n",
       "  0.15  -0.75"
      ]
     },
     "execution_count": 1,
     "metadata": {},
     "output_type": "execute_result"
    }
   ],
   "source": [
    "A1=[-0.35 0.15\n",
    "0.15 -0.75]"
   ]
  },
  {
   "cell_type": "code",
   "execution_count": 3,
   "id": "09be5d4a",
   "metadata": {},
   "outputs": [],
   "source": [
    "using LinearAlgebra"
   ]
  },
  {
   "cell_type": "code",
   "execution_count": 3,
   "id": "b3b0260b",
   "metadata": {},
   "outputs": [
    {
     "data": {
      "text/plain": [
       "2-element Vector{Float64}:\n",
       " -0.8\n",
       " -0.3"
      ]
     },
     "execution_count": 3,
     "metadata": {},
     "output_type": "execute_result"
    }
   ],
   "source": [
    "eva=eigvals(A1)"
   ]
  },
  {
   "cell_type": "code",
   "execution_count": 9,
   "id": "c6238df6",
   "metadata": {},
   "outputs": [
    {
     "data": {
      "text/plain": [
       "2×2 Matrix{Float64}:\n",
       " -1.0  -3.0\n",
       "  3.0  -1.0"
      ]
     },
     "execution_count": 9,
     "metadata": {},
     "output_type": "execute_result"
    }
   ],
   "source": [
    "eve=eigvecs(A1)*sqrt(10)"
   ]
  },
  {
   "cell_type": "code",
   "execution_count": 8,
   "id": "e85af2a9",
   "metadata": {},
   "outputs": [
    {
     "data": {
      "text/plain": [
       "0.2617993877991494"
      ]
     },
     "execution_count": 8,
     "metadata": {},
     "output_type": "execute_result"
    }
   ],
   "source": [
    "aa=pi/12"
   ]
  },
  {
   "cell_type": "markdown",
   "id": "4bf64687",
   "metadata": {},
   "source": [
    "<h4>Question 4</h4>"
   ]
  },
  {
   "cell_type": "markdown",
   "id": "5efda271",
   "metadata": {},
   "source": [
    "A car chassis of mass $m$ is mounted on suspension springs\n",
    "to the front and rear with spring constants $k_1$ and $k_2$ respectively.\n",
    "The horizontal distances from the front spring to the centroid and\n",
    "from the rear spring to the centroid are $L_1$ and $L_2$, respectively, and\n",
    "the moment of inertia of the chassis is $I$. Under the assumption of\n",
    "small oscillations, the vertical displacement $y$ of the chassis and its\n",
    "angle of rotation $\\theta$ are governed, while the engine is idling, by the\n",
    "second-order system of differential equations\n",
    "\\begin{align*}\n",
    "y''&=-\\frac{k_1+k_2}{m}y+\\frac{k_1L_1-k_2L_2}{m}\\theta\\\\  \n",
    "\\theta''&=\\frac{k_1L_1-k_2L_2}{I}y-\\frac{k_1L_1^2+k_2L_2^2}{I}\\theta\\\\  \n",
    "\\end{align*}\n",
    "Determine the general solution for a car chassis of mass $m=1000\\,kg$ and moment of inertia\n",
    "$I=1200\\,kg\\cdot{}m^2$ with $k_1=k_2=30000\\,N/m,L_1=2\\,m,L_2=1\\,m$."
   ]
  },
  {
   "cell_type": "markdown",
   "id": "b1dd0fb7",
   "metadata": {},
   "source": [
    "<img src=\"./diagrams/idhcqqxr1.png\" width=\"50%\" height=\"50%\">"
   ]
  },
  {
   "cell_type": "markdown",
   "id": "ab7646bc",
   "metadata": {},
   "source": [
    "There is an error in the following. The characteristic polynomial is $\\lambda^2+185\\lambda+6750$."
   ]
  },
  {
   "cell_type": "markdown",
   "id": "57bebcc4",
   "metadata": {},
   "source": [
    "<img src=\"./diagrams/idhcqqxr2.png\" width=\"80%\" height=\"80%\">"
   ]
  },
  {
   "cell_type": "markdown",
   "id": "447b1f8f",
   "metadata": {},
   "source": [
    "$$\n",
    "\\vec{x}(t)=\\vec{v}_1\\left(c_1\\cos\\omega_1{}t+c_2\\sin\\omega_1{}t\\right)+\\vec{v}_2\\left(c_3\\cos\\omega_2{}t+c_4\\sin\\omega_2{}t\\right)\n",
    "$$"
   ]
  },
  {
   "cell_type": "code",
   "execution_count": 4,
   "id": "5aa38257",
   "metadata": {},
   "outputs": [
    {
     "data": {
      "text/plain": [
       "7.0710678118654755"
      ]
     },
     "execution_count": 4,
     "metadata": {},
     "output_type": "execute_result"
    }
   ],
   "source": [
    "sqrt(50)"
   ]
  },
  {
   "cell_type": "code",
   "execution_count": 5,
   "id": "a43472fa",
   "metadata": {},
   "outputs": [
    {
     "data": {
      "text/plain": [
       "11.61895003862225"
      ]
     },
     "execution_count": 5,
     "metadata": {},
     "output_type": "execute_result"
    }
   ],
   "source": [
    "sqrt(135)"
   ]
  },
  {
   "cell_type": "code",
   "execution_count": null,
   "id": "2be5b5cb",
   "metadata": {},
   "outputs": [],
   "source": []
  },
  {
   "cell_type": "code",
   "execution_count": null,
   "id": "34b3c472",
   "metadata": {},
   "outputs": [],
   "source": []
  },
  {
   "cell_type": "code",
   "execution_count": null,
   "id": "d5805826",
   "metadata": {},
   "outputs": [],
   "source": []
  },
  {
   "cell_type": "code",
   "execution_count": null,
   "id": "8d935f7e",
   "metadata": {},
   "outputs": [],
   "source": []
  },
  {
   "cell_type": "code",
   "execution_count": null,
   "id": "d6aa6a33",
   "metadata": {},
   "outputs": [],
   "source": []
  },
  {
   "cell_type": "code",
   "execution_count": null,
   "id": "42f7e03b",
   "metadata": {},
   "outputs": [],
   "source": []
  },
  {
   "cell_type": "code",
   "execution_count": null,
   "id": "071d526a",
   "metadata": {},
   "outputs": [],
   "source": []
  },
  {
   "cell_type": "code",
   "execution_count": null,
   "id": "a8e8f0a9",
   "metadata": {},
   "outputs": [],
   "source": []
  }
 ],
 "metadata": {
  "kernelspec": {
   "display_name": "Julia 1.7.2",
   "language": "julia",
   "name": "julia-1.7"
  },
  "language_info": {
   "file_extension": ".jl",
   "mimetype": "application/julia",
   "name": "julia",
   "version": "1.7.2"
  }
 },
 "nbformat": 4,
 "nbformat_minor": 5
}
