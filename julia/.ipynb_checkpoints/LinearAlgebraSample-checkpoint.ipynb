{
 "cells": [
  {
   "cell_type": "code",
   "execution_count": null,
   "id": "49d070d3",
   "metadata": {},
   "outputs": [],
   "source": [
    "using LinearAlgebra"
   ]
  },
  {
   "cell_type": "code",
   "execution_count": 9,
   "id": "b1391c7b",
   "metadata": {},
   "outputs": [
    {
     "data": {
      "text/plain": [
       "3×3 Matrix{Int64}:\n",
       " 3  -1   2\n",
       " 6   2  -4\n",
       " 1  -5   8"
      ]
     },
     "execution_count": 9,
     "metadata": {},
     "output_type": "execute_result"
    }
   ],
   "source": [
    "A=[3 -1 2\n",
    "    6 2 -4\n",
    "    1 -5 8]"
   ]
  },
  {
   "cell_type": "code",
   "execution_count": 10,
   "id": "a249220b",
   "metadata": {},
   "outputs": [
    {
     "data": {
      "text/plain": [
       "3-element Vector{Float64}:\n",
       " -0.6234753829797981\n",
       "  3.9999999999999942\n",
       "  9.623475382979802"
      ]
     },
     "execution_count": 10,
     "metadata": {},
     "output_type": "execute_result"
    }
   ],
   "source": [
    "eigvals(A)"
   ]
  },
  {
   "cell_type": "code",
   "execution_count": 11,
   "id": "24debd7f",
   "metadata": {},
   "outputs": [
    {
     "data": {
      "text/plain": [
       "3×3 Matrix{Float64}:\n",
       "  0.0405865  -0.57735   0.31338\n",
       " -0.862339   -0.57735  -0.235991\n",
       " -0.504702   -0.57735   0.919838"
      ]
     },
     "execution_count": 11,
     "metadata": {},
     "output_type": "execute_result"
    }
   ],
   "source": [
    "eigvecs(A)"
   ]
  },
  {
   "cell_type": "code",
   "execution_count": 16,
   "id": "8a11ef3a",
   "metadata": {},
   "outputs": [
    {
     "data": {
      "text/plain": [
       "Eigen{Float64, Float64, Matrix{Float64}, Vector{Float64}}\n",
       "values:\n",
       "3-element Vector{Float64}:\n",
       " -0.6234753829797981\n",
       "  3.9999999999999942\n",
       "  9.623475382979802\n",
       "vectors:\n",
       "3×3 Matrix{Float64}:\n",
       "  0.0405865  -0.57735   0.31338\n",
       " -0.862339   -0.57735  -0.235991\n",
       " -0.504702   -0.57735   0.919838"
      ]
     },
     "execution_count": 16,
     "metadata": {},
     "output_type": "execute_result"
    }
   ],
   "source": [
    "edc=eigen(A)"
   ]
  },
  {
   "cell_type": "code",
   "execution_count": 18,
   "id": "cd19b5da",
   "metadata": {},
   "outputs": [
    {
     "data": {
      "text/plain": [
       "3×3 Matrix{Float64}:\n",
       "  0.0405865  -0.57735   0.31338\n",
       " -0.862339   -0.57735  -0.235991\n",
       " -0.504702   -0.57735   0.919838"
      ]
     },
     "execution_count": 18,
     "metadata": {},
     "output_type": "execute_result"
    }
   ],
   "source": [
    "P=edc.vectors"
   ]
  },
  {
   "cell_type": "code",
   "execution_count": 19,
   "id": "4e7fd4f5",
   "metadata": {},
   "outputs": [
    {
     "data": {
      "text/plain": [
       "3×3 Matrix{Float64}:\n",
       "  1.36437   -0.715878  -0.648492\n",
       " -1.86529   -0.399704   0.532939\n",
       " -0.422165  -0.643673   1.06584"
      ]
     },
     "execution_count": 19,
     "metadata": {},
     "output_type": "execute_result"
    }
   ],
   "source": [
    "Pinv=inv(P)"
   ]
  },
  {
   "cell_type": "code",
   "execution_count": 21,
   "id": "b56bcb7d",
   "metadata": {},
   "outputs": [
    {
     "data": {
      "text/plain": [
       "3-element Vector{Float64}:\n",
       " -0.6234753829797981\n",
       "  3.9999999999999942\n",
       "  9.623475382979802"
      ]
     },
     "execution_count": 21,
     "metadata": {},
     "output_type": "execute_result"
    }
   ],
   "source": [
    "D=edc.values"
   ]
  },
  {
   "cell_type": "code",
   "execution_count": 24,
   "id": "4dd80a54",
   "metadata": {},
   "outputs": [
    {
     "data": {
      "text/plain": [
       "3×3 Matrix{Float64}:\n",
       " -0.623475  0.0  0.0\n",
       "  0.0       4.0  0.0\n",
       "  0.0       0.0  9.62348"
      ]
     },
     "execution_count": 24,
     "metadata": {},
     "output_type": "execute_result"
    }
   ],
   "source": [
    "E=[D[1,1] 0 0\n",
    "    0 D[2,1] 0\n",
    "    0 0 D[3,1]]"
   ]
  },
  {
   "cell_type": "code",
   "execution_count": 26,
   "id": "b2d21d1f",
   "metadata": {},
   "outputs": [
    {
     "data": {
      "text/plain": [
       "3×3 Matrix{Float64}:\n",
       " 3.0  -1.0   2.0\n",
       " 6.0   2.0  -4.0\n",
       " 1.0  -5.0   8.0"
      ]
     },
     "execution_count": 26,
     "metadata": {},
     "output_type": "execute_result"
    }
   ],
   "source": [
    "P*E*Pinv"
   ]
  }
 ],
 "metadata": {
  "kernelspec": {
   "display_name": "Julia 1.6.3",
   "language": "julia",
   "name": "julia-1.6"
  },
  "language_info": {
   "file_extension": ".jl",
   "mimetype": "application/julia",
   "name": "julia",
   "version": "1.6.3"
  }
 },
 "nbformat": 4,
 "nbformat_minor": 5
}
