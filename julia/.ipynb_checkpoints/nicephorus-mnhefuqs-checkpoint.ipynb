{
 "cells": [
  {
   "cell_type": "markdown",
   "metadata": {},
   "source": [
    "<h4>Brine Mixture and Eigenvalue Method</h4>"
   ]
  },
  {
   "cell_type": "markdown",
   "metadata": {},
   "source": [
    "Find the amounts $x_1(t),x_2(t),x_3(t)$ of salt at time $t$ in the three brine tanks, if $V_1=50,V_2=25,V_3=50$ and $r=10$ gallons per minute. After solving this generally, solve for the case where 50 pounds of salt are in $T_1$ and none in $T_2$ and $T_3$."
   ]
  },
  {
   "cell_type": "markdown",
   "metadata": {},
   "source": [
    "<img src=\"./diagrams/mnhefuqs.png\" width=\"70%\" height=\"70%\">"
   ]
  },
  {
   "cell_type": "code",
   "execution_count": 1,
   "metadata": {},
   "outputs": [],
   "source": [
    "using LinearAlgebra"
   ]
  },
  {
   "cell_type": "code",
   "execution_count": 5,
   "metadata": {},
   "outputs": [
    {
     "data": {
      "text/plain": [
       "3×3 Matrix{Float64}:\n",
       " -0.2   0.0   0.2\n",
       "  0.2  -0.4   0.0\n",
       "  0.0   0.4  -0.2"
      ]
     },
     "execution_count": 5,
     "metadata": {},
     "output_type": "execute_result"
    }
   ],
   "source": [
    "A1=[-1/5 0 1/5\n",
    "1/5 -2/5 0\n",
    "0 2/5 -1/5]"
   ]
  },
  {
   "cell_type": "code",
   "execution_count": 6,
   "metadata": {},
   "outputs": [
    {
     "data": {
      "text/plain": [
       "3-element Vector{ComplexF64}:\n",
       "  -0.40000000000000024 - 0.20000000000000026im\n",
       "  -0.40000000000000024 + 0.20000000000000026im\n",
       " -6.48680821847244e-17 + 0.0im"
      ]
     },
     "execution_count": 6,
     "metadata": {},
     "output_type": "execute_result"
    }
   ],
   "source": [
    "eigvals(A1)"
   ]
  },
  {
   "cell_type": "code",
   "execution_count": 4,
   "metadata": {},
   "outputs": [
    {
     "data": {
      "text/plain": [
       "0.0"
      ]
     },
     "execution_count": 4,
     "metadata": {},
     "output_type": "execute_result"
    }
   ],
   "source": [
    "det(A1)"
   ]
  },
  {
   "cell_type": "code",
   "execution_count": 7,
   "metadata": {},
   "outputs": [
    {
     "data": {
      "text/plain": [
       "3×3 Matrix{ComplexF64}:\n",
       "  0.353553-0.353553im   0.353553+0.353553im  -0.666667+0.0im\n",
       "  0.353553+0.353553im   0.353553-0.353553im  -0.333333+0.0im\n",
       " -0.707107-0.0im       -0.707107+0.0im       -0.666667+0.0im"
      ]
     },
     "execution_count": 7,
     "metadata": {},
     "output_type": "execute_result"
    }
   ],
   "source": [
    "eigvecs(A1)"
   ]
  },
  {
   "cell_type": "markdown",
   "metadata": {},
   "source": [
    "Therefore, the solution is\n",
    "$$\n",
    "x(t)=c_1\\left(\\begin{array}{c}2\\\\1\\\\2\\end{array}\\right)+c_2{}e^{-0.4t}\\left[\\left(\\begin{array}{c}1\\\\1\\\\-2\\end{array}\\right)\\cos\\left(0.2t\\right)-\\left(\\begin{array}{c}1\\\\-1\\\\0\\end{array}\\right)\\sin\\left(0.2t\\right)\\right]+c_3{}e^{-0.4t}\\left[\\left(\\begin{array}{c}1\\\\1\\\\-2\\end{array}\\right)\\sin\\left(0.2t\\right)+\\left(\\begin{array}{c}1\\\\-1\\\\0\\end{array}\\right)\\cos\\left(0.2t\\right)\\right]\n",
    "$$"
   ]
  },
  {
   "cell_type": "code",
   "execution_count": 8,
   "metadata": {},
   "outputs": [
    {
     "data": {
      "text/plain": [
       "3×3 Matrix{Int64}:\n",
       " 2   1   1\n",
       " 1   1  -1\n",
       " 2  -2   0"
      ]
     },
     "execution_count": 8,
     "metadata": {},
     "output_type": "execute_result"
    }
   ],
   "source": [
    "M1=[2 1 1\n",
    "1 1 -1\n",
    "2 -2 0]"
   ]
  },
  {
   "cell_type": "code",
   "execution_count": 9,
   "metadata": {},
   "outputs": [
    {
     "data": {
      "text/plain": [
       "3-element Vector{Int64}:\n",
       " 50\n",
       "  0\n",
       "  0"
      ]
     },
     "execution_count": 9,
     "metadata": {},
     "output_type": "execute_result"
    }
   ],
   "source": [
    "v1=[50\n",
    "0\n",
    "0]"
   ]
  },
  {
   "cell_type": "code",
   "execution_count": 11,
   "metadata": {},
   "outputs": [
    {
     "data": {
      "text/plain": [
       "3-element Vector{Float64}:\n",
       "  9.999999999999998\n",
       " 10.0\n",
       " 20.0"
      ]
     },
     "execution_count": 11,
     "metadata": {},
     "output_type": "execute_result"
    }
   ],
   "source": [
    "inv(M1)*v1 # see graph in desmos"
   ]
  },
  {
   "cell_type": "markdown",
   "metadata": {},
   "source": [
    "For the particular solution, fill in $c_1=10,c_2=10,c_3=20$."
   ]
  }
 ],
 "metadata": {
  "kernelspec": {
   "display_name": "Julia 1.7.2",
   "language": "julia",
   "name": "julia-1.7"
  },
  "language_info": {
   "file_extension": ".jl",
   "mimetype": "application/julia",
   "name": "julia",
   "version": "1.7.2"
  }
 },
 "nbformat": 4,
 "nbformat_minor": 4
}
