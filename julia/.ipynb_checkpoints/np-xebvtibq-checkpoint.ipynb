{
 "cells": [
  {
   "cell_type": "markdown",
   "metadata": {},
   "source": [
    "<h4>Parametric Curves</h4>"
   ]
  },
  {
   "cell_type": "markdown",
   "metadata": {},
   "source": [
    "Find a path that traces the circle in the plane $y=−3$ with radius $r=5$ and centre $(−4,−3,−3)$ with constant speed $30$. "
   ]
  },
  {
   "cell_type": "markdown",
   "metadata": {},
   "source": [
    "The circle equation tells us that\n",
    "$$\n",
    "(x+4)^2+(z+3)^2=25\n",
    "$$\n",
    "The corresponding trigonometric identity is\n",
    "$$\n",
    "(5\\cos{}kt)^2+(5\\sin{}kt)^2=25\n",
    "$$\n",
    "Therefore\n",
    "$$\n",
    "\\begin{align*}\n",
    "x(t)&=5\\cos{}kt-4\\\\\n",
    "z(t)&=5\\sin{}kt-3\\\\\n",
    "\\end{align*}\n",
    "$$\n",
    "Now solve\n",
    "$$\n",
    "30=\\int_{0}^{1}\\sqrt{(5k\\sin{}kt)^2+(-5k\\cos{}kt)^2}\\,dt\n",
    "$$\n",
    "for\n",
    "$$\n",
    "k=\\frac{30}{\\sqrt{25}}\n",
    "$$"
   ]
  }
 ],
 "metadata": {
  "kernelspec": {
   "display_name": "Julia 1.7.2",
   "language": "julia",
   "name": "julia-1.7"
  },
  "language_info": {
   "file_extension": ".jl",
   "mimetype": "application/julia",
   "name": "julia",
   "version": "1.7.2"
  }
 },
 "nbformat": 4,
 "nbformat_minor": 4
}
