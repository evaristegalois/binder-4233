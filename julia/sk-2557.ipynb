{
 "cells": [
  {
   "cell_type": "code",
   "execution_count": 1,
   "id": "a3d7ffad",
   "metadata": {},
   "outputs": [],
   "source": [
    "using SymPy"
   ]
  },
  {
   "cell_type": "code",
   "execution_count": 5,
   "id": "4f01aefc",
   "metadata": {},
   "outputs": [
    {
     "data": {
      "text/plain": [
       "(s,)"
      ]
     },
     "execution_count": 5,
     "metadata": {},
     "output_type": "execute_result"
    }
   ],
   "source": [
    "@vars s"
   ]
  },
  {
   "cell_type": "code",
   "execution_count": 35,
   "id": "39ec67ea",
   "metadata": {},
   "outputs": [
    {
     "data": {
      "text/latex": [
       "$\\frac{5}{12 \\left(s + 2\\right)} + \\frac{17}{24 \\left(s - 4\\right)} - \\frac{1}{8 s}$"
      ],
      "text/plain": [
       "    5            17        1 \n",
       "────────── + ────────── - ───\n",
       "12⋅(s + 2)   24⋅(s - 4)   8⋅s"
      ]
     },
     "execution_count": 35,
     "metadata": {},
     "output_type": "execute_result"
    }
   ],
   "source": [
    "apart(/(+(^(s,2),1),+(^(s,3),*(-2,^(s,2)),*(-8,s))))"
   ]
  },
  {
   "cell_type": "code",
   "execution_count": 33,
   "id": "2745243b",
   "metadata": {},
   "outputs": [
    {
     "data": {
      "text/plain": [
       "f (generic function with 1 method)"
      ]
     },
     "execution_count": 33,
     "metadata": {},
     "output_type": "execute_result"
    }
   ],
   "source": [
    "f(s)=/(+(^(s,2),1),+(^(s,3),*(-2,^(s,2)),*(-8,s)))"
   ]
  },
  {
   "cell_type": "code",
   "execution_count": 10,
   "id": "64b20dc9",
   "metadata": {},
   "outputs": [
    {
     "data": {
      "text/plain": [
       "(s^2, s^3 - 2*s^2 - 8*s)"
      ]
     },
     "execution_count": 10,
     "metadata": {},
     "output_type": "execute_result"
    }
   ],
   "source": [
    "f(s)"
   ]
  },
  {
   "cell_type": "code",
   "execution_count": 19,
   "id": "55313ad6",
   "metadata": {},
   "outputs": [],
   "source": [
    "using Polynomials"
   ]
  },
  {
   "cell_type": "code",
   "execution_count": 20,
   "id": "fbbf1332",
   "metadata": {},
   "outputs": [
    {
     "data": {
      "text/html": [
       "25 &#45; 6&#8729;x &#43; x<sup>2</sup>"
      ],
      "text/latex": [
       "$25 - 6\\cdot x + x^{2}$"
      ],
      "text/plain": [
       "Polynomial(25 - 6*x + x^2)"
      ]
     },
     "execution_count": 20,
     "metadata": {},
     "output_type": "execute_result"
    }
   ],
   "source": [
    "p1=Polynomial([25,-6,1])"
   ]
  },
  {
   "cell_type": "code",
   "execution_count": 22,
   "id": "f228dcde",
   "metadata": {},
   "outputs": [
    {
     "data": {
      "text/plain": [
       "2-element Vector{ComplexF64}:\n",
       " 3.0000000000000004 - 4.0im\n",
       " 3.0000000000000004 + 4.0im"
      ]
     },
     "execution_count": 22,
     "metadata": {},
     "output_type": "execute_result"
    }
   ],
   "source": [
    "Polynomials.roots(p1)"
   ]
  },
  {
   "cell_type": "code",
   "execution_count": 23,
   "id": "6c3a2f50",
   "metadata": {},
   "outputs": [
    {
     "data": {
      "text/plain": [
       "(x,)"
      ]
     },
     "execution_count": 23,
     "metadata": {},
     "output_type": "execute_result"
    }
   ],
   "source": [
    "@vars x"
   ]
  },
  {
   "cell_type": "code",
   "execution_count": 29,
   "id": "ff82c312",
   "metadata": {},
   "outputs": [
    {
     "data": {
      "text/latex": [
       "$- \\frac{1}{60 \\left(x - 60\\right)} + \\frac{1}{60 x}$"
      ],
      "text/plain": [
       "       1         1  \n",
       "- ─────────── + ────\n",
       "  60⋅(x - 60)   60⋅x"
      ]
     },
     "execution_count": 29,
     "metadata": {},
     "output_type": "execute_result"
    }
   ],
   "source": [
    "apart(/(1,(60*x-x^2)))"
   ]
  },
  {
   "cell_type": "code",
   "execution_count": 32,
   "id": "349cd71f",
   "metadata": {},
   "outputs": [
    {
     "data": {
      "text/plain": [
       "F (generic function with 1 method)"
      ]
     },
     "execution_count": 32,
     "metadata": {},
     "output_type": "execute_result"
    }
   ],
   "source": [
    "F(x)=/(+(^(x,2),1),+(^(x,3),*(-2,^(x,2)),*(-8,x)))"
   ]
  },
  {
   "cell_type": "code",
   "execution_count": 28,
   "id": "8032b0d6",
   "metadata": {},
   "outputs": [
    {
     "data": {
      "text/plain": [
       "(x^2, x^3 - 2*x^2 - 8*x)"
      ]
     },
     "execution_count": 28,
     "metadata": {},
     "output_type": "execute_result"
    }
   ],
   "source": [
    "F(x)"
   ]
  },
  {
   "cell_type": "code",
   "execution_count": 30,
   "id": "4354bc2d",
   "metadata": {},
   "outputs": [
    {
     "data": {
      "text/plain": [
       "G (generic function with 1 method)"
      ]
     },
     "execution_count": 30,
     "metadata": {},
     "output_type": "execute_result"
    }
   ],
   "source": [
    "G(x)=/(1,(60*x-x^2))"
   ]
  },
  {
   "cell_type": "code",
   "execution_count": 31,
   "id": "86dded48",
   "metadata": {},
   "outputs": [
    {
     "data": {
      "text/latex": [
       "$\\frac{1}{- x^{2} + 60 x}$"
      ],
      "text/plain": [
       "     1     \n",
       "───────────\n",
       "   2       \n",
       "- x  + 60⋅x"
      ]
     },
     "execution_count": 31,
     "metadata": {},
     "output_type": "execute_result"
    }
   ],
   "source": [
    "G(x)"
   ]
  },
  {
   "cell_type": "code",
   "execution_count": 38,
   "id": "c99cc39b",
   "metadata": {},
   "outputs": [
    {
     "data": {
      "text/plain": [
       "0.3217505543966422"
      ]
     },
     "execution_count": 38,
     "metadata": {},
     "output_type": "execute_result"
    }
   ],
   "source": [
    "th=atan(/(1,3))"
   ]
  },
  {
   "cell_type": "code",
   "execution_count": 47,
   "id": "77378b9d",
   "metadata": {},
   "outputs": [
    {
     "data": {
      "text/plain": [
       "0.9462734405957693"
      ]
     },
     "execution_count": 47,
     "metadata": {},
     "output_type": "execute_result"
    }
   ],
   "source": [
    "th1=+(th,/(-(/(pi,2),th),2))"
   ]
  },
  {
   "cell_type": "code",
   "execution_count": 39,
   "id": "70de8103",
   "metadata": {},
   "outputs": [
    {
     "data": {
      "text/plain": [
       "0.15811388300841897"
      ]
     },
     "execution_count": 39,
     "metadata": {},
     "output_type": "execute_result"
    }
   ],
   "source": [
    "*(0.5,sin(th))"
   ]
  },
  {
   "cell_type": "code",
   "execution_count": 40,
   "id": "c261bfd5",
   "metadata": {},
   "outputs": [
    {
     "data": {
      "text/plain": [
       "0.4743416490252569"
      ]
     },
     "execution_count": 40,
     "metadata": {},
     "output_type": "execute_result"
    }
   ],
   "source": [
    "*(0.5,cos(th))"
   ]
  },
  {
   "cell_type": "code",
   "execution_count": 48,
   "id": "82e9198b",
   "metadata": {},
   "outputs": [
    {
     "data": {
      "text/plain": [
       "0.4056210925877804"
      ]
     },
     "execution_count": 48,
     "metadata": {},
     "output_type": "execute_result"
    }
   ],
   "source": [
    "*(0.5,sin(th1))"
   ]
  },
  {
   "cell_type": "code",
   "execution_count": 49,
   "id": "5f380717",
   "metadata": {},
   "outputs": [
    {
     "data": {
      "text/plain": [
       "0.2923551423318825"
      ]
     },
     "execution_count": 49,
     "metadata": {},
     "output_type": "execute_result"
    }
   ],
   "source": [
    "*(0.5,cos(th1))"
   ]
  },
  {
   "cell_type": "code",
   "execution_count": 61,
   "id": "79185dd3",
   "metadata": {},
   "outputs": [
    {
     "data": {
      "text/plain": [
       "0.982793723247329"
      ]
     },
     "execution_count": 61,
     "metadata": {},
     "output_type": "execute_result"
    }
   ],
   "source": [
    "th2=atan(/(3,2))"
   ]
  },
  {
   "cell_type": "code",
   "execution_count": 65,
   "id": "cc9406dd",
   "metadata": {},
   "outputs": [
    {
     "data": {
      "text/plain": [
       "56.309932474020215"
      ]
     },
     "execution_count": 65,
     "metadata": {},
     "output_type": "execute_result"
    }
   ],
   "source": [
    "th2d=*(th2,/(180,pi))"
   ]
  },
  {
   "cell_type": "code",
   "execution_count": 66,
   "id": "5f71fab4",
   "metadata": {},
   "outputs": [
    {
     "data": {
      "text/plain": [
       "1.1071487177940904"
      ]
     },
     "execution_count": 66,
     "metadata": {},
     "output_type": "execute_result"
    }
   ],
   "source": [
    "th3=atan(/(3,1.5))"
   ]
  },
  {
   "cell_type": "code",
   "execution_count": 67,
   "id": "2cda2733",
   "metadata": {},
   "outputs": [
    {
     "data": {
      "text/plain": [
       "63.43494882292201"
      ]
     },
     "execution_count": 67,
     "metadata": {},
     "output_type": "execute_result"
    }
   ],
   "source": [
    "th3d=*(th3,/(180,pi))"
   ]
  },
  {
   "cell_type": "code",
   "execution_count": 66,
   "id": "df1f50de",
   "metadata": {},
   "outputs": [
    {
     "data": {
      "text/plain": [
       "1.1071487177940904"
      ]
     },
     "execution_count": 66,
     "metadata": {},
     "output_type": "execute_result"
    }
   ],
   "source": [
    "th3=atan(/(3,1.5))"
   ]
  },
  {
   "cell_type": "code",
   "execution_count": 67,
   "id": "cb809c4c",
   "metadata": {},
   "outputs": [
    {
     "data": {
      "text/plain": [
       "63.43494882292201"
      ]
     },
     "execution_count": 67,
     "metadata": {},
     "output_type": "execute_result"
    }
   ],
   "source": [
    "th3d=*(th3,/(180,pi))"
   ]
  },
  {
   "cell_type": "code",
   "execution_count": 60,
   "id": "3f8ad07b",
   "metadata": {},
   "outputs": [
    {
     "data": {
      "text/plain": [
       "60.255118703057775"
      ]
     },
     "execution_count": 60,
     "metadata": {},
     "output_type": "execute_result"
    }
   ],
   "source": [
    "+(*(th3,/(180,pi)),*(th2,/(180,pi)))"
   ]
  },
  {
   "cell_type": "code",
   "execution_count": 63,
   "id": "fb790e1f",
   "metadata": {},
   "outputs": [
    {
     "data": {
      "text/plain": [
       "0.4160251471689218"
      ]
     },
     "execution_count": 63,
     "metadata": {},
     "output_type": "execute_result"
    }
   ],
   "source": [
    "*(0.5,sin(th2))"
   ]
  },
  {
   "cell_type": "code",
   "execution_count": 64,
   "id": "0e282f16",
   "metadata": {},
   "outputs": [
    {
     "data": {
      "text/plain": [
       "0.2773500981126146"
      ]
     },
     "execution_count": 64,
     "metadata": {},
     "output_type": "execute_result"
    }
   ],
   "source": [
    "*(0.5,cos(th2))"
   ]
  },
  {
   "cell_type": "code",
   "execution_count": 58,
   "id": "f11c30ae",
   "metadata": {},
   "outputs": [
    {
     "data": {
      "text/plain": [
       "0.22360679774997896"
      ]
     },
     "execution_count": 58,
     "metadata": {},
     "output_type": "execute_result"
    }
   ],
   "source": [
    "*(0.5,sin(th3))"
   ]
  },
  {
   "cell_type": "code",
   "execution_count": 59,
   "id": "21db8b34",
   "metadata": {},
   "outputs": [
    {
     "data": {
      "text/plain": [
       "0.4472135954999579"
      ]
     },
     "execution_count": 59,
     "metadata": {},
     "output_type": "execute_result"
    }
   ],
   "source": [
    "*(0.5,cos(th3))"
   ]
  },
  {
   "cell_type": "code",
   "execution_count": 68,
   "id": "ba25f6ff",
   "metadata": {},
   "outputs": [
    {
     "data": {
      "text/plain": [
       "213.69006752597977"
      ]
     },
     "execution_count": 68,
     "metadata": {},
     "output_type": "execute_result"
    }
   ],
   "source": [
    "-(270,th2d)"
   ]
  },
  {
   "cell_type": "code",
   "execution_count": 69,
   "id": "d9b9cc5b",
   "metadata": {},
   "outputs": [
    {
     "data": {
      "text/plain": [
       "333.434948822922"
      ]
     },
     "execution_count": 69,
     "metadata": {},
     "output_type": "execute_result"
    }
   ],
   "source": [
    "+(270,th3d)"
   ]
  },
  {
   "cell_type": "code",
   "execution_count": 1,
   "id": "0894141d",
   "metadata": {},
   "outputs": [
    {
     "data": {
      "text/plain": [
       "4.068887871591405"
      ]
     },
     "execution_count": 1,
     "metadata": {},
     "output_type": "execute_result"
    }
   ],
   "source": [
    "th1=+(atan(/(4,3)),pi)"
   ]
  },
  {
   "cell_type": "code",
   "execution_count": 7,
   "id": "698f3717",
   "metadata": {},
   "outputs": [
    {
     "data": {
      "text/plain": [
       "233.13010235415598"
      ]
     },
     "execution_count": 7,
     "metadata": {},
     "output_type": "execute_result"
    }
   ],
   "source": [
    "th1d=/(*(th1,180),pi)"
   ]
  },
  {
   "cell_type": "code",
   "execution_count": 8,
   "id": "fd518176",
   "metadata": {},
   "outputs": [
    {
     "data": {
      "text/plain": [
       "7.806141249358802"
      ]
     },
     "execution_count": 8,
     "metadata": {},
     "output_type": "execute_result"
    }
   ],
   "source": [
    "th1m=*(-(th1d,floor(th1d)),60)"
   ]
  },
  {
   "cell_type": "code",
   "execution_count": 9,
   "id": "574bfffc",
   "metadata": {},
   "outputs": [
    {
     "data": {
      "text/plain": [
       "48.368474961528136"
      ]
     },
     "execution_count": 9,
     "metadata": {},
     "output_type": "execute_result"
    }
   ],
   "source": [
    "th1s=*(-(th1m,floor(th1m)),60)"
   ]
  },
  {
   "cell_type": "code",
   "execution_count": 6,
   "id": "7f0b79a6",
   "metadata": {},
   "outputs": [
    {
     "data": {
      "text/plain": [
       "4.0"
      ]
     },
     "execution_count": 6,
     "metadata": {},
     "output_type": "execute_result"
    }
   ],
   "source": [
    "floor(th1)"
   ]
  },
  {
   "cell_type": "code",
   "execution_count": 10,
   "id": "7b5860c0",
   "metadata": {},
   "outputs": [
    {
     "data": {
      "text/plain": [
       "169"
      ]
     },
     "execution_count": 10,
     "metadata": {},
     "output_type": "execute_result"
    }
   ],
   "source": [
    "+(^(3,2),^(4,2),^(12,2))"
   ]
  },
  {
   "cell_type": "code",
   "execution_count": 29,
   "id": "20112c5a",
   "metadata": {},
   "outputs": [
    {
     "data": {
      "text/plain": [
       "5.8883941874798245"
      ]
     },
     "execution_count": 29,
     "metadata": {},
     "output_type": "execute_result"
    }
   ],
   "source": [
    "ph1=+(-asin(/(5,13)),*(2,pi))"
   ]
  },
  {
   "cell_type": "code",
   "execution_count": 28,
   "id": "a5a0b004",
   "metadata": {},
   "outputs": [
    {
     "data": {
      "text/plain": [
       "2.746801533890032"
      ]
     },
     "execution_count": 28,
     "metadata": {},
     "output_type": "execute_result"
    }
   ],
   "source": [
    "acos(/(-12,13))"
   ]
  },
  {
   "cell_type": "code",
   "execution_count": 30,
   "id": "88d0702b",
   "metadata": {},
   "outputs": [
    {
     "data": {
      "text/plain": [
       "157.38013505195957"
      ]
     },
     "execution_count": 30,
     "metadata": {},
     "output_type": "execute_result"
    }
   ],
   "source": [
    "*(acos(/(-12,13)),/(180,pi))"
   ]
  },
  {
   "cell_type": "code",
   "execution_count": 34,
   "id": "55296a40",
   "metadata": {},
   "outputs": [
    {
     "data": {
      "text/plain": [
       "2.7468015338900313"
      ]
     },
     "execution_count": 34,
     "metadata": {},
     "output_type": "execute_result"
    }
   ],
   "source": [
    "ph1=+(/(pi,2),acos(/(5,13)))"
   ]
  },
  {
   "cell_type": "code",
   "execution_count": 35,
   "id": "1a36c117",
   "metadata": {},
   "outputs": [
    {
     "data": {
      "text/plain": [
       "157.38013505195957"
      ]
     },
     "execution_count": 35,
     "metadata": {},
     "output_type": "execute_result"
    }
   ],
   "source": [
    "ph1d=/(*(ph1,180),pi)"
   ]
  },
  {
   "cell_type": "code",
   "execution_count": 36,
   "id": "5e986296",
   "metadata": {},
   "outputs": [
    {
     "data": {
      "text/plain": [
       "22.808103117574205"
      ]
     },
     "execution_count": 36,
     "metadata": {},
     "output_type": "execute_result"
    }
   ],
   "source": [
    "ph1m=*(-(ph1d,floor(ph1d)),60)"
   ]
  },
  {
   "cell_type": "code",
   "execution_count": 37,
   "id": "6fa9f4ce",
   "metadata": {},
   "outputs": [
    {
     "data": {
      "text/plain": [
       "48.48618705445233"
      ]
     },
     "execution_count": 37,
     "metadata": {},
     "output_type": "execute_result"
    }
   ],
   "source": [
    "ph1s=*(-(ph1m,floor(ph1m)),60)"
   ]
  },
  {
   "cell_type": "code",
   "execution_count": 38,
   "id": "be9e4676",
   "metadata": {},
   "outputs": [
    {
     "data": {
      "text/plain": [
       "4837.0660020000005"
      ]
     },
     "execution_count": 38,
     "metadata": {},
     "output_type": "execute_result"
    }
   ],
   "source": [
    "*(3790.21,1.2762)"
   ]
  },
  {
   "cell_type": "code",
   "execution_count": 39,
   "id": "4dfc8a1a",
   "metadata": {},
   "outputs": [
    {
     "data": {
      "text/plain": [
       "4895.814257"
      ]
     },
     "execution_count": 39,
     "metadata": {},
     "output_type": "execute_result"
    }
   ],
   "source": [
    "*(3790.21,1.2917)"
   ]
  },
  {
   "cell_type": "code",
   "execution_count": 40,
   "id": "613af57e",
   "metadata": {},
   "outputs": [
    {
     "data": {
      "text/plain": [
       "4840.098169999999"
      ]
     },
     "execution_count": 40,
     "metadata": {},
     "output_type": "execute_result"
    }
   ],
   "source": [
    "*(3790.21,1.277)"
   ]
  },
  {
   "cell_type": "code",
   "execution_count": 4,
   "id": "310ebeef",
   "metadata": {},
   "outputs": [
    {
     "data": {
      "text/plain": [
       "0.0"
      ]
     },
     "execution_count": 4,
     "metadata": {},
     "output_type": "execute_result"
    }
   ],
   "source": [
    "-(f1(4),f1(-2))"
   ]
  },
  {
   "cell_type": "code",
   "execution_count": 6,
   "id": "52a87e0f",
   "metadata": {},
   "outputs": [
    {
     "data": {
      "text/plain": [
       "4.0"
      ]
     },
     "execution_count": 6,
     "metadata": {},
     "output_type": "execute_result"
    }
   ],
   "source": [
    "f1(-2)"
   ]
  },
  {
   "cell_type": "code",
   "execution_count": 2,
   "id": "4d295b40",
   "metadata": {},
   "outputs": [],
   "source": [
    "using SymPy"
   ]
  },
  {
   "cell_type": "code",
   "execution_count": 21,
   "id": "a938870f",
   "metadata": {},
   "outputs": [
    {
     "data": {
      "text/plain": [
       "(s,)"
      ]
     },
     "execution_count": 21,
     "metadata": {},
     "output_type": "execute_result"
    }
   ],
   "source": [
    "@vars s"
   ]
  },
  {
   "cell_type": "code",
   "execution_count": 22,
   "id": "71e10d59",
   "metadata": {},
   "outputs": [
    {
     "data": {
      "text/latex": [
       "$k$"
      ],
      "text/plain": [
       "k"
      ]
     },
     "execution_count": 22,
     "metadata": {},
     "output_type": "execute_result"
    }
   ],
   "source": [
    "k=symbols(\"k\",real=True)"
   ]
  },
  {
   "cell_type": "code",
   "execution_count": 11,
   "id": "54a09057",
   "metadata": {},
   "outputs": [
    {
     "data": {
      "text/latex": [
       "$\\frac{1}{2 \\left(s + 6\\right)} - \\frac{5}{2 s}$"
      ],
      "text/plain": [
       "    1        5 \n",
       "───────── - ───\n",
       "2⋅(s + 6)   2⋅s"
      ]
     },
     "execution_count": 11,
     "metadata": {},
     "output_type": "execute_result"
    }
   ],
   "source": [
    "apart(/(-(-15,*(2,s)),+(^(s,2),*(6,s))))"
   ]
  },
  {
   "cell_type": "code",
   "execution_count": 14,
   "id": "92d14513",
   "metadata": {},
   "outputs": [
    {
     "data": {
      "text/plain": [
       "F (generic function with 1 method)"
      ]
     },
     "execution_count": 14,
     "metadata": {},
     "output_type": "execute_result"
    }
   ],
   "source": [
    "F(s)=/(*(5,s),*(-(s,1),+(^(s,2),^(k,2))))"
   ]
  },
  {
   "cell_type": "code",
   "execution_count": 15,
   "id": "4f1f4619",
   "metadata": {},
   "outputs": [
    {
     "data": {
      "text/latex": [
       "$\\frac{5 s}{\\left(k^{2} + s^{2}\\right) \\left(s - 1\\right)}$"
      ],
      "text/plain": [
       "       5⋅s       \n",
       "─────────────────\n",
       "⎛ 2    2⎞        \n",
       "⎝k  + s ⎠⋅(s - 1)"
      ]
     },
     "execution_count": 15,
     "metadata": {},
     "output_type": "execute_result"
    }
   ],
   "source": [
    "F(s)"
   ]
  },
  {
   "cell_type": "code",
   "execution_count": 16,
   "id": "49f7c4c3",
   "metadata": {},
   "outputs": [
    {
     "data": {
      "text/latex": [
       "$\\left[ \\begin{array}{rrr}1&0&1\\\\-1&1&0\\\\0&-1&k\\end{array}\\right]$\n"
      ],
      "text/plain": [
       "3×3 Matrix{Sym}:\n",
       "  1   0  1\n",
       " -1   1  0\n",
       "  0  -1  k"
      ]
     },
     "execution_count": 16,
     "metadata": {},
     "output_type": "execute_result"
    }
   ],
   "source": [
    "M1=[1 0 1\n",
    "-1 1 0\n",
    "0 -1 k]"
   ]
  },
  {
   "cell_type": "code",
   "execution_count": 23,
   "id": "db08261d",
   "metadata": {},
   "outputs": [
    {
     "data": {
      "text/latex": [
       "$\\left[ \\begin{array}{r}10\\\\5\\\\10 k\\end{array}\\right]$\n"
      ],
      "text/plain": [
       "3×1 transpose(::Matrix{Sym}) with eltype Sym:\n",
       "   10\n",
       "    5\n",
       " 10⋅k"
      ]
     },
     "execution_count": 23,
     "metadata": {},
     "output_type": "execute_result"
    }
   ],
   "source": [
    "v1=transpose([10 5 10*k])"
   ]
  },
  {
   "cell_type": "code",
   "execution_count": 24,
   "id": "65265a96",
   "metadata": {},
   "outputs": [
    {
     "data": {
      "text/latex": [
       "$\\left[ \\begin{array}{r}- \\frac{10 k}{k + 1} + \\frac{10 k}{k + 1} - \\frac{5}{k + 1}\\\\- \\frac{10 k}{k + 1} + \\frac{15 k}{k + 1}\\\\\\frac{10 k}{k + 1} + \\frac{15}{k + 1}\\end{array}\\right]$\n"
      ],
      "text/plain": [
       "3×1 Matrix{Sym}:\n",
       " -10*k/(k + 1) + 10*k/(k + 1) - 5/(k + 1)\n",
       "             -10*k/(k + 1) + 15*k/(k + 1)\n",
       "                10*k/(k + 1) + 15/(k + 1)"
      ]
     },
     "execution_count": 24,
     "metadata": {},
     "output_type": "execute_result"
    }
   ],
   "source": [
    "inv(M1)*v1"
   ]
  },
  {
   "cell_type": "code",
   "execution_count": 12,
   "id": "71630338",
   "metadata": {},
   "outputs": [],
   "source": [
    "using Plots"
   ]
  },
  {
   "cell_type": "code",
   "execution_count": 13,
   "id": "cd69ad99",
   "metadata": {},
   "outputs": [
    {
     "name": "stderr",
     "output_type": "stream",
     "text": [
      "┌ Info: For saving to png with the Plotly backend PlotlyBase has to be installed.\n",
      "└ @ Plots /home/ec2-user/.julia/packages/Plots/cPJQu/src/backends.jl:317\n"
     ]
    },
    {
     "data": {
      "text/plain": [
       "Plots.PlotlyBackend()"
      ]
     },
     "execution_count": 13,
     "metadata": {},
     "output_type": "execute_result"
    }
   ],
   "source": [
    "plotly()"
   ]
  },
  {
   "cell_type": "code",
   "execution_count": 14,
   "id": "268bc854",
   "metadata": {},
   "outputs": [
    {
     "data": {
      "text/plain": [
       "meshgrid (generic function with 1 method)"
      ]
     },
     "execution_count": 14,
     "metadata": {},
     "output_type": "execute_result"
    }
   ],
   "source": [
    "meshgrid(x,y)=(repeat(x,outer=length(y)),repeat(y,inner=length(x)))"
   ]
  },
  {
   "cell_type": "code",
   "execution_count": 15,
   "id": "42088b24",
   "metadata": {},
   "outputs": [
    {
     "data": {
      "text/plain": [
       "([-2.0, -1.8, -1.6, -1.4, -1.2, -1.0, -0.8, -0.6, -0.4, -0.2  …  0.2, 0.4, 0.6, 0.8, 1.0, 1.2, 1.4, 1.6, 1.8, 2.0], [-2.0, -2.0, -2.0, -2.0, -2.0, -2.0, -2.0, -2.0, -2.0, -2.0  …  2.0, 2.0, 2.0, 2.0, 2.0, 2.0, 2.0, 2.0, 2.0, 2.0])"
      ]
     },
     "execution_count": 15,
     "metadata": {},
     "output_type": "execute_result"
    }
   ],
   "source": [
    "x,y=meshgrid(-2:0.2:2,-2:0.2:2)"
   ]
  },
  {
   "cell_type": "code",
   "execution_count": 17,
   "id": "0e16ffa6",
   "metadata": {},
   "outputs": [
    {
     "data": {
      "text/plain": [
       "0.2"
      ]
     },
     "execution_count": 17,
     "metadata": {},
     "output_type": "execute_result"
    }
   ],
   "source": [
    "scale=0.2"
   ]
  },
  {
   "cell_type": "code",
   "execution_count": 18,
   "id": "41a75c9a",
   "metadata": {
    "collapsed": true,
    "jupyter": {
     "outputs_hidden": true
    }
   },
   "outputs": [
    {
     "data": {
      "text/plain": [
       "441-element Vector{Float64}:\n",
       "  0.4\n",
       "  0.4\n",
       "  0.4\n",
       "  0.4\n",
       "  0.4\n",
       "  0.4\n",
       "  0.4\n",
       "  0.4\n",
       "  0.4\n",
       "  0.4\n",
       "  0.4\n",
       "  0.4\n",
       "  0.4\n",
       "  ⋮\n",
       " -0.4\n",
       " -0.4\n",
       " -0.4\n",
       " -0.4\n",
       " -0.4\n",
       " -0.4\n",
       " -0.4\n",
       " -0.4\n",
       " -0.4\n",
       " -0.4\n",
       " -0.4\n",
       " -0.4"
      ]
     },
     "execution_count": 18,
     "metadata": {},
     "output_type": "execute_result"
    }
   ],
   "source": [
    "u=@.scale*(-y)"
   ]
  },
  {
   "cell_type": "code",
   "execution_count": 19,
   "id": "eb2cf492",
   "metadata": {
    "collapsed": true,
    "jupyter": {
     "outputs_hidden": true
    }
   },
   "outputs": [
    {
     "data": {
      "text/plain": [
       "441-element Vector{Float64}:\n",
       " -0.4\n",
       " -0.36000000000000004\n",
       " -0.32000000000000006\n",
       " -0.27999999999999997\n",
       " -0.24\n",
       " -0.2\n",
       " -0.16000000000000003\n",
       " -0.12\n",
       " -0.08000000000000002\n",
       " -0.04000000000000001\n",
       "  0.0\n",
       "  0.04000000000000001\n",
       "  0.08000000000000002\n",
       "  ⋮\n",
       " -0.04000000000000001\n",
       "  0.0\n",
       "  0.04000000000000001\n",
       "  0.08000000000000002\n",
       "  0.12\n",
       "  0.16000000000000003\n",
       "  0.2\n",
       "  0.24\n",
       "  0.27999999999999997\n",
       "  0.32000000000000006\n",
       "  0.36000000000000004\n",
       "  0.4"
      ]
     },
     "execution_count": 19,
     "metadata": {},
     "output_type": "execute_result"
    }
   ],
   "source": [
    "v=@.scale*x"
   ]
  },
  {
   "cell_type": "code",
   "execution_count": 22,
   "id": "92969298",
   "metadata": {
    "collapsed": true,
    "jupyter": {
     "outputs_hidden": true
    }
   },
   "outputs": [
    {
     "ename": "UndefRefError",
     "evalue": "UndefRefError: access to undefined reference",
     "output_type": "error",
     "traceback": [
      "UndefRefError: access to undefined reference",
      "",
      "Stacktrace:",
      "  [1] getindex",
      "    @ ./array.jl:861 [inlined]",
      "  [2] iterate",
      "    @ ./array.jl:835 [inlined]",
      "  [3] show_json(io::JSON.Writer.PrettyContext{IOBuffer}, s::JSON.Serializations.StandardSerialization, x::Vector{Dict{Symbol, Any}})",
      "    @ JSON.Writer ~/.julia/packages/JSON/NeJ9k/src/Writer.jl:293",
      "  [4] #show_json#3",
      "    @ ~/.julia/packages/JSON/NeJ9k/src/Writer.jl:325 [inlined]",
      "  [5] print(io::IOBuffer, obj::Vector{Dict{Symbol, Any}}, indent::Int64)",
      "    @ JSON.Writer ~/.julia/packages/JSON/NeJ9k/src/Writer.jl:347",
      "  [6] sprint(::Function, ::Vector{Dict{Symbol, Any}}, ::Vararg{Any}; context::Nothing, sizehint::Int64)",
      "    @ Base ./strings/io.jl:114",
      "  [7] sprint",
      "    @ ./strings/io.jl:108 [inlined]",
      "  [8] json(a::Vector{Dict{Symbol, Any}}, indent::Int64)",
      "    @ JSON.Writer ~/.julia/packages/JSON/NeJ9k/src/Writer.jl:366",
      "  [9] plotly_series_json(plt::Plots.Plot{Plots.PlotlyBackend})",
      "    @ Plots ~/.julia/packages/Plots/cPJQu/src/backends/plotly.jl:1041",
      " [10] js_body",
      "    @ ~/.julia/packages/Plots/cPJQu/src/backends/plotly.jl:1106 [inlined]",
      " [11] plotly_html_body(plt::Plots.Plot{Plots.PlotlyBackend}, style::Nothing)",
      "    @ Plots ~/.julia/packages/Plots/cPJQu/src/backends/plotly.jl:1094",
      " [12] plotly_html_body",
      "    @ ~/.julia/packages/Plots/cPJQu/src/backends/plotly.jl:1068 [inlined]",
      " [13] html_body",
      "    @ ~/.julia/packages/Plots/cPJQu/src/backends/plotly.jl:1046 [inlined]",
      " [14] embeddable_html",
      "    @ ~/.julia/packages/Plots/cPJQu/src/backends/web.jl:26 [inlined]",
      " [15] _show(io::IOBuffer, #unused#::MIME{Symbol(\"text/html\")}, plt::Plots.Plot{Plots.PlotlyBackend})",
      "    @ Plots ~/.julia/packages/Plots/cPJQu/src/backends/plotly.jl:1126",
      " [16] show(io::IOBuffer, m::MIME{Symbol(\"text/html\")}, plt::Plots.Plot{Plots.PlotlyBackend})",
      "    @ Plots ~/.julia/packages/Plots/cPJQu/src/output.jl:205",
      " [17] sprint(::Function, ::MIME{Symbol(\"text/html\")}, ::Vararg{Any}; context::Nothing, sizehint::Int64)",
      "    @ Base ./strings/io.jl:114",
      " [18] sprint",
      "    @ ./strings/io.jl:108 [inlined]",
      " [19] _ijulia_display_dict(plt::Plots.Plot{Plots.PlotlyBackend})",
      "    @ Plots ~/.julia/packages/Plots/cPJQu/src/ijulia.jl:50",
      " [20] display_dict(plt::Plots.Plot{Plots.PlotlyBackend})",
      "    @ Plots ~/.julia/packages/Plots/cPJQu/src/init.jl:92",
      " [21] #invokelatest#2",
      "    @ ./essentials.jl:716 [inlined]",
      " [22] invokelatest",
      "    @ ./essentials.jl:714 [inlined]",
      " [23] execute_request(socket::ZMQ.Socket, msg::IJulia.Msg)",
      "    @ IJulia ~/.julia/packages/IJulia/e8kqU/src/execute_request.jl:112",
      " [24] #invokelatest#2",
      "    @ ./essentials.jl:716 [inlined]",
      " [25] invokelatest",
      "    @ ./essentials.jl:714 [inlined]",
      " [26] eventloop(socket::ZMQ.Socket)",
      "    @ IJulia ~/.julia/packages/IJulia/e8kqU/src/eventloop.jl:8",
      " [27] (::IJulia.var\"#15#18\")()",
      "    @ IJulia ./task.jl:423"
     ]
    }
   ],
   "source": [
    "quiver(x,y,quiver=(u,v))"
   ]
  },
  {
   "cell_type": "code",
   "execution_count": 31,
   "id": "981e6056",
   "metadata": {},
   "outputs": [
    {
     "data": {
      "text/plain": [
       "example (generic function with 1 method)"
      ]
     },
     "execution_count": 31,
     "metadata": {},
     "output_type": "execute_result"
    }
   ],
   "source": [
    "using Plots\n",
    "gr(size=(600,400))\n",
    "\n",
    "meshgrid(x, y) = (repeat(x, outer=length(y)), repeat(y, inner=length(x))) # helper function to create a quiver grid.\n",
    "\n",
    "function example()\n",
    "  X = range(-2, stop=2, length=100)\n",
    "  Y = range(-2, stop=2, length=100)\n",
    "  f(x, y) = x^3 - 3x + y^2\n",
    "  Plots.contour(X, Y, f)\n",
    "\n",
    "  xs,ys = meshgrid(range(-2, stop=2, length=11), range(-2,stop=2,length=11))\n",
    "  df(x, y) = [3x^2 - 3; 2y] / 25\n",
    "  quiver(xs, ys, quiver=df, c=:blue)\n",
    "\n",
    "  xlims!(-2, 2)\n",
    "  ylims!(-2, 2)\n",
    "  end"
   ]
  },
  {
   "cell_type": "code",
   "execution_count": 32,
   "id": "6cd677bd",
   "metadata": {},
   "outputs": [
    {
     "data": {
      "image/svg+xml": [
       "<?xml version=\"1.0\" encoding=\"utf-8\"?>\n",
       "<svg xmlns=\"http://www.w3.org/2000/svg\" xmlns:xlink=\"http://www.w3.org/1999/xlink\" width=\"600\" height=\"400\" viewBox=\"0 0 2400 1600\">\n",
       "<defs>\n",
       "  <clipPath id=\"clip820\">\n",
       "    <rect x=\"0\" y=\"0\" width=\"2400\" height=\"1600\"/>\n",
       "  </clipPath>\n",
       "</defs>\n",
       "<path clip-path=\"url(#clip820)\" d=\"\n",
       "M0 1600 L2400 1600 L2400 0 L0 0  Z\n",
       "  \" fill=\"#ffffff\" fill-rule=\"evenodd\" fill-opacity=\"1\"/>\n",
       "<defs>\n",
       "  <clipPath id=\"clip821\">\n",
       "    <rect x=\"480\" y=\"0\" width=\"1681\" height=\"1600\"/>\n",
       "  </clipPath>\n",
       "</defs>\n",
       "<path clip-path=\"url(#clip820)\" d=\"\n",
       "M147.478 1486.45 L2352.76 1486.45 L2352.76 47.2441 L147.478 47.2441  Z\n",
       "  \" fill=\"#ffffff\" fill-rule=\"evenodd\" fill-opacity=\"1\"/>\n",
       "<defs>\n",
       "  <clipPath id=\"clip822\">\n",
       "    <rect x=\"147\" y=\"47\" width=\"2206\" height=\"1440\"/>\n",
       "  </clipPath>\n",
       "</defs>\n",
       "<polyline clip-path=\"url(#clip822)\" style=\"stroke:#000000; stroke-linecap:butt; stroke-linejoin:round; stroke-width:2; stroke-opacity:0.1; fill:none\" points=\"\n",
       "  147.478,1486.45 147.478,47.2441 \n",
       "  \"/>\n",
       "<polyline clip-path=\"url(#clip822)\" style=\"stroke:#000000; stroke-linecap:butt; stroke-linejoin:round; stroke-width:2; stroke-opacity:0.1; fill:none\" points=\"\n",
       "  698.797,1486.45 698.797,47.2441 \n",
       "  \"/>\n",
       "<polyline clip-path=\"url(#clip822)\" style=\"stroke:#000000; stroke-linecap:butt; stroke-linejoin:round; stroke-width:2; stroke-opacity:0.1; fill:none\" points=\"\n",
       "  1250.12,1486.45 1250.12,47.2441 \n",
       "  \"/>\n",
       "<polyline clip-path=\"url(#clip822)\" style=\"stroke:#000000; stroke-linecap:butt; stroke-linejoin:round; stroke-width:2; stroke-opacity:0.1; fill:none\" points=\"\n",
       "  1801.44,1486.45 1801.44,47.2441 \n",
       "  \"/>\n",
       "<polyline clip-path=\"url(#clip822)\" style=\"stroke:#000000; stroke-linecap:butt; stroke-linejoin:round; stroke-width:2; stroke-opacity:0.1; fill:none\" points=\"\n",
       "  2352.76,1486.45 2352.76,47.2441 \n",
       "  \"/>\n",
       "<polyline clip-path=\"url(#clip820)\" style=\"stroke:#000000; stroke-linecap:butt; stroke-linejoin:round; stroke-width:4; stroke-opacity:1; fill:none\" points=\"\n",
       "  147.478,1486.45 2352.76,1486.45 \n",
       "  \"/>\n",
       "<polyline clip-path=\"url(#clip820)\" style=\"stroke:#000000; stroke-linecap:butt; stroke-linejoin:round; stroke-width:4; stroke-opacity:1; fill:none\" points=\"\n",
       "  147.478,1486.45 147.478,1467.55 \n",
       "  \"/>\n",
       "<polyline clip-path=\"url(#clip820)\" style=\"stroke:#000000; stroke-linecap:butt; stroke-linejoin:round; stroke-width:4; stroke-opacity:1; fill:none\" points=\"\n",
       "  698.797,1486.45 698.797,1467.55 \n",
       "  \"/>\n",
       "<polyline clip-path=\"url(#clip820)\" style=\"stroke:#000000; stroke-linecap:butt; stroke-linejoin:round; stroke-width:4; stroke-opacity:1; fill:none\" points=\"\n",
       "  1250.12,1486.45 1250.12,1467.55 \n",
       "  \"/>\n",
       "<polyline clip-path=\"url(#clip820)\" style=\"stroke:#000000; stroke-linecap:butt; stroke-linejoin:round; stroke-width:4; stroke-opacity:1; fill:none\" points=\"\n",
       "  1801.44,1486.45 1801.44,1467.55 \n",
       "  \"/>\n",
       "<polyline clip-path=\"url(#clip820)\" style=\"stroke:#000000; stroke-linecap:butt; stroke-linejoin:round; stroke-width:4; stroke-opacity:1; fill:none\" points=\"\n",
       "  2352.76,1486.45 2352.76,1467.55 \n",
       "  \"/>\n",
       "<path clip-path=\"url(#clip820)\" d=\"M117.42 1532.02 L147.096 1532.02 L147.096 1535.95 L117.42 1535.95 L117.42 1532.02 Z\" fill=\"#000000\" fill-rule=\"evenodd\" fill-opacity=\"1\" /><path clip-path=\"url(#clip820)\" d=\"M161.216 1544.91 L177.536 1544.91 L177.536 1548.85 L155.591 1548.85 L155.591 1544.91 Q158.253 1542.16 162.837 1537.53 Q167.443 1532.88 168.624 1531.53 Q170.869 1529.01 171.749 1527.27 Q172.651 1525.51 172.651 1523.82 Q172.651 1521.07 170.707 1519.33 Q168.786 1517.6 165.684 1517.6 Q163.485 1517.6 161.031 1518.36 Q158.601 1519.13 155.823 1520.68 L155.823 1515.95 Q158.647 1514.82 161.101 1514.24 Q163.554 1513.66 165.591 1513.66 Q170.962 1513.66 174.156 1516.35 Q177.35 1519.03 177.35 1523.52 Q177.35 1525.65 176.54 1527.57 Q175.753 1529.47 173.647 1532.07 Q173.068 1532.74 169.966 1535.95 Q166.864 1539.15 161.216 1544.91 Z\" fill=\"#000000\" fill-rule=\"evenodd\" fill-opacity=\"1\" /><path clip-path=\"url(#clip820)\" d=\"M668.555 1532.02 L698.23 1532.02 L698.23 1535.95 L668.555 1535.95 L668.555 1532.02 Z\" fill=\"#000000\" fill-rule=\"evenodd\" fill-opacity=\"1\" /><path clip-path=\"url(#clip820)\" d=\"M709.133 1544.91 L716.772 1544.91 L716.772 1518.55 L708.462 1520.21 L708.462 1515.95 L716.726 1514.29 L721.401 1514.29 L721.401 1544.91 L729.04 1544.91 L729.04 1548.85 L709.133 1548.85 L709.133 1544.91 Z\" fill=\"#000000\" fill-rule=\"evenodd\" fill-opacity=\"1\" /><path clip-path=\"url(#clip820)\" d=\"M1250.12 1517.37 Q1246.51 1517.37 1244.68 1520.93 Q1242.87 1524.47 1242.87 1531.6 Q1242.87 1538.71 1244.68 1542.27 Q1246.51 1545.82 1250.12 1545.82 Q1253.75 1545.82 1255.56 1542.27 Q1257.39 1538.71 1257.39 1531.6 Q1257.39 1524.47 1255.56 1520.93 Q1253.75 1517.37 1250.12 1517.37 M1250.12 1513.66 Q1255.93 1513.66 1258.98 1518.27 Q1262.06 1522.85 1262.06 1531.6 Q1262.06 1540.33 1258.98 1544.94 Q1255.93 1549.52 1250.12 1549.52 Q1244.31 1549.52 1241.23 1544.94 Q1238.17 1540.33 1238.17 1531.6 Q1238.17 1522.85 1241.23 1518.27 Q1244.31 1513.66 1250.12 1513.66 Z\" fill=\"#000000\" fill-rule=\"evenodd\" fill-opacity=\"1\" /><path clip-path=\"url(#clip820)\" d=\"M1791.82 1544.91 L1799.46 1544.91 L1799.46 1518.55 L1791.15 1520.21 L1791.15 1515.95 L1799.41 1514.29 L1804.09 1514.29 L1804.09 1544.91 L1811.73 1544.91 L1811.73 1548.85 L1791.82 1548.85 L1791.82 1544.91 Z\" fill=\"#000000\" fill-rule=\"evenodd\" fill-opacity=\"1\" /><path clip-path=\"url(#clip820)\" d=\"M2347.41 1544.91 L2363.73 1544.91 L2363.73 1548.85 L2341.78 1548.85 L2341.78 1544.91 Q2344.45 1542.16 2349.03 1537.53 Q2353.64 1532.88 2354.82 1531.53 Q2357.06 1529.01 2357.94 1527.27 Q2358.84 1525.51 2358.84 1523.82 Q2358.84 1521.07 2356.9 1519.33 Q2354.98 1517.6 2351.88 1517.6 Q2349.68 1517.6 2347.22 1518.36 Q2344.79 1519.13 2342.02 1520.68 L2342.02 1515.95 Q2344.84 1514.82 2347.29 1514.24 Q2349.75 1513.66 2351.78 1513.66 Q2357.15 1513.66 2360.35 1516.35 Q2363.54 1519.03 2363.54 1523.52 Q2363.54 1525.65 2362.73 1527.57 Q2361.95 1529.47 2359.84 1532.07 Q2359.26 1532.74 2356.16 1535.95 Q2353.06 1539.15 2347.41 1544.91 Z\" fill=\"#000000\" fill-rule=\"evenodd\" fill-opacity=\"1\" /><polyline clip-path=\"url(#clip822)\" style=\"stroke:#000000; stroke-linecap:butt; stroke-linejoin:round; stroke-width:2; stroke-opacity:0.1; fill:none\" points=\"\n",
       "  147.478,1486.45 2352.76,1486.45 \n",
       "  \"/>\n",
       "<polyline clip-path=\"url(#clip822)\" style=\"stroke:#000000; stroke-linecap:butt; stroke-linejoin:round; stroke-width:2; stroke-opacity:0.1; fill:none\" points=\"\n",
       "  147.478,1126.65 2352.76,1126.65 \n",
       "  \"/>\n",
       "<polyline clip-path=\"url(#clip822)\" style=\"stroke:#000000; stroke-linecap:butt; stroke-linejoin:round; stroke-width:2; stroke-opacity:0.1; fill:none\" points=\"\n",
       "  147.478,766.846 2352.76,766.846 \n",
       "  \"/>\n",
       "<polyline clip-path=\"url(#clip822)\" style=\"stroke:#000000; stroke-linecap:butt; stroke-linejoin:round; stroke-width:2; stroke-opacity:0.1; fill:none\" points=\"\n",
       "  147.478,407.045 2352.76,407.045 \n",
       "  \"/>\n",
       "<polyline clip-path=\"url(#clip822)\" style=\"stroke:#000000; stroke-linecap:butt; stroke-linejoin:round; stroke-width:2; stroke-opacity:0.1; fill:none\" points=\"\n",
       "  147.478,47.2441 2352.76,47.2441 \n",
       "  \"/>\n",
       "<polyline clip-path=\"url(#clip820)\" style=\"stroke:#000000; stroke-linecap:butt; stroke-linejoin:round; stroke-width:4; stroke-opacity:1; fill:none\" points=\"\n",
       "  147.478,1486.45 147.478,47.2441 \n",
       "  \"/>\n",
       "<polyline clip-path=\"url(#clip820)\" style=\"stroke:#000000; stroke-linecap:butt; stroke-linejoin:round; stroke-width:4; stroke-opacity:1; fill:none\" points=\"\n",
       "  147.478,1486.45 166.376,1486.45 \n",
       "  \"/>\n",
       "<polyline clip-path=\"url(#clip820)\" style=\"stroke:#000000; stroke-linecap:butt; stroke-linejoin:round; stroke-width:4; stroke-opacity:1; fill:none\" points=\"\n",
       "  147.478,1126.65 166.376,1126.65 \n",
       "  \"/>\n",
       "<polyline clip-path=\"url(#clip820)\" style=\"stroke:#000000; stroke-linecap:butt; stroke-linejoin:round; stroke-width:4; stroke-opacity:1; fill:none\" points=\"\n",
       "  147.478,766.846 166.376,766.846 \n",
       "  \"/>\n",
       "<polyline clip-path=\"url(#clip820)\" style=\"stroke:#000000; stroke-linecap:butt; stroke-linejoin:round; stroke-width:4; stroke-opacity:1; fill:none\" points=\"\n",
       "  147.478,407.045 166.376,407.045 \n",
       "  \"/>\n",
       "<polyline clip-path=\"url(#clip820)\" style=\"stroke:#000000; stroke-linecap:butt; stroke-linejoin:round; stroke-width:4; stroke-opacity:1; fill:none\" points=\"\n",
       "  147.478,47.2441 166.376,47.2441 \n",
       "  \"/>\n",
       "<path clip-path=\"url(#clip820)\" d=\"M51.3625 1486.9 L81.0383 1486.9 L81.0383 1490.83 L51.3625 1490.83 L51.3625 1486.9 Z\" fill=\"#000000\" fill-rule=\"evenodd\" fill-opacity=\"1\" /><path clip-path=\"url(#clip820)\" d=\"M95.1586 1499.79 L111.478 1499.79 L111.478 1503.73 L89.5336 1503.73 L89.5336 1499.79 Q92.1956 1497.04 96.7789 1492.41 Q101.385 1487.76 102.566 1486.41 Q104.811 1483.89 105.691 1482.15 Q106.594 1480.39 106.594 1478.7 Q106.594 1475.95 104.649 1474.21 Q102.728 1472.48 99.6261 1472.48 Q97.4271 1472.48 94.9734 1473.24 Q92.5428 1474.01 89.7651 1475.56 L89.7651 1470.83 Q92.5891 1469.7 95.0428 1469.12 Q97.4965 1468.54 99.5335 1468.54 Q104.904 1468.54 108.098 1471.23 Q111.293 1473.91 111.293 1478.4 Q111.293 1480.53 110.483 1482.45 Q109.696 1484.35 107.589 1486.95 Q107.01 1487.62 103.909 1490.83 Q100.807 1494.03 95.1586 1499.79 Z\" fill=\"#000000\" fill-rule=\"evenodd\" fill-opacity=\"1\" /><path clip-path=\"url(#clip820)\" d=\"M50.9921 1127.1 L80.6679 1127.1 L80.6679 1131.03 L50.9921 1131.03 L50.9921 1127.1 Z\" fill=\"#000000\" fill-rule=\"evenodd\" fill-opacity=\"1\" /><path clip-path=\"url(#clip820)\" d=\"M91.5706 1139.99 L99.2095 1139.99 L99.2095 1113.63 L90.8993 1115.29 L90.8993 1111.03 L99.1632 1109.37 L103.839 1109.37 L103.839 1139.99 L111.478 1139.99 L111.478 1143.93 L91.5706 1143.93 L91.5706 1139.99 Z\" fill=\"#000000\" fill-rule=\"evenodd\" fill-opacity=\"1\" /><path clip-path=\"url(#clip820)\" d=\"M99.5335 752.645 Q95.9224 752.645 94.0937 756.209 Q92.2882 759.751 92.2882 766.881 Q92.2882 773.987 94.0937 777.552 Q95.9224 781.094 99.5335 781.094 Q103.168 781.094 104.973 777.552 Q106.802 773.987 106.802 766.881 Q106.802 759.751 104.973 756.209 Q103.168 752.645 99.5335 752.645 M99.5335 748.941 Q105.344 748.941 108.399 753.547 Q111.478 758.131 111.478 766.881 Q111.478 775.608 108.399 780.214 Q105.344 784.797 99.5335 784.797 Q93.7234 784.797 90.6447 780.214 Q87.5892 775.608 87.5892 766.881 Q87.5892 758.131 90.6447 753.547 Q93.7234 748.941 99.5335 748.941 Z\" fill=\"#000000\" fill-rule=\"evenodd\" fill-opacity=\"1\" /><path clip-path=\"url(#clip820)\" d=\"M91.5706 420.39 L99.2095 420.39 L99.2095 394.024 L90.8993 395.691 L90.8993 391.432 L99.1632 389.765 L103.839 389.765 L103.839 420.39 L111.478 420.39 L111.478 424.325 L91.5706 424.325 L91.5706 420.39 Z\" fill=\"#000000\" fill-rule=\"evenodd\" fill-opacity=\"1\" /><path clip-path=\"url(#clip820)\" d=\"M95.1586 60.5889 L111.478 60.5889 L111.478 64.5241 L89.5336 64.5241 L89.5336 60.5889 Q92.1956 57.8343 96.7789 53.2047 Q101.385 48.552 102.566 47.2094 Q104.811 44.6862 105.691 42.9501 Q106.594 41.1909 106.594 39.5011 Q106.594 36.7465 104.649 35.0104 Q102.728 33.2743 99.6261 33.2743 Q97.4271 33.2743 94.9734 34.0381 Q92.5428 34.802 89.7651 36.3529 L89.7651 31.6308 Q92.5891 30.4965 95.0428 29.9178 Q97.4965 29.3391 99.5335 29.3391 Q104.904 29.3391 108.098 32.0243 Q111.293 34.7094 111.293 39.2002 Q111.293 41.3298 110.483 43.2511 Q109.696 45.1492 107.589 47.7418 Q107.01 48.4131 103.909 51.6306 Q100.807 54.8251 95.1586 60.5889 Z\" fill=\"#000000\" fill-rule=\"evenodd\" fill-opacity=\"1\" /><polyline clip-path=\"url(#clip822)\" style=\"stroke:#0000ff; stroke-linecap:butt; stroke-linejoin:round; stroke-width:4; stroke-opacity:1; fill:none\" points=\"\n",
       "  147.478,1486.45 345.953,1544.02 \n",
       "  \"/>\n",
       "<polyline clip-path=\"url(#clip822)\" style=\"stroke:#0000ff; stroke-linecap:butt; stroke-linejoin:round; stroke-width:4; stroke-opacity:1; fill:none\" points=\"\n",
       "  316.392,1516.7 345.953,1544.02 306.364,1551.27 \n",
       "  \"/>\n",
       "<polyline clip-path=\"url(#clip822)\" style=\"stroke:#0000ff; stroke-linecap:butt; stroke-linejoin:round; stroke-width:4; stroke-opacity:1; fill:none\" points=\"\n",
       "  345.953,1544.02 147.478,1486.45 \n",
       "  \"/>\n",
       "<polyline clip-path=\"url(#clip822)\" style=\"stroke:#0000ff; stroke-linecap:butt; stroke-linejoin:round; stroke-width:4; stroke-opacity:1; fill:none\" points=\"\n",
       "  368.006,1486.45 471.213,1544.02 \n",
       "  \"/>\n",
       "<polyline clip-path=\"url(#clip822)\" style=\"stroke:#0000ff; stroke-linecap:butt; stroke-linejoin:round; stroke-width:4; stroke-opacity:1; fill:none\" points=\"\n",
       "  448.541,1510.76 471.213,1544.02 431.005,1542.2 \n",
       "  \"/>\n",
       "<polyline clip-path=\"url(#clip822)\" style=\"stroke:#0000ff; stroke-linecap:butt; stroke-linejoin:round; stroke-width:4; stroke-opacity:1; fill:none\" points=\"\n",
       "  471.213,1544.02 368.006,1486.45 \n",
       "  \"/>\n",
       "<polyline clip-path=\"url(#clip822)\" style=\"stroke:#0000ff; stroke-linecap:butt; stroke-linejoin:round; stroke-width:4; stroke-opacity:1; fill:none\" points=\"\n",
       "  588.534,1486.45 617.643,1544.02 \n",
       "  \"/>\n",
       "<polyline clip-path=\"url(#clip822)\" style=\"stroke:#0000ff; stroke-linecap:butt; stroke-linejoin:round; stroke-width:4; stroke-opacity:1; fill:none\" points=\"\n",
       "  617.461,1503.77 617.643,1544.02 585.335,1520.01 \n",
       "  \"/>\n",
       "<polyline clip-path=\"url(#clip822)\" style=\"stroke:#0000ff; stroke-linecap:butt; stroke-linejoin:round; stroke-width:4; stroke-opacity:1; fill:none\" points=\"\n",
       "  617.643,1544.02 588.534,1486.45 \n",
       "  \"/>\n",
       "<polyline clip-path=\"url(#clip822)\" style=\"stroke:#0000ff; stroke-linecap:butt; stroke-linejoin:round; stroke-width:4; stroke-opacity:1; fill:none\" points=\"\n",
       "  809.061,1486.45 785.244,1544.02 \n",
       "  \"/>\n",
       "<polyline clip-path=\"url(#clip822)\" style=\"stroke:#0000ff; stroke-linecap:butt; stroke-linejoin:round; stroke-width:4; stroke-opacity:1; fill:none\" points=\"\n",
       "  815.64,1517.63 785.244,1544.02 782.374,1503.87 \n",
       "  \"/>\n",
       "<polyline clip-path=\"url(#clip822)\" style=\"stroke:#0000ff; stroke-linecap:butt; stroke-linejoin:round; stroke-width:4; stroke-opacity:1; fill:none\" points=\"\n",
       "  785.244,1544.02 809.061,1486.45 \n",
       "  \"/>\n",
       "<polyline clip-path=\"url(#clip822)\" style=\"stroke:#0000ff; stroke-linecap:butt; stroke-linejoin:round; stroke-width:4; stroke-opacity:1; fill:none\" points=\"\n",
       "  1029.59,1486.45 974.016,1544.02 \n",
       "  \"/>\n",
       "<polyline clip-path=\"url(#clip822)\" style=\"stroke:#0000ff; stroke-linecap:butt; stroke-linejoin:round; stroke-width:4; stroke-opacity:1; fill:none\" points=\"\n",
       "  1011.97,1530.62 974.016,1544.02 986.069,1505.61 \n",
       "  \"/>\n",
       "<polyline clip-path=\"url(#clip822)\" style=\"stroke:#0000ff; stroke-linecap:butt; stroke-linejoin:round; stroke-width:4; stroke-opacity:1; fill:none\" points=\"\n",
       "  974.016,1544.02 1029.59,1486.45 \n",
       "  \"/>\n",
       "<polyline clip-path=\"url(#clip822)\" style=\"stroke:#0000ff; stroke-linecap:butt; stroke-linejoin:round; stroke-width:4; stroke-opacity:1; fill:none\" points=\"\n",
       "  1250.12,1486.45 1183.96,1544.02 \n",
       "  \"/>\n",
       "<polyline clip-path=\"url(#clip822)\" style=\"stroke:#0000ff; stroke-linecap:butt; stroke-linejoin:round; stroke-width:4; stroke-opacity:1; fill:none\" points=\"\n",
       "  1222.93,1533.96 1183.96,1544.02 1199.3,1506.81 \n",
       "  \"/>\n",
       "<polyline clip-path=\"url(#clip822)\" style=\"stroke:#0000ff; stroke-linecap:butt; stroke-linejoin:round; stroke-width:4; stroke-opacity:1; fill:none\" points=\"\n",
       "  1183.96,1544.02 1250.12,1486.45 \n",
       "  \"/>\n",
       "<polyline clip-path=\"url(#clip822)\" style=\"stroke:#0000ff; stroke-linecap:butt; stroke-linejoin:round; stroke-width:4; stroke-opacity:1; fill:none\" points=\"\n",
       "  1470.64,1486.45 1415.07,1544.02 \n",
       "  \"/>\n",
       "<polyline clip-path=\"url(#clip822)\" style=\"stroke:#0000ff; stroke-linecap:butt; stroke-linejoin:round; stroke-width:4; stroke-opacity:1; fill:none\" points=\"\n",
       "  1453.03,1530.62 1415.07,1544.02 1427.12,1505.61 \n",
       "  \"/>\n",
       "<polyline clip-path=\"url(#clip822)\" style=\"stroke:#0000ff; stroke-linecap:butt; stroke-linejoin:round; stroke-width:4; stroke-opacity:1; fill:none\" points=\"\n",
       "  1415.07,1544.02 1470.64,1486.45 \n",
       "  \"/>\n",
       "<polyline clip-path=\"url(#clip822)\" style=\"stroke:#0000ff; stroke-linecap:butt; stroke-linejoin:round; stroke-width:4; stroke-opacity:1; fill:none\" points=\"\n",
       "  1691.17,1486.45 1667.36,1544.02 \n",
       "  \"/>\n",
       "<polyline clip-path=\"url(#clip822)\" style=\"stroke:#0000ff; stroke-linecap:butt; stroke-linejoin:round; stroke-width:4; stroke-opacity:1; fill:none\" points=\"\n",
       "  1697.75,1517.63 1667.36,1544.02 1664.49,1503.87 \n",
       "  \"/>\n",
       "<polyline clip-path=\"url(#clip822)\" style=\"stroke:#0000ff; stroke-linecap:butt; stroke-linejoin:round; stroke-width:4; stroke-opacity:1; fill:none\" points=\"\n",
       "  1667.36,1544.02 1691.17,1486.45 \n",
       "  \"/>\n",
       "<polyline clip-path=\"url(#clip822)\" style=\"stroke:#0000ff; stroke-linecap:butt; stroke-linejoin:round; stroke-width:4; stroke-opacity:1; fill:none\" points=\"\n",
       "  1911.7,1486.45 1940.81,1544.02 \n",
       "  \"/>\n",
       "<polyline clip-path=\"url(#clip822)\" style=\"stroke:#0000ff; stroke-linecap:butt; stroke-linejoin:round; stroke-width:4; stroke-opacity:1; fill:none\" points=\"\n",
       "  1940.63,1503.77 1940.81,1544.02 1908.5,1520.01 \n",
       "  \"/>\n",
       "<polyline clip-path=\"url(#clip822)\" style=\"stroke:#0000ff; stroke-linecap:butt; stroke-linejoin:round; stroke-width:4; stroke-opacity:1; fill:none\" points=\"\n",
       "  1940.81,1544.02 1911.7,1486.45 \n",
       "  \"/>\n",
       "<polyline clip-path=\"url(#clip822)\" style=\"stroke:#0000ff; stroke-linecap:butt; stroke-linejoin:round; stroke-width:4; stroke-opacity:1; fill:none\" points=\"\n",
       "  2132.23,1486.45 2235.44,1544.02 \n",
       "  \"/>\n",
       "<polyline clip-path=\"url(#clip822)\" style=\"stroke:#0000ff; stroke-linecap:butt; stroke-linejoin:round; stroke-width:4; stroke-opacity:1; fill:none\" points=\"\n",
       "  2212.76,1510.76 2235.44,1544.02 2195.23,1542.2 \n",
       "  \"/>\n",
       "<polyline clip-path=\"url(#clip822)\" style=\"stroke:#0000ff; stroke-linecap:butt; stroke-linejoin:round; stroke-width:4; stroke-opacity:1; fill:none\" points=\"\n",
       "  2235.44,1544.02 2132.23,1486.45 \n",
       "  \"/>\n",
       "<polyline clip-path=\"url(#clip822)\" style=\"stroke:#0000ff; stroke-linecap:butt; stroke-linejoin:round; stroke-width:4; stroke-opacity:1; fill:none\" points=\"\n",
       "  2352.76,1486.45 2551.23,1544.02 \n",
       "  \"/>\n",
       "<polyline clip-path=\"url(#clip822)\" style=\"stroke:#0000ff; stroke-linecap:butt; stroke-linejoin:round; stroke-width:4; stroke-opacity:1; fill:none\" points=\"\n",
       "  2521.67,1516.7 2551.23,1544.02 2511.64,1551.27 \n",
       "  \"/>\n",
       "<polyline clip-path=\"url(#clip822)\" style=\"stroke:#0000ff; stroke-linecap:butt; stroke-linejoin:round; stroke-width:4; stroke-opacity:1; fill:none\" points=\"\n",
       "  2551.23,1544.02 2352.76,1486.45 \n",
       "  \"/>\n",
       "<polyline clip-path=\"url(#clip822)\" style=\"stroke:#0000ff; stroke-linecap:butt; stroke-linejoin:round; stroke-width:4; stroke-opacity:1; fill:none\" points=\"\n",
       "  147.478,1342.53 345.953,1388.58 \n",
       "  \"/>\n",
       "<polyline clip-path=\"url(#clip822)\" style=\"stroke:#0000ff; stroke-linecap:butt; stroke-linejoin:round; stroke-width:4; stroke-opacity:1; fill:none\" points=\"\n",
       "  314.953,1362.91 345.953,1388.58 306.816,1397.98 \n",
       "  \"/>\n",
       "<polyline clip-path=\"url(#clip822)\" style=\"stroke:#0000ff; stroke-linecap:butt; stroke-linejoin:round; stroke-width:4; stroke-opacity:1; fill:none\" points=\"\n",
       "  345.953,1388.58 147.478,1342.53 \n",
       "  \"/>\n",
       "<polyline clip-path=\"url(#clip822)\" style=\"stroke:#0000ff; stroke-linecap:butt; stroke-linejoin:round; stroke-width:4; stroke-opacity:1; fill:none\" points=\"\n",
       "  368.006,1342.53 471.213,1388.58 \n",
       "  \"/>\n",
       "<polyline clip-path=\"url(#clip822)\" style=\"stroke:#0000ff; stroke-linecap:butt; stroke-linejoin:round; stroke-width:4; stroke-opacity:1; fill:none\" points=\"\n",
       "  445.672,1357.47 471.213,1388.58 431.002,1390.35 \n",
       "  \"/>\n",
       "<polyline clip-path=\"url(#clip822)\" style=\"stroke:#0000ff; stroke-linecap:butt; stroke-linejoin:round; stroke-width:4; stroke-opacity:1; fill:none\" points=\"\n",
       "  471.213,1388.58 368.006,1342.53 \n",
       "  \"/>\n",
       "<polyline clip-path=\"url(#clip822)\" style=\"stroke:#0000ff; stroke-linecap:butt; stroke-linejoin:round; stroke-width:4; stroke-opacity:1; fill:none\" points=\"\n",
       "  588.534,1342.53 617.643,1388.58 \n",
       "  \"/>\n",
       "<polyline clip-path=\"url(#clip822)\" style=\"stroke:#0000ff; stroke-linecap:butt; stroke-linejoin:round; stroke-width:4; stroke-opacity:1; fill:none\" points=\"\n",
       "  613.624,1348.53 617.643,1388.58 583.193,1367.77 \n",
       "  \"/>\n",
       "<polyline clip-path=\"url(#clip822)\" style=\"stroke:#0000ff; stroke-linecap:butt; stroke-linejoin:round; stroke-width:4; stroke-opacity:1; fill:none\" points=\"\n",
       "  617.643,1388.58 588.534,1342.53 \n",
       "  \"/>\n",
       "<polyline clip-path=\"url(#clip822)\" style=\"stroke:#0000ff; stroke-linecap:butt; stroke-linejoin:round; stroke-width:4; stroke-opacity:1; fill:none\" points=\"\n",
       "  809.061,1342.53 785.244,1388.58 \n",
       "  \"/>\n",
       "<polyline clip-path=\"url(#clip822)\" style=\"stroke:#0000ff; stroke-linecap:butt; stroke-linejoin:round; stroke-width:4; stroke-opacity:1; fill:none\" points=\"\n",
       "  817.77,1364.87 785.244,1388.58 785.793,1348.34 \n",
       "  \"/>\n",
       "<polyline clip-path=\"url(#clip822)\" style=\"stroke:#0000ff; stroke-linecap:butt; stroke-linejoin:round; stroke-width:4; stroke-opacity:1; fill:none\" points=\"\n",
       "  785.244,1388.58 809.061,1342.53 \n",
       "  \"/>\n",
       "<polyline clip-path=\"url(#clip822)\" style=\"stroke:#0000ff; stroke-linecap:butt; stroke-linejoin:round; stroke-width:4; stroke-opacity:1; fill:none\" points=\"\n",
       "  1029.59,1342.53 974.016,1388.58 \n",
       "  \"/>\n",
       "<polyline clip-path=\"url(#clip822)\" style=\"stroke:#0000ff; stroke-linecap:butt; stroke-linejoin:round; stroke-width:4; stroke-opacity:1; fill:none\" points=\"\n",
       "  1013.22,1379.47 974.016,1388.58 990.249,1351.75 \n",
       "  \"/>\n",
       "<polyline clip-path=\"url(#clip822)\" style=\"stroke:#0000ff; stroke-linecap:butt; stroke-linejoin:round; stroke-width:4; stroke-opacity:1; fill:none\" points=\"\n",
       "  974.016,1388.58 1029.59,1342.53 \n",
       "  \"/>\n",
       "<polyline clip-path=\"url(#clip822)\" style=\"stroke:#0000ff; stroke-linecap:butt; stroke-linejoin:round; stroke-width:4; stroke-opacity:1; fill:none\" points=\"\n",
       "  1250.12,1342.53 1183.96,1388.58 \n",
       "  \"/>\n",
       "<polyline clip-path=\"url(#clip822)\" style=\"stroke:#0000ff; stroke-linecap:butt; stroke-linejoin:round; stroke-width:4; stroke-opacity:1; fill:none\" points=\"\n",
       "  1223.79,1382.79 1183.96,1388.58 1203.22,1353.24 \n",
       "  \"/>\n",
       "<polyline clip-path=\"url(#clip822)\" style=\"stroke:#0000ff; stroke-linecap:butt; stroke-linejoin:round; stroke-width:4; stroke-opacity:1; fill:none\" points=\"\n",
       "  1183.96,1388.58 1250.12,1342.53 \n",
       "  \"/>\n",
       "<polyline clip-path=\"url(#clip822)\" style=\"stroke:#0000ff; stroke-linecap:butt; stroke-linejoin:round; stroke-width:4; stroke-opacity:1; fill:none\" points=\"\n",
       "  1470.64,1342.53 1415.07,1388.58 \n",
       "  \"/>\n",
       "<polyline clip-path=\"url(#clip822)\" style=\"stroke:#0000ff; stroke-linecap:butt; stroke-linejoin:round; stroke-width:4; stroke-opacity:1; fill:none\" points=\"\n",
       "  1454.28,1379.47 1415.07,1388.58 1431.3,1351.75 \n",
       "  \"/>\n",
       "<polyline clip-path=\"url(#clip822)\" style=\"stroke:#0000ff; stroke-linecap:butt; stroke-linejoin:round; stroke-width:4; stroke-opacity:1; fill:none\" points=\"\n",
       "  1415.07,1388.58 1470.64,1342.53 \n",
       "  \"/>\n",
       "<polyline clip-path=\"url(#clip822)\" style=\"stroke:#0000ff; stroke-linecap:butt; stroke-linejoin:round; stroke-width:4; stroke-opacity:1; fill:none\" points=\"\n",
       "  1691.17,1342.53 1667.36,1388.58 \n",
       "  \"/>\n",
       "<polyline clip-path=\"url(#clip822)\" style=\"stroke:#0000ff; stroke-linecap:butt; stroke-linejoin:round; stroke-width:4; stroke-opacity:1; fill:none\" points=\"\n",
       "  1699.88,1364.87 1667.36,1388.58 1667.9,1348.34 \n",
       "  \"/>\n",
       "<polyline clip-path=\"url(#clip822)\" style=\"stroke:#0000ff; stroke-linecap:butt; stroke-linejoin:round; stroke-width:4; stroke-opacity:1; fill:none\" points=\"\n",
       "  1667.36,1388.58 1691.17,1342.53 \n",
       "  \"/>\n",
       "<polyline clip-path=\"url(#clip822)\" style=\"stroke:#0000ff; stroke-linecap:butt; stroke-linejoin:round; stroke-width:4; stroke-opacity:1; fill:none\" points=\"\n",
       "  1911.7,1342.53 1940.81,1388.58 \n",
       "  \"/>\n",
       "<polyline clip-path=\"url(#clip822)\" style=\"stroke:#0000ff; stroke-linecap:butt; stroke-linejoin:round; stroke-width:4; stroke-opacity:1; fill:none\" points=\"\n",
       "  1936.79,1348.53 1940.81,1388.58 1906.36,1367.77 \n",
       "  \"/>\n",
       "<polyline clip-path=\"url(#clip822)\" style=\"stroke:#0000ff; stroke-linecap:butt; stroke-linejoin:round; stroke-width:4; stroke-opacity:1; fill:none\" points=\"\n",
       "  1940.81,1388.58 1911.7,1342.53 \n",
       "  \"/>\n",
       "<polyline clip-path=\"url(#clip822)\" style=\"stroke:#0000ff; stroke-linecap:butt; stroke-linejoin:round; stroke-width:4; stroke-opacity:1; fill:none\" points=\"\n",
       "  2132.23,1342.53 2235.44,1388.58 \n",
       "  \"/>\n",
       "<polyline clip-path=\"url(#clip822)\" style=\"stroke:#0000ff; stroke-linecap:butt; stroke-linejoin:round; stroke-width:4; stroke-opacity:1; fill:none\" points=\"\n",
       "  2209.89,1357.47 2235.44,1388.58 2195.22,1390.35 \n",
       "  \"/>\n",
       "<polyline clip-path=\"url(#clip822)\" style=\"stroke:#0000ff; stroke-linecap:butt; stroke-linejoin:round; stroke-width:4; stroke-opacity:1; fill:none\" points=\"\n",
       "  2235.44,1388.58 2132.23,1342.53 \n",
       "  \"/>\n",
       "<polyline clip-path=\"url(#clip822)\" style=\"stroke:#0000ff; stroke-linecap:butt; stroke-linejoin:round; stroke-width:4; stroke-opacity:1; fill:none\" points=\"\n",
       "  2352.76,1342.53 2551.23,1388.58 \n",
       "  \"/>\n",
       "<polyline clip-path=\"url(#clip822)\" style=\"stroke:#0000ff; stroke-linecap:butt; stroke-linejoin:round; stroke-width:4; stroke-opacity:1; fill:none\" points=\"\n",
       "  2520.23,1362.91 2551.23,1388.58 2512.09,1397.98 \n",
       "  \"/>\n",
       "<polyline clip-path=\"url(#clip822)\" style=\"stroke:#0000ff; stroke-linecap:butt; stroke-linejoin:round; stroke-width:4; stroke-opacity:1; fill:none\" points=\"\n",
       "  2551.23,1388.58 2352.76,1342.53 \n",
       "  \"/>\n",
       "<polyline clip-path=\"url(#clip822)\" style=\"stroke:#0000ff; stroke-linecap:butt; stroke-linejoin:round; stroke-width:4; stroke-opacity:1; fill:none\" points=\"\n",
       "  147.478,1198.61 345.953,1233.15 \n",
       "  \"/>\n",
       "<polyline clip-path=\"url(#clip822)\" style=\"stroke:#0000ff; stroke-linecap:butt; stroke-linejoin:round; stroke-width:4; stroke-opacity:1; fill:none\" points=\"\n",
       "  313.572,1209.24 345.953,1233.15 307.4,1244.71 \n",
       "  \"/>\n",
       "<polyline clip-path=\"url(#clip822)\" style=\"stroke:#0000ff; stroke-linecap:butt; stroke-linejoin:round; stroke-width:4; stroke-opacity:1; fill:none\" points=\"\n",
       "  345.953,1233.15 147.478,1198.61 \n",
       "  \"/>\n",
       "<polyline clip-path=\"url(#clip822)\" style=\"stroke:#0000ff; stroke-linecap:butt; stroke-linejoin:round; stroke-width:4; stroke-opacity:1; fill:none\" points=\"\n",
       "  368.006,1198.61 471.213,1233.15 \n",
       "  \"/>\n",
       "<polyline clip-path=\"url(#clip822)\" style=\"stroke:#0000ff; stroke-linecap:butt; stroke-linejoin:round; stroke-width:4; stroke-opacity:1; fill:none\" points=\"\n",
       "  442.787,1204.65 471.213,1233.15 431.361,1238.79 \n",
       "  \"/>\n",
       "<polyline clip-path=\"url(#clip822)\" style=\"stroke:#0000ff; stroke-linecap:butt; stroke-linejoin:round; stroke-width:4; stroke-opacity:1; fill:none\" points=\"\n",
       "  471.213,1233.15 368.006,1198.61 \n",
       "  \"/>\n",
       "<polyline clip-path=\"url(#clip822)\" style=\"stroke:#0000ff; stroke-linecap:butt; stroke-linejoin:round; stroke-width:4; stroke-opacity:1; fill:none\" points=\"\n",
       "  588.534,1198.61 617.643,1233.15 \n",
       "  \"/>\n",
       "<polyline clip-path=\"url(#clip822)\" style=\"stroke:#0000ff; stroke-linecap:butt; stroke-linejoin:round; stroke-width:4; stroke-opacity:1; fill:none\" points=\"\n",
       "  608.208,1194.02 617.643,1233.15 580.68,1217.22 \n",
       "  \"/>\n",
       "<polyline clip-path=\"url(#clip822)\" style=\"stroke:#0000ff; stroke-linecap:butt; stroke-linejoin:round; stroke-width:4; stroke-opacity:1; fill:none\" points=\"\n",
       "  617.643,1233.15 588.534,1198.61 \n",
       "  \"/>\n",
       "<polyline clip-path=\"url(#clip822)\" style=\"stroke:#0000ff; stroke-linecap:butt; stroke-linejoin:round; stroke-width:4; stroke-opacity:1; fill:none\" points=\"\n",
       "  809.061,1198.61 785.244,1233.15 \n",
       "  \"/>\n",
       "<polyline clip-path=\"url(#clip822)\" style=\"stroke:#0000ff; stroke-linecap:butt; stroke-linejoin:round; stroke-width:4; stroke-opacity:1; fill:none\" points=\"\n",
       "  820.499,1213.73 785.244,1233.15 790.862,1193.29 \n",
       "  \"/>\n",
       "<polyline clip-path=\"url(#clip822)\" style=\"stroke:#0000ff; stroke-linecap:butt; stroke-linejoin:round; stroke-width:4; stroke-opacity:1; fill:none\" points=\"\n",
       "  785.244,1233.15 809.061,1198.61 \n",
       "  \"/>\n",
       "<polyline clip-path=\"url(#clip822)\" style=\"stroke:#0000ff; stroke-linecap:butt; stroke-linejoin:round; stroke-width:4; stroke-opacity:1; fill:none\" points=\"\n",
       "  1029.59,1198.61 974.016,1233.15 \n",
       "  \"/>\n",
       "<polyline clip-path=\"url(#clip822)\" style=\"stroke:#0000ff; stroke-linecap:butt; stroke-linejoin:round; stroke-width:4; stroke-opacity:1; fill:none\" points=\"\n",
       "  1014.09,1229.43 974.016,1233.15 995.09,1198.86 \n",
       "  \"/>\n",
       "<polyline clip-path=\"url(#clip822)\" style=\"stroke:#0000ff; stroke-linecap:butt; stroke-linejoin:round; stroke-width:4; stroke-opacity:1; fill:none\" points=\"\n",
       "  974.016,1233.15 1029.59,1198.61 \n",
       "  \"/>\n",
       "<polyline clip-path=\"url(#clip822)\" style=\"stroke:#0000ff; stroke-linecap:butt; stroke-linejoin:round; stroke-width:4; stroke-opacity:1; fill:none\" points=\"\n",
       "  1250.12,1198.61 1183.96,1233.15 \n",
       "  \"/>\n",
       "<polyline clip-path=\"url(#clip822)\" style=\"stroke:#0000ff; stroke-linecap:butt; stroke-linejoin:round; stroke-width:4; stroke-opacity:1; fill:none\" points=\"\n",
       "  1224.2,1232.44 1183.96,1233.15 1207.54,1200.53 \n",
       "  \"/>\n",
       "<polyline clip-path=\"url(#clip822)\" style=\"stroke:#0000ff; stroke-linecap:butt; stroke-linejoin:round; stroke-width:4; stroke-opacity:1; fill:none\" points=\"\n",
       "  1183.96,1233.15 1250.12,1198.61 \n",
       "  \"/>\n",
       "<polyline clip-path=\"url(#clip822)\" style=\"stroke:#0000ff; stroke-linecap:butt; stroke-linejoin:round; stroke-width:4; stroke-opacity:1; fill:none\" points=\"\n",
       "  1470.64,1198.61 1415.07,1233.15 \n",
       "  \"/>\n",
       "<polyline clip-path=\"url(#clip822)\" style=\"stroke:#0000ff; stroke-linecap:butt; stroke-linejoin:round; stroke-width:4; stroke-opacity:1; fill:none\" points=\"\n",
       "  1455.15,1229.43 1415.07,1233.15 1436.15,1198.86 \n",
       "  \"/>\n",
       "<polyline clip-path=\"url(#clip822)\" style=\"stroke:#0000ff; stroke-linecap:butt; stroke-linejoin:round; stroke-width:4; stroke-opacity:1; fill:none\" points=\"\n",
       "  1415.07,1233.15 1470.64,1198.61 \n",
       "  \"/>\n",
       "<polyline clip-path=\"url(#clip822)\" style=\"stroke:#0000ff; stroke-linecap:butt; stroke-linejoin:round; stroke-width:4; stroke-opacity:1; fill:none\" points=\"\n",
       "  1691.17,1198.61 1667.36,1233.15 \n",
       "  \"/>\n",
       "<polyline clip-path=\"url(#clip822)\" style=\"stroke:#0000ff; stroke-linecap:butt; stroke-linejoin:round; stroke-width:4; stroke-opacity:1; fill:none\" points=\"\n",
       "  1702.61,1213.73 1667.36,1233.15 1672.97,1193.29 \n",
       "  \"/>\n",
       "<polyline clip-path=\"url(#clip822)\" style=\"stroke:#0000ff; stroke-linecap:butt; stroke-linejoin:round; stroke-width:4; stroke-opacity:1; fill:none\" points=\"\n",
       "  1667.36,1233.15 1691.17,1198.61 \n",
       "  \"/>\n",
       "<polyline clip-path=\"url(#clip822)\" style=\"stroke:#0000ff; stroke-linecap:butt; stroke-linejoin:round; stroke-width:4; stroke-opacity:1; fill:none\" points=\"\n",
       "  1911.7,1198.61 1940.81,1233.15 \n",
       "  \"/>\n",
       "<polyline clip-path=\"url(#clip822)\" style=\"stroke:#0000ff; stroke-linecap:butt; stroke-linejoin:round; stroke-width:4; stroke-opacity:1; fill:none\" points=\"\n",
       "  1931.37,1194.02 1940.81,1233.15 1903.85,1217.22 \n",
       "  \"/>\n",
       "<polyline clip-path=\"url(#clip822)\" style=\"stroke:#0000ff; stroke-linecap:butt; stroke-linejoin:round; stroke-width:4; stroke-opacity:1; fill:none\" points=\"\n",
       "  1940.81,1233.15 1911.7,1198.61 \n",
       "  \"/>\n",
       "<polyline clip-path=\"url(#clip822)\" style=\"stroke:#0000ff; stroke-linecap:butt; stroke-linejoin:round; stroke-width:4; stroke-opacity:1; fill:none\" points=\"\n",
       "  2132.23,1198.61 2235.44,1233.15 \n",
       "  \"/>\n",
       "<polyline clip-path=\"url(#clip822)\" style=\"stroke:#0000ff; stroke-linecap:butt; stroke-linejoin:round; stroke-width:4; stroke-opacity:1; fill:none\" points=\"\n",
       "  2207.01,1204.65 2235.44,1233.15 2195.58,1238.79 \n",
       "  \"/>\n",
       "<polyline clip-path=\"url(#clip822)\" style=\"stroke:#0000ff; stroke-linecap:butt; stroke-linejoin:round; stroke-width:4; stroke-opacity:1; fill:none\" points=\"\n",
       "  2235.44,1233.15 2132.23,1198.61 \n",
       "  \"/>\n",
       "<polyline clip-path=\"url(#clip822)\" style=\"stroke:#0000ff; stroke-linecap:butt; stroke-linejoin:round; stroke-width:4; stroke-opacity:1; fill:none\" points=\"\n",
       "  2352.76,1198.61 2551.23,1233.15 \n",
       "  \"/>\n",
       "<polyline clip-path=\"url(#clip822)\" style=\"stroke:#0000ff; stroke-linecap:butt; stroke-linejoin:round; stroke-width:4; stroke-opacity:1; fill:none\" points=\"\n",
       "  2518.85,1209.24 2551.23,1233.15 2512.68,1244.71 \n",
       "  \"/>\n",
       "<polyline clip-path=\"url(#clip822)\" style=\"stroke:#0000ff; stroke-linecap:butt; stroke-linejoin:round; stroke-width:4; stroke-opacity:1; fill:none\" points=\"\n",
       "  2551.23,1233.15 2352.76,1198.61 \n",
       "  \"/>\n",
       "<polyline clip-path=\"url(#clip822)\" style=\"stroke:#0000ff; stroke-linecap:butt; stroke-linejoin:round; stroke-width:4; stroke-opacity:1; fill:none\" points=\"\n",
       "  147.478,1054.69 345.953,1077.71 \n",
       "  \"/>\n",
       "<polyline clip-path=\"url(#clip822)\" style=\"stroke:#0000ff; stroke-linecap:butt; stroke-linejoin:round; stroke-width:4; stroke-opacity:1; fill:none\" points=\"\n",
       "  312.267,1055.69 345.953,1077.71 308.118,1091.45 \n",
       "  \"/>\n",
       "<polyline clip-path=\"url(#clip822)\" style=\"stroke:#0000ff; stroke-linecap:butt; stroke-linejoin:round; stroke-width:4; stroke-opacity:1; fill:none\" points=\"\n",
       "  345.953,1077.71 147.478,1054.69 \n",
       "  \"/>\n",
       "<polyline clip-path=\"url(#clip822)\" style=\"stroke:#0000ff; stroke-linecap:butt; stroke-linejoin:round; stroke-width:4; stroke-opacity:1; fill:none\" points=\"\n",
       "  368.006,1054.69 471.213,1077.71 \n",
       "  \"/>\n",
       "<polyline clip-path=\"url(#clip822)\" style=\"stroke:#0000ff; stroke-linecap:butt; stroke-linejoin:round; stroke-width:4; stroke-opacity:1; fill:none\" points=\"\n",
       "  439.996,1052.31 471.213,1077.71 432.157,1087.44 \n",
       "  \"/>\n",
       "<polyline clip-path=\"url(#clip822)\" style=\"stroke:#0000ff; stroke-linecap:butt; stroke-linejoin:round; stroke-width:4; stroke-opacity:1; fill:none\" points=\"\n",
       "  471.213,1077.71 368.006,1054.69 \n",
       "  \"/>\n",
       "<polyline clip-path=\"url(#clip822)\" style=\"stroke:#0000ff; stroke-linecap:butt; stroke-linejoin:round; stroke-width:4; stroke-opacity:1; fill:none\" points=\"\n",
       "  588.534,1054.69 617.643,1077.71 \n",
       "  \"/>\n",
       "<polyline clip-path=\"url(#clip822)\" style=\"stroke:#0000ff; stroke-linecap:butt; stroke-linejoin:round; stroke-width:4; stroke-opacity:1; fill:none\" points=\"\n",
       "  600.576,1041.26 617.643,1077.71 578.242,1069.5 \n",
       "  \"/>\n",
       "<polyline clip-path=\"url(#clip822)\" style=\"stroke:#0000ff; stroke-linecap:butt; stroke-linejoin:round; stroke-width:4; stroke-opacity:1; fill:none\" points=\"\n",
       "  617.643,1077.71 588.534,1054.69 \n",
       "  \"/>\n",
       "<polyline clip-path=\"url(#clip822)\" style=\"stroke:#0000ff; stroke-linecap:butt; stroke-linejoin:round; stroke-width:4; stroke-opacity:1; fill:none\" points=\"\n",
       "  809.061,1054.69 785.244,1077.71 \n",
       "  \"/>\n",
       "<polyline clip-path=\"url(#clip822)\" style=\"stroke:#0000ff; stroke-linecap:butt; stroke-linejoin:round; stroke-width:4; stroke-opacity:1; fill:none\" points=\"\n",
       "  823.637,1065.63 785.244,1077.71 798.614,1039.75 \n",
       "  \"/>\n",
       "<polyline clip-path=\"url(#clip822)\" style=\"stroke:#0000ff; stroke-linecap:butt; stroke-linejoin:round; stroke-width:4; stroke-opacity:1; fill:none\" points=\"\n",
       "  785.244,1077.71 809.061,1054.69 \n",
       "  \"/>\n",
       "<polyline clip-path=\"url(#clip822)\" style=\"stroke:#0000ff; stroke-linecap:butt; stroke-linejoin:round; stroke-width:4; stroke-opacity:1; fill:none\" points=\"\n",
       "  1029.59,1054.69 974.016,1077.71 \n",
       "  \"/>\n",
       "<polyline clip-path=\"url(#clip822)\" style=\"stroke:#0000ff; stroke-linecap:butt; stroke-linejoin:round; stroke-width:4; stroke-opacity:1; fill:none\" points=\"\n",
       "  1014.16,1080.56 974.016,1077.71 1000.38,1047.3 \n",
       "  \"/>\n",
       "<polyline clip-path=\"url(#clip822)\" style=\"stroke:#0000ff; stroke-linecap:butt; stroke-linejoin:round; stroke-width:4; stroke-opacity:1; fill:none\" points=\"\n",
       "  974.016,1077.71 1029.59,1054.69 \n",
       "  \"/>\n",
       "<polyline clip-path=\"url(#clip822)\" style=\"stroke:#0000ff; stroke-linecap:butt; stroke-linejoin:round; stroke-width:4; stroke-opacity:1; fill:none\" points=\"\n",
       "  1250.12,1054.69 1183.96,1077.71 \n",
       "  \"/>\n",
       "<polyline clip-path=\"url(#clip822)\" style=\"stroke:#0000ff; stroke-linecap:butt; stroke-linejoin:round; stroke-width:4; stroke-opacity:1; fill:none\" points=\"\n",
       "  1223.87,1082.88 1183.96,1077.71 1212.04,1048.88 \n",
       "  \"/>\n",
       "<polyline clip-path=\"url(#clip822)\" style=\"stroke:#0000ff; stroke-linecap:butt; stroke-linejoin:round; stroke-width:4; stroke-opacity:1; fill:none\" points=\"\n",
       "  1183.96,1077.71 1250.12,1054.69 \n",
       "  \"/>\n",
       "<polyline clip-path=\"url(#clip822)\" style=\"stroke:#0000ff; stroke-linecap:butt; stroke-linejoin:round; stroke-width:4; stroke-opacity:1; fill:none\" points=\"\n",
       "  1470.64,1054.69 1415.07,1077.71 \n",
       "  \"/>\n",
       "<polyline clip-path=\"url(#clip822)\" style=\"stroke:#0000ff; stroke-linecap:butt; stroke-linejoin:round; stroke-width:4; stroke-opacity:1; fill:none\" points=\"\n",
       "  1455.22,1080.56 1415.07,1077.71 1441.44,1047.3 \n",
       "  \"/>\n",
       "<polyline clip-path=\"url(#clip822)\" style=\"stroke:#0000ff; stroke-linecap:butt; stroke-linejoin:round; stroke-width:4; stroke-opacity:1; fill:none\" points=\"\n",
       "  1415.07,1077.71 1470.64,1054.69 \n",
       "  \"/>\n",
       "<polyline clip-path=\"url(#clip822)\" style=\"stroke:#0000ff; stroke-linecap:butt; stroke-linejoin:round; stroke-width:4; stroke-opacity:1; fill:none\" points=\"\n",
       "  1691.17,1054.69 1667.36,1077.71 \n",
       "  \"/>\n",
       "<polyline clip-path=\"url(#clip822)\" style=\"stroke:#0000ff; stroke-linecap:butt; stroke-linejoin:round; stroke-width:4; stroke-opacity:1; fill:none\" points=\"\n",
       "  1705.75,1065.63 1667.36,1077.71 1680.73,1039.75 \n",
       "  \"/>\n",
       "<polyline clip-path=\"url(#clip822)\" style=\"stroke:#0000ff; stroke-linecap:butt; stroke-linejoin:round; stroke-width:4; stroke-opacity:1; fill:none\" points=\"\n",
       "  1667.36,1077.71 1691.17,1054.69 \n",
       "  \"/>\n",
       "<polyline clip-path=\"url(#clip822)\" style=\"stroke:#0000ff; stroke-linecap:butt; stroke-linejoin:round; stroke-width:4; stroke-opacity:1; fill:none\" points=\"\n",
       "  1911.7,1054.69 1940.81,1077.71 \n",
       "  \"/>\n",
       "<polyline clip-path=\"url(#clip822)\" style=\"stroke:#0000ff; stroke-linecap:butt; stroke-linejoin:round; stroke-width:4; stroke-opacity:1; fill:none\" points=\"\n",
       "  1923.74,1041.26 1940.81,1077.71 1901.41,1069.5 \n",
       "  \"/>\n",
       "<polyline clip-path=\"url(#clip822)\" style=\"stroke:#0000ff; stroke-linecap:butt; stroke-linejoin:round; stroke-width:4; stroke-opacity:1; fill:none\" points=\"\n",
       "  1940.81,1077.71 1911.7,1054.69 \n",
       "  \"/>\n",
       "<polyline clip-path=\"url(#clip822)\" style=\"stroke:#0000ff; stroke-linecap:butt; stroke-linejoin:round; stroke-width:4; stroke-opacity:1; fill:none\" points=\"\n",
       "  2132.23,1054.69 2235.44,1077.71 \n",
       "  \"/>\n",
       "<polyline clip-path=\"url(#clip822)\" style=\"stroke:#0000ff; stroke-linecap:butt; stroke-linejoin:round; stroke-width:4; stroke-opacity:1; fill:none\" points=\"\n",
       "  2204.22,1052.31 2235.44,1077.71 2196.38,1087.44 \n",
       "  \"/>\n",
       "<polyline clip-path=\"url(#clip822)\" style=\"stroke:#0000ff; stroke-linecap:butt; stroke-linejoin:round; stroke-width:4; stroke-opacity:1; fill:none\" points=\"\n",
       "  2235.44,1077.71 2132.23,1054.69 \n",
       "  \"/>\n",
       "<polyline clip-path=\"url(#clip822)\" style=\"stroke:#0000ff; stroke-linecap:butt; stroke-linejoin:round; stroke-width:4; stroke-opacity:1; fill:none\" points=\"\n",
       "  2352.76,1054.69 2551.23,1077.71 \n",
       "  \"/>\n",
       "<polyline clip-path=\"url(#clip822)\" style=\"stroke:#0000ff; stroke-linecap:butt; stroke-linejoin:round; stroke-width:4; stroke-opacity:1; fill:none\" points=\"\n",
       "  2517.55,1055.69 2551.23,1077.71 2513.4,1091.45 \n",
       "  \"/>\n",
       "<polyline clip-path=\"url(#clip822)\" style=\"stroke:#0000ff; stroke-linecap:butt; stroke-linejoin:round; stroke-width:4; stroke-opacity:1; fill:none\" points=\"\n",
       "  2551.23,1077.71 2352.76,1054.69 \n",
       "  \"/>\n",
       "<polyline clip-path=\"url(#clip822)\" style=\"stroke:#0000ff; stroke-linecap:butt; stroke-linejoin:round; stroke-width:4; stroke-opacity:1; fill:none\" points=\"\n",
       "  147.478,910.766 345.953,922.28 \n",
       "  \"/>\n",
       "<polyline clip-path=\"url(#clip822)\" style=\"stroke:#0000ff; stroke-linecap:butt; stroke-linejoin:round; stroke-width:4; stroke-opacity:1; fill:none\" points=\"\n",
       "  311.056,902.225 345.953,922.28 308.971,938.165 \n",
       "  \"/>\n",
       "<polyline clip-path=\"url(#clip822)\" style=\"stroke:#0000ff; stroke-linecap:butt; stroke-linejoin:round; stroke-width:4; stroke-opacity:1; fill:none\" points=\"\n",
       "  345.953,922.28 147.478,910.766 \n",
       "  \"/>\n",
       "<polyline clip-path=\"url(#clip822)\" style=\"stroke:#0000ff; stroke-linecap:butt; stroke-linejoin:round; stroke-width:4; stroke-opacity:1; fill:none\" points=\"\n",
       "  368.006,910.766 471.213,922.28 \n",
       "  \"/>\n",
       "<polyline clip-path=\"url(#clip822)\" style=\"stroke:#0000ff; stroke-linecap:butt; stroke-linejoin:round; stroke-width:4; stroke-opacity:1; fill:none\" points=\"\n",
       "  437.43,900.4 471.213,922.28 433.439,936.178 \n",
       "  \"/>\n",
       "<polyline clip-path=\"url(#clip822)\" style=\"stroke:#0000ff; stroke-linecap:butt; stroke-linejoin:round; stroke-width:4; stroke-opacity:1; fill:none\" points=\"\n",
       "  471.213,922.28 368.006,910.766 \n",
       "  \"/>\n",
       "<polyline clip-path=\"url(#clip822)\" style=\"stroke:#0000ff; stroke-linecap:butt; stroke-linejoin:round; stroke-width:4; stroke-opacity:1; fill:none\" points=\"\n",
       "  588.534,910.766 617.643,922.28 \n",
       "  \"/>\n",
       "<polyline clip-path=\"url(#clip822)\" style=\"stroke:#0000ff; stroke-linecap:butt; stroke-linejoin:round; stroke-width:4; stroke-opacity:1; fill:none\" points=\"\n",
       "  590.787,892.301 617.643,922.28 577.546,925.777 \n",
       "  \"/>\n",
       "<polyline clip-path=\"url(#clip822)\" style=\"stroke:#0000ff; stroke-linecap:butt; stroke-linejoin:round; stroke-width:4; stroke-opacity:1; fill:none\" points=\"\n",
       "  617.643,922.28 588.534,910.766 \n",
       "  \"/>\n",
       "<polyline clip-path=\"url(#clip822)\" style=\"stroke:#0000ff; stroke-linecap:butt; stroke-linejoin:round; stroke-width:4; stroke-opacity:1; fill:none\" points=\"\n",
       "  809.061,910.766 785.244,922.28 \n",
       "  \"/>\n",
       "<polyline clip-path=\"url(#clip822)\" style=\"stroke:#0000ff; stroke-linecap:butt; stroke-linejoin:round; stroke-width:4; stroke-opacity:1; fill:none\" points=\"\n",
       "  825.49,922.817 785.244,922.28 809.822,890.406 \n",
       "  \"/>\n",
       "<polyline clip-path=\"url(#clip822)\" style=\"stroke:#0000ff; stroke-linecap:butt; stroke-linejoin:round; stroke-width:4; stroke-opacity:1; fill:none\" points=\"\n",
       "  785.244,922.28 809.061,910.766 \n",
       "  \"/>\n",
       "<polyline clip-path=\"url(#clip822)\" style=\"stroke:#0000ff; stroke-linecap:butt; stroke-linejoin:round; stroke-width:4; stroke-opacity:1; fill:none\" points=\"\n",
       "  1029.59,910.766 974.016,922.28 \n",
       "  \"/>\n",
       "<polyline clip-path=\"url(#clip822)\" style=\"stroke:#0000ff; stroke-linecap:butt; stroke-linejoin:round; stroke-width:4; stroke-opacity:1; fill:none\" points=\"\n",
       "  1012.92,932.602 974.016,922.28 1005.62,897.351 \n",
       "  \"/>\n",
       "<polyline clip-path=\"url(#clip822)\" style=\"stroke:#0000ff; stroke-linecap:butt; stroke-linejoin:round; stroke-width:4; stroke-opacity:1; fill:none\" points=\"\n",
       "  974.016,922.28 1029.59,910.766 \n",
       "  \"/>\n",
       "<polyline clip-path=\"url(#clip822)\" style=\"stroke:#0000ff; stroke-linecap:butt; stroke-linejoin:round; stroke-width:4; stroke-opacity:1; fill:none\" points=\"\n",
       "  1250.12,910.766 1183.96,922.28 \n",
       "  \"/>\n",
       "<polyline clip-path=\"url(#clip822)\" style=\"stroke:#0000ff; stroke-linecap:butt; stroke-linejoin:round; stroke-width:4; stroke-opacity:1; fill:none\" points=\"\n",
       "  1222.51,933.841 1183.96,922.28 1216.34,898.374 \n",
       "  \"/>\n",
       "<polyline clip-path=\"url(#clip822)\" style=\"stroke:#0000ff; stroke-linecap:butt; stroke-linejoin:round; stroke-width:4; stroke-opacity:1; fill:none\" points=\"\n",
       "  1183.96,922.28 1250.12,910.766 \n",
       "  \"/>\n",
       "<polyline clip-path=\"url(#clip822)\" style=\"stroke:#0000ff; stroke-linecap:butt; stroke-linejoin:round; stroke-width:4; stroke-opacity:1; fill:none\" points=\"\n",
       "  1470.64,910.766 1415.07,922.28 \n",
       "  \"/>\n",
       "<polyline clip-path=\"url(#clip822)\" style=\"stroke:#0000ff; stroke-linecap:butt; stroke-linejoin:round; stroke-width:4; stroke-opacity:1; fill:none\" points=\"\n",
       "  1453.97,932.602 1415.07,922.28 1446.67,897.351 \n",
       "  \"/>\n",
       "<polyline clip-path=\"url(#clip822)\" style=\"stroke:#0000ff; stroke-linecap:butt; stroke-linejoin:round; stroke-width:4; stroke-opacity:1; fill:none\" points=\"\n",
       "  1415.07,922.28 1470.64,910.766 \n",
       "  \"/>\n",
       "<polyline clip-path=\"url(#clip822)\" style=\"stroke:#0000ff; stroke-linecap:butt; stroke-linejoin:round; stroke-width:4; stroke-opacity:1; fill:none\" points=\"\n",
       "  1691.17,910.766 1667.36,922.28 \n",
       "  \"/>\n",
       "<polyline clip-path=\"url(#clip822)\" style=\"stroke:#0000ff; stroke-linecap:butt; stroke-linejoin:round; stroke-width:4; stroke-opacity:1; fill:none\" points=\"\n",
       "  1707.6,922.817 1667.36,922.28 1691.93,890.406 \n",
       "  \"/>\n",
       "<polyline clip-path=\"url(#clip822)\" style=\"stroke:#0000ff; stroke-linecap:butt; stroke-linejoin:round; stroke-width:4; stroke-opacity:1; fill:none\" points=\"\n",
       "  1667.36,922.28 1691.17,910.766 \n",
       "  \"/>\n",
       "<polyline clip-path=\"url(#clip822)\" style=\"stroke:#0000ff; stroke-linecap:butt; stroke-linejoin:round; stroke-width:4; stroke-opacity:1; fill:none\" points=\"\n",
       "  1911.7,910.766 1940.81,922.28 \n",
       "  \"/>\n",
       "<polyline clip-path=\"url(#clip822)\" style=\"stroke:#0000ff; stroke-linecap:butt; stroke-linejoin:round; stroke-width:4; stroke-opacity:1; fill:none\" points=\"\n",
       "  1913.95,892.301 1940.81,922.28 1900.71,925.777 \n",
       "  \"/>\n",
       "<polyline clip-path=\"url(#clip822)\" style=\"stroke:#0000ff; stroke-linecap:butt; stroke-linejoin:round; stroke-width:4; stroke-opacity:1; fill:none\" points=\"\n",
       "  1940.81,922.28 1911.7,910.766 \n",
       "  \"/>\n",
       "<polyline clip-path=\"url(#clip822)\" style=\"stroke:#0000ff; stroke-linecap:butt; stroke-linejoin:round; stroke-width:4; stroke-opacity:1; fill:none\" points=\"\n",
       "  2132.23,910.766 2235.44,922.28 \n",
       "  \"/>\n",
       "<polyline clip-path=\"url(#clip822)\" style=\"stroke:#0000ff; stroke-linecap:butt; stroke-linejoin:round; stroke-width:4; stroke-opacity:1; fill:none\" points=\"\n",
       "  2201.65,900.4 2235.44,922.28 2197.66,936.178 \n",
       "  \"/>\n",
       "<polyline clip-path=\"url(#clip822)\" style=\"stroke:#0000ff; stroke-linecap:butt; stroke-linejoin:round; stroke-width:4; stroke-opacity:1; fill:none\" points=\"\n",
       "  2235.44,922.28 2132.23,910.766 \n",
       "  \"/>\n",
       "<polyline clip-path=\"url(#clip822)\" style=\"stroke:#0000ff; stroke-linecap:butt; stroke-linejoin:round; stroke-width:4; stroke-opacity:1; fill:none\" points=\"\n",
       "  2352.76,910.766 2551.23,922.28 \n",
       "  \"/>\n",
       "<polyline clip-path=\"url(#clip822)\" style=\"stroke:#0000ff; stroke-linecap:butt; stroke-linejoin:round; stroke-width:4; stroke-opacity:1; fill:none\" points=\"\n",
       "  2516.33,902.225 2551.23,922.28 2514.25,938.165 \n",
       "  \"/>\n",
       "<polyline clip-path=\"url(#clip822)\" style=\"stroke:#0000ff; stroke-linecap:butt; stroke-linejoin:round; stroke-width:4; stroke-opacity:1; fill:none\" points=\"\n",
       "  2551.23,922.28 2352.76,910.766 \n",
       "  \"/>\n",
       "<polyline clip-path=\"url(#clip822)\" style=\"stroke:#0000ff; stroke-linecap:butt; stroke-linejoin:round; stroke-width:4; stroke-opacity:1; fill:none\" points=\"\n",
       "  147.478,766.846 345.953,766.846 \n",
       "  \"/>\n",
       "<polyline clip-path=\"url(#clip822)\" style=\"stroke:#0000ff; stroke-linecap:butt; stroke-linejoin:round; stroke-width:4; stroke-opacity:1; fill:none\" points=\"\n",
       "  309.953,748.846 345.953,766.846 309.953,784.846 \n",
       "  \"/>\n",
       "<polyline clip-path=\"url(#clip822)\" style=\"stroke:#0000ff; stroke-linecap:butt; stroke-linejoin:round; stroke-width:4; stroke-opacity:1; fill:none\" points=\"\n",
       "  345.953,766.846 147.478,766.846 \n",
       "  \"/>\n",
       "<polyline clip-path=\"url(#clip822)\" style=\"stroke:#0000ff; stroke-linecap:butt; stroke-linejoin:round; stroke-width:4; stroke-opacity:1; fill:none\" points=\"\n",
       "  368.006,766.846 471.213,766.846 \n",
       "  \"/>\n",
       "<polyline clip-path=\"url(#clip822)\" style=\"stroke:#0000ff; stroke-linecap:butt; stroke-linejoin:round; stroke-width:4; stroke-opacity:1; fill:none\" points=\"\n",
       "  435.213,748.846 471.213,766.846 435.213,784.846 \n",
       "  \"/>\n",
       "<polyline clip-path=\"url(#clip822)\" style=\"stroke:#0000ff; stroke-linecap:butt; stroke-linejoin:round; stroke-width:4; stroke-opacity:1; fill:none\" points=\"\n",
       "  471.213,766.846 368.006,766.846 \n",
       "  \"/>\n",
       "<polyline clip-path=\"url(#clip822)\" style=\"stroke:#0000ff; stroke-linecap:butt; stroke-linejoin:round; stroke-width:4; stroke-opacity:1; fill:none\" points=\"\n",
       "  588.534,766.846 617.643,766.846 \n",
       "  \"/>\n",
       "<polyline clip-path=\"url(#clip822)\" style=\"stroke:#0000ff; stroke-linecap:butt; stroke-linejoin:round; stroke-width:4; stroke-opacity:1; fill:none\" points=\"\n",
       "  581.643,748.846 617.643,766.846 581.643,784.846 \n",
       "  \"/>\n",
       "<polyline clip-path=\"url(#clip822)\" style=\"stroke:#0000ff; stroke-linecap:butt; stroke-linejoin:round; stroke-width:4; stroke-opacity:1; fill:none\" points=\"\n",
       "  617.643,766.846 588.534,766.846 \n",
       "  \"/>\n",
       "<polyline clip-path=\"url(#clip822)\" style=\"stroke:#0000ff; stroke-linecap:butt; stroke-linejoin:round; stroke-width:4; stroke-opacity:1; fill:none\" points=\"\n",
       "  809.061,766.846 785.244,766.846 \n",
       "  \"/>\n",
       "<polyline clip-path=\"url(#clip822)\" style=\"stroke:#0000ff; stroke-linecap:butt; stroke-linejoin:round; stroke-width:4; stroke-opacity:1; fill:none\" points=\"\n",
       "  821.244,784.846 785.244,766.846 821.244,748.846 \n",
       "  \"/>\n",
       "<polyline clip-path=\"url(#clip822)\" style=\"stroke:#0000ff; stroke-linecap:butt; stroke-linejoin:round; stroke-width:4; stroke-opacity:1; fill:none\" points=\"\n",
       "  785.244,766.846 809.061,766.846 \n",
       "  \"/>\n",
       "<polyline clip-path=\"url(#clip822)\" style=\"stroke:#0000ff; stroke-linecap:butt; stroke-linejoin:round; stroke-width:4; stroke-opacity:1; fill:none\" points=\"\n",
       "  1029.59,766.846 974.016,766.846 \n",
       "  \"/>\n",
       "<polyline clip-path=\"url(#clip822)\" style=\"stroke:#0000ff; stroke-linecap:butt; stroke-linejoin:round; stroke-width:4; stroke-opacity:1; fill:none\" points=\"\n",
       "  1010.02,784.846 974.016,766.846 1010.02,748.846 \n",
       "  \"/>\n",
       "<polyline clip-path=\"url(#clip822)\" style=\"stroke:#0000ff; stroke-linecap:butt; stroke-linejoin:round; stroke-width:4; stroke-opacity:1; fill:none\" points=\"\n",
       "  974.016,766.846 1029.59,766.846 \n",
       "  \"/>\n",
       "<polyline clip-path=\"url(#clip822)\" style=\"stroke:#0000ff; stroke-linecap:butt; stroke-linejoin:round; stroke-width:4; stroke-opacity:1; fill:none\" points=\"\n",
       "  1250.12,766.846 1183.96,766.846 \n",
       "  \"/>\n",
       "<polyline clip-path=\"url(#clip822)\" style=\"stroke:#0000ff; stroke-linecap:butt; stroke-linejoin:round; stroke-width:4; stroke-opacity:1; fill:none\" points=\"\n",
       "  1219.96,784.846 1183.96,766.846 1219.96,748.846 \n",
       "  \"/>\n",
       "<polyline clip-path=\"url(#clip822)\" style=\"stroke:#0000ff; stroke-linecap:butt; stroke-linejoin:round; stroke-width:4; stroke-opacity:1; fill:none\" points=\"\n",
       "  1183.96,766.846 1250.12,766.846 \n",
       "  \"/>\n",
       "<polyline clip-path=\"url(#clip822)\" style=\"stroke:#0000ff; stroke-linecap:butt; stroke-linejoin:round; stroke-width:4; stroke-opacity:1; fill:none\" points=\"\n",
       "  1470.64,766.846 1415.07,766.846 \n",
       "  \"/>\n",
       "<polyline clip-path=\"url(#clip822)\" style=\"stroke:#0000ff; stroke-linecap:butt; stroke-linejoin:round; stroke-width:4; stroke-opacity:1; fill:none\" points=\"\n",
       "  1451.07,784.846 1415.07,766.846 1451.07,748.846 \n",
       "  \"/>\n",
       "<polyline clip-path=\"url(#clip822)\" style=\"stroke:#0000ff; stroke-linecap:butt; stroke-linejoin:round; stroke-width:4; stroke-opacity:1; fill:none\" points=\"\n",
       "  1415.07,766.846 1470.64,766.846 \n",
       "  \"/>\n",
       "<polyline clip-path=\"url(#clip822)\" style=\"stroke:#0000ff; stroke-linecap:butt; stroke-linejoin:round; stroke-width:4; stroke-opacity:1; fill:none\" points=\"\n",
       "  1691.17,766.846 1667.36,766.846 \n",
       "  \"/>\n",
       "<polyline clip-path=\"url(#clip822)\" style=\"stroke:#0000ff; stroke-linecap:butt; stroke-linejoin:round; stroke-width:4; stroke-opacity:1; fill:none\" points=\"\n",
       "  1703.36,784.846 1667.36,766.846 1703.36,748.846 \n",
       "  \"/>\n",
       "<polyline clip-path=\"url(#clip822)\" style=\"stroke:#0000ff; stroke-linecap:butt; stroke-linejoin:round; stroke-width:4; stroke-opacity:1; fill:none\" points=\"\n",
       "  1667.36,766.846 1691.17,766.846 \n",
       "  \"/>\n",
       "<polyline clip-path=\"url(#clip822)\" style=\"stroke:#0000ff; stroke-linecap:butt; stroke-linejoin:round; stroke-width:4; stroke-opacity:1; fill:none\" points=\"\n",
       "  1911.7,766.846 1940.81,766.846 \n",
       "  \"/>\n",
       "<polyline clip-path=\"url(#clip822)\" style=\"stroke:#0000ff; stroke-linecap:butt; stroke-linejoin:round; stroke-width:4; stroke-opacity:1; fill:none\" points=\"\n",
       "  1904.81,748.846 1940.81,766.846 1904.81,784.846 \n",
       "  \"/>\n",
       "<polyline clip-path=\"url(#clip822)\" style=\"stroke:#0000ff; stroke-linecap:butt; stroke-linejoin:round; stroke-width:4; stroke-opacity:1; fill:none\" points=\"\n",
       "  1940.81,766.846 1911.7,766.846 \n",
       "  \"/>\n",
       "<polyline clip-path=\"url(#clip822)\" style=\"stroke:#0000ff; stroke-linecap:butt; stroke-linejoin:round; stroke-width:4; stroke-opacity:1; fill:none\" points=\"\n",
       "  2132.23,766.846 2235.44,766.846 \n",
       "  \"/>\n",
       "<polyline clip-path=\"url(#clip822)\" style=\"stroke:#0000ff; stroke-linecap:butt; stroke-linejoin:round; stroke-width:4; stroke-opacity:1; fill:none\" points=\"\n",
       "  2199.44,748.846 2235.44,766.846 2199.44,784.846 \n",
       "  \"/>\n",
       "<polyline clip-path=\"url(#clip822)\" style=\"stroke:#0000ff; stroke-linecap:butt; stroke-linejoin:round; stroke-width:4; stroke-opacity:1; fill:none\" points=\"\n",
       "  2235.44,766.846 2132.23,766.846 \n",
       "  \"/>\n",
       "<polyline clip-path=\"url(#clip822)\" style=\"stroke:#0000ff; stroke-linecap:butt; stroke-linejoin:round; stroke-width:4; stroke-opacity:1; fill:none\" points=\"\n",
       "  2352.76,766.846 2551.23,766.846 \n",
       "  \"/>\n",
       "<polyline clip-path=\"url(#clip822)\" style=\"stroke:#0000ff; stroke-linecap:butt; stroke-linejoin:round; stroke-width:4; stroke-opacity:1; fill:none\" points=\"\n",
       "  2515.23,748.846 2551.23,766.846 2515.23,784.846 \n",
       "  \"/>\n",
       "<polyline clip-path=\"url(#clip822)\" style=\"stroke:#0000ff; stroke-linecap:butt; stroke-linejoin:round; stroke-width:4; stroke-opacity:1; fill:none\" points=\"\n",
       "  2551.23,766.846 2352.76,766.846 \n",
       "  \"/>\n",
       "<polyline clip-path=\"url(#clip822)\" style=\"stroke:#0000ff; stroke-linecap:butt; stroke-linejoin:round; stroke-width:4; stroke-opacity:1; fill:none\" points=\"\n",
       "  147.478,622.926 345.953,611.412 \n",
       "  \"/>\n",
       "<polyline clip-path=\"url(#clip822)\" style=\"stroke:#0000ff; stroke-linecap:butt; stroke-linejoin:round; stroke-width:4; stroke-opacity:1; fill:none\" points=\"\n",
       "  308.971,595.527 345.953,611.412 311.056,631.467 \n",
       "  \"/>\n",
       "<polyline clip-path=\"url(#clip822)\" style=\"stroke:#0000ff; stroke-linecap:butt; stroke-linejoin:round; stroke-width:4; stroke-opacity:1; fill:none\" points=\"\n",
       "  345.953,611.412 147.478,622.926 \n",
       "  \"/>\n",
       "<polyline clip-path=\"url(#clip822)\" style=\"stroke:#0000ff; stroke-linecap:butt; stroke-linejoin:round; stroke-width:4; stroke-opacity:1; fill:none\" points=\"\n",
       "  368.006,622.926 471.213,611.412 \n",
       "  \"/>\n",
       "<polyline clip-path=\"url(#clip822)\" style=\"stroke:#0000ff; stroke-linecap:butt; stroke-linejoin:round; stroke-width:4; stroke-opacity:1; fill:none\" points=\"\n",
       "  433.439,597.514 471.213,611.412 437.43,633.292 \n",
       "  \"/>\n",
       "<polyline clip-path=\"url(#clip822)\" style=\"stroke:#0000ff; stroke-linecap:butt; stroke-linejoin:round; stroke-width:4; stroke-opacity:1; fill:none\" points=\"\n",
       "  471.213,611.412 368.006,622.926 \n",
       "  \"/>\n",
       "<polyline clip-path=\"url(#clip822)\" style=\"stroke:#0000ff; stroke-linecap:butt; stroke-linejoin:round; stroke-width:4; stroke-opacity:1; fill:none\" points=\"\n",
       "  588.534,622.926 617.643,611.412 \n",
       "  \"/>\n",
       "<polyline clip-path=\"url(#clip822)\" style=\"stroke:#0000ff; stroke-linecap:butt; stroke-linejoin:round; stroke-width:4; stroke-opacity:1; fill:none\" points=\"\n",
       "  577.546,607.915 617.643,611.412 590.787,641.391 \n",
       "  \"/>\n",
       "<polyline clip-path=\"url(#clip822)\" style=\"stroke:#0000ff; stroke-linecap:butt; stroke-linejoin:round; stroke-width:4; stroke-opacity:1; fill:none\" points=\"\n",
       "  617.643,611.412 588.534,622.926 \n",
       "  \"/>\n",
       "<polyline clip-path=\"url(#clip822)\" style=\"stroke:#0000ff; stroke-linecap:butt; stroke-linejoin:round; stroke-width:4; stroke-opacity:1; fill:none\" points=\"\n",
       "  809.061,622.926 785.244,611.412 \n",
       "  \"/>\n",
       "<polyline clip-path=\"url(#clip822)\" style=\"stroke:#0000ff; stroke-linecap:butt; stroke-linejoin:round; stroke-width:4; stroke-opacity:1; fill:none\" points=\"\n",
       "  809.822,643.286 785.244,611.412 825.49,610.875 \n",
       "  \"/>\n",
       "<polyline clip-path=\"url(#clip822)\" style=\"stroke:#0000ff; stroke-linecap:butt; stroke-linejoin:round; stroke-width:4; stroke-opacity:1; fill:none\" points=\"\n",
       "  785.244,611.412 809.061,622.926 \n",
       "  \"/>\n",
       "<polyline clip-path=\"url(#clip822)\" style=\"stroke:#0000ff; stroke-linecap:butt; stroke-linejoin:round; stroke-width:4; stroke-opacity:1; fill:none\" points=\"\n",
       "  1029.59,622.926 974.016,611.412 \n",
       "  \"/>\n",
       "<polyline clip-path=\"url(#clip822)\" style=\"stroke:#0000ff; stroke-linecap:butt; stroke-linejoin:round; stroke-width:4; stroke-opacity:1; fill:none\" points=\"\n",
       "  1005.62,636.341 974.016,611.412 1012.92,601.09 \n",
       "  \"/>\n",
       "<polyline clip-path=\"url(#clip822)\" style=\"stroke:#0000ff; stroke-linecap:butt; stroke-linejoin:round; stroke-width:4; stroke-opacity:1; fill:none\" points=\"\n",
       "  974.016,611.412 1029.59,622.926 \n",
       "  \"/>\n",
       "<polyline clip-path=\"url(#clip822)\" style=\"stroke:#0000ff; stroke-linecap:butt; stroke-linejoin:round; stroke-width:4; stroke-opacity:1; fill:none\" points=\"\n",
       "  1250.12,622.926 1183.96,611.412 \n",
       "  \"/>\n",
       "<polyline clip-path=\"url(#clip822)\" style=\"stroke:#0000ff; stroke-linecap:butt; stroke-linejoin:round; stroke-width:4; stroke-opacity:1; fill:none\" points=\"\n",
       "  1216.34,635.318 1183.96,611.412 1222.51,599.851 \n",
       "  \"/>\n",
       "<polyline clip-path=\"url(#clip822)\" style=\"stroke:#0000ff; stroke-linecap:butt; stroke-linejoin:round; stroke-width:4; stroke-opacity:1; fill:none\" points=\"\n",
       "  1183.96,611.412 1250.12,622.926 \n",
       "  \"/>\n",
       "<polyline clip-path=\"url(#clip822)\" style=\"stroke:#0000ff; stroke-linecap:butt; stroke-linejoin:round; stroke-width:4; stroke-opacity:1; fill:none\" points=\"\n",
       "  1470.64,622.926 1415.07,611.412 \n",
       "  \"/>\n",
       "<polyline clip-path=\"url(#clip822)\" style=\"stroke:#0000ff; stroke-linecap:butt; stroke-linejoin:round; stroke-width:4; stroke-opacity:1; fill:none\" points=\"\n",
       "  1446.67,636.341 1415.07,611.412 1453.97,601.09 \n",
       "  \"/>\n",
       "<polyline clip-path=\"url(#clip822)\" style=\"stroke:#0000ff; stroke-linecap:butt; stroke-linejoin:round; stroke-width:4; stroke-opacity:1; fill:none\" points=\"\n",
       "  1415.07,611.412 1470.64,622.926 \n",
       "  \"/>\n",
       "<polyline clip-path=\"url(#clip822)\" style=\"stroke:#0000ff; stroke-linecap:butt; stroke-linejoin:round; stroke-width:4; stroke-opacity:1; fill:none\" points=\"\n",
       "  1691.17,622.926 1667.36,611.412 \n",
       "  \"/>\n",
       "<polyline clip-path=\"url(#clip822)\" style=\"stroke:#0000ff; stroke-linecap:butt; stroke-linejoin:round; stroke-width:4; stroke-opacity:1; fill:none\" points=\"\n",
       "  1691.93,643.286 1667.36,611.412 1707.6,610.875 \n",
       "  \"/>\n",
       "<polyline clip-path=\"url(#clip822)\" style=\"stroke:#0000ff; stroke-linecap:butt; stroke-linejoin:round; stroke-width:4; stroke-opacity:1; fill:none\" points=\"\n",
       "  1667.36,611.412 1691.17,622.926 \n",
       "  \"/>\n",
       "<polyline clip-path=\"url(#clip822)\" style=\"stroke:#0000ff; stroke-linecap:butt; stroke-linejoin:round; stroke-width:4; stroke-opacity:1; fill:none\" points=\"\n",
       "  1911.7,622.926 1940.81,611.412 \n",
       "  \"/>\n",
       "<polyline clip-path=\"url(#clip822)\" style=\"stroke:#0000ff; stroke-linecap:butt; stroke-linejoin:round; stroke-width:4; stroke-opacity:1; fill:none\" points=\"\n",
       "  1900.71,607.915 1940.81,611.412 1913.95,641.391 \n",
       "  \"/>\n",
       "<polyline clip-path=\"url(#clip822)\" style=\"stroke:#0000ff; stroke-linecap:butt; stroke-linejoin:round; stroke-width:4; stroke-opacity:1; fill:none\" points=\"\n",
       "  1940.81,611.412 1911.7,622.926 \n",
       "  \"/>\n",
       "<polyline clip-path=\"url(#clip822)\" style=\"stroke:#0000ff; stroke-linecap:butt; stroke-linejoin:round; stroke-width:4; stroke-opacity:1; fill:none\" points=\"\n",
       "  2132.23,622.926 2235.44,611.412 \n",
       "  \"/>\n",
       "<polyline clip-path=\"url(#clip822)\" style=\"stroke:#0000ff; stroke-linecap:butt; stroke-linejoin:round; stroke-width:4; stroke-opacity:1; fill:none\" points=\"\n",
       "  2197.66,597.514 2235.44,611.412 2201.65,633.292 \n",
       "  \"/>\n",
       "<polyline clip-path=\"url(#clip822)\" style=\"stroke:#0000ff; stroke-linecap:butt; stroke-linejoin:round; stroke-width:4; stroke-opacity:1; fill:none\" points=\"\n",
       "  2235.44,611.412 2132.23,622.926 \n",
       "  \"/>\n",
       "<polyline clip-path=\"url(#clip822)\" style=\"stroke:#0000ff; stroke-linecap:butt; stroke-linejoin:round; stroke-width:4; stroke-opacity:1; fill:none\" points=\"\n",
       "  2352.76,622.926 2551.23,611.412 \n",
       "  \"/>\n",
       "<polyline clip-path=\"url(#clip822)\" style=\"stroke:#0000ff; stroke-linecap:butt; stroke-linejoin:round; stroke-width:4; stroke-opacity:1; fill:none\" points=\"\n",
       "  2514.25,595.527 2551.23,611.412 2516.33,631.467 \n",
       "  \"/>\n",
       "<polyline clip-path=\"url(#clip822)\" style=\"stroke:#0000ff; stroke-linecap:butt; stroke-linejoin:round; stroke-width:4; stroke-opacity:1; fill:none\" points=\"\n",
       "  2551.23,611.412 2352.76,622.926 \n",
       "  \"/>\n",
       "<polyline clip-path=\"url(#clip822)\" style=\"stroke:#0000ff; stroke-linecap:butt; stroke-linejoin:round; stroke-width:4; stroke-opacity:1; fill:none\" points=\"\n",
       "  147.478,479.005 345.953,455.978 \n",
       "  \"/>\n",
       "<polyline clip-path=\"url(#clip822)\" style=\"stroke:#0000ff; stroke-linecap:butt; stroke-linejoin:round; stroke-width:4; stroke-opacity:1; fill:none\" points=\"\n",
       "  308.118,442.247 345.953,455.978 312.267,478.007 \n",
       "  \"/>\n",
       "<polyline clip-path=\"url(#clip822)\" style=\"stroke:#0000ff; stroke-linecap:butt; stroke-linejoin:round; stroke-width:4; stroke-opacity:1; fill:none\" points=\"\n",
       "  345.953,455.978 147.478,479.005 \n",
       "  \"/>\n",
       "<polyline clip-path=\"url(#clip822)\" style=\"stroke:#0000ff; stroke-linecap:butt; stroke-linejoin:round; stroke-width:4; stroke-opacity:1; fill:none\" points=\"\n",
       "  368.006,479.005 471.213,455.978 \n",
       "  \"/>\n",
       "<polyline clip-path=\"url(#clip822)\" style=\"stroke:#0000ff; stroke-linecap:butt; stroke-linejoin:round; stroke-width:4; stroke-opacity:1; fill:none\" points=\"\n",
       "  432.157,446.249 471.213,455.978 439.996,481.385 \n",
       "  \"/>\n",
       "<polyline clip-path=\"url(#clip822)\" style=\"stroke:#0000ff; stroke-linecap:butt; stroke-linejoin:round; stroke-width:4; stroke-opacity:1; fill:none\" points=\"\n",
       "  471.213,455.978 368.006,479.005 \n",
       "  \"/>\n",
       "<polyline clip-path=\"url(#clip822)\" style=\"stroke:#0000ff; stroke-linecap:butt; stroke-linejoin:round; stroke-width:4; stroke-opacity:1; fill:none\" points=\"\n",
       "  588.534,479.005 617.643,455.978 \n",
       "  \"/>\n",
       "<polyline clip-path=\"url(#clip822)\" style=\"stroke:#0000ff; stroke-linecap:butt; stroke-linejoin:round; stroke-width:4; stroke-opacity:1; fill:none\" points=\"\n",
       "  578.242,464.196 617.643,455.978 600.576,492.43 \n",
       "  \"/>\n",
       "<polyline clip-path=\"url(#clip822)\" style=\"stroke:#0000ff; stroke-linecap:butt; stroke-linejoin:round; stroke-width:4; stroke-opacity:1; fill:none\" points=\"\n",
       "  617.643,455.978 588.534,479.005 \n",
       "  \"/>\n",
       "<polyline clip-path=\"url(#clip822)\" style=\"stroke:#0000ff; stroke-linecap:butt; stroke-linejoin:round; stroke-width:4; stroke-opacity:1; fill:none\" points=\"\n",
       "  809.061,479.005 785.244,455.978 \n",
       "  \"/>\n",
       "<polyline clip-path=\"url(#clip822)\" style=\"stroke:#0000ff; stroke-linecap:butt; stroke-linejoin:round; stroke-width:4; stroke-opacity:1; fill:none\" points=\"\n",
       "  798.614,493.942 785.244,455.978 823.637,468.06 \n",
       "  \"/>\n",
       "<polyline clip-path=\"url(#clip822)\" style=\"stroke:#0000ff; stroke-linecap:butt; stroke-linejoin:round; stroke-width:4; stroke-opacity:1; fill:none\" points=\"\n",
       "  785.244,455.978 809.061,479.005 \n",
       "  \"/>\n",
       "<polyline clip-path=\"url(#clip822)\" style=\"stroke:#0000ff; stroke-linecap:butt; stroke-linejoin:round; stroke-width:4; stroke-opacity:1; fill:none\" points=\"\n",
       "  1029.59,479.005 974.016,455.978 \n",
       "  \"/>\n",
       "<polyline clip-path=\"url(#clip822)\" style=\"stroke:#0000ff; stroke-linecap:butt; stroke-linejoin:round; stroke-width:4; stroke-opacity:1; fill:none\" points=\"\n",
       "  1000.38,486.388 974.016,455.978 1014.16,453.13 \n",
       "  \"/>\n",
       "<polyline clip-path=\"url(#clip822)\" style=\"stroke:#0000ff; stroke-linecap:butt; stroke-linejoin:round; stroke-width:4; stroke-opacity:1; fill:none\" points=\"\n",
       "  974.016,455.978 1029.59,479.005 \n",
       "  \"/>\n",
       "<polyline clip-path=\"url(#clip822)\" style=\"stroke:#0000ff; stroke-linecap:butt; stroke-linejoin:round; stroke-width:4; stroke-opacity:1; fill:none\" points=\"\n",
       "  1250.12,479.005 1183.96,455.978 \n",
       "  \"/>\n",
       "<polyline clip-path=\"url(#clip822)\" style=\"stroke:#0000ff; stroke-linecap:butt; stroke-linejoin:round; stroke-width:4; stroke-opacity:1; fill:none\" points=\"\n",
       "  1212.04,484.812 1183.96,455.978 1223.87,450.812 \n",
       "  \"/>\n",
       "<polyline clip-path=\"url(#clip822)\" style=\"stroke:#0000ff; stroke-linecap:butt; stroke-linejoin:round; stroke-width:4; stroke-opacity:1; fill:none\" points=\"\n",
       "  1183.96,455.978 1250.12,479.005 \n",
       "  \"/>\n",
       "<polyline clip-path=\"url(#clip822)\" style=\"stroke:#0000ff; stroke-linecap:butt; stroke-linejoin:round; stroke-width:4; stroke-opacity:1; fill:none\" points=\"\n",
       "  1470.64,479.005 1415.07,455.978 \n",
       "  \"/>\n",
       "<polyline clip-path=\"url(#clip822)\" style=\"stroke:#0000ff; stroke-linecap:butt; stroke-linejoin:round; stroke-width:4; stroke-opacity:1; fill:none\" points=\"\n",
       "  1441.44,486.388 1415.07,455.978 1455.22,453.13 \n",
       "  \"/>\n",
       "<polyline clip-path=\"url(#clip822)\" style=\"stroke:#0000ff; stroke-linecap:butt; stroke-linejoin:round; stroke-width:4; stroke-opacity:1; fill:none\" points=\"\n",
       "  1415.07,455.978 1470.64,479.005 \n",
       "  \"/>\n",
       "<polyline clip-path=\"url(#clip822)\" style=\"stroke:#0000ff; stroke-linecap:butt; stroke-linejoin:round; stroke-width:4; stroke-opacity:1; fill:none\" points=\"\n",
       "  1691.17,479.005 1667.36,455.978 \n",
       "  \"/>\n",
       "<polyline clip-path=\"url(#clip822)\" style=\"stroke:#0000ff; stroke-linecap:butt; stroke-linejoin:round; stroke-width:4; stroke-opacity:1; fill:none\" points=\"\n",
       "  1680.73,493.942 1667.36,455.978 1705.75,468.06 \n",
       "  \"/>\n",
       "<polyline clip-path=\"url(#clip822)\" style=\"stroke:#0000ff; stroke-linecap:butt; stroke-linejoin:round; stroke-width:4; stroke-opacity:1; fill:none\" points=\"\n",
       "  1667.36,455.978 1691.17,479.005 \n",
       "  \"/>\n",
       "<polyline clip-path=\"url(#clip822)\" style=\"stroke:#0000ff; stroke-linecap:butt; stroke-linejoin:round; stroke-width:4; stroke-opacity:1; fill:none\" points=\"\n",
       "  1911.7,479.005 1940.81,455.978 \n",
       "  \"/>\n",
       "<polyline clip-path=\"url(#clip822)\" style=\"stroke:#0000ff; stroke-linecap:butt; stroke-linejoin:round; stroke-width:4; stroke-opacity:1; fill:none\" points=\"\n",
       "  1901.41,464.196 1940.81,455.978 1923.74,492.43 \n",
       "  \"/>\n",
       "<polyline clip-path=\"url(#clip822)\" style=\"stroke:#0000ff; stroke-linecap:butt; stroke-linejoin:round; stroke-width:4; stroke-opacity:1; fill:none\" points=\"\n",
       "  1940.81,455.978 1911.7,479.005 \n",
       "  \"/>\n",
       "<polyline clip-path=\"url(#clip822)\" style=\"stroke:#0000ff; stroke-linecap:butt; stroke-linejoin:round; stroke-width:4; stroke-opacity:1; fill:none\" points=\"\n",
       "  2132.23,479.005 2235.44,455.978 \n",
       "  \"/>\n",
       "<polyline clip-path=\"url(#clip822)\" style=\"stroke:#0000ff; stroke-linecap:butt; stroke-linejoin:round; stroke-width:4; stroke-opacity:1; fill:none\" points=\"\n",
       "  2196.38,446.249 2235.44,455.978 2204.22,481.385 \n",
       "  \"/>\n",
       "<polyline clip-path=\"url(#clip822)\" style=\"stroke:#0000ff; stroke-linecap:butt; stroke-linejoin:round; stroke-width:4; stroke-opacity:1; fill:none\" points=\"\n",
       "  2235.44,455.978 2132.23,479.005 \n",
       "  \"/>\n",
       "<polyline clip-path=\"url(#clip822)\" style=\"stroke:#0000ff; stroke-linecap:butt; stroke-linejoin:round; stroke-width:4; stroke-opacity:1; fill:none\" points=\"\n",
       "  2352.76,479.005 2551.23,455.978 \n",
       "  \"/>\n",
       "<polyline clip-path=\"url(#clip822)\" style=\"stroke:#0000ff; stroke-linecap:butt; stroke-linejoin:round; stroke-width:4; stroke-opacity:1; fill:none\" points=\"\n",
       "  2513.4,442.247 2551.23,455.978 2517.55,478.007 \n",
       "  \"/>\n",
       "<polyline clip-path=\"url(#clip822)\" style=\"stroke:#0000ff; stroke-linecap:butt; stroke-linejoin:round; stroke-width:4; stroke-opacity:1; fill:none\" points=\"\n",
       "  2551.23,455.978 2352.76,479.005 \n",
       "  \"/>\n",
       "<polyline clip-path=\"url(#clip822)\" style=\"stroke:#0000ff; stroke-linecap:butt; stroke-linejoin:round; stroke-width:4; stroke-opacity:1; fill:none\" points=\"\n",
       "  147.478,335.085 345.953,300.544 \n",
       "  \"/>\n",
       "<polyline clip-path=\"url(#clip822)\" style=\"stroke:#0000ff; stroke-linecap:butt; stroke-linejoin:round; stroke-width:4; stroke-opacity:1; fill:none\" points=\"\n",
       "  307.4,288.983 345.953,300.544 313.572,324.45 \n",
       "  \"/>\n",
       "<polyline clip-path=\"url(#clip822)\" style=\"stroke:#0000ff; stroke-linecap:butt; stroke-linejoin:round; stroke-width:4; stroke-opacity:1; fill:none\" points=\"\n",
       "  345.953,300.544 147.478,335.085 \n",
       "  \"/>\n",
       "<polyline clip-path=\"url(#clip822)\" style=\"stroke:#0000ff; stroke-linecap:butt; stroke-linejoin:round; stroke-width:4; stroke-opacity:1; fill:none\" points=\"\n",
       "  368.006,335.085 471.213,300.544 \n",
       "  \"/>\n",
       "<polyline clip-path=\"url(#clip822)\" style=\"stroke:#0000ff; stroke-linecap:butt; stroke-linejoin:round; stroke-width:4; stroke-opacity:1; fill:none\" points=\"\n",
       "  431.361,294.9 471.213,300.544 442.787,329.039 \n",
       "  \"/>\n",
       "<polyline clip-path=\"url(#clip822)\" style=\"stroke:#0000ff; stroke-linecap:butt; stroke-linejoin:round; stroke-width:4; stroke-opacity:1; fill:none\" points=\"\n",
       "  471.213,300.544 368.006,335.085 \n",
       "  \"/>\n",
       "<polyline clip-path=\"url(#clip822)\" style=\"stroke:#0000ff; stroke-linecap:butt; stroke-linejoin:round; stroke-width:4; stroke-opacity:1; fill:none\" points=\"\n",
       "  588.534,335.085 617.643,300.544 \n",
       "  \"/>\n",
       "<polyline clip-path=\"url(#clip822)\" style=\"stroke:#0000ff; stroke-linecap:butt; stroke-linejoin:round; stroke-width:4; stroke-opacity:1; fill:none\" points=\"\n",
       "  580.68,316.472 617.643,300.544 608.208,339.672 \n",
       "  \"/>\n",
       "<polyline clip-path=\"url(#clip822)\" style=\"stroke:#0000ff; stroke-linecap:butt; stroke-linejoin:round; stroke-width:4; stroke-opacity:1; fill:none\" points=\"\n",
       "  617.643,300.544 588.534,335.085 \n",
       "  \"/>\n",
       "<polyline clip-path=\"url(#clip822)\" style=\"stroke:#0000ff; stroke-linecap:butt; stroke-linejoin:round; stroke-width:4; stroke-opacity:1; fill:none\" points=\"\n",
       "  809.061,335.085 785.244,300.544 \n",
       "  \"/>\n",
       "<polyline clip-path=\"url(#clip822)\" style=\"stroke:#0000ff; stroke-linecap:butt; stroke-linejoin:round; stroke-width:4; stroke-opacity:1; fill:none\" points=\"\n",
       "  790.862,340.399 785.244,300.544 820.499,319.963 \n",
       "  \"/>\n",
       "<polyline clip-path=\"url(#clip822)\" style=\"stroke:#0000ff; stroke-linecap:butt; stroke-linejoin:round; stroke-width:4; stroke-opacity:1; fill:none\" points=\"\n",
       "  785.244,300.544 809.061,335.085 \n",
       "  \"/>\n",
       "<polyline clip-path=\"url(#clip822)\" style=\"stroke:#0000ff; stroke-linecap:butt; stroke-linejoin:round; stroke-width:4; stroke-opacity:1; fill:none\" points=\"\n",
       "  1029.59,335.085 974.016,300.544 \n",
       "  \"/>\n",
       "<polyline clip-path=\"url(#clip822)\" style=\"stroke:#0000ff; stroke-linecap:butt; stroke-linejoin:round; stroke-width:4; stroke-opacity:1; fill:none\" points=\"\n",
       "  995.09,334.835 974.016,300.544 1014.09,304.26 \n",
       "  \"/>\n",
       "<polyline clip-path=\"url(#clip822)\" style=\"stroke:#0000ff; stroke-linecap:butt; stroke-linejoin:round; stroke-width:4; stroke-opacity:1; fill:none\" points=\"\n",
       "  974.016,300.544 1029.59,335.085 \n",
       "  \"/>\n",
       "<polyline clip-path=\"url(#clip822)\" style=\"stroke:#0000ff; stroke-linecap:butt; stroke-linejoin:round; stroke-width:4; stroke-opacity:1; fill:none\" points=\"\n",
       "  1250.12,335.085 1183.96,300.544 \n",
       "  \"/>\n",
       "<polyline clip-path=\"url(#clip822)\" style=\"stroke:#0000ff; stroke-linecap:butt; stroke-linejoin:round; stroke-width:4; stroke-opacity:1; fill:none\" points=\"\n",
       "  1207.54,333.161 1183.96,300.544 1224.2,301.249 \n",
       "  \"/>\n",
       "<polyline clip-path=\"url(#clip822)\" style=\"stroke:#0000ff; stroke-linecap:butt; stroke-linejoin:round; stroke-width:4; stroke-opacity:1; fill:none\" points=\"\n",
       "  1183.96,300.544 1250.12,335.085 \n",
       "  \"/>\n",
       "<polyline clip-path=\"url(#clip822)\" style=\"stroke:#0000ff; stroke-linecap:butt; stroke-linejoin:round; stroke-width:4; stroke-opacity:1; fill:none\" points=\"\n",
       "  1470.64,335.085 1415.07,300.544 \n",
       "  \"/>\n",
       "<polyline clip-path=\"url(#clip822)\" style=\"stroke:#0000ff; stroke-linecap:butt; stroke-linejoin:round; stroke-width:4; stroke-opacity:1; fill:none\" points=\"\n",
       "  1436.15,334.835 1415.07,300.544 1455.15,304.26 \n",
       "  \"/>\n",
       "<polyline clip-path=\"url(#clip822)\" style=\"stroke:#0000ff; stroke-linecap:butt; stroke-linejoin:round; stroke-width:4; stroke-opacity:1; fill:none\" points=\"\n",
       "  1415.07,300.544 1470.64,335.085 \n",
       "  \"/>\n",
       "<polyline clip-path=\"url(#clip822)\" style=\"stroke:#0000ff; stroke-linecap:butt; stroke-linejoin:round; stroke-width:4; stroke-opacity:1; fill:none\" points=\"\n",
       "  1691.17,335.085 1667.36,300.544 \n",
       "  \"/>\n",
       "<polyline clip-path=\"url(#clip822)\" style=\"stroke:#0000ff; stroke-linecap:butt; stroke-linejoin:round; stroke-width:4; stroke-opacity:1; fill:none\" points=\"\n",
       "  1672.97,340.399 1667.36,300.544 1702.61,319.963 \n",
       "  \"/>\n",
       "<polyline clip-path=\"url(#clip822)\" style=\"stroke:#0000ff; stroke-linecap:butt; stroke-linejoin:round; stroke-width:4; stroke-opacity:1; fill:none\" points=\"\n",
       "  1667.36,300.544 1691.17,335.085 \n",
       "  \"/>\n",
       "<polyline clip-path=\"url(#clip822)\" style=\"stroke:#0000ff; stroke-linecap:butt; stroke-linejoin:round; stroke-width:4; stroke-opacity:1; fill:none\" points=\"\n",
       "  1911.7,335.085 1940.81,300.544 \n",
       "  \"/>\n",
       "<polyline clip-path=\"url(#clip822)\" style=\"stroke:#0000ff; stroke-linecap:butt; stroke-linejoin:round; stroke-width:4; stroke-opacity:1; fill:none\" points=\"\n",
       "  1903.85,316.472 1940.81,300.544 1931.37,339.672 \n",
       "  \"/>\n",
       "<polyline clip-path=\"url(#clip822)\" style=\"stroke:#0000ff; stroke-linecap:butt; stroke-linejoin:round; stroke-width:4; stroke-opacity:1; fill:none\" points=\"\n",
       "  1940.81,300.544 1911.7,335.085 \n",
       "  \"/>\n",
       "<polyline clip-path=\"url(#clip822)\" style=\"stroke:#0000ff; stroke-linecap:butt; stroke-linejoin:round; stroke-width:4; stroke-opacity:1; fill:none\" points=\"\n",
       "  2132.23,335.085 2235.44,300.544 \n",
       "  \"/>\n",
       "<polyline clip-path=\"url(#clip822)\" style=\"stroke:#0000ff; stroke-linecap:butt; stroke-linejoin:round; stroke-width:4; stroke-opacity:1; fill:none\" points=\"\n",
       "  2195.58,294.9 2235.44,300.544 2207.01,329.039 \n",
       "  \"/>\n",
       "<polyline clip-path=\"url(#clip822)\" style=\"stroke:#0000ff; stroke-linecap:butt; stroke-linejoin:round; stroke-width:4; stroke-opacity:1; fill:none\" points=\"\n",
       "  2235.44,300.544 2132.23,335.085 \n",
       "  \"/>\n",
       "<polyline clip-path=\"url(#clip822)\" style=\"stroke:#0000ff; stroke-linecap:butt; stroke-linejoin:round; stroke-width:4; stroke-opacity:1; fill:none\" points=\"\n",
       "  2352.76,335.085 2551.23,300.544 \n",
       "  \"/>\n",
       "<polyline clip-path=\"url(#clip822)\" style=\"stroke:#0000ff; stroke-linecap:butt; stroke-linejoin:round; stroke-width:4; stroke-opacity:1; fill:none\" points=\"\n",
       "  2512.68,288.983 2551.23,300.544 2518.85,324.45 \n",
       "  \"/>\n",
       "<polyline clip-path=\"url(#clip822)\" style=\"stroke:#0000ff; stroke-linecap:butt; stroke-linejoin:round; stroke-width:4; stroke-opacity:1; fill:none\" points=\"\n",
       "  2551.23,300.544 2352.76,335.085 \n",
       "  \"/>\n",
       "<polyline clip-path=\"url(#clip822)\" style=\"stroke:#0000ff; stroke-linecap:butt; stroke-linejoin:round; stroke-width:4; stroke-opacity:1; fill:none\" points=\"\n",
       "  147.478,191.164 345.953,145.11 \n",
       "  \"/>\n",
       "<polyline clip-path=\"url(#clip822)\" style=\"stroke:#0000ff; stroke-linecap:butt; stroke-linejoin:round; stroke-width:4; stroke-opacity:1; fill:none\" points=\"\n",
       "  306.816,135.713 345.953,145.11 314.953,170.781 \n",
       "  \"/>\n",
       "<polyline clip-path=\"url(#clip822)\" style=\"stroke:#0000ff; stroke-linecap:butt; stroke-linejoin:round; stroke-width:4; stroke-opacity:1; fill:none\" points=\"\n",
       "  345.953,145.11 147.478,191.164 \n",
       "  \"/>\n",
       "<polyline clip-path=\"url(#clip822)\" style=\"stroke:#0000ff; stroke-linecap:butt; stroke-linejoin:round; stroke-width:4; stroke-opacity:1; fill:none\" points=\"\n",
       "  368.006,191.164 471.213,145.11 \n",
       "  \"/>\n",
       "<polyline clip-path=\"url(#clip822)\" style=\"stroke:#0000ff; stroke-linecap:butt; stroke-linejoin:round; stroke-width:4; stroke-opacity:1; fill:none\" points=\"\n",
       "  431.002,143.342 471.213,145.11 445.672,176.218 \n",
       "  \"/>\n",
       "<polyline clip-path=\"url(#clip822)\" style=\"stroke:#0000ff; stroke-linecap:butt; stroke-linejoin:round; stroke-width:4; stroke-opacity:1; fill:none\" points=\"\n",
       "  471.213,145.11 368.006,191.164 \n",
       "  \"/>\n",
       "<polyline clip-path=\"url(#clip822)\" style=\"stroke:#0000ff; stroke-linecap:butt; stroke-linejoin:round; stroke-width:4; stroke-opacity:1; fill:none\" points=\"\n",
       "  588.534,191.164 617.643,145.11 \n",
       "  \"/>\n",
       "<polyline clip-path=\"url(#clip822)\" style=\"stroke:#0000ff; stroke-linecap:butt; stroke-linejoin:round; stroke-width:4; stroke-opacity:1; fill:none\" points=\"\n",
       "  583.193,165.924 617.643,145.11 613.624,185.158 \n",
       "  \"/>\n",
       "<polyline clip-path=\"url(#clip822)\" style=\"stroke:#0000ff; stroke-linecap:butt; stroke-linejoin:round; stroke-width:4; stroke-opacity:1; fill:none\" points=\"\n",
       "  617.643,145.11 588.534,191.164 \n",
       "  \"/>\n",
       "<polyline clip-path=\"url(#clip822)\" style=\"stroke:#0000ff; stroke-linecap:butt; stroke-linejoin:round; stroke-width:4; stroke-opacity:1; fill:none\" points=\"\n",
       "  809.061,191.164 785.244,145.11 \n",
       "  \"/>\n",
       "<polyline clip-path=\"url(#clip822)\" style=\"stroke:#0000ff; stroke-linecap:butt; stroke-linejoin:round; stroke-width:4; stroke-opacity:1; fill:none\" points=\"\n",
       "  785.793,185.355 785.244,145.11 817.77,168.819 \n",
       "  \"/>\n",
       "<polyline clip-path=\"url(#clip822)\" style=\"stroke:#0000ff; stroke-linecap:butt; stroke-linejoin:round; stroke-width:4; stroke-opacity:1; fill:none\" points=\"\n",
       "  785.244,145.11 809.061,191.164 \n",
       "  \"/>\n",
       "<polyline clip-path=\"url(#clip822)\" style=\"stroke:#0000ff; stroke-linecap:butt; stroke-linejoin:round; stroke-width:4; stroke-opacity:1; fill:none\" points=\"\n",
       "  1029.59,191.164 974.016,145.11 \n",
       "  \"/>\n",
       "<polyline clip-path=\"url(#clip822)\" style=\"stroke:#0000ff; stroke-linecap:butt; stroke-linejoin:round; stroke-width:4; stroke-opacity:1; fill:none\" points=\"\n",
       "  990.249,181.94 974.016,145.11 1013.22,154.222 \n",
       "  \"/>\n",
       "<polyline clip-path=\"url(#clip822)\" style=\"stroke:#0000ff; stroke-linecap:butt; stroke-linejoin:round; stroke-width:4; stroke-opacity:1; fill:none\" points=\"\n",
       "  974.016,145.11 1029.59,191.164 \n",
       "  \"/>\n",
       "<polyline clip-path=\"url(#clip822)\" style=\"stroke:#0000ff; stroke-linecap:butt; stroke-linejoin:round; stroke-width:4; stroke-opacity:1; fill:none\" points=\"\n",
       "  1250.12,191.164 1183.96,145.11 \n",
       "  \"/>\n",
       "<polyline clip-path=\"url(#clip822)\" style=\"stroke:#0000ff; stroke-linecap:butt; stroke-linejoin:round; stroke-width:4; stroke-opacity:1; fill:none\" points=\"\n",
       "  1203.22,180.451 1183.96,145.11 1223.79,150.905 \n",
       "  \"/>\n",
       "<polyline clip-path=\"url(#clip822)\" style=\"stroke:#0000ff; stroke-linecap:butt; stroke-linejoin:round; stroke-width:4; stroke-opacity:1; fill:none\" points=\"\n",
       "  1183.96,145.11 1250.12,191.164 \n",
       "  \"/>\n",
       "<polyline clip-path=\"url(#clip822)\" style=\"stroke:#0000ff; stroke-linecap:butt; stroke-linejoin:round; stroke-width:4; stroke-opacity:1; fill:none\" points=\"\n",
       "  1470.64,191.164 1415.07,145.11 \n",
       "  \"/>\n",
       "<polyline clip-path=\"url(#clip822)\" style=\"stroke:#0000ff; stroke-linecap:butt; stroke-linejoin:round; stroke-width:4; stroke-opacity:1; fill:none\" points=\"\n",
       "  1431.3,181.94 1415.07,145.11 1454.28,154.222 \n",
       "  \"/>\n",
       "<polyline clip-path=\"url(#clip822)\" style=\"stroke:#0000ff; stroke-linecap:butt; stroke-linejoin:round; stroke-width:4; stroke-opacity:1; fill:none\" points=\"\n",
       "  1415.07,145.11 1470.64,191.164 \n",
       "  \"/>\n",
       "<polyline clip-path=\"url(#clip822)\" style=\"stroke:#0000ff; stroke-linecap:butt; stroke-linejoin:round; stroke-width:4; stroke-opacity:1; fill:none\" points=\"\n",
       "  1691.17,191.164 1667.36,145.11 \n",
       "  \"/>\n",
       "<polyline clip-path=\"url(#clip822)\" style=\"stroke:#0000ff; stroke-linecap:butt; stroke-linejoin:round; stroke-width:4; stroke-opacity:1; fill:none\" points=\"\n",
       "  1667.9,185.355 1667.36,145.11 1699.88,168.819 \n",
       "  \"/>\n",
       "<polyline clip-path=\"url(#clip822)\" style=\"stroke:#0000ff; stroke-linecap:butt; stroke-linejoin:round; stroke-width:4; stroke-opacity:1; fill:none\" points=\"\n",
       "  1667.36,145.11 1691.17,191.164 \n",
       "  \"/>\n",
       "<polyline clip-path=\"url(#clip822)\" style=\"stroke:#0000ff; stroke-linecap:butt; stroke-linejoin:round; stroke-width:4; stroke-opacity:1; fill:none\" points=\"\n",
       "  1911.7,191.164 1940.81,145.11 \n",
       "  \"/>\n",
       "<polyline clip-path=\"url(#clip822)\" style=\"stroke:#0000ff; stroke-linecap:butt; stroke-linejoin:round; stroke-width:4; stroke-opacity:1; fill:none\" points=\"\n",
       "  1906.36,165.924 1940.81,145.11 1936.79,185.158 \n",
       "  \"/>\n",
       "<polyline clip-path=\"url(#clip822)\" style=\"stroke:#0000ff; stroke-linecap:butt; stroke-linejoin:round; stroke-width:4; stroke-opacity:1; fill:none\" points=\"\n",
       "  1940.81,145.11 1911.7,191.164 \n",
       "  \"/>\n",
       "<polyline clip-path=\"url(#clip822)\" style=\"stroke:#0000ff; stroke-linecap:butt; stroke-linejoin:round; stroke-width:4; stroke-opacity:1; fill:none\" points=\"\n",
       "  2132.23,191.164 2235.44,145.11 \n",
       "  \"/>\n",
       "<polyline clip-path=\"url(#clip822)\" style=\"stroke:#0000ff; stroke-linecap:butt; stroke-linejoin:round; stroke-width:4; stroke-opacity:1; fill:none\" points=\"\n",
       "  2195.22,143.342 2235.44,145.11 2209.89,176.218 \n",
       "  \"/>\n",
       "<polyline clip-path=\"url(#clip822)\" style=\"stroke:#0000ff; stroke-linecap:butt; stroke-linejoin:round; stroke-width:4; stroke-opacity:1; fill:none\" points=\"\n",
       "  2235.44,145.11 2132.23,191.164 \n",
       "  \"/>\n",
       "<polyline clip-path=\"url(#clip822)\" style=\"stroke:#0000ff; stroke-linecap:butt; stroke-linejoin:round; stroke-width:4; stroke-opacity:1; fill:none\" points=\"\n",
       "  2352.76,191.164 2551.23,145.11 \n",
       "  \"/>\n",
       "<polyline clip-path=\"url(#clip822)\" style=\"stroke:#0000ff; stroke-linecap:butt; stroke-linejoin:round; stroke-width:4; stroke-opacity:1; fill:none\" points=\"\n",
       "  2512.09,135.713 2551.23,145.11 2520.23,170.781 \n",
       "  \"/>\n",
       "<polyline clip-path=\"url(#clip822)\" style=\"stroke:#0000ff; stroke-linecap:butt; stroke-linejoin:round; stroke-width:4; stroke-opacity:1; fill:none\" points=\"\n",
       "  2551.23,145.11 2352.76,191.164 \n",
       "  \"/>\n",
       "<polyline clip-path=\"url(#clip822)\" style=\"stroke:#0000ff; stroke-linecap:butt; stroke-linejoin:round; stroke-width:4; stroke-opacity:1; fill:none\" points=\"\n",
       "  147.478,47.2441 345.953,-10.3241 \n",
       "  \"/>\n",
       "<polyline clip-path=\"url(#clip822)\" style=\"stroke:#0000ff; stroke-linecap:butt; stroke-linejoin:round; stroke-width:4; stroke-opacity:1; fill:none\" points=\"\n",
       "  306.364,-17.583 345.953,-10.3241 316.392,16.992 \n",
       "  \"/>\n",
       "<polyline clip-path=\"url(#clip822)\" style=\"stroke:#0000ff; stroke-linecap:butt; stroke-linejoin:round; stroke-width:4; stroke-opacity:1; fill:none\" points=\"\n",
       "  345.953,-10.3241 147.478,47.2441 \n",
       "  \"/>\n",
       "<polyline clip-path=\"url(#clip822)\" style=\"stroke:#0000ff; stroke-linecap:butt; stroke-linejoin:round; stroke-width:4; stroke-opacity:1; fill:none\" points=\"\n",
       "  368.006,47.2441 471.213,-10.3241 \n",
       "  \"/>\n",
       "<polyline clip-path=\"url(#clip822)\" style=\"stroke:#0000ff; stroke-linecap:butt; stroke-linejoin:round; stroke-width:4; stroke-opacity:1; fill:none\" points=\"\n",
       "  431.005,-8.50706 471.213,-10.3241 448.541,22.9327 \n",
       "  \"/>\n",
       "<polyline clip-path=\"url(#clip822)\" style=\"stroke:#0000ff; stroke-linecap:butt; stroke-linejoin:round; stroke-width:4; stroke-opacity:1; fill:none\" points=\"\n",
       "  471.213,-10.3241 368.006,47.2441 \n",
       "  \"/>\n",
       "<polyline clip-path=\"url(#clip822)\" style=\"stroke:#0000ff; stroke-linecap:butt; stroke-linejoin:round; stroke-width:4; stroke-opacity:1; fill:none\" points=\"\n",
       "  588.534,47.2441 617.643,-10.3241 \n",
       "  \"/>\n",
       "<polyline clip-path=\"url(#clip822)\" style=\"stroke:#0000ff; stroke-linecap:butt; stroke-linejoin:round; stroke-width:4; stroke-opacity:1; fill:none\" points=\"\n",
       "  585.335,13.6799 617.643,-10.3241 617.461,29.9248 \n",
       "  \"/>\n",
       "<polyline clip-path=\"url(#clip822)\" style=\"stroke:#0000ff; stroke-linecap:butt; stroke-linejoin:round; stroke-width:4; stroke-opacity:1; fill:none\" points=\"\n",
       "  617.643,-10.3241 588.534,47.2441 \n",
       "  \"/>\n",
       "<polyline clip-path=\"url(#clip822)\" style=\"stroke:#0000ff; stroke-linecap:butt; stroke-linejoin:round; stroke-width:4; stroke-opacity:1; fill:none\" points=\"\n",
       "  809.061,47.2441 785.244,-10.3241 \n",
       "  \"/>\n",
       "<polyline clip-path=\"url(#clip822)\" style=\"stroke:#0000ff; stroke-linecap:butt; stroke-linejoin:round; stroke-width:4; stroke-opacity:1; fill:none\" points=\"\n",
       "  782.374,29.8227 785.244,-10.3241 815.64,16.0602 \n",
       "  \"/>\n",
       "<polyline clip-path=\"url(#clip822)\" style=\"stroke:#0000ff; stroke-linecap:butt; stroke-linejoin:round; stroke-width:4; stroke-opacity:1; fill:none\" points=\"\n",
       "  785.244,-10.3241 809.061,47.2441 \n",
       "  \"/>\n",
       "<polyline clip-path=\"url(#clip822)\" style=\"stroke:#0000ff; stroke-linecap:butt; stroke-linejoin:round; stroke-width:4; stroke-opacity:1; fill:none\" points=\"\n",
       "  1029.59,47.2441 974.016,-10.3241 \n",
       "  \"/>\n",
       "<polyline clip-path=\"url(#clip822)\" style=\"stroke:#0000ff; stroke-linecap:butt; stroke-linejoin:round; stroke-width:4; stroke-opacity:1; fill:none\" points=\"\n",
       "  986.069,28.0782 974.016,-10.3241 1011.97,3.07512 \n",
       "  \"/>\n",
       "<polyline clip-path=\"url(#clip822)\" style=\"stroke:#0000ff; stroke-linecap:butt; stroke-linejoin:round; stroke-width:4; stroke-opacity:1; fill:none\" points=\"\n",
       "  974.016,-10.3241 1029.59,47.2441 \n",
       "  \"/>\n",
       "<polyline clip-path=\"url(#clip822)\" style=\"stroke:#0000ff; stroke-linecap:butt; stroke-linejoin:round; stroke-width:4; stroke-opacity:1; fill:none\" points=\"\n",
       "  1250.12,47.2441 1183.96,-10.3241 \n",
       "  \"/>\n",
       "<polyline clip-path=\"url(#clip822)\" style=\"stroke:#0000ff; stroke-linecap:butt; stroke-linejoin:round; stroke-width:4; stroke-opacity:1; fill:none\" points=\"\n",
       "  1199.3,26.8864 1183.96,-10.3241 1222.93,-0.271389 \n",
       "  \"/>\n",
       "<polyline clip-path=\"url(#clip822)\" style=\"stroke:#0000ff; stroke-linecap:butt; stroke-linejoin:round; stroke-width:4; stroke-opacity:1; fill:none\" points=\"\n",
       "  1183.96,-10.3241 1250.12,47.2441 \n",
       "  \"/>\n",
       "<polyline clip-path=\"url(#clip822)\" style=\"stroke:#0000ff; stroke-linecap:butt; stroke-linejoin:round; stroke-width:4; stroke-opacity:1; fill:none\" points=\"\n",
       "  1470.64,47.2441 1415.07,-10.3241 \n",
       "  \"/>\n",
       "<polyline clip-path=\"url(#clip822)\" style=\"stroke:#0000ff; stroke-linecap:butt; stroke-linejoin:round; stroke-width:4; stroke-opacity:1; fill:none\" points=\"\n",
       "  1427.12,28.0782 1415.07,-10.3241 1453.03,3.07512 \n",
       "  \"/>\n",
       "<polyline clip-path=\"url(#clip822)\" style=\"stroke:#0000ff; stroke-linecap:butt; stroke-linejoin:round; stroke-width:4; stroke-opacity:1; fill:none\" points=\"\n",
       "  1415.07,-10.3241 1470.64,47.2441 \n",
       "  \"/>\n",
       "<polyline clip-path=\"url(#clip822)\" style=\"stroke:#0000ff; stroke-linecap:butt; stroke-linejoin:round; stroke-width:4; stroke-opacity:1; fill:none\" points=\"\n",
       "  1691.17,47.2441 1667.36,-10.3241 \n",
       "  \"/>\n",
       "<polyline clip-path=\"url(#clip822)\" style=\"stroke:#0000ff; stroke-linecap:butt; stroke-linejoin:round; stroke-width:4; stroke-opacity:1; fill:none\" points=\"\n",
       "  1664.49,29.8227 1667.36,-10.3241 1697.75,16.0602 \n",
       "  \"/>\n",
       "<polyline clip-path=\"url(#clip822)\" style=\"stroke:#0000ff; stroke-linecap:butt; stroke-linejoin:round; stroke-width:4; stroke-opacity:1; fill:none\" points=\"\n",
       "  1667.36,-10.3241 1691.17,47.2441 \n",
       "  \"/>\n",
       "<polyline clip-path=\"url(#clip822)\" style=\"stroke:#0000ff; stroke-linecap:butt; stroke-linejoin:round; stroke-width:4; stroke-opacity:1; fill:none\" points=\"\n",
       "  1911.7,47.2441 1940.81,-10.3241 \n",
       "  \"/>\n",
       "<polyline clip-path=\"url(#clip822)\" style=\"stroke:#0000ff; stroke-linecap:butt; stroke-linejoin:round; stroke-width:4; stroke-opacity:1; fill:none\" points=\"\n",
       "  1908.5,13.6799 1940.81,-10.3241 1940.63,29.9248 \n",
       "  \"/>\n",
       "<polyline clip-path=\"url(#clip822)\" style=\"stroke:#0000ff; stroke-linecap:butt; stroke-linejoin:round; stroke-width:4; stroke-opacity:1; fill:none\" points=\"\n",
       "  1940.81,-10.3241 1911.7,47.2441 \n",
       "  \"/>\n",
       "<polyline clip-path=\"url(#clip822)\" style=\"stroke:#0000ff; stroke-linecap:butt; stroke-linejoin:round; stroke-width:4; stroke-opacity:1; fill:none\" points=\"\n",
       "  2132.23,47.2441 2235.44,-10.3241 \n",
       "  \"/>\n",
       "<polyline clip-path=\"url(#clip822)\" style=\"stroke:#0000ff; stroke-linecap:butt; stroke-linejoin:round; stroke-width:4; stroke-opacity:1; fill:none\" points=\"\n",
       "  2195.23,-8.50706 2235.44,-10.3241 2212.76,22.9327 \n",
       "  \"/>\n",
       "<polyline clip-path=\"url(#clip822)\" style=\"stroke:#0000ff; stroke-linecap:butt; stroke-linejoin:round; stroke-width:4; stroke-opacity:1; fill:none\" points=\"\n",
       "  2235.44,-10.3241 2132.23,47.2441 \n",
       "  \"/>\n",
       "<polyline clip-path=\"url(#clip822)\" style=\"stroke:#0000ff; stroke-linecap:butt; stroke-linejoin:round; stroke-width:4; stroke-opacity:1; fill:none\" points=\"\n",
       "  2352.76,47.2441 2551.23,-10.3241 \n",
       "  \"/>\n",
       "<polyline clip-path=\"url(#clip822)\" style=\"stroke:#0000ff; stroke-linecap:butt; stroke-linejoin:round; stroke-width:4; stroke-opacity:1; fill:none\" points=\"\n",
       "  2511.64,-17.583 2551.23,-10.3241 2521.67,16.992 \n",
       "  \"/>\n",
       "<polyline clip-path=\"url(#clip822)\" style=\"stroke:#0000ff; stroke-linecap:butt; stroke-linejoin:round; stroke-width:4; stroke-opacity:1; fill:none\" points=\"\n",
       "  2551.23,-10.3241 2352.76,47.2441 \n",
       "  \"/>\n",
       "</svg>\n"
      ]
     },
     "execution_count": 32,
     "metadata": {},
     "output_type": "execute_result"
    }
   ],
   "source": [
    "example()"
   ]
  }
 ],
 "metadata": {
  "kernelspec": {
   "display_name": "Julia 1.7.2",
   "language": "julia",
   "name": "julia-1.7"
  },
  "language_info": {
   "file_extension": ".jl",
   "mimetype": "application/julia",
   "name": "julia",
   "version": "1.7.2"
  }
 },
 "nbformat": 4,
 "nbformat_minor": 5
}
