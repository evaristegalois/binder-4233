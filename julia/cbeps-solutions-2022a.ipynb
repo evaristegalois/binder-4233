{
 "cells": [
  {
   "cell_type": "markdown",
   "id": "e71b5611",
   "metadata": {},
   "source": [
    "<h1>\n",
    "    CBEPS 2022 Spring Solutions\n",
    "    </h1>"
   ]
  },
  {
   "cell_type": "markdown",
   "id": "a7059446",
   "metadata": {},
   "source": [
    "<h3>Question 1</h3>"
   ]
  },
  {
   "cell_type": "markdown",
   "id": "53b76901",
   "metadata": {},
   "source": [
    "What is the inverse function of $f(x)=e^{\\cos{}x+1}$ defined on $[0,\\pi]$?\n",
    "$$\n",
    "f^{-1}(y)=\\arccos(\\ln{}y-1)\n",
    "$$"
   ]
  },
  {
   "cell_type": "markdown",
   "id": "60a92c89",
   "metadata": {},
   "source": [
    "Find the inverse matrix of\n",
    "$$  C=\\left[\n",
    "    \\begin{array}{ccc}\n",
    "      -2 & 1 & 2 \\\\\n",
    "      -2 & -1 & -3 \\\\\n",
    "      3 & 1 & 1 \\\\\n",
    "    \\end{array}\\right]\\notag\n",
    "$$"
   ]
  },
  {
   "cell_type": "code",
   "execution_count": 1,
   "id": "c4c89cd8",
   "metadata": {},
   "outputs": [],
   "source": [
    "using LinearAlgebra"
   ]
  },
  {
   "cell_type": "code",
   "execution_count": 5,
   "id": "bb065c81",
   "metadata": {},
   "outputs": [
    {
     "data": {
      "text/plain": [
       "3×3 Matrix{Int64}:\n",
       " -2   1   2\n",
       " -2  -1  -3\n",
       "  3   1   1"
      ]
     },
     "execution_count": 5,
     "metadata": {},
     "output_type": "execute_result"
    }
   ],
   "source": [
    "C1=[-2 1 2\n",
    "-2 -1 -3\n",
    "3 1 1 ]"
   ]
  },
  {
   "cell_type": "code",
   "execution_count": 6,
   "id": "eba8e2a5",
   "metadata": {},
   "outputs": [
    {
     "data": {
      "text/plain": [
       "-9.0"
      ]
     },
     "execution_count": 6,
     "metadata": {},
     "output_type": "execute_result"
    }
   ],
   "source": [
    "det(C1)"
   ]
  },
  {
   "cell_type": "code",
   "execution_count": 7,
   "id": "3fdbad54",
   "metadata": {},
   "outputs": [
    {
     "data": {
      "text/plain": [
       "3×3 Matrix{Float64}:\n",
       "  2.0   1.0   -1.0\n",
       " -7.0  -8.0  -10.0\n",
       "  1.0   5.0    4.0"
      ]
     },
     "execution_count": 7,
     "metadata": {},
     "output_type": "execute_result"
    }
   ],
   "source": [
    "inv(C1)*det(C1)"
   ]
  },
  {
   "cell_type": "markdown",
   "id": "a1d34db6",
   "metadata": {},
   "source": [
    "<h3>Question 2</h3>"
   ]
  },
  {
   "cell_type": "markdown",
   "id": "0376db61",
   "metadata": {},
   "source": [
    "Find all interior angles for and the plane equation\n",
    "  containing the triangle with points\n",
    "$$    P=(-6,-2,-7),Q=(-2,1,6),R=(-8,3,-5)\n",
    "  $$\n",
    "Use the cross product to find a normal vector to the plane.\n"
   ]
  },
  {
   "cell_type": "code",
   "execution_count": 2,
   "id": "76376425",
   "metadata": {},
   "outputs": [],
   "source": [
    "using LinearAlgebra"
   ]
  },
  {
   "cell_type": "code",
   "execution_count": 3,
   "id": "c7cdfe4e",
   "metadata": {},
   "outputs": [
    {
     "data": {
      "text/plain": [
       "3-element Vector{Int64}:\n",
       " -2\n",
       "  5\n",
       "  2"
      ]
     },
     "execution_count": 3,
     "metadata": {},
     "output_type": "execute_result"
    }
   ],
   "source": [
    "vop=[-6;-2;-7];voq=[-2;1;6];vor=[-8;3;-5];vpq=voq-vop;vpr=vor-vop"
   ]
  },
  {
   "cell_type": "code",
   "execution_count": 4,
   "id": "da825d78",
   "metadata": {},
   "outputs": [
    {
     "data": {
      "text/plain": [
       "3-element Vector{Int64}:\n",
       "  4\n",
       "  3\n",
       " 13"
      ]
     },
     "execution_count": 4,
     "metadata": {},
     "output_type": "execute_result"
    }
   ],
   "source": [
    "vpq"
   ]
  },
  {
   "cell_type": "code",
   "execution_count": 5,
   "id": "51443b9f",
   "metadata": {},
   "outputs": [
    {
     "data": {
      "text/plain": [
       "3-element Vector{Int64}:\n",
       " -2\n",
       "  5\n",
       "  2"
      ]
     },
     "execution_count": 5,
     "metadata": {},
     "output_type": "execute_result"
    }
   ],
   "source": [
    "vpr"
   ]
  },
  {
   "cell_type": "code",
   "execution_count": 6,
   "id": "1497a54c",
   "metadata": {},
   "outputs": [
    {
     "data": {
      "text/plain": [
       "65.642074902453"
      ]
     },
     "execution_count": 6,
     "metadata": {},
     "output_type": "execute_result"
    }
   ],
   "source": [
    "P=acos(dot(vpq,vpr)/(norm(vpq)*norm(vpr)))*180/pi"
   ]
  },
  {
   "cell_type": "code",
   "execution_count": 7,
   "id": "ae2291eb",
   "metadata": {},
   "outputs": [
    {
     "data": {
      "text/plain": [
       "24.357925097547003"
      ]
     },
     "execution_count": 7,
     "metadata": {},
     "output_type": "execute_result"
    }
   ],
   "source": [
    "Q=acos(dot(-vpq,vor-voq)/(norm(-vpq)*norm(vor-voq)))*180/pi"
   ]
  },
  {
   "cell_type": "code",
   "execution_count": 8,
   "id": "45bda482",
   "metadata": {},
   "outputs": [
    {
     "data": {
      "text/plain": [
       "90.0"
      ]
     },
     "execution_count": 8,
     "metadata": {},
     "output_type": "execute_result"
    }
   ],
   "source": [
    "R=180-P-Q"
   ]
  },
  {
   "cell_type": "code",
   "execution_count": 9,
   "id": "e45e9705",
   "metadata": {},
   "outputs": [
    {
     "data": {
      "text/plain": [
       "3-element Vector{Int64}:\n",
       " -59\n",
       " -34\n",
       "  26"
      ]
     },
     "execution_count": 9,
     "metadata": {},
     "output_type": "execute_result"
    }
   ],
   "source": [
    "cross(vpq,vpr)"
   ]
  },
  {
   "cell_type": "markdown",
   "id": "64731e87",
   "metadata": {},
   "source": [
    "<img src=\"./diagrams/dpszvitj.png\" width=\"50%\" height=\"50%\">"
   ]
  },
  {
   "cell_type": "markdown",
   "id": "f27848a1",
   "metadata": {},
   "source": [
    "<h3>Question 3</h3>"
   ]
  },
  {
   "cell_type": "markdown",
   "id": "e466ce70",
   "metadata": {},
   "source": [
    "The Laplacian operator $\\nabla^{2}$ is defined as follows,\n",
    "$$  \\nabla^{2}f=\\frac{\\partial^{2}f}{\\partial{}x^{2}}+\\frac{\\partial^{2}f}{\\partial{}y^{2}}+\\frac{\\partial^{2}f}{\\partial{}z^{2}}\\notag\n",
    "$$\n",
    "Find $\\nabla^{2}f$ for\n",
    "$$  f(x,y,z)=\\frac{1}{r},r=\\sqrt{x^{2}+y^{2}+z^{2}}\\notag\n",
    "$$\n"
   ]
  },
  {
   "cell_type": "markdown",
   "id": "02a324f8",
   "metadata": {},
   "source": [
    "<img src=\"./diagrams/lfaxjjgq.jpg\" width=\"50%\" height=\"50%\">"
   ]
  },
  {
   "cell_type": "markdown",
   "id": "ebdbd6c3",
   "metadata": {},
   "source": [
    "<h3>Question 4</h3>"
   ]
  },
  {
   "cell_type": "markdown",
   "id": "261fb59d",
   "metadata": {},
   "source": [
    "Calculate the distance along the great circle between Vancouver\n",
    "($49^{\\circ}15'$N, $123^{\\circ}6'$W) and Palma de Mallorca\n",
    "($39^{\\circ}34'$N, $2^{\\circ}39'$E)."
   ]
  },
  {
   "cell_type": "markdown",
   "id": "5649dc16",
   "metadata": {},
   "source": [
    "Let $N$ be the angle $\\angle{}VNP$. Let $a=VN,b=NP,c=VP$. According to\n",
    "the law of cosines,\n",
    "$$  \\cos{}c=\\cos{}a\\cos{}b+\\sin{}a\\sin{}b{}cos{}N\n",
    "$$\n",
    "Consequently, $c=1.3811$ in radians, which translates to $8808.8$km.\n"
   ]
  },
  {
   "cell_type": "code",
   "execution_count": 11,
   "id": "dcbc162b",
   "metadata": {},
   "outputs": [
    {
     "data": {
      "text/plain": [
       "79.131201085518"
      ]
     },
     "execution_count": 11,
     "metadata": {},
     "output_type": "execute_result"
    }
   ],
   "source": [
    "*(1.3811,/(180,pi))"
   ]
  },
  {
   "cell_type": "code",
   "execution_count": 10,
   "id": "a4bd4b55",
   "metadata": {},
   "outputs": [
    {
     "data": {
      "text/plain": [
       "4756.37145984"
      ]
     },
     "execution_count": 10,
     "metadata": {},
     "output_type": "execute_result"
    }
   ],
   "source": [
    "*(8808.8,0.5399568) # in nautical miles"
   ]
  },
  {
   "cell_type": "markdown",
   "id": "d9a19f26",
   "metadata": {},
   "source": [
    "In a right spherical triangle with $C=\\frac{\\pi}{2}$, you know\n",
    "angles $A$ and $B$. How do you find the side $b$? Provide the formula\n",
    "using Napier's Pentagram. \n",
    "$$\n",
    "\\cos{}B=\\sin{}A\\cos{}b\n",
    "$$"
   ]
  },
  {
   "cell_type": "markdown",
   "id": "7985b004",
   "metadata": {},
   "source": [
    "<h3>Question 5</h3>"
   ]
  },
  {
   "cell_type": "markdown",
   "id": "154c05a8",
   "metadata": {},
   "source": [
    "The ratio of the two sides of a rectangle is $5:12$. Its diagonal\n",
    "is $52\\,cm$. Calculate area and circumference."
   ]
  },
  {
   "cell_type": "code",
   "execution_count": 22,
   "id": "258ce17e",
   "metadata": {},
   "outputs": [
    {
     "data": {
      "text/plain": [
       "960"
      ]
     },
     "execution_count": 22,
     "metadata": {},
     "output_type": "execute_result"
    }
   ],
   "source": [
    "area=(12*4)*(5*4)"
   ]
  },
  {
   "cell_type": "code",
   "execution_count": 23,
   "id": "31c2edb2",
   "metadata": {},
   "outputs": [
    {
     "data": {
      "text/plain": [
       "136"
      ]
     },
     "execution_count": 23,
     "metadata": {},
     "output_type": "execute_result"
    }
   ],
   "source": [
    "circ=2*(12*4)+2*(5*4)"
   ]
  },
  {
   "cell_type": "markdown",
   "id": "0cbb90d0",
   "metadata": {},
   "source": [
    "What is the initial velocity of a rock that is thrown vertically to\n",
    "a height of $100\\,m$ before it returns to Earth? Use $g=9.8m/s^{2}$ and note that $h''(t)=-g$ for the height $h(t)$."
   ]
  },
  {
   "cell_type": "markdown",
   "id": "540a3519",
   "metadata": {},
   "source": [
    "$$\n",
    "\\begin{align}\n",
    "v(t)&=-gt+v_{0}\\\\\n",
    "h(t)&=-\\frac{1}{2}t^{2}+v_{0}t\n",
    "\\end{align}\n",
    "$$"
   ]
  },
  {
   "cell_type": "code",
   "execution_count": 24,
   "id": "64ea74c3",
   "metadata": {},
   "outputs": [
    {
     "data": {
      "text/plain": [
       "44.271887242357316"
      ]
     },
     "execution_count": 24,
     "metadata": {},
     "output_type": "execute_result"
    }
   ],
   "source": [
    "v0=sqrt(200*9.8)"
   ]
  },
  {
   "cell_type": "markdown",
   "id": "8f008c0a",
   "metadata": {},
   "source": [
    "<h3>Question 6</h3>"
   ]
  },
  {
   "cell_type": "markdown",
   "id": "1c3c73e8",
   "metadata": {},
   "source": [
    "Differentiate $f(x)=\\sqrt{3x-7}$ using the definition of the\n",
    "derivative\n",
    "$$  f'(x)=\\lim_{h\\rightarrow{}0}\\frac{f(x+h)-f(x)}{h}\\notag\n",
    "$$"
   ]
  },
  {
   "cell_type": "markdown",
   "id": "f2d27a42",
   "metadata": {},
   "source": [
    "$$\n",
    "f'(x)=\\frac{3}{2\\sqrt{3x-7}}\n",
    "$$"
   ]
  },
  {
   "cell_type": "markdown",
   "id": "883f500d",
   "metadata": {},
   "source": [
    "Find the tangent line for the following curve at the given\n",
    "point.\n",
    "$$y=\\sin(\\sin{}x)\\mbox{ at }(\\pi,0)\\notag\n",
    "$$\n",
    "$$\n",
    "y=-x+\\pi\n",
    "$$"
   ]
  },
  {
   "cell_type": "markdown",
   "id": "52b845f5",
   "metadata": {},
   "source": [
    "<h3>Question 7</h3>"
   ]
  },
  {
   "cell_type": "markdown",
   "id": "180fb423",
   "metadata": {},
   "source": [
    "The currents running through an electrical system are given\n",
    "by the following system of equations. The three currents\n",
    "$I_{1},I_{2},I_{3}$ are measured in amps. Use Cramer's rule to provide\n",
    "$I_{2}$. Do not use other methods.\n",
    "  \\begin{align}\n",
    "    \\begin{array}{clclclc}\n",
    "    I_{1} & + & 2I_{2} & - & I_{3} & = & 0.425 \\\\\n",
    "    3I_{1} & - & I_{2} & + & 2I_{3} & = & 2.225 \\\\\n",
    "    5I_{1} & + & I_{2} & + & 2I_{3} & = & 3.775\n",
    "    \\end{array}\n",
    "  \\end{align}\n"
   ]
  },
  {
   "cell_type": "code",
   "execution_count": 35,
   "id": "a7c12e40",
   "metadata": {},
   "outputs": [
    {
     "data": {
      "text/plain": [
       "-1.6"
      ]
     },
     "execution_count": 35,
     "metadata": {},
     "output_type": "execute_result"
    }
   ],
   "source": [
    "det([1 0.425 -1;3 2.225 2;5 3.775 2])"
   ]
  },
  {
   "cell_type": "code",
   "execution_count": 36,
   "id": "70df2bfb",
   "metadata": {},
   "outputs": [
    {
     "data": {
      "text/plain": [
       "-4.000000000000002"
      ]
     },
     "execution_count": 36,
     "metadata": {},
     "output_type": "execute_result"
    }
   ],
   "source": [
    "det([1 2 -1;3 -1 2;5 1 2])"
   ]
  },
  {
   "cell_type": "code",
   "execution_count": 37,
   "id": "4fc248d1",
   "metadata": {},
   "outputs": [
    {
     "data": {
      "text/plain": [
       "0.4"
      ]
     },
     "execution_count": 37,
     "metadata": {},
     "output_type": "execute_result"
    }
   ],
   "source": [
    "1.6/4"
   ]
  },
  {
   "cell_type": "markdown",
   "id": "c5abb0c8",
   "metadata": {},
   "source": [
    "<h3>Question 8</h3>"
   ]
  },
  {
   "cell_type": "markdown",
   "id": "88977902",
   "metadata": {},
   "source": [
    "Find the vertex of the following parabola\n",
    "$$  2y^{2}-\\frac{1}{2}x-12y+19=0\n",
    "$$\n"
   ]
  },
  {
   "cell_type": "markdown",
   "id": "6243499b",
   "metadata": {},
   "source": [
    "<img src=\"./diagrams/ohxaympn.png\" width=\"40%\" height=\"40%\">"
   ]
  },
  {
   "cell_type": "markdown",
   "id": "abae9daa",
   "metadata": {},
   "source": [
    "<h3>Question 9</h3>"
   ]
  },
  {
   "cell_type": "markdown",
   "id": "84187ee5",
   "metadata": {},
   "source": [
    "Find the solution set for the following system of linear\n",
    "  equations.\n",
    "$$      \\begin{array}{ccccccc}\n",
    "      2x&+&3y&-&7z&=&1 \\\\\n",
    "      x&+&4y&+&2z&=&0\n",
    "    \\end{array}\\notag\n",
    "  $$\n"
   ]
  },
  {
   "cell_type": "markdown",
   "id": "93d3da6e",
   "metadata": {},
   "source": [
    "<img src=\"./diagrams/ddpquwrg.png\" width=\"70%\" height=\"70%\">"
   ]
  },
  {
   "cell_type": "markdown",
   "id": "e284c27f",
   "metadata": {},
   "source": [
    "For any value $z$,\n",
    "$$\n",
    "x=\\frac{34z+4}{5}\\qquad{}y=\\frac{-11z-1}{5}\n",
    "$$"
   ]
  },
  {
   "cell_type": "code",
   "execution_count": 12,
   "id": "84baba54",
   "metadata": {},
   "outputs": [
    {
     "data": {
      "text/plain": [
       "-0.8"
      ]
     },
     "execution_count": 12,
     "metadata": {},
     "output_type": "execute_result"
    }
   ],
   "source": [
    "c=/(-4,5)"
   ]
  },
  {
   "cell_type": "code",
   "execution_count": 13,
   "id": "49f34928",
   "metadata": {},
   "outputs": [
    {
     "data": {
      "text/plain": [
       "0.7999999999999972"
      ]
     },
     "execution_count": 13,
     "metadata": {},
     "output_type": "execute_result"
    }
   ],
   "source": [
    "+(28,*(c,34))"
   ]
  },
  {
   "cell_type": "code",
   "execution_count": 14,
   "id": "d71866f0",
   "metadata": {},
   "outputs": [
    {
     "data": {
      "text/plain": [
       "-0.1999999999999993"
      ]
     },
     "execution_count": 14,
     "metadata": {},
     "output_type": "execute_result"
    }
   ],
   "source": [
    "+(-9,*(c,-11))"
   ]
  },
  {
   "cell_type": "markdown",
   "id": "a6caf322",
   "metadata": {},
   "source": [
    "<h3>Question 10</h3>"
   ]
  },
  {
   "cell_type": "markdown",
   "id": "a347e108",
   "metadata": {},
   "source": [
    "  Find trace and determinant for the following Hermitian matrix.\n",
    "$$    \\left[\n",
    "      \\begin{array}{ccc}\n",
    "        3 & 4-i & -\\pi{}i \\\\\n",
    "        4+i & 7 & -3+2i \\\\\n",
    "        \\pi{}i & -3-2i & -3\n",
    "      \\end{array}\\right]\n",
    "  $$\n"
   ]
  },
  {
   "cell_type": "code",
   "execution_count": 38,
   "id": "ae2c8220",
   "metadata": {},
   "outputs": [
    {
     "data": {
      "text/plain": [
       "3×3 Matrix{ComplexF64}:\n",
       " 3.0+0.0im       4.0-1.0im  -0.0-3.14159im\n",
       " 4.0+1.0im       7.0+0.0im  -3.0+2.0im\n",
       " 0.0+3.14159im  -3.0-2.0im  -3.0+0.0im"
      ]
     },
     "execution_count": 38,
     "metadata": {},
     "output_type": "execute_result"
    }
   ],
   "source": [
    "H1=[3 4-im -pi*im\n",
    "4+im 7 -3+2*im\n",
    "pi*im -3-2*im -3]"
   ]
  },
  {
   "cell_type": "code",
   "execution_count": 39,
   "id": "642d9a48",
   "metadata": {},
   "outputs": [
    {
     "data": {
      "text/plain": [
       "-189.202269186601 + 0.0im"
      ]
     },
     "execution_count": 39,
     "metadata": {},
     "output_type": "execute_result"
    }
   ],
   "source": [
    "det(H1)"
   ]
  },
  {
   "cell_type": "code",
   "execution_count": 1,
   "id": "308f6124",
   "metadata": {},
   "outputs": [],
   "source": [
    "using SymPy"
   ]
  },
  {
   "cell_type": "code",
   "execution_count": 2,
   "id": "1ec73017",
   "metadata": {},
   "outputs": [
    {
     "data": {
      "text/plain": [
       "(p,)"
      ]
     },
     "execution_count": 2,
     "metadata": {},
     "output_type": "execute_result"
    }
   ],
   "source": [
    "@vars p"
   ]
  },
  {
   "cell_type": "code",
   "execution_count": 3,
   "id": "692932ec",
   "metadata": {},
   "outputs": [
    {
     "data": {
      "text/latex": [
       "$\\left[ \\begin{array}{rrr}3&4 - i&- i p\\\\4 + i&7&-3 + 2 i\\\\i p&-3 - 2 i&-3\\end{array}\\right]$\n"
      ],
      "text/plain": [
       "3×3 Matrix{Sym}:\n",
       "     3     4 - ⅈ      -ⅈ⋅p\n",
       " 4 + ⅈ         7  -3 + 2⋅ⅈ\n",
       "   ⅈ⋅p  -3 - 2⋅ⅈ        -3"
      ]
     },
     "execution_count": 3,
     "metadata": {},
     "output_type": "execute_result"
    }
   ],
   "source": [
    "H2=[3 4-im -p*im\n",
    "4+im 7 -3+2*im\n",
    "p*im -3-2*im -3]"
   ]
  },
  {
   "cell_type": "code",
   "execution_count": 5,
   "id": "62c98106",
   "metadata": {},
   "outputs": [],
   "source": [
    "using LinearAlgebra"
   ]
  },
  {
   "cell_type": "code",
   "execution_count": 6,
   "id": "8a2e569e",
   "metadata": {},
   "outputs": [
    {
     "name": "stderr",
     "output_type": "stream",
     "text": [
      "┌ Warning: `vendor()` is deprecated, use `BLAS.get_config()` and inspect the output instead\n",
      "│   caller = npyinitialize() at numpy.jl:67\n",
      "└ @ PyCall /home/ec2-user/.julia/packages/PyCall/L0fLP/src/numpy.jl:67\n"
     ]
    },
    {
     "data": {
      "text/latex": [
       "$- 7 p^{2} - 22 p - 51$"
      ],
      "text/plain": [
       "     2            \n",
       "- 7⋅p  - 22⋅p - 51"
      ]
     },
     "execution_count": 6,
     "metadata": {},
     "output_type": "execute_result"
    }
   ],
   "source": [
    "det(H2)"
   ]
  },
  {
   "cell_type": "code",
   "execution_count": 7,
   "id": "1df119de",
   "metadata": {},
   "outputs": [
    {
     "data": {
      "text/plain": [
       "-189.20226918660094"
      ]
     },
     "execution_count": 7,
     "metadata": {},
     "output_type": "execute_result"
    }
   ],
   "source": [
    "(-7)*pi^2-22*pi-51"
   ]
  }
 ],
 "metadata": {
  "kernelspec": {
   "display_name": "Julia 1.7.2",
   "language": "julia",
   "name": "julia-1.7"
  },
  "language_info": {
   "file_extension": ".jl",
   "mimetype": "application/julia",
   "name": "julia",
   "version": "1.7.2"
  }
 },
 "nbformat": 4,
 "nbformat_minor": 5
}
