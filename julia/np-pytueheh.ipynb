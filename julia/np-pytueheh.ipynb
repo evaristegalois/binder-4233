{
 "cells": [
  {
   "cell_type": "markdown",
   "metadata": {
    "collapsed": false
   },
   "source": [
    "<h4>\n",
    "    Snowplow\n",
    "</h4>"
   ]
  },
  {
   "cell_type": "markdown",
   "metadata": {
    "collapsed": false
   },
   "source": [
    "Early one morning it began to snow at a constant rate. At 7am a snowplow set off to clear the road. By 8am it had traveled $2$ miles, but it took $2$ more hours (until 10am) for the snowplow to go an additional $2$ miles. What time did it start snowing?"
   ]
  },
  {
   "cell_type": "markdown",
   "metadata": {
    "collapsed": false
   },
   "source": [
    "The velocity of the snowplow is inversely proportional to the height of the snow cover, which is directly proportional to the time. Therefore $$\\frac{dx}{dt}=k\\cdot\\frac{1}{t}$$ Consequently, $$x(t)=k\\ln{}t+C$$ We also know that $$\\begin{array}{rcl}x(T+3)-x(T+1)&=&2\\\\x(T+1)-x(T)&=&2\\end{array}$$ where $T$ is the number of hours after it started snowing and it is 7am at $T$. Solve this system for $T=1$ and $k=\\frac{1}{\\ln\\sqrt{2}}$ (units are miles and hours). Therefore, it started snowing at 6am."
   ]
  }
 ],
 "metadata": {
  "kernelspec": {
   "display_name": "Julia 1.6",
   "env": {
    "JULIA_DEPOT_PATH": "/home/user/.julia/:/ext/julia/depot/",
    "JULIA_PROJECT": "/home/user/.julia/environment/v1.6"
   },
   "language": "julia",
   "metadata": {
    "cocalc": {
     "description": "The Julia Programming Language",
     "priority": 10,
     "url": "https://julialang.org/"
    }
   },
   "name": "julia-1.6",
   "resource_dir": "/ext/jupyter/kernels/julia-1.6"
  }
 },
 "nbformat": 4,
 "nbformat_minor": 4
}