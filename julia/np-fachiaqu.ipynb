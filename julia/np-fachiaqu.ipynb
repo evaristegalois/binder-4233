{
 "cells": [
  {
   "cell_type": "markdown",
   "metadata": {
    "collapsed": false
   },
   "source": [
    "<h4>Assignment 1 Problem 3: Whistler Peak2Peak</h4>"
   ]
  },
  {
   "cell_type": "markdown",
   "metadata": {
    "collapsed": false
   },
   "source": [
    "The horizontal and vertical balancing equations (which make sense intuitively as the cable is resting) give us\n",
    "$$\n",
    "W(x)=T_{0}\\tan\\theta(x)=T_{0}\\frac{dy}{dx}\n",
    "$$"
   ]
  },
  {
   "cell_type": "markdown",
   "metadata": {
    "collapsed": false
   },
   "source": [
    "To put $W$ in terms of $x$ and $y$, reason as follows with $s(x)=\\int_{0}^{x}\\sqrt{1+\\left(\\frac{dy}{d{}\\xi}\\right)^{2}}\\,d\\xi$ and, by the FTOC, $s'(x)=\\sqrt{1+\\left(\\frac{dy}{dx}\\right)^{2}}$\n",
    "$$\n",
    "\\frac{dW}{dx}=\\lim_{h\\rightarrow{}0}\\frac{\\mu\\int_{x}^{x+h}\\sqrt{1+\\left(\\frac{dy}{d{}\\xi}\\right)^{2}}\\,d\\xi}{h}=\\mu{}s'(x)=\\mu\\sqrt{1+\\left(\\frac{dy}{dx}\\right)^{2}}\n",
    "$$"
   ]
  },
  {
   "cell_type": "markdown",
   "metadata": {
    "collapsed": false
   },
   "source": [
    "Therefore,\n",
    "$$\n",
    "T_{0}\\frac{d^{2}y}{dx^{2}}=\\mu\\sqrt{1+\\left(\\frac{dy}{dx}\\right)^{2}}\n",
    "$$\n",
    "or, for $p=\\frac{dy}{dx}$,\n",
    "$$\n",
    "\\frac{dp}{dx}=\\frac{\\mu}{T_{0}}\\sqrt{1+p^{2}}\n",
    "$$\n",
    "$$\n",
    "\\frac{1}{\\sqrt{1+p^{2}}}\\,dp=\\frac{\\mu}{T_{0}}\\,dx\n",
    "$$\n",
    "$$\n",
    "\\operatorname{arcsinh}(p)=\\frac{\\mu}{T_{0}}x+C_{1}\n",
    "$$\n",
    "$$\n",
    "p=\\sinh\\left(\\frac{\\mu}{T_{0}}x+C_{1}\\right)\n",
    "$$\n",
    "$C_{1}=0$ because $p(0)=0$, therefore\n",
    "$$\n",
    "\\frac{dy}{dx}=\\sinh\\left(\\frac{\\mu}{T_{0}}x\\right)\n",
    "$$\n",
    "and\n",
    "$$\n",
    "y(x)=\\frac{T_{0}}{\\mu}\\cosh\\left(\\frac{\\mu}{T_{0}}x\\right)+C_{2}\n",
    "$$\n",
    "$y(0)=0$ implies\n",
    "$$\n",
    "y(x)=\\frac{T_{0}}{\\mu}\\cosh\\left(\\frac{\\mu}{T_{0}}x\\right)-\\frac{T_{0}}{\\mu}\n",
    "$$\n",
    "or\n",
    "$$\n",
    "y(x)=a\\cosh\\left(\\frac{x}{a}\\right)-a\n",
    "$$\n",
    "for some constant $a$ that you can easily calculate by measuring the coordinates of the support points for the cable.\n"
   ]
  }
 ],
 "metadata": {
  "kernelspec": {
   "display_name": "Julia 1.6",
   "env": {
    "JULIA_DEPOT_PATH": "/home/user/.julia/:/ext/julia/depot/",
    "JULIA_PROJECT": "/home/user/.julia/environment/v1.6"
   },
   "language": "julia",
   "metadata": {
    "cocalc": {
     "description": "The Julia Programming Language",
     "priority": 10,
     "url": "https://julialang.org/"
    }
   },
   "name": "julia-1.6",
   "resource_dir": "/ext/jupyter/kernels/julia-1.6"
  },
  "language_info": {
   "file_extension": ".jl",
   "mimetype": "application/julia",
   "name": "julia",
   "version": "1.6.3"
  }
 },
 "nbformat": 4,
 "nbformat_minor": 4
}