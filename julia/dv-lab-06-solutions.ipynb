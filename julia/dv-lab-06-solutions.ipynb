{
 "cells": [
  {
   "cell_type": "markdown",
   "metadata": {},
   "source": [
    "<h3>\n",
    "    Lab Sheet 6 Solutions\n",
    "</h3>"
   ]
  },
  {
   "cell_type": "markdown",
   "metadata": {},
   "source": [
    "<h5>\n",
    "    Lab Sheet 6 Problem 1\n",
    "</h5>"
   ]
  },
  {
   "cell_type": "markdown",
   "metadata": {},
   "source": [
    "Suppose you wish to measure the friction a mass of $0.1\\,kg$\n",
    "experiences as it slides along a floor (you wish to find $c$ in\n",
    "$mx''+cx'+kx=0$). You have a spring with spring constant $k=5\\,N/m$.\n",
    "You take the spring, you attach it to the mass and fix it to a wall.\n",
    "Then you pull on the spring and let the mass go. You find that the\n",
    "mass oscillates with frequency $1\\,Hz$. What is the friction?"
   ]
  },
  {
   "cell_type": "code",
   "execution_count": 29,
   "metadata": {},
   "outputs": [
    {
     "data": {
      "text/plain": [
       "0.6487397751222772"
      ]
     },
     "execution_count": 29,
     "metadata": {},
     "output_type": "execute_result"
    }
   ],
   "source": [
    "c=sqrt(2-(2*pi/5)^2)"
   ]
  },
  {
   "cell_type": "markdown",
   "metadata": {},
   "source": [
    "<h5>\n",
    "    Lab Sheet 6 Problem 2\n",
    "</h5>"
   ]
  },
  {
   "cell_type": "markdown",
   "metadata": {},
   "source": [
    "The acceleration of a Maserati is proportional to the\n",
    "difference between $250\\,km/h$ and the velocity of this sports car. If\n",
    "this machine can accelerate from rest to $100\\,km/h$ in $10\\,s$, how long\n",
    "will it take for the car to accelerate from rest to $200\\,km/h$?"
   ]
  },
  {
   "cell_type": "markdown",
   "metadata": {},
   "source": [
    "The differential equation is\n",
    "$$\n",
    "v'+kv=250k\n",
    "$$\n",
    "with $v(0)=0$ and $v\\left(\\frac{10}{3600}\\right)=100$. Solve for\n",
    "$$\n",
    "v(t)=250-250e^{-kt}\n",
    "$$"
   ]
  },
  {
   "cell_type": "code",
   "execution_count": 3,
   "metadata": {},
   "outputs": [
    {
     "data": {
      "text/plain": [
       "0.051082562376599076"
      ]
     },
     "execution_count": 3,
     "metadata": {},
     "output_type": "execute_result"
    }
   ],
   "source": [
    "k=(-1/10)*log((100-250)/(-250))"
   ]
  },
  {
   "cell_type": "markdown",
   "metadata": {},
   "source": [
    "Now solve for $t_{1}$ in $v(t_{1})=200$."
   ]
  },
  {
   "cell_type": "code",
   "execution_count": 4,
   "metadata": {},
   "outputs": [
    {
     "data": {
      "text/plain": [
       "31.50660103087123"
      ]
     },
     "execution_count": 4,
     "metadata": {},
     "output_type": "execute_result"
    }
   ],
   "source": [
    "t1=(-1/k)*log((200-250)/-250)"
   ]
  },
  {
   "cell_type": "markdown",
   "metadata": {},
   "source": [
    "It will take about $31.5\\,s$."
   ]
  },
  {
   "cell_type": "markdown",
   "metadata": {},
   "source": [
    "<h5>\n",
    "    Lab Sheet 6 Problem 3\n",
    "</h5>"
   ]
  },
  {
   "cell_type": "markdown",
   "metadata": {},
   "source": [
    "A woman bails out of an airplane at an altitude of 10,000\n",
    "feet, falls freely for $20\\,s$, then opens her parachute. How long\n",
    "will it take her to reach the ground? Assume linear air resistance\n",
    "$\\rho{}v\\,ft/s^{2}$, taking $\\rho=0.15$ without the parachute and\n",
    "$\\rho=1.5$ with the parachute."
   ]
  },
  {
   "cell_type": "markdown",
   "metadata": {},
   "source": [
    "Without parachute:\n",
    "$$\n",
    "v_{1}'+0.15v_{1}=-g\n",
    "$$\n",
    "and $v_{1}(0)=0$. therefore\n",
    "$$\n",
    "v_{1}(t)=-\\frac{g}{0.15}+\\frac{g}{0.15}e^{-0.15t}\n",
    "$$\n",
    "Integrate and set $x_{1}(0)=10000$ for the displacement function\n",
    "$$\n",
    "x_{1}(t)=-\\frac{g}{0.15}t-\\frac{g}{0.15^{2}}e^{-0.15t}+10000+\\frac{g}{0.15^{2}}\n",
    "$$"
   ]
  },
  {
   "cell_type": "code",
   "execution_count": 5,
   "metadata": {},
   "outputs": [
    {
     "data": {
      "text/plain": [
       "32"
      ]
     },
     "execution_count": 5,
     "metadata": {},
     "output_type": "execute_result"
    }
   ],
   "source": [
    "g=32"
   ]
  },
  {
   "cell_type": "code",
   "execution_count": 7,
   "metadata": {},
   "outputs": [
    {
     "data": {
      "text/plain": [
       "0.15"
      ]
     },
     "execution_count": 7,
     "metadata": {},
     "output_type": "execute_result"
    }
   ],
   "source": [
    "rr1=0.15"
   ]
  },
  {
   "cell_type": "code",
   "execution_count": 20,
   "metadata": {},
   "outputs": [
    {
     "data": {
      "text/plain": [
       "x1 (generic function with 1 method)"
      ]
     },
     "execution_count": 20,
     "metadata": {},
     "output_type": "execute_result"
    }
   ],
   "source": [
    "x1(t)=-(g/rr1)*t-(g/(rr1^2))*exp(-rr1*t)+10000+(g/(0.15^2))"
   ]
  },
  {
   "cell_type": "code",
   "execution_count": 24,
   "metadata": {},
   "outputs": [
    {
     "data": {
      "text/plain": [
       "7084.747280543483"
      ]
     },
     "execution_count": 24,
     "metadata": {},
     "output_type": "execute_result"
    }
   ],
   "source": [
    "h1=x1(20)"
   ]
  },
  {
   "cell_type": "code",
   "execution_count": 22,
   "metadata": {},
   "outputs": [
    {
     "data": {
      "text/plain": [
       "v1 (generic function with 1 method)"
      ]
     },
     "execution_count": 22,
     "metadata": {},
     "output_type": "execute_result"
    }
   ],
   "source": [
    "v1(t)=(-g/rr1)+(g/rr1)*exp(-rr1*t)"
   ]
  },
  {
   "cell_type": "code",
   "execution_count": 28,
   "metadata": {},
   "outputs": [
    {
     "data": {
      "text/plain": [
       "-202.71209208152237"
      ]
     },
     "execution_count": 28,
     "metadata": {},
     "output_type": "execute_result"
    }
   ],
   "source": [
    "vh1=v1(20)"
   ]
  },
  {
   "cell_type": "markdown",
   "metadata": {},
   "source": [
    "She is falling at $203\\,ft/s$ when her parachute deploys at a height of $7085\\,ft$."
   ]
  },
  {
   "cell_type": "markdown",
   "metadata": {},
   "source": [
    "Repeat for $\\rho_{2}=1.5$. Therefore,\n",
    "$$\n",
    "v_{2}(t)=-\\frac{g}{1.5}+C_{2}e^{-1.5t}\n",
    "$$"
   ]
  },
  {
   "cell_type": "code",
   "execution_count": 26,
   "metadata": {},
   "outputs": [
    {
     "data": {
      "text/plain": [
       "1.5"
      ]
     },
     "execution_count": 26,
     "metadata": {},
     "output_type": "execute_result"
    }
   ],
   "source": [
    "rr2=1.5"
   ]
  },
  {
   "cell_type": "code",
   "execution_count": 35,
   "metadata": {},
   "outputs": [
    {
     "data": {
      "text/plain": [
       "-1.9382994949909798e15"
      ]
     },
     "execution_count": 35,
     "metadata": {},
     "output_type": "execute_result"
    }
   ],
   "source": [
    "C2=(vh1+(g/rr2))*exp(rr2*20)"
   ]
  },
  {
   "cell_type": "code",
   "execution_count": 36,
   "metadata": {},
   "outputs": [
    {
     "data": {
      "text/plain": [
       "v2 (generic function with 1 method)"
      ]
     },
     "execution_count": 36,
     "metadata": {},
     "output_type": "execute_result"
    }
   ],
   "source": [
    "v2(t)=-(g/rr2)+C2*exp(-rr2*t)"
   ]
  },
  {
   "cell_type": "markdown",
   "metadata": {},
   "source": [
    "Integrate and set $x_{2}(20)=7085$ for the constant of integration.\n",
    "$$\n",
    "x_{2}(t)=-\\frac{g}{1.5}t-\\frac{C_{2}}{1.5}e^{-1.5t}+C_{3}\n",
    "$$"
   ]
  },
  {
   "cell_type": "code",
   "execution_count": 38,
   "metadata": {},
   "outputs": [
    {
     "data": {
      "text/plain": [
       "7390.494774711357"
      ]
     },
     "execution_count": 38,
     "metadata": {},
     "output_type": "execute_result"
    }
   ],
   "source": [
    "C3=h1+(g/rr2)*20+(C2/rr2)*exp(-rr2*20)"
   ]
  },
  {
   "cell_type": "code",
   "execution_count": 39,
   "metadata": {},
   "outputs": [
    {
     "data": {
      "text/plain": [
       "x2 (generic function with 1 method)"
      ]
     },
     "execution_count": 39,
     "metadata": {},
     "output_type": "execute_result"
    }
   ],
   "source": [
    "x2(t)=(-g/rr2)*t-(C2/rr2)*exp(-rr2*t)+C3"
   ]
  },
  {
   "cell_type": "code",
   "execution_count": 41,
   "metadata": {},
   "outputs": [],
   "source": [
    "using Roots"
   ]
  },
  {
   "cell_type": "code",
   "execution_count": 42,
   "metadata": {},
   "outputs": [
    {
     "data": {
      "text/plain": [
       "346.4294425645949"
      ]
     },
     "execution_count": 42,
     "metadata": {},
     "output_type": "execute_result"
    }
   ],
   "source": [
    "find_zero(x2,60)"
   ]
  },
  {
   "cell_type": "markdown",
   "metadata": {},
   "source": [
    "She reaches the ground after about 5 minutes and 46 seconds."
   ]
  },
  {
   "cell_type": "markdown",
   "metadata": {},
   "source": [
    "<h5>\n",
    "    Lab Sheet 6 Problem 4\n",
    "</h5>"
   ]
  },
  {
   "cell_type": "markdown",
   "metadata": {},
   "source": [
    "Suppose that you are stranded---your rocket engine has\n",
    "failed---on an asteroid of diameter 3 miles, with density equal to\n",
    "that of the earth with radius 3960 miles. If you have enough spring in\n",
    "your legs to jump 4 feet straight up on earth while wearing your space\n",
    "suit, can you blast off from this asteroid using leg power alone?"
   ]
  },
  {
   "cell_type": "code",
   "execution_count": 43,
   "metadata": {},
   "outputs": [
    {
     "data": {
      "text/plain": [
       "0.3048"
      ]
     },
     "execution_count": 43,
     "metadata": {},
     "output_type": "execute_result"
    }
   ],
   "source": [
    "ft2m=0.3048"
   ]
  },
  {
   "cell_type": "code",
   "execution_count": 44,
   "metadata": {},
   "outputs": [
    {
     "data": {
      "text/plain": [
       "1.2192"
      ]
     },
     "execution_count": 44,
     "metadata": {},
     "output_type": "execute_result"
    }
   ],
   "source": [
    "j=4*ft2m"
   ]
  },
  {
   "cell_type": "markdown",
   "metadata": {},
   "source": [
    "Let's model the 4-ft jump on Earth in order to find the initial velocity that my legs can apply to my mass. \n",
    "$$\n",
    "x_{1}(t)=-\\frac{g}{2}t^{2}+C_{1}t+C_{2}\\qquad{}v_{1}(t)=-gt+C_{1}\n",
    "$$\n",
    "as usual by integrating $x''=-g$. Plug in $x_{1}(0)=0$ for $C_{2}=0$. For $C_{1}$ and the time $t_{1}$ when the velocity has decreased to zero after 4 feet, consider\n",
    "$$\n",
    "-\\frac{g}{2}t_{1}^{2}+C_{1}t_{1}=1.22\n",
    "$$\n",
    "$$\n",
    "-gt_{1}+C_{1}=0\n",
    "$$"
   ]
  },
  {
   "cell_type": "code",
   "execution_count": 142,
   "metadata": {},
   "outputs": [],
   "source": [
    "using NLsolve"
   ]
  },
  {
   "cell_type": "code",
   "execution_count": 143,
   "metadata": {},
   "outputs": [
    {
     "data": {
      "text/plain": [
       "9.8"
      ]
     },
     "execution_count": 143,
     "metadata": {},
     "output_type": "execute_result"
    }
   ],
   "source": [
    "g=9.8"
   ]
  },
  {
   "cell_type": "code",
   "execution_count": 47,
   "metadata": {},
   "outputs": [
    {
     "data": {
      "text/plain": [
       "f! (generic function with 1 method)"
      ]
     },
     "execution_count": 47,
     "metadata": {},
     "output_type": "execute_result"
    }
   ],
   "source": [
    "function f!(F, x)\n",
    "    F[1]=(-g/2)*x[1]^2+x[2]*x[1]-j\n",
    "    F[2]=(-g)*x[1]+x[2]\n",
    "end"
   ]
  },
  {
   "cell_type": "code",
   "execution_count": 51,
   "metadata": {},
   "outputs": [
    {
     "data": {
      "text/plain": [
       "Results of Nonlinear Solver Algorithm\n",
       " * Algorithm: Trust-region with dogleg and autoscaling\n",
       " * Starting Point: [3.0, 3.0]\n",
       " * Zero: [0.4988149221226865, 4.8883862368023285]\n",
       " * Inf-norm of residuals: 0.000000\n",
       " * Iterations: 8\n",
       " * Convergence: true\n",
       "   * |x - x'| < 0.0e+00: false\n",
       "   * |f(x)| < 1.0e-08: true\n",
       " * Function Calls (f): 9\n",
       " * Jacobian Calls (df/dx): 7"
      ]
     },
     "execution_count": 51,
     "metadata": {},
     "output_type": "execute_result"
    }
   ],
   "source": [
    "solution1=nlsolve(f!, [3.0;3.0])"
   ]
  },
  {
   "cell_type": "code",
   "execution_count": 52,
   "metadata": {},
   "outputs": [
    {
     "data": {
      "text/plain": [
       "0.4988149221226865"
      ]
     },
     "execution_count": 52,
     "metadata": {},
     "output_type": "execute_result"
    }
   ],
   "source": [
    "t1=solution1.zero[1]"
   ]
  },
  {
   "cell_type": "code",
   "execution_count": 53,
   "metadata": {},
   "outputs": [
    {
     "data": {
      "text/plain": [
       "4.8883862368023285"
      ]
     },
     "execution_count": 53,
     "metadata": {},
     "output_type": "execute_result"
    }
   ],
   "source": [
    "C1=solution1.zero[2]"
   ]
  },
  {
   "cell_type": "code",
   "execution_count": 60,
   "metadata": {},
   "outputs": [
    {
     "data": {
      "text/plain": [
       "v1 (generic function with 1 method)"
      ]
     },
     "execution_count": 60,
     "metadata": {},
     "output_type": "execute_result"
    }
   ],
   "source": [
    "v1(t)=-g*t+C1"
   ]
  },
  {
   "cell_type": "code",
   "execution_count": 62,
   "metadata": {},
   "outputs": [
    {
     "data": {
      "text/plain": [
       "4.8883862368023285"
      ]
     },
     "execution_count": 62,
     "metadata": {},
     "output_type": "execute_result"
    }
   ],
   "source": [
    "v1(0) # in m/s"
   ]
  },
  {
   "cell_type": "markdown",
   "metadata": {},
   "source": [
    "Is this enough velocity to escape the asteroid?"
   ]
  },
  {
   "cell_type": "code",
   "execution_count": 64,
   "metadata": {},
   "outputs": [
    {
     "data": {
      "text/plain": [
       "6.6726e-11"
      ]
     },
     "execution_count": 64,
     "metadata": {},
     "output_type": "execute_result"
    }
   ],
   "source": [
    "G=6.6726e-11"
   ]
  },
  {
   "cell_type": "code",
   "execution_count": 66,
   "metadata": {},
   "outputs": [
    {
     "data": {
      "text/plain": [
       "1609.344"
      ]
     },
     "execution_count": 66,
     "metadata": {},
     "output_type": "execute_result"
    }
   ],
   "source": [
    "mi2m=1609.344"
   ]
  },
  {
   "cell_type": "code",
   "execution_count": 89,
   "metadata": {},
   "outputs": [
    {
     "data": {
      "text/plain": [
       "2414.016"
      ]
     },
     "execution_count": 89,
     "metadata": {},
     "output_type": "execute_result"
    }
   ],
   "source": [
    "R=1.5*mi2m"
   ]
  },
  {
   "cell_type": "code",
   "execution_count": 69,
   "metadata": {},
   "outputs": [
    {
     "data": {
      "text/plain": [
       "5.975e24"
      ]
     },
     "execution_count": 69,
     "metadata": {},
     "output_type": "execute_result"
    }
   ],
   "source": [
    "earthmass=5.975e24"
   ]
  },
  {
   "cell_type": "code",
   "execution_count": 93,
   "metadata": {},
   "outputs": [
    {
     "data": {
      "text/plain": [
       "3.2473277889083675e14"
      ]
     },
     "execution_count": 93,
     "metadata": {},
     "output_type": "execute_result"
    }
   ],
   "source": [
    "M=earthmass*(1.5/3960)^3"
   ]
  },
  {
   "cell_type": "code",
   "execution_count": 94,
   "metadata": {},
   "outputs": [
    {
     "data": {
      "text/plain": [
       "4.23697143217057"
      ]
     },
     "execution_count": 94,
     "metadata": {},
     "output_type": "execute_result"
    }
   ],
   "source": [
    "sqrt(2*G*M/R)"
   ]
  },
  {
   "cell_type": "markdown",
   "metadata": {},
   "source": [
    "Yes, it is! $4.89>4.24$."
   ]
  },
  {
   "cell_type": "markdown",
   "metadata": {},
   "source": [
    "<h5>\n",
    "    Lab Sheet 6 Problem 5\n",
    "</h5>"
   ]
  },
  {
   "cell_type": "markdown",
   "metadata": {},
   "source": [
    "The V-2 rocket that was used to attack London in World War II had an\n",
    "initial mass of 12,850 kilograms, of which 68.5\\% was fuel. This fuel\n",
    "burned uniformly for 70 seconds with an exhaust velocity of $2\\,km/s$.\n",
    "Assume it encounters air resistance of $1.45\\,N$ per $m/s$ of\n",
    "velocity. Then find the velocity and altitude of the V-2 at burnout\n",
    "under the assumption that it is launched vertically upward from rest\n",
    "on the ground."
   ]
  },
  {
   "cell_type": "markdown",
   "metadata": {},
   "source": [
    "The rocket propulsion equation is\n",
    "$$  m\\frac{dv}{dt}+c\\frac{dm}{dt}=-mg-kv\\notag\n",
    "$$\n",
    "where $m(t)$ is the mass of the rocket, $c$ is the speed at which\n",
    "exhaust gases are expelled, and $-kv$ is air resistance. It is\n",
    "recommended to use the following: $m_{0}$ for the initial mass and\n",
    "$\\beta=-m'$.\n"
   ]
  },
  {
   "cell_type": "code",
   "execution_count": 72,
   "metadata": {},
   "outputs": [
    {
     "data": {
      "text/plain": [
       "12850"
      ]
     },
     "execution_count": 72,
     "metadata": {},
     "output_type": "execute_result"
    }
   ],
   "source": [
    "m0=12850"
   ]
  },
  {
   "cell_type": "code",
   "execution_count": 109,
   "metadata": {},
   "outputs": [
    {
     "data": {
      "text/plain": [
       "8802.25"
      ]
     },
     "execution_count": 109,
     "metadata": {},
     "output_type": "execute_result"
    }
   ],
   "source": [
    "mm=m0*0.685"
   ]
  },
  {
   "cell_type": "code",
   "execution_count": 115,
   "metadata": {},
   "outputs": [
    {
     "data": {
      "text/plain": [
       "125.74642857142857"
      ]
     },
     "execution_count": 115,
     "metadata": {},
     "output_type": "execute_result"
    }
   ],
   "source": [
    "bb=mm/70"
   ]
  },
  {
   "cell_type": "code",
   "execution_count": 112,
   "metadata": {},
   "outputs": [
    {
     "data": {
      "text/plain": [
       "2000"
      ]
     },
     "execution_count": 112,
     "metadata": {},
     "output_type": "execute_result"
    }
   ],
   "source": [
    "c=2000"
   ]
  },
  {
   "cell_type": "code",
   "execution_count": 114,
   "metadata": {},
   "outputs": [
    {
     "data": {
      "text/plain": [
       "1.45"
      ]
     },
     "execution_count": 114,
     "metadata": {},
     "output_type": "execute_result"
    }
   ],
   "source": [
    "k=1.45"
   ]
  },
  {
   "cell_type": "code",
   "execution_count": 113,
   "metadata": {},
   "outputs": [
    {
     "data": {
      "text/plain": [
       "9.8"
      ]
     },
     "execution_count": 113,
     "metadata": {},
     "output_type": "execute_result"
    }
   ],
   "source": [
    "g=9.8"
   ]
  },
  {
   "cell_type": "code",
   "execution_count": 82,
   "metadata": {},
   "outputs": [
    {
     "data": {
      "text/plain": [
       "m (generic function with 1 method)"
      ]
     },
     "execution_count": 82,
     "metadata": {},
     "output_type": "execute_result"
    }
   ],
   "source": [
    "m(t)=m0-(mm/70)*t"
   ]
  },
  {
   "cell_type": "markdown",
   "metadata": {},
   "source": [
    "$$\n",
    "(m_{0}-\\beta{}t)\\frac{dv}{dt}+kv=\\beta{}c-(m_{0}-\\beta{}t)g\n",
    "$$\n",
    "Substitute $\\tau=m_{0}-\\beta{}t$ and $d\\tau=-\\beta{}dt$ for\n",
    "$$\n",
    "\\frac{dv}{d\\tau}-\\frac{k}{\\beta\\tau}v=\\frac{g}{\\beta}-\\frac{c}{\\tau}\n",
    "$$\n",
    "The integrating factor is $\\tau^{-\\frac{k}{\\beta}}$ for\n",
    "$$\n",
    "v=\\tau^{\\frac{k}{\\beta}}\\frac{g}{\\beta}\\int\\tau^{-\\frac{k}{\\beta}}\\,d\\tau-\\tau^{\\frac{k}{\\beta}}c\\int\\tau^{-1-\\frac{k}{\\beta}}\\,d\\tau=\\frac{g(m_{0}-\\beta{}t)}{\\beta-k}+\\frac{c\\beta}{k}+C_{1}(m_{0}-\\beta{}t)^{\\frac{k}{\\beta}}\n",
    "$$\n",
    "Since $v(0)=0$,\n",
    "$$\n",
    "C_{1}=-\\frac{\\beta(\\beta-k)c+km_{0}g}{k(\\beta-k)m_{0}^{k/\\beta}}\n",
    "$$"
   ]
  },
  {
   "cell_type": "markdown",
   "metadata": {},
   "source": [
    "Integrate for the altitude as a function of time,\n",
    "$$\n",
    "x(t)=\\frac{\\beta{}ct}{k}+\\frac{g}{\\beta-k}\\left(m_{0}t-\\frac{1}{2}\\beta{}t^{2}\\right)-\\frac{C_{1}}{k+\\beta}\\left(m_{0}-\\beta{}t\\right)^{(k+\\beta)/\\beta}+C_{2}\n",
    "$$\n",
    "with\n",
    "$$\n",
    "C_{2}=\\frac{C_{1}m_{0}^{(k+\\beta)/\\beta}}{k+\\beta}\n",
    "$$\n",
    "as $x(0)=0$."
   ]
  },
  {
   "cell_type": "markdown",
   "metadata": {},
   "source": [
    "<img src=\"./diagrams/geynhhmi.png\" width=\"30%\" height=\"30%\">"
   ]
  },
  {
   "cell_type": "markdown",
   "metadata": {},
   "source": [
    "The altitude at $t=70$ is about $41.5\\,km$; the velocity is $1614\\,m/s$."
   ]
  },
  {
   "cell_type": "markdown",
   "metadata": {},
   "source": [
    "<h5>\n",
    "    Lab Sheet 6 Problem 6\n",
    "</h5>"
   ]
  },
  {
   "cell_type": "markdown",
   "metadata": {},
   "source": [
    "Let $L$ be an operator with\n",
    "$$  Ly=y''+py'+qy\\notag\n",
    "$$\n",
    "Suppose that $y_{1}$ and $y_{2}$ are two functions such that\n",
    "$$  Ly_{1}=f(x)\\mbox{ and }Ly_{2}=g(x)\\notag\n",
    "$$\n",
    "Show that their sum $y=y_{1}+y_{2}$ satisfies the nonhomogeneous\n",
    "equation\n",
    "$$  Ly=f(x)+g(x)\\notag\n",
    "$$"
   ]
  },
  {
   "cell_type": "markdown",
   "metadata": {},
   "source": [
    "$$\n",
    "L(y_{1}+y_{2})=Ly_{1}+Ly_{2}\n",
    "$$\n",
    "by linearity of differentiation."
   ]
  },
  {
   "cell_type": "markdown",
   "metadata": {},
   "source": [
    "<h5>\n",
    "    Lab Sheet 6 Problem 7\n",
    "</h5>"
   ]
  },
  {
   "cell_type": "markdown",
   "metadata": {},
   "source": [
    "Verify that $y_{1}=x$ and $y_{2}=x^{2}$ are linearly independent\n",
    "solutions on the entire real line of the equation\n",
    "$$  x^{2}y''-2xy'+2y=0\\notag\n",
    "$$\n",
    "but that $W(x)$ vanishes at $x=0$. Why do these observations not\n",
    "contradict Theorem 3?"
   ]
  },
  {
   "cell_type": "markdown",
   "metadata": {},
   "source": [
    "The verification is trivial. To fulfill the assumptions of Theorem 3, we need to divide the equation by $x^{2}$, which we can only do if we guarantee that $x\\neq{}0$."
   ]
  },
  {
   "cell_type": "markdown",
   "metadata": {},
   "source": [
    "<h5>\n",
    "    Lab Sheet 6 Problem 8\n",
    "</h5>"
   ]
  },
  {
   "cell_type": "markdown",
   "metadata": {},
   "source": [
    "Two pendulums are of lengths $L_{1}$ and $L_{1}$ and---when\n",
    "located at the respective distances $R_{1}$ and $R_{2}$ from the\n",
    "centre of the earth---have periods $p_{1}$ and $p_{2}$. Show that\n",
    "$$  \\frac{p_{1}}{p_{2}}=\\frac{R_{1}\\sqrt{L_{1}}}{R_{2}\\sqrt{L_{2}}}\\notag\n",
    "$$\n",
    "\n",
    "A certain pendulum keeps perfect time in Paris, where the radius of\n",
    "the earth is $R=3956$ (mi). But this clock loses two minutes and forty\n",
    "seconds per day at a location on the equator. Find the amount of the\n",
    "equatorial bulge of the earth."
   ]
  },
  {
   "cell_type": "markdown",
   "metadata": {},
   "source": [
    "Gravitational force is $\\frac{GMm}{r^{2}}$, therefore gravitational acceleration is $\\frac{GM}{r^{2}}$. The period of a pendulum is $\\frac{2\\pi\\sqrt{L}}{\\sqrt{g}}$. Therefore\n",
    "$$\n",
    "\\frac{p_{1}}{p_{2}}=\\frac{2\\pi\\sqrt{L_{1}g_{2}}}{2\\pi\\sqrt{L_{2}g_{1}}}=\\frac{R_{1}\\sqrt{L_{1}}}{R_{2}\\sqrt{L_{2}}}\\notag\n",
    "$$"
   ]
  },
  {
   "cell_type": "code",
   "execution_count": 99,
   "metadata": {},
   "outputs": [
    {
     "data": {
      "text/plain": [
       "6.6726e-11"
      ]
     },
     "execution_count": 99,
     "metadata": {},
     "output_type": "execute_result"
    }
   ],
   "source": [
    "G"
   ]
  },
  {
   "cell_type": "code",
   "execution_count": 100,
   "metadata": {},
   "outputs": [
    {
     "data": {
      "text/plain": [
       "5.975e24"
      ]
     },
     "execution_count": 100,
     "metadata": {},
     "output_type": "execute_result"
    }
   ],
   "source": [
    "earthmass"
   ]
  },
  {
   "cell_type": "code",
   "execution_count": 101,
   "metadata": {},
   "outputs": [
    {
     "data": {
      "text/plain": [
       "6.371e6"
      ]
     },
     "execution_count": 101,
     "metadata": {},
     "output_type": "execute_result"
    }
   ],
   "source": [
    "earthradius=6.371e6"
   ]
  },
  {
   "cell_type": "code",
   "execution_count": 102,
   "metadata": {},
   "outputs": [
    {
     "data": {
      "text/plain": [
       "9.822403947844721"
      ]
     },
     "execution_count": 102,
     "metadata": {},
     "output_type": "execute_result"
    }
   ],
   "source": [
    "g=(G*earthmass)/earthradius^2"
   ]
  },
  {
   "cell_type": "code",
   "execution_count": 106,
   "metadata": {},
   "outputs": [
    {
     "data": {
      "text/plain": [
       "0.9981481481481481"
      ]
     },
     "execution_count": 106,
     "metadata": {},
     "output_type": "execute_result"
    }
   ],
   "source": [
    "p1overp2=(60*60*24-160)/(60*60*24)"
   ]
  },
  {
   "cell_type": "code",
   "execution_count": 107,
   "metadata": {},
   "outputs": [
    {
     "data": {
      "text/plain": [
       "3963.339517625232"
      ]
     },
     "execution_count": 107,
     "metadata": {},
     "output_type": "execute_result"
    }
   ],
   "source": [
    "R2=3956/p1overp2"
   ]
  },
  {
   "cell_type": "code",
   "execution_count": 108,
   "metadata": {},
   "outputs": [
    {
     "data": {
      "text/plain": [
       "7.33951762523202"
      ]
     },
     "execution_count": 108,
     "metadata": {},
     "output_type": "execute_result"
    }
   ],
   "source": [
    "diff=R2-3956"
   ]
  },
  {
   "cell_type": "markdown",
   "metadata": {},
   "source": [
    "The equatorial bulge is approximately $7.3\\,mi$."
   ]
  }
 ],
 "metadata": {
  "kernelspec": {
   "display_name": "Julia 1.7.2",
   "language": "julia",
   "name": "julia-1.7"
  },
  "language_info": {
   "file_extension": ".jl",
   "mimetype": "application/julia",
   "name": "julia",
   "version": "1.7.2"
  }
 },
 "nbformat": 4,
 "nbformat_minor": 4
}
