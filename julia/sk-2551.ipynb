{
 "cells": [
  {
   "cell_type": "code",
   "execution_count": 1,
   "id": "31cccaec",
   "metadata": {},
   "outputs": [
    {
     "data": {
      "text/plain": [
       "2×2 Matrix{Int64}:\n",
       "  0   1\n",
       " -9  -6"
      ]
     },
     "execution_count": 1,
     "metadata": {},
     "output_type": "execute_result"
    }
   ],
   "source": [
    "A1=[0 1\n",
    "-9 -6]"
   ]
  },
  {
   "cell_type": "code",
   "execution_count": 2,
   "id": "c7c91d7c",
   "metadata": {},
   "outputs": [],
   "source": [
    "using SymPy"
   ]
  },
  {
   "cell_type": "code",
   "execution_count": 3,
   "id": "bda61440",
   "metadata": {},
   "outputs": [
    {
     "data": {
      "text/plain": [
       "(t,)"
      ]
     },
     "execution_count": 3,
     "metadata": {},
     "output_type": "execute_result"
    }
   ],
   "source": [
    "@vars t"
   ]
  },
  {
   "cell_type": "code",
   "execution_count": 4,
   "id": "c85001b8",
   "metadata": {},
   "outputs": [
    {
     "name": "stderr",
     "output_type": "stream",
     "text": [
      "┌ Warning: `vendor()` is deprecated, use `BLAS.get_config()` and inspect the output instead\n",
      "│   caller = npyinitialize() at numpy.jl:67\n",
      "└ @ PyCall /home/ec2-user/.julia/packages/PyCall/L0fLP/src/numpy.jl:67\n"
     ]
    },
    {
     "data": {
      "text/latex": [
       "$\\left[ \\begin{array}{rr}3 t e^{- 3 t} + e^{- 3 t}&t e^{- 3 t}\\\\- 9 t e^{- 3 t}&- 3 t e^{- 3 t} + e^{- 3 t}\\end{array}\\right]$\n"
      ],
      "text/plain": [
       "2×2 Matrix{Sym}:\n",
       " 3*t*exp(-3*t) + exp(-3*t)                 t*exp(-3*t)\n",
       "            -9*t*exp(-3*t)  -3*t*exp(-3*t) + exp(-3*t)"
      ]
     },
     "execution_count": 4,
     "metadata": {},
     "output_type": "execute_result"
    }
   ],
   "source": [
    "eat1=exp(A1*t)"
   ]
  },
  {
   "cell_type": "code",
   "execution_count": 5,
   "id": "f1e7a594",
   "metadata": {},
   "outputs": [
    {
     "data": {
      "text/plain": [
       "2×2 Matrix{Int64}:\n",
       " 6  9\n",
       " 9  0"
      ]
     },
     "execution_count": 5,
     "metadata": {},
     "output_type": "execute_result"
    }
   ],
   "source": [
    "M1=[6 9\n",
    "9 0]"
   ]
  },
  {
   "cell_type": "code",
   "execution_count": 6,
   "id": "16022171",
   "metadata": {},
   "outputs": [
    {
     "data": {
      "text/plain": [
       "2-element Vector{Int64}:\n",
       " 0\n",
       " 3"
      ]
     },
     "execution_count": 6,
     "metadata": {},
     "output_type": "execute_result"
    }
   ],
   "source": [
    "v1=[0;3]"
   ]
  },
  {
   "cell_type": "code",
   "execution_count": 8,
   "id": "fc16e74e",
   "metadata": {},
   "outputs": [
    {
     "data": {
      "text/plain": [
       "2-element Vector{Float64}:\n",
       "  3.0\n",
       " -2.0"
      ]
     },
     "execution_count": 8,
     "metadata": {},
     "output_type": "execute_result"
    }
   ],
   "source": [
    "inv(M1)*v1*9"
   ]
  },
  {
   "cell_type": "code",
   "execution_count": 9,
   "id": "64c5d4ba",
   "metadata": {},
   "outputs": [],
   "source": [
    "using Symbolics"
   ]
  },
  {
   "cell_type": "code",
   "execution_count": 10,
   "id": "11e7553b",
   "metadata": {},
   "outputs": [],
   "source": [
    "@variables x y k m;"
   ]
  },
  {
   "cell_type": "code",
   "execution_count": 12,
   "id": "037869ac",
   "metadata": {},
   "outputs": [
    {
     "data": {
      "text/plain": [
       "(::Symbolics.Differential) (generic function with 2 methods)"
      ]
     },
     "execution_count": 12,
     "metadata": {},
     "output_type": "execute_result"
    }
   ],
   "source": [
    "D=Symbolics.Differential(x)"
   ]
  },
  {
   "cell_type": "code",
   "execution_count": 13,
   "id": "fa2d9b1e",
   "metadata": {},
   "outputs": [
    {
     "data": {
      "text/latex": [
       "\\begin{equation}\n",
       "\\frac{0.7 k^{2}}{m^{2} \\left( 0.010966227112321508 + \\frac{k^{2}}{m^{2}} \\right)}\n",
       "\\end{equation}\n"
      ],
      "text/plain": [
       "(0.7(k^2)) / ((m^2)*(0.010966227112321508 + (k^2) / (m^2)))"
      ]
     },
     "execution_count": 13,
     "metadata": {},
     "output_type": "execute_result"
    }
   ],
   "source": [
    "A=(0.7*k^2)/(m^2*((k^2/m^2)+(pi^2/900)))"
   ]
  },
  {
   "cell_type": "code",
   "execution_count": 14,
   "id": "a5275d26",
   "metadata": {},
   "outputs": [
    {
     "data": {
      "text/latex": [
       "\\begin{equation}\n",
       "\\frac{2.199114857512855 k}{30 m \\left( 0.010966227112321508 + \\frac{k^{2}}{m^{2}} \\right)}\n",
       "\\end{equation}\n"
      ],
      "text/plain": [
       "(2.199114857512855k) / (30m*(0.010966227112321508 + (k^2) / (m^2)))"
      ]
     },
     "execution_count": 14,
     "metadata": {},
     "output_type": "execute_result"
    }
   ],
   "source": [
    "B=(0.7*k*pi)/(m*30*((k^2/m^2)+(pi^2/900)))"
   ]
  },
  {
   "cell_type": "code",
   "execution_count": null,
   "id": "ab157be7",
   "metadata": {},
   "outputs": [],
   "source": [
    "y=A*cos((pi/30)*x)+B*sin((pi/30)*x)"
   ]
  },
  {
   "cell_type": "code",
   "execution_count": 15,
   "id": "4e3b3842",
   "metadata": {},
   "outputs": [
    {
     "data": {
      "text/plain": [
       "18.257418583505537"
      ]
     },
     "execution_count": 15,
     "metadata": {},
     "output_type": "execute_result"
    }
   ],
   "source": [
    "sqrt(1000/3)"
   ]
  },
  {
   "cell_type": "code",
   "execution_count": 17,
   "id": "dfb97c31",
   "metadata": {},
   "outputs": [
    {
     "data": {
      "text/plain": [
       "9.700000000000002e-7"
      ]
     },
     "execution_count": 17,
     "metadata": {},
     "output_type": "execute_result"
    }
   ],
   "source": [
    "L=0.97*10^(-6)"
   ]
  },
  {
   "cell_type": "code",
   "execution_count": 23,
   "id": "853495b1",
   "metadata": {},
   "outputs": [
    {
     "data": {
      "text/plain": [
       "3.1604422095113317e6"
      ]
     },
     "execution_count": 23,
     "metadata": {},
     "output_type": "execute_result"
    }
   ],
   "source": [
    "om1=503000*2*pi"
   ]
  },
  {
   "cell_type": "code",
   "execution_count": 24,
   "id": "ce6d58cc",
   "metadata": {},
   "outputs": [
    {
     "data": {
      "text/plain": [
       "1.0235308865395546e7"
      ]
     },
     "execution_count": 24,
     "metadata": {},
     "output_type": "execute_result"
    }
   ],
   "source": [
    "om2=1629000*2*pi"
   ]
  },
  {
   "cell_type": "code",
   "execution_count": 25,
   "id": "dea556ad",
   "metadata": {},
   "outputs": [
    {
     "data": {
      "text/plain": [
       "1.0321256209982197e-7"
      ]
     },
     "execution_count": 25,
     "metadata": {},
     "output_type": "execute_result"
    }
   ],
   "source": [
    "1/(L*om1^2)"
   ]
  },
  {
   "cell_type": "code",
   "execution_count": 26,
   "id": "cc8315b0",
   "metadata": {},
   "outputs": [
    {
     "data": {
      "text/plain": [
       "9.840708341600787e-9"
      ]
     },
     "execution_count": 26,
     "metadata": {},
     "output_type": "execute_result"
    }
   ],
   "source": [
    "1/(L*om2^2)"
   ]
  },
  {
   "cell_type": "code",
   "execution_count": 41,
   "id": "d979bf78",
   "metadata": {},
   "outputs": [
    {
     "data": {
      "text/plain": [
       "263"
      ]
     },
     "execution_count": 41,
     "metadata": {},
     "output_type": "execute_result"
    }
   ],
   "source": [
    "R=263"
   ]
  },
  {
   "cell_type": "code",
   "execution_count": 42,
   "id": "3e843777",
   "metadata": {},
   "outputs": [
    {
     "data": {
      "text/plain": [
       "1.2000000000000004e-6"
      ]
     },
     "execution_count": 42,
     "metadata": {},
     "output_type": "execute_result"
    }
   ],
   "source": [
    "C=1.2*10^(-6)"
   ]
  },
  {
   "cell_type": "code",
   "execution_count": 43,
   "id": "be2b56d3",
   "metadata": {},
   "outputs": [
    {
     "data": {
      "text/plain": [
       "1.4261000000000001"
      ]
     },
     "execution_count": 43,
     "metadata": {},
     "output_type": "execute_result"
    }
   ],
   "source": [
    "L=1426.10*10^(-3)"
   ]
  },
  {
   "cell_type": "code",
   "execution_count": 44,
   "id": "c55da29e",
   "metadata": {},
   "outputs": [
    {
     "data": {
      "text/plain": [
       "766.5486074759095"
      ]
     },
     "execution_count": 44,
     "metadata": {},
     "output_type": "execute_result"
    }
   ],
   "source": [
    "om=122*2*pi"
   ]
  },
  {
   "cell_type": "code",
   "execution_count": 45,
   "id": "952e8e40",
   "metadata": {},
   "outputs": [
    {
     "data": {
      "text/plain": [
       "6.051040898066276"
      ]
     },
     "execution_count": 45,
     "metadata": {},
     "output_type": "execute_result"
    }
   ],
   "source": [
    "S=om*L-1/(om*C) # reactance"
   ]
  },
  {
   "cell_type": "code",
   "execution_count": 46,
   "id": "dbee08ce",
   "metadata": {},
   "outputs": [
    {
     "data": {
      "text/plain": [
       "263.06960123881674"
      ]
     },
     "execution_count": 46,
     "metadata": {},
     "output_type": "execute_result"
    }
   ],
   "source": [
    "Z=sqrt(R^2+S^2) # impedance"
   ]
  },
  {
   "cell_type": "code",
   "execution_count": 47,
   "id": "0e20aa40",
   "metadata": {},
   "outputs": [
    {
     "data": {
      "text/plain": [
       "0.02300370158451917"
      ]
     },
     "execution_count": 47,
     "metadata": {},
     "output_type": "execute_result"
    }
   ],
   "source": [
    "dd=atan(S/R)"
   ]
  },
  {
   "cell_type": "code",
   "execution_count": 48,
   "id": "2e9e6259",
   "metadata": {},
   "outputs": [
    {
     "data": {
      "text/plain": [
       "3.0009449316287634e-5"
      ]
     },
     "execution_count": 48,
     "metadata": {},
     "output_type": "execute_result"
    }
   ],
   "source": [
    "tL=dd/om"
   ]
  },
  {
   "cell_type": "code",
   "execution_count": 49,
   "id": "c4522918",
   "metadata": {},
   "outputs": [
    {
     "data": {
      "text/plain": [
       "222"
      ]
     },
     "execution_count": 49,
     "metadata": {},
     "output_type": "execute_result"
    }
   ],
   "source": [
    "R=222"
   ]
  },
  {
   "cell_type": "code",
   "execution_count": 50,
   "id": "77b36237",
   "metadata": {},
   "outputs": [
    {
     "data": {
      "text/plain": [
       "1.6000000000000008e-6"
      ]
     },
     "execution_count": 50,
     "metadata": {},
     "output_type": "execute_result"
    }
   ],
   "source": [
    "C=1.6*10^(-6)"
   ]
  },
  {
   "cell_type": "code",
   "execution_count": 52,
   "id": "54d8a664",
   "metadata": {},
   "outputs": [
    {
     "data": {
      "text/plain": [
       "0.53"
      ]
     },
     "execution_count": 52,
     "metadata": {},
     "output_type": "execute_result"
    }
   ],
   "source": [
    "L=0.53"
   ]
  },
  {
   "cell_type": "code",
   "execution_count": 53,
   "id": "5e8ab5f6",
   "metadata": {},
   "outputs": [
    {
     "data": {
      "text/plain": [
       "1093.274243449248"
      ]
     },
     "execution_count": 53,
     "metadata": {},
     "output_type": "execute_result"
    }
   ],
   "source": [
    "om=174*2*pi"
   ]
  },
  {
   "cell_type": "code",
   "execution_count": 54,
   "id": "f371af1c",
   "metadata": {},
   "outputs": [
    {
     "data": {
      "text/plain": [
       "7.758110910661458"
      ]
     },
     "execution_count": 54,
     "metadata": {},
     "output_type": "execute_result"
    }
   ],
   "source": [
    "S=om*L-(1/(om*C))"
   ]
  },
  {
   "cell_type": "code",
   "execution_count": 55,
   "id": "f9785261",
   "metadata": {},
   "outputs": [
    {
     "data": {
      "text/plain": [
       "222.1355178374276"
      ]
     },
     "execution_count": 55,
     "metadata": {},
     "output_type": "execute_result"
    }
   ],
   "source": [
    "Z=sqrt(R^2+S^2)"
   ]
  },
  {
   "cell_type": "code",
   "execution_count": 57,
   "id": "7ec9593c",
   "metadata": {},
   "outputs": [
    {
     "data": {
      "text/plain": [
       "3.195193704160775e-5"
      ]
     },
     "execution_count": 57,
     "metadata": {},
     "output_type": "execute_result"
    }
   ],
   "source": [
    "atan(S/R)/om"
   ]
  },
  {
   "cell_type": "code",
   "execution_count": 59,
   "id": "512d34b6",
   "metadata": {},
   "outputs": [
    {
     "data": {
      "text/plain": [
       "7.758110910663731"
      ]
     },
     "execution_count": 59,
     "metadata": {},
     "output_type": "execute_result"
    }
   ],
   "source": [
    "1093.27424344925*0.53-1/(1093.27424344925*1.6*10^(-6))"
   ]
  },
  {
   "cell_type": "code",
   "execution_count": 60,
   "id": "e0406e8f",
   "metadata": {},
   "outputs": [
    {
     "data": {
      "text/plain": [
       "18.07392228230128"
      ]
     },
     "execution_count": 60,
     "metadata": {},
     "output_type": "execute_result"
    }
   ],
   "source": [
    "sqrt(980/3)"
   ]
  },
  {
   "cell_type": "code",
   "execution_count": 61,
   "id": "093ee51a",
   "metadata": {},
   "outputs": [
    {
     "data": {
      "text/plain": [
       "-0.0022255232104087105"
      ]
     },
     "execution_count": 61,
     "metadata": {},
     "output_type": "execute_result"
    }
   ],
   "source": [
    "log(10.5/12)/60"
   ]
  },
  {
   "cell_type": "code",
   "execution_count": 62,
   "id": "bd40eb0e",
   "metadata": {},
   "outputs": [
    {
     "data": {
      "text/plain": [
       "4.676537180435968"
      ]
     },
     "execution_count": 62,
     "metadata": {},
     "output_type": "execute_result"
    }
   ],
   "source": [
    "(-27/5)*sin(3*(pi/4)+(7*pi/12))"
   ]
  },
  {
   "cell_type": "code",
   "execution_count": 63,
   "id": "e2d9b23e",
   "metadata": {},
   "outputs": [
    {
     "data": {
      "text/plain": [
       "-4.573307210209865"
      ]
     },
     "execution_count": 63,
     "metadata": {},
     "output_type": "execute_result"
    }
   ],
   "source": [
    "-(4.677*pi/4)-0.9"
   ]
  },
  {
   "cell_type": "code",
   "execution_count": 64,
   "id": "fde32599",
   "metadata": {},
   "outputs": [
    {
     "data": {
      "text/plain": [
       "F (generic function with 1 method)"
      ]
     },
     "execution_count": 64,
     "metadata": {},
     "output_type": "execute_result"
    }
   ],
   "source": [
    "F(y)=(1/5)*y^5-(4/3)*y^3+4*y"
   ]
  },
  {
   "cell_type": "code",
   "execution_count": 65,
   "id": "5ca06b9c",
   "metadata": {},
   "outputs": [
    {
     "data": {
      "text/plain": [
       "6.0339778661252055"
      ]
     },
     "execution_count": 65,
     "metadata": {},
     "output_type": "execute_result"
    }
   ],
   "source": [
    "F(sqrt(2))-F(-sqrt(2))"
   ]
  },
  {
   "cell_type": "code",
   "execution_count": 79,
   "id": "2ed13a80",
   "metadata": {},
   "outputs": [],
   "source": [
    "using Polynomials"
   ]
  },
  {
   "cell_type": "code",
   "execution_count": 67,
   "id": "c36de127",
   "metadata": {},
   "outputs": [
    {
     "data": {
      "text/html": [
       "24.0 &#43; 4.0&#8729;x &#43; 0.125&#8729;x<sup>2</sup>"
      ],
      "text/latex": [
       "$24.0 + 4.0\\cdot x + 0.125\\cdot x^{2}$"
      ],
      "text/plain": [
       "Polynomial(24.0 + 4.0*x + 0.125*x^2)"
      ]
     },
     "execution_count": 67,
     "metadata": {},
     "output_type": "execute_result"
    }
   ],
   "source": [
    "p1=Polynomial([24,4,1/8])"
   ]
  },
  {
   "cell_type": "code",
   "execution_count": 70,
   "id": "b120b021",
   "metadata": {},
   "outputs": [
    {
     "data": {
      "text/plain": [
       "2-element Vector{Float64}:\n",
       " -24.0\n",
       "  -8.0"
      ]
     },
     "execution_count": 70,
     "metadata": {},
     "output_type": "execute_result"
    }
   ],
   "source": [
    "Polynomials.roots(p1)"
   ]
  },
  {
   "cell_type": "code",
   "execution_count": 71,
   "id": "55b35843",
   "metadata": {},
   "outputs": [
    {
     "data": {
      "text/plain": [
       "2×2 Matrix{Int64}:\n",
       "   1   1\n",
       " -24  -8"
      ]
     },
     "execution_count": 71,
     "metadata": {},
     "output_type": "execute_result"
    }
   ],
   "source": [
    "M1=[1 1\n",
    "-24 -8]"
   ]
  },
  {
   "cell_type": "code",
   "execution_count": 72,
   "id": "64133220",
   "metadata": {},
   "outputs": [
    {
     "data": {
      "text/plain": [
       "2-element Vector{Int64}:\n",
       " 0\n",
       " 4"
      ]
     },
     "execution_count": 72,
     "metadata": {},
     "output_type": "execute_result"
    }
   ],
   "source": [
    "v1=[0\n",
    "4]"
   ]
  },
  {
   "cell_type": "code",
   "execution_count": 73,
   "id": "b08c8544",
   "metadata": {},
   "outputs": [
    {
     "data": {
      "text/plain": [
       "2-element Vector{Float64}:\n",
       " -0.24999999999999997\n",
       "  0.24999999999999994"
      ]
     },
     "execution_count": 73,
     "metadata": {},
     "output_type": "execute_result"
    }
   ],
   "source": [
    "inv(M1)*v1"
   ]
  },
  {
   "cell_type": "code",
   "execution_count": 74,
   "id": "27de163b",
   "metadata": {},
   "outputs": [],
   "source": [
    "using Roots"
   ]
  },
  {
   "cell_type": "code",
   "execution_count": 75,
   "id": "603da867",
   "metadata": {},
   "outputs": [
    {
     "data": {
      "text/plain": [
       "f1 (generic function with 1 method)"
      ]
     },
     "execution_count": 75,
     "metadata": {},
     "output_type": "execute_result"
    }
   ],
   "source": [
    "f1(x)=(2/3)*cos(2*x)-(2/3)*cos(x)"
   ]
  },
  {
   "cell_type": "code",
   "execution_count": 76,
   "id": "6fd697dd",
   "metadata": {},
   "outputs": [
    {
     "data": {
      "text/plain": [
       "7.771561172376096e-16"
      ]
     },
     "execution_count": 76,
     "metadata": {},
     "output_type": "execute_result"
    }
   ],
   "source": [
    "f1(4*pi/3)"
   ]
  },
  {
   "cell_type": "code",
   "execution_count": 81,
   "id": "e5bd6057",
   "metadata": {},
   "outputs": [
    {
     "data": {
      "text/html": [
       "20.408163265306122 &#43; 4.0&#8729;x &#43; 0.03&#8729;x<sup>2</sup>"
      ],
      "text/latex": [
       "$20.408163265306122 + 4.0\\cdot x + 0.03\\cdot x^{2}$"
      ],
      "text/plain": [
       "Polynomial(20.408163265306122 + 4.0*x + 0.03*x^2)"
      ]
     },
     "execution_count": 81,
     "metadata": {},
     "output_type": "execute_result"
    }
   ],
   "source": [
    "p2=Polynomial([1/0.049,4,0.03])"
   ]
  },
  {
   "cell_type": "code",
   "execution_count": 82,
   "id": "9aeb9a80",
   "metadata": {},
   "outputs": [
    {
     "data": {
      "text/plain": [
       "2-element Vector{Float64}:\n",
       " -128.01951774631013\n",
       "   -5.313815587023212"
      ]
     },
     "execution_count": 82,
     "metadata": {},
     "output_type": "execute_result"
    }
   ],
   "source": [
    "Polynomials.roots(p2)"
   ]
  },
  {
   "cell_type": "code",
   "execution_count": 83,
   "id": "101862ad",
   "metadata": {},
   "outputs": [
    {
     "data": {
      "text/plain": [
       "2578.75"
      ]
     },
     "execution_count": 83,
     "metadata": {},
     "output_type": "execute_result"
    }
   ],
   "source": [
    "5157.50/2"
   ]
  },
  {
   "cell_type": "code",
   "execution_count": null,
   "id": "a8e5c536",
   "metadata": {},
   "outputs": [],
   "source": []
  },
  {
   "cell_type": "code",
   "execution_count": null,
   "id": "9cf40af6",
   "metadata": {},
   "outputs": [],
   "source": []
  },
  {
   "cell_type": "code",
   "execution_count": null,
   "id": "3004f840",
   "metadata": {},
   "outputs": [],
   "source": []
  },
  {
   "cell_type": "code",
   "execution_count": null,
   "id": "fc597d89",
   "metadata": {},
   "outputs": [],
   "source": []
  },
  {
   "cell_type": "code",
   "execution_count": null,
   "id": "231aacaf",
   "metadata": {},
   "outputs": [],
   "source": []
  },
  {
   "cell_type": "code",
   "execution_count": null,
   "id": "db6195b4",
   "metadata": {},
   "outputs": [],
   "source": []
  },
  {
   "cell_type": "code",
   "execution_count": null,
   "id": "204294b9",
   "metadata": {},
   "outputs": [],
   "source": []
  }
 ],
 "metadata": {
  "kernelspec": {
   "display_name": "Julia 1.7.2",
   "language": "julia",
   "name": "julia-1.7"
  },
  "language_info": {
   "file_extension": ".jl",
   "mimetype": "application/julia",
   "name": "julia",
   "version": "1.7.2"
  }
 },
 "nbformat": 4,
 "nbformat_minor": 5
}
