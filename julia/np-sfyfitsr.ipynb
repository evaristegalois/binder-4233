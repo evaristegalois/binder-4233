{
 "cells": [
  {
   "cell_type": "markdown",
   "id": "79e614d8",
   "metadata": {},
   "source": [
    "<h4>Spring and Gravity</h4>"
   ]
  },
  {
   "cell_type": "code",
   "execution_count": 15,
   "id": "8bd63f0b",
   "metadata": {},
   "outputs": [],
   "source": [
    "# Utah/Calculus_II/set14_Differential_Equations/set14_pr6.pg"
   ]
  },
  {
   "cell_type": "markdown",
   "id": "4d57f670",
   "metadata": {},
   "source": [
    "A spring with a spring constant $k$ of 100 pounds per foot\n",
    "is loaded with a one-pound weight and brought to equilibrium.  It\n",
    "is then stretched an additional 1 inch and released.  Find\n",
    "the equation of motion, the amplitude, and the period.  Neglect\n",
    "friction."
   ]
  },
  {
   "cell_type": "markdown",
   "id": "645612c5",
   "metadata": {},
   "source": [
    "I was initially confused about this and thought the equation is simply\n",
    "$$\n",
    "mx''=-kx-mg\n",
    "$$\n",
    "$mg$ is subtracted because gravity pulls down. $-kx$ pushes down if $x$ is positive and pulls up (against gravity) if $x$ is negative. The initial condition is $x(0)=-\\frac{1}{12}$. But this isn't right. Even when the mass moves up beyond the point where it was in equilibrium---the spring is still pulling up, not pushing down, since it is still extended! Therefore $x(0)=-s-\\frac{1}{12}$, where $s$ is where $kx=mg$, so\n",
    "$$\n",
    "s=\\frac{mg}{k}\n",
    "$$\n",
    "and\n",
    "$$\n",
    "x(0)=-\\frac{32}{100}-\\frac{1}{12}\n",
    "$$\n",
    "My answer is\n",
    "$$\n",
    "x(t)=-\\frac{32}{100}-\\frac{1}{12}\\cos{}10t\n",
    "$$\n",
    "but the webwork coder disagrees with me on the period and says that it's $\\cos(\\sqrt{3200}t)$ (she agrees with me on the amplitude $\\frac{1}{12}$)."
   ]
  },
  {
   "cell_type": "code",
   "execution_count": 14,
   "id": "63f14417",
   "metadata": {},
   "outputs": [],
   "source": [
    "# so let's do Michigan/Chap11Sec10/Q21.pg"
   ]
  },
  {
   "cell_type": "markdown",
   "id": "bb2d8182",
   "metadata": {},
   "source": [
    "A brick of mass $6\\,kg$ hangs from the end of a spring.  When the\n",
    "brick is at rest, the spring is stretched by $3\\,cm$.  The spring is then\n",
    "stretched an additional $2\\,cm$ cm and released.  Assume there is no air\n",
    "resistance.  Note that the acceleration due to gravity, $g$, is\n",
    "$g=980\\,cm/s^{2}$.\n"
   ]
  },
  {
   "cell_type": "code",
   "execution_count": 16,
   "id": "6c1aaecd",
   "metadata": {},
   "outputs": [
    {
     "data": {
      "text/plain": [
       "1960.0000000000002"
      ]
     },
     "execution_count": 16,
     "metadata": {},
     "output_type": "execute_result"
    }
   ],
   "source": [
    "k=(6*9.8)/0.03"
   ]
  },
  {
   "cell_type": "code",
   "execution_count": 18,
   "id": "ab8e0afd",
   "metadata": {},
   "outputs": [
    {
     "data": {
      "text/plain": [
       "9.8"
      ]
     },
     "execution_count": 18,
     "metadata": {},
     "output_type": "execute_result"
    }
   ],
   "source": [
    "g=9.8"
   ]
  },
  {
   "cell_type": "code",
   "execution_count": 20,
   "id": "15010e9e",
   "metadata": {},
   "outputs": [
    {
     "data": {
      "text/plain": [
       "-0.03"
      ]
     },
     "execution_count": 20,
     "metadata": {},
     "output_type": "execute_result"
    }
   ],
   "source": [
    "eq=(-6*g)/k"
   ]
  },
  {
   "cell_type": "markdown",
   "id": "c08f066d",
   "metadata": {},
   "source": [
    "I propose the solution\n",
    "$$\n",
    "x(t)=-0.03-0.02\\cos\\left(\\sqrt{\\frac{k}{m}}t\\right)\n",
    "$$"
   ]
  },
  {
   "cell_type": "markdown",
   "id": "520fb2ef",
   "metadata": {},
   "source": [
    "Again (!), the webwork coder disagrees with me and recommends\n",
    "$$\n",
    "x(t)=0.02\\cos\\left(\\sqrt{\\frac{k}{m}}t\\right)\n",
    "$$\n",
    "I suppose this could be reconciled by reversing up and down; and positing a different reference point?"
   ]
  }
 ],
 "metadata": {
  "kernelspec": {
   "display_name": "Julia 1.7.2",
   "language": "julia",
   "name": "julia-1.7"
  },
  "language_info": {
   "file_extension": ".jl",
   "mimetype": "application/julia",
   "name": "julia",
   "version": "1.7.2"
  }
 },
 "nbformat": 4,
 "nbformat_minor": 5
}
