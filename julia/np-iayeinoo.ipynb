{
 "cells": [
  {
   "cell_type": "markdown",
   "metadata": {
    "collapsed": false
   },
   "source": [
    "<h4>Lunar Lander</h4>"
   ]
  },
  {
   "cell_type": "markdown",
   "metadata": {
    "collapsed": false
   },
   "source": [
    "A lunar lander is free-falling toward the moon, and at an altitude of $53$ kilometers above the\n",
    "lunar surface its downward velocity is measured at $1477\\,km/h$. Its retrorockets, when fired\n",
    "in free space, provide a deceleration of $T=4\\,m/s^{2}$. At what height above the lunar surface\n",
    "should the retrorockets be activated to ensure a soft touchdown ($v=0$ at impact)?"
   ]
  },
  {
   "cell_type": "markdown",
   "metadata": {
    "collapsed": false
   },
   "source": [
    "$M$ is the mass of the moon. $R$ is the radius of the moon, $G$ is the gravitational constant."
   ]
  },
  {
   "cell_type": "code",
   "execution_count": 1,
   "metadata": {
    "collapsed": false
   },
   "outputs": [
    {
     "data": {
      "text/plain": [
       "7.35e22"
      ]
     },
     "execution_count": 1,
     "metadata": {
     },
     "output_type": "execute_result"
    }
   ],
   "source": [
    "M=7.35e22"
   ]
  },
  {
   "cell_type": "code",
   "execution_count": 2,
   "metadata": {
    "collapsed": false
   },
   "outputs": [
    {
     "data": {
      "text/plain": [
       "1.74e6"
      ]
     },
     "execution_count": 2,
     "metadata": {
     },
     "output_type": "execute_result"
    }
   ],
   "source": [
    "R=1.74e6"
   ]
  },
  {
   "cell_type": "code",
   "execution_count": 3,
   "metadata": {
    "collapsed": false
   },
   "outputs": [
    {
     "data": {
      "text/plain": [
       "6.6726e-11"
      ]
     },
     "execution_count": 3,
     "metadata": {
     },
     "output_type": "execute_result"
    }
   ],
   "source": [
    "G=6.6726e-11"
   ]
  },
  {
   "cell_type": "code",
   "execution_count": 10,
   "metadata": {
    "collapsed": false
   },
   "outputs": [
    {
     "data": {
      "text/plain": [
       "410.27777777777777"
      ]
     },
     "execution_count": 10,
     "metadata": {
     },
     "output_type": "execute_result"
    }
   ],
   "source": [
    "v2=1477*1000/3600"
   ]
  },
  {
   "cell_type": "code",
   "execution_count": 11,
   "metadata": {
    "collapsed": false
   },
   "outputs": [
    {
     "data": {
      "text/plain": [
       "102.56944444444444"
      ]
     },
     "execution_count": 11,
     "metadata": {
     },
     "output_type": "execute_result"
    }
   ],
   "source": [
    "t1=v2/4"
   ]
  },
  {
   "cell_type": "code",
   "execution_count": 7,
   "metadata": {
    "collapsed": false
   },
   "outputs": [
    {
     "data": {
      "text/plain": [
       "21012.49035493827"
      ]
     },
     "execution_count": 7,
     "metadata": {
     },
     "output_type": "execute_result"
    }
   ],
   "source": [
    "(-2)*t1^2+410*t1"
   ]
  },
  {
   "cell_type": "markdown",
   "metadata": {
    "collapsed": false
   },
   "source": [
    "Without gravity, $s_{1}$ is about $21\\,km$, the height at which the retrorockets should be fired. "
   ]
  },
  {
   "cell_type": "markdown",
   "metadata": {
    "collapsed": false
   },
   "source": [
    "$$\n",
    "\\frac{d^{2}r}{dt^{2}}=T-\\frac{GM}{r^{2}}\n",
    "$$\n",
    "implies\n",
    "$$\n",
    "\\frac{1}{2}v^{2}=\\frac{GM}{r}+Tr+C\n",
    "$$\n",
    "since $v(0)=0$,\n",
    "$$\n",
    "C_{1}=-\\frac{GM}{R}-4R\n",
    "$$"
   ]
  },
  {
   "cell_type": "code",
   "execution_count": 9,
   "metadata": {
    "collapsed": false
   },
   "outputs": [
    {
     "data": {
      "text/plain": [
       "-9.778598275862068e6"
      ]
     },
     "execution_count": 9,
     "metadata": {
     },
     "output_type": "execute_result"
    }
   ],
   "source": [
    "C1=((-G*M)/R)-4*R"
   ]
  },
  {
   "cell_type": "markdown",
   "metadata": {
    "collapsed": false
   },
   "source": [
    "and \n",
    "$$\n",
    "\\frac{1}{2}v^{2}=\\frac{GM}{r}+4r+C_{1}\n",
    "$$\n",
    "after ignition. Before ignition, we know that\n",
    "$$\n",
    "\\frac{1}{2}v_{2}^{2}=\\frac{GM}{R+53000}+C_{2}$$"
   ]
  },
  {
   "cell_type": "code",
   "execution_count": 12,
   "metadata": {
    "collapsed": false
   },
   "outputs": [
    {
     "data": {
      "text/plain": [
       "-2.651118281119821e6"
      ]
     },
     "execution_count": 12,
     "metadata": {
     },
     "output_type": "execute_result"
    }
   ],
   "source": [
    "C2=0.5*v2^2-((G*M)/(R+53000))"
   ]
  },
  {
   "cell_type": "markdown",
   "metadata": {
    "collapsed": false
   },
   "source": [
    "At $t_{1}$, the two functions agree, so\n",
    "$$\n",
    "\\frac{GM}{r(t_{1})}+C_{2}=\\frac{GM}{r(t_{1})}+4r(t_{1})+C_{1}\n",
    "$$\n",
    "and therefore"
   ]
  },
  {
   "cell_type": "code",
   "execution_count": 14,
   "metadata": {
    "collapsed": false
   },
   "outputs": [
    {
     "data": {
      "text/plain": [
       "1.7818699986855616e6"
      ]
     },
     "execution_count": 14,
     "metadata": {
     },
     "output_type": "execute_result"
    }
   ],
   "source": [
    "r1=(C2-C1)/4"
   ]
  },
  {
   "cell_type": "code",
   "execution_count": 15,
   "metadata": {
    "collapsed": false
   },
   "outputs": [
    {
     "data": {
      "text/plain": [
       "41869.998685561586"
      ]
     },
     "execution_count": 15,
     "metadata": {
     },
     "output_type": "execute_result"
    }
   ],
   "source": [
    "r1-R"
   ]
  },
  {
   "cell_type": "markdown",
   "metadata": {
    "collapsed": false
   },
   "source": [
    "The retrorockets should be fired at $41870$ metres above the lunar surface. Comment: I spent some futile time calculating $r(t)$, which isn't necessary in this case since the initial conditions are conveniently provided in terms of $v(t)$.\n"
   ]
  }
 ],
 "metadata": {
  "kernelspec": {
   "display_name": "Julia 1.6",
   "env": {
    "JULIA_DEPOT_PATH": "/home/user/.julia/:/ext/julia/depot/",
    "JULIA_PROJECT": "/home/user/.julia/environment/v1.6"
   },
   "language": "julia",
   "metadata": {
    "cocalc": {
     "description": "The Julia Programming Language",
     "priority": 1,
     "url": "https://julialang.org/"
    }
   },
   "name": "julia-1.6",
   "resource_dir": "/ext/jupyter/kernels/julia-1.6"
  },
  "language_info": {
   "file_extension": ".jl",
   "mimetype": "application/julia",
   "name": "julia",
   "version": "1.6.3"
  }
 },
 "nbformat": 4,
 "nbformat_minor": 4
}