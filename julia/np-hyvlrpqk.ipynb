{
 "cells": [
  {
   "cell_type": "markdown",
   "metadata": {
    "collapsed": false
   },
   "source": [
    "<h4>Continuous Retirement</h4>"
   ]
  },
  {
   "cell_type": "markdown",
   "metadata": {
    "collapsed": false
   },
   "source": [
    "A 30-year-old woman accepts an engineering position\n",
    "with a starting salary of \\$30,000 per year. Her salary\n",
    "$S(t)$ increases exponentially, with $$S(t) = 30e^\\frac{1}{20}\\mbox{ thousand dollars}$$ after $t$ years. Meanwhile, 12% of her salary\n",
    "is deposited continuously in a retirement account, which\n",
    "accumulates interest at a continuous annual rate of 6%.\n",
    "What is the amount available for her retirement at age 70."
   ]
  },
  {
   "cell_type": "markdown",
   "metadata": {
    "collapsed": false
   },
   "source": [
    "What was driving me crazy here was the continuous interest rate. Note that \n",
    "$$\n",
    "A(t)=A(t_{0})+e^{0.06(t-t_{0})}\n",
    "$$\n",
    "not counting her deposits. You need to linearize this function at $t_{0}$ as in\n",
    "$$\n",
    "A(t)\\approx{}A(t_{0})+A(t_{0})\\cdot{}0.06\\cdot{}e^{0.06(t-t_{0})}\\cdot(t-t_{0})\n",
    "$$\n",
    "Let $t\\rightarrow{}t_{0}$ and add her deposits for the LFO differential equation\n",
    "$$\n",
    "\\frac{dA}{dt}-0.06A=3.6e^{0.05t}\n",
    "$$\n",
    "Solve and use $A(0)=0$ for the result that she will have approximately $1.3$ million dollars for her retirement."
   ]
  },
  {
   "cell_type": "code",
   "execution_count": 172,
   "metadata": {
    "collapsed": false
   },
   "outputs": [
    {
     "data": {
      "text/plain": [
       "1308.2833014159423"
      ]
     },
     "execution_count": 172,
     "metadata": {
     },
     "output_type": "execute_result"
    }
   ],
   "source": [
    "exp(0.06*40)*(((-360)*exp(-0.01*40))+360)"
   ]
  }
 ],
 "metadata": {
  "kernelspec": {
   "display_name": "Julia 1.6",
   "env": {
    "JULIA_DEPOT_PATH": "/home/user/.julia/:/ext/julia/depot/",
    "JULIA_PROJECT": "/home/user/.julia/environment/v1.6"
   },
   "language": "julia",
   "metadata": {
    "cocalc": {
     "description": "The Julia Programming Language",
     "priority": 10,
     "url": "https://julialang.org/"
    }
   },
   "name": "julia-1.6",
   "resource_dir": "/ext/jupyter/kernels/julia-1.6"
  },
  "language_info": {
   "file_extension": ".jl",
   "mimetype": "application/julia",
   "name": "julia",
   "version": "1.6.3"
  }
 },
 "nbformat": 4,
 "nbformat_minor": 4
}