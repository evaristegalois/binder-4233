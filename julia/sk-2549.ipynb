{
 "cells": [
  {
   "cell_type": "code",
   "execution_count": 1,
   "id": "f3eb94d4",
   "metadata": {},
   "outputs": [],
   "source": [
    "using LinearAlgebra"
   ]
  },
  {
   "cell_type": "code",
   "execution_count": 2,
   "id": "db15f4cc",
   "metadata": {},
   "outputs": [
    {
     "data": {
      "text/plain": [
       "3×3 Matrix{Int64}:\n",
       " 5  0  0\n",
       " 0  5  0\n",
       " 4  0  5"
      ]
     },
     "execution_count": 2,
     "metadata": {},
     "output_type": "execute_result"
    }
   ],
   "source": [
    "M1=[5 0 0\n",
    "0 5 0\n",
    "4 0 5]"
   ]
  },
  {
   "cell_type": "code",
   "execution_count": 3,
   "id": "c3647243",
   "metadata": {},
   "outputs": [
    {
     "data": {
      "text/plain": [
       "3-element Vector{Int64}:\n",
       " -5\n",
       "  0\n",
       "  0"
      ]
     },
     "execution_count": 3,
     "metadata": {},
     "output_type": "execute_result"
    }
   ],
   "source": [
    "v1=[-5\n",
    "0\n",
    "0]"
   ]
  },
  {
   "cell_type": "code",
   "execution_count": 4,
   "id": "352ff5ce",
   "metadata": {},
   "outputs": [
    {
     "data": {
      "text/plain": [
       "3-element Vector{Float64}:\n",
       " -1.0\n",
       "  0.0\n",
       "  0.8000000000000002"
      ]
     },
     "execution_count": 4,
     "metadata": {},
     "output_type": "execute_result"
    }
   ],
   "source": [
    "inv(M1)*v1"
   ]
  },
  {
   "cell_type": "code",
   "execution_count": 5,
   "id": "c4f99577",
   "metadata": {},
   "outputs": [
    {
     "data": {
      "text/plain": [
       "3×3 Matrix{Int64}:\n",
       " 2   2   2\n",
       " 2   0  -2\n",
       " 1  -1   1"
      ]
     },
     "execution_count": 5,
     "metadata": {},
     "output_type": "execute_result"
    }
   ],
   "source": [
    "M2=[2 2 2\n",
    "2 0 -2\n",
    "1 -1 1]"
   ]
  },
  {
   "cell_type": "code",
   "execution_count": 6,
   "id": "3fdc7cfc",
   "metadata": {},
   "outputs": [
    {
     "data": {
      "text/plain": [
       "3-element Vector{Int64}:\n",
       " 0\n",
       " 2\n",
       " 6"
      ]
     },
     "execution_count": 6,
     "metadata": {},
     "output_type": "execute_result"
    }
   ],
   "source": [
    "v2=[0\n",
    "2\n",
    "6]"
   ]
  },
  {
   "cell_type": "code",
   "execution_count": 7,
   "id": "d4e016a5",
   "metadata": {},
   "outputs": [
    {
     "data": {
      "text/plain": [
       "3-element Vector{Float64}:\n",
       "  2.0\n",
       " -3.0\n",
       "  1.0"
      ]
     },
     "execution_count": 7,
     "metadata": {},
     "output_type": "execute_result"
    }
   ],
   "source": [
    "inv(M2)*v2"
   ]
  },
  {
   "cell_type": "code",
   "execution_count": 8,
   "id": "e56f8002",
   "metadata": {},
   "outputs": [],
   "source": [
    "using Polynomials"
   ]
  },
  {
   "cell_type": "code",
   "execution_count": 9,
   "id": "13adee62",
   "metadata": {},
   "outputs": [
    {
     "data": {
      "text/html": [
       "25 &#45; 8&#8729;x &#43; x<sup>2</sup>"
      ],
      "text/latex": [
       "$25 - 8\\cdot x + x^{2}$"
      ],
      "text/plain": [
       "Polynomial(25 - 8*x + x^2)"
      ]
     },
     "execution_count": 9,
     "metadata": {},
     "output_type": "execute_result"
    }
   ],
   "source": [
    "p1=Polynomial([25,-8,1])"
   ]
  },
  {
   "cell_type": "code",
   "execution_count": 10,
   "id": "b2ca3b02",
   "metadata": {},
   "outputs": [
    {
     "data": {
      "text/plain": [
       "2-element Vector{ComplexF64}:\n",
       " 4.0 - 3.0im\n",
       " 4.0 + 3.0im"
      ]
     },
     "execution_count": 10,
     "metadata": {},
     "output_type": "execute_result"
    }
   ],
   "source": [
    "roots(p1)"
   ]
  },
  {
   "cell_type": "code",
   "execution_count": 11,
   "id": "f55ff012",
   "metadata": {},
   "outputs": [
    {
     "data": {
      "text/plain": [
       "3×3 Matrix{Int64}:\n",
       " 12  0  0\n",
       " 24  6  0\n",
       "  0  6  2"
      ]
     },
     "execution_count": 11,
     "metadata": {},
     "output_type": "execute_result"
    }
   ],
   "source": [
    "M3=[12 0 0\n",
    "24 6 0\n",
    "0 6 2]"
   ]
  },
  {
   "cell_type": "code",
   "execution_count": 12,
   "id": "2ec6f5b2",
   "metadata": {},
   "outputs": [
    {
     "data": {
      "text/plain": [
       "3-element Vector{Int64}:\n",
       " 4\n",
       " 0\n",
       " 0"
      ]
     },
     "execution_count": 12,
     "metadata": {},
     "output_type": "execute_result"
    }
   ],
   "source": [
    "v3=[4;0;0]"
   ]
  },
  {
   "cell_type": "code",
   "execution_count": 13,
   "id": "ac705f42",
   "metadata": {},
   "outputs": [
    {
     "data": {
      "text/plain": [
       "3-element Vector{Float64}:\n",
       "  0.3333333333333333\n",
       " -1.3333333333333333\n",
       "  4.0"
      ]
     },
     "execution_count": 13,
     "metadata": {},
     "output_type": "execute_result"
    }
   ],
   "source": [
    "inv(M3)*v3"
   ]
  },
  {
   "cell_type": "code",
   "execution_count": 14,
   "id": "572606f7",
   "metadata": {},
   "outputs": [
    {
     "data": {
      "text/plain": [
       "3×3 Matrix{Int64}:\n",
       "  9   4  0\n",
       " -6  -1  0\n",
       "  6   4  3"
      ]
     },
     "execution_count": 14,
     "metadata": {},
     "output_type": "execute_result"
    }
   ],
   "source": [
    "A1=[9 4 0\n",
    "-6 -1 0\n",
    "6 4 3]"
   ]
  },
  {
   "cell_type": "code",
   "execution_count": 15,
   "id": "48633eab",
   "metadata": {},
   "outputs": [
    {
     "data": {
      "text/plain": [
       "3-element Vector{Float64}:\n",
       " 2.999999999999999\n",
       " 3.0\n",
       " 5.0"
      ]
     },
     "execution_count": 15,
     "metadata": {},
     "output_type": "execute_result"
    }
   ],
   "source": [
    "eigvals(A1)"
   ]
  },
  {
   "cell_type": "code",
   "execution_count": 20,
   "id": "d41a32d3",
   "metadata": {},
   "outputs": [
    {
     "data": {
      "text/plain": [
       "3×3 Matrix{Float64}:\n",
       "  0.496139  0.0  -0.57735\n",
       " -0.744208  0.0   0.57735\n",
       "  0.447214  1.0  -0.57735"
      ]
     },
     "execution_count": 20,
     "metadata": {},
     "output_type": "execute_result"
    }
   ],
   "source": [
    "ev=eigvecs(A1,scale=false)"
   ]
  },
  {
   "cell_type": "code",
   "execution_count": 18,
   "id": "a83de2af",
   "metadata": {},
   "outputs": [
    {
     "data": {
      "text/plain": [
       "3-element Vector{Float64}:\n",
       "  0.4961389383568338\n",
       " -0.7442084075352507\n",
       "  0.44721359549995787"
      ]
     },
     "execution_count": 18,
     "metadata": {},
     "output_type": "execute_result"
    }
   ],
   "source": [
    "v1=ev[:,1]"
   ]
  },
  {
   "cell_type": "code",
   "execution_count": 22,
   "id": "75677b33",
   "metadata": {},
   "outputs": [
    {
     "data": {
      "text/plain": [
       "2×2 Matrix{Int64}:\n",
       " 1  -3\n",
       " 3   7"
      ]
     },
     "execution_count": 22,
     "metadata": {},
     "output_type": "execute_result"
    }
   ],
   "source": [
    "A2=[1 -3;3 7]"
   ]
  },
  {
   "cell_type": "code",
   "execution_count": 23,
   "id": "52ef3a15",
   "metadata": {},
   "outputs": [
    {
     "data": {
      "text/plain": [
       "2×2 Matrix{ComplexF64}:\n",
       " -0.707107-1.21667e-8im  -0.707107+1.21667e-8im\n",
       "  0.707107-0.0im          0.707107+0.0im"
      ]
     },
     "execution_count": 23,
     "metadata": {},
     "output_type": "execute_result"
    }
   ],
   "source": [
    "eigvecs(A2)"
   ]
  },
  {
   "cell_type": "code",
   "execution_count": 24,
   "id": "ba3225f9",
   "metadata": {},
   "outputs": [
    {
     "data": {
      "text/plain": [
       "4×4 Matrix{Int64}:\n",
       "  35  -12   4   30\n",
       "  22   -8   3   19\n",
       " -10    3   0   -9\n",
       " -27    9  -3  -23"
      ]
     },
     "execution_count": 24,
     "metadata": {},
     "output_type": "execute_result"
    }
   ],
   "source": [
    "A3=[35 -12 4 30\n",
    "22 -8 3 19\n",
    "-10 3 0 -9\n",
    "-27 9 -3 -23]"
   ]
  },
  {
   "cell_type": "code",
   "execution_count": 25,
   "id": "514bdc69",
   "metadata": {},
   "outputs": [
    {
     "data": {
      "text/plain": [
       "4×4 Matrix{ComplexF64}:\n",
       " -0.662588+0.0im   0.0739503+0.0im  …    0.66259+0.0im\n",
       " -0.110424+0.0im   -0.292222+0.0im      0.110435+6.37369e-6im\n",
       "  0.331297+0.0im   -0.950615+0.0im     -0.331293+2.73161e-6im\n",
       "  0.662591+0.0im  -0.0739503+0.0im     -0.662588+2.73159e-6im"
      ]
     },
     "execution_count": 25,
     "metadata": {},
     "output_type": "execute_result"
    }
   ],
   "source": [
    "eigvecs(A3)"
   ]
  },
  {
   "cell_type": "code",
   "execution_count": 26,
   "id": "b0e19682",
   "metadata": {},
   "outputs": [
    {
     "data": {
      "text/plain": [
       "4-element Vector{ComplexF64}:\n",
       " 0.9999714374703822 + 0.0im\n",
       " 0.9999999999999999 + 0.0im\n",
       "  1.000014281264804 - 2.473602433474904e-5im\n",
       "  1.000014281264804 + 2.473602433474904e-5im"
      ]
     },
     "execution_count": 26,
     "metadata": {},
     "output_type": "execute_result"
    }
   ],
   "source": [
    "eigvals(A3)"
   ]
  },
  {
   "cell_type": "code",
   "execution_count": 2,
   "id": "8e011a7d",
   "metadata": {},
   "outputs": [
    {
     "data": {
      "text/plain": [
       "35.25"
      ]
     },
     "execution_count": 2,
     "metadata": {},
     "output_type": "execute_result"
    }
   ],
   "source": [
    "inc=2350*0.015"
   ]
  },
  {
   "cell_type": "code",
   "execution_count": 5,
   "id": "e97e9199",
   "metadata": {},
   "outputs": [
    {
     "data": {
      "text/plain": [
       "11.82033096926714"
      ]
     },
     "execution_count": 5,
     "metadata": {},
     "output_type": "execute_result"
    }
   ],
   "source": [
    "5000/inc/12"
   ]
  },
  {
   "cell_type": "code",
   "execution_count": 6,
   "id": "9cc791fc",
   "metadata": {},
   "outputs": [
    {
     "data": {
      "text/plain": [
       "0.94993894993895"
      ]
     },
     "execution_count": 6,
     "metadata": {},
     "output_type": "execute_result"
    }
   ],
   "source": [
    "31.12/32.76"
   ]
  },
  {
   "cell_type": "code",
   "execution_count": 7,
   "id": "0fab6068",
   "metadata": {},
   "outputs": [
    {
     "data": {
      "text/plain": [
       "0.8"
      ]
     },
     "execution_count": 7,
     "metadata": {},
     "output_type": "execute_result"
    }
   ],
   "source": [
    "24.8/31"
   ]
  },
  {
   "cell_type": "code",
   "execution_count": 8,
   "id": "bfba8dab",
   "metadata": {},
   "outputs": [
    {
     "data": {
      "text/plain": [
       "f1 (generic function with 1 method)"
      ]
     },
     "execution_count": 8,
     "metadata": {},
     "output_type": "execute_result"
    }
   ],
   "source": [
    "f1(t)=0.4*(1000+t)-(320000/(1000+t))"
   ]
  },
  {
   "cell_type": "code",
   "execution_count": 9,
   "id": "6feec993",
   "metadata": {},
   "outputs": [],
   "source": [
    "using Roots"
   ]
  },
  {
   "cell_type": "code",
   "execution_count": 10,
   "id": "c8bcb66b",
   "metadata": {},
   "outputs": [
    {
     "data": {
      "text/plain": [
       "1719.375"
      ]
     },
     "execution_count": 10,
     "metadata": {},
     "output_type": "execute_result"
    }
   ],
   "source": [
    "6877.50*.25"
   ]
  },
  {
   "cell_type": "code",
   "execution_count": 3,
   "id": "fa95e493",
   "metadata": {},
   "outputs": [],
   "source": [
    "using Polynomials"
   ]
  },
  {
   "cell_type": "code",
   "execution_count": 5,
   "id": "8f22e366",
   "metadata": {},
   "outputs": [
    {
     "data": {
      "text/plain": [
       "2-element Vector{Float64}:\n",
       " 1.0\n",
       " 1.0"
      ]
     },
     "execution_count": 5,
     "metadata": {},
     "output_type": "execute_result"
    }
   ],
   "source": [
    "p1=Polynomial([1,-2,1]);roots(p1)"
   ]
  },
  {
   "cell_type": "code",
   "execution_count": 6,
   "id": "c01de677",
   "metadata": {},
   "outputs": [
    {
     "data": {
      "text/plain": [
       "6.0606060606060606"
      ]
     },
     "execution_count": 6,
     "metadata": {},
     "output_type": "execute_result"
    }
   ],
   "source": [
    "a=2/.33"
   ]
  },
  {
   "cell_type": "code",
   "execution_count": 7,
   "id": "a62e53ae",
   "metadata": {},
   "outputs": [
    {
     "data": {
      "text/plain": [
       "252.5252525252525"
      ]
     },
     "execution_count": 7,
     "metadata": {},
     "output_type": "execute_result"
    }
   ],
   "source": [
    "b=(1/0.012)/0.33"
   ]
  },
  {
   "cell_type": "code",
   "execution_count": 8,
   "id": "7ad41cad",
   "metadata": {},
   "outputs": [
    {
     "data": {
      "text/plain": [
       "4363.636363636363"
      ]
     },
     "execution_count": 8,
     "metadata": {},
     "output_type": "execute_result"
    }
   ],
   "source": [
    "c=12*120/0.33"
   ]
  },
  {
   "cell_type": "code",
   "execution_count": 9,
   "id": "f26ebf2a",
   "metadata": {},
   "outputs": [
    {
     "data": {
      "text/plain": [
       "2-element Vector{ComplexF64}:\n",
       " -3.0303030303030307 - 15.599439607556064im\n",
       " -3.0303030303030307 + 15.599439607556064im"
      ]
     },
     "execution_count": 9,
     "metadata": {},
     "output_type": "execute_result"
    }
   ],
   "source": [
    "p2=Polynomial([b,a,1]);roots(p2)"
   ]
  },
  {
   "cell_type": "code",
   "execution_count": 10,
   "id": "270de22c",
   "metadata": {},
   "outputs": [
    {
     "data": {
      "text/plain": [
       "2-element Vector{ComplexF64}:\n",
       " -3.0303030303030307 - 15.599439607556064im\n",
       " -3.0303030303030307 + 15.599439607556064im"
      ]
     },
     "execution_count": 10,
     "metadata": {},
     "output_type": "execute_result"
    }
   ],
   "source": [
    "sol=roots(p2)"
   ]
  },
  {
   "cell_type": "code",
   "execution_count": 11,
   "id": "7bc388e2",
   "metadata": {},
   "outputs": [
    {
     "data": {
      "text/plain": [
       "-3.0303030303030307"
      ]
     },
     "execution_count": 11,
     "metadata": {},
     "output_type": "execute_result"
    }
   ],
   "source": [
    "k=real(sol[1,1])"
   ]
  },
  {
   "cell_type": "code",
   "execution_count": 12,
   "id": "85ea9f61",
   "metadata": {},
   "outputs": [
    {
     "data": {
      "text/plain": [
       "15.599439607556064"
      ]
     },
     "execution_count": 12,
     "metadata": {},
     "output_type": "execute_result"
    }
   ],
   "source": [
    "om=imag(sol[2,1])"
   ]
  },
  {
   "cell_type": "code",
   "execution_count": 13,
   "id": "86cf6daf",
   "metadata": {},
   "outputs": [],
   "source": [
    "using LinearAlgebra"
   ]
  },
  {
   "cell_type": "code",
   "execution_count": 14,
   "id": "c6109a51",
   "metadata": {},
   "outputs": [
    {
     "data": {
      "text/plain": [
       "2×2 Matrix{Float64}:\n",
       " 108.525    72.7273\n",
       " -72.7273  108.525"
      ]
     },
     "execution_count": 14,
     "metadata": {},
     "output_type": "execute_result"
    }
   ],
   "source": [
    "M1=[(-144+b) 12*a\n",
    "-12*a (-144+b)]"
   ]
  },
  {
   "cell_type": "code",
   "execution_count": 15,
   "id": "f336169b",
   "metadata": {},
   "outputs": [
    {
     "data": {
      "text/plain": [
       "2-element Vector{Float64}:\n",
       " 4363.636363636363\n",
       "    0.0"
      ]
     },
     "execution_count": 15,
     "metadata": {},
     "output_type": "execute_result"
    }
   ],
   "source": [
    "v1=[c;0]"
   ]
  },
  {
   "cell_type": "code",
   "execution_count": 16,
   "id": "5d5b71f0",
   "metadata": {},
   "outputs": [
    {
     "data": {
      "text/plain": [
       "2-element Vector{Float64}:\n",
       " 27.74741367337389\n",
       " 18.594692707398735"
      ]
     },
     "execution_count": 16,
     "metadata": {},
     "output_type": "execute_result"
    }
   ],
   "source": [
    "sol1=inv(M1)*v1"
   ]
  },
  {
   "cell_type": "code",
   "execution_count": 17,
   "id": "93165761",
   "metadata": {},
   "outputs": [
    {
     "data": {
      "text/plain": [
       "27.74741367337389"
      ]
     },
     "execution_count": 17,
     "metadata": {},
     "output_type": "execute_result"
    }
   ],
   "source": [
    "A=sol1[1,1]"
   ]
  },
  {
   "cell_type": "code",
   "execution_count": 18,
   "id": "8c0868c2",
   "metadata": {},
   "outputs": [
    {
     "data": {
      "text/plain": [
       "18.594692707398735"
      ]
     },
     "execution_count": 18,
     "metadata": {},
     "output_type": "execute_result"
    }
   ],
   "source": [
    "B=sol1[2,1]"
   ]
  },
  {
   "cell_type": "code",
   "execution_count": 19,
   "id": "b818f17a",
   "metadata": {},
   "outputs": [
    {
     "data": {
      "text/plain": [
       "33.401819747491665"
      ]
     },
     "execution_count": 19,
     "metadata": {},
     "output_type": "execute_result"
    }
   ],
   "source": [
    "C=sqrt(A^2+B^2)"
   ]
  },
  {
   "cell_type": "code",
   "execution_count": 32,
   "id": "0d3c48e9",
   "metadata": {},
   "outputs": [
    {
     "data": {
      "text/plain": [
       "2-element Vector{Float64}:\n",
       " -0.75\n",
       "  2.0"
      ]
     },
     "execution_count": 32,
     "metadata": {},
     "output_type": "execute_result"
    }
   ],
   "source": [
    "p3=Polynomial([-6,-5,4])\n",
    "sol3=roots(p3)"
   ]
  },
  {
   "cell_type": "code",
   "execution_count": 26,
   "id": "1887443f",
   "metadata": {},
   "outputs": [
    {
     "data": {
      "text/plain": [
       "2×2 Matrix{Float64}:\n",
       "  1.0   0.0\n",
       " -0.25  1.0"
      ]
     },
     "execution_count": 26,
     "metadata": {},
     "output_type": "execute_result"
    }
   ],
   "source": [
    "M2=[1 0\n",
    "-0.25 1]"
   ]
  },
  {
   "cell_type": "code",
   "execution_count": 29,
   "id": "c817c6d4",
   "metadata": {},
   "outputs": [
    {
     "data": {
      "text/plain": [
       "2-element Vector{Int64}:\n",
       " 2\n",
       " 0"
      ]
     },
     "execution_count": 29,
     "metadata": {},
     "output_type": "execute_result"
    }
   ],
   "source": [
    "v2=[2;0]"
   ]
  },
  {
   "cell_type": "code",
   "execution_count": 30,
   "id": "2aead590",
   "metadata": {},
   "outputs": [
    {
     "data": {
      "text/plain": [
       "2-element Vector{Float64}:\n",
       " 2.0\n",
       " 0.5"
      ]
     },
     "execution_count": 30,
     "metadata": {},
     "output_type": "execute_result"
    }
   ],
   "source": [
    "inv(M2)*v2"
   ]
  },
  {
   "cell_type": "code",
   "execution_count": 55,
   "id": "3ca94fff",
   "metadata": {},
   "outputs": [
    {
     "data": {
      "text/plain": [
       "3×3 Matrix{Int64}:\n",
       " 0  3  4\n",
       " 0  0  6\n",
       " 0  0  0"
      ]
     },
     "execution_count": 55,
     "metadata": {},
     "output_type": "execute_result"
    }
   ],
   "source": [
    "D=[0 3 4;0 0 6;0 0 0]"
   ]
  },
  {
   "cell_type": "code",
   "execution_count": 56,
   "id": "03b2d15e",
   "metadata": {},
   "outputs": [
    {
     "data": {
      "text/plain": [
       "3×3 Matrix{Float64}:\n",
       " 1.0  -1.0            1.0\n",
       " 0.0   1.00208e-292  -1.00208e-292\n",
       " 0.0   0.0            0.0"
      ]
     },
     "execution_count": 56,
     "metadata": {},
     "output_type": "execute_result"
    }
   ],
   "source": [
    "eigvecs(D)"
   ]
  }
 ],
 "metadata": {
  "kernelspec": {
   "display_name": "Julia 1.7.2",
   "language": "julia",
   "name": "julia-1.7"
  },
  "language_info": {
   "file_extension": ".jl",
   "mimetype": "application/julia",
   "name": "julia",
   "version": "1.7.2"
  }
 },
 "nbformat": 4,
 "nbformat_minor": 5
}
