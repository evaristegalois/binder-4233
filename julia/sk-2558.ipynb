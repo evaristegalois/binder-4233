{
 "cells": [
  {
   "cell_type": "code",
   "execution_count": 1,
   "id": "ecae0cb2",
   "metadata": {},
   "outputs": [
    {
     "data": {
      "text/plain": [
       "260"
      ]
     },
     "execution_count": 1,
     "metadata": {},
     "output_type": "execute_result"
    }
   ],
   "source": [
    "-(266,6)"
   ]
  },
  {
   "cell_type": "code",
   "execution_count": 3,
   "id": "4ceaf0ef",
   "metadata": {},
   "outputs": [
    {
     "data": {
      "text/plain": [
       "65.0"
      ]
     },
     "execution_count": 3,
     "metadata": {},
     "output_type": "execute_result"
    }
   ],
   "source": [
    "/(260,4)"
   ]
  },
  {
   "cell_type": "code",
   "execution_count": 4,
   "id": "b7fa42f8",
   "metadata": {},
   "outputs": [
    {
     "data": {
      "text/plain": [
       "134"
      ]
     },
     "execution_count": 4,
     "metadata": {},
     "output_type": "execute_result"
    }
   ],
   "source": [
    "+(6,*(32,4))"
   ]
  },
  {
   "cell_type": "code",
   "execution_count": 5,
   "id": "4f1a688f",
   "metadata": {},
   "outputs": [
    {
     "data": {
      "text/plain": [
       "0.9375"
      ]
     },
     "execution_count": 5,
     "metadata": {},
     "output_type": "execute_result"
    }
   ],
   "source": [
    "/(15,16)"
   ]
  },
  {
   "cell_type": "code",
   "execution_count": 6,
   "id": "91ef9663",
   "metadata": {},
   "outputs": [],
   "source": [
    "using SymPy"
   ]
  },
  {
   "cell_type": "code",
   "execution_count": 7,
   "id": "1064174d",
   "metadata": {},
   "outputs": [
    {
     "data": {
      "text/plain": [
       "(x,)"
      ]
     },
     "execution_count": 7,
     "metadata": {},
     "output_type": "execute_result"
    }
   ],
   "source": [
    "@vars x"
   ]
  },
  {
   "cell_type": "code",
   "execution_count": 8,
   "id": "9b2423af",
   "metadata": {},
   "outputs": [
    {
     "data": {
      "text/latex": [
       "$\\frac{1}{x^{2} + 4 x + 13}$"
      ],
      "text/plain": [
       "      1      \n",
       "─────────────\n",
       " 2           \n",
       "x  + 4⋅x + 13"
      ]
     },
     "execution_count": 8,
     "metadata": {},
     "output_type": "execute_result"
    }
   ],
   "source": [
    "apart(/(1,+(^(x,2),*(4,x),13)))"
   ]
  },
  {
   "cell_type": "code",
   "execution_count": 18,
   "id": "ca8c994b",
   "metadata": {},
   "outputs": [
    {
     "data": {
      "text/plain": [
       "1.0"
      ]
     },
     "execution_count": 18,
     "metadata": {},
     "output_type": "execute_result"
    }
   ],
   "source": [
    "*(/(3,pi),atan(/(+(2,-(*(3,sqrt(3)),2)),3)))"
   ]
  },
  {
   "cell_type": "code",
   "execution_count": 10,
   "id": "90464366",
   "metadata": {},
   "outputs": [
    {
     "data": {
      "text/plain": [
       "-0.5000000000000001"
      ]
     },
     "execution_count": 10,
     "metadata": {},
     "output_type": "execute_result"
    }
   ],
   "source": [
    "*(/(6,pi),atan(-(*(1,sqrt(3)),2)))"
   ]
  },
  {
   "cell_type": "code",
   "execution_count": 12,
   "id": "51b6c9dd",
   "metadata": {},
   "outputs": [
    {
     "data": {
      "text/plain": [
       "1.0471975511965976"
      ]
     },
     "execution_count": 12,
     "metadata": {},
     "output_type": "execute_result"
    }
   ],
   "source": [
    "atan(sqrt(3))"
   ]
  },
  {
   "cell_type": "code",
   "execution_count": 13,
   "id": "76e03bea",
   "metadata": {},
   "outputs": [
    {
     "data": {
      "text/plain": [
       "1.0471975511965976"
      ]
     },
     "execution_count": 13,
     "metadata": {},
     "output_type": "execute_result"
    }
   ],
   "source": [
    "/(pi,3)"
   ]
  },
  {
   "cell_type": "code",
   "execution_count": 19,
   "id": "50f9dfc6",
   "metadata": {},
   "outputs": [
    {
     "data": {
      "text/plain": [
       "1.2464"
      ]
     },
     "execution_count": 19,
     "metadata": {},
     "output_type": "execute_result"
    }
   ],
   "source": [
    "a=1.2464"
   ]
  },
  {
   "cell_type": "code",
   "execution_count": 20,
   "id": "ba237a19",
   "metadata": {},
   "outputs": [
    {
     "data": {
      "text/plain": [
       "1.2964"
      ]
     },
     "execution_count": 20,
     "metadata": {},
     "output_type": "execute_result"
    }
   ],
   "source": [
    "b=1.2964"
   ]
  },
  {
   "cell_type": "code",
   "execution_count": 22,
   "id": "7e090a7b",
   "metadata": {},
   "outputs": [
    {
     "data": {
      "text/plain": [
       "69.92699999999999"
      ]
     },
     "execution_count": 22,
     "metadata": {},
     "output_type": "execute_result"
    }
   ],
   "source": [
    "*(55,*(/(1,2),+(a,b)))"
   ]
  },
  {
   "cell_type": "code",
   "execution_count": 1,
   "id": "9172e524",
   "metadata": {
    "collapsed": false,
    "jupyter": {
     "outputs_hidden": false
    }
   },
   "outputs": [
    {
     "data": {
      "text/plain": [
       "4×4 Matrix{Float64}:\n",
       "  1.0   0.0  -1.5  -0.5\n",
       "  0.0   1.0  -1.5  -0.5\n",
       " -1.5  -0.5   0.0   0.0\n",
       " -1.5  -0.5   0.0   0.0"
      ]
     },
     "execution_count": 1,
     "metadata": {},
     "output_type": "execute_result"
    }
   ],
   "source": [
    "M2=[1 0 -1.5 -0.5\n",
    "0 1 -1.5 -0.5\n",
    "-1.5 -0.5 0 0\n",
    "-1.5 -0.5 0 0]"
   ]
  },
  {
   "cell_type": "code",
   "execution_count": 2,
   "id": "27380aa6",
   "metadata": {
    "collapsed": false,
    "jupyter": {
     "outputs_hidden": false
    }
   },
   "outputs": [
    {
     "data": {
      "text/plain": [
       "4-element Vector{Float64}:\n",
       "  7.5\n",
       " -7.5\n",
       "  0.0\n",
       "  0.0"
      ]
     },
     "execution_count": 2,
     "metadata": {},
     "output_type": "execute_result"
    }
   ],
   "source": [
    "v2=[7.5;-7.5;0;0]"
   ]
  },
  {
   "cell_type": "code",
   "execution_count": 3,
   "id": "1790aa79",
   "metadata": {
    "collapsed": false,
    "jupyter": {
     "outputs_hidden": false
    }
   },
   "outputs": [
    {
     "data": {
      "text/plain": [
       "4-element Vector{Float64}:\n",
       "   3.75\n",
       " -11.25\n",
       "  -1.875\n",
       "  -1.875"
      ]
     },
     "execution_count": 3,
     "metadata": {},
     "output_type": "execute_result"
    }
   ],
   "source": [
    "uc1=[15/4;-45/4;-15/8;-15/8]"
   ]
  },
  {
   "cell_type": "code",
   "execution_count": 4,
   "id": "42585b6a",
   "metadata": {
    "collapsed": false,
    "jupyter": {
     "outputs_hidden": false
    }
   },
   "outputs": [
    {
     "data": {
      "text/plain": [
       "4-element Vector{Float64}:\n",
       "  7.5\n",
       " -7.5\n",
       "  0.0\n",
       "  0.0"
      ]
     },
     "execution_count": 4,
     "metadata": {},
     "output_type": "execute_result"
    }
   ],
   "source": [
    "M2*uc1"
   ]
  },
  {
   "cell_type": "code",
   "execution_count": 5,
   "id": "25b12bcd",
   "metadata": {},
   "outputs": [
    {
     "data": {
      "text/plain": [
       "12.25"
      ]
     },
     "execution_count": 5,
     "metadata": {},
     "output_type": "execute_result"
    }
   ],
   "source": [
    "^(3.5,2)"
   ]
  },
  {
   "cell_type": "code",
   "execution_count": 6,
   "id": "782689af",
   "metadata": {},
   "outputs": [],
   "source": [
    "using SymPy"
   ]
  },
  {
   "cell_type": "code",
   "execution_count": 1,
   "id": "bc9b08f4",
   "metadata": {},
   "outputs": [
    {
     "data": {
      "text/plain": [
       "24.5"
      ]
     },
     "execution_count": 1,
     "metadata": {},
     "output_type": "execute_result"
    }
   ],
   "source": [
    "*(3.5,7)"
   ]
  },
  {
   "cell_type": "code",
   "execution_count": 6,
   "id": "eb8bdeac",
   "metadata": {},
   "outputs": [],
   "source": [
    "using SymPy"
   ]
  },
  {
   "cell_type": "code",
   "execution_count": 11,
   "id": "f986c2a7",
   "metadata": {},
   "outputs": [
    {
     "data": {
      "text/plain": [
       "(a, b, c, u, v, w)"
      ]
     },
     "execution_count": 11,
     "metadata": {},
     "output_type": "execute_result"
    }
   ],
   "source": [
    "@vars a b c u v w"
   ]
  },
  {
   "cell_type": "code",
   "execution_count": 9,
   "id": "27a32a5b",
   "metadata": {},
   "outputs": [
    {
     "data": {
      "text/plain": [
       "3×3 Matrix{Float64}:\n",
       " 1.0  -3.5  12.25\n",
       " 0.0   1.0  -7.0\n",
       " 0.0   0.0   1.0"
      ]
     },
     "execution_count": 9,
     "metadata": {},
     "output_type": "execute_result"
    }
   ],
   "source": [
    "M5a=[1 -3.5 12.25\n",
    "0 1 -7\n",
    "0 0 1]"
   ]
  },
  {
   "cell_type": "code",
   "execution_count": 12,
   "id": "5d964a87",
   "metadata": {},
   "outputs": [
    {
     "data": {
      "text/latex": [
       "$\\left[ \\begin{array}{r}u\\\\v\\\\w\\end{array} \\right]$\n"
      ],
      "text/plain": [
       "3-element Vector{Sym}:\n",
       " u\n",
       " v\n",
       " w"
      ]
     },
     "execution_count": 12,
     "metadata": {},
     "output_type": "execute_result"
    }
   ],
   "source": [
    "v5a=[u,v,w]"
   ]
  },
  {
   "cell_type": "code",
   "execution_count": 1,
   "id": "d4bbe848",
   "metadata": {},
   "outputs": [],
   "source": [
    "using SymPy"
   ]
  },
  {
   "cell_type": "code",
   "execution_count": 3,
   "id": "2d8ca7a0",
   "metadata": {},
   "outputs": [
    {
     "data": {
      "text/plain": [
       "(x,)"
      ]
     },
     "execution_count": 3,
     "metadata": {},
     "output_type": "execute_result"
    }
   ],
   "source": [
    "@vars x"
   ]
  },
  {
   "cell_type": "code",
   "execution_count": 4,
   "id": "ce4b716b",
   "metadata": {},
   "outputs": [
    {
     "data": {
      "text/latex": [
       "$- x^{2} \\cos{\\left(x \\right)} + 2 x \\sin{\\left(x \\right)} + 2 \\cos{\\left(x \\right)}$"
      ],
      "text/plain": [
       "   2                               \n",
       "- x ⋅cos(x) + 2⋅x⋅sin(x) + 2⋅cos(x)"
      ]
     },
     "execution_count": 4,
     "metadata": {},
     "output_type": "execute_result"
    }
   ],
   "source": [
    "SymPy.integrate(*(^(x,2),SymPy.sin(x)))"
   ]
  },
  {
   "cell_type": "code",
   "execution_count": 5,
   "id": "943d11b3",
   "metadata": {},
   "outputs": [],
   "source": [
    "using Polynomials"
   ]
  },
  {
   "cell_type": "code",
   "execution_count": 6,
   "id": "2d5885e0",
   "metadata": {},
   "outputs": [
    {
     "data": {
      "text/html": [
       "4 &#45; 3&#8729;x &#43; x<sup>2</sup>"
      ],
      "text/latex": [
       "$4 - 3\\cdot x + x^{2}$"
      ],
      "text/plain": [
       "Polynomial(4 - 3*x + x^2)"
      ]
     },
     "execution_count": 6,
     "metadata": {},
     "output_type": "execute_result"
    }
   ],
   "source": [
    "p1=Polynomial([4,-3,1])"
   ]
  },
  {
   "cell_type": "code",
   "execution_count": 9,
   "id": "19686912",
   "metadata": {},
   "outputs": [
    {
     "data": {
      "text/plain": [
       "2-element Vector{ComplexF64}:\n",
       " 1.5 - 1.3228756555322951im\n",
       " 1.5 + 1.3228756555322951im"
      ]
     },
     "execution_count": 9,
     "metadata": {},
     "output_type": "execute_result"
    }
   ],
   "source": [
    "Polynomials.roots(p1)"
   ]
  },
  {
   "cell_type": "code",
   "execution_count": 10,
   "id": "a2f950ae",
   "metadata": {},
   "outputs": [
    {
     "data": {
      "text/plain": [
       "17340.0"
      ]
     },
     "execution_count": 10,
     "metadata": {},
     "output_type": "execute_result"
    }
   ],
   "source": [
    "*(600000,0.0289)"
   ]
  },
  {
   "cell_type": "code",
   "execution_count": 4,
   "id": "4c4bfcd9",
   "metadata": {},
   "outputs": [
    {
     "data": {
      "text/plain": [
       "691858.1902371955"
      ]
     },
     "execution_count": 4,
     "metadata": {},
     "output_type": "execute_result"
    }
   ],
   "source": [
    "a1=600000*(1+0.0289)^5"
   ]
  },
  {
   "cell_type": "code",
   "execution_count": 47,
   "id": "79ba3587",
   "metadata": {},
   "outputs": [
    {
     "data": {
      "text/plain": [
       "0.041430391430734126"
      ]
     },
     "execution_count": 47,
     "metadata": {},
     "output_type": "execute_result"
    }
   ],
   "source": [
    "a2=-(^(/(705784.7,600000),/(1,4)),1)"
   ]
  },
  {
   "cell_type": "code",
   "execution_count": 1,
   "id": "e1b53a28",
   "metadata": {},
   "outputs": [],
   "source": [
    "using SymPy"
   ]
  },
  {
   "cell_type": "code",
   "execution_count": 2,
   "id": "e5442875",
   "metadata": {},
   "outputs": [
    {
     "data": {
      "text/plain": [
       "(x,)"
      ]
     },
     "execution_count": 2,
     "metadata": {},
     "output_type": "execute_result"
    }
   ],
   "source": [
    "@vars x"
   ]
  },
  {
   "cell_type": "code",
   "execution_count": 3,
   "id": "808c2eeb",
   "metadata": {},
   "outputs": [
    {
     "data": {
      "text/plain": [
       "p (generic function with 1 method)"
      ]
     },
     "execution_count": 3,
     "metadata": {},
     "output_type": "execute_result"
    }
   ],
   "source": [
    "p(x)=^(+(x,2),3)"
   ]
  },
  {
   "cell_type": "code",
   "execution_count": 5,
   "id": "10026d1e",
   "metadata": {},
   "outputs": [
    {
     "data": {
      "text/latex": [
       "$x^{3} + 6 x^{2} + 12 x + 8$"
      ],
      "text/plain": [
       " 3      2           \n",
       "x  + 6⋅x  + 12⋅x + 8"
      ]
     },
     "execution_count": 5,
     "metadata": {},
     "output_type": "execute_result"
    }
   ],
   "source": [
    "expand(p(x))"
   ]
  },
  {
   "cell_type": "code",
   "execution_count": 9,
   "id": "77279eca",
   "metadata": {},
   "outputs": [
    {
     "data": {
      "text/plain": [
       "p2 (generic function with 1 method)"
      ]
     },
     "execution_count": 9,
     "metadata": {},
     "output_type": "execute_result"
    }
   ],
   "source": [
    "p2(x)=+(*(//(-1,7),^(x,7)),*(//(1,4),^(x,4)),*(2,^(x,3)),*(6,^(x,2)),*(8,x))"
   ]
  },
  {
   "cell_type": "code",
   "execution_count": 11,
   "id": "da9281d3",
   "metadata": {},
   "outputs": [
    {
     "data": {
      "text/plain": [
       "423//28"
      ]
     },
     "execution_count": 11,
     "metadata": {},
     "output_type": "execute_result"
    }
   ],
   "source": [
    "//(-(p2(2),p2(-1)),3)"
   ]
  },
  {
   "cell_type": "code",
   "execution_count": 12,
   "id": "802f5b2b",
   "metadata": {},
   "outputs": [
    {
     "data": {
      "text/plain": [
       "p3 (generic function with 1 method)"
      ]
     },
     "execution_count": 12,
     "metadata": {},
     "output_type": "execute_result"
    }
   ],
   "source": [
    "p3(x)=+(*(//(1,4),^(x,4)),*(//(2,3),^(x,3)),*(//(-1,5),^(x,5)))"
   ]
  },
  {
   "cell_type": "code",
   "execution_count": 14,
   "id": "6fb2c9dd",
   "metadata": {},
   "outputs": [
    {
     "data": {
      "text/plain": [
       "63//20"
      ]
     },
     "execution_count": 14,
     "metadata": {},
     "output_type": "execute_result"
    }
   ],
   "source": [
    "-(p3(2),p3(-1))"
   ]
  },
  {
   "cell_type": "code",
   "execution_count": 17,
   "id": "454c9582",
   "metadata": {},
   "outputs": [
    {
     "data": {
      "text/plain": [
       "p4 (generic function with 1 method)"
      ]
     },
     "execution_count": 17,
     "metadata": {},
     "output_type": "execute_result"
    }
   ],
   "source": [
    "p4(x)=+(*(//(1,5),^(x,5)),*(//(1,2),^(x,4)),*(//(-1,6),^(x,6)))"
   ]
  },
  {
   "cell_type": "code",
   "execution_count": 18,
   "id": "5294180e",
   "metadata": {},
   "outputs": [
    {
     "data": {
      "text/latex": [
       "$- \\frac{x^{6}}{6} + \\frac{x^{5}}{5} + \\frac{x^{4}}{2}$"
      ],
      "text/plain": [
       "   6    5    4\n",
       "  x    x    x \n",
       "- ── + ── + ──\n",
       "  6    5    2 "
      ]
     },
     "execution_count": 18,
     "metadata": {},
     "output_type": "execute_result"
    }
   ],
   "source": [
    "p4(x)"
   ]
  },
  {
   "cell_type": "code",
   "execution_count": 19,
   "id": "6b934118",
   "metadata": {},
   "outputs": [
    {
     "data": {
      "text/plain": [
       "18//5"
      ]
     },
     "execution_count": 19,
     "metadata": {},
     "output_type": "execute_result"
    }
   ],
   "source": [
    "-(p4(2),p4(-1))"
   ]
  },
  {
   "cell_type": "code",
   "execution_count": 20,
   "id": "e68ae3a7",
   "metadata": {},
   "outputs": [
    {
     "data": {
      "text/plain": [
       "8//7"
      ]
     },
     "execution_count": 20,
     "metadata": {},
     "output_type": "execute_result"
    }
   ],
   "source": [
    "//(*(20,18),*(63,5))"
   ]
  },
  {
   "cell_type": "code",
   "execution_count": 30,
   "id": "cb36513b",
   "metadata": {},
   "outputs": [
    {
     "data": {
      "text/plain": [
       "p5 (generic function with 1 method)"
      ]
     },
     "execution_count": 30,
     "metadata": {},
     "output_type": "execute_result"
    }
   ],
   "source": [
    "p5(x)=-(*(^(x,2),^(+(x,2),2)),^(x,6))"
   ]
  },
  {
   "cell_type": "code",
   "execution_count": 31,
   "id": "6cfb269c",
   "metadata": {},
   "outputs": [
    {
     "data": {
      "text/latex": [
       "$- x^{6} + x^{2} \\left(x + 2\\right)^{2}$"
      ],
      "text/plain": [
       "   6    2        2\n",
       "- x  + x ⋅(x + 2) "
      ]
     },
     "execution_count": 31,
     "metadata": {},
     "output_type": "execute_result"
    }
   ],
   "source": [
    "p5(x)"
   ]
  },
  {
   "cell_type": "code",
   "execution_count": 32,
   "id": "5ce44bb4",
   "metadata": {},
   "outputs": [
    {
     "data": {
      "text/latex": [
       "$- x^{6} + x^{4} + 4 x^{3} + 4 x^{2}$"
      ],
      "text/plain": [
       "   6    4      3      2\n",
       "- x  + x  + 4⋅x  + 4⋅x "
      ]
     },
     "execution_count": 32,
     "metadata": {},
     "output_type": "execute_result"
    }
   ],
   "source": [
    "SymPy.expand(p5(x))"
   ]
  },
  {
   "cell_type": "code",
   "execution_count": 26,
   "id": "f98791ca",
   "metadata": {},
   "outputs": [
    {
     "data": {
      "text/plain": [
       "p6 (generic function with 1 method)"
      ]
     },
     "execution_count": 26,
     "metadata": {},
     "output_type": "execute_result"
    }
   ],
   "source": [
    "p6(x)=+(*(//(1,4),^(x,4)),*(//(1,3),^(x,3)))"
   ]
  },
  {
   "cell_type": "code",
   "execution_count": 27,
   "id": "bb644520",
   "metadata": {},
   "outputs": [
    {
     "data": {
      "text/latex": [
       "$\\frac{x^{4}}{4} + \\frac{x^{3}}{3}$"
      ],
      "text/plain": [
       " 4    3\n",
       "x    x \n",
       "── + ──\n",
       "4    3 "
      ]
     },
     "execution_count": 27,
     "metadata": {},
     "output_type": "execute_result"
    }
   ],
   "source": [
    "p6(x)"
   ]
  },
  {
   "cell_type": "code",
   "execution_count": 28,
   "id": "10e89239",
   "metadata": {},
   "outputs": [
    {
     "data": {
      "text/plain": [
       "27//4"
      ]
     },
     "execution_count": 28,
     "metadata": {},
     "output_type": "execute_result"
    }
   ],
   "source": [
    "-(p6(2),p6(-1))"
   ]
  },
  {
   "cell_type": "code",
   "execution_count": 29,
   "id": "5b6d1607",
   "metadata": {},
   "outputs": [
    {
     "data": {
      "text/plain": [
       "30//7"
      ]
     },
     "execution_count": 29,
     "metadata": {},
     "output_type": "execute_result"
    }
   ],
   "source": [
    "//(*(20,27),*(63,2))"
   ]
  },
  {
   "cell_type": "code",
   "execution_count": 34,
   "id": "edb04bb0",
   "metadata": {},
   "outputs": [
    {
     "data": {
      "text/plain": [
       "p7 (generic function with 1 method)"
      ]
     },
     "execution_count": 34,
     "metadata": {},
     "output_type": "execute_result"
    }
   ],
   "source": [
    "p7(x)=+(*(//(-1,7),^(x,7)),*(//(1,5),^(x,5)),^(x,4),*(//(4,3),^(x,3)))"
   ]
  },
  {
   "cell_type": "code",
   "execution_count": 35,
   "id": "ac55a321",
   "metadata": {},
   "outputs": [
    {
     "data": {
      "text/plain": [
       "531//35"
      ]
     },
     "execution_count": 35,
     "metadata": {},
     "output_type": "execute_result"
    }
   ],
   "source": [
    "-(p7(2),p7(-1))"
   ]
  },
  {
   "cell_type": "code",
   "execution_count": 36,
   "id": "cf2ffc19",
   "metadata": {},
   "outputs": [
    {
     "data": {
      "text/plain": [
       "118//49"
      ]
     },
     "execution_count": 36,
     "metadata": {},
     "output_type": "execute_result"
    }
   ],
   "source": [
    "//(*(20,531),*(63,35,2))"
   ]
  },
  {
   "cell_type": "code",
   "execution_count": 43,
   "id": "bdfe730d",
   "metadata": {},
   "outputs": [
    {
     "data": {
      "text/plain": [
       "113550.21491635905"
      ]
     },
     "execution_count": 43,
     "metadata": {},
     "output_type": "execute_result"
    }
   ],
   "source": [
    "b1=-(*(605000,^(+(1,0.035),5)),605000)"
   ]
  },
  {
   "cell_type": "code",
   "execution_count": 44,
   "id": "20f22421",
   "metadata": {},
   "outputs": [
    {
     "data": {
      "text/plain": [
       "12765.5"
      ]
     },
     "execution_count": 44,
     "metadata": {},
     "output_type": "execute_result"
    }
   ],
   "source": [
    "b2=*(605000,0.0211)"
   ]
  },
  {
   "cell_type": "code",
   "execution_count": 46,
   "id": "fe20cc02",
   "metadata": {},
   "outputs": [
    {
     "data": {
      "text/plain": [
       "705784.714916359"
      ]
     },
     "execution_count": 46,
     "metadata": {},
     "output_type": "execute_result"
    }
   ],
   "source": [
    "(b1-b2)+605000"
   ]
  },
  {
   "cell_type": "code",
   "execution_count": null,
   "id": "b6004c7b",
   "metadata": {},
   "outputs": [],
   "source": []
  },
  {
   "cell_type": "code",
   "execution_count": null,
   "id": "7cfe0417",
   "metadata": {},
   "outputs": [],
   "source": []
  },
  {
   "cell_type": "code",
   "execution_count": null,
   "id": "e46c48d6",
   "metadata": {},
   "outputs": [],
   "source": []
  },
  {
   "cell_type": "code",
   "execution_count": null,
   "id": "39e72f0a",
   "metadata": {},
   "outputs": [],
   "source": []
  },
  {
   "cell_type": "code",
   "execution_count": null,
   "id": "4b5d9bfe",
   "metadata": {},
   "outputs": [],
   "source": []
  },
  {
   "cell_type": "code",
   "execution_count": null,
   "id": "34dcd873",
   "metadata": {},
   "outputs": [],
   "source": []
  }
 ],
 "metadata": {
  "kernelspec": {
   "display_name": "Julia 1.7.2",
   "language": "julia",
   "name": "julia-1.7"
  },
  "language_info": {
   "file_extension": ".jl",
   "mimetype": "application/julia",
   "name": "julia",
   "version": "1.7.2"
  }
 },
 "nbformat": 4,
 "nbformat_minor": 5
}
