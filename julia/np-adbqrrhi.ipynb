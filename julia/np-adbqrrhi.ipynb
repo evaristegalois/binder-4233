{
 "cells": [
  {
   "cell_type": "markdown",
   "metadata": {},
   "source": [
    "<h4>Mechanical Vibrations: Mass-Spring-Pulley System</h4>"
   ]
  },
  {
   "cell_type": "markdown",
   "metadata": {},
   "source": [
    "<img src=\"./diagrams/adbqrrhi.png\" width=\"25%\" height=\"25%\">"
   ]
  },
  {
   "cell_type": "markdown",
   "metadata": {},
   "source": [
    "A mass $m$ hangs on the end of a cord around a pulley of\n",
    "radius $a$ and moment of inertia $I$.\n",
    "The rim of the pulley is attached to a spring (with constant\n",
    "$k$). Assume small oscillations so that the spring remains\n",
    "essentially horizontal and neglect friction. Find the natural circular frequency of the system in terms of $m,a,k,I,g$."
   ]
  },
  {
   "cell_type": "markdown",
   "metadata": {},
   "source": [
    "Ignore spring and pulley for a moment. Then \n",
    "$$\n",
    "\\frac{1}{2}mv^{2}+mgx=E\n",
    "$$ \n",
    "and after differentiation with respect to $t$, \n",
    "$$x''=-g$$\n",
    "as expected. "
   ]
  },
  {
   "cell_type": "markdown",
   "metadata": {},
   "source": [
    "Now add the spring. Then\n",
    "$$\n",
    "\\frac{1}{2}mv^{2}+\\frac{1}{2}kx^{2}+mgx=E\n",
    "$$\n",
    "and therefore\n",
    "$$\n",
    "mx''x'+kxx'+mgx'=0\\Rightarrow{}mx''+kx+mg=0\n",
    "$$\n",
    "which makes sense, for if the mass is at rest and velocity and acceleration are zero, you would expect gravity $-mg$ to be balanced with the upward pull of the spring $kx$. The solution is\n",
    "$$\n",
    "x(t)=-\\frac{g}{\\omega_{0}^{2}}+A\\cos\\omega_{0}t+B\\sin\\omega_{0}t\n",
    "$$\n",
    "with $\\omega_{0}=\\sqrt{\\frac{k}{m}}$."
   ]
  },
  {
   "cell_type": "markdown",
   "metadata": {},
   "source": [
    "Now add the inertia of the disk. \n",
    "$$\n",
    "\\frac{1}{2}mv^{2}+\\frac{1}{2}I\\omega^{2}+\\frac{1}{2}kx^{2}+mgx=E\n",
    "$$\n",
    "Note that $m$ in $I=\\frac{1}{2}ma^{2}$ refers to the mass of the disk, not the $m$ we are using for this problem, so let's just keep the $I$ as is.\n",
    "$$\n",
    "\\frac{1}{2}I\\omega^{2}=\\frac{1}{2}\\frac{I}{a^{2}}v^{2}\n",
    "$$\n",
    "differentiated with respect to $t$, this is\n",
    "$$\n",
    "\\frac{I}{a^{2}}x'x''\n",
    "$$\n",
    "for the now complete differential equation\n",
    "$$\n",
    "mx''+\\frac{I}{a^{2}}x''+kx+mg=0\n",
    "$$\n",
    "and a natural circular frequency of\n",
    "$$\n",
    "\\omega_{0}=\\sqrt{\\frac{k}{m+\\frac{I}{a^{2}}}}\n",
    "$$"
   ]
  }
 ],
 "metadata": {
  "kernelspec": {
   "display_name": "Julia 1.7.2",
   "language": "julia",
   "name": "julia-1.7"
  },
  "language_info": {
   "file_extension": ".jl",
   "mimetype": "application/julia",
   "name": "julia",
   "version": "1.7.2"
  }
 },
 "nbformat": 4,
 "nbformat_minor": 4
}
