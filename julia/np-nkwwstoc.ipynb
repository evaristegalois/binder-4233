{
 "cells": [
  {
   "cell_type": "markdown",
   "id": "fa8807a1",
   "metadata": {},
   "source": [
    "<h4>Simple Pendulum: Grandfather Clock</h4>"
   ]
  },
  {
   "cell_type": "markdown",
   "id": "d1b88ae7",
   "metadata": {},
   "source": [
    "Most grandfather clocks have pendulums with adjustable\n",
    "  lengths. One such clock loses 10 minutes per day when the length of\n",
    "  its pendulum is $30\\,in$. With what length pendulum will this clock\n",
    "  keep perfect time?"
   ]
  },
  {
   "cell_type": "markdown",
   "id": "435cc933",
   "metadata": {},
   "source": [
    "Note the differential equation\n",
    "$$\n",
    "\\theta''+\\frac{g}{L}\\theta=0\n",
    "$$\n",
    "with solution\n",
    "$$\n",
    "\\theta(t)=c_{1}\\cos\\left(\\sqrt{\\frac{64}{5}}t\\right)+c_{2}\\sin\\left(\\sqrt{\\frac{64}{5}}t\\right)\n",
    "$$"
   ]
  },
  {
   "cell_type": "markdown",
   "id": "7b1ec103",
   "metadata": {},
   "source": [
    "Note that the frequency is\n",
    "$$\n",
    "\\mbox{frequency}=\\frac{1}{\\mbox{period}}=\\frac{1}{2\\pi}\\sqrt{\\frac{64}{5}}\n",
    "$$"
   ]
  },
  {
   "cell_type": "code",
   "execution_count": 2,
   "id": "4540f5e9",
   "metadata": {},
   "outputs": [
    {
     "data": {
      "text/plain": [
       "0.5694100347337416"
      ]
     },
     "execution_count": 2,
     "metadata": {},
     "output_type": "execute_result"
    }
   ],
   "source": [
    "fr1=(1/(2*pi))*sqrt(64/5)"
   ]
  },
  {
   "cell_type": "markdown",
   "id": "c86cdb2c",
   "metadata": {},
   "source": [
    "We need the frequency to be faster by a factor of \n",
    "$$\n",
    "\\frac{86400}{85800}\n",
    "$$"
   ]
  },
  {
   "cell_type": "code",
   "execution_count": 11,
   "id": "f8eaac05",
   "metadata": {},
   "outputs": [
    {
     "data": {
      "text/plain": [
       "0.573391923088523"
      ]
     },
     "execution_count": 11,
     "metadata": {},
     "output_type": "execute_result"
    }
   ],
   "source": [
    "fr2=fr1*(86400/85800)"
   ]
  },
  {
   "cell_type": "code",
   "execution_count": 12,
   "id": "4d07b3c1",
   "metadata": {},
   "outputs": [
    {
     "data": {
      "text/plain": [
       "29.584780092592595"
      ]
     },
     "execution_count": 12,
     "metadata": {},
     "output_type": "execute_result"
    }
   ],
   "source": [
    "L=(32/(fr2*2*pi)^2)*12"
   ]
  },
  {
   "cell_type": "markdown",
   "id": "1e40fbb7",
   "metadata": {},
   "source": [
    "The length of the pendulum should be approximately $29.585\\,in$."
   ]
  }
 ],
 "metadata": {
  "kernelspec": {
   "display_name": "Julia 1.7.2",
   "language": "julia",
   "name": "julia-1.7"
  },
  "language_info": {
   "file_extension": ".jl",
   "mimetype": "application/julia",
   "name": "julia",
   "version": "1.7.2"
  }
 },
 "nbformat": 4,
 "nbformat_minor": 5
}
