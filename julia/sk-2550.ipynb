{
 "cells": [
  {
   "cell_type": "code",
   "execution_count": 2,
   "id": "527716ab",
   "metadata": {},
   "outputs": [],
   "source": [
    "using LinearAlgebra"
   ]
  },
  {
   "cell_type": "code",
   "execution_count": 3,
   "id": "1c76e954",
   "metadata": {},
   "outputs": [
    {
     "data": {
      "text/plain": [
       "3×3 Matrix{Int64}:\n",
       "  3   2   2\n",
       " -5  -4  -2\n",
       "  5   5   3"
      ]
     },
     "execution_count": 3,
     "metadata": {},
     "output_type": "execute_result"
    }
   ],
   "source": [
    "A1=[3 2 2;-5 -4 -2;5 5 3]"
   ]
  },
  {
   "cell_type": "code",
   "execution_count": 6,
   "id": "1fcd7049",
   "metadata": {},
   "outputs": [
    {
     "data": {
      "text/plain": [
       "3×3 Matrix{Float64}:\n",
       "  8.94826e-17  -0.707107      0.57735\n",
       "  0.707107      0.707107     -0.57735\n",
       " -0.707107      5.55112e-16   0.57735"
      ]
     },
     "execution_count": 6,
     "metadata": {},
     "output_type": "execute_result"
    }
   ],
   "source": [
    "ev=eigvecs(A1)"
   ]
  },
  {
   "cell_type": "code",
   "execution_count": 5,
   "id": "f3abe108",
   "metadata": {},
   "outputs": [
    {
     "data": {
      "text/plain": [
       "3-element Vector{Float64}:\n",
       " -2.0000000000000018\n",
       "  0.9999999999999999\n",
       "  3.0000000000000018"
      ]
     },
     "execution_count": 5,
     "metadata": {},
     "output_type": "execute_result"
    }
   ],
   "source": [
    "eigvals(A1)"
   ]
  },
  {
   "cell_type": "code",
   "execution_count": 7,
   "id": "98fea877",
   "metadata": {},
   "outputs": [
    {
     "data": {
      "text/plain": [
       "3×3 Matrix{Int64}:\n",
       " -2  0  0\n",
       "  0  1  0\n",
       "  0  0  3"
      ]
     },
     "execution_count": 7,
     "metadata": {},
     "output_type": "execute_result"
    }
   ],
   "source": [
    "D1=[-2 0 0;0 1 0;0 0 3]"
   ]
  },
  {
   "cell_type": "code",
   "execution_count": 9,
   "id": "09ad368f",
   "metadata": {},
   "outputs": [
    {
     "data": {
      "text/plain": [
       "3×3 Matrix{Float64}:\n",
       "  3.0   2.0   2.0\n",
       " -5.0  -4.0  -2.0\n",
       "  5.0   5.0   3.0"
      ]
     },
     "execution_count": 9,
     "metadata": {},
     "output_type": "execute_result"
    }
   ],
   "source": [
    "ev*D1*inv(ev)"
   ]
  },
  {
   "cell_type": "code",
   "execution_count": 1,
   "id": "f71658f5",
   "metadata": {},
   "outputs": [
    {
     "data": {
      "text/plain": [
       "3×3 Matrix{Int64}:\n",
       "  0  -1   1\n",
       "  1   1  -1\n",
       " -1   0   1"
      ]
     },
     "execution_count": 1,
     "metadata": {},
     "output_type": "execute_result"
    }
   ],
   "source": [
    "Phi1=[0 -1 1;1 1 -1;-1 0 1]"
   ]
  },
  {
   "cell_type": "code",
   "execution_count": 2,
   "id": "672cefad",
   "metadata": {},
   "outputs": [],
   "source": [
    "using SymPy"
   ]
  },
  {
   "cell_type": "code",
   "execution_count": 3,
   "id": "ec078ff1",
   "metadata": {},
   "outputs": [
    {
     "data": {
      "text/plain": [
       "(t,)"
      ]
     },
     "execution_count": 3,
     "metadata": {},
     "output_type": "execute_result"
    }
   ],
   "source": [
    "@vars t"
   ]
  },
  {
   "cell_type": "code",
   "execution_count": 4,
   "id": "62aa0740",
   "metadata": {},
   "outputs": [
    {
     "data": {
      "text/latex": [
       "$\\left[ \\begin{array}{rrr}0&- e^{- t}&e^{3 t}\\\\e^{- 2 t}&e^{- t}&- e^{3 t}\\\\- e^{- 2 t}&0&e^{3 t}\\end{array}\\right]$\n"
      ],
      "text/plain": [
       "3×3 Matrix{Sym}:\n",
       "          0  -exp(-t)   exp(3*t)\n",
       "  exp(-2*t)   exp(-t)  -exp(3*t)\n",
       " -exp(-2*t)         0   exp(3*t)"
      ]
     },
     "execution_count": 4,
     "metadata": {},
     "output_type": "execute_result"
    }
   ],
   "source": [
    "Phit1=[0 -exp(-t) exp(3*t)\n",
    "exp(-2*t) exp(-t) -exp(3*t)\n",
    "-exp(-2*t) 0 exp(3*t)]"
   ]
  },
  {
   "cell_type": "code",
   "execution_count": 6,
   "id": "5f6e02c7",
   "metadata": {},
   "outputs": [
    {
     "data": {
      "text/plain": [
       "3×1 adjoint(::Matrix{Int64}) with eltype Int64:\n",
       "  1\n",
       "  0\n",
       " -1"
      ]
     },
     "execution_count": 6,
     "metadata": {},
     "output_type": "execute_result"
    }
   ],
   "source": [
    "x0=[1 0 -1]'"
   ]
  },
  {
   "cell_type": "code",
   "execution_count": 7,
   "id": "63ae16d3",
   "metadata": {},
   "outputs": [
    {
     "data": {
      "text/latex": [
       "$\\left[ \\begin{array}{r}1.0 e^{- t}\\\\- 1.0 e^{- t} + 1.0 e^{- 2 t}\\\\- 1.0 e^{- 2 t}\\end{array}\\right]$\n"
      ],
      "text/plain": [
       "3×1 Matrix{Sym}:\n",
       "                  1.0*exp(-t)\n",
       " -1.0*exp(-t) + 1.0*exp(-2*t)\n",
       "               -1.0*exp(-2*t)"
      ]
     },
     "execution_count": 7,
     "metadata": {},
     "output_type": "execute_result"
    }
   ],
   "source": [
    "Phit1*inv(Phi1)*x0"
   ]
  },
  {
   "cell_type": "code",
   "execution_count": 8,
   "id": "64e26269",
   "metadata": {},
   "outputs": [
    {
     "data": {
      "text/latex": [
       "$\\left[ \\begin{array}{rr}2 e^{15 t}&e^{5 t}\\\\e^{15 t}&- 2 e^{5 t}\\end{array}\\right]$\n"
      ],
      "text/plain": [
       "2×2 Matrix{Sym}:\n",
       " 2*exp(15*t)     exp(5*t)\n",
       "   exp(15*t)  -2*exp(5*t)"
      ]
     },
     "execution_count": 8,
     "metadata": {},
     "output_type": "execute_result"
    }
   ],
   "source": [
    "eat=[2*exp(15*t) exp(5*t)\n",
    "exp(15*t) (-2)*exp(5*t)]"
   ]
  },
  {
   "cell_type": "code",
   "execution_count": 10,
   "id": "f540a3ad",
   "metadata": {},
   "outputs": [
    {
     "data": {
      "text/latex": [
       "$\\left[ \\begin{array}{rr}0.8 e^{15 t} + 0.2 e^{5 t}&0.4 e^{15 t} - 0.4 e^{5 t}\\\\0.4 e^{15 t} - 0.4 e^{5 t}&0.2 e^{15 t} + 0.8 e^{5 t}\\end{array}\\right]$\n"
      ],
      "text/plain": [
       "2×2 Matrix{Sym}:\n",
       " 0.8*exp(15*t) + 0.2*exp(5*t)  0.4*exp(15*t) - 0.4*exp(5*t)\n",
       " 0.4*exp(15*t) - 0.4*exp(5*t)  0.2*exp(15*t) + 0.8*exp(5*t)"
      ]
     },
     "execution_count": 10,
     "metadata": {},
     "output_type": "execute_result"
    }
   ],
   "source": [
    "eat*inv([2 1;1 -2])"
   ]
  },
  {
   "cell_type": "code",
   "execution_count": 11,
   "id": "5f341635",
   "metadata": {},
   "outputs": [
    {
     "data": {
      "text/plain": [
       "3×3 Matrix{Int64}:\n",
       " 3  0  -3\n",
       " 5  0   7\n",
       " 3  0  -3"
      ]
     },
     "execution_count": 11,
     "metadata": {},
     "output_type": "execute_result"
    }
   ],
   "source": [
    "B1=[3 0 -3;5 0 7;3 0 -3]"
   ]
  },
  {
   "cell_type": "code",
   "execution_count": 12,
   "id": "c4aa82fe",
   "metadata": {},
   "outputs": [
    {
     "data": {
      "text/plain": [
       "3×3 Matrix{Int64}:\n",
       "  0  0    0\n",
       " 36  0  -36\n",
       "  0  0    0"
      ]
     },
     "execution_count": 12,
     "metadata": {},
     "output_type": "execute_result"
    }
   ],
   "source": [
    "B1^2"
   ]
  },
  {
   "cell_type": "code",
   "execution_count": 13,
   "id": "66214560",
   "metadata": {},
   "outputs": [
    {
     "data": {
      "text/plain": [
       "3×3 Matrix{Int64}:\n",
       " 0  0  0\n",
       " 0  0  0\n",
       " 0  0  0"
      ]
     },
     "execution_count": 13,
     "metadata": {},
     "output_type": "execute_result"
    }
   ],
   "source": [
    "B1^3"
   ]
  },
  {
   "cell_type": "code",
   "execution_count": 17,
   "id": "ea8fca05",
   "metadata": {},
   "outputs": [
    {
     "data": {
      "text/latex": [
       "$\\left[ \\begin{array}{rrr}3 t + 1&0&- 3 t\\\\18.0 t^{2} + 5 t&1&- 18.0 t^{2} + 7 t\\\\3 t&0&1 - 3 t\\end{array}\\right]$\n"
      ],
      "text/plain": [
       "3×3 Matrix{Sym}:\n",
       "        3⋅t + 1  0             -3⋅t\n",
       " 18.0*t^2 + 5*t  1  -18.0*t^2 + 7*t\n",
       "            3⋅t  0          1 - 3⋅t"
      ]
     },
     "execution_count": 17,
     "metadata": {},
     "output_type": "execute_result"
    }
   ],
   "source": [
    "eat=B1^0+B1*t+(1/2)*B1^2*t^2"
   ]
  },
  {
   "cell_type": "code",
   "execution_count": 18,
   "id": "8e8040da",
   "metadata": {},
   "outputs": [
    {
     "data": {
      "text/plain": [
       "4×4 Matrix{Int64}:\n",
       "  0  0  0  0\n",
       "  6  0  0  0\n",
       "  9  6  0  0\n",
       " 12  9  6  0"
      ]
     },
     "execution_count": 18,
     "metadata": {},
     "output_type": "execute_result"
    }
   ],
   "source": [
    "B2=[0 0 0 0\n",
    "6 0 0 0\n",
    "9 6 0 0\n",
    "12 9 6 0]"
   ]
  },
  {
   "cell_type": "code",
   "execution_count": 19,
   "id": "f0ceef7a",
   "metadata": {},
   "outputs": [
    {
     "data": {
      "text/plain": [
       "4×4 Matrix{Int64}:\n",
       " 3  0  0  0\n",
       " 0  3  0  0\n",
       " 0  0  3  0\n",
       " 0  0  0  3"
      ]
     },
     "execution_count": 19,
     "metadata": {},
     "output_type": "execute_result"
    }
   ],
   "source": [
    "B3=3*B2^0"
   ]
  },
  {
   "cell_type": "code",
   "execution_count": 20,
   "id": "26289238",
   "metadata": {},
   "outputs": [
    {
     "data": {
      "text/plain": [
       "4×4 Matrix{Int64}:\n",
       "  3  0  0  0\n",
       "  6  3  0  0\n",
       "  9  6  3  0\n",
       " 12  9  6  3"
      ]
     },
     "execution_count": 20,
     "metadata": {},
     "output_type": "execute_result"
    }
   ],
   "source": [
    "B4=B2+B3"
   ]
  },
  {
   "cell_type": "code",
   "execution_count": 21,
   "id": "2619c776",
   "metadata": {},
   "outputs": [
    {
     "data": {
      "text/plain": [
       "4×4 Matrix{Int64}:\n",
       "   0   0  0  0\n",
       "   0   0  0  0\n",
       "  36   0  0  0\n",
       " 108  36  0  0"
      ]
     },
     "execution_count": 21,
     "metadata": {},
     "output_type": "execute_result"
    }
   ],
   "source": [
    "B2^2"
   ]
  },
  {
   "cell_type": "code",
   "execution_count": 22,
   "id": "e5c4ea7a",
   "metadata": {},
   "outputs": [
    {
     "data": {
      "text/plain": [
       "4×4 Matrix{Int64}:\n",
       "   0  0  0  0\n",
       "   0  0  0  0\n",
       "   0  0  0  0\n",
       " 216  0  0  0"
      ]
     },
     "execution_count": 22,
     "metadata": {},
     "output_type": "execute_result"
    }
   ],
   "source": [
    "B2^3"
   ]
  },
  {
   "cell_type": "code",
   "execution_count": 23,
   "id": "746fe037",
   "metadata": {},
   "outputs": [
    {
     "data": {
      "text/plain": [
       "4×4 Matrix{Int64}:\n",
       " 0  0  0  0\n",
       " 0  0  0  0\n",
       " 0  0  0  0\n",
       " 0  0  0  0"
      ]
     },
     "execution_count": 23,
     "metadata": {},
     "output_type": "execute_result"
    }
   ],
   "source": [
    "B2^4"
   ]
  },
  {
   "cell_type": "code",
   "execution_count": 25,
   "id": "05adfe0e",
   "metadata": {},
   "outputs": [
    {
     "data": {
      "text/latex": [
       "$\\left[ \\begin{array}{rrrr}e^{3 t}&0&0&0\\\\6 t e^{3 t}&e^{3 t}&0&0\\\\\\left(18.0 t^{2} + 9 t\\right) e^{3 t}&6 t e^{3 t}&e^{3 t}&0\\\\\\left(36.0 t^{3} + 54.0 t^{2} + 12 t\\right) e^{3 t}&\\left(18.0 t^{2} + 9 t\\right) e^{3 t}&6 t e^{3 t}&e^{3 t}\\end{array}\\right]$\n"
      ],
      "text/plain": [
       "4×4 Matrix{Sym}:\n",
       "                              exp(3*t)  …             0         0\n",
       "                          6*t*exp(3*t)                0         0\n",
       "             (18.0*t^2 + 9*t)*exp(3*t)         exp(3*t)         0\n",
       " (36.0*t^3 + 54.0*t^2 + 12*t)*exp(3*t)     6*t*exp(3*t)  exp(3*t)"
      ]
     },
     "execution_count": 25,
     "metadata": {},
     "output_type": "execute_result"
    }
   ],
   "source": [
    "eat=exp(3*t)*B3^0*(B3^0+B2*t+(1/2)*B2^2*t^2+(1/6)*B2^3*t^3)"
   ]
  },
  {
   "cell_type": "code",
   "execution_count": 26,
   "id": "46296b64",
   "metadata": {},
   "outputs": [
    {
     "data": {
      "text/latex": [
       "$\\left[ \\begin{array}{r}e^{3 t}\\\\6 t e^{3 t} + e^{3 t}\\\\6 t e^{3 t} + \\left(18.0 t^{2} + 9 t\\right) e^{3 t} + e^{3 t}\\\\6 t e^{3 t} + \\left(18.0 t^{2} + 9 t\\right) e^{3 t} + \\left(36.0 t^{3} + 54.0 t^{2} + 12 t\\right) e^{3 t} + e^{3 t}\\end{array}\\right]$\n"
      ],
      "text/plain": [
       "4×1 Matrix{Sym}:\n",
       "                                                                                    exp(3*t)\n",
       "                                                                     6*t*exp(3*t) + exp(3*t)\n",
       "                                         6*t*exp(3*t) + (18.0*t^2 + 9*t)*exp(3*t) + exp(3*t)\n",
       " 6*t*exp(3*t) + (18.0*t^2 + 9*t)*exp(3*t) + (36.0*t^3 + 54.0*t^2 + 12*t)*exp(3*t) + exp(3*t)"
      ]
     },
     "execution_count": 26,
     "metadata": {},
     "output_type": "execute_result"
    }
   ],
   "source": [
    "eat*[1 1 1 1]'"
   ]
  },
  {
   "cell_type": "code",
   "execution_count": 46,
   "id": "5d9c2d71",
   "metadata": {},
   "outputs": [
    {
     "data": {
      "text/plain": [
       "3×3 Matrix{Int64}:\n",
       " 2   0  0\n",
       " 0  -3  0\n",
       " 0   0  1"
      ]
     },
     "execution_count": 46,
     "metadata": {},
     "output_type": "execute_result"
    }
   ],
   "source": [
    "A1=[2 0 0;0 -3 0;0 0 1] # EPC 360:31"
   ]
  },
  {
   "cell_type": "code",
   "execution_count": 47,
   "id": "ab7e4ebe",
   "metadata": {},
   "outputs": [
    {
     "data": {
      "text/plain": [
       "3×3 Matrix{Int64}:\n",
       " 5  0   0\n",
       " 0  6   0\n",
       " 0  0  -2"
      ]
     },
     "execution_count": 47,
     "metadata": {},
     "output_type": "execute_result"
    }
   ],
   "source": [
    "B1=[5 0 0; 0 6 0;0 0 -2]"
   ]
  },
  {
   "cell_type": "code",
   "execution_count": 48,
   "id": "50ca306f",
   "metadata": {},
   "outputs": [
    {
     "data": {
      "text/plain": [
       "3×3 Matrix{Int64}:\n",
       " -7  -4   5\n",
       "  0  -2  -2\n",
       " -5   6   2"
      ]
     },
     "execution_count": 48,
     "metadata": {},
     "output_type": "execute_result"
    }
   ],
   "source": [
    "P=rand(-9:9,(3,3))"
   ]
  },
  {
   "cell_type": "code",
   "execution_count": 49,
   "id": "7eb901e0",
   "metadata": {},
   "outputs": [
    {
     "data": {
      "text/plain": [
       "3×3 Matrix{Float64}:\n",
       "  0.287671  0.616438   2.39726\n",
       " -0.547945  0.39726    0.767123\n",
       "  1.91781   3.10959   -0.684932"
      ]
     },
     "execution_count": 49,
     "metadata": {},
     "output_type": "execute_result"
    }
   ],
   "source": [
    "A=P*A1*inv(P)"
   ]
  },
  {
   "cell_type": "code",
   "execution_count": 50,
   "id": "0902d93d",
   "metadata": {},
   "outputs": [
    {
     "data": {
      "text/plain": [
       "3×3 Matrix{Float64}:\n",
       "  2.87671  15.1644     2.9726\n",
       "  1.09589  -0.794521  -1.53425\n",
       " -1.36986   5.49315    6.91781"
      ]
     },
     "execution_count": 50,
     "metadata": {},
     "output_type": "execute_result"
    }
   ],
   "source": [
    "B=P*B1*inv(P)"
   ]
  },
  {
   "cell_type": "code",
   "execution_count": 51,
   "id": "e2b38ab0",
   "metadata": {},
   "outputs": [
    {
     "data": {
      "text/plain": [
       "3×3 Matrix{Float64}:\n",
       " -1.78082  17.0411   16.4932\n",
       " -2.19178  -4.41096   3.06849\n",
       "  9.86301  22.8493   -3.80822"
      ]
     },
     "execution_count": 51,
     "metadata": {},
     "output_type": "execute_result"
    }
   ],
   "source": [
    "A*B"
   ]
  },
  {
   "cell_type": "code",
   "execution_count": 52,
   "id": "e294949b",
   "metadata": {},
   "outputs": [
    {
     "data": {
      "text/plain": [
       "3×3 Matrix{Float64}:\n",
       " -1.78082  17.0411   16.4932\n",
       " -2.19178  -4.41096   3.06849\n",
       "  9.86301  22.8493   -3.80822"
      ]
     },
     "execution_count": 52,
     "metadata": {},
     "output_type": "execute_result"
    }
   ],
   "source": [
    "B*A"
   ]
  },
  {
   "cell_type": "code",
   "execution_count": 56,
   "id": "e7246cdc",
   "metadata": {},
   "outputs": [
    {
     "data": {
      "text/plain": [
       "3×3 Matrix{Float64}:\n",
       " 426.255    2003.25     938.529\n",
       "   2.70105     3.33903   -3.78147\n",
       " 292.244    1417.73     687.492"
      ]
     },
     "execution_count": 56,
     "metadata": {},
     "output_type": "execute_result"
    }
   ],
   "source": [
    "exp(A+B)"
   ]
  },
  {
   "cell_type": "code",
   "execution_count": 57,
   "id": "6f2dbd35",
   "metadata": {},
   "outputs": [
    {
     "data": {
      "text/plain": [
       "3×3 Matrix{Float64}:\n",
       " 426.255    2003.25     938.529\n",
       "   2.70105     3.33903   -3.78147\n",
       " 292.244    1417.73     687.492"
      ]
     },
     "execution_count": 57,
     "metadata": {},
     "output_type": "execute_result"
    }
   ],
   "source": [
    "exp(A)*exp(B)"
   ]
  },
  {
   "cell_type": "code",
   "execution_count": 59,
   "id": "9e621a09",
   "metadata": {},
   "outputs": [
    {
     "data": {
      "text/plain": [
       "3×3 Matrix{Int64}:\n",
       "   0   1   0\n",
       "   0   0   1\n",
       " -72  39  -2"
      ]
     },
     "execution_count": 59,
     "metadata": {},
     "output_type": "execute_result"
    }
   ],
   "source": [
    "C1=[0 1 0;0 0 1;-72 39 -2] # Library/AlfredUniv/diffeq/constantcoefficient/constant6.pg"
   ]
  },
  {
   "cell_type": "code",
   "execution_count": 62,
   "id": "5ee442e1",
   "metadata": {},
   "outputs": [
    {
     "data": {
      "text/latex": [
       "$\\left[ \\begin{array}{r}\\frac{101 t e^{3 t}}{11} - \\frac{596 e^{3 t}}{121} - \\frac{9 e^{- 8 t}}{121}\\\\\\frac{303 t e^{3 t}}{11} - \\frac{677 e^{3 t}}{121} + \\frac{72 e^{- 8 t}}{121}\\\\\\frac{909 t e^{3 t}}{11} + \\frac{1302 e^{3 t}}{121} - \\frac{576 e^{- 8 t}}{121}\\end{array}\\right]$\n"
      ],
      "text/plain": [
       "3×1 Matrix{Sym}:\n",
       "    101*t*exp(3*t)/11 - 596*exp(3*t)/121 - 9*exp(-8*t)/121\n",
       "   303*t*exp(3*t)/11 - 677*exp(3*t)/121 + 72*exp(-8*t)/121\n",
       " 909*t*exp(3*t)/11 + 1302*exp(3*t)/121 - 576*exp(-8*t)/121"
      ]
     },
     "execution_count": 62,
     "metadata": {},
     "output_type": "execute_result"
    }
   ],
   "source": [
    "exp(C1*t)*[-5 -5 6]'"
   ]
  },
  {
   "cell_type": "code",
   "execution_count": 13,
   "id": "3105ce47",
   "metadata": {},
   "outputs": [
    {
     "data": {
      "text/plain": [
       "3.5416666666666665"
      ]
     },
     "execution_count": 13,
     "metadata": {},
     "output_type": "execute_result"
    }
   ],
   "source": [
    "17000/4800"
   ]
  },
  {
   "cell_type": "code",
   "execution_count": 2,
   "id": "39e9d7a7",
   "metadata": {},
   "outputs": [],
   "source": [
    "using DifferentialEquations"
   ]
  },
  {
   "cell_type": "code",
   "execution_count": 12,
   "id": "b2b7d447",
   "metadata": {},
   "outputs": [
    {
     "data": {
      "image/svg+xml": [
       "<?xml version=\"1.0\" encoding=\"utf-8\"?>\n",
       "<svg xmlns=\"http://www.w3.org/2000/svg\" xmlns:xlink=\"http://www.w3.org/1999/xlink\" width=\"600\" height=\"400\" viewBox=\"0 0 2400 1600\">\n",
       "<defs>\n",
       "  <clipPath id=\"clip850\">\n",
       "    <rect x=\"0\" y=\"0\" width=\"2400\" height=\"1600\"/>\n",
       "  </clipPath>\n",
       "</defs>\n",
       "<path clip-path=\"url(#clip850)\" d=\"\n",
       "M0 1600 L2400 1600 L2400 0 L0 0  Z\n",
       "  \" fill=\"#ffffff\" fill-rule=\"evenodd\" fill-opacity=\"1\"/>\n",
       "<defs>\n",
       "  <clipPath id=\"clip851\">\n",
       "    <rect x=\"480\" y=\"0\" width=\"1681\" height=\"1600\"/>\n",
       "  </clipPath>\n",
       "</defs>\n",
       "<path clip-path=\"url(#clip850)\" d=\"\n",
       "M239.19 1423.18 L2352.76 1423.18 L2352.76 47.2441 L239.19 47.2441  Z\n",
       "  \" fill=\"#ffffff\" fill-rule=\"evenodd\" fill-opacity=\"1\"/>\n",
       "<defs>\n",
       "  <clipPath id=\"clip852\">\n",
       "    <rect x=\"239\" y=\"47\" width=\"2115\" height=\"1377\"/>\n",
       "  </clipPath>\n",
       "</defs>\n",
       "<polyline clip-path=\"url(#clip852)\" style=\"stroke:#000000; stroke-linecap:butt; stroke-linejoin:round; stroke-width:2; stroke-opacity:0.1; fill:none\" points=\"\n",
       "  239.19,1423.18 239.19,47.2441 \n",
       "  \"/>\n",
       "<polyline clip-path=\"url(#clip852)\" style=\"stroke:#000000; stroke-linecap:butt; stroke-linejoin:round; stroke-width:2; stroke-opacity:0.1; fill:none\" points=\"\n",
       "  591.451,1423.18 591.451,47.2441 \n",
       "  \"/>\n",
       "<polyline clip-path=\"url(#clip852)\" style=\"stroke:#000000; stroke-linecap:butt; stroke-linejoin:round; stroke-width:2; stroke-opacity:0.1; fill:none\" points=\"\n",
       "  943.712,1423.18 943.712,47.2441 \n",
       "  \"/>\n",
       "<polyline clip-path=\"url(#clip852)\" style=\"stroke:#000000; stroke-linecap:butt; stroke-linejoin:round; stroke-width:2; stroke-opacity:0.1; fill:none\" points=\"\n",
       "  1295.97,1423.18 1295.97,47.2441 \n",
       "  \"/>\n",
       "<polyline clip-path=\"url(#clip852)\" style=\"stroke:#000000; stroke-linecap:butt; stroke-linejoin:round; stroke-width:2; stroke-opacity:0.1; fill:none\" points=\"\n",
       "  1648.23,1423.18 1648.23,47.2441 \n",
       "  \"/>\n",
       "<polyline clip-path=\"url(#clip852)\" style=\"stroke:#000000; stroke-linecap:butt; stroke-linejoin:round; stroke-width:2; stroke-opacity:0.1; fill:none\" points=\"\n",
       "  2000.49,1423.18 2000.49,47.2441 \n",
       "  \"/>\n",
       "<polyline clip-path=\"url(#clip852)\" style=\"stroke:#000000; stroke-linecap:butt; stroke-linejoin:round; stroke-width:2; stroke-opacity:0.1; fill:none\" points=\"\n",
       "  2352.76,1423.18 2352.76,47.2441 \n",
       "  \"/>\n",
       "<polyline clip-path=\"url(#clip850)\" style=\"stroke:#000000; stroke-linecap:butt; stroke-linejoin:round; stroke-width:4; stroke-opacity:1; fill:none\" points=\"\n",
       "  239.19,1423.18 2352.76,1423.18 \n",
       "  \"/>\n",
       "<polyline clip-path=\"url(#clip850)\" style=\"stroke:#000000; stroke-linecap:butt; stroke-linejoin:round; stroke-width:4; stroke-opacity:1; fill:none\" points=\"\n",
       "  239.19,1423.18 239.19,1404.28 \n",
       "  \"/>\n",
       "<polyline clip-path=\"url(#clip850)\" style=\"stroke:#000000; stroke-linecap:butt; stroke-linejoin:round; stroke-width:4; stroke-opacity:1; fill:none\" points=\"\n",
       "  591.451,1423.18 591.451,1404.28 \n",
       "  \"/>\n",
       "<polyline clip-path=\"url(#clip850)\" style=\"stroke:#000000; stroke-linecap:butt; stroke-linejoin:round; stroke-width:4; stroke-opacity:1; fill:none\" points=\"\n",
       "  943.712,1423.18 943.712,1404.28 \n",
       "  \"/>\n",
       "<polyline clip-path=\"url(#clip850)\" style=\"stroke:#000000; stroke-linecap:butt; stroke-linejoin:round; stroke-width:4; stroke-opacity:1; fill:none\" points=\"\n",
       "  1295.97,1423.18 1295.97,1404.28 \n",
       "  \"/>\n",
       "<polyline clip-path=\"url(#clip850)\" style=\"stroke:#000000; stroke-linecap:butt; stroke-linejoin:round; stroke-width:4; stroke-opacity:1; fill:none\" points=\"\n",
       "  1648.23,1423.18 1648.23,1404.28 \n",
       "  \"/>\n",
       "<polyline clip-path=\"url(#clip850)\" style=\"stroke:#000000; stroke-linecap:butt; stroke-linejoin:round; stroke-width:4; stroke-opacity:1; fill:none\" points=\"\n",
       "  2000.49,1423.18 2000.49,1404.28 \n",
       "  \"/>\n",
       "<polyline clip-path=\"url(#clip850)\" style=\"stroke:#000000; stroke-linecap:butt; stroke-linejoin:round; stroke-width:4; stroke-opacity:1; fill:none\" points=\"\n",
       "  2352.76,1423.18 2352.76,1404.28 \n",
       "  \"/>\n",
       "<path clip-path=\"url(#clip850)\" d=\"M239.19 1454.1 Q235.579 1454.1 233.751 1457.66 Q231.945 1461.2 231.945 1468.33 Q231.945 1475.44 233.751 1479.01 Q235.579 1482.55 239.19 1482.55 Q242.825 1482.55 244.63 1479.01 Q246.459 1475.44 246.459 1468.33 Q246.459 1461.2 244.63 1457.66 Q242.825 1454.1 239.19 1454.1 M239.19 1450.39 Q245.001 1450.39 248.056 1455 Q251.135 1459.58 251.135 1468.33 Q251.135 1477.06 248.056 1481.67 Q245.001 1486.25 239.19 1486.25 Q233.38 1486.25 230.302 1481.67 Q227.246 1477.06 227.246 1468.33 Q227.246 1459.58 230.302 1455 Q233.38 1450.39 239.19 1450.39 Z\" fill=\"#000000\" fill-rule=\"evenodd\" fill-opacity=\"1\" /><path clip-path=\"url(#clip850)\" d=\"M566.139 1481.64 L573.778 1481.64 L573.778 1455.28 L565.468 1456.95 L565.468 1452.69 L573.731 1451.02 L578.407 1451.02 L578.407 1481.64 L586.046 1481.64 L586.046 1485.58 L566.139 1485.58 L566.139 1481.64 Z\" fill=\"#000000\" fill-rule=\"evenodd\" fill-opacity=\"1\" /><path clip-path=\"url(#clip850)\" d=\"M605.491 1454.1 Q601.879 1454.1 600.051 1457.66 Q598.245 1461.2 598.245 1468.33 Q598.245 1475.44 600.051 1479.01 Q601.879 1482.55 605.491 1482.55 Q609.125 1482.55 610.93 1479.01 Q612.759 1475.44 612.759 1468.33 Q612.759 1461.2 610.93 1457.66 Q609.125 1454.1 605.491 1454.1 M605.491 1450.39 Q611.301 1450.39 614.356 1455 Q617.435 1459.58 617.435 1468.33 Q617.435 1477.06 614.356 1481.67 Q611.301 1486.25 605.491 1486.25 Q599.68 1486.25 596.602 1481.67 Q593.546 1477.06 593.546 1468.33 Q593.546 1459.58 596.602 1455 Q599.68 1450.39 605.491 1450.39 Z\" fill=\"#000000\" fill-rule=\"evenodd\" fill-opacity=\"1\" /><path clip-path=\"url(#clip850)\" d=\"M922.485 1481.64 L938.805 1481.64 L938.805 1485.58 L916.861 1485.58 L916.861 1481.64 Q919.523 1478.89 924.106 1474.26 Q928.712 1469.61 929.893 1468.27 Q932.138 1465.74 933.018 1464.01 Q933.921 1462.25 933.921 1460.56 Q933.921 1457.8 931.976 1456.07 Q930.055 1454.33 926.953 1454.33 Q924.754 1454.33 922.3 1455.09 Q919.87 1455.86 917.092 1457.41 L917.092 1452.69 Q919.916 1451.55 922.37 1450.97 Q924.823 1450.39 926.86 1450.39 Q932.231 1450.39 935.425 1453.08 Q938.62 1455.77 938.62 1460.26 Q938.62 1462.39 937.809 1464.31 Q937.022 1466.2 934.916 1468.8 Q934.337 1469.47 931.235 1472.69 Q928.134 1475.88 922.485 1481.64 Z\" fill=\"#000000\" fill-rule=\"evenodd\" fill-opacity=\"1\" /><path clip-path=\"url(#clip850)\" d=\"M958.62 1454.1 Q955.008 1454.1 953.18 1457.66 Q951.374 1461.2 951.374 1468.33 Q951.374 1475.44 953.18 1479.01 Q955.008 1482.55 958.62 1482.55 Q962.254 1482.55 964.059 1479.01 Q965.888 1475.44 965.888 1468.33 Q965.888 1461.2 964.059 1457.66 Q962.254 1454.1 958.62 1454.1 M958.62 1450.39 Q964.43 1450.39 967.485 1455 Q970.564 1459.58 970.564 1468.33 Q970.564 1477.06 967.485 1481.67 Q964.43 1486.25 958.62 1486.25 Q952.809 1486.25 949.731 1481.67 Q946.675 1477.06 946.675 1468.33 Q946.675 1459.58 949.731 1455 Q952.809 1450.39 958.62 1450.39 Z\" fill=\"#000000\" fill-rule=\"evenodd\" fill-opacity=\"1\" /><path clip-path=\"url(#clip850)\" d=\"M1284.82 1466.95 Q1288.17 1467.66 1290.05 1469.93 Q1291.95 1472.2 1291.95 1475.53 Q1291.95 1480.65 1288.43 1483.45 Q1284.91 1486.25 1278.43 1486.25 Q1276.25 1486.25 1273.94 1485.81 Q1271.64 1485.39 1269.19 1484.54 L1269.19 1480.02 Q1271.14 1481.16 1273.45 1481.74 Q1275.76 1482.32 1278.29 1482.32 Q1282.69 1482.32 1284.98 1480.58 Q1287.29 1478.84 1287.29 1475.53 Q1287.29 1472.48 1285.14 1470.77 Q1283.01 1469.03 1279.19 1469.03 L1275.16 1469.03 L1275.16 1465.19 L1279.38 1465.19 Q1282.83 1465.19 1284.65 1463.82 Q1286.48 1462.43 1286.48 1459.84 Q1286.48 1457.18 1284.58 1455.77 Q1282.71 1454.33 1279.19 1454.33 Q1277.27 1454.33 1275.07 1454.75 Q1272.87 1455.16 1270.23 1456.04 L1270.23 1451.88 Q1272.89 1451.14 1275.21 1450.77 Q1277.55 1450.39 1279.61 1450.39 Q1284.93 1450.39 1288.03 1452.83 Q1291.14 1455.23 1291.14 1459.35 Q1291.14 1462.22 1289.49 1464.21 Q1287.85 1466.18 1284.82 1466.95 Z\" fill=\"#000000\" fill-rule=\"evenodd\" fill-opacity=\"1\" /><path clip-path=\"url(#clip850)\" d=\"M1310.81 1454.1 Q1307.2 1454.1 1305.37 1457.66 Q1303.57 1461.2 1303.57 1468.33 Q1303.57 1475.44 1305.37 1479.01 Q1307.2 1482.55 1310.81 1482.55 Q1314.45 1482.55 1316.25 1479.01 Q1318.08 1475.44 1318.08 1468.33 Q1318.08 1461.2 1316.25 1457.66 Q1314.45 1454.1 1310.81 1454.1 M1310.81 1450.39 Q1316.62 1450.39 1319.68 1455 Q1322.76 1459.58 1322.76 1468.33 Q1322.76 1477.06 1319.68 1481.67 Q1316.62 1486.25 1310.81 1486.25 Q1305 1486.25 1301.92 1481.67 Q1298.87 1477.06 1298.87 1468.33 Q1298.87 1459.58 1301.92 1455 Q1305 1450.39 1310.81 1450.39 Z\" fill=\"#000000\" fill-rule=\"evenodd\" fill-opacity=\"1\" /><path clip-path=\"url(#clip850)\" d=\"M1636.41 1455.09 L1624.6 1473.54 L1636.41 1473.54 L1636.41 1455.09 M1635.18 1451.02 L1641.06 1451.02 L1641.06 1473.54 L1645.99 1473.54 L1645.99 1477.43 L1641.06 1477.43 L1641.06 1485.58 L1636.41 1485.58 L1636.41 1477.43 L1620.8 1477.43 L1620.8 1472.92 L1635.18 1451.02 Z\" fill=\"#000000\" fill-rule=\"evenodd\" fill-opacity=\"1\" /><path clip-path=\"url(#clip850)\" d=\"M1663.72 1454.1 Q1660.11 1454.1 1658.28 1457.66 Q1656.47 1461.2 1656.47 1468.33 Q1656.47 1475.44 1658.28 1479.01 Q1660.11 1482.55 1663.72 1482.55 Q1667.35 1482.55 1669.16 1479.01 Q1670.99 1475.44 1670.99 1468.33 Q1670.99 1461.2 1669.16 1457.66 Q1667.35 1454.1 1663.72 1454.1 M1663.72 1450.39 Q1669.53 1450.39 1672.59 1455 Q1675.66 1459.58 1675.66 1468.33 Q1675.66 1477.06 1672.59 1481.67 Q1669.53 1486.25 1663.72 1486.25 Q1657.91 1486.25 1654.83 1481.67 Q1651.78 1477.06 1651.78 1468.33 Q1651.78 1459.58 1654.83 1455 Q1657.91 1450.39 1663.72 1450.39 Z\" fill=\"#000000\" fill-rule=\"evenodd\" fill-opacity=\"1\" /><path clip-path=\"url(#clip850)\" d=\"M1975.19 1451.02 L1993.55 1451.02 L1993.55 1454.96 L1979.48 1454.96 L1979.48 1463.43 Q1980.5 1463.08 1981.51 1462.92 Q1982.53 1462.73 1983.55 1462.73 Q1989.34 1462.73 1992.72 1465.9 Q1996.1 1469.08 1996.1 1474.49 Q1996.1 1480.07 1992.62 1483.17 Q1989.15 1486.25 1982.83 1486.25 Q1980.66 1486.25 1978.39 1485.88 Q1976.14 1485.51 1973.74 1484.77 L1973.74 1480.07 Q1975.82 1481.2 1978.04 1481.76 Q1980.26 1482.32 1982.74 1482.32 Q1986.75 1482.32 1989.08 1480.21 Q1991.42 1478.1 1991.42 1474.49 Q1991.42 1470.88 1989.08 1468.77 Q1986.75 1466.67 1982.74 1466.67 Q1980.87 1466.67 1978.99 1467.08 Q1977.14 1467.5 1975.19 1468.38 L1975.19 1451.02 Z\" fill=\"#000000\" fill-rule=\"evenodd\" fill-opacity=\"1\" /><path clip-path=\"url(#clip850)\" d=\"M2015.31 1454.1 Q2011.7 1454.1 2009.87 1457.66 Q2008.06 1461.2 2008.06 1468.33 Q2008.06 1475.44 2009.87 1479.01 Q2011.7 1482.55 2015.31 1482.55 Q2018.94 1482.55 2020.75 1479.01 Q2022.58 1475.44 2022.58 1468.33 Q2022.58 1461.2 2020.75 1457.66 Q2018.94 1454.1 2015.31 1454.1 M2015.31 1450.39 Q2021.12 1450.39 2024.18 1455 Q2027.25 1459.58 2027.25 1468.33 Q2027.25 1477.06 2024.18 1481.67 Q2021.12 1486.25 2015.31 1486.25 Q2009.5 1486.25 2006.42 1481.67 Q2003.37 1477.06 2003.37 1468.33 Q2003.37 1459.58 2006.42 1455 Q2009.5 1450.39 2015.31 1450.39 Z\" fill=\"#000000\" fill-rule=\"evenodd\" fill-opacity=\"1\" /><path clip-path=\"url(#clip850)\" d=\"M2338.16 1466.44 Q2335.01 1466.44 2333.16 1468.59 Q2331.33 1470.74 2331.33 1474.49 Q2331.33 1478.22 2333.16 1480.39 Q2335.01 1482.55 2338.16 1482.55 Q2341.31 1482.55 2343.14 1480.39 Q2344.99 1478.22 2344.99 1474.49 Q2344.99 1470.74 2343.14 1468.59 Q2341.31 1466.44 2338.16 1466.44 M2347.44 1451.78 L2347.44 1456.04 Q2345.68 1455.21 2343.88 1454.77 Q2342.1 1454.33 2340.34 1454.33 Q2335.71 1454.33 2333.25 1457.45 Q2330.82 1460.58 2330.48 1466.9 Q2331.84 1464.89 2333.9 1463.82 Q2335.96 1462.73 2338.44 1462.73 Q2343.65 1462.73 2346.66 1465.9 Q2349.69 1469.05 2349.69 1474.49 Q2349.69 1479.82 2346.54 1483.03 Q2343.39 1486.25 2338.16 1486.25 Q2332.17 1486.25 2328.99 1481.67 Q2325.82 1477.06 2325.82 1468.33 Q2325.82 1460.14 2329.71 1455.28 Q2333.6 1450.39 2340.15 1450.39 Q2341.91 1450.39 2343.69 1450.74 Q2345.5 1451.09 2347.44 1451.78 Z\" fill=\"#000000\" fill-rule=\"evenodd\" fill-opacity=\"1\" /><path clip-path=\"url(#clip850)\" d=\"M2367.74 1454.1 Q2364.13 1454.1 2362.3 1457.66 Q2360.5 1461.2 2360.5 1468.33 Q2360.5 1475.44 2362.3 1479.01 Q2364.13 1482.55 2367.74 1482.55 Q2371.38 1482.55 2373.18 1479.01 Q2375.01 1475.44 2375.01 1468.33 Q2375.01 1461.2 2373.18 1457.66 Q2371.38 1454.1 2367.74 1454.1 M2367.74 1450.39 Q2373.55 1450.39 2376.61 1455 Q2379.69 1459.58 2379.69 1468.33 Q2379.69 1477.06 2376.61 1481.67 Q2373.55 1486.25 2367.74 1486.25 Q2361.93 1486.25 2358.86 1481.67 Q2355.8 1477.06 2355.8 1468.33 Q2355.8 1459.58 2358.86 1455 Q2361.93 1450.39 2367.74 1450.39 Z\" fill=\"#000000\" fill-rule=\"evenodd\" fill-opacity=\"1\" /><path clip-path=\"url(#clip850)\" d=\"M1295.03 1522.27 L1295.03 1532.4 L1307.1 1532.4 L1307.1 1536.95 L1295.03 1536.95 L1295.03 1556.3 Q1295.03 1560.66 1296.21 1561.9 Q1297.42 1563.14 1301.08 1563.14 L1307.1 1563.14 L1307.1 1568.04 L1301.08 1568.04 Q1294.3 1568.04 1291.72 1565.53 Q1289.15 1562.98 1289.15 1556.3 L1289.15 1536.95 L1284.85 1536.95 L1284.85 1532.4 L1289.15 1532.4 L1289.15 1522.27 L1295.03 1522.27 Z\" fill=\"#000000\" fill-rule=\"evenodd\" fill-opacity=\"1\" /><polyline clip-path=\"url(#clip852)\" style=\"stroke:#000000; stroke-linecap:butt; stroke-linejoin:round; stroke-width:2; stroke-opacity:0.1; fill:none\" points=\"\n",
       "  239.19,1308.84 2352.76,1308.84 \n",
       "  \"/>\n",
       "<polyline clip-path=\"url(#clip852)\" style=\"stroke:#000000; stroke-linecap:butt; stroke-linejoin:round; stroke-width:2; stroke-opacity:0.1; fill:none\" points=\"\n",
       "  239.19,1105.07 2352.76,1105.07 \n",
       "  \"/>\n",
       "<polyline clip-path=\"url(#clip852)\" style=\"stroke:#000000; stroke-linecap:butt; stroke-linejoin:round; stroke-width:2; stroke-opacity:0.1; fill:none\" points=\"\n",
       "  239.19,901.289 2352.76,901.289 \n",
       "  \"/>\n",
       "<polyline clip-path=\"url(#clip852)\" style=\"stroke:#000000; stroke-linecap:butt; stroke-linejoin:round; stroke-width:2; stroke-opacity:0.1; fill:none\" points=\"\n",
       "  239.19,697.513 2352.76,697.513 \n",
       "  \"/>\n",
       "<polyline clip-path=\"url(#clip852)\" style=\"stroke:#000000; stroke-linecap:butt; stroke-linejoin:round; stroke-width:2; stroke-opacity:0.1; fill:none\" points=\"\n",
       "  239.19,493.738 2352.76,493.738 \n",
       "  \"/>\n",
       "<polyline clip-path=\"url(#clip852)\" style=\"stroke:#000000; stroke-linecap:butt; stroke-linejoin:round; stroke-width:2; stroke-opacity:0.1; fill:none\" points=\"\n",
       "  239.19,289.962 2352.76,289.962 \n",
       "  \"/>\n",
       "<polyline clip-path=\"url(#clip852)\" style=\"stroke:#000000; stroke-linecap:butt; stroke-linejoin:round; stroke-width:2; stroke-opacity:0.1; fill:none\" points=\"\n",
       "  239.19,86.1857 2352.76,86.1857 \n",
       "  \"/>\n",
       "<polyline clip-path=\"url(#clip850)\" style=\"stroke:#000000; stroke-linecap:butt; stroke-linejoin:round; stroke-width:4; stroke-opacity:1; fill:none\" points=\"\n",
       "  239.19,1423.18 239.19,47.2441 \n",
       "  \"/>\n",
       "<polyline clip-path=\"url(#clip850)\" style=\"stroke:#000000; stroke-linecap:butt; stroke-linejoin:round; stroke-width:4; stroke-opacity:1; fill:none\" points=\"\n",
       "  239.19,1308.84 258.088,1308.84 \n",
       "  \"/>\n",
       "<polyline clip-path=\"url(#clip850)\" style=\"stroke:#000000; stroke-linecap:butt; stroke-linejoin:round; stroke-width:4; stroke-opacity:1; fill:none\" points=\"\n",
       "  239.19,1105.07 258.088,1105.07 \n",
       "  \"/>\n",
       "<polyline clip-path=\"url(#clip850)\" style=\"stroke:#000000; stroke-linecap:butt; stroke-linejoin:round; stroke-width:4; stroke-opacity:1; fill:none\" points=\"\n",
       "  239.19,901.289 258.088,901.289 \n",
       "  \"/>\n",
       "<polyline clip-path=\"url(#clip850)\" style=\"stroke:#000000; stroke-linecap:butt; stroke-linejoin:round; stroke-width:4; stroke-opacity:1; fill:none\" points=\"\n",
       "  239.19,697.513 258.088,697.513 \n",
       "  \"/>\n",
       "<polyline clip-path=\"url(#clip850)\" style=\"stroke:#000000; stroke-linecap:butt; stroke-linejoin:round; stroke-width:4; stroke-opacity:1; fill:none\" points=\"\n",
       "  239.19,493.738 258.088,493.738 \n",
       "  \"/>\n",
       "<polyline clip-path=\"url(#clip850)\" style=\"stroke:#000000; stroke-linecap:butt; stroke-linejoin:round; stroke-width:4; stroke-opacity:1; fill:none\" points=\"\n",
       "  239.19,289.962 258.088,289.962 \n",
       "  \"/>\n",
       "<polyline clip-path=\"url(#clip850)\" style=\"stroke:#000000; stroke-linecap:butt; stroke-linejoin:round; stroke-width:4; stroke-opacity:1; fill:none\" points=\"\n",
       "  239.19,86.1857 258.088,86.1857 \n",
       "  \"/>\n",
       "<path clip-path=\"url(#clip850)\" d=\"M50.9921 1309.29 L80.6679 1309.29 L80.6679 1313.23 L50.9921 1313.23 L50.9921 1309.29 Z\" fill=\"#000000\" fill-rule=\"evenodd\" fill-opacity=\"1\" /><path clip-path=\"url(#clip850)\" d=\"M91.5706 1322.19 L99.2095 1322.19 L99.2095 1295.82 L90.8993 1297.49 L90.8993 1293.23 L99.1632 1291.56 L103.839 1291.56 L103.839 1322.19 L111.478 1322.19 L111.478 1326.12 L91.5706 1326.12 L91.5706 1322.19 Z\" fill=\"#000000\" fill-rule=\"evenodd\" fill-opacity=\"1\" /><path clip-path=\"url(#clip850)\" d=\"M124.95 1322.19 L141.269 1322.19 L141.269 1326.12 L119.325 1326.12 L119.325 1322.19 Q121.987 1319.43 126.57 1314.8 Q131.177 1310.15 132.357 1308.81 Q134.603 1306.28 135.482 1304.55 Q136.385 1302.79 136.385 1301.1 Q136.385 1298.34 134.441 1296.61 Q132.519 1294.87 129.418 1294.87 Q127.219 1294.87 124.765 1295.64 Q122.334 1296.4 119.557 1297.95 L119.557 1293.23 Q122.381 1292.09 124.834 1291.51 Q127.288 1290.94 129.325 1290.94 Q134.695 1290.94 137.89 1293.62 Q141.084 1296.31 141.084 1300.8 Q141.084 1302.93 140.274 1304.85 Q139.487 1306.75 137.381 1309.34 Q136.802 1310.01 133.7 1313.23 Q130.598 1316.42 124.95 1322.19 Z\" fill=\"#000000\" fill-rule=\"evenodd\" fill-opacity=\"1\" /><path clip-path=\"url(#clip850)\" d=\"M161.084 1294.64 Q157.473 1294.64 155.644 1298.2 Q153.839 1301.75 153.839 1308.88 Q153.839 1315.98 155.644 1319.55 Q157.473 1323.09 161.084 1323.09 Q164.718 1323.09 166.524 1319.55 Q168.353 1315.98 168.353 1308.88 Q168.353 1301.75 166.524 1298.2 Q164.718 1294.64 161.084 1294.64 M161.084 1290.94 Q166.894 1290.94 169.95 1295.54 Q173.029 1300.13 173.029 1308.88 Q173.029 1317.6 169.95 1322.21 Q166.894 1326.79 161.084 1326.79 Q155.274 1326.79 152.195 1322.21 Q149.14 1317.6 149.14 1308.88 Q149.14 1300.13 152.195 1295.54 Q155.274 1290.94 161.084 1290.94 Z\" fill=\"#000000\" fill-rule=\"evenodd\" fill-opacity=\"1\" /><path clip-path=\"url(#clip850)\" d=\"M191.246 1294.64 Q187.635 1294.64 185.806 1298.2 Q184.001 1301.75 184.001 1308.88 Q184.001 1315.98 185.806 1319.55 Q187.635 1323.09 191.246 1323.09 Q194.88 1323.09 196.686 1319.55 Q198.514 1315.98 198.514 1308.88 Q198.514 1301.75 196.686 1298.2 Q194.88 1294.64 191.246 1294.64 M191.246 1290.94 Q197.056 1290.94 200.112 1295.54 Q203.19 1300.13 203.19 1308.88 Q203.19 1317.6 200.112 1322.21 Q197.056 1326.79 191.246 1326.79 Q185.436 1326.79 182.357 1322.21 Q179.302 1317.6 179.302 1308.88 Q179.302 1300.13 182.357 1295.54 Q185.436 1290.94 191.246 1290.94 Z\" fill=\"#000000\" fill-rule=\"evenodd\" fill-opacity=\"1\" /><path clip-path=\"url(#clip850)\" d=\"M50.9921 1105.52 L80.6679 1105.52 L80.6679 1109.45 L50.9921 1109.45 L50.9921 1105.52 Z\" fill=\"#000000\" fill-rule=\"evenodd\" fill-opacity=\"1\" /><path clip-path=\"url(#clip850)\" d=\"M91.5706 1118.41 L99.2095 1118.41 L99.2095 1092.04 L90.8993 1093.71 L90.8993 1089.45 L99.1632 1087.79 L103.839 1087.79 L103.839 1118.41 L111.478 1118.41 L111.478 1122.35 L91.5706 1122.35 L91.5706 1118.41 Z\" fill=\"#000000\" fill-rule=\"evenodd\" fill-opacity=\"1\" /><path clip-path=\"url(#clip850)\" d=\"M130.922 1090.86 Q127.311 1090.86 125.482 1094.43 Q123.677 1097.97 123.677 1105.1 Q123.677 1112.21 125.482 1115.77 Q127.311 1119.31 130.922 1119.31 Q134.556 1119.31 136.362 1115.77 Q138.191 1112.21 138.191 1105.1 Q138.191 1097.97 136.362 1094.43 Q134.556 1090.86 130.922 1090.86 M130.922 1087.16 Q136.732 1087.16 139.788 1091.77 Q142.867 1096.35 142.867 1105.1 Q142.867 1113.83 139.788 1118.43 Q136.732 1123.02 130.922 1123.02 Q125.112 1123.02 122.033 1118.43 Q118.978 1113.83 118.978 1105.1 Q118.978 1096.35 122.033 1091.77 Q125.112 1087.16 130.922 1087.16 Z\" fill=\"#000000\" fill-rule=\"evenodd\" fill-opacity=\"1\" /><path clip-path=\"url(#clip850)\" d=\"M161.084 1090.86 Q157.473 1090.86 155.644 1094.43 Q153.839 1097.97 153.839 1105.1 Q153.839 1112.21 155.644 1115.77 Q157.473 1119.31 161.084 1119.31 Q164.718 1119.31 166.524 1115.77 Q168.353 1112.21 168.353 1105.1 Q168.353 1097.97 166.524 1094.43 Q164.718 1090.86 161.084 1090.86 M161.084 1087.16 Q166.894 1087.16 169.95 1091.77 Q173.029 1096.35 173.029 1105.1 Q173.029 1113.83 169.95 1118.43 Q166.894 1123.02 161.084 1123.02 Q155.274 1123.02 152.195 1118.43 Q149.14 1113.83 149.14 1105.1 Q149.14 1096.35 152.195 1091.77 Q155.274 1087.16 161.084 1087.16 Z\" fill=\"#000000\" fill-rule=\"evenodd\" fill-opacity=\"1\" /><path clip-path=\"url(#clip850)\" d=\"M191.246 1090.86 Q187.635 1090.86 185.806 1094.43 Q184.001 1097.97 184.001 1105.1 Q184.001 1112.21 185.806 1115.77 Q187.635 1119.31 191.246 1119.31 Q194.88 1119.31 196.686 1115.77 Q198.514 1112.21 198.514 1105.1 Q198.514 1097.97 196.686 1094.43 Q194.88 1090.86 191.246 1090.86 M191.246 1087.16 Q197.056 1087.16 200.112 1091.77 Q203.19 1096.35 203.19 1105.1 Q203.19 1113.83 200.112 1118.43 Q197.056 1123.02 191.246 1123.02 Q185.436 1123.02 182.357 1118.43 Q179.302 1113.83 179.302 1105.1 Q179.302 1096.35 182.357 1091.77 Q185.436 1087.16 191.246 1087.16 Z\" fill=\"#000000\" fill-rule=\"evenodd\" fill-opacity=\"1\" /><path clip-path=\"url(#clip850)\" d=\"M81.154 901.741 L110.83 901.741 L110.83 905.676 L81.154 905.676 L81.154 901.741 Z\" fill=\"#000000\" fill-rule=\"evenodd\" fill-opacity=\"1\" /><path clip-path=\"url(#clip850)\" d=\"M130.922 902.157 Q127.589 902.157 125.668 903.94 Q123.77 905.722 123.77 908.847 Q123.77 911.972 125.668 913.755 Q127.589 915.537 130.922 915.537 Q134.256 915.537 136.177 913.755 Q138.098 911.949 138.098 908.847 Q138.098 905.722 136.177 903.94 Q134.279 902.157 130.922 902.157 M126.246 900.167 Q123.237 899.426 121.547 897.366 Q119.881 895.306 119.881 892.343 Q119.881 888.199 122.82 885.792 Q125.783 883.384 130.922 883.384 Q136.084 883.384 139.024 885.792 Q141.964 888.199 141.964 892.343 Q141.964 895.306 140.274 897.366 Q138.607 899.426 135.621 900.167 Q139.001 900.954 140.876 903.245 Q142.774 905.537 142.774 908.847 Q142.774 913.87 139.695 916.555 Q136.64 919.241 130.922 919.241 Q125.205 919.241 122.126 916.555 Q119.07 913.87 119.07 908.847 Q119.07 905.537 120.969 903.245 Q122.867 900.954 126.246 900.167 M124.533 892.782 Q124.533 895.468 126.2 896.972 Q127.89 898.477 130.922 898.477 Q133.931 898.477 135.621 896.972 Q137.334 895.468 137.334 892.782 Q137.334 890.097 135.621 888.593 Q133.931 887.088 130.922 887.088 Q127.89 887.088 126.2 888.593 Q124.533 890.097 124.533 892.782 Z\" fill=\"#000000\" fill-rule=\"evenodd\" fill-opacity=\"1\" /><path clip-path=\"url(#clip850)\" d=\"M161.084 887.088 Q157.473 887.088 155.644 890.653 Q153.839 894.194 153.839 901.324 Q153.839 908.431 155.644 911.995 Q157.473 915.537 161.084 915.537 Q164.718 915.537 166.524 911.995 Q168.353 908.431 168.353 901.324 Q168.353 894.194 166.524 890.653 Q164.718 887.088 161.084 887.088 M161.084 883.384 Q166.894 883.384 169.95 887.991 Q173.029 892.574 173.029 901.324 Q173.029 910.051 169.95 914.657 Q166.894 919.241 161.084 919.241 Q155.274 919.241 152.195 914.657 Q149.14 910.051 149.14 901.324 Q149.14 892.574 152.195 887.991 Q155.274 883.384 161.084 883.384 Z\" fill=\"#000000\" fill-rule=\"evenodd\" fill-opacity=\"1\" /><path clip-path=\"url(#clip850)\" d=\"M191.246 887.088 Q187.635 887.088 185.806 890.653 Q184.001 894.194 184.001 901.324 Q184.001 908.431 185.806 911.995 Q187.635 915.537 191.246 915.537 Q194.88 915.537 196.686 911.995 Q198.514 908.431 198.514 901.324 Q198.514 894.194 196.686 890.653 Q194.88 887.088 191.246 887.088 M191.246 883.384 Q197.056 883.384 200.112 887.991 Q203.19 892.574 203.19 901.324 Q203.19 910.051 200.112 914.657 Q197.056 919.241 191.246 919.241 Q185.436 919.241 182.357 914.657 Q179.302 910.051 179.302 901.324 Q179.302 892.574 182.357 887.991 Q185.436 883.384 191.246 883.384 Z\" fill=\"#000000\" fill-rule=\"evenodd\" fill-opacity=\"1\" /><path clip-path=\"url(#clip850)\" d=\"M81.154 697.965 L110.83 697.965 L110.83 701.9 L81.154 701.9 L81.154 697.965 Z\" fill=\"#000000\" fill-rule=\"evenodd\" fill-opacity=\"1\" /><path clip-path=\"url(#clip850)\" d=\"M131.501 695.65 Q128.353 695.65 126.501 697.803 Q124.672 699.956 124.672 703.706 Q124.672 707.432 126.501 709.608 Q128.353 711.761 131.501 711.761 Q134.649 711.761 136.478 709.608 Q138.33 707.432 138.33 703.706 Q138.33 699.956 136.478 697.803 Q134.649 695.65 131.501 695.65 M140.783 680.997 L140.783 685.257 Q139.024 684.423 137.219 683.983 Q135.436 683.544 133.677 683.544 Q129.047 683.544 126.594 686.669 Q124.163 689.794 123.816 696.113 Q125.182 694.099 127.242 693.034 Q129.302 691.946 131.779 691.946 Q136.987 691.946 139.996 695.118 Q143.029 698.266 143.029 703.706 Q143.029 709.03 139.881 712.247 Q136.732 715.465 131.501 715.465 Q125.506 715.465 122.334 710.881 Q119.163 706.275 119.163 697.548 Q119.163 689.354 123.052 684.493 Q126.941 679.608 133.492 679.608 Q135.251 679.608 137.033 679.956 Q138.839 680.303 140.783 680.997 Z\" fill=\"#000000\" fill-rule=\"evenodd\" fill-opacity=\"1\" /><path clip-path=\"url(#clip850)\" d=\"M161.084 683.312 Q157.473 683.312 155.644 686.877 Q153.839 690.419 153.839 697.548 Q153.839 704.655 155.644 708.219 Q157.473 711.761 161.084 711.761 Q164.718 711.761 166.524 708.219 Q168.353 704.655 168.353 697.548 Q168.353 690.419 166.524 686.877 Q164.718 683.312 161.084 683.312 M161.084 679.608 Q166.894 679.608 169.95 684.215 Q173.029 688.798 173.029 697.548 Q173.029 706.275 169.95 710.881 Q166.894 715.465 161.084 715.465 Q155.274 715.465 152.195 710.881 Q149.14 706.275 149.14 697.548 Q149.14 688.798 152.195 684.215 Q155.274 679.608 161.084 679.608 Z\" fill=\"#000000\" fill-rule=\"evenodd\" fill-opacity=\"1\" /><path clip-path=\"url(#clip850)\" d=\"M191.246 683.312 Q187.635 683.312 185.806 686.877 Q184.001 690.419 184.001 697.548 Q184.001 704.655 185.806 708.219 Q187.635 711.761 191.246 711.761 Q194.88 711.761 196.686 708.219 Q198.514 704.655 198.514 697.548 Q198.514 690.419 196.686 686.877 Q194.88 683.312 191.246 683.312 M191.246 679.608 Q197.056 679.608 200.112 684.215 Q203.19 688.798 203.19 697.548 Q203.19 706.275 200.112 710.881 Q197.056 715.465 191.246 715.465 Q185.436 715.465 182.357 710.881 Q179.302 706.275 179.302 697.548 Q179.302 688.798 182.357 684.215 Q185.436 679.608 191.246 679.608 Z\" fill=\"#000000\" fill-rule=\"evenodd\" fill-opacity=\"1\" /><path clip-path=\"url(#clip850)\" d=\"M81.154 494.189 L110.83 494.189 L110.83 498.124 L81.154 498.124 L81.154 494.189 Z\" fill=\"#000000\" fill-rule=\"evenodd\" fill-opacity=\"1\" /><path clip-path=\"url(#clip850)\" d=\"M133.769 480.532 L121.964 498.981 L133.769 498.981 L133.769 480.532 M132.543 476.458 L138.422 476.458 L138.422 498.981 L143.353 498.981 L143.353 502.869 L138.422 502.869 L138.422 511.018 L133.769 511.018 L133.769 502.869 L118.168 502.869 L118.168 498.356 L132.543 476.458 Z\" fill=\"#000000\" fill-rule=\"evenodd\" fill-opacity=\"1\" /><path clip-path=\"url(#clip850)\" d=\"M161.084 479.536 Q157.473 479.536 155.644 483.101 Q153.839 486.643 153.839 493.772 Q153.839 500.879 155.644 504.443 Q157.473 507.985 161.084 507.985 Q164.718 507.985 166.524 504.443 Q168.353 500.879 168.353 493.772 Q168.353 486.643 166.524 483.101 Q164.718 479.536 161.084 479.536 M161.084 475.833 Q166.894 475.833 169.95 480.439 Q173.029 485.022 173.029 493.772 Q173.029 502.499 169.95 507.105 Q166.894 511.689 161.084 511.689 Q155.274 511.689 152.195 507.105 Q149.14 502.499 149.14 493.772 Q149.14 485.022 152.195 480.439 Q155.274 475.833 161.084 475.833 Z\" fill=\"#000000\" fill-rule=\"evenodd\" fill-opacity=\"1\" /><path clip-path=\"url(#clip850)\" d=\"M191.246 479.536 Q187.635 479.536 185.806 483.101 Q184.001 486.643 184.001 493.772 Q184.001 500.879 185.806 504.443 Q187.635 507.985 191.246 507.985 Q194.88 507.985 196.686 504.443 Q198.514 500.879 198.514 493.772 Q198.514 486.643 196.686 483.101 Q194.88 479.536 191.246 479.536 M191.246 475.833 Q197.056 475.833 200.112 480.439 Q203.19 485.022 203.19 493.772 Q203.19 502.499 200.112 507.105 Q197.056 511.689 191.246 511.689 Q185.436 511.689 182.357 507.105 Q179.302 502.499 179.302 493.772 Q179.302 485.022 182.357 480.439 Q185.436 475.833 191.246 475.833 Z\" fill=\"#000000\" fill-rule=\"evenodd\" fill-opacity=\"1\" /><path clip-path=\"url(#clip850)\" d=\"M81.154 290.413 L110.83 290.413 L110.83 294.348 L81.154 294.348 L81.154 290.413 Z\" fill=\"#000000\" fill-rule=\"evenodd\" fill-opacity=\"1\" /><path clip-path=\"url(#clip850)\" d=\"M124.95 303.306 L141.269 303.306 L141.269 307.242 L119.325 307.242 L119.325 303.306 Q121.987 300.552 126.57 295.922 Q131.177 291.269 132.357 289.927 Q134.603 287.404 135.482 285.668 Q136.385 283.908 136.385 282.219 Q136.385 279.464 134.441 277.728 Q132.519 275.992 129.418 275.992 Q127.219 275.992 124.765 276.756 Q122.334 277.52 119.557 279.07 L119.557 274.348 Q122.381 273.214 124.834 272.635 Q127.288 272.057 129.325 272.057 Q134.695 272.057 137.89 274.742 Q141.084 277.427 141.084 281.918 Q141.084 284.047 140.274 285.969 Q139.487 287.867 137.381 290.459 Q136.802 291.131 133.7 294.348 Q130.598 297.543 124.95 303.306 Z\" fill=\"#000000\" fill-rule=\"evenodd\" fill-opacity=\"1\" /><path clip-path=\"url(#clip850)\" d=\"M161.084 275.76 Q157.473 275.76 155.644 279.325 Q153.839 282.867 153.839 289.996 Q153.839 297.103 155.644 300.668 Q157.473 304.209 161.084 304.209 Q164.718 304.209 166.524 300.668 Q168.353 297.103 168.353 289.996 Q168.353 282.867 166.524 279.325 Q164.718 275.76 161.084 275.76 M161.084 272.057 Q166.894 272.057 169.95 276.663 Q173.029 281.246 173.029 289.996 Q173.029 298.723 169.95 303.33 Q166.894 307.913 161.084 307.913 Q155.274 307.913 152.195 303.33 Q149.14 298.723 149.14 289.996 Q149.14 281.246 152.195 276.663 Q155.274 272.057 161.084 272.057 Z\" fill=\"#000000\" fill-rule=\"evenodd\" fill-opacity=\"1\" /><path clip-path=\"url(#clip850)\" d=\"M191.246 275.76 Q187.635 275.76 185.806 279.325 Q184.001 282.867 184.001 289.996 Q184.001 297.103 185.806 300.668 Q187.635 304.209 191.246 304.209 Q194.88 304.209 196.686 300.668 Q198.514 297.103 198.514 289.996 Q198.514 282.867 196.686 279.325 Q194.88 275.76 191.246 275.76 M191.246 272.057 Q197.056 272.057 200.112 276.663 Q203.19 281.246 203.19 289.996 Q203.19 298.723 200.112 303.33 Q197.056 307.913 191.246 307.913 Q185.436 307.913 182.357 303.33 Q179.302 298.723 179.302 289.996 Q179.302 281.246 182.357 276.663 Q185.436 272.057 191.246 272.057 Z\" fill=\"#000000\" fill-rule=\"evenodd\" fill-opacity=\"1\" /><path clip-path=\"url(#clip850)\" d=\"M191.246 71.9844 Q187.635 71.9844 185.806 75.5492 Q184.001 79.0908 184.001 86.2204 Q184.001 93.3268 185.806 96.8916 Q187.635 100.433 191.246 100.433 Q194.88 100.433 196.686 96.8916 Q198.514 93.3268 198.514 86.2204 Q198.514 79.0908 196.686 75.5492 Q194.88 71.9844 191.246 71.9844 M191.246 68.2807 Q197.056 68.2807 200.112 72.8871 Q203.19 77.4704 203.19 86.2204 Q203.19 94.9472 200.112 99.5537 Q197.056 104.137 191.246 104.137 Q185.436 104.137 182.357 99.5537 Q179.302 94.9472 179.302 86.2204 Q179.302 77.4704 182.357 72.8871 Q185.436 68.2807 191.246 68.2807 Z\" fill=\"#000000\" fill-rule=\"evenodd\" fill-opacity=\"1\" /><polyline clip-path=\"url(#clip852)\" style=\"stroke:#008000; stroke-linecap:butt; stroke-linejoin:round; stroke-width:4; stroke-opacity:1; fill:none\" points=\"\n",
       "  239.19,86.1857 241.306,86.7856 243.422,87.3859 245.537,87.9867 247.653,88.5878 249.769,89.1894 251.884,89.7915 254,90.3939 256.116,90.9968 258.232,91.6001 \n",
       "  260.347,92.2038 262.463,92.808 264.579,93.4126 266.694,94.0176 268.81,94.6231 270.926,95.229 273.041,95.8353 275.157,96.442 277.273,97.0492 279.388,97.6569 \n",
       "  281.504,98.2649 283.62,98.8734 285.735,99.4824 287.851,100.092 289.967,100.702 292.082,101.312 294.198,101.923 296.314,102.534 298.429,103.145 300.545,103.757 \n",
       "  302.661,104.37 304.777,104.983 306.892,105.596 309.008,106.21 311.124,106.824 313.239,107.439 315.355,108.054 317.471,108.67 319.586,109.286 321.702,109.903 \n",
       "  323.818,110.52 325.933,111.137 328.049,111.755 330.165,112.373 332.28,112.992 334.396,113.612 336.512,114.231 338.627,114.852 340.743,115.472 342.859,116.093 \n",
       "  344.974,116.715 347.09,117.337 349.206,117.96 351.321,118.583 353.437,119.206 355.553,119.83 357.669,120.455 359.784,121.08 361.9,121.705 364.016,122.331 \n",
       "  366.131,122.957 368.247,123.584 370.363,124.211 372.478,124.839 374.594,125.468 376.71,126.096 378.825,126.726 380.941,127.355 383.057,127.985 385.172,128.616 \n",
       "  387.288,129.247 389.404,129.879 391.519,130.511 393.635,131.144 395.751,131.777 397.866,132.411 399.982,133.045 402.098,133.679 404.214,134.315 406.329,134.95 \n",
       "  408.445,135.586 410.561,136.223 412.676,136.86 414.792,137.498 416.908,138.136 419.023,138.774 421.139,139.414 423.255,140.053 425.37,140.693 427.486,141.334 \n",
       "  429.602,141.975 431.717,142.617 433.833,143.259 435.949,143.902 438.064,144.545 440.18,145.189 442.296,145.833 444.411,146.478 446.527,147.123 448.643,147.769 \n",
       "  450.759,148.415 452.874,149.062 454.99,149.709 457.106,150.357 459.221,151.006 461.337,151.655 463.453,152.304 465.568,152.954 467.684,153.605 469.8,154.256 \n",
       "  471.915,154.907 474.031,155.56 476.147,156.212 478.262,156.865 480.378,157.519 482.494,158.173 484.609,158.828 486.725,159.484 488.841,160.14 490.956,160.796 \n",
       "  493.072,161.453 495.188,162.111 497.303,162.769 499.419,163.427 501.535,164.087 503.651,164.746 505.766,165.407 507.882,166.067 509.998,166.729 512.113,167.391 \n",
       "  514.229,168.053 516.345,168.717 518.46,169.38 520.576,170.044 522.692,170.709 524.807,171.375 526.923,172.04 529.039,172.707 531.154,173.374 533.27,174.042 \n",
       "  535.386,174.71 537.501,175.379 539.617,176.048 541.733,176.718 543.848,177.388 545.964,178.059 548.08,178.731 550.196,179.403 552.311,180.076 554.427,180.749 \n",
       "  556.543,181.423 558.658,182.098 560.774,182.773 562.89,183.449 565.005,184.125 567.121,184.802 569.237,185.48 571.352,186.158 573.468,186.836 575.584,187.516 \n",
       "  577.699,188.196 579.815,188.876 581.931,189.557 584.046,190.239 586.162,190.921 588.278,191.604 590.393,192.288 592.509,192.972 594.625,193.657 596.741,194.342 \n",
       "  598.856,195.028 600.972,195.715 603.088,196.402 605.203,197.09 607.319,197.778 609.435,198.467 611.55,199.157 613.666,199.847 615.782,200.538 617.897,201.23 \n",
       "  620.013,201.922 622.129,202.615 624.244,203.308 626.36,204.002 628.476,204.697 630.591,205.392 632.707,206.088 634.823,206.785 636.938,207.482 639.054,208.18 \n",
       "  641.17,208.879 643.285,209.578 645.401,210.278 647.517,210.978 649.633,211.679 651.748,212.381 653.864,213.083 655.98,213.787 658.095,214.49 660.211,215.195 \n",
       "  662.327,215.9 664.442,216.606 666.558,217.312 668.674,218.019 670.789,218.727 672.905,219.435 675.021,220.144 677.136,220.854 679.252,221.564 681.368,222.275 \n",
       "  683.483,222.987 685.599,223.7 687.715,224.413 689.83,225.127 691.946,225.841 694.062,226.556 696.178,227.272 698.293,227.989 700.409,228.706 702.525,229.424 \n",
       "  704.64,230.142 706.756,230.862 708.872,231.582 710.987,232.302 713.103,233.024 715.219,233.746 717.334,234.469 719.45,235.192 721.566,235.916 723.681,236.641 \n",
       "  725.797,237.367 727.913,238.093 730.028,238.82 732.144,239.548 734.26,240.276 736.375,241.006 738.491,241.736 740.607,242.466 742.723,243.198 744.838,243.93 \n",
       "  746.954,244.663 749.07,245.396 751.185,246.13 753.301,246.865 755.417,247.601 757.532,248.338 759.648,249.075 761.764,249.813 763.879,250.552 765.995,251.291 \n",
       "  768.111,252.031 770.226,252.772 772.342,253.514 774.458,254.257 776.573,255 778.689,255.744 780.805,256.488 782.92,257.234 785.036,257.98 787.152,258.727 \n",
       "  789.267,259.475 791.383,260.224 793.499,260.973 795.615,261.723 797.73,262.474 799.846,263.226 801.962,263.978 804.077,264.731 806.193,265.485 808.309,266.24 \n",
       "  810.424,266.995 812.54,267.752 814.656,268.509 816.771,269.267 818.887,270.026 821.003,270.785 823.118,271.545 825.234,272.307 827.35,273.069 829.465,273.831 \n",
       "  831.581,274.595 833.697,275.359 835.812,276.124 837.928,276.89 840.044,277.657 842.16,278.425 844.275,279.193 846.391,279.962 848.507,280.732 850.622,281.503 \n",
       "  852.738,282.275 854.854,283.048 856.969,283.821 859.085,284.595 861.201,285.37 863.316,286.146 865.432,286.923 867.548,287.701 869.663,288.479 871.779,289.258 \n",
       "  873.895,290.038 876.01,290.819 878.126,291.601 880.242,292.384 882.357,293.167 884.473,293.952 886.589,294.737 888.705,295.523 890.82,296.31 892.936,297.098 \n",
       "  895.052,297.887 897.167,298.677 899.283,299.467 901.399,300.259 903.514,301.051 905.63,301.844 907.746,302.638 909.861,303.433 911.977,304.229 914.093,305.026 \n",
       "  916.208,305.823 918.324,306.622 920.44,307.421 922.555,308.222 924.671,309.023 926.787,309.825 928.902,310.628 931.018,311.432 933.134,312.237 935.25,313.043 \n",
       "  937.365,313.849 939.481,314.657 941.597,315.466 943.712,316.275 945.828,317.086 947.944,317.897 950.059,318.709 952.175,319.523 954.291,320.337 956.406,321.152 \n",
       "  958.522,321.968 960.638,322.785 962.753,323.603 964.869,324.422 966.985,325.242 969.1,326.063 971.216,326.885 973.332,327.708 975.447,328.532 977.563,329.356 \n",
       "  979.679,330.182 981.794,331.009 983.91,331.836 986.026,332.665 988.142,333.495 990.257,334.325 992.373,335.157 994.489,335.99 996.604,336.823 998.72,337.658 \n",
       "  1000.84,338.494 1002.95,339.33 1005.07,340.168 1007.18,341.007 1009.3,341.846 1011.41,342.687 1013.53,343.529 1015.65,344.371 1017.76,345.215 1019.88,346.06 \n",
       "  1021.99,346.906 1024.11,347.752 1026.22,348.6 1028.34,349.449 1030.46,350.299 1032.57,351.15 1034.69,352.002 1036.8,352.855 1038.92,353.71 1041.03,354.565 \n",
       "  1043.15,355.421 1045.26,356.278 1047.38,357.137 1049.5,357.996 1051.61,358.857 1053.73,359.719 1055.84,360.581 1057.96,361.445 1060.07,362.31 1062.19,363.176 \n",
       "  1064.31,364.043 1066.42,364.911 1068.54,365.78 1070.65,366.651 1072.77,367.522 1074.88,368.395 1077,369.268 1079.12,370.143 1081.23,371.019 1083.35,371.896 \n",
       "  1085.46,372.774 1087.58,373.654 1089.69,374.534 1091.81,375.416 1093.93,376.298 1096.04,377.182 1098.16,378.067 1100.27,378.953 1102.39,379.84 1104.5,380.729 \n",
       "  1106.62,381.618 1108.74,382.509 1110.85,383.401 1112.97,384.294 1115.08,385.188 1117.2,386.084 1119.31,386.98 1121.43,387.878 1123.55,388.777 1125.66,389.677 \n",
       "  1127.78,390.579 1129.89,391.481 1132.01,392.385 1134.12,393.29 1136.24,394.196 1138.35,395.103 1140.47,396.012 1142.59,396.922 1144.7,397.833 1146.82,398.745 \n",
       "  1148.93,399.658 1151.05,400.573 1153.16,401.489 1155.28,402.406 1157.4,403.324 1159.51,404.244 1161.63,405.165 1163.74,406.087 1165.86,407.011 1167.97,407.935 \n",
       "  1170.09,408.861 1172.21,409.788 1174.32,410.717 1176.44,411.647 1178.55,412.578 1180.67,413.51 1182.78,414.444 1184.9,415.379 1187.02,416.315 1189.13,417.252 \n",
       "  1191.25,418.191 1193.36,419.131 1195.48,420.073 1197.59,421.015 1199.71,421.96 1201.83,422.905 1203.94,423.852 1206.06,424.8 1208.17,425.749 1210.29,426.7 \n",
       "  1212.4,427.652 1214.52,428.605 1216.64,429.56 1218.75,430.516 1220.87,431.474 1222.98,432.433 1225.1,433.393 1227.21,434.355 1229.33,435.318 1231.44,436.282 \n",
       "  1233.56,437.248 1235.68,438.215 1237.79,439.184 1239.91,440.154 1242.02,441.125 1244.14,442.098 1246.25,443.072 1248.37,444.048 1250.49,445.025 1252.6,446.003 \n",
       "  1254.72,446.983 1256.83,447.964 1258.95,448.947 1261.06,449.931 1263.18,450.917 1265.3,451.904 1267.41,452.893 1269.53,453.883 1271.64,454.875 1273.76,455.868 \n",
       "  1275.87,456.862 1277.99,457.858 1280.11,458.856 1282.22,459.854 1284.34,460.855 1286.45,461.857 1288.57,462.86 1290.68,463.865 1292.8,464.872 1294.92,465.88 \n",
       "  1297.03,466.889 1299.15,467.901 1301.26,468.913 1303.38,469.927 1305.49,470.943 1307.61,471.96 1309.73,472.979 1311.84,474 1313.96,475.022 1316.07,476.045 \n",
       "  1318.19,477.07 1320.3,478.097 1322.42,479.125 1324.53,480.155 1326.65,481.186 1328.77,482.22 1330.88,483.254 1333,484.291 1335.11,485.328 1337.23,486.368 \n",
       "  1339.34,487.409 1341.46,488.452 1343.58,489.496 1345.69,490.543 1347.81,491.59 1349.92,492.64 1352.04,493.691 1354.15,494.744 1356.27,495.798 1358.39,496.854 \n",
       "  1360.5,497.912 1362.62,498.971 1364.73,500.033 1366.85,501.095 1368.96,502.16 1371.08,503.226 1373.2,504.294 1375.31,505.364 1377.43,506.436 1379.54,507.509 \n",
       "  1381.66,508.584 1383.77,509.66 1385.89,510.739 1388.01,511.819 1390.12,512.901 1392.24,513.985 1394.35,515.07 1396.47,516.158 1398.58,517.247 1400.7,518.338 \n",
       "  1402.82,519.431 1404.93,520.525 1407.05,521.621 1409.16,522.72 1411.28,523.82 1413.39,524.921 1415.51,526.025 1417.62,527.131 1419.74,528.238 1421.86,529.347 \n",
       "  1423.97,530.458 1426.09,531.571 1428.2,532.686 1430.32,533.803 1432.43,534.922 1434.55,536.042 1436.67,537.165 1438.78,538.289 1440.9,539.415 1443.01,540.543 \n",
       "  1445.13,541.673 1447.24,542.806 1449.36,543.94 1451.48,545.076 1453.59,546.213 1455.71,547.353 1457.82,548.495 1459.94,549.639 1462.05,550.785 1464.17,551.933 \n",
       "  1466.29,553.083 1468.4,554.234 1470.52,555.388 1472.63,556.544 1474.75,557.702 1476.86,558.862 1478.98,560.024 1481.1,561.188 1483.21,562.354 1485.33,563.522 \n",
       "  1487.44,564.693 1489.56,565.865 1491.67,567.04 1493.79,568.216 1495.91,569.395 1498.02,570.575 1500.14,571.758 1502.25,572.943 1504.37,574.13 1506.48,575.32 \n",
       "  1508.6,576.511 1510.71,577.705 1512.83,578.9 1514.95,580.098 1517.06,581.298 1519.18,582.501 1521.29,583.705 1523.41,584.912 1525.52,586.121 1527.64,587.332 \n",
       "  1529.76,588.545 1531.87,589.761 1533.99,590.979 1536.1,592.199 1538.22,593.421 1540.33,594.646 1542.45,595.873 1544.57,597.102 1546.68,598.333 1548.8,599.567 \n",
       "  1550.91,600.803 1553.03,602.042 1555.14,603.283 1557.26,604.526 1559.38,605.771 1561.49,607.019 1563.61,608.269 1565.72,609.522 1567.84,610.777 1569.95,612.034 \n",
       "  1572.07,613.294 1574.19,614.556 1576.3,615.82 1578.42,617.087 1580.53,618.357 1582.65,619.629 1584.76,620.903 1586.88,622.18 1588.99,623.459 1591.11,624.741 \n",
       "  1593.23,626.025 1595.34,627.312 1597.46,628.601 1599.57,629.893 1601.69,631.188 1603.8,632.484 1605.92,633.784 1608.04,635.086 1610.15,636.39 1612.27,637.698 \n",
       "  1614.38,639.007 1616.5,640.32 1618.61,641.635 1620.73,642.952 1622.85,644.273 1624.96,645.595 1627.08,646.921 1629.19,648.249 1631.31,649.58 1633.42,650.913 \n",
       "  1635.54,652.25 1637.66,653.589 1639.77,654.93 1641.89,656.275 1644,657.622 1646.12,658.972 1648.23,660.324 1650.35,661.68 1652.47,663.038 1654.58,664.399 \n",
       "  1656.7,665.763 1658.81,667.129 1660.93,668.499 1663.04,669.871 1665.16,671.246 1667.28,672.624 1669.39,674.005 1671.51,675.388 1673.62,676.775 1675.74,678.165 \n",
       "  1677.85,679.557 1679.97,680.952 1682.08,682.351 1684.2,683.752 1686.32,685.156 1688.43,686.563 1690.55,687.973 1692.66,689.387 1694.78,690.803 1696.89,692.222 \n",
       "  1699.01,693.644 1701.13,695.07 1703.24,696.498 1705.36,697.929 1707.47,699.364 1709.59,700.802 1711.7,702.242 1713.82,703.686 1715.94,705.133 1718.05,706.583 \n",
       "  1720.17,708.037 1722.28,709.493 1724.4,710.953 1726.51,712.416 1728.63,713.882 1730.75,715.351 1732.86,716.824 1734.98,718.3 1737.09,719.779 1739.21,721.261 \n",
       "  1741.32,722.747 1743.44,724.236 1745.56,725.728 1747.67,727.224 1749.79,728.723 1751.9,730.225 1754.02,731.731 1756.13,733.24 1758.25,734.753 1760.37,736.269 \n",
       "  1762.48,737.788 1764.6,739.311 1766.71,740.837 1768.83,742.367 1770.94,743.9 1773.06,745.437 1775.17,746.978 1777.29,748.522 1779.41,750.069 1781.52,751.62 \n",
       "  1783.64,753.175 1785.75,754.733 1787.87,756.295 1789.98,757.86 1792.1,759.43 1794.22,761.002 1796.33,762.579 1798.45,764.159 1800.56,765.743 1802.68,767.331 \n",
       "  1804.79,768.922 1806.91,770.517 1809.03,772.116 1811.14,773.719 1813.26,775.326 1815.37,776.936 1817.49,778.55 1819.6,780.168 1821.72,781.79 1823.84,783.416 \n",
       "  1825.95,785.046 1828.07,786.68 1830.18,788.317 1832.3,789.959 1834.41,791.605 1836.53,793.254 1838.65,794.908 1840.76,796.566 1842.88,798.228 1844.99,799.893 \n",
       "  1847.11,801.563 1849.22,803.237 1851.34,804.916 1853.46,806.598 1855.57,808.284 1857.69,809.975 1859.8,811.67 1861.92,813.369 1864.03,815.073 1866.15,816.78 \n",
       "  1868.26,818.492 1870.38,820.208 1872.5,821.929 1874.61,823.654 1876.73,825.383 1878.84,827.117 1880.96,828.855 1883.07,830.597 1885.19,832.344 1887.31,834.096 \n",
       "  1889.42,835.851 1891.54,837.612 1893.65,839.377 1895.77,841.146 1897.88,842.92 1900,844.699 1902.12,846.482 1904.23,848.27 1906.35,850.063 1908.46,851.86 \n",
       "  1910.58,853.662 1912.69,855.468 1914.81,857.28 1916.93,859.096 1919.04,860.917 1921.16,862.742 1923.27,864.573 1925.39,866.408 1927.5,868.249 1929.62,870.094 \n",
       "  1931.74,871.944 1933.85,873.799 1935.97,875.659 1938.08,877.524 1940.2,879.394 1942.31,881.27 1944.43,883.15 1946.55,885.035 1948.66,886.926 1950.78,888.821 \n",
       "  1952.89,890.722 1955.01,892.628 1957.12,894.539 1959.24,896.455 1961.35,898.377 1963.47,900.304 1965.59,902.236 1967.7,904.174 1969.82,906.117 1971.93,908.066 \n",
       "  1974.05,910.019 1976.16,911.979 1978.28,913.944 1980.4,915.914 1982.51,917.89 1984.63,919.871 1986.74,921.858 1988.86,923.851 1990.97,925.849 1993.09,927.853 \n",
       "  1995.21,929.863 1997.32,931.878 1999.44,933.9 2001.55,935.927 2003.67,937.959 2005.78,939.998 2007.9,942.043 2010.02,944.093 2012.13,946.149 2014.25,948.212 \n",
       "  2016.36,950.28 2018.48,952.355 2020.59,954.435 2022.71,956.522 2024.83,958.614 2026.94,960.713 2029.06,962.818 2031.17,964.93 2033.29,967.047 2035.4,969.171 \n",
       "  2037.52,971.301 2039.64,973.438 2041.75,975.581 2043.87,977.73 2045.98,979.886 2048.1,982.048 2050.21,984.217 2052.33,986.392 2054.44,988.574 2056.56,990.762 \n",
       "  2058.68,992.958 2060.79,995.159 2062.91,997.368 2065.02,999.583 2067.14,1001.81 2069.25,1004.03 2071.37,1006.27 2073.49,1008.51 2075.6,1010.76 2077.72,1013.02 \n",
       "  2079.83,1015.28 2081.95,1017.55 2084.06,1019.83 2086.18,1022.12 2088.3,1024.41 2090.41,1026.71 2092.53,1029.02 2094.64,1031.33 2096.76,1033.65 2098.87,1035.98 \n",
       "  2100.99,1038.32 2103.11,1040.66 2105.22,1043.01 2107.34,1045.37 2109.45,1047.74 2111.57,1050.11 2113.68,1052.49 2115.8,1054.88 2117.92,1057.28 2120.03,1059.68 \n",
       "  2122.15,1062.1 2124.26,1064.52 2126.38,1066.94 2128.49,1069.38 2130.61,1071.82 2132.73,1074.28 2134.84,1076.74 2136.96,1079.21 2139.07,1081.68 2141.19,1084.17 \n",
       "  2143.3,1086.66 2145.42,1089.16 2147.53,1091.67 2149.65,1094.19 2151.77,1096.72 2153.88,1099.26 2156,1101.8 2158.11,1104.35 2160.23,1106.91 2162.34,1109.48 \n",
       "  2164.46,1112.06 2166.58,1114.65 2168.69,1117.25 2170.81,1119.85 2172.92,1122.47 2175.04,1125.09 2177.15,1127.73 2179.27,1130.37 2181.39,1133.02 2183.5,1135.68 \n",
       "  2185.62,1138.35 2187.73,1141.03 2189.85,1143.72 2191.96,1146.41 2194.08,1149.12 2196.2,1151.84 2198.31,1154.57 2200.43,1157.3 2202.54,1160.05 2204.66,1162.8 \n",
       "  2206.77,1165.57 2208.89,1168.35 2211.01,1171.13 2213.12,1173.93 2215.24,1176.73 2217.35,1179.55 2219.47,1182.38 2221.58,1185.21 2223.7,1188.06 2225.82,1190.92 \n",
       "  2227.93,1193.79 2230.05,1196.66 2232.16,1199.55 2234.28,1202.45 2236.39,1205.36 2238.51,1208.29 2240.62,1211.22 2242.74,1214.16 2244.86,1217.12 2246.97,1220.08 \n",
       "  2249.09,1223.06 2251.2,1226.05 2253.32,1229.05 2255.43,1232.06 2257.55,1235.08 2259.67,1238.11 2261.78,1241.16 2263.9,1244.21 2266.01,1247.28 2268.13,1250.36 \n",
       "  2270.24,1253.46 2272.36,1256.56 2274.48,1259.68 2276.59,1262.81 2278.71,1265.95 2280.82,1269.1 2282.94,1272.27 2285.05,1275.44 2287.17,1278.63 2289.29,1281.84 \n",
       "  2291.4,1285.05 2293.52,1288.28 2295.63,1291.52 2297.75,1294.78 2299.86,1298.05 2301.98,1301.33 2304.1,1304.62 2306.21,1307.93 2308.33,1311.25 2310.44,1314.58 \n",
       "  2312.56,1317.93 2314.67,1321.29 2316.79,1324.67 2318.91,1328.05 2321.02,1331.46 2323.14,1334.87 2325.25,1338.3 2327.37,1341.75 2329.48,1345.21 2331.6,1348.68 \n",
       "  2333.71,1352.17 2335.83,1355.67 2337.95,1359.19 2340.06,1362.73 2342.18,1366.27 2344.29,1369.84 2346.41,1373.41 2348.52,1377.01 2350.64,1380.61 2352.76,1384.24 \n",
       "  \n",
       "  \"/>\n",
       "<path clip-path=\"url(#clip850)\" d=\"\n",
       "M1934.62 196.789 L2282.3 196.789 L2282.3 93.1086 L1934.62 93.1086  Z\n",
       "  \" fill=\"#ffffff\" fill-rule=\"evenodd\" fill-opacity=\"1\"/>\n",
       "<polyline clip-path=\"url(#clip850)\" style=\"stroke:#000000; stroke-linecap:butt; stroke-linejoin:round; stroke-width:4; stroke-opacity:1; fill:none\" points=\"\n",
       "  1934.62,196.789 2282.3,196.789 2282.3,93.1086 1934.62,93.1086 1934.62,196.789 \n",
       "  \"/>\n",
       "<polyline clip-path=\"url(#clip850)\" style=\"stroke:#008000; stroke-linecap:butt; stroke-linejoin:round; stroke-width:4; stroke-opacity:1; fill:none\" points=\"\n",
       "  1958.62,144.949 2102.62,144.949 \n",
       "  \"/>\n",
       "<path clip-path=\"url(#clip850)\" d=\"M2126.62 151.997 L2126.62 136.303 L2130.88 136.303 L2130.88 151.835 Q2130.88 155.516 2132.31 157.368 Q2133.75 159.196 2136.62 159.196 Q2140.07 159.196 2142.06 156.997 Q2144.07 154.798 2144.07 151.002 L2144.07 136.303 L2148.33 136.303 L2148.33 162.229 L2144.07 162.229 L2144.07 158.247 Q2142.52 160.608 2140.46 161.766 Q2138.42 162.9 2135.72 162.9 Q2131.25 162.9 2128.93 160.122 Q2126.62 157.344 2126.62 151.997 M2137.34 135.678 L2137.34 135.678 Z\" fill=\"#000000\" fill-rule=\"evenodd\" fill-opacity=\"1\" /><path clip-path=\"url(#clip850)\" d=\"M2158.52 158.293 L2166.16 158.293 L2166.16 131.928 L2157.85 133.595 L2157.85 129.335 L2166.11 127.669 L2170.79 127.669 L2170.79 158.293 L2178.42 158.293 L2178.42 162.229 L2158.52 162.229 L2158.52 158.293 Z\" fill=\"#000000\" fill-rule=\"evenodd\" fill-opacity=\"1\" /><path clip-path=\"url(#clip850)\" d=\"M2197.5 126.257 Q2194.4 131.581 2192.89 136.789 Q2191.39 141.997 2191.39 147.344 Q2191.39 152.692 2192.89 157.946 Q2194.42 163.178 2197.5 168.479 L2193.79 168.479 Q2190.32 163.039 2188.59 157.784 Q2186.87 152.53 2186.87 147.344 Q2186.87 142.182 2188.59 136.951 Q2190.3 131.72 2193.79 126.257 L2197.5 126.257 Z\" fill=\"#000000\" fill-rule=\"evenodd\" fill-opacity=\"1\" /><path clip-path=\"url(#clip850)\" d=\"M2209.98 128.942 L2209.98 136.303 L2218.75 136.303 L2218.75 139.613 L2209.98 139.613 L2209.98 153.687 Q2209.98 156.858 2210.83 157.761 Q2211.71 158.664 2214.37 158.664 L2218.75 158.664 L2218.75 162.229 L2214.37 162.229 Q2209.44 162.229 2207.57 160.4 Q2205.69 158.548 2205.69 153.687 L2205.69 139.613 L2202.57 139.613 L2202.57 136.303 L2205.69 136.303 L2205.69 128.942 L2209.98 128.942 Z\" fill=\"#000000\" fill-rule=\"evenodd\" fill-opacity=\"1\" /><path clip-path=\"url(#clip850)\" d=\"M2223.68 126.257 L2227.38 126.257 Q2230.85 131.72 2232.57 136.951 Q2234.3 142.182 2234.3 147.344 Q2234.3 152.53 2232.57 157.784 Q2230.85 163.039 2227.38 168.479 L2223.68 168.479 Q2226.76 163.178 2228.26 157.946 Q2229.79 152.692 2229.79 147.344 Q2229.79 141.997 2228.26 136.789 Q2226.76 131.581 2223.68 126.257 Z\" fill=\"#000000\" fill-rule=\"evenodd\" fill-opacity=\"1\" /></svg>\n"
      ]
     },
     "execution_count": 12,
     "metadata": {},
     "output_type": "execute_result"
    }
   ],
   "source": [
    "c=2500\n",
    "m=1.2*10^6\n",
    "g=9.8\n",
    "k=14000\n",
    "f(u,p,t)=(u*k/(m-k*t))-g\n",
    "u0=0\n",
    "tspan=(0,60)\n",
    "problem=ODEProblem(f,u0,tspan)\n",
    "sol=solve(problem,Tsit5(),reltol=1e-8,abstol=1e-8)\n",
    "x=range(0,stop=60,length=100)\n",
    "using Plots\n",
    "plot(sol,lw=1,lc=:green)"
   ]
  },
  {
   "cell_type": "code",
   "execution_count": 10,
   "id": "4bddfe04",
   "metadata": {},
   "outputs": [
    {
     "data": {
      "text/plain": [
       "2421.9320099764077"
      ]
     },
     "execution_count": 10,
     "metadata": {},
     "output_type": "execute_result"
    }
   ],
   "source": [
    "sol.u[30]"
   ]
  },
  {
   "cell_type": "code",
   "execution_count": 11,
   "id": "3354453d",
   "metadata": {},
   "outputs": [
    {
     "data": {
      "text/plain": [
       "3.5416666666666665"
      ]
     },
     "execution_count": 11,
     "metadata": {},
     "output_type": "execute_result"
    }
   ],
   "source": [
    "170/48"
   ]
  },
  {
   "cell_type": "code",
   "execution_count": 14,
   "id": "fa416087",
   "metadata": {},
   "outputs": [
    {
     "data": {
      "text/plain": [
       "4×4 Matrix{Int64}:\n",
       " 3  2  -1   0\n",
       " 0  0   3   2\n",
       " 7  5   0  -1\n",
       " 0  0   7   5"
      ]
     },
     "execution_count": 14,
     "metadata": {},
     "output_type": "execute_result"
    }
   ],
   "source": [
    "M1=[3 2 -1 0\n",
    "0 0 3 2\n",
    "7 5 0 -1\n",
    "0 0 7 5]"
   ]
  },
  {
   "cell_type": "code",
   "execution_count": 15,
   "id": "ecd30b6d",
   "metadata": {},
   "outputs": [
    {
     "data": {
      "text/plain": [
       "4-element Vector{Int64}:\n",
       " -3\n",
       "  0\n",
       "  0\n",
       " -2"
      ]
     },
     "execution_count": 15,
     "metadata": {},
     "output_type": "execute_result"
    }
   ],
   "source": [
    "v1=[-3;0;0;-2]"
   ]
  },
  {
   "cell_type": "code",
   "execution_count": 16,
   "id": "0c1cda1d",
   "metadata": {},
   "outputs": [
    {
     "data": {
      "text/plain": [
       "4-element Vector{Float64}:\n",
       "  17.000000000000014\n",
       " -25.000000000000032\n",
       "   4.000000000000002\n",
       "  -6.000000000000003"
      ]
     },
     "execution_count": 16,
     "metadata": {},
     "output_type": "execute_result"
    }
   ],
   "source": [
    "inv(M1)*v1"
   ]
  },
  {
   "cell_type": "code",
   "execution_count": 21,
   "id": "bbd14919",
   "metadata": {},
   "outputs": [],
   "source": [
    "using LinearAlgebra"
   ]
  },
  {
   "cell_type": "code",
   "execution_count": 17,
   "id": "2b715ceb",
   "metadata": {},
   "outputs": [
    {
     "data": {
      "text/plain": [
       "4×4 Matrix{Int64}:\n",
       " -6  -2   1   0\n",
       "  0   0  -6  -2\n",
       " -3  -3   0   1\n",
       "  0   0  -3  -1"
      ]
     },
     "execution_count": 17,
     "metadata": {},
     "output_type": "execute_result"
    }
   ],
   "source": [
    "M2=[-6 -2 1 0\n",
    "0 0 -6 -2\n",
    "-3 -3 0 1\n",
    "0 0 -3 -1]"
   ]
  },
  {
   "cell_type": "code",
   "execution_count": 18,
   "id": "16b1250a",
   "metadata": {},
   "outputs": [
    {
     "data": {
      "text/plain": [
       "4-element Vector{Int64}:\n",
       "   0\n",
       " -18\n",
       "   0\n",
       "  -4"
      ]
     },
     "execution_count": 18,
     "metadata": {},
     "output_type": "execute_result"
    }
   ],
   "source": [
    "v2=[0;-18;0;-4]"
   ]
  },
  {
   "cell_type": "code",
   "execution_count": 23,
   "id": "83ac0855",
   "metadata": {},
   "outputs": [
    {
     "data": {
      "text/plain": [
       "0.0"
      ]
     },
     "execution_count": 23,
     "metadata": {},
     "output_type": "execute_result"
    }
   ],
   "source": [
    "det(M2)"
   ]
  },
  {
   "cell_type": "code",
   "execution_count": 24,
   "id": "c87d7c91",
   "metadata": {},
   "outputs": [
    {
     "data": {
      "text/plain": [
       "2×2 Matrix{Int64}:\n",
       "  0  1\n",
       " -1  0"
      ]
     },
     "execution_count": 24,
     "metadata": {},
     "output_type": "execute_result"
    }
   ],
   "source": [
    "A1=[0 1\n",
    "-1 0]"
   ]
  },
  {
   "cell_type": "code",
   "execution_count": 25,
   "id": "1011d7b5",
   "metadata": {},
   "outputs": [
    {
     "data": {
      "text/plain": [
       "2-element Vector{ComplexF64}:\n",
       " 0.0 - 1.0im\n",
       " 0.0 + 1.0im"
      ]
     },
     "execution_count": 25,
     "metadata": {},
     "output_type": "execute_result"
    }
   ],
   "source": [
    "eigvals(A1)"
   ]
  },
  {
   "cell_type": "code",
   "execution_count": 26,
   "id": "d8b62dc1",
   "metadata": {},
   "outputs": [
    {
     "data": {
      "text/plain": [
       "2×2 Matrix{ComplexF64}:\n",
       " 0.707107-0.0im       0.707107+0.0im\n",
       "      0.0-0.707107im       0.0+0.707107im"
      ]
     },
     "execution_count": 26,
     "metadata": {},
     "output_type": "execute_result"
    }
   ],
   "source": [
    "eigvecs(A1)"
   ]
  },
  {
   "cell_type": "markdown",
   "id": "c00024e2",
   "metadata": {},
   "source": [
    "$$\n",
    "\\left(-\\frac{3}{4}\\cdot\\left(2\\cdot t-1\\right)\\cdot e^{\\left(2\\cdot t\\right)}-\\frac{7}{25}\\cdot\\left(5\\cdot t+1\\right)\\cdot e^{\\left(-5\\cdot t\\right)}\\right)\\cdot\\left(\\frac{2}{7}\\cdot e^{\\left(5\\cdot t\\right)}-\\frac{2}{7}\\cdot e^{\\left(-2\\cdot t\\right)}\\right)+\\left(\\left(\\frac{1}{4}\\cdot\\left(2\\cdot t-1\\right)\\cdot e^{\\left(2\\cdot t\\right)}-\\frac{14}{25}\\cdot\\left(5\\cdot t+1\\right)\\cdot e^{\\left(-5\\cdot t\\right)}\\right)\\cdot\\left(\\frac{6}{7}\\cdot e^{\\left(5\\cdot t\\right)}+\\frac{1}{7}\\cdot e^{\\left(-2\\cdot t\\right)}\\right)\\right)+d_{1}\\cdot2\\cdot e^{\\left(5\\cdot t\\right)}+d_{2}\\cdot e^{\\left(-2\\cdot t\\right)}\n",
    "$$"
   ]
  },
  {
   "cell_type": "code",
   "execution_count": 28,
   "id": "89ead5d1",
   "metadata": {},
   "outputs": [
    {
     "data": {
      "text/plain": [
       "0.28"
      ]
     },
     "execution_count": 28,
     "metadata": {},
     "output_type": "execute_result"
    }
   ],
   "source": [
    "d1=0.28"
   ]
  },
  {
   "cell_type": "code",
   "execution_count": 29,
   "id": "643681e8",
   "metadata": {},
   "outputs": [
    {
     "data": {
      "text/plain": [
       "0.25"
      ]
     },
     "execution_count": 29,
     "metadata": {},
     "output_type": "execute_result"
    }
   ],
   "source": [
    "d2=0.25"
   ]
  },
  {
   "cell_type": "code",
   "execution_count": 30,
   "id": "b9633550",
   "metadata": {},
   "outputs": [
    {
     "data": {
      "text/plain": [
       "0.0"
      ]
     },
     "execution_count": 30,
     "metadata": {},
     "output_type": "execute_result"
    }
   ],
   "source": [
    "(-1/4)-(14/25)+d1*2+d2"
   ]
  },
  {
   "cell_type": "code",
   "execution_count": 1,
   "id": "b4a01327",
   "metadata": {},
   "outputs": [
    {
     "data": {
      "text/plain": [
       "4×4 Matrix{Int64}:\n",
       " 2  1   0   0\n",
       " 0  0  -2   1\n",
       " 4  2   0   0\n",
       " 0  0   4  -2"
      ]
     },
     "execution_count": 1,
     "metadata": {},
     "output_type": "execute_result"
    }
   ],
   "source": [
    "M1=[2 1 0 0\n",
    "0 0 -2 1\n",
    "4 2 0 0 \n",
    "0 0 4 -2]"
   ]
  },
  {
   "cell_type": "code",
   "execution_count": 2,
   "id": "bb19af5a",
   "metadata": {},
   "outputs": [
    {
     "data": {
      "text/plain": [
       "4-element Vector{Int64}:\n",
       " -1\n",
       " -1\n",
       " -1\n",
       " -1"
      ]
     },
     "execution_count": 2,
     "metadata": {},
     "output_type": "execute_result"
    }
   ],
   "source": [
    "v1=[-1;-1;-1;-1]"
   ]
  },
  {
   "cell_type": "code",
   "execution_count": 4,
   "id": "412f0f59",
   "metadata": {},
   "outputs": [],
   "source": [
    "using SymPy"
   ]
  },
  {
   "cell_type": "code",
   "execution_count": 5,
   "id": "787f4621",
   "metadata": {},
   "outputs": [
    {
     "data": {
      "text/plain": [
       "(t,)"
      ]
     },
     "execution_count": 5,
     "metadata": {},
     "output_type": "execute_result"
    }
   ],
   "source": [
    "@vars t"
   ]
  },
  {
   "cell_type": "code",
   "execution_count": 6,
   "id": "fbd7c521",
   "metadata": {},
   "outputs": [
    {
     "data": {
      "text/plain": [
       "3×3 Matrix{Int64}:\n",
       " 1  2  3\n",
       " 0  1  2\n",
       " 0  0  1"
      ]
     },
     "execution_count": 6,
     "metadata": {},
     "output_type": "execute_result"
    }
   ],
   "source": [
    "A1=[1 2 3\n",
    "0 1 2\n",
    "0 0 1]"
   ]
  },
  {
   "cell_type": "code",
   "execution_count": 11,
   "id": "2e80b695",
   "metadata": {},
   "outputs": [
    {
     "data": {
      "text/latex": [
       "$\\left[ \\begin{array}{rrr}e^{t}&- \\frac{3 e^{t}}{2} + \\frac{4 t^{2} e^{t} + 3 t e^{t}}{2 t}&2 t^{2} e^{t} + 3 t e^{t}\\\\0&e^{t}&2 t e^{t}\\\\0&0&e^{t}\\end{array}\\right]$\n"
      ],
      "text/plain": [
       "3×3 Matrix{Sym}:\n",
       " exp(t)  …  2*t^2*exp(t) + 3*t*exp(t)\n",
       "      0                    2*t*exp(t)\n",
       "      0                        exp(t)"
      ]
     },
     "execution_count": 11,
     "metadata": {},
     "output_type": "execute_result"
    }
   ],
   "source": [
    "eat=exp(A1*t)"
   ]
  },
  {
   "cell_type": "code",
   "execution_count": 10,
   "id": "49087cd6",
   "metadata": {},
   "outputs": [
    {
     "data": {
      "text/latex": [
       "$\\left[ \\begin{array}{rrr}e^{- t}&- \\frac{3 e^{- t}}{2} - \\frac{4 t^{2} e^{- t} - 3 t e^{- t}}{2 t}&2 t^{2} e^{- t} - 3 t e^{- t}\\\\0&e^{- t}&- 2 t e^{- t}\\\\0&0&e^{- t}\\end{array}\\right]$\n"
      ],
      "text/plain": [
       "3×3 Matrix{Sym}:\n",
       " exp(-t)  …  2*t^2*exp(-t) - 3*t*exp(-t)\n",
       "       0                    -2*t*exp(-t)\n",
       "       0                         exp(-t)"
      ]
     },
     "execution_count": 10,
     "metadata": {},
     "output_type": "execute_result"
    }
   ],
   "source": [
    "eatinv=exp(-A1*t)"
   ]
  },
  {
   "cell_type": "code",
   "execution_count": 8,
   "id": "aa449f6e",
   "metadata": {},
   "outputs": [
    {
     "data": {
      "text/latex": [
       "$\\left[ \\begin{array}{r}0\\\\0\\\\0\\end{array}\\right]$\n"
      ],
      "text/plain": [
       "3×1 Matrix{Sym}:\n",
       " 0\n",
       " 0\n",
       " 0"
      ]
     },
     "execution_count": 8,
     "metadata": {},
     "output_type": "execute_result"
    }
   ],
   "source": [
    "eat*transpose([0 0 0])"
   ]
  },
  {
   "cell_type": "code",
   "execution_count": 12,
   "id": "c5477728",
   "metadata": {},
   "outputs": [
    {
     "data": {
      "text/latex": [
       "$\\left[ \\begin{array}{rrr}e^{t}&- \\frac{3 e^{t}}{2} + \\frac{4 t^{2} e^{t} + 3 t e^{t}}{2 t}&2 t^{2} e^{t} + 3 t e^{t}\\\\0&e^{t}&2 t e^{t}\\\\0&0&e^{t}\\end{array}\\right]$\n"
      ],
      "text/plain": [
       "3×3 Matrix{Sym}:\n",
       " exp(t)  …  2*t^2*exp(t) + 3*t*exp(t)\n",
       "      0                    2*t*exp(t)\n",
       "      0                        exp(t)"
      ]
     },
     "execution_count": 12,
     "metadata": {},
     "output_type": "execute_result"
    }
   ],
   "source": [
    "eat"
   ]
  },
  {
   "cell_type": "code",
   "execution_count": 13,
   "id": "e3ab1b6d",
   "metadata": {},
   "outputs": [
    {
     "data": {
      "text/latex": [
       "$\\left[ \\begin{array}{r}4 t^{3} - 9 t^{2}\\\\- 6 t^{2}\\\\6 t\\end{array} \\right]$\n"
      ],
      "text/plain": [
       "3-element Vector{Sym}:\n",
       " 4*t^3 - 9*t^2\n",
       "        -6*t^2\n",
       "           6⋅t"
      ]
     },
     "execution_count": 13,
     "metadata": {},
     "output_type": "execute_result"
    }
   ],
   "source": [
    "int=[4*t^3-9*t^2\n",
    "-6*t^2\n",
    "6*t]"
   ]
  },
  {
   "cell_type": "code",
   "execution_count": 14,
   "id": "5a107826",
   "metadata": {},
   "outputs": [
    {
     "data": {
      "text/latex": [
       "$\\left[ \\begin{array}{r}- 6 t^{2} \\left(- \\frac{3 e^{t}}{2} + \\frac{4 t^{2} e^{t} + 3 t e^{t}}{2 t}\\right) + 6 t \\left(2 t^{2} e^{t} + 3 t e^{t}\\right) + \\left(4 t^{3} - 9 t^{2}\\right) e^{t}\\\\6 t^{2} e^{t}\\\\6 t e^{t}\\end{array} \\right]$\n"
      ],
      "text/plain": [
       "3-element Vector{Sym}:\n",
       " -6*t^2*(-3*exp(t)/2 + (4*t^2*exp(t) + 3*t*exp(t))/(2*t)) + 6*t*(2*t^2*exp(t) + 3*t*exp(t)) + (4*t^3 - 9*t^2)*exp(t)\n",
       "                                                                                                        6*t^2*exp(t)\n",
       "                                                                                                          6*t*exp(t)"
      ]
     },
     "execution_count": 14,
     "metadata": {},
     "output_type": "execute_result"
    }
   ],
   "source": [
    "eat*int"
   ]
  },
  {
   "cell_type": "code",
   "execution_count": null,
   "id": "e50dd25a",
   "metadata": {},
   "outputs": [],
   "source": []
  },
  {
   "cell_type": "code",
   "execution_count": null,
   "id": "04678b1c",
   "metadata": {},
   "outputs": [],
   "source": []
  },
  {
   "cell_type": "code",
   "execution_count": null,
   "id": "2db8620b",
   "metadata": {},
   "outputs": [],
   "source": []
  },
  {
   "cell_type": "code",
   "execution_count": null,
   "id": "73eeb357",
   "metadata": {},
   "outputs": [],
   "source": []
  },
  {
   "cell_type": "code",
   "execution_count": null,
   "id": "07483806",
   "metadata": {},
   "outputs": [],
   "source": []
  },
  {
   "cell_type": "code",
   "execution_count": null,
   "id": "af111d43",
   "metadata": {},
   "outputs": [],
   "source": []
  },
  {
   "cell_type": "code",
   "execution_count": null,
   "id": "d8ea0884",
   "metadata": {},
   "outputs": [],
   "source": []
  },
  {
   "cell_type": "code",
   "execution_count": null,
   "id": "2c6a813e",
   "metadata": {},
   "outputs": [],
   "source": []
  },
  {
   "cell_type": "code",
   "execution_count": null,
   "id": "1ba7d355",
   "metadata": {},
   "outputs": [],
   "source": []
  }
 ],
 "metadata": {
  "kernelspec": {
   "display_name": "Julia 1.7.2",
   "language": "julia",
   "name": "julia-1.7"
  },
  "language_info": {
   "file_extension": ".jl",
   "mimetype": "application/julia",
   "name": "julia",
   "version": "1.7.2"
  }
 },
 "nbformat": 4,
 "nbformat_minor": 5
}
