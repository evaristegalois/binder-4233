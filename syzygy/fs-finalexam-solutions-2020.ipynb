{
 "cells": [
  {
   "cell_type": "markdown",
   "metadata": {},
   "source": [
    "<h3>\n",
    "    Question 1\n",
    "</h3>"
   ]
  },
  {
   "cell_type": "markdown",
   "metadata": {},
   "source": [
    "<img src=\"./diagrams/ytti.png\">"
   ]
  },
  {
   "cell_type": "code",
   "execution_count": 2,
   "metadata": {},
   "outputs": [],
   "source": [
    "ms<-c(95,84,81,73,61,92,88,77,76,64)"
   ]
  },
  {
   "cell_type": "code",
   "execution_count": 1,
   "metadata": {},
   "outputs": [],
   "source": [
    "fg<-c(84,95,72,65,65,86,79,80,81,68)"
   ]
  },
  {
   "cell_type": "code",
   "execution_count": 3,
   "metadata": {},
   "outputs": [
    {
     "data": {
      "text/plain": [
       "\n",
       "Call:\n",
       "lm(formula = fg ~ ms)\n",
       "\n",
       "Residuals:\n",
       "    Min      1Q  Median      3Q     Max \n",
       "-8.5613 -4.1266 -0.3212  2.9544 14.3361 \n",
       "\n",
       "Coefficients:\n",
       "            Estimate Std. Error t value Pr(>|t|)  \n",
       "(Intercept)  26.4261    16.8129   1.572   0.1546  \n",
       "ms            0.6457     0.2107   3.065   0.0155 *\n",
       "---\n",
       "Signif. codes:  0 ‘***’ 0.001 ‘**’ 0.01 ‘*’ 0.05 ‘.’ 0.1 ‘ ’ 1\n",
       "\n",
       "Residual standard error: 7.09 on 8 degrees of freedom\n",
       "Multiple R-squared:  0.5401,\tAdjusted R-squared:  0.4826 \n",
       "F-statistic: 9.395 on 1 and 8 DF,  p-value: 0.01546\n"
      ]
     },
     "metadata": {},
     "output_type": "display_data"
    }
   ],
   "source": [
    "summary(lm(fg~ms))"
   ]
  },
  {
   "cell_type": "markdown",
   "metadata": {},
   "source": [
    "Find the equation of the regression line. <font color=\"blue\">4 points</font>"
   ]
  },
  {
   "cell_type": "markdown",
   "metadata": {},
   "source": [
    "$\\hat{y}=0.6457x+26.4261$"
   ]
  },
  {
   "cell_type": "markdown",
   "metadata": {},
   "source": [
    "What is the linear correlation coefficient?  <font color=\"blue\">3 points</font>"
   ]
  },
  {
   "cell_type": "code",
   "execution_count": 4,
   "metadata": {},
   "outputs": [
    {
     "data": {
      "text/html": [
       "0.734917578091102"
      ],
      "text/latex": [
       "0.734917578091102"
      ],
      "text/markdown": [
       "0.734917578091102"
      ],
      "text/plain": [
       "[1] 0.7349176"
      ]
     },
     "metadata": {},
     "output_type": "display_data"
    }
   ],
   "source": [
    "cor(ms,fg)"
   ]
  },
  {
   "cell_type": "markdown",
   "metadata": {},
   "source": [
    "What are the results of a hypothesis test whether there is a linear correlation between the two variables with a significance level of 0.05? Use the table of critical values for the Pearson Correlation Coefficient. <font color=\"blue\">2 points</font>"
   ]
  },
  {
   "cell_type": "markdown",
   "metadata": {},
   "source": [
    "The Pearson correlation coefficient for $n=10$ and $\\alpha=0.05$ is $0.632$."
   ]
  },
  {
   "cell_type": "markdown",
   "metadata": {},
   "source": [
    "Use the equation to predict the statistics final grade for a student who scored 70 on the mathematics aptitude test. <font color=\"blue\">3 points</font>"
   ]
  },
  {
   "cell_type": "markdown",
   "metadata": {},
   "source": [
    "The predicted value is $\\hat{y}=71.6251$."
   ]
  },
  {
   "cell_type": "markdown",
   "metadata": {},
   "source": [
    "<h3>\n",
    "    Question 2\n",
    "</h3>"
   ]
  },
  {
   "cell_type": "markdown",
   "metadata": {},
   "source": [
    "98 out of 338 members of parliament in Canada are women."
   ]
  },
  {
   "cell_type": "markdown",
   "metadata": {},
   "source": [
    "(a) Consider this problem \"with replacement,\" even though technically it should be \"without replacement.\" The transit committee of the Canadian parliament consists of 15 members. Assume that they are randomly drawn from the 338 members of parliament. What is the probability that strictly more than 5 committee members are female? You do not need to calculate the number, but you must give clear instructions how to find this number either on a calculator or a computer. <font color=\"blue\">3 points</font>\n"
   ]
  },
  {
   "cell_type": "code",
   "execution_count": 7,
   "metadata": {},
   "outputs": [
    {
     "data": {
      "text/html": [
       "0.249353733465035"
      ],
      "text/latex": [
       "0.249353733465035"
      ],
      "text/markdown": [
       "0.249353733465035"
      ],
      "text/plain": [
       "[1] 0.2493537"
      ]
     },
     "metadata": {},
     "output_type": "display_data"
    }
   ],
   "source": [
    "1-pbinom(5,15,98/338)"
   ]
  },
  {
   "cell_type": "markdown",
   "metadata": {},
   "source": [
    "(b) If any random two members of parliament speak to each other, what is the probability that they are both male; and what is the probability that they are both female? You may only use the calculator for basic arithmetic. Show your work. <font color=\"blue\">3 points</font>"
   ]
  },
  {
   "cell_type": "markdown",
   "metadata": {},
   "source": [
    "Correct:"
   ]
  },
  {
   "cell_type": "code",
   "execution_count": 2,
   "metadata": {},
   "outputs": [
    {
     "data": {
      "text/html": [
       "0.503573121696838"
      ],
      "text/latex": [
       "0.503573121696838"
      ],
      "text/markdown": [
       "0.503573121696838"
      ],
      "text/plain": [
       "[1] 0.5035731"
      ]
     },
     "metadata": {},
     "output_type": "display_data"
    }
   ],
   "source": [
    "((338-98)/338)*((337-98)/337)"
   ]
  },
  {
   "cell_type": "code",
   "execution_count": 3,
   "metadata": {},
   "outputs": [
    {
     "data": {
      "text/html": [
       "0.0834547785015715"
      ],
      "text/latex": [
       "0.0834547785015715"
      ],
      "text/markdown": [
       "0.0834547785015715"
      ],
      "text/plain": [
       "[1] 0.08345478"
      ]
     },
     "metadata": {},
     "output_type": "display_data"
    }
   ],
   "source": [
    "(98/338)*(97/337)"
   ]
  },
  {
   "cell_type": "markdown",
   "metadata": {},
   "source": [
    "Incorrect:"
   ]
  },
  {
   "cell_type": "code",
   "execution_count": 4,
   "metadata": {},
   "outputs": [
    {
     "data": {
      "text/html": [
       "0.504184027169917"
      ],
      "text/latex": [
       "0.504184027169917"
      ],
      "text/markdown": [
       "0.504184027169917"
      ],
      "text/plain": [
       "[1] 0.504184"
      ]
     },
     "metadata": {},
     "output_type": "display_data"
    }
   ],
   "source": [
    "((338-98)/338)^2"
   ]
  },
  {
   "cell_type": "code",
   "execution_count": 5,
   "metadata": {},
   "outputs": [
    {
     "data": {
      "text/html": [
       "0.0840656839746507"
      ],
      "text/latex": [
       "0.0840656839746507"
      ],
      "text/markdown": [
       "0.0840656839746507"
      ],
      "text/plain": [
       "[1] 0.08406568"
      ]
     },
     "metadata": {},
     "output_type": "display_data"
    }
   ],
   "source": [
    "(98/338)^2"
   ]
  },
  {
   "cell_type": "markdown",
   "metadata": {},
   "source": [
    "c) When a member of parliament vacates their seat between two federal elections, a by-election is called. In the last 29,808 days (since the election in 1935, when by-election rules were changed significantly), there have been 284 by-elections. Consider by-elections to be distributed such that they occur at a known average rate of 3.48 per year and independently of the time since the last by-election. Answer the following questions. <font color=\"blue\">3 points</font>"
   ]
  },
  {
   "cell_type": "markdown",
   "metadata": {},
   "source": [
    "For these questions,  you do not need to calculate the number, but you must give clear instructions how to find this number either on a calculator or a computer."
   ]
  },
  {
   "cell_type": "markdown",
   "metadata": {},
   "source": [
    "What is the probability that either no or one by-election will be held in the next year?"
   ]
  },
  {
   "cell_type": "code",
   "execution_count": 6,
   "metadata": {},
   "outputs": [
    {
     "data": {
      "text/html": [
       "0.138017201426725"
      ],
      "text/latex": [
       "0.138017201426725"
      ],
      "text/markdown": [
       "0.138017201426725"
      ],
      "text/plain": [
       "[1] 0.1380172"
      ]
     },
     "metadata": {},
     "output_type": "display_data"
    }
   ],
   "source": [
    "ppois(1,3.48)"
   ]
  },
  {
   "cell_type": "markdown",
   "metadata": {},
   "source": [
    "What is the probability that there will be nine or more by-elections in the next two years?"
   ]
  },
  {
   "cell_type": "code",
   "execution_count": 8,
   "metadata": {},
   "outputs": [
    {
     "data": {
      "text/html": [
       "0.265708733630369"
      ],
      "text/latex": [
       "0.265708733630369"
      ],
      "text/markdown": [
       "0.265708733630369"
      ],
      "text/plain": [
       "[1] 0.2657087"
      ]
     },
     "metadata": {},
     "output_type": "display_data"
    }
   ],
   "source": [
    "1-ppois(8,3.48*2)"
   ]
  },
  {
   "cell_type": "markdown",
   "metadata": {},
   "source": [
    "<h3>\n",
    "    Question 3\n",
    "</h3>"
   ]
  },
  {
   "cell_type": "markdown",
   "metadata": {},
   "source": [
    "Let $C_1$ be a country in Africa and $C_2$ be a country in South America. Consider the question whether the respective proportions of babies born with a low birth weight are equal. "
   ]
  },
  {
   "cell_type": "markdown",
   "metadata": {},
   "source": [
    "(a) State the null hypothesis and the alternative hypothesis. <font color=\"blue\">2 points</font>"
   ]
  },
  {
   "cell_type": "markdown",
   "metadata": {},
   "source": [
    "$$H_{0}: p_{1}=p_{2}\\qquad{}H_{a}: p_{1}\\neq{}p_{2}$$"
   ]
  },
  {
   "cell_type": "markdown",
   "metadata": {},
   "source": [
    "(b) If respective random samples of sizes $n_1=900$ and $n_2=700$ yielded $y_1=135$ and $y_2=77$ babies with a low birth weight, what is your conclusion at a significance level of $\\alpha=0.05$? You may use either the classical or the $p$-value approach. Make sure to show all the steps of the procedure. <font color=\"blue\">7 points</font>"
   ]
  },
  {
   "cell_type": "code",
   "execution_count": 10,
   "metadata": {},
   "outputs": [
    {
     "data": {
      "text/plain": [
       "\n",
       "\t2-sample test for equality of proportions without continuity\n",
       "\tcorrection\n",
       "\n",
       "data:  c(135, 77) out of c(900, 700)\n",
       "X-squared = 5.4809, df = 1, p-value = 0.01922\n",
       "alternative hypothesis: two.sided\n",
       "95 percent confidence interval:\n",
       " 0.007114409 0.072885591\n",
       "sample estimates:\n",
       "prop 1 prop 2 \n",
       "  0.15   0.11 \n"
      ]
     },
     "metadata": {},
     "output_type": "display_data"
    }
   ],
   "source": [
    "prop.test(x=c(135,77),n=c(900,700),correct=FALSE)"
   ]
  },
  {
   "cell_type": "code",
   "execution_count": 12,
   "metadata": {},
   "outputs": [],
   "source": [
    "pbar<-(135+77)/(900+700)"
   ]
  },
  {
   "cell_type": "code",
   "execution_count": 13,
   "metadata": {},
   "outputs": [],
   "source": [
    "qbar<-1-pbar"
   ]
  },
  {
   "cell_type": "code",
   "execution_count": 15,
   "metadata": {},
   "outputs": [
    {
     "name": "stdout",
     "output_type": "stream",
     "text": [
      "[1] 2.341141\n"
     ]
    }
   ],
   "source": [
    "z<-((135/900)-(77/700))/((((pbar*qbar)/900)+((pbar*qbar)/700))^.5);print(z)"
   ]
  },
  {
   "cell_type": "code",
   "execution_count": 17,
   "metadata": {},
   "outputs": [
    {
     "data": {
      "text/html": [
       "0.0192248986429189"
      ],
      "text/latex": [
       "0.0192248986429189"
      ],
      "text/markdown": [
       "0.0192248986429189"
      ],
      "text/plain": [
       "[1] 0.0192249"
      ]
     },
     "metadata": {},
     "output_type": "display_data"
    }
   ],
   "source": [
    "2*(1-pnorm(z))"
   ]
  },
  {
   "cell_type": "markdown",
   "metadata": {},
   "source": [
    "<img src=\"./diagrams/tngtfclz.png\">"
   ]
  },
  {
   "cell_type": "markdown",
   "metadata": {},
   "source": [
    "<h3>\n",
    "    Question 4\n",
    "</h3>"
   ]
  },
  {
   "cell_type": "markdown",
   "metadata": {},
   "source": [
    "<img src=\"./diagrams/kyavrpsq.png\">"
   ]
  },
  {
   "cell_type": "markdown",
   "metadata": {},
   "source": [
    "(a) What is the confidence interval for the weight of M&M bags based on the sample and a confidence level of 95%? <font color=\"blue\">4 points</font>"
   ]
  },
  {
   "cell_type": "code",
   "execution_count": 19,
   "metadata": {},
   "outputs": [
    {
     "name": "stderr",
     "output_type": "stream",
     "text": [
      "Installing package into ‘/home/jupyter/R/x86_64-pc-linux-gnu-library/3.6’\n",
      "(as ‘lib’ is unspecified)\n"
     ]
    }
   ],
   "source": [
    "install.packages(\"Rmisc\")"
   ]
  },
  {
   "cell_type": "code",
   "execution_count": 20,
   "metadata": {},
   "outputs": [
    {
     "name": "stderr",
     "output_type": "stream",
     "text": [
      "Loading required package: lattice\n",
      "Loading required package: plyr\n"
     ]
    }
   ],
   "source": [
    "library(Rmisc)"
   ]
  },
  {
   "cell_type": "code",
   "execution_count": 21,
   "metadata": {},
   "outputs": [],
   "source": [
    "mm<-c(50.4,47.98,51.68,48.45,51.71,49.8,48.28,49.16,48.72,46.94,47.61,49.4,47.67,48.33,47.7,48.95,46.22,49.8,51.53,49.79,50.97,50.23,48.98,52.06,50.01,46.72,48.49,49.69,50.43,48.74)"
   ]
  },
  {
   "cell_type": "code",
   "execution_count": 30,
   "metadata": {},
   "outputs": [
    {
     "data": {
      "text/html": [
       "<dl class=dl-horizontal>\n",
       "\t<dt>upper</dt>\n",
       "\t\t<dd>49.7829726627081</dd>\n",
       "\t<dt>mean</dt>\n",
       "\t\t<dd>49.2146666666667</dd>\n",
       "\t<dt>lower</dt>\n",
       "\t\t<dd>48.6463606706252</dd>\n",
       "</dl>\n"
      ],
      "text/latex": [
       "\\begin{description*}\n",
       "\\item[upper] 49.7829726627081\n",
       "\\item[mean] 49.2146666666667\n",
       "\\item[lower] 48.6463606706252\n",
       "\\end{description*}\n"
      ],
      "text/markdown": [
       "upper\n",
       ":   49.7829726627081mean\n",
       ":   49.2146666666667lower\n",
       ":   48.6463606706252\n",
       "\n"
      ],
      "text/plain": [
       "   upper     mean    lower \n",
       "49.78297 49.21467 48.64636 "
      ]
     },
     "metadata": {},
     "output_type": "display_data"
    }
   ],
   "source": [
    "CI(mm,ci=0.95)"
   ]
  },
  {
   "cell_type": "code",
   "execution_count": 23,
   "metadata": {},
   "outputs": [
    {
     "name": "stdout",
     "output_type": "stream",
     "text": [
      "[1] 0.568306\n"
     ]
    }
   ],
   "source": [
    "E<-49.7829726627081-49.2146666666667;print(E)"
   ]
  },
  {
   "cell_type": "markdown",
   "metadata": {},
   "source": [
    "(b) A massive study of these weights concludes that the population mean of the data is 49.2 and the population variance 2.3. Which weight in grams is exceeded by 30% of M&M bags in the population? <font color=\"blue\">2 points</font>"
   ]
  },
  {
   "cell_type": "code",
   "execution_count": 40,
   "metadata": {},
   "outputs": [
    {
     "data": {
      "text/html": [
       "49.9952927541324"
      ],
      "text/latex": [
       "49.9952927541324"
      ],
      "text/markdown": [
       "49.9952927541324"
      ],
      "text/plain": [
       "[1] 49.99529"
      ]
     },
     "metadata": {},
     "output_type": "display_data"
    }
   ],
   "source": [
    "qnorm(0.7,49.2,2.3^.5)"
   ]
  },
  {
   "cell_type": "markdown",
   "metadata": {},
   "source": [
    "(c) Using the same population mean and variance as in (b), what percentage of M&M bags weighs less than the advertised 47.9 grams? <font color=\"blue\">3 points</font>"
   ]
  },
  {
   "cell_type": "code",
   "execution_count": 41,
   "metadata": {},
   "outputs": [
    {
     "data": {
      "text/html": [
       "0.195668668909721"
      ],
      "text/latex": [
       "0.195668668909721"
      ],
      "text/markdown": [
       "0.195668668909721"
      ],
      "text/plain": [
       "[1] 0.1956687"
      ]
     },
     "metadata": {},
     "output_type": "display_data"
    }
   ],
   "source": [
    "pnorm(47.9,49.2,2.3^.5)"
   ]
  },
  {
   "cell_type": "markdown",
   "metadata": {},
   "source": [
    "<img src=\"./diagrams/iboupcqz.png\">"
   ]
  },
  {
   "cell_type": "markdown",
   "metadata": {},
   "source": [
    "<h3>\n",
    "    Question 5\n",
    "</h3>"
   ]
  },
  {
   "cell_type": "markdown",
   "metadata": {},
   "source": [
    "A computer magazine wants to know how many of its readers use a text editor called Emacs (this final exam was written using Emacs). Google Trends gives the computer magazine a first estimate of 30.7% among computer programmers. Using this estimate of the population proportion, how many of its readers should the computer magazine survey in order to be 95% confident that the sample percentage is in error by no more than two percentage points? <font color=\"blue\">5 points</font>"
   ]
  },
  {
   "cell_type": "code",
   "execution_count": 27,
   "metadata": {},
   "outputs": [
    {
     "name": "stdout",
     "output_type": "stream",
     "text": [
      "[1] 2043.186\n"
     ]
    }
   ],
   "source": [
    "n<-((qnorm(0.975))^2*0.307*(1-0.307))/(0.02^2);print(n)"
   ]
  },
  {
   "cell_type": "markdown",
   "metadata": {},
   "source": [
    "<img src=\"./diagrams/jfixdliq.png\">"
   ]
  },
  {
   "cell_type": "markdown",
   "metadata": {},
   "source": [
    "<h3>\n",
    "    Question 6\n",
    "</h3>"
   ]
  },
  {
   "cell_type": "markdown",
   "metadata": {},
   "source": [
    "<img src=\"./diagrams/tieasohe.png\">"
   ]
  },
  {
   "cell_type": "markdown",
   "metadata": {},
   "source": [
    "Under the assumption that the cost is normally distributed, what is Gavindeep's confidence interval for the population mean at a confidence level of 0.95? <font color=\"blue\">9 points</font>"
   ]
  },
  {
   "cell_type": "code",
   "execution_count": 29,
   "metadata": {},
   "outputs": [],
   "source": [
    "tc<-c(120.56,161.18,121.35,148.20,160.63,107.30,80.22,139.08,174.22,136.51,108.58,79.88,164.49,96.06,143.42,171.91,117.96,159.94,65.61,164.47,72.40,92.09)"
   ]
  },
  {
   "cell_type": "code",
   "execution_count": 32,
   "metadata": {},
   "outputs": [
    {
     "data": {
      "text/html": [
       "<dl class=dl-horizontal>\n",
       "\t<dt>upper</dt>\n",
       "\t\t<dd>142.122508498624</dd>\n",
       "\t<dt>mean</dt>\n",
       "\t\t<dd>126.639090909091</dd>\n",
       "\t<dt>lower</dt>\n",
       "\t\t<dd>111.155673319558</dd>\n",
       "</dl>\n"
      ],
      "text/latex": [
       "\\begin{description*}\n",
       "\\item[upper] 142.122508498624\n",
       "\\item[mean] 126.639090909091\n",
       "\\item[lower] 111.155673319558\n",
       "\\end{description*}\n"
      ],
      "text/markdown": [
       "upper\n",
       ":   142.122508498624mean\n",
       ":   126.639090909091lower\n",
       ":   111.155673319558\n",
       "\n"
      ],
      "text/plain": [
       "   upper     mean    lower \n",
       "142.1225 126.6391 111.1557 "
      ]
     },
     "metadata": {},
     "output_type": "display_data"
    }
   ],
   "source": [
    "CI(tc,ci=0.95)"
   ]
  },
  {
   "cell_type": "code",
   "execution_count": 33,
   "metadata": {},
   "outputs": [
    {
     "name": "stdout",
     "output_type": "stream",
     "text": [
      "[1] 15.48342\n"
     ]
    }
   ],
   "source": [
    "E<-142.122508498624-126.639090909091;print(E)"
   ]
  },
  {
   "cell_type": "markdown",
   "metadata": {},
   "source": [
    "<img src=\"./diagrams/khdaymhj.png\">"
   ]
  },
  {
   "cell_type": "markdown",
   "metadata": {},
   "source": [
    "<h3>\n",
    "    Question 7\n",
    "</h3>"
   ]
  },
  {
   "cell_type": "markdown",
   "metadata": {},
   "source": [
    "<img src=\"./diagrams/tmbiqvoz.png\">"
   ]
  },
  {
   "cell_type": "markdown",
   "metadata": {},
   "source": [
    "The sample mean is 894,441.2. The sample standard deviation is 159,185.6."
   ]
  },
  {
   "cell_type": "markdown",
   "metadata": {},
   "source": [
    "(a) State the null hypothesis and the alternative hypothesis. <font color=\"blue\">2 points</font>"
   ]
  },
  {
   "cell_type": "markdown",
   "metadata": {},
   "source": [
    "$$H_{0}:\\mu=818700\\qquad{}H_{a}:\\mu>818700$$"
   ]
  },
  {
   "cell_type": "markdown",
   "metadata": {},
   "source": [
    "(b) Find the test statistic and explain how to find the associated p-value using software. <font color=\"blue\">5 points</font>"
   ]
  },
  {
   "cell_type": "code",
   "execution_count": 34,
   "metadata": {},
   "outputs": [],
   "source": [
    "wm<-c(765100,763900,1113400,1003700,995100,1029300,1050200,904400,672900,872000,754300,695000,763000,795900,1192500,1046300,788500)"
   ]
  },
  {
   "cell_type": "code",
   "execution_count": 35,
   "metadata": {},
   "outputs": [
    {
     "data": {
      "text/plain": [
       "\n",
       "\tOne Sample t-test\n",
       "\n",
       "data:  wm\n",
       "t = 1.9618, df = 16, p-value = 0.03371\n",
       "alternative hypothesis: true mean is greater than 818700\n",
       "95 percent confidence interval:\n",
       " 827035.8      Inf\n",
       "sample estimates:\n",
       "mean of x \n",
       " 894441.2 \n"
      ]
     },
     "metadata": {},
     "output_type": "display_data"
    }
   ],
   "source": [
    "t.test(wm,mu=818700,alternative=\"greater\")"
   ]
  },
  {
   "cell_type": "code",
   "execution_count": 37,
   "metadata": {},
   "outputs": [
    {
     "data": {
      "text/html": [
       "17"
      ],
      "text/latex": [
       "17"
      ],
      "text/markdown": [
       "17"
      ],
      "text/plain": [
       "[1] 17"
      ]
     },
     "metadata": {},
     "output_type": "display_data"
    }
   ],
   "source": [
    "length(wm)"
   ]
  },
  {
   "cell_type": "markdown",
   "metadata": {},
   "source": [
    "(c) What is your recommendation for the real estate agent with respect to the null hypothesis, given a significance level of 0.05? <font color=\"blue\">2 points</font>"
   ]
  },
  {
   "cell_type": "code",
   "execution_count": 39,
   "metadata": {},
   "outputs": [
    {
     "data": {
      "text/html": [
       "1.74588367627625"
      ],
      "text/latex": [
       "1.74588367627625"
      ],
      "text/markdown": [
       "1.74588367627625"
      ],
      "text/plain": [
       "[1] 1.745884"
      ]
     },
     "metadata": {},
     "output_type": "display_data"
    }
   ],
   "source": [
    "qt(0.95,16)"
   ]
  },
  {
   "cell_type": "markdown",
   "metadata": {},
   "source": [
    "<img src=\"./diagrams/zhpyekfu.png\">"
   ]
  },
  {
   "cell_type": "markdown",
   "metadata": {},
   "source": [
    "<h3>\n",
    "    Question 8\n",
    "</h3>"
   ]
  },
  {
   "cell_type": "markdown",
   "metadata": {},
   "source": [
    "<img src=\"./diagrams/tzsplqwd.png\">"
   ]
  },
  {
   "cell_type": "markdown",
   "metadata": {},
   "source": [
    "<img src=\"./diagrams/obbkrpxg.png\">"
   ]
  },
  {
   "cell_type": "markdown",
   "metadata": {},
   "source": [
    "<h3>\n",
    "    Question 9\n",
    "</h3>"
   ]
  },
  {
   "cell_type": "markdown",
   "metadata": {},
   "source": [
    "<img src=\"./diagrams/cofkxcsz.png\">"
   ]
  },
  {
   "cell_type": "code",
   "execution_count": 45,
   "metadata": {},
   "outputs": [
    {
     "data": {
      "text/html": [
       "-4.56819776957377"
      ],
      "text/latex": [
       "-4.56819776957377"
      ],
      "text/markdown": [
       "-4.56819776957377"
      ],
      "text/plain": [
       "[1] -4.568198"
      ]
     },
     "metadata": {},
     "output_type": "display_data"
    }
   ],
   "source": [
    "qnorm(pnorm(0,-4.3,2.5)-0.5,-4.3,2.5)"
   ]
  }
 ],
 "metadata": {
  "kernelspec": {
   "display_name": "R",
   "language": "R",
   "name": "ir"
  },
  "language_info": {
   "codemirror_mode": "r",
   "file_extension": ".r",
   "mimetype": "text/x-r-source",
   "name": "R",
   "pygments_lexer": "r",
   "version": "3.6.2"
  }
 },
 "nbformat": 4,
 "nbformat_minor": 4
}
