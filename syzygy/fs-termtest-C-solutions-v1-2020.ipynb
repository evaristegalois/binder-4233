{
 "cells": [
  {
   "cell_type": "markdown",
   "metadata": {},
   "source": [
    "# MATH 2441 Term Test C Solutions (Version 1)"
   ]
  },
  {
   "cell_type": "markdown",
   "metadata": {},
   "source": [
    "#### Question 1"
   ]
  },
  {
   "cell_type": "markdown",
   "metadata": {},
   "source": [
    "The average weekly earnings for all full-time-equivalent employees are reported to be \\\\$344. Suppose that you want to check this claim since you believe it is too low. You want to prove that average weekly earnings of all employees are higher than the amount stated. You collect a random sample of 1,200 employees in all areas and find that the sample mean is \\\\$361 and the sample standard deviation is \\\\$110. Can you disprove the claim? (Use a 0.05 significance level.)"
   ]
  },
  {
   "cell_type": "markdown",
   "metadata": {},
   "source": [
    "<img src=\"./diagrams/gjeq.png\" height=50% width=50%>"
   ]
  },
  {
   "cell_type": "markdown",
   "metadata": {},
   "source": [
    "#### Question 2"
   ]
  },
  {
   "cell_type": "markdown",
   "metadata": {},
   "source": [
    "The New England Journal of Medicine published preliminary results of an ongoing trial with the antiviral drug remdesivir on April 10, 2020. Even though the sampling is imperfect, at the current state of research here is the best we can do: 7 out of 53 hospitalized patients with SARS-CoV-2 infections died if treated with remdesivir (in North America, Europe, and Japan), compared to a group of 99 hospitalized cases treated with lopinavir at Jin Yin-Tan Hospital in Wuhan, China, 19 of which died. Assume the requirements for a hypothesis test are met and test the claim that remdesivir is more effective than lopinavir at a significance level of 0.1 (given the urgency of the situation, we cannot be picky with a high significance level). Use the $p$-value approach."
   ]
  },
  {
   "cell_type": "markdown",
   "metadata": {},
   "source": [
    "<img src=\"./diagrams/waavrlqy.png\" height=33% width=33%>"
   ]
  },
  {
   "cell_type": "code",
   "execution_count": 5,
   "metadata": {},
   "outputs": [
    {
     "name": "stdout",
     "output_type": "stream",
     "text": [
      "[1] -0.9337357\n"
     ]
    }
   ],
   "source": [
    "z<-(((7/53)-(19/99))/(((((26/152)*(126/152))/53)+((((26/152)*(126/152))/99)))^.5));print(z)"
   ]
  },
  {
   "cell_type": "code",
   "execution_count": 6,
   "metadata": {},
   "outputs": [
    {
     "data": {
      "text/html": [
       "0.175220122618268"
      ],
      "text/latex": [
       "0.175220122618268"
      ],
      "text/markdown": [
       "0.175220122618268"
      ],
      "text/plain": [
       "[1] 0.1752201"
      ]
     },
     "metadata": {},
     "output_type": "display_data"
    }
   ],
   "source": [
    "pnorm(z)"
   ]
  },
  {
   "cell_type": "markdown",
   "metadata": {},
   "source": [
    "#### Question 3"
   ]
  },
  {
   "cell_type": "markdown",
   "metadata": {},
   "source": [
    "A wine importer needs to report the average percentage of alcohol in bottles of Chilean wine. From experience with previous kinds of wine, the importer believes the population standard deviation is 1.2\\%. The importer randomly samples 60 bottles of the new wine and obtains a sample mean $\\bar{x}=$9.3\\%. Give a 90\\% confidence interval for the average percentage of alcohol in all bottles of the new wine."
   ]
  },
  {
   "cell_type": "markdown",
   "metadata": {},
   "source": [
    "<img src=\"./diagrams/hgoiueve.png\" height=33% width=33%>"
   ]
  },
  {
   "cell_type": "markdown",
   "metadata": {},
   "source": [
    "#### Question 4"
   ]
  },
  {
   "cell_type": "markdown",
   "metadata": {},
   "source": [
    "Researchers measured skulls from different time periods in an attempt to determine whether interbreeding of cultures occurred. Use a 0.01 significance level to test the claim that the mean maximal skull breadth in 4000 BCE is less than the mean in 150 AD."
   ]
  },
  {
   "cell_type": "code",
   "execution_count": 13,
   "metadata": {},
   "outputs": [],
   "source": [
    "n1=30;x1=131.37;s1=5.13;n2=30;x2=136.17;s2=5.35"
   ]
  },
  {
   "cell_type": "code",
   "execution_count": 15,
   "metadata": {},
   "outputs": [
    {
     "name": "stdout",
     "output_type": "stream",
     "text": [
      "[1] -3.54699\n"
     ]
    }
   ],
   "source": [
    "t=(x1-x2)/(((s1^2/n1)+(s2^2/n2))^.5);print(t)"
   ]
  },
  {
   "cell_type": "code",
   "execution_count": 19,
   "metadata": {},
   "outputs": [
    {
     "name": "stdout",
     "output_type": "stream",
     "text": [
      "[1] -2.462021\n"
     ]
    }
   ],
   "source": [
    "tc<-qt(0.01,29);print(tc)"
   ]
  },
  {
   "cell_type": "markdown",
   "metadata": {},
   "source": [
    "Reject $H_{0}$."
   ]
  },
  {
   "cell_type": "markdown",
   "metadata": {},
   "source": [
    "#### Question 5"
   ]
  },
  {
   "cell_type": "markdown",
   "metadata": {},
   "source": [
    "An accountant wants to test the null hypothesis that the variance of the amounts in company accounts is equal to 10,000 (dollars squared) versus the alternative that the variance is not equal to 10,000. A random sample of 34 accounts gives a sample variance of 13,896. Conduct the two-tailed test at the $\\alpha=$0.05 level of significance. Assume that the population is normally distributed."
   ]
  },
  {
   "cell_type": "markdown",
   "metadata": {},
   "source": [
    "<img src=\"./diagrams/thuy.png\" height=70% width=70%>"
   ]
  },
  {
   "cell_type": "markdown",
   "metadata": {},
   "source": [
    "<h4>Archive</h4>"
   ]
  },
  {
   "cell_type": "markdown",
   "metadata": {},
   "source": [
    "An astronomer measures age and diameter of eight craters. The units are millions of years (age) and kilometres (diameter). To avoid very large and very small numbers, natural logarithms are used."
   ]
  },
  {
   "cell_type": "code",
   "execution_count": 20,
   "metadata": {},
   "outputs": [],
   "source": [
    "diam<-c(1.79,1.94,2.63,2.77,2.89,3.17,1.09,1.79)"
   ]
  },
  {
   "cell_type": "code",
   "execution_count": 21,
   "metadata": {},
   "outputs": [],
   "source": [
    "age<-c(5.70,5.88,5.84,6.15,4.78,2.71,6.90,5.52)"
   ]
  },
  {
   "cell_type": "code",
   "execution_count": 23,
   "metadata": {},
   "outputs": [
    {
     "data": {
      "text/html": [
       "-0.706968856132965"
      ]
     },
     "execution_count": 23,
     "metadata": {},
     "output_type": "execute_result"
    }
   ],
   "source": [
    "cor(age,diam)"
   ]
  },
  {
   "cell_type": "markdown",
   "metadata": {},
   "source": [
    "Pearson critical value is 0.707."
   ]
  },
  {
   "cell_type": "code",
   "execution_count": 22,
   "metadata": {
    "scrolled": true
   },
   "outputs": [
    {
     "data": {
      "text/plain": [
       "\n",
       "Call:\n",
       "lm(formula = diam ~ age)\n",
       "\n",
       "Residuals:\n",
       "    Min      1Q  Median      3Q     Max \n",
       "-0.5803 -0.3804 -0.1616  0.4096  0.7984 \n",
       "\n",
       "Coefficients:\n",
       "            Estimate Std. Error t value Pr(>|t|)   \n",
       "(Intercept)   4.4418     0.9120   4.870  0.00279 **\n",
       "age          -0.4017     0.1640  -2.449  0.04989 * \n",
       "---\n",
       "Signif. codes:  0 ‘***’ 0.001 ‘**’ 0.01 ‘*’ 0.05 ‘.’ 0.1 ‘ ’ 1\n",
       "\n",
       "Residual standard error: 0.5429 on 6 degrees of freedom\n",
       "Multiple R-squared:  0.4998,\tAdjusted R-squared:  0.4164 \n",
       "F-statistic: 5.995 on 1 and 6 DF,  p-value: 0.04989\n"
      ]
     },
     "execution_count": 22,
     "metadata": {},
     "output_type": "execute_result"
    }
   ],
   "source": [
    "summary(lm(diam~age))"
   ]
  },
  {
   "cell_type": "code",
   "execution_count": 24,
   "metadata": {},
   "outputs": [
    {
     "name": "stdout",
     "output_type": "stream",
     "text": [
      "[1] 2.446912\n"
     ]
    }
   ],
   "source": [
    "tc<-qt(.975,6);print(tc)"
   ]
  },
  {
   "cell_type": "markdown",
   "metadata": {},
   "source": [
    "Do people who work for non-profit organizations differ from those who work at for-profit companies when it comes to personal job satisfaction? Separate random samples were collected by a polling agency to investigate the difference. Data collected from 422 employees at non-profit organizations revealed that 377 of them were highly satisfied. From the for-profit companies, 441 out of 518 employees reported the same level of satisfaction. The researchers want to test if the proportions of highly satisfied employees are the same at for-profit companies as at non-profit organizations. What do you conclude at a confidence level of 0.95?"
   ]
  },
  {
   "cell_type": "code",
   "execution_count": 1,
   "metadata": {},
   "outputs": [
    {
     "data": {
      "text/plain": [
       "\n",
       "\t2-sample test for equality of proportions with continuity correction\n",
       "\n",
       "data:  c(377, 441) out of c(422, 518)\n",
       "X-squared = 3.272, df = 1, p-value = 0.07047\n",
       "alternative hypothesis: two.sided\n",
       "95 percent confidence interval:\n",
       " -0.002629931  0.086657086\n",
       "sample estimates:\n",
       "   prop 1    prop 2 \n",
       "0.8933649 0.8513514 \n"
      ]
     },
     "execution_count": 1,
     "metadata": {},
     "output_type": "execute_result"
    }
   ],
   "source": [
    "prop.test(c(377,441),c(422,518),alternative=\"two.sided\")"
   ]
  },
  {
   "cell_type": "code",
   "execution_count": 8,
   "metadata": {},
   "outputs": [],
   "source": [
    "n1=441;n2=518;x1=377;x2=441;p1=x1/n1;p2=x2/n2"
   ]
  },
  {
   "cell_type": "code",
   "execution_count": 9,
   "metadata": {},
   "outputs": [],
   "source": [
    "pb=(p1+p2)/(n1+n2);qb=1-pb"
   ]
  },
  {
   "cell_type": "code",
   "execution_count": 10,
   "metadata": {},
   "outputs": [
    {
     "name": "stdout",
     "output_type": "stream",
     "text": [
      "[1] 1.290565\n"
     ]
    }
   ],
   "source": [
    "z=(p1-p2)/(((pb*qb/n1)+(pb*qb/n2))^.5);print(z)"
   ]
  },
  {
   "cell_type": "code",
   "execution_count": 12,
   "metadata": {},
   "outputs": [
    {
     "name": "stdout",
     "output_type": "stream",
     "text": [
      "[1] 1.959964\n"
     ]
    }
   ],
   "source": [
    "zc<-qnorm(0.975);print(zc)"
   ]
  }
 ],
 "metadata": {
  "kernelspec": {
   "display_name": "R",
   "language": "R",
   "name": "ir"
  },
  "language_info": {
   "codemirror_mode": "r",
   "file_extension": ".r",
   "mimetype": "text/x-r-source",
   "name": "R",
   "pygments_lexer": "r",
   "version": "3.6.2"
  }
 },
 "nbformat": 4,
 "nbformat_minor": 1
}
