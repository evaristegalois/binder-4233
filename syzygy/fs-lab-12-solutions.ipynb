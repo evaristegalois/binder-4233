{
 "cells": [
  {
   "cell_type": "markdown",
   "metadata": {},
   "source": [
    "# Lab Sheet 12 Solutions"
   ]
  },
  {
   "cell_type": "markdown",
   "metadata": {},
   "source": [
    "#### Question 1"
   ]
  },
  {
   "cell_type": "markdown",
   "metadata": {},
   "source": [
    "The average weekly earnings for all full-time-equivalent employees are reported to be \\\\$344. Suppose that you want to check this claim since you believe it is too low. You want to prove that average weekly earnings of all employees are higher than the amount stated. You collect a random sample of 1,200 employees in all areas and find that the sample mean is \\\\$361 and the sample standard deviation is \\\\$110. Can you disprove the claim? (Use a 0.05 significance level.)"
   ]
  },
  {
   "cell_type": "markdown",
   "metadata": {},
   "source": [
    "<img src=\"./diagrams/gjeq.png\" height=50% width=50%>"
   ]
  },
  {
   "cell_type": "markdown",
   "metadata": {},
   "source": [
    "Yes, the claim can be disproved at a $0.05$ significance level."
   ]
  },
  {
   "cell_type": "markdown",
   "metadata": {},
   "source": [
    "#### Question 2"
   ]
  },
  {
   "cell_type": "markdown",
   "metadata": {},
   "source": [
    "The New England Journal of Medicine published preliminary results of an ongoing trial with the antiviral drug remdesivir on April 10, 2020. Even though the sampling is imperfect, at the current state of research here is the best we can do: 7 out of 53 hospitalized patients with SARS-CoV-2 infections died if treated with remdesivir (in North America, Europe, and Japan), compared to a group of 99 hospitalized cases treated with lopinavir at Jin Yin-Tan Hospital in Wuhan, China, 19 of which died. Assume the requirements for a hypothesis test are met and test the claim that remdesivir is more effective than lopinavir at a significance level of 0.1 (given the urgency of the situation, we cannot be picky with a high significance level). Use the $p$-value approach."
   ]
  },
  {
   "cell_type": "markdown",
   "metadata": {},
   "source": [
    "<img src=\"./diagrams/waavrlqy.png\" height=33% width=33%>"
   ]
  },
  {
   "cell_type": "code",
   "execution_count": 5,
   "metadata": {},
   "outputs": [
    {
     "name": "stdout",
     "output_type": "stream",
     "text": [
      "[1] -0.9337357\n"
     ]
    }
   ],
   "source": [
    "z<-(((7/53)-(19/99))/(((((26/152)*(126/152))/53)+((((26/152)*(126/152))/99)))^.5));print(z)"
   ]
  },
  {
   "cell_type": "code",
   "execution_count": 6,
   "metadata": {},
   "outputs": [
    {
     "data": {
      "text/html": [
       "0.175220122618268"
      ],
      "text/latex": [
       "0.175220122618268"
      ],
      "text/markdown": [
       "0.175220122618268"
      ],
      "text/plain": [
       "[1] 0.1752201"
      ]
     },
     "metadata": {},
     "output_type": "display_data"
    }
   ],
   "source": [
    "pnorm(z)"
   ]
  },
  {
   "cell_type": "markdown",
   "metadata": {},
   "source": [
    "No, the data does not provide evidence that remdesivir is more effective than lopinavir."
   ]
  },
  {
   "cell_type": "markdown",
   "metadata": {},
   "source": [
    "#### Question 3"
   ]
  },
  {
   "cell_type": "markdown",
   "metadata": {},
   "source": [
    "A wine importer needs to report the average percentage of alcohol in bottles of Chilean wine. From experience with previous kinds of wine, the importer believes the population standard deviation is 1.2\\%. The importer randomly samples 60 bottles of the new wine and obtains a sample mean $\\bar{x}=$9.3\\%. Give a 90\\% confidence interval for the average percentage of alcohol in all bottles of the new wine."
   ]
  },
  {
   "cell_type": "markdown",
   "metadata": {},
   "source": [
    "<img src=\"./diagrams/hgoiueve.png\" height=33% width=33%>"
   ]
  },
  {
   "cell_type": "markdown",
   "metadata": {},
   "source": [
    "The 90% confidence interval is $[0.09045,0.09555]$."
   ]
  },
  {
   "cell_type": "markdown",
   "metadata": {},
   "source": [
    "#### Question 4"
   ]
  },
  {
   "cell_type": "markdown",
   "metadata": {},
   "source": [
    "Researchers measured skulls from different time periods in an attempt to determine whether interbreeding of cultures occurred. Use a 0.01 significance level to test the claim that the mean maximal skull breadth in 4000 BCE is less than the mean in 150 AD."
   ]
  },
  {
   "cell_type": "code",
   "execution_count": 13,
   "metadata": {},
   "outputs": [],
   "source": [
    "n1=30;x1=131.37;s1=5.13;n2=30;x2=136.17;s2=5.35"
   ]
  },
  {
   "cell_type": "code",
   "execution_count": 15,
   "metadata": {},
   "outputs": [
    {
     "name": "stdout",
     "output_type": "stream",
     "text": [
      "[1] -3.54699\n"
     ]
    }
   ],
   "source": [
    "t=(x1-x2)/(((s1^2/n1)+(s2^2/n2))^.5);print(t)"
   ]
  },
  {
   "cell_type": "code",
   "execution_count": 19,
   "metadata": {},
   "outputs": [
    {
     "name": "stdout",
     "output_type": "stream",
     "text": [
      "[1] -2.462021\n"
     ]
    }
   ],
   "source": [
    "tc<-qt(0.01,29);print(tc)"
   ]
  },
  {
   "cell_type": "markdown",
   "metadata": {},
   "source": [
    "Reject $H_{0}$. The data confirms that the mean maximal skull breadth in 4000 BCE is less than the mean in 150 AD."
   ]
  },
  {
   "cell_type": "markdown",
   "metadata": {},
   "source": [
    "#### Question 5"
   ]
  },
  {
   "cell_type": "markdown",
   "metadata": {},
   "source": [
    "An accountant wants to test the null hypothesis that the variance of the amounts in company accounts is equal to 10,000 (dollars squared) versus the alternative that the variance is not equal to 10,000. A random sample of 34 accounts gives a sample variance of 13,896. Conduct the two-tailed test at the $\\alpha=$0.05 level of significance. Assume that the population is normally distributed."
   ]
  },
  {
   "cell_type": "markdown",
   "metadata": {},
   "source": [
    "<img src=\"./diagrams/thuy.png\" height=70% width=70%>"
   ]
  },
  {
   "cell_type": "markdown",
   "metadata": {},
   "source": [
    "The data does not support the claim that the variance is not equal to $10000$."
   ]
  }
 ],
 "metadata": {
  "kernelspec": {
   "display_name": "R",
   "language": "R",
   "name": "ir"
  },
  "language_info": {
   "codemirror_mode": "r",
   "file_extension": ".r",
   "mimetype": "text/x-r-source",
   "name": "R",
   "pygments_lexer": "r",
   "version": "3.6.2"
  }
 },
 "nbformat": 4,
 "nbformat_minor": 1
}
