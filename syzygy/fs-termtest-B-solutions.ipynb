{
 "cells": [
  {
   "cell_type": "markdown",
   "metadata": {},
   "source": [
    "<h3>Term Test B</h3>"
   ]
  },
  {
   "cell_type": "markdown",
   "metadata": {},
   "source": [
    "<h4>Version 1</h4>"
   ]
  },
  {
   "cell_type": "markdown",
   "metadata": {},
   "source": [
    "<h6>Question 1</h6>"
   ]
  },
  {
   "cell_type": "markdown",
   "metadata": {},
   "source": [
    "Last month your company sold 2371 food items. Past\n",
    "experience indicates that the probability that a purchased item will\n",
    "be returned to the store is 0.002. Estimate (!) the probability that\n",
    "two or fewer items will be returned to the store. If you do not\n",
    "calculate the number, leave detailed instructions on how to calculate\n",
    "the number using software."
   ]
  },
  {
   "cell_type": "code",
   "execution_count": 1,
   "metadata": {},
   "outputs": [],
   "source": [
    "n<-2371"
   ]
  },
  {
   "cell_type": "code",
   "execution_count": 2,
   "metadata": {},
   "outputs": [],
   "source": [
    "p<-0.002"
   ]
  },
  {
   "cell_type": "code",
   "execution_count": 5,
   "metadata": {},
   "outputs": [
    {
     "name": "stdout",
     "output_type": "stream",
     "text": [
      "[1] 4.742\n"
     ]
    }
   ],
   "source": [
    "ll<-n*p;print(ll)"
   ]
  },
  {
   "cell_type": "markdown",
   "metadata": {},
   "source": [
    "$$P(X=x)=\\frac{\\lambda^{x}\\cdot{}e^{-\\lambda}}{x!}$$"
   ]
  },
  {
   "cell_type": "code",
   "execution_count": 9,
   "metadata": {},
   "outputs": [
    {
     "data": {
      "text/html": [
       "0.148131809677905"
      ],
      "text/latex": [
       "0.148131809677905"
      ],
      "text/markdown": [
       "0.148131809677905"
      ],
      "text/plain": [
       "[1] 0.1481318"
      ]
     },
     "metadata": {},
     "output_type": "display_data"
    }
   ],
   "source": [
    "ppois(2,ll)"
   ]
  },
  {
   "cell_type": "markdown",
   "metadata": {},
   "source": [
    "<h6>Question 2</h6>"
   ]
  },
  {
   "cell_type": "markdown",
   "metadata": {},
   "source": [
    "<img src=\"./diagrams/fs-termtest-B-solutions-01.png\" width=\"70%\" height=\"70%\">"
   ]
  },
  {
   "cell_type": "markdown",
   "metadata": {},
   "source": [
    "<img src=\"./diagrams/fs-termtest-B-solutions-02.png\" width=\"30%\" height=\"30%\">"
   ]
  },
  {
   "cell_type": "markdown",
   "metadata": {},
   "source": [
    "<img src=\"./diagrams/fs-termtest-B-solutions-03.png\" width=\"70%\" height=\"70%\">"
   ]
  },
  {
   "cell_type": "markdown",
   "metadata": {},
   "source": [
    "<h6>Question 3</h6>"
   ]
  },
  {
   "cell_type": "markdown",
   "metadata": {},
   "source": [
    "Spring break can be an expensive holiday. A sample of\n",
    "80 students is surveyed, and the average amount spent by students on\n",
    "travel and beverages is \\\\$593.84. The sample standard deviation is\n",
    "approximately \\\\$369.34. Construct a 90% confidence interval for the\n",
    "population mean amount of money spent by spring breakers."
   ]
  },
  {
   "cell_type": "code",
   "execution_count": 10,
   "metadata": {},
   "outputs": [],
   "source": [
    "n<-80"
   ]
  },
  {
   "cell_type": "code",
   "execution_count": 11,
   "metadata": {},
   "outputs": [],
   "source": [
    "s<-369.34"
   ]
  },
  {
   "cell_type": "code",
   "execution_count": 16,
   "metadata": {},
   "outputs": [],
   "source": [
    "xb<-593.84"
   ]
  },
  {
   "cell_type": "code",
   "execution_count": 12,
   "metadata": {},
   "outputs": [],
   "source": [
    "tat<-1.664"
   ]
  },
  {
   "cell_type": "code",
   "execution_count": 14,
   "metadata": {},
   "outputs": [
    {
     "name": "stdout",
     "output_type": "stream",
     "text": [
      "[1] 1.664371\n"
     ]
    }
   ],
   "source": [
    "tata<-qt(.95,79);print(tata)"
   ]
  },
  {
   "cell_type": "code",
   "execution_count": 15,
   "metadata": {},
   "outputs": [
    {
     "name": "stdout",
     "output_type": "stream",
     "text": [
      "[1] 68.71233\n"
     ]
    }
   ],
   "source": [
    "E<-tat*s/sqrt(n);print(E)"
   ]
  },
  {
   "cell_type": "code",
   "execution_count": 17,
   "metadata": {},
   "outputs": [
    {
     "data": {
      "text/html": [
       "525.127670345427"
      ],
      "text/latex": [
       "525.127670345427"
      ],
      "text/markdown": [
       "525.127670345427"
      ],
      "text/plain": [
       "[1] 525.1277"
      ]
     },
     "metadata": {},
     "output_type": "display_data"
    }
   ],
   "source": [
    "xb-E"
   ]
  },
  {
   "cell_type": "code",
   "execution_count": 18,
   "metadata": {},
   "outputs": [
    {
     "data": {
      "text/html": [
       "662.552329654573"
      ],
      "text/latex": [
       "662.552329654573"
      ],
      "text/markdown": [
       "662.552329654573"
      ],
      "text/plain": [
       "[1] 662.5523"
      ]
     },
     "metadata": {},
     "output_type": "display_data"
    }
   ],
   "source": [
    "xb+E"
   ]
  },
  {
   "cell_type": "markdown",
   "metadata": {},
   "source": [
    "<h6>Question 4</h6>"
   ]
  },
  {
   "cell_type": "markdown",
   "metadata": {},
   "source": [
    "The average height of young adult males has a normal\n",
    "distribution with standard deviation of 2.5 inches. You want to\n",
    "estimate the mean height of students at your college or university to\n",
    "within one inch with 93% confidence. How many male\n",
    "students must you measure?"
   ]
  },
  {
   "cell_type": "code",
   "execution_count": 20,
   "metadata": {},
   "outputs": [
    {
     "name": "stdout",
     "output_type": "stream",
     "text": [
      "[1] 1.811911\n"
     ]
    }
   ],
   "source": [
    "zata<-qnorm(.965);print(zata)"
   ]
  },
  {
   "cell_type": "code",
   "execution_count": 21,
   "metadata": {},
   "outputs": [],
   "source": [
    "zat<-1.81"
   ]
  },
  {
   "cell_type": "code",
   "execution_count": 22,
   "metadata": {},
   "outputs": [],
   "source": [
    "ss<-2.5"
   ]
  },
  {
   "cell_type": "code",
   "execution_count": 24,
   "metadata": {},
   "outputs": [],
   "source": [
    "E<-1"
   ]
  },
  {
   "cell_type": "code",
   "execution_count": 26,
   "metadata": {},
   "outputs": [
    {
     "name": "stdout",
     "output_type": "stream",
     "text": [
      "[1] 20.47563\n"
     ]
    }
   ],
   "source": [
    "n<-((zat*ss)/E)^2;print(n)"
   ]
  },
  {
   "cell_type": "markdown",
   "metadata": {},
   "source": [
    "<h6>Question 5</h6>"
   ]
  },
  {
   "cell_type": "markdown",
   "metadata": {},
   "source": [
    "The population mean for a standardized test score is\n",
    "$\\mu=71.2$ with a standard deviation of $\\sigma=11.6$. The\n",
    "standardized test score is \\textbf{not} normally distributed for the\n",
    "population. A test centre runs this test for groups of 44 students\n",
    "every Saturday morning. What is the probability that the sample mean\n",
    "for one of these groups is below 70, assuming that the groups are\n",
    "simple random samples of the population? You may not be able to do\n",
    "this calculation because certain assumptions are not fulfilled. If\n",
    "this is the case, justify why you cannot answer the question."
   ]
  },
  {
   "cell_type": "code",
   "execution_count": 27,
   "metadata": {},
   "outputs": [],
   "source": [
    "mu<-71.2"
   ]
  },
  {
   "cell_type": "code",
   "execution_count": 28,
   "metadata": {},
   "outputs": [],
   "source": [
    "ss<-11.6"
   ]
  },
  {
   "cell_type": "code",
   "execution_count": 29,
   "metadata": {},
   "outputs": [],
   "source": [
    "n<-44"
   ]
  },
  {
   "cell_type": "code",
   "execution_count": 30,
   "metadata": {},
   "outputs": [
    {
     "name": "stdout",
     "output_type": "stream",
     "text": [
      "[1] -0.6861982\n"
     ]
    }
   ],
   "source": [
    "z<-(70-mu)/(ss/sqrt(n));print(z)"
   ]
  },
  {
   "cell_type": "code",
   "execution_count": 31,
   "metadata": {},
   "outputs": [],
   "source": [
    "p<-0.2451"
   ]
  },
  {
   "cell_type": "code",
   "execution_count": 33,
   "metadata": {},
   "outputs": [
    {
     "name": "stdout",
     "output_type": "stream",
     "text": [
      "[1] 0.2462941\n"
     ]
    }
   ],
   "source": [
    "pa<-pnorm(z);print(pa)"
   ]
  },
  {
   "cell_type": "markdown",
   "metadata": {},
   "source": [
    "<h6>Question 6</h6>"
   ]
  },
  {
   "cell_type": "markdown",
   "metadata": {},
   "source": [
    "On an assembly line it is determined 85% of the assembled\n",
    "products have no defects. If one day 50 items are assembled, what is\n",
    "the probability at least 4 and no more than 8 are defective. Use the\n",
    "normal distribution to approximate the binomial distribution."
   ]
  },
  {
   "cell_type": "code",
   "execution_count": 39,
   "metadata": {},
   "outputs": [],
   "source": [
    "p<-0.15"
   ]
  },
  {
   "cell_type": "code",
   "execution_count": 35,
   "metadata": {},
   "outputs": [],
   "source": [
    "n<-50"
   ]
  },
  {
   "cell_type": "code",
   "execution_count": 40,
   "metadata": {},
   "outputs": [
    {
     "name": "stdout",
     "output_type": "stream",
     "text": [
      "[1] 7.5\n"
     ]
    }
   ],
   "source": [
    "mu<-n*p;print(mu)"
   ]
  },
  {
   "cell_type": "code",
   "execution_count": 41,
   "metadata": {},
   "outputs": [
    {
     "name": "stdout",
     "output_type": "stream",
     "text": [
      "[1] 2.524876\n"
     ]
    }
   ],
   "source": [
    "ss<-sqrt(mu*(1-p));print(ss)"
   ]
  },
  {
   "cell_type": "code",
   "execution_count": 42,
   "metadata": {},
   "outputs": [
    {
     "name": "stdout",
     "output_type": "stream",
     "text": [
      "[1] 0.396059\n"
     ]
    }
   ],
   "source": [
    "z1<-(8.5-mu)/ss;print(z1)"
   ]
  },
  {
   "cell_type": "code",
   "execution_count": 43,
   "metadata": {},
   "outputs": [
    {
     "name": "stdout",
     "output_type": "stream",
     "text": [
      "[1] -1.584236\n"
     ]
    }
   ],
   "source": [
    "z2<-(3.5-mu)/ss;print(z2)"
   ]
  },
  {
   "cell_type": "code",
   "execution_count": 44,
   "metadata": {},
   "outputs": [
    {
     "data": {
      "text/html": [
       "0.597399250456028"
      ],
      "text/latex": [
       "0.597399250456028"
      ],
      "text/markdown": [
       "0.597399250456028"
      ],
      "text/plain": [
       "[1] 0.5973993"
      ]
     },
     "metadata": {},
     "output_type": "display_data"
    }
   ],
   "source": [
    "pnorm(z1)-pnorm(z2)"
   ]
  },
  {
   "cell_type": "code",
   "execution_count": 45,
   "metadata": {},
   "outputs": [],
   "source": [
    "p1<-0.6554"
   ]
  },
  {
   "cell_type": "code",
   "execution_count": 46,
   "metadata": {},
   "outputs": [],
   "source": [
    "p2<-0.0571"
   ]
  },
  {
   "cell_type": "code",
   "execution_count": 47,
   "metadata": {},
   "outputs": [
    {
     "data": {
      "text/html": [
       "0.5983"
      ],
      "text/latex": [
       "0.5983"
      ],
      "text/markdown": [
       "0.5983"
      ],
      "text/plain": [
       "[1] 0.5983"
      ]
     },
     "metadata": {},
     "output_type": "display_data"
    }
   ],
   "source": [
    "p1-p2"
   ]
  },
  {
   "cell_type": "markdown",
   "metadata": {},
   "source": [
    "<h6>Question 7</h6>"
   ]
  },
  {
   "cell_type": "markdown",
   "metadata": {},
   "source": [
    "Suppose that a market research firm is hired to estimate\n",
    "the percent of adults living in a large city who have cell phones.\n",
    "Five hundred randomly selected adult residents in this city are\n",
    "surveyed to determine whether they have cell phones. Of the 500 people\n",
    "sampled, 421 responded yes---they own cell phones. Using a 95%\n",
    "confidence level, compute a confidence interval estimate for the true\n",
    "proportion of adult residents of this city who have cell phones."
   ]
  },
  {
   "cell_type": "markdown",
   "metadata": {},
   "source": [
    "<img src=\"./diagrams/fs-termtest-B-solutions-06.png\" width=\"70%\" height=\"70%\">"
   ]
  }
 ],
 "metadata": {
  "kernelspec": {
   "display_name": "R",
   "language": "R",
   "name": "ir"
  },
  "language_info": {
   "codemirror_mode": "r",
   "file_extension": ".r",
   "mimetype": "text/x-r-source",
   "name": "R",
   "pygments_lexer": "r",
   "version": "3.6.2"
  }
 },
 "nbformat": 4,
 "nbformat_minor": 2
}
