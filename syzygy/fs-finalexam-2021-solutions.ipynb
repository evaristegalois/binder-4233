{
 "cells": [
  {
   "cell_type": "markdown",
   "metadata": {},
   "source": [
    "<h3>MATH 2441 Final Exam</h3>"
   ]
  },
  {
   "cell_type": "markdown",
   "metadata": {},
   "source": [
    "<h4>Question 1</h4>"
   ]
  },
  {
   "cell_type": "markdown",
   "metadata": {},
   "source": [
    "The length of a fish from a particular mountain lake in\n",
    "British Columbia is normally distributed with $\\mu=8.9$ inches and\n",
    "$\\sigma=1.1$ inches.\n",
    "1. Find the probability that the length of a chosen fish was greater than $10.4$ inches. <span style=\"color:Tomato;\">0.0863</span>\n",
    "2. Find the probability that the length of a chosen fish was between $7$ and $10$ inches. <span style=\"color:Tomato;\">0.7993</span>\n",
    "3. 27\\% of fish are shorter than $x$ inches. Find $x$. <span style=\"color:Tomato;\">8.2259</span>"
   ]
  },
  {
   "cell_type": "code",
   "execution_count": 5,
   "metadata": {},
   "outputs": [
    {
     "name": "stdout",
     "output_type": "stream",
     "text": [
      "[1] 1.363636\n"
     ]
    }
   ],
   "source": [
    "z1a<-(10.4-8.9)/1.1;print(z1a)"
   ]
  },
  {
   "cell_type": "code",
   "execution_count": 6,
   "metadata": {},
   "outputs": [
    {
     "name": "stdout",
     "output_type": "stream",
     "text": [
      "[1] 0.08634102\n"
     ]
    }
   ],
   "source": [
    "r1a<-1-pnorm(10.4,8.9,1.1);print(r1a)"
   ]
  },
  {
   "cell_type": "code",
   "execution_count": 7,
   "metadata": {},
   "outputs": [
    {
     "name": "stdout",
     "output_type": "stream",
     "text": [
      "[1] 1\n"
     ]
    }
   ],
   "source": [
    "z1b<-(10-8.9)/1.1;print(z1b)"
   ]
  },
  {
   "cell_type": "code",
   "execution_count": 8,
   "metadata": {},
   "outputs": [
    {
     "name": "stdout",
     "output_type": "stream",
     "text": [
      "[1] -1.727273\n"
     ]
    }
   ],
   "source": [
    "z1c<-(7-8.9)/1.1;print(z1c)"
   ]
  },
  {
   "cell_type": "code",
   "execution_count": 9,
   "metadata": {},
   "outputs": [
    {
     "name": "stdout",
     "output_type": "stream",
     "text": [
      "[1] 0.7992854\n"
     ]
    }
   ],
   "source": [
    "r1b<-pnorm(10,8.9,1.1)-pnorm(7,8.9,1.1);print(r1b)"
   ]
  },
  {
   "cell_type": "code",
   "execution_count": 10,
   "metadata": {},
   "outputs": [
    {
     "name": "stdout",
     "output_type": "stream",
     "text": [
      "[1] -0.612813\n"
     ]
    }
   ],
   "source": [
    "z1d<-qnorm(0.27);print(z1d)"
   ]
  },
  {
   "cell_type": "code",
   "execution_count": 11,
   "metadata": {},
   "outputs": [
    {
     "name": "stdout",
     "output_type": "stream",
     "text": [
      "[1] 8.225906\n"
     ]
    }
   ],
   "source": [
    "r1c<-qnorm(0.27,8.9,1.1);print(r1c)"
   ]
  },
  {
   "cell_type": "markdown",
   "metadata": {},
   "source": [
    "<h4>Question 2</h4>"
   ]
  },
  {
   "cell_type": "markdown",
   "metadata": {},
   "source": [
    "Let $X$ and $Y$ be two independent events with $P(X)=0.16$\n",
    "and $P(Y)=0.52$.\n",
    "1. Find $P(\\urcorner{}X\\cap\\urcorner{}Y)$ <span style=\"color:Tomato;\">0.4368</span>\n",
    "2. Find the probability of $X$ conditional on $\\urcorner{}Y$ <span style=\"color:Tomato;\">0.16</span>\n",
    "3. Find the probability that either $\\urcorner{}X$ or $Y$ happens <span style=\"color:Tomato;\">0.9232</span>"
   ]
  },
  {
   "cell_type": "markdown",
   "metadata": {},
   "source": [
    "<table>\n",
    "    <tr>\n",
    "        <td></td>\n",
    "        <td>$X$</td>\n",
    "        <td>$\\urcorner{}X$</td>\n",
    "        <td></td>\n",
    "    </tr>\n",
    "    <tr>\n",
    "        <td>$Y$</td>\n",
    "        <td>0.0832</td>\n",
    "        <td>0.4368</td>\n",
    "        <td>0.52</td>\n",
    "    </tr>\n",
    "    <tr>\n",
    "        <td>$\\urcorner{}Y$</td>\n",
    "        <td>0.0768</td>\n",
    "        <td>0.4032</td>\n",
    "        <td>0.48</td>\n",
    "    </tr>\n",
    "    <tr>\n",
    "        <td></td>\n",
    "        <td>0.16</td>\n",
    "        <td>0.84</td>\n",
    "        <td>1.00</td>\n",
    "    </tr>\n",
    "</table>"
   ]
  },
  {
   "cell_type": "code",
   "execution_count": 12,
   "metadata": {},
   "outputs": [
    {
     "name": "stdout",
     "output_type": "stream",
     "text": [
      "[1] 0.16\n"
     ]
    }
   ],
   "source": [
    "r2b<-0.0768/0.48;print(r2b)"
   ]
  },
  {
   "cell_type": "code",
   "execution_count": 13,
   "metadata": {},
   "outputs": [
    {
     "name": "stdout",
     "output_type": "stream",
     "text": [
      "[1] 0.9232\n"
     ]
    }
   ],
   "source": [
    "r2c<-0.84+0.52-0.4368;print(r2c)"
   ]
  },
  {
   "cell_type": "markdown",
   "metadata": {},
   "source": [
    "<h4>Question 3</h4>"
   ]
  },
  {
   "cell_type": "markdown",
   "metadata": {},
   "source": [
    "Colleen is investigating a potato chip maker's hourly\n",
    "output. She suspects that this particular potato chip maker produces\n",
    "less than the factory average of $8.4$ units per hour. She collects\n",
    "the following data:\n",
    "\n",
    "<table>\n",
    "    <tr>\n",
    "        <td>5.94</td>\n",
    "        <td>9.55</td>\n",
    "        <td>8.98</td>\n",
    "        <td>6.38</td>\n",
    "        <td>8.01</td>\n",
    "        <td>12.33</td>\n",
    "    </tr>\n",
    "    <tr>\n",
    "        <td>8.57</td>\n",
    "        <td>3.45</td>\n",
    "        <td>5.86</td>\n",
    "        <td>9.19</td>\n",
    "        <td>8.36</td>\n",
    "        <td>8.22</td>\n",
    "    </tr>\n",
    "</table>\n",
    "\n",
    "Hourly outputs are normally distributed. The sample mean is\n",
    "$\\bar{x}=7.91$, and the sample standard deviation is $s=2.258$.\n",
    "Perform a hypothesis test on Colleen's suspicion."
   ]
  },
  {
   "cell_type": "code",
   "execution_count": 14,
   "metadata": {},
   "outputs": [
    {
     "name": "stdout",
     "output_type": "stream",
     "text": [
      "[1] -0.7517315\n"
     ]
    }
   ],
   "source": [
    "t3<-(7.91-8.4)/(2.258/sqrt(12));print(t3)"
   ]
  },
  {
   "cell_type": "code",
   "execution_count": 16,
   "metadata": {},
   "outputs": [
    {
     "name": "stdout",
     "output_type": "stream",
     "text": [
      "[1] -1.795885\n"
     ]
    }
   ],
   "source": [
    "c3<-qt(0.05,11);print(c3)"
   ]
  },
  {
   "cell_type": "code",
   "execution_count": 18,
   "metadata": {},
   "outputs": [
    {
     "name": "stdout",
     "output_type": "stream",
     "text": [
      "[1] 0.2339961\n"
     ]
    }
   ],
   "source": [
    "p3<-pt(t3,11);print(p3)"
   ]
  },
  {
   "cell_type": "markdown",
   "metadata": {},
   "source": [
    "Fail to reject."
   ]
  },
  {
   "cell_type": "markdown",
   "metadata": {},
   "source": [
    "<h4>Question 4</h4>"
   ]
  },
  {
   "cell_type": "markdown",
   "metadata": {},
   "source": [
    "Assume that employee absences on a given day follow a\n",
    "Poisson distribution with $\\lambda=1.73$. \n",
    "1. What is the probably that all employees are present on a given day? <span style=\"color:Tomato;\">0.1773</span>\n",
    "2. What is the probably that three or more employees are absent on a given day? <span style=\"color:Tomato;\">0.2507</span>\n",
    "\n",
    "If you do not calculate the numbers, leave detailed instructions on\n",
    "how to calculate them using software."
   ]
  },
  {
   "cell_type": "code",
   "execution_count": 19,
   "metadata": {},
   "outputs": [
    {
     "data": {
      "text/html": [
       "0.177284409969878"
      ],
      "text/latex": [
       "0.177284409969878"
      ],
      "text/markdown": [
       "0.177284409969878"
      ],
      "text/plain": [
       "[1] 0.1772844"
      ]
     },
     "metadata": {},
     "output_type": "display_data"
    }
   ],
   "source": [
    "dpois(0,1.73)"
   ]
  },
  {
   "cell_type": "code",
   "execution_count": 21,
   "metadata": {},
   "outputs": [
    {
     "data": {
      "text/html": [
       "0.25071630548281"
      ],
      "text/latex": [
       "0.25071630548281"
      ],
      "text/markdown": [
       "0.25071630548281"
      ],
      "text/plain": [
       "[1] 0.2507163"
      ]
     },
     "metadata": {},
     "output_type": "display_data"
    }
   ],
   "source": [
    "1-ppois(2,1.73)"
   ]
  },
  {
   "cell_type": "markdown",
   "metadata": {},
   "source": [
    "<h4>Question 5</h4>"
   ]
  },
  {
   "cell_type": "markdown",
   "metadata": {},
   "source": [
    "So-called racial steering occurs when a real estate agent\n",
    "has a tendency to show prospective property buyers only homes in\n",
    "neighbourhoods already dominated by the race of the prospective buyer.\n",
    "Such action violates the Fair Housing Act of 1968 in the USA. Connor\n",
    "and Kadane (2001) write about an American court case where it was\n",
    "alleged that a real estate agent was applying racial steering to\n",
    "renters. Data were provided about how the race of a potential renter\n",
    "of an apartment in a complex appeared to influence the section in the\n",
    "complex the realtor showed the potential renter. The complex split\n",
    "into two sections, section A which was predominantly white and B which\n",
    "was predominantly black. Suppose the data over a two-year period were\n",
    "as below:\n",
    "\n",
    "<table>\n",
    "    <tr>\n",
    "        <td>Potential Renter Race</td>\n",
    "        <td>White</td>\n",
    "        <td>Black</td>\n",
    "    </tr>\n",
    "    <tr>\n",
    "        <td>Section Shown: A</td>\n",
    "        <td>85</td>\n",
    "        <td>10</td>\n",
    "    </tr>\n",
    "    <tr>\n",
    "        <td>Section Shown: B</td>\n",
    "        <td>82</td>\n",
    "        <td>35</td>\n",
    "    </tr>\n",
    "</table>\n",
    "\n",
    "Does a two-sample hypothesis test with a significance level of 10%\n",
    "confirm that the real estate agent systematically shows section B\n",
    "properties to African Americans? Use $\\hat{p}_{1}=\\frac{10}{95}$ and\n",
    "assume all conditions for the relevant test are fulfilled."
   ]
  },
  {
   "cell_type": "code",
   "execution_count": 22,
   "metadata": {},
   "outputs": [],
   "source": [
    "x15<-10;x25<-35;n15<-95;n25<-82+35"
   ]
  },
  {
   "cell_type": "code",
   "execution_count": 24,
   "metadata": {},
   "outputs": [
    {
     "name": "stdout",
     "output_type": "stream",
     "text": [
      "[1] 0.2122642\n"
     ]
    }
   ],
   "source": [
    "pb<-(x15+x25)/(n15+n25);qb<-1-pb;print(pb)"
   ]
  },
  {
   "cell_type": "code",
   "execution_count": 25,
   "metadata": {},
   "outputs": [
    {
     "name": "stdout",
     "output_type": "stream",
     "text": [
      "[1] -3.433175\n"
     ]
    }
   ],
   "source": [
    "z5<-((x15/n15)-(x25/n25))/sqrt(((pb*qb)/n15)+((pb*qb)/n25));print(z5)"
   ]
  },
  {
   "cell_type": "code",
   "execution_count": 26,
   "metadata": {},
   "outputs": [
    {
     "name": "stdout",
     "output_type": "stream",
     "text": [
      "[1] -1.281552\n"
     ]
    }
   ],
   "source": [
    "c5<-qnorm(0.1);print(c5)"
   ]
  },
  {
   "cell_type": "code",
   "execution_count": 28,
   "metadata": {},
   "outputs": [
    {
     "name": "stdout",
     "output_type": "stream",
     "text": [
      "[1] 0.0002982781\n"
     ]
    }
   ],
   "source": [
    "p5<-pnorm(z5);print(p5)"
   ]
  },
  {
   "cell_type": "markdown",
   "metadata": {},
   "source": [
    "Reject. Table value is $0.0003$."
   ]
  },
  {
   "cell_type": "markdown",
   "metadata": {},
   "source": [
    "<h4>Question 6</h4>"
   ]
  },
  {
   "cell_type": "markdown",
   "metadata": {},
   "source": [
    "The probability that a specific type of packaged cheese\n",
    "spoils before a certain date is 8%. Use the normal approximation to\n",
    "the binomial distribution to find out the probability that out of 264\n",
    "items between 20 and 25 items (20 and 25 included) are spoiled on that\n",
    "date. <span style=\"color:Tomato;\">0.4832</span>"
   ]
  },
  {
   "cell_type": "code",
   "execution_count": 6,
   "metadata": {},
   "outputs": [],
   "source": [
    "p6<-0.08;n6<-264"
   ]
  },
  {
   "cell_type": "code",
   "execution_count": 7,
   "metadata": {},
   "outputs": [
    {
     "name": "stdout",
     "output_type": "stream",
     "text": [
      "[1] 21.12\n"
     ]
    }
   ],
   "source": [
    "mu6<-n6*p6;print(mu6)"
   ]
  },
  {
   "cell_type": "code",
   "execution_count": 8,
   "metadata": {},
   "outputs": [
    {
     "name": "stdout",
     "output_type": "stream",
     "text": [
      "[1] 4.407993\n"
     ]
    }
   ],
   "source": [
    "s6<-sqrt(n6*p6*(1-p6));print(s6)"
   ]
  },
  {
   "cell_type": "code",
   "execution_count": 11,
   "metadata": {},
   "outputs": [
    {
     "name": "stdout",
     "output_type": "stream",
     "text": [
      "[1] 0.9936495\n"
     ]
    }
   ],
   "source": [
    "z61<-(25.5-mu6)/s6;print(z61)"
   ]
  },
  {
   "cell_type": "code",
   "execution_count": 12,
   "metadata": {},
   "outputs": [
    {
     "name": "stdout",
     "output_type": "stream",
     "text": [
      "[1] -0.3675142\n"
     ]
    }
   ],
   "source": [
    "z62<-(19.5-mu6)/s6;print(z62)"
   ]
  },
  {
   "cell_type": "code",
   "execution_count": 13,
   "metadata": {},
   "outputs": [
    {
     "data": {
      "text/html": [
       "0.483185499251122"
      ],
      "text/latex": [
       "0.483185499251122"
      ],
      "text/markdown": [
       "0.483185499251122"
      ],
      "text/plain": [
       "[1] 0.4831855"
      ]
     },
     "metadata": {},
     "output_type": "display_data"
    }
   ],
   "source": [
    "pnorm(25.5,mu6,s6)-pnorm(19.5,mu6,s6)"
   ]
  },
  {
   "cell_type": "markdown",
   "metadata": {},
   "source": [
    "<h4>Question 7</h4>"
   ]
  },
  {
   "cell_type": "markdown",
   "metadata": {},
   "source": [
    "The following two commands in R Statistics populate two\n",
    "vectors with paired data. The first (independent) variable is the\n",
    "calorie intake of 22 test subjects on a given day.\n",
    "The second (dependent) variable is the calorie intake on the same day\n",
    "only for fruit and vegetables.\n",
    "Use the critical values of the Pearson correlation coefficient to\n",
    "conduct a hypothesis test for correlation. If there is a correlation,\n",
    "predict the fruit and vegetable calorie intake for a person whose\n",
    "daily calorie intake is 4000 calories.\n",
    "\n",
    "$$  \\sum{}xy=54140335\\qquad\\sum{}x=71416\\qquad\\sum{}y=15602$$\n",
    "\n",
    "$$  \\sum{}x^{2}=242076880\\qquad\\sum{}y^{2}=13773606$$\n"
   ]
  },
  {
   "cell_type": "code",
   "execution_count": 1,
   "metadata": {},
   "outputs": [],
   "source": [
    "daily<-c(4298,2944,3533,3813,3907,2070,3040,4816,3011,3568,3297,2599,3431,3367,2683,2997,2482,3210,4040,2595,3685,2030)"
   ]
  },
  {
   "cell_type": "code",
   "execution_count": 2,
   "metadata": {},
   "outputs": [],
   "source": [
    "fruit<-c(1239,870,657,1199,689,335,1200,873,105,791,684,628,695,893,220,339,521,520,1239,306,1264,335)"
   ]
  },
  {
   "cell_type": "code",
   "execution_count": 3,
   "metadata": {},
   "outputs": [
    {
     "data": {
      "text/html": [
       "0.663037786622013"
      ],
      "text/latex": [
       "0.663037786622013"
      ],
      "text/markdown": [
       "0.663037786622013"
      ],
      "text/plain": [
       "[1] 0.6630378"
      ]
     },
     "metadata": {},
     "output_type": "display_data"
    }
   ],
   "source": [
    "cor(daily,fruit)"
   ]
  },
  {
   "cell_type": "markdown",
   "metadata": {},
   "source": [
    "Critical value from table is $0.444$"
   ]
  },
  {
   "cell_type": "code",
   "execution_count": 4,
   "metadata": {},
   "outputs": [
    {
     "data": {
      "text/plain": [
       "\n",
       "Call:\n",
       "lm(formula = fruit ~ daily)\n",
       "\n",
       "Residuals:\n",
       "    Min      1Q  Median      3Q     Max \n",
       "-524.01 -180.11   -0.55  164.10  561.11 \n",
       "\n",
       "Coefficients:\n",
       "              Estimate Std. Error t value Pr(>|t|)    \n",
       "(Intercept) -397.44578  285.48438  -1.392 0.179156    \n",
       "daily          0.34090    0.08606   3.961 0.000771 ***\n",
       "---\n",
       "Signif. codes:  0 ‘***’ 0.001 ‘**’ 0.01 ‘*’ 0.05 ‘.’ 0.1 ‘ ’ 1\n",
       "\n",
       "Residual standard error: 275.5 on 20 degrees of freedom\n",
       "Multiple R-squared:  0.4396,\tAdjusted R-squared:  0.4116 \n",
       "F-statistic: 15.69 on 1 and 20 DF,  p-value: 0.0007706\n"
      ]
     },
     "metadata": {},
     "output_type": "display_data"
    }
   ],
   "source": [
    "summary(lm(fruit~daily))"
   ]
  },
  {
   "cell_type": "code",
   "execution_count": 5,
   "metadata": {},
   "outputs": [
    {
     "data": {
      "text/html": [
       "<table>\n",
       "<thead><tr><th scope=col>fit</th><th scope=col>lwr</th><th scope=col>upr</th></tr></thead>\n",
       "<tbody>\n",
       "\t<tr><td>966.1594</td><td>363.1709</td><td>1569.148</td></tr>\n",
       "</tbody>\n",
       "</table>\n"
      ],
      "text/latex": [
       "\\begin{tabular}{r|lll}\n",
       " fit & lwr & upr\\\\\n",
       "\\hline\n",
       "\t 966.1594 & 363.1709 & 1569.148\\\\\n",
       "\\end{tabular}\n"
      ],
      "text/markdown": [
       "\n",
       "| fit | lwr | upr |\n",
       "|---|---|---|\n",
       "| 966.1594 | 363.1709 | 1569.148 |\n",
       "\n"
      ],
      "text/plain": [
       "  fit      lwr      upr     \n",
       "1 966.1594 363.1709 1569.148"
      ]
     },
     "metadata": {},
     "output_type": "display_data"
    }
   ],
   "source": [
    "predict(lm(fruit~daily),data.frame(daily=4000),level=0.95,interval=\"predict\")"
   ]
  },
  {
   "cell_type": "markdown",
   "metadata": {},
   "source": [
    "<h4>Question 8</h4>"
   ]
  },
  {
   "cell_type": "markdown",
   "metadata": {},
   "source": [
    "In analyzing hits by V-1 buzz bombs in World War II, South\n",
    "London was subdivided into regions, each with an area of 0.25\n",
    "km$^{2}$. Shown below is a table of actual frequencies of hits and the\n",
    "frequencies expected with the Poisson distribution (first row: Number\n",
    "of Bomb Hits; second row: Actual Number of Regions; third row:\n",
    "Expected Number of Regions from Poisson Distribution). Use the values\n",
    "listed and a 0.05 significance level to test the claim that the actual\n",
    "frequencies fit a Poisson distribution.\n",
    "\n",
    "<table>\n",
    "    <tr>\n",
    "        <td>0</td>\n",
    "        <td>1</td>\n",
    "        <td>2</td>\n",
    "        <td>3</td>\n",
    "        <td>4</td>\n",
    "    </tr>\n",
    "    <tr>\n",
    "        <td>229</td>\n",
    "        <td>211</td>\n",
    "        <td>93</td>\n",
    "        <td>35</td>\n",
    "        <td>8</td>\n",
    "    </tr>\n",
    "    <tr>\n",
    "        <td>227.5</td>\n",
    "        <td>211.4</td>\n",
    "        <td>97.9</td>\n",
    "        <td>30.5</td>\n",
    "        <td>8.7</td>\n",
    "    </tr>\n",
    "</table>"
   ]
  },
  {
   "cell_type": "code",
   "execution_count": 14,
   "metadata": {},
   "outputs": [],
   "source": [
    "obs<-c(229,211,93,35,8)"
   ]
  },
  {
   "cell_type": "code",
   "execution_count": 15,
   "metadata": {},
   "outputs": [],
   "source": [
    "exp<-c(227.5,211.4,97.9,30.5,8.7)"
   ]
  },
  {
   "cell_type": "code",
   "execution_count": 16,
   "metadata": {},
   "outputs": [
    {
     "data": {
      "text/plain": [
       "\n",
       "\tChi-squared test for given probabilities\n",
       "\n",
       "data:  obs\n",
       "X-squared = 0.97615, df = 4, p-value = 0.9134\n"
      ]
     },
     "metadata": {},
     "output_type": "display_data"
    }
   ],
   "source": [
    "chisq.test(obs,p=exp/sum(exp))"
   ]
  },
  {
   "cell_type": "code",
   "execution_count": 24,
   "metadata": {},
   "outputs": [
    {
     "data": {
      "text/html": [
       "9.48772903678115"
      ],
      "text/latex": [
       "9.48772903678115"
      ],
      "text/markdown": [
       "9.48772903678115"
      ],
      "text/plain": [
       "[1] 9.487729"
      ]
     },
     "metadata": {},
     "output_type": "display_data"
    }
   ],
   "source": [
    "qchisq(0.95,4)"
   ]
  },
  {
   "cell_type": "markdown",
   "metadata": {},
   "source": [
    "<h4>Question 9</h4>"
   ]
  },
  {
   "cell_type": "markdown",
   "metadata": {},
   "source": [
    "The number of men and women among management in\n",
    "departments of a multinational food and drink processing conglomerate\n",
    "corporation were counted, and the results are shown in the table\n",
    "below.\n",
    "\n",
    "<table>\n",
    "    <tr>\n",
    "        <td>Department</td>\n",
    "        <td>Procurement</td>\n",
    "        <td>Finance</td>\n",
    "        <td>IT</td>\n",
    "        <td>Legal</td>\n",
    "        <td>Research</td>\n",
    "    </tr>\n",
    "    <tr>\n",
    "        <td>Men</td>\n",
    "        <td>48</td>\n",
    "        <td>92</td>\n",
    "        <td>41</td>\n",
    "        <td>31</td>\n",
    "        <td>37</td>\n",
    "    </tr>\n",
    "    <tr>\n",
    "        <td>Women</td>\n",
    "        <td>6</td>\n",
    "        <td>9</td>\n",
    "        <td>5</td>\n",
    "        <td>15</td>\n",
    "        <td>27</td>\n",
    "    </tr>\n",
    "</table>\n",
    "\n",
    "Test the claim that the gender of a manager is independent of the\n",
    "department. Use the significance level $\\alpha=0.01$."
   ]
  },
  {
   "cell_type": "markdown",
   "metadata": {},
   "source": [
    "<img src=\"./diagrams/fieghieg.png\" width=\"70%\" height=\"70%\">"
   ]
  },
  {
   "cell_type": "code",
   "execution_count": 18,
   "metadata": {},
   "outputs": [],
   "source": [
    "g<-matrix(c(48,92,41,31,37,6,9,5,15,27),ncol=5)"
   ]
  },
  {
   "cell_type": "code",
   "execution_count": 19,
   "metadata": {},
   "outputs": [],
   "source": [
    "gt<-as.table(g)"
   ]
  },
  {
   "cell_type": "code",
   "execution_count": 20,
   "metadata": {},
   "outputs": [
    {
     "data": {
      "text/plain": [
       "\n",
       "\tPearson's Chi-squared test\n",
       "\n",
       "data:  gt\n",
       "X-squared = 41.801, df = 4, p-value = 1.834e-08\n"
      ]
     },
     "metadata": {},
     "output_type": "display_data"
    }
   ],
   "source": [
    "chisq.test(gt)"
   ]
  },
  {
   "cell_type": "code",
   "execution_count": 21,
   "metadata": {},
   "outputs": [
    {
     "data": {
      "text/html": [
       "13.2767041359876"
      ],
      "text/latex": [
       "13.2767041359876"
      ],
      "text/markdown": [
       "13.2767041359876"
      ],
      "text/plain": [
       "[1] 13.2767"
      ]
     },
     "metadata": {},
     "output_type": "display_data"
    }
   ],
   "source": [
    "qchisq(0.99,4)"
   ]
  }
 ],
 "metadata": {
  "kernelspec": {
   "display_name": "R",
   "language": "R",
   "name": "ir"
  },
  "language_info": {
   "codemirror_mode": "r",
   "file_extension": ".r",
   "mimetype": "text/x-r-source",
   "name": "R",
   "pygments_lexer": "r",
   "version": "3.6.2"
  }
 },
 "nbformat": 4,
 "nbformat_minor": 2
}
