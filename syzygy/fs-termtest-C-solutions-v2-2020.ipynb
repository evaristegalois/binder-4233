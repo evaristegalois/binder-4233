{
 "cells": [
  {
   "cell_type": "markdown",
   "metadata": {},
   "source": [
    "# MATH 2441 Term Test C Solutions (Version 2)"
   ]
  },
  {
   "cell_type": "markdown",
   "metadata": {},
   "source": [
    "#### Question 1"
   ]
  },
  {
   "cell_type": "markdown",
   "metadata": {},
   "source": [
    "A wine importer needs to report the average percentage of alcohol in bottles of Chilean wine. From experience with previous kinds of wine, the importer believes the population standard deviation is 0.8\\%. The importer randomly samples 50 bottles of the new wine and obtains a sample mean $\\bar{x}=$8.6\\%. Give a 90\\% confidence interval for the average percentage of alcohol in all bottles of the new wine."
   ]
  },
  {
   "cell_type": "markdown",
   "metadata": {},
   "source": [
    "<img src=\"./diagrams/hmdyspyd.png\" height=33% width=33%>"
   ]
  },
  {
   "cell_type": "code",
   "execution_count": 8,
   "metadata": {},
   "outputs": [
    {
     "name": "stdout",
     "output_type": "stream",
     "text": [
      "[1] 1.644854\n"
     ]
    }
   ],
   "source": [
    "zat<-qnorm(.95);print(zat)"
   ]
  },
  {
   "cell_type": "markdown",
   "metadata": {},
   "source": [
    "#### Question 2"
   ]
  },
  {
   "cell_type": "markdown",
   "metadata": {},
   "source": [
    "The New England Journal of Medicine published preliminary results of an ongoing trial with the antiviral drug remdesivir on April 10, 2020. Even though the sampling is imperfect, at the current state of research here is the best we can do: 7 out of 53 hospitalized patients with SARS-CoV-2 infections died if treated with remdesivir (in North America, Europe, and Japan), compared to a group of 201 hospitalized cases in Wuhan, China, 44 of which died. Assume the requirements for a hypothesis test are met and test the claim that remdesivir is more effective than non-treatment at a significance level of 0.1 (given the urgency of the situation, we cannot be picky with a high significance level). Use the $p$-value approach."
   ]
  },
  {
   "cell_type": "markdown",
   "metadata": {},
   "source": [
    "<img src=\"./diagrams/ujuzaxaj.png\" height=33% width=33%>"
   ]
  },
  {
   "cell_type": "code",
   "execution_count": 1,
   "metadata": {},
   "outputs": [
    {
     "name": "stdout",
     "output_type": "stream",
     "text": [
      "[1] -1.403749\n"
     ]
    }
   ],
   "source": [
    "z<-(((7/53)-(44/201))/(((((51/254)*(203/254))/53)+((((51/254)*(203/254))/201)))^.5));print(z)"
   ]
  },
  {
   "cell_type": "code",
   "execution_count": 2,
   "metadata": {},
   "outputs": [
    {
     "data": {
      "text/html": [
       "0.0801967735990458"
      ],
      "text/latex": [
       "0.0801967735990458"
      ],
      "text/markdown": [
       "0.0801967735990458"
      ],
      "text/plain": [
       "[1] 0.08019677"
      ]
     },
     "metadata": {},
     "output_type": "display_data"
    }
   ],
   "source": [
    "pnorm(z)"
   ]
  },
  {
   "cell_type": "markdown",
   "metadata": {},
   "source": [
    "#### Question 3"
   ]
  },
  {
   "cell_type": "markdown",
   "metadata": {},
   "source": [
    "Researchers measured skulls from different time periods in an attempt to determine whether interbreeding of cultures occurred. Use a 0.01 significance level to test the claim that the mean maximal skull breadth in 4000 BCE is less than the mean in 150 AD."
   ]
  },
  {
   "cell_type": "code",
   "execution_count": 13,
   "metadata": {},
   "outputs": [],
   "source": [
    "n1=30;x1=131.37;s1=5.13;n2=30;x2=136.17;s2=5.35"
   ]
  },
  {
   "cell_type": "code",
   "execution_count": 15,
   "metadata": {},
   "outputs": [
    {
     "name": "stdout",
     "output_type": "stream",
     "text": [
      "[1] -3.54699\n"
     ]
    }
   ],
   "source": [
    "t=(x1-x2)/(((s1^2/n1)+(s2^2/n2))^.5);print(t)"
   ]
  },
  {
   "cell_type": "code",
   "execution_count": 19,
   "metadata": {},
   "outputs": [
    {
     "name": "stdout",
     "output_type": "stream",
     "text": [
      "[1] -2.462021\n"
     ]
    }
   ],
   "source": [
    "tc<-qt(0.01,29);print(tc)"
   ]
  },
  {
   "cell_type": "markdown",
   "metadata": {},
   "source": [
    "Reject $H_{0}$."
   ]
  },
  {
   "cell_type": "markdown",
   "metadata": {},
   "source": [
    "#### Question 4"
   ]
  },
  {
   "cell_type": "markdown",
   "metadata": {},
   "source": [
    "The average weekly earnings for all full-time-equivalent employees are reported to be \\\\$351. Suppose that you want to check this claim since you believe it is too low. You want to prove that average weekly earnings of all employees are higher than the amount stated. You collect a random sample of 800 employees in all areas and find that the sample mean is \\\\$360 and the sample standard deviation is \\\\$94. Can you disprove the claim? (Use a 0.05 significance level.)"
   ]
  },
  {
   "cell_type": "markdown",
   "metadata": {},
   "source": [
    "$\\mu=351,n=800,\\bar{x}=360,s=94,1-\\alpha=0.95$"
   ]
  },
  {
   "cell_type": "markdown",
   "metadata": {},
   "source": [
    "$$t^{\\ast}=\\frac{\\bar{x}-\\mu}{\\frac{s}{\\sqrt{n}}}$$"
   ]
  },
  {
   "cell_type": "code",
   "execution_count": 14,
   "metadata": {},
   "outputs": [],
   "source": [
    "ts<-(360-351)/(94/(800^.5))"
   ]
  },
  {
   "cell_type": "code",
   "execution_count": 15,
   "metadata": {},
   "outputs": [
    {
     "data": {
      "text/html": [
       "2.70806852369316"
      ]
     },
     "execution_count": 15,
     "metadata": {},
     "output_type": "execute_result"
    }
   ],
   "source": [
    "ts"
   ]
  },
  {
   "cell_type": "markdown",
   "metadata": {},
   "source": [
    "$$t_{\\alpha}=1.646$$"
   ]
  },
  {
   "cell_type": "code",
   "execution_count": 6,
   "metadata": {},
   "outputs": [
    {
     "name": "stdout",
     "output_type": "stream",
     "text": [
      "[1] 1.646763\n"
     ]
    }
   ],
   "source": [
    "talpha<-qt(.95,799);print(talpha)"
   ]
  },
  {
   "cell_type": "markdown",
   "metadata": {},
   "source": [
    "Decision: reject $H_{0}$."
   ]
  },
  {
   "cell_type": "markdown",
   "metadata": {},
   "source": [
    "#### Question 5"
   ]
  },
  {
   "cell_type": "markdown",
   "metadata": {},
   "source": [
    "$\\sigma^{2}=8100,n=36,s^{2}=11256,1-\\alpha=0.95$"
   ]
  },
  {
   "cell_type": "markdown",
   "metadata": {},
   "source": [
    "$$\\chi^{2}=\\frac{(n-1)s^{2}}{\\sigma^{2}}=\\frac{35\\cdot{}11256}{8100}$$"
   ]
  },
  {
   "cell_type": "code",
   "execution_count": 8,
   "metadata": {},
   "outputs": [],
   "source": [
    "cs<-(35*11256)/8100"
   ]
  },
  {
   "cell_type": "code",
   "execution_count": 9,
   "metadata": {},
   "outputs": [
    {
     "data": {
      "text/html": [
       "48.637037037037"
      ]
     },
     "execution_count": 9,
     "metadata": {},
     "output_type": "execute_result"
    }
   ],
   "source": [
    "cs"
   ]
  },
  {
   "cell_type": "code",
   "execution_count": 10,
   "metadata": {},
   "outputs": [],
   "source": [
    "crit<-c((16.791+24.433)/2,(46.979+59.342)/2)"
   ]
  },
  {
   "cell_type": "code",
   "execution_count": 11,
   "metadata": {},
   "outputs": [
    {
     "data": {
      "text/html": [
       "<ol class=list-inline>\n",
       "\t<li>20.612</li>\n",
       "\t<li>53.1605</li>\n",
       "</ol>\n"
      ]
     },
     "execution_count": 11,
     "metadata": {},
     "output_type": "execute_result"
    }
   ],
   "source": [
    "crit"
   ]
  },
  {
   "cell_type": "markdown",
   "metadata": {},
   "source": [
    "Decision: fail to reject $H_{0}$."
   ]
  },
  {
   "cell_type": "markdown",
   "metadata": {},
   "source": [
    "<h4>Archive</h4>"
   ]
  },
  {
   "cell_type": "markdown",
   "metadata": {},
   "source": [
    "#### Question 2"
   ]
  },
  {
   "cell_type": "markdown",
   "metadata": {},
   "source": [
    "Do people who work for non-profit organizations differ from those who work at for-profit companies when it comes to personal job satisfaction? Separate random samples were collected by a polling agency to investigate the difference. Data collected from 422 employees at non-profit organizations revealed that 377 of them were highly satisfied. From the for-profit companies, 441 out of 518 employees reported the same level of satisfaction. The researchers want to test if the proportions of highly satisfied employees are the same at for-profit companies as at non-profit organizations. What do you conclude at a confidence level of 0.95?"
   ]
  },
  {
   "cell_type": "code",
   "execution_count": 1,
   "metadata": {},
   "outputs": [
    {
     "data": {
      "text/plain": [
       "\n",
       "\t2-sample test for equality of proportions with continuity correction\n",
       "\n",
       "data:  c(377, 441) out of c(422, 518)\n",
       "X-squared = 3.272, df = 1, p-value = 0.07047\n",
       "alternative hypothesis: two.sided\n",
       "95 percent confidence interval:\n",
       " -0.002629931  0.086657086\n",
       "sample estimates:\n",
       "   prop 1    prop 2 \n",
       "0.8933649 0.8513514 \n"
      ]
     },
     "execution_count": 1,
     "metadata": {},
     "output_type": "execute_result"
    }
   ],
   "source": [
    "prop.test(c(377,441),c(422,518),alternative=\"two.sided\")"
   ]
  },
  {
   "cell_type": "code",
   "execution_count": 8,
   "metadata": {},
   "outputs": [],
   "source": [
    "n1=441;n2=518;x1=377;x2=441;p1=x1/n1;p2=x2/n2"
   ]
  },
  {
   "cell_type": "code",
   "execution_count": 9,
   "metadata": {},
   "outputs": [],
   "source": [
    "pb=(p1+p2)/(n1+n2);qb=1-pb"
   ]
  },
  {
   "cell_type": "code",
   "execution_count": 10,
   "metadata": {},
   "outputs": [
    {
     "name": "stdout",
     "output_type": "stream",
     "text": [
      "[1] 1.290565\n"
     ]
    }
   ],
   "source": [
    "z=(p1-p2)/(((pb*qb/n1)+(pb*qb/n2))^.5);print(z)"
   ]
  },
  {
   "cell_type": "code",
   "execution_count": 12,
   "metadata": {},
   "outputs": [
    {
     "name": "stdout",
     "output_type": "stream",
     "text": [
      "[1] 1.959964\n"
     ]
    }
   ],
   "source": [
    "zc<-qnorm(0.975);print(zc)"
   ]
  },
  {
   "cell_type": "markdown",
   "metadata": {},
   "source": [
    "#### Question 5"
   ]
  },
  {
   "cell_type": "markdown",
   "metadata": {},
   "source": [
    "$\\sigma=0.008,n=50,\\bar{x}=0.086,1-\\alpha=0.90$"
   ]
  },
  {
   "cell_type": "markdown",
   "metadata": {},
   "source": [
    "$$E=z_{\\frac{\\alpha}{2}}\\frac{\\sigma}{\\sqrt{n}}$$"
   ]
  },
  {
   "cell_type": "code",
   "execution_count": 16,
   "metadata": {},
   "outputs": [],
   "source": [
    "E<-1.645*(0.008/(50^.5))"
   ]
  },
  {
   "cell_type": "code",
   "execution_count": 17,
   "metadata": {},
   "outputs": [
    {
     "data": {
      "text/html": [
       "0.00186110504808299"
      ]
     },
     "execution_count": 17,
     "metadata": {},
     "output_type": "execute_result"
    }
   ],
   "source": [
    "E"
   ]
  },
  {
   "cell_type": "code",
   "execution_count": 18,
   "metadata": {},
   "outputs": [],
   "source": [
    "confint<-c(0.086-E,0.086+E)"
   ]
  },
  {
   "cell_type": "code",
   "execution_count": 19,
   "metadata": {},
   "outputs": [
    {
     "data": {
      "text/html": [
       "<ol class=list-inline>\n",
       "\t<li>0.084138894951917</li>\n",
       "\t<li>0.087861105048083</li>\n",
       "</ol>\n"
      ]
     },
     "execution_count": 19,
     "metadata": {},
     "output_type": "execute_result"
    }
   ],
   "source": [
    "confint"
   ]
  },
  {
   "cell_type": "markdown",
   "metadata": {},
   "source": [
    "The confidence interval is between 8.41% and 8.79%."
   ]
  },
  {
   "cell_type": "markdown",
   "metadata": {},
   "source": [
    "#### Question 1"
   ]
  },
  {
   "cell_type": "markdown",
   "metadata": {},
   "source": [
    "$n=502,x=451,1-\\alpha=0.95$"
   ]
  },
  {
   "cell_type": "markdown",
   "metadata": {},
   "source": [
    "$$E=z_{\\frac{\\alpha}{2}}\\sqrt{\\frac{\\hat{p}\\hat{q}}{n}}=1.96\\sqrt{\\frac{\\frac{451}{502}\\frac{51}{502}}{502}}$$"
   ]
  },
  {
   "cell_type": "code",
   "execution_count": 1,
   "metadata": {},
   "outputs": [],
   "source": [
    "E<-1.96*(((451/502)*(51/502))/502)^.5"
   ]
  },
  {
   "cell_type": "code",
   "execution_count": 2,
   "metadata": {},
   "outputs": [
    {
     "data": {
      "text/html": [
       "0.0264285815448348"
      ]
     },
     "execution_count": 2,
     "metadata": {},
     "output_type": "execute_result"
    }
   ],
   "source": [
    "E"
   ]
  },
  {
   "cell_type": "code",
   "execution_count": 3,
   "metadata": {},
   "outputs": [],
   "source": [
    "lr<-(451/502)-E"
   ]
  },
  {
   "cell_type": "code",
   "execution_count": 4,
   "metadata": {},
   "outputs": [],
   "source": [
    "hr<-(451/502)+E"
   ]
  },
  {
   "cell_type": "code",
   "execution_count": 5,
   "metadata": {},
   "outputs": [],
   "source": [
    "interval<-c(lr,hr)"
   ]
  },
  {
   "cell_type": "code",
   "execution_count": 7,
   "metadata": {},
   "outputs": [
    {
     "data": {
      "text/html": [
       "<ol class=list-inline>\n",
       "\t<li>0.871977792957157</li>\n",
       "\t<li>0.924834956046827</li>\n",
       "</ol>\n"
      ]
     },
     "execution_count": 7,
     "metadata": {},
     "output_type": "execute_result"
    }
   ],
   "source": [
    "interval"
   ]
  },
  {
   "cell_type": "markdown",
   "metadata": {},
   "source": [
    "#### Question 3"
   ]
  },
  {
   "cell_type": "markdown",
   "metadata": {},
   "source": [
    "$p^{\\ast}=0.18,E=0.04,1-\\alpha=0.99$"
   ]
  },
  {
   "cell_type": "markdown",
   "metadata": {},
   "source": [
    "$$n=\\frac{(z_{\\frac{\\alpha}{2}})^{2}p^{\\ast}(1-p^{\\ast})}{E^{2}}$$"
   ]
  },
  {
   "cell_type": "code",
   "execution_count": 12,
   "metadata": {},
   "outputs": [],
   "source": [
    "n<-(2.575^2*0.18*(1-0.18))/(0.04^2)"
   ]
  },
  {
   "cell_type": "code",
   "execution_count": 13,
   "metadata": {},
   "outputs": [
    {
     "data": {
      "text/html": [
       "611.67515625"
      ]
     },
     "execution_count": 13,
     "metadata": {},
     "output_type": "execute_result"
    }
   ],
   "source": [
    "n"
   ]
  }
 ],
 "metadata": {
  "kernelspec": {
   "display_name": "R",
   "language": "R",
   "name": "ir"
  },
  "language_info": {
   "codemirror_mode": "r",
   "file_extension": ".r",
   "mimetype": "text/x-r-source",
   "name": "R",
   "pygments_lexer": "r",
   "version": "3.6.2"
  }
 },
 "nbformat": 4,
 "nbformat_minor": 1
}
