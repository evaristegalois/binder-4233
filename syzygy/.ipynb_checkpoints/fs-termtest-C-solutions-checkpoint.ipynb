{
 "cells": [
  {
   "cell_type": "markdown",
   "metadata": {},
   "source": [
    "<h3>Term Test C</h3>"
   ]
  },
  {
   "cell_type": "markdown",
   "metadata": {},
   "source": [
    "<h4>Version 1</h4>"
   ]
  },
  {
   "cell_type": "markdown",
   "metadata": {},
   "source": [
    "<h6>Question 1</h6>"
   ]
  },
  {
   "cell_type": "markdown",
   "metadata": {},
   "source": [
    "Assume that we want to estimate the mean IQ score for the\n",
    "population of statistics professors. How many statistics professors\n",
    "must be randomly selected for IQ tests if we want 95% confidence that\n",
    "the sample mean is within 2 IQ points of the population mean? You can\n",
    "assume $\\sigma=15$."
   ]
  },
  {
   "cell_type": "code",
   "execution_count": 5,
   "metadata": {},
   "outputs": [
    {
     "name": "stdout",
     "output_type": "stream",
     "text": [
      "[1] 1.959964\n"
     ]
    }
   ],
   "source": [
    "zat<-qnorm(0.975);print(zat)"
   ]
  },
  {
   "cell_type": "code",
   "execution_count": 4,
   "metadata": {},
   "outputs": [],
   "source": [
    "ss=15;E=2"
   ]
  },
  {
   "cell_type": "code",
   "execution_count": 8,
   "metadata": {},
   "outputs": [
    {
     "name": "stdout",
     "output_type": "stream",
     "text": [
      "[1] 216.0821\n"
     ]
    }
   ],
   "source": [
    "n=((zat*ss)/E)^2;print(n)"
   ]
  },
  {
   "cell_type": "markdown",
   "metadata": {},
   "source": [
    "You should select $217$ statistics professors."
   ]
  },
  {
   "cell_type": "markdown",
   "metadata": {},
   "source": [
    "<h6>Question 2</h6>"
   ]
  },
  {
   "cell_type": "markdown",
   "metadata": {},
   "source": [
    "The A. C Nielsen Company collects data on the TV viewing habits of\n",
    "Americans and publishes the information in Nielsen Report on\n",
    "Television. Twenty married couples are randomly selected. Their weekly\n",
    "viewing times, in hours, are as follows. Assume that conditions for\n",
    "using the formula are fulfilled."
   ]
  },
  {
   "cell_type": "markdown",
   "metadata": {},
   "source": [
    "<table>\n",
    "    <tr>\n",
    "        <td>Husband</td>\n",
    "        <td>Wife</td>\n",
    "        <td>Husband</td>\n",
    "        <td>Wife</td>\n",
    "        <td>Husband</td>\n",
    "        <td>Wife</td>\n",
    "    </tr>\n",
    "    <tr>\n",
    "        <td>21</td>\n",
    "        <td>24</td>\n",
    "        <td>38</td>\n",
    "        <td>45</td>\n",
    "        <td>36</td>\n",
    "        <td>35</td>\n",
    "    </tr>\n",
    "    <tr>\n",
    "        <td>56</td>\n",
    "        <td>55</td>\n",
    "        <td>27</td>\n",
    "        <td>29</td>\n",
    "        <td>20</td>\n",
    "        <td>34</td>\n",
    "    </tr>\n",
    "    <tr>\n",
    "        <td>34</td>\n",
    "        <td>55</td>\n",
    "        <td>30</td>\n",
    "        <td>41</td>\n",
    "        <td>43</td>\n",
    "        <td>32</td>\n",
    "    </tr>\n",
    "    <tr>\n",
    "        <td>30</td>\n",
    "        <td>34</td>\n",
    "        <td>31</td>\n",
    "        <td>37</td>\n",
    "        <td>4</td>\n",
    "        <td>13</td>\n",
    "    </tr>\n",
    "    <tr>\n",
    "        <td>41</td>\n",
    "        <td>32</td>\n",
    "        <td>30</td>\n",
    "        <td>35</td>\n",
    "        <td>16</td>\n",
    "        <td>9</td>\n",
    "    </tr>\n",
    "    <tr>\n",
    "        <td>35</td>\n",
    "        <td>38</td>\n",
    "        <td>32</td>\n",
    "        <td>48</td>\n",
    "        <td>21</td>\n",
    "        <td>23</td>\n",
    "    </tr>\n",
    "    <tr>\n",
    "        <td>26</td>\n",
    "        <td>38</td>\n",
    "        <td>15</td>\n",
    "        <td>17</td>\n",
    "        <td></td>\n",
    "        <td></td>\n",
    "    </tr>\n",
    "</table>"
   ]
  },
  {
   "cell_type": "markdown",
   "metadata": {},
   "source": [
    "At the 5% level of significance, does it appear that married men\n",
    "watch less TV, on the average, than married women? Hint: as you do not\n",
    "have software, the relevant standard deviation you need to use in your\n",
    "calculation is $8.146036$. It is up to you to determine to which data\n",
    "set this standard deviation applies, given the context."
   ]
  },
  {
   "cell_type": "code",
   "execution_count": 34,
   "metadata": {},
   "outputs": [
    {
     "name": "stdout",
     "output_type": "stream",
     "text": [
      "    m  f\n",
      "1  21 24\n",
      "2  56 55\n",
      "3  34 55\n",
      "4  30 34\n",
      "5  41 32\n",
      "6  35 38\n",
      "7  26 38\n",
      "8  38 45\n",
      "9  27 29\n",
      "10 30 41\n",
      "11 31 37\n",
      "12 30 35\n",
      "13 32 48\n",
      "14 15 17\n",
      "15 36 35\n",
      "16 20 34\n",
      "17 43 32\n",
      "18  4 13\n",
      "19 16  9\n",
      "20 21 23\n"
     ]
    }
   ],
   "source": [
    "tv<-read.table(\"./csv/tv.csv\",sep=\",\",header=TRUE);print(tv)"
   ]
  },
  {
   "cell_type": "code",
   "execution_count": 15,
   "metadata": {},
   "outputs": [],
   "source": [
    "d<-tv[[1]]-tv[[2]]"
   ]
  },
  {
   "cell_type": "code",
   "execution_count": 18,
   "metadata": {},
   "outputs": [
    {
     "name": "stdout",
     "output_type": "stream",
     "text": [
      "[1] -4.4\n"
     ]
    }
   ],
   "source": [
    "db<-mean(d);print(db)"
   ]
  },
  {
   "cell_type": "code",
   "execution_count": 19,
   "metadata": {},
   "outputs": [
    {
     "name": "stdout",
     "output_type": "stream",
     "text": [
      "[1] 8.146036\n"
     ]
    }
   ],
   "source": [
    "sd<-sd(d);print(sd)"
   ]
  },
  {
   "cell_type": "markdown",
   "metadata": {},
   "source": [
    "$$H_{0}:\\mu_{d}=0,H_{a}:\\mu_{d}<0,\\alpha=0.05$$"
   ]
  },
  {
   "cell_type": "code",
   "execution_count": 20,
   "metadata": {},
   "outputs": [
    {
     "name": "stdout",
     "output_type": "stream",
     "text": [
      "[1] -2.41558\n"
     ]
    }
   ],
   "source": [
    "ts<-db/(sd/sqrt(length(tv[[1]])));print(ts)"
   ]
  },
  {
   "cell_type": "code",
   "execution_count": 23,
   "metadata": {},
   "outputs": [
    {
     "name": "stdout",
     "output_type": "stream",
     "text": [
      "[1] -1.724718\n"
     ]
    }
   ],
   "source": [
    "ta<-qt(0.05,length(tv[[1]]-1));print(ta)"
   ]
  },
  {
   "cell_type": "markdown",
   "metadata": {},
   "source": [
    "Reject $H_{0}$."
   ]
  },
  {
   "cell_type": "markdown",
   "metadata": {},
   "source": [
    "<h6>Question 3</h6>"
   ]
  },
  {
   "cell_type": "markdown",
   "metadata": {},
   "source": [
    "The U.S. National Center for Health Statistics annually\n",
    "conducts the National Health Interview Survey (NHIS). The following\n",
    "data are based on results obtained in the NHIS. Independent random\n",
    "samples of 2235 U.S. women and 2065 U.S. men were obtained in order to\n",
    "compare the percentage of women who smoke cigarettes to the percentage\n",
    "of men who smoke cigarettes. Of the women sampled, 503 smoked; of the\n",
    "men sampled, 552 smoked. Do the data provide sufficient evidence to\n",
    "conclude that, in the United States, the percentage of women who smoke\n",
    "cigarettes is different than the percentage of men who smoke cigarettes? Use $\\alpha=0.05$. Use the $p$-value approach."
   ]
  },
  {
   "cell_type": "code",
   "execution_count": 28,
   "metadata": {},
   "outputs": [],
   "source": [
    "x1<-503;x2<-552;n1<-2235;n2<-2065"
   ]
  },
  {
   "cell_type": "code",
   "execution_count": 29,
   "metadata": {},
   "outputs": [
    {
     "name": "stdout",
     "output_type": "stream",
     "text": [
      "[1] 0.2453488\n"
     ]
    }
   ],
   "source": [
    "pb<-(x1+x2)/(n1+n2);qb<-1-pb;print(pb)"
   ]
  },
  {
   "cell_type": "markdown",
   "metadata": {},
   "source": [
    "$$H_{0}:p_{1}=p_{2},H_{a}:p_{1}<p_{2},\\alpha=0.05$$"
   ]
  },
  {
   "cell_type": "code",
   "execution_count": 30,
   "metadata": {},
   "outputs": [
    {
     "name": "stdout",
     "output_type": "stream",
     "text": [
      "[1] -3.217304\n"
     ]
    }
   ],
   "source": [
    "zs=((x1/n1)-(x2/n2))/sqrt((pb*qb/n1)+(pb*qb/n2));print(zs)"
   ]
  },
  {
   "cell_type": "code",
   "execution_count": 31,
   "metadata": {},
   "outputs": [
    {
     "name": "stdout",
     "output_type": "stream",
     "text": [
      "[1] 0.001294013\n"
     ]
    }
   ],
   "source": [
    "pvalue=2*pnorm(zs);print(pvalue)"
   ]
  },
  {
   "cell_type": "markdown",
   "metadata": {},
   "source": [
    "The value in the Triola table is $0.0006$ (times two). "
   ]
  },
  {
   "cell_type": "markdown",
   "metadata": {},
   "source": [
    "Reject $H_{0}$."
   ]
  },
  {
   "cell_type": "markdown",
   "metadata": {},
   "source": [
    "<h6>Question 4</h6>"
   ]
  },
  {
   "cell_type": "markdown",
   "metadata": {},
   "source": [
    "Using birth weight data shown below are birth weights (in kilograms)\n",
    "of male babies born to mothers taking a special vitamin supplement\n",
    "(based on data from the New York State Department of Health). Test the\n",
    "claim that this sample comes from a population with a standard\n",
    "deviation equal to $0.470$kg, which is the standard deviation for\n",
    "male birth weights in general. Does the vitamin supplement appear to\n",
    "affect the variation among birth weights? Assume that the data is normally distributed. Use $\\alpha=0.1$."
   ]
  },
  {
   "cell_type": "markdown",
   "metadata": {},
   "source": [
    "<table>\n",
    "    <tr>\n",
    "        <td>4.33</td>\n",
    "        <td>3.73</td>\n",
    "        <td>4.37</td>\n",
    "        <td>3.73</td>\n",
    "    </tr>\n",
    "    <tr>\n",
    "        <td>4.13</td>\n",
    "        <td>2.47</td>\n",
    "        <td>4.09</td>\n",
    "        <td>3.02</td>\n",
    "    </tr>\n",
    "    <tr>\n",
    "        <td>3.39</td>\n",
    "        <td>4.47</td>\n",
    "        <td>3.68</td>\n",
    "        <td>3.22</td>\n",
    "    </tr>\n",
    "    <tr>\n",
    "        <td>4.68</td>\n",
    "        <td>3.43</td>\n",
    "        <td>3.52</td>\n",
    "        <td>2.54</td>\n",
    "    </tr>\n",
    "</table>"
   ]
  },
  {
   "cell_type": "markdown",
   "metadata": {},
   "source": [
    "The sample mean is $3.675$, the sample standard deviation is $0.6573178$."
   ]
  },
  {
   "cell_type": "code",
   "execution_count": 33,
   "metadata": {},
   "outputs": [
    {
     "name": "stdout",
     "output_type": "stream",
     "text": [
      "     kg\n",
      "1  4.33\n",
      "2  3.73\n",
      "3  4.37\n",
      "4  3.73\n",
      "5  4.13\n",
      "6  2.47\n",
      "7  4.09\n",
      "8  3.02\n",
      "9  3.39\n",
      "10 4.47\n",
      "11 3.68\n",
      "12 3.22\n",
      "13 4.68\n",
      "14 3.43\n",
      "15 3.52\n",
      "16 2.54\n"
     ]
    }
   ],
   "source": [
    "bw<-read.table(\"./csv/bw.csv\",sep=\",\",header=TRUE);print(bw)"
   ]
  },
  {
   "cell_type": "markdown",
   "metadata": {},
   "source": [
    "$$H_{0}:\\sigma=0.470,H_{a}:\\sigma\\neq{}0.470,\\alpha=0.1$$"
   ]
  },
  {
   "cell_type": "code",
   "execution_count": 35,
   "metadata": {},
   "outputs": [
    {
     "name": "stdout",
     "output_type": "stream",
     "text": [
      "[1] 0.6573178\n"
     ]
    }
   ],
   "source": [
    "s<-sd(bw$kg);print(s)"
   ]
  },
  {
   "cell_type": "code",
   "execution_count": 36,
   "metadata": {},
   "outputs": [
    {
     "name": "stdout",
     "output_type": "stream",
     "text": [
      "[1] 29.33907\n"
     ]
    }
   ],
   "source": [
    "cs<-((length(bw$kg)-1)*s^2)/0.470^2;print(cs)"
   ]
  },
  {
   "cell_type": "code",
   "execution_count": 38,
   "metadata": {},
   "outputs": [
    {
     "name": "stdout",
     "output_type": "stream",
     "text": [
      "[1] 7.260944\n"
     ]
    }
   ],
   "source": [
    "cL<-qchisq(0.05,(length(bw$kg)-1));print(cL)"
   ]
  },
  {
   "cell_type": "code",
   "execution_count": 39,
   "metadata": {},
   "outputs": [
    {
     "name": "stdout",
     "output_type": "stream",
     "text": [
      "[1] 24.99579\n"
     ]
    }
   ],
   "source": [
    "cR<-qchisq(0.95,(length(bw$kg)-1));print(cR)"
   ]
  },
  {
   "cell_type": "markdown",
   "metadata": {},
   "source": [
    "Triola table values are $7.261$ and $24.996$."
   ]
  },
  {
   "cell_type": "markdown",
   "metadata": {},
   "source": [
    "Reject $H_{0}$."
   ]
  },
  {
   "cell_type": "markdown",
   "metadata": {},
   "source": [
    "<h6>Question 5</h6>"
   ]
  },
  {
   "cell_type": "markdown",
   "metadata": {},
   "source": [
    "To determine whether car ownership affects a student's\n",
    "academic achievement, two random samples of 100 male students were\n",
    "each drawn from the student body. The grade point average for the $n_{1}=100$\n",
    "non-owners of cars had an average and variance equal to $\\bar{x}_{1}=2.70$ and $s_{1}^{2}=0.36$, while\n",
    "$\\bar{x}_{2}=2.54$ and $s_{2}^{2}=0.40$ for the $n_{2}=100$ car owners. Do the data present\n",
    "sufficient evidence to indicate a difference in the mean achievements\n",
    "between car owners and non-owners of cars? Test using $\\alpha=0.05$."
   ]
  },
  {
   "cell_type": "markdown",
   "metadata": {},
   "source": [
    "$$H_{0}:\\mu_{1}=\\mu_{2},H_{a}:\\mu_{1}\\neq\\mu_{2},\\alpha=0.05$$"
   ]
  },
  {
   "cell_type": "code",
   "execution_count": 44,
   "metadata": {},
   "outputs": [],
   "source": [
    "n1<-100;x1b<-2.70;s1s<-0.36"
   ]
  },
  {
   "cell_type": "code",
   "execution_count": 43,
   "metadata": {},
   "outputs": [],
   "source": [
    "n2<-100;x2b<-2.54;s2s<-0.40"
   ]
  },
  {
   "cell_type": "code",
   "execution_count": 45,
   "metadata": {},
   "outputs": [
    {
     "name": "stdout",
     "output_type": "stream",
     "text": [
      "[1] 1.835326\n"
     ]
    }
   ],
   "source": [
    "ts<-(x1b-x2b)/sqrt((s1s/n1)+(s2s/n2));print(ts)"
   ]
  },
  {
   "cell_type": "code",
   "execution_count": 47,
   "metadata": {},
   "outputs": [
    {
     "name": "stdout",
     "output_type": "stream",
     "text": [
      "[1] 1.984217\n"
     ]
    }
   ],
   "source": [
    "tcrit<-qt(0.975,99);print(tcrit)"
   ]
  },
  {
   "cell_type": "markdown",
   "metadata": {},
   "source": [
    "Fail to reject $H_{0}$."
   ]
  },
  {
   "cell_type": "markdown",
   "metadata": {},
   "source": [
    "<h4>Version 2\n",
    "</h4>"
   ]
  },
  {
   "cell_type": "markdown",
   "metadata": {},
   "source": [
    "<h6>Question 1</h6>"
   ]
  },
  {
   "cell_type": "markdown",
   "metadata": {},
   "source": [
    "The A. C Nielsen Company collects data on the TV viewing habits of\n",
    "Americans and publishes the information in Nielsen Report on\n",
    "Television. Twenty married couples are randomly selected. Their weekly\n",
    "viewing times, in hours, are as follows. Assume that conditions for\n",
    "using the formula are fulfilled."
   ]
  },
  {
   "cell_type": "markdown",
   "metadata": {},
   "source": [
    "<table>\n",
    "    <tr>\n",
    "        <td>Husband</td>\n",
    "        <td>Wife</td>\n",
    "        <td>Husband</td>\n",
    "        <td>Wife</td>\n",
    "        <td>Husband</td>\n",
    "        <td>Wife</td>\n",
    "    </tr>\n",
    "    <tr>\n",
    "        <td>21</td>\n",
    "        <td>24</td>\n",
    "        <td>38</td>\n",
    "        <td>45</td>\n",
    "        <td>36</td>\n",
    "        <td>35</td>\n",
    "    </tr>\n",
    "    <tr>\n",
    "        <td>56</td>\n",
    "        <td>55</td>\n",
    "        <td>27</td>\n",
    "        <td>29</td>\n",
    "        <td>20</td>\n",
    "        <td>34</td>\n",
    "    </tr>\n",
    "    <tr>\n",
    "        <td>34</td>\n",
    "        <td>55</td>\n",
    "        <td>30</td>\n",
    "        <td>41</td>\n",
    "        <td>43</td>\n",
    "        <td>32</td>\n",
    "    </tr>\n",
    "    <tr>\n",
    "        <td>30</td>\n",
    "        <td>34</td>\n",
    "        <td>31</td>\n",
    "        <td>37</td>\n",
    "        <td>4</td>\n",
    "        <td>13</td>\n",
    "    </tr>\n",
    "    <tr>\n",
    "        <td>41</td>\n",
    "        <td>32</td>\n",
    "        <td>30</td>\n",
    "        <td>35</td>\n",
    "        <td>16</td>\n",
    "        <td>9</td>\n",
    "    </tr>\n",
    "    <tr>\n",
    "        <td>35</td>\n",
    "        <td>38</td>\n",
    "        <td>32</td>\n",
    "        <td>48</td>\n",
    "        <td>21</td>\n",
    "        <td>23</td>\n",
    "    </tr>\n",
    "    <tr>\n",
    "        <td>26</td>\n",
    "        <td>38</td>\n",
    "        <td>15</td>\n",
    "        <td>17</td>\n",
    "        <td></td>\n",
    "        <td></td>\n",
    "    </tr>\n",
    "</table>"
   ]
  },
  {
   "cell_type": "markdown",
   "metadata": {},
   "source": [
    "At the 5% level of significance, does it appear that married men\n",
    "watch less TV, on the average, than married women? Hint: as you do not\n",
    "have software, the relevant standard deviation you need to use in your\n",
    "calculation is $8.146036$. It is up to you to determine to which data\n",
    "set this standard deviation applies, given the context."
   ]
  },
  {
   "cell_type": "code",
   "execution_count": 34,
   "metadata": {},
   "outputs": [
    {
     "name": "stdout",
     "output_type": "stream",
     "text": [
      "    m  f\n",
      "1  21 24\n",
      "2  56 55\n",
      "3  34 55\n",
      "4  30 34\n",
      "5  41 32\n",
      "6  35 38\n",
      "7  26 38\n",
      "8  38 45\n",
      "9  27 29\n",
      "10 30 41\n",
      "11 31 37\n",
      "12 30 35\n",
      "13 32 48\n",
      "14 15 17\n",
      "15 36 35\n",
      "16 20 34\n",
      "17 43 32\n",
      "18  4 13\n",
      "19 16  9\n",
      "20 21 23\n"
     ]
    }
   ],
   "source": [
    "tv<-read.table(\"./csv/tv.csv\",sep=\",\",header=TRUE);print(tv)"
   ]
  },
  {
   "cell_type": "code",
   "execution_count": 15,
   "metadata": {},
   "outputs": [],
   "source": [
    "d<-tv[[1]]-tv[[2]]"
   ]
  },
  {
   "cell_type": "code",
   "execution_count": 18,
   "metadata": {},
   "outputs": [
    {
     "name": "stdout",
     "output_type": "stream",
     "text": [
      "[1] -4.4\n"
     ]
    }
   ],
   "source": [
    "db<-mean(d);print(db)"
   ]
  },
  {
   "cell_type": "code",
   "execution_count": 19,
   "metadata": {},
   "outputs": [
    {
     "name": "stdout",
     "output_type": "stream",
     "text": [
      "[1] 8.146036\n"
     ]
    }
   ],
   "source": [
    "sd<-sd(d);print(sd)"
   ]
  },
  {
   "cell_type": "markdown",
   "metadata": {},
   "source": [
    "$$H_{0}:\\mu_{d}=0,H_{a}:\\mu_{d}<0,\\alpha=0.05$$"
   ]
  },
  {
   "cell_type": "code",
   "execution_count": 20,
   "metadata": {},
   "outputs": [
    {
     "name": "stdout",
     "output_type": "stream",
     "text": [
      "[1] -2.41558\n"
     ]
    }
   ],
   "source": [
    "ts<-db/(sd/sqrt(length(tv[[1]])));print(ts)"
   ]
  },
  {
   "cell_type": "code",
   "execution_count": 23,
   "metadata": {},
   "outputs": [
    {
     "name": "stdout",
     "output_type": "stream",
     "text": [
      "[1] -1.724718\n"
     ]
    }
   ],
   "source": [
    "ta<-qt(0.05,length(tv[[1]]-1));print(ta)"
   ]
  },
  {
   "cell_type": "markdown",
   "metadata": {},
   "source": [
    "Reject $H_{0}$."
   ]
  },
  {
   "cell_type": "markdown",
   "metadata": {},
   "source": [
    "<h6>Question 2</h6>"
   ]
  },
  {
   "cell_type": "markdown",
   "metadata": {},
   "source": [
    "The U.S. National Center for Health Statistics annually\n",
    "conducts the National Health Interview Survey (NHIS). The following\n",
    "data are based on results obtained in the NHIS. Independent random\n",
    "samples of 2235 U.S. women and 2065 U.S. men were obtained in order to\n",
    "compare the percentage of women who smoke cigarettes to the percentage\n",
    "of men who smoke cigarettes. Of the women sampled, 503 smoked; of the\n",
    "men sampled, 552 smoked. Do the data provide sufficient evidence to\n",
    "conclude that, in the United States, the percentage of women who smoke\n",
    "cigarettes is different than the percentage of men who smoke cigarettes? Use $\\alpha=0.05$. Use the $p$-value approach."
   ]
  },
  {
   "cell_type": "code",
   "execution_count": 28,
   "metadata": {},
   "outputs": [],
   "source": [
    "x1<-503;x2<-552;n1<-2235;n2<-2065"
   ]
  },
  {
   "cell_type": "code",
   "execution_count": 29,
   "metadata": {},
   "outputs": [
    {
     "name": "stdout",
     "output_type": "stream",
     "text": [
      "[1] 0.2453488\n"
     ]
    }
   ],
   "source": [
    "pb<-(x1+x2)/(n1+n2);qb<-1-pb;print(pb)"
   ]
  },
  {
   "cell_type": "markdown",
   "metadata": {},
   "source": [
    "$$H_{0}:p_{1}=p_{2},H_{a}:p_{1}<p_{2},\\alpha=0.05$$"
   ]
  },
  {
   "cell_type": "code",
   "execution_count": 30,
   "metadata": {},
   "outputs": [
    {
     "name": "stdout",
     "output_type": "stream",
     "text": [
      "[1] -3.217304\n"
     ]
    }
   ],
   "source": [
    "zs=((x1/n1)-(x2/n2))/sqrt((pb*qb/n1)+(pb*qb/n2));print(zs)"
   ]
  },
  {
   "cell_type": "code",
   "execution_count": 31,
   "metadata": {},
   "outputs": [
    {
     "name": "stdout",
     "output_type": "stream",
     "text": [
      "[1] 0.001294013\n"
     ]
    }
   ],
   "source": [
    "pvalue=2*pnorm(zs);print(pvalue)"
   ]
  },
  {
   "cell_type": "markdown",
   "metadata": {},
   "source": [
    "The value in the Triola table is $0.0006$ (times two). "
   ]
  },
  {
   "cell_type": "markdown",
   "metadata": {},
   "source": [
    "Reject $H_{0}$."
   ]
  },
  {
   "cell_type": "markdown",
   "metadata": {},
   "source": [
    "<h6>Question 3</h6>"
   ]
  },
  {
   "cell_type": "markdown",
   "metadata": {},
   "source": [
    "Assume that we want to estimate the mean IQ score for the\n",
    "population of statistics professors. How many statistics professors\n",
    "must be randomly selected for IQ tests if we want 95% confidence that\n",
    "the sample mean is within 2 IQ points of the population mean? You can\n",
    "assume $\\sigma=15$."
   ]
  },
  {
   "cell_type": "code",
   "execution_count": 5,
   "metadata": {},
   "outputs": [
    {
     "name": "stdout",
     "output_type": "stream",
     "text": [
      "[1] 1.959964\n"
     ]
    }
   ],
   "source": [
    "zat<-qnorm(0.975);print(zat)"
   ]
  },
  {
   "cell_type": "code",
   "execution_count": 4,
   "metadata": {},
   "outputs": [],
   "source": [
    "ss=15;E=2"
   ]
  },
  {
   "cell_type": "code",
   "execution_count": 8,
   "metadata": {},
   "outputs": [
    {
     "name": "stdout",
     "output_type": "stream",
     "text": [
      "[1] 216.0821\n"
     ]
    }
   ],
   "source": [
    "n=((zat*ss)/E)^2;print(n)"
   ]
  },
  {
   "cell_type": "markdown",
   "metadata": {},
   "source": [
    "You should select $217$ statistics professors."
   ]
  },
  {
   "cell_type": "markdown",
   "metadata": {},
   "source": [
    "<h6>Question 4</h6>"
   ]
  },
  {
   "cell_type": "markdown",
   "metadata": {},
   "source": [
    "To determine whether car ownership affects a student's\n",
    "academic achievement, two random samples of 100 male students were\n",
    "each drawn from the student body. The grade point average for the $n_{1}=100$\n",
    "non-owners of cars had an average and variance equal to $\\bar{x}_{1}=2.70$ and $s_{1}^{2}=0.36$, while\n",
    "$\\bar{x}_{2}=2.54$ and $s_{2}^{2}=0.40$ for the $n_{2}=100$ car owners. Do the data present\n",
    "sufficient evidence to indicate a difference in the mean achievements\n",
    "between car owners and non-owners of cars? Test using $\\alpha=0.05$."
   ]
  },
  {
   "cell_type": "markdown",
   "metadata": {},
   "source": [
    "$$H_{0}:\\mu_{1}=\\mu_{2},H_{a}:\\mu_{1}\\neq\\mu_{2},\\alpha=0.05$$"
   ]
  },
  {
   "cell_type": "code",
   "execution_count": 44,
   "metadata": {},
   "outputs": [],
   "source": [
    "n1<-100;x1b<-2.70;s1s<-0.36"
   ]
  },
  {
   "cell_type": "code",
   "execution_count": 43,
   "metadata": {},
   "outputs": [],
   "source": [
    "n2<-100;x2b<-2.54;s2s<-0.40"
   ]
  },
  {
   "cell_type": "code",
   "execution_count": 45,
   "metadata": {},
   "outputs": [
    {
     "name": "stdout",
     "output_type": "stream",
     "text": [
      "[1] 1.835326\n"
     ]
    }
   ],
   "source": [
    "ts<-(x1b-x2b)/sqrt((s1s/n1)+(s2s/n2));print(ts)"
   ]
  },
  {
   "cell_type": "code",
   "execution_count": 47,
   "metadata": {},
   "outputs": [
    {
     "name": "stdout",
     "output_type": "stream",
     "text": [
      "[1] 1.984217\n"
     ]
    }
   ],
   "source": [
    "tcrit<-qt(0.975,99);print(tcrit)"
   ]
  },
  {
   "cell_type": "markdown",
   "metadata": {},
   "source": [
    "Fail to reject $H_{0}$."
   ]
  },
  {
   "cell_type": "markdown",
   "metadata": {},
   "source": [
    "<h6>Question 5</h6>"
   ]
  },
  {
   "cell_type": "markdown",
   "metadata": {},
   "source": [
    "Using birth weight data shown below are birth weights (in kilograms)\n",
    "of male babies born to mothers taking a special vitamin supplement\n",
    "(based on data from the New York State Department of Health). Test the\n",
    "claim that this sample comes from a population with a standard\n",
    "deviation equal to $0.470$kg, which is the standard deviation for\n",
    "male birth weights in general. Does the vitamin supplement appear to\n",
    "affect the variation among birth weights? Assume that the data is normally distributed. Use $\\alpha=0.1$."
   ]
  },
  {
   "cell_type": "markdown",
   "metadata": {},
   "source": [
    "<table>\n",
    "    <tr>\n",
    "        <td>4.33</td>\n",
    "        <td>3.73</td>\n",
    "        <td>4.37</td>\n",
    "        <td>3.73</td>\n",
    "    </tr>\n",
    "    <tr>\n",
    "        <td>4.13</td>\n",
    "        <td>2.47</td>\n",
    "        <td>4.09</td>\n",
    "        <td>3.02</td>\n",
    "    </tr>\n",
    "    <tr>\n",
    "        <td>3.39</td>\n",
    "        <td>4.47</td>\n",
    "        <td>3.68</td>\n",
    "        <td>3.22</td>\n",
    "    </tr>\n",
    "    <tr>\n",
    "        <td>4.68</td>\n",
    "        <td>3.43</td>\n",
    "        <td>3.52</td>\n",
    "        <td>2.54</td>\n",
    "    </tr>\n",
    "</table>"
   ]
  },
  {
   "cell_type": "markdown",
   "metadata": {},
   "source": [
    "The sample mean is $3.675$, the sample standard deviation is $0.6573178$."
   ]
  },
  {
   "cell_type": "code",
   "execution_count": 33,
   "metadata": {},
   "outputs": [
    {
     "name": "stdout",
     "output_type": "stream",
     "text": [
      "     kg\n",
      "1  4.33\n",
      "2  3.73\n",
      "3  4.37\n",
      "4  3.73\n",
      "5  4.13\n",
      "6  2.47\n",
      "7  4.09\n",
      "8  3.02\n",
      "9  3.39\n",
      "10 4.47\n",
      "11 3.68\n",
      "12 3.22\n",
      "13 4.68\n",
      "14 3.43\n",
      "15 3.52\n",
      "16 2.54\n"
     ]
    }
   ],
   "source": [
    "bw<-read.table(\"./csv/bw.csv\",sep=\",\",header=TRUE);print(bw)"
   ]
  },
  {
   "cell_type": "markdown",
   "metadata": {},
   "source": [
    "$$H_{0}:\\sigma=0.470,H_{a}:\\sigma\\neq{}0.470,\\alpha=0.1$$"
   ]
  },
  {
   "cell_type": "code",
   "execution_count": 35,
   "metadata": {},
   "outputs": [
    {
     "name": "stdout",
     "output_type": "stream",
     "text": [
      "[1] 0.6573178\n"
     ]
    }
   ],
   "source": [
    "s<-sd(bw$kg);print(s)"
   ]
  },
  {
   "cell_type": "code",
   "execution_count": 36,
   "metadata": {},
   "outputs": [
    {
     "name": "stdout",
     "output_type": "stream",
     "text": [
      "[1] 29.33907\n"
     ]
    }
   ],
   "source": [
    "cs<-((length(bw$kg)-1)*s^2)/0.470^2;print(cs)"
   ]
  },
  {
   "cell_type": "code",
   "execution_count": 38,
   "metadata": {},
   "outputs": [
    {
     "name": "stdout",
     "output_type": "stream",
     "text": [
      "[1] 7.260944\n"
     ]
    }
   ],
   "source": [
    "cL<-qchisq(0.05,(length(bw$kg)-1));print(cL)"
   ]
  },
  {
   "cell_type": "code",
   "execution_count": 39,
   "metadata": {},
   "outputs": [
    {
     "name": "stdout",
     "output_type": "stream",
     "text": [
      "[1] 24.99579\n"
     ]
    }
   ],
   "source": [
    "cR<-qchisq(0.95,(length(bw$kg)-1));print(cR)"
   ]
  },
  {
   "cell_type": "markdown",
   "metadata": {},
   "source": [
    "Triola table values are $7.261$ and $24.996$."
   ]
  },
  {
   "cell_type": "markdown",
   "metadata": {},
   "source": [
    "Reject $H_{0}$."
   ]
  }
 ],
 "metadata": {
  "kernelspec": {
   "display_name": "R",
   "language": "R",
   "name": "ir"
  },
  "language_info": {
   "codemirror_mode": "r",
   "file_extension": ".r",
   "mimetype": "text/x-r-source",
   "name": "R",
   "pygments_lexer": "r",
   "version": "3.6.2"
  }
 },
 "nbformat": 4,
 "nbformat_minor": 2
}
