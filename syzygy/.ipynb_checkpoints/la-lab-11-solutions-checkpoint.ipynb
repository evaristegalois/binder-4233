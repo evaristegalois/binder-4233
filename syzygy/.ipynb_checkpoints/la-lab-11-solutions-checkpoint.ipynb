{
 "cells": [
  {
   "cell_type": "markdown",
   "id": "d5cfd9ec",
   "metadata": {},
   "source": [
    "<h3>Lab Report 11</h3>"
   ]
  },
  {
   "cell_type": "markdown",
   "id": "941f2913",
   "metadata": {},
   "source": [
    "<h5>Lab Report 11 Question 1</h5>"
   ]
  },
  {
   "cell_type": "markdown",
   "id": "631ac309",
   "metadata": {},
   "source": [
    "![](./diagrams/MATH_3512_Lecture_and_Lab_Graffiti_20191204-0002.png)"
   ]
  },
  {
   "cell_type": "markdown",
   "id": "846603b7",
   "metadata": {},
   "source": [
    "<h5>Lab Report 11 Question 2</h5>"
   ]
  },
  {
   "cell_type": "markdown",
   "id": "ad79fce6",
   "metadata": {},
   "source": [
    "A survey of 380 smartphone users showed that 152 of them\n",
    "said that their smartphone is the only thing they could not live\n",
    "without. Use a 0.01 significance level to test the claim that fewer\n",
    "than half of smartphone users identify the smartphone as the only\n",
    "thing they could not live without. Do these results apply to the\n",
    "general population?"
   ]
  },
  {
   "cell_type": "markdown",
   "id": "1c5d18d3",
   "metadata": {},
   "source": [
    "$H_{0}: p=0.5; H_{a}: p<0.5$"
   ]
  },
  {
   "cell_type": "code",
   "execution_count": 83,
   "id": "b346ef96",
   "metadata": {},
   "outputs": [
    {
     "name": "stdout",
     "output_type": "stream",
     "text": [
      "[1] -3.898718\n"
     ]
    }
   ],
   "source": [
    "zstar<-((152/380)-0.5)/sqrt((0.5*0.5)/380);print(zstar)"
   ]
  },
  {
   "cell_type": "code",
   "execution_count": 84,
   "id": "6dc1b009",
   "metadata": {},
   "outputs": [
    {
     "name": "stdout",
     "output_type": "stream",
     "text": [
      "[1] -2.326348\n"
     ]
    }
   ],
   "source": [
    "zcrit<-qnorm(0.01);print(zcrit)"
   ]
  },
  {
   "cell_type": "markdown",
   "id": "700cf3fd",
   "metadata": {},
   "source": [
    "Reject $H_{0}$."
   ]
  },
  {
   "cell_type": "markdown",
   "id": "3fcc2f71",
   "metadata": {},
   "source": [
    "<h5>Lab Report 11 Question 3</h5>"
   ]
  },
  {
   "cell_type": "markdown",
   "id": "73efabbb",
   "metadata": {},
   "source": [
    "![](./diagrams/MATH_3512_Lecture_and_Lab_Graffiti_20191204-0004.png)"
   ]
  },
  {
   "cell_type": "markdown",
   "id": "776c1017",
   "metadata": {},
   "source": [
    "<h5>Lab Report 11 Question 4</h5>"
   ]
  },
  {
   "cell_type": "markdown",
   "id": "1eb55a2f",
   "metadata": {},
   "source": [
    "The next slide lists 48 different departure delay times\n",
    "(minutes) for American Airlines flights from New York (JFK) to Los\n",
    "Angeles. Negative departure delay times correspond to flights that\n",
    "departed early. The mean of the 48 times is 10.5 min and the standard\n",
    "deviation is 30.8 min. Use a 0.01 significance level to test the claim\n",
    "that the mean departure delay time for all such flights is less than\n",
    "12.0 min. Is a flight operations manager justified in reporting that\n",
    "the mean departure time is less than 12.0 min?"
   ]
  },
  {
   "cell_type": "markdown",
   "id": "191cedd4",
   "metadata": {},
   "source": [
    "$H_{0}: \\mu=12; H_{a}: \\mu<12$"
   ]
  },
  {
   "cell_type": "code",
   "execution_count": 85,
   "id": "7b5c769d",
   "metadata": {},
   "outputs": [
    {
     "name": "stdout",
     "output_type": "stream",
     "text": [
      "[1] -0.3374125\n"
     ]
    }
   ],
   "source": [
    "tstar<-(10.5-12)/(30.8/sqrt(48));print(tstar)"
   ]
  },
  {
   "cell_type": "code",
   "execution_count": 86,
   "id": "947f5d21",
   "metadata": {},
   "outputs": [
    {
     "name": "stdout",
     "output_type": "stream",
     "text": [
      "[1] -2.408345\n"
     ]
    }
   ],
   "source": [
    "tcrit<-qt(0.01,47);print(tcrit)"
   ]
  },
  {
   "cell_type": "markdown",
   "id": "3f7f7076",
   "metadata": {},
   "source": [
    "Fail to reject $H_{0}$."
   ]
  },
  {
   "cell_type": "markdown",
   "id": "a7443b24",
   "metadata": {},
   "source": [
    "<h5>Lab Report 11 Question 5</h5>"
   ]
  },
  {
   "cell_type": "markdown",
   "id": "3a5ffbc8",
   "metadata": {},
   "source": [
    "Find the area under the curve for the\n",
    "following sets of $x$-values. \n",
    "$$\n",
    "\\{x|x\\leq{}83\\},\\mu=100,\\sigma=15\\notag\n",
    "$$\n",
    "\n",
    "$$\n",
    "\\{x|0.44<x\\},\\mu=0.5,\\sigma=0.2  \\notag\n",
    "$$\n",
    "\n",
    "$$\n",
    "  \\label{eq:aethohph}\n",
    "\\{x|800\\leq{}x\\leq{}1200\\},\\mu=911,\\sigma=121\\notag\n",
    "$$"
   ]
  },
  {
   "cell_type": "code",
   "execution_count": 87,
   "id": "135d11fd",
   "metadata": {},
   "outputs": [
    {
     "data": {
      "text/html": [
       "0.128537149342415"
      ],
      "text/latex": [
       "0.128537149342415"
      ],
      "text/markdown": [
       "0.128537149342415"
      ],
      "text/plain": [
       "[1] 0.1285371"
      ]
     },
     "metadata": {},
     "output_type": "display_data"
    }
   ],
   "source": [
    "pnorm(83,100,15)"
   ]
  },
  {
   "cell_type": "code",
   "execution_count": 88,
   "id": "a9bff159",
   "metadata": {},
   "outputs": [
    {
     "data": {
      "text/html": [
       "0.617911422188953"
      ],
      "text/latex": [
       "0.617911422188953"
      ],
      "text/markdown": [
       "0.617911422188953"
      ],
      "text/plain": [
       "[1] 0.6179114"
      ]
     },
     "metadata": {},
     "output_type": "display_data"
    }
   ],
   "source": [
    "1-pnorm(0.44,0.5,0.2)"
   ]
  },
  {
   "cell_type": "code",
   "execution_count": 89,
   "id": "21541437",
   "metadata": {},
   "outputs": [
    {
     "data": {
      "text/html": [
       "0.8120615034026"
      ],
      "text/latex": [
       "0.8120615034026"
      ],
      "text/markdown": [
       "0.8120615034026"
      ],
      "text/plain": [
       "[1] 0.8120615"
      ]
     },
     "metadata": {},
     "output_type": "display_data"
    }
   ],
   "source": [
    "pnorm(1200,911,121)-pnorm(800,911,121)"
   ]
  },
  {
   "cell_type": "markdown",
   "id": "21a05e53",
   "metadata": {},
   "source": [
    "<h5>Lab Report 11 Question 6</h5>"
   ]
  },
  {
   "cell_type": "markdown",
   "id": "f9f69af2",
   "metadata": {},
   "source": [
    "![](./diagrams/MATH_3512_Lecture_and_Lab_Graffiti_20191204-0006.png)"
   ]
  },
  {
   "cell_type": "markdown",
   "id": "24e15bbe",
   "metadata": {},
   "source": [
    "<h5>Lab Report 11 Question 7</h5>"
   ]
  },
  {
   "cell_type": "markdown",
   "id": "aee6a03a",
   "metadata": {},
   "source": [
    "A poll asks respondents if they felt vulnerable to identity\n",
    "theft. The results are as follows: $n=1002,x=531$, where $x$ is the\n",
    "number of people responding with ``yes.'' Construct the confidence\n",
    "interval, using a 95\\% confidence level. Constructing a confidence\n",
    "interval means:\n",
    "* find the point estimate for the population proportion\n",
    "* identify the value of the margin of error\n",
    "* identify the confidence interval, for example $0.51<p<0.63$\n"
   ]
  },
  {
   "cell_type": "code",
   "execution_count": 90,
   "id": "9125d629",
   "metadata": {},
   "outputs": [
    {
     "name": "stdout",
     "output_type": "stream",
     "text": [
      "[1] 0.03090325\n"
     ]
    }
   ],
   "source": [
    "E<-qnorm(0.975)*sqrt(((531/1002)*(1-(531/1002)))/1002);print(E)"
   ]
  },
  {
   "cell_type": "code",
   "execution_count": 91,
   "id": "7c4b5d9d",
   "metadata": {},
   "outputs": [
    {
     "name": "stdout",
     "output_type": "stream",
     "text": [
      "[1] 0.4990369\n"
     ]
    }
   ],
   "source": [
    "lower<-(531/1002)-E;print(lower)"
   ]
  },
  {
   "cell_type": "code",
   "execution_count": 92,
   "id": "47e5e4cd",
   "metadata": {},
   "outputs": [
    {
     "name": "stdout",
     "output_type": "stream",
     "text": [
      "[1] 0.5608434\n"
     ]
    }
   ],
   "source": [
    "upper<-(531/1002)+E;print(upper)"
   ]
  },
  {
   "cell_type": "markdown",
   "id": "26daf949",
   "metadata": {},
   "source": [
    "<h5>Lab Report 11 Question 8</h5>"
   ]
  },
  {
   "cell_type": "markdown",
   "id": "c885c6c6",
   "metadata": {},
   "source": [
    "![](./diagrams/MATH_3512_Lecture_and_Lab_Graffiti_20191204-0007.png)"
   ]
  },
  {
   "cell_type": "markdown",
   "id": "db20ebd5",
   "metadata": {},
   "source": [
    "<h5>Lab Report 11 Question 9</h5>"
   ]
  },
  {
   "cell_type": "markdown",
   "id": "e24fee7e",
   "metadata": {},
   "source": [
    "Here are the numbers of chocolate chips in a sample of 40\n",
    "  Chips Ahoy regular cookies. The mean is 23.95 chocolate chips and\n",
    "  the standard deviation is 2.55 chocolate chips. Construct a 99%\n",
    "  confidence interval estimate of the mean number of chocolate chips\n",
    "  in all such cookies. How does the confidence interval not\n",
    "  contradict the fact that most of the original values do not fall\n",
    "  between the confidence interval limits?"
   ]
  },
  {
   "cell_type": "code",
   "execution_count": 93,
   "id": "3417608d",
   "metadata": {},
   "outputs": [],
   "source": [
    "xbar=23.95"
   ]
  },
  {
   "cell_type": "code",
   "execution_count": 94,
   "id": "d69968a5",
   "metadata": {},
   "outputs": [],
   "source": [
    "s=2.55"
   ]
  },
  {
   "cell_type": "code",
   "execution_count": 95,
   "id": "b08857e0",
   "metadata": {},
   "outputs": [],
   "source": [
    "n=40.0"
   ]
  },
  {
   "cell_type": "code",
   "execution_count": 96,
   "id": "ff202e87",
   "metadata": {},
   "outputs": [
    {
     "name": "stdout",
     "output_type": "stream",
     "text": [
      "[1] 1.091805\n"
     ]
    }
   ],
   "source": [
    "E=qt(0.995,n-1)*s/sqrt(n);print(E)"
   ]
  },
  {
   "cell_type": "code",
   "execution_count": 97,
   "id": "9321cc41",
   "metadata": {},
   "outputs": [
    {
     "data": {
      "text/html": [
       "22.858195395846"
      ],
      "text/latex": [
       "22.858195395846"
      ],
      "text/markdown": [
       "22.858195395846"
      ],
      "text/plain": [
       "[1] 22.8582"
      ]
     },
     "metadata": {},
     "output_type": "display_data"
    }
   ],
   "source": [
    "xbar-E"
   ]
  },
  {
   "cell_type": "code",
   "execution_count": 98,
   "id": "f19853bc",
   "metadata": {},
   "outputs": [
    {
     "data": {
      "text/html": [
       "25.0418046041539"
      ],
      "text/latex": [
       "25.0418046041539"
      ],
      "text/markdown": [
       "25.0418046041539"
      ],
      "text/plain": [
       "[1] 25.0418"
      ]
     },
     "metadata": {},
     "output_type": "display_data"
    }
   ],
   "source": [
    "xbar+E"
   ]
  },
  {
   "cell_type": "markdown",
   "id": "08839463",
   "metadata": {},
   "source": [
    "<h5>Lab Report 11 Question 10</h5>"
   ]
  },
  {
   "cell_type": "markdown",
   "id": "6d354f6c",
   "metadata": {},
   "source": [
    "M&M plain candies have a mean weight of 0.8565g and a standard deviation of 0.0518g. The M&M candies used in a data set came from a package containing 465 candies, and the package label stated that the net weight is 396.9g. (If every package has 465 candies, the mean weight of the candies must exceed $396.9/465=0.8535g$ for the net contents to weigh at least 396.9g.)\n",
    "\n",
    "- If 1 M&M plain candy is randomly selected, find the probability that it weighs more than 0.8535g.\n",
    "\n",
    "- If 465 M&M plain candies are randomly selected, find the probability that their mean weight is at least 0.8535g.\n",
    "\n",
    "- Given these results, does it seem that the Mars Company is providing M&M consumers with the amount claimed on the label?\n"
   ]
  },
  {
   "cell_type": "code",
   "execution_count": 99,
   "id": "fe0448ce",
   "metadata": {},
   "outputs": [
    {
     "data": {
      "text/html": [
       "0.523091855613483"
      ],
      "text/latex": [
       "0.523091855613483"
      ],
      "text/markdown": [
       "0.523091855613483"
      ],
      "text/plain": [
       "[1] 0.5230919"
      ]
     },
     "metadata": {},
     "output_type": "display_data"
    }
   ],
   "source": [
    "1-pnorm(0.8535,0.8565,0.0518)"
   ]
  },
  {
   "cell_type": "code",
   "execution_count": 100,
   "id": "d4052a82",
   "metadata": {},
   "outputs": [
    {
     "data": {
      "text/html": [
       "0.894144075342537"
      ],
      "text/latex": [
       "0.894144075342537"
      ],
      "text/markdown": [
       "0.894144075342537"
      ],
      "text/plain": [
       "[1] 0.8941441"
      ]
     },
     "metadata": {},
     "output_type": "display_data"
    }
   ],
   "source": [
    "1-pnorm(0.8535,0.8565,0.0518/21.56385865284782)"
   ]
  },
  {
   "cell_type": "markdown",
   "id": "294e3ac7",
   "metadata": {},
   "source": [
    "- If 1 M&M plain candy is randomly selected, find the probability that it weighs more than 0.8535g. 52.31%\n",
    "\n",
    "- If 465 M&M plain candies are randomly selected, find the probability that their mean weight is at least 0.8535g. 89.41%\n",
    "\n",
    "- Given these results, does it seem that the Mars Company is providing M&M consumers with the amount claimed on the label? 89% of the time, yes."
   ]
  },
  {
   "cell_type": "markdown",
   "id": "e2ffece9",
   "metadata": {},
   "source": [
    "<h5>Lab Report 11 Question 11</h5>"
   ]
  },
  {
   "cell_type": "markdown",
   "id": "017cf194",
   "metadata": {},
   "source": [
    "Find the area under the curve for the following sets of\n",
    "$z$-scores. \n",
    "$$\\{z|z\\leq{}-1.72\\}  \\notag\n",
    "$$\n",
    "\n",
    "$$\\{z|1.96<{}z\\}  \\notag\n",
    "$$\n",
    "\n",
    "$$\\{z|-1.55\\leq{}z\\leq{}-0.81\\}\\notag\n",
    "$$"
   ]
  },
  {
   "cell_type": "code",
   "execution_count": 101,
   "id": "02641311",
   "metadata": {},
   "outputs": [
    {
     "data": {
      "text/html": [
       "0.0427162207913289"
      ],
      "text/latex": [
       "0.0427162207913289"
      ],
      "text/markdown": [
       "0.0427162207913289"
      ],
      "text/plain": [
       "[1] 0.04271622"
      ]
     },
     "metadata": {},
     "output_type": "display_data"
    }
   ],
   "source": [
    "pnorm(-1.72)"
   ]
  },
  {
   "cell_type": "code",
   "execution_count": 102,
   "id": "fff463d8",
   "metadata": {},
   "outputs": [
    {
     "data": {
      "text/html": [
       "0.0249978951482204"
      ],
      "text/latex": [
       "0.0249978951482204"
      ],
      "text/markdown": [
       "0.0249978951482204"
      ],
      "text/plain": [
       "[1] 0.0249979"
      ]
     },
     "metadata": {},
     "output_type": "display_data"
    }
   ],
   "source": [
    "1-pnorm(1.96)"
   ]
  },
  {
   "cell_type": "code",
   "execution_count": 103,
   "id": "502b0e64",
   "metadata": {},
   "outputs": [
    {
     "data": {
      "text/html": [
       "0.148399329869543"
      ],
      "text/latex": [
       "0.148399329869543"
      ],
      "text/markdown": [
       "0.148399329869543"
      ],
      "text/plain": [
       "[1] 0.1483993"
      ]
     },
     "metadata": {},
     "output_type": "display_data"
    }
   ],
   "source": [
    "pnorm(-0.81)-pnorm(-1.55)"
   ]
  },
  {
   "cell_type": "markdown",
   "id": "c7f071d4",
   "metadata": {},
   "source": [
    "<h5>Lab Report 11 Question 12</h5>"
   ]
  },
  {
   "cell_type": "markdown",
   "id": "8b9dd923",
   "metadata": {},
   "source": [
    "A Consumer Reports Research Center survey of 427 women\n",
    "showed that 29.0% of them purchase books online. Test the claim that\n",
    "more than 25% of women purchase books online."
   ]
  },
  {
   "cell_type": "markdown",
   "id": "b95a8e0e",
   "metadata": {},
   "source": [
    "$H_{0}: p=0.25; H_{a}: p>0.25$"
   ]
  },
  {
   "cell_type": "code",
   "execution_count": 104,
   "id": "0e50b1d5",
   "metadata": {},
   "outputs": [
    {
     "data": {
      "text/html": [
       "123.83"
      ],
      "text/latex": [
       "123.83"
      ],
      "text/markdown": [
       "123.83"
      ],
      "text/plain": [
       "[1] 123.83"
      ]
     },
     "metadata": {},
     "output_type": "display_data"
    }
   ],
   "source": [
    "427*0.29"
   ]
  },
  {
   "cell_type": "code",
   "execution_count": 105,
   "id": "1d7bab09",
   "metadata": {},
   "outputs": [
    {
     "name": "stdout",
     "output_type": "stream",
     "text": [
      "[1] 1.927856\n"
     ]
    }
   ],
   "source": [
    "zstar<-((124/427)-0.25)/sqrt((0.25*0.75)/427);print(zstar)"
   ]
  },
  {
   "cell_type": "code",
   "execution_count": 106,
   "id": "340ae498",
   "metadata": {},
   "outputs": [
    {
     "name": "stdout",
     "output_type": "stream",
     "text": [
      "[1] 1.644854\n"
     ]
    }
   ],
   "source": [
    "zcrit<-qnorm(0.95);print(zcrit)"
   ]
  },
  {
   "cell_type": "markdown",
   "id": "144e8ebd",
   "metadata": {},
   "source": [
    "Reject $H_{0}$."
   ]
  },
  {
   "cell_type": "markdown",
   "id": "d4ec311b",
   "metadata": {},
   "source": [
    "<h5>Lab Report 11 Question 13</h5>"
   ]
  },
  {
   "cell_type": "markdown",
   "id": "0b0f608f",
   "metadata": {},
   "source": [
    "A container of car antifreeze is supposed to hold 3785 mL\n",
    "of the liquid. Realizing that fluctuations are inevitable, the quality\n",
    "control manager wants to be sure that the standard deviation is less\n",
    "than 30 mL. Otherwise, some containers would overflow while others\n",
    "would not have enough of the coolant. She selects a simple random\n",
    "sample of 24 containers and finds that the mean is 3789 mL and the\n",
    "standard deviation is 42.8 mL. Use these sample results to construct\n",
    "the 99% confidence interval for the true value of $\\sigma$. Does this\n",
    "confidence level suggest that the variation is at an acceptable level?"
   ]
  },
  {
   "cell_type": "code",
   "execution_count": 107,
   "id": "94c260a1",
   "metadata": {},
   "outputs": [
    {
     "name": "stdout",
     "output_type": "stream",
     "text": [
      "[1] 30.8808\n"
     ]
    }
   ],
   "source": [
    "lower<-sqrt(((24-1)*42.8^2)/qchisq(0.995,23));print(lower)"
   ]
  },
  {
   "cell_type": "code",
   "execution_count": 108,
   "id": "f2f9a569",
   "metadata": {},
   "outputs": [
    {
     "name": "stdout",
     "output_type": "stream",
     "text": [
      "[1] 67.4516\n"
     ]
    }
   ],
   "source": [
    "upper<-sqrt(((24-1)*42.8^2)/qchisq(0.005,23));print(upper)"
   ]
  },
  {
   "cell_type": "markdown",
   "id": "6c1c5dae",
   "metadata": {},
   "source": [
    "<h5>Lab Report 11 Question 14</h5>"
   ]
  },
  {
   "cell_type": "markdown",
   "id": "1a580cb7",
   "metadata": {},
   "source": [
    "Cans of regular Coke are labeled to\n",
    "  indicate that they contain 12 oz. The corresponding\n",
    "  sample statistics are $n=36$ and $\\bar{x}=12.19$ oz. Assuming that the\n",
    "  Coke cans are filled so that $\\mu=12$ oz (as labeled) and the\n",
    "  population standard deviation is $\\sigma=0.11$ oz (based on the sample\n",
    "  results), find the probability that a sample of 36 cans will have a\n",
    "  mean of 12.19 oz or greater. Do these results suggest that the Coke\n",
    "  cans are filled with an amount greater than 12.00 oz?"
   ]
  },
  {
   "cell_type": "code",
   "execution_count": 109,
   "id": "06781f63",
   "metadata": {},
   "outputs": [
    {
     "data": {
      "text/html": [
       "0"
      ],
      "text/latex": [
       "0"
      ],
      "text/markdown": [
       "0"
      ],
      "text/plain": [
       "[1] 0"
      ]
     },
     "metadata": {},
     "output_type": "display_data"
    }
   ],
   "source": [
    "1-pnorm(12.19,12,0.11/sqrt(36))"
   ]
  },
  {
   "cell_type": "markdown",
   "id": "f599cc2f",
   "metadata": {},
   "source": [
    "This result suggests that the Coke\n",
    "  cans are filled with an amount greater than 12.00 oz (which makes sense)."
   ]
  },
  {
   "cell_type": "markdown",
   "id": "19bb6d5b",
   "metadata": {},
   "source": [
    "<h5>Lab Report 11 Question 15</h5>"
   ]
  },
  {
   "cell_type": "markdown",
   "id": "c74ea27d",
   "metadata": {},
   "source": [
    "In a poll, 806 adults were asked to identify their\n",
    "favourite seat when they fly, and 492 of them chose a window seat. Use\n",
    "a $0.01$ significance level to test the claim that the majority of\n",
    "adults prefer window seats when they fly."
   ]
  },
  {
   "cell_type": "markdown",
   "id": "601ce949",
   "metadata": {},
   "source": [
    "$H_{0}: p=0.5; H_{a}: p>0.5$"
   ]
  },
  {
   "cell_type": "code",
   "execution_count": 110,
   "id": "65139a28",
   "metadata": {},
   "outputs": [
    {
     "name": "stdout",
     "output_type": "stream",
     "text": [
      "[1] 6.269783\n"
     ]
    }
   ],
   "source": [
    "zstar<-((492/806)-0.5)/sqrt((0.5*0.5)/806);print(zstar)"
   ]
  },
  {
   "cell_type": "code",
   "execution_count": 111,
   "id": "dc184a53",
   "metadata": {},
   "outputs": [
    {
     "name": "stdout",
     "output_type": "stream",
     "text": [
      "[1] 2.326348\n"
     ]
    }
   ],
   "source": [
    "zcrit<-qnorm(0.99);print(zcrit)"
   ]
  },
  {
   "cell_type": "markdown",
   "id": "cda83080",
   "metadata": {},
   "source": [
    "Reject $H_{0}$."
   ]
  },
  {
   "cell_type": "markdown",
   "id": "76f034ff",
   "metadata": {},
   "source": [
    "<h5>Lab Report 11 Question 16</h5>"
   ]
  },
  {
   "cell_type": "markdown",
   "id": "a2585f7a",
   "metadata": {},
   "source": [
    "A simple random sample of the weights of 19 green M&Ms has\n",
    "a mean of 0.8635 grams and a standard deviation of 0.0570 grams (see\n",
    "next slide for the data). Use a 0.05 significance level to test the\n",
    "claim that the mean weight of all green M&Ms is equal to 0.8535\n",
    "grams, which is the mean weight required so that M&Ms have the weight\n",
    "printed on the package label. Do green M&Ms appear to have weights\n",
    "consistent with the package label?"
   ]
  },
  {
   "cell_type": "markdown",
   "id": "bb6bb33c",
   "metadata": {},
   "source": [
    "$H_{0}: \\mu=0.8535; H_{a}: p\\neq{}0.8535$"
   ]
  },
  {
   "cell_type": "code",
   "execution_count": 112,
   "id": "34e497ab",
   "metadata": {},
   "outputs": [
    {
     "name": "stdout",
     "output_type": "stream",
     "text": [
      "[1] 0.7647191\n"
     ]
    }
   ],
   "source": [
    "tstar<-(0.8635-0.8535)/(0.0570/sqrt(19));print(tstar)"
   ]
  },
  {
   "cell_type": "code",
   "execution_count": 113,
   "id": "41e3a479",
   "metadata": {},
   "outputs": [
    {
     "name": "stdout",
     "output_type": "stream",
     "text": [
      "[1] 2.100922\n"
     ]
    }
   ],
   "source": [
    "tcrit<-qt(0.975,18);print(tcrit)"
   ]
  },
  {
   "cell_type": "markdown",
   "id": "41e72d44",
   "metadata": {},
   "source": [
    "Fail to reject $H_{0}$."
   ]
  },
  {
   "cell_type": "markdown",
   "id": "b4e2de4b",
   "metadata": {},
   "source": [
    "<h5>Lab Report 11 Question 17</h5>"
   ]
  },
  {
   "cell_type": "markdown",
   "id": "ba1b0326",
   "metadata": {},
   "source": [
    "An interesting and popular hypothesis is that individuals\n",
    "can temporarily postpone death to survive a major holiday or important\n",
    "event such as a birthday. In a study of this phenomenon, it was found\n",
    "that there were 6062 deaths in the week before Thanksgiving, and 5938\n",
    "deaths the week after Thanksgiving (based on data from ``Holidays,\n",
    "Birthdays, and Postponement of Cancer Death.'' by Young and Hade,\n",
    "Journal of the American Medical Association, Vol. 292, No. 24). If\n",
    "people can postpone death until after Thanksgiving, then the\n",
    "proportion of deaths in the week before should be less chan 0.5. Use a\n",
    "0.05 significance level to test the claim that the proportion of\n",
    "deaths in the week before Thanksgiving is less than 0.5. Based on the\n",
    "result, does there appear to be any indication that people can\n",
    "temporarily postpone death to survive the Thanksgiving holiday?"
   ]
  },
  {
   "cell_type": "markdown",
   "id": "6e2d6ab0",
   "metadata": {},
   "source": [
    "$H_{0}: p=0.5; H_{a}: p<0.5$"
   ]
  },
  {
   "cell_type": "code",
   "execution_count": 114,
   "id": "a2353d18",
   "metadata": {},
   "outputs": [
    {
     "name": "stdout",
     "output_type": "stream",
     "text": [
      "[1] 1.13196\n"
     ]
    }
   ],
   "source": [
    "zstar<-((6062/(6062+5938))-0.5)/sqrt((0.5*0.5)/(6062+5938));print(zstar)"
   ]
  },
  {
   "cell_type": "code",
   "execution_count": 115,
   "id": "b5b0c187",
   "metadata": {},
   "outputs": [
    {
     "name": "stdout",
     "output_type": "stream",
     "text": [
      "[1] -1.644854\n"
     ]
    }
   ],
   "source": [
    "zcrit<-qnorm(0.05);print(zcrit)"
   ]
  },
  {
   "cell_type": "markdown",
   "id": "f3b1bf23",
   "metadata": {},
   "source": [
    "Fail to reject $H_{0}$."
   ]
  },
  {
   "cell_type": "markdown",
   "id": "685927bf",
   "metadata": {},
   "source": [
    "<h5>Lab Report 11 Question 18</h5>"
   ]
  },
  {
   "cell_type": "markdown",
   "id": "26fe721f",
   "metadata": {},
   "source": [
    "What is the probability of having two girls and three boys\n",
    "when there are five children and the probability of having a boy is\n",
    "53%?"
   ]
  },
  {
   "cell_type": "code",
   "execution_count": 116,
   "id": "876258dc",
   "metadata": {},
   "outputs": [
    {
     "data": {
      "text/html": [
       "0.328869293"
      ],
      "text/latex": [
       "0.328869293"
      ],
      "text/markdown": [
       "0.328869293"
      ],
      "text/plain": [
       "[1] 0.3288693"
      ]
     },
     "metadata": {},
     "output_type": "display_data"
    }
   ],
   "source": [
    "dbinom(3,5,0.53)"
   ]
  },
  {
   "cell_type": "markdown",
   "id": "d9c34a87",
   "metadata": {},
   "source": [
    "<h5>Lab Report 11 Question 19</h5>"
   ]
  },
  {
   "cell_type": "markdown",
   "id": "2ac9c71a",
   "metadata": {},
   "source": [
    "As part of a study of grade inflation, you want to estimate\n",
    "the mean grade point average of all current college students in the\n",
    "United States. All grade point averages are to be standardized for a\n",
    "scale between 0 and 4. How many grade point averages must be obtained\n",
    "so that the sample mean is within $0.2$ of the population mean? Assume\n",
    "that a 99% confidence level is desired. Also assume that a pilot\n",
    "study showed that the population standard deviation is estimated to be\n",
    "$0.79$."
   ]
  },
  {
   "cell_type": "code",
   "execution_count": 117,
   "id": "39964d41",
   "metadata": {},
   "outputs": [
    {
     "name": "stdout",
     "output_type": "stream",
     "text": [
      "[1] 103.521\n"
     ]
    }
   ],
   "source": [
    "n<-((qnorm(0.995)*0.79)/0.2)^2;print(n)"
   ]
  },
  {
   "cell_type": "markdown",
   "id": "a1440a23",
   "metadata": {},
   "source": [
    "$104$ grade point averages must be obtained."
   ]
  },
  {
   "cell_type": "markdown",
   "id": "8c377030",
   "metadata": {},
   "source": [
    "<h5>Lab Report 11 Question 20</h5>"
   ]
  },
  {
   "cell_type": "markdown",
   "id": "7a0fbe86",
   "metadata": {},
   "source": [
    "A company devises a method to increase the probability that\n",
    "a baby is a girl or a boy (we shall call this privileged sex a\n",
    "``birl''). 879 out of 945 babies born to parents using this method are\n",
    "birls.\n",
    "\n",
    "* What is the best point estimate of the population proportion of\n",
    "  birls born to parents using this method?\n",
    "* Use the sample data to construct a 95\\% confidence interval\n",
    "  estimate of the proportion of birls born to parents using this\n",
    "  method.\n",
    "* Is the method effective? <font color=\"red\">Yes!</font>"
   ]
  },
  {
   "cell_type": "code",
   "execution_count": 118,
   "id": "f6d2338d",
   "metadata": {},
   "outputs": [
    {
     "name": "stdout",
     "output_type": "stream",
     "text": [
      "[1] 0.9301587\n"
     ]
    }
   ],
   "source": [
    "phat<-879/945;print(phat)"
   ]
  },
  {
   "cell_type": "code",
   "execution_count": 119,
   "id": "065adff3",
   "metadata": {},
   "outputs": [
    {
     "name": "stdout",
     "output_type": "stream",
     "text": [
      "[1] 0.0162505\n"
     ]
    }
   ],
   "source": [
    "E<-qnorm(0.975)*sqrt(((879/945)*(1-(879/945)))/945);print(E)"
   ]
  },
  {
   "cell_type": "code",
   "execution_count": 120,
   "id": "f9984f12",
   "metadata": {},
   "outputs": [
    {
     "name": "stdout",
     "output_type": "stream",
     "text": [
      "[1] 0.9139082\n"
     ]
    }
   ],
   "source": [
    "lower<-phat-E;print(lower)"
   ]
  },
  {
   "cell_type": "code",
   "execution_count": 121,
   "id": "b0f85175",
   "metadata": {},
   "outputs": [
    {
     "name": "stdout",
     "output_type": "stream",
     "text": [
      "[1] 0.9464092\n"
     ]
    }
   ],
   "source": [
    "upper<-phat+E;print(upper)"
   ]
  },
  {
   "cell_type": "markdown",
   "id": "138072d3",
   "metadata": {},
   "source": [
    "<h5>Lab Report 11 Question 21</h5>"
   ]
  },
  {
   "cell_type": "markdown",
   "id": "664fd75f",
   "metadata": {},
   "source": [
    "Listed below are the amounts of mercury (in parts per\n",
    "million, or ppm) found in tuna sushi sampled at different stores in\n",
    "New York City. The study was sponsored by the New York Times, and the\n",
    "stores (in order) are D'Agostino, Eli's Manhattan, Fairway, Food\n",
    "Emporium, Gourmet Garage, Grace's Marketplace, and Whole Foods. The\n",
    "sample mean is 0.719 ppm and the standard deviation is 0.366 ppm.\n",
    "Assume a normal distribution. Construct a 90% confidence interval\n",
    "estimate of the mean amount of mercury in the population."
   ]
  },
  {
   "cell_type": "code",
   "execution_count": 122,
   "id": "6ebb0774",
   "metadata": {},
   "outputs": [],
   "source": [
    "xbar=0.719"
   ]
  },
  {
   "cell_type": "code",
   "execution_count": 123,
   "id": "89124788",
   "metadata": {},
   "outputs": [],
   "source": [
    "s=0.366"
   ]
  },
  {
   "cell_type": "code",
   "execution_count": 124,
   "id": "399b84f5",
   "metadata": {},
   "outputs": [],
   "source": [
    "n=7.0"
   ]
  },
  {
   "cell_type": "code",
   "execution_count": 125,
   "id": "833cfeda",
   "metadata": {},
   "outputs": [
    {
     "name": "stdout",
     "output_type": "stream",
     "text": [
      "[1] 0.2688098\n"
     ]
    }
   ],
   "source": [
    "E=qt(0.95,n-1)*s/sqrt(n);print(E)"
   ]
  },
  {
   "cell_type": "code",
   "execution_count": 126,
   "id": "16828932",
   "metadata": {},
   "outputs": [
    {
     "data": {
      "text/html": [
       "0.450190161488599"
      ],
      "text/latex": [
       "0.450190161488599"
      ],
      "text/markdown": [
       "0.450190161488599"
      ],
      "text/plain": [
       "[1] 0.4501902"
      ]
     },
     "metadata": {},
     "output_type": "display_data"
    }
   ],
   "source": [
    "xbar-E"
   ]
  },
  {
   "cell_type": "code",
   "execution_count": 127,
   "id": "a007b4ee",
   "metadata": {},
   "outputs": [
    {
     "data": {
      "text/html": [
       "0.987809838511401"
      ],
      "text/latex": [
       "0.987809838511401"
      ],
      "text/markdown": [
       "0.987809838511401"
      ],
      "text/plain": [
       "[1] 0.9878098"
      ]
     },
     "metadata": {},
     "output_type": "display_data"
    }
   ],
   "source": [
    "xbar+E"
   ]
  },
  {
   "cell_type": "markdown",
   "id": "e7995a75",
   "metadata": {},
   "source": [
    "<h5>Lab Report 11 Question 22</h5>"
   ]
  },
  {
   "cell_type": "markdown",
   "id": "08f3efd9",
   "metadata": {},
   "source": [
    "A company is interested in the percentage of adults who\n",
    "  buy clothing online. How many adults must be surveyed in order to be\n",
    "  95% confident that the sample percentage is in error by no more\n",
    "  than three percentage points?\n",
    "  \n",
    "  * Use this recent result from Statistics Canada: 66% of adults\n",
    "    buy clothing online. <font color=\"red\">174</font>\n",
    "  * Assume that you have no prior information suggesting a\n",
    "    possible value of the proportion. <font color=\"red\">194</font>"
   ]
  },
  {
   "cell_type": "code",
   "execution_count": 128,
   "id": "e319e114",
   "metadata": {},
   "outputs": [
    {
     "name": "stdout",
     "output_type": "stream",
     "text": [
      "[1] 173.933\n"
     ]
    }
   ],
   "source": [
    "n1<-(pnorm(0.975)^2*0.66*0.34)/((0.03)^2);print(n1)"
   ]
  },
  {
   "cell_type": "code",
   "execution_count": 129,
   "id": "db6840f8",
   "metadata": {},
   "outputs": [
    {
     "name": "stdout",
     "output_type": "stream",
     "text": [
      "[1] 193.7756\n"
     ]
    }
   ],
   "source": [
    "n2<-(pnorm(0.975)^2*0.25)/((0.03)^2);print(n2)"
   ]
  },
  {
   "cell_type": "markdown",
   "id": "a1618ed9",
   "metadata": {},
   "source": [
    "<h5>Lab Report 11 Question 23</h5>"
   ]
  },
  {
   "cell_type": "markdown",
   "id": "ebebae7a",
   "metadata": {},
   "source": [
    "How many statistics students must be randomly selected for\n",
    "  IQ tests if we want 95% confidence that the sample mean is within 3\n",
    "  IQ points of the population mean? Assume that $\\sigma=15$."
   ]
  },
  {
   "cell_type": "code",
   "execution_count": 130,
   "id": "c8561da2",
   "metadata": {},
   "outputs": [
    {
     "name": "stdout",
     "output_type": "stream",
     "text": [
      "[1] 96.03647\n"
     ]
    }
   ],
   "source": [
    "n=((qnorm(0.975)*15)/3)^2;print(n)"
   ]
  },
  {
   "cell_type": "markdown",
   "id": "1c8e9d8d",
   "metadata": {},
   "source": [
    "97 students must be randomly selected for\n",
    "  IQ tests if we want 95% confidence that the sample mean is within 3\n",
    "  IQ points of the population mean."
   ]
  },
  {
   "cell_type": "markdown",
   "id": "599cddf2",
   "metadata": {},
   "source": [
    "<h5>Lab Report 11 Question 24</h5>"
   ]
  },
  {
   "cell_type": "markdown",
   "id": "a15ddc90",
   "metadata": {},
   "source": [
    "The Pew Research Center conducted a survey of 1007 adults\n",
    "  and found that 856 of them know what Twitter is. Use a 0.01\n",
    "  significance level to test the claim that more than 75% of adults\n",
    "  know what Twitter is."
   ]
  },
  {
   "cell_type": "markdown",
   "id": "53d885b9",
   "metadata": {},
   "source": [
    "$H_{0}: p=0.75; H_{a}: p>0.75$"
   ]
  },
  {
   "cell_type": "code",
   "execution_count": 131,
   "id": "6034ffe7",
   "metadata": {},
   "outputs": [
    {
     "name": "stdout",
     "output_type": "stream",
     "text": [
      "[1] 7.332122\n"
     ]
    }
   ],
   "source": [
    "zstar<-((856/1007)-0.75)/sqrt((0.75*0.25)/1007);print(zstar)"
   ]
  },
  {
   "cell_type": "code",
   "execution_count": 132,
   "id": "0bea343d",
   "metadata": {},
   "outputs": [
    {
     "name": "stdout",
     "output_type": "stream",
     "text": [
      "[1] 2.326348\n"
     ]
    }
   ],
   "source": [
    "zcrit<-qnorm(0.99);print(zcrit)"
   ]
  },
  {
   "cell_type": "markdown",
   "id": "a2545c0c",
   "metadata": {},
   "source": [
    "Reject $H_{0}$."
   ]
  },
  {
   "cell_type": "markdown",
   "id": "6d665e51",
   "metadata": {},
   "source": [
    "<h5>Lab Report 11 Question 25</h5>"
   ]
  },
  {
   "cell_type": "markdown",
   "id": "e17e67fd",
   "metadata": {},
   "source": [
    "You desperately need a person with blood type AB (incidence in\n",
    "Canada: 3%). If there are 49 people in the room, what is the\n",
    "probability that at least one of them is AB?"
   ]
  },
  {
   "cell_type": "code",
   "execution_count": 133,
   "id": "00c34185",
   "metadata": {},
   "outputs": [
    {
     "data": {
      "text/html": [
       "0.775190334693394"
      ],
      "text/latex": [
       "0.775190334693394"
      ],
      "text/markdown": [
       "0.775190334693394"
      ],
      "text/plain": [
       "[1] 0.7751903"
      ]
     },
     "metadata": {},
     "output_type": "display_data"
    }
   ],
   "source": [
    "1-dbinom(0,49,0.03)"
   ]
  },
  {
   "cell_type": "markdown",
   "id": "d2ed86de",
   "metadata": {},
   "source": [
    "The\n",
    "probability that at least one of them is AB is 77.52 percent."
   ]
  },
  {
   "cell_type": "markdown",
   "id": "0afacf6d",
   "metadata": {},
   "source": [
    "In a room with twelve randomly selected Canadians, what is the\n",
    "    probability that there are strictly fewer than three people with\n",
    "    blood type ``B''?"
   ]
  },
  {
   "cell_type": "code",
   "execution_count": 134,
   "id": "fc55f338",
   "metadata": {},
   "outputs": [
    {
     "data": {
      "text/html": [
       "0.913375505046021"
      ],
      "text/latex": [
       "0.913375505046021"
      ],
      "text/markdown": [
       "0.913375505046021"
      ],
      "text/plain": [
       "[1] 0.9133755"
      ]
     },
     "metadata": {},
     "output_type": "display_data"
    }
   ],
   "source": [
    "pbinom(2,12,0.09)"
   ]
  },
  {
   "cell_type": "markdown",
   "id": "7842b9de",
   "metadata": {},
   "source": [
    "<h5>Lab Report 11 Question 26</h5>"
   ]
  },
  {
   "cell_type": "markdown",
   "id": "30b9b0fb",
   "metadata": {},
   "source": [
    "![](./diagrams/garlic.png)"
   ]
  },
  {
   "cell_type": "markdown",
   "id": "a161553e",
   "metadata": {},
   "source": [
    "<h5>Lab Report 11 Question 27</h5>"
   ]
  },
  {
   "cell_type": "markdown",
   "id": "f1ab98c2",
   "metadata": {},
   "source": [
    "![](./diagrams/MATH_3512_Lecture_and_Lab_Graffiti_20191204-0008.png)"
   ]
  },
  {
   "cell_type": "markdown",
   "id": "4e3b0360",
   "metadata": {},
   "source": [
    "<h5>Lab Report 11 Question 28</h5>"
   ]
  },
  {
   "cell_type": "markdown",
   "id": "9d20baa7",
   "metadata": {},
   "source": [
    "My bicycle commute from home to BCIT is normally\n",
    "distributed in terms of the time it takes to complete. The mean is\n",
    "$\\mu=27.3$ minutes, the standard deviation is $\\sigma=2.16$ minutes.\n",
    "If I leave my house at 7:50am and I have to be at BCIT at 8:20am in\n",
    "order to be on time for my class, what is the probability that I will\n",
    "be late for class?"
   ]
  },
  {
   "cell_type": "code",
   "execution_count": 135,
   "id": "38b2c1ec",
   "metadata": {},
   "outputs": [
    {
     "data": {
      "text/html": [
       "0.105649773666855"
      ],
      "text/latex": [
       "0.105649773666855"
      ],
      "text/markdown": [
       "0.105649773666855"
      ],
      "text/plain": [
       "[1] 0.1056498"
      ]
     },
     "metadata": {},
     "output_type": "display_data"
    }
   ],
   "source": [
    "1-pnorm(30,27.3,2.16)"
   ]
  },
  {
   "cell_type": "markdown",
   "id": "81d021ed",
   "metadata": {},
   "source": [
    "The probability that I will be late for class is approximately 10.565 percent."
   ]
  },
  {
   "cell_type": "markdown",
   "id": "0bf54cf3",
   "metadata": {},
   "source": [
    "<h5>Lab Report 11 Question 29</h5>"
   ]
  },
  {
   "cell_type": "markdown",
   "id": "853f8956",
   "metadata": {},
   "source": [
    "Use the following data set (next slide) of the weight of\n",
    "  post-1983 pennies to construct a 98% confidence interval estimate\n",
    "  of the standard deviation of the weights of all post-1983 pennies.\n",
    "  Assume that the weights are normally distributed. The sample mean is\n",
    "  $\\bar{x}=2.4988$, the sample standard deviation is $s=0.016636$."
   ]
  },
  {
   "cell_type": "code",
   "execution_count": 136,
   "id": "36325bb0",
   "metadata": {},
   "outputs": [
    {
     "name": "stdout",
     "output_type": "stream",
     "text": [
      "[1] 0.01299709\n"
     ]
    }
   ],
   "source": [
    "lower<-sqrt(((36-1)*0.016636^2)/qchisq(0.99,35));print(lower)"
   ]
  },
  {
   "cell_type": "code",
   "execution_count": 137,
   "id": "f7c2b327",
   "metadata": {},
   "outputs": [
    {
     "name": "stdout",
     "output_type": "stream",
     "text": [
      "[1] 0.02287664\n"
     ]
    }
   ],
   "source": [
    "upper<-sqrt(((36-1)*0.016636^2)/qchisq(0.01,35));print(upper)"
   ]
  },
  {
   "cell_type": "markdown",
   "id": "64c5145d",
   "metadata": {},
   "source": [
    "<h5>Lab Report 11 Question 30</h5>"
   ]
  },
  {
   "cell_type": "markdown",
   "id": "e6cb51f9",
   "metadata": {},
   "source": [
    "Ages of race car drivers Listed below are the ages\n",
    "  (years) of randomly selected race car drivers (based on data\n",
    "  reported in USA Today). Most people in the general population have\n",
    "  ages that vary between 0 and 90 years, so use of the range rule of\n",
    "  thumb suggests that ages in the general population have a standard\n",
    "  deviation of 22.5 years. Use a 0.01 significance level to test the\n",
    "  claim that the standard deviation of ages of all race car drivers is\n",
    "  less than 22.5 years."
   ]
  },
  {
   "cell_type": "markdown",
   "id": "671be545",
   "metadata": {},
   "source": [
    "$H_{0}: \\sigma=22.5; H_{a}: \\sigma<22.5$"
   ]
  },
  {
   "cell_type": "code",
   "execution_count": 138,
   "id": "0c05e194",
   "metadata": {},
   "outputs": [],
   "source": [
    "rc<-c(32,32,33,33,41,29,38,32,33,23,27,45,52,29,25)"
   ]
  },
  {
   "cell_type": "code",
   "execution_count": 139,
   "id": "9945d8a5",
   "metadata": {},
   "outputs": [
    {
     "name": "stdout",
     "output_type": "stream",
     "text": [
      "[1] 1.626864\n"
     ]
    }
   ],
   "source": [
    "chisqstar<-((length(rc)-1)*sd(rc)^2)/(22.5^2);print(chisqstar)"
   ]
  },
  {
   "cell_type": "code",
   "execution_count": 140,
   "id": "26320f60",
   "metadata": {},
   "outputs": [
    {
     "name": "stdout",
     "output_type": "stream",
     "text": [
      "[1] 4.660425\n"
     ]
    }
   ],
   "source": [
    "chisqcrit<-qchisq(0.01,length(rc)-1);print(chisqcrit)"
   ]
  },
  {
   "cell_type": "markdown",
   "id": "0a6aa7e6",
   "metadata": {},
   "source": [
    "Decision: we do not know the distribution of the population. Therefore, we cannot answer the question. If the population is normally distributed, we reject $H_{0}$."
   ]
  },
  {
   "cell_type": "markdown",
   "id": "d7c1d9c2",
   "metadata": {},
   "source": [
    "<h5>Lab Report 11 Question 31</h5>"
   ]
  },
  {
   "cell_type": "markdown",
   "id": "83dfa388",
   "metadata": {},
   "source": [
    "In one study of smokers who tried to quit smoking with\n",
    "  nicotine patch therapy, 39 were smoking one year after the treatment\n",
    "  and 32 were not smoking one year after the treatment. Use a 0.05\n",
    "  significance level to test the claim that among smokers who try to\n",
    "  quit with nicotine patch therapy, the majority are smoking a year\n",
    "  after the treatment. What do these results suggest about the\n",
    "  effectiveness of nicotine patch therapy for those trying to quit\n",
    "  smoking?"
   ]
  },
  {
   "cell_type": "markdown",
   "id": "d3b625c4",
   "metadata": {},
   "source": [
    "$H_{0}: p=0.5; H_{a}: p>0.5$"
   ]
  },
  {
   "cell_type": "code",
   "execution_count": 141,
   "id": "fe60b21e",
   "metadata": {},
   "outputs": [
    {
     "name": "stdout",
     "output_type": "stream",
     "text": [
      "[1] 0.8307472\n"
     ]
    }
   ],
   "source": [
    "zstar<-((39/(39+32))-0.5)/sqrt((0.5*0.5)/(39+32));print(zstar)"
   ]
  },
  {
   "cell_type": "code",
   "execution_count": 142,
   "id": "70e4471e",
   "metadata": {},
   "outputs": [
    {
     "name": "stdout",
     "output_type": "stream",
     "text": [
      "[1] 1.644854\n"
     ]
    }
   ],
   "source": [
    "zcrit<-qnorm(0.95);print(zcrit)"
   ]
  },
  {
   "cell_type": "markdown",
   "id": "812bc0d7",
   "metadata": {},
   "source": [
    "Fail to reject $H_{0}$."
   ]
  },
  {
   "cell_type": "markdown",
   "id": "eeb3469e",
   "metadata": {},
   "source": [
    "<h5>Lab Report 11 Question 32</h5>"
   ]
  },
  {
   "cell_type": "markdown",
   "id": "3ab1b7e1",
   "metadata": {},
   "source": [
    "Suppose the mean weight of King Penguins found in an\n",
    "  Antarctic colony last year was 15.4 kg. In a sample of 35 penguins\n",
    "  same time this year in the same colony, the mean penguin weight is\n",
    "  14.6 kg. Assume the population standard deviation is 2.5 kg. At a\n",
    "  0.05 significance level, can we reject the null hypothesis that the\n",
    "  mean penguin weight does not differ from last year?"
   ]
  },
  {
   "cell_type": "markdown",
   "id": "28466316",
   "metadata": {},
   "source": [
    "$H_{0}: \\mu=15.4; H_{a}: p\\neq{}15.4$"
   ]
  },
  {
   "cell_type": "code",
   "execution_count": 143,
   "id": "2b6410e4",
   "metadata": {},
   "outputs": [
    {
     "name": "stdout",
     "output_type": "stream",
     "text": [
      "[1] -1.893146\n"
     ]
    }
   ],
   "source": [
    "zstar<-(14.6-15.4)/(2.5/sqrt(35));print(zstar)"
   ]
  },
  {
   "cell_type": "code",
   "execution_count": 144,
   "id": "3ab02380",
   "metadata": {},
   "outputs": [
    {
     "name": "stdout",
     "output_type": "stream",
     "text": [
      "[1] -1.959964\n"
     ]
    }
   ],
   "source": [
    "zcritlower<-qnorm(0.025);print(zcritlower)"
   ]
  },
  {
   "cell_type": "code",
   "execution_count": 145,
   "id": "2070947f",
   "metadata": {},
   "outputs": [
    {
     "name": "stdout",
     "output_type": "stream",
     "text": [
      "[1] 1.959964\n"
     ]
    }
   ],
   "source": [
    "zcritupper<-qnorm(0.975);print(zcritupper)"
   ]
  },
  {
   "cell_type": "markdown",
   "id": "65b011c3",
   "metadata": {},
   "source": [
    "Fail to reject $H_{0}$."
   ]
  }
 ],
 "metadata": {
  "kernelspec": {
   "display_name": "R",
   "language": "R",
   "name": "ir"
  },
  "language_info": {
   "codemirror_mode": "r",
   "file_extension": ".r",
   "mimetype": "text/x-r-source",
   "name": "R",
   "pygments_lexer": "r",
   "version": "4.0.5"
  }
 },
 "nbformat": 4,
 "nbformat_minor": 5
}
