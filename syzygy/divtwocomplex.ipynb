{
 "cells": [
  {
   "cell_type": "markdown",
   "metadata": {},
   "source": [
    "<h3>\n",
    "    Dividing Two Complex Numbers\n",
    "</h3>"
   ]
  },
  {
   "cell_type": "markdown",
   "metadata": {},
   "source": [
    "Consider $$\\frac{5+3i}{-7-i}$$"
   ]
  },
  {
   "cell_type": "markdown",
   "metadata": {},
   "source": [
    "The solution to this division problem is the complex number $a+bi$ for which $$(-7-i)\\cdot(a+bi)=5+3i$$"
   ]
  },
  {
   "cell_type": "markdown",
   "metadata": {},
   "source": [
    "One straightforward way to do this is by conjugate expansion. In the lecture I called this method 2. Remember that $(x-y)(x+y)=x^{2}-y^{2}$. $$\\frac{5+3i}{-7-i}=\\frac{(5+3i)\\cdot(-7+i)}{(-7-i)(-7+i)}=\\frac{-38-16i}{50}=-\\frac{19}{25}-\\frac{8}{25}i$$"
   ]
  },
  {
   "cell_type": "markdown",
   "metadata": {},
   "source": [
    "Method 1 is more complicated, but teaches us some very interesting things about complex numbers. First note Euler's Formula, which we derived from Calculus and the fact that $i^{2}=-1$, $$e^{ix}=\\cos{}x+i\\sin{}x$$"
   ]
  },
  {
   "cell_type": "markdown",
   "metadata": {},
   "source": [
    "Then note that if a complex number $z=a+bi$, it can be represented by polar coordinates $(r,\\theta)$, where $$\\begin{array}{ll}r^{2}=a^{2}+b^{2}\\qquad{}\\tan\\theta=\\frac{b}{a}\\\\a=r\\cos\\theta\\qquad{}b=r\\sin\\theta\\end{array}$$"
   ]
  },
  {
   "cell_type": "markdown",
   "metadata": {},
   "source": [
    "This means that $$a+bi=r\\cos\\theta+ir\\sin\\theta=r(\\cos\\theta+i\\sin\\theta)=re^{i\\theta}$$"
   ]
  },
  {
   "cell_type": "markdown",
   "metadata": {},
   "source": [
    "And therefore $$\\frac{5+3i}{-7-i}=\\frac{\\sqrt{34}e^{0.5404i}}{\\sqrt{50}e^{3.2835i}}=\\sqrt{\\frac{17}{25}}e^{-2.7431i}=\\sqrt{\\frac{17}{25}}\\left(\\cos(-2.7431)+i\\sin(-2.7431)\\right)=-0.76-0.32i=-\\frac{19}{25}-\\frac{8}{25}i$$"
   ]
  },
  {
   "cell_type": "markdown",
   "metadata": {},
   "source": [
    "The arctangent function will *always* return angles in quadrant I or IV. In the lecture, I did not take account of the fact that the point $P=(-7,-1)$ is in quadrant III, so we must add $\\pi$ to the arctangent of $\\frac{1}{7}$ in order to get the correct angle."
   ]
  }
 ],
 "metadata": {
  "kernelspec": {
   "display_name": "R",
   "language": "R",
   "name": "ir"
  },
  "language_info": {
   "codemirror_mode": "r",
   "file_extension": ".r",
   "mimetype": "text/x-r-source",
   "name": "R",
   "pygments_lexer": "r",
   "version": "3.6.2"
  }
 },
 "nbformat": 4,
 "nbformat_minor": 1
}
