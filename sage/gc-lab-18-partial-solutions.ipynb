{
 "cells": [
  {
   "cell_type": "markdown",
   "metadata": {
    "collapsed": false
   },
   "source": [
    "<h3>Lab Sheet 18 Solutions</h3>"
   ]
  },
  {
   "cell_type": "markdown",
   "metadata": {
    "collapsed": false
   },
   "source": [
    "<h4>Lab Sheet 18 Problem 1</h4>"
   ]
  },
  {
   "cell_type": "markdown",
   "metadata": {
    "collapsed": false
   },
   "source": [
    "Find the linear equation for the plane in\n",
    "three-dimensional space that contains\n",
    "$$  P=(1,5,1)\\hspace{0.5in}Q=\\left(-1,-\\frac{1}{2},0\\right)\\hspace{0.5in}R=(-4,7,3)\\notag\n",
    "$$"
   ]
  },
  {
   "cell_type": "markdown",
   "metadata": {
    "collapsed": false
   },
   "source": [
    "<img src=\"./diagrams/gc-lab-18-partial-solutions-01-1of1.png\" width=\"70%\" height=\"70%\">"
   ]
  },
  {
   "cell_type": "markdown",
   "metadata": {
    "collapsed": false
   },
   "source": [
    "<h4>Lab Sheet 18 Problem 2</h4>"
   ]
  },
  {
   "cell_type": "markdown",
   "metadata": {
    "collapsed": false
   },
   "source": [
    "Calculate the angle in degrees, minutes, and seconds\n",
    "between the following two vectors\n",
    "$$  \\vec{v}=\\left(\n",
    "    \\begin{array}{c}\n",
    "      2 \\\\\n",
    "      -2 \\\\\n",
    "      -3\n",
    "    \\end{array}\\right)\\mbox{ and }\\vec{w}=7\\vec{i}-\\vec{j}-2\\vec{k}\\notag\n",
    "$$"
   ]
  },
  {
   "cell_type": "markdown",
   "metadata": {
    "collapsed": false
   },
   "source": [
    "<img src=\"./diagrams/gc-lab-18-partial-solutions-02-1of1.png\" width=\"70%\" height=\"70%\">"
   ]
  },
  {
   "cell_type": "markdown",
   "metadata": {
    "collapsed": false
   },
   "source": [
    "<h4>Lab Sheet 18 Problem 3</h4>"
   ]
  },
  {
   "cell_type": "markdown",
   "metadata": {
    "collapsed": false
   },
   "source": [
    "What is the Maclaurin series expansion for $(1-x)^{-1}$?"
   ]
  },
  {
   "cell_type": "markdown",
   "metadata": {
    "collapsed": false
   },
   "source": [
    "$$f^{(n)}(x)=\\frac{n!}{(1-x)^{n+1}}$$"
   ]
  },
  {
   "cell_type": "markdown",
   "metadata": {
    "collapsed": false
   },
   "source": [
    "$$\n",
    "\\frac{1}{1-x}=\\sum_{n=0}^{\\infty}x^{n}\n",
    "$$"
   ]
  },
  {
   "cell_type": "markdown",
   "metadata": {
    "collapsed": false
   },
   "source": [
    "Where does this expansion converge?"
   ]
  },
  {
   "cell_type": "markdown",
   "metadata": {
    "collapsed": false
   },
   "source": [
    "For $|x|<1$."
   ]
  },
  {
   "cell_type": "markdown",
   "metadata": {
    "collapsed": false
   },
   "source": [
    "<h4>Lab Sheet 18 Problem 4</h4>"
   ]
  },
  {
   "cell_type": "markdown",
   "metadata": {
    "collapsed": false
   },
   "source": [
    "John wants to get to the bus stop, the bus stop is across a grassy\n",
    "park, 2000 feet west and 600 feet north of his starting position. John\n",
    "can walk west along the edge of the park on the sidewalk at a speed of\n",
    "6 ft/sec and 4 ft/sec through the grass. How far should he walk on the\n",
    "sidewalk before veering off onto the grass if he wishes to get to the\n",
    "bus stop as quickly as possible?"
   ]
  },
  {
   "cell_type": "markdown",
   "metadata": {
    "collapsed": false
   },
   "source": [
    "$$f(x,y)=\\frac{x}{6}+\\frac{y}{4}$$"
   ]
  },
  {
   "cell_type": "markdown",
   "metadata": {
    "collapsed": false
   },
   "source": [
    "$$g(x,y)=y^{2}-600^2-(2000-x)^{2}$$"
   ]
  },
  {
   "cell_type": "code",
   "execution_count": 1,
   "metadata": {
    "collapsed": false
   },
   "outputs": [
   ],
   "source": [
    "y=var('y');w=var('w');l=var('l')"
   ]
  },
  {
   "cell_type": "code",
   "execution_count": 2,
   "metadata": {
    "collapsed": false
   },
   "outputs": [
   ],
   "source": [
    "g(x,y)=y^2-600^2-(2000-x)^2"
   ]
  },
  {
   "cell_type": "code",
   "execution_count": 3,
   "metadata": {
    "collapsed": false
   },
   "outputs": [
    {
     "data": {
      "text/plain": [
       "(x, y) |--> -x^2 + y^2 + 4000*x - 4360000"
      ]
     },
     "execution_count": 3,
     "metadata": {
     },
     "output_type": "execute_result"
    }
   ],
   "source": [
    "g.expand()"
   ]
  },
  {
   "cell_type": "markdown",
   "metadata": {
    "collapsed": false
   },
   "source": [
    "$$L(x,y,\\lambda)=\\frac{x}{6}+\\frac{y}{4}-\\lambda(y^{2}-x^{2}+4000x-4360000)$$"
   ]
  },
  {
   "cell_type": "markdown",
   "metadata": {
    "collapsed": false
   },
   "source": [
    "$$\\frac{\\partial{}L}{\\partial{}x}=\\frac{1}{6}+2\\lambda{}x-4000\\lambda=0$$"
   ]
  },
  {
   "cell_type": "markdown",
   "metadata": {
    "collapsed": false
   },
   "source": [
    "$$\\frac{\\partial{}L}{\\partial{}y}=\\frac{1}{4}-2\\lambda{}y=0$$"
   ]
  },
  {
   "cell_type": "markdown",
   "metadata": {
    "collapsed": false
   },
   "source": [
    "$$\\frac{\\partial{}L}{\\partial{}\\lambda}=y^{2}-x^{2}+4000x-4360000=0$$"
   ]
  },
  {
   "cell_type": "code",
   "execution_count": 4,
   "metadata": {
    "collapsed": false
   },
   "outputs": [
   ],
   "source": [
    "A=solve([1/6+2*l*x-4000*l==0,1/4-2*l*y==0,y^2-x^2+4000*x-4360000],x,y,l,solution_dict=True)"
   ]
  },
  {
   "cell_type": "code",
   "execution_count": 5,
   "metadata": {
    "collapsed": false
   },
   "outputs": [
    {
     "data": {
      "text/plain": [
       "[{x: -240*sqrt(5) + 2000, y: 360*sqrt(5), l: 1/14400*sqrt(5)},\n",
       " {x: 240*sqrt(5) + 2000, y: -360*sqrt(5), l: -1/14400*sqrt(5)}]"
      ]
     },
     "execution_count": 5,
     "metadata": {
     },
     "output_type": "execute_result"
    }
   ],
   "source": [
    "A"
   ]
  },
  {
   "cell_type": "code",
   "execution_count": 6,
   "metadata": {
    "collapsed": false
   },
   "outputs": [
    {
     "data": {
      "text/plain": [
       "1463.34368540005"
      ]
     },
     "execution_count": 6,
     "metadata": {
     },
     "output_type": "execute_result"
    }
   ],
   "source": [
    "n(A[0][x])"
   ]
  },
  {
   "cell_type": "code",
   "execution_count": 7,
   "metadata": {
    "collapsed": false
   },
   "outputs": [
    {
     "data": {
      "text/plain": [
       "804.984471899924"
      ]
     },
     "execution_count": 7,
     "metadata": {
     },
     "output_type": "execute_result"
    }
   ],
   "source": [
    "n(A[0][y])"
   ]
  },
  {
   "cell_type": "markdown",
   "metadata": {
    "collapsed": false
   },
   "source": [
    "John should walk $1463$ feet on the sidewalk and then walk across the grass."
   ]
  },
  {
   "cell_type": "markdown",
   "metadata": {
    "collapsed": false
   },
   "source": [
    "<h4>Lab Sheet 18 Problem 5</h4>"
   ]
  },
  {
   "cell_type": "markdown",
   "metadata": {
    "collapsed": false
   },
   "source": [
    "Given the function $f(x,y,z)=\\sin(x)\\cos(y)e^{z}$, what are the corresponding\n",
    "partial derivatives $f_{x},f_{y}$ and $f_{z}$?"
   ]
  },
  {
   "cell_type": "markdown",
   "metadata": {
    "collapsed": false
   },
   "source": [
    "$$f_{x}=\\cos(x)\\cos(y)e^{z}\\qquad{}f_{y}=-\\sin(x)\\sin(y)e^{z}\\qquad{}f_{z}=\\sin(x)\\cos(y)e^{z}$$"
   ]
  },
  {
   "cell_type": "markdown",
   "metadata": {
    "collapsed": false
   },
   "source": [
    "For the same function $f(x,y,z)$, what is the corresponding Laplacian?"
   ]
  },
  {
   "cell_type": "markdown",
   "metadata": {
    "collapsed": false
   },
   "source": [
    "$$\\Delta{}f=\\nabla\\cdot\\nabla{}f=\\sum_{i=1}^{n}\\frac{\\partial^{2}f}{\\partial{}x^{2}_{i}}=-\\sin(x)\\cos(y)e^{z}$$"
   ]
  },
  {
   "cell_type": "markdown",
   "metadata": {
    "collapsed": false
   },
   "source": [
    "<h4>Lab Sheet 18 Problem 6</h4>"
   ]
  },
  {
   "cell_type": "markdown",
   "metadata": {
    "collapsed": false
   },
   "source": [
    "Find the maximum and minimum values of\n",
    "$$  f(x,y)=81x^{2}+y^{2}\\notag\n",
    "$$\n",
    "subject to the constraint $4x^{2}+y^{2}=9.$"
   ]
  },
  {
   "cell_type": "markdown",
   "metadata": {
    "collapsed": false
   },
   "source": [
    "<img src=\"./diagrams/gc-lab-18-partial-solutions-06-1of6.png\" width=\"120%\" height=\"120%\">"
   ]
  },
  {
   "cell_type": "markdown",
   "metadata": {
    "collapsed": false
   },
   "source": [
    "<img src=\"./diagrams/gc-lab-18-partial-solutions-06-2of6.png\" width=\"120%\" height=\"120%\">"
   ]
  },
  {
   "cell_type": "markdown",
   "metadata": {
    "collapsed": false
   },
   "source": [
    "<img src=\"./diagrams/gc-lab-18-partial-solutions-06-3of6.png\" width=\"120%\" height=\"120%\">"
   ]
  },
  {
   "cell_type": "markdown",
   "metadata": {
    "collapsed": false
   },
   "source": [
    "<img src=\"./diagrams/gc-lab-18-partial-solutions-06-4of6.png\" width=\"120%\" height=\"120%\">"
   ]
  },
  {
   "cell_type": "markdown",
   "metadata": {
    "collapsed": false
   },
   "source": [
    "<img src=\"./diagrams/gc-lab-18-partial-solutions-06-5of6.png\" width=\"120%\" height=\"120%\">"
   ]
  },
  {
   "cell_type": "markdown",
   "metadata": {
    "collapsed": false
   },
   "source": [
    "<img src=\"./diagrams/gc-lab-18-partial-solutions-06-6of6.png\" width=\"120%\" height=\"120%\">"
   ]
  },
  {
   "cell_type": "markdown",
   "metadata": {
    "collapsed": false
   },
   "source": [
    "<h4>Lab Sheet 18 Problem 7</h4>"
   ]
  },
  {
   "cell_type": "markdown",
   "metadata": {
    "collapsed": false
   },
   "source": [
    "Find the maximum and minimum values of\n",
    "$$  f(x,y,z)=3x^{2}+y\\notag\n",
    "$$\n",
    "subject to the constraints $4x-3y=9$ and $x^{2}+z^{2}=9$."
   ]
  },
  {
   "cell_type": "markdown",
   "metadata": {
    "collapsed": false
   },
   "source": [
    "<img src=\"./diagrams/gc-lab-18-partial-solutions-07-1of6.png\" width=\"120%\" height=\"120%\">"
   ]
  },
  {
   "cell_type": "markdown",
   "metadata": {
    "collapsed": false
   },
   "source": [
    "<img src=\"./diagrams/gc-lab-18-partial-solutions-07-2of6.png\" width=\"75%\" height=\"75%\">"
   ]
  },
  {
   "cell_type": "markdown",
   "metadata": {
    "collapsed": false
   },
   "source": [
    "<img src=\"./diagrams/gc-lab-18-partial-solutions-07-3of6.png\" width=\"120%\" height=\"120%\">"
   ]
  },
  {
   "cell_type": "markdown",
   "metadata": {
    "collapsed": false
   },
   "source": [
    "<img src=\"./diagrams/gc-lab-18-partial-solutions-07-4of6.png\" width=\"120%\" height=\"120%\">"
   ]
  },
  {
   "cell_type": "markdown",
   "metadata": {
    "collapsed": false
   },
   "source": [
    "<img src=\"./diagrams/gc-lab-18-partial-solutions-07-5of6.png\" width=\"120%\" height=\"120%\">"
   ]
  },
  {
   "cell_type": "markdown",
   "metadata": {
    "collapsed": false
   },
   "source": [
    "<img src=\"./diagrams/gc-lab-18-partial-solutions-07-6of6.png\" width=\"120%\" height=\"120%\">"
   ]
  },
  {
   "cell_type": "markdown",
   "metadata": {
    "collapsed": false
   },
   "source": [
    "<h4>Lab Sheet 18 Problem 8</h4>"
   ]
  },
  {
   "cell_type": "markdown",
   "metadata": {
    "collapsed": false
   },
   "source": [
    "Consider an open box with no top. The box has volume $32$\n",
    "(cubic units) and dimensions $x,y,z$. Using Lagrange multipliers, find\n",
    "the dimensions of the box with minimal surface area."
   ]
  },
  {
   "cell_type": "markdown",
   "metadata": {
    "collapsed": false
   },
   "source": [
    "<img src=\"./diagrams/openbox.png\" width=\"20%\" height=\"20%\">"
   ]
  },
  {
   "cell_type": "markdown",
   "metadata": {
    "collapsed": false
   },
   "source": [
    "<img src=\"./diagrams/gc-lab-18-partial-solutions-08-1of3.png\" width=\"60%\" height=\"60%\">"
   ]
  },
  {
   "cell_type": "markdown",
   "metadata": {
    "collapsed": false
   },
   "source": [
    "<img src=\"./diagrams/gc-lab-18-partial-solutions-08-2of3.png\" width=\"60%\" height=\"60%\">"
   ]
  },
  {
   "cell_type": "markdown",
   "metadata": {
    "collapsed": false
   },
   "source": [
    "<img src=\"./diagrams/gc-lab-18-partial-solutions-08-3of3.png\" width=\"60%\" height=\"60%\">"
   ]
  },
  {
   "cell_type": "markdown",
   "metadata": {
    "collapsed": false
   },
   "source": [
    "<h4>Lab Sheet 18 Problem 9</h4>"
   ]
  },
  {
   "cell_type": "markdown",
   "metadata": {
    "collapsed": false
   },
   "source": [
    "Suppose $x+y+z=A$. What values of $x,y,z$ are such that\n",
    "$x^{2}+y^{2}+z^{2}$ is the smallest?"
   ]
  },
  {
   "cell_type": "markdown",
   "metadata": {
    "collapsed": false
   },
   "source": [
    "<img src=\"./diagrams/gc-lab-18-partial-solutions-09-1of2.png\" width=\"60%\" height=\"60%\">"
   ]
  },
  {
   "cell_type": "markdown",
   "metadata": {
    "collapsed": false
   },
   "source": [
    "<img src=\"./diagrams/gc-lab-18-partial-solutions-09-2of2.png\" width=\"60%\" height=\"60%\">"
   ]
  }
 ],
 "metadata": {
  "kernelspec": {
   "display_name": "SageMath 9.2",
   "language": "sagemath",
   "metadata": {
    "cocalc": {
     "description": "Open-source mathematical software system",
     "priority": 1,
     "url": "https://www.sagemath.org/"
    }
   },
   "name": "sage-9.2",
   "resource_dir": "/ext/jupyter/kernels/sage-9.2"
  },
  "language_info": {
   "codemirror_mode": {
    "name": "ipython",
    "version": 3
   },
   "file_extension": ".py",
   "mimetype": "text/x-python",
   "name": "python",
   "nbconvert_exporter": "python",
   "pygments_lexer": "ipython3",
   "version": "3.8.10"
  }
 },
 "nbformat": 4,
 "nbformat_minor": 4
}