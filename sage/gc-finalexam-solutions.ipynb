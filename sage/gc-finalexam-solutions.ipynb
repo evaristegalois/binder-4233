{
 "cells": [
  {
   "cell_type": "markdown",
   "metadata": {
    "collapsed": false
   },
   "source": [
    "<h3>Final Exam MATH 2511</h3>"
   ]
  },
  {
   "cell_type": "markdown",
   "metadata": {
    "collapsed": false
   },
   "source": [
    "<h4>Question 1</h4>"
   ]
  },
  {
   "cell_type": "markdown",
   "metadata": {
    "collapsed": false
   },
   "source": [
    "<span style=\"color:Tomato;\">1.58</span>"
   ]
  },
  {
   "cell_type": "markdown",
   "metadata": {
    "collapsed": false
   },
   "source": [
    "Use the ratio test to determine whether the following\n",
    "series converges or diverges.\n",
    "$$  \\sum_{n=4}^{\\infty}\\frac{7^{n}}{(2n)!}\\notag\n",
    "$$"
   ]
  },
  {
   "cell_type": "markdown",
   "metadata": {
    "collapsed": false
   },
   "source": [
    "$$\\frac{7^{n+1}(2n)!}{7^{n}(2n+2)!}=\\frac{7}{4n^{2}+6n+2}$$"
   ]
  },
  {
   "cell_type": "markdown",
   "metadata": {
    "collapsed": false
   },
   "source": [
    "Convergent."
   ]
  },
  {
   "cell_type": "markdown",
   "metadata": {
    "collapsed": false
   },
   "source": [
    "<h4>Question 2</h4>"
   ]
  },
  {
   "cell_type": "markdown",
   "metadata": {
    "collapsed": false
   },
   "source": [
    "<span style=\"color:Tomato;\">3.21</span>"
   ]
  },
  {
   "cell_type": "markdown",
   "metadata": {
    "collapsed": false
   },
   "source": [
    "(aseiweeb1 on desmos)"
   ]
  },
  {
   "cell_type": "markdown",
   "metadata": {
    "collapsed": false
   },
   "source": [
    "Evaluate\n",
    "$$  \\int_{0}^{\\frac{1}{3}}xe^{3x}\\,dx\\notag\n",
    "$$"
   ]
  },
  {
   "cell_type": "markdown",
   "metadata": {
    "collapsed": false
   },
   "source": [
    "$$\\int_{0}^{\\frac{1}{3}}xe^{3x}\\,dx=\\frac{x}{3}e^{3x}-\\frac{1}{3}\\int{}e^{3x}\\,dx=\\frac{1}{3}\\left(xe^{3x}-\\frac{1}{3}e^{3x}\\right)+C\\qquad\\mbox{ fill in boundaries for }\\int_{0}^{\\frac{1}{3}}xe^{3x}\\,dx=\\frac{1}{9}$$"
   ]
  },
  {
   "cell_type": "code",
   "execution_count": 1,
   "metadata": {
    "collapsed": false
   },
   "outputs": [
   ],
   "source": [
    "from sage.symbolic.integration.integral import definite_integral"
   ]
  },
  {
   "cell_type": "code",
   "execution_count": 2,
   "metadata": {
    "collapsed": false
   },
   "outputs": [
    {
     "data": {
      "text/plain": [
       "1/9"
      ]
     },
     "execution_count": 2,
     "metadata": {
     },
     "output_type": "execute_result"
    }
   ],
   "source": [
    "definite_integral(x*exp(3*x),x,0,1/3)"
   ]
  },
  {
   "cell_type": "markdown",
   "metadata": {
    "collapsed": false
   },
   "source": [
    "<h4>Question 3</h4>"
   ]
  },
  {
   "cell_type": "markdown",
   "metadata": {
    "collapsed": false
   },
   "source": [
    "<span style=\"color:Tomato;\">1.08</span>"
   ]
  },
  {
   "cell_type": "markdown",
   "metadata": {
    "collapsed": false
   },
   "source": [
    "(aseiweeb3 on desmos)"
   ]
  },
  {
   "cell_type": "markdown",
   "metadata": {
    "collapsed": false
   },
   "source": [
    "A fence $5$ feet tall runs parallel to a tall building at\n",
    "a distance of $2$ feet from the building. What is the length\n",
    "of the shortest ladder that will reach from the ground over the fence\n",
    "to the wall of the building? Setting up the equation to solve will\n",
    "give you 80% credit for this question. Solving it and giving a full\n",
    "sentence answer gives you the remaining 20%."
   ]
  },
  {
   "cell_type": "markdown",
   "metadata": {
    "collapsed": false
   },
   "source": [
    "$$f(y)=x+y=\\frac{5y}{\\sqrt{y^{2}-4}}+y$$"
   ]
  },
  {
   "cell_type": "markdown",
   "metadata": {
    "collapsed": false
   },
   "source": [
    "$$f'(y)=\\frac{5\\sqrt{y^{2}-4}-\\frac{5y^{2}}{\\sqrt{y^{2}-4}}}{y^{2}-4}+1\\Longrightarrow{}y=\\pm\\sqrt{20^{\\frac{2}{3}}+4}$$"
   ]
  },
  {
   "cell_type": "code",
   "execution_count": 4,
   "metadata": {
    "collapsed": false
   },
   "outputs": [
    {
     "name": "stdout",
     "output_type": "stream",
     "text": [
      "3.37165582426213\n"
     ]
    }
   ],
   "source": [
    "y=sqrt(20^(2/3)+4);print(n(y))"
   ]
  },
  {
   "cell_type": "code",
   "execution_count": 5,
   "metadata": {
    "collapsed": false
   },
   "outputs": [
   ],
   "source": [
    "xpy=((5*y)/sqrt(y^2-4))+y"
   ]
  },
  {
   "cell_type": "code",
   "execution_count": 6,
   "metadata": {
    "collapsed": false
   },
   "outputs": [
    {
     "data": {
      "text/plain": [
       "9.58229895384014"
      ]
     },
     "execution_count": 6,
     "metadata": {
     },
     "output_type": "execute_result"
    }
   ],
   "source": [
    "n(xpy)"
   ]
  },
  {
   "cell_type": "markdown",
   "metadata": {
    "collapsed": false
   },
   "source": [
    "<h4>Question 4</h4>"
   ]
  },
  {
   "cell_type": "markdown",
   "metadata": {
    "collapsed": false
   },
   "source": [
    "<span style=\"color:Tomato;\">3.00</span>"
   ]
  },
  {
   "cell_type": "markdown",
   "metadata": {
    "collapsed": false
   },
   "source": [
    "Nobody figured out that you can pull the square root out of the logarithm."
   ]
  },
  {
   "cell_type": "markdown",
   "metadata": {
    "collapsed": false
   },
   "source": [
    "Find $f'(x)$ for\n",
    "$$  f(x)=\\ln\\sqrt{\\frac{6x-2}{3x+8}}\\notag\n",
    "$$"
   ]
  },
  {
   "cell_type": "code",
   "execution_count": 7,
   "metadata": {
    "collapsed": false
   },
   "outputs": [
    {
     "data": {
      "text/plain": [
       "3/2*(3*x + 8)*(1/(3*x + 8) - (3*x - 1)/(3*x + 8)^2)/(3*x - 1)"
      ]
     },
     "execution_count": 7,
     "metadata": {
     },
     "output_type": "execute_result"
    }
   ],
   "source": [
    "diff(log(sqrt((6*x-2)/(3*x+8))),x)"
   ]
  },
  {
   "cell_type": "markdown",
   "metadata": {
    "collapsed": false
   },
   "source": [
    "$$f'(x)=\\frac{27}{(6x-2)(3x+8)}$$"
   ]
  },
  {
   "cell_type": "code",
   "execution_count": 17,
   "metadata": {
    "collapsed": false
   },
   "outputs": [
   ],
   "source": [
    "p4(x)=(6*x-2)*(3*x+8)"
   ]
  },
  {
   "cell_type": "code",
   "execution_count": 18,
   "metadata": {
    "collapsed": false
   },
   "outputs": [
    {
     "data": {
      "text/plain": [
       "x |--> 18*x^2 + 42*x - 16"
      ]
     },
     "execution_count": 18,
     "metadata": {
     },
     "output_type": "execute_result"
    }
   ],
   "source": [
    "p4.expand()"
   ]
  },
  {
   "cell_type": "markdown",
   "metadata": {
    "collapsed": false
   },
   "source": [
    "<h4>Question 5</h4>"
   ]
  },
  {
   "cell_type": "markdown",
   "metadata": {
    "collapsed": false
   },
   "source": [
    "<span style=\"color:Tomato;\">1.46</span>"
   ]
  },
  {
   "cell_type": "markdown",
   "metadata": {
    "collapsed": false
   },
   "source": [
    "(aseiweeb5 on desmos)"
   ]
  },
  {
   "cell_type": "markdown",
   "metadata": {
    "collapsed": false
   },
   "source": [
    "Find the radius of curvature (the distance between $P$ and\n",
    "$Q$ in the diagram) for the cardioid\n",
    "$((1-\\cos{}t)\\cos{}t,(1-\\cos{}t)\\sin{}t)$ at $t=\\frac{\\pi}{2}$."
   ]
  },
  {
   "cell_type": "markdown",
   "metadata": {
    "collapsed": false
   },
   "source": [
    "$$\\kappa=\\|R''(s)\\|=\\frac{|x'y''-y'x''|}{\\left((x')^{2}+(y')^{2}\\right)^{\\frac{3}{2}}}$$"
   ]
  },
  {
   "cell_type": "markdown",
   "metadata": {
    "collapsed": false
   },
   "source": [
    "$$x'(t)=\\sin{}t(2\\cos{}t-1)\\qquad{}y'(t)=\\cos{}t+\\sin^{2}t-\\cos^{2}t$$"
   ]
  },
  {
   "cell_type": "markdown",
   "metadata": {
    "collapsed": false
   },
   "source": [
    "$$x''(t)=-\\cos{}t-2\\sin^{2}t+2\\cos^{2}t\\qquad{}y''(t)=-\\sin{}t+4\\sin{}t\\cos{}t$$"
   ]
  },
  {
   "cell_type": "markdown",
   "metadata": {
    "collapsed": false
   },
   "source": [
    "$$\\kappa=\\frac{3}{\\sqrt{8}}\\qquad\\rho=\\frac{\\sqrt{8}}{3}$$"
   ]
  },
  {
   "cell_type": "code",
   "execution_count": 8,
   "metadata": {
    "collapsed": false
   },
   "outputs": [
    {
     "data": {
      "text/plain": [
       "0.942809041582063"
      ]
     },
     "execution_count": 8,
     "metadata": {
     },
     "output_type": "execute_result"
    }
   ],
   "source": [
    "n(sqrt(8)/3)"
   ]
  },
  {
   "cell_type": "markdown",
   "metadata": {
    "collapsed": false
   },
   "source": [
    "<h4>Question 6</h4>"
   ]
  },
  {
   "cell_type": "markdown",
   "metadata": {
    "collapsed": false
   },
   "source": [
    "<span style=\"color:Tomato;\">3.63</span>"
   ]
  },
  {
   "cell_type": "markdown",
   "metadata": {
    "collapsed": false
   },
   "source": [
    "Differentiate the following functions:\n",
    "$$\\mbox{(i) }f(x)=\\frac{1}{e^{x\\sin{}x}}\\notag\n",
    "$$\n",
    "$$\\mbox{(ii) }h(s)=\\tan(\\sqrt{s})\\notag\n",
    "$$"
   ]
  },
  {
   "cell_type": "markdown",
   "metadata": {
    "collapsed": false
   },
   "source": [
    "$$f'(x)=-\\frac{\\sin{}x+x\\cos{}x}{e^{x\\sin{}x}}$$"
   ]
  },
  {
   "cell_type": "markdown",
   "metadata": {
    "collapsed": false
   },
   "source": [
    "$$h'(s)=\\frac{\\sec^{2}\\left(\\sqrt{s}\\right)}{2\\sqrt{s}}$$"
   ]
  },
  {
   "cell_type": "markdown",
   "metadata": {
    "collapsed": false
   },
   "source": [
    "<h4>Question 7</h4>"
   ]
  },
  {
   "cell_type": "markdown",
   "metadata": {
    "collapsed": false
   },
   "source": [
    "<span style=\"color:Tomato;\">3.58</span>"
   ]
  },
  {
   "cell_type": "markdown",
   "metadata": {
    "collapsed": false
   },
   "source": [
    "Find $\\frac{\\partial{}f}{\\partial{}x}$ and\n",
    "$\\frac{\\partial^{2}f}{\\partial{}y\\partial{}x}$ for\n",
    "$$  f(x)=\\frac{3x-y}{3x+y}\\notag\n",
    "$$"
   ]
  },
  {
   "cell_type": "markdown",
   "metadata": {
    "collapsed": false
   },
   "source": [
    "$$\\frac{\\partial{}f}{\\partial{}x}=\\frac{6y}{(3x+y)^{2}}\\qquad\\frac{\\partial^{2}f}{\\partial{}y\\partial{}x}=\\frac{6(3x-y)}{(3x+y)^{3}}$$"
   ]
  },
  {
   "cell_type": "markdown",
   "metadata": {
    "collapsed": false
   },
   "source": [
    "Also OK,$$\\frac{\\partial^{2}f}{\\partial{}y\\partial{}x}=\\frac{54x^{2}-6y^{2}}{(3x+y)^{4}}$$"
   ]
  },
  {
   "cell_type": "code",
   "execution_count": 6,
   "metadata": {
    "collapsed": false
   },
   "outputs": [
   ],
   "source": [
    "y=var('y')"
   ]
  },
  {
   "cell_type": "code",
   "execution_count": 9,
   "metadata": {
    "collapsed": false
   },
   "outputs": [
   ],
   "source": [
    "fp(y)=(6*y)/(3*x+y)^2"
   ]
  },
  {
   "cell_type": "code",
   "execution_count": 13,
   "metadata": {
    "collapsed": false
   },
   "outputs": [
    {
     "data": {
      "text/plain": [
       "6/(3*x + y)^2 - 12*y/(3*x + y)^3"
      ]
     },
     "execution_count": 13,
     "metadata": {
     },
     "output_type": "execute_result"
    }
   ],
   "source": [
    "diff(fp(y),y)"
   ]
  },
  {
   "cell_type": "code",
   "execution_count": 14,
   "metadata": {
    "collapsed": false
   },
   "outputs": [
    {
     "data": {
      "text/plain": [
       "\\frac{6}{{\\left(3 \\, x + y\\right)}^{2}} - \\frac{12 \\, y}{{\\left(3 \\, x + y\\right)}^{3}}"
      ]
     },
     "execution_count": 14,
     "metadata": {
     },
     "output_type": "execute_result"
    }
   ],
   "source": [
    "latex(diff(fp(y),y))"
   ]
  },
  {
   "cell_type": "markdown",
   "metadata": {
    "collapsed": false
   },
   "source": [
    "$$\\frac{6}{{\\left(3 \\, x + y\\right)}^{2}} - \\frac{12 \\, y}{{\\left(3 \\, x + y\\right)}^{3}}$$"
   ]
  },
  {
   "cell_type": "markdown",
   "metadata": {
    "collapsed": false
   },
   "source": [
    "Result confirmed."
   ]
  },
  {
   "cell_type": "code",
   "execution_count": 25,
   "metadata": {
    "collapsed": false
   },
   "outputs": [
   ],
   "source": [
    "p7(x,y)=6*(3*x+y)-12*y"
   ]
  },
  {
   "cell_type": "code",
   "execution_count": 16,
   "metadata": {
    "collapsed": false
   },
   "outputs": [
    {
     "data": {
      "text/plain": [
       "(x, y) |--> 18*x - 6*y"
      ]
     },
     "execution_count": 16,
     "metadata": {
     },
     "output_type": "execute_result"
    }
   ],
   "source": [
    "p7.expand()"
   ]
  },
  {
   "cell_type": "markdown",
   "metadata": {
    "collapsed": false
   },
   "source": [
    "<h4>Question 8</h4>"
   ]
  },
  {
   "cell_type": "markdown",
   "metadata": {
    "collapsed": false
   },
   "source": [
    "<span style=\"color:Tomato;\">2.29</span>"
   ]
  },
  {
   "cell_type": "markdown",
   "metadata": {
    "collapsed": false
   },
   "source": [
    "(aseiweeb4 on desmos)"
   ]
  },
  {
   "cell_type": "markdown",
   "metadata": {
    "collapsed": false
   },
   "source": [
    "Find the volume of the solid obtained by rotating the region enclosed by\n",
    "$$  y=18x-6x^{2}\\mbox{ and }y=0\\notag\n",
    "$$\n",
    "about the $y$-axis using the method of cylindrical shells. \n"
   ]
  },
  {
   "cell_type": "markdown",
   "metadata": {
    "collapsed": false
   },
   "source": [
    "$$V=2\\pi\\int_{0}^{3}x(18x-6x^{2})\\,dx=12\\pi\\left[x^{3}-\\frac{x^{4}}{4}\\right]_{0}^{3}=81\\pi$$"
   ]
  },
  {
   "cell_type": "code",
   "execution_count": 9,
   "metadata": {
    "collapsed": false
   },
   "outputs": [
    {
     "data": {
      "text/plain": [
       "254.469004940773"
      ]
     },
     "execution_count": 9,
     "metadata": {
     },
     "output_type": "execute_result"
    }
   ],
   "source": [
    "n(81*pi)"
   ]
  },
  {
   "cell_type": "markdown",
   "metadata": {
    "collapsed": false
   },
   "source": [
    "<h4>Question 9</h4>"
   ]
  },
  {
   "cell_type": "markdown",
   "metadata": {
    "collapsed": false
   },
   "source": [
    "<span style=\"color:Tomato;\">2.75</span>"
   ]
  },
  {
   "cell_type": "markdown",
   "metadata": {
    "collapsed": false
   },
   "source": [
    "(aseiweeb2 on desmos)"
   ]
  },
  {
   "cell_type": "markdown",
   "metadata": {
    "collapsed": false
   },
   "source": [
    "Consider the function\n",
    "$$  g(t)=\\frac{3}{2t-1}\\notag\n",
    "$$\n",
    "(i) Find the best linear approximation at $t=4$ (in other words, find the\n",
    "tangent line at $t=4$). (ii) Find the best quadratic approximation at\n",
    "$t=4$ using Taylor polynomials."
   ]
  },
  {
   "cell_type": "markdown",
   "metadata": {
    "collapsed": false
   },
   "source": [
    "$$g'(t)=-\\frac{6}{(2t-1)^{2}}\\qquad{}g(4)=\\frac{3}{7}\\qquad{}g'(4)=-\\frac{6}{49}\\qquad{}y=-\\frac{6}{49}x+\\frac{45}{49}$$"
   ]
  },
  {
   "cell_type": "markdown",
   "metadata": {
    "collapsed": false
   },
   "source": [
    "$$g''(t)=\\frac{12}{(2t-1)^{3}}\\qquad{}g''(4)=\\frac{12}{343}\\qquad{}g(t)\\approx\\frac{3}{7}-\\frac{6}{49}(t-4)+\\frac{6}{343}(t-4)^{2}$$"
   ]
  },
  {
   "cell_type": "code",
   "execution_count": 10,
   "metadata": {
    "collapsed": false
   },
   "outputs": [
   ],
   "source": [
    "f(x)=(3/7)-(6/49)*(x-4)+(12/343)*(x-4)^2"
   ]
  },
  {
   "cell_type": "code",
   "execution_count": 11,
   "metadata": {
    "collapsed": false
   },
   "outputs": [
    {
     "data": {
      "text/plain": [
       "x |--> 12/343*x^2 - 138/343*x + 507/343"
      ]
     },
     "execution_count": 11,
     "metadata": {
     },
     "output_type": "execute_result"
    }
   ],
   "source": [
    "f.expand()"
   ]
  }
 ],
 "metadata": {
  "kernelspec": {
   "display_name": "SageMath 9.3",
   "language": "sagemath",
   "metadata": {
    "cocalc": {
     "description": "Open-source mathematical software system",
     "priority": 1,
     "url": "https://www.sagemath.org/"
    }
   },
   "name": "sage-9.3",
   "resource_dir": "/ext/jupyter/kernels/sage-9.3"
  },
  "language_info": {
   "codemirror_mode": {
    "name": "ipython",
    "version": 2
   },
   "file_extension": ".py",
   "mimetype": "text/x-python",
   "name": "python",
   "nbconvert_exporter": "python",
   "pygments_lexer": "ipython2",
   "version": "2.7.14"
  }
 },
 "nbformat": 4,
 "nbformat_minor": 4
}