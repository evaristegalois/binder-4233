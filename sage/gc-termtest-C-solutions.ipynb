{
 "cells": [
  {
   "cell_type": "markdown",
   "metadata": {
    "collapsed": false
   },
   "source": [
    "<h3>\n",
    "    Term Test C Version 1\n",
    "</h3>"
   ]
  },
  {
   "cell_type": "markdown",
   "metadata": {
    "collapsed": false
   },
   "source": [
    "<h4>\n",
    "    Question 1\n",
    "</h4>"
   ]
  },
  {
   "cell_type": "markdown",
   "metadata": {
    "collapsed": false
   },
   "source": [
    "Warfarin is an anticoagulant that prevents blood clotting;\n",
    "often it is prescribed to stroke victims in order to help ensure blood\n",
    "flow. The level of warfarin has to reach a certain concentration in\n",
    "the blood in order to be effective. Suppose warfarin is taken by a\n",
    "particular patient in a 7 mg dose each day. The drug is absorbed by\n",
    "the body and some is excreted from the system between doses. Assume\n",
    "that at the end of a 24 hour period, 6\\% of the drug remains in the\n",
    "body. Let $Q(n)$ be the amount (in mg) of warfarin in the body before\n",
    "the $n+1$-st dose of the drug is administered.\n",
    "$$\n",
    "  Q(1)=7\\left(\\frac{6}{100}\\right)\\notag\n",
    "$$\n",
    "$$\n",
    "   Q(2)=7\\left(\\frac{6}{100}\\right)\\left(1+\\frac{6}{100}\\right)\\notag\n",
    "$$\n",
    "$$\n",
    "  Q(3)=7\\left(\\frac{6}{100}\\right)\\left(1+\\frac{6}{100}+\\left(\\frac{6}{100}\\right)^{2}\\right)\\notag\n",
    "$$\n",
    "$$\n",
    "  Q(4)=7\\left(\\frac{6}{100}\\right)\\left(1+\\frac{6}{100}+\\left(\\frac{6}{100}\\right)^{2}+\\left(\\frac{6}{100}\\right)^{3}\\right)\\notag\n",
    "$$\n",
    "Based on the data, estimate the long term amount of warfarin in the\n",
    "body. In other words, find $\\lim_{n\\rightarrow\\infty}Q(n)$."
   ]
  },
  {
   "cell_type": "markdown",
   "metadata": {
    "collapsed": false
   },
   "source": [
    "$a=\\frac{42}{100},r=\\frac{6}{100}$, therefore $$\\sum_{n=1}^{\\infty}ar^{n-1}=\\frac{a}{1-r}=\\frac{42}{94}$$"
   ]
  },
  {
   "cell_type": "code",
   "execution_count": 1,
   "metadata": {
    "collapsed": false
   },
   "outputs": [
    {
     "data": {
      "text/plain": [
       "0.446808510638298"
      ]
     },
     "execution_count": 1,
     "metadata": {
     },
     "output_type": "execute_result"
    }
   ],
   "source": [
    "n(42/94)"
   ]
  },
  {
   "cell_type": "markdown",
   "metadata": {
    "collapsed": false
   },
   "source": [
    "<h4>\n",
    "    Question 2\n",
    "</h4>"
   ]
  },
  {
   "cell_type": "markdown",
   "metadata": {
    "collapsed": false
   },
   "source": [
    "A rational function\n",
    "$$\n",
    "  Q(x)=\\frac{a_{n}x^{n}+{\\ldots}+a_{1}x+a_{0}}{b_{m}x^{m}+{\\ldots}+b_{1}x+b_{0}}\\notag\n",
    "$$\n",
    "with $a_{n}\\neq{}0\\neq{}b_{m}$ diverges if $n>m$; converges to zero if\n",
    "$m>n$; and converges to $a_{n}/b_{m}$ if $n=m$ as\n",
    "$x\\rightarrow\\infty$. Use this and the ratio test to determine if\n",
    "$$\n",
    "  \\sum_{n=1}^{\\infty}\\frac{(n-1)!}{n^{5}}\\notag\n",
    "$$\n",
    "converges or diverges. It is not sufficient to state whether the series converges or not.\n",
    "You must justify your conclusion."
   ]
  },
  {
   "cell_type": "markdown",
   "metadata": {
    "collapsed": false
   },
   "source": [
    "$$\\frac{\\frac{n!}{(n+1)^{5}}}{\\frac{(n-1)!}{n^{5}}}=\\frac{n^{6}}{(n+1)^{5}}\\rightarrow{}\\infty$$"
   ]
  },
  {
   "cell_type": "markdown",
   "metadata": {
    "collapsed": false
   },
   "source": [
    "By the ratio test, the series diverges."
   ]
  },
  {
   "cell_type": "markdown",
   "metadata": {
    "collapsed": false
   },
   "source": [
    "<h4>\n",
    "    Question 3\n",
    "</h4>"
   ]
  },
  {
   "cell_type": "markdown",
   "metadata": {
    "collapsed": false
   },
   "source": [
    "You may want to use the difference of squares formula ($a^{2}-b^{2}=(a-b)(a+b)$) to\n",
    "solve the integral\n",
    "$$\n",
    "  \\int\\frac{3x-1}{x^{2}-1}\\,dx\\notag\n",
    "$$"
   ]
  },
  {
   "cell_type": "markdown",
   "metadata": {
    "collapsed": false
   },
   "source": [
    "$$\\frac{3x-1}{x^{2}-1}=\\frac{1}{x-1}+\\frac{2}{x+1}$$"
   ]
  },
  {
   "cell_type": "markdown",
   "metadata": {
    "collapsed": false
   },
   "source": [
    "$$\n",
    "  \\int\\frac{3x-1}{x^{2}-1}\\,dx=\\ln|x-1|+\\ln(x+1)^{2}+C\n",
    "$$"
   ]
  },
  {
   "cell_type": "markdown",
   "metadata": {
    "collapsed": false
   },
   "source": [
    "<h4>\n",
    "    Question 4\n",
    "</h4>"
   ]
  },
  {
   "cell_type": "markdown",
   "metadata": {
    "collapsed": false
   },
   "source": [
    "You know that $f'(x)=3xe^{x^{2}}$ and $f(0)=-8$. Find $f(x)$."
   ]
  },
  {
   "cell_type": "markdown",
   "metadata": {
    "collapsed": false
   },
   "source": [
    "$$\\int3xe^{x^{2}}\\,dx=\\frac{3}{2}e^{x^{2}}+C$$"
   ]
  },
  {
   "cell_type": "markdown",
   "metadata": {
    "collapsed": false
   },
   "source": [
    "$$C=-8-\\frac{3}{2}=-\\frac{19}{2}$$"
   ]
  },
  {
   "cell_type": "markdown",
   "metadata": {
    "collapsed": false
   },
   "source": [
    "$$f(x)=\\frac{3}{2}e^{x^{2}}-\\frac{19}{2}$$"
   ]
  },
  {
   "cell_type": "markdown",
   "metadata": {
    "collapsed": false
   },
   "source": [
    "<h4>\n",
    "    Question 5\n",
    "</h4>"
   ]
  },
  {
   "cell_type": "markdown",
   "metadata": {
    "collapsed": false
   },
   "source": [
    "For this problem, you may want to use the identity\n",
    "$$  \\cos^{2}\\theta=\\frac{1}{2}+\\frac{1}{2}\\cos{}2\\theta\\notag\n",
    "$$\n",
    "but it is not necessary to do so. Evaluate\n",
    "$$\n",
    "  \\int_{-\\frac{1}{2}}^{\\frac{\\pi-2}{4}}\\cos^{2}\\left(2x+1\\right)\\,dx\\notag\n",
    "$$"
   ]
  },
  {
   "cell_type": "markdown",
   "metadata": {
    "collapsed": false
   },
   "source": [
    "$$\\int\\cos^{2}(2x+1)\\,dx=\\frac{1}{2}\\int\\left(\\frac{1}{2}+\\frac{1}{2}\\cos{}2u\\right)\\,du=\\frac{1}{4}u+\\frac{1}{8}\\sin{}2u=\\frac{2x+1}{4}+\\frac{\\sin(4x+2)}{8}$$"
   ]
  },
  {
   "cell_type": "markdown",
   "metadata": {
    "collapsed": false
   },
   "source": [
    "$$\n",
    "\\left[\\frac{2x+1}{4}+\\frac{\\sin(4x+2)}{8}\\right]_{-\\frac{1}{2}}^{\\frac{\\pi-2}{4}}=\\frac{\\pi}{8}\n",
    "$$"
   ]
  },
  {
   "cell_type": "code",
   "execution_count": 1,
   "metadata": {
    "collapsed": false
   },
   "outputs": [
    {
     "data": {
      "text/plain": [
       "0.392699081698724"
      ]
     },
     "execution_count": 1,
     "metadata": {
     },
     "output_type": "execute_result"
    }
   ],
   "source": [
    "n(pi/8)"
   ]
  },
  {
   "cell_type": "markdown",
   "metadata": {
    "collapsed": false
   },
   "source": [
    "<h4>\n",
    "    Question 6\n",
    "</h4>"
   ]
  },
  {
   "cell_type": "markdown",
   "metadata": {
    "collapsed": false
   },
   "source": [
    "For the following integral, you may need the following:\n",
    "$$\n",
    "  \\tan^{2}\\theta+1=\\sec^{2}\\theta\\notag\n",
    "$$\n",
    "$$\n",
    "  \\frac{d}{d\\theta}\\tan\\theta=\\sec^{2}\\theta\\notag\n",
    "$$\n",
    "Use the substitution $\\sqrt{2}\\sec{}u=x$ to evaluate\n",
    "$$  \\int_{\\sqrt{2}}^{2}\\frac{\\sqrt{2x^{2}-4}}{6x}\\,dx\\notag\n",
    "$$"
   ]
  },
  {
   "cell_type": "markdown",
   "metadata": {
    "collapsed": false
   },
   "source": [
    "$$\n",
    "\\int\\frac{\\sqrt{2x^{2}-4}}{6x}\\,dx=\\int\\frac{\\sqrt{2}\\sqrt{2}\\sqrt{\\sec^{2}u-1}}{6\\sqrt{2}\\sec{}{u}}\\sqrt{2}\\sec{}u\\tan{}u\\,du=\\frac{1}{3}\\int\\tan^{2}u\\,du=\\frac{1}{3}\\int(\\sec^{2}u-1)\\,du=\\frac{1}{3}(\\tan{}u-u)\n",
    "$$"
   ]
  },
  {
   "cell_type": "markdown",
   "metadata": {
    "collapsed": false
   },
   "source": [
    "Because $\\sec{}u=\\frac{x}{\\sqrt{2}}$, it follows by the reference triangle that $\\tan{}u=\\sqrt{\\frac{x^{2}-2}{2}}$. Therefore,"
   ]
  },
  {
   "cell_type": "markdown",
   "metadata": {
    "collapsed": false
   },
   "source": [
    "$$\n",
    "\\int_{\\sqrt{2}}^{2}\\frac{\\sqrt{2x^{2}-4}}{6x}\\,dx=\\frac{1}{3}\\left(\\left(1-\\sec^{-1}(\\sqrt{2})\\right)-\\left(0-\\sec^{-1}(1)\\right)\\right)=\\frac{4-\\pi}{12}\n",
    "$$"
   ]
  },
  {
   "cell_type": "code",
   "execution_count": 2,
   "metadata": {
    "collapsed": false
   },
   "outputs": [
    {
     "data": {
      "text/plain": [
       "0.0715339455341839"
      ]
     },
     "execution_count": 2,
     "metadata": {
     },
     "output_type": "execute_result"
    }
   ],
   "source": [
    "n((4-pi)/12)"
   ]
  },
  {
   "cell_type": "markdown",
   "metadata": {
    "collapsed": false
   },
   "source": [
    "<h4>\n",
    "    Question 7\n",
    "</h4>"
   ]
  },
  {
   "cell_type": "markdown",
   "metadata": {
    "collapsed": false
   },
   "source": [
    "Note that the following integral may not exist (if this is\n",
    "true you must justify your answer). Evaluate\n",
    "$$\n",
    "  \\int_{-\\infty}^{6}\\frac{1}{x^{2}+4}\\,dx\\notag\n",
    "$$\n",
    "Use the substitution $2u=x$ and note that\n",
    "$$\n",
    "  \\frac{d}{dt}\\arctan{}t=\\frac{1}{t^{2}+1}\\notag\n",
    "$$"
   ]
  },
  {
   "cell_type": "markdown",
   "metadata": {
    "collapsed": false
   },
   "source": [
    "$$\n",
    "\\int_{-\\infty}^{6}\\frac{1}{x^{2}+4}=\\left[\\frac{1}{2}\\arctan\\frac{x}{2}\\right]_{-\\infty}^{6}=\\frac{1}{2}\\arctan{}3+\\frac{\\pi}{4}\n",
    "$$"
   ]
  },
  {
   "cell_type": "code",
   "execution_count": 3,
   "metadata": {
    "collapsed": false
   },
   "outputs": [
    {
     "data": {
      "text/plain": [
       "1.40992104959658"
      ]
     },
     "execution_count": 3,
     "metadata": {
     },
     "output_type": "execute_result"
    }
   ],
   "source": [
    "n(.5*arctan(3)+(pi/4))"
   ]
  },
  {
   "cell_type": "markdown",
   "metadata": {
    "collapsed": false
   },
   "source": [
    "<h4>\n",
    "    Question 8\n",
    "</h4>"
   ]
  },
  {
   "cell_type": "markdown",
   "metadata": {
    "collapsed": false
   },
   "source": [
    "Use cylindrical shells to find the volume of the solid\n",
    "that results when the shaded region is revolved about the $y$-axis.\n",
    "The following curves are the boundaries of the region:\n",
    "$$  y=x^{2}\\qquad{}x=2\\qquad{}x=3\\qquad{}y=0\\notag\n",
    "$$"
   ]
  },
  {
   "cell_type": "markdown",
   "metadata": {
    "collapsed": false
   },
   "source": [
    "<img src=\"./diagrams/iawazahf.png\" width=\"30%\" height=\"30%\">"
   ]
  },
  {
   "cell_type": "markdown",
   "metadata": {
    "collapsed": false
   },
   "source": [
    "$$\n",
    "V=2\\pi\\int{}xf(x)\\,dx\n",
    "$$"
   ]
  },
  {
   "cell_type": "markdown",
   "metadata": {
    "collapsed": false
   },
   "source": [
    "$$\n",
    "V=2\\pi\\int_{2}^{3}x^{3}\\,dx=2\\pi\\left[\\frac{x^{4}}{4}\\right]_{2}^{3}=\\frac{65}{2}\\pi\n",
    "$$"
   ]
  },
  {
   "cell_type": "code",
   "execution_count": 4,
   "metadata": {
    "collapsed": false
   },
   "outputs": [
    {
     "data": {
      "text/plain": [
       "102.101761241668"
      ]
     },
     "execution_count": 4,
     "metadata": {
     },
     "output_type": "execute_result"
    }
   ],
   "source": [
    "n((65/2)*pi)"
   ]
  },
  {
   "cell_type": "markdown",
   "metadata": {
    "collapsed": false
   },
   "source": [
    "<h3>\n",
    "    Term Test C Version 2\n",
    "</h3>"
   ]
  },
  {
   "cell_type": "markdown",
   "metadata": {
    "collapsed": false
   },
   "source": [
    "<h4>\n",
    "    Question 1\n",
    "</h4>"
   ]
  },
  {
   "cell_type": "markdown",
   "metadata": {
    "collapsed": false
   },
   "source": [
    "Note that the following integral may not exist (if this is\n",
    "true you must justify your answer). Evaluate\n",
    "$$\n",
    "  \\int_{-\\infty}^{6}\\frac{1}{x^{2}+4}\\,dx\\notag\n",
    "$$\n",
    "Use the substitution $2u=x$ and note that\n",
    "$$\n",
    "  \\frac{d}{dt}\\arctan{}t=\\frac{1}{t^{2}+1}\\notag\n",
    "$$"
   ]
  },
  {
   "cell_type": "markdown",
   "metadata": {
    "collapsed": false
   },
   "source": [
    "$$\n",
    "\\int_{-\\infty}^{6}\\frac{1}{x^{2}+4}=\\left[\\frac{1}{2}\\arctan\\frac{x}{2}\\right]_{-\\infty}^{6}=\\frac{1}{2}\\arctan{}3+\\frac{\\pi}{4}\n",
    "$$"
   ]
  },
  {
   "cell_type": "code",
   "execution_count": 3,
   "metadata": {
    "collapsed": false
   },
   "outputs": [
    {
     "data": {
      "text/plain": [
       "1.40992104959658"
      ]
     },
     "execution_count": 3,
     "metadata": {
     },
     "output_type": "execute_result"
    }
   ],
   "source": [
    "n(.5*arctan(3)+(pi/4))"
   ]
  },
  {
   "cell_type": "markdown",
   "metadata": {
    "collapsed": false
   },
   "source": [
    "<h4>\n",
    "    Question 2\n",
    "</h4>"
   ]
  },
  {
   "cell_type": "markdown",
   "metadata": {
    "collapsed": false
   },
   "source": [
    "You may want to use the difference of squares formula ($a^{2}-b^{2}=(a-b)(a+b)$) to\n",
    "solve the integral\n",
    "$$\n",
    "  \\int\\frac{3x-1}{x^{2}-1}\\,dx\\notag\n",
    "$$"
   ]
  },
  {
   "cell_type": "markdown",
   "metadata": {
    "collapsed": false
   },
   "source": [
    "$$\\frac{3x-1}{x^{2}-1}=\\frac{1}{x-1}+\\frac{2}{x+1}$$"
   ]
  },
  {
   "cell_type": "markdown",
   "metadata": {
    "collapsed": false
   },
   "source": [
    "$$\n",
    "  \\int\\frac{3x-1}{x^{2}-1}\\,dx=\\ln|x-1|+\\ln(x+1)^{2}+C\n",
    "$$"
   ]
  },
  {
   "cell_type": "markdown",
   "metadata": {
    "collapsed": false
   },
   "source": [
    "<h4>\n",
    "    Question 3\n",
    "</h4>"
   ]
  },
  {
   "cell_type": "markdown",
   "metadata": {
    "collapsed": false
   },
   "source": [
    "A rational function\n",
    "$$\n",
    "  Q(x)=\\frac{a_{n}x^{n}+{\\ldots}+a_{1}x+a_{0}}{b_{m}x^{m}+{\\ldots}+b_{1}x+b_{0}}\\notag\n",
    "$$\n",
    "with $a_{n}\\neq{}0\\neq{}b_{m}$ diverges if $n>m$; converges to zero if\n",
    "$m>n$; and converges to $a_{n}/b_{m}$ if $n=m$ as\n",
    "$x\\rightarrow\\infty$. Use this and the ratio test to determine if\n",
    "$$\n",
    "  \\sum_{n=1}^{\\infty}\\frac{(n-1)!}{n^{5}}\\notag\n",
    "$$\n",
    "converges or diverges. It is not sufficient to state whether the series converges or not.\n",
    "You must justify your conclusion."
   ]
  },
  {
   "cell_type": "markdown",
   "metadata": {
    "collapsed": false
   },
   "source": [
    "$$\\frac{\\frac{n!}{(n+1)^{5}}}{\\frac{(n-1)!}{n^{5}}}=\\frac{n^{6}}{(n+1)^{5}}\\rightarrow{}\\infty$$"
   ]
  },
  {
   "cell_type": "markdown",
   "metadata": {
    "collapsed": false
   },
   "source": [
    "By the ratio test, the series diverges."
   ]
  },
  {
   "cell_type": "markdown",
   "metadata": {
    "collapsed": false
   },
   "source": [
    "<h4>\n",
    "    Question 4\n",
    "</h4>"
   ]
  },
  {
   "cell_type": "markdown",
   "metadata": {
    "collapsed": false
   },
   "source": [
    "For this problem, you may want to use the identity\n",
    "$$  \\cos^{2}\\theta=\\frac{1}{2}+\\frac{1}{2}\\cos{}2\\theta\\notag\n",
    "$$\n",
    "but it is not necessary to do so. Evaluate\n",
    "$$\n",
    "  \\int_{-\\frac{1}{2}}^{\\frac{\\pi-2}{4}}\\cos^{2}\\left(2x+1\\right)\\,dx\\notag\n",
    "$$"
   ]
  },
  {
   "cell_type": "markdown",
   "metadata": {
    "collapsed": false
   },
   "source": [
    "$$\\int\\cos^{2}(2x+1)\\,dx=\\frac{1}{2}\\int\\left(\\frac{1}{2}+\\frac{1}{2}\\cos{}2u\\right)\\,du=\\frac{1}{4}u+\\frac{1}{8}\\sin{}2u=\\frac{2x+1}{4}+\\frac{\\sin(4x+2)}{8}$$"
   ]
  },
  {
   "cell_type": "markdown",
   "metadata": {
    "collapsed": false
   },
   "source": [
    "$$\n",
    "\\left[\\frac{2x+1}{4}+\\frac{\\sin(4x+2)}{8}\\right]_{-\\frac{1}{2}}^{\\frac{\\pi-2}{4}}=\\frac{\\pi}{8}\n",
    "$$"
   ]
  },
  {
   "cell_type": "code",
   "execution_count": 4,
   "metadata": {
    "collapsed": false
   },
   "outputs": [
    {
     "data": {
      "text/plain": [
       "0.392699081698724"
      ]
     },
     "execution_count": 4,
     "metadata": {
     },
     "output_type": "execute_result"
    }
   ],
   "source": [
    "n(pi/8)"
   ]
  },
  {
   "cell_type": "markdown",
   "metadata": {
    "collapsed": false
   },
   "source": [
    "<h4>\n",
    "    Question 5\n",
    "</h4>"
   ]
  },
  {
   "cell_type": "markdown",
   "metadata": {
    "collapsed": false
   },
   "source": [
    "You know that $f'(x)=3xe^{x^{2}}$ and $f(0)=-8$. Find $f(x)$."
   ]
  },
  {
   "cell_type": "markdown",
   "metadata": {
    "collapsed": false
   },
   "source": [
    "$$\\int3xe^{x^{2}}\\,dx=\\frac{3}{2}e^{x^{2}}+C$$"
   ]
  },
  {
   "cell_type": "markdown",
   "metadata": {
    "collapsed": false
   },
   "source": [
    "$$C=-8-\\frac{3}{2}=-\\frac{19}{2}$$"
   ]
  },
  {
   "cell_type": "markdown",
   "metadata": {
    "collapsed": false
   },
   "source": [
    "$$f(x)=\\frac{3}{2}e^{x^{2}}-\\frac{19}{2}$$"
   ]
  },
  {
   "cell_type": "markdown",
   "metadata": {
    "collapsed": false
   },
   "source": [
    "<h4>\n",
    "    Question 6\n",
    "</h4>"
   ]
  },
  {
   "cell_type": "markdown",
   "metadata": {
    "collapsed": false
   },
   "source": [
    "Warfarin is an anticoagulant that prevents blood clotting;\n",
    "often it is prescribed to stroke victims in order to help ensure blood\n",
    "flow. The level of warfarin has to reach a certain concentration in\n",
    "the blood in order to be effective. Suppose warfarin is taken by a\n",
    "particular patient in a 7 mg dose each day. The drug is absorbed by\n",
    "the body and some is excreted from the system between doses. Assume\n",
    "that at the end of a 24 hour period, 6\\% of the drug remains in the\n",
    "body. Let $Q(n)$ be the amount (in mg) of warfarin in the body before\n",
    "the $n+1$-st dose of the drug is administered.\n",
    "$$\n",
    "  Q(1)=7\\left(\\frac{6}{100}\\right)\\notag\n",
    "$$\n",
    "$$\n",
    "   Q(2)=7\\left(\\frac{6}{100}\\right)\\left(1+\\frac{6}{100}\\right)\\notag\n",
    "$$\n",
    "$$\n",
    "  Q(3)=7\\left(\\frac{6}{100}\\right)\\left(1+\\frac{6}{100}+\\left(\\frac{6}{100}\\right)^{2}\\right)\\notag\n",
    "$$\n",
    "$$\n",
    "  Q(4)=7\\left(\\frac{6}{100}\\right)\\left(1+\\frac{6}{100}+\\left(\\frac{6}{100}\\right)^{2}+\\left(\\frac{6}{100}\\right)^{3}\\right)\\notag\n",
    "$$\n",
    "Based on the data, estimate the long term amount of warfarin in the\n",
    "body. In other words, find $\\lim_{n\\rightarrow\\infty}Q(n)$."
   ]
  },
  {
   "cell_type": "markdown",
   "metadata": {
    "collapsed": false
   },
   "source": [
    "$a=\\frac{42}{100},r=\\frac{6}{100}$, therefore $$\\sum_{n=1}^{\\infty}ar^{n-1}=\\frac{a}{1-r}=\\frac{42}{94}$$"
   ]
  },
  {
   "cell_type": "code",
   "execution_count": 1,
   "metadata": {
    "collapsed": false
   },
   "outputs": [
    {
     "data": {
      "text/plain": [
       "0.446808510638298"
      ]
     },
     "execution_count": 1,
     "metadata": {
     },
     "output_type": "execute_result"
    }
   ],
   "source": [
    "n(42/94)"
   ]
  },
  {
   "cell_type": "markdown",
   "metadata": {
    "collapsed": false
   },
   "source": [
    "<h4>\n",
    "    Question 7\n",
    "</h4>"
   ]
  },
  {
   "cell_type": "markdown",
   "metadata": {
    "collapsed": false
   },
   "source": [
    "For the following integral, you may need the following:\n",
    "$$\n",
    "  \\tan^{2}\\theta+1=\\sec^{2}\\theta\\notag\n",
    "$$\n",
    "$$\n",
    "  \\frac{d}{d\\theta}\\tan\\theta=\\sec^{2}\\theta\\notag\n",
    "$$\n",
    "Use the substitution $\\sqrt{2}\\sec{}u=x$ to evaluate\n",
    "$$  \\int_{\\sqrt{2}}^{2}\\frac{\\sqrt{2x^{2}-4}}{6x}\\,dx\\notag\n",
    "$$"
   ]
  },
  {
   "cell_type": "markdown",
   "metadata": {
    "collapsed": false
   },
   "source": [
    "$$\n",
    "\\int\\frac{\\sqrt{2x^{2}-4}}{6x}\\,dx=\\int\\frac{\\sqrt{2}\\sqrt{2}\\sqrt{\\sec^{2}u-1}}{6\\sqrt{2}\\sec{}{u}}\\sqrt{2}\\sec{}u\\tan{}u\\,du=\\frac{1}{3}\\int\\tan^{2}u\\,du=\\frac{1}{3}\\int(\\sec^{2}u-1)\\,du=\\frac{1}{3}(\\tan{}u-u)\n",
    "$$"
   ]
  },
  {
   "cell_type": "markdown",
   "metadata": {
    "collapsed": false
   },
   "source": [
    "Because $\\sec{}u=\\frac{x}{\\sqrt{2}}$, it follows by the reference triangle that $\\tan{}u=\\sqrt{\\frac{x^{2}-2}{2}}$. Therefore,"
   ]
  },
  {
   "cell_type": "markdown",
   "metadata": {
    "collapsed": false
   },
   "source": [
    "$$\n",
    "\\int_{\\sqrt{2}}^{2}\\frac{\\sqrt{2x^{2}-4}}{6x}\\,dx=\\frac{1}{3}\\left(\\left(1-\\sec^{-1}(\\sqrt{2})\\right)-\\left(0-\\sec^{-1}(1)\\right)\\right)=\\frac{4-\\pi}{12}\n",
    "$$"
   ]
  },
  {
   "cell_type": "code",
   "execution_count": 2,
   "metadata": {
    "collapsed": false
   },
   "outputs": [
    {
     "data": {
      "text/plain": [
       "0.0715339455341839"
      ]
     },
     "execution_count": 2,
     "metadata": {
     },
     "output_type": "execute_result"
    }
   ],
   "source": [
    "n((4-pi)/12)"
   ]
  },
  {
   "cell_type": "markdown",
   "metadata": {
    "collapsed": false
   },
   "source": [
    "<h4>\n",
    "    Question 8\n",
    "</h4>"
   ]
  },
  {
   "cell_type": "markdown",
   "metadata": {
    "collapsed": false
   },
   "source": [
    "Use cylindrical shells to find the volume of the solid\n",
    "that results when the shaded region is revolved about the $y$-axis.\n",
    "The following curves are the boundaries of the region:\n",
    "$$  y=x^{2}\\qquad{}x=2\\qquad{}x=3\\qquad{}y=0\\notag\n",
    "$$"
   ]
  },
  {
   "cell_type": "markdown",
   "metadata": {
    "collapsed": false
   },
   "source": [
    "<img src=\"./diagrams/iawazahf.png\" width=\"30%\" height=\"30%\">"
   ]
  },
  {
   "cell_type": "markdown",
   "metadata": {
    "collapsed": false
   },
   "source": [
    "$$\n",
    "V=2\\pi\\int{}xf(x)\\,dx\n",
    "$$"
   ]
  },
  {
   "cell_type": "markdown",
   "metadata": {
    "collapsed": false
   },
   "source": [
    "$$\n",
    "V=2\\pi\\int_{2}^{3}x^{3}\\,dx=2\\pi\\left[\\frac{x^{4}}{4}\\right]_{2}^{3}=\\frac{65}{2}\\pi\n",
    "$$"
   ]
  },
  {
   "cell_type": "code",
   "execution_count": 4,
   "metadata": {
    "collapsed": false
   },
   "outputs": [
    {
     "data": {
      "text/plain": [
       "102.101761241668"
      ]
     },
     "execution_count": 4,
     "metadata": {
     },
     "output_type": "execute_result"
    }
   ],
   "source": [
    "n((65/2)*pi)"
   ]
  }
 ],
 "metadata": {
  "kernelspec": {
   "display_name": "SageMath 9.2",
   "language": "sagemath",
   "metadata": {
    "cocalc": {
     "description": "Open-source mathematical software system",
     "priority": 1,
     "url": "https://www.sagemath.org/"
    }
   },
   "name": "sage-9.2",
   "resource_dir": "/ext/jupyter/kernels/sage-9.2"
  },
  "language_info": {
   "codemirror_mode": {
    "name": "ipython",
    "version": 2
   },
   "file_extension": ".py",
   "mimetype": "text/x-python",
   "name": "python",
   "nbconvert_exporter": "python",
   "pygments_lexer": "ipython2",
   "version": "2.7.14"
  }
 },
 "nbformat": 4,
 "nbformat_minor": 4
}