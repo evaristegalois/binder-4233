{
 "cells": [
  {
   "cell_type": "markdown",
   "metadata": {},
   "source": [
    "# <h3>Term Test B Solutions MATH 1441 Version 1</h3>"
   ]
  },
  {
   "cell_type": "markdown",
   "metadata": {},
   "source": [
    "<h4>Version 1 Question 1</h4>"
   ]
  },
  {
   "cell_type": "markdown",
   "metadata": {},
   "source": [
    "2019 average result: 59%"
   ]
  },
  {
   "cell_type": "markdown",
   "metadata": {},
   "source": [
    "2020 average result: 68%"
   ]
  },
  {
   "cell_type": "markdown",
   "metadata": {},
   "source": [
    "How long will it take the world population to double at an exponential growth rate of 1.37% per year?"
   ]
  },
  {
   "cell_type": "code",
   "execution_count": 17,
   "metadata": {},
   "outputs": [
    {
     "name": "stdout",
     "output_type": "stream",
     "text": [
      "0.0136070034062169\n"
     ]
    }
   ],
   "source": [
    "k=log(1.0137);print(n(k))"
   ]
  },
  {
   "cell_type": "code",
   "execution_count": 18,
   "metadata": {},
   "outputs": [
    {
     "name": "stdout",
     "output_type": "stream",
     "text": [
      "50.9404723337727\n"
     ]
    }
   ],
   "source": [
    "t=log(2)/k;print(n(t))"
   ]
  },
  {
   "cell_type": "markdown",
   "metadata": {},
   "source": [
    "The following is incorrect. Subtract 3.5 points if $k$ is not provided; 2 points if $k$ is provided."
   ]
  },
  {
   "cell_type": "code",
   "execution_count": 21,
   "metadata": {},
   "outputs": [
    {
     "name": "stdout",
     "output_type": "stream",
     "text": [
      "50.5946847124048\n"
     ]
    }
   ],
   "source": [
    "t=log(2)/0.0137;print(n(t))"
   ]
  },
  {
   "cell_type": "markdown",
   "metadata": {},
   "source": [
    "<h4>Version 1 Question 2</h4>"
   ]
  },
  {
   "cell_type": "markdown",
   "metadata": {},
   "source": [
    "2019 average result: 91%"
   ]
  },
  {
   "cell_type": "markdown",
   "metadata": {},
   "source": [
    "Suppose we are preparing a lovely Canard a l'Orange (roast duck with orange sauce). We first take our duck out of a 36$^{\\circ}$F refrigerator and place it in a 350$^{\\circ}$F oven to roast. After 10 minutes the internal temperature is 53$^{\\circ}$F. If we want to roast the duck until just under well-done (about 170$^{\\circ}$F internally), when will it be ready?"
   ]
  },
  {
   "cell_type": "code",
   "execution_count": 8,
   "metadata": {},
   "outputs": [
    {
     "name": "stdout",
     "output_type": "stream",
     "text": [
      "-0.00556608471055537\n"
     ]
    }
   ],
   "source": [
    "k=(1/10)*log((53-350)/(36-350));print(n(k))"
   ]
  },
  {
   "cell_type": "code",
   "execution_count": 9,
   "metadata": {},
   "outputs": [
    {
     "name": "stdout",
     "output_type": "stream",
     "text": [
      "99.9690381935497\n"
     ]
    }
   ],
   "source": [
    "t=(1/k)*log((170-350)/(36-350));print(n(t))"
   ]
  },
  {
   "cell_type": "markdown",
   "metadata": {},
   "source": [
    "<h4>Version 1 Question 3</h4>"
   ]
  },
  {
   "cell_type": "markdown",
   "metadata": {},
   "source": [
    "2019 average result: 72%"
   ]
  },
  {
   "cell_type": "markdown",
   "metadata": {},
   "source": [
    "Rewrite the expression as a single logarithm,\n",
    "$$2(\\log_{5}x+2\\log_{5}y-3\\log_{5}z)=\\log\\frac{x^{2}y^{4}}{z^{6}}\\notag\n",
    "$$"
   ]
  },
  {
   "cell_type": "markdown",
   "metadata": {},
   "source": [
    "<h4>Version 1 Question 4</h4>"
   ]
  },
  {
   "cell_type": "markdown",
   "metadata": {},
   "source": [
    "2019 average result: 47%"
   ]
  },
  {
   "cell_type": "markdown",
   "metadata": {},
   "source": [
    "Solve the following equation,$$\n",
    "2\\cdot{}7^{x}-7^{x-1}=\\frac{13}{49}$$\n",
    "$$\n",
    "7^{x-1}=7^{-2}\n",
    "$$\n",
    "$$\n",
    "S=\\{-1\\}\n",
    "$$"
   ]
  },
  {
   "cell_type": "markdown",
   "metadata": {},
   "source": [
    "<h4>Version 1 Question 5</h4>"
   ]
  },
  {
   "cell_type": "markdown",
   "metadata": {},
   "source": [
    "2019 average result: 68%"
   ]
  },
  {
   "cell_type": "markdown",
   "metadata": {},
   "source": [
    "Solve the following equation,$$\n",
    "\\operatorname{log}_{2}(5x+9)=1-\\operatorname{log}_{2}(x)\\notag\n",
    "$$\n",
    "$$\n",
    "5x^{2}+9x-2=0\n",
    "$$"
   ]
  },
  {
   "cell_type": "code",
   "execution_count": 10,
   "metadata": {},
   "outputs": [
    {
     "data": {
      "text/plain": [
       "[x == -2, x == (1/5)]"
      ]
     },
     "execution_count": 10,
     "metadata": {},
     "output_type": "execute_result"
    }
   ],
   "source": [
    "solve(5*x^2+9*x-2,x)"
   ]
  },
  {
   "cell_type": "markdown",
   "metadata": {},
   "source": [
    "However, $-2$ is not a solution (subtract one point if not noticed), so $$S=\\left\\{\\frac{1}{5}\\right\\}$$"
   ]
  },
  {
   "cell_type": "markdown",
   "metadata": {},
   "source": [
    "<h4>Version 1 Question 6</h4>"
   ]
  },
  {
   "cell_type": "markdown",
   "metadata": {},
   "source": [
    "2019 average result: 78%"
   ]
  },
  {
   "cell_type": "markdown",
   "metadata": {},
   "source": [
    "Suppose that you plan to need \\$10,000 in thirty-six months' time when your child starts attending university. You want to invest in an instrument yielding 3.5% interest per year, compounded monthly. How much should you invest? Use the formula\n",
    "$$\n",
    "A=P\\left(1+\\frac{r}{m}\\right)^{mt}\\notag\n",
    "$$"
   ]
  },
  {
   "cell_type": "code",
   "execution_count": 11,
   "metadata": {},
   "outputs": [
    {
     "name": "stdout",
     "output_type": "stream",
     "text": [
      "9004.62127813132\n"
     ]
    }
   ],
   "source": [
    "P=10000/((1+(0.035/12))^(12*3));print(n(P))"
   ]
  },
  {
   "cell_type": "markdown",
   "metadata": {},
   "source": [
    "Next line is incorrect. Subtract 2 points. 2020 comment: I'd subtract 3 points."
   ]
  },
  {
   "cell_type": "code",
   "execution_count": 12,
   "metadata": {},
   "outputs": [
    {
     "name": "stdout",
     "output_type": "stream",
     "text": [
      "2841.74706814034\n"
     ]
    }
   ],
   "source": [
    "P=10000/((1+(0.035/12))^(12*36));print(n(P))"
   ]
  },
  {
   "cell_type": "markdown",
   "metadata": {},
   "source": [
    "<h4>Version 1 Question 7</h4>"
   ]
  },
  {
   "cell_type": "markdown",
   "metadata": {},
   "source": [
    "2019 average result: 63%"
   ]
  },
  {
   "cell_type": "markdown",
   "metadata": {},
   "source": [
    "Rewrite so that there is no logarithm of a product, quotient, root, or power,\n",
    "$$\\ln\\frac{x^{3}\\sqrt{x-1}}{3x+4}\\notag\n",
    "$$\n",
    "$$\n",
    "3\\ln{}x+\\frac{1}{2}\\ln(x-1)-\\ln(3x+4)\n",
    "$$"
   ]
  },
  {
   "cell_type": "markdown",
   "metadata": {},
   "source": [
    "<h4>Version 1 Question 8</h4>"
   ]
  },
  {
   "cell_type": "markdown",
   "metadata": {},
   "source": [
    "2019 average result: 67%"
   ]
  },
  {
   "cell_type": "markdown",
   "metadata": {},
   "source": [
    "Evaluate without a calculator. Show all of your work.\n",
    "$$\\log_{4}\\left(2\\cdot\\sqrt{32}\\right)+\\log_{27}\\sqrt{3}\\notag\n",
    "$$"
   ]
  },
  {
   "cell_type": "markdown",
   "metadata": {},
   "source": [
    "$$\n",
    "\\log{}4^{\\frac{7}{4}}+\\log{}27^{\\frac{1}{6}}=\\frac{7}{4}+\\frac{1}{6}=\\frac{23}{12}\n",
    "$$"
   ]
  },
  {
   "cell_type": "markdown",
   "metadata": {},
   "source": [
    "If students do $2\\sqrt{32}=\\sqrt{64}$ then result should be $5/3$ and subtract 2 points."
   ]
  }
 ],
 "metadata": {
  "kernelspec": {
   "display_name": "SageMath 8.2",
   "language": "",
   "name": "sagemath"
  },
  "language_info": {
   "codemirror_mode": {
    "name": "ipython",
    "version": 2
   },
   "file_extension": ".py",
   "mimetype": "text/x-python",
   "name": "python",
   "nbconvert_exporter": "python",
   "pygments_lexer": "ipython2",
   "version": "2.7.14"
  }
 },
 "nbformat": 4,
 "nbformat_minor": 2
}
