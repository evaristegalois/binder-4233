{
 "cells": [
  {
   "cell_type": "markdown",
   "metadata": {},
   "source": [
    "<h3>\n",
    "    Lab Report 13\n",
    "</h3>"
   ]
  },
  {
   "cell_type": "markdown",
   "metadata": {},
   "source": [
    "**Lab 13 Question 1**"
   ]
  },
  {
   "cell_type": "markdown",
   "metadata": {},
   "source": [
    "In a test of the effectiveness of garlic for lowering\n",
    "cholesterol, 49 subjects were treated with raw garlic. Cholesterol\n",
    "levels were measured before and after the treatment. The changes\n",
    "(before minus after) in their levels of LDL cholesterol (in mg/dL)\n",
    "have a mean of 0.4 and a standard deviation of 21.0. Test the claim\n",
    "($\\alpha=0.05$) that with garlic treatment, the mean change in LDL\n",
    "cholesterol is greater than 0. What do the results suggest about the\n",
    "effectiveness of the garlic treatment?"
   ]
  },
  {
   "cell_type": "markdown",
   "metadata": {},
   "source": [
    "![](./diagrams/MATH_3512_Lecture_and_Lab_Graffiti_20191204-0001.png)"
   ]
  },
  {
   "cell_type": "markdown",
   "metadata": {},
   "source": [
    "**Lab 13 Question 2**"
   ]
  },
  {
   "cell_type": "markdown",
   "metadata": {},
   "source": [
    "A simple random sample of 40 men's pulse rate results in a\n",
    "standard deviation of 10.3 beats per minute. The normal range of pulse\n",
    "rates of adults is typically given as 60 to 100 beats per minute. If\n",
    "the range rule of thumb is applied to that normal range, the result is\n",
    "a standard deviation of 10 beats per minute. Use the sample results\n",
    "with a 0.05 significance level to test the claim that pulse rates of\n",
    "men have a standard deviation equal to 10 beats per minute. Assume\n",
    "that the population is normally distributed."
   ]
  },
  {
   "cell_type": "markdown",
   "metadata": {},
   "source": [
    "![](./diagrams/MATH_3512_Lecture_and_Lab_Graffiti_20191204-0002.png)"
   ]
  },
  {
   "cell_type": "markdown",
   "metadata": {},
   "source": [
    "**Lab 13 Question 3**"
   ]
  },
  {
   "cell_type": "markdown",
   "metadata": {},
   "source": [
    "The table below lists ages of actresses when they won\n",
    "Oscars, and the summary statistics are $n=82,\\bar{x}=35.9,s=11.1$ with years\n",
    "being the unit. Use a 0.01 significance level to test the claim that\n",
    "the mean age of actresses when they win Oscars is 33 years."
   ]
  },
  {
   "cell_type": "markdown",
   "metadata": {},
   "source": [
    "![](./diagrams/MATH_3512_Lecture_and_Lab_Graffiti_20191204-0003.png)"
   ]
  },
  {
   "cell_type": "markdown",
   "metadata": {},
   "source": [
    "**Lab 13 Question 4**"
   ]
  },
  {
   "cell_type": "markdown",
   "metadata": {},
   "source": [
    "The weights (lb) of discarded plastic from a sample of\n",
    "households is listed on the next slide, and the summary statistics are\n",
    "$n=62,\\bar{x}=1.911,s=1.065$. Use a 0.05 significance level to test\n",
    "the claim that the mean weight of discarded plastic from the\n",
    "population of households is greater than 1.800 lb."
   ]
  },
  {
   "cell_type": "markdown",
   "metadata": {},
   "source": [
    "![](./diagrams/MATH_3512_Lecture_and_Lab_Graffiti_20191204-0004.png)"
   ]
  },
  {
   "cell_type": "markdown",
   "metadata": {},
   "source": [
    "**Lab 13 Question 5**"
   ]
  },
  {
   "cell_type": "markdown",
   "metadata": {},
   "source": [
    "One classic application of correlation involves the\n",
    "association between the temperature and the number of times a cricket\n",
    "chirps in a minute. Listed below are the numbers of chirps in one\n",
    "minute and the corresponding temperatures in $^{\\circ}$F (based on\n",
    "data from &quot;The Song of Insects&quot; by George W. Pierce, Harvard\n",
    "University Press). Is there sufficient evidence to conclude that there\n",
    "is a linear correlation between the number of chirps in one minute and\n",
    "the temperature?\n",
    "\n",
    "<table>\n",
    "    <tr>\n",
    "        <td>Chirps</td>\n",
    "        <td>882</td>\n",
    "        <td>1188</td>\n",
    "        <td>1104</td>\n",
    "        <td>864</td>\n",
    "        <td>1200</td>\n",
    "        <td>1032</td>\n",
    "        <td>960</td>\n",
    "        <td>900</td>\n",
    "    </tr>\n",
    "    <tr>\n",
    "        <td>$^{\\circ}$F</td>\n",
    "        <td>69.7</td>\n",
    "        <td>93.3</td>\n",
    "        <td>84.3</td>\n",
    "        <td>76.3</td>\n",
    "        <td>88 6</td>\n",
    "        <td>82.6</td>\n",
    "        <td>71.6</td>\n",
    "        <td>79.6</td>\n",
    "    </tr>\n",
    "</table>\n",
    "\n",
    "Predict the temperature if you have measured 1143 chirps in one\n",
    "minute."
   ]
  },
  {
   "cell_type": "markdown",
   "metadata": {},
   "source": [
    "![](./diagrams/MATH_3512_Lecture_and_Lab_Graffiti_20191204-0005.png)"
   ]
  },
  {
   "cell_type": "markdown",
   "metadata": {},
   "source": [
    "**Lab 13 Question 6**"
   ]
  },
  {
   "cell_type": "markdown",
   "metadata": {},
   "source": [
    "In &quot;The Overtime Rule in the National Football League:\n",
    "Fair or Unfair?&quot; the authors report that among 414 football games won\n",
    "in overtime, 235 were won by the team that won the coin toss at the\n",
    "beginning of overtime. Using a 0.05 significance level, test the claim\n",
    "that the coin toss is fair in the sense that neither team has an\n",
    "advantage by winning it."
   ]
  },
  {
   "cell_type": "markdown",
   "metadata": {},
   "source": [
    "![](./diagrams/MATH_3512_Lecture_and_Lab_Graffiti_20191204-0006.png)"
   ]
  },
  {
   "cell_type": "markdown",
   "metadata": {},
   "source": [
    "**Lab 13 Question 7**"
   ]
  },
  {
   "cell_type": "markdown",
   "metadata": {},
   "source": [
    "A simple random sample of 25 filtered 100-mm cigarettes is\n",
    "obtained, and the tar content of each cigarette is measured. The\n",
    "sample has a standard deviation of 3.7 mg (see the data below). Use a\n",
    "0.05 significance level to test the claim that the tar content of\n",
    "filtered 100-mm cigarettes has a standard deviation different from 3.2\n",
    "mg, which is the standard deviation for unfiltered king-size\n",
    "cigarettes. Assume that the population is normally distributed."
   ]
  },
  {
   "cell_type": "markdown",
   "metadata": {},
   "source": [
    "![](./diagrams/MATH_3512_Lecture_and_Lab_Graffiti_20191204-0007.png)"
   ]
  },
  {
   "cell_type": "markdown",
   "metadata": {},
   "source": [
    "**Lab 13 Question 8**"
   ]
  },
  {
   "cell_type": "markdown",
   "metadata": {},
   "source": [
    "Voting records show that 61% of eligible voters actually\n",
    "did vote in a recent presidential election. In a survey of 1002\n",
    "people, 70% said that they voted in that election (based on data from\n",
    "ICR Research Group). Use the survey results to test the claim that the\n",
    "percentage of all voters who say that they voted is equal to 61%.\n",
    "What do the results suggest?"
   ]
  },
  {
   "cell_type": "markdown",
   "metadata": {},
   "source": [
    "![](./diagrams/MATH_3512_Lecture_and_Lab_Graffiti_20191204-0008.png)"
   ]
  },
  {
   "cell_type": "code",
   "execution_count": null,
   "metadata": {},
   "outputs": [],
   "source": []
  },
  {
   "cell_type": "code",
   "execution_count": null,
   "metadata": {},
   "outputs": [],
   "source": []
  },
  {
   "cell_type": "code",
   "execution_count": null,
   "metadata": {},
   "outputs": [],
   "source": []
  },
  {
   "cell_type": "code",
   "execution_count": null,
   "metadata": {},
   "outputs": [],
   "source": []
  },
  {
   "cell_type": "code",
   "execution_count": null,
   "metadata": {},
   "outputs": [],
   "source": []
  },
  {
   "cell_type": "code",
   "execution_count": null,
   "metadata": {},
   "outputs": [],
   "source": []
  },
  {
   "cell_type": "code",
   "execution_count": null,
   "metadata": {},
   "outputs": [],
   "source": []
  },
  {
   "cell_type": "code",
   "execution_count": null,
   "metadata": {},
   "outputs": [],
   "source": []
  },
  {
   "cell_type": "code",
   "execution_count": null,
   "metadata": {},
   "outputs": [],
   "source": []
  },
  {
   "cell_type": "code",
   "execution_count": null,
   "metadata": {},
   "outputs": [],
   "source": []
  },
  {
   "cell_type": "code",
   "execution_count": null,
   "metadata": {},
   "outputs": [],
   "source": []
  },
  {
   "cell_type": "code",
   "execution_count": null,
   "metadata": {},
   "outputs": [],
   "source": []
  },
  {
   "cell_type": "code",
   "execution_count": null,
   "metadata": {},
   "outputs": [],
   "source": []
  },
  {
   "cell_type": "code",
   "execution_count": null,
   "metadata": {},
   "outputs": [],
   "source": []
  },
  {
   "cell_type": "code",
   "execution_count": null,
   "metadata": {},
   "outputs": [],
   "source": []
  }
 ],
 "metadata": {
  "kernelspec": {
   "display_name": "SageMath 8.2",
   "language": "",
   "name": "sagemath"
  },
  "language_info": {
   "codemirror_mode": {
    "name": "ipython",
    "version": 2
   },
   "file_extension": ".py",
   "mimetype": "text/x-python",
   "name": "python",
   "nbconvert_exporter": "python",
   "pygments_lexer": "ipython2",
   "version": "2.7.14"
  }
 },
 "nbformat": 4,
 "nbformat_minor": 2
}
