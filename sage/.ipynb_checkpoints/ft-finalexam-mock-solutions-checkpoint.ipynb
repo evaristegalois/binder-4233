{
 "cells": [
  {
   "cell_type": "markdown",
   "metadata": {},
   "source": [
    "<h4>Question 1</h4>"
   ]
  },
  {
   "cell_type": "markdown",
   "metadata": {},
   "source": [
    "Solve the logarithmic equation. Do not use a calculator for your calculation. It's OK to use a calculator to check your answer. [10]"
   ]
  },
  {
   "cell_type": "markdown",
   "metadata": {},
   "source": [
    "$$\\log_{2}x-\\log_{2}\\frac{1}{4}=3$$"
   ]
  },
  {
   "cell_type": "markdown",
   "metadata": {},
   "source": [
    "The solution set is $S=\\{2\\}$."
   ]
  },
  {
   "cell_type": "markdown",
   "metadata": {},
   "source": [
    "<h4>Question 2</h4>"
   ]
  },
  {
   "cell_type": "markdown",
   "metadata": {},
   "source": [
    "Solve the exponential equation. Do not use a calculator for your calculation. It's OK to use a calculator to check your answer. [10]"
   ]
  },
  {
   "cell_type": "markdown",
   "metadata": {},
   "source": [
    "$$3^{x-1}=e^{3x}$$"
   ]
  },
  {
   "cell_type": "markdown",
   "metadata": {},
   "source": [
    "The solution set is $S=\\left\\{\\frac{\\ln{}3}{\\ln{}3-3}\\right\\}\\mbox{ or }S=\\{-0.57779\\}$."
   ]
  },
  {
   "cell_type": "markdown",
   "metadata": {},
   "source": [
    "<h4>Question 3</h4>"
   ]
  },
  {
   "cell_type": "markdown",
   "metadata": {},
   "source": [
    "A juice shop wants to make the perfect banana smoothie. In order to do so, they need the smoothie to have 55% banana juice. The shop has a solution with 30% banana juice and a solution with 70% banana juice. How much of 30% banana juice do they need to get 100L of 55% banana juice? [10]"
   ]
  },
  {
   "cell_type": "markdown",
   "metadata": {},
   "source": [
    "Consider the equation $$0.30x+0.70(100-x)=0.55\\cdot{}100$$"
   ]
  },
  {
   "cell_type": "markdown",
   "metadata": {},
   "source": [
    "<font color=\"red\">37.5</font> litres of 30% banana juice is needed to make 100 litres of 55% banana juice."
   ]
  },
  {
   "cell_type": "markdown",
   "metadata": {},
   "source": [
    "<h4>Question 4</h4>"
   ]
  },
  {
   "cell_type": "markdown",
   "metadata": {},
   "source": [
    "Forensic scientists determine the temperature $T$ (in $^{\\circ}C$) of a body $t$ hours after death from the equation"
   ]
  },
  {
   "cell_type": "markdown",
   "metadata": {},
   "source": [
    "$$T=T_{0}+(37-T_{0})0.87^{t}$$"
   ]
  },
  {
   "cell_type": "markdown",
   "metadata": {},
   "source": [
    "where $T_{0}$ is the air temperature. If a body is discovered at midnight with a body temperature of 27$^{\\circ}C$ in a room with air temperature 22$^{\\circ}C$, at what time did death occur (use the hour-minute format for your answer, for \\mbox{example} 7:42pm)? [10]"
   ]
  },
  {
   "cell_type": "markdown",
   "metadata": {},
   "source": [
    "$$t=\\frac{\\ln\\frac{1}{3}}{\\ln{}0.87}=7.8888$$"
   ]
  },
  {
   "cell_type": "markdown",
   "metadata": {},
   "source": [
    "Death occurred at approximately 4:11pm."
   ]
  }
 ],
 "metadata": {
  "kernelspec": {
   "display_name": "SageMath 8.2",
   "language": "",
   "name": "sagemath"
  },
  "language_info": {
   "codemirror_mode": {
    "name": "ipython",
    "version": 2
   },
   "file_extension": ".py",
   "mimetype": "text/x-python",
   "name": "python",
   "nbconvert_exporter": "python",
   "pygments_lexer": "ipython2",
   "version": "2.7.14"
  }
 },
 "nbformat": 4,
 "nbformat_minor": 1
}
