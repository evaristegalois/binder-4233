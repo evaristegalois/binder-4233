{
 "cells": [
  {
   "cell_type": "markdown",
   "metadata": {},
   "source": [
    "<h3>Term Test B Solutions MATH 1441 Version 2\n",
    "</h3>"
   ]
  },
  {
   "cell_type": "markdown",
   "metadata": {},
   "source": [
    "<h4>Version 2 Question 1</h4>"
   ]
  },
  {
   "cell_type": "markdown",
   "metadata": {},
   "source": [
    "How long will it take the world population to double at an exponential growth rate of 1.93% per year?"
   ]
  },
  {
   "cell_type": "code",
   "execution_count": 2,
   "metadata": {},
   "outputs": [
    {
     "name": "stdout",
     "output_type": "stream",
     "text": [
      "0.0191161171922301\n"
     ]
    }
   ],
   "source": [
    "k=log(1.0193);print(n(k))"
   ]
  },
  {
   "cell_type": "code",
   "execution_count": 3,
   "metadata": {},
   "outputs": [
    {
     "name": "stdout",
     "output_type": "stream",
     "text": [
      "36.2598310938206\n"
     ]
    }
   ],
   "source": [
    "t=log(2)/k;print(n(t))"
   ]
  },
  {
   "cell_type": "markdown",
   "metadata": {},
   "source": [
    "The following is incorrect. Subtract 3 points if $k$ is not provided; 2 points if $k$ is provided."
   ]
  },
  {
   "cell_type": "code",
   "execution_count": 4,
   "metadata": {},
   "outputs": [
    {
     "name": "stdout",
     "output_type": "stream",
     "text": [
      "35.9143616870438\n"
     ]
    }
   ],
   "source": [
    "t=log(2)/0.0193;print(n(t))"
   ]
  },
  {
   "cell_type": "markdown",
   "metadata": {},
   "source": [
    "<h4>Version 2 Question 2</h4>"
   ]
  },
  {
   "cell_type": "markdown",
   "metadata": {},
   "source": [
    "Rewrite the expression as a single logarithm,\n",
    "$$\\frac{1}{3}\\log(2x+1)+\\frac{1}{2}[\\log(x-4)-\\log(x^{4}-x^{2}-1)]=$$\n",
    "$$\n",
    "\\log\\sqrt[3]{2x+1}\\sqrt{\\frac{x-4}{x^{4}-x^{2}-1}}\n",
    "$$"
   ]
  },
  {
   "cell_type": "markdown",
   "metadata": {},
   "source": [
    "<h4>Version 2 Question 3</h4>"
   ]
  },
  {
   "cell_type": "markdown",
   "metadata": {},
   "source": [
    "Solve the following equation,$$\n",
    "1-\\operatorname{log}_{3}(x)=\\operatorname{log}_{3}(4x+11)$$\n",
    "$$\n",
    "4x^{2}+11x-3=0\n",
    "$$"
   ]
  },
  {
   "cell_type": "code",
   "execution_count": 7,
   "metadata": {},
   "outputs": [
    {
     "data": {
      "text/plain": [
       "[x == -3, x == (1/4)]"
      ]
     },
     "execution_count": 7,
     "metadata": {},
     "output_type": "execute_result"
    }
   ],
   "source": [
    "solve(4*x^2+11*x-3,x)"
   ]
  },
  {
   "cell_type": "markdown",
   "metadata": {},
   "source": [
    "However, $-3$ is not a solution (subtract one point if not noticed), so $$S=\\left\\{\\frac{1}{4}\\right\\}$$"
   ]
  },
  {
   "cell_type": "markdown",
   "metadata": {},
   "source": [
    "<h4>Version 2 Question 4</h4>"
   ]
  },
  {
   "cell_type": "markdown",
   "metadata": {},
   "source": [
    "Suppose that you plan to need \\$10,000 in thirty-six months' time when your child starts attending university. You want to invest in an instrument yielding 3.5% interest per year, compounded monthly. How much should you invest? Use the formula\n",
    "$$\n",
    "A=P\\left(1+\\frac{r}{m}\\right)^{mt}\\notag\n",
    "$$"
   ]
  },
  {
   "cell_type": "code",
   "execution_count": 11,
   "metadata": {},
   "outputs": [
    {
     "name": "stdout",
     "output_type": "stream",
     "text": [
      "9004.62127813132\n"
     ]
    }
   ],
   "source": [
    "P=10000/((1+(0.035/12))^(12*3));print(n(P))"
   ]
  },
  {
   "cell_type": "markdown",
   "metadata": {},
   "source": [
    "Next line is incorrect. Subtract 2 points. 2020 comment: I'd subtract 3 points."
   ]
  },
  {
   "cell_type": "code",
   "execution_count": 12,
   "metadata": {},
   "outputs": [
    {
     "name": "stdout",
     "output_type": "stream",
     "text": [
      "2841.74706814034\n"
     ]
    }
   ],
   "source": [
    "P=10000/((1+(0.035/12))^(12*36));print(n(P))"
   ]
  },
  {
   "cell_type": "markdown",
   "metadata": {},
   "source": [
    "<h4>Version 2 Question 5</h4>"
   ]
  },
  {
   "cell_type": "markdown",
   "metadata": {},
   "source": [
    "Rewrite so that there is no logarithm of a product, quotient, root, or power,\n",
    "$$\\ln\\frac{10^{x}}{x(x^{2}+1)(x^{4}+2)}$$\n",
    "$$\n",
    "x\\ln{}10-\\ln{}x-\\ln(x^{2}+1)-\\ln(x^4+2)\n",
    "$$"
   ]
  },
  {
   "cell_type": "markdown",
   "metadata": {},
   "source": [
    "<h4>Version 2 Question 6</h4>"
   ]
  },
  {
   "cell_type": "markdown",
   "metadata": {},
   "source": [
    "Suppose we are preparing a lovely Canard a l'Orange (roast duck with orange sauce). We first take our duck out of a 32$^{\\circ}$F refrigerator and place it in a 375$^{\\circ}$F oven to roast. After 12 minutes the internal temperature is 57$^{\\circ}$F. If we want to roast the duck until just under well-done (about 170$^{\\circ}$F internally), when will it be ready?"
   ]
  },
  {
   "cell_type": "code",
   "execution_count": 8,
   "metadata": {},
   "outputs": [
    {
     "name": "stdout",
     "output_type": "stream",
     "text": [
      "-0.00630658869881359\n"
     ]
    }
   ],
   "source": [
    "k=(1/12)*log((57-375)/(32-375));print(n(k))"
   ]
  },
  {
   "cell_type": "code",
   "execution_count": 9,
   "metadata": {},
   "outputs": [
    {
     "name": "stdout",
     "output_type": "stream",
     "text": [
      "81.6163052022660\n"
     ]
    }
   ],
   "source": [
    "t=(1/k)*log((170-375)/(32-375));print(n(t))"
   ]
  },
  {
   "cell_type": "markdown",
   "metadata": {},
   "source": [
    "<h4>Version 2 Question 7</h4>"
   ]
  },
  {
   "cell_type": "markdown",
   "metadata": {},
   "source": [
    "Evaluate without a calculator. Show all of your work.\n",
    "$$\\log_{4}\\left(2\\cdot\\sqrt{32}\\right)+\\log_{27}\\sqrt{3}$$"
   ]
  },
  {
   "cell_type": "markdown",
   "metadata": {},
   "source": [
    "$$\n",
    "\\log{}4^{\\frac{7}{4}}+\\log{}27^{\\frac{1}{6}}=\\frac{7}{4}+\\frac{1}{6}=\\frac{23}{12}\n",
    "$$"
   ]
  },
  {
   "cell_type": "markdown",
   "metadata": {},
   "source": [
    "<h4>Version 2 Question 8</h4>"
   ]
  },
  {
   "cell_type": "markdown",
   "metadata": {},
   "source": [
    "Solve the following equation,$$\n",
    "2^{x}+3\\cdot{}2^{x+1}=28$$\n",
    "$$\n",
    "2^{x}(1+6)=28\\Rightarrow{}x=2\n",
    "$$"
   ]
  }
 ],
 "metadata": {
  "kernelspec": {
   "display_name": "SageMath 8.2",
   "language": "",
   "name": "sagemath"
  },
  "language_info": {
   "codemirror_mode": {
    "name": "ipython",
    "version": 2
   },
   "file_extension": ".py",
   "mimetype": "text/x-python",
   "name": "python",
   "nbconvert_exporter": "python",
   "pygments_lexer": "ipython2",
   "version": "2.7.14"
  }
 },
 "nbformat": 4,
 "nbformat_minor": 2
}
